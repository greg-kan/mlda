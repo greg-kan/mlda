{
 "cells": [
  {
   "cell_type": "markdown",
   "metadata": {},
   "source": [
    "# Sklearn"
   ]
  },
  {
   "cell_type": "markdown",
   "metadata": {},
   "source": [
    "## sklearn.linear_model"
   ]
  },
  {
   "cell_type": "code",
   "execution_count": 1,
   "metadata": {},
   "outputs": [],
   "source": [
    "from matplotlib.colors import ListedColormap\n",
    "from sklearn import model_selection, datasets, linear_model, metrics\n",
    "\n",
    "import numpy as np"
   ]
  },
  {
   "cell_type": "code",
   "execution_count": 2,
   "metadata": {},
   "outputs": [
    {
     "name": "stdout",
     "output_type": "stream",
     "text": [
      "Populating the interactive namespace from numpy and matplotlib\n"
     ]
    }
   ],
   "source": [
    "%pylab inline"
   ]
  },
  {
   "cell_type": "markdown",
   "metadata": {},
   "source": [
    "### Линейная регрессия"
   ]
  },
  {
   "cell_type": "markdown",
   "metadata": {},
   "source": [
    "#### Генерация данных"
   ]
  },
  {
   "cell_type": "code",
   "execution_count": 10,
   "metadata": {
    "scrolled": false
   },
   "outputs": [
    {
     "name": "stdout",
     "output_type": "stream",
     "text": [
      "[[-1.13431848e+00 -7.07420888e-01]\n",
      " [-2.76179492e-01 -5.16883894e-01]\n",
      " [-4.62005348e-01  3.50888494e-01]\n",
      " [ 3.65053516e-01  7.74082033e-01]\n",
      " [-1.02141473e+00  4.32395701e-01]\n",
      " [-3.13508197e-01  7.71011738e-01]\n",
      " [-4.54227855e-01  5.14370717e-01]\n",
      " [-4.16757847e-01 -5.62668272e-02]\n",
      " [-1.25542722e+00  9.38163671e-01]\n",
      " [ 1.00036589e+00 -3.81092518e-01]\n",
      " [-1.73795950e+00  1.04082395e+00]\n",
      " [-1.54667461e+00 -2.08265194e+00]\n",
      " [ 2.04207979e-01  1.40669624e+00]\n",
      " [-2.13619610e+00  1.64027081e+00]\n",
      " [ 4.33496330e-01  1.27837923e+00]\n",
      " [-4.68346260e-01 -1.25472031e+00]\n",
      " [-2.69056960e-01  2.23136679e+00]\n",
      " [-3.25049628e-01 -5.60234506e-01]\n",
      " [-9.02246068e-01 -5.90972275e-01]\n",
      " [-1.41881055e+00 -2.51774118e-01]\n",
      " [ 6.95119605e-01 -2.03346655e+00]\n",
      " [-1.09873895e+00  1.58448706e+00]\n",
      " [-6.53250268e-01  8.42456282e-01]\n",
      " [ 3.27974540e+00  9.70861320e-01]\n",
      " [ 6.96197980e-01  6.97416272e-01]\n",
      " [-3.95702397e-02  3.26003433e-01]\n",
      " [-1.05795222e+00 -9.09007615e-01]\n",
      " [-3.75669423e-01 -7.44707629e-02]\n",
      " [-1.22142917e+00  1.80447664e+00]\n",
      " [ 2.55043824e+00 -1.47317325e+00]\n",
      " [ 1.53176032e+00 -1.98584577e+00]\n",
      " [ 1.24823646e-01  7.56502143e-01]\n",
      " [ 1.11788673e+00 -2.74242089e-01]\n",
      " [ 1.83533272e+00  4.40689872e-01]\n",
      " [-1.83256574e-01  1.01985473e+00]\n",
      " [-1.86809065e+00  1.73118467e+00]\n",
      " [ 1.46767801e+00 -3.35677339e-01]\n",
      " [-1.06079904e+00  5.91666521e-01]\n",
      " [-3.64479092e-01 -8.75979478e-01]\n",
      " [ 6.10144086e-01  4.23496900e-01]\n",
      " [-7.19253841e-01 -5.83414595e-01]\n",
      " [-4.03892269e-01 -1.38451867e+00]\n",
      " [-1.91304965e-02  1.17500122e+00]\n",
      " [ 6.01515814e-01  3.65949071e-03]\n",
      " [ 1.17353150e+00 -2.34360319e+00]\n",
      " [ 2.56570452e-01 -9.88779049e-01]\n",
      " [-2.04032305e+00  4.62555231e-02]\n",
      " [-1.48246548e+00  8.46311892e-01]\n",
      " [ 5.01857207e-01 -8.44213704e-01]\n",
      " [ 3.96520159e-01 -3.14617436e-01]\n",
      " [ 3.70444537e-01  1.35963386e+00]\n",
      " [-6.34679305e-01  5.08396243e-01]\n",
      " [ 5.24296430e-01  7.35279576e-01]\n",
      " [-1.42121723e+00 -1.53495196e-01]\n",
      " [-2.43476758e+00  1.12726505e-01]\n",
      " [ 9.76147160e-06  5.42352572e-01]\n",
      " [ 1.79259285e+00 -4.29013319e-01]\n",
      " [ 6.11340780e-01  4.79705919e-02]\n",
      " [-8.78107893e-01 -1.56434170e-01]\n",
      " [-4.19316482e-01 -1.32328898e-01]\n",
      " [ 2.41439629e-01  4.97425649e-01]\n",
      " [ 7.51964849e-01 -9.93760983e-01]\n",
      " [ 1.33556617e+00  3.02629336e-01]\n",
      " [ 1.74181219e+00 -4.47500876e-01]\n",
      " [ 8.29458431e-01  6.30621967e-01]\n",
      " [-6.37655012e-01 -1.18761229e+00]\n",
      " [-3.81516482e-01  6.64890091e-02]\n",
      " [ 4.15393930e-02 -1.11792545e+00]\n",
      " [-3.23580070e-01  4.23824708e-01]\n",
      " [-1.89469265e-01 -7.72186654e-02]\n",
      " [ 8.24703005e-01  1.24821292e+00]\n",
      " [-1.14421297e-01 -4.98174194e-01]\n",
      " [ 1.16152149e+00  3.86078048e-01]\n",
      " [ 1.80409807e-01  5.53164274e-01]\n",
      " [ 3.80471970e-01 -2.17135269e-01]\n",
      " [-1.45336435e+00 -3.38017777e-01]\n",
      " [-2.28247558e-01 -2.06961226e+00]\n",
      " [ 2.16116006e-01 -1.85861239e+00]\n",
      " [ 4.10869262e+00  8.21120877e-01]\n",
      " [-1.79343559e+00 -8.41747366e-01]\n",
      " [-2.65944946e+00 -9.14526229e-02]\n",
      " [ 5.39058321e-01 -5.96159700e-01]\n",
      " [ 1.03302907e+00 -3.29002435e-01]\n",
      " [ 5.02881417e-01 -1.24528809e+00]\n",
      " [ 1.10914328e+00 -1.76491773e+00]\n",
      " [-3.38821966e-01 -2.36184031e-01]\n",
      " [ 1.36723542e+00  1.21788563e+00]\n",
      " [-1.13313327e+00  4.33092555e-01]\n",
      " [ 5.51454045e-01  2.29220801e+00]\n",
      " [-5.93755583e-01  1.14950057e+00]\n",
      " [ 7.99179995e-01  1.26261366e+00]\n",
      " [-6.98589950e-01 -9.28891925e-01]\n",
      " [ 3.81866234e-01  5.66275441e-01]\n",
      " [ 9.60781945e-01  7.58370347e-01]\n",
      " [-3.04086439e-01  2.58529487e+00]\n",
      " [-6.77675577e-01 -1.43943903e+00]\n",
      " [-7.47870949e-01  9.02525097e-03]\n",
      " [-8.29135289e-01  8.77102184e-02]\n",
      " [ 3.59133332e-01  6.22220414e-01]\n",
      " [ 4.97940148e-01  1.26504175e-01]]\n",
      "[ -45.38589148  -10.29545833  -21.47606913   11.96165156  -42.44469577\n",
      "  -16.30914909  -22.64686884  -13.26392817  -45.27502383   39.70663436\n",
      "  -70.11132234  -63.4056294    14.76930132  -84.32102748   21.20540389\n",
      "  -18.86438755  -15.01435792  -11.18242389  -37.31870104  -57.46293828\n",
      "   11.06961035  -35.32062686  -18.57607726  126.64909941   19.66406455\n",
      "    0.34799656  -36.44717565  -16.79027112  -40.84204295  101.14760598\n",
      "   58.26281761    5.86887774   45.05465366   64.19559505  -12.0017312\n",
      "  -71.3715844    49.41686419  -52.37232463  -16.65927231   27.83791274\n",
      "  -26.87743177  -16.85466265   -1.42235396   28.15553021   41.95683853\n",
      "    4.45578287  -80.80239408  -61.47026695   22.2276832    25.24428409\n",
      "   11.74073026  -21.48288019   12.47089016  -44.51417742  -91.477377\n",
      "    1.72644759   64.70214251   24.47584129  -32.92158843  -12.98848753\n",
      "   10.33267887   25.7124082    44.66274342   78.24817537   29.8208999\n",
      "  -27.02798161  -13.99339669   -0.74051877  -14.97110322  -10.27758354\n",
      "   23.87701013   -4.38652971   44.41658249   12.42286854   12.67156468\n",
      "  -48.28700118  -10.06708677   12.74038341  160.09441244  -76.75213382\n",
      " -105.77758163   22.13032804   34.35183007   18.17188553   38.36241814\n",
      "  -17.27897399   51.87072011  -32.71074998   17.64282734  -22.32195021\n",
      "   24.82763821  -36.69728864   13.31981235   41.1068411   -19.16792315\n",
      "  -24.77820218  -22.33224966  -19.36956003   20.87713077   13.02656201]\n"
     ]
    }
   ],
   "source": [
    "data, target, coef = datasets.make_regression(n_features = 2, n_informative = 1, n_targets = 1, \n",
    "                                              noise = 5., coef = True, random_state = 2)\n",
    "print(data)\n",
    "print(target)"
   ]
  },
  {
   "cell_type": "code",
   "execution_count": 13,
   "metadata": {},
   "outputs": [
    {
     "data": {
      "text/plain": [
       "<matplotlib.collections.PathCollection at 0x480ff3048>"
      ]
     },
     "execution_count": 13,
     "metadata": {},
     "output_type": "execute_result"
    },
    {
     "data": {
      "image/png": "[encoded data removed]",
      "text/plain": [
       "<Figure size 432x288 with 1 Axes>"
      ]
     },
     "metadata": {
      "needs_background": "light"
     },
     "output_type": "display_data"
    }
   ],
   "source": [
    "#pylab.scatter(map(lambda x:x[0], data), target, color = 'r')\n",
    "#pylab.scatter(map(lambda x:x[1], data), target, color = 'b')\n",
    "pylab.scatter([x[0] for x in data], target, color = 'r')\n",
    "pylab.scatter([x[1] for x in data], target, color = 'b')"
   ]
  },
  {
   "cell_type": "code",
   "execution_count": 14,
   "metadata": {},
   "outputs": [],
   "source": [
    "train_data, test_data, train_labels, test_labels = model_selection.train_test_split(data, target,  \n",
    "                                                                                    test_size = 0.3)"
   ]
  },
  {
   "cell_type": "markdown",
   "metadata": {},
   "source": [
    "#### LinearRegression"
   ]
  },
  {
   "cell_type": "code",
   "execution_count": 15,
   "metadata": {},
   "outputs": [],
   "source": [
    "linear_regressor = linear_model.LinearRegression()\n",
    "linear_regressor.fit(train_data, train_labels)\n",
    "predictions = linear_regressor.predict(test_data)"
   ]
  },
  {
   "cell_type": "code",
   "execution_count": 16,
   "metadata": {},
   "outputs": [
    {
     "name": "stdout",
     "output_type": "stream",
     "text": [
      "[-26.87743177  41.1068411  -76.75213382  10.33267887 -16.30914909\n",
      "  58.26281761 -35.32062686  41.95683853 -84.32102748 -37.31870104\n",
      "  24.47584129  29.8208999   45.05465366  64.19559505  49.41686419\n",
      "  34.35183007 -40.84204295 -36.69728864 -45.27502383 -11.18242389\n",
      " -14.97110322  12.74038341  -1.42235396 -19.16792315 -21.47606913\n",
      " 160.09441244 101.14760598 -63.4056294   21.20540389  64.70214251]\n"
     ]
    }
   ],
   "source": [
    "print(test_labels)"
   ]
  },
  {
   "cell_type": "code",
   "execution_count": 17,
   "metadata": {},
   "outputs": [
    {
     "name": "stdout",
     "output_type": "stream",
     "text": [
      "[-27.64724188  36.15081629 -68.40085422   8.85401694 -12.17473662\n",
      "  57.63254767 -41.90290612  44.02459137 -81.24406761 -34.58753703\n",
      "  22.85400509  31.16247334  42.0441097   69.2974682   55.30578636\n",
      "  38.82252167 -46.54202745 -26.88525132 -47.88571229 -12.69593586\n",
      " -12.57848046   7.7458615   -0.9853786  -11.70362636 -17.83271361\n",
      " 155.53652808  96.29717882 -59.12049274  16.18658454  67.6220449 ]\n"
     ]
    }
   ],
   "source": [
    "print(predictions)"
   ]
  },
  {
   "cell_type": "code",
   "execution_count": 18,
   "metadata": {},
   "outputs": [
    {
     "data": {
      "text/plain": [
       "3.8804739951750338"
      ]
     },
     "execution_count": 18,
     "metadata": {},
     "output_type": "execute_result"
    }
   ],
   "source": [
    "metrics.mean_absolute_error(test_labels, predictions)"
   ]
  },
  {
   "cell_type": "code",
   "execution_count": 29,
   "metadata": {},
   "outputs": [
    {
     "name": "stdout",
     "output_type": "stream",
     "text": [
      "mean: -4.070071498779695, std: 1.0737104492890204\n"
     ]
    }
   ],
   "source": [
    "linear_scoring = model_selection.cross_val_score(linear_regressor, data, target, scoring='neg_mean_absolute_error', cv = 10)\n",
    "print('mean: {}, std: {}'.format(linear_scoring.mean(), linear_scoring.std()))"
   ]
  },
  {
   "cell_type": "code",
   "execution_count": 27,
   "metadata": {},
   "outputs": [],
   "source": [
    "scorer = metrics.make_scorer(metrics.mean_absolute_error, greater_is_better = True)"
   ]
  },
  {
   "cell_type": "code",
   "execution_count": 28,
   "metadata": {},
   "outputs": [
    {
     "name": "stdout",
     "output_type": "stream",
     "text": [
      "mean: 4.070071498779695, std: 1.0737104492890204\n"
     ]
    }
   ],
   "source": [
    "linear_scoring = model_selection.cross_val_score(linear_regressor, data, target, scoring=scorer, cv = 10)\n",
    "print('mean: {}, std: {}'.format(linear_scoring.mean(), linear_scoring.std()))"
   ]
  },
  {
   "cell_type": "code",
   "execution_count": 30,
   "metadata": {},
   "outputs": [
    {
     "data": {
      "text/plain": [
       "array([38.07925837,  0.        ])"
      ]
     },
     "execution_count": 30,
     "metadata": {},
     "output_type": "execute_result"
    }
   ],
   "source": [
    "coef"
   ]
  },
  {
   "cell_type": "code",
   "execution_count": 31,
   "metadata": {},
   "outputs": [
    {
     "data": {
      "text/plain": [
       "array([37.92413065,  0.06272355])"
      ]
     },
     "execution_count": 31,
     "metadata": {},
     "output_type": "execute_result"
    }
   ],
   "source": [
    "linear_regressor.coef_"
   ]
  },
  {
   "cell_type": "code",
   "execution_count": 32,
   "metadata": {},
   "outputs": [
    {
     "data": {
      "text/plain": [
       "-0.33357139340041186"
      ]
     },
     "execution_count": 32,
     "metadata": {},
     "output_type": "execute_result"
    }
   ],
   "source": [
    "# в лекции не указано, что в уравнении обученной модели также участвует свободный член\n",
    "linear_regressor.intercept_"
   ]
  },
  {
   "cell_type": "code",
   "execution_count": 33,
   "metadata": {},
   "outputs": [
    {
     "name": "stdout",
     "output_type": "stream",
     "text": [
      "y = 38.08*x1 + 0.00*x2\n"
     ]
    }
   ],
   "source": [
    "print(\"y = {:.2f}*x1 + {:.2f}*x2\".format(coef[0], coef[1]))"
   ]
  },
  {
   "cell_type": "code",
   "execution_count": 34,
   "metadata": {},
   "outputs": [
    {
     "name": "stdout",
     "output_type": "stream",
     "text": [
      "y = 37.92*x1 + 0.06*x2 + -0.33\n"
     ]
    }
   ],
   "source": [
    "print(\"y = {:.2f}*x1 + {:.2f}*x2 + {:.2f}\".format(linear_regressor.coef_[0], \n",
    "                                                  linear_regressor.coef_[1], \n",
    "                                                  linear_regressor.intercept_))"
   ]
  },
  {
   "cell_type": "markdown",
   "metadata": {},
   "source": [
    "#### Lasso"
   ]
  },
  {
   "cell_type": "code",
   "execution_count": null,
   "metadata": {},
   "outputs": [],
   "source": [
    "lasso_regressor = linear_model.Lasso(random_state = 3)\n",
    "lasso_regressor.fit(train_data, train_labels)\n",
    "lasso_predictions = lasso_regressor.predict(test_data)"
   ]
  },
  {
   "cell_type": "code",
   "execution_count": null,
   "metadata": {},
   "outputs": [],
   "source": [
    "lasso_scoring = cross_validation.cross_val_score(lasso_regressor, data, target, scoring = scorer, cv = 10)\n",
    "print 'mean: {}, std: {}'.format(lasso_scoring.mean(), lasso_scoring.std())"
   ]
  },
  {
   "cell_type": "code",
   "execution_count": null,
   "metadata": {},
   "outputs": [],
   "source": [
    "print lasso_regressor.coef_"
   ]
  },
  {
   "cell_type": "code",
   "execution_count": null,
   "metadata": {},
   "outputs": [],
   "source": [
    "print \"y = {:.2f}*x1 + {:.2f}*x2\".format(coef[0], coef[1])"
   ]
  },
  {
   "cell_type": "code",
   "execution_count": null,
   "metadata": {},
   "outputs": [],
   "source": [
    "print \"y = {:.2f}*x1 + {:.2f}*x2\".format(lasso_regressor.coef_[0], lasso_regressor.coef_[1])"
   ]
  }
 ],
 "metadata": {
  "kernelspec": {
   "display_name": "Python 3",
   "language": "python",
   "name": "python3"
  },
  "language_info": {
   "codemirror_mode": {
    "name": "ipython",
    "version": 3
   },
   "file_extension": ".py",
   "mimetype": "text/x-python",
   "name": "python",
   "nbconvert_exporter": "python",
   "pygments_lexer": "ipython3",
   "version": "3.7.1"
  }
 },
 "nbformat": 4,
 "nbformat_minor": 1
}
