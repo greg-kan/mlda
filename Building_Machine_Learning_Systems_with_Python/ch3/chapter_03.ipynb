{
 "cells": [
  {
   "cell_type": "markdown",
   "metadata": {},
   "source": [
    "# Regression"
   ]
  },
  {
   "cell_type": "code",
   "execution_count": 1,
   "metadata": {},
   "outputs": [],
   "source": [
    "# This code is supporting material for the book\n",
    "# Building Machine Learning Systems with Python\n",
    "# by Willi Richert, Luis Pedro Coelho and Matthieu Brucher\n",
    "# published by PACKT Publishing\n",
    "#\n",
    "# It is made available under the MIT License\n",
    "\n",
    "import numpy as np\n",
    "from matplotlib import pyplot as plt"
   ]
  },
  {
   "cell_type": "markdown",
   "metadata": {},
   "source": [
    "Use the magic command `%matplotlib` to see the plots inline:"
   ]
  },
  {
   "cell_type": "code",
   "execution_count": 2,
   "metadata": {},
   "outputs": [],
   "source": [
    "%matplotlib inline"
   ]
  },
  {
   "cell_type": "markdown",
   "metadata": {},
   "source": [
    "## Boston dataset\n",
    "\n",
    "Load the data"
   ]
  },
  {
   "cell_type": "code",
   "execution_count": 3,
   "metadata": {},
   "outputs": [],
   "source": [
    "from sklearn.datasets import load_boston\n",
    "boston = load_boston()"
   ]
  },
  {
   "cell_type": "code",
   "execution_count": 4,
   "metadata": {},
   "outputs": [
    {
     "data": {
      "text/plain": [
       "{'data': array([[6.3200e-03, 1.8000e+01, 2.3100e+00, ..., 1.5300e+01, 3.9690e+02,\n",
       "         4.9800e+00],\n",
       "        [2.7310e-02, 0.0000e+00, 7.0700e+00, ..., 1.7800e+01, 3.9690e+02,\n",
       "         9.1400e+00],\n",
       "        [2.7290e-02, 0.0000e+00, 7.0700e+00, ..., 1.7800e+01, 3.9283e+02,\n",
       "         4.0300e+00],\n",
       "        ...,\n",
       "        [6.0760e-02, 0.0000e+00, 1.1930e+01, ..., 2.1000e+01, 3.9690e+02,\n",
       "         5.6400e+00],\n",
       "        [1.0959e-01, 0.0000e+00, 1.1930e+01, ..., 2.1000e+01, 3.9345e+02,\n",
       "         6.4800e+00],\n",
       "        [4.7410e-02, 0.0000e+00, 1.1930e+01, ..., 2.1000e+01, 3.9690e+02,\n",
       "         7.8800e+00]]),\n",
       " 'target': array([24. , 21.6, 34.7, 33.4, 36.2, 28.7, 22.9, 27.1, 16.5, 18.9, 15. ,\n",
       "        18.9, 21.7, 20.4, 18.2, 19.9, 23.1, 17.5, 20.2, 18.2, 13.6, 19.6,\n",
       "        15.2, 14.5, 15.6, 13.9, 16.6, 14.8, 18.4, 21. , 12.7, 14.5, 13.2,\n",
       "        13.1, 13.5, 18.9, 20. , 21. , 24.7, 30.8, 34.9, 26.6, 25.3, 24.7,\n",
       "        21.2, 19.3, 20. , 16.6, 14.4, 19.4, 19.7, 20.5, 25. , 23.4, 18.9,\n",
       "        35.4, 24.7, 31.6, 23.3, 19.6, 18.7, 16. , 22.2, 25. , 33. , 23.5,\n",
       "        19.4, 22. , 17.4, 20.9, 24.2, 21.7, 22.8, 23.4, 24.1, 21.4, 20. ,\n",
       "        20.8, 21.2, 20.3, 28. , 23.9, 24.8, 22.9, 23.9, 26.6, 22.5, 22.2,\n",
       "        23.6, 28.7, 22.6, 22. , 22.9, 25. , 20.6, 28.4, 21.4, 38.7, 43.8,\n",
       "        33.2, 27.5, 26.5, 18.6, 19.3, 20.1, 19.5, 19.5, 20.4, 19.8, 19.4,\n",
       "        21.7, 22.8, 18.8, 18.7, 18.5, 18.3, 21.2, 19.2, 20.4, 19.3, 22. ,\n",
       "        20.3, 20.5, 17.3, 18.8, 21.4, 15.7, 16.2, 18. , 14.3, 19.2, 19.6,\n",
       "        23. , 18.4, 15.6, 18.1, 17.4, 17.1, 13.3, 17.8, 14. , 14.4, 13.4,\n",
       "        15.6, 11.8, 13.8, 15.6, 14.6, 17.8, 15.4, 21.5, 19.6, 15.3, 19.4,\n",
       "        17. , 15.6, 13.1, 41.3, 24.3, 23.3, 27. , 50. , 50. , 50. , 22.7,\n",
       "        25. , 50. , 23.8, 23.8, 22.3, 17.4, 19.1, 23.1, 23.6, 22.6, 29.4,\n",
       "        23.2, 24.6, 29.9, 37.2, 39.8, 36.2, 37.9, 32.5, 26.4, 29.6, 50. ,\n",
       "        32. , 29.8, 34.9, 37. , 30.5, 36.4, 31.1, 29.1, 50. , 33.3, 30.3,\n",
       "        34.6, 34.9, 32.9, 24.1, 42.3, 48.5, 50. , 22.6, 24.4, 22.5, 24.4,\n",
       "        20. , 21.7, 19.3, 22.4, 28.1, 23.7, 25. , 23.3, 28.7, 21.5, 23. ,\n",
       "        26.7, 21.7, 27.5, 30.1, 44.8, 50. , 37.6, 31.6, 46.7, 31.5, 24.3,\n",
       "        31.7, 41.7, 48.3, 29. , 24. , 25.1, 31.5, 23.7, 23.3, 22. , 20.1,\n",
       "        22.2, 23.7, 17.6, 18.5, 24.3, 20.5, 24.5, 26.2, 24.4, 24.8, 29.6,\n",
       "        42.8, 21.9, 20.9, 44. , 50. , 36. , 30.1, 33.8, 43.1, 48.8, 31. ,\n",
       "        36.5, 22.8, 30.7, 50. , 43.5, 20.7, 21.1, 25.2, 24.4, 35.2, 32.4,\n",
       "        32. , 33.2, 33.1, 29.1, 35.1, 45.4, 35.4, 46. , 50. , 32.2, 22. ,\n",
       "        20.1, 23.2, 22.3, 24.8, 28.5, 37.3, 27.9, 23.9, 21.7, 28.6, 27.1,\n",
       "        20.3, 22.5, 29. , 24.8, 22. , 26.4, 33.1, 36.1, 28.4, 33.4, 28.2,\n",
       "        22.8, 20.3, 16.1, 22.1, 19.4, 21.6, 23.8, 16.2, 17.8, 19.8, 23.1,\n",
       "        21. , 23.8, 23.1, 20.4, 18.5, 25. , 24.6, 23. , 22.2, 19.3, 22.6,\n",
       "        19.8, 17.1, 19.4, 22.2, 20.7, 21.1, 19.5, 18.5, 20.6, 19. , 18.7,\n",
       "        32.7, 16.5, 23.9, 31.2, 17.5, 17.2, 23.1, 24.5, 26.6, 22.9, 24.1,\n",
       "        18.6, 30.1, 18.2, 20.6, 17.8, 21.7, 22.7, 22.6, 25. , 19.9, 20.8,\n",
       "        16.8, 21.9, 27.5, 21.9, 23.1, 50. , 50. , 50. , 50. , 50. , 13.8,\n",
       "        13.8, 15. , 13.9, 13.3, 13.1, 10.2, 10.4, 10.9, 11.3, 12.3,  8.8,\n",
       "         7.2, 10.5,  7.4, 10.2, 11.5, 15.1, 23.2,  9.7, 13.8, 12.7, 13.1,\n",
       "        12.5,  8.5,  5. ,  6.3,  5.6,  7.2, 12.1,  8.3,  8.5,  5. , 11.9,\n",
       "        27.9, 17.2, 27.5, 15. , 17.2, 17.9, 16.3,  7. ,  7.2,  7.5, 10.4,\n",
       "         8.8,  8.4, 16.7, 14.2, 20.8, 13.4, 11.7,  8.3, 10.2, 10.9, 11. ,\n",
       "         9.5, 14.5, 14.1, 16.1, 14.3, 11.7, 13.4,  9.6,  8.7,  8.4, 12.8,\n",
       "        10.5, 17.1, 18.4, 15.4, 10.8, 11.8, 14.9, 12.6, 14.1, 13. , 13.4,\n",
       "        15.2, 16.1, 17.8, 14.9, 14.1, 12.7, 13.5, 14.9, 20. , 16.4, 17.7,\n",
       "        19.5, 20.2, 21.4, 19.9, 19. , 19.1, 19.1, 20.1, 19.9, 19.6, 23.2,\n",
       "        29.8, 13.8, 13.3, 16.7, 12. , 14.6, 21.4, 23. , 23.7, 25. , 21.8,\n",
       "        20.6, 21.2, 19.1, 20.6, 15.2,  7. ,  8.1, 13.6, 20.1, 21.8, 24.5,\n",
       "        23.1, 19.7, 18.3, 21.2, 17.5, 16.8, 22.4, 20.6, 23.9, 22. , 11.9]),\n",
       " 'feature_names': array(['CRIM', 'ZN', 'INDUS', 'CHAS', 'NOX', 'RM', 'AGE', 'DIS', 'RAD',\n",
       "        'TAX', 'PTRATIO', 'B', 'LSTAT'], dtype='<U7'),\n",
       " 'DESCR': \".. _boston_dataset:\\n\\nBoston house prices dataset\\n---------------------------\\n\\n**Data Set Characteristics:**  \\n\\n    :Number of Instances: 506 \\n\\n    :Number of Attributes: 13 numeric/categorical predictive. Median Value (attribute 14) is usually the target.\\n\\n    :Attribute Information (in order):\\n        - CRIM     per capita crime rate by town\\n        - ZN       proportion of residential land zoned for lots over 25,000 sq.ft.\\n        - INDUS    proportion of non-retail business acres per town\\n        - CHAS     Charles River dummy variable (= 1 if tract bounds river; 0 otherwise)\\n        - NOX      nitric oxides concentration (parts per 10 million)\\n        - RM       average number of rooms per dwelling\\n        - AGE      proportion of owner-occupied units built prior to 1940\\n        - DIS      weighted distances to five Boston employment centres\\n        - RAD      index of accessibility to radial highways\\n        - TAX      full-value property-tax rate per $10,000\\n        - PTRATIO  pupil-teacher ratio by town\\n        - B        1000(Bk - 0.63)^2 where Bk is the proportion of blacks by town\\n        - LSTAT    % lower status of the population\\n        - MEDV     Median value of owner-occupied homes in $1000's\\n\\n    :Missing Attribute Values: None\\n\\n    :Creator: Harrison, D. and Rubinfeld, D.L.\\n\\nThis is a copy of UCI ML housing dataset.\\nhttps://archive.ics.uci.edu/ml/machine-learning-databases/housing/\\n\\n\\nThis dataset was taken from the StatLib library which is maintained at Carnegie Mellon University.\\n\\nThe Boston house-price data of Harrison, D. and Rubinfeld, D.L. 'Hedonic\\nprices and the demand for clean air', J. Environ. Economics & Management,\\nvol.5, 81-102, 1978.   Used in Belsley, Kuh & Welsch, 'Regression diagnostics\\n...', Wiley, 1980.   N.B. Various transformations are used in the table on\\npages 244-261 of the latter.\\n\\nThe Boston house-price data has been used in many machine learning papers that address regression\\nproblems.   \\n     \\n.. topic:: References\\n\\n   - Belsley, Kuh & Welsch, 'Regression diagnostics: Identifying Influential Data and Sources of Collinearity', Wiley, 1980. 244-261.\\n   - Quinlan,R. (1993). Combining Instance-Based and Model-Based Learning. In Proceedings on the Tenth International Conference of Machine Learning, 236-243, University of Massachusetts, Amherst. Morgan Kaufmann.\\n\",\n",
       " 'filename': 'C:\\\\Anaconda3\\\\lib\\\\site-packages\\\\sklearn\\\\datasets\\\\data\\\\boston_house_prices.csv'}"
      ]
     },
     "execution_count": 4,
     "metadata": {},
     "output_type": "execute_result"
    }
   ],
   "source": [
    "boston"
   ]
  },
  {
   "cell_type": "code",
   "execution_count": 5,
   "metadata": {},
   "outputs": [
    {
     "data": {
      "text/plain": [
       "(506,)"
      ]
     },
     "execution_count": 5,
     "metadata": {},
     "output_type": "execute_result"
    }
   ],
   "source": [
    "from sklearn.linear_model import LinearRegression\n",
    "lr = LinearRegression(fit_intercept=True)\n",
    "\n",
    "# Index number five in the number of rooms\n",
    "x = boston.data[:, 5]\n",
    "x = np.transpose(np.atleast_2d(x))\n",
    "y = boston.target\n",
    "y.shape"
   ]
  },
  {
   "cell_type": "markdown",
   "metadata": {},
   "source": [
    "The first regression attempt:"
   ]
  },
  {
   "cell_type": "code",
   "execution_count": 6,
   "metadata": {},
   "outputs": [
    {
     "name": "stdout",
     "output_type": "stream",
     "text": [
      "(506, 1) \n",
      "\n",
      "3.561 \n",
      "\n",
      "8.78 \n",
      "\n",
      "[-2.25801069] \n",
      "\n",
      "(1,) \n",
      "\n"
     ]
    },
    {
     "data": {
      "image/png": "[encoded data removed]",
      "text/plain": [
       "<Figure size 432x288 with 1 Axes>"
      ]
     },
     "metadata": {
      "needs_background": "light"
     },
     "output_type": "display_data"
    }
   ],
   "source": [
    "from sklearn.linear_model import LinearRegression\n",
    "lr = LinearRegression(fit_intercept=True)\n",
    "\n",
    "# Index number five in the number of rooms\n",
    "x = boston.data[:, 5]\n",
    "y = boston.target\n",
    "\n",
    "# lr.fit takes a two-dimensional array as input. We use np.atleast_2d\n",
    "# to convert from one to two dimensional, then transpose to make sure that the\n",
    "# format matches:\n",
    "x = np.transpose(np.atleast_2d(x))\n",
    "print(x.shape, '\\n')\n",
    "lr.fit(x, y)\n",
    "\n",
    "fig, ax = plt.subplots()\n",
    "ax.set_xlabel(\"Average number of rooms (RM)\")\n",
    "ax.set_ylabel(\"House Price\")\n",
    "xmin = x.min()\n",
    "xmax = x.max()\n",
    "print(xmin, '\\n')\n",
    "print(xmax, '\\n')\n",
    "print(lr.predict(np.transpose(np.atleast_2d(xmin))), '\\n')\n",
    "print(lr.predict(np.transpose(np.atleast_2d(xmin))).shape, '\\n')\n",
    "ax.plot([xmin, xmax], [lr.predict(np.transpose(np.atleast_2d(xmin))), lr.predict(np.transpose(np.atleast_2d(xmax)))],\n",
    "        '-', lw=2, color=\"#f9a602\")\n",
    "ax.scatter(x, y, s=2)\n",
    "fig.savefig('Regression_Fig_01.png')"
   ]
  },
  {
   "cell_type": "code",
   "execution_count": 7,
   "metadata": {},
   "outputs": [
    {
     "name": "stdout",
     "output_type": "stream",
     "text": [
      "Mean squared error (on training data): 43.6\n"
     ]
    }
   ],
   "source": [
    "from sklearn.metrics import mean_squared_error\n",
    "mse = mean_squared_error(y, lr.predict(x))\n",
    "print(\"Mean squared error (on training data): {:.3}\".format(mse))"
   ]
  },
  {
   "cell_type": "code",
   "execution_count": 8,
   "metadata": {
    "scrolled": true
   },
   "outputs": [
    {
     "name": "stdout",
     "output_type": "stream",
     "text": [
      "RMSE (on training data): 6.603071389222561\n"
     ]
    }
   ],
   "source": [
    "rmse = np.sqrt(mse)\n",
    "print('RMSE (on training data): {}'.format(rmse))"
   ]
  },
  {
   "cell_type": "code",
   "execution_count": 9,
   "metadata": {},
   "outputs": [
    {
     "name": "stdout",
     "output_type": "stream",
     "text": [
      "R2 (on training data): 0.48\n",
      "Another method for calculation R2:  0.4835254559913343\n"
     ]
    }
   ],
   "source": [
    "from sklearn.metrics import r2_score\n",
    "r2 = r2_score(y, lr.predict(x))\n",
    "print(\"R2 (on training data): {:.2}\".format(r2))\n",
    "print(\"Another method for calculation R2: \", lr.score(x,y) )"
   ]
  },
  {
   "cell_type": "markdown",
   "metadata": {},
   "source": [
    "Repeat, but using all the input variables now"
   ]
  },
  {
   "cell_type": "code",
   "execution_count": 10,
   "metadata": {
    "scrolled": true
   },
   "outputs": [
    {
     "name": "stdout",
     "output_type": "stream",
     "text": [
      "Mean squared error (on training data): 21.9\n",
      "RMSE (on training data): 4.679191295697281\n",
      "R2 (on training data): 0.74\n"
     ]
    }
   ],
   "source": [
    "x = boston.data\n",
    "\n",
    "lr.fit(x,y)\n",
    "\n",
    "mse = mean_squared_error(y, lr.predict(x))\n",
    "print(\"Mean squared error (on training data): {:.3}\".format(mse))\n",
    "rmse = np.sqrt(mse)\n",
    "print('RMSE (on training data): {}'.format(rmse))\n",
    "r2 = r2_score(y, lr.predict(x))\n",
    "print(\"R2 (on training data): {:.2}\".format(r2))"
   ]
  },
  {
   "cell_type": "markdown",
   "metadata": {},
   "source": [
    "To see how well we do, we plot _prediction vs. gold reality_:"
   ]
  },
  {
   "cell_type": "code",
   "execution_count": 11,
   "metadata": {},
   "outputs": [
    {
     "data": {
      "image/png": "[encoded data removed]",
      "text/plain": [
       "<Figure size 432x288 with 1 Axes>"
      ]
     },
     "metadata": {
      "needs_background": "light"
     },
     "output_type": "display_data"
    }
   ],
   "source": [
    "fig,ax = plt.subplots()\n",
    "ax.set_xlabel('Predicted price')\n",
    "ax.set_ylabel('Actual price')\n",
    "ax.plot([y.min(), y.max()], [y.min(), y.max()], ':', lw=2, color=\"#f9a602\")\n",
    "ax.scatter(lr.predict(x), y, s=2)\n",
    "fig.savefig(\"Regression_FIG_02.png\")"
   ]
  },
  {
   "cell_type": "markdown",
   "metadata": {},
   "source": [
    "Now, we will use **cross-validation** for evaluating the regression quality:"
   ]
  },
  {
   "cell_type": "code",
   "execution_count": 12,
   "metadata": {
    "scrolled": true
   },
   "outputs": [
    {
     "name": "stdout",
     "output_type": "stream",
     "text": [
      "RMSE on 5-fold CV: 6.1\n"
     ]
    }
   ],
   "source": [
    "from sklearn.model_selection import KFold, cross_val_predict\n",
    "kf = KFold(n_splits=5)\n",
    "p = cross_val_predict(lr, x, y, cv=kf)\n",
    "rmse_cv = np.sqrt(mean_squared_error(p, y))\n",
    "print('RMSE on 5-fold CV: {:.2}'.format(rmse_cv))"
   ]
  },
  {
   "cell_type": "markdown",
   "metadata": {},
   "source": [
    "We now compare a few different regression models on _both training data and using cross-validation_:"
   ]
  },
  {
   "cell_type": "code",
   "execution_count": 13,
   "metadata": {},
   "outputs": [
    {
     "name": "stdout",
     "output_type": "stream",
     "text": [
      "Method: linear regression\n",
      "R2 on training: 0.74\n",
      "R2 on 5-fold CV: 0.56\n",
      "\n",
      "\n",
      "Method: elastic-net(.5)\n",
      "R2 on training: 0.71\n",
      "R2 on 5-fold CV: 0.64\n",
      "\n",
      "\n",
      "Method: lasso(.5)\n",
      "R2 on training: 0.71\n",
      "R2 on 5-fold CV: 0.59\n",
      "\n",
      "\n",
      "Method: ridge(.5)\n",
      "R2 on training: 0.74\n",
      "R2 on 5-fold CV: 0.58\n",
      "\n",
      "\n"
     ]
    }
   ],
   "source": [
    "from sklearn.linear_model import LinearRegression, ElasticNet, Lasso, Ridge                              \n",
    "\n",
    "for name, met in [\n",
    "        ('linear regression', LinearRegression()),\n",
    "        ('elastic-net(.5)', ElasticNet(alpha=0.5)),\n",
    "        ('lasso(.5)', Lasso(alpha=0.5)),\n",
    "        ('ridge(.5)', Ridge(alpha=0.5)),\n",
    "]:\n",
    "    # Fit on the whole data:\n",
    "    met.fit(x, y)\n",
    "\n",
    "    # Predict on the whole data:\n",
    "    p = met.predict(x)\n",
    "    r2_train = r2_score(y, p)\n",
    "\n",
    "    kf = KFold(n_splits=5)\n",
    "    p = np.zeros_like(y)\n",
    "    for train, test in kf.split(x):\n",
    "        met.fit(x[train], y[train])\n",
    "        p[test] = met.predict(x[test])\n",
    "\n",
    "        r2_cv = r2_score(y, p)\n",
    "    print('Method: {}'.format(name))\n",
    "    print('R2 on training: {:.2}'.format(r2_train))\n",
    "    print('R2 on 5-fold CV: {:.2}'.format(r2_cv))\n",
    "    print('\\n')"
   ]
  },
  {
   "cell_type": "code",
   "execution_count": 14,
   "metadata": {},
   "outputs": [
    {
     "data": {
      "image/png": "[encoded data removed]",
      "text/plain": [
       "<Figure size 432x288 with 1 Axes>"
      ]
     },
     "metadata": {
      "needs_background": "light"
     },
     "output_type": "display_data"
    }
   ],
   "source": [
    "las = Lasso(normalize=True)                            \n",
    "alphas = np.logspace(-5, 2, 1000)                   \n",
    "alphas, coefs, _= las.path(x, y, alphas=alphas) \n",
    "#print(alphas)\n",
    "\n",
    "fig,ax = plt.subplots()                             \n",
    "ax.plot(alphas, coefs.T)                            \n",
    "ax.set_xscale('log')                                \n",
    "ax.set_xlim(alphas.max(), alphas.min())             \n",
    "\n",
    "\n",
    "plt.title('Lasso coefficient path as a function of alpha')                                           \n",
    "ax.set_xlabel('Alpha')                              \n",
    "ax.set_ylabel('Coefficient weight')                 \n",
    "fig.savefig('REGRESSION_FIG_03.png')"
   ]
  },
  {
   "cell_type": "markdown",
   "metadata": {},
   "source": [
    "## Linear regression with Tensorflow"
   ]
  },
  {
   "cell_type": "markdown",
   "metadata": {},
   "source": [
    "Let's try and do the same with Tensorflow."
   ]
  },
  {
   "cell_type": "code",
   "execution_count": 15,
   "metadata": {},
   "outputs": [],
   "source": [
    "# Batch size, epochs\n",
    "batch_size = 100\n",
    "n_epochs = 50000\n",
    "steps = 1000"
   ]
  },
  {
   "cell_type": "code",
   "execution_count": 18,
   "metadata": {},
   "outputs": [],
   "source": [
    "# Creation of the scaffolding\n",
    "\n",
    "import tensorflow as tf\n",
    "tf.reset_default_graph()"
   ]
  },
  {
   "cell_type": "code",
   "execution_count": 29,
   "metadata": {},
   "outputs": [],
   "source": [
    "x = boston.data[:,5][:,None]\n",
    "y = np.reshape(boston.target, (-1, 1))\n",
    "nb_features = x.shape[1]\n",
    "\n",
    "X = tf.placeholder(shape=[None, nb_features], dtype=tf.float32, name=\"X\")\n",
    "Y = tf.placeholder(shape=[None, 1], dtype=tf.float32, name=\"y\")\n",
    "\n",
    "A = tf.Variable(tf.random_normal(shape=[nb_features, 1]), name=\"A\")\n",
    "b = tf.Variable(tf.random_normal(shape=[1,1]), name=\"b\")"
   ]
  },
  {
   "cell_type": "code",
   "execution_count": 30,
   "metadata": {},
   "outputs": [],
   "source": [
    "# Creation of the graph\n",
    "model_output = tf.matmul(X, A) + b\n",
    "\n",
    "loss = tf.reduce_mean(tf.square(Y - model_output))\n",
    "\n",
    "# Uncomment to get Ridge or Lasso\n",
    "\"\"\"\n",
    "beta = 0.005\n",
    "regularizer = tf.nn.l2_loss(A)\n",
    "loss = loss + beta * regularizer\n",
    "\"\"\"\n",
    "\"\"\"\n",
    "beta = 0.5\n",
    "regularizer = tf.reduce_mean(tf.abs(A))\n",
    "loss = loss + beta * regularizer\n",
    "\"\"\"\n",
    "\n",
    "grad_speed = 1e-3\n",
    "my_opt = tf.train.GradientDescentOptimizer(grad_speed)\n",
    "train_step = my_opt.minimize(loss)"
   ]
  },
  {
   "cell_type": "code",
   "execution_count": 31,
   "metadata": {},
   "outputs": [
    {
     "name": "stdout",
     "output_type": "stream",
     "text": [
      "Epoch #999  A = [[4.3068786]] b = [[-4.45379]]\n",
      "Loss = 54.93619919\n",
      "\n",
      "Epoch #1999  A = [[5.0202813]] b = [[-8.518932]]\n",
      "Loss = 52.05839920\n",
      "\n",
      "Epoch #2999  A = [[5.5513387]] b = [[-12.002595]]\n",
      "Loss = 49.93685913\n",
      "\n",
      "Epoch #3999  A = [[5.969459]] b = [[-15.080842]]\n",
      "Loss = 48.44517517\n",
      "\n",
      "Epoch #4999  A = [[6.40106]] b = [[-17.72384]]\n",
      "Loss = 47.19589233\n",
      "\n",
      "Epoch #5999  A = [[6.799504]] b = [[-19.967535]]\n",
      "Loss = 46.26666641\n",
      "\n",
      "Epoch #6999  A = [[7.1065607]] b = [[-21.97429]]\n",
      "Loss = 45.58660126\n",
      "\n",
      "Epoch #7999  A = [[7.308749]] b = [[-23.72031]]\n",
      "Loss = 45.28771591\n",
      "\n",
      "Epoch #8999  A = [[7.5820265]] b = [[-25.187037]]\n",
      "Loss = 44.74383926\n",
      "\n",
      "Epoch #9999  A = [[7.837788]] b = [[-26.445509]]\n",
      "Loss = 44.46615219\n",
      "\n",
      "Epoch #10999  A = [[7.98026]] b = [[-27.575354]]\n",
      "Loss = 44.22264099\n",
      "\n",
      "Epoch #11999  A = [[8.191675]] b = [[-28.491776]]\n",
      "Loss = 44.21787643\n",
      "\n",
      "Epoch #12999  A = [[8.253695]] b = [[-29.341972]]\n",
      "Loss = 43.95520401\n",
      "\n",
      "Epoch #13999  A = [[8.358679]] b = [[-30.03587]]\n",
      "Loss = 43.87425995\n",
      "\n",
      "Epoch #14999  A = [[8.417835]] b = [[-30.698164]]\n",
      "Loss = 43.93880081\n",
      "\n",
      "Epoch #15999  A = [[8.542695]] b = [[-31.214289]]\n",
      "Loss = 43.75826645\n",
      "\n",
      "Epoch #16999  A = [[8.619823]] b = [[-31.666449]]\n",
      "Loss = 43.71587372\n",
      "\n",
      "Epoch #17999  A = [[8.687903]] b = [[-32.081585]]\n",
      "Loss = 43.68527985\n",
      "\n",
      "Epoch #18999  A = [[8.76013]] b = [[-32.453274]]\n",
      "Loss = 43.66281509\n",
      "\n",
      "Epoch #19999  A = [[8.786552]] b = [[-32.756977]]\n",
      "Loss = 43.65444565\n",
      "\n",
      "Epoch #20999  A = [[8.865722]] b = [[-32.992775]]\n",
      "Loss = 43.66503906\n",
      "\n",
      "Epoch #21999  A = [[8.885321]] b = [[-33.168785]]\n",
      "Loss = 43.64314651\n",
      "\n",
      "Epoch #22999  A = [[8.895056]] b = [[-33.35132]]\n",
      "Loss = 43.62200165\n",
      "\n",
      "Epoch #23999  A = [[8.934555]] b = [[-33.53435]]\n",
      "Loss = 43.62131500\n",
      "\n",
      "Epoch #24999  A = [[8.897353]] b = [[-33.72504]]\n",
      "Loss = 43.73765182\n",
      "\n",
      "Epoch #25999  A = [[9.010788]] b = [[-33.794228]]\n",
      "Loss = 43.69615936\n",
      "\n",
      "Epoch #26999  A = [[8.990942]] b = [[-33.924355]]\n",
      "Loss = 43.60891342\n",
      "\n",
      "Epoch #27999  A = [[8.887551]] b = [[-34.07697]]\n",
      "Loss = 44.19290924\n",
      "\n",
      "Epoch #28999  A = [[9.012231]] b = [[-34.11164]]\n",
      "Loss = 43.60457230\n",
      "\n",
      "Epoch #29999  A = [[8.995265]] b = [[-34.17485]]\n",
      "Loss = 43.63705444\n",
      "\n",
      "Epoch #30999  A = [[9.009914]] b = [[-34.236553]]\n",
      "Loss = 43.62586594\n",
      "\n",
      "Epoch #31999  A = [[9.043032]] b = [[-34.29971]]\n",
      "Loss = 43.60227585\n",
      "\n",
      "Epoch #32999  A = [[9.017111]] b = [[-34.341347]]\n",
      "Loss = 43.64609528\n",
      "\n",
      "Epoch #33999  A = [[9.104599]] b = [[-34.40823]]\n",
      "Loss = 43.67786026\n",
      "\n",
      "Epoch #34999  A = [[9.064303]] b = [[-34.415226]]\n",
      "Loss = 43.60158157\n",
      "\n",
      "Epoch #35999  A = [[9.018754]] b = [[-34.407158]]\n",
      "Loss = 43.67177963\n",
      "\n",
      "Epoch #36999  A = [[9.058293]] b = [[-34.416786]]\n",
      "Loss = 43.60195923\n",
      "\n",
      "Epoch #37999  A = [[9.158059]] b = [[-34.424976]]\n",
      "Loss = 43.95882797\n",
      "\n",
      "Epoch #38999  A = [[9.113222]] b = [[-34.431942]]\n",
      "Loss = 43.69579315\n",
      "\n",
      "Epoch #39999  A = [[9.076266]] b = [[-34.45962]]\n",
      "Loss = 43.60324478\n",
      "\n",
      "Epoch #40999  A = [[9.113018]] b = [[-34.51234]]\n",
      "Loss = 43.65206146\n",
      "\n",
      "Epoch #41999  A = [[9.126738]] b = [[-34.536453]]\n",
      "Loss = 43.68433762\n",
      "\n",
      "Epoch #42999  A = [[9.056424]] b = [[-34.600513]]\n",
      "Loss = 43.64867020\n",
      "\n",
      "Epoch #43999  A = [[9.088905]] b = [[-34.638824]]\n",
      "Loss = 43.60325623\n",
      "\n",
      "Epoch #44999  A = [[9.112823]] b = [[-34.63272]]\n",
      "Loss = 43.61168671\n",
      "\n",
      "Epoch #45999  A = [[9.062759]] b = [[-34.666573]]\n",
      "Loss = 43.66048431\n",
      "\n",
      "Epoch #46999  A = [[9.082739]] b = [[-34.617817]]\n",
      "Loss = 43.60549164\n",
      "\n",
      "Epoch #47999  A = [[9.071587]] b = [[-34.606865]]\n",
      "Loss = 43.61741638\n",
      "\n",
      "Epoch #48999  A = [[9.0710335]] b = [[-34.62376]]\n",
      "Loss = 43.62306595\n",
      "\n",
      "Epoch #49999  A = [[9.094786]] b = [[-34.597378]]\n",
      "Loss = 43.60131454\n",
      "\n",
      "Mean squared error (on training data): 43.6\n",
      "RMSE (on training data): 6.6031295840396\n",
      "R2 (on training data): 0.48\n"
     ]
    }
   ],
   "source": [
    "# Run the optimization\n",
    "loss_vec = []\n",
    "with tf.Session() as sess:\n",
    "    sess.run(tf.global_variables_initializer())\n",
    "    for epoch in range(n_epochs):\n",
    "        permut = np.random.permutation(len(x))\n",
    "        for j in range(0, len(x), batch_size):\n",
    "            batch = permut[j:j+batch_size]\n",
    "            Xs = x[batch]\n",
    "            Ys = y[batch]\n",
    "\n",
    "            sess.run(train_step, feed_dict={X: Xs, Y: Ys})\n",
    "            temp_loss = sess.run(loss, feed_dict={X: Xs, Y: Ys})\n",
    "        \n",
    "        if epoch % steps == steps - 1:\n",
    "            temp_loss = sess.run(loss, feed_dict={X: x, Y: y})\n",
    "            loss_vec.append(temp_loss)\n",
    "\n",
    "            (A_, b_) = sess.run([A, b])\n",
    "            print('Epoch #%i  A = %s b = %s' % (epoch, np.transpose(A_), b_))\n",
    "            print('Loss = %.8f' % temp_loss)\n",
    "            print(\"\")\n",
    "\n",
    "\n",
    "    [slope, y_intercept] = sess.run([A, b])\n",
    "    prediction = sess.run(model_output, feed_dict={X: x})\n",
    "    mse = mean_squared_error(y, prediction)\n",
    "    print(\"Mean squared error (on training data): {:.3}\".format(mse))\n",
    "    rmse = np.sqrt(mse)\n",
    "    print('RMSE (on training data): {}'.format(rmse))\n",
    "    r2 = r2_score(y, prediction)\n",
    "    print(\"R2 (on training data): {:.2}\".format(r2))\n",
    "\n",
    "best_fit = []\n",
    "for i in x:\n",
    "    best_fit.append(slope[0]*i+y_intercept[0])"
   ]
  },
  {
   "cell_type": "code",
   "execution_count": 32,
   "metadata": {},
   "outputs": [
    {
     "data": {
      "image/png": "[encoded data removed]",
      "text/plain": [
       "<Figure size 432x288 with 1 Axes>"
      ]
     },
     "metadata": {
      "needs_background": "light"
     },
     "output_type": "display_data"
    },
    {
     "data": {
      "text/plain": [
       "<Figure size 432x288 with 0 Axes>"
      ]
     },
     "metadata": {},
     "output_type": "display_data"
    },
    {
     "data": {
      "image/png": "[encoded data removed]",
      "text/plain": [
       "<Figure size 432x288 with 1 Axes>"
      ]
     },
     "metadata": {
      "needs_background": "light"
     },
     "output_type": "display_data"
    }
   ],
   "source": [
    "# Plot 1D best fit\n",
    "\n",
    "fig,ax = plt.subplots()\n",
    "ax.set_xlabel(\"Average number of rooms (RM)\")\n",
    "ax.set_ylabel(\"House Price\")\n",
    "\n",
    "ax.scatter(x, y, s=2, label='Data Points')\n",
    "ax.plot(x, np.array(best_fit), '-', lw=2, color=\"#f9a602\", label='Best fit line')\n",
    "ax.legend(loc='upper left')\n",
    "\n",
    "fig.savefig('REGRESSION_FIG_06.png')\n",
    "\n",
    "# Plot loss over time\n",
    "plt.figure()\n",
    "fig,ax = plt.subplots()\n",
    "ax.set_title('Loss per Epoch')\n",
    "ax.set_xlabel('Epoch')\n",
    "ax.set_ylabel('Loss')\n",
    "\n",
    "ax.plot(loss_vec, 'k-')\n",
    "\n",
    "fig.savefig('REGRESSION_FIG_07.png')"
   ]
  },
  {
   "cell_type": "markdown",
   "metadata": {},
   "source": [
    "What happens if we move to use all the features?"
   ]
  },
  {
   "cell_type": "code",
   "execution_count": 33,
   "metadata": {},
   "outputs": [],
   "source": [
    "# Creation of the scaffolding\n",
    "\n",
    "import tensorflow as tf\n",
    "tf.reset_default_graph()\n",
    "\n",
    "x = boston.data\n",
    "y = np.reshape(boston.target, (-1, 1))\n",
    "\n",
    "nb_features = x.shape[1]\n",
    "\n",
    "X = tf.placeholder(shape=[None, nb_features], dtype=tf.float32, name=\"X\")\n",
    "Y = tf.placeholder(shape=[None, 1], dtype=tf.float32, name=\"y\")\n",
    "\n",
    "A = tf.Variable(tf.random_normal(shape=[nb_features, 1]), name=\"A\")\n",
    "b = tf.Variable(tf.random_normal(shape=[1,1]), name=\"b\")"
   ]
  },
  {
   "cell_type": "code",
   "execution_count": 34,
   "metadata": {},
   "outputs": [],
   "source": [
    "# Creation of the graph\n",
    "model_output = tf.matmul(X, A) + b\n",
    "\n",
    "loss = tf.reduce_mean(tf.square(Y - model_output))\n",
    "\n",
    "# Uncomment to get Ridge or Lasso\n",
    "\"\"\"\n",
    "beta = 0.005\n",
    "regularizer = tf.nn.l2_loss(A)\n",
    "loss = loss + beta * regularizer\n",
    "\"\"\"\n",
    "\"\"\"\n",
    "beta = 0.5\n",
    "regularizer = tf.reduce_mean(tf.abs(A))\n",
    "loss = loss + beta * regularizer\n",
    "\"\"\"\n",
    "\n",
    "grad_speed = 5e-7\n",
    "my_opt = tf.train.GradientDescentOptimizer(grad_speed)\n",
    "train_step = my_opt.minimize(loss)"
   ]
  },
  {
   "cell_type": "code",
   "execution_count": 35,
   "metadata": {},
   "outputs": [
    {
     "name": "stdout",
     "output_type": "stream",
     "text": [
      "Epoch #999  A = [[ 0.35756037  0.24456458  0.4701379  -0.6272518  -0.09628233  1.0018146\n",
      "   0.11958624  0.19829993  0.94731563 -0.07306526  0.83213586  0.02862701\n",
      "  -0.6198861 ]] b = [[0.3821294]]\n",
      "Loss = 71.48053741\n",
      "\n",
      "Epoch #1999  A = [[ 0.22024183  0.16021498  0.45130345 -0.62543315 -0.09572343  1.0208095\n",
      "   0.0793207   0.19232652  0.8884387  -0.06210118  0.8157693   0.033075\n",
      "  -0.6725342 ]] b = [[0.38353008]]\n",
      "Loss = 58.62100601\n",
      "\n",
      "Epoch #2999  A = [[ 0.12047334  0.14770935  0.43006328 -0.6236396  -0.09505265  1.0410348\n",
      "   0.07832725  0.18834257  0.83413464 -0.05452136  0.80084795  0.03206054\n",
      "  -0.7116197 ]] b = [[0.38512567]]\n",
      "Loss = 53.52233505\n",
      "\n",
      "Epoch #3999  A = [[ 0.04878308  0.14103848  0.4095238  -0.62188005 -0.09435978  1.0609348\n",
      "   0.08112854  0.18417351  0.78630674 -0.0501439   0.7875488   0.03255967\n",
      "  -0.7404429 ]] b = [[0.38675284]]\n",
      "Loss = 51.40591812\n",
      "\n",
      "Epoch #4999  A = [[-0.0028545   0.13787995  0.38930154 -0.6201593  -0.09367151  1.0802246\n",
      "   0.08524243  0.1792985   0.74411166 -0.04648114  0.77399635  0.02819555\n",
      "  -0.7631708 ]] b = [[0.38833985]]\n",
      "Loss = 48.13048553\n",
      "\n",
      "Epoch #5999  A = [[-0.04001883  0.13308915  0.36941636 -0.6184557  -0.09298215  1.0989105\n",
      "   0.08669375  0.17445253  0.7058705  -0.04220825  0.76094174  0.02808143\n",
      "  -0.78054845]] b = [[0.3898989]]\n",
      "Loss = 47.30141068\n",
      "\n",
      "Epoch #6999  A = [[-0.06597647  0.13289121  0.35001746 -0.6167865  -0.09228648  1.1175588\n",
      "   0.08958563  0.16969413  0.6713562  -0.04148595  0.7488092   0.02585291\n",
      "  -0.7933537 ]] b = [[0.39148277]]\n",
      "Loss = 46.04356384\n",
      "\n",
      "Epoch #7999  A = [[-0.08504677  0.1303887   0.33222556 -0.61511487 -0.09160251  1.1354865\n",
      "   0.09093465  0.16463172  0.6395819  -0.03979459  0.7368415   0.02571202\n",
      "  -0.80209607]] b = [[0.39301902]]\n",
      "Loss = 45.44626236\n",
      "\n",
      "Epoch #8999  A = [[-0.09789095  0.12915415  0.31585237 -0.61346245 -0.09090854  1.1532627\n",
      "   0.09240646  0.15940286  0.61059874 -0.03514804  0.7251578   0.02610453\n",
      "  -0.8094461 ]] b = [[0.3945512]]\n",
      "Loss = 45.02713394\n",
      "\n",
      "Epoch #9999  A = [[-0.10733444  0.12611185  0.30031776 -0.6117726  -0.0902136   1.1708033\n",
      "   0.09294416  0.15400349  0.5838277  -0.03379773  0.7136791   0.02680102\n",
      "  -0.8148631 ]] b = [[0.39607382]]\n",
      "Loss = 44.75598145\n",
      "\n",
      "Epoch #10999  A = [[-0.11327251  0.12350106  0.28508136 -0.6100699  -0.08951912  1.188128\n",
      "   0.09324924  0.14865519  0.5593594  -0.03208553  0.7023622   0.02512166\n",
      "  -0.8187988 ]] b = [[0.39757258]]\n",
      "Loss = 43.61132050\n",
      "\n",
      "Epoch #11999  A = [[-0.11618105  0.12214449  0.27070266 -0.60835546 -0.08882213  1.2054894\n",
      "   0.09480887  0.1430617   0.53652334 -0.02972322  0.69149846  0.02568616\n",
      "  -0.8218554 ]] b = [[0.3990829]]\n",
      "Loss = 44.37919617\n",
      "\n",
      "Epoch #12999  A = [[-0.11811576  0.12084532  0.25693798 -0.6066548  -0.08812698  1.2225968\n",
      "   0.09405799  0.13754308  0.5152773  -0.02922253  0.6812024   0.02327974\n",
      "  -0.82319653]] b = [[0.40058786]]\n",
      "Loss = 42.68192673\n",
      "\n",
      "Epoch #13999  A = [[-0.11890865  0.12052771  0.24382089 -0.60498613 -0.08742668  1.2397096\n",
      "   0.09510434  0.13198198  0.49493036 -0.0296557   0.67084754  0.02510062\n",
      "  -0.8247577 ]] b = [[0.4020855]]\n",
      "Loss = 42.38397980\n",
      "\n",
      "Epoch #14999  A = [[-0.11822125  0.1190057   0.23156719 -0.60327667 -0.08672164  1.256621\n",
      "   0.09634419  0.12624736  0.47631755 -0.02705814  0.66060144  0.02414252\n",
      "  -0.825241  ]] b = [[0.4035723]]\n",
      "Loss = 42.15439987\n",
      "\n",
      "Epoch #15999  A = [[-0.11764742  0.11705901  0.22010306 -0.6015532  -0.08602093  1.2733594\n",
      "   0.0954075   0.12054398  0.4588732  -0.02729671  0.6503289   0.02337989\n",
      "  -0.82584006]] b = [[0.40504128]]\n",
      "Loss = 41.97363663\n",
      "\n",
      "Epoch #16999  A = [[-0.11677688  0.11555082  0.20953198 -0.5998562  -0.08531167  1.2900282\n",
      "   0.09596549  0.11494541  0.44203126 -0.02606907  0.6406666   0.02341052\n",
      "  -0.8250631 ]] b = [[0.4065223]]\n",
      "Loss = 41.55497742\n",
      "\n",
      "Epoch #17999  A = [[-0.11563982  0.11271853  0.19909161 -0.59813815 -0.08460125  1.3067491\n",
      "   0.09552806  0.10915377  0.42582384 -0.02513456  0.6311252   0.02297478\n",
      "  -0.82367766]] b = [[0.40800494]]\n",
      "Loss = 41.43499374\n",
      "\n",
      "Epoch #18999  A = [[-0.1137682   0.11216702  0.18945174 -0.59643465 -0.08390108  1.3233383\n",
      "   0.09508768  0.10343163  0.4113304  -0.02226319  0.62148374  0.02244478\n",
      "  -0.8237542 ]] b = [[0.4094658]]\n",
      "Loss = 41.03476334\n",
      "\n",
      "Epoch #19999  A = [[-0.11245476  0.11060475  0.18047772 -0.5946385  -0.08318838  1.3399577\n",
      "   0.09545694  0.0976613   0.39739448 -0.02402137  0.6124032   0.0224458\n",
      "  -0.82299227]] b = [[0.41093782]]\n",
      "Loss = 41.54439163\n",
      "\n",
      "Epoch #20999  A = [[-0.1107665   0.10893197  0.17180182 -0.5929519  -0.08248291  1.3565192\n",
      "   0.09455878  0.09219977  0.3840585  -0.02327195  0.6039318   0.023263\n",
      "  -0.82126606]] b = [[0.4124286]]\n",
      "Loss = 40.96620941\n",
      "\n",
      "Epoch #21999  A = [[-0.10932246  0.10956714  0.16385452 -0.59121084 -0.08176125  1.3731573\n",
      "   0.09489478  0.08646194  0.3711459  -0.02280707  0.5952968   0.02103004\n",
      "  -0.82018507]] b = [[0.41390935]]\n",
      "Loss = 42.56100082\n",
      "\n",
      "Epoch #22999  A = [[-0.10820007  0.10913643  0.15602137 -0.5895216  -0.08105255  1.3895326\n",
      "   0.09563756  0.08094618  0.35976556 -0.01984619  0.58710825  0.02268554\n",
      "  -0.81841606]] b = [[0.4153825]]\n",
      "Loss = 40.15266800\n",
      "\n",
      "Epoch #23999  A = [[-0.10731041  0.10792965  0.14889154 -0.587738   -0.08034888  1.4058431\n",
      "   0.0955325   0.0753516   0.34871012 -0.01898308  0.5787479   0.02342233\n",
      "  -0.8167555 ]] b = [[0.41684008]]\n",
      "Loss = 40.19509888\n",
      "\n",
      "Epoch #24999  A = [[-0.10658355  0.10685194  0.14216669 -0.5859866  -0.07964662  1.42206\n",
      "   0.09489678  0.06981464  0.33773828 -0.01927975  0.5707229   0.02201148\n",
      "  -0.81479836]] b = [[0.41829774]]\n",
      "Loss = 39.92853546\n",
      "\n",
      "Epoch #25999  A = [[-0.10521782  0.10623552  0.13548094 -0.5842274  -0.07893841  1.4382125\n",
      "   0.09325548  0.06410468  0.32829118 -0.02019412  0.56241286  0.0219198\n",
      "  -0.813902  ]] b = [[0.41973826]]\n",
      "Loss = 40.97979355\n",
      "\n",
      "Epoch #26999  A = [[-0.10335633  0.10371507  0.12972912 -0.5824714  -0.07821967  1.4545041\n",
      "   0.09271321  0.05842659  0.31872723 -0.01996341  0.55491453  0.0212177\n",
      "  -0.81207895]] b = [[0.42120582]]\n",
      "Loss = 41.92771912\n",
      "\n",
      "Epoch #27999  A = [[-0.10273418  0.10470301  0.12417876 -0.5807023  -0.07751268  1.4707686\n",
      "   0.09384473  0.05299183  0.3098812  -0.01880567  0.54765946  0.02241765\n",
      "  -0.8103871 ]] b = [[0.42267758]]\n",
      "Loss = 39.85213089\n",
      "\n",
      "Epoch #28999  A = [[-0.10179412  0.10406239  0.11911971 -0.5789039  -0.07680294  1.4869945\n",
      "   0.09375502  0.04743167  0.3010879  -0.01702224  0.5405992   0.02296809\n",
      "  -0.80874246]] b = [[0.42414254]]\n",
      "Loss = 39.11642075\n",
      "\n",
      "Epoch #29999  A = [[-0.10045206  0.10230603  0.11440573 -0.57718605 -0.07607889  1.5033381\n",
      "   0.0942734   0.04195209  0.29285437 -0.01662278  0.53380257  0.02129119\n",
      "  -0.8067297 ]] b = [[0.42562413]]\n",
      "Loss = 39.30126572\n",
      "\n",
      "Epoch #30999  A = [[-0.09941913  0.10254642  0.10904368 -0.57542187 -0.07537425  1.5195266\n",
      "   0.09321614  0.03676474  0.28560033 -0.01656385  0.527143    0.02355184\n",
      "  -0.8049118 ]] b = [[0.4270898]]\n",
      "Loss = 38.84259415\n",
      "\n",
      "Epoch #31999  A = [[-0.09874859  0.10204705  0.10435895 -0.5736487  -0.07466691  1.5355506\n",
      "   0.09281649  0.03142535  0.27825922 -0.014591    0.52043617  0.02431127\n",
      "  -0.8027639 ]] b = [[0.42854238]]\n",
      "Loss = 39.67038727\n",
      "\n",
      "Epoch #32999  A = [[-0.09809943  0.1019459   0.10011417 -0.5718372  -0.07395833  1.5514868\n",
      "   0.09340017  0.02609597  0.27157763 -0.01678131  0.51369613  0.02177258\n",
      "  -0.80126554]] b = [[0.42999217]]\n",
      "Loss = 39.44412994\n",
      "\n",
      "Epoch #33999  A = [[-0.09717622  0.10162082  0.095837   -0.57005936 -0.07326055  1.5674238\n",
      "   0.09156284  0.02064433  0.2661008  -0.01361901  0.50705874  0.02335798\n",
      "  -0.8004323 ]] b = [[0.43143275]]\n",
      "Loss = 38.93004608\n",
      "\n",
      "Epoch #34999  A = [[-0.09652189  0.09999132  0.09237479 -0.56830174 -0.07255103  1.5832434\n",
      "   0.09292865  0.01517077  0.2600534  -0.01399674  0.5005182   0.02341695\n",
      "  -0.79841286]] b = [[0.43287802]]\n",
      "Loss = 38.57619858\n",
      "\n",
      "Epoch #35999  A = [[-0.09528974  0.09944087  0.08854559 -0.56652665 -0.07184608  1.5991716\n",
      "   0.09213718  0.00989611  0.25461522 -0.01275412  0.49425742  0.02262384\n",
      "  -0.79670316]] b = [[0.43433082]]\n",
      "Loss = 38.58650589\n",
      "\n",
      "Epoch #36999  A = [[-0.09430832  0.09774808  0.0843007  -0.5647702  -0.07115159  1.6150235\n",
      "   0.09052914  0.00466127  0.24922329 -0.01435187  0.48822683  0.02319509\n",
      "  -0.79546213]] b = [[0.43577912]]\n",
      "Loss = 38.07038498\n",
      "\n",
      "Epoch #37999  A = [[-9.3766280e-02  9.7911596e-02  8.0862924e-02 -5.6296110e-01\n",
      "  -7.0447899e-02  1.6308790e+00  9.1040485e-02 -4.2228360e-04\n",
      "   2.4381566e-01 -1.4199326e-02  4.8256028e-01  2.4777927e-02\n",
      "  -7.9331970e-01]] b = [[0.4372378]]\n",
      "Loss = 38.20193481\n",
      "\n"
     ]
    },
    {
     "name": "stdout",
     "output_type": "stream",
     "text": [
      "Epoch #38999  A = [[-0.09248792  0.09836821  0.07756558 -0.56116384 -0.06974907  1.6466517\n",
      "   0.09047925 -0.00568462  0.23913008 -0.01423542  0.47666863  0.02160399\n",
      "  -0.79211277]] b = [[0.43867582]]\n",
      "Loss = 38.47349930\n",
      "\n",
      "Epoch #39999  A = [[-0.09208391  0.09683173  0.07418542 -0.55940163 -0.06904084  1.6626658\n",
      "   0.08990362 -0.01070735  0.23452233 -0.01228881  0.47144854  0.02362455\n",
      "  -0.78982836]] b = [[0.44015658]]\n",
      "Loss = 38.06750107\n",
      "\n",
      "Epoch #40999  A = [[-0.0914768   0.0968329   0.07082266 -0.5576331  -0.06834327  1.6785954\n",
      "   0.09021765 -0.01582883  0.23032123 -0.01315314  0.46563363  0.02361241\n",
      "  -0.7894369 ]] b = [[0.4416043]]\n",
      "Loss = 37.62086868\n",
      "\n",
      "Epoch #41999  A = [[-0.09178724  0.09669491  0.06828808 -0.5558624  -0.06764801  1.6942307\n",
      "   0.09038112 -0.02072678  0.22599417 -0.01559359  0.46026355  0.02134438\n",
      "  -0.78735083]] b = [[0.44304302]]\n",
      "Loss = 40.55052185\n",
      "\n",
      "Epoch #42999  A = [[-0.0913569   0.09673747  0.06605745 -0.55414754 -0.06697483  1.7095666\n",
      "   0.08964112 -0.02582884  0.22212741 -0.01347847  0.45468307  0.02062553\n",
      "  -0.786354  ]] b = [[0.44445089]]\n",
      "Loss = 38.87065887\n",
      "\n",
      "Epoch #43999  A = [[-0.09082855  0.09607242  0.06402206 -0.5524111  -0.06628323  1.7250316\n",
      "   0.08892999 -0.03058382  0.21840166 -0.01166219  0.45001483  0.02378152\n",
      "  -0.78364134]] b = [[0.44589454]]\n",
      "Loss = 37.59794998\n",
      "\n",
      "Epoch #44999  A = [[-0.09033442  0.09658232  0.06170994 -0.5506253  -0.06560981  1.740409\n",
      "   0.08898322 -0.03562264  0.21506685 -0.01349956  0.44447455  0.02183836\n",
      "  -0.7828249 ]] b = [[0.44730857]]\n",
      "Loss = 38.07304382\n",
      "\n",
      "Epoch #45999  A = [[-0.08982822  0.09550434  0.05917626 -0.54886794 -0.0649219   1.7559091\n",
      "   0.08819136 -0.04070055  0.21198447 -0.01158002  0.43981022  0.02283203\n",
      "  -0.780566  ]] b = [[0.44874376]]\n",
      "Loss = 37.06329346\n",
      "\n",
      "Epoch #46999  A = [[-0.09019504  0.09687103  0.05672763 -0.5470826  -0.06423512  1.7713362\n",
      "   0.08821078 -0.04563072  0.20924841 -0.01212158  0.43453342  0.02219494\n",
      "  -0.7792698 ]] b = [[0.45015952]]\n",
      "Loss = 37.09953690\n",
      "\n",
      "Epoch #47999  A = [[-0.09004695  0.09613168  0.05482033 -0.5453446  -0.06354538  1.7867001\n",
      "   0.08884836 -0.05056665  0.20613208 -0.01080309  0.42981085  0.02306882\n",
      "  -0.7777321 ]] b = [[0.4515899]]\n",
      "Loss = 37.07598877\n",
      "\n",
      "Epoch #48999  A = [[-0.08993536  0.09544139  0.05264258 -0.54359597 -0.06286287  1.8022362\n",
      "   0.08861935 -0.05537711  0.20339961 -0.01054282  0.42511073  0.02326646\n",
      "  -0.7764758 ]] b = [[0.4530218]]\n",
      "Loss = 37.09709167\n",
      "\n",
      "Epoch #49999  A = [[-0.08945512  0.09401713  0.05077384 -0.54179186 -0.06219267  1.8175145\n",
      "   0.08757689 -0.06026326  0.20076403 -0.01104896  0.42036685  0.02405383\n",
      "  -0.77585113]] b = [[0.45444041]]\n",
      "Loss = 36.93526840\n",
      "\n",
      "Mean squared error (on training data): 36.9\n",
      "RMSE (on training data): 6.0774392405401745\n",
      "R2 (on training data): 0.56\n"
     ]
    }
   ],
   "source": [
    "# Run the optimization\n",
    "loss_vec = []\n",
    "with tf.Session() as sess:\n",
    "    sess.run(tf.global_variables_initializer())\n",
    "    for epoch in range(n_epochs):\n",
    "        permut = np.random.permutation(len(x))\n",
    "        for j in range(0, len(x), batch_size):\n",
    "            batch = permut[j:j+batch_size]\n",
    "            Xs = x[batch]\n",
    "            Ys = y[batch]\n",
    "\n",
    "            sess.run(train_step, feed_dict={X: Xs, Y: Ys})\n",
    "            temp_loss = sess.run(loss, feed_dict={X: Xs, Y: Ys})\n",
    "        \n",
    "        if epoch % steps == steps - 1:\n",
    "            temp_loss = sess.run(loss, feed_dict={X: x, Y: y})\n",
    "            loss_vec.append(temp_loss)\n",
    "\n",
    "            (A_, b_) = sess.run([A, b])\n",
    "            print('Epoch #%i  A = %s b = %s' % (epoch, np.transpose(A_), b_))\n",
    "            print('Loss = %.8f' % temp_loss)\n",
    "            print(\"\")\n",
    "\n",
    "\n",
    "    [slope, y_intercept] = sess.run([A, b])\n",
    "    prediction = sess.run(model_output, feed_dict={X: x})\n",
    "    mse = mean_squared_error(y, prediction)\n",
    "    print(\"Mean squared error (on training data): {:.3}\".format(mse))\n",
    "    rmse = np.sqrt(mse)\n",
    "    print('RMSE (on training data): {}'.format(rmse))\n",
    "    r2 = r2_score(y, prediction)\n",
    "    print(\"R2 (on training data): {:.2}\".format(r2))\n",
    "\n",
    "best_fit = []\n",
    "for i in x:\n",
    "    best_fit.append(slope[0]*i+y_intercept[0])"
   ]
  },
  {
   "cell_type": "code",
   "execution_count": 36,
   "metadata": {},
   "outputs": [
    {
     "data": {
      "text/plain": [
       "<Figure size 432x288 with 0 Axes>"
      ]
     },
     "metadata": {},
     "output_type": "display_data"
    },
    {
     "data": {
      "image/png": "[encoded data removed]",
      "text/plain": [
       "<Figure size 432x288 with 1 Axes>"
      ]
     },
     "metadata": {
      "needs_background": "light"
     },
     "output_type": "display_data"
    }
   ],
   "source": [
    "# Plot loss over time\n",
    "plt.figure()\n",
    "fig,ax = plt.subplots()\n",
    "ax.set_title('Loss per Epoch')\n",
    "ax.set_xlabel('Epoch')\n",
    "ax.set_ylabel('Loss')\n",
    "\n",
    "ax.plot(loss_vec, 'k-')\n",
    "\n",
    "fig.savefig('REGRESSION_FIG_08.png')"
   ]
  },
  {
   "cell_type": "markdown",
   "metadata": {
    "collapsed": true
   },
   "source": [
    "## E2006 Dataset"
   ]
  },
  {
   "cell_type": "markdown",
   "metadata": {},
   "source": [
    "Load data:\n"
   ]
  },
  {
   "cell_type": "code",
   "execution_count": 37,
   "metadata": {},
   "outputs": [],
   "source": [
    "from sklearn.datasets import load_svmlight_file\n",
    "data, target = load_svmlight_file('data/E2006.train')"
   ]
  },
  {
   "cell_type": "code",
   "execution_count": 41,
   "metadata": {},
   "outputs": [
    {
     "data": {
      "text/plain": [
       "(16087, 150360)"
      ]
     },
     "execution_count": 41,
     "metadata": {},
     "output_type": "execute_result"
    }
   ],
   "source": [
    "data.shape"
   ]
  },
  {
   "cell_type": "code",
   "execution_count": 43,
   "metadata": {},
   "outputs": [
    {
     "name": "stdout",
     "output_type": "stream",
     "text": [
      "Min target value: -7.89957807346873\n",
      "Max target value: -0.519409526940154\n",
      "Mean target value: -3.5140531366944456\n",
      "Std. dev. target: 0.6322783539114604\n"
     ]
    }
   ],
   "source": [
    "print('Min target value: {}'.format(target.min()))\n",
    "print('Max target value: {}'.format(target.max()))\n",
    "print('Mean target value: {}'.format(target.mean()))\n",
    "print('Std. dev. target: {}'.format(target.std()))"
   ]
  },
  {
   "cell_type": "markdown",
   "metadata": {},
   "source": [
    "Compute error on training data to demonstrate that we can obtain near perfect scores:"
   ]
  },
  {
   "cell_type": "code",
   "execution_count": 44,
   "metadata": {},
   "outputs": [
    {
     "name": "stdout",
     "output_type": "stream",
     "text": [
      "RMSE on training, 0.0024\n",
      "R2 on training, 1.0\n"
     ]
    }
   ],
   "source": [
    "lr = LinearRegression()\n",
    "lr.fit(data, target)\n",
    "pred = lr.predict(data) \n",
    "\n",
    "print('RMSE on training, {:.2}'.format(np.sqrt(mean_squared_error(target, pred))))\n",
    "print('R2 on training, {:.2}'.format(r2_score(target, pred)))"
   ]
  },
  {
   "cell_type": "markdown",
   "metadata": {},
   "source": [
    "However, we do not do so well on cross-validation:"
   ]
  },
  {
   "cell_type": "code",
   "execution_count": 45,
   "metadata": {},
   "outputs": [
    {
     "name": "stdout",
     "output_type": "stream",
     "text": [
      "RMSE on testing (5 fold), 0.75\n",
      "R2 on testing (5 fold), -0.43\n"
     ]
    }
   ],
   "source": [
    "kf = KFold(n_splits=5)\n",
    "pred = cross_val_predict(lr, data, target, cv=kf)\n",
    "\n",
    "print('RMSE on testing (5 fold), {:.2}'.format(np.sqrt(mean_squared_error(target, pred))))\n",
    "print('R2 on testing (5 fold), {:.2}'.format(r2_score(target, pred)))"
   ]
  },
  {
   "cell_type": "markdown",
   "metadata": {},
   "source": [
    "Now, we try _an Elastic net_:"
   ]
  },
  {
   "cell_type": "code",
   "execution_count": 46,
   "metadata": {},
   "outputs": [
    {
     "name": "stdout",
     "output_type": "stream",
     "text": [
      "[EN 0.1] RMSE on training: 0.4\n",
      "[EN 0.1] R2 on training: 0.61\n"
     ]
    }
   ],
   "source": [
    "# Edit the lines below if you want to switch method:                                                     \n",
    "met = ElasticNet(alpha=0.1)\n",
    "met.fit(data, target)\n",
    "pred = met.predict(data)\n",
    "\n",
    "print('[EN 0.1] RMSE on training: {:.2}'.format(np.sqrt(mean_squared_error(target, pred))))\n",
    "print('[EN 0.1] R2 on training: {:.2}'.format(r2_score(target, pred)))"
   ]
  },
  {
   "cell_type": "markdown",
   "metadata": {},
   "source": [
    "Not a perfect prediction on the training data anymore, but let us check the value on cross-validation:"
   ]
  },
  {
   "cell_type": "code",
   "execution_count": 47,
   "metadata": {},
   "outputs": [
    {
     "name": "stdout",
     "output_type": "stream",
     "text": [
      "[EN 0.1] RMSE on testing (5 fold): 0.4\n",
      "[EN 0.1] R2 on testing (5 fold): 0.61\n"
     ]
    }
   ],
   "source": [
    "pred = cross_val_predict(met, data, target, cv=kf)\n",
    "\n",
    "print('[EN 0.1] RMSE on testing (5 fold): {:.2}'.format(np.sqrt(mean_squared_error(target, pred))))\n",
    "print('[EN 0.1] R2 on testing (5 fold): {:.2}'.format(r2_score(target, pred)))"
   ]
  },
  {
   "cell_type": "markdown",
   "metadata": {},
   "source": [
    "We now use `ElasticNetCV` to set parameters automatically:"
   ]
  },
  {
   "cell_type": "code",
   "execution_count": 48,
   "metadata": {},
   "outputs": [
    {
     "name": "stderr",
     "output_type": "stream",
     "text": [
      "C:\\Anaconda3\\lib\\site-packages\\sklearn\\model_selection\\_split.py:2053: FutureWarning: You should specify a value for 'cv' instead of relying on the default value. The default value will change from 3 to 5 in version 0.22.\n",
      "  warnings.warn(CV_WARNING, FutureWarning)\n"
     ]
    },
    {
     "name": "stdout",
     "output_type": "stream",
     "text": [
      "[EN CV] RMSE on training, 0.37\n",
      "[EN CV] R2 on training, 0.65\n"
     ]
    },
    {
     "name": "stderr",
     "output_type": "stream",
     "text": [
      "C:\\Anaconda3\\lib\\site-packages\\sklearn\\model_selection\\_split.py:2053: FutureWarning: You should specify a value for 'cv' instead of relying on the default value. The default value will change from 3 to 5 in version 0.22.\n",
      "  warnings.warn(CV_WARNING, FutureWarning)\n",
      "C:\\Anaconda3\\lib\\site-packages\\sklearn\\model_selection\\_split.py:2053: FutureWarning: You should specify a value for 'cv' instead of relying on the default value. The default value will change from 3 to 5 in version 0.22.\n",
      "  warnings.warn(CV_WARNING, FutureWarning)\n",
      "C:\\Anaconda3\\lib\\site-packages\\sklearn\\model_selection\\_split.py:2053: FutureWarning: You should specify a value for 'cv' instead of relying on the default value. The default value will change from 3 to 5 in version 0.22.\n",
      "  warnings.warn(CV_WARNING, FutureWarning)\n",
      "C:\\Anaconda3\\lib\\site-packages\\sklearn\\model_selection\\_split.py:2053: FutureWarning: You should specify a value for 'cv' instead of relying on the default value. The default value will change from 3 to 5 in version 0.22.\n",
      "  warnings.warn(CV_WARNING, FutureWarning)\n",
      "C:\\Anaconda3\\lib\\site-packages\\sklearn\\model_selection\\_split.py:2053: FutureWarning: You should specify a value for 'cv' instead of relying on the default value. The default value will change from 3 to 5 in version 0.22.\n",
      "  warnings.warn(CV_WARNING, FutureWarning)\n"
     ]
    },
    {
     "name": "stdout",
     "output_type": "stream",
     "text": [
      "[EN CV] RMSE on testing (5 fold), 0.37\n",
      "[EN CV] R2 on testing (5 fold), 0.65\n"
     ]
    }
   ],
   "source": [
    "from sklearn.linear_model import ElasticNetCV\n",
    "# Construct an ElasticNetCV object (use all available CPUs)\n",
    "met = ElasticNetCV(n_jobs=-1)\n",
    "\n",
    "met.fit(data, target)\n",
    "pred = met.predict(data)\n",
    "print('[EN CV] RMSE on training, {:.2}'.format(np.sqrt(mean_squared_error(target, pred))))\n",
    "print('[EN CV] R2 on training, {:.2}'.format(r2_score(target, pred)))\n",
    "\n",
    "pred = cross_val_predict(met, data, target, cv=kf)\n",
    "print('[EN CV] RMSE on testing (5 fold), {:.2}'.format(np.sqrt(mean_squared_error(target, pred))))\n",
    "print('[EN CV] R2 on testing (5 fold), {:.2}'.format(r2_score(target, pred)))"
   ]
  },
  {
   "cell_type": "markdown",
   "metadata": {},
   "source": [
    "This is a a pretty good general-purpose regression object:"
   ]
  },
  {
   "cell_type": "code",
   "execution_count": 49,
   "metadata": {
    "scrolled": true
   },
   "outputs": [
    {
     "name": "stderr",
     "output_type": "stream",
     "text": [
      "C:\\Anaconda3\\lib\\site-packages\\sklearn\\model_selection\\_split.py:2053: FutureWarning: You should specify a value for 'cv' instead of relying on the default value. The default value will change from 3 to 5 in version 0.22.\n",
      "  warnings.warn(CV_WARNING, FutureWarning)\n",
      "C:\\Anaconda3\\lib\\site-packages\\sklearn\\model_selection\\_split.py:2053: FutureWarning: You should specify a value for 'cv' instead of relying on the default value. The default value will change from 3 to 5 in version 0.22.\n",
      "  warnings.warn(CV_WARNING, FutureWarning)\n",
      "C:\\Anaconda3\\lib\\site-packages\\sklearn\\model_selection\\_split.py:2053: FutureWarning: You should specify a value for 'cv' instead of relying on the default value. The default value will change from 3 to 5 in version 0.22.\n",
      "  warnings.warn(CV_WARNING, FutureWarning)\n",
      "C:\\Anaconda3\\lib\\site-packages\\sklearn\\model_selection\\_split.py:2053: FutureWarning: You should specify a value for 'cv' instead of relying on the default value. The default value will change from 3 to 5 in version 0.22.\n",
      "  warnings.warn(CV_WARNING, FutureWarning)\n",
      "C:\\Anaconda3\\lib\\site-packages\\sklearn\\model_selection\\_split.py:2053: FutureWarning: You should specify a value for 'cv' instead of relying on the default value. The default value will change from 3 to 5 in version 0.22.\n",
      "  warnings.warn(CV_WARNING, FutureWarning)\n"
     ]
    },
    {
     "name": "stdout",
     "output_type": "stream",
     "text": [
      "[EN CV l1_ratio] RMSE on testing(5 fold), 0.37\n",
      "[EN CV l1_ratio] R2 on testing (5 fold), 0.65\n"
     ]
    }
   ],
   "source": [
    "# Construct an ElasticNetCV object (use all available CPUs)\n",
    "met = ElasticNetCV(n_jobs=-1, l1_ratio=[.01, .05, .25, .5, .75, .95, .99])\n",
    "\n",
    "pred = cross_val_predict(met, data, target, cv=kf)\n",
    "\n",
    "print('[EN CV l1_ratio] RMSE on testing(5 fold), {:.2}'.format(np.sqrt(mean_squared_error(target, pred))))\n",
    "print('[EN CV l1_ratio] R2 on testing (5 fold), {:.2}'.format(r2_score(target, pred)))"
   ]
  },
  {
   "cell_type": "markdown",
   "metadata": {},
   "source": [
    "Now the final result:"
   ]
  },
  {
   "cell_type": "code",
   "execution_count": 54,
   "metadata": {},
   "outputs": [
    {
     "data": {
      "image/png": "[encoded data removed]",
      "text/plain": [
       "<Figure size 432x288 with 1 Axes>"
      ]
     },
     "metadata": {
      "needs_background": "light"
     },
     "output_type": "display_data"
    }
   ],
   "source": [
    "fig, ax = plt.subplots()\n",
    "ax.scatter(target, pred, c='k', s=1)\n",
    "#ax.plot([-5,-1], [-5,-1], 'r-', lw=2)\n",
    "ax.plot([pred.min(), pred.max()], [pred.min(), pred.max()], 'r-', lw=2)\n",
    "ax.set_xlabel('Actual value')\n",
    "ax.set_ylabel('Predicted value')\n",
    "fig.savefig('REGRESSION_FIG_05.png')"
   ]
  }
 ],
 "metadata": {
  "anaconda-cloud": {},
  "kernelspec": {
   "display_name": "Python 3",
   "language": "python",
   "name": "python3"
  },
  "language_info": {
   "codemirror_mode": {
    "name": "ipython",
    "version": 3
   },
   "file_extension": ".py",
   "mimetype": "text/x-python",
   "name": "python",
   "nbconvert_exporter": "python",
   "pygments_lexer": "ipython3",
   "version": "3.7.3"
  }
 },
 "nbformat": 4,
 "nbformat_minor": 2
}
