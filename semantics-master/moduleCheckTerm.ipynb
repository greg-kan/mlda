{
 "cells": [
  {
   "cell_type": "code",
   "execution_count": 1,
   "metadata": {},
   "outputs": [],
   "source": [
    "import os\n",
    "import psycopg2\n",
    "import xlwt\n",
    "import numpy as np\n",
    "import pandas as pd"
   ]
  },
  {
   "cell_type": "code",
   "execution_count": 2,
   "metadata": {},
   "outputs": [],
   "source": [
    "import warnings\n",
    "warnings.filterwarnings(action='ignore', category=UserWarning, module='gensim')\n",
    "from gensim.models import KeyedVectors"
   ]
  },
  {
   "cell_type": "code",
   "execution_count": 3,
   "metadata": {},
   "outputs": [],
   "source": [
    "def searchTermInDB(term):\n",
    "    conn = psycopg2.connect(host=\"localhost\", database=\"terms\", user=\"postgres\", password=\"admin\")\n",
    "    cur = conn.cursor()\n",
    "    sql1 = \"select doc_code from v_terms_n where term = %s\"\n",
    "    cur.execute(sql1, (term,))\n",
    "    docs = cur.fetchall()\n",
    "    cur.close()\n",
    "    conn.close()\n",
    "\n",
    "    return docs"
   ]
  },
  {
   "cell_type": "code",
   "execution_count": 4,
   "metadata": {},
   "outputs": [],
   "source": [
    "term = \"безопасность\"\n",
    "\n",
    "\n",
    "docs = searchTermInDB(term)\n",
    "term = term.replace(' ', '_')"
   ]
  },
  {
   "cell_type": "code",
   "execution_count": 5,
   "metadata": {},
   "outputs": [],
   "source": [
    "if len(docs) == 0:\n",
    "    pass\n",
    "else:\n",
    "    df = pd.DataFrame(columns=[d[0] for d in docs]) #index=[d[0] for d in docs]"
   ]
  },
  {
   "cell_type": "code",
   "execution_count": 6,
   "metadata": {},
   "outputs": [
    {
     "name": "stderr",
     "output_type": "stream",
     "text": [
      "C:\\Anaconda3\\lib\\site-packages\\smart_open\\smart_open_lib.py:398: UserWarning: This function is deprecated, use smart_open.open instead. See the migration notes for details: https://github.com/RaRe-Technologies/smart_open/blob/master/README.rst#migrating-to-the-new-open-function\n",
      "  'See the migration notes for details: %s' % _MIGRATION_NOTES_URL\n",
      "C:\\Anaconda3\\lib\\site-packages\\ipykernel_launcher.py:5: DeprecationWarning: Call to deprecated `wv` (Attribute will be removed in 4.0.0, use self instead).\n",
      "  \"\"\"\n"
     ]
    },
    {
     "name": "stdout",
     "output_type": "stream",
     "text": [
      "[Errno 2] No such file or directory: 'C:/Users/gkanavenko/py_work/semantics-master/models/GOST 31937_2011.wv'\n",
      "[Errno 2] No such file or directory: 'C:/Users/gkanavenko/py_work/semantics-master/models/GOST 32019-2012.wv'\n",
      "[Errno 2] No such file or directory: 'C:/Users/gkanavenko/py_work/semantics-master/models/MDOC.wv'\n",
      "[Errno 2] No such file or directory: 'C:/Users/gkanavenko/py_work/semantics-master/models/MSP_ 3_02_102_2006.wv'\n",
      "[Errno 2] No such file or directory: 'C:/Users/gkanavenko/py_work/semantics-master/models/MSP_3_02_102_2006.wv'\n",
      "[Errno 2] No such file or directory: 'C:/Users/gkanavenko/py_work/semantics-master/models/PAS 1192.wv'\n",
      "[Errno 2] No such file or directory: 'C:/Users/gkanavenko/py_work/semantics-master/models/PR_2011_05_01.wv'\n",
      "[Errno 2] No such file or directory: 'C:/Users/gkanavenko/py_work/semantics-master/models/PR_2014_05_01.wv'\n",
      "[Errno 2] No such file or directory: 'C:/Users/gkanavenko/py_work/semantics-master/models/RDS 1_03_05_2011.wv'\n",
      "[Errno 2] No such file or directory: 'C:/Users/gkanavenko/py_work/semantics-master/models/SN 1_02_03_2011.wv'\n",
      "[Errno 2] No such file or directory: 'C:/Users/gkanavenko/py_work/semantics-master/models/SN 1_03_16_2013.wv'\n",
      "[Errno 2] No such file or directory: 'C:/Users/gkanavenko/py_work/semantics-master/models/SN 1_04_03_2013.wv'\n",
      "[Errno 2] No such file or directory: 'C:/Users/gkanavenko/py_work/semantics-master/models/SN 1_04_26_2011.wv'\n",
      "[Errno 2] No such file or directory: 'C:/Users/gkanavenko/py_work/semantics-master/models/SN 2_02_01_2014.wv'\n",
      "[Errno 2] No such file or directory: 'C:/Users/gkanavenko/py_work/semantics-master/models/SN 2_04_01_2011.wv'\n",
      "[Errno 2] No such file or directory: 'C:/Users/gkanavenko/py_work/semantics-master/models/SN 2_04_02_2011.wv'\n",
      "[Errno 2] No such file or directory: 'C:/Users/gkanavenko/py_work/semantics-master/models/SN_3_02-10-2011.wv'\n",
      "[Errno 2] No such file or directory: 'C:/Users/gkanavenko/py_work/semantics-master/models/SN_3_02_01_2012.wv'\n",
      "[Errno 2] No such file or directory: 'C:/Users/gkanavenko/py_work/semantics-master/models/SN_3_02_01_2018.wv'\n",
      "[Errno 2] No such file or directory: 'C:/Users/gkanavenko/py_work/semantics-master/models/SN_3_02_07_2014.wv'\n",
      "[Errno 2] No such file or directory: 'C:/Users/gkanavenko/py_work/semantics-master/models/SN_3_02_08_2013.wv'\n",
      "[Errno 2] No such file or directory: 'C:/Users/gkanavenko/py_work/semantics-master/models/SNIP 3_02_05_2010.wv'\n",
      "[Errno 2] No such file or directory: 'C:/Users/gkanavenko/py_work/semantics-master/models/SNIP_3_02_10_2010.wv'\n",
      "[Errno 2] No such file or directory: 'C:/Users/gkanavenko/py_work/semantics-master/models/SP 1_03_109_2016.wv'\n",
      "[Errno 2] No such file or directory: 'C:/Users/gkanavenko/py_work/semantics-master/models/SP 1_04_101_2012.wv'\n",
      "[Errno 2] No such file or directory: 'C:/Users/gkanavenko/py_work/semantics-master/models/SP 1_04_102_2012_.wv'\n",
      "[Errno 2] No such file or directory: 'C:/Users/gkanavenko/py_work/semantics-master/models/SP 1_04_103_2013.wv'\n",
      "[Errno 2] No such file or directory: 'C:/Users/gkanavenko/py_work/semantics-master/models/SP 1_04_110_2017.wv'\n",
      "[Errno 2] No such file or directory: 'C:/Users/gkanavenko/py_work/semantics-master/models/SP 2_02_101_2014.wv'\n",
      "[Errno 2] No such file or directory: 'C:/Users/gkanavenko/py_work/semantics-master/models/SP 2_04_104_2012.wv'\n",
      "[Errno 2] No such file or directory: 'C:/Users/gkanavenko/py_work/semantics-master/models/SP_3_02_10_2007.wv'\n",
      "[Errno 2] No such file or directory: 'C:/Users/gkanavenko/py_work/semantics-master/models/SP_3_02_101_2012.wv'\n",
      "[Errno 2] No such file or directory: 'C:/Users/gkanavenko/py_work/semantics-master/models/SP_3_02_101_2012_.wv'\n",
      "[Errno 2] No such file or directory: 'C:/Users/gkanavenko/py_work/semantics-master/models/SP_3_02_107_2014.wv'\n",
      "[Errno 2] No such file or directory: 'C:/Users/gkanavenko/py_work/semantics-master/models/SP_3_02_108_2013.wv'\n",
      "[Errno 2] No such file or directory: 'C:/Users/gkanavenko/py_work/semantics-master/models/SP_4_04_106_2013.wv'\n",
      "[Errno 2] No such file or directory: 'C:/Users/gkanavenko/py_work/semantics-master/models/V1400010332.wv'\n",
      "[Errno 2] No such file or directory: 'C:/Users/gkanavenko/py_work/semantics-master/models/V1500011729.wv'\n",
      "[Errno 2] No such file or directory: 'C:/Users/gkanavenko/py_work/semantics-master/models/V1600014858.wv'\n",
      "[Errno 2] No such file or directory: 'C:/Users/gkanavenko/py_work/semantics-master/models/V1700015501.wv'\n",
      "[Errno 2] No such file or directory: 'C:/Users/gkanavenko/py_work/semantics-master/models/V1700015511_TR.wv'\n",
      "\"word '%безопасность%' not in vocabulary\"\n",
      "\"word '%безопасность%' not in vocabulary\"\n",
      "\"word '%безопасность%' not in vocabulary\"\n"
     ]
    }
   ],
   "source": [
    "for doc in docs:\n",
    "    try:\n",
    "        fileName = \"C:/Users/gkanavenko/py_work/semantics-master/models/\" + doc[0] + \".wv\"\n",
    "        m = KeyedVectors.load(fileName, mmap='r')\n",
    "        ts = m.wv.most_similar('%' + term + '%')\n",
    "        for t in ts:\n",
    "            df.at[t[0], doc[0]] = t[1]\n",
    "            \n",
    "    except Exception as e:\n",
    "        print(e)            "
   ]
  },
  {
   "cell_type": "code",
   "execution_count": 12,
   "metadata": {},
   "outputs": [],
   "source": [
    "df.to_excel('C:/Users/gkanavenko/py_work/semantics-master/out/' + term + '.xls', sheet_name=term)"
   ]
  }
 ],
 "metadata": {
  "kernelspec": {
   "display_name": "Python 3",
   "language": "python",
   "name": "python3"
  },
  "language_info": {
   "codemirror_mode": {
    "name": "ipython",
    "version": 3
   },
   "file_extension": ".py",
   "mimetype": "text/x-python",
   "name": "python",
   "nbconvert_exporter": "python",
   "pygments_lexer": "ipython3",
   "version": "3.7.3"
  }
 },
 "nbformat": 4,
 "nbformat_minor": 2
}
