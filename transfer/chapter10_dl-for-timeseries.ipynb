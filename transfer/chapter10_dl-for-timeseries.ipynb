{
 "cells": [
  {
   "cell_type": "markdown",
   "metadata": {
    "colab_type": "text"
   },
   "source": [
    "This is a companion notebook for the book [Deep Learning with Python, Second Edition](https://www.manning.com/books/deep-learning-with-python-second-edition?a_aid=keras&a_bid=76564dff). For readability, it only contains runnable code blocks and section titles, and omits everything else in the book: text paragraphs, figures, and pseudocode.\n",
    "\n",
    "**If you want to be able to follow what's going on, I recommend reading the notebook side by side with your copy of the book.**\n",
    "\n",
    "This notebook was generated for TensorFlow 2.6."
   ]
  },
  {
   "cell_type": "markdown",
   "metadata": {
    "colab_type": "text"
   },
   "source": [
    "# Deep learning for timeseries"
   ]
  },
  {
   "cell_type": "markdown",
   "metadata": {
    "colab_type": "text"
   },
   "source": [
    "## Different kinds of timeseries tasks"
   ]
  },
  {
   "cell_type": "markdown",
   "metadata": {
    "colab_type": "text"
   },
   "source": [
    "## A temperature-forecasting example"
   ]
  },
  {
   "cell_type": "code",
   "execution_count": 1,
   "metadata": {
    "colab_type": "code"
   },
   "outputs": [],
   "source": [
    "#!wget https://s3.amazonaws.com/keras-datasets/jena_climate_2009_2016.csv.zip"
   ]
  },
  {
   "cell_type": "code",
   "execution_count": 2,
   "metadata": {},
   "outputs": [],
   "source": [
    "# !unzip jena_climate_2009_2016.csv.zip"
   ]
  },
  {
   "cell_type": "markdown",
   "metadata": {
    "colab_type": "text"
   },
   "source": [
    "**Inspecting the data of the Jena weather dataset**"
   ]
  },
  {
   "cell_type": "code",
   "execution_count": 3,
   "metadata": {
    "colab_type": "code"
   },
   "outputs": [
    {
     "name": "stdout",
     "output_type": "stream",
     "text": [
      "['\"Date Time\"', '\"p (mbar)\"', '\"T (degC)\"', '\"Tpot (K)\"', '\"Tdew (degC)\"', '\"rh (%)\"', '\"VPmax (mbar)\"', '\"VPact (mbar)\"', '\"VPdef (mbar)\"', '\"sh (g/kg)\"', '\"H2OC (mmol/mol)\"', '\"rho (g/m**3)\"', '\"wv (m/s)\"', '\"max. wv (m/s)\"', '\"wd (deg)\"']\n",
      "\n",
      "420451\n",
      "\n",
      "01.01.2009 00:10:00,996.52,-8.02,265.40,-8.90,93.30,3.33,3.11,0.22,1.94,3.12,1307.75,1.03,1.75,152.30\n",
      "01.01.2009 00:20:00,996.57,-8.41,265.01,-9.28,93.40,3.23,3.02,0.21,1.89,3.03,1309.80,0.72,1.50,136.10\n",
      "01.01.2009 00:30:00,996.53,-8.51,264.91,-9.31,93.90,3.21,3.01,0.20,1.88,3.02,1310.24,0.19,0.63,171.60\n",
      "01.01.2009 00:40:00,996.51,-8.31,265.12,-9.07,94.20,3.26,3.07,0.19,1.92,3.08,1309.19,0.34,0.50,198.00\n",
      "01.01.2009 00:50:00,996.51,-8.27,265.15,-9.04,94.10,3.27,3.08,0.19,1.92,3.09,1309.00,0.32,0.63,214.30\n",
      "01.01.2009 01:00:00,996.50,-8.05,265.38,-8.78,94.40,3.33,3.14,0.19,1.96,3.15,1307.86,0.21,0.63,192.70\n",
      "01.01.2009 01:10:00,996.50,-7.62,265.81,-8.30,94.80,3.44,3.26,0.18,2.04,3.27,1305.68,0.18,0.63,166.50\n",
      "01.01.2009 01:20:00,996.50,-7.62,265.81,-8.36,94.40,3.44,3.25,0.19,2.03,3.26,1305.69,0.19,0.50,118.60\n",
      "01.01.2009 01:30:00,996.50,-7.91,265.52,-8.73,93.80,3.36,3.15,0.21,1.97,3.16,1307.17,0.28,0.75,188.50\n",
      "01.01.2009 01:40:00,996.53,-8.43,264.99,-9.34,93.10,3.23,3.00,0.22,1.88,3.02,1309.85,0.59,0.88,185.00\n",
      "\n",
      "0 01.01.2009 00:10:00,996.52,-8.02,265.40,-8.90,93.30,3.33,3.11,0.22,1.94,3.12,1307.75,1.03,1.75,152.30\n",
      "1 01.01.2009 00:20:00,996.57,-8.41,265.01,-9.28,93.40,3.23,3.02,0.21,1.89,3.03,1309.80,0.72,1.50,136.10\n",
      "2 01.01.2009 00:30:00,996.53,-8.51,264.91,-9.31,93.90,3.21,3.01,0.20,1.88,3.02,1310.24,0.19,0.63,171.60\n",
      "3 01.01.2009 00:40:00,996.51,-8.31,265.12,-9.07,94.20,3.26,3.07,0.19,1.92,3.08,1309.19,0.34,0.50,198.00\n",
      "4 01.01.2009 00:50:00,996.51,-8.27,265.15,-9.04,94.10,3.27,3.08,0.19,1.92,3.09,1309.00,0.32,0.63,214.30\n",
      "5 01.01.2009 01:00:00,996.50,-8.05,265.38,-8.78,94.40,3.33,3.14,0.19,1.96,3.15,1307.86,0.21,0.63,192.70\n",
      "6 01.01.2009 01:10:00,996.50,-7.62,265.81,-8.30,94.80,3.44,3.26,0.18,2.04,3.27,1305.68,0.18,0.63,166.50\n",
      "7 01.01.2009 01:20:00,996.50,-7.62,265.81,-8.36,94.40,3.44,3.25,0.19,2.03,3.26,1305.69,0.19,0.50,118.60\n",
      "8 01.01.2009 01:30:00,996.50,-7.91,265.52,-8.73,93.80,3.36,3.15,0.21,1.97,3.16,1307.17,0.28,0.75,188.50\n",
      "9 01.01.2009 01:40:00,996.53,-8.43,264.99,-9.34,93.10,3.23,3.00,0.22,1.88,3.02,1309.85,0.59,0.88,185.00\n"
     ]
    }
   ],
   "source": [
    "import os\n",
    "fname = os.path.join(\"C:/Users/19483887/projects/datasets/jena_climate_2009_2016/jena_climate_2009_2016.csv\")\n",
    "\n",
    "with open(fname) as f:\n",
    "    data = f.read()\n",
    "\n",
    "lines = data.split(\"\\n\")\n",
    "header = lines[0].split(\",\")\n",
    "lines = lines[1:]\n",
    "print(header)\n",
    "print()\n",
    "print(len(lines))\n",
    "print()\n",
    "for i in range(10):\n",
    "    print(lines[i])\n",
    "print()    \n",
    "for i, line in enumerate(lines[:10]):\n",
    "    print(i, line)"
   ]
  },
  {
   "cell_type": "code",
   "execution_count": 4,
   "metadata": {},
   "outputs": [],
   "source": [
    "os.environ['TF_CPP_MIN_LOG_LEVEL'] = '2'\n",
    "os.environ['TF_ENABLE_ONEDNN_OPTS'] = '0'"
   ]
  },
  {
   "cell_type": "markdown",
   "metadata": {
    "colab_type": "text"
   },
   "source": [
    "**Parsing the data**"
   ]
  },
  {
   "cell_type": "code",
   "execution_count": 5,
   "metadata": {
    "colab_type": "code"
   },
   "outputs": [],
   "source": [
    "import numpy as np\n",
    "temperature = np.zeros((len(lines),))\n",
    "raw_data = np.zeros((len(lines), len(header) - 1))\n",
    "for i, line in enumerate(lines):\n",
    "    values = [float(x) for x in line.split(\",\")[1:]]\n",
    "    temperature[i] = values[1]\n",
    "    raw_data[i, :] = values[:]"
   ]
  },
  {
   "cell_type": "code",
   "execution_count": 6,
   "metadata": {},
   "outputs": [
    {
     "name": "stdout",
     "output_type": "stream",
     "text": [
      "[-8.02 -8.41 -8.51 -8.31 -8.27 -8.05 -7.62 -7.62 -7.91 -8.43 -8.76 -8.88\n",
      " -8.85 -8.83 -8.66 -8.66 -8.7  -8.81]\n"
     ]
    }
   ],
   "source": [
    "print(temperature[:18])"
   ]
  },
  {
   "cell_type": "code",
   "execution_count": 7,
   "metadata": {},
   "outputs": [
    {
     "name": "stdout",
     "output_type": "stream",
     "text": [
      "[[ 9.96520e+02 -8.02000e+00  2.65400e+02 -8.90000e+00  9.33000e+01\n",
      "   3.33000e+00  3.11000e+00  2.20000e-01  1.94000e+00  3.12000e+00\n",
      "   1.30775e+03  1.03000e+00  1.75000e+00  1.52300e+02]\n",
      " [ 9.96570e+02 -8.41000e+00  2.65010e+02 -9.28000e+00  9.34000e+01\n",
      "   3.23000e+00  3.02000e+00  2.10000e-01  1.89000e+00  3.03000e+00\n",
      "   1.30980e+03  7.20000e-01  1.50000e+00  1.36100e+02]\n",
      " [ 9.96530e+02 -8.51000e+00  2.64910e+02 -9.31000e+00  9.39000e+01\n",
      "   3.21000e+00  3.01000e+00  2.00000e-01  1.88000e+00  3.02000e+00\n",
      "   1.31024e+03  1.90000e-01  6.30000e-01  1.71600e+02]\n",
      " [ 9.96510e+02 -8.31000e+00  2.65120e+02 -9.07000e+00  9.42000e+01\n",
      "   3.26000e+00  3.07000e+00  1.90000e-01  1.92000e+00  3.08000e+00\n",
      "   1.30919e+03  3.40000e-01  5.00000e-01  1.98000e+02]\n",
      " [ 9.96510e+02 -8.27000e+00  2.65150e+02 -9.04000e+00  9.41000e+01\n",
      "   3.27000e+00  3.08000e+00  1.90000e-01  1.92000e+00  3.09000e+00\n",
      "   1.30900e+03  3.20000e-01  6.30000e-01  2.14300e+02]\n",
      " [ 9.96500e+02 -8.05000e+00  2.65380e+02 -8.78000e+00  9.44000e+01\n",
      "   3.33000e+00  3.14000e+00  1.90000e-01  1.96000e+00  3.15000e+00\n",
      "   1.30786e+03  2.10000e-01  6.30000e-01  1.92700e+02]\n",
      " [ 9.96500e+02 -7.62000e+00  2.65810e+02 -8.30000e+00  9.48000e+01\n",
      "   3.44000e+00  3.26000e+00  1.80000e-01  2.04000e+00  3.27000e+00\n",
      "   1.30568e+03  1.80000e-01  6.30000e-01  1.66500e+02]\n",
      " [ 9.96500e+02 -7.62000e+00  2.65810e+02 -8.36000e+00  9.44000e+01\n",
      "   3.44000e+00  3.25000e+00  1.90000e-01  2.03000e+00  3.26000e+00\n",
      "   1.30569e+03  1.90000e-01  5.00000e-01  1.18600e+02]\n",
      " [ 9.96500e+02 -7.91000e+00  2.65520e+02 -8.73000e+00  9.38000e+01\n",
      "   3.36000e+00  3.15000e+00  2.10000e-01  1.97000e+00  3.16000e+00\n",
      "   1.30717e+03  2.80000e-01  7.50000e-01  1.88500e+02]\n",
      " [ 9.96530e+02 -8.43000e+00  2.64990e+02 -9.34000e+00  9.31000e+01\n",
      "   3.23000e+00  3.00000e+00  2.20000e-01  1.88000e+00  3.02000e+00\n",
      "   1.30985e+03  5.90000e-01  8.80000e-01  1.85000e+02]\n",
      " [ 9.96620e+02 -8.76000e+00  2.64660e+02 -9.66000e+00  9.31000e+01\n",
      "   3.14000e+00  2.93000e+00  2.20000e-01  1.83000e+00  2.94000e+00\n",
      "   1.31164e+03  4.50000e-01  8.80000e-01  1.83200e+02]\n",
      " [ 9.96620e+02 -8.88000e+00  2.64540e+02 -9.77000e+00  9.32000e+01\n",
      "   3.12000e+00  2.90000e+00  2.10000e-01  1.81000e+00  2.91000e+00\n",
      "   1.31225e+03  2.50000e-01  6.30000e-01  1.90300e+02]\n",
      " [ 9.96630e+02 -8.85000e+00  2.64570e+02 -9.70000e+00  9.35000e+01\n",
      "   3.12000e+00  2.92000e+00  2.00000e-01  1.82000e+00  2.93000e+00\n",
      "   1.31211e+03  1.60000e-01  5.00000e-01  1.58300e+02]\n",
      " [ 9.96740e+02 -8.83000e+00  2.64580e+02 -9.68000e+00  9.35000e+01\n",
      "   3.13000e+00  2.92000e+00  2.00000e-01  1.83000e+00  2.93000e+00\n",
      "   1.31215e+03  3.60000e-01  6.30000e-01  1.84800e+02]\n",
      " [ 9.96810e+02 -8.66000e+00  2.64740e+02 -9.46000e+00  9.39000e+01\n",
      "   3.17000e+00  2.98000e+00  1.90000e-01  1.86000e+00  2.99000e+00\n",
      "   1.31137e+03  3.30000e-01  7.50000e-01  1.55900e+02]\n",
      " [ 9.96810e+02 -8.66000e+00  2.64740e+02 -9.50000e+00  9.36000e+01\n",
      "   3.17000e+00  2.97000e+00  2.00000e-01  1.85000e+00  2.98000e+00\n",
      "   1.31138e+03  7.00000e-02  5.00000e-01  2.72400e+02]\n",
      " [ 9.96860e+02 -8.70000e+00  2.64700e+02 -9.55000e+00  9.35000e+01\n",
      "   3.16000e+00  2.95000e+00  2.10000e-01  1.85000e+00  2.96000e+00\n",
      "   1.31164e+03  3.20000e-01  6.30000e-01  2.19200e+02]\n",
      " [ 9.96840e+02 -8.81000e+00  2.64590e+02 -9.66000e+00  9.35000e+01\n",
      "   3.13000e+00  2.93000e+00  2.00000e-01  1.83000e+00  2.94000e+00\n",
      "   1.31218e+03  1.80000e-01  6.30000e-01  1.67200e+02]]\n"
     ]
    }
   ],
   "source": [
    "print(raw_data[:18, :])"
   ]
  },
  {
   "cell_type": "markdown",
   "metadata": {
    "colab_type": "text"
   },
   "source": [
    "**Plotting the temperature timeseries**"
   ]
  },
  {
   "cell_type": "code",
   "execution_count": 8,
   "metadata": {
    "colab_type": "code"
   },
   "outputs": [
    {
     "data": {
      "text/plain": [
       "[<matplotlib.lines.Line2D at 0x1d73d8c6560>]"
      ]
     },
     "execution_count": 8,
     "metadata": {},
     "output_type": "execute_result"
    },
    {
     "data": {
      "image/png": "[encoded data removed]",
      "text/plain": [
       "<Figure size 640x480 with 1 Axes>"
      ]
     },
     "metadata": {},
     "output_type": "display_data"
    }
   ],
   "source": [
    "from matplotlib import pyplot as plt\n",
    "plt.plot(range(len(temperature)), temperature)"
   ]
  },
  {
   "cell_type": "markdown",
   "metadata": {
    "colab_type": "text"
   },
   "source": [
    "**Plotting the first 10 days of the temperature timeseries**"
   ]
  },
  {
   "cell_type": "code",
   "execution_count": 9,
   "metadata": {
    "colab_type": "code"
   },
   "outputs": [
    {
     "data": {
      "text/plain": [
       "[<matplotlib.lines.Line2D at 0x1d73e90afb0>]"
      ]
     },
     "execution_count": 9,
     "metadata": {},
     "output_type": "execute_result"
    },
    {
     "data": {
      "image/png": "[encoded data removed]",
      "text/plain": [
       "<Figure size 640x480 with 1 Axes>"
      ]
     },
     "metadata": {},
     "output_type": "display_data"
    }
   ],
   "source": [
    "plt.plot(range(1440), temperature[:1440])"
   ]
  },
  {
   "cell_type": "markdown",
   "metadata": {
    "colab_type": "text"
   },
   "source": [
    "**Computing the number of samples we'll use for each data split**"
   ]
  },
  {
   "cell_type": "code",
   "execution_count": 10,
   "metadata": {
    "colab_type": "code"
   },
   "outputs": [
    {
     "name": "stdout",
     "output_type": "stream",
     "text": [
      "num_train_samples: 210225\n",
      "num_val_samples: 105112\n",
      "num_test_samples: 105114\n"
     ]
    }
   ],
   "source": [
    "num_train_samples = int(0.5 * len(raw_data))\n",
    "num_val_samples = int(0.25 * len(raw_data))\n",
    "num_test_samples = len(raw_data) - num_train_samples - num_val_samples\n",
    "print(\"num_train_samples:\", num_train_samples)\n",
    "print(\"num_val_samples:\", num_val_samples)\n",
    "print(\"num_test_samples:\", num_test_samples)"
   ]
  },
  {
   "cell_type": "markdown",
   "metadata": {
    "colab_type": "text"
   },
   "source": [
    "### Preparing the data"
   ]
  },
  {
   "cell_type": "code",
   "execution_count": 11,
   "metadata": {
    "colab_type": "code"
   },
   "outputs": [],
   "source": [
    "import numpy as np\n",
    "from tensorflow import keras"
   ]
  },
  {
   "cell_type": "code",
   "execution_count": 12,
   "metadata": {},
   "outputs": [],
   "source": [
    "int_sequence = np.arange(10)\n",
    "dummy_dataset = keras.utils.timeseries_dataset_from_array(\n",
    "    data=int_sequence[:-3],\n",
    "    targets=int_sequence[3:],\n",
    "    sequence_length=3,\n",
    "    batch_size=2,\n",
    ")"
   ]
  },
  {
   "cell_type": "code",
   "execution_count": 13,
   "metadata": {},
   "outputs": [
    {
     "name": "stdout",
     "output_type": "stream",
     "text": [
      "tf.Tensor(\n",
      "[[0 1 2]\n",
      " [1 2 3]], shape=(2, 3), dtype=int32) tf.Tensor([3 4], shape=(2,), dtype=int32)\n",
      "tf.Tensor(\n",
      "[[2 3 4]\n",
      " [3 4 5]], shape=(2, 3), dtype=int32) tf.Tensor([5 6], shape=(2,), dtype=int32)\n",
      "tf.Tensor([[4 5 6]], shape=(1, 3), dtype=int32) tf.Tensor([7], shape=(1,), dtype=int32)\n"
     ]
    }
   ],
   "source": [
    "for inputs, targets in dummy_dataset:\n",
    "    print(inputs, targets)"
   ]
  },
  {
   "cell_type": "code",
   "execution_count": 14,
   "metadata": {},
   "outputs": [
    {
     "name": "stdout",
     "output_type": "stream",
     "text": [
      "[0, 1, 2] 3\n",
      "[1, 2, 3] 4\n",
      "[2, 3, 4] 5\n",
      "[3, 4, 5] 6\n",
      "[4, 5, 6] 7\n"
     ]
    }
   ],
   "source": [
    "for inputs, targets in dummy_dataset:\n",
    "    for i in range(inputs.shape[0]):\n",
    "        print([int(x) for x in inputs[i]], int(targets[i]))"
   ]
  },
  {
   "cell_type": "markdown",
   "metadata": {
    "colab_type": "text"
   },
   "source": [
    "**Instantiating dataset for training, firstly without shuffling for inspecting purpose**"
   ]
  },
  {
   "cell_type": "code",
   "execution_count": 15,
   "metadata": {},
   "outputs": [],
   "source": [
    "sampling_rate = 6\n",
    "sequence_length = 120\n",
    "delay = sampling_rate * (sequence_length + 24 - 1)\n",
    "batch_size = 256"
   ]
  },
  {
   "cell_type": "code",
   "execution_count": 16,
   "metadata": {
    "colab_type": "code"
   },
   "outputs": [],
   "source": [
    "train_dataset = keras.utils.timeseries_dataset_from_array(\n",
    "    raw_data[:-delay],\n",
    "    targets=temperature[delay:],\n",
    "    sampling_rate=sampling_rate,\n",
    "    sequence_length=sequence_length,\n",
    "    shuffle=False, ########## will be changed with True\n",
    "    batch_size=batch_size,\n",
    "    start_index=0,\n",
    "    end_index=num_train_samples)"
   ]
  },
  {
   "cell_type": "markdown",
   "metadata": {
    "colab_type": "text"
   },
   "source": [
    "**Inspecting the output of one of our datasets**"
   ]
  },
  {
   "cell_type": "code",
   "execution_count": 17,
   "metadata": {
    "colab_type": "code"
   },
   "outputs": [
    {
     "name": "stdout",
     "output_type": "stream",
     "text": [
      "samples shape: (256, 120, 14)\n",
      "targets shape: (256,)\n",
      "len of train_dataset: 819\n"
     ]
    }
   ],
   "source": [
    "for samples, targets in train_dataset:\n",
    "    print(\"samples shape:\", samples.shape)\n",
    "    print(\"targets shape:\", targets.shape)\n",
    "    break\n",
    "    \n",
    "print(\"len of train_dataset:\", len(train_dataset))"
   ]
  },
  {
   "cell_type": "markdown",
   "metadata": {},
   "source": [
    "**Inspecting the dataset**"
   ]
  },
  {
   "cell_type": "code",
   "execution_count": 18,
   "metadata": {},
   "outputs": [
    {
     "data": {
      "text/plain": [
       "209664"
      ]
     },
     "execution_count": 18,
     "metadata": {},
     "output_type": "execute_result"
    }
   ],
   "source": [
    "819*256"
   ]
  },
  {
   "cell_type": "code",
   "execution_count": 19,
   "metadata": {
    "scrolled": true
   },
   "outputs": [
    {
     "name": "stdout",
     "output_type": "stream",
     "text": [
      "tf.Tensor(\n",
      "[[[ 9.96520e+02 -8.02000e+00  2.65400e+02 ...  1.03000e+00  1.75000e+00\n",
      "    1.52300e+02]\n",
      "  [ 9.96500e+02 -7.62000e+00  2.65810e+02 ...  1.80000e-01  6.30000e-01\n",
      "    1.66500e+02]\n",
      "  [ 9.96630e+02 -8.85000e+00  2.64570e+02 ...  1.60000e-01  5.00000e-01\n",
      "    1.58300e+02]\n",
      "  ...\n",
      "  [ 9.96580e+02 -1.03200e+01  2.63100e+02 ...  2.79000e+00  4.38000e+00\n",
      "    1.44400e+01]\n",
      "  [ 9.97040e+02 -1.07400e+01  2.62640e+02 ...  2.74000e+00  3.75000e+00\n",
      "    2.28600e+01]\n",
      "  [ 9.97420e+02 -1.19600e+01  2.61390e+02 ...  2.12000e+00  3.38000e+00\n",
      "    2.77000e+00]]\n",
      "\n",
      " [[ 9.96570e+02 -8.41000e+00  2.65010e+02 ...  7.20000e-01  1.50000e+00\n",
      "    1.36100e+02]\n",
      "  [ 9.96500e+02 -7.62000e+00  2.65810e+02 ...  1.90000e-01  5.00000e-01\n",
      "    1.18600e+02]\n",
      "  [ 9.96740e+02 -8.83000e+00  2.64580e+02 ...  3.60000e-01  6.30000e-01\n",
      "    1.84800e+02]\n",
      "  ...\n",
      "  [ 9.96710e+02 -1.04100e+01  2.63000e+02 ...  2.40000e+00  4.38000e+00\n",
      "    1.65300e+01]\n",
      "  [ 9.97110e+02 -1.08800e+01  2.62500e+02 ...  2.54000e+00  4.00000e+00\n",
      "    1.83300e+01]\n",
      "  [ 9.97510e+02 -1.21600e+01  2.61190e+02 ...  2.01000e+00  3.00000e+00\n",
      "    5.68000e+00]]\n",
      "\n",
      " [[ 9.96530e+02 -8.51000e+00  2.64910e+02 ...  1.90000e-01  6.30000e-01\n",
      "    1.71600e+02]\n",
      "  [ 9.96500e+02 -7.91000e+00  2.65520e+02 ...  2.80000e-01  7.50000e-01\n",
      "    1.88500e+02]\n",
      "  [ 9.96810e+02 -8.66000e+00  2.64740e+02 ...  3.30000e-01  7.50000e-01\n",
      "    1.55900e+02]\n",
      "  ...\n",
      "  [ 9.96780e+02 -1.04400e+01  2.62960e+02 ...  2.97000e+00  4.88000e+00\n",
      "    2.65900e+01]\n",
      "  [ 9.97130e+02 -1.10900e+01  2.62290e+02 ...  3.20000e+00  4.38000e+00\n",
      "    1.44700e+01]\n",
      "  [ 9.97540e+02 -1.23000e+01  2.61040e+02 ...  1.56000e+00  2.75000e+00\n",
      "    3.51000e+02]]\n",
      "\n",
      " ...\n",
      "\n",
      " [[ 1.00092e+03 -3.20000e+00  2.69890e+02 ...  3.26000e+00  4.75000e+00\n",
      "    1.55500e+01]\n",
      "  [ 1.00140e+03 -3.36000e+00  2.69690e+02 ...  1.99000e+00  3.50000e+00\n",
      "    1.75200e+01]\n",
      "  [ 1.00201e+03 -3.36000e+00  2.69650e+02 ...  3.01000e+00  4.88000e+00\n",
      "    1.31500e+01]\n",
      "  ...\n",
      "  [ 9.91980e+02 -1.01900e+01  2.63580e+02 ...  5.60000e-01  1.13000e+00\n",
      "    1.47100e+02]\n",
      "  [ 9.92490e+02 -9.44000e+00  2.64290e+02 ...  7.00000e-01  1.88000e+00\n",
      "    1.98000e+02]\n",
      "  [ 9.92970e+02 -8.46000e+00  2.65230e+02 ...  1.07000e+00  2.13000e+00\n",
      "    1.82100e+02]]\n",
      "\n",
      " [[ 1.00098e+03 -3.23000e+00  2.69850e+02 ...  3.48000e+00  4.63000e+00\n",
      "    1.32900e+01]\n",
      "  [ 1.00146e+03 -3.36000e+00  2.69680e+02 ...  2.19000e+00  3.88000e+00\n",
      "    1.39600e+01]\n",
      "  [ 1.00203e+03 -3.36000e+00  2.69640e+02 ...  2.89000e+00  4.13000e+00\n",
      "    2.15200e+01]\n",
      "  ...\n",
      "  [ 9.92140e+02 -1.00300e+01  2.63720e+02 ...  1.28000e+00  2.38000e+00\n",
      "    1.49800e+02]\n",
      "  [ 9.92600e+02 -9.18000e+00  2.64540e+02 ...  5.60000e-01  1.38000e+00\n",
      "    2.22900e+02]\n",
      "  [ 9.93040e+02 -8.35000e+00  2.65340e+02 ...  8.70000e-01  2.00000e+00\n",
      "    1.27600e+02]]\n",
      "\n",
      " [[ 1.00113e+03 -3.29000e+00  2.69780e+02 ...  3.51000e+00  5.38000e+00\n",
      "    1.58100e+01]\n",
      "  [ 1.00157e+03 -3.36000e+00  2.69680e+02 ...  2.55000e+00  3.88000e+00\n",
      "    1.83800e+01]\n",
      "  [ 1.00213e+03 -3.36000e+00  2.69640e+02 ...  2.99000e+00  4.25000e+00\n",
      "    2.04200e+01]\n",
      "  ...\n",
      "  [ 9.92190e+02 -1.01200e+01  2.63630e+02 ...  1.25000e+00  3.38000e+00\n",
      "    1.28900e+02]\n",
      "  [ 9.92590e+02 -8.95000e+00  2.64770e+02 ...  9.00000e-01  1.63000e+00\n",
      "    1.78600e+02]\n",
      "  [ 9.93250e+02 -8.43000e+00  2.65240e+02 ...  4.80000e-01  1.13000e+00\n",
      "    1.09100e+02]]], shape=(256, 120, 14), dtype=float64)\n",
      "tf.Tensor(\n",
      "[-21.08 -21.07 -20.51 -20.48 -20.75 -21.09 -21.31 -20.97 -20.48 -20.26\n",
      " -21.17 -21.56 -21.65 -21.49 -21.46 -21.57 -21.24 -20.99 -20.94 -20.9\n",
      " -21.32 -22.07 -22.55 -22.76 -23.01 -22.91 -22.64 -22.38 -22.22 -22.39\n",
      " -22.1  -21.8  -22.25 -22.49 -22.31 -22.42 -22.31 -22.47 -22.26 -21.93\n",
      " -22.31 -22.13 -22.49 -22.41 -22.41 -21.93 -21.46 -21.42 -21.84 -22.2\n",
      " -22.3  -22.55 -22.63 -22.5  -22.54 -21.68 -21.43 -21.17 -21.16 -21.17\n",
      " -20.85 -21.35 -22.14 -22.1  -21.44 -20.34 -19.55 -18.44 -18.77 -18.87\n",
      " -19.04 -18.71 -18.64 -18.05 -17.65 -17.27 -17.12 -16.5  -15.86 -15.58\n",
      " -15.32 -15.04 -14.86 -14.39 -13.93 -13.08 -12.33 -12.05 -11.96 -12.15\n",
      " -12.28 -12.06 -11.89 -11.44 -10.84 -10.57 -10.34 -10.19 -10.03 -10.12\n",
      "  -9.84  -9.58  -9.4   -9.44  -9.18  -8.95  -8.65  -8.55  -8.47  -8.46\n",
      "  -8.35  -8.43  -8.26  -7.98  -8.02  -7.67  -7.65  -7.66  -7.53  -7.75\n",
      "  -7.46  -7.45  -7.81  -7.88  -7.92  -7.85  -8.27  -8.56  -8.62  -8.51\n",
      "  -8.5   -8.44  -8.56  -8.89  -9.3  -10.12 -10.07  -9.41  -9.3   -9.89\n",
      " -10.44 -10.83 -10.79 -10.68 -10.99 -10.91 -10.62 -10.73 -10.59 -10.78\n",
      " -10.6  -10.72 -11.29 -11.81 -11.78 -11.92 -12.13 -12.13 -11.97 -11.73\n",
      " -11.78 -11.64 -11.82 -12.27 -12.58 -12.55 -12.76 -12.96 -12.95 -13.06\n",
      " -13.1  -13.13 -12.8  -12.31 -12.08 -11.54 -11.89 -11.91 -12.12 -12.2\n",
      " -12.21 -12.31 -12.18 -11.94 -11.62 -11.4  -11.27 -11.23 -11.12 -11.26\n",
      " -11.18 -10.9  -10.67 -10.34 -10.06  -9.84  -9.85 -10.01 -10.   -10.03\n",
      "  -9.97 -10.08 -10.11 -10.04  -9.59  -9.21  -9.07  -8.85  -8.46  -8.07\n",
      "  -7.56  -7.02  -6.35  -6.31  -6.25  -6.53  -7.15  -6.91  -7.04  -6.84\n",
      "  -6.83  -6.84  -6.56  -6.47  -6.02  -5.37  -4.8   -4.27  -4.06  -4.2\n",
      "  -4.42  -4.42  -4.57  -4.73  -5.3   -5.34  -4.96  -4.69  -4.43  -4.27\n",
      "  -4.69  -5.1   -5.15  -5.37  -5.11  -4.97  -5.81  -6.61  -7.11  -7.34\n",
      "  -7.63  -7.77  -7.93  -8.27  -8.33  -8.44], shape=(256,), dtype=float64)\n"
     ]
    }
   ],
   "source": [
    "for samples, targets in train_dataset:\n",
    "    print(samples)\n",
    "    print(targets)\n",
    "    break"
   ]
  },
  {
   "cell_type": "code",
   "execution_count": 20,
   "metadata": {
    "scrolled": true
   },
   "outputs": [
    {
     "name": "stdout",
     "output_type": "stream",
     "text": [
      "tf.Tensor(\n",
      "[[ 9.96520e+02 -8.02000e+00  2.65400e+02 -8.90000e+00  9.33000e+01\n",
      "   3.33000e+00  3.11000e+00  2.20000e-01  1.94000e+00  3.12000e+00\n",
      "   1.30775e+03  1.03000e+00  1.75000e+00  1.52300e+02]\n",
      " [ 9.96500e+02 -7.62000e+00  2.65810e+02 -8.30000e+00  9.48000e+01\n",
      "   3.44000e+00  3.26000e+00  1.80000e-01  2.04000e+00  3.27000e+00\n",
      "   1.30568e+03  1.80000e-01  6.30000e-01  1.66500e+02]\n",
      " [ 9.96630e+02 -8.85000e+00  2.64570e+02 -9.70000e+00  9.35000e+01\n",
      "   3.12000e+00  2.92000e+00  2.00000e-01  1.82000e+00  2.93000e+00\n",
      "   1.31211e+03  1.60000e-01  5.00000e-01  1.58300e+02]\n",
      " [ 9.96870e+02 -8.84000e+00  2.64560e+02 -9.69000e+00  9.35000e+01\n",
      "   3.13000e+00  2.92000e+00  2.00000e-01  1.83000e+00  2.93000e+00\n",
      "   1.31237e+03  7.00000e-02  2.50000e-01  1.29300e+02]\n",
      " [ 9.97050e+02 -9.23000e+00  2.64150e+02 -1.02500e+01  9.22000e+01\n",
      "   3.03000e+00  2.79000e+00  2.40000e-01  1.74000e+00  2.80000e+00\n",
      "   1.31462e+03  1.00000e-01  3.80000e-01  2.03900e+02]\n",
      " [ 9.97430e+02 -9.67000e+00  2.63680e+02 -1.06300e+01  9.26000e+01\n",
      "   2.93000e+00  2.71000e+00  2.20000e-01  1.69000e+00  2.72000e+00\n",
      "   1.31735e+03  3.60000e-01  7.50000e-01  1.32500e+02]\n",
      " [ 9.97810e+02 -9.59000e+00  2.63740e+02 -1.04700e+01  9.32000e+01\n",
      "   2.95000e+00  2.74000e+00  2.00000e-01  1.71000e+00  2.75000e+00\n",
      "   1.31744e+03  2.40000e-01  7.50000e-01  1.61600e+02]\n",
      " [ 9.98500e+02 -8.71000e+00  2.64560e+02 -9.63000e+00  9.30000e+01\n",
      "   3.16000e+00  2.94000e+00  2.20000e-01  1.83000e+00  2.94000e+00\n",
      "   1.31387e+03  2.06000e+00  2.75000e+00  3.38100e+02]\n",
      " [ 9.99270e+02 -8.14000e+00  2.65080e+02 -9.12000e+00  9.26000e+01\n",
      "   3.30000e+00  3.06000e+00  2.40000e-01  1.91000e+00  3.06000e+00\n",
      "   1.31198e+03  7.10000e-01  1.00000e+00  2.41400e+02]\n",
      " [ 9.99790e+02 -7.71000e+00  2.65470e+02 -8.87000e+00  9.13000e+01\n",
      "   3.41000e+00  3.12000e+00  3.00000e-01  1.94000e+00  3.12000e+00\n",
      "   1.31051e+03  1.40000e-01  5.00000e-01  2.35000e+02]], shape=(10, 14), dtype=float64)\n"
     ]
    }
   ],
   "source": [
    "print(samples[0, :10])"
   ]
  },
  {
   "cell_type": "code",
   "execution_count": 21,
   "metadata": {
    "scrolled": true
   },
   "outputs": [
    {
     "name": "stdout",
     "output_type": "stream",
     "text": [
      "tf.Tensor(\n",
      "[[ 9.96500e+02 -7.62000e+00  2.65810e+02 -8.30000e+00  9.48000e+01\n",
      "   3.44000e+00  3.26000e+00  1.80000e-01  2.04000e+00  3.27000e+00\n",
      "   1.30568e+03  1.80000e-01  6.30000e-01  1.66500e+02]\n",
      " [ 9.96630e+02 -8.85000e+00  2.64570e+02 -9.70000e+00  9.35000e+01\n",
      "   3.12000e+00  2.92000e+00  2.00000e-01  1.82000e+00  2.93000e+00\n",
      "   1.31211e+03  1.60000e-01  5.00000e-01  1.58300e+02]\n",
      " [ 9.96870e+02 -8.84000e+00  2.64560e+02 -9.69000e+00  9.35000e+01\n",
      "   3.13000e+00  2.92000e+00  2.00000e-01  1.83000e+00  2.93000e+00\n",
      "   1.31237e+03  7.00000e-02  2.50000e-01  1.29300e+02]\n",
      " [ 9.97050e+02 -9.23000e+00  2.64150e+02 -1.02500e+01  9.22000e+01\n",
      "   3.03000e+00  2.79000e+00  2.40000e-01  1.74000e+00  2.80000e+00\n",
      "   1.31462e+03  1.00000e-01  3.80000e-01  2.03900e+02]\n",
      " [ 9.97430e+02 -9.67000e+00  2.63680e+02 -1.06300e+01  9.26000e+01\n",
      "   2.93000e+00  2.71000e+00  2.20000e-01  1.69000e+00  2.72000e+00\n",
      "   1.31735e+03  3.60000e-01  7.50000e-01  1.32500e+02]\n",
      " [ 9.97810e+02 -9.59000e+00  2.63740e+02 -1.04700e+01  9.32000e+01\n",
      "   2.95000e+00  2.74000e+00  2.00000e-01  1.71000e+00  2.75000e+00\n",
      "   1.31744e+03  2.40000e-01  7.50000e-01  1.61600e+02]\n",
      " [ 9.98500e+02 -8.71000e+00  2.64560e+02 -9.63000e+00  9.30000e+01\n",
      "   3.16000e+00  2.94000e+00  2.20000e-01  1.83000e+00  2.94000e+00\n",
      "   1.31387e+03  2.06000e+00  2.75000e+00  3.38100e+02]\n",
      " [ 9.99270e+02 -8.14000e+00  2.65080e+02 -9.12000e+00  9.26000e+01\n",
      "   3.30000e+00  3.06000e+00  2.40000e-01  1.91000e+00  3.06000e+00\n",
      "   1.31198e+03  7.10000e-01  1.00000e+00  2.41400e+02]\n",
      " [ 9.99790e+02 -7.71000e+00  2.65470e+02 -8.87000e+00  9.13000e+01\n",
      "   3.41000e+00  3.12000e+00  3.00000e-01  1.94000e+00  3.12000e+00\n",
      "   1.31051e+03  1.40000e-01  5.00000e-01  2.35000e+02]\n",
      " [ 1.00043e+03 -7.03000e+00  2.66100e+02 -8.16000e+00  9.16000e+01\n",
      "   3.60000e+00  3.30000e+00  3.00000e-01  2.05000e+00  3.30000e+00\n",
      "   1.30791e+03  1.12000e+00  2.75000e+00  2.66300e+02]], shape=(10, 14), dtype=float64)\n"
     ]
    }
   ],
   "source": [
    "print(samples[6, :10])"
   ]
  },
  {
   "cell_type": "markdown",
   "metadata": {},
   "source": [
    "**Normalizing the data**"
   ]
  },
  {
   "cell_type": "code",
   "execution_count": 22,
   "metadata": {},
   "outputs": [],
   "source": [
    "mean = raw_data[:num_train_samples].mean(axis=0)\n",
    "raw_data -= mean\n",
    "std = raw_data[:num_train_samples].std(axis=0)\n",
    "raw_data /= std"
   ]
  },
  {
   "cell_type": "markdown",
   "metadata": {},
   "source": [
    "**Instantiating datasets for training, validation, and testing.**"
   ]
  },
  {
   "cell_type": "code",
   "execution_count": 23,
   "metadata": {},
   "outputs": [],
   "source": [
    "train_dataset = keras.utils.timeseries_dataset_from_array(\n",
    "    raw_data[:-delay],\n",
    "    targets=temperature[delay:],\n",
    "    sampling_rate=sampling_rate,\n",
    "    sequence_length=sequence_length,\n",
    "    shuffle=True,\n",
    "    batch_size=batch_size,\n",
    "    start_index=0,\n",
    "    end_index=num_train_samples)\n",
    "\n",
    "val_dataset = keras.utils.timeseries_dataset_from_array(\n",
    "    raw_data[:-delay],\n",
    "    targets=temperature[delay:],\n",
    "    sampling_rate=sampling_rate,\n",
    "    sequence_length=sequence_length,\n",
    "    shuffle=True,\n",
    "    batch_size=batch_size,\n",
    "    start_index=num_train_samples,\n",
    "    end_index=num_train_samples + num_val_samples)\n",
    "\n",
    "test_dataset = keras.utils.timeseries_dataset_from_array(\n",
    "    raw_data[:-delay],\n",
    "    targets=temperature[delay:],\n",
    "    sampling_rate=sampling_rate,\n",
    "    sequence_length=sequence_length,\n",
    "    shuffle=True,\n",
    "    batch_size=batch_size,\n",
    "    start_index=num_train_samples + num_val_samples)"
   ]
  },
  {
   "cell_type": "markdown",
   "metadata": {
    "colab_type": "text"
   },
   "source": [
    "### A common-sense, non-machine-learning baseline"
   ]
  },
  {
   "cell_type": "markdown",
   "metadata": {
    "colab_type": "text"
   },
   "source": [
    "**Computing the common-sense baseline MAE**"
   ]
  },
  {
   "cell_type": "code",
   "execution_count": 24,
   "metadata": {
    "colab_type": "code"
   },
   "outputs": [
    {
     "name": "stdout",
     "output_type": "stream",
     "text": [
      "Validation MAE: 2.44\n",
      "Test MAE: 2.62\n"
     ]
    }
   ],
   "source": [
    "def evaluate_naive_method(dataset):\n",
    "    total_abs_err = 0.\n",
    "    samples_seen = 0\n",
    "    for samples, targets in dataset:\n",
    "        preds = samples[:, -1, 1] * std[1] + mean[1]\n",
    "        total_abs_err += np.sum(np.abs(preds - targets))\n",
    "        samples_seen += samples.shape[0]\n",
    "    return total_abs_err / samples_seen\n",
    "\n",
    "print(f\"Validation MAE: {evaluate_naive_method(val_dataset):.2f}\")\n",
    "print(f\"Test MAE: {evaluate_naive_method(test_dataset):.2f}\")"
   ]
  },
  {
   "cell_type": "markdown",
   "metadata": {
    "colab_type": "text"
   },
   "source": [
    "### Let's try a basic machine-learning model"
   ]
  },
  {
   "cell_type": "markdown",
   "metadata": {
    "colab_type": "text"
   },
   "source": [
    "**Training and evaluating a densely connected model**"
   ]
  },
  {
   "cell_type": "code",
   "execution_count": 25,
   "metadata": {
    "colab_type": "code"
   },
   "outputs": [
    {
     "name": "stdout",
     "output_type": "stream",
     "text": [
      "Epoch 1/10\n",
      "819/819 [==============================] - 16s 19ms/step - loss: 13.2992 - mae: 2.8268 - val_loss: 13.4975 - val_mae: 2.9281\n",
      "Epoch 2/10\n",
      "819/819 [==============================] - 14s 18ms/step - loss: 9.4577 - mae: 2.4176 - val_loss: 11.4617 - val_mae: 2.6851\n",
      "Epoch 3/10\n",
      "819/819 [==============================] - 14s 17ms/step - loss: 8.5730 - mae: 2.3087 - val_loss: 9.9660 - val_mae: 2.4775\n",
      "Epoch 4/10\n",
      "819/819 [==============================] - 15s 18ms/step - loss: 8.1092 - mae: 2.2476 - val_loss: 10.3159 - val_mae: 2.5307\n",
      "Epoch 5/10\n",
      "819/819 [==============================] - 16s 19ms/step - loss: 7.7314 - mae: 2.1974 - val_loss: 12.9077 - val_mae: 2.8530\n",
      "Epoch 6/10\n",
      "819/819 [==============================] - 17s 21ms/step - loss: 7.4757 - mae: 2.1620 - val_loss: 12.2917 - val_mae: 2.7539\n",
      "Epoch 7/10\n",
      "819/819 [==============================] - 20s 24ms/step - loss: 7.2473 - mae: 2.1297 - val_loss: 11.0551 - val_mae: 2.6070\n",
      "Epoch 8/10\n",
      "819/819 [==============================] - 21s 25ms/step - loss: 7.0668 - mae: 2.1026 - val_loss: 11.2860 - val_mae: 2.6612\n",
      "Epoch 9/10\n",
      "819/819 [==============================] - 20s 25ms/step - loss: 6.9313 - mae: 2.0809 - val_loss: 10.6877 - val_mae: 2.5686\n",
      "Epoch 10/10\n",
      "819/819 [==============================] - 22s 27ms/step - loss: 6.7760 - mae: 2.0588 - val_loss: 12.9297 - val_mae: 2.8603\n",
      "405/405 [==============================] - 7s 17ms/step - loss: 10.9765 - mae: 2.6026\n",
      "Test MAE: 2.60\n"
     ]
    }
   ],
   "source": [
    "from tensorflow import keras\n",
    "from tensorflow.keras import layers\n",
    "\n",
    "inputs = keras.Input(shape=(sequence_length, raw_data.shape[-1]))\n",
    "x = layers.Flatten()(inputs)\n",
    "x = layers.Dense(16, activation=\"relu\")(x)\n",
    "outputs = layers.Dense(1)(x)\n",
    "model = keras.Model(inputs, outputs)\n",
    "\n",
    "callbacks = [\n",
    "    keras.callbacks.ModelCheckpoint(\"jena_dense.keras\",\n",
    "                                    save_best_only=True)\n",
    "]\n",
    "model.compile(optimizer=\"rmsprop\", loss=\"mse\", metrics=[\"mae\"])\n",
    "history = model.fit(train_dataset,\n",
    "                    epochs=10,\n",
    "                    validation_data=val_dataset,\n",
    "                    callbacks=callbacks)\n",
    "\n",
    "model = keras.models.load_model(\"jena_dense.keras\")\n",
    "print(f\"Test MAE: {model.evaluate(test_dataset)[1]:.2f}\")"
   ]
  },
  {
   "cell_type": "markdown",
   "metadata": {
    "colab_type": "text"
   },
   "source": [
    "**Plotting results**"
   ]
  },
  {
   "cell_type": "code",
   "execution_count": 26,
   "metadata": {
    "colab_type": "code"
   },
   "outputs": [
    {
     "data": {
      "image/png": "[encoded data removed]",
      "text/plain": [
       "<Figure size 640x480 with 1 Axes>"
      ]
     },
     "metadata": {},
     "output_type": "display_data"
    }
   ],
   "source": [
    "import matplotlib.pyplot as plt\n",
    "loss = history.history[\"mae\"]\n",
    "val_loss = history.history[\"val_mae\"]\n",
    "epochs = range(1, len(loss) + 1)\n",
    "plt.figure()\n",
    "plt.plot(epochs, loss, \"bo\", label=\"Training MAE\")\n",
    "plt.plot(epochs, val_loss, \"b\", label=\"Validation MAE\")\n",
    "plt.title(\"Training and validation MAE\")\n",
    "plt.legend()\n",
    "plt.show()"
   ]
  },
  {
   "cell_type": "markdown",
   "metadata": {
    "colab_type": "text"
   },
   "source": [
    "### Let's try a 1D convolutional model"
   ]
  },
  {
   "cell_type": "code",
   "execution_count": 27,
   "metadata": {
    "colab_type": "code"
   },
   "outputs": [
    {
     "name": "stdout",
     "output_type": "stream",
     "text": [
      "Epoch 1/10\n",
      "819/819 [==============================] - 92s 111ms/step - loss: 23.3197 - mae: 3.7756 - val_loss: 14.9681 - val_mae: 3.0679\n",
      "Epoch 2/10\n",
      "819/819 [==============================] - 92s 113ms/step - loss: 16.9516 - mae: 3.2223 - val_loss: 13.2209 - val_mae: 2.8607\n",
      "Epoch 3/10\n",
      "819/819 [==============================] - 90s 110ms/step - loss: 14.5048 - mae: 2.9977 - val_loss: 14.6163 - val_mae: 3.0138\n",
      "Epoch 4/10\n",
      "819/819 [==============================] - 115s 140ms/step - loss: 13.2999 - mae: 2.8811 - val_loss: 13.6894 - val_mae: 2.8987\n",
      "Epoch 5/10\n",
      "819/819 [==============================] - 117s 142ms/step - loss: 12.5963 - mae: 2.8028 - val_loss: 13.5233 - val_mae: 2.8897\n",
      "Epoch 6/10\n",
      "819/819 [==============================] - 94s 115ms/step - loss: 12.0497 - mae: 2.7434 - val_loss: 13.6011 - val_mae: 2.8955\n",
      "Epoch 7/10\n",
      "819/819 [==============================] - 91s 111ms/step - loss: 11.5891 - mae: 2.6884 - val_loss: 16.2304 - val_mae: 3.1669\n",
      "Epoch 8/10\n",
      "819/819 [==============================] - 91s 111ms/step - loss: 11.1808 - mae: 2.6422 - val_loss: 13.9699 - val_mae: 2.9463\n",
      "Epoch 9/10\n",
      "819/819 [==============================] - 89s 109ms/step - loss: 10.8493 - mae: 2.6022 - val_loss: 13.7531 - val_mae: 2.9128\n",
      "Epoch 10/10\n",
      "819/819 [==============================] - 94s 115ms/step - loss: 10.5405 - mae: 2.5636 - val_loss: 15.1537 - val_mae: 3.0690\n",
      "405/405 [==============================] - 9s 22ms/step - loss: 15.1514 - mae: 3.0816\n",
      "Test MAE: 3.08\n"
     ]
    }
   ],
   "source": [
    "inputs = keras.Input(shape=(sequence_length, raw_data.shape[-1]))\n",
    "x = layers.Conv1D(8, 24, activation=\"relu\")(inputs)\n",
    "x = layers.MaxPooling1D(2)(x)\n",
    "x = layers.Conv1D(8, 12, activation=\"relu\")(x)\n",
    "x = layers.MaxPooling1D(2)(x)\n",
    "x = layers.Conv1D(8, 6, activation=\"relu\")(x)\n",
    "x = layers.GlobalAveragePooling1D()(x)\n",
    "outputs = layers.Dense(1)(x)\n",
    "model = keras.Model(inputs, outputs)\n",
    "\n",
    "callbacks = [\n",
    "    keras.callbacks.ModelCheckpoint(\"jena_conv.keras\",\n",
    "                                    save_best_only=True)\n",
    "]\n",
    "model.compile(optimizer=\"rmsprop\", loss=\"mse\", metrics=[\"mae\"])\n",
    "history = model.fit(train_dataset,\n",
    "                    epochs=10,\n",
    "                    validation_data=val_dataset,\n",
    "                    callbacks=callbacks)\n",
    "\n",
    "model = keras.models.load_model(\"jena_conv.keras\")\n",
    "print(f\"Test MAE: {model.evaluate(test_dataset)[1]:.2f}\")"
   ]
  },
  {
   "cell_type": "markdown",
   "metadata": {
    "colab_type": "text"
   },
   "source": [
    "### A first recurrent baseline"
   ]
  },
  {
   "cell_type": "markdown",
   "metadata": {
    "colab_type": "text"
   },
   "source": [
    "**A simple LSTM-based model**"
   ]
  },
  {
   "cell_type": "code",
   "execution_count": 29,
   "metadata": {},
   "outputs": [
    {
     "data": {
      "text/plain": [
       "(420451, 14)"
      ]
     },
     "execution_count": 29,
     "metadata": {},
     "output_type": "execute_result"
    }
   ],
   "source": [
    "raw_data.shape"
   ]
  },
  {
   "cell_type": "code",
   "execution_count": 28,
   "metadata": {
    "colab_type": "code"
   },
   "outputs": [
    {
     "name": "stdout",
     "output_type": "stream",
     "text": [
      "Epoch 1/10\n",
      "819/819 [==============================] - 88s 103ms/step - loss: 44.0365 - mae: 4.8583 - val_loss: 13.4222 - val_mae: 2.7910\n",
      "Epoch 2/10\n",
      "819/819 [==============================] - 83s 101ms/step - loss: 11.3127 - mae: 2.6122 - val_loss: 9.9756 - val_mae: 2.4576\n",
      "Epoch 3/10\n",
      "819/819 [==============================] - 82s 101ms/step - loss: 9.8629 - mae: 2.4481 - val_loss: 9.9555 - val_mae: 2.4552\n",
      "Epoch 4/10\n",
      "819/819 [==============================] - 82s 100ms/step - loss: 9.3991 - mae: 2.3807 - val_loss: 9.7901 - val_mae: 2.4289\n",
      "Epoch 5/10\n",
      "819/819 [==============================] - 81s 99ms/step - loss: 9.0874 - mae: 2.3423 - val_loss: 9.9482 - val_mae: 2.4385\n",
      "Epoch 6/10\n",
      "819/819 [==============================] - 80s 98ms/step - loss: 8.8252 - mae: 2.3078 - val_loss: 10.2156 - val_mae: 2.4721\n",
      "Epoch 7/10\n",
      "819/819 [==============================] - 81s 99ms/step - loss: 8.5246 - mae: 2.2706 - val_loss: 9.9215 - val_mae: 2.4471\n",
      "Epoch 8/10\n",
      "819/819 [==============================] - 80s 97ms/step - loss: 8.3034 - mae: 2.2446 - val_loss: 10.2136 - val_mae: 2.4754\n",
      "Epoch 9/10\n",
      "819/819 [==============================] - 94s 114ms/step - loss: 8.1372 - mae: 2.2263 - val_loss: 10.1900 - val_mae: 2.4753\n",
      "Epoch 10/10\n",
      "819/819 [==============================] - 83s 101ms/step - loss: 8.0040 - mae: 2.2089 - val_loss: 9.9600 - val_mae: 2.4512\n",
      "405/405 [==============================] - 17s 41ms/step - loss: 10.9915 - mae: 2.6179\n",
      "Test MAE: 2.62\n"
     ]
    }
   ],
   "source": [
    "inputs = keras.Input(shape=(sequence_length, raw_data.shape[-1]))\n",
    "x = layers.LSTM(16)(inputs)\n",
    "outputs = layers.Dense(1)(x)\n",
    "model = keras.Model(inputs, outputs)\n",
    "\n",
    "callbacks = [\n",
    "    keras.callbacks.ModelCheckpoint(\"jena_lstm.keras\",\n",
    "                                    save_best_only=True)\n",
    "]\n",
    "model.compile(optimizer=\"rmsprop\", loss=\"mse\", metrics=[\"mae\"])\n",
    "history = model.fit(train_dataset,\n",
    "                    epochs=10,\n",
    "                    validation_data=val_dataset,\n",
    "                    callbacks=callbacks)\n",
    "\n",
    "model = keras.models.load_model(\"jena_lstm.keras\")\n",
    "print(f\"Test MAE: {model.evaluate(test_dataset)[1]:.2f}\")"
   ]
  },
  {
   "cell_type": "markdown",
   "metadata": {
    "colab_type": "text"
   },
   "source": [
    "## Understanding recurrent neural networks"
   ]
  },
  {
   "cell_type": "markdown",
   "metadata": {
    "colab_type": "text"
   },
   "source": [
    "**NumPy implementation of a simple RNN**"
   ]
  },
  {
   "cell_type": "code",
   "execution_count": 30,
   "metadata": {
    "colab_type": "code"
   },
   "outputs": [],
   "source": [
    "import numpy as np\n",
    "timesteps = 100\n",
    "input_features = 32\n",
    "output_features = 64\n",
    "inputs = np.random.random((timesteps, input_features))\n",
    "state_t = np.zeros((output_features,))\n",
    "W = np.random.random((output_features, input_features))\n",
    "U = np.random.random((output_features, output_features))\n",
    "b = np.random.random((output_features,))\n",
    "successive_outputs = []\n",
    "for input_t in inputs:\n",
    "    output_t = np.tanh(np.dot(W, input_t) + np.dot(U, state_t) + b)\n",
    "    successive_outputs.append(output_t)\n",
    "    state_t = output_t\n",
    "final_output_sequence = np.stack(successive_outputs, axis=0)"
   ]
  },
  {
   "cell_type": "markdown",
   "metadata": {
    "colab_type": "text"
   },
   "source": [
    "### A recurrent layer in Keras"
   ]
  },
  {
   "cell_type": "markdown",
   "metadata": {
    "colab_type": "text"
   },
   "source": [
    "**An RNN layer that can process sequences of any length**"
   ]
  },
  {
   "cell_type": "code",
   "execution_count": 31,
   "metadata": {
    "colab_type": "code"
   },
   "outputs": [],
   "source": [
    "num_features = 14\n",
    "inputs = keras.Input(shape=(None, num_features))\n",
    "outputs = layers.SimpleRNN(16)(inputs)"
   ]
  },
  {
   "cell_type": "markdown",
   "metadata": {
    "colab_type": "text"
   },
   "source": [
    "**An RNN layer that returns only its last output step**"
   ]
  },
  {
   "cell_type": "code",
   "execution_count": 32,
   "metadata": {
    "colab_type": "code"
   },
   "outputs": [
    {
     "name": "stdout",
     "output_type": "stream",
     "text": [
      "(None, 16)\n"
     ]
    }
   ],
   "source": [
    "num_features = 14\n",
    "steps = 120\n",
    "inputs = keras.Input(shape=(steps, num_features))\n",
    "outputs = layers.SimpleRNN(16, return_sequences=False)(inputs)\n",
    "print(outputs.shape)"
   ]
  },
  {
   "cell_type": "markdown",
   "metadata": {
    "colab_type": "text"
   },
   "source": [
    "**An RNN layer that returns its full output sequence**"
   ]
  },
  {
   "cell_type": "code",
   "execution_count": 33,
   "metadata": {
    "colab_type": "code"
   },
   "outputs": [
    {
     "name": "stdout",
     "output_type": "stream",
     "text": [
      "(None, 120, 16)\n"
     ]
    }
   ],
   "source": [
    "num_features = 14\n",
    "steps = 120\n",
    "inputs = keras.Input(shape=(steps, num_features))\n",
    "outputs = layers.SimpleRNN(16, return_sequences=True)(inputs)\n",
    "print(outputs.shape)"
   ]
  },
  {
   "cell_type": "markdown",
   "metadata": {
    "colab_type": "text"
   },
   "source": [
    "**Stacking RNN layers**"
   ]
  },
  {
   "cell_type": "code",
   "execution_count": 34,
   "metadata": {
    "colab_type": "code"
   },
   "outputs": [],
   "source": [
    "inputs = keras.Input(shape=(steps, num_features))\n",
    "x = layers.SimpleRNN(16, return_sequences=True)(inputs)\n",
    "x = layers.SimpleRNN(16, return_sequences=True)(x)\n",
    "outputs = layers.SimpleRNN(16)(x)"
   ]
  },
  {
   "cell_type": "markdown",
   "metadata": {
    "colab_type": "text"
   },
   "source": [
    "## Advanced use of recurrent neural networks"
   ]
  },
  {
   "cell_type": "markdown",
   "metadata": {
    "colab_type": "text"
   },
   "source": [
    "### Using recurrent dropout to fight overfitting"
   ]
  },
  {
   "cell_type": "markdown",
   "metadata": {
    "colab_type": "text"
   },
   "source": [
    "**Training and evaluating a dropout-regularized LSTM**"
   ]
  },
  {
   "cell_type": "code",
   "execution_count": 35,
   "metadata": {
    "colab_type": "code"
   },
   "outputs": [
    {
     "name": "stdout",
     "output_type": "stream",
     "text": [
      "Epoch 1/50\n",
      "819/819 [==============================] - 250s 301ms/step - loss: 28.4412 - mae: 3.9303 - val_loss: 9.9955 - val_mae: 2.4475\n",
      "Epoch 2/50\n",
      "819/819 [==============================] - 277s 338ms/step - loss: 14.8319 - mae: 2.9936 - val_loss: 9.4373 - val_mae: 2.3795\n",
      "Epoch 3/50\n",
      "819/819 [==============================] - 275s 336ms/step - loss: 14.0395 - mae: 2.9014 - val_loss: 9.4975 - val_mae: 2.3810\n",
      "Epoch 4/50\n",
      "819/819 [==============================] - 270s 330ms/step - loss: 13.3459 - mae: 2.8249 - val_loss: 9.2784 - val_mae: 2.3585\n",
      "Epoch 5/50\n",
      "819/819 [==============================] - 273s 333ms/step - loss: 12.8778 - mae: 2.7773 - val_loss: 9.4612 - val_mae: 2.3859\n",
      "Epoch 6/50\n",
      "819/819 [==============================] - 269s 328ms/step - loss: 12.5039 - mae: 2.7398 - val_loss: 9.3546 - val_mae: 2.3642\n",
      "Epoch 7/50\n",
      "819/819 [==============================] - 268s 327ms/step - loss: 12.2320 - mae: 2.7083 - val_loss: 9.4428 - val_mae: 2.3852\n",
      "Epoch 8/50\n",
      "819/819 [==============================] - 270s 330ms/step - loss: 11.9201 - mae: 2.6745 - val_loss: 9.5096 - val_mae: 2.3859\n",
      "Epoch 9/50\n",
      "819/819 [==============================] - 269s 329ms/step - loss: 11.7104 - mae: 2.6477 - val_loss: 9.8514 - val_mae: 2.4308\n",
      "Epoch 10/50\n",
      "819/819 [==============================] - 283s 345ms/step - loss: 11.5654 - mae: 2.6307 - val_loss: 9.2386 - val_mae: 2.3549\n",
      "Epoch 11/50\n",
      "819/819 [==============================] - 274s 334ms/step - loss: 11.2865 - mae: 2.6000 - val_loss: 9.4605 - val_mae: 2.3761\n",
      "Epoch 12/50\n",
      "819/819 [==============================] - 278s 339ms/step - loss: 11.1521 - mae: 2.5836 - val_loss: 9.6472 - val_mae: 2.4038\n",
      "Epoch 13/50\n",
      "819/819 [==============================] - 274s 334ms/step - loss: 11.0081 - mae: 2.5664 - val_loss: 9.8193 - val_mae: 2.4235\n",
      "Epoch 14/50\n",
      "819/819 [==============================] - 279s 341ms/step - loss: 10.8815 - mae: 2.5567 - val_loss: 9.8028 - val_mae: 2.4265\n",
      "Epoch 15/50\n",
      "819/819 [==============================] - 287s 350ms/step - loss: 10.8195 - mae: 2.5436 - val_loss: 9.8112 - val_mae: 2.4268\n",
      "Epoch 16/50\n",
      "819/819 [==============================] - 275s 335ms/step - loss: 10.6794 - mae: 2.5298 - val_loss: 9.9136 - val_mae: 2.4389\n",
      "Epoch 17/50\n",
      "819/819 [==============================] - 273s 333ms/step - loss: 10.5962 - mae: 2.5210 - val_loss: 10.1771 - val_mae: 2.4696\n",
      "Epoch 18/50\n",
      "819/819 [==============================] - 273s 334ms/step - loss: 10.4821 - mae: 2.5044 - val_loss: 9.8194 - val_mae: 2.4363\n",
      "Epoch 19/50\n",
      "819/819 [==============================] - 271s 331ms/step - loss: 10.4210 - mae: 2.4971 - val_loss: 10.0244 - val_mae: 2.4514\n",
      "Epoch 20/50\n",
      "819/819 [==============================] - 270s 329ms/step - loss: 10.2625 - mae: 2.4786 - val_loss: 10.2533 - val_mae: 2.4821\n",
      "Epoch 21/50\n",
      "819/819 [==============================] - 270s 330ms/step - loss: 10.1968 - mae: 2.4731 - val_loss: 10.0882 - val_mae: 2.4624\n",
      "Epoch 22/50\n",
      "819/819 [==============================] - 272s 331ms/step - loss: 10.1647 - mae: 2.4656 - val_loss: 9.8919 - val_mae: 2.4474\n",
      "Epoch 23/50\n",
      "819/819 [==============================] - 270s 330ms/step - loss: 10.0840 - mae: 2.4553 - val_loss: 10.4733 - val_mae: 2.5086\n",
      "Epoch 24/50\n",
      "819/819 [==============================] - 271s 330ms/step - loss: 10.0247 - mae: 2.4492 - val_loss: 10.2896 - val_mae: 2.4839\n",
      "Epoch 25/50\n",
      "819/819 [==============================] - 271s 331ms/step - loss: 9.9119 - mae: 2.4348 - val_loss: 10.2249 - val_mae: 2.4839\n",
      "Epoch 26/50\n",
      "819/819 [==============================] - 301s 368ms/step - loss: 9.8876 - mae: 2.4343 - val_loss: 10.3417 - val_mae: 2.4882\n",
      "Epoch 27/50\n",
      "819/819 [==============================] - 274s 334ms/step - loss: 9.8589 - mae: 2.4259 - val_loss: 10.3239 - val_mae: 2.4915\n",
      "Epoch 28/50\n",
      "819/819 [==============================] - 279s 340ms/step - loss: 9.7341 - mae: 2.4126 - val_loss: 10.5782 - val_mae: 2.5133\n",
      "Epoch 29/50\n",
      "819/819 [==============================] - 275s 336ms/step - loss: 9.7026 - mae: 2.4087 - val_loss: 10.3509 - val_mae: 2.4895\n",
      "Epoch 30/50\n",
      "819/819 [==============================] - 276s 337ms/step - loss: 9.6569 - mae: 2.4028 - val_loss: 10.1735 - val_mae: 2.4816\n",
      "Epoch 31/50\n",
      "819/819 [==============================] - 278s 339ms/step - loss: 9.6323 - mae: 2.3979 - val_loss: 10.4065 - val_mae: 2.5047\n",
      "Epoch 32/50\n",
      "819/819 [==============================] - 279s 340ms/step - loss: 9.5199 - mae: 2.3827 - val_loss: 10.4339 - val_mae: 2.5009\n",
      "Epoch 33/50\n",
      "819/819 [==============================] - 268s 327ms/step - loss: 9.5257 - mae: 2.3816 - val_loss: 10.5369 - val_mae: 2.5239\n",
      "Epoch 34/50\n",
      "819/819 [==============================] - 268s 327ms/step - loss: 9.4678 - mae: 2.3794 - val_loss: 10.6418 - val_mae: 2.5319\n",
      "Epoch 35/50\n",
      "819/819 [==============================] - 269s 329ms/step - loss: 9.4696 - mae: 2.3749 - val_loss: 10.5395 - val_mae: 2.5202\n",
      "Epoch 36/50\n",
      "819/819 [==============================] - 271s 331ms/step - loss: 9.4180 - mae: 2.3721 - val_loss: 10.5438 - val_mae: 2.5182\n",
      "Epoch 37/50\n",
      "819/819 [==============================] - 269s 329ms/step - loss: 9.3666 - mae: 2.3646 - val_loss: 11.0834 - val_mae: 2.5850\n",
      "Epoch 38/50\n",
      "819/819 [==============================] - 273s 333ms/step - loss: 9.3329 - mae: 2.3587 - val_loss: 10.6690 - val_mae: 2.5354\n",
      "Epoch 39/50\n",
      "819/819 [==============================] - 294s 359ms/step - loss: 9.2388 - mae: 2.3456 - val_loss: 10.7783 - val_mae: 2.5495\n",
      "Epoch 40/50\n",
      "819/819 [==============================] - 277s 338ms/step - loss: 9.1843 - mae: 2.3415 - val_loss: 10.8203 - val_mae: 2.5527\n",
      "Epoch 41/50\n",
      "819/819 [==============================] - 274s 334ms/step - loss: 9.2281 - mae: 2.3449 - val_loss: 10.7440 - val_mae: 2.5449\n",
      "Epoch 42/50\n",
      "819/819 [==============================] - 277s 338ms/step - loss: 9.1829 - mae: 2.3389 - val_loss: 10.9745 - val_mae: 2.5646\n",
      "Epoch 43/50\n",
      "819/819 [==============================] - 274s 334ms/step - loss: 9.0892 - mae: 2.3265 - val_loss: 10.8522 - val_mae: 2.5577\n",
      "Epoch 44/50\n",
      "819/819 [==============================] - 270s 330ms/step - loss: 9.1406 - mae: 2.3335 - val_loss: 10.7062 - val_mae: 2.5445\n",
      "Epoch 45/50\n",
      "819/819 [==============================] - 267s 326ms/step - loss: 9.0220 - mae: 2.3187 - val_loss: 11.2590 - val_mae: 2.6066\n",
      "Epoch 46/50\n",
      "819/819 [==============================] - 269s 329ms/step - loss: 8.9784 - mae: 2.3140 - val_loss: 11.0263 - val_mae: 2.5773\n",
      "Epoch 47/50\n",
      "819/819 [==============================] - 268s 327ms/step - loss: 8.9919 - mae: 2.3145 - val_loss: 11.1714 - val_mae: 2.5996\n",
      "Epoch 48/50\n",
      "819/819 [==============================] - 267s 326ms/step - loss: 8.9672 - mae: 2.3088 - val_loss: 11.2141 - val_mae: 2.6064\n",
      "Epoch 49/50\n",
      "819/819 [==============================] - 269s 329ms/step - loss: 8.9531 - mae: 2.3112 - val_loss: 11.3162 - val_mae: 2.6129\n",
      "Epoch 50/50\n",
      "819/819 [==============================] - 268s 328ms/step - loss: 8.9555 - mae: 2.3075 - val_loss: 11.1382 - val_mae: 2.5897\n"
     ]
    }
   ],
   "source": [
    "inputs = keras.Input(shape=(sequence_length, raw_data.shape[-1]))\n",
    "x = layers.LSTM(32, recurrent_dropout=0.25)(inputs)\n",
    "x = layers.Dropout(0.5)(x)\n",
    "outputs = layers.Dense(1)(x)\n",
    "model = keras.Model(inputs, outputs)\n",
    "\n",
    "callbacks = [\n",
    "    keras.callbacks.ModelCheckpoint(\"jena_lstm_dropout.keras\",\n",
    "                                    save_best_only=True)\n",
    "]\n",
    "model.compile(optimizer=\"rmsprop\", loss=\"mse\", metrics=[\"mae\"])\n",
    "history = model.fit(train_dataset,\n",
    "                    epochs=50,\n",
    "                    validation_data=val_dataset,\n",
    "                    callbacks=callbacks)"
   ]
  },
  {
   "cell_type": "code",
   "execution_count": 36,
   "metadata": {},
   "outputs": [
    {
     "name": "stdout",
     "output_type": "stream",
     "text": [
      "405/405 [==============================] - 28s 67ms/step - loss: 10.4477 - mae: 2.5762\n",
      "Test MAE: 2.58\n"
     ]
    }
   ],
   "source": [
    "model = keras.models.load_model(\"jena_lstm_dropout.keras\")\n",
    "print(f\"Test MAE: {model.evaluate(test_dataset)[1]:.2f}\")"
   ]
  },
  {
   "cell_type": "code",
   "execution_count": 37,
   "metadata": {},
   "outputs": [
    {
     "data": {
      "image/png": "[encoded data removed]",
      "text/plain": [
       "<Figure size 640x480 with 1 Axes>"
      ]
     },
     "metadata": {},
     "output_type": "display_data"
    }
   ],
   "source": [
    "loss = history.history[\"mae\"]\n",
    "val_loss = history.history[\"val_mae\"]\n",
    "epochs = range(1, len(loss) + 1)\n",
    "plt.figure()\n",
    "plt.plot(epochs, loss, \"bo\", label=\"Training MAE\")\n",
    "plt.plot(epochs, val_loss, \"b\", label=\"Validation MAE\")\n",
    "plt.title(\"Training and validation MAE\")\n",
    "plt.legend()\n",
    "plt.show()"
   ]
  },
  {
   "cell_type": "code",
   "execution_count": 39,
   "metadata": {
    "colab_type": "code"
   },
   "outputs": [],
   "source": [
    "inputs = keras.Input(shape=(sequence_length, num_features))\n",
    "x = layers.LSTM(32, recurrent_dropout=0.2, unroll=True)(inputs)"
   ]
  },
  {
   "cell_type": "markdown",
   "metadata": {
    "colab_type": "text"
   },
   "source": [
    "### Stacking recurrent layers"
   ]
  },
  {
   "cell_type": "markdown",
   "metadata": {
    "colab_type": "text"
   },
   "source": [
    "**Training and evaluating a dropout-regularized, stacked GRU model**"
   ]
  },
  {
   "cell_type": "code",
   "execution_count": 40,
   "metadata": {
    "colab_type": "code"
   },
   "outputs": [
    {
     "name": "stdout",
     "output_type": "stream",
     "text": [
      "Epoch 1/50\n",
      "819/819 [==============================] - 524s 633ms/step - loss: 23.6912 - mae: 3.6048 - val_loss: 9.2900 - val_mae: 2.3533\n",
      "Epoch 2/50\n",
      "819/819 [==============================] - 508s 621ms/step - loss: 13.9568 - mae: 2.8951 - val_loss: 9.3808 - val_mae: 2.3785\n",
      "Epoch 3/50\n",
      "819/819 [==============================] - 477s 582ms/step - loss: 13.0872 - mae: 2.8054 - val_loss: 9.1271 - val_mae: 2.3397\n",
      "Epoch 4/50\n",
      "819/819 [==============================] - 469s 572ms/step - loss: 12.5443 - mae: 2.7481 - val_loss: 8.9415 - val_mae: 2.3192\n",
      "Epoch 5/50\n",
      "819/819 [==============================] - 469s 573ms/step - loss: 12.1705 - mae: 2.7073 - val_loss: 9.1590 - val_mae: 2.3503\n",
      "Epoch 6/50\n",
      "819/819 [==============================] - 470s 574ms/step - loss: 11.7888 - mae: 2.6590 - val_loss: 9.7925 - val_mae: 2.4290\n",
      "Epoch 7/50\n",
      "819/819 [==============================] - 474s 578ms/step - loss: 11.3976 - mae: 2.6205 - val_loss: 8.8166 - val_mae: 2.3140\n",
      "Epoch 8/50\n",
      "819/819 [==============================] - 473s 577ms/step - loss: 11.1058 - mae: 2.5840 - val_loss: 9.2946 - val_mae: 2.3695\n",
      "Epoch 9/50\n",
      "819/819 [==============================] - 475s 580ms/step - loss: 10.8177 - mae: 2.5514 - val_loss: 9.1374 - val_mae: 2.3619\n",
      "Epoch 10/50\n",
      "819/819 [==============================] - 471s 575ms/step - loss: 10.5011 - mae: 2.5129 - val_loss: 9.2961 - val_mae: 2.3785\n",
      "Epoch 11/50\n",
      "819/819 [==============================] - 471s 576ms/step - loss: 10.2358 - mae: 2.4838 - val_loss: 9.9835 - val_mae: 2.4599\n",
      "Epoch 12/50\n",
      "819/819 [==============================] - 472s 577ms/step - loss: 9.9132 - mae: 2.4461 - val_loss: 9.7795 - val_mae: 2.4216\n",
      "Epoch 13/50\n",
      "819/819 [==============================] - 476s 581ms/step - loss: 9.7322 - mae: 2.4207 - val_loss: 9.7523 - val_mae: 2.4241\n",
      "Epoch 14/50\n",
      "819/819 [==============================] - 472s 576ms/step - loss: 9.4685 - mae: 2.3914 - val_loss: 9.5558 - val_mae: 2.4078\n",
      "Epoch 15/50\n",
      "819/819 [==============================] - 473s 577ms/step - loss: 9.3135 - mae: 2.3750 - val_loss: 9.9790 - val_mae: 2.4651\n",
      "Epoch 16/50\n",
      "819/819 [==============================] - 471s 575ms/step - loss: 9.1229 - mae: 2.3467 - val_loss: 10.0676 - val_mae: 2.4846\n",
      "Epoch 17/50\n",
      "819/819 [==============================] - 469s 573ms/step - loss: 8.9515 - mae: 2.3276 - val_loss: 10.4990 - val_mae: 2.5239\n",
      "Epoch 18/50\n",
      "819/819 [==============================] - 467s 570ms/step - loss: 8.8042 - mae: 2.3066 - val_loss: 10.5581 - val_mae: 2.5313\n",
      "Epoch 19/50\n",
      "819/819 [==============================] - 468s 572ms/step - loss: 8.6877 - mae: 2.2919 - val_loss: 10.6651 - val_mae: 2.5492\n",
      "Epoch 20/50\n",
      "819/819 [==============================] - 466s 569ms/step - loss: 8.5943 - mae: 2.2812 - val_loss: 10.7234 - val_mae: 2.5643\n",
      "Epoch 21/50\n",
      "819/819 [==============================] - 466s 568ms/step - loss: 8.4567 - mae: 2.2603 - val_loss: 11.6068 - val_mae: 2.6533\n",
      "Epoch 22/50\n",
      "819/819 [==============================] - 475s 580ms/step - loss: 8.4265 - mae: 2.2537 - val_loss: 11.4099 - val_mae: 2.6281\n",
      "Epoch 23/50\n",
      "819/819 [==============================] - 475s 579ms/step - loss: 8.2937 - mae: 2.2375 - val_loss: 10.8612 - val_mae: 2.5802\n",
      "Epoch 24/50\n",
      "819/819 [==============================] - 469s 573ms/step - loss: 8.2075 - mae: 2.2253 - val_loss: 11.0108 - val_mae: 2.5889\n",
      "Epoch 25/50\n",
      "819/819 [==============================] - 474s 578ms/step - loss: 8.1282 - mae: 2.2156 - val_loss: 11.3078 - val_mae: 2.6332\n",
      "Epoch 26/50\n",
      "819/819 [==============================] - 469s 572ms/step - loss: 8.0402 - mae: 2.2029 - val_loss: 11.6265 - val_mae: 2.6537\n",
      "Epoch 27/50\n",
      "819/819 [==============================] - 471s 575ms/step - loss: 7.9456 - mae: 2.1894 - val_loss: 11.5525 - val_mae: 2.6420\n",
      "Epoch 28/50\n",
      "819/819 [==============================] - 477s 582ms/step - loss: 7.9010 - mae: 2.1805 - val_loss: 11.2647 - val_mae: 2.6269\n",
      "Epoch 29/50\n",
      "819/819 [==============================] - 474s 579ms/step - loss: 7.8269 - mae: 2.1730 - val_loss: 12.2527 - val_mae: 2.7352\n",
      "Epoch 30/50\n",
      "819/819 [==============================] - 471s 574ms/step - loss: 7.7226 - mae: 2.1555 - val_loss: 12.0066 - val_mae: 2.7080\n",
      "Epoch 31/50\n",
      "819/819 [==============================] - 471s 575ms/step - loss: 7.7401 - mae: 2.1580 - val_loss: 12.5704 - val_mae: 2.7873\n",
      "Epoch 32/50\n",
      "819/819 [==============================] - 474s 579ms/step - loss: 7.6275 - mae: 2.1429 - val_loss: 12.0231 - val_mae: 2.7076\n",
      "Epoch 33/50\n",
      "819/819 [==============================] - 468s 571ms/step - loss: 7.5859 - mae: 2.1346 - val_loss: 12.3892 - val_mae: 2.7438\n",
      "Epoch 34/50\n",
      "819/819 [==============================] - 470s 574ms/step - loss: 7.5584 - mae: 2.1319 - val_loss: 12.1187 - val_mae: 2.7229\n",
      "Epoch 35/50\n",
      "819/819 [==============================] - 473s 577ms/step - loss: 7.4920 - mae: 2.1226 - val_loss: 12.2322 - val_mae: 2.7378\n",
      "Epoch 36/50\n",
      "819/819 [==============================] - 485s 592ms/step - loss: 7.4660 - mae: 2.1173 - val_loss: 12.5941 - val_mae: 2.7775\n",
      "Epoch 37/50\n",
      "819/819 [==============================] - 474s 578ms/step - loss: 7.4353 - mae: 2.1140 - val_loss: 12.9444 - val_mae: 2.8145\n",
      "Epoch 38/50\n",
      "819/819 [==============================] - 470s 574ms/step - loss: 7.3956 - mae: 2.1079 - val_loss: 12.4772 - val_mae: 2.7702\n",
      "Epoch 39/50\n",
      "819/819 [==============================] - 473s 577ms/step - loss: 7.3486 - mae: 2.1008 - val_loss: 12.8976 - val_mae: 2.8063\n",
      "Epoch 40/50\n",
      "819/819 [==============================] - 474s 578ms/step - loss: 7.3164 - mae: 2.0965 - val_loss: 12.7857 - val_mae: 2.7971\n",
      "Epoch 41/50\n",
      "819/819 [==============================] - 473s 577ms/step - loss: 7.2699 - mae: 2.0899 - val_loss: 12.9856 - val_mae: 2.8207\n",
      "Epoch 42/50\n",
      "819/819 [==============================] - 471s 575ms/step - loss: 7.2032 - mae: 2.0796 - val_loss: 12.5177 - val_mae: 2.7660\n",
      "Epoch 43/50\n",
      "819/819 [==============================] - 473s 577ms/step - loss: 7.2078 - mae: 2.0808 - val_loss: 13.2010 - val_mae: 2.8497\n",
      "Epoch 44/50\n",
      "819/819 [==============================] - 470s 574ms/step - loss: 7.1784 - mae: 2.0718 - val_loss: 13.7991 - val_mae: 2.8999\n",
      "Epoch 45/50\n",
      "819/819 [==============================] - 469s 572ms/step - loss: 7.1109 - mae: 2.0634 - val_loss: 12.8714 - val_mae: 2.8127\n",
      "Epoch 46/50\n",
      "819/819 [==============================] - 466s 569ms/step - loss: 7.0975 - mae: 2.0639 - val_loss: 13.0369 - val_mae: 2.8418\n",
      "Epoch 47/50\n",
      "819/819 [==============================] - 465s 568ms/step - loss: 7.0759 - mae: 2.0614 - val_loss: 12.7744 - val_mae: 2.7948\n",
      "Epoch 48/50\n",
      "819/819 [==============================] - 462s 564ms/step - loss: 7.0679 - mae: 2.0588 - val_loss: 13.2124 - val_mae: 2.8408\n",
      "Epoch 49/50\n",
      "819/819 [==============================] - 477s 582ms/step - loss: 7.0746 - mae: 2.0594 - val_loss: 12.8658 - val_mae: 2.8173\n",
      "Epoch 50/50\n",
      "819/819 [==============================] - 462s 564ms/step - loss: 6.9921 - mae: 2.0500 - val_loss: 13.2295 - val_mae: 2.8405\n",
      "405/405 [==============================] - 49s 114ms/step - loss: 9.4287 - mae: 2.4116\n",
      "Test MAE: 2.41\n"
     ]
    }
   ],
   "source": [
    "inputs = keras.Input(shape=(sequence_length, raw_data.shape[-1]))\n",
    "x = layers.GRU(32, recurrent_dropout=0.5, return_sequences=True)(inputs)\n",
    "x = layers.GRU(32, recurrent_dropout=0.5)(x)\n",
    "x = layers.Dropout(0.5)(x)\n",
    "outputs = layers.Dense(1)(x)\n",
    "model = keras.Model(inputs, outputs)\n",
    "\n",
    "callbacks = [\n",
    "    keras.callbacks.ModelCheckpoint(\"jena_stacked_gru_dropout.keras\",\n",
    "                                    save_best_only=True)\n",
    "]\n",
    "model.compile(optimizer=\"rmsprop\", loss=\"mse\", metrics=[\"mae\"])\n",
    "history = model.fit(train_dataset,\n",
    "                    epochs=50,\n",
    "                    validation_data=val_dataset,\n",
    "                    callbacks=callbacks)\n",
    "model = keras.models.load_model(\"jena_stacked_gru_dropout.keras\")\n",
    "print(f\"Test MAE: {model.evaluate(test_dataset)[1]:.2f}\")"
   ]
  },
  {
   "cell_type": "markdown",
   "metadata": {
    "colab_type": "text"
   },
   "source": [
    "### Using bidirectional RNNs"
   ]
  },
  {
   "cell_type": "markdown",
   "metadata": {
    "colab_type": "text"
   },
   "source": [
    "**Training and evaluating a bidirectional LSTM**"
   ]
  },
  {
   "cell_type": "code",
   "execution_count": 41,
   "metadata": {
    "colab_type": "code"
   },
   "outputs": [
    {
     "name": "stdout",
     "output_type": "stream",
     "text": [
      "Epoch 1/10\n",
      "819/819 [==============================] - 145s 160ms/step - loss: 27.6936 - mae: 3.7754 - val_loss: 10.8947 - val_mae: 2.5659\n",
      "Epoch 2/10\n",
      "819/819 [==============================] - 123s 149ms/step - loss: 9.5467 - mae: 2.4091 - val_loss: 9.7275 - val_mae: 2.4091\n",
      "Epoch 3/10\n",
      "819/819 [==============================] - 129s 158ms/step - loss: 8.6605 - mae: 2.2886 - val_loss: 9.7893 - val_mae: 2.4099\n",
      "Epoch 4/10\n",
      "819/819 [==============================] - 121s 148ms/step - loss: 8.2116 - mae: 2.2284 - val_loss: 9.7520 - val_mae: 2.4195\n",
      "Epoch 5/10\n",
      "819/819 [==============================] - 126s 154ms/step - loss: 7.7733 - mae: 2.1710 - val_loss: 10.0319 - val_mae: 2.4513\n",
      "Epoch 6/10\n",
      "819/819 [==============================] - 123s 150ms/step - loss: 7.3948 - mae: 2.1208 - val_loss: 10.5220 - val_mae: 2.4862\n",
      "Epoch 7/10\n",
      "819/819 [==============================] - 124s 151ms/step - loss: 7.1056 - mae: 2.0778 - val_loss: 10.6186 - val_mae: 2.5058\n",
      "Epoch 8/10\n",
      "819/819 [==============================] - 123s 150ms/step - loss: 6.8577 - mae: 2.0417 - val_loss: 10.6538 - val_mae: 2.5132\n",
      "Epoch 9/10\n",
      "819/819 [==============================] - 122s 149ms/step - loss: 6.6244 - mae: 2.0062 - val_loss: 10.7736 - val_mae: 2.5282\n",
      "Epoch 10/10\n",
      "819/819 [==============================] - 122s 149ms/step - loss: 6.4350 - mae: 1.9769 - val_loss: 10.7847 - val_mae: 2.5273\n"
     ]
    }
   ],
   "source": [
    "inputs = keras.Input(shape=(sequence_length, raw_data.shape[-1]))\n",
    "x = layers.Bidirectional(layers.LSTM(16))(inputs)\n",
    "outputs = layers.Dense(1)(x)\n",
    "model = keras.Model(inputs, outputs)\n",
    "\n",
    "model.compile(optimizer=\"rmsprop\", loss=\"mse\", metrics=[\"mae\"])\n",
    "history = model.fit(train_dataset,\n",
    "                    epochs=10,\n",
    "                    validation_data=val_dataset)"
   ]
  },
  {
   "cell_type": "markdown",
   "metadata": {
    "colab_type": "text"
   },
   "source": [
    "### Going even further"
   ]
  },
  {
   "cell_type": "markdown",
   "metadata": {
    "colab_type": "text"
   },
   "source": [
    "## Summary"
   ]
  }
 ],
 "metadata": {
  "colab": {
   "collapsed_sections": [],
   "name": "chapter10_dl-for-timeseries.i",
   "private_outputs": false,
   "provenance": [],
   "toc_visible": true
  },
  "kernelspec": {
   "display_name": "Python 3 (ipykernel)",
   "language": "python",
   "name": "python3"
  },
  "language_info": {
   "codemirror_mode": {
    "name": "ipython",
    "version": 3
   },
   "file_extension": ".py",
   "mimetype": "text/x-python",
   "name": "python",
   "nbconvert_exporter": "python",
   "pygments_lexer": "ipython3",
   "version": "3.10.9"
  }
 },
 "nbformat": 4,
 "nbformat_minor": 1
}
