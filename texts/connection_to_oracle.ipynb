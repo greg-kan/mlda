{
 "cells": [
  {
   "cell_type": "code",
   "execution_count": 4,
   "metadata": {},
   "outputs": [],
   "source": [
    "import cx_Oracle"
   ]
  },
  {
   "cell_type": "code",
   "execution_count": 10,
   "metadata": {},
   "outputs": [],
   "source": [
    "debug_ = True"
   ]
  },
  {
   "cell_type": "code",
   "execution_count": 11,
   "metadata": {},
   "outputs": [
    {
     "name": "stdout",
     "output_type": "stream",
     "text": [
      "[i] Connecting to DB...\n",
      "[i] Connected.\n",
      "('X',)\n",
      "[i] Connection closing...\n",
      "[i] Connection closed.\n"
     ]
    }
   ],
   "source": [
    "dsn = cx_Oracle.makedsn('192.168.1.5', '1521', service_name = 'workshop.hcs.kz')\n",
    "connection = cx_Oracle.Connection(user = 'complaints', password = 'compLaints', dsn = dsn)\n",
    "try:\n",
    "    if debug_: print(\"[i] Connecting to DB...\")\n",
    "    cur = connection.cursor()\n",
    "    if debug_: print(\"[i] Connected.\")\n",
    "        \n",
    "    for row in cur.execute(\"select * from dual\"):\n",
    "        print(row)\n",
    "\n",
    "except cx_Oracle.DatabaseError as e:\n",
    "    print(e)\n",
    "    \n",
    "finally:\n",
    "    if debug_: print(\"[i] Connection closing...\")\n",
    "    connection.close()    \n",
    "    if debug_: print(\"[i] Connection closed.\")"
   ]
  }
 ],
 "metadata": {
  "kernelspec": {
   "display_name": "Python 3",
   "language": "python",
   "name": "python3"
  },
  "language_info": {
   "codemirror_mode": {
    "name": "ipython",
    "version": 3
   },
   "file_extension": ".py",
   "mimetype": "text/x-python",
   "name": "python",
   "nbconvert_exporter": "python",
   "pygments_lexer": "ipython3",
   "version": "3.7.1"
  }
 },
 "nbformat": 4,
 "nbformat_minor": 2
}
