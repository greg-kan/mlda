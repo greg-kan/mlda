{
 "cells": [
  {
   "cell_type": "code",
   "execution_count": 1,
   "metadata": {},
   "outputs": [
    {
     "name": "stdout",
     "output_type": "stream",
     "text": [
      "verbose mode\n"
     ]
    }
   ],
   "source": [
    "def show_keys(**kwargs):\n",
    "    print(' '.join(kwargs.keys()))\n",
    "\n",
    "show_keys(verbose=True, mode='constant')"
   ]
  },
  {
   "cell_type": "code",
   "execution_count": 4,
   "metadata": {},
   "outputs": [
    {
     "data": {
      "text/plain": [
       "20"
      ]
     },
     "execution_count": 4,
     "metadata": {},
     "output_type": "execute_result"
    }
   ],
   "source": [
    "def build_the_wall(length=10, **kwargs):\n",
    "    return length\n",
    "build_the_wall(20)"
   ]
  },
  {
   "cell_type": "code",
   "execution_count": null,
   "metadata": {},
   "outputs": [],
   "source": [
    "def count_letters(sentence, average = False):\n",
    "    "
   ]
  },
  {
   "cell_type": "code",
   "execution_count": 5,
   "metadata": {},
   "outputs": [
    {
     "name": "stdout",
     "output_type": "stream",
     "text": [
      "5\n"
     ]
    }
   ],
   "source": [
    "def always(n):\n",
    "    \n",
    "    def inner():\n",
    "        return n\n",
    "    \n",
    "    return inner\n",
    "\n",
    "\n",
    "five = always(5)\n",
    "\n",
    "print(five())"
   ]
  },
  {
   "cell_type": "code",
   "execution_count": null,
   "metadata": {},
   "outputs": [],
   "source": [
    "import re\n",
    "def count_letters(sentence, average = False):\n",
    "    if str(average) == 'True':\n",
    "        pattern = re.compile('\\S+')\n",
    "        list_sentence = pattern.findall(sentence)\n",
    "        lenght = 0\n",
    "        words = 0\n",
    "        for word in list_sentence:\n",
    "            lenght += len(word)\n",
    "            words += 1\n",
    "        result = lenght/words\n",
    "    else:\n",
    "        len_sentence = len(sentence.replace(' ', ''))\n",
    "        result = len_sentence\n",
    "    return print(result)"
   ]
  },
  {
   "cell_type": "code",
   "execution_count": 10,
   "metadata": {},
   "outputs": [],
   "source": [
    "import re\n",
    "def count_letters(sentence, average = False):\n",
    "    if str(average) == 'True':\n",
    "        pattern = re.compile('\\S+')\n",
    "        list_sentence = pattern.findall(sentence)\n",
    "        lenght = 0\n",
    "        words = 0\n",
    "        for word in list_sentence:\n",
    "            lenght += len(word)\n",
    "            words += 1\n",
    "        result = lenght / words\n",
    "    else:\n",
    "        result = len(sentence.replace(' ', ''))\n",
    "    return result"
   ]
  },
  {
   "cell_type": "code",
   "execution_count": 13,
   "metadata": {},
   "outputs": [
    {
     "name": "stdout",
     "output_type": "stream",
     "text": [
      "3.4285714285714284\n"
     ]
    }
   ],
   "source": [
    "print(count_letters('I will build my own theme park', average = True))"
   ]
  },
  {
   "cell_type": "code",
   "execution_count": 14,
   "metadata": {},
   "outputs": [
    {
     "data": {
      "text/plain": [
       "['a', 'e', 'g', 'h', 'r', 't']"
      ]
     },
     "execution_count": 14,
     "metadata": {},
     "output_type": "execute_result"
    }
   ],
   "source": [
    "sorted(\"aghtre\")"
   ]
  },
  {
   "cell_type": "code",
   "execution_count": 20,
   "metadata": {},
   "outputs": [],
   "source": [
    "def always(n):\n",
    "    \n",
    "    def funct():\n",
    "        return(n)\n",
    "    \n",
    "    return funct"
   ]
  },
  {
   "cell_type": "code",
   "execution_count": 21,
   "metadata": {},
   "outputs": [
    {
     "data": {
      "text/plain": [
       "7"
      ]
     },
     "execution_count": 21,
     "metadata": {},
     "output_type": "execute_result"
    }
   ],
   "source": [
    "test = always(7)\n",
    "test()"
   ]
  }
 ],
 "metadata": {
  "kernelspec": {
   "display_name": "Python 3",
   "language": "python",
   "name": "python3"
  },
  "language_info": {
   "codemirror_mode": {
    "name": "ipython",
    "version": 3
   },
   "file_extension": ".py",
   "mimetype": "text/x-python",
   "name": "python",
   "nbconvert_exporter": "python",
   "pygments_lexer": "ipython3",
   "version": "3.7.3"
  }
 },
 "nbformat": 4,
 "nbformat_minor": 2
}
