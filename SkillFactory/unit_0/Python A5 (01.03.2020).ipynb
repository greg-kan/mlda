{
 "cells": [
  {
   "cell_type": "markdown",
   "metadata": {},
   "source": [
    "### Функции\n",
    "\n",
    "\n",
    "\n",
    "\n",
    "Функция это блок организованного, многократно используемоего кода, который используется для выполнения конкретного задания. Функции обеспечивают лучшую модульность приложения и значительно повышают уровень повторного использования кода."
   ]
  },
  {
   "cell_type": "markdown",
   "metadata": {},
   "source": [
    "**Функция** — это мини-программа внутри вашей основной программы, которая делает какую-то одну понятную вещь. \n",
    "\n",
    "Вы один раз описываете, что это за вещь, а потом ссылаетесь на это описание.\n",
    "\n",
    "Например, вы пишете игру. Каждый раз, когда игрок попадает в цель, убивает врага, делает комбо, заканчивает уровень или падает в лаву, вам нужно добавить или убавить ему очков. \n",
    "\n",
    "Это делается двумя действиями: к старым очкам добавляются новые, на экран выводится новая сумма очков. Допустим, эти действия занимают 8 строк кода.\n",
    "\n",
    "Допустим, в игре есть 100 ситуаций, когда нужно добавить или убавить очки — для каждого типа врага, преграды, уровня и т. д.\n",
    "\n",
    "Чтобы в каждой из ста ситуаций не писать одни и те же восемь строк кода, вы упаковываете эти восемь строк в функцию. И теперь в ста местах вы пишете одну строку: например, changeScore(10) — число очков повысится на 10.\n",
    "\n",
    "Если теперь изменить, что происходит в функции changeScore(), то изменения отразятся как бы во всех ста местах, где эта функция вызывается.\n",
    "\n",
    "Подробнее: https://zen.yandex.ru/media/code/funkcii-zachem-oni-nujny-i-kak-ih-pisat-chtoby-vas-uvajali-programmisty-5ca1d42ed959dc00b319b8ba"
   ]
  },
  {
   "cell_type": "markdown",
   "metadata": {},
   "source": [
    "Пригодится в занятии\n",
    "\n",
    "http://pythontutor.com/"
   ]
  },
  {
   "cell_type": "markdown",
   "metadata": {},
   "source": [
    "### Создание функции\n",
    "\n",
    "Существуют некоторые правила для создания функций в Python:\n",
    "\n",
    "+ Блок функции начинается с ключевого слова def, после которого следуют название функции и круглые скобки ()\n",
    "\n",
    "+ Любые аргументы, которые принимает функция должны находиться внутри этих скобок.\n",
    "\n",
    "+ После скобок идет двоеточие ( : ) и с новой строки с отступом начинается тело функции.\n"
   ]
  },
  {
   "cell_type": "code",
   "execution_count": 16,
   "metadata": {},
   "outputs": [
    {
     "name": "stdout",
     "output_type": "stream",
     "text": [
      "то же самое\n"
     ]
    }
   ],
   "source": [
    "def myfunction():\n",
    "    print('то же самое')\n",
    "    \n",
    "myfunction()"
   ]
  },
  {
   "cell_type": "code",
   "execution_count": 18,
   "metadata": {},
   "outputs": [
    {
     "data": {
      "text/plain": [
       "'test'"
      ]
     },
     "execution_count": 18,
     "metadata": {},
     "output_type": "execute_result"
    }
   ],
   "source": [
    "def myfunction(arg):\n",
    "    return arg\n",
    "    \n",
    "myfunction('test')"
   ]
  },
  {
   "cell_type": "markdown",
   "metadata": {},
   "source": [
    "### Ключевое слово return\n",
    "\n",
    "* Выражение return прекращает выполнение функции и возвращает указанное после выражения значение. \n",
    "\n",
    "* Выражение return без аргументов это то же самое, что и выражение return None. \n",
    "\n",
    "* Соответственно, теперь становится возможным, например, присваивать результат выполнения функции какой либо переменной."
   ]
  },
  {
   "cell_type": "code",
   "execution_count": 80,
   "metadata": {},
   "outputs": [
    {
     "data": {
      "text/plain": [
       "24"
      ]
     },
     "execution_count": 80,
     "metadata": {},
     "output_type": "execute_result"
    }
   ],
   "source": [
    "def bigger(a,b):\n",
    "    if a > b:\n",
    "        return a\n",
    "    return b # Незачем использовать else. Если мы дошли до этой строки, то b, точно не меньше чем a\n",
    "    print('hello')# Если a больше чем b, то возвращаем b и прекращаем выполнение функции\n",
    "\n",
    " \n",
    "# присваиваем результат функции bigger переменной num\n",
    "num = bigger(1, 24)\n",
    "\n",
    "\n",
    "def test():\n",
    "    return bigger(1, 24)\n",
    "\n",
    "test()"
   ]
  },
  {
   "cell_type": "code",
   "execution_count": 25,
   "metadata": {},
   "outputs": [
    {
     "name": "stdout",
     "output_type": "stream",
     "text": [
      "It is decidedly so\n"
     ]
    }
   ],
   "source": [
    "import random\n",
    "def getAnswer(answerNumber):\n",
    "  if answerNumber == 1:\n",
    "    return 'It is certain'\n",
    "  elif answerNumber == 2:\n",
    "    return 'It is decidedly so'\n",
    "  elif answerNumber == 3:\n",
    "    return 'Yes'\n",
    "  elif answerNumber == 4:\n",
    "    return 'Reply hazy try again'\n",
    "  elif answerNumber == 5:\n",
    "    return 'Ask again later'\n",
    "  elif answerNumber == 6:\n",
    "    return 'Concentrate and ask again'\n",
    "  elif answerNumber == 7:\n",
    "    return 'My reply is no'\n",
    "  elif answerNumber == 8:\n",
    "    return 'Outlook not so good'\n",
    "  elif answerNumber == 9:\n",
    "    return 'Very doubtful'\n",
    "\n",
    "print(getAnswer(random.randint(1, 9)))"
   ]
  },
  {
   "cell_type": "markdown",
   "metadata": {},
   "source": [
    "# Функции придают программе структуру"
   ]
  },
  {
   "cell_type": "markdown",
   "metadata": {},
   "source": [
    "Польза функций не только в возможности многократного вызова одного и того же кода из разных мест программы. Не менее важно, что благодаря им программа обретает истинную структуру. Функции как бы разделяют ее на обособленные части, каждая из которых выполняет свою конкретную задачу.\n",
    "\n",
    "Пусть надо написать программу, вычисляющую площади разных фигур. Пользователь указывает, площадь какой фигуры он хочет вычислить. После этого вводит исходные данные. Например, длину и ширину в случае прямоугольника. Чтобы разделить поток выполнения на несколько ветвей, следует использовать оператор if-elif-else:"
   ]
  },
  {
   "cell_type": "code",
   "execution_count": 26,
   "metadata": {},
   "outputs": [
    {
     "name": "stdout",
     "output_type": "stream",
     "text": [
      "1-прямоугольник, 2-треугольник, 3-круг: 1\n",
      "Ширина: 5\n",
      "Высота: 6\n",
      "Площадь: 30.00\n"
     ]
    }
   ],
   "source": [
    "figure = input(\"1-прямоугольник, 2-треугольник, 3-круг: \")\n",
    " \n",
    "if figure == '1':\n",
    "    a = float(input(\"Ширина: \"))\n",
    "    b = float(input(\"Высота: \"))\n",
    "    print(\"Площадь: %.2f\" % (a*b))\n",
    "elif figure == '2':\n",
    "    a = float(input(\"Основание: \"))\n",
    "    h = float(input(\"Высота: \"))\n",
    "    print(\"Площадь: %.2f\" % (0.5 * a * h))\n",
    "elif figure == '3':\n",
    "    r = float(input(\"Радиус: \"))\n",
    "    print(\"Площадь: %.2f\" % (3.14 * r**2))\n",
    "else:\n",
    "    print(\"Ошибка ввода\")"
   ]
  },
  {
   "cell_type": "code",
   "execution_count": 6,
   "metadata": {},
   "outputs": [
    {
     "name": "stdout",
     "output_type": "stream",
     "text": [
      "1-прямоугольник, 2-треугольник, 3-круг: 2\n",
      "Основание: 2\n",
      "Высота: 2\n",
      "Площадь: 2.00\n"
     ]
    }
   ],
   "source": [
    "def rectangle():\n",
    "    a = float(input(\"Ширина: \"))\n",
    "    b = float(input(\"Высота: \"))\n",
    "    print(\"Площадь: %.2f\" % (a*b))\n",
    " \n",
    "def triangle():\n",
    "    a = float(input(\"Основание: \"))\n",
    "    h = float(input(\"Высота: \"))\n",
    "    print(\"Площадь: %.2f\" % (0.5 * a * h))\n",
    " \n",
    "def circle():\n",
    "    r = float(input(\"Радиус: \"))\n",
    "    print(\"Площадь: %.2f\" % (3.14 * r**2))\n",
    " \n",
    "figure = input(\"1-прямоугольник, 2-треугольник, 3-круг: \")\n",
    "if figure == '1':\n",
    "    rectangle()\n",
    "elif figure == '2':\n",
    "    triangle()\n",
    "elif figure == '3':\n",
    "    circle()\n",
    "else:\n",
    "    print(\"Ошибка ввода\")"
   ]
  },
  {
   "cell_type": "markdown",
   "metadata": {},
   "source": [
    "Он кажется сложнее, а каждая из трех функций вызывается всего один раз. Однако из общей логики программы как бы убраны и обособлены инструкции для нахождения площадей. Программа теперь состоит из отдельных \"кирпичиков Лего\". В основной ветке мы можем комбинировать их как угодно. Она играет роль управляющего механизма.\n",
    "\n",
    "Если нам когда-нибудь захочется вычислять площадь треугольника по формуле Герона, а не через высоту, то не придется искать код во всей программе (представьте, что она состоит из тысяч строк кода как реальные программы). Мы пойдем к месту определения функций и изменим тело одной из них.\n",
    "\n",
    "Если понадобиться использовать эти функции в какой-нибудь другой программе, то мы сможем импортировать их туда, сославшись на данный файл с кодом"
   ]
  },
  {
   "cell_type": "markdown",
   "metadata": {},
   "source": [
    "## Именованные аргументы\n"
   ]
  },
  {
   "cell_type": "code",
   "execution_count": 29,
   "metadata": {},
   "outputs": [
    {
     "name": "stdout",
     "output_type": "stream",
     "text": [
      "['Welcome', 'to', 'Python']\n",
      "Welcome to Python Guys\n",
      "Welcome\n",
      "to\n",
      "Python\n",
      "Welcome to Python\n"
     ]
    }
   ],
   "source": [
    "words = [\"Welcome\", \"to\", \"Python\"]\n",
    "print(words)\n",
    "print(*words, end=\" Guys\\n\")\n",
    "print(*words, sep=\"\\n\")\n",
    "print(*words)\n",
    "\n",
    "\n",
    "    "
   ]
  },
  {
   "cell_type": "markdown",
   "metadata": {},
   "source": [
    "### Аргументы функции в Python\n",
    "\n",
    "Вызывая функцию, мы можем передавать ей следующие типы аргументов:\n",
    "\n",
    "* Обязательные аргументы (Required arguments)\n",
    "* Аргументы-ключевые слова (Keyword argument)\n",
    "* Аргументы по умолчанию (Default argument)\n",
    "* Аргументы произвольной длины (Variable-length argumens)\n"
   ]
  },
  {
   "cell_type": "markdown",
   "metadata": {},
   "source": [
    "https://stackoverflow.com/questions/36901/what-does-double-star-asterisk-and-star-asterisk-do-for-parameters"
   ]
  },
  {
   "cell_type": "code",
   "execution_count": 34,
   "metadata": {},
   "outputs": [
    {
     "ename": "TypeError",
     "evalue": "person() missing 1 required positional argument: 'age'",
     "output_type": "error",
     "traceback": [
      "\u001b[0;31m---------------------------------------------------------------------------\u001b[0m",
      "\u001b[0;31mTypeError\u001b[0m                                 Traceback (most recent call last)",
      "\u001b[0;32m<ipython-input-34-49cb30525f91>\u001b[0m in \u001b[0;36m<module>\u001b[0;34m\u001b[0m\n\u001b[1;32m      8\u001b[0m \u001b[0;31m# Хотя в описании функции первым аргументом идет имя, мы можем вызвать функцию вот так\u001b[0m\u001b[0;34m\u001b[0m\u001b[0;34m\u001b[0m\u001b[0;34m\u001b[0m\u001b[0m\n\u001b[1;32m      9\u001b[0m \u001b[0;34m\u001b[0m\u001b[0m\n\u001b[0;32m---> 10\u001b[0;31m \u001b[0mperson\u001b[0m\u001b[0;34m(\u001b[0m\u001b[0;34m'Bill'\u001b[0m\u001b[0;34m)\u001b[0m\u001b[0;34m\u001b[0m\u001b[0;34m\u001b[0m\u001b[0m\n\u001b[0m\u001b[1;32m     11\u001b[0m \u001b[0mperson\u001b[0m\u001b[0;34m(\u001b[0m\u001b[0mage\u001b[0m\u001b[0;34m=\u001b[0m\u001b[0;36m23\u001b[0m\u001b[0;34m,\u001b[0m \u001b[0mname\u001b[0m\u001b[0;34m=\u001b[0m\u001b[0;34m\"John\"\u001b[0m\u001b[0;34m)\u001b[0m\u001b[0;34m\u001b[0m\u001b[0;34m\u001b[0m\u001b[0m\n",
      "\u001b[0;31mTypeError\u001b[0m: person() missing 1 required positional argument: 'age'"
     ]
    }
   ],
   "source": [
    "\"\"\"Аргументы - ключевые слова используются при вызове функции. \n",
    "Благодаря ключевым аргументам, вы можете задавать произвольный \n",
    "(то есть не такой каким он описа при создании функции) порядок аргументов\"\"\"\n",
    "\n",
    "def person(name, age):\n",
    "    print(name, \"is\", age, \"years old\")\n",
    " \n",
    "# Хотя в описании функции первым аргументом идет имя, мы можем вызвать функцию вот так\n",
    "\n",
    "person(age=23, name=\"John\")"
   ]
  },
  {
   "cell_type": "code",
   "execution_count": 35,
   "metadata": {},
   "outputs": [
    {
     "name": "stdout",
     "output_type": "stream",
     "text": [
      "Mars is orbiting a Star\n",
      "Mars is orbiting a Black Hole\n"
     ]
    }
   ],
   "source": [
    "#Аргумент по умолчанию, это аргумент, значение для которого задано изначально, при создании функции.\n",
    "\n",
    "def space(planet_name, center=\"Star\"):\n",
    "    print(planet_name, \"is orbiting a\", center)\n",
    " \n",
    "# Можно вызвать функцию space так:\n",
    "space(\"Mars\")\n",
    "# В результате получим: Mars is orbiting a Star\n",
    " \n",
    "# Можно вызвать функцию space иначе:\n",
    "space(\"Mars\", center=\"Black Hole\")\n",
    "# В результате получим: Mars is orbiting a Black Hole"
   ]
  },
  {
   "cell_type": "code",
   "execution_count": 37,
   "metadata": {},
   "outputs": [
    {
     "name": "stdout",
     "output_type": "stream",
     "text": [
      "2\n",
      "38\n",
      "246\n"
     ]
    }
   ],
   "source": [
    "#Аргументы произвольной длины\n",
    "arr = [1, 19, 123]\n",
    "\n",
    "def unknown(args):\n",
    "    for argument in args:\n",
    "        print(argument * 2)\n",
    " \n",
    "# unknown(\"hello\",\"world\") # напечатает оба слова, каждое с новой строки\n",
    "# unknown(1,2,3,4,5) # напечатает все числа, каждое с новой строки\n",
    "\n",
    "unknown(arr) "
   ]
  },
  {
   "cell_type": "markdown",
   "metadata": {},
   "source": [
    "### Области видимости\n",
    "\n",
    "Область видимости указывает интерпретатору, когда наименование (или переменная) видимо. Другими словами, область видимости определяет, когда и где вы можете использовать свои переменные, функции, и т.д. Если вы попытаетесь использовать что-либо, что не является в вашей области видимости, вы получите ошибку NameError.\n",
    "\n",
    "Python содержит два  типа области видимости:\n",
    "\n",
    "* Локальная область видимости\n",
    "* Глобальная область видимости\n",
    "\n"
   ]
  },
  {
   "cell_type": "markdown",
   "metadata": {},
   "source": [
    "\n",
    "Переменные объявленные внутри тела функции имеют локальную область видимости, те что объявлены вне какой-либо функции имеют глобальную область видимости.\n",
    "\n",
    "Это означает, что доступ к локальным переменным имеют только те функции, в которых они были объявлены, в то время как доступ к глобальным переменным можно получить по всей программе в любой функции."
   ]
  },
  {
   "cell_type": "code",
   "execution_count": 38,
   "metadata": {},
   "outputs": [
    {
     "name": "stdout",
     "output_type": "stream",
     "text": [
      "44\n",
      "22\n"
     ]
    }
   ],
   "source": [
    "# глобальная переменная age\n",
    "age = 44\n",
    " \n",
    "def info():\n",
    "    print(age) # Печатаем глобальную переменную age\n",
    "\n",
    "\n",
    "def local_info():\n",
    "    age = 22 # создаем локальную переменную age \n",
    "    print(age)\n",
    " \n",
    "info() # напечатает 44\n",
    "local_info() # напечатает 22"
   ]
  },
  {
   "cell_type": "markdown",
   "metadata": {},
   "source": [
    "Важно помнить, что для того чтобы получить доступ к глобальной переменной, достаточно лишь указать ее имя. \n",
    "\n",
    "Однако, если перед нами стоит задача изменить глобальную переменную внутри функции - необходимо использовать ключевое слово global.\n"
   ]
  },
  {
   "cell_type": "code",
   "execution_count": 39,
   "metadata": {},
   "outputs": [
    {
     "name": "stdout",
     "output_type": "stream",
     "text": [
      "13\n",
      "14\n"
     ]
    }
   ],
   "source": [
    "# глобальная переменная age\n",
    "age = 13\n",
    " \n",
    "# функция изменяющая глобальную переменную\n",
    "def get_older():\n",
    "    global age\n",
    "    age += 1\n",
    " \n",
    "print(age) # напечатает 13\n",
    "get_older() # увеличиваем age на 1\n",
    "print(age) # напечатает 14"
   ]
  },
  {
   "cell_type": "markdown",
   "metadata": {},
   "source": [
    "Когда может стоять такая задача? "
   ]
  },
  {
   "cell_type": "code",
   "execution_count": 40,
   "metadata": {},
   "outputs": [
    {
     "name": "stdout",
     "output_type": "stream",
     "text": [
      "1000\n",
      "Вы потратили 500 рублей\n",
      "500\n",
      "Вы не можете больше тратить\n"
     ]
    }
   ],
   "source": [
    "# глобальная переменная age\n",
    "count = 1000\n",
    " \n",
    "# функция изменяющая глобальную переменную\n",
    "def func_one():\n",
    "    global count\n",
    "    count -= 500\n",
    "    if count <=0:\n",
    "        print('Вы не можете больше тратить')\n",
    "    else:\n",
    "        print('Вы потратили 500 рублей')\n",
    "\n",
    "def func_two():\n",
    "    global count\n",
    "    count -= 1000\n",
    "    if count <=0:\n",
    "        print('Вы не можете больше тратить')\n",
    "    else:\n",
    "        print('Вы потратили 1000 рублей')\n",
    "    \n",
    " \n",
    "print(count) # напечатает 13\n",
    "func_one() # увеличиваем age на 1\n",
    "print(count) # напечатает 14\n",
    "func_one()"
   ]
  },
  {
   "cell_type": "code",
   "execution_count": 45,
   "metadata": {},
   "outputs": [
    {
     "data": {
      "text/plain": [
       "{'__name__': '__main__',\n",
       " '__doc__': 'Аргументы - ключевые слова используются при вызове функции. \\nБлагодаря ключевым аргументам, вы можете задавать произвольный \\n(то есть не такой каким он описа при создании функции) порядок аргументов',\n",
       " '__package__': None,\n",
       " '__loader__': None,\n",
       " '__spec__': None,\n",
       " '__builtin__': <module 'builtins' (built-in)>,\n",
       " '__builtins__': <module 'builtins' (built-in)>,\n",
       " '_ih': ['',\n",
       "  \"import random\\ndef getAnswer(answerNumber):\\n  if answerNumber == 1:\\n    return 'It is certain'\\n  elif answerNumber == 2:\\n    return 'It is decidedly so'\\n  elif answerNumber == 3:\\n    return 'Yes'\\n  elif answerNumber == 4:\\n    return 'Reply hazy try again'\\n  elif answerNumber == 5:\\n    return 'Ask again later'\\n  elif answerNumber == 6:\\n    return 'Concentrate and ask again'\\n  elif answerNumber == 7:\\n    return 'My reply is no'\\n  elif answerNumber == 8:\\n    return 'Outlook not so good'\\n  elif answerNumber == 9:\\n    return 'Very doubtful'\\n\\nprint(getAnswer(random.randint(1, 9)))\",\n",
       "  \"import random\\ndef getAnswer(answerNumber):\\n  if answerNumber == 1:\\n    return 'It is certain'\\n  elif answerNumber == 2:\\n    return 'It is decidedly so'\\n  elif answerNumber == 3:\\n    return 'Yes'\\n  elif answerNumber == 4:\\n    return 'Reply hazy try again'\\n  elif answerNumber == 5:\\n    return 'Ask again later'\\n  elif answerNumber == 6:\\n    return 'Concentrate and ask again'\\n  elif answerNumber == 7:\\n    return 'My reply is no'\\n  elif answerNumber == 8:\\n    return 'Outlook not so good'\\n  elif answerNumber == 9:\\n    return 'Very doubtful'\\n\\nprint(getAnswer(random.randint(1, 9)))\",\n",
       "  \"print('sfsdff', sep = 'd')\",\n",
       "  'figure = input(\"1-прямоугольник, 2-треугольник, 3-круг: \")\\n \\nif figure == \\'1\\':\\n\\ta = float(input(\"Ширина: \"))\\n\\tb = float(input(\"Высота: \"))\\n\\tprint(\"Площадь: %.2f\" % (a*b))\\nelif figure == \\'2\\':\\n\\ta = float(input(\"Основание: \"))\\n\\th = float(input(\"Высота: \"))\\n\\tprint(\"Площадь: %.2f\" % (0.5 * a * h))\\nelif figure == \\'3\\':\\n\\tr = float(input(\"Радиус: \"))\\n\\tprint(\"Площадь: %.2f\" % (3.14 * r**2))\\nelse:\\n\\tprint(\"Ошибка ввода\")',\n",
       "  'figure = input(\"1-прямоугольник, 2-треугольник, 3-круг: \")\\n \\nif figure == \\'1\\':\\n    a = float(input(\"Ширина: \"))\\n    b = float(input(\"Высота: \"))\\n    print(\"Площадь: %.2f\" % (a*b))\\nelif figure == \\'2\\':\\n    a = float(input(\"Основание: \"))\\n    h = float(input(\"Высота: \"))\\n    print(\"Площадь: %.2f\" % (0.5 * a * h))\\nelif figure == \\'3\\':\\n    r = float(input(\"Радиус: \"))\\n    print(\"Площадь: %.2f\" % (3.14 * r**2))\\nelse:\\n    print(\"Ошибка ввода\")',\n",
       "  'def rectangle():\\n    a = float(input(\"Ширина: \"))\\n    b = float(input(\"Высота: \"))\\n    print(\"Площадь: %.2f\" % (a*b))\\n \\ndef triangle():\\n    a = float(input(\"Основание: \"))\\n    h = float(input(\"Высота: \"))\\n    print(\"Площадь: %.2f\" % (0.5 * a * h))\\n \\ndef circle():\\n    r = float(input(\"Радиус: \"))\\n    print(\"Площадь: %.2f\" % (3.14 * r**2))\\n \\nfigure = input(\"1-прямоугольник, 2-треугольник, 3-круг: \")\\nif figure == \\'1\\':\\n    rectangle()\\nelif figure == \\'2\\':\\n    triangle()\\nelif figure == \\'3\\':\\n    circle()\\nelse:\\n    print(\"Ошибка ввода\")',\n",
       "  \"# глобальная переменная age\\ncount = 1000\\n \\n# функция изменяющая глобальную переменную\\ndef func_one():\\n    global count\\n    count -= 500\\n    if count <=0:\\n        print('Вы не можете больше тратить')\\n    print('Вы потратили 500 рублей')\\n\\ndef func_two():\\n    global count\\n    count -= 1000\\n    if count <=0:\\n        print('Вы не можете больше тратить')\\n    print('Вы потратили 1000 рублей')\\n    \\n \\nprint(count) # напечатает 13\\nfunc_two() # увеличиваем age на 1\\nprint(count) # напечатает 14\\nfunc_one()\",\n",
       "  \"# глобальная переменная age\\ncount = 1000\\n \\n# функция изменяющая глобальную переменную\\ndef func_one():\\n    global count\\n    count -= 500\\n    if count <=0:\\n        print('Вы не можете больше тратить')\\n    else:\\n        print('Вы потратили 500 рублей')\\n\\ndef func_two():\\n    global count\\n    count -= 1000\\n    if count <=0:\\n        print('Вы не можете больше тратить')\\n    else:\\n        print('Вы потратили 1000 рублей')\\n    \\n \\nprint(count) # напечатает 13\\nfunc_two() # увеличиваем age на 1\\nprint(count) # напечатает 14\\nfunc_one()\",\n",
       "  \"# глобальная переменная age\\ncount = 1000\\n \\n# функция изменяющая глобальную переменную\\ndef func_one():\\n    global count\\n    count -= 500\\n    if count <=0:\\n        print('Вы не можете больше тратить')\\n    else:\\n        print('Вы потратили 500 рублей')\\n\\ndef func_two():\\n    global count\\n    count -= 1000\\n    if count <=0:\\n        print('Вы не можете больше тратить')\\n    else:\\n        print('Вы потратили 1000 рублей')\\n    \\n \\nprint(count) # напечатает 13\\nfunc_one() # увеличиваем age на 1\\nprint(count) # напечатает 14\\nfunc_one()\",\n",
       "  '#print\\nwords = [\"Welcome\", \"to\", \"Python\"]\\nprint(words)\\nprint(*words, end=\"!!!!\\\\n\")\\nprint(*words, sep=\"\\\\n\")',\n",
       "  'words = [\"Welcome\", \"to\", \"Python\"]\\nprint(words)\\nprint(*words, end=\"!!!!\\\\n\")\\nprint(*words, sep=\"\\\\n\")',\n",
       "  \"old_list = ['1', '2', '3', '4', '5', '6', '7']\\nnew_list = list(map(lambda x: int(x)*5, old_list))\\nnew_list\",\n",
       "  \"def myfunction():\\n    print('то же самое')\\n    \\nmyfunction()\",\n",
       "  \"def myfunction():\\n    print('то же самое')\\n    \\n# myfunction()\",\n",
       "  \"def myfunction():\\n    print('то же самое')\\n    \\nmyfunction\",\n",
       "  \"def myfunction():\\n    print('то же самое')\\n    \\nmyfunction()\",\n",
       "  \"def myfunction(arg):\\n    return arg\\n    \\nprint(myfunction('test'))\",\n",
       "  \"def myfunction(arg):\\n    return arg\\n    \\nmyfunction('test')\",\n",
       "  'def bigger(a,b):\\n    if a > b:\\n        return a # Если a больше чем b, то возвращаем b и прекращаем выполнение функции\\n    return b # Незачем использовать else. Если мы дошли до этой строки, то b, точно не меньше чем a\\n \\n# присваиваем результат функции bigger переменной num\\nnum = bigger(23,23)\\n\\n\\nprint(num)',\n",
       "  'def bigger(a,b):\\n    if a > b:\\n        return a # Если a больше чем b, то возвращаем b и прекращаем выполнение функции\\n    return b # Незачем использовать else. Если мы дошли до этой строки, то b, точно не меньше чем a\\n \\n# присваиваем результат функции bigger переменной num\\nnum = bigger(23,24)\\n\\n\\nprint(num)',\n",
       "  \"def bigger(a,b):\\n    if a > b:\\n        return a\\n        print('hello')# Если a больше чем b, то возвращаем b и прекращаем выполнение функции\\n    return b # Незачем использовать else. Если мы дошли до этой строки, то b, точно не меньше чем a\\n \\n# присваиваем результат функции bigger переменной num\\nnum = bigger(500, 24)\\n\\n\\nprint(num)\",\n",
       "  \"def bigger(a,b):\\n    if a > b:\\n        return a\\n    return b # Незачем использовать else. Если мы дошли до этой строки, то b, точно не меньше чем a\\n    print('hello')# Если a больше чем b, то возвращаем b и прекращаем выполнение функции\\n\\n \\n# присваиваем результат функции bigger переменной num\\nnum = bigger(500, 24)\\n\\n\\nprint(num)\",\n",
       "  \"def bigger(a,b):\\n    if a > b:\\n        return a\\n    return b # Незачем использовать else. Если мы дошли до этой строки, то b, точно не меньше чем a\\n    print('hello')# Если a больше чем b, то возвращаем b и прекращаем выполнение функции\\n\\n \\n# присваиваем результат функции bigger переменной num\\nnum = bigger(1, 24)\\n\\n\\nprint(num)\",\n",
       "  \"import random\\ndef getAnswer(answerNumber):\\n  if answerNumber == 1:\\n    return 'It is certain'\\n  elif answerNumber == 2:\\n    return 'It is decidedly so'\\n  elif answerNumber == 3:\\n    return 'Yes'\\n  elif answerNumber == 4:\\n    return 'Reply hazy try again'\\n  elif answerNumber == 5:\\n    return 'Ask again later'\\n  elif answerNumber == 6:\\n    return 'Concentrate and ask again'\\n  elif answerNumber == 7:\\n    return 'My reply is no'\\n  elif answerNumber == 8:\\n    return 'Outlook not so good'\\n  elif answerNumber == 9:\\n    return 'Very doubtful'\\n\\nprint(getAnswer(random.randint(1, 9)))\",\n",
       "  \"import random\\ndef getAnswer(answerNumber):\\n  if answerNumber == 1:\\n    return 'It is certain'\\n  elif answerNumber == 2:\\n    return 'It is decidedly so'\\n  elif answerNumber == 3:\\n    return 'Yes'\\n  elif answerNumber == 4:\\n    return 'Reply hazy try again'\\n  elif answerNumber == 5:\\n    return 'Ask again later'\\n  elif answerNumber == 6:\\n    return 'Concentrate and ask again'\\n  elif answerNumber == 7:\\n    return 'My reply is no'\\n  elif answerNumber == 8:\\n    return 'Outlook not so good'\\n  elif answerNumber == 9:\\n    return 'Very doubtful'\\n\\nprint(getAnswer(random.randint(1, 9)))\",\n",
       "  'figure = input(\"1-прямоугольник, 2-треугольник, 3-круг: \")\\n \\nif figure == \\'1\\':\\n    a = float(input(\"Ширина: \"))\\n    b = float(input(\"Высота: \"))\\n    print(\"Площадь: %.2f\" % (a*b))\\nelif figure == \\'2\\':\\n    a = float(input(\"Основание: \"))\\n    h = float(input(\"Высота: \"))\\n    print(\"Площадь: %.2f\" % (0.5 * a * h))\\nelif figure == \\'3\\':\\n    r = float(input(\"Радиус: \"))\\n    print(\"Площадь: %.2f\" % (3.14 * r**2))\\nelse:\\n    print(\"Ошибка ввода\")',\n",
       "  'words = [\"Welcome\", \"to\", \"Python\"]\\nprint(words)\\nprint(*words, end=\"Guys\\\\n\")\\nprint(*words, sep=\"\\\\n\")\\nprint(*words, )\\n\\n\\n    ',\n",
       "  'words = [\"Welcome\", \"to\", \"Python\"]\\nprint(words)\\nprint(*words, end=\" Guys\\\\n\")\\nprint(*words, sep=\"\\\\n\")\\nprint(*words, )\\n\\n\\n    ',\n",
       "  'words = [\"Welcome\", \"to\", \"Python\"]\\nprint(words)\\nprint(*words, end=\" Guys\\\\n\")\\nprint(*words, sep=\"\\\\n\")\\nprint(*words)\\n\\n\\n    ',\n",
       "  'help(print)',\n",
       "  \"print( 'fdfdf', b = 'f')\",\n",
       "  \"print('fdfdf')\",\n",
       "  '\"\"\"Аргументы - ключевые слова используются при вызове функции. \\nБлагодаря ключевым аргументам, вы можете задавать произвольный \\n(то есть не такой каким он описа при создании функции) порядок аргументов\"\"\"\\n\\ndef person(name, age):\\n    print(name, \"is\", age, \"years old\")\\n \\n# Хотя в описании функции первым аргументом идет имя, мы можем вызвать функцию вот так\\n\\nperson(\\'Bill\\', 18)\\nperson(age=23, name=\"John\")',\n",
       "  '\"\"\"Аргументы - ключевые слова используются при вызове функции. \\nБлагодаря ключевым аргументам, вы можете задавать произвольный \\n(то есть не такой каким он описа при создании функции) порядок аргументов\"\"\"\\n\\ndef person(name, age):\\n    print(name, \"is\", age, \"years old\")\\n \\n# Хотя в описании функции первым аргументом идет имя, мы можем вызвать функцию вот так\\n\\nperson(\\'Bill\\')\\nperson(age=23, name=\"John\")',\n",
       "  '#Аргумент по умолчанию, это аргумент, значение для которого задано изначально, при создании функции.\\n\\ndef space(planet_name, center=\"Star\"):\\n    print(planet_name, \"is orbiting a\", center)\\n \\n# Можно вызвать функцию space так:\\nspace(\"Mars\")\\n# В результате получим: Mars is orbiting a Star\\n \\n# Можно вызвать функцию space иначе:\\nspace(\"Mars\", center=\"Black Hole\")\\n# В результате получим: Mars is orbiting a Black Hole',\n",
       "  '#Аргументы произвольной длины\\narr = [1, 19, 123]\\n\\ndef unknown(args):\\n    for argument in args:\\n        print(argument * 2)\\n \\n# unknown(\"hello\",\"world\") # напечатает оба слова, каждое с новой строки\\n# unknown(1,2,3,4,5) # напечатает все числа, каждое с новой строки\\n\\nunknown(*arr) ',\n",
       "  '#Аргументы произвольной длины\\narr = [1, 19, 123]\\n\\ndef unknown(args):\\n    for argument in args:\\n        print(argument * 2)\\n \\n# unknown(\"hello\",\"world\") # напечатает оба слова, каждое с новой строки\\n# unknown(1,2,3,4,5) # напечатает все числа, каждое с новой строки\\n\\nunknown(arr) ',\n",
       "  '# глобальная переменная age\\nage = 44\\n \\ndef info():\\n    print(age) # Печатаем глобальную переменную age\\n\\n\\ndef local_info():\\n    age = 22 # создаем локальную переменную age \\n    print(age)\\n \\ninfo() # напечатает 44\\nlocal_info() # напечатает 22',\n",
       "  '# глобальная переменная age\\nage = 13\\n \\n# функция изменяющая глобальную переменную\\ndef get_older():\\n    global age\\n    age += 1\\n \\nprint(age) # напечатает 13\\nget_older() # увеличиваем age на 1\\nprint(age) # напечатает 14',\n",
       "  \"# глобальная переменная age\\ncount = 1000\\n \\n# функция изменяющая глобальную переменную\\ndef func_one():\\n    global count\\n    count -= 500\\n    if count <=0:\\n        print('Вы не можете больше тратить')\\n    else:\\n        print('Вы потратили 500 рублей')\\n\\ndef func_two():\\n    global count\\n    count -= 1000\\n    if count <=0:\\n        print('Вы не можете больше тратить')\\n    else:\\n        print('Вы потратили 1000 рублей')\\n    \\n \\nprint(count) # напечатает 13\\nfunc_one() # увеличиваем age на 1\\nprint(count) # напечатает 14\\nfunc_one()\",\n",
       "  'len(globals())',\n",
       "  'len(locals())',\n",
       "  'globals()',\n",
       "  'locals()',\n",
       "  'locals()\\nglobals()'],\n",
       " '_oh': {12: [5, 10, 15, 20, 25, 30, 35],\n",
       "  15: <function __main__.myfunction()>,\n",
       "  18: 'test',\n",
       "  41: 91,\n",
       "  42: 93,\n",
       "  43: {...},\n",
       "  44: {...}},\n",
       " '_dh': ['/home/politlen/Documents'],\n",
       " 'In': ['',\n",
       "  \"import random\\ndef getAnswer(answerNumber):\\n  if answerNumber == 1:\\n    return 'It is certain'\\n  elif answerNumber == 2:\\n    return 'It is decidedly so'\\n  elif answerNumber == 3:\\n    return 'Yes'\\n  elif answerNumber == 4:\\n    return 'Reply hazy try again'\\n  elif answerNumber == 5:\\n    return 'Ask again later'\\n  elif answerNumber == 6:\\n    return 'Concentrate and ask again'\\n  elif answerNumber == 7:\\n    return 'My reply is no'\\n  elif answerNumber == 8:\\n    return 'Outlook not so good'\\n  elif answerNumber == 9:\\n    return 'Very doubtful'\\n\\nprint(getAnswer(random.randint(1, 9)))\",\n",
       "  \"import random\\ndef getAnswer(answerNumber):\\n  if answerNumber == 1:\\n    return 'It is certain'\\n  elif answerNumber == 2:\\n    return 'It is decidedly so'\\n  elif answerNumber == 3:\\n    return 'Yes'\\n  elif answerNumber == 4:\\n    return 'Reply hazy try again'\\n  elif answerNumber == 5:\\n    return 'Ask again later'\\n  elif answerNumber == 6:\\n    return 'Concentrate and ask again'\\n  elif answerNumber == 7:\\n    return 'My reply is no'\\n  elif answerNumber == 8:\\n    return 'Outlook not so good'\\n  elif answerNumber == 9:\\n    return 'Very doubtful'\\n\\nprint(getAnswer(random.randint(1, 9)))\",\n",
       "  \"print('sfsdff', sep = 'd')\",\n",
       "  'figure = input(\"1-прямоугольник, 2-треугольник, 3-круг: \")\\n \\nif figure == \\'1\\':\\n\\ta = float(input(\"Ширина: \"))\\n\\tb = float(input(\"Высота: \"))\\n\\tprint(\"Площадь: %.2f\" % (a*b))\\nelif figure == \\'2\\':\\n\\ta = float(input(\"Основание: \"))\\n\\th = float(input(\"Высота: \"))\\n\\tprint(\"Площадь: %.2f\" % (0.5 * a * h))\\nelif figure == \\'3\\':\\n\\tr = float(input(\"Радиус: \"))\\n\\tprint(\"Площадь: %.2f\" % (3.14 * r**2))\\nelse:\\n\\tprint(\"Ошибка ввода\")',\n",
       "  'figure = input(\"1-прямоугольник, 2-треугольник, 3-круг: \")\\n \\nif figure == \\'1\\':\\n    a = float(input(\"Ширина: \"))\\n    b = float(input(\"Высота: \"))\\n    print(\"Площадь: %.2f\" % (a*b))\\nelif figure == \\'2\\':\\n    a = float(input(\"Основание: \"))\\n    h = float(input(\"Высота: \"))\\n    print(\"Площадь: %.2f\" % (0.5 * a * h))\\nelif figure == \\'3\\':\\n    r = float(input(\"Радиус: \"))\\n    print(\"Площадь: %.2f\" % (3.14 * r**2))\\nelse:\\n    print(\"Ошибка ввода\")',\n",
       "  'def rectangle():\\n    a = float(input(\"Ширина: \"))\\n    b = float(input(\"Высота: \"))\\n    print(\"Площадь: %.2f\" % (a*b))\\n \\ndef triangle():\\n    a = float(input(\"Основание: \"))\\n    h = float(input(\"Высота: \"))\\n    print(\"Площадь: %.2f\" % (0.5 * a * h))\\n \\ndef circle():\\n    r = float(input(\"Радиус: \"))\\n    print(\"Площадь: %.2f\" % (3.14 * r**2))\\n \\nfigure = input(\"1-прямоугольник, 2-треугольник, 3-круг: \")\\nif figure == \\'1\\':\\n    rectangle()\\nelif figure == \\'2\\':\\n    triangle()\\nelif figure == \\'3\\':\\n    circle()\\nelse:\\n    print(\"Ошибка ввода\")',\n",
       "  \"# глобальная переменная age\\ncount = 1000\\n \\n# функция изменяющая глобальную переменную\\ndef func_one():\\n    global count\\n    count -= 500\\n    if count <=0:\\n        print('Вы не можете больше тратить')\\n    print('Вы потратили 500 рублей')\\n\\ndef func_two():\\n    global count\\n    count -= 1000\\n    if count <=0:\\n        print('Вы не можете больше тратить')\\n    print('Вы потратили 1000 рублей')\\n    \\n \\nprint(count) # напечатает 13\\nfunc_two() # увеличиваем age на 1\\nprint(count) # напечатает 14\\nfunc_one()\",\n",
       "  \"# глобальная переменная age\\ncount = 1000\\n \\n# функция изменяющая глобальную переменную\\ndef func_one():\\n    global count\\n    count -= 500\\n    if count <=0:\\n        print('Вы не можете больше тратить')\\n    else:\\n        print('Вы потратили 500 рублей')\\n\\ndef func_two():\\n    global count\\n    count -= 1000\\n    if count <=0:\\n        print('Вы не можете больше тратить')\\n    else:\\n        print('Вы потратили 1000 рублей')\\n    \\n \\nprint(count) # напечатает 13\\nfunc_two() # увеличиваем age на 1\\nprint(count) # напечатает 14\\nfunc_one()\",\n",
       "  \"# глобальная переменная age\\ncount = 1000\\n \\n# функция изменяющая глобальную переменную\\ndef func_one():\\n    global count\\n    count -= 500\\n    if count <=0:\\n        print('Вы не можете больше тратить')\\n    else:\\n        print('Вы потратили 500 рублей')\\n\\ndef func_two():\\n    global count\\n    count -= 1000\\n    if count <=0:\\n        print('Вы не можете больше тратить')\\n    else:\\n        print('Вы потратили 1000 рублей')\\n    \\n \\nprint(count) # напечатает 13\\nfunc_one() # увеличиваем age на 1\\nprint(count) # напечатает 14\\nfunc_one()\",\n",
       "  '#print\\nwords = [\"Welcome\", \"to\", \"Python\"]\\nprint(words)\\nprint(*words, end=\"!!!!\\\\n\")\\nprint(*words, sep=\"\\\\n\")',\n",
       "  'words = [\"Welcome\", \"to\", \"Python\"]\\nprint(words)\\nprint(*words, end=\"!!!!\\\\n\")\\nprint(*words, sep=\"\\\\n\")',\n",
       "  \"old_list = ['1', '2', '3', '4', '5', '6', '7']\\nnew_list = list(map(lambda x: int(x)*5, old_list))\\nnew_list\",\n",
       "  \"def myfunction():\\n    print('то же самое')\\n    \\nmyfunction()\",\n",
       "  \"def myfunction():\\n    print('то же самое')\\n    \\n# myfunction()\",\n",
       "  \"def myfunction():\\n    print('то же самое')\\n    \\nmyfunction\",\n",
       "  \"def myfunction():\\n    print('то же самое')\\n    \\nmyfunction()\",\n",
       "  \"def myfunction(arg):\\n    return arg\\n    \\nprint(myfunction('test'))\",\n",
       "  \"def myfunction(arg):\\n    return arg\\n    \\nmyfunction('test')\",\n",
       "  'def bigger(a,b):\\n    if a > b:\\n        return a # Если a больше чем b, то возвращаем b и прекращаем выполнение функции\\n    return b # Незачем использовать else. Если мы дошли до этой строки, то b, точно не меньше чем a\\n \\n# присваиваем результат функции bigger переменной num\\nnum = bigger(23,23)\\n\\n\\nprint(num)',\n",
       "  'def bigger(a,b):\\n    if a > b:\\n        return a # Если a больше чем b, то возвращаем b и прекращаем выполнение функции\\n    return b # Незачем использовать else. Если мы дошли до этой строки, то b, точно не меньше чем a\\n \\n# присваиваем результат функции bigger переменной num\\nnum = bigger(23,24)\\n\\n\\nprint(num)',\n",
       "  \"def bigger(a,b):\\n    if a > b:\\n        return a\\n        print('hello')# Если a больше чем b, то возвращаем b и прекращаем выполнение функции\\n    return b # Незачем использовать else. Если мы дошли до этой строки, то b, точно не меньше чем a\\n \\n# присваиваем результат функции bigger переменной num\\nnum = bigger(500, 24)\\n\\n\\nprint(num)\",\n",
       "  \"def bigger(a,b):\\n    if a > b:\\n        return a\\n    return b # Незачем использовать else. Если мы дошли до этой строки, то b, точно не меньше чем a\\n    print('hello')# Если a больше чем b, то возвращаем b и прекращаем выполнение функции\\n\\n \\n# присваиваем результат функции bigger переменной num\\nnum = bigger(500, 24)\\n\\n\\nprint(num)\",\n",
       "  \"def bigger(a,b):\\n    if a > b:\\n        return a\\n    return b # Незачем использовать else. Если мы дошли до этой строки, то b, точно не меньше чем a\\n    print('hello')# Если a больше чем b, то возвращаем b и прекращаем выполнение функции\\n\\n \\n# присваиваем результат функции bigger переменной num\\nnum = bigger(1, 24)\\n\\n\\nprint(num)\",\n",
       "  \"import random\\ndef getAnswer(answerNumber):\\n  if answerNumber == 1:\\n    return 'It is certain'\\n  elif answerNumber == 2:\\n    return 'It is decidedly so'\\n  elif answerNumber == 3:\\n    return 'Yes'\\n  elif answerNumber == 4:\\n    return 'Reply hazy try again'\\n  elif answerNumber == 5:\\n    return 'Ask again later'\\n  elif answerNumber == 6:\\n    return 'Concentrate and ask again'\\n  elif answerNumber == 7:\\n    return 'My reply is no'\\n  elif answerNumber == 8:\\n    return 'Outlook not so good'\\n  elif answerNumber == 9:\\n    return 'Very doubtful'\\n\\nprint(getAnswer(random.randint(1, 9)))\",\n",
       "  \"import random\\ndef getAnswer(answerNumber):\\n  if answerNumber == 1:\\n    return 'It is certain'\\n  elif answerNumber == 2:\\n    return 'It is decidedly so'\\n  elif answerNumber == 3:\\n    return 'Yes'\\n  elif answerNumber == 4:\\n    return 'Reply hazy try again'\\n  elif answerNumber == 5:\\n    return 'Ask again later'\\n  elif answerNumber == 6:\\n    return 'Concentrate and ask again'\\n  elif answerNumber == 7:\\n    return 'My reply is no'\\n  elif answerNumber == 8:\\n    return 'Outlook not so good'\\n  elif answerNumber == 9:\\n    return 'Very doubtful'\\n\\nprint(getAnswer(random.randint(1, 9)))\",\n",
       "  'figure = input(\"1-прямоугольник, 2-треугольник, 3-круг: \")\\n \\nif figure == \\'1\\':\\n    a = float(input(\"Ширина: \"))\\n    b = float(input(\"Высота: \"))\\n    print(\"Площадь: %.2f\" % (a*b))\\nelif figure == \\'2\\':\\n    a = float(input(\"Основание: \"))\\n    h = float(input(\"Высота: \"))\\n    print(\"Площадь: %.2f\" % (0.5 * a * h))\\nelif figure == \\'3\\':\\n    r = float(input(\"Радиус: \"))\\n    print(\"Площадь: %.2f\" % (3.14 * r**2))\\nelse:\\n    print(\"Ошибка ввода\")',\n",
       "  'words = [\"Welcome\", \"to\", \"Python\"]\\nprint(words)\\nprint(*words, end=\"Guys\\\\n\")\\nprint(*words, sep=\"\\\\n\")\\nprint(*words, )\\n\\n\\n    ',\n",
       "  'words = [\"Welcome\", \"to\", \"Python\"]\\nprint(words)\\nprint(*words, end=\" Guys\\\\n\")\\nprint(*words, sep=\"\\\\n\")\\nprint(*words, )\\n\\n\\n    ',\n",
       "  'words = [\"Welcome\", \"to\", \"Python\"]\\nprint(words)\\nprint(*words, end=\" Guys\\\\n\")\\nprint(*words, sep=\"\\\\n\")\\nprint(*words)\\n\\n\\n    ',\n",
       "  'help(print)',\n",
       "  \"print( 'fdfdf', b = 'f')\",\n",
       "  \"print('fdfdf')\",\n",
       "  '\"\"\"Аргументы - ключевые слова используются при вызове функции. \\nБлагодаря ключевым аргументам, вы можете задавать произвольный \\n(то есть не такой каким он описа при создании функции) порядок аргументов\"\"\"\\n\\ndef person(name, age):\\n    print(name, \"is\", age, \"years old\")\\n \\n# Хотя в описании функции первым аргументом идет имя, мы можем вызвать функцию вот так\\n\\nperson(\\'Bill\\', 18)\\nperson(age=23, name=\"John\")',\n",
       "  '\"\"\"Аргументы - ключевые слова используются при вызове функции. \\nБлагодаря ключевым аргументам, вы можете задавать произвольный \\n(то есть не такой каким он описа при создании функции) порядок аргументов\"\"\"\\n\\ndef person(name, age):\\n    print(name, \"is\", age, \"years old\")\\n \\n# Хотя в описании функции первым аргументом идет имя, мы можем вызвать функцию вот так\\n\\nperson(\\'Bill\\')\\nperson(age=23, name=\"John\")',\n",
       "  '#Аргумент по умолчанию, это аргумент, значение для которого задано изначально, при создании функции.\\n\\ndef space(planet_name, center=\"Star\"):\\n    print(planet_name, \"is orbiting a\", center)\\n \\n# Можно вызвать функцию space так:\\nspace(\"Mars\")\\n# В результате получим: Mars is orbiting a Star\\n \\n# Можно вызвать функцию space иначе:\\nspace(\"Mars\", center=\"Black Hole\")\\n# В результате получим: Mars is orbiting a Black Hole',\n",
       "  '#Аргументы произвольной длины\\narr = [1, 19, 123]\\n\\ndef unknown(args):\\n    for argument in args:\\n        print(argument * 2)\\n \\n# unknown(\"hello\",\"world\") # напечатает оба слова, каждое с новой строки\\n# unknown(1,2,3,4,5) # напечатает все числа, каждое с новой строки\\n\\nunknown(*arr) ',\n",
       "  '#Аргументы произвольной длины\\narr = [1, 19, 123]\\n\\ndef unknown(args):\\n    for argument in args:\\n        print(argument * 2)\\n \\n# unknown(\"hello\",\"world\") # напечатает оба слова, каждое с новой строки\\n# unknown(1,2,3,4,5) # напечатает все числа, каждое с новой строки\\n\\nunknown(arr) ',\n",
       "  '# глобальная переменная age\\nage = 44\\n \\ndef info():\\n    print(age) # Печатаем глобальную переменную age\\n\\n\\ndef local_info():\\n    age = 22 # создаем локальную переменную age \\n    print(age)\\n \\ninfo() # напечатает 44\\nlocal_info() # напечатает 22',\n",
       "  '# глобальная переменная age\\nage = 13\\n \\n# функция изменяющая глобальную переменную\\ndef get_older():\\n    global age\\n    age += 1\\n \\nprint(age) # напечатает 13\\nget_older() # увеличиваем age на 1\\nprint(age) # напечатает 14',\n",
       "  \"# глобальная переменная age\\ncount = 1000\\n \\n# функция изменяющая глобальную переменную\\ndef func_one():\\n    global count\\n    count -= 500\\n    if count <=0:\\n        print('Вы не можете больше тратить')\\n    else:\\n        print('Вы потратили 500 рублей')\\n\\ndef func_two():\\n    global count\\n    count -= 1000\\n    if count <=0:\\n        print('Вы не можете больше тратить')\\n    else:\\n        print('Вы потратили 1000 рублей')\\n    \\n \\nprint(count) # напечатает 13\\nfunc_one() # увеличиваем age на 1\\nprint(count) # напечатает 14\\nfunc_one()\",\n",
       "  'len(globals())',\n",
       "  'len(locals())',\n",
       "  'globals()',\n",
       "  'locals()',\n",
       "  'locals()\\nglobals()'],\n",
       " 'Out': {12: [5, 10, 15, 20, 25, 30, 35],\n",
       "  15: <function __main__.myfunction()>,\n",
       "  18: 'test',\n",
       "  41: 91,\n",
       "  42: 93,\n",
       "  43: {...},\n",
       "  44: {...}},\n",
       " 'get_ipython': <bound method InteractiveShell.get_ipython of <ipykernel.zmqshell.ZMQInteractiveShell object at 0x7f267c205450>>,\n",
       " 'exit': <IPython.core.autocall.ZMQExitAutocall at 0x7f2678957410>,\n",
       " 'quit': <IPython.core.autocall.ZMQExitAutocall at 0x7f2678957410>,\n",
       " '_': {...},\n",
       " '__': {...},\n",
       " '___': 93,\n",
       " '_i': 'locals()',\n",
       " '_ii': 'globals()',\n",
       " '_iii': 'len(locals())',\n",
       " '_i1': \"import random\\ndef getAnswer(answerNumber):\\n  if answerNumber == 1:\\n    return 'It is certain'\\n  elif answerNumber == 2:\\n    return 'It is decidedly so'\\n  elif answerNumber == 3:\\n    return 'Yes'\\n  elif answerNumber == 4:\\n    return 'Reply hazy try again'\\n  elif answerNumber == 5:\\n    return 'Ask again later'\\n  elif answerNumber == 6:\\n    return 'Concentrate and ask again'\\n  elif answerNumber == 7:\\n    return 'My reply is no'\\n  elif answerNumber == 8:\\n    return 'Outlook not so good'\\n  elif answerNumber == 9:\\n    return 'Very doubtful'\\n\\nprint(getAnswer(random.randint(1, 9)))\",\n",
       " 'random': <module 'random' from '/home/politlen/anaconda3/lib/python3.7/random.py'>,\n",
       " 'getAnswer': <function __main__.getAnswer(answerNumber)>,\n",
       " '_i2': \"import random\\ndef getAnswer(answerNumber):\\n  if answerNumber == 1:\\n    return 'It is certain'\\n  elif answerNumber == 2:\\n    return 'It is decidedly so'\\n  elif answerNumber == 3:\\n    return 'Yes'\\n  elif answerNumber == 4:\\n    return 'Reply hazy try again'\\n  elif answerNumber == 5:\\n    return 'Ask again later'\\n  elif answerNumber == 6:\\n    return 'Concentrate and ask again'\\n  elif answerNumber == 7:\\n    return 'My reply is no'\\n  elif answerNumber == 8:\\n    return 'Outlook not so good'\\n  elif answerNumber == 9:\\n    return 'Very doubtful'\\n\\nprint(getAnswer(random.randint(1, 9)))\",\n",
       " '_i3': \"print('sfsdff', sep = 'd')\",\n",
       " '_i4': 'figure = input(\"1-прямоугольник, 2-треугольник, 3-круг: \")\\n \\nif figure == \\'1\\':\\n\\ta = float(input(\"Ширина: \"))\\n\\tb = float(input(\"Высота: \"))\\n\\tprint(\"Площадь: %.2f\" % (a*b))\\nelif figure == \\'2\\':\\n\\ta = float(input(\"Основание: \"))\\n\\th = float(input(\"Высота: \"))\\n\\tprint(\"Площадь: %.2f\" % (0.5 * a * h))\\nelif figure == \\'3\\':\\n\\tr = float(input(\"Радиус: \"))\\n\\tprint(\"Площадь: %.2f\" % (3.14 * r**2))\\nelse:\\n\\tprint(\"Ошибка ввода\")',\n",
       " 'figure': '1',\n",
       " 'a': 5.0,\n",
       " 'h': 2.0,\n",
       " '_i5': 'figure = input(\"1-прямоугольник, 2-треугольник, 3-круг: \")\\n \\nif figure == \\'1\\':\\n    a = float(input(\"Ширина: \"))\\n    b = float(input(\"Высота: \"))\\n    print(\"Площадь: %.2f\" % (a*b))\\nelif figure == \\'2\\':\\n    a = float(input(\"Основание: \"))\\n    h = float(input(\"Высота: \"))\\n    print(\"Площадь: %.2f\" % (0.5 * a * h))\\nelif figure == \\'3\\':\\n    r = float(input(\"Радиус: \"))\\n    print(\"Площадь: %.2f\" % (3.14 * r**2))\\nelse:\\n    print(\"Ошибка ввода\")',\n",
       " '_i6': 'def rectangle():\\n    a = float(input(\"Ширина: \"))\\n    b = float(input(\"Высота: \"))\\n    print(\"Площадь: %.2f\" % (a*b))\\n \\ndef triangle():\\n    a = float(input(\"Основание: \"))\\n    h = float(input(\"Высота: \"))\\n    print(\"Площадь: %.2f\" % (0.5 * a * h))\\n \\ndef circle():\\n    r = float(input(\"Радиус: \"))\\n    print(\"Площадь: %.2f\" % (3.14 * r**2))\\n \\nfigure = input(\"1-прямоугольник, 2-треугольник, 3-круг: \")\\nif figure == \\'1\\':\\n    rectangle()\\nelif figure == \\'2\\':\\n    triangle()\\nelif figure == \\'3\\':\\n    circle()\\nelse:\\n    print(\"Ошибка ввода\")',\n",
       " 'rectangle': <function __main__.rectangle()>,\n",
       " 'triangle': <function __main__.triangle()>,\n",
       " 'circle': <function __main__.circle()>,\n",
       " '_i7': \"# глобальная переменная age\\ncount = 1000\\n \\n# функция изменяющая глобальную переменную\\ndef func_one():\\n    global count\\n    count -= 500\\n    if count <=0:\\n        print('Вы не можете больше тратить')\\n    print('Вы потратили 500 рублей')\\n\\ndef func_two():\\n    global count\\n    count -= 1000\\n    if count <=0:\\n        print('Вы не можете больше тратить')\\n    print('Вы потратили 1000 рублей')\\n    \\n \\nprint(count) # напечатает 13\\nfunc_two() # увеличиваем age на 1\\nprint(count) # напечатает 14\\nfunc_one()\",\n",
       " 'count': 0,\n",
       " 'func_one': <function __main__.func_one()>,\n",
       " 'func_two': <function __main__.func_two()>,\n",
       " '_i8': \"# глобальная переменная age\\ncount = 1000\\n \\n# функция изменяющая глобальную переменную\\ndef func_one():\\n    global count\\n    count -= 500\\n    if count <=0:\\n        print('Вы не можете больше тратить')\\n    else:\\n        print('Вы потратили 500 рублей')\\n\\ndef func_two():\\n    global count\\n    count -= 1000\\n    if count <=0:\\n        print('Вы не можете больше тратить')\\n    else:\\n        print('Вы потратили 1000 рублей')\\n    \\n \\nprint(count) # напечатает 13\\nfunc_two() # увеличиваем age на 1\\nprint(count) # напечатает 14\\nfunc_one()\",\n",
       " '_i9': \"# глобальная переменная age\\ncount = 1000\\n \\n# функция изменяющая глобальную переменную\\ndef func_one():\\n    global count\\n    count -= 500\\n    if count <=0:\\n        print('Вы не можете больше тратить')\\n    else:\\n        print('Вы потратили 500 рублей')\\n\\ndef func_two():\\n    global count\\n    count -= 1000\\n    if count <=0:\\n        print('Вы не можете больше тратить')\\n    else:\\n        print('Вы потратили 1000 рублей')\\n    \\n \\nprint(count) # напечатает 13\\nfunc_one() # увеличиваем age на 1\\nprint(count) # напечатает 14\\nfunc_one()\",\n",
       " '_i10': '#print\\nwords = [\"Welcome\", \"to\", \"Python\"]\\nprint(words)\\nprint(*words, end=\"!!!!\\\\n\")\\nprint(*words, sep=\"\\\\n\")',\n",
       " 'words': ['Welcome', 'to', 'Python'],\n",
       " '_i11': 'words = [\"Welcome\", \"to\", \"Python\"]\\nprint(words)\\nprint(*words, end=\"!!!!\\\\n\")\\nprint(*words, sep=\"\\\\n\")',\n",
       " '_i12': \"old_list = ['1', '2', '3', '4', '5', '6', '7']\\nnew_list = list(map(lambda x: int(x)*5, old_list))\\nnew_list\",\n",
       " 'old_list': ['1', '2', '3', '4', '5', '6', '7'],\n",
       " 'new_list': [5, 10, 15, 20, 25, 30, 35],\n",
       " '_12': [5, 10, 15, 20, 25, 30, 35],\n",
       " '_i13': \"def myfunction():\\n    print('то же самое')\\n    \\nmyfunction()\",\n",
       " 'myfunction': <function __main__.myfunction(arg)>,\n",
       " '_i14': \"def myfunction():\\n    print('то же самое')\\n    \\n# myfunction()\",\n",
       " '_i15': \"def myfunction():\\n    print('то же самое')\\n    \\nmyfunction\",\n",
       " '_15': <function __main__.myfunction()>,\n",
       " '_i16': \"def myfunction():\\n    print('то же самое')\\n    \\nmyfunction()\",\n",
       " '_i17': \"def myfunction(arg):\\n    return arg\\n    \\nprint(myfunction('test'))\",\n",
       " '_i18': \"def myfunction(arg):\\n    return arg\\n    \\nmyfunction('test')\",\n",
       " '_18': 'test',\n",
       " '_i19': 'def bigger(a,b):\\n    if a > b:\\n        return a # Если a больше чем b, то возвращаем b и прекращаем выполнение функции\\n    return b # Незачем использовать else. Если мы дошли до этой строки, то b, точно не меньше чем a\\n \\n# присваиваем результат функции bigger переменной num\\nnum = bigger(23,23)\\n\\n\\nprint(num)',\n",
       " 'bigger': <function __main__.bigger(a, b)>,\n",
       " 'num': 24,\n",
       " '_i20': 'def bigger(a,b):\\n    if a > b:\\n        return a # Если a больше чем b, то возвращаем b и прекращаем выполнение функции\\n    return b # Незачем использовать else. Если мы дошли до этой строки, то b, точно не меньше чем a\\n \\n# присваиваем результат функции bigger переменной num\\nnum = bigger(23,24)\\n\\n\\nprint(num)',\n",
       " '_i21': \"def bigger(a,b):\\n    if a > b:\\n        return a\\n        print('hello')# Если a больше чем b, то возвращаем b и прекращаем выполнение функции\\n    return b # Незачем использовать else. Если мы дошли до этой строки, то b, точно не меньше чем a\\n \\n# присваиваем результат функции bigger переменной num\\nnum = bigger(500, 24)\\n\\n\\nprint(num)\",\n",
       " '_i22': \"def bigger(a,b):\\n    if a > b:\\n        return a\\n    return b # Незачем использовать else. Если мы дошли до этой строки, то b, точно не меньше чем a\\n    print('hello')# Если a больше чем b, то возвращаем b и прекращаем выполнение функции\\n\\n \\n# присваиваем результат функции bigger переменной num\\nnum = bigger(500, 24)\\n\\n\\nprint(num)\",\n",
       " '_i23': \"def bigger(a,b):\\n    if a > b:\\n        return a\\n    return b # Незачем использовать else. Если мы дошли до этой строки, то b, точно не меньше чем a\\n    print('hello')# Если a больше чем b, то возвращаем b и прекращаем выполнение функции\\n\\n \\n# присваиваем результат функции bigger переменной num\\nnum = bigger(1, 24)\\n\\n\\nprint(num)\",\n",
       " '_i24': \"import random\\ndef getAnswer(answerNumber):\\n  if answerNumber == 1:\\n    return 'It is certain'\\n  elif answerNumber == 2:\\n    return 'It is decidedly so'\\n  elif answerNumber == 3:\\n    return 'Yes'\\n  elif answerNumber == 4:\\n    return 'Reply hazy try again'\\n  elif answerNumber == 5:\\n    return 'Ask again later'\\n  elif answerNumber == 6:\\n    return 'Concentrate and ask again'\\n  elif answerNumber == 7:\\n    return 'My reply is no'\\n  elif answerNumber == 8:\\n    return 'Outlook not so good'\\n  elif answerNumber == 9:\\n    return 'Very doubtful'\\n\\nprint(getAnswer(random.randint(1, 9)))\",\n",
       " '_i25': \"import random\\ndef getAnswer(answerNumber):\\n  if answerNumber == 1:\\n    return 'It is certain'\\n  elif answerNumber == 2:\\n    return 'It is decidedly so'\\n  elif answerNumber == 3:\\n    return 'Yes'\\n  elif answerNumber == 4:\\n    return 'Reply hazy try again'\\n  elif answerNumber == 5:\\n    return 'Ask again later'\\n  elif answerNumber == 6:\\n    return 'Concentrate and ask again'\\n  elif answerNumber == 7:\\n    return 'My reply is no'\\n  elif answerNumber == 8:\\n    return 'Outlook not so good'\\n  elif answerNumber == 9:\\n    return 'Very doubtful'\\n\\nprint(getAnswer(random.randint(1, 9)))\",\n",
       " '_i26': 'figure = input(\"1-прямоугольник, 2-треугольник, 3-круг: \")\\n \\nif figure == \\'1\\':\\n    a = float(input(\"Ширина: \"))\\n    b = float(input(\"Высота: \"))\\n    print(\"Площадь: %.2f\" % (a*b))\\nelif figure == \\'2\\':\\n    a = float(input(\"Основание: \"))\\n    h = float(input(\"Высота: \"))\\n    print(\"Площадь: %.2f\" % (0.5 * a * h))\\nelif figure == \\'3\\':\\n    r = float(input(\"Радиус: \"))\\n    print(\"Площадь: %.2f\" % (3.14 * r**2))\\nelse:\\n    print(\"Ошибка ввода\")',\n",
       " 'b': 6.0,\n",
       " '_i27': 'words = [\"Welcome\", \"to\", \"Python\"]\\nprint(words)\\nprint(*words, end=\"Guys\\\\n\")\\nprint(*words, sep=\"\\\\n\")\\nprint(*words, )\\n\\n\\n    ',\n",
       " '_i28': 'words = [\"Welcome\", \"to\", \"Python\"]\\nprint(words)\\nprint(*words, end=\" Guys\\\\n\")\\nprint(*words, sep=\"\\\\n\")\\nprint(*words, )\\n\\n\\n    ',\n",
       " '_i29': 'words = [\"Welcome\", \"to\", \"Python\"]\\nprint(words)\\nprint(*words, end=\" Guys\\\\n\")\\nprint(*words, sep=\"\\\\n\")\\nprint(*words)\\n\\n\\n    ',\n",
       " '_i30': 'help(print)',\n",
       " '_i31': \"print( 'fdfdf', b = 'f')\",\n",
       " '_i32': \"print('fdfdf')\",\n",
       " '_i33': '\"\"\"Аргументы - ключевые слова используются при вызове функции. \\nБлагодаря ключевым аргументам, вы можете задавать произвольный \\n(то есть не такой каким он описа при создании функции) порядок аргументов\"\"\"\\n\\ndef person(name, age):\\n    print(name, \"is\", age, \"years old\")\\n \\n# Хотя в описании функции первым аргументом идет имя, мы можем вызвать функцию вот так\\n\\nperson(\\'Bill\\', 18)\\nperson(age=23, name=\"John\")',\n",
       " 'person': <function __main__.person(name, age)>,\n",
       " '_i34': '\"\"\"Аргументы - ключевые слова используются при вызове функции. \\nБлагодаря ключевым аргументам, вы можете задавать произвольный \\n(то есть не такой каким он описа при создании функции) порядок аргументов\"\"\"\\n\\ndef person(name, age):\\n    print(name, \"is\", age, \"years old\")\\n \\n# Хотя в описании функции первым аргументом идет имя, мы можем вызвать функцию вот так\\n\\nperson(\\'Bill\\')\\nperson(age=23, name=\"John\")',\n",
       " '_i35': '#Аргумент по умолчанию, это аргумент, значение для которого задано изначально, при создании функции.\\n\\ndef space(planet_name, center=\"Star\"):\\n    print(planet_name, \"is orbiting a\", center)\\n \\n# Можно вызвать функцию space так:\\nspace(\"Mars\")\\n# В результате получим: Mars is orbiting a Star\\n \\n# Можно вызвать функцию space иначе:\\nspace(\"Mars\", center=\"Black Hole\")\\n# В результате получим: Mars is orbiting a Black Hole',\n",
       " 'space': <function __main__.space(planet_name, center='Star')>,\n",
       " '_i36': '#Аргументы произвольной длины\\narr = [1, 19, 123]\\n\\ndef unknown(args):\\n    for argument in args:\\n        print(argument * 2)\\n \\n# unknown(\"hello\",\"world\") # напечатает оба слова, каждое с новой строки\\n# unknown(1,2,3,4,5) # напечатает все числа, каждое с новой строки\\n\\nunknown(*arr) ',\n",
       " 'arr': [1, 19, 123],\n",
       " 'unknown': <function __main__.unknown(args)>,\n",
       " '_i37': '#Аргументы произвольной длины\\narr = [1, 19, 123]\\n\\ndef unknown(args):\\n    for argument in args:\\n        print(argument * 2)\\n \\n# unknown(\"hello\",\"world\") # напечатает оба слова, каждое с новой строки\\n# unknown(1,2,3,4,5) # напечатает все числа, каждое с новой строки\\n\\nunknown(arr) ',\n",
       " '_i38': '# глобальная переменная age\\nage = 44\\n \\ndef info():\\n    print(age) # Печатаем глобальную переменную age\\n\\n\\ndef local_info():\\n    age = 22 # создаем локальную переменную age \\n    print(age)\\n \\ninfo() # напечатает 44\\nlocal_info() # напечатает 22',\n",
       " 'age': 14,\n",
       " 'info': <function __main__.info()>,\n",
       " 'local_info': <function __main__.local_info()>,\n",
       " '_i39': '# глобальная переменная age\\nage = 13\\n \\n# функция изменяющая глобальную переменную\\ndef get_older():\\n    global age\\n    age += 1\\n \\nprint(age) # напечатает 13\\nget_older() # увеличиваем age на 1\\nprint(age) # напечатает 14',\n",
       " 'get_older': <function __main__.get_older()>,\n",
       " '_i40': \"# глобальная переменная age\\ncount = 1000\\n \\n# функция изменяющая глобальную переменную\\ndef func_one():\\n    global count\\n    count -= 500\\n    if count <=0:\\n        print('Вы не можете больше тратить')\\n    else:\\n        print('Вы потратили 500 рублей')\\n\\ndef func_two():\\n    global count\\n    count -= 1000\\n    if count <=0:\\n        print('Вы не можете больше тратить')\\n    else:\\n        print('Вы потратили 1000 рублей')\\n    \\n \\nprint(count) # напечатает 13\\nfunc_one() # увеличиваем age на 1\\nprint(count) # напечатает 14\\nfunc_one()\",\n",
       " '_i41': 'len(globals())',\n",
       " '_41': 91,\n",
       " '_i42': 'len(locals())',\n",
       " '_42': 93,\n",
       " '_i43': 'globals()',\n",
       " '_43': {...},\n",
       " '_i44': 'locals()',\n",
       " '_44': {...},\n",
       " '_i45': 'locals()\\nglobals()'}"
      ]
     },
     "execution_count": 45,
     "metadata": {},
     "output_type": "execute_result"
    }
   ],
   "source": [
    "locals()\n",
    "globals()"
   ]
  },
  {
   "cell_type": "markdown",
   "metadata": {},
   "source": [
    "Подробнеее о встроенных функциях"
   ]
  },
  {
   "cell_type": "code",
   "execution_count": 10,
   "metadata": {},
   "outputs": [
    {
     "name": "stdout",
     "output_type": "stream",
     "text": [
      "['Welcome', 'to', 'Python']\n",
      "Welcome to Python!!!!\n",
      "Welcome\n",
      "to\n",
      "Python\n"
     ]
    }
   ],
   "source": [
    "#print\n",
    "words = [\"Welcome\", \"to\", \"Python\"]\n",
    "print(words)\n",
    "print(*words, end=\"!!!!\\n\")\n",
    "print(*words, sep=\"\\n\")\n"
   ]
  },
  {
   "cell_type": "code",
   "execution_count": 22,
   "metadata": {},
   "outputs": [
    {
     "name": "stdout",
     "output_type": "stream",
     "text": [
      "Help on built-in function print in module builtins:\n",
      "\n",
      "print(...)\n",
      "    print(value, ..., sep=' ', end='\\n', file=sys.stdout, flush=False)\n",
      "    \n",
      "    Prints the values to a stream, or to sys.stdout by default.\n",
      "    Optional keyword arguments:\n",
      "    file:  a file-like object (stream); defaults to the current sys.stdout.\n",
      "    sep:   string inserted between values, default a space.\n",
      "    end:   string appended after the last value, default a newline.\n",
      "    flush: whether to forcibly flush the stream.\n",
      "\n"
     ]
    }
   ],
   "source": [
    "help(print)"
   ]
  },
  {
   "cell_type": "code",
   "execution_count": 50,
   "metadata": {},
   "outputs": [],
   "source": [
    "def multiply():\n",
    "    pass\n",
    "    \n"
   ]
  },
  {
   "cell_type": "markdown",
   "metadata": {},
   "source": [
    "# pass\n",
    "\n",
    "Оператор-заглушка, равноценный отсутствию операции.\n",
    "В ходе исполнения данного оператора ничего не происходит, поэтому он может использоваться в качестве заглушки в тех местах, где это синтаксически необходимо, например: в инструкциях, где тело является обязательным, таких как def, except и пр.\n",
    "\n",
    "Зачастую pass используется там, где код пока ещё не появился, но планируется. Кроме этого, иногда, его используют при отладке, разместив на строчке с ним точку остановки.\n"
   ]
  },
  {
   "cell_type": "code",
   "execution_count": 14,
   "metadata": {
    "scrolled": false
   },
   "outputs": [
    {
     "name": "stdout",
     "output_type": "stream",
     "text": [
      "20\n",
      "20\n"
     ]
    },
    {
     "data": {
      "text/plain": [
       "function"
      ]
     },
     "execution_count": 14,
     "metadata": {},
     "output_type": "execute_result"
    }
   ],
   "source": [
    "#Обязательные аргументы функции:\n",
    "\n",
    "'''Если при создании функции мы указали количество передаваемых ей аргументов и их порядок, \n",
    "то и вызывать ее мы должны с тем же количеством аргументов, заданных в нужном порядке'''\n",
    "\n",
    "\n",
    "\n",
    "        \n",
    "\n",
    "\n",
    "print(y)\n",
    "\n",
    "\n",
    "x = 123123\n",
    "# Корректное использование функции\n",
    " \n",
    "# Некорректное использование функции\n",
    "# bigger()\n",
    "# bigger(3)\n",
    "# bigger(12,7,3) \n",
    "\n",
    "def num(x):\n",
    "    return x*5\n",
    "\n",
    "\n",
    "y = bigger(10, num(4))\n",
    "print(y)\n",
    "\n"
   ]
  },
  {
   "cell_type": "code",
   "execution_count": 24,
   "metadata": {},
   "outputs": [
    {
     "name": "stdout",
     "output_type": "stream",
     "text": [
      "Help on function myfunction in module __main__:\n",
      "\n",
      "myfunction()\n",
      "    Это тестовое описание функции для урока\n",
      "\n"
     ]
    }
   ],
   "source": [
    "help(myfunction)"
   ]
  },
  {
   "cell_type": "markdown",
   "metadata": {},
   "source": [
    "## str()"
   ]
  },
  {
   "cell_type": "code",
   "execution_count": 53,
   "metadata": {},
   "outputs": [
    {
     "data": {
      "text/plain": [
       "'Python 3'"
      ]
     },
     "execution_count": 53,
     "metadata": {},
     "output_type": "execute_result"
    }
   ],
   "source": [
    "version = 3\n",
    "\"Python \" + str(version)"
   ]
  },
  {
   "cell_type": "markdown",
   "metadata": {},
   "source": [
    "## int()"
   ]
  },
  {
   "cell_type": "code",
   "execution_count": 54,
   "metadata": {},
   "outputs": [
    {
     "data": {
      "text/plain": [
       "3"
      ]
     },
     "execution_count": 54,
     "metadata": {},
     "output_type": "execute_result"
    }
   ],
   "source": [
    "program_name = \"Python 3\"\n",
    "version_number = program_name.split()[-1]\n",
    "int(version_number)\n",
    "\n"
   ]
  },
  {
   "cell_type": "markdown",
   "metadata": {},
   "source": [
    "## float()"
   ]
  },
  {
   "cell_type": "code",
   "execution_count": 28,
   "metadata": {},
   "outputs": [
    {
     "name": "stdout",
     "output_type": "stream",
     "text": [
      "Help on class float in module builtins:\n",
      "\n",
      "class float(object)\n",
      " |  float(x=0, /)\n",
      " |  \n",
      " |  Convert a string or number to a floating point number, if possible.\n",
      " |  \n",
      " |  Methods defined here:\n",
      " |  \n",
      " |  __abs__(self, /)\n",
      " |      abs(self)\n",
      " |  \n",
      " |  __add__(self, value, /)\n",
      " |      Return self+value.\n",
      " |  \n",
      " |  __bool__(self, /)\n",
      " |      self != 0\n",
      " |  \n",
      " |  __divmod__(self, value, /)\n",
      " |      Return divmod(self, value).\n",
      " |  \n",
      " |  __eq__(self, value, /)\n",
      " |      Return self==value.\n",
      " |  \n",
      " |  __float__(self, /)\n",
      " |      float(self)\n",
      " |  \n",
      " |  __floordiv__(self, value, /)\n",
      " |      Return self//value.\n",
      " |  \n",
      " |  __format__(self, format_spec, /)\n",
      " |      Formats the float according to format_spec.\n",
      " |  \n",
      " |  __ge__(self, value, /)\n",
      " |      Return self>=value.\n",
      " |  \n",
      " |  __getattribute__(self, name, /)\n",
      " |      Return getattr(self, name).\n",
      " |  \n",
      " |  __getnewargs__(self, /)\n",
      " |  \n",
      " |  __gt__(self, value, /)\n",
      " |      Return self>value.\n",
      " |  \n",
      " |  __hash__(self, /)\n",
      " |      Return hash(self).\n",
      " |  \n",
      " |  __int__(self, /)\n",
      " |      int(self)\n",
      " |  \n",
      " |  __le__(self, value, /)\n",
      " |      Return self<=value.\n",
      " |  \n",
      " |  __lt__(self, value, /)\n",
      " |      Return self<value.\n",
      " |  \n",
      " |  __mod__(self, value, /)\n",
      " |      Return self%value.\n",
      " |  \n",
      " |  __mul__(self, value, /)\n",
      " |      Return self*value.\n",
      " |  \n",
      " |  __ne__(self, value, /)\n",
      " |      Return self!=value.\n",
      " |  \n",
      " |  __neg__(self, /)\n",
      " |      -self\n",
      " |  \n",
      " |  __pos__(self, /)\n",
      " |      +self\n",
      " |  \n",
      " |  __pow__(self, value, mod=None, /)\n",
      " |      Return pow(self, value, mod).\n",
      " |  \n",
      " |  __radd__(self, value, /)\n",
      " |      Return value+self.\n",
      " |  \n",
      " |  __rdivmod__(self, value, /)\n",
      " |      Return divmod(value, self).\n",
      " |  \n",
      " |  __repr__(self, /)\n",
      " |      Return repr(self).\n",
      " |  \n",
      " |  __rfloordiv__(self, value, /)\n",
      " |      Return value//self.\n",
      " |  \n",
      " |  __rmod__(self, value, /)\n",
      " |      Return value%self.\n",
      " |  \n",
      " |  __rmul__(self, value, /)\n",
      " |      Return value*self.\n",
      " |  \n",
      " |  __round__(self, ndigits=None, /)\n",
      " |      Return the Integral closest to x, rounding half toward even.\n",
      " |      \n",
      " |      When an argument is passed, work like built-in round(x, ndigits).\n",
      " |  \n",
      " |  __rpow__(self, value, mod=None, /)\n",
      " |      Return pow(value, self, mod).\n",
      " |  \n",
      " |  __rsub__(self, value, /)\n",
      " |      Return value-self.\n",
      " |  \n",
      " |  __rtruediv__(self, value, /)\n",
      " |      Return value/self.\n",
      " |  \n",
      " |  __str__(self, /)\n",
      " |      Return str(self).\n",
      " |  \n",
      " |  __sub__(self, value, /)\n",
      " |      Return self-value.\n",
      " |  \n",
      " |  __truediv__(self, value, /)\n",
      " |      Return self/value.\n",
      " |  \n",
      " |  __trunc__(self, /)\n",
      " |      Return the Integral closest to x between 0 and x.\n",
      " |  \n",
      " |  as_integer_ratio(self, /)\n",
      " |      Return integer ratio.\n",
      " |      \n",
      " |      Return a pair of integers, whose ratio is exactly equal to the original float\n",
      " |      and with a positive denominator.\n",
      " |      \n",
      " |      Raise OverflowError on infinities and a ValueError on NaNs.\n",
      " |      \n",
      " |      >>> (10.0).as_integer_ratio()\n",
      " |      (10, 1)\n",
      " |      >>> (0.0).as_integer_ratio()\n",
      " |      (0, 1)\n",
      " |      >>> (-.25).as_integer_ratio()\n",
      " |      (-1, 4)\n",
      " |  \n",
      " |  conjugate(self, /)\n",
      " |      Return self, the complex conjugate of any float.\n",
      " |  \n",
      " |  hex(self, /)\n",
      " |      Return a hexadecimal representation of a floating-point number.\n",
      " |      \n",
      " |      >>> (-0.1).hex()\n",
      " |      '-0x1.999999999999ap-4'\n",
      " |      >>> 3.14159.hex()\n",
      " |      '0x1.921f9f01b866ep+1'\n",
      " |  \n",
      " |  is_integer(self, /)\n",
      " |      Return True if the float is an integer.\n",
      " |  \n",
      " |  ----------------------------------------------------------------------\n",
      " |  Class methods defined here:\n",
      " |  \n",
      " |  __getformat__(typestr, /) from builtins.type\n",
      " |      You probably don't want to use this function.\n",
      " |      \n",
      " |        typestr\n",
      " |          Must be 'double' or 'float'.\n",
      " |      \n",
      " |      It exists mainly to be used in Python's test suite.\n",
      " |      \n",
      " |      This function returns whichever of 'unknown', 'IEEE, big-endian' or 'IEEE,\n",
      " |      little-endian' best describes the format of floating point numbers used by the\n",
      " |      C type named by typestr.\n",
      " |  \n",
      " |  __set_format__(typestr, fmt, /) from builtins.type\n",
      " |      You probably don't want to use this function.\n",
      " |      \n",
      " |        typestr\n",
      " |          Must be 'double' or 'float'.\n",
      " |        fmt\n",
      " |          Must be one of 'unknown', 'IEEE, big-endian' or 'IEEE, little-endian',\n",
      " |          and in addition can only be one of the latter two if it appears to\n",
      " |          match the underlying C reality.\n",
      " |      \n",
      " |      It exists mainly to be used in Python's test suite.\n",
      " |      \n",
      " |      Override the automatic determination of C-level floating point type.\n",
      " |      This affects how floats are converted to and from binary strings.\n",
      " |  \n",
      " |  fromhex(string, /) from builtins.type\n",
      " |      Create a floating-point number from a hexadecimal string.\n",
      " |      \n",
      " |      >>> float.fromhex('0x1.ffffp10')\n",
      " |      2047.984375\n",
      " |      >>> float.fromhex('-0x1p-1074')\n",
      " |      -5e-324\n",
      " |  \n",
      " |  ----------------------------------------------------------------------\n",
      " |  Static methods defined here:\n",
      " |  \n",
      " |  __new__(*args, **kwargs) from builtins.type\n",
      " |      Create and return a new object.  See help(type) for accurate signature.\n",
      " |  \n",
      " |  ----------------------------------------------------------------------\n",
      " |  Data descriptors defined here:\n",
      " |  \n",
      " |  imag\n",
      " |      the imaginary part of a complex number\n",
      " |  \n",
      " |  real\n",
      " |      the real part of a complex number\n",
      "\n"
     ]
    }
   ],
   "source": [
    "pi_digits = '3.141592653589793238462643383279502884197169399375'\n",
    "float(pi_digits)\n"
   ]
  },
  {
   "cell_type": "code",
   "execution_count": 57,
   "metadata": {},
   "outputs": [
    {
     "name": "stdout",
     "output_type": "stream",
     "text": [
      "0 2\n",
      "1 4\n",
      "2 6\n"
     ]
    }
   ],
   "source": [
    "a = enumerate([1, 2, 3])\n",
    "for i, k in list(a):\n",
    "    print(i, k*2)\n"
   ]
  },
  {
   "cell_type": "markdown",
   "metadata": {},
   "source": [
    "## zip"
   ]
  },
  {
   "cell_type": "code",
   "execution_count": 65,
   "metadata": {},
   "outputs": [
    {
     "data": {
      "text/plain": [
       "[(2, 'P', 2), (1, 'y', 6), (3, 't', 3), (4, 'h', 4)]"
      ]
     },
     "execution_count": 65,
     "metadata": {},
     "output_type": "execute_result"
    }
   ],
   "source": [
    "\n",
    "\n",
    "#Эта функция ещё более специализирована, чем enumerate.\n",
    "#Zip используется для перебора сразу нескольких объектов одновременно.\n",
    "\n",
    "one_iterable = [2, 1, 3, 4, 7, 11]\n",
    "another_iterable = ['P', 'y', 't', 'h', 'o', 'n']\n",
    "third_list = [2, 6, 3, 4]\n",
    "list(zip(one_iterable, another_iterable, third_list))\n",
    "# for n, letter in zip(one_iterable, another_iterable):\n",
    "#     print(letter, n)\n",
    "\n",
    "\n",
    "#По сравнению с enumerate, последняя функция удобна, когда нужна индексация во время цикла.\n",
    "#Если нужно обрабатывать несколько объектов одновременно, zip предпочтительнее enumerate."
   ]
  },
  {
   "cell_type": "markdown",
   "metadata": {},
   "source": [
    "## reversed\n"
   ]
  },
  {
   "cell_type": "code",
   "execution_count": 66,
   "metadata": {},
   "outputs": [
    {
     "name": "stdout",
     "output_type": "stream",
     "text": [
      "<list_reverseiterator object at 0x7f2663fac3d0>\n",
      "[7, 4, 3, 1, 2]\n",
      "[]\n"
     ]
    }
   ],
   "source": [
    "\n",
    "#Функция reversed, как enumerate и zip, возвращает итератор.\n",
    "\n",
    "numbers = [2, 1, 3, 4, 7]\n",
    "print(reversed(numbers))\n",
    "\n",
    "#Единственное, что можно сделать с этим итератором, пройтись по нему (но только один раз).\n",
    "\n",
    "reversed_numbers = reversed(numbers)\n",
    "print(list(reversed_numbers))\n",
    "print(list(reversed_numbers))\n",
    "\n",
    "\n",
    "#Подобно enumerate и zip, reversed является своего рода вспомогательной функцией в циклах. \n",
    "#Её использование можно увидеть исключительно в цикле for."
   ]
  },
  {
   "cell_type": "markdown",
   "metadata": {},
   "source": [
    "## lambda, map, filter"
   ]
  },
  {
   "cell_type": "markdown",
   "metadata": {},
   "source": [
    "lambda оператор или lambda функция в Python это способ создать анонимную функцию, то есть функцию без имени. \n",
    "\n",
    "Такие функции можно назвать одноразовыми, они используются только при создании.\n",
    "\n",
    "Как правило, lambda функции используются в комбинации с функциями filter, map, reduce."
   ]
  },
  {
   "cell_type": "code",
   "execution_count": 1,
   "metadata": {},
   "outputs": [
    {
     "data": {
      "text/plain": [
       "<function __main__.<lambda>(arguments)>"
      ]
     },
     "execution_count": 1,
     "metadata": {},
     "output_type": "execute_result"
    }
   ],
   "source": [
    "lambda arguments: expression"
   ]
  },
  {
   "cell_type": "code",
   "execution_count": 71,
   "metadata": {},
   "outputs": [
    {
     "data": {
      "text/plain": [
       "16"
      ]
     },
     "execution_count": 71,
     "metadata": {},
     "output_type": "execute_result"
    }
   ],
   "source": [
    "multiply = lambda x,y: x * y\n",
    "multiply(21, 2)\n",
    "\n",
    "def multiply(x, y):\n",
    "    return x*y\n",
    "\n",
    "multiply = multiply(2, 8)\n",
    "multiply"
   ]
  },
  {
   "cell_type": "markdown",
   "metadata": {},
   "source": [
    "В Python функция map принимает два аргумента: функцию и аргумент составного типа данных, например, список. \n",
    "\n",
    "map применяет к каждому элементу списка переданную функцию. \n",
    "\n",
    "Например, вы прочитали из файла список чисел, изначально все эти числа имеют строковый тип данных, чтобы работать с ними - нужно превратить их в целое число:"
   ]
  },
  {
   "cell_type": "code",
   "execution_count": 3,
   "metadata": {},
   "outputs": [
    {
     "name": "stdout",
     "output_type": "stream",
     "text": [
      "[1, 2, 3, 4, 5, 6, 7]\n"
     ]
    }
   ],
   "source": [
    "old_list = ['1', '2', '3', '4', '5', '6', '7']\n",
    " \n",
    "new_list = []\n",
    "for item in old_list:\n",
    "    new_list.append(int(item))\n",
    " \n",
    "print(new_list)\n",
    " \n"
   ]
  },
  {
   "cell_type": "code",
   "execution_count": 32,
   "metadata": {},
   "outputs": [
    {
     "data": {
      "text/plain": [
       "[1, 2, 3, 4, 5, 6, 7]"
      ]
     },
     "execution_count": 32,
     "metadata": {},
     "output_type": "execute_result"
    }
   ],
   "source": [
    "old_list = ['1', '2', '3', '4', '5', '6', '7']\n",
    "\n",
    "new_list = [int(x) for x in old_list]\n",
    "new_list"
   ]
  },
  {
   "cell_type": "code",
   "execution_count": 73,
   "metadata": {},
   "outputs": [
    {
     "data": {
      "text/plain": [
       "[6, 12, 18, 24, 30, 36, 42]"
      ]
     },
     "execution_count": 73,
     "metadata": {},
     "output_type": "execute_result"
    }
   ],
   "source": [
    "old_list = ['1', '2', '3', '4', '5', '6', '7']\n",
    "new_list = list(map(lambda x: int(x)*6, old_list))\n",
    "new_list"
   ]
  },
  {
   "cell_type": "code",
   "execution_count": 72,
   "metadata": {},
   "outputs": [
    {
     "name": "stdout",
     "output_type": "stream",
     "text": [
      "[1, 2, 3, 4, 5, 6, 7]\n"
     ]
    }
   ],
   "source": [
    "new_list = list(map(int, old_list))\n",
    "print(new_list)"
   ]
  },
  {
   "cell_type": "markdown",
   "metadata": {},
   "source": [
    "Как видите такой способ занимает меньше строк, более читабелен и выполняется быстрее. map также работает и с функциями созданными пользователем:"
   ]
  },
  {
   "cell_type": "code",
   "execution_count": 7,
   "metadata": {
    "scrolled": true
   },
   "outputs": [
    {
     "name": "stdout",
     "output_type": "stream",
     "text": [
      "[1.6, 10.4, 27.84, 3.84, 14.4]\n"
     ]
    }
   ],
   "source": [
    "def miles_to_kilometers(num_miles):\n",
    "    \"\"\" Converts miles to the kilometers \"\"\"\n",
    "    return num_miles * 1.6\n",
    " \n",
    "mile_distances = [1.0, 6.5, 17.4, 2.4, 9]\n",
    "kilometer_distances = list(map(miles_to_kilometers, mile_distances))\n",
    "print(kilometer_distances)"
   ]
  },
  {
   "cell_type": "code",
   "execution_count": 34,
   "metadata": {},
   "outputs": [
    {
     "name": "stdout",
     "output_type": "stream",
     "text": [
      "[1.6, 10.4, 27.84, 3.84, 14.4]\n"
     ]
    }
   ],
   "source": [
    "mile_distances = [1.0, 6.5, 17.4, 2.4, 9]\n",
    "kilometer_distances = list(map(lambda x: x * 1.6, mile_distances))\n",
    " \n",
    "print (kilometer_distances)\n",
    " \n"
   ]
  },
  {
   "cell_type": "markdown",
   "metadata": {},
   "source": [
    "Функция map может быть так же применена для нескольких списков, в таком случае функция-аргумент должна принимать количество аргументов, соответствующее количеству списков:"
   ]
  },
  {
   "cell_type": "code",
   "execution_count": 11,
   "metadata": {},
   "outputs": [
    {
     "name": "stdout",
     "output_type": "stream",
     "text": [
      "[5, 7, 9]\n"
     ]
    }
   ],
   "source": [
    "l1 = [1,2,3]\n",
    "l2 = [4,5,6]\n",
    " \n",
    "new_list = list(map(lambda x,y: x + y, l1, l2))\n",
    "print (new_list)"
   ]
  },
  {
   "cell_type": "markdown",
   "metadata": {},
   "source": [
    "Если же количество элементов в списках совпадать не будет, то выполнение закончится на минимальном списке:"
   ]
  },
  {
   "cell_type": "code",
   "execution_count": 12,
   "metadata": {},
   "outputs": [
    {
     "name": "stdout",
     "output_type": "stream",
     "text": [
      "[4, 5]\n"
     ]
    }
   ],
   "source": [
    "l1 = [1,2,3]\n",
    "l2 = [4,5]\n",
    " \n",
    "new_list = list(map(lambda x,y:  + y, l1, l2))\n",
    " \n",
    "print (new_list)"
   ]
  },
  {
   "cell_type": "markdown",
   "metadata": {},
   "source": [
    "Функция filter предлагает элегантный вариант фильтрации элементов последовательности. Принимает в качестве аргументов функцию и последовательность, которую необходимо отфильтровать:"
   ]
  },
  {
   "cell_type": "code",
   "execution_count": 78,
   "metadata": {},
   "outputs": [
    {
     "name": "stdout",
     "output_type": "stream",
     "text": [
      "['мак', 'молоко', 'мороженое', 'мясо']\n"
     ]
    }
   ],
   "source": [
    "mixed = ['мак', 'молоко', 'банан', 'мороженое', 'мясо', 'греча', 'кура', 'апельсин']\n",
    "zolushka = list(filter(lambda x: x.startswith('м'), mixed))\n",
    " \n",
    "print (zolushka)\n"
   ]
  },
  {
   "cell_type": "markdown",
   "metadata": {},
   "source": [
    "### Применение функций в Pandas"
   ]
  },
  {
   "cell_type": "code",
   "execution_count": 74,
   "metadata": {},
   "outputs": [],
   "source": [
    "import pandas as pd\n",
    "\n",
    "df = pd.read_csv('https://raw.githubusercontent.com/alnagaev/landing/master/train.csv')"
   ]
  },
  {
   "cell_type": "code",
   "execution_count": 76,
   "metadata": {},
   "outputs": [
    {
     "data": {
      "text/html": [
       "<div>\n",
       "<style scoped>\n",
       "    .dataframe tbody tr th:only-of-type {\n",
       "        vertical-align: middle;\n",
       "    }\n",
       "\n",
       "    .dataframe tbody tr th {\n",
       "        vertical-align: top;\n",
       "    }\n",
       "\n",
       "    .dataframe thead th {\n",
       "        text-align: right;\n",
       "    }\n",
       "</style>\n",
       "<table border=\"1\" class=\"dataframe\">\n",
       "  <thead>\n",
       "    <tr style=\"text-align: right;\">\n",
       "      <th></th>\n",
       "      <th>PassengerId</th>\n",
       "      <th>Survived</th>\n",
       "      <th>Pclass</th>\n",
       "      <th>Name</th>\n",
       "      <th>Sex</th>\n",
       "      <th>Age</th>\n",
       "      <th>SibSp</th>\n",
       "      <th>Parch</th>\n",
       "      <th>Ticket</th>\n",
       "      <th>Fare</th>\n",
       "      <th>Cabin</th>\n",
       "      <th>Embarked</th>\n",
       "    </tr>\n",
       "  </thead>\n",
       "  <tbody>\n",
       "    <tr>\n",
       "      <td>0</td>\n",
       "      <td>1</td>\n",
       "      <td>0</td>\n",
       "      <td>3</td>\n",
       "      <td>Braund, Mr. Owen Harris</td>\n",
       "      <td>male</td>\n",
       "      <td>22.0</td>\n",
       "      <td>1</td>\n",
       "      <td>0</td>\n",
       "      <td>A/5 21171</td>\n",
       "      <td>7.2500</td>\n",
       "      <td>NaN</td>\n",
       "      <td>S</td>\n",
       "    </tr>\n",
       "    <tr>\n",
       "      <td>1</td>\n",
       "      <td>2</td>\n",
       "      <td>1</td>\n",
       "      <td>1</td>\n",
       "      <td>Cumings, Mrs. John Bradley (Florence Briggs Th...</td>\n",
       "      <td>female</td>\n",
       "      <td>38.0</td>\n",
       "      <td>1</td>\n",
       "      <td>0</td>\n",
       "      <td>PC 17599</td>\n",
       "      <td>71.2833</td>\n",
       "      <td>C85</td>\n",
       "      <td>C</td>\n",
       "    </tr>\n",
       "    <tr>\n",
       "      <td>2</td>\n",
       "      <td>3</td>\n",
       "      <td>1</td>\n",
       "      <td>3</td>\n",
       "      <td>Heikkinen, Miss. Laina</td>\n",
       "      <td>female</td>\n",
       "      <td>26.0</td>\n",
       "      <td>0</td>\n",
       "      <td>0</td>\n",
       "      <td>STON/O2. 3101282</td>\n",
       "      <td>7.9250</td>\n",
       "      <td>NaN</td>\n",
       "      <td>S</td>\n",
       "    </tr>\n",
       "    <tr>\n",
       "      <td>3</td>\n",
       "      <td>4</td>\n",
       "      <td>1</td>\n",
       "      <td>1</td>\n",
       "      <td>Futrelle, Mrs. Jacques Heath (Lily May Peel)</td>\n",
       "      <td>female</td>\n",
       "      <td>35.0</td>\n",
       "      <td>1</td>\n",
       "      <td>0</td>\n",
       "      <td>113803</td>\n",
       "      <td>53.1000</td>\n",
       "      <td>C123</td>\n",
       "      <td>S</td>\n",
       "    </tr>\n",
       "    <tr>\n",
       "      <td>4</td>\n",
       "      <td>5</td>\n",
       "      <td>0</td>\n",
       "      <td>3</td>\n",
       "      <td>Allen, Mr. William Henry</td>\n",
       "      <td>male</td>\n",
       "      <td>35.0</td>\n",
       "      <td>0</td>\n",
       "      <td>0</td>\n",
       "      <td>373450</td>\n",
       "      <td>8.0500</td>\n",
       "      <td>NaN</td>\n",
       "      <td>S</td>\n",
       "    </tr>\n",
       "  </tbody>\n",
       "</table>\n",
       "</div>"
      ],
      "text/plain": [
       "   PassengerId  Survived  Pclass  \\\n",
       "0            1         0       3   \n",
       "1            2         1       1   \n",
       "2            3         1       3   \n",
       "3            4         1       1   \n",
       "4            5         0       3   \n",
       "\n",
       "                                                Name     Sex   Age  SibSp  \\\n",
       "0                            Braund, Mr. Owen Harris    male  22.0      1   \n",
       "1  Cumings, Mrs. John Bradley (Florence Briggs Th...  female  38.0      1   \n",
       "2                             Heikkinen, Miss. Laina  female  26.0      0   \n",
       "3       Futrelle, Mrs. Jacques Heath (Lily May Peel)  female  35.0      1   \n",
       "4                           Allen, Mr. William Henry    male  35.0      0   \n",
       "\n",
       "   Parch            Ticket     Fare Cabin Embarked  \n",
       "0      0         A/5 21171   7.2500   NaN        S  \n",
       "1      0          PC 17599  71.2833   C85        C  \n",
       "2      0  STON/O2. 3101282   7.9250   NaN        S  \n",
       "3      0            113803  53.1000  C123        S  \n",
       "4      0            373450   8.0500   NaN        S  "
      ]
     },
     "execution_count": 76,
     "metadata": {},
     "output_type": "execute_result"
    }
   ],
   "source": [
    "df.head()"
   ]
  },
  {
   "cell_type": "markdown",
   "metadata": {},
   "source": [
    "Создаем новый столбец с информацией о том, был ли пассажир на борту один или с родственниками\n",
    "\n",
    "Столбец должен содержать значение \"alone\", если он был на борту один (без супруга/супруги, братьев, сестер, детей и родителей) и значение \"not alone\", если пассажир путешествовал с кем-то из родственников\n"
   ]
  },
  {
   "cell_type": "code",
   "execution_count": 30,
   "metadata": {},
   "outputs": [
    {
     "data": {
      "text/html": [
       "<div>\n",
       "<style scoped>\n",
       "    .dataframe tbody tr th:only-of-type {\n",
       "        vertical-align: middle;\n",
       "    }\n",
       "\n",
       "    .dataframe tbody tr th {\n",
       "        vertical-align: top;\n",
       "    }\n",
       "\n",
       "    .dataframe thead th {\n",
       "        text-align: right;\n",
       "    }\n",
       "</style>\n",
       "<table border=\"1\" class=\"dataframe\">\n",
       "  <thead>\n",
       "    <tr style=\"text-align: right;\">\n",
       "      <th></th>\n",
       "      <th>PassengerId</th>\n",
       "      <th>Survived</th>\n",
       "      <th>Pclass</th>\n",
       "      <th>Name</th>\n",
       "      <th>Sex</th>\n",
       "      <th>Age</th>\n",
       "      <th>SibSp</th>\n",
       "      <th>Parch</th>\n",
       "      <th>Ticket</th>\n",
       "      <th>Fare</th>\n",
       "      <th>Cabin</th>\n",
       "      <th>Embarked</th>\n",
       "      <th>Alone</th>\n",
       "    </tr>\n",
       "  </thead>\n",
       "  <tbody>\n",
       "    <tr>\n",
       "      <td>0</td>\n",
       "      <td>1</td>\n",
       "      <td>0</td>\n",
       "      <td>3</td>\n",
       "      <td>Braund, Mr. Owen Harris</td>\n",
       "      <td>male</td>\n",
       "      <td>22.0</td>\n",
       "      <td>1</td>\n",
       "      <td>0</td>\n",
       "      <td>A/5 21171</td>\n",
       "      <td>7.2500</td>\n",
       "      <td>NaN</td>\n",
       "      <td>S</td>\n",
       "      <td>not_alone</td>\n",
       "    </tr>\n",
       "    <tr>\n",
       "      <td>1</td>\n",
       "      <td>2</td>\n",
       "      <td>1</td>\n",
       "      <td>1</td>\n",
       "      <td>Cumings, Mrs. John Bradley (Florence Briggs Th...</td>\n",
       "      <td>female</td>\n",
       "      <td>38.0</td>\n",
       "      <td>1</td>\n",
       "      <td>0</td>\n",
       "      <td>PC 17599</td>\n",
       "      <td>71.2833</td>\n",
       "      <td>C85</td>\n",
       "      <td>C</td>\n",
       "      <td>not_alone</td>\n",
       "    </tr>\n",
       "    <tr>\n",
       "      <td>2</td>\n",
       "      <td>3</td>\n",
       "      <td>1</td>\n",
       "      <td>3</td>\n",
       "      <td>Heikkinen, Miss. Laina</td>\n",
       "      <td>female</td>\n",
       "      <td>26.0</td>\n",
       "      <td>0</td>\n",
       "      <td>0</td>\n",
       "      <td>STON/O2. 3101282</td>\n",
       "      <td>7.9250</td>\n",
       "      <td>NaN</td>\n",
       "      <td>S</td>\n",
       "      <td>alone</td>\n",
       "    </tr>\n",
       "    <tr>\n",
       "      <td>3</td>\n",
       "      <td>4</td>\n",
       "      <td>1</td>\n",
       "      <td>1</td>\n",
       "      <td>Futrelle, Mrs. Jacques Heath (Lily May Peel)</td>\n",
       "      <td>female</td>\n",
       "      <td>35.0</td>\n",
       "      <td>1</td>\n",
       "      <td>0</td>\n",
       "      <td>113803</td>\n",
       "      <td>53.1000</td>\n",
       "      <td>C123</td>\n",
       "      <td>S</td>\n",
       "      <td>not_alone</td>\n",
       "    </tr>\n",
       "    <tr>\n",
       "      <td>4</td>\n",
       "      <td>5</td>\n",
       "      <td>0</td>\n",
       "      <td>3</td>\n",
       "      <td>Allen, Mr. William Henry</td>\n",
       "      <td>male</td>\n",
       "      <td>35.0</td>\n",
       "      <td>0</td>\n",
       "      <td>0</td>\n",
       "      <td>373450</td>\n",
       "      <td>8.0500</td>\n",
       "      <td>NaN</td>\n",
       "      <td>S</td>\n",
       "      <td>alone</td>\n",
       "    </tr>\n",
       "    <tr>\n",
       "      <td>...</td>\n",
       "      <td>...</td>\n",
       "      <td>...</td>\n",
       "      <td>...</td>\n",
       "      <td>...</td>\n",
       "      <td>...</td>\n",
       "      <td>...</td>\n",
       "      <td>...</td>\n",
       "      <td>...</td>\n",
       "      <td>...</td>\n",
       "      <td>...</td>\n",
       "      <td>...</td>\n",
       "      <td>...</td>\n",
       "      <td>...</td>\n",
       "    </tr>\n",
       "    <tr>\n",
       "      <td>886</td>\n",
       "      <td>887</td>\n",
       "      <td>0</td>\n",
       "      <td>2</td>\n",
       "      <td>Montvila, Rev. Juozas</td>\n",
       "      <td>male</td>\n",
       "      <td>27.0</td>\n",
       "      <td>0</td>\n",
       "      <td>0</td>\n",
       "      <td>211536</td>\n",
       "      <td>13.0000</td>\n",
       "      <td>NaN</td>\n",
       "      <td>S</td>\n",
       "      <td>alone</td>\n",
       "    </tr>\n",
       "    <tr>\n",
       "      <td>887</td>\n",
       "      <td>888</td>\n",
       "      <td>1</td>\n",
       "      <td>1</td>\n",
       "      <td>Graham, Miss. Margaret Edith</td>\n",
       "      <td>female</td>\n",
       "      <td>19.0</td>\n",
       "      <td>0</td>\n",
       "      <td>0</td>\n",
       "      <td>112053</td>\n",
       "      <td>30.0000</td>\n",
       "      <td>B42</td>\n",
       "      <td>S</td>\n",
       "      <td>alone</td>\n",
       "    </tr>\n",
       "    <tr>\n",
       "      <td>888</td>\n",
       "      <td>889</td>\n",
       "      <td>0</td>\n",
       "      <td>3</td>\n",
       "      <td>Johnston, Miss. Catherine Helen \"Carrie\"</td>\n",
       "      <td>female</td>\n",
       "      <td>NaN</td>\n",
       "      <td>1</td>\n",
       "      <td>2</td>\n",
       "      <td>W./C. 6607</td>\n",
       "      <td>23.4500</td>\n",
       "      <td>NaN</td>\n",
       "      <td>S</td>\n",
       "      <td>not_alone</td>\n",
       "    </tr>\n",
       "    <tr>\n",
       "      <td>889</td>\n",
       "      <td>890</td>\n",
       "      <td>1</td>\n",
       "      <td>1</td>\n",
       "      <td>Behr, Mr. Karl Howell</td>\n",
       "      <td>male</td>\n",
       "      <td>26.0</td>\n",
       "      <td>0</td>\n",
       "      <td>0</td>\n",
       "      <td>111369</td>\n",
       "      <td>30.0000</td>\n",
       "      <td>C148</td>\n",
       "      <td>C</td>\n",
       "      <td>alone</td>\n",
       "    </tr>\n",
       "    <tr>\n",
       "      <td>890</td>\n",
       "      <td>891</td>\n",
       "      <td>0</td>\n",
       "      <td>3</td>\n",
       "      <td>Dooley, Mr. Patrick</td>\n",
       "      <td>male</td>\n",
       "      <td>32.0</td>\n",
       "      <td>0</td>\n",
       "      <td>0</td>\n",
       "      <td>370376</td>\n",
       "      <td>7.7500</td>\n",
       "      <td>NaN</td>\n",
       "      <td>Q</td>\n",
       "      <td>alone</td>\n",
       "    </tr>\n",
       "  </tbody>\n",
       "</table>\n",
       "<p>891 rows × 13 columns</p>\n",
       "</div>"
      ],
      "text/plain": [
       "     PassengerId  Survived  Pclass  \\\n",
       "0              1         0       3   \n",
       "1              2         1       1   \n",
       "2              3         1       3   \n",
       "3              4         1       1   \n",
       "4              5         0       3   \n",
       "..           ...       ...     ...   \n",
       "886          887         0       2   \n",
       "887          888         1       1   \n",
       "888          889         0       3   \n",
       "889          890         1       1   \n",
       "890          891         0       3   \n",
       "\n",
       "                                                  Name     Sex   Age  SibSp  \\\n",
       "0                              Braund, Mr. Owen Harris    male  22.0      1   \n",
       "1    Cumings, Mrs. John Bradley (Florence Briggs Th...  female  38.0      1   \n",
       "2                               Heikkinen, Miss. Laina  female  26.0      0   \n",
       "3         Futrelle, Mrs. Jacques Heath (Lily May Peel)  female  35.0      1   \n",
       "4                             Allen, Mr. William Henry    male  35.0      0   \n",
       "..                                                 ...     ...   ...    ...   \n",
       "886                              Montvila, Rev. Juozas    male  27.0      0   \n",
       "887                       Graham, Miss. Margaret Edith  female  19.0      0   \n",
       "888           Johnston, Miss. Catherine Helen \"Carrie\"  female   NaN      1   \n",
       "889                              Behr, Mr. Karl Howell    male  26.0      0   \n",
       "890                                Dooley, Mr. Patrick    male  32.0      0   \n",
       "\n",
       "     Parch            Ticket     Fare Cabin Embarked      Alone  \n",
       "0        0         A/5 21171   7.2500   NaN        S  not_alone  \n",
       "1        0          PC 17599  71.2833   C85        C  not_alone  \n",
       "2        0  STON/O2. 3101282   7.9250   NaN        S      alone  \n",
       "3        0            113803  53.1000  C123        S  not_alone  \n",
       "4        0            373450   8.0500   NaN        S      alone  \n",
       "..     ...               ...      ...   ...      ...        ...  \n",
       "886      0            211536  13.0000   NaN        S      alone  \n",
       "887      0            112053  30.0000   B42        S      alone  \n",
       "888      2        W./C. 6607  23.4500   NaN        S  not_alone  \n",
       "889      0            111369  30.0000  C148        C      alone  \n",
       "890      0            370376   7.7500   NaN        Q      alone  \n",
       "\n",
       "[891 rows x 13 columns]"
      ]
     },
     "execution_count": 30,
     "metadata": {},
     "output_type": "execute_result"
    }
   ],
   "source": [
    "# Способ 1: с помощью именной функции и apply\n",
    "def alone_check(row):\n",
    "    if row['SibSp'] or row['Parch'] > 0:\n",
    "        return 'not_alone'\n",
    "    return 'alone'\n",
    "    \n",
    "df['Alone'] = df.apply(alone_check, axis=1)\n",
    "df\n",
    "\n"
   ]
  },
  {
   "cell_type": "code",
   "execution_count": 31,
   "metadata": {},
   "outputs": [
    {
     "data": {
      "text/plain": [
       "0       36.2500\n",
       "1      356.4165\n",
       "2       39.6250\n",
       "3      265.5000\n",
       "4       40.2500\n",
       "         ...   \n",
       "886     65.0000\n",
       "887    150.0000\n",
       "888    117.2500\n",
       "889    150.0000\n",
       "890     38.7500\n",
       "Name: Fare, Length: 891, dtype: float64"
      ]
     },
     "execution_count": 31,
     "metadata": {},
     "output_type": "execute_result"
    }
   ],
   "source": [
    "df['Fare'].apply(lambda x: x*5)"
   ]
  },
  {
   "cell_type": "code",
   "execution_count": 19,
   "metadata": {},
   "outputs": [
    {
     "data": {
      "text/html": [
       "<div>\n",
       "<style scoped>\n",
       "    .dataframe tbody tr th:only-of-type {\n",
       "        vertical-align: middle;\n",
       "    }\n",
       "\n",
       "    .dataframe tbody tr th {\n",
       "        vertical-align: top;\n",
       "    }\n",
       "\n",
       "    .dataframe thead th {\n",
       "        text-align: right;\n",
       "    }\n",
       "</style>\n",
       "<table border=\"1\" class=\"dataframe\">\n",
       "  <thead>\n",
       "    <tr style=\"text-align: right;\">\n",
       "      <th></th>\n",
       "      <th>PassengerId</th>\n",
       "      <th>Survived</th>\n",
       "      <th>Pclass</th>\n",
       "      <th>Name</th>\n",
       "      <th>Sex</th>\n",
       "      <th>Age</th>\n",
       "      <th>SibSp</th>\n",
       "      <th>Parch</th>\n",
       "      <th>Ticket</th>\n",
       "      <th>Fare</th>\n",
       "      <th>Cabin</th>\n",
       "      <th>Embarked</th>\n",
       "      <th>Alone</th>\n",
       "    </tr>\n",
       "  </thead>\n",
       "  <tbody>\n",
       "    <tr>\n",
       "      <td>0</td>\n",
       "      <td>1</td>\n",
       "      <td>0</td>\n",
       "      <td>3</td>\n",
       "      <td>Braund, Mr. Owen Harris</td>\n",
       "      <td>male</td>\n",
       "      <td>22.0</td>\n",
       "      <td>1</td>\n",
       "      <td>0</td>\n",
       "      <td>A/5 21171</td>\n",
       "      <td>7.2500</td>\n",
       "      <td>NaN</td>\n",
       "      <td>S</td>\n",
       "      <td>not_alone</td>\n",
       "    </tr>\n",
       "    <tr>\n",
       "      <td>1</td>\n",
       "      <td>2</td>\n",
       "      <td>1</td>\n",
       "      <td>1</td>\n",
       "      <td>Cumings, Mrs. John Bradley (Florence Briggs Th...</td>\n",
       "      <td>female</td>\n",
       "      <td>38.0</td>\n",
       "      <td>1</td>\n",
       "      <td>0</td>\n",
       "      <td>PC 17599</td>\n",
       "      <td>71.2833</td>\n",
       "      <td>C85</td>\n",
       "      <td>C</td>\n",
       "      <td>not_alone</td>\n",
       "    </tr>\n",
       "    <tr>\n",
       "      <td>2</td>\n",
       "      <td>3</td>\n",
       "      <td>1</td>\n",
       "      <td>3</td>\n",
       "      <td>Heikkinen, Miss. Laina</td>\n",
       "      <td>female</td>\n",
       "      <td>26.0</td>\n",
       "      <td>0</td>\n",
       "      <td>0</td>\n",
       "      <td>STON/O2. 3101282</td>\n",
       "      <td>7.9250</td>\n",
       "      <td>NaN</td>\n",
       "      <td>S</td>\n",
       "      <td>alone</td>\n",
       "    </tr>\n",
       "    <tr>\n",
       "      <td>3</td>\n",
       "      <td>4</td>\n",
       "      <td>1</td>\n",
       "      <td>1</td>\n",
       "      <td>Futrelle, Mrs. Jacques Heath (Lily May Peel)</td>\n",
       "      <td>female</td>\n",
       "      <td>35.0</td>\n",
       "      <td>1</td>\n",
       "      <td>0</td>\n",
       "      <td>113803</td>\n",
       "      <td>53.1000</td>\n",
       "      <td>C123</td>\n",
       "      <td>S</td>\n",
       "      <td>not_alone</td>\n",
       "    </tr>\n",
       "    <tr>\n",
       "      <td>4</td>\n",
       "      <td>5</td>\n",
       "      <td>0</td>\n",
       "      <td>3</td>\n",
       "      <td>Allen, Mr. William Henry</td>\n",
       "      <td>male</td>\n",
       "      <td>35.0</td>\n",
       "      <td>0</td>\n",
       "      <td>0</td>\n",
       "      <td>373450</td>\n",
       "      <td>8.0500</td>\n",
       "      <td>NaN</td>\n",
       "      <td>S</td>\n",
       "      <td>alone</td>\n",
       "    </tr>\n",
       "    <tr>\n",
       "      <td>...</td>\n",
       "      <td>...</td>\n",
       "      <td>...</td>\n",
       "      <td>...</td>\n",
       "      <td>...</td>\n",
       "      <td>...</td>\n",
       "      <td>...</td>\n",
       "      <td>...</td>\n",
       "      <td>...</td>\n",
       "      <td>...</td>\n",
       "      <td>...</td>\n",
       "      <td>...</td>\n",
       "      <td>...</td>\n",
       "      <td>...</td>\n",
       "    </tr>\n",
       "    <tr>\n",
       "      <td>886</td>\n",
       "      <td>887</td>\n",
       "      <td>0</td>\n",
       "      <td>2</td>\n",
       "      <td>Montvila, Rev. Juozas</td>\n",
       "      <td>male</td>\n",
       "      <td>27.0</td>\n",
       "      <td>0</td>\n",
       "      <td>0</td>\n",
       "      <td>211536</td>\n",
       "      <td>13.0000</td>\n",
       "      <td>NaN</td>\n",
       "      <td>S</td>\n",
       "      <td>alone</td>\n",
       "    </tr>\n",
       "    <tr>\n",
       "      <td>887</td>\n",
       "      <td>888</td>\n",
       "      <td>1</td>\n",
       "      <td>1</td>\n",
       "      <td>Graham, Miss. Margaret Edith</td>\n",
       "      <td>female</td>\n",
       "      <td>19.0</td>\n",
       "      <td>0</td>\n",
       "      <td>0</td>\n",
       "      <td>112053</td>\n",
       "      <td>30.0000</td>\n",
       "      <td>B42</td>\n",
       "      <td>S</td>\n",
       "      <td>alone</td>\n",
       "    </tr>\n",
       "    <tr>\n",
       "      <td>888</td>\n",
       "      <td>889</td>\n",
       "      <td>0</td>\n",
       "      <td>3</td>\n",
       "      <td>Johnston, Miss. Catherine Helen \"Carrie\"</td>\n",
       "      <td>female</td>\n",
       "      <td>NaN</td>\n",
       "      <td>1</td>\n",
       "      <td>2</td>\n",
       "      <td>W./C. 6607</td>\n",
       "      <td>23.4500</td>\n",
       "      <td>NaN</td>\n",
       "      <td>S</td>\n",
       "      <td>not_alone</td>\n",
       "    </tr>\n",
       "    <tr>\n",
       "      <td>889</td>\n",
       "      <td>890</td>\n",
       "      <td>1</td>\n",
       "      <td>1</td>\n",
       "      <td>Behr, Mr. Karl Howell</td>\n",
       "      <td>male</td>\n",
       "      <td>26.0</td>\n",
       "      <td>0</td>\n",
       "      <td>0</td>\n",
       "      <td>111369</td>\n",
       "      <td>30.0000</td>\n",
       "      <td>C148</td>\n",
       "      <td>C</td>\n",
       "      <td>alone</td>\n",
       "    </tr>\n",
       "    <tr>\n",
       "      <td>890</td>\n",
       "      <td>891</td>\n",
       "      <td>0</td>\n",
       "      <td>3</td>\n",
       "      <td>Dooley, Mr. Patrick</td>\n",
       "      <td>male</td>\n",
       "      <td>32.0</td>\n",
       "      <td>0</td>\n",
       "      <td>0</td>\n",
       "      <td>370376</td>\n",
       "      <td>7.7500</td>\n",
       "      <td>NaN</td>\n",
       "      <td>Q</td>\n",
       "      <td>alone</td>\n",
       "    </tr>\n",
       "  </tbody>\n",
       "</table>\n",
       "<p>891 rows × 13 columns</p>\n",
       "</div>"
      ],
      "text/plain": [
       "     PassengerId  Survived  Pclass  \\\n",
       "0              1         0       3   \n",
       "1              2         1       1   \n",
       "2              3         1       3   \n",
       "3              4         1       1   \n",
       "4              5         0       3   \n",
       "..           ...       ...     ...   \n",
       "886          887         0       2   \n",
       "887          888         1       1   \n",
       "888          889         0       3   \n",
       "889          890         1       1   \n",
       "890          891         0       3   \n",
       "\n",
       "                                                  Name     Sex   Age  SibSp  \\\n",
       "0                              Braund, Mr. Owen Harris    male  22.0      1   \n",
       "1    Cumings, Mrs. John Bradley (Florence Briggs Th...  female  38.0      1   \n",
       "2                               Heikkinen, Miss. Laina  female  26.0      0   \n",
       "3         Futrelle, Mrs. Jacques Heath (Lily May Peel)  female  35.0      1   \n",
       "4                             Allen, Mr. William Henry    male  35.0      0   \n",
       "..                                                 ...     ...   ...    ...   \n",
       "886                              Montvila, Rev. Juozas    male  27.0      0   \n",
       "887                       Graham, Miss. Margaret Edith  female  19.0      0   \n",
       "888           Johnston, Miss. Catherine Helen \"Carrie\"  female   NaN      1   \n",
       "889                              Behr, Mr. Karl Howell    male  26.0      0   \n",
       "890                                Dooley, Mr. Patrick    male  32.0      0   \n",
       "\n",
       "     Parch            Ticket     Fare Cabin Embarked      Alone  \n",
       "0        0         A/5 21171   7.2500   NaN        S  not_alone  \n",
       "1        0          PC 17599  71.2833   C85        C  not_alone  \n",
       "2        0  STON/O2. 3101282   7.9250   NaN        S      alone  \n",
       "3        0            113803  53.1000  C123        S  not_alone  \n",
       "4        0            373450   8.0500   NaN        S      alone  \n",
       "..     ...               ...      ...   ...      ...        ...  \n",
       "886      0            211536  13.0000   NaN        S      alone  \n",
       "887      0            112053  30.0000   B42        S      alone  \n",
       "888      2        W./C. 6607  23.4500   NaN        S  not_alone  \n",
       "889      0            111369  30.0000  C148        C      alone  \n",
       "890      0            370376   7.7500   NaN        Q      alone  \n",
       "\n",
       "[891 rows x 13 columns]"
      ]
     },
     "execution_count": 19,
     "metadata": {},
     "output_type": "execute_result"
    }
   ],
   "source": [
    "# Способ 2: с помощью lambda-функции\n",
    "df.drop('Alone', axis=1, inplace = True)\n",
    "\n",
    "df['Alone'] = df.apply(lambda x: 'not_alone' if x['SibSp'] or x['Parch'] > 0 else 'alone', axis = 1)\n",
    "df"
   ]
  }
 ],
 "metadata": {
  "kernelspec": {
   "display_name": "Python 3",
   "language": "python",
   "name": "python3"
  },
  "language_info": {
   "codemirror_mode": {
    "name": "ipython",
    "version": 3
   },
   "file_extension": ".py",
   "mimetype": "text/x-python",
   "name": "python",
   "nbconvert_exporter": "python",
   "pygments_lexer": "ipython3",
   "version": "3.7.4"
  }
 },
 "nbformat": 4,
 "nbformat_minor": 2
}
