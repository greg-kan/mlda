{
 "cells": [
  {
   "cell_type": "code",
   "execution_count": 1,
   "metadata": {},
   "outputs": [],
   "source": [
    "import numpy as np"
   ]
  },
  {
   "cell_type": "code",
   "execution_count": 2,
   "metadata": {},
   "outputs": [
    {
     "name": "stdout",
     "output_type": "stream",
     "text": [
      "Загадано число от 1 до 99\n",
      "50\n",
      "Угадываемое число меньше 50 \n",
      "25\n",
      "Угадываемое число меньше 25 \n",
      "12\n",
      "Угадываемое число больше 12 \n",
      "18\n",
      "Угадываемое число больше 18 \n",
      "21\n",
      "Угадываемое число больше 21 \n",
      "23\n",
      "Угадываемое число больше 23 \n",
      "24\n",
      "Вы угадали число 24 за 7 попыток.\n"
     ]
    }
   ],
   "source": [
    "count = 0                            # счетчик попыток\n",
    "number = np.random.randint(1,100)    # загадали число\n",
    "print (\"Загадано число от 1 до 99\")\n",
    "\n",
    "while True:                        # бесконечный цикл\n",
    "    predict = int(input())         # предполагаемое число\n",
    "    count += 1                     # плюсуем попытку\n",
    "    if number == predict: break    # выход из цикла, если угадали\n",
    "    elif number > predict: print (f\"Угадываемое число больше {predict} \")\n",
    "    elif number < predict: print (f\"Угадываемое число меньше {predict} \")\n",
    "        \n",
    "print (f\"Вы угадали число {number} за {count} попыток.\")"
   ]
  }
 ],
 "metadata": {
  "kernelspec": {
   "display_name": "Python 3",
   "language": "python",
   "name": "python3"
  },
  "language_info": {
   "codemirror_mode": {
    "name": "ipython",
    "version": 3
   },
   "file_extension": ".py",
   "mimetype": "text/x-python",
   "name": "python",
   "nbconvert_exporter": "python",
   "pygments_lexer": "ipython3",
   "version": "3.7.3"
  }
 },
 "nbformat": 4,
 "nbformat_minor": 2
}
