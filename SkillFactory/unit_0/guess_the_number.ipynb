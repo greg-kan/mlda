{
 "cells": [
  {
   "cell_type": "code",
   "execution_count": 1,
   "metadata": {},
   "outputs": [],
   "source": [
    "import numpy as np"
   ]
  },
  {
   "cell_type": "markdown",
   "metadata": {},
   "source": [
    "#####    Функция служит для угадывания заданного или сгенерированного в диапазоне left и right числа \n",
    "   Числа должны быть целыми (положительными или отрицательными).\n",
    "   Аргументы left и right определяют границы.\n",
    "   \"number\" - загаданное число. Если оно не указано, то генерируется автоматически.\n",
    "    \"verbose\" подавляет вывод на экран, что полезно в статистических экспериментах.\n",
    "    Функция возвращает количество итераций и угадываемое число в виде кортежа.\n",
    "    Не чувствительна к порядку границ, то есть, left может быть больше right."
   ]
  },
  {
   "cell_type": "code",
   "execution_count": 2,
   "metadata": {},
   "outputs": [],
   "source": [
    "def guess(left, right, number = None, verbose = False):\n",
    "    \n",
    "    if left > right: #Если левая граница задана больше правой, меняем их местами\n",
    "        temp = right\n",
    "        right = left\n",
    "        left = temp\n",
    "        \n",
    "    if number is not None: # Число передаем явно\n",
    "        if number < left or number > right: #or left < 0 or right < 0 or number < 0\n",
    "            print(\"Не верно задано сочетание границ и числа!\")\n",
    "            return -1\n",
    "    else:\n",
    "        number = np.random.randint(left, right + 1)    # Загадали число\n",
    "    \n",
    "    if verbose:\n",
    "        print(\"Загадано число\", number, \"между\", left, \"и\", right)    \n",
    "    \n",
    "    count = 1 # Счетчик попыток\n",
    "    \n",
    "    estimated_number = (right + left) // 2 # Предполагаемое число\n",
    "\n",
    "    while estimated_number != number:\n",
    "\n",
    "        count +=1 # Увеличиваем счетчик попыток на 1\n",
    "\n",
    "        if number < estimated_number:\n",
    "            right = estimated_number\n",
    "            estimated_number = (right + left) // 2\n",
    "        else:\n",
    "            left = estimated_number\n",
    "            estimated_number = (right + left) // 2 + 1\n",
    "\n",
    "    return count, number\n"
   ]
  },
  {
   "cell_type": "code",
   "execution_count": 3,
   "metadata": {},
   "outputs": [
    {
     "name": "stdout",
     "output_type": "stream",
     "text": [
      "Загадано число 21 между 1 и 99\n",
      "(6, 21)\n"
     ]
    }
   ],
   "source": [
    "result = guess(1, 99, verbose = True)\n",
    "print(result)"
   ]
  },
  {
   "cell_type": "code",
   "execution_count": 4,
   "metadata": {},
   "outputs": [
    {
     "name": "stdout",
     "output_type": "stream",
     "text": [
      "Среднее количество итераций: 9.999\n"
     ]
    }
   ],
   "source": [
    "sum = 0\n",
    "for i in range(9999):\n",
    "    count, number = guess(1, 999, 30)\n",
    "    sum += count\n",
    "\n",
    "mean = sum / 10000\n",
    "print(\"Среднее количество итераций:\", mean)"
   ]
  }
 ],
 "metadata": {
  "kernelspec": {
   "display_name": "Python 3",
   "language": "python",
   "name": "python3"
  },
  "language_info": {
   "codemirror_mode": {
    "name": "ipython",
    "version": 3
   },
   "file_extension": ".py",
   "mimetype": "text/x-python",
   "name": "python",
   "nbconvert_exporter": "python",
   "pygments_lexer": "ipython3",
   "version": "3.7.3"
  }
 },
 "nbformat": 4,
 "nbformat_minor": 2
}
