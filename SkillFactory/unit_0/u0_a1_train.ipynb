{
 "cells": [
  {
   "cell_type": "code",
   "execution_count": 1,
   "metadata": {},
   "outputs": [
    {
     "data": {
      "text/plain": [
       "2.0"
      ]
     },
     "execution_count": 1,
     "metadata": {},
     "output_type": "execute_result"
    }
   ],
   "source": [
    "4 ** (1/2)"
   ]
  },
  {
   "cell_type": "code",
   "execution_count": 2,
   "metadata": {},
   "outputs": [
    {
     "data": {
      "text/plain": [
       "20.0"
      ]
     },
     "execution_count": 2,
     "metadata": {},
     "output_type": "execute_result"
    }
   ],
   "source": [
    "(25-20)*(67+33)/25"
   ]
  },
  {
   "cell_type": "code",
   "execution_count": 3,
   "metadata": {},
   "outputs": [
    {
     "data": {
      "text/plain": [
       "17.414074767267998"
      ]
     },
     "execution_count": 3,
     "metadata": {},
     "output_type": "execute_result"
    }
   ],
   "source": [
    "(4 + 5 * 60 - 17 + 65/4)**(1/2)"
   ]
  },
  {
   "cell_type": "code",
   "execution_count": 4,
   "metadata": {},
   "outputs": [
    {
     "data": {
      "text/plain": [
       "1916.7312813742387"
      ]
     },
     "execution_count": 4,
     "metadata": {},
     "output_type": "execute_result"
    }
   ],
   "source": [
    "6.996 + 45 * ((13/2)**2) + 2 * (18**(1/2))"
   ]
  },
  {
   "cell_type": "code",
   "execution_count": 5,
   "metadata": {},
   "outputs": [
    {
     "data": {
      "text/plain": [
       "1916.7312813742387"
      ]
     },
     "execution_count": 5,
     "metadata": {},
     "output_type": "execute_result"
    }
   ],
   "source": [
    "6.996 + 45 * (13/2)**2 + 2 * 18**(1/2)"
   ]
  },
  {
   "cell_type": "code",
   "execution_count": 7,
   "metadata": {},
   "outputs": [
    {
     "data": {
      "text/plain": [
       "-14.0731201171875"
      ]
     },
     "execution_count": 7,
     "metadata": {},
     "output_type": "execute_result"
    }
   ],
   "source": [
    "(1267 - 20 * (5**3/2)**2) / (8**5)*6"
   ]
  },
  {
   "cell_type": "code",
   "execution_count": 12,
   "metadata": {},
   "outputs": [
    {
     "data": {
      "text/plain": [
       "-0.3909200032552083"
      ]
     },
     "execution_count": 12,
     "metadata": {},
     "output_type": "execute_result"
    }
   ],
   "source": [
    "(1267 - 20 * (5**3/2)**2) / ((8**5)*6)"
   ]
  },
  {
   "cell_type": "code",
   "execution_count": 10,
   "metadata": {},
   "outputs": [
    {
     "data": {
      "text/plain": [
       "196608"
      ]
     },
     "execution_count": 10,
     "metadata": {},
     "output_type": "execute_result"
    }
   ],
   "source": [
    "8**5*6"
   ]
  },
  {
   "cell_type": "code",
   "execution_count": 9,
   "metadata": {},
   "outputs": [
    {
     "data": {
      "text/plain": [
       "32768"
      ]
     },
     "execution_count": 9,
     "metadata": {},
     "output_type": "execute_result"
    }
   ],
   "source": [
    "2**15"
   ]
  },
  {
   "cell_type": "code",
   "execution_count": 11,
   "metadata": {},
   "outputs": [
    {
     "data": {
      "text/plain": [
       "196608"
      ]
     },
     "execution_count": 11,
     "metadata": {},
     "output_type": "execute_result"
    }
   ],
   "source": [
    "32768 * 6"
   ]
  },
  {
   "cell_type": "code",
   "execution_count": 13,
   "metadata": {},
   "outputs": [
    {
     "data": {
      "text/plain": [
       "-4251528.0"
      ]
     },
     "execution_count": 13,
     "metadata": {},
     "output_type": "execute_result"
    }
   ],
   "source": [
    "27**4 / (-2)**(-3)"
   ]
  },
  {
   "cell_type": "code",
   "execution_count": 14,
   "metadata": {},
   "outputs": [
    {
     "data": {
      "text/plain": [
       "-4251528"
      ]
     },
     "execution_count": 14,
     "metadata": {},
     "output_type": "execute_result"
    }
   ],
   "source": [
    "27**4 * (-8)"
   ]
  },
  {
   "cell_type": "code",
   "execution_count": 15,
   "metadata": {},
   "outputs": [
    {
     "data": {
      "text/plain": [
       "'hey!'"
      ]
     },
     "execution_count": 15,
     "metadata": {},
     "output_type": "execute_result"
    }
   ],
   "source": [
    "'hey'+'!'"
   ]
  },
  {
   "cell_type": "code",
   "execution_count": 16,
   "metadata": {},
   "outputs": [
    {
     "data": {
      "text/plain": [
       "float"
      ]
     },
     "execution_count": 16,
     "metadata": {},
     "output_type": "execute_result"
    }
   ],
   "source": [
    "type(2+3.4)"
   ]
  },
  {
   "cell_type": "code",
   "execution_count": 17,
   "metadata": {},
   "outputs": [
    {
     "data": {
      "text/plain": [
       "int"
      ]
     },
     "execution_count": 17,
     "metadata": {},
     "output_type": "execute_result"
    }
   ],
   "source": [
    "type(2+3)"
   ]
  },
  {
   "cell_type": "code",
   "execution_count": 19,
   "metadata": {},
   "outputs": [
    {
     "data": {
      "text/plain": [
       "str"
      ]
     },
     "execution_count": 19,
     "metadata": {},
     "output_type": "execute_result"
    }
   ],
   "source": [
    "type(str(int(float('2.4'))))"
   ]
  },
  {
   "cell_type": "code",
   "execution_count": 20,
   "metadata": {},
   "outputs": [
    {
     "data": {
      "text/plain": [
       "2.0"
      ]
     },
     "execution_count": 20,
     "metadata": {},
     "output_type": "execute_result"
    }
   ],
   "source": [
    "4 ** (1/2)"
   ]
  },
  {
   "cell_type": "code",
   "execution_count": 21,
   "metadata": {},
   "outputs": [
    {
     "data": {
      "text/plain": [
       "'4242'"
      ]
     },
     "execution_count": 21,
     "metadata": {},
     "output_type": "execute_result"
    }
   ],
   "source": [
    "'42'*2"
   ]
  },
  {
   "cell_type": "code",
   "execution_count": 22,
   "metadata": {},
   "outputs": [
    {
     "data": {
      "text/plain": [
       "str"
      ]
     },
     "execution_count": 22,
     "metadata": {},
     "output_type": "execute_result"
    }
   ],
   "source": [
    "type('I' + 'love' + 'Python')"
   ]
  },
  {
   "cell_type": "code",
   "execution_count": 23,
   "metadata": {},
   "outputs": [
    {
     "name": "stdout",
     "output_type": "stream",
     "text": [
      "Введите своё имя: \n",
      "123\n"
     ]
    }
   ],
   "source": [
    "user_name = input('Введите своё имя: \\n')"
   ]
  },
  {
   "cell_type": "code",
   "execution_count": 24,
   "metadata": {},
   "outputs": [
    {
     "name": "stdout",
     "output_type": "stream",
     "text": [
      "Введите своё имя:123\n"
     ]
    }
   ],
   "source": [
    "user_name = input('Введите своё имя:')"
   ]
  },
  {
   "cell_type": "code",
   "execution_count": 26,
   "metadata": {},
   "outputs": [
    {
     "name": "stdout",
     "output_type": "stream",
     "text": [
      "Введите множитель для числа 5:3\n",
      "15\n"
     ]
    }
   ],
   "source": [
    "multiplier = int(input('Введите множитель для числа 5:'))\n",
    "print(5*multiplier)"
   ]
  },
  {
   "cell_type": "code",
   "execution_count": 30,
   "metadata": {},
   "outputs": [
    {
     "name": "stdout",
     "output_type": "stream",
     "text": [
      "Введите свое имя:\n",
      "Коля\n",
      "Сегодня Вас зовут Коля\n"
     ]
    }
   ],
   "source": [
    "name = 'Алексей'\n",
    "name = input('Введите свое имя:\\n')\n",
    "print('Сегодня Вас зовут ' + name)"
   ]
  },
  {
   "cell_type": "code",
   "execution_count": 29,
   "metadata": {},
   "outputs": [
    {
     "name": "stdout",
     "output_type": "stream",
     "text": [
      "Введите свое имя:Вася\n",
      "Сегодня Вас зовут Вася\n"
     ]
    }
   ],
   "source": [
    "name = 'Алексей'\n",
    "name = input('Введите свое имя:')\n",
    "print('Сегодня Вас зовут ' + name)"
   ]
  },
  {
   "cell_type": "code",
   "execution_count": 31,
   "metadata": {},
   "outputs": [
    {
     "name": "stdout",
     "output_type": "stream",
     "text": [
      "13\n"
     ]
    }
   ],
   "source": [
    "word = 'Очаровательно'\n",
    "print(len(word))"
   ]
  },
  {
   "cell_type": "code",
   "execution_count": 32,
   "metadata": {},
   "outputs": [
    {
     "name": "stdout",
     "output_type": "stream",
     "text": [
      "113628013506.996\n"
     ]
    }
   ],
   "source": [
    "x = 100500\n",
    "print(6.996 + 45 * (x / 2) ** 2 + 2 * x)"
   ]
  },
  {
   "cell_type": "code",
   "execution_count": 34,
   "metadata": {},
   "outputs": [
    {
     "name": "stdout",
     "output_type": "stream",
     "text": [
      "25.43268595587264\n"
     ]
    }
   ],
   "source": [
    "weight = 77\n",
    "height = 1.74\n",
    "print(weight / height ** 2)"
   ]
  },
  {
   "cell_type": "code",
   "execution_count": 36,
   "metadata": {},
   "outputs": [
    {
     "name": "stdout",
     "output_type": "stream",
     "text": [
      "3.0\n"
     ]
    }
   ],
   "source": [
    "a = 50\n",
    "b = 4\n",
    "print(   (  (a + b) / 2   ) ** (1 / 3)       )"
   ]
  },
  {
   "cell_type": "code",
   "execution_count": 45,
   "metadata": {},
   "outputs": [
    {
     "name": "stdout",
     "output_type": "stream",
     "text": [
      "8.88748820522211\n"
     ]
    }
   ],
   "source": [
    "string_1 = 'Hello, world!'\n",
    "string_2 = 'Python <3'\n",
    "string_3 = 'qwerty'\n",
    "print((len(string_1) * len(string_2) * len(string_3)) ** (1 / 3))"
   ]
  },
  {
   "cell_type": "code",
   "execution_count": 46,
   "metadata": {},
   "outputs": [
    {
     "name": "stdout",
     "output_type": "stream",
     "text": [
      "Привет! 7 16807\n"
     ]
    }
   ],
   "source": [
    "string = 'Привет!'\n",
    "power = 5\n",
    "print(string, len(string), len(string) ** int(power))"
   ]
  },
  {
   "cell_type": "code",
   "execution_count": 47,
   "metadata": {},
   "outputs": [
    {
     "data": {
      "text/plain": [
       "16807"
      ]
     },
     "execution_count": 47,
     "metadata": {},
     "output_type": "execute_result"
    }
   ],
   "source": [
    "7 ** 5"
   ]
  },
  {
   "cell_type": "code",
   "execution_count": 55,
   "metadata": {},
   "outputs": [
    {
     "name": "stdout",
     "output_type": "stream",
     "text": [
      "Квадратный корень из 168 - не целое число\n"
     ]
    }
   ],
   "source": [
    "number = 168\n",
    "if int(number ** (1 / 2)) == number ** (1 / 2):\n",
    "    print(int(number ** (1 / 2)))\n",
    "else:\n",
    "    print(\"Квадратный корень из\", number, \"- не целое число\")"
   ]
  },
  {
   "cell_type": "code",
   "execution_count": 4,
   "metadata": {},
   "outputs": [
    {
     "name": "stdout",
     "output_type": "stream",
     "text": [
      "воскресенье\n"
     ]
    }
   ],
   "source": [
    "number = 8\n",
    "if number == 1:\n",
    "    print('понедельник')\n",
    "elif number == 2:\n",
    "    print('вторник')\n",
    "elif number == 3:\n",
    "    print('среда')\n",
    "elif number == 4:\n",
    "    print('четверг')\n",
    "elif number == 5:\n",
    "    print('пятница')\n",
    "elif number == 6:\n",
    "    print('суббота')\n",
    "else:\n",
    "    print('воскресенье')"
   ]
  },
  {
   "cell_type": "code",
   "execution_count": 9,
   "metadata": {},
   "outputs": [
    {
     "name": "stdout",
     "output_type": "stream",
     "text": [
      "16.975308641975307\n",
      "Недостаточная масса тела\n"
     ]
    }
   ],
   "source": [
    "weight = 55\n",
    "height = 1.8\n",
    "imt = weight / height ** 2\n",
    "print(imt)\n",
    "if imt < 18.5:\n",
    "    print(\"Недостаточная масса тела\")\n",
    "elif imt > 24.99:\n",
    "    print(\"Избыточная масса тела\")\n",
    "else:\n",
    "    print(\"Норма\")"
   ]
  },
  {
   "cell_type": "code",
   "execution_count": 10,
   "metadata": {},
   "outputs": [
    {
     "name": "stdout",
     "output_type": "stream",
     "text": [
      "хорошо\n"
     ]
    }
   ],
   "source": [
    "mark = 7\n",
    "if mark < 4:\n",
    "    print('неудовлетворительно')\n",
    "elif mark < 6:\n",
    "    print('удовлетворительно')\n",
    "elif mark < 8:\n",
    "    print('хорошо')\n",
    "else:\n",
    "    print('отлично')"
   ]
  },
  {
   "cell_type": "code",
   "execution_count": 11,
   "metadata": {},
   "outputs": [
    {
     "name": "stdout",
     "output_type": "stream",
     "text": [
      "Придётся потерпеть!\n"
     ]
    }
   ],
   "source": [
    "balance = 455\n",
    "if balance > 5000:\n",
    "    print(\"Сегодня твой выбор - ресторан!\")\n",
    "elif balance > 2500:\n",
    "    print(\"Эх, только фастфуд.\")\n",
    "else:\n",
    "    print(\"Придётся потерпеть!\")"
   ]
  },
  {
   "cell_type": "code",
   "execution_count": 15,
   "metadata": {},
   "outputs": [
    {
     "name": "stdout",
     "output_type": "stream",
     "text": [
      "Число делится на 2 без остатка.\n"
     ]
    }
   ],
   "source": [
    "number = 12\n",
    "if number % 2 == 0:\n",
    "    print('Число делится на 2 без остатка.')\n",
    "elif number % 3 == 0:\n",
    "    print('Число делится на 3 без остатка.')\n",
    "elif number % 5 == 0:\n",
    "    print('Число делится на 5 без остатка.')\n",
    "else:\n",
    "    print('Число не делится ни на 2, ни на 3, ни на 5 без остатка!')"
   ]
  },
  {
   "cell_type": "code",
   "execution_count": 22,
   "metadata": {},
   "outputs": [
    {
     "data": {
      "text/plain": [
       "True"
      ]
     },
     "execution_count": 22,
     "metadata": {},
     "output_type": "execute_result"
    }
   ],
   "source": [
    "x = 10 \n",
    "y = 15\n",
    "y > x**y - 1000 or \"test\" > \"push\""
   ]
  },
  {
   "cell_type": "code",
   "execution_count": 25,
   "metadata": {},
   "outputs": [
    {
     "name": "stdout",
     "output_type": "stream",
     "text": [
      "Ане понравятся эти цветы\n"
     ]
    }
   ],
   "source": [
    "flower = 'роза'\n",
    "color = 'белый'\n",
    "if flower == 'роза' and (color == 'синий' or color == 'белый'):\n",
    "    print('Ане понравятся эти цветы')\n",
    "else:\n",
    "    print('Аня не фанат таких цветов')"
   ]
  },
  {
   "cell_type": "code",
   "execution_count": 33,
   "metadata": {},
   "outputs": [
    {
     "name": "stdout",
     "output_type": "stream",
     "text": [
      "Преподаватель занят.\n"
     ]
    }
   ],
   "source": [
    "hour = 10\n",
    "minute = 30\n",
    "if hour < 10 or \\\n",
    "    (hour == 10 and minute >= 30 or hour == 11 or hour == 12 and minute == 0) or \\\n",
    "    (hour == 13 and minute >= 40 or hour == 14 or hour == 15 and minute == 0) or \\\n",
    "    (hour == 18 or hour == 19 and minute <= 30) or \\\n",
    "    hour >= 20:\n",
    "    print('Преподаватель занят.')\n",
    "else:\n",
    "    print('Преподаватель свободен.')"
   ]
  },
  {
   "cell_type": "code",
   "execution_count": 30,
   "metadata": {},
   "outputs": [
    {
     "name": "stdout",
     "output_type": "stream",
     "text": [
      "Преподаватель занят.\n"
     ]
    }
   ],
   "source": [
    "hour = 18\n",
    "minute = 47\n",
    "if hour < 10 or (hour == 10 and minute >= 30 or hour == 11 or hour == 12 and minute == 0) or (hour == 13 and minute >= 40 or hour == 14 or hour == 15 and minute == 0) or (hour == 18 or hour == 19 and minute <= 30) or hour >= 20:\n",
    "    print('Преподаватель занят.')\n",
    "else:\n",
    "    print('Преподаватель свободен.')"
   ]
  },
  {
   "cell_type": "code",
   "execution_count": 39,
   "metadata": {},
   "outputs": [
    {
     "name": "stdout",
     "output_type": "stream",
     "text": [
      "пдинк"
     ]
    }
   ],
   "source": [
    "word = 'подшипник'\n",
    "for i, letter in enumerate(word):\n",
    "    if i % 2 == 0:\n",
    "        print(letter, end = '')"
   ]
  },
  {
   "cell_type": "code",
   "execution_count": 42,
   "metadata": {},
   "outputs": [
    {
     "name": "stdout",
     "output_type": "stream",
     "text": [
      "2013 год невисокосный\n",
      "2014 год невисокосный\n",
      "2015 год невисокосный\n",
      "2016 год високосный\n",
      "2017 год невисокосный\n",
      "2018 год невисокосный\n",
      "2019 год невисокосный\n",
      "2020 год високосный\n"
     ]
    }
   ],
   "source": [
    "year_1 = 2013\n",
    "year_2 = 2020\n",
    "for i in range(year_1, year_2 + 1):\n",
    "    if i % 4 != 0 or (i % 100 == 0 and i % 400 != 0):\n",
    "        print(i, \"год невисокосный\")\n",
    "    else:\n",
    "        print(i, \"год високосный\")    \n"
   ]
  },
  {
   "cell_type": "code",
   "execution_count": 43,
   "metadata": {},
   "outputs": [
    {
     "name": "stdout",
     "output_type": "stream",
     "text": [
      "и\n",
      "у\n",
      "а\n",
      "и\n",
      "а\n"
     ]
    }
   ],
   "source": [
    "word = 'Зимушка-зима'\n",
    "vovels = 'аеёиоуыэюя'\n",
    "for letter in word:\n",
    "    if letter in vovels:\n",
    "        print(letter)"
   ]
  },
  {
   "cell_type": "code",
   "execution_count": 44,
   "metadata": {},
   "outputs": [
    {
     "name": "stdout",
     "output_type": "stream",
     "text": [
      "Буква 1 в этом имени - С\n",
      "Буква 2 в этом имени - е\n",
      "Буква 3 в этом имени - р\n",
      "Буква 4 в этом имени - г\n",
      "Буква 5 в этом имени - е\n",
      "Буква 6 в этом имени - й\n"
     ]
    }
   ],
   "source": [
    "name = 'Сергей'\n",
    "for i, letter in enumerate(name):\n",
    "    print(\"Буква\", i + 1, \"в этом имени -\", letter)"
   ]
  },
  {
   "cell_type": "code",
   "execution_count": 46,
   "metadata": {},
   "outputs": [
    {
     "name": "stdout",
     "output_type": "stream",
     "text": [
      "25\n",
      "27\n",
      "33\n",
      "35\n",
      "39\n",
      "45\n"
     ]
    }
   ],
   "source": [
    "num_1 = 25\n",
    "num_2 = 45\n",
    "if num_1 < 0 or num_2 < num_1:\n",
    "    print(\"Введён неверный диапазон чисел\")\n",
    "else:\n",
    "    for i in range(num_1, num_2 + 1):\n",
    "        if i % 2 != 0 and (i % 3 == 0 or i % 5 == 0):\n",
    "            print(i)"
   ]
  },
  {
   "cell_type": "code",
   "execution_count": 1,
   "metadata": {},
   "outputs": [
    {
     "name": "stdout",
     "output_type": "stream",
     "text": [
      "1 1 1\n",
      "2 4 8\n",
      "3 9 27\n",
      "4 16 64\n",
      "5 25 125\n",
      "6 36 216\n",
      "7 49 343\n",
      "8 64 512\n",
      "9 81 729\n",
      "10 100 1000\n"
     ]
    }
   ],
   "source": [
    "for i in range (1, 11):\n",
    "    print(i, i ** 2, i ** 3)"
   ]
  },
  {
   "cell_type": "code",
   "execution_count": 2,
   "metadata": {},
   "outputs": [
    {
     "name": "stdout",
     "output_type": "stream",
     "text": [
      "1\n",
      "2\n",
      "3\n",
      "4\n",
      "6\n",
      "7\n",
      "12\n",
      "14\n",
      "21\n",
      "28\n",
      "42\n",
      "84\n"
     ]
    }
   ],
   "source": [
    "number = 84\n",
    "for i in range(1, number + 1):\n",
    "    if number % i == 0:\n",
    "        print(i)"
   ]
  },
  {
   "cell_type": "code",
   "execution_count": 21,
   "metadata": {},
   "outputs": [
    {
     "name": "stdout",
     "output_type": "stream",
     "text": [
      "2\n",
      "4\n"
     ]
    }
   ],
   "source": [
    "num_1 = 1812\n",
    "num_2 = 2500\n",
    "\n",
    "num_3 = 0\n",
    "\n",
    "if num_1 > num_2:\n",
    "    num_3 = num_1\n",
    "    num_1 = num_2\n",
    "    num_2 = num_3\n",
    "    \n",
    "for i in range(2, num_1 + 1):\n",
    "    if num_1 % i == 0 and num_2 % i == 0:\n",
    "        print(i)"
   ]
  },
  {
   "cell_type": "code",
   "execution_count": 16,
   "metadata": {},
   "outputs": [
    {
     "name": "stdout",
     "output_type": "stream",
     "text": [
      "55\n"
     ]
    }
   ],
   "source": [
    "#1, 1, 2, 3, 5, 8, 13, 21, ...\n",
    "n = 10\n",
    "\n",
    "f1 = f2 = 1\n",
    "\n",
    "if n < 3:\n",
    "    print(1)\n",
    "else:\n",
    "    for i in range(2, n):\n",
    "        f1, f2 = f2, f1 + f2\n",
    "    else:\n",
    "        print(f2)"
   ]
  },
  {
   "cell_type": "code",
   "execution_count": 17,
   "metadata": {},
   "outputs": [
    {
     "name": "stdout",
     "output_type": "stream",
     "text": [
      "15 X 1 = 15\n",
      "15 X 2 = 30\n",
      "15 X 3 = 45\n",
      "15 X 4 = 60\n",
      "15 X 5 = 75\n",
      "15 X 6 = 90\n",
      "15 X 7 = 105\n",
      "15 X 8 = 120\n",
      "15 X 9 = 135\n",
      "15 X 10 = 150\n"
     ]
    }
   ],
   "source": [
    "number = 15\n",
    "\n",
    "for i in range(1, 11):\n",
    "    print(number, 'X', i, '=', number * i)"
   ]
  },
  {
   "cell_type": "code",
   "execution_count": 19,
   "metadata": {},
   "outputs": [
    {
     "name": "stdout",
     "output_type": "stream",
     "text": [
      "12\n"
     ]
    }
   ],
   "source": [
    "num_1 = 1812\n",
    "num_2 = 2500\n",
    "\n",
    "num_1 = 12\n",
    "num_2 = 48\n",
    "\n",
    "num_3 = 0\n",
    "nod = 0\n",
    "\n",
    "if num_1 > num_2:\n",
    "    num_3 = num_1\n",
    "    num_1 = num_2\n",
    "    num_2 = num_3\n",
    "    \n",
    "for i in range(2, num_1 + 1):\n",
    "    if num_1 % i == 0 and num_2 % i == 0:\n",
    "        nod = i\n",
    "if nod == 0:\n",
    "    print(\"Общих делителей не найдено\")\n",
    "else:\n",
    "    print(nod)"
   ]
  },
  {
   "cell_type": "code",
   "execution_count": 23,
   "metadata": {},
   "outputs": [
    {
     "name": "stdout",
     "output_type": "stream",
     "text": [
      "стркция"
     ]
    }
   ],
   "source": [
    "string = 'абстракция'\n",
    "exclusions = 'абв'\n",
    "\n",
    "for letter in string:\n",
    "    if letter in exclusions:\n",
    "        continue\n",
    "    else:\n",
    "        print(letter, end = '')"
   ]
  },
  {
   "cell_type": "code",
   "execution_count": 25,
   "metadata": {},
   "outputs": [
    {
     "name": "stdout",
     "output_type": "stream",
     "text": [
      "Это отлично!\n"
     ]
    }
   ],
   "source": [
    "string = 'Нет'\n",
    "\n",
    "for i in range(5):\n",
    "    if string == 'Да':\n",
    "        print(\"Это отлично!\")\n",
    "        break\n",
    "    else:\n",
    "        print(\"Увы, это неправильный ответ\")\n",
    "else:\n",
    "    print(\"Это безнадёжно!\")"
   ]
  },
  {
   "cell_type": "code",
   "execution_count": 54,
   "metadata": {},
   "outputs": [
    {
     "name": "stdout",
     "output_type": "stream",
     "text": [
      "Простое\n"
     ]
    }
   ],
   "source": [
    "number = 5\n",
    "\n",
    "for i in range(2, number):\n",
    "    if number % i == 0:\n",
    "        print(\"Не является простым\")\n",
    "        break\n",
    "else:\n",
    "    print(\"Простое\")"
   ]
  },
  {
   "cell_type": "code",
   "execution_count": 56,
   "metadata": {},
   "outputs": [
    {
     "name": "stdout",
     "output_type": "stream",
     "text": [
      "Строка мне не нравится! 2\n"
     ]
    }
   ],
   "source": [
    "string = 'Прелестная строка'\n",
    "vowels = 'аеёиоуыэюя'\n",
    "for i, letter in enumerate(string):\n",
    "    if letter in vowels and i % 2 == 0:\n",
    "        print('Строка мне не нравится!')\n",
    "        break\n",
    "else:\n",
    "    print('Какая хорошая строка!')"
   ]
  },
  {
   "cell_type": "code",
   "execution_count": 58,
   "metadata": {},
   "outputs": [
    {
     "name": "stdout",
     "output_type": "stream",
     "text": [
      "19\n"
     ]
    }
   ],
   "source": [
    "Y = 170000\n",
    "Z = 1000000\n",
    "\n",
    "year = 0\n",
    "yearly_multiplier = 1.1\n",
    "\n",
    "while Y < 1000000:\n",
    "    Y = Y * yearly_multiplier\n",
    "    year += 1\n",
    "else:\n",
    "    print(year)"
   ]
  },
  {
   "cell_type": "code",
   "execution_count": 60,
   "metadata": {},
   "outputs": [
    {
     "name": "stdout",
     "output_type": "stream",
     "text": [
      "Перевес 62 кг\n"
     ]
    }
   ],
   "source": [
    "weight = 77\n",
    "\n",
    "weight_sum = 0\n",
    "\n",
    "while weight_sum <= 400:\n",
    "    weight_sum += weight\n",
    "else:\n",
    "    print('Перевес', weight_sum - 400, 'кг')"
   ]
  },
  {
   "cell_type": "code",
   "execution_count": 63,
   "metadata": {},
   "outputs": [
    {
     "name": "stdout",
     "output_type": "stream",
     "text": [
      "7\n"
     ]
    }
   ],
   "source": [
    "current_health = 500\n",
    "attack = 80\n",
    "\n",
    "seconds = 0\n",
    "\n",
    "while current_health > 0:\n",
    "    current_health -= attack\n",
    "    seconds += 1\n",
    "else:\n",
    "    print(seconds)"
   ]
  },
  {
   "cell_type": "code",
   "execution_count": 65,
   "metadata": {},
   "outputs": [
    {
     "name": "stdout",
     "output_type": "stream",
     "text": [
      "10000\n",
      "7200\n",
      "4400\n",
      "1600\n",
      "Слишком большие расходы\n"
     ]
    }
   ],
   "source": [
    "balance = 10000\n",
    "spent = 2800\n",
    "\n",
    "#print(balance)\n",
    "\n",
    "while balance > 0:\n",
    "    print(balance)\n",
    "    balance -= spent\n",
    "else:\n",
    "    print(\"Слишком большие расходы\")"
   ]
  },
  {
   "cell_type": "code",
   "execution_count": 70,
   "metadata": {},
   "outputs": [
    {
     "name": "stdout",
     "output_type": "stream",
     "text": [
      "20\n"
     ]
    }
   ],
   "source": [
    "volume = 1000\n",
    "\n",
    "iter = 0\n",
    "\n",
    "while volume > 0:\n",
    "    iter += 1\n",
    "    volume -= iter * 5\n",
    "else:\n",
    "    print(iter)"
   ]
  }
 ],
 "metadata": {
  "kernelspec": {
   "display_name": "Python 3",
   "language": "python",
   "name": "python3"
  },
  "language_info": {
   "codemirror_mode": {
    "name": "ipython",
    "version": 3
   },
   "file_extension": ".py",
   "mimetype": "text/x-python",
   "name": "python",
   "nbconvert_exporter": "python",
   "pygments_lexer": "ipython3",
   "version": "3.7.3"
  }
 },
 "nbformat": 4,
 "nbformat_minor": 2
}
