{
 "cells": [
  {
   "cell_type": "code",
   "execution_count": 1,
   "metadata": {},
   "outputs": [],
   "source": [
    "import numpy as np\n",
    "import pandas as pd\n",
    "import matplotlib.pyplot as plt\n",
    "import seaborn as sns\n",
    "from itertools import combinations\n",
    "from scipy.stats import ttest_ind\n",
    "from sklearn.model_selection import train_test_split\n",
    "from sklearn.ensemble import RandomForestRegressor\n",
    "from sklearn import metrics\n",
    "from datetime import datetime, timedelta\n",
    "%matplotlib inline"
   ]
  },
  {
   "cell_type": "code",
   "execution_count": 2,
   "metadata": {},
   "outputs": [],
   "source": [
    "pd.set_option('display.max_rows', 100) # выведем больше строк\n",
    "pd.set_option('display.max_columns', 100) # выведем больше колонок"
   ]
  },
  {
   "cell_type": "code",
   "execution_count": 3,
   "metadata": {},
   "outputs": [],
   "source": [
    "# Фиксируем RANDOM_SEED, чтобы результаты были воспроизводимы\n",
    "RANDOM_SEED = 42"
   ]
  },
  {
   "cell_type": "code",
   "execution_count": 4,
   "metadata": {
    "scrolled": true
   },
   "outputs": [],
   "source": [
    "df = pd.read_csv('main_task.csv')"
   ]
  },
  {
   "cell_type": "code",
   "execution_count": 5,
   "metadata": {
    "scrolled": true
   },
   "outputs": [
    {
     "data": {
      "text/html": [
       "<div>\n",
       "<style scoped>\n",
       "    .dataframe tbody tr th:only-of-type {\n",
       "        vertical-align: middle;\n",
       "    }\n",
       "\n",
       "    .dataframe tbody tr th {\n",
       "        vertical-align: top;\n",
       "    }\n",
       "\n",
       "    .dataframe thead th {\n",
       "        text-align: right;\n",
       "    }\n",
       "</style>\n",
       "<table border=\"1\" class=\"dataframe\">\n",
       "  <thead>\n",
       "    <tr style=\"text-align: right;\">\n",
       "      <th></th>\n",
       "      <th>restaurant_id</th>\n",
       "      <th>city</th>\n",
       "      <th>cuisine_style</th>\n",
       "      <th>ranking</th>\n",
       "      <th>rating</th>\n",
       "      <th>price_range</th>\n",
       "      <th>reviews_number</th>\n",
       "      <th>reviews</th>\n",
       "      <th>url_ta</th>\n",
       "      <th>id_ta</th>\n",
       "    </tr>\n",
       "  </thead>\n",
       "  <tbody>\n",
       "    <tr>\n",
       "      <th>0</th>\n",
       "      <td>id_5569</td>\n",
       "      <td>Paris</td>\n",
       "      <td>['European', 'French', 'International']</td>\n",
       "      <td>5570.0</td>\n",
       "      <td>3.5</td>\n",
       "      <td>$$ - $$$</td>\n",
       "      <td>194.0</td>\n",
       "      <td>[['Good food at your doorstep', 'A good hotel ...</td>\n",
       "      <td>/Restaurant_Review-g187147-d1912643-Reviews-R_...</td>\n",
       "      <td>d1912643</td>\n",
       "    </tr>\n",
       "    <tr>\n",
       "      <th>1</th>\n",
       "      <td>id_1535</td>\n",
       "      <td>Stockholm</td>\n",
       "      <td>NaN</td>\n",
       "      <td>1537.0</td>\n",
       "      <td>4.0</td>\n",
       "      <td>NaN</td>\n",
       "      <td>10.0</td>\n",
       "      <td>[['Unique cuisine', 'Delicious Nepalese food']...</td>\n",
       "      <td>/Restaurant_Review-g189852-d7992032-Reviews-Bu...</td>\n",
       "      <td>d7992032</td>\n",
       "    </tr>\n",
       "    <tr>\n",
       "      <th>2</th>\n",
       "      <td>id_352</td>\n",
       "      <td>London</td>\n",
       "      <td>['Japanese', 'Sushi', 'Asian', 'Grill', 'Veget...</td>\n",
       "      <td>353.0</td>\n",
       "      <td>4.5</td>\n",
       "      <td>$$$$</td>\n",
       "      <td>688.0</td>\n",
       "      <td>[['Catch up with friends', 'Not exceptional'],...</td>\n",
       "      <td>/Restaurant_Review-g186338-d8632781-Reviews-RO...</td>\n",
       "      <td>d8632781</td>\n",
       "    </tr>\n",
       "    <tr>\n",
       "      <th>3</th>\n",
       "      <td>id_3456</td>\n",
       "      <td>Berlin</td>\n",
       "      <td>NaN</td>\n",
       "      <td>3458.0</td>\n",
       "      <td>5.0</td>\n",
       "      <td>NaN</td>\n",
       "      <td>3.0</td>\n",
       "      <td>[[], []]</td>\n",
       "      <td>/Restaurant_Review-g187323-d1358776-Reviews-Es...</td>\n",
       "      <td>d1358776</td>\n",
       "    </tr>\n",
       "    <tr>\n",
       "      <th>4</th>\n",
       "      <td>id_615</td>\n",
       "      <td>Munich</td>\n",
       "      <td>['German', 'Central European', 'Vegetarian Fri...</td>\n",
       "      <td>621.0</td>\n",
       "      <td>4.0</td>\n",
       "      <td>$$ - $$$</td>\n",
       "      <td>84.0</td>\n",
       "      <td>[['Best place to try a Bavarian food', 'Nice b...</td>\n",
       "      <td>/Restaurant_Review-g187309-d6864963-Reviews-Au...</td>\n",
       "      <td>d6864963</td>\n",
       "    </tr>\n",
       "  </tbody>\n",
       "</table>\n",
       "</div>"
      ],
      "text/plain": [
       "  restaurant_id       city                                      cuisine_style  \\\n",
       "0       id_5569      Paris            ['European', 'French', 'International']   \n",
       "1       id_1535  Stockholm                                                NaN   \n",
       "2        id_352     London  ['Japanese', 'Sushi', 'Asian', 'Grill', 'Veget...   \n",
       "3       id_3456     Berlin                                                NaN   \n",
       "4        id_615     Munich  ['German', 'Central European', 'Vegetarian Fri...   \n",
       "\n",
       "   ranking  rating price_range  reviews_number  \\\n",
       "0   5570.0     3.5    $$ - $$$           194.0   \n",
       "1   1537.0     4.0         NaN            10.0   \n",
       "2    353.0     4.5        $$$$           688.0   \n",
       "3   3458.0     5.0         NaN             3.0   \n",
       "4    621.0     4.0    $$ - $$$            84.0   \n",
       "\n",
       "                                             reviews  \\\n",
       "0  [['Good food at your doorstep', 'A good hotel ...   \n",
       "1  [['Unique cuisine', 'Delicious Nepalese food']...   \n",
       "2  [['Catch up with friends', 'Not exceptional'],...   \n",
       "3                                           [[], []]   \n",
       "4  [['Best place to try a Bavarian food', 'Nice b...   \n",
       "\n",
       "                                              url_ta     id_ta  \n",
       "0  /Restaurant_Review-g187147-d1912643-Reviews-R_...  d1912643  \n",
       "1  /Restaurant_Review-g189852-d7992032-Reviews-Bu...  d7992032  \n",
       "2  /Restaurant_Review-g186338-d8632781-Reviews-RO...  d8632781  \n",
       "3  /Restaurant_Review-g187323-d1358776-Reviews-Es...  d1358776  \n",
       "4  /Restaurant_Review-g187309-d6864963-Reviews-Au...  d6864963  "
      ]
     },
     "execution_count": 5,
     "metadata": {},
     "output_type": "execute_result"
    }
   ],
   "source": [
    "df.columns = ['restaurant_id', 'city', 'cuisine_style', 'ranking', 'rating',\n",
    "              'price_range', 'reviews_number', 'reviews', 'url_ta', 'id_ta']\n",
    "df.head()"
   ]
  },
  {
   "cell_type": "code",
   "execution_count": 6,
   "metadata": {
    "scrolled": false
   },
   "outputs": [
    {
     "name": "stdout",
     "output_type": "stream",
     "text": [
      "<class 'pandas.core.frame.DataFrame'>\n",
      "RangeIndex: 40000 entries, 0 to 39999\n",
      "Data columns (total 10 columns):\n",
      " #   Column          Non-Null Count  Dtype  \n",
      "---  ------          --------------  -----  \n",
      " 0   restaurant_id   40000 non-null  object \n",
      " 1   city            40000 non-null  object \n",
      " 2   cuisine_style   30717 non-null  object \n",
      " 3   ranking         40000 non-null  float64\n",
      " 4   rating          40000 non-null  float64\n",
      " 5   price_range     26114 non-null  object \n",
      " 6   reviews_number  37457 non-null  float64\n",
      " 7   reviews         40000 non-null  object \n",
      " 8   url_ta          40000 non-null  object \n",
      " 9   id_ta           40000 non-null  object \n",
      "dtypes: float64(3), object(7)\n",
      "memory usage: 3.1+ MB\n"
     ]
    }
   ],
   "source": [
    "df.info()"
   ]
  },
  {
   "cell_type": "code",
   "execution_count": 7,
   "metadata": {
    "scrolled": false
   },
   "outputs": [
    {
     "data": {
      "text/html": [
       "<div>\n",
       "<style scoped>\n",
       "    .dataframe tbody tr th:only-of-type {\n",
       "        vertical-align: middle;\n",
       "    }\n",
       "\n",
       "    .dataframe tbody tr th {\n",
       "        vertical-align: top;\n",
       "    }\n",
       "\n",
       "    .dataframe thead th {\n",
       "        text-align: right;\n",
       "    }\n",
       "</style>\n",
       "<table border=\"1\" class=\"dataframe\">\n",
       "  <thead>\n",
       "    <tr style=\"text-align: right;\">\n",
       "      <th></th>\n",
       "      <th>ranking</th>\n",
       "      <th>rating</th>\n",
       "      <th>reviews_number</th>\n",
       "    </tr>\n",
       "  </thead>\n",
       "  <tbody>\n",
       "    <tr>\n",
       "      <th>count</th>\n",
       "      <td>40000.000000</td>\n",
       "      <td>40000.000000</td>\n",
       "      <td>37457.000000</td>\n",
       "    </tr>\n",
       "    <tr>\n",
       "      <th>mean</th>\n",
       "      <td>3676.028525</td>\n",
       "      <td>3.993037</td>\n",
       "      <td>124.825480</td>\n",
       "    </tr>\n",
       "    <tr>\n",
       "      <th>std</th>\n",
       "      <td>3708.749567</td>\n",
       "      <td>0.668417</td>\n",
       "      <td>295.666352</td>\n",
       "    </tr>\n",
       "    <tr>\n",
       "      <th>min</th>\n",
       "      <td>1.000000</td>\n",
       "      <td>1.000000</td>\n",
       "      <td>2.000000</td>\n",
       "    </tr>\n",
       "    <tr>\n",
       "      <th>25%</th>\n",
       "      <td>973.000000</td>\n",
       "      <td>3.500000</td>\n",
       "      <td>9.000000</td>\n",
       "    </tr>\n",
       "    <tr>\n",
       "      <th>50%</th>\n",
       "      <td>2285.000000</td>\n",
       "      <td>4.000000</td>\n",
       "      <td>33.000000</td>\n",
       "    </tr>\n",
       "    <tr>\n",
       "      <th>75%</th>\n",
       "      <td>5260.000000</td>\n",
       "      <td>4.500000</td>\n",
       "      <td>115.000000</td>\n",
       "    </tr>\n",
       "    <tr>\n",
       "      <th>max</th>\n",
       "      <td>16444.000000</td>\n",
       "      <td>5.000000</td>\n",
       "      <td>9660.000000</td>\n",
       "    </tr>\n",
       "  </tbody>\n",
       "</table>\n",
       "</div>"
      ],
      "text/plain": [
       "            ranking        rating  reviews_number\n",
       "count  40000.000000  40000.000000    37457.000000\n",
       "mean    3676.028525      3.993037      124.825480\n",
       "std     3708.749567      0.668417      295.666352\n",
       "min        1.000000      1.000000        2.000000\n",
       "25%      973.000000      3.500000        9.000000\n",
       "50%     2285.000000      4.000000       33.000000\n",
       "75%     5260.000000      4.500000      115.000000\n",
       "max    16444.000000      5.000000     9660.000000"
      ]
     },
     "execution_count": 7,
     "metadata": {},
     "output_type": "execute_result"
    }
   ],
   "source": [
    "df.describe()"
   ]
  },
  {
   "cell_type": "code",
   "execution_count": 8,
   "metadata": {
    "scrolled": true
   },
   "outputs": [
    {
     "data": {
      "text/plain": [
       "restaurant_id     11909\n",
       "city                 31\n",
       "cuisine_style      9007\n",
       "ranking           11936\n",
       "rating                9\n",
       "price_range           3\n",
       "reviews_number     1459\n",
       "reviews           33516\n",
       "url_ta            39980\n",
       "id_ta             39980\n",
       "dtype: int64"
      ]
     },
     "execution_count": 8,
     "metadata": {},
     "output_type": "execute_result"
    }
   ],
   "source": [
    "df.nunique()"
   ]
  },
  {
   "cell_type": "code",
   "execution_count": 9,
   "metadata": {
    "scrolled": true
   },
   "outputs": [
    {
     "data": {
      "text/plain": [
       "<matplotlib.axes._subplots.AxesSubplot at 0xe195151940>"
      ]
     },
     "execution_count": 9,
     "metadata": {},
     "output_type": "execute_result"
    },
    {
     "data": {
      "image/png": "[encoded data removed]",
      "text/plain": [
       "<Figure size 1008x288 with 1 Axes>"
      ]
     },
     "metadata": {
      "needs_background": "light"
     },
     "output_type": "display_data"
    }
   ],
   "source": [
    "#Анализ пропусков в столбцах\n",
    "plt.figure(figsize=(14, 4))\n",
    "sns.heatmap(df.isnull(), cbar=False, yticklabels=False, cmap = 'viridis')"
   ]
  },
  {
   "cell_type": "code",
   "execution_count": 10,
   "metadata": {},
   "outputs": [],
   "source": [
    "def analyse_numeric(datafr, column):\n",
    "    '''Визуализирует распределения.\n",
    "       Принимает параметрами DataFrame и строковое название столбца\n",
    "       Печатает различные статистические показатели и строит гистограмму'''\n",
    "    count = datafr[column].count()\n",
    "    mean = datafr[column].mean()\n",
    "    std = datafr[column].std()\n",
    "    median = datafr[column].median()\n",
    "    perc25 = datafr[column].quantile(0.25)\n",
    "    perc75 = datafr[column].quantile(0.75)\n",
    "    IQR = perc75 - perc25\n",
    "    range_min = datafr[column].min()\n",
    "    range_max = datafr[column].max()\n",
    "    margin = (range_max - range_min)/10\n",
    "    range_start = range_min - margin\n",
    "    range_stop = range_max + margin\n",
    "    range_ = (range_start, range_stop)\n",
    "    outliers = datafr[column].loc[(datafr[column] < perc25 - 1.5*IQR) | (datafr[column] > perc75 + 1.5*IQR)]\n",
    "\n",
    "    print('Количество: {}, Среднее: {:.3f}, Стандартное отклонение: {:.3f}.'.format(count, mean, std))\n",
    "    print('Минимум: {}, 25-й перцентиль: {}, Медиана: {}, 75-й перцентиль: {}, Максимум: {}, IQR: {}.'\n",
    "          .format(range_min, perc25, median, perc75, range_max, IQR))\n",
    "    print('Количество пропусков в столбце: ', pd.isnull(datafr[column]).sum())\n",
    "    print('Границы выбросов: [{f}, {l}].'.format(f=perc25 - 1.5*IQR, l=perc75 + 1.5*IQR)\n",
    "          , 'Количество выбросов: ', len(outliers))\n",
    "\n",
    "    datafr[column].loc[datafr[column].between(perc25 - 1.5*IQR, perc75 + 1.5*IQR)] \\\n",
    "                  .hist(bins = 30, range = range_, label = 'В границах выбросов')\n",
    "    outliers.hist(bins = 30, range = range_, label = 'Выбросы')\n",
    "    \n",
    "    plt.legend()"
   ]
  },
  {
   "cell_type": "markdown",
   "metadata": {},
   "source": [
    "## Осмотр и обработка данных и генерация новых признаков "
   ]
  },
  {
   "cell_type": "markdown",
   "metadata": {},
   "source": [
    "### restaurant_id"
   ]
  },
  {
   "cell_type": "code",
   "execution_count": 11,
   "metadata": {},
   "outputs": [
    {
     "data": {
      "text/plain": [
       "11909"
      ]
     },
     "execution_count": 11,
     "metadata": {},
     "output_type": "execute_result"
    }
   ],
   "source": [
    "df.restaurant_id.nunique()"
   ]
  },
  {
   "cell_type": "markdown",
   "metadata": {},
   "source": [
    "### city"
   ]
  },
  {
   "cell_type": "code",
   "execution_count": 12,
   "metadata": {
    "scrolled": true
   },
   "outputs": [
    {
     "data": {
      "text/plain": [
       "London        5757\n",
       "Paris         4897\n",
       "Madrid        3108\n",
       "Barcelona     2734\n",
       "Berlin        2155\n",
       "Milan         2133\n",
       "Rome          2078\n",
       "Prague        1443\n",
       "Lisbon        1300\n",
       "Vienna        1166\n",
       "Amsterdam     1086\n",
       "Brussels      1060\n",
       "Hamburg        949\n",
       "Munich         893\n",
       "Lyon           892\n",
       "Stockholm      820\n",
       "Budapest       816\n",
       "Warsaw         727\n",
       "Dublin         673\n",
       "Copenhagen     659\n",
       "Athens         628\n",
       "Edinburgh      596\n",
       "Zurich         538\n",
       "Oporto         513\n",
       "Geneva         481\n",
       "Krakow         443\n",
       "Oslo           385\n",
       "Helsinki       376\n",
       "Bratislava     301\n",
       "Luxembourg     210\n",
       "Ljubljana      183\n",
       "Name: city, dtype: int64"
      ]
     },
     "execution_count": 12,
     "metadata": {},
     "output_type": "execute_result"
    }
   ],
   "source": [
    "df_tmp = df.city.value_counts()\n",
    "df_tmp"
   ]
  },
  {
   "cell_type": "markdown",
   "metadata": {},
   "source": [
    "#### Добавим столбец количества ресторанов в городе"
   ]
  },
  {
   "cell_type": "code",
   "execution_count": 13,
   "metadata": {},
   "outputs": [],
   "source": [
    "df['rests'] = df['city'].apply(lambda x: df_tmp[x])"
   ]
  },
  {
   "cell_type": "markdown",
   "metadata": {},
   "source": [
    "#### Поработаем с популяциями городов. Добавим столбец population двумя разными способми: из внешнего датасета worldcities.csv с https://kaggle.com и из Википедии, https://en.wikipedia.org/wiki/List_of_cities_in_the_European_Union_by_population_within_city_limits и проверим, какой способ лучше."
   ]
  },
  {
   "cell_type": "markdown",
   "metadata": {},
   "source": [
    "#### Способ 1"
   ]
  },
  {
   "cell_type": "code",
   "execution_count": 14,
   "metadata": {},
   "outputs": [],
   "source": [
    "#cities = pd.read_csv('.\\data\\worldcities.csv')\n",
    "#cities.head()"
   ]
  },
  {
   "cell_type": "code",
   "execution_count": 15,
   "metadata": {},
   "outputs": [],
   "source": [
    "def get_population(str_city):\n",
    "    '''Возвращает популяцию города str_city'''\n",
    "    if str_city.lower() == 'oporto': # Такого названия нет в датасете cities\n",
    "        str_city = 'porto'\n",
    "    return cities[cities.city_ascii.str.lower() == str_city.lower()]['population'].max()"
   ]
  },
  {
   "cell_type": "code",
   "execution_count": 16,
   "metadata": {},
   "outputs": [],
   "source": [
    "#df['population'] = df.city.apply(lambda x: get_population(x))"
   ]
  },
  {
   "cell_type": "markdown",
   "metadata": {},
   "source": [
    "#### Способ 2"
   ]
  },
  {
   "cell_type": "code",
   "execution_count": 17,
   "metadata": {},
   "outputs": [],
   "source": [
    "population_dict = {\n",
    "    'London': 9304016,\n",
    "    'Paris': 2140526,\n",
    "    'Madrid': 3348536,\n",
    "    'Barcelona': 1620343,\n",
    "    'Berlin': 3748148,\n",
    "    'Milan': 1404239,\n",
    "    'Rome': 2856133,\n",
    "    'Prague': 1324277,\n",
    "    'Lisbon': 506654,\n",
    "    'Vienna': 1911728,\n",
    "    'Amsterdam': 873555,\n",
    "    'Brussels': 1209000,\n",
    "    'Hamburg': 1841179,\n",
    "    'Munich': 1471508,\n",
    "    'Lyon': 515695,\n",
    "    'Stockholm': 974073,\n",
    "    'Budapest': 1752286,\n",
    "    'Warsaw': 1790658,\n",
    "    'Dublin': 554554,\n",
    "    'Copenhagen': 626508,\n",
    "    'Athens': 664046,\n",
    "    'Edinburgh': 524930,\n",
    "    'Zurich': 415367,\n",
    "    'Oporto': 237559,\n",
    "    'Geneva': 201818,\n",
    "    'Krakow': 779115,\n",
    "    'Oslo': 693491,\n",
    "    'Helsinki': 648042,\n",
    "    'Bratislava': 432864,\n",
    "    'Luxembourg': 613894,\n",
    "    'Ljubljana': 292988\n",
    "}\n",
    "df['population'] = df['city'].map(population_dict)"
   ]
  },
  {
   "cell_type": "markdown",
   "metadata": {},
   "source": [
    "#### Пронормируем столбец population (получим значения в тысячах жителей)"
   ]
  },
  {
   "cell_type": "code",
   "execution_count": 18,
   "metadata": {},
   "outputs": [],
   "source": [
    "df['population'] = df['population'] / 1000"
   ]
  },
  {
   "cell_type": "markdown",
   "metadata": {},
   "source": [
    "#### Добавим столбец плотности ресторанов в городе"
   ]
  },
  {
   "cell_type": "code",
   "execution_count": 19,
   "metadata": {},
   "outputs": [],
   "source": [
    "df['rest_density'] = df.rests / df.population"
   ]
  },
  {
   "cell_type": "code",
   "execution_count": 20,
   "metadata": {},
   "outputs": [],
   "source": [
    "#Вот насчет этого подумать\n",
    "#df['rest_density1'] = df.population / df.rests"
   ]
  },
  {
   "cell_type": "markdown",
   "metadata": {},
   "source": [
    "#### Добавим признак capital"
   ]
  },
  {
   "cell_type": "code",
   "execution_count": 21,
   "metadata": {},
   "outputs": [],
   "source": [
    "capitals = ['Paris', 'Stockholm', 'London', 'Berlin',\n",
    "            'Bratislava', 'Vienna', 'Rome', 'Madrid',\n",
    "            'Dublin', 'Brussels', 'Warsaw', 'Budapest', 'Copenhagen',\n",
    "            'Amsterdam', 'Lisbon', 'Prague', 'Oslo',\n",
    "            'Helsinki', 'Ljubljana', 'Athens', 'Luxembourg']\n",
    "#df['capital'] = df['city'].apply(lambda x: x in capitals).astype('uint8')"
   ]
  },
  {
   "cell_type": "markdown",
   "metadata": {},
   "source": [
    "#### Добавим dummies по городам"
   ]
  },
  {
   "cell_type": "code",
   "execution_count": 22,
   "metadata": {
    "scrolled": true
   },
   "outputs": [
    {
     "data": {
      "text/html": [
       "<div>\n",
       "<style scoped>\n",
       "    .dataframe tbody tr th:only-of-type {\n",
       "        vertical-align: middle;\n",
       "    }\n",
       "\n",
       "    .dataframe tbody tr th {\n",
       "        vertical-align: top;\n",
       "    }\n",
       "\n",
       "    .dataframe thead th {\n",
       "        text-align: right;\n",
       "    }\n",
       "</style>\n",
       "<table border=\"1\" class=\"dataframe\">\n",
       "  <thead>\n",
       "    <tr style=\"text-align: right;\">\n",
       "      <th></th>\n",
       "      <th>restaurant_id</th>\n",
       "      <th>city</th>\n",
       "      <th>cuisine_style</th>\n",
       "      <th>ranking</th>\n",
       "      <th>rating</th>\n",
       "      <th>price_range</th>\n",
       "      <th>reviews_number</th>\n",
       "      <th>reviews</th>\n",
       "      <th>url_ta</th>\n",
       "      <th>id_ta</th>\n",
       "      <th>rests</th>\n",
       "      <th>population</th>\n",
       "      <th>rest_density</th>\n",
       "      <th>Amsterdam</th>\n",
       "      <th>Athens</th>\n",
       "      <th>Barcelona</th>\n",
       "      <th>Berlin</th>\n",
       "      <th>Bratislava</th>\n",
       "      <th>Brussels</th>\n",
       "      <th>Budapest</th>\n",
       "      <th>Copenhagen</th>\n",
       "      <th>Dublin</th>\n",
       "      <th>Edinburgh</th>\n",
       "      <th>Geneva</th>\n",
       "      <th>Hamburg</th>\n",
       "      <th>Helsinki</th>\n",
       "      <th>Krakow</th>\n",
       "      <th>Lisbon</th>\n",
       "      <th>Ljubljana</th>\n",
       "      <th>London</th>\n",
       "      <th>Luxembourg</th>\n",
       "      <th>Lyon</th>\n",
       "      <th>Madrid</th>\n",
       "      <th>Milan</th>\n",
       "      <th>Munich</th>\n",
       "      <th>Oporto</th>\n",
       "      <th>Oslo</th>\n",
       "      <th>Paris</th>\n",
       "      <th>Prague</th>\n",
       "      <th>Rome</th>\n",
       "      <th>Stockholm</th>\n",
       "      <th>Vienna</th>\n",
       "      <th>Warsaw</th>\n",
       "      <th>Zurich</th>\n",
       "    </tr>\n",
       "  </thead>\n",
       "  <tbody>\n",
       "    <tr>\n",
       "      <th>0</th>\n",
       "      <td>id_5569</td>\n",
       "      <td>Paris</td>\n",
       "      <td>['European', 'French', 'International']</td>\n",
       "      <td>5570.0</td>\n",
       "      <td>3.5</td>\n",
       "      <td>$$ - $$$</td>\n",
       "      <td>194.0</td>\n",
       "      <td>[['Good food at your doorstep', 'A good hotel ...</td>\n",
       "      <td>/Restaurant_Review-g187147-d1912643-Reviews-R_...</td>\n",
       "      <td>d1912643</td>\n",
       "      <td>4897</td>\n",
       "      <td>2140.526</td>\n",
       "      <td>2.287755</td>\n",
       "      <td>0</td>\n",
       "      <td>0</td>\n",
       "      <td>0</td>\n",
       "      <td>0</td>\n",
       "      <td>0</td>\n",
       "      <td>0</td>\n",
       "      <td>0</td>\n",
       "      <td>0</td>\n",
       "      <td>0</td>\n",
       "      <td>0</td>\n",
       "      <td>0</td>\n",
       "      <td>0</td>\n",
       "      <td>0</td>\n",
       "      <td>0</td>\n",
       "      <td>0</td>\n",
       "      <td>0</td>\n",
       "      <td>0</td>\n",
       "      <td>0</td>\n",
       "      <td>0</td>\n",
       "      <td>0</td>\n",
       "      <td>0</td>\n",
       "      <td>0</td>\n",
       "      <td>0</td>\n",
       "      <td>0</td>\n",
       "      <td>1</td>\n",
       "      <td>0</td>\n",
       "      <td>0</td>\n",
       "      <td>0</td>\n",
       "      <td>0</td>\n",
       "      <td>0</td>\n",
       "      <td>0</td>\n",
       "    </tr>\n",
       "    <tr>\n",
       "      <th>1</th>\n",
       "      <td>id_1535</td>\n",
       "      <td>Stockholm</td>\n",
       "      <td>NaN</td>\n",
       "      <td>1537.0</td>\n",
       "      <td>4.0</td>\n",
       "      <td>NaN</td>\n",
       "      <td>10.0</td>\n",
       "      <td>[['Unique cuisine', 'Delicious Nepalese food']...</td>\n",
       "      <td>/Restaurant_Review-g189852-d7992032-Reviews-Bu...</td>\n",
       "      <td>d7992032</td>\n",
       "      <td>820</td>\n",
       "      <td>974.073</td>\n",
       "      <td>0.841826</td>\n",
       "      <td>0</td>\n",
       "      <td>0</td>\n",
       "      <td>0</td>\n",
       "      <td>0</td>\n",
       "      <td>0</td>\n",
       "      <td>0</td>\n",
       "      <td>0</td>\n",
       "      <td>0</td>\n",
       "      <td>0</td>\n",
       "      <td>0</td>\n",
       "      <td>0</td>\n",
       "      <td>0</td>\n",
       "      <td>0</td>\n",
       "      <td>0</td>\n",
       "      <td>0</td>\n",
       "      <td>0</td>\n",
       "      <td>0</td>\n",
       "      <td>0</td>\n",
       "      <td>0</td>\n",
       "      <td>0</td>\n",
       "      <td>0</td>\n",
       "      <td>0</td>\n",
       "      <td>0</td>\n",
       "      <td>0</td>\n",
       "      <td>0</td>\n",
       "      <td>0</td>\n",
       "      <td>0</td>\n",
       "      <td>1</td>\n",
       "      <td>0</td>\n",
       "      <td>0</td>\n",
       "      <td>0</td>\n",
       "    </tr>\n",
       "    <tr>\n",
       "      <th>2</th>\n",
       "      <td>id_352</td>\n",
       "      <td>London</td>\n",
       "      <td>['Japanese', 'Sushi', 'Asian', 'Grill', 'Veget...</td>\n",
       "      <td>353.0</td>\n",
       "      <td>4.5</td>\n",
       "      <td>$$$$</td>\n",
       "      <td>688.0</td>\n",
       "      <td>[['Catch up with friends', 'Not exceptional'],...</td>\n",
       "      <td>/Restaurant_Review-g186338-d8632781-Reviews-RO...</td>\n",
       "      <td>d8632781</td>\n",
       "      <td>5757</td>\n",
       "      <td>9304.016</td>\n",
       "      <td>0.618765</td>\n",
       "      <td>0</td>\n",
       "      <td>0</td>\n",
       "      <td>0</td>\n",
       "      <td>0</td>\n",
       "      <td>0</td>\n",
       "      <td>0</td>\n",
       "      <td>0</td>\n",
       "      <td>0</td>\n",
       "      <td>0</td>\n",
       "      <td>0</td>\n",
       "      <td>0</td>\n",
       "      <td>0</td>\n",
       "      <td>0</td>\n",
       "      <td>0</td>\n",
       "      <td>0</td>\n",
       "      <td>0</td>\n",
       "      <td>1</td>\n",
       "      <td>0</td>\n",
       "      <td>0</td>\n",
       "      <td>0</td>\n",
       "      <td>0</td>\n",
       "      <td>0</td>\n",
       "      <td>0</td>\n",
       "      <td>0</td>\n",
       "      <td>0</td>\n",
       "      <td>0</td>\n",
       "      <td>0</td>\n",
       "      <td>0</td>\n",
       "      <td>0</td>\n",
       "      <td>0</td>\n",
       "      <td>0</td>\n",
       "    </tr>\n",
       "  </tbody>\n",
       "</table>\n",
       "</div>"
      ],
      "text/plain": [
       "  restaurant_id       city                                      cuisine_style  \\\n",
       "0       id_5569      Paris            ['European', 'French', 'International']   \n",
       "1       id_1535  Stockholm                                                NaN   \n",
       "2        id_352     London  ['Japanese', 'Sushi', 'Asian', 'Grill', 'Veget...   \n",
       "\n",
       "   ranking  rating price_range  reviews_number  \\\n",
       "0   5570.0     3.5    $$ - $$$           194.0   \n",
       "1   1537.0     4.0         NaN            10.0   \n",
       "2    353.0     4.5        $$$$           688.0   \n",
       "\n",
       "                                             reviews  \\\n",
       "0  [['Good food at your doorstep', 'A good hotel ...   \n",
       "1  [['Unique cuisine', 'Delicious Nepalese food']...   \n",
       "2  [['Catch up with friends', 'Not exceptional'],...   \n",
       "\n",
       "                                              url_ta     id_ta  rests  \\\n",
       "0  /Restaurant_Review-g187147-d1912643-Reviews-R_...  d1912643   4897   \n",
       "1  /Restaurant_Review-g189852-d7992032-Reviews-Bu...  d7992032    820   \n",
       "2  /Restaurant_Review-g186338-d8632781-Reviews-RO...  d8632781   5757   \n",
       "\n",
       "   population  rest_density  Amsterdam  Athens  Barcelona  Berlin  Bratislava  \\\n",
       "0    2140.526      2.287755          0       0          0       0           0   \n",
       "1     974.073      0.841826          0       0          0       0           0   \n",
       "2    9304.016      0.618765          0       0          0       0           0   \n",
       "\n",
       "   Brussels  Budapest  Copenhagen  Dublin  Edinburgh  Geneva  Hamburg  \\\n",
       "0         0         0           0       0          0       0        0   \n",
       "1         0         0           0       0          0       0        0   \n",
       "2         0         0           0       0          0       0        0   \n",
       "\n",
       "   Helsinki  Krakow  Lisbon  Ljubljana  London  Luxembourg  Lyon  Madrid  \\\n",
       "0         0       0       0          0       0           0     0       0   \n",
       "1         0       0       0          0       0           0     0       0   \n",
       "2         0       0       0          0       1           0     0       0   \n",
       "\n",
       "   Milan  Munich  Oporto  Oslo  Paris  Prague  Rome  Stockholm  Vienna  \\\n",
       "0      0       0       0     0      1       0     0          0       0   \n",
       "1      0       0       0     0      0       0     0          1       0   \n",
       "2      0       0       0     0      0       0     0          0       0   \n",
       "\n",
       "   Warsaw  Zurich  \n",
       "0       0       0  \n",
       "1       0       0  \n",
       "2       0       0  "
      ]
     },
     "execution_count": 22,
     "metadata": {},
     "output_type": "execute_result"
    }
   ],
   "source": [
    "df = pd.concat([df, pd.get_dummies(df.city)], axis=1)\n",
    "df.head(3)"
   ]
  },
  {
   "cell_type": "markdown",
   "metadata": {},
   "source": [
    "#### Добавим признак country"
   ]
  },
  {
   "cell_type": "code",
   "execution_count": 23,
   "metadata": {},
   "outputs": [],
   "source": [
    "countries_dict = {'Amsterdam': 'Netherlands',\n",
    "             'Athens': 'Greece',\n",
    "             'Barcelona': 'Spain',\n",
    "             'Berlin': 'Germany',\n",
    "             'Bratislava': 'Slovakia',\n",
    "             'Brussels': 'Belgium',\n",
    "             'Budapest': 'Hungary',\n",
    "             'Copenhagen': 'Denmark',\n",
    "             'Dublin': 'Ireland',\n",
    "             'Edinburgh': 'UK',\n",
    "             'Geneva': 'Switzerland',\n",
    "             'Hamburg': 'Germany',\n",
    "             'Helsinki': 'Finland',\n",
    "             'Krakow': 'Poland',\n",
    "             'Lisbon': 'Portugal',\n",
    "             'Ljubljana': 'Slovenia',\n",
    "             'London': 'UK',\n",
    "             'Luxembourg': 'Luxembourg',\n",
    "             'Lyon': 'France',\n",
    "             'Madrid': 'Spain',\n",
    "             'Milan': 'Italy',\n",
    "             'Munich': 'Germany',\n",
    "             'Oporto': 'Portugal',\n",
    "             'Oslo': 'Norway',\n",
    "             'Paris': 'France',\n",
    "             'Prague': 'Czechia',\n",
    "             'Rome': 'Italy',\n",
    "             'Stockholm': 'Sweden',\n",
    "             'Vienna': 'Austria',\n",
    "             'Warsaw': 'Poland',\n",
    "             'Zurich': 'Switzerland'}\n",
    "df['country'] = df['city'].map(countries_dict)\n",
    "df.country = df.country.apply(lambda s: s + '_')"
   ]
  },
  {
   "cell_type": "code",
   "execution_count": 24,
   "metadata": {},
   "outputs": [
    {
     "data": {
      "text/html": [
       "<div>\n",
       "<style scoped>\n",
       "    .dataframe tbody tr th:only-of-type {\n",
       "        vertical-align: middle;\n",
       "    }\n",
       "\n",
       "    .dataframe tbody tr th {\n",
       "        vertical-align: top;\n",
       "    }\n",
       "\n",
       "    .dataframe thead th {\n",
       "        text-align: right;\n",
       "    }\n",
       "</style>\n",
       "<table border=\"1\" class=\"dataframe\">\n",
       "  <thead>\n",
       "    <tr style=\"text-align: right;\">\n",
       "      <th></th>\n",
       "      <th>restaurant_id</th>\n",
       "      <th>city</th>\n",
       "      <th>cuisine_style</th>\n",
       "      <th>ranking</th>\n",
       "      <th>rating</th>\n",
       "      <th>price_range</th>\n",
       "      <th>reviews_number</th>\n",
       "      <th>reviews</th>\n",
       "      <th>url_ta</th>\n",
       "      <th>id_ta</th>\n",
       "      <th>rests</th>\n",
       "      <th>population</th>\n",
       "      <th>rest_density</th>\n",
       "      <th>Amsterdam</th>\n",
       "      <th>Athens</th>\n",
       "      <th>Barcelona</th>\n",
       "      <th>Berlin</th>\n",
       "      <th>Bratislava</th>\n",
       "      <th>Brussels</th>\n",
       "      <th>Budapest</th>\n",
       "      <th>Copenhagen</th>\n",
       "      <th>Dublin</th>\n",
       "      <th>Edinburgh</th>\n",
       "      <th>Geneva</th>\n",
       "      <th>Hamburg</th>\n",
       "      <th>Helsinki</th>\n",
       "      <th>Krakow</th>\n",
       "      <th>Lisbon</th>\n",
       "      <th>Ljubljana</th>\n",
       "      <th>London</th>\n",
       "      <th>Luxembourg</th>\n",
       "      <th>Lyon</th>\n",
       "      <th>Madrid</th>\n",
       "      <th>Milan</th>\n",
       "      <th>Munich</th>\n",
       "      <th>Oporto</th>\n",
       "      <th>Oslo</th>\n",
       "      <th>Paris</th>\n",
       "      <th>Prague</th>\n",
       "      <th>Rome</th>\n",
       "      <th>Stockholm</th>\n",
       "      <th>Vienna</th>\n",
       "      <th>Warsaw</th>\n",
       "      <th>Zurich</th>\n",
       "      <th>country</th>\n",
       "      <th>Austria_</th>\n",
       "      <th>Belgium_</th>\n",
       "      <th>Czechia_</th>\n",
       "      <th>Denmark_</th>\n",
       "      <th>Finland_</th>\n",
       "      <th>France_</th>\n",
       "      <th>Germany_</th>\n",
       "      <th>Greece_</th>\n",
       "      <th>Hungary_</th>\n",
       "      <th>Ireland_</th>\n",
       "      <th>Italy_</th>\n",
       "      <th>Luxembourg_</th>\n",
       "      <th>Netherlands_</th>\n",
       "      <th>Norway_</th>\n",
       "      <th>Poland_</th>\n",
       "      <th>Portugal_</th>\n",
       "      <th>Slovakia_</th>\n",
       "      <th>Slovenia_</th>\n",
       "      <th>Spain_</th>\n",
       "      <th>Sweden_</th>\n",
       "      <th>Switzerland_</th>\n",
       "      <th>UK_</th>\n",
       "    </tr>\n",
       "  </thead>\n",
       "  <tbody>\n",
       "    <tr>\n",
       "      <th>0</th>\n",
       "      <td>id_5569</td>\n",
       "      <td>Paris</td>\n",
       "      <td>['European', 'French', 'International']</td>\n",
       "      <td>5570.0</td>\n",
       "      <td>3.5</td>\n",
       "      <td>$$ - $$$</td>\n",
       "      <td>194.0</td>\n",
       "      <td>[['Good food at your doorstep', 'A good hotel ...</td>\n",
       "      <td>/Restaurant_Review-g187147-d1912643-Reviews-R_...</td>\n",
       "      <td>d1912643</td>\n",
       "      <td>4897</td>\n",
       "      <td>2140.526</td>\n",
       "      <td>2.287755</td>\n",
       "      <td>0</td>\n",
       "      <td>0</td>\n",
       "      <td>0</td>\n",
       "      <td>0</td>\n",
       "      <td>0</td>\n",
       "      <td>0</td>\n",
       "      <td>0</td>\n",
       "      <td>0</td>\n",
       "      <td>0</td>\n",
       "      <td>0</td>\n",
       "      <td>0</td>\n",
       "      <td>0</td>\n",
       "      <td>0</td>\n",
       "      <td>0</td>\n",
       "      <td>0</td>\n",
       "      <td>0</td>\n",
       "      <td>0</td>\n",
       "      <td>0</td>\n",
       "      <td>0</td>\n",
       "      <td>0</td>\n",
       "      <td>0</td>\n",
       "      <td>0</td>\n",
       "      <td>0</td>\n",
       "      <td>0</td>\n",
       "      <td>1</td>\n",
       "      <td>0</td>\n",
       "      <td>0</td>\n",
       "      <td>0</td>\n",
       "      <td>0</td>\n",
       "      <td>0</td>\n",
       "      <td>0</td>\n",
       "      <td>France_</td>\n",
       "      <td>0</td>\n",
       "      <td>0</td>\n",
       "      <td>0</td>\n",
       "      <td>0</td>\n",
       "      <td>0</td>\n",
       "      <td>1</td>\n",
       "      <td>0</td>\n",
       "      <td>0</td>\n",
       "      <td>0</td>\n",
       "      <td>0</td>\n",
       "      <td>0</td>\n",
       "      <td>0</td>\n",
       "      <td>0</td>\n",
       "      <td>0</td>\n",
       "      <td>0</td>\n",
       "      <td>0</td>\n",
       "      <td>0</td>\n",
       "      <td>0</td>\n",
       "      <td>0</td>\n",
       "      <td>0</td>\n",
       "      <td>0</td>\n",
       "      <td>0</td>\n",
       "    </tr>\n",
       "    <tr>\n",
       "      <th>1</th>\n",
       "      <td>id_1535</td>\n",
       "      <td>Stockholm</td>\n",
       "      <td>NaN</td>\n",
       "      <td>1537.0</td>\n",
       "      <td>4.0</td>\n",
       "      <td>NaN</td>\n",
       "      <td>10.0</td>\n",
       "      <td>[['Unique cuisine', 'Delicious Nepalese food']...</td>\n",
       "      <td>/Restaurant_Review-g189852-d7992032-Reviews-Bu...</td>\n",
       "      <td>d7992032</td>\n",
       "      <td>820</td>\n",
       "      <td>974.073</td>\n",
       "      <td>0.841826</td>\n",
       "      <td>0</td>\n",
       "      <td>0</td>\n",
       "      <td>0</td>\n",
       "      <td>0</td>\n",
       "      <td>0</td>\n",
       "      <td>0</td>\n",
       "      <td>0</td>\n",
       "      <td>0</td>\n",
       "      <td>0</td>\n",
       "      <td>0</td>\n",
       "      <td>0</td>\n",
       "      <td>0</td>\n",
       "      <td>0</td>\n",
       "      <td>0</td>\n",
       "      <td>0</td>\n",
       "      <td>0</td>\n",
       "      <td>0</td>\n",
       "      <td>0</td>\n",
       "      <td>0</td>\n",
       "      <td>0</td>\n",
       "      <td>0</td>\n",
       "      <td>0</td>\n",
       "      <td>0</td>\n",
       "      <td>0</td>\n",
       "      <td>0</td>\n",
       "      <td>0</td>\n",
       "      <td>0</td>\n",
       "      <td>1</td>\n",
       "      <td>0</td>\n",
       "      <td>0</td>\n",
       "      <td>0</td>\n",
       "      <td>Sweden_</td>\n",
       "      <td>0</td>\n",
       "      <td>0</td>\n",
       "      <td>0</td>\n",
       "      <td>0</td>\n",
       "      <td>0</td>\n",
       "      <td>0</td>\n",
       "      <td>0</td>\n",
       "      <td>0</td>\n",
       "      <td>0</td>\n",
       "      <td>0</td>\n",
       "      <td>0</td>\n",
       "      <td>0</td>\n",
       "      <td>0</td>\n",
       "      <td>0</td>\n",
       "      <td>0</td>\n",
       "      <td>0</td>\n",
       "      <td>0</td>\n",
       "      <td>0</td>\n",
       "      <td>0</td>\n",
       "      <td>1</td>\n",
       "      <td>0</td>\n",
       "      <td>0</td>\n",
       "    </tr>\n",
       "    <tr>\n",
       "      <th>2</th>\n",
       "      <td>id_352</td>\n",
       "      <td>London</td>\n",
       "      <td>['Japanese', 'Sushi', 'Asian', 'Grill', 'Veget...</td>\n",
       "      <td>353.0</td>\n",
       "      <td>4.5</td>\n",
       "      <td>$$$$</td>\n",
       "      <td>688.0</td>\n",
       "      <td>[['Catch up with friends', 'Not exceptional'],...</td>\n",
       "      <td>/Restaurant_Review-g186338-d8632781-Reviews-RO...</td>\n",
       "      <td>d8632781</td>\n",
       "      <td>5757</td>\n",
       "      <td>9304.016</td>\n",
       "      <td>0.618765</td>\n",
       "      <td>0</td>\n",
       "      <td>0</td>\n",
       "      <td>0</td>\n",
       "      <td>0</td>\n",
       "      <td>0</td>\n",
       "      <td>0</td>\n",
       "      <td>0</td>\n",
       "      <td>0</td>\n",
       "      <td>0</td>\n",
       "      <td>0</td>\n",
       "      <td>0</td>\n",
       "      <td>0</td>\n",
       "      <td>0</td>\n",
       "      <td>0</td>\n",
       "      <td>0</td>\n",
       "      <td>0</td>\n",
       "      <td>1</td>\n",
       "      <td>0</td>\n",
       "      <td>0</td>\n",
       "      <td>0</td>\n",
       "      <td>0</td>\n",
       "      <td>0</td>\n",
       "      <td>0</td>\n",
       "      <td>0</td>\n",
       "      <td>0</td>\n",
       "      <td>0</td>\n",
       "      <td>0</td>\n",
       "      <td>0</td>\n",
       "      <td>0</td>\n",
       "      <td>0</td>\n",
       "      <td>0</td>\n",
       "      <td>UK_</td>\n",
       "      <td>0</td>\n",
       "      <td>0</td>\n",
       "      <td>0</td>\n",
       "      <td>0</td>\n",
       "      <td>0</td>\n",
       "      <td>0</td>\n",
       "      <td>0</td>\n",
       "      <td>0</td>\n",
       "      <td>0</td>\n",
       "      <td>0</td>\n",
       "      <td>0</td>\n",
       "      <td>0</td>\n",
       "      <td>0</td>\n",
       "      <td>0</td>\n",
       "      <td>0</td>\n",
       "      <td>0</td>\n",
       "      <td>0</td>\n",
       "      <td>0</td>\n",
       "      <td>0</td>\n",
       "      <td>0</td>\n",
       "      <td>0</td>\n",
       "      <td>1</td>\n",
       "    </tr>\n",
       "    <tr>\n",
       "      <th>3</th>\n",
       "      <td>id_3456</td>\n",
       "      <td>Berlin</td>\n",
       "      <td>NaN</td>\n",
       "      <td>3458.0</td>\n",
       "      <td>5.0</td>\n",
       "      <td>NaN</td>\n",
       "      <td>3.0</td>\n",
       "      <td>[[], []]</td>\n",
       "      <td>/Restaurant_Review-g187323-d1358776-Reviews-Es...</td>\n",
       "      <td>d1358776</td>\n",
       "      <td>2155</td>\n",
       "      <td>3748.148</td>\n",
       "      <td>0.574951</td>\n",
       "      <td>0</td>\n",
       "      <td>0</td>\n",
       "      <td>0</td>\n",
       "      <td>1</td>\n",
       "      <td>0</td>\n",
       "      <td>0</td>\n",
       "      <td>0</td>\n",
       "      <td>0</td>\n",
       "      <td>0</td>\n",
       "      <td>0</td>\n",
       "      <td>0</td>\n",
       "      <td>0</td>\n",
       "      <td>0</td>\n",
       "      <td>0</td>\n",
       "      <td>0</td>\n",
       "      <td>0</td>\n",
       "      <td>0</td>\n",
       "      <td>0</td>\n",
       "      <td>0</td>\n",
       "      <td>0</td>\n",
       "      <td>0</td>\n",
       "      <td>0</td>\n",
       "      <td>0</td>\n",
       "      <td>0</td>\n",
       "      <td>0</td>\n",
       "      <td>0</td>\n",
       "      <td>0</td>\n",
       "      <td>0</td>\n",
       "      <td>0</td>\n",
       "      <td>0</td>\n",
       "      <td>0</td>\n",
       "      <td>Germany_</td>\n",
       "      <td>0</td>\n",
       "      <td>0</td>\n",
       "      <td>0</td>\n",
       "      <td>0</td>\n",
       "      <td>0</td>\n",
       "      <td>0</td>\n",
       "      <td>1</td>\n",
       "      <td>0</td>\n",
       "      <td>0</td>\n",
       "      <td>0</td>\n",
       "      <td>0</td>\n",
       "      <td>0</td>\n",
       "      <td>0</td>\n",
       "      <td>0</td>\n",
       "      <td>0</td>\n",
       "      <td>0</td>\n",
       "      <td>0</td>\n",
       "      <td>0</td>\n",
       "      <td>0</td>\n",
       "      <td>0</td>\n",
       "      <td>0</td>\n",
       "      <td>0</td>\n",
       "    </tr>\n",
       "    <tr>\n",
       "      <th>4</th>\n",
       "      <td>id_615</td>\n",
       "      <td>Munich</td>\n",
       "      <td>['German', 'Central European', 'Vegetarian Fri...</td>\n",
       "      <td>621.0</td>\n",
       "      <td>4.0</td>\n",
       "      <td>$$ - $$$</td>\n",
       "      <td>84.0</td>\n",
       "      <td>[['Best place to try a Bavarian food', 'Nice b...</td>\n",
       "      <td>/Restaurant_Review-g187309-d6864963-Reviews-Au...</td>\n",
       "      <td>d6864963</td>\n",
       "      <td>893</td>\n",
       "      <td>1471.508</td>\n",
       "      <td>0.606860</td>\n",
       "      <td>0</td>\n",
       "      <td>0</td>\n",
       "      <td>0</td>\n",
       "      <td>0</td>\n",
       "      <td>0</td>\n",
       "      <td>0</td>\n",
       "      <td>0</td>\n",
       "      <td>0</td>\n",
       "      <td>0</td>\n",
       "      <td>0</td>\n",
       "      <td>0</td>\n",
       "      <td>0</td>\n",
       "      <td>0</td>\n",
       "      <td>0</td>\n",
       "      <td>0</td>\n",
       "      <td>0</td>\n",
       "      <td>0</td>\n",
       "      <td>0</td>\n",
       "      <td>0</td>\n",
       "      <td>0</td>\n",
       "      <td>0</td>\n",
       "      <td>1</td>\n",
       "      <td>0</td>\n",
       "      <td>0</td>\n",
       "      <td>0</td>\n",
       "      <td>0</td>\n",
       "      <td>0</td>\n",
       "      <td>0</td>\n",
       "      <td>0</td>\n",
       "      <td>0</td>\n",
       "      <td>0</td>\n",
       "      <td>Germany_</td>\n",
       "      <td>0</td>\n",
       "      <td>0</td>\n",
       "      <td>0</td>\n",
       "      <td>0</td>\n",
       "      <td>0</td>\n",
       "      <td>0</td>\n",
       "      <td>1</td>\n",
       "      <td>0</td>\n",
       "      <td>0</td>\n",
       "      <td>0</td>\n",
       "      <td>0</td>\n",
       "      <td>0</td>\n",
       "      <td>0</td>\n",
       "      <td>0</td>\n",
       "      <td>0</td>\n",
       "      <td>0</td>\n",
       "      <td>0</td>\n",
       "      <td>0</td>\n",
       "      <td>0</td>\n",
       "      <td>0</td>\n",
       "      <td>0</td>\n",
       "      <td>0</td>\n",
       "    </tr>\n",
       "  </tbody>\n",
       "</table>\n",
       "</div>"
      ],
      "text/plain": [
       "  restaurant_id       city                                      cuisine_style  \\\n",
       "0       id_5569      Paris            ['European', 'French', 'International']   \n",
       "1       id_1535  Stockholm                                                NaN   \n",
       "2        id_352     London  ['Japanese', 'Sushi', 'Asian', 'Grill', 'Veget...   \n",
       "3       id_3456     Berlin                                                NaN   \n",
       "4        id_615     Munich  ['German', 'Central European', 'Vegetarian Fri...   \n",
       "\n",
       "   ranking  rating price_range  reviews_number  \\\n",
       "0   5570.0     3.5    $$ - $$$           194.0   \n",
       "1   1537.0     4.0         NaN            10.0   \n",
       "2    353.0     4.5        $$$$           688.0   \n",
       "3   3458.0     5.0         NaN             3.0   \n",
       "4    621.0     4.0    $$ - $$$            84.0   \n",
       "\n",
       "                                             reviews  \\\n",
       "0  [['Good food at your doorstep', 'A good hotel ...   \n",
       "1  [['Unique cuisine', 'Delicious Nepalese food']...   \n",
       "2  [['Catch up with friends', 'Not exceptional'],...   \n",
       "3                                           [[], []]   \n",
       "4  [['Best place to try a Bavarian food', 'Nice b...   \n",
       "\n",
       "                                              url_ta     id_ta  rests  \\\n",
       "0  /Restaurant_Review-g187147-d1912643-Reviews-R_...  d1912643   4897   \n",
       "1  /Restaurant_Review-g189852-d7992032-Reviews-Bu...  d7992032    820   \n",
       "2  /Restaurant_Review-g186338-d8632781-Reviews-RO...  d8632781   5757   \n",
       "3  /Restaurant_Review-g187323-d1358776-Reviews-Es...  d1358776   2155   \n",
       "4  /Restaurant_Review-g187309-d6864963-Reviews-Au...  d6864963    893   \n",
       "\n",
       "   population  rest_density  Amsterdam  Athens  Barcelona  Berlin  Bratislava  \\\n",
       "0    2140.526      2.287755          0       0          0       0           0   \n",
       "1     974.073      0.841826          0       0          0       0           0   \n",
       "2    9304.016      0.618765          0       0          0       0           0   \n",
       "3    3748.148      0.574951          0       0          0       1           0   \n",
       "4    1471.508      0.606860          0       0          0       0           0   \n",
       "\n",
       "   Brussels  Budapest  Copenhagen  Dublin  Edinburgh  Geneva  Hamburg  \\\n",
       "0         0         0           0       0          0       0        0   \n",
       "1         0         0           0       0          0       0        0   \n",
       "2         0         0           0       0          0       0        0   \n",
       "3         0         0           0       0          0       0        0   \n",
       "4         0         0           0       0          0       0        0   \n",
       "\n",
       "   Helsinki  Krakow  Lisbon  Ljubljana  London  Luxembourg  Lyon  Madrid  \\\n",
       "0         0       0       0          0       0           0     0       0   \n",
       "1         0       0       0          0       0           0     0       0   \n",
       "2         0       0       0          0       1           0     0       0   \n",
       "3         0       0       0          0       0           0     0       0   \n",
       "4         0       0       0          0       0           0     0       0   \n",
       "\n",
       "   Milan  Munich  Oporto  Oslo  Paris  Prague  Rome  Stockholm  Vienna  \\\n",
       "0      0       0       0     0      1       0     0          0       0   \n",
       "1      0       0       0     0      0       0     0          1       0   \n",
       "2      0       0       0     0      0       0     0          0       0   \n",
       "3      0       0       0     0      0       0     0          0       0   \n",
       "4      0       1       0     0      0       0     0          0       0   \n",
       "\n",
       "   Warsaw  Zurich   country  Austria_  Belgium_  Czechia_  Denmark_  Finland_  \\\n",
       "0       0       0   France_         0         0         0         0         0   \n",
       "1       0       0   Sweden_         0         0         0         0         0   \n",
       "2       0       0       UK_         0         0         0         0         0   \n",
       "3       0       0  Germany_         0         0         0         0         0   \n",
       "4       0       0  Germany_         0         0         0         0         0   \n",
       "\n",
       "   France_  Germany_  Greece_  Hungary_  Ireland_  Italy_  Luxembourg_  \\\n",
       "0        1         0        0         0         0       0            0   \n",
       "1        0         0        0         0         0       0            0   \n",
       "2        0         0        0         0         0       0            0   \n",
       "3        0         1        0         0         0       0            0   \n",
       "4        0         1        0         0         0       0            0   \n",
       "\n",
       "   Netherlands_  Norway_  Poland_  Portugal_  Slovakia_  Slovenia_  Spain_  \\\n",
       "0             0        0        0          0          0          0       0   \n",
       "1             0        0        0          0          0          0       0   \n",
       "2             0        0        0          0          0          0       0   \n",
       "3             0        0        0          0          0          0       0   \n",
       "4             0        0        0          0          0          0       0   \n",
       "\n",
       "   Sweden_  Switzerland_  UK_  \n",
       "0        0             0    0  \n",
       "1        1             0    0  \n",
       "2        0             0    1  \n",
       "3        0             0    0  \n",
       "4        0             0    0  "
      ]
     },
     "execution_count": 24,
     "metadata": {},
     "output_type": "execute_result"
    }
   ],
   "source": [
    "df = pd.concat([df, pd.get_dummies(df.country)], axis=1)\n",
    "df.head(5)"
   ]
  },
  {
   "cell_type": "markdown",
   "metadata": {},
   "source": [
    "### cuisine_style"
   ]
  },
  {
   "cell_type": "code",
   "execution_count": 25,
   "metadata": {
    "scrolled": false
   },
   "outputs": [
    {
     "data": {
      "text/plain": [
       "['Italian']                                                                                                 1032\n",
       "['French']                                                                                                   805\n",
       "['Spanish']                                                                                                  695\n",
       "['French', 'European']                                                                                       405\n",
       "['Cafe']                                                                                                     403\n",
       "                                                                                                            ... \n",
       "['French', 'International', 'European', 'Contemporary', 'Vegetarian Friendly', 'Gluten Free Options']          1\n",
       "['Peruvian', 'Seafood', 'South American', 'Vegetarian Friendly', 'Vegan Options', 'Gluten Free Options']       1\n",
       "['Bar', 'French', 'Swiss', 'European']                                                                         1\n",
       "['Cafe', 'International', 'Healthy', 'Vegetarian Friendly']                                                    1\n",
       "['American', 'Bar', 'Grill', 'Diner', 'Vegetarian Friendly']                                                   1\n",
       "Name: cuisine_style, Length: 9007, dtype: int64"
      ]
     },
     "execution_count": 25,
     "metadata": {},
     "output_type": "execute_result"
    }
   ],
   "source": [
    "df.cuisine_style.value_counts()"
   ]
  },
  {
   "cell_type": "code",
   "execution_count": 26,
   "metadata": {},
   "outputs": [],
   "source": [
    "df['cuisine_style_isna'] = pd.isna(df.cuisine_style).astype('uint8')"
   ]
  },
  {
   "cell_type": "code",
   "execution_count": 27,
   "metadata": {},
   "outputs": [],
   "source": [
    "df.cuisine_style.fillna('1', inplace=True)"
   ]
  },
  {
   "cell_type": "code",
   "execution_count": 28,
   "metadata": {},
   "outputs": [],
   "source": [
    "df['cuisine'] = df.cuisine_style.str[1:-1].str.split(', ')"
   ]
  },
  {
   "cell_type": "code",
   "execution_count": 29,
   "metadata": {},
   "outputs": [
    {
     "data": {
      "text/plain": [
       "0              ['European', 'French', 'International']\n",
       "1                                                   []\n",
       "2    ['Japanese', 'Sushi', 'Asian', 'Grill', 'Veget...\n",
       "3                                                   []\n",
       "4    ['German', 'Central European', 'Vegetarian Fri...\n",
       "Name: cuisine, dtype: object"
      ]
     },
     "execution_count": 29,
     "metadata": {},
     "output_type": "execute_result"
    }
   ],
   "source": [
    "df['cuisine'].head()"
   ]
  },
  {
   "cell_type": "code",
   "execution_count": 30,
   "metadata": {},
   "outputs": [
    {
     "data": {
      "text/plain": [
       "126"
      ]
     },
     "execution_count": 30,
     "metadata": {},
     "output_type": "execute_result"
    }
   ],
   "source": [
    "len(df.explode('cuisine')['cuisine'].value_counts())"
   ]
  },
  {
   "cell_type": "code",
   "execution_count": 31,
   "metadata": {},
   "outputs": [],
   "source": [
    "# Создадим новый признак - количество кухонь, представленных рестораном\n",
    "df['cuisines_number'] = df['cuisine'].apply( lambda x: 1.0 if len(x)==0 else float(len(x)))"
   ]
  },
  {
   "cell_type": "markdown",
   "metadata": {},
   "source": [
    "### ranking"
   ]
  },
  {
   "cell_type": "code",
   "execution_count": 32,
   "metadata": {
    "scrolled": true
   },
   "outputs": [
    {
     "name": "stdout",
     "output_type": "stream",
     "text": [
      "Количество: 40000, Среднее: 3676.029, Стандартное отклонение: 3708.750.\n",
      "Минимум: 1.0, 25-й перцентиль: 973.0, Медиана: 2285.0, 75-й перцентиль: 5260.0, Максимум: 16444.0, IQR: 4287.0.\n",
      "Количество пропусков в столбце:  0\n",
      "Границы выбросов: [-5457.5, 11690.5]. Количество выбросов:  2450\n"
     ]
    },
    {
     "data": {
      "image/png": "[encoded data removed]",
      "text/plain": [
       "<Figure size 432x288 with 1 Axes>"
      ]
     },
     "metadata": {
      "needs_background": "light"
     },
     "output_type": "display_data"
    }
   ],
   "source": [
    "analyse_numeric(df, 'ranking')"
   ]
  },
  {
   "cell_type": "code",
   "execution_count": 33,
   "metadata": {},
   "outputs": [],
   "source": [
    "# Удалим грубые выбросы\n",
    "#df=df[df.ranking < 13000]"
   ]
  },
  {
   "cell_type": "code",
   "execution_count": 34,
   "metadata": {},
   "outputs": [],
   "source": [
    "# Создадим новый признак путем нормирования ranking к количеству ресторанов в городе\n",
    "df['ranking_norm_rests'] = df.ranking / df.rests"
   ]
  },
  {
   "cell_type": "markdown",
   "metadata": {},
   "source": [
    "### rating"
   ]
  },
  {
   "cell_type": "code",
   "execution_count": 35,
   "metadata": {
    "scrolled": true
   },
   "outputs": [
    {
     "name": "stdout",
     "output_type": "stream",
     "text": [
      "Количество: 40000, Среднее: 3.993, Стандартное отклонение: 0.668.\n",
      "Минимум: 1.0, 25-й перцентиль: 3.5, Медиана: 4.0, 75-й перцентиль: 4.5, Максимум: 5.0, IQR: 1.0.\n",
      "Количество пропусков в столбце:  0\n",
      "Границы выбросов: [2.0, 6.0]. Количество выбросов:  340\n"
     ]
    },
    {
     "data": {
      "image/png": "[encoded data removed]",
      "text/plain": [
       "<Figure size 432x288 with 1 Axes>"
      ]
     },
     "metadata": {
      "needs_background": "light"
     },
     "output_type": "display_data"
    }
   ],
   "source": [
    "analyse_numeric(df, 'rating')"
   ]
  },
  {
   "cell_type": "code",
   "execution_count": 36,
   "metadata": {},
   "outputs": [
    {
     "data": {
      "text/plain": [
       "28500"
      ]
     },
     "execution_count": 36,
     "metadata": {},
     "output_type": "execute_result"
    }
   ],
   "source": [
    "len(df[df['rating'] > 3.5])"
   ]
  },
  {
   "cell_type": "code",
   "execution_count": 37,
   "metadata": {},
   "outputs": [],
   "source": [
    "# Сгенерируем двоичный признак sentiment из целевой переменной, плохой или хороший ресторан, но используем его не напрямую,\n",
    "# а для обучения текстового классификатора\n",
    "#df['sentiment'] = df['rating'].apply(lambda x: 'good' if x > 3.5 else 'bad')\n",
    "df['sentiment'] = df['rating'].apply(lambda x: 'bad' if x<4.0 else 'medium' if x==4 else 'good')"
   ]
  },
  {
   "cell_type": "markdown",
   "metadata": {},
   "source": [
    "### price_range"
   ]
  },
  {
   "cell_type": "code",
   "execution_count": 38,
   "metadata": {
    "scrolled": true
   },
   "outputs": [
    {
     "data": {
      "text/plain": [
       "$$ - $$$    18412\n",
       "$            6279\n",
       "$$$$         1423\n",
       "Name: price_range, dtype: int64"
      ]
     },
     "execution_count": 38,
     "metadata": {},
     "output_type": "execute_result"
    }
   ],
   "source": [
    "df.price_range.value_counts()"
   ]
  },
  {
   "cell_type": "code",
   "execution_count": 39,
   "metadata": {},
   "outputs": [],
   "source": [
    "df['price_range_isna'] = pd.isna(df.price_range).astype('uint8')"
   ]
  },
  {
   "cell_type": "code",
   "execution_count": 40,
   "metadata": {},
   "outputs": [],
   "source": [
    "# Либо так:\n",
    "#df['price_range_label'] = df.price_range.apply(lambda x: 1.0 if x=='$' else 2.0 if x=='$$ - $$$' else 4.0 if x=='$$$$' else np.nan)\n",
    "# и заполним медианой по городам\n",
    "#df.price_range_label = df.apply(lambda row: df[df.city==row.city].price_range_label.median() if pd.isna(row.price_range_label) \\\n",
    "#                                                                                     else row.price_range_label, axis=1)\n",
    "\n",
    "# Либо так:\n",
    "df['price_range_label'] = df.price_range.apply(lambda x: 2.5 if pd.isnull(x) else 1.0 if x=='$' else 2.5 if x=='$$ - $$$' else 4.0)"
   ]
  },
  {
   "cell_type": "markdown",
   "metadata": {},
   "source": [
    "### reviews_number"
   ]
  },
  {
   "cell_type": "code",
   "execution_count": 41,
   "metadata": {
    "scrolled": false
   },
   "outputs": [
    {
     "name": "stdout",
     "output_type": "stream",
     "text": [
      "Количество: 37457, Среднее: 124.825, Стандартное отклонение: 295.666.\n",
      "Минимум: 2.0, 25-й перцентиль: 9.0, Медиана: 33.0, 75-й перцентиль: 115.0, Максимум: 9660.0, IQR: 106.0.\n",
      "Количество пропусков в столбце:  2543\n",
      "Границы выбросов: [-150.0, 274.0]. Количество выбросов:  4348\n"
     ]
    },
    {
     "data": {
      "image/png": "[encoded data removed]",
      "text/plain": [
       "<Figure size 432x288 with 1 Axes>"
      ]
     },
     "metadata": {
      "needs_background": "light"
     },
     "output_type": "display_data"
    }
   ],
   "source": [
    "analyse_numeric(df, 'reviews_number')"
   ]
  },
  {
   "cell_type": "code",
   "execution_count": 42,
   "metadata": {},
   "outputs": [],
   "source": [
    "df['reviews_number_isna'] = pd.isna(df.reviews_number).astype('uint8')"
   ]
  },
  {
   "cell_type": "code",
   "execution_count": 43,
   "metadata": {
    "scrolled": true
   },
   "outputs": [
    {
     "data": {
      "text/plain": [
       "140"
      ]
     },
     "execution_count": 43,
     "metadata": {},
     "output_type": "execute_result"
    }
   ],
   "source": [
    "len(df[df.reviews_number > 2000])"
   ]
  },
  {
   "cell_type": "code",
   "execution_count": 44,
   "metadata": {},
   "outputs": [],
   "source": [
    "#Удалим грубые выбросы\n",
    "#df=df[df.reviews_number < 2000]"
   ]
  },
  {
   "cell_type": "code",
   "execution_count": 45,
   "metadata": {},
   "outputs": [],
   "source": [
    "#!!! Нужно пробовать одно из двух!!!\n",
    "# Замена пропусков медианой по соответствующему городу\n",
    "#df.reviews_number = df.apply(lambda row: df[df.city==row.city].reviews_number.median() if pd.isna(row.reviews_number) \\\n",
    "#                                                                                     else row.reviews_number, axis=1)\n",
    "\n",
    "# Замена пропусков нулевым значением\n",
    "df.reviews_number.fillna(0, inplace=True)"
   ]
  },
  {
   "cell_type": "code",
   "execution_count": 46,
   "metadata": {},
   "outputs": [],
   "source": [
    "# Нормируем количество отзывов к населению города\n",
    "df['reviews_number_norm'] = df.reviews_number / df.population"
   ]
  },
  {
   "cell_type": "markdown",
   "metadata": {},
   "source": [
    "### reviews"
   ]
  },
  {
   "cell_type": "code",
   "execution_count": 47,
   "metadata": {
    "scrolled": false
   },
   "outputs": [
    {
     "data": {
      "text/plain": [
       "[[], []]                                                                                                                              6471\n",
       "[['Happened to drop in', 'Right for a quick bite'], ['11/30/2016', '06/20/2015']]                                                        2\n",
       "[['ok for beer, not for dinner'], ['12/20/2017']]                                                                                        2\n",
       "[['Simply Excellent!', 'Modern!'], ['10/22/2017', '08/29/2017']]                                                                         2\n",
       "[['Whenever in Madrid, we never miss this gem...', 'Underrated sushi restaurant with very good...'], ['04/11/2017', '12/02/2016']]       2\n",
       "                                                                                                                                      ... \n",
       "[['Great value for a bite to eat whilst out a...', 'Terrible staff'], ['02/20/2016', '11/08/2014']]                                      1\n",
       "[['Awesome culinary adventure!', 'Perfect place to ease my homesickness'], ['12/13/2017', '12/12/2017']]                                 1\n",
       "[['Great Deal', 'Too much rice and too big'], ['11/19/2017', '02/25/2017']]                                                              1\n",
       "[['Intimate restaurant with class', 'Best local restaurant in NW3'], ['06/07/2017', '01/08/2017']]                                       1\n",
       "[['A nice spot', 'Excellent food'], ['01/02/2018', '12/10/2017']]                                                                        1\n",
       "Name: reviews, Length: 33516, dtype: int64"
      ]
     },
     "execution_count": 47,
     "metadata": {},
     "output_type": "execute_result"
    }
   ],
   "source": [
    "#pd.DataFrame(df.reviews.value_counts())\n",
    "df.reviews.value_counts()"
   ]
  },
  {
   "cell_type": "code",
   "execution_count": 48,
   "metadata": {},
   "outputs": [
    {
     "data": {
      "text/html": [
       "<div>\n",
       "<style scoped>\n",
       "    .dataframe tbody tr th:only-of-type {\n",
       "        vertical-align: middle;\n",
       "    }\n",
       "\n",
       "    .dataframe tbody tr th {\n",
       "        vertical-align: top;\n",
       "    }\n",
       "\n",
       "    .dataframe thead th {\n",
       "        text-align: right;\n",
       "    }\n",
       "</style>\n",
       "<table border=\"1\" class=\"dataframe\">\n",
       "  <thead>\n",
       "    <tr style=\"text-align: right;\">\n",
       "      <th></th>\n",
       "      <th>reviews</th>\n",
       "      <th>reviews_dates</th>\n",
       "    </tr>\n",
       "  </thead>\n",
       "  <tbody>\n",
       "    <tr>\n",
       "      <th>0</th>\n",
       "      <td>[['Good food at your doorstep', 'A good hotel ...</td>\n",
       "      <td>[12/31/2017, 11/20/2017]</td>\n",
       "    </tr>\n",
       "    <tr>\n",
       "      <th>1</th>\n",
       "      <td>[['Unique cuisine', 'Delicious Nepalese food']...</td>\n",
       "      <td>[07/06/2017, 06/19/2016]</td>\n",
       "    </tr>\n",
       "    <tr>\n",
       "      <th>2</th>\n",
       "      <td>[['Catch up with friends', 'Not exceptional'],...</td>\n",
       "      <td>[01/08/2018, 01/06/2018]</td>\n",
       "    </tr>\n",
       "    <tr>\n",
       "      <th>3</th>\n",
       "      <td>[[], []]</td>\n",
       "      <td>[]</td>\n",
       "    </tr>\n",
       "    <tr>\n",
       "      <th>4</th>\n",
       "      <td>[['Best place to try a Bavarian food', 'Nice b...</td>\n",
       "      <td>[11/18/2017, 02/19/2017]</td>\n",
       "    </tr>\n",
       "  </tbody>\n",
       "</table>\n",
       "</div>"
      ],
      "text/plain": [
       "                                             reviews             reviews_dates\n",
       "0  [['Good food at your doorstep', 'A good hotel ...  [12/31/2017, 11/20/2017]\n",
       "1  [['Unique cuisine', 'Delicious Nepalese food']...  [07/06/2017, 06/19/2016]\n",
       "2  [['Catch up with friends', 'Not exceptional'],...  [01/08/2018, 01/06/2018]\n",
       "3                                           [[], []]                        []\n",
       "4  [['Best place to try a Bavarian food', 'Nice b...  [11/18/2017, 02/19/2017]"
      ]
     },
     "execution_count": 48,
     "metadata": {},
     "output_type": "execute_result"
    }
   ],
   "source": [
    "df['reviews_dates'] = df['reviews'].str.findall('\\d+/\\d+/\\d+')\n",
    "df[['reviews', 'reviews_dates']].head()"
   ]
  },
  {
   "cell_type": "code",
   "execution_count": 49,
   "metadata": {},
   "outputs": [
    {
     "data": {
      "text/plain": [
       "0        12/31/2017\n",
       "1        07/06/2017\n",
       "2        01/08/2018\n",
       "3              None\n",
       "4        11/18/2017\n",
       "            ...    \n",
       "39995    12/16/2017\n",
       "39996    12/21/2017\n",
       "39997    11/03/2016\n",
       "39998    07/11/2017\n",
       "39999    01/31/2016\n",
       "Name: review1_date, Length: 40000, dtype: object"
      ]
     },
     "execution_count": 49,
     "metadata": {},
     "output_type": "execute_result"
    }
   ],
   "source": [
    "df['review1_date'] = df.reviews_dates.apply(lambda x: x[0] if len(x)>0 else None)\n",
    "df['review1_date']"
   ]
  },
  {
   "cell_type": "code",
   "execution_count": 50,
   "metadata": {},
   "outputs": [
    {
     "data": {
      "text/html": [
       "<div>\n",
       "<style scoped>\n",
       "    .dataframe tbody tr th:only-of-type {\n",
       "        vertical-align: middle;\n",
       "    }\n",
       "\n",
       "    .dataframe tbody tr th {\n",
       "        vertical-align: top;\n",
       "    }\n",
       "\n",
       "    .dataframe thead th {\n",
       "        text-align: right;\n",
       "    }\n",
       "</style>\n",
       "<table border=\"1\" class=\"dataframe\">\n",
       "  <thead>\n",
       "    <tr style=\"text-align: right;\">\n",
       "      <th></th>\n",
       "      <th>restaurant_id</th>\n",
       "      <th>city</th>\n",
       "      <th>cuisine_style</th>\n",
       "      <th>ranking</th>\n",
       "      <th>rating</th>\n",
       "      <th>price_range</th>\n",
       "      <th>reviews_number</th>\n",
       "      <th>reviews</th>\n",
       "      <th>url_ta</th>\n",
       "      <th>id_ta</th>\n",
       "      <th>rests</th>\n",
       "      <th>population</th>\n",
       "      <th>rest_density</th>\n",
       "      <th>Amsterdam</th>\n",
       "      <th>Athens</th>\n",
       "      <th>Barcelona</th>\n",
       "      <th>Berlin</th>\n",
       "      <th>Bratislava</th>\n",
       "      <th>Brussels</th>\n",
       "      <th>Budapest</th>\n",
       "      <th>Copenhagen</th>\n",
       "      <th>Dublin</th>\n",
       "      <th>Edinburgh</th>\n",
       "      <th>Geneva</th>\n",
       "      <th>Hamburg</th>\n",
       "      <th>Helsinki</th>\n",
       "      <th>Krakow</th>\n",
       "      <th>Lisbon</th>\n",
       "      <th>Ljubljana</th>\n",
       "      <th>London</th>\n",
       "      <th>Luxembourg</th>\n",
       "      <th>Lyon</th>\n",
       "      <th>Madrid</th>\n",
       "      <th>Milan</th>\n",
       "      <th>Munich</th>\n",
       "      <th>Oporto</th>\n",
       "      <th>Oslo</th>\n",
       "      <th>Paris</th>\n",
       "      <th>Prague</th>\n",
       "      <th>Rome</th>\n",
       "      <th>Stockholm</th>\n",
       "      <th>Vienna</th>\n",
       "      <th>Warsaw</th>\n",
       "      <th>Zurich</th>\n",
       "      <th>country</th>\n",
       "      <th>Austria_</th>\n",
       "      <th>Belgium_</th>\n",
       "      <th>Czechia_</th>\n",
       "      <th>Denmark_</th>\n",
       "      <th>Finland_</th>\n",
       "      <th>France_</th>\n",
       "      <th>Germany_</th>\n",
       "      <th>Greece_</th>\n",
       "      <th>Hungary_</th>\n",
       "      <th>Ireland_</th>\n",
       "      <th>Italy_</th>\n",
       "      <th>Luxembourg_</th>\n",
       "      <th>Netherlands_</th>\n",
       "      <th>Norway_</th>\n",
       "      <th>Poland_</th>\n",
       "      <th>Portugal_</th>\n",
       "      <th>Slovakia_</th>\n",
       "      <th>Slovenia_</th>\n",
       "      <th>Spain_</th>\n",
       "      <th>Sweden_</th>\n",
       "      <th>Switzerland_</th>\n",
       "      <th>UK_</th>\n",
       "      <th>cuisine_style_isna</th>\n",
       "      <th>cuisine</th>\n",
       "      <th>cuisines_number</th>\n",
       "      <th>ranking_norm_rests</th>\n",
       "      <th>sentiment</th>\n",
       "      <th>price_range_isna</th>\n",
       "      <th>price_range_label</th>\n",
       "      <th>reviews_number_isna</th>\n",
       "      <th>reviews_number_norm</th>\n",
       "      <th>reviews_dates</th>\n",
       "      <th>review1_date</th>\n",
       "    </tr>\n",
       "  </thead>\n",
       "  <tbody>\n",
       "    <tr>\n",
       "      <th>23348</th>\n",
       "      <td>id_450</td>\n",
       "      <td>Geneva</td>\n",
       "      <td>['French', 'European']</td>\n",
       "      <td>453.0</td>\n",
       "      <td>4.0</td>\n",
       "      <td>$$ - $$$</td>\n",
       "      <td>48.0</td>\n",
       "      <td>[['lunch 29/9/2016', 'Unplanned Great Dinner']...</td>\n",
       "      <td>/Restaurant_Review-g188057-d2706773-Reviews-Le...</td>\n",
       "      <td>d2706773</td>\n",
       "      <td>481</td>\n",
       "      <td>201.818</td>\n",
       "      <td>2.383335</td>\n",
       "      <td>0</td>\n",
       "      <td>0</td>\n",
       "      <td>0</td>\n",
       "      <td>0</td>\n",
       "      <td>0</td>\n",
       "      <td>0</td>\n",
       "      <td>0</td>\n",
       "      <td>0</td>\n",
       "      <td>0</td>\n",
       "      <td>0</td>\n",
       "      <td>1</td>\n",
       "      <td>0</td>\n",
       "      <td>0</td>\n",
       "      <td>0</td>\n",
       "      <td>0</td>\n",
       "      <td>0</td>\n",
       "      <td>0</td>\n",
       "      <td>0</td>\n",
       "      <td>0</td>\n",
       "      <td>0</td>\n",
       "      <td>0</td>\n",
       "      <td>0</td>\n",
       "      <td>0</td>\n",
       "      <td>0</td>\n",
       "      <td>0</td>\n",
       "      <td>0</td>\n",
       "      <td>0</td>\n",
       "      <td>0</td>\n",
       "      <td>0</td>\n",
       "      <td>0</td>\n",
       "      <td>0</td>\n",
       "      <td>Switzerland_</td>\n",
       "      <td>0</td>\n",
       "      <td>0</td>\n",
       "      <td>0</td>\n",
       "      <td>0</td>\n",
       "      <td>0</td>\n",
       "      <td>0</td>\n",
       "      <td>0</td>\n",
       "      <td>0</td>\n",
       "      <td>0</td>\n",
       "      <td>0</td>\n",
       "      <td>0</td>\n",
       "      <td>0</td>\n",
       "      <td>0</td>\n",
       "      <td>0</td>\n",
       "      <td>0</td>\n",
       "      <td>0</td>\n",
       "      <td>0</td>\n",
       "      <td>0</td>\n",
       "      <td>0</td>\n",
       "      <td>0</td>\n",
       "      <td>1</td>\n",
       "      <td>0</td>\n",
       "      <td>0</td>\n",
       "      <td>['French', 'European']</td>\n",
       "      <td>2.0</td>\n",
       "      <td>0.941788</td>\n",
       "      <td>medium</td>\n",
       "      <td>0</td>\n",
       "      <td>2.5</td>\n",
       "      <td>0</td>\n",
       "      <td>0.237838</td>\n",
       "      <td>[29/9/2016, 09/30/2016, 08/25/2016]</td>\n",
       "      <td>29/9/2016</td>\n",
       "    </tr>\n",
       "  </tbody>\n",
       "</table>\n",
       "</div>"
      ],
      "text/plain": [
       "      restaurant_id    city           cuisine_style  ranking  rating  \\\n",
       "23348        id_450  Geneva  ['French', 'European']    453.0     4.0   \n",
       "\n",
       "      price_range  reviews_number  \\\n",
       "23348    $$ - $$$            48.0   \n",
       "\n",
       "                                                 reviews  \\\n",
       "23348  [['lunch 29/9/2016', 'Unplanned Great Dinner']...   \n",
       "\n",
       "                                                  url_ta     id_ta  rests  \\\n",
       "23348  /Restaurant_Review-g188057-d2706773-Reviews-Le...  d2706773    481   \n",
       "\n",
       "       population  rest_density  Amsterdam  Athens  Barcelona  Berlin  \\\n",
       "23348     201.818      2.383335          0       0          0       0   \n",
       "\n",
       "       Bratislava  Brussels  Budapest  Copenhagen  Dublin  Edinburgh  Geneva  \\\n",
       "23348           0         0         0           0       0          0       1   \n",
       "\n",
       "       Hamburg  Helsinki  Krakow  Lisbon  Ljubljana  London  Luxembourg  Lyon  \\\n",
       "23348        0         0       0       0          0       0           0     0   \n",
       "\n",
       "       Madrid  Milan  Munich  Oporto  Oslo  Paris  Prague  Rome  Stockholm  \\\n",
       "23348       0      0       0       0     0      0       0     0          0   \n",
       "\n",
       "       Vienna  Warsaw  Zurich       country  Austria_  Belgium_  Czechia_  \\\n",
       "23348       0       0       0  Switzerland_         0         0         0   \n",
       "\n",
       "       Denmark_  Finland_  France_  Germany_  Greece_  Hungary_  Ireland_  \\\n",
       "23348         0         0        0         0        0         0         0   \n",
       "\n",
       "       Italy_  Luxembourg_  Netherlands_  Norway_  Poland_  Portugal_  \\\n",
       "23348       0            0             0        0        0          0   \n",
       "\n",
       "       Slovakia_  Slovenia_  Spain_  Sweden_  Switzerland_  UK_  \\\n",
       "23348          0          0       0        0             1    0   \n",
       "\n",
       "       cuisine_style_isna                 cuisine  cuisines_number  \\\n",
       "23348                   0  ['French', 'European']              2.0   \n",
       "\n",
       "       ranking_norm_rests sentiment  price_range_isna  price_range_label  \\\n",
       "23348            0.941788    medium                 0                2.5   \n",
       "\n",
       "       reviews_number_isna  reviews_number_norm  \\\n",
       "23348                    0             0.237838   \n",
       "\n",
       "                             reviews_dates review1_date  \n",
       "23348  [29/9/2016, 09/30/2016, 08/25/2016]    29/9/2016  "
      ]
     },
     "execution_count": 50,
     "metadata": {},
     "output_type": "execute_result"
    }
   ],
   "source": [
    "#На этом значении в следующей ячейке возникает ошибка\n",
    "df[df['review1_date']=='29/9/2016']"
   ]
  },
  {
   "cell_type": "code",
   "execution_count": 51,
   "metadata": {},
   "outputs": [],
   "source": [
    "#df[df['review1_date']=='29/9/2016'].review1_date = '09/29/2016'\n",
    "df.loc[23348, 'review1_date'] = '09/29/2016'"
   ]
  },
  {
   "cell_type": "code",
   "execution_count": 52,
   "metadata": {},
   "outputs": [
    {
     "data": {
      "text/plain": [
       "0       2017-12-31\n",
       "1       2017-07-06\n",
       "2       2018-01-08\n",
       "3              NaT\n",
       "4       2017-11-18\n",
       "           ...    \n",
       "39995   2017-12-16\n",
       "39996   2017-12-21\n",
       "39997   2016-11-03\n",
       "39998   2017-07-11\n",
       "39999   2016-01-31\n",
       "Name: review1_date_d, Length: 40000, dtype: datetime64[ns]"
      ]
     },
     "execution_count": 52,
     "metadata": {},
     "output_type": "execute_result"
    }
   ],
   "source": [
    "df['review1_date_d'] = df.review1_date.apply(lambda x: None if pd.isna(x) else datetime.strptime(x, '%m/%d/%Y'))\n",
    "df['review1_date_d']"
   ]
  },
  {
   "cell_type": "code",
   "execution_count": 53,
   "metadata": {},
   "outputs": [
    {
     "data": {
      "text/plain": [
       "0        11/20/2017\n",
       "1        06/19/2016\n",
       "2        01/06/2018\n",
       "3              None\n",
       "4        02/19/2017\n",
       "            ...    \n",
       "39995    11/12/2017\n",
       "39996    12/12/2017\n",
       "39997    04/12/2008\n",
       "39998    06/18/2017\n",
       "39999    07/04/2012\n",
       "Name: review2_date, Length: 40000, dtype: object"
      ]
     },
     "execution_count": 53,
     "metadata": {},
     "output_type": "execute_result"
    }
   ],
   "source": [
    "df['review2_date'] = df.reviews_dates.apply(lambda x: x[1] if len(x)>1 else None)\n",
    "df['review2_date']"
   ]
  },
  {
   "cell_type": "code",
   "execution_count": 54,
   "metadata": {
    "scrolled": true
   },
   "outputs": [
    {
     "data": {
      "text/plain": [
       "0       2017-11-20\n",
       "1       2016-06-19\n",
       "2       2018-01-06\n",
       "3              NaT\n",
       "4       2017-02-19\n",
       "           ...    \n",
       "39995   2017-11-12\n",
       "39996   2017-12-12\n",
       "39997   2008-04-12\n",
       "39998   2017-06-18\n",
       "39999   2012-07-04\n",
       "Name: review2_date_d, Length: 40000, dtype: datetime64[ns]"
      ]
     },
     "execution_count": 54,
     "metadata": {},
     "output_type": "execute_result"
    }
   ],
   "source": [
    "df['review2_date_d'] = df.reviews_dates.apply(lambda x: datetime.strptime(x[1], '%m/%d/%Y') if len(x)>1 else None)\n",
    "df['review2_date_d']"
   ]
  },
  {
   "cell_type": "code",
   "execution_count": 55,
   "metadata": {},
   "outputs": [
    {
     "data": {
      "text/plain": [
       "Timestamp('2018-02-26 00:00:00')"
      ]
     },
     "execution_count": 55,
     "metadata": {},
     "output_type": "execute_result"
    }
   ],
   "source": [
    "df['review1_date_d'].max()"
   ]
  },
  {
   "cell_type": "code",
   "execution_count": 56,
   "metadata": {},
   "outputs": [
    {
     "data": {
      "text/plain": [
       "Timestamp('2018-02-26 00:00:00')"
      ]
     },
     "execution_count": 56,
     "metadata": {},
     "output_type": "execute_result"
    }
   ],
   "source": [
    "df['review2_date_d'].max()"
   ]
  },
  {
   "cell_type": "code",
   "execution_count": 57,
   "metadata": {
    "scrolled": true
   },
   "outputs": [
    {
     "data": {
      "text/plain": [
       "3207.0"
      ]
     },
     "execution_count": 57,
     "metadata": {},
     "output_type": "execute_result"
    }
   ],
   "source": [
    "#datetime(2019, 4, 1, 18, 59, 44) - так можно создать DateTime\n",
    "(df.review1_date_d - df.review2_date_d).dt.days.max()"
   ]
  },
  {
   "cell_type": "code",
   "execution_count": 58,
   "metadata": {},
   "outputs": [
    {
     "data": {
      "text/plain": [
       "0          41.0\n",
       "1         382.0\n",
       "2           2.0\n",
       "3           NaN\n",
       "4         272.0\n",
       "          ...  \n",
       "39995      34.0\n",
       "39996       9.0\n",
       "39997    3127.0\n",
       "39998      23.0\n",
       "39999    1306.0\n",
       "Name: days_between, Length: 40000, dtype: float64"
      ]
     },
     "execution_count": 58,
     "metadata": {},
     "output_type": "execute_result"
    }
   ],
   "source": [
    "# Создадим новый признак - количество дней между отзывами\n",
    "df['days_between'] = abs((df.review1_date_d - df.review2_date_d).dt.days)\n",
    "df['days_between']"
   ]
  },
  {
   "cell_type": "code",
   "execution_count": 59,
   "metadata": {},
   "outputs": [
    {
     "name": "stdout",
     "output_type": "stream",
     "text": [
      "Количество: 28973, Среднее: 141.709, Стандартное отклонение: 221.167.\n",
      "Минимум: 0.0, 25-й перцентиль: 20.0, Медиана: 67.0, 75-й перцентиль: 173.0, Максимум: 3207.0, IQR: 153.0.\n",
      "Количество пропусков в столбце:  11027\n",
      "Границы выбросов: [-209.5, 402.5]. Количество выбросов:  2292\n"
     ]
    },
    {
     "data": {
      "image/png": "[encoded data removed]",
      "text/plain": [
       "<Figure size 432x288 with 1 Axes>"
      ]
     },
     "metadata": {
      "needs_background": "light"
     },
     "output_type": "display_data"
    }
   ],
   "source": [
    "analyse_numeric(df, 'days_between')"
   ]
  },
  {
   "cell_type": "code",
   "execution_count": 60,
   "metadata": {},
   "outputs": [
    {
     "data": {
      "text/plain": [
       "382"
      ]
     },
     "execution_count": 60,
     "metadata": {},
     "output_type": "execute_result"
    }
   ],
   "source": [
    "len(df[df.days_between > 1000])"
   ]
  },
  {
   "cell_type": "code",
   "execution_count": 61,
   "metadata": {
    "scrolled": true
   },
   "outputs": [],
   "source": [
    "#df[df.days_between > 2000]"
   ]
  },
  {
   "cell_type": "code",
   "execution_count": 62,
   "metadata": {},
   "outputs": [
    {
     "data": {
      "text/plain": [
       "0"
      ]
     },
     "execution_count": 62,
     "metadata": {},
     "output_type": "execute_result"
    }
   ],
   "source": [
    "len(df[df.days_between < 0])"
   ]
  },
  {
   "cell_type": "code",
   "execution_count": 63,
   "metadata": {},
   "outputs": [],
   "source": [
    "# Удалим грубые выбросы\n",
    "#df=df[df.days_between <= 2000]"
   ]
  },
  {
   "cell_type": "code",
   "execution_count": 64,
   "metadata": {},
   "outputs": [],
   "source": [
    "# !!! Пока заполним пропуски медианой\n",
    "df.days_between.fillna(df.days_between.median(), inplace=True)"
   ]
  },
  {
   "cell_type": "markdown",
   "metadata": {},
   "source": [
    "### url_ta"
   ]
  },
  {
   "cell_type": "code",
   "execution_count": 65,
   "metadata": {},
   "outputs": [
    {
     "data": {
      "text/plain": [
       "/Restaurant_Review-g187514-d4600226-Reviews-Cafeteria_Teresa-Madrid.html                                  2\n",
       "/Restaurant_Review-g187514-d11674463-Reviews-Beerhouse-Madrid.html                                        2\n",
       "/Restaurant_Review-g187514-d9802625-Reviews-La_Vie_en_Doux-Madrid.html                                    2\n",
       "/Restaurant_Review-g187514-d8753348-Reviews-Tropecientos-Madrid.html                                      2\n",
       "/Restaurant_Review-g187514-d3685055-Reviews-Shukran-Madrid.html                                           2\n",
       "                                                                                                         ..\n",
       "/Restaurant_Review-g190356-d10344116-Reviews-Quatorze_degres_Bar_a_vins-Luxembourg_City.html              1\n",
       "/Restaurant_Review-g274924-d951686-Reviews-Liviano_Restaurant-Bratislava_Bratislava_Region.html           1\n",
       "/Restaurant_Review-g187265-d3854375-Reviews-Brasserie_Midi_Minuit-Lyon_Rhone_Auvergne_Rhone_Alpes.html    1\n",
       "/Restaurant_Review-g186605-d2515200-Reviews-Musashi_Japanese_Restaurant-Dublin_County_Dublin.html         1\n",
       "/Restaurant_Review-g186338-d2560517-Reviews-Curry_Leaf_East-London_England.html                           1\n",
       "Name: url_ta, Length: 39980, dtype: int64"
      ]
     },
     "execution_count": 65,
     "metadata": {},
     "output_type": "execute_result"
    }
   ],
   "source": [
    "df.url_ta.value_counts()"
   ]
  },
  {
   "cell_type": "markdown",
   "metadata": {},
   "source": [
    "### id_ta"
   ]
  },
  {
   "cell_type": "code",
   "execution_count": 66,
   "metadata": {},
   "outputs": [
    {
     "data": {
      "text/plain": [
       "d3685055     2\n",
       "d13002276    2\n",
       "d1315077     2\n",
       "d9877640     2\n",
       "d697406      2\n",
       "            ..\n",
       "d4985377     1\n",
       "d10813188    1\n",
       "d2478446     1\n",
       "d2508368     1\n",
       "d8659203     1\n",
       "Name: id_ta, Length: 39980, dtype: int64"
      ]
     },
     "execution_count": 66,
     "metadata": {},
     "output_type": "execute_result"
    }
   ],
   "source": [
    "df.id_ta.value_counts()"
   ]
  },
  {
   "cell_type": "code",
   "execution_count": 67,
   "metadata": {},
   "outputs": [],
   "source": [
    "# Преобразуем id_ta в числа (будет новый признак):\n",
    "df['id_ta_num'] = df['id_ta'].str[1:].astype('int64')#'float64'"
   ]
  },
  {
   "cell_type": "markdown",
   "metadata": {},
   "source": [
    "## Разбиваем датафрейм на части, необходимые для обучения и тестирования модели"
   ]
  },
  {
   "cell_type": "code",
   "execution_count": 68,
   "metadata": {},
   "outputs": [
    {
     "name": "stdout",
     "output_type": "stream",
     "text": [
      "<class 'pandas.core.frame.DataFrame'>\n",
      "RangeIndex: 40000 entries, 0 to 39999\n",
      "Data columns (total 83 columns):\n",
      " #   Column               Non-Null Count  Dtype         \n",
      "---  ------               --------------  -----         \n",
      " 0   restaurant_id        40000 non-null  object        \n",
      " 1   city                 40000 non-null  object        \n",
      " 2   cuisine_style        40000 non-null  object        \n",
      " 3   ranking              40000 non-null  float64       \n",
      " 4   rating               40000 non-null  float64       \n",
      " 5   price_range          26114 non-null  object        \n",
      " 6   reviews_number       40000 non-null  float64       \n",
      " 7   reviews              40000 non-null  object        \n",
      " 8   url_ta               40000 non-null  object        \n",
      " 9   id_ta                40000 non-null  object        \n",
      " 10  rests                40000 non-null  int64         \n",
      " 11  population           40000 non-null  float64       \n",
      " 12  rest_density         40000 non-null  float64       \n",
      " 13  Amsterdam            40000 non-null  uint8         \n",
      " 14  Athens               40000 non-null  uint8         \n",
      " 15  Barcelona            40000 non-null  uint8         \n",
      " 16  Berlin               40000 non-null  uint8         \n",
      " 17  Bratislava           40000 non-null  uint8         \n",
      " 18  Brussels             40000 non-null  uint8         \n",
      " 19  Budapest             40000 non-null  uint8         \n",
      " 20  Copenhagen           40000 non-null  uint8         \n",
      " 21  Dublin               40000 non-null  uint8         \n",
      " 22  Edinburgh            40000 non-null  uint8         \n",
      " 23  Geneva               40000 non-null  uint8         \n",
      " 24  Hamburg              40000 non-null  uint8         \n",
      " 25  Helsinki             40000 non-null  uint8         \n",
      " 26  Krakow               40000 non-null  uint8         \n",
      " 27  Lisbon               40000 non-null  uint8         \n",
      " 28  Ljubljana            40000 non-null  uint8         \n",
      " 29  London               40000 non-null  uint8         \n",
      " 30  Luxembourg           40000 non-null  uint8         \n",
      " 31  Lyon                 40000 non-null  uint8         \n",
      " 32  Madrid               40000 non-null  uint8         \n",
      " 33  Milan                40000 non-null  uint8         \n",
      " 34  Munich               40000 non-null  uint8         \n",
      " 35  Oporto               40000 non-null  uint8         \n",
      " 36  Oslo                 40000 non-null  uint8         \n",
      " 37  Paris                40000 non-null  uint8         \n",
      " 38  Prague               40000 non-null  uint8         \n",
      " 39  Rome                 40000 non-null  uint8         \n",
      " 40  Stockholm            40000 non-null  uint8         \n",
      " 41  Vienna               40000 non-null  uint8         \n",
      " 42  Warsaw               40000 non-null  uint8         \n",
      " 43  Zurich               40000 non-null  uint8         \n",
      " 44  country              40000 non-null  object        \n",
      " 45  Austria_             40000 non-null  uint8         \n",
      " 46  Belgium_             40000 non-null  uint8         \n",
      " 47  Czechia_             40000 non-null  uint8         \n",
      " 48  Denmark_             40000 non-null  uint8         \n",
      " 49  Finland_             40000 non-null  uint8         \n",
      " 50  France_              40000 non-null  uint8         \n",
      " 51  Germany_             40000 non-null  uint8         \n",
      " 52  Greece_              40000 non-null  uint8         \n",
      " 53  Hungary_             40000 non-null  uint8         \n",
      " 54  Ireland_             40000 non-null  uint8         \n",
      " 55  Italy_               40000 non-null  uint8         \n",
      " 56  Luxembourg_          40000 non-null  uint8         \n",
      " 57  Netherlands_         40000 non-null  uint8         \n",
      " 58  Norway_              40000 non-null  uint8         \n",
      " 59  Poland_              40000 non-null  uint8         \n",
      " 60  Portugal_            40000 non-null  uint8         \n",
      " 61  Slovakia_            40000 non-null  uint8         \n",
      " 62  Slovenia_            40000 non-null  uint8         \n",
      " 63  Spain_               40000 non-null  uint8         \n",
      " 64  Sweden_              40000 non-null  uint8         \n",
      " 65  Switzerland_         40000 non-null  uint8         \n",
      " 66  UK_                  40000 non-null  uint8         \n",
      " 67  cuisine_style_isna   40000 non-null  uint8         \n",
      " 68  cuisine              40000 non-null  object        \n",
      " 69  cuisines_number      40000 non-null  float64       \n",
      " 70  ranking_norm_rests   40000 non-null  float64       \n",
      " 71  sentiment            40000 non-null  object        \n",
      " 72  price_range_isna     40000 non-null  uint8         \n",
      " 73  price_range_label    40000 non-null  float64       \n",
      " 74  reviews_number_isna  40000 non-null  uint8         \n",
      " 75  reviews_number_norm  40000 non-null  float64       \n",
      " 76  reviews_dates        40000 non-null  object        \n",
      " 77  review1_date         33529 non-null  object        \n",
      " 78  review1_date_d       33529 non-null  datetime64[ns]\n",
      " 79  review2_date         28973 non-null  object        \n",
      " 80  review2_date_d       28973 non-null  datetime64[ns]\n",
      " 81  days_between         40000 non-null  float64       \n",
      " 82  id_ta_num            40000 non-null  int64         \n",
      "dtypes: datetime64[ns](2), float64(10), int64(2), object(13), uint8(56)\n",
      "memory usage: 10.4+ MB\n"
     ]
    }
   ],
   "source": [
    "df.info()"
   ]
  },
  {
   "cell_type": "code",
   "execution_count": 69,
   "metadata": {},
   "outputs": [
    {
     "data": {
      "text/html": [
       "<div>\n",
       "<style scoped>\n",
       "    .dataframe tbody tr th:only-of-type {\n",
       "        vertical-align: middle;\n",
       "    }\n",
       "\n",
       "    .dataframe tbody tr th {\n",
       "        vertical-align: top;\n",
       "    }\n",
       "\n",
       "    .dataframe thead th {\n",
       "        text-align: right;\n",
       "    }\n",
       "</style>\n",
       "<table border=\"1\" class=\"dataframe\">\n",
       "  <thead>\n",
       "    <tr style=\"text-align: right;\">\n",
       "      <th></th>\n",
       "      <th>ranking</th>\n",
       "      <th>reviews_number</th>\n",
       "      <th>reviews</th>\n",
       "      <th>rest_density</th>\n",
       "      <th>Amsterdam</th>\n",
       "      <th>Athens</th>\n",
       "      <th>Barcelona</th>\n",
       "      <th>Berlin</th>\n",
       "      <th>Bratislava</th>\n",
       "      <th>Brussels</th>\n",
       "      <th>Budapest</th>\n",
       "      <th>Copenhagen</th>\n",
       "      <th>Dublin</th>\n",
       "      <th>Edinburgh</th>\n",
       "      <th>Geneva</th>\n",
       "      <th>Hamburg</th>\n",
       "      <th>Helsinki</th>\n",
       "      <th>Krakow</th>\n",
       "      <th>Lisbon</th>\n",
       "      <th>Ljubljana</th>\n",
       "      <th>London</th>\n",
       "      <th>Luxembourg</th>\n",
       "      <th>Lyon</th>\n",
       "      <th>Madrid</th>\n",
       "      <th>Milan</th>\n",
       "      <th>Munich</th>\n",
       "      <th>Oporto</th>\n",
       "      <th>Oslo</th>\n",
       "      <th>Paris</th>\n",
       "      <th>Prague</th>\n",
       "      <th>Rome</th>\n",
       "      <th>Stockholm</th>\n",
       "      <th>Vienna</th>\n",
       "      <th>Warsaw</th>\n",
       "      <th>Zurich</th>\n",
       "      <th>Austria_</th>\n",
       "      <th>Belgium_</th>\n",
       "      <th>Czechia_</th>\n",
       "      <th>Denmark_</th>\n",
       "      <th>Finland_</th>\n",
       "      <th>France_</th>\n",
       "      <th>Germany_</th>\n",
       "      <th>Greece_</th>\n",
       "      <th>Hungary_</th>\n",
       "      <th>Ireland_</th>\n",
       "      <th>Italy_</th>\n",
       "      <th>Luxembourg_</th>\n",
       "      <th>Netherlands_</th>\n",
       "      <th>Norway_</th>\n",
       "      <th>Poland_</th>\n",
       "      <th>Portugal_</th>\n",
       "      <th>Slovakia_</th>\n",
       "      <th>Slovenia_</th>\n",
       "      <th>Spain_</th>\n",
       "      <th>Sweden_</th>\n",
       "      <th>Switzerland_</th>\n",
       "      <th>UK_</th>\n",
       "      <th>cuisine_style_isna</th>\n",
       "      <th>cuisines_number</th>\n",
       "      <th>ranking_norm_rests</th>\n",
       "      <th>price_range_isna</th>\n",
       "      <th>price_range_label</th>\n",
       "      <th>reviews_number_isna</th>\n",
       "      <th>reviews_number_norm</th>\n",
       "      <th>days_between</th>\n",
       "      <th>id_ta_num</th>\n",
       "    </tr>\n",
       "  </thead>\n",
       "  <tbody>\n",
       "    <tr>\n",
       "      <th>0</th>\n",
       "      <td>5570.0</td>\n",
       "      <td>194.0</td>\n",
       "      <td>[['Good food at your doorstep', 'A good hotel ...</td>\n",
       "      <td>2.287755</td>\n",
       "      <td>0</td>\n",
       "      <td>0</td>\n",
       "      <td>0</td>\n",
       "      <td>0</td>\n",
       "      <td>0</td>\n",
       "      <td>0</td>\n",
       "      <td>0</td>\n",
       "      <td>0</td>\n",
       "      <td>0</td>\n",
       "      <td>0</td>\n",
       "      <td>0</td>\n",
       "      <td>0</td>\n",
       "      <td>0</td>\n",
       "      <td>0</td>\n",
       "      <td>0</td>\n",
       "      <td>0</td>\n",
       "      <td>0</td>\n",
       "      <td>0</td>\n",
       "      <td>0</td>\n",
       "      <td>0</td>\n",
       "      <td>0</td>\n",
       "      <td>0</td>\n",
       "      <td>0</td>\n",
       "      <td>0</td>\n",
       "      <td>1</td>\n",
       "      <td>0</td>\n",
       "      <td>0</td>\n",
       "      <td>0</td>\n",
       "      <td>0</td>\n",
       "      <td>0</td>\n",
       "      <td>0</td>\n",
       "      <td>0</td>\n",
       "      <td>0</td>\n",
       "      <td>0</td>\n",
       "      <td>0</td>\n",
       "      <td>0</td>\n",
       "      <td>1</td>\n",
       "      <td>0</td>\n",
       "      <td>0</td>\n",
       "      <td>0</td>\n",
       "      <td>0</td>\n",
       "      <td>0</td>\n",
       "      <td>0</td>\n",
       "      <td>0</td>\n",
       "      <td>0</td>\n",
       "      <td>0</td>\n",
       "      <td>0</td>\n",
       "      <td>0</td>\n",
       "      <td>0</td>\n",
       "      <td>0</td>\n",
       "      <td>0</td>\n",
       "      <td>0</td>\n",
       "      <td>0</td>\n",
       "      <td>0</td>\n",
       "      <td>3.0</td>\n",
       "      <td>1.137431</td>\n",
       "      <td>0</td>\n",
       "      <td>2.5</td>\n",
       "      <td>0</td>\n",
       "      <td>0.090632</td>\n",
       "      <td>41.0</td>\n",
       "      <td>1912643</td>\n",
       "    </tr>\n",
       "    <tr>\n",
       "      <th>1</th>\n",
       "      <td>1537.0</td>\n",
       "      <td>10.0</td>\n",
       "      <td>[['Unique cuisine', 'Delicious Nepalese food']...</td>\n",
       "      <td>0.841826</td>\n",
       "      <td>0</td>\n",
       "      <td>0</td>\n",
       "      <td>0</td>\n",
       "      <td>0</td>\n",
       "      <td>0</td>\n",
       "      <td>0</td>\n",
       "      <td>0</td>\n",
       "      <td>0</td>\n",
       "      <td>0</td>\n",
       "      <td>0</td>\n",
       "      <td>0</td>\n",
       "      <td>0</td>\n",
       "      <td>0</td>\n",
       "      <td>0</td>\n",
       "      <td>0</td>\n",
       "      <td>0</td>\n",
       "      <td>0</td>\n",
       "      <td>0</td>\n",
       "      <td>0</td>\n",
       "      <td>0</td>\n",
       "      <td>0</td>\n",
       "      <td>0</td>\n",
       "      <td>0</td>\n",
       "      <td>0</td>\n",
       "      <td>0</td>\n",
       "      <td>0</td>\n",
       "      <td>0</td>\n",
       "      <td>1</td>\n",
       "      <td>0</td>\n",
       "      <td>0</td>\n",
       "      <td>0</td>\n",
       "      <td>0</td>\n",
       "      <td>0</td>\n",
       "      <td>0</td>\n",
       "      <td>0</td>\n",
       "      <td>0</td>\n",
       "      <td>0</td>\n",
       "      <td>0</td>\n",
       "      <td>0</td>\n",
       "      <td>0</td>\n",
       "      <td>0</td>\n",
       "      <td>0</td>\n",
       "      <td>0</td>\n",
       "      <td>0</td>\n",
       "      <td>0</td>\n",
       "      <td>0</td>\n",
       "      <td>0</td>\n",
       "      <td>0</td>\n",
       "      <td>0</td>\n",
       "      <td>0</td>\n",
       "      <td>1</td>\n",
       "      <td>0</td>\n",
       "      <td>0</td>\n",
       "      <td>1</td>\n",
       "      <td>1.0</td>\n",
       "      <td>1.874390</td>\n",
       "      <td>1</td>\n",
       "      <td>2.5</td>\n",
       "      <td>0</td>\n",
       "      <td>0.010266</td>\n",
       "      <td>382.0</td>\n",
       "      <td>7992032</td>\n",
       "    </tr>\n",
       "    <tr>\n",
       "      <th>2</th>\n",
       "      <td>353.0</td>\n",
       "      <td>688.0</td>\n",
       "      <td>[['Catch up with friends', 'Not exceptional'],...</td>\n",
       "      <td>0.618765</td>\n",
       "      <td>0</td>\n",
       "      <td>0</td>\n",
       "      <td>0</td>\n",
       "      <td>0</td>\n",
       "      <td>0</td>\n",
       "      <td>0</td>\n",
       "      <td>0</td>\n",
       "      <td>0</td>\n",
       "      <td>0</td>\n",
       "      <td>0</td>\n",
       "      <td>0</td>\n",
       "      <td>0</td>\n",
       "      <td>0</td>\n",
       "      <td>0</td>\n",
       "      <td>0</td>\n",
       "      <td>0</td>\n",
       "      <td>1</td>\n",
       "      <td>0</td>\n",
       "      <td>0</td>\n",
       "      <td>0</td>\n",
       "      <td>0</td>\n",
       "      <td>0</td>\n",
       "      <td>0</td>\n",
       "      <td>0</td>\n",
       "      <td>0</td>\n",
       "      <td>0</td>\n",
       "      <td>0</td>\n",
       "      <td>0</td>\n",
       "      <td>0</td>\n",
       "      <td>0</td>\n",
       "      <td>0</td>\n",
       "      <td>0</td>\n",
       "      <td>0</td>\n",
       "      <td>0</td>\n",
       "      <td>0</td>\n",
       "      <td>0</td>\n",
       "      <td>0</td>\n",
       "      <td>0</td>\n",
       "      <td>0</td>\n",
       "      <td>0</td>\n",
       "      <td>0</td>\n",
       "      <td>0</td>\n",
       "      <td>0</td>\n",
       "      <td>0</td>\n",
       "      <td>0</td>\n",
       "      <td>0</td>\n",
       "      <td>0</td>\n",
       "      <td>0</td>\n",
       "      <td>0</td>\n",
       "      <td>0</td>\n",
       "      <td>0</td>\n",
       "      <td>0</td>\n",
       "      <td>1</td>\n",
       "      <td>0</td>\n",
       "      <td>7.0</td>\n",
       "      <td>0.061317</td>\n",
       "      <td>0</td>\n",
       "      <td>4.0</td>\n",
       "      <td>0</td>\n",
       "      <td>0.073947</td>\n",
       "      <td>2.0</td>\n",
       "      <td>8632781</td>\n",
       "    </tr>\n",
       "  </tbody>\n",
       "</table>\n",
       "</div>"
      ],
      "text/plain": [
       "   ranking  reviews_number                                            reviews  \\\n",
       "0   5570.0           194.0  [['Good food at your doorstep', 'A good hotel ...   \n",
       "1   1537.0            10.0  [['Unique cuisine', 'Delicious Nepalese food']...   \n",
       "2    353.0           688.0  [['Catch up with friends', 'Not exceptional'],...   \n",
       "\n",
       "   rest_density  Amsterdam  Athens  Barcelona  Berlin  Bratislava  Brussels  \\\n",
       "0      2.287755          0       0          0       0           0         0   \n",
       "1      0.841826          0       0          0       0           0         0   \n",
       "2      0.618765          0       0          0       0           0         0   \n",
       "\n",
       "   Budapest  Copenhagen  Dublin  Edinburgh  Geneva  Hamburg  Helsinki  Krakow  \\\n",
       "0         0           0       0          0       0        0         0       0   \n",
       "1         0           0       0          0       0        0         0       0   \n",
       "2         0           0       0          0       0        0         0       0   \n",
       "\n",
       "   Lisbon  Ljubljana  London  Luxembourg  Lyon  Madrid  Milan  Munich  Oporto  \\\n",
       "0       0          0       0           0     0       0      0       0       0   \n",
       "1       0          0       0           0     0       0      0       0       0   \n",
       "2       0          0       1           0     0       0      0       0       0   \n",
       "\n",
       "   Oslo  Paris  Prague  Rome  Stockholm  Vienna  Warsaw  Zurich  Austria_  \\\n",
       "0     0      1       0     0          0       0       0       0         0   \n",
       "1     0      0       0     0          1       0       0       0         0   \n",
       "2     0      0       0     0          0       0       0       0         0   \n",
       "\n",
       "   Belgium_  Czechia_  Denmark_  Finland_  France_  Germany_  Greece_  \\\n",
       "0         0         0         0         0        1         0        0   \n",
       "1         0         0         0         0        0         0        0   \n",
       "2         0         0         0         0        0         0        0   \n",
       "\n",
       "   Hungary_  Ireland_  Italy_  Luxembourg_  Netherlands_  Norway_  Poland_  \\\n",
       "0         0         0       0            0             0        0        0   \n",
       "1         0         0       0            0             0        0        0   \n",
       "2         0         0       0            0             0        0        0   \n",
       "\n",
       "   Portugal_  Slovakia_  Slovenia_  Spain_  Sweden_  Switzerland_  UK_  \\\n",
       "0          0          0          0       0        0             0    0   \n",
       "1          0          0          0       0        1             0    0   \n",
       "2          0          0          0       0        0             0    1   \n",
       "\n",
       "   cuisine_style_isna  cuisines_number  ranking_norm_rests  price_range_isna  \\\n",
       "0                   0              3.0            1.137431                 0   \n",
       "1                   1              1.0            1.874390                 1   \n",
       "2                   0              7.0            0.061317                 0   \n",
       "\n",
       "   price_range_label  reviews_number_isna  reviews_number_norm  days_between  \\\n",
       "0                2.5                    0             0.090632          41.0   \n",
       "1                2.5                    0             0.010266         382.0   \n",
       "2                4.0                    0             0.073947           2.0   \n",
       "\n",
       "   id_ta_num  \n",
       "0    1912643  \n",
       "1    7992032  \n",
       "2    8632781  "
      ]
     },
     "execution_count": 69,
     "metadata": {},
     "output_type": "execute_result"
    }
   ],
   "source": [
    "# Х - данные с информацией о ресторанах, у - целевая переменная (рейтинги ресторанов)\n",
    "X = df.drop(['restaurant_id', 'rating', 'city', 'cuisine_style', 'price_range', 'url_ta', 'id_ta', #, 'reviews'\n",
    "             'cuisine', 'reviews_dates', 'review1_date', 'review2_date', 'review1_date_d',\n",
    "             'review2_date_d', 'population', 'rests', 'country', 'sentiment'], axis = 1)\n",
    "y = df['rating']\n",
    "\n",
    "# Здесь пробуем использовать созданный ранее столбец sentiment как двоичную целевую переменную\n",
    "y_sent = df['sentiment']\n",
    "\n",
    "X.head(3)"
   ]
  },
  {
   "cell_type": "code",
   "execution_count": 70,
   "metadata": {},
   "outputs": [],
   "source": [
    "# Наборы данных с меткой \"train\" будут использоваться для обучения модели, \"test\" - для тестирования.\n",
    "# Для тестирования мы будем использовать 25% от исходного датасета.\n",
    "X_train, X_test, y_train, y_test, y_sent_train, y_sent_test = train_test_split(X, y, y_sent, test_size=0.25)#, random_state=RANDOM_SEED"
   ]
  },
  {
   "cell_type": "code",
   "execution_count": 71,
   "metadata": {},
   "outputs": [],
   "source": [
    "#Убираем нечисловой признак 'reviews'\n",
    "X1 = X.drop(['reviews'], axis = 1)\n",
    "X_train1 = X_train.drop(['reviews'], axis = 1)\n",
    "X_test1 = X_test.drop(['reviews'], axis = 1)"
   ]
  },
  {
   "cell_type": "markdown",
   "metadata": {},
   "source": [
    "## Создание, обучение и тестирование модели"
   ]
  },
  {
   "cell_type": "code",
   "execution_count": 72,
   "metadata": {},
   "outputs": [],
   "source": [
    "# Создаём модель\n",
    "regr = RandomForestRegressor(n_estimators=100)#, random_state=RANDOM_SEED\n",
    "\n",
    "# Обучаем модель на тестовом наборе данных\n",
    "regr.fit(X_train1, y_train)\n",
    "\n",
    "# Используем обученную модель для предсказания рейтинга ресторанов в тестовой выборке.\n",
    "# Предсказанные значения записываем в переменную y_pred\n",
    "y_pred = (regr.predict(X_test1)*2).round()/2"
   ]
  },
  {
   "cell_type": "code",
   "execution_count": 73,
   "metadata": {},
   "outputs": [
    {
     "name": "stdout",
     "output_type": "stream",
     "text": [
      "MAE: 0.1752\n"
     ]
    }
   ],
   "source": [
    "# Сравниваем предсказанные значения (y_pred) с реальными (y_test), и смотрим насколько они в среднем отличаются\n",
    "# Метрика называется Mean Absolute Error (MAE) и показывает среднее отклонение предсказанных значений от фактических.\n",
    "print('MAE:', metrics.mean_absolute_error(y_test, y_pred))"
   ]
  },
  {
   "cell_type": "code",
   "execution_count": 74,
   "metadata": {},
   "outputs": [
    {
     "data": {
      "text/plain": [
       "<matplotlib.axes._subplots.AxesSubplot at 0xe1993b3780>"
      ]
     },
     "execution_count": 74,
     "metadata": {},
     "output_type": "execute_result"
    },
    {
     "data": {
      "image/png": "[encoded data removed]",
      "text/plain": [
       "<Figure size 1440x720 with 1 Axes>"
      ]
     },
     "metadata": {
      "needs_background": "light"
     },
     "output_type": "display_data"
    }
   ],
   "source": [
    "# Отображаем признаки, отсортированные по их значимости\n",
    "plt.rcParams['figure.figsize'] = (20, 10)\n",
    "feat_importances = pd.Series(regr.feature_importances_, index=X1.columns)\n",
    "feat_importances.nlargest(30).plot(kind='barh')"
   ]
  },
  {
   "cell_type": "code",
   "execution_count": 75,
   "metadata": {},
   "outputs": [],
   "source": [
    "from ipython_exit import exit"
   ]
  },
  {
   "cell_type": "code",
   "execution_count": 76,
   "metadata": {},
   "outputs": [
    {
     "ename": "IpyExit",
     "evalue": "",
     "output_type": "error",
     "traceback": [
      "An exception has occurred, use %tb to see the full traceback.\n",
      "\u001b[1;31mIpyExit\u001b[0m\n"
     ]
    }
   ],
   "source": [
    "exit()"
   ]
  },
  {
   "cell_type": "markdown",
   "metadata": {},
   "source": [
    "## Попробуем текстовую классификацию"
   ]
  },
  {
   "cell_type": "code",
   "execution_count": null,
   "metadata": {},
   "outputs": [],
   "source": [
    "import string\n",
    "import re\n",
    "from nltk.stem.snowball import SnowballStemmer\n",
    "from sklearn.feature_extraction.text import TfidfVectorizer\n",
    "# from sklearn.feature_extraction.text import HashingVectorizer\n",
    "# from sklearn.feature_extraction.text import CountVectorizer\n",
    "# from sklearn.feature_extraction.text import TfidfTransformer\n",
    "from sklearn.linear_model import SGDClassifier\n",
    "from sklearn.pipeline import Pipeline\n",
    "from sklearn.metrics import accuracy_score"
   ]
  },
  {
   "cell_type": "code",
   "execution_count": null,
   "metadata": {},
   "outputs": [],
   "source": [
    "pd.options.mode.chained_assignment = None"
   ]
  },
  {
   "cell_type": "markdown",
   "metadata": {},
   "source": [
    "#### Создадим X с преобразованными текстами reviews и y с raiting в текстовом формате:"
   ]
  },
  {
   "cell_type": "code",
   "execution_count": null,
   "metadata": {},
   "outputs": [],
   "source": [
    "# Х - данные с текстами отзывлов, у - целевая переменная (рейтинги ресторанов)\n",
    "\n",
    "# Для удаления знаков пунктуации\n",
    "tt = str.maketrans(dict.fromkeys(string.punctuation))\n",
    "\n",
    "# Удаляем знаки пунктуации и цифры (очищенные reviews)\n",
    "X_nlp = X.reviews.str.translate(tt).str.lower().apply(lambda s: re.sub(r'\\b\\d+\\b', '', s))\n",
    "X_nlp_train = X_train.reviews.str.translate(tt).str.lower().apply(lambda s: re.sub(r'\\b\\d+\\b', '', s))\n",
    "X_nlp_test = X_test.reviews.str.translate(tt).str.lower().apply(lambda s: re.sub(r'\\b\\d+\\b', '', s))\n",
    "\n",
    "# Преобразуем числовую переменную в текстовую\n",
    "y_nlp = y.astype('str')\n",
    "y_nlp_train = y_train.astype('str')\n",
    "y_nlp_test = y_test.astype('str')\n",
    "\n",
    "# Заполним пустые значения строкой 'empty'\n",
    "X_nlp = X_nlp.apply(lambda s: 'empty' if s.strip() == '' else s)\n",
    "X_nlp_train = X_nlp_train.apply(lambda s: 'empty' if s.strip() == '' else s)\n",
    "X_nlp_test = X_nlp_test.apply(lambda s: 'empty' if s.strip() == '' else s)"
   ]
  },
  {
   "cell_type": "code",
   "execution_count": null,
   "metadata": {},
   "outputs": [],
   "source": [
    "def text_transformer(text):\n",
    "    '''Дальнейшая предобработка текстов:\n",
    "       Стеминг и удаление stop-слов'''\n",
    "    stemmer = SnowballStemmer(\"english\")\n",
    "    singles = [stemmer.stem(word) for word in text.split()]\n",
    "    text = ' '.join(singles)\n",
    "\n",
    "    #Удаление незначимых слов\n",
    "    stw = ['a', 'at', 'on', 'of', 'and', 'or', 'in', 'for', 'at', 'empty' ]\n",
    "    remove = r'\\b(' + '|'.join(stw) + r')\\b'  \n",
    "    text = re.sub(remove, ' ', text)\n",
    "    \n",
    "    text = re.sub( r'\\b\\w\\b', '', text ) # удаление отдельно стоящих букв\n",
    "\n",
    "    return  text"
   ]
  },
  {
   "cell_type": "code",
   "execution_count": null,
   "metadata": {},
   "outputs": [],
   "source": [
    "X_nlp = X_nlp.apply(lambda s: text_transformer(s))\n",
    "X_nlp_train = X_nlp_train.apply(lambda s: text_transformer(s))\n",
    "X_nlp_test = X_nlp_test.apply(lambda s: text_transformer(s))"
   ]
  },
  {
   "cell_type": "code",
   "execution_count": null,
   "metadata": {},
   "outputs": [],
   "source": [
    "# Создаем и обучаем первый полноценный классификатор\n",
    "text_clf1 = Pipeline([('tfidf', TfidfVectorizer(ngram_range=(1, 2))), #stop_words={'english'},\n",
    "                      ('clf', SGDClassifier(loss='hinge'))])#, random_state=RANDOM_SEED\n",
    "text_clf1.fit(X_nlp_train, y_nlp_train)"
   ]
  },
  {
   "cell_type": "code",
   "execution_count": null,
   "metadata": {},
   "outputs": [],
   "source": [
    "# Оцениваем нашу первую NLP-модель\n",
    "\n",
    "predicted = text_clf1.predict(X_nlp) # Это, наверное, не нужно\n",
    "\n",
    "predicted_train = text_clf1.predict(X_nlp_train)\n",
    "print(\"[i] accuracy train: \", accuracy_score(y_nlp_train , predicted_train) )\n",
    "    \n",
    "predicted_test = text_clf1.predict(X_nlp_test)\n",
    "print(\"[i] accuracy test: \", accuracy_score(y_nlp_test , predicted_test) )"
   ]
  },
  {
   "cell_type": "code",
   "execution_count": null,
   "metadata": {},
   "outputs": [],
   "source": [
    "# Создаем и обучаем второй классификатор для предсказания тональности\n",
    "text_clf2 = Pipeline([('tfidf', TfidfVectorizer(ngram_range=(1, 2))), #stop_words={'english'},\n",
    "                      ('clf', SGDClassifier(loss='hinge'))])#, random_state=RANDOM_SEED\n",
    "text_clf2.fit(X_nlp_train, y_sent_train)"
   ]
  },
  {
   "cell_type": "code",
   "execution_count": null,
   "metadata": {},
   "outputs": [],
   "source": [
    "# Оцениваем нашу вторую NLP-модель\n",
    "\n",
    "predicted2 = text_clf2.predict(X_nlp) # Это, наверное, не нужно\n",
    "\n",
    "predicted2_train = text_clf2.predict(X_nlp_train)\n",
    "print(\"[i] accuracy train: \", accuracy_score(y_sent_train , predicted2_train) )\n",
    "    \n",
    "predicted2_test = text_clf2.predict(X_nlp_test)\n",
    "print(\"[i] accuracy test: \", accuracy_score(y_sent_test , predicted2_test) )"
   ]
  },
  {
   "cell_type": "code",
   "execution_count": null,
   "metadata": {},
   "outputs": [],
   "source": [
    "# #Читерский подход: Обучаем модель на всей выборке и делаем предсказания на тех же данных, на которых обучалась модель\n",
    "# text_clf = Pipeline([('tfidf', TfidfVectorizer(ngram_range=(1, 4))), #stop_words={'english'},\n",
    "#                      ('clf', SGDClassifier(loss='hinge'))])\n",
    "# text_clf.fit(X_nlp, y_nlp)\n",
    "\n",
    "# predicted = text_clf.predict(X_nlp)\n",
    "# predicted_train = text_clf.predict(X_nlp_train)\n",
    "# predicted_test = text_clf.predict(X_nlp_test)"
   ]
  },
  {
   "cell_type": "code",
   "execution_count": null,
   "metadata": {},
   "outputs": [],
   "source": [
    "#Убираем нечисловой признак 'reviews'\n",
    "X1 = X.drop(['reviews'], axis = 1)\n",
    "X_train1 = X_train.drop(['reviews'], axis = 1)\n",
    "X_test1 = X_test.drop(['reviews'], axis = 1)"
   ]
  },
  {
   "cell_type": "markdown",
   "metadata": {},
   "source": [
    "#### Создаем новый признак 'rating_pr', предсказанный по текстам reviews:"
   ]
  },
  {
   "cell_type": "code",
   "execution_count": null,
   "metadata": {},
   "outputs": [],
   "source": [
    "# X1['rating_pr'] = predicted.astype('float64')\n",
    "# X_train1['rating_pr'] = predicted_train.astype('float64')\n",
    "# X_test1['rating_pr'] = predicted_test.astype('float64')"
   ]
  },
  {
   "cell_type": "markdown",
   "metadata": {},
   "source": [
    "#### Создаем новый признак 'rating_sent', предсказанный по текстам reviews:"
   ]
  },
  {
   "cell_type": "code",
   "execution_count": null,
   "metadata": {},
   "outputs": [],
   "source": [
    "X1['rating_sent'] = predicted2\n",
    "#X1['rating_sent'] = X1['rating_sent'].apply(lambda s: 1.0 if s=='good' else 0.0)\n",
    "X1['rating_sent'] = X1['rating_sent'].apply(lambda s: 2.0 if s=='good' else 1.0 if s=='medium' else 0.0)\n",
    "X_train1['rating_sent'] = predicted2_train\n",
    "#X_train1['rating_sent'] = X_train1['rating_sent'].apply(lambda s: 1.0 if s=='good' else 0.0)\n",
    "X_train1['rating_sent'] = X_train1['rating_sent'].apply(lambda s: 2.0 if s=='good' else 1.0 if s=='medium' else 0.0)\n",
    "X_test1['rating_sent'] = predicted2_test\n",
    "#X_test1['rating_sent'] = X_test1['rating_sent'].apply(lambda s: 1.0 if s=='good' else 0.0)\n",
    "X_test1['rating_sent'] = X_test1['rating_sent'].apply(lambda s: 2.0 if s=='good' else 1.0 if s=='medium' else 0.0)"
   ]
  },
  {
   "cell_type": "markdown",
   "metadata": {},
   "source": [
    "#### И заново обучаем модель с новым признаком"
   ]
  },
  {
   "cell_type": "markdown",
   "metadata": {},
   "source": [
    "## Создание, обучение и тестирование модели с новыми признаками 'rating_pr' и 'rating_sent'"
   ]
  },
  {
   "cell_type": "code",
   "execution_count": null,
   "metadata": {},
   "outputs": [],
   "source": [
    "regr = RandomForestRegressor(n_estimators=100)#, random_state=RANDOM_SEED\n",
    "regr.fit(X_train1, y_train)\n",
    "y_pred = (regr.predict(X_test1)*2).round()/2"
   ]
  },
  {
   "cell_type": "code",
   "execution_count": null,
   "metadata": {},
   "outputs": [],
   "source": [
    "print('MAE:', metrics.mean_absolute_error(y_test, y_pred))"
   ]
  },
  {
   "cell_type": "code",
   "execution_count": null,
   "metadata": {},
   "outputs": [],
   "source": [
    "# Отображаем признаки, отсортированные по их значимости\n",
    "plt.rcParams['figure.figsize'] = (20, 10)\n",
    "feat_importances = pd.Series(regr.feature_importances_, index=X1.columns)\n",
    "feat_importances.nlargest(30).plot(kind='barh')"
   ]
  },
  {
   "cell_type": "code",
   "execution_count": null,
   "metadata": {},
   "outputs": [],
   "source": []
  },
  {
   "cell_type": "code",
   "execution_count": null,
   "metadata": {},
   "outputs": [],
   "source": []
  },
  {
   "cell_type": "code",
   "execution_count": null,
   "metadata": {},
   "outputs": [],
   "source": []
  },
  {
   "cell_type": "code",
   "execution_count": null,
   "metadata": {},
   "outputs": [],
   "source": [
    "# # составляем список важнейших признаков\n",
    "# main_features = feat_importances.nlargest(55).index.tolist()"
   ]
  },
  {
   "cell_type": "code",
   "execution_count": null,
   "metadata": {},
   "outputs": [],
   "source": [
    "# feat_importances.sort_values()"
   ]
  },
  {
   "cell_type": "code",
   "execution_count": null,
   "metadata": {},
   "outputs": [],
   "source": [
    "# # Еще раз копируем датасет, оставив только важнейшие признаки:\n",
    "# X = X[main_features].copy()\n",
    "# X_train = X_train[main_features].copy()\n",
    "# X_test = X_test[main_features].copy()"
   ]
  },
  {
   "cell_type": "code",
   "execution_count": null,
   "metadata": {},
   "outputs": [],
   "source": [
    "# X.head()"
   ]
  },
  {
   "cell_type": "code",
   "execution_count": null,
   "metadata": {},
   "outputs": [],
   "source": [
    "# # Пересоздаем модель, используя только самые важные признаки\n",
    "# regr = RandomForestRegressor(n_estimators=100)\n",
    "# regr.fit(X_train, y_train)\n",
    "# y_pred = (regr.predict(X_test)*2).round()/2\n",
    "# print('MAE:', metrics.mean_absolute_error(y_test, y_pred))"
   ]
  },
  {
   "cell_type": "code",
   "execution_count": null,
   "metadata": {},
   "outputs": [],
   "source": []
  }
 ],
 "metadata": {
  "kernelspec": {
   "display_name": "Python 3",
   "language": "python",
   "name": "python3"
  },
  "language_info": {
   "codemirror_mode": {
    "name": "ipython",
    "version": 3
   },
   "file_extension": ".py",
   "mimetype": "text/x-python",
   "name": "python",
   "nbconvert_exporter": "python",
   "pygments_lexer": "ipython3",
   "version": "3.7.6"
  }
 },
 "nbformat": 4,
 "nbformat_minor": 4
}
