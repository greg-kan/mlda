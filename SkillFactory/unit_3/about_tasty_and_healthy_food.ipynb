{
 "cells": [
  {
   "cell_type": "code",
   "execution_count": 1,
   "metadata": {},
   "outputs": [],
   "source": [
    "import numpy as np\n",
    "import pandas as pd\n",
    "import matplotlib.pyplot as plt\n",
    "import seaborn as sns\n",
    "from itertools import combinations\n",
    "from scipy.stats import ttest_ind\n",
    "from sklearn.model_selection import train_test_split\n",
    "from sklearn.ensemble import RandomForestRegressor\n",
    "from sklearn import metrics\n",
    "from datetime import datetime, timedelta\n",
    "%matplotlib inline"
   ]
  },
  {
   "cell_type": "code",
   "execution_count": 2,
   "metadata": {},
   "outputs": [],
   "source": [
    "# Фиксируем RANDOM_SEED, чтобы результаты были воспроизводимы\n",
    "RANDOM_SEED = 42"
   ]
  },
  {
   "cell_type": "code",
   "execution_count": 3,
   "metadata": {
    "scrolled": true
   },
   "outputs": [],
   "source": [
    "df = pd.read_csv('main_task.csv')"
   ]
  },
  {
   "cell_type": "code",
   "execution_count": 4,
   "metadata": {
    "scrolled": true
   },
   "outputs": [
    {
     "data": {
      "text/html": [
       "<div>\n",
       "<style scoped>\n",
       "    .dataframe tbody tr th:only-of-type {\n",
       "        vertical-align: middle;\n",
       "    }\n",
       "\n",
       "    .dataframe tbody tr th {\n",
       "        vertical-align: top;\n",
       "    }\n",
       "\n",
       "    .dataframe thead th {\n",
       "        text-align: right;\n",
       "    }\n",
       "</style>\n",
       "<table border=\"1\" class=\"dataframe\">\n",
       "  <thead>\n",
       "    <tr style=\"text-align: right;\">\n",
       "      <th></th>\n",
       "      <th>restaurant_id</th>\n",
       "      <th>city</th>\n",
       "      <th>cuisine_style</th>\n",
       "      <th>ranking</th>\n",
       "      <th>rating</th>\n",
       "      <th>price_range</th>\n",
       "      <th>reviews_number</th>\n",
       "      <th>reviews</th>\n",
       "      <th>url_ta</th>\n",
       "      <th>id_ta</th>\n",
       "    </tr>\n",
       "  </thead>\n",
       "  <tbody>\n",
       "    <tr>\n",
       "      <th>0</th>\n",
       "      <td>id_5569</td>\n",
       "      <td>Paris</td>\n",
       "      <td>['European', 'French', 'International']</td>\n",
       "      <td>5570.0</td>\n",
       "      <td>3.5</td>\n",
       "      <td>$$ - $$$</td>\n",
       "      <td>194.0</td>\n",
       "      <td>[['Good food at your doorstep', 'A good hotel ...</td>\n",
       "      <td>/Restaurant_Review-g187147-d1912643-Reviews-R_...</td>\n",
       "      <td>d1912643</td>\n",
       "    </tr>\n",
       "    <tr>\n",
       "      <th>1</th>\n",
       "      <td>id_1535</td>\n",
       "      <td>Stockholm</td>\n",
       "      <td>NaN</td>\n",
       "      <td>1537.0</td>\n",
       "      <td>4.0</td>\n",
       "      <td>NaN</td>\n",
       "      <td>10.0</td>\n",
       "      <td>[['Unique cuisine', 'Delicious Nepalese food']...</td>\n",
       "      <td>/Restaurant_Review-g189852-d7992032-Reviews-Bu...</td>\n",
       "      <td>d7992032</td>\n",
       "    </tr>\n",
       "    <tr>\n",
       "      <th>2</th>\n",
       "      <td>id_352</td>\n",
       "      <td>London</td>\n",
       "      <td>['Japanese', 'Sushi', 'Asian', 'Grill', 'Veget...</td>\n",
       "      <td>353.0</td>\n",
       "      <td>4.5</td>\n",
       "      <td>$$$$</td>\n",
       "      <td>688.0</td>\n",
       "      <td>[['Catch up with friends', 'Not exceptional'],...</td>\n",
       "      <td>/Restaurant_Review-g186338-d8632781-Reviews-RO...</td>\n",
       "      <td>d8632781</td>\n",
       "    </tr>\n",
       "    <tr>\n",
       "      <th>3</th>\n",
       "      <td>id_3456</td>\n",
       "      <td>Berlin</td>\n",
       "      <td>NaN</td>\n",
       "      <td>3458.0</td>\n",
       "      <td>5.0</td>\n",
       "      <td>NaN</td>\n",
       "      <td>3.0</td>\n",
       "      <td>[[], []]</td>\n",
       "      <td>/Restaurant_Review-g187323-d1358776-Reviews-Es...</td>\n",
       "      <td>d1358776</td>\n",
       "    </tr>\n",
       "    <tr>\n",
       "      <th>4</th>\n",
       "      <td>id_615</td>\n",
       "      <td>Munich</td>\n",
       "      <td>['German', 'Central European', 'Vegetarian Fri...</td>\n",
       "      <td>621.0</td>\n",
       "      <td>4.0</td>\n",
       "      <td>$$ - $$$</td>\n",
       "      <td>84.0</td>\n",
       "      <td>[['Best place to try a Bavarian food', 'Nice b...</td>\n",
       "      <td>/Restaurant_Review-g187309-d6864963-Reviews-Au...</td>\n",
       "      <td>d6864963</td>\n",
       "    </tr>\n",
       "  </tbody>\n",
       "</table>\n",
       "</div>"
      ],
      "text/plain": [
       "  restaurant_id       city                                      cuisine_style  \\\n",
       "0       id_5569      Paris            ['European', 'French', 'International']   \n",
       "1       id_1535  Stockholm                                                NaN   \n",
       "2        id_352     London  ['Japanese', 'Sushi', 'Asian', 'Grill', 'Veget...   \n",
       "3       id_3456     Berlin                                                NaN   \n",
       "4        id_615     Munich  ['German', 'Central European', 'Vegetarian Fri...   \n",
       "\n",
       "   ranking  rating price_range  reviews_number  \\\n",
       "0   5570.0     3.5    $$ - $$$           194.0   \n",
       "1   1537.0     4.0         NaN            10.0   \n",
       "2    353.0     4.5        $$$$           688.0   \n",
       "3   3458.0     5.0         NaN             3.0   \n",
       "4    621.0     4.0    $$ - $$$            84.0   \n",
       "\n",
       "                                             reviews  \\\n",
       "0  [['Good food at your doorstep', 'A good hotel ...   \n",
       "1  [['Unique cuisine', 'Delicious Nepalese food']...   \n",
       "2  [['Catch up with friends', 'Not exceptional'],...   \n",
       "3                                           [[], []]   \n",
       "4  [['Best place to try a Bavarian food', 'Nice b...   \n",
       "\n",
       "                                              url_ta     id_ta  \n",
       "0  /Restaurant_Review-g187147-d1912643-Reviews-R_...  d1912643  \n",
       "1  /Restaurant_Review-g189852-d7992032-Reviews-Bu...  d7992032  \n",
       "2  /Restaurant_Review-g186338-d8632781-Reviews-RO...  d8632781  \n",
       "3  /Restaurant_Review-g187323-d1358776-Reviews-Es...  d1358776  \n",
       "4  /Restaurant_Review-g187309-d6864963-Reviews-Au...  d6864963  "
      ]
     },
     "execution_count": 4,
     "metadata": {},
     "output_type": "execute_result"
    }
   ],
   "source": [
    "df.columns = ['restaurant_id', 'city', 'cuisine_style', 'ranking', 'rating',\n",
    "              'price_range', 'reviews_number', 'reviews', 'url_ta', 'id_ta']\n",
    "df.head()"
   ]
  },
  {
   "cell_type": "code",
   "execution_count": 5,
   "metadata": {
    "scrolled": false
   },
   "outputs": [
    {
     "name": "stdout",
     "output_type": "stream",
     "text": [
      "<class 'pandas.core.frame.DataFrame'>\n",
      "RangeIndex: 40000 entries, 0 to 39999\n",
      "Data columns (total 10 columns):\n",
      " #   Column          Non-Null Count  Dtype  \n",
      "---  ------          --------------  -----  \n",
      " 0   restaurant_id   40000 non-null  object \n",
      " 1   city            40000 non-null  object \n",
      " 2   cuisine_style   30717 non-null  object \n",
      " 3   ranking         40000 non-null  float64\n",
      " 4   rating          40000 non-null  float64\n",
      " 5   price_range     26114 non-null  object \n",
      " 6   reviews_number  37457 non-null  float64\n",
      " 7   reviews         40000 non-null  object \n",
      " 8   url_ta          40000 non-null  object \n",
      " 9   id_ta           40000 non-null  object \n",
      "dtypes: float64(3), object(7)\n",
      "memory usage: 3.1+ MB\n"
     ]
    }
   ],
   "source": [
    "df.info()"
   ]
  },
  {
   "cell_type": "code",
   "execution_count": 6,
   "metadata": {
    "scrolled": false
   },
   "outputs": [
    {
     "data": {
      "text/html": [
       "<div>\n",
       "<style scoped>\n",
       "    .dataframe tbody tr th:only-of-type {\n",
       "        vertical-align: middle;\n",
       "    }\n",
       "\n",
       "    .dataframe tbody tr th {\n",
       "        vertical-align: top;\n",
       "    }\n",
       "\n",
       "    .dataframe thead th {\n",
       "        text-align: right;\n",
       "    }\n",
       "</style>\n",
       "<table border=\"1\" class=\"dataframe\">\n",
       "  <thead>\n",
       "    <tr style=\"text-align: right;\">\n",
       "      <th></th>\n",
       "      <th>ranking</th>\n",
       "      <th>rating</th>\n",
       "      <th>reviews_number</th>\n",
       "    </tr>\n",
       "  </thead>\n",
       "  <tbody>\n",
       "    <tr>\n",
       "      <th>count</th>\n",
       "      <td>40000.000000</td>\n",
       "      <td>40000.000000</td>\n",
       "      <td>37457.000000</td>\n",
       "    </tr>\n",
       "    <tr>\n",
       "      <th>mean</th>\n",
       "      <td>3676.028525</td>\n",
       "      <td>3.993037</td>\n",
       "      <td>124.825480</td>\n",
       "    </tr>\n",
       "    <tr>\n",
       "      <th>std</th>\n",
       "      <td>3708.749567</td>\n",
       "      <td>0.668417</td>\n",
       "      <td>295.666352</td>\n",
       "    </tr>\n",
       "    <tr>\n",
       "      <th>min</th>\n",
       "      <td>1.000000</td>\n",
       "      <td>1.000000</td>\n",
       "      <td>2.000000</td>\n",
       "    </tr>\n",
       "    <tr>\n",
       "      <th>25%</th>\n",
       "      <td>973.000000</td>\n",
       "      <td>3.500000</td>\n",
       "      <td>9.000000</td>\n",
       "    </tr>\n",
       "    <tr>\n",
       "      <th>50%</th>\n",
       "      <td>2285.000000</td>\n",
       "      <td>4.000000</td>\n",
       "      <td>33.000000</td>\n",
       "    </tr>\n",
       "    <tr>\n",
       "      <th>75%</th>\n",
       "      <td>5260.000000</td>\n",
       "      <td>4.500000</td>\n",
       "      <td>115.000000</td>\n",
       "    </tr>\n",
       "    <tr>\n",
       "      <th>max</th>\n",
       "      <td>16444.000000</td>\n",
       "      <td>5.000000</td>\n",
       "      <td>9660.000000</td>\n",
       "    </tr>\n",
       "  </tbody>\n",
       "</table>\n",
       "</div>"
      ],
      "text/plain": [
       "            ranking        rating  reviews_number\n",
       "count  40000.000000  40000.000000    37457.000000\n",
       "mean    3676.028525      3.993037      124.825480\n",
       "std     3708.749567      0.668417      295.666352\n",
       "min        1.000000      1.000000        2.000000\n",
       "25%      973.000000      3.500000        9.000000\n",
       "50%     2285.000000      4.000000       33.000000\n",
       "75%     5260.000000      4.500000      115.000000\n",
       "max    16444.000000      5.000000     9660.000000"
      ]
     },
     "execution_count": 6,
     "metadata": {},
     "output_type": "execute_result"
    }
   ],
   "source": [
    "df.describe()"
   ]
  },
  {
   "cell_type": "code",
   "execution_count": 7,
   "metadata": {
    "scrolled": true
   },
   "outputs": [
    {
     "data": {
      "text/plain": [
       "restaurant_id     11909\n",
       "city                 31\n",
       "cuisine_style      9007\n",
       "ranking           11936\n",
       "rating                9\n",
       "price_range           3\n",
       "reviews_number     1459\n",
       "reviews           33516\n",
       "url_ta            39980\n",
       "id_ta             39980\n",
       "dtype: int64"
      ]
     },
     "execution_count": 7,
     "metadata": {},
     "output_type": "execute_result"
    }
   ],
   "source": [
    "df.nunique()"
   ]
  },
  {
   "cell_type": "code",
   "execution_count": 8,
   "metadata": {
    "scrolled": true
   },
   "outputs": [
    {
     "data": {
      "text/plain": [
       "<matplotlib.axes._subplots.AxesSubplot at 0xc9c544d160>"
      ]
     },
     "execution_count": 8,
     "metadata": {},
     "output_type": "execute_result"
    },
    {
     "data": {
      "image/png": "[encoded data removed]",
      "text/plain": [
       "<Figure size 1008x288 with 1 Axes>"
      ]
     },
     "metadata": {
      "needs_background": "light"
     },
     "output_type": "display_data"
    }
   ],
   "source": [
    "#Анализ пропусков в столбцах\n",
    "plt.figure(figsize=(14, 4))\n",
    "sns.heatmap(df.isnull(), cbar=False, yticklabels=False, cmap = 'viridis')"
   ]
  },
  {
   "cell_type": "code",
   "execution_count": 9,
   "metadata": {},
   "outputs": [],
   "source": [
    "def analyse_numeric(datafr, column):\n",
    "    '''Визуализирует распределения.\n",
    "       Принимает параметрами DataFrame и строковое название столбца\n",
    "       Печатает различные статистические показатели и строит гистограмму'''\n",
    "    count = datafr[column].count()\n",
    "    mean = datafr[column].mean()\n",
    "    std = datafr[column].std()\n",
    "    median = datafr[column].median()\n",
    "    perc25 = datafr[column].quantile(0.25)\n",
    "    perc75 = datafr[column].quantile(0.75)\n",
    "    IQR = perc75 - perc25\n",
    "    range_min = datafr[column].min()\n",
    "    range_max = datafr[column].max()\n",
    "    margin = (range_max - range_min)/10\n",
    "    range_start = range_min - margin\n",
    "    range_stop = range_max + margin\n",
    "    range_ = (range_start, range_stop)\n",
    "    outliers = datafr[column].loc[(datafr[column] < perc25 - 1.5*IQR) | (datafr[column] > perc75 + 1.5*IQR)]\n",
    "\n",
    "    print('Количество: {}, Среднее: {:.3f}, Стандартное отклонение: {:.3f}.'.format(count, mean, std))\n",
    "    print('Минимум: {}, 25-й перцентиль: {}, Медиана: {}, 75-й перцентиль: {}, Максимум: {}, IQR: {}.'\n",
    "          .format(range_min, perc25, median, perc75, range_max, IQR))\n",
    "    print('Количество пропусков в столбце: ', pd.isnull(datafr[column]).sum())\n",
    "    print('Границы выбросов: [{f}, {l}].'.format(f=perc25 - 1.5*IQR, l=perc75 + 1.5*IQR)\n",
    "          , 'Количество выбросов: ', len(outliers))\n",
    "\n",
    "    datafr[column].loc[datafr[column].between(perc25 - 1.5*IQR, perc75 + 1.5*IQR)] \\\n",
    "                  .hist(bins = 30, range = range_, label = 'В границах выбросов')\n",
    "    outliers.hist(bins = 30, range = range_, label = 'Выбросы')\n",
    "    \n",
    "    plt.legend()"
   ]
  },
  {
   "cell_type": "markdown",
   "metadata": {},
   "source": [
    "## Осмотр и обработка данных и генерация новых признаков "
   ]
  },
  {
   "cell_type": "markdown",
   "metadata": {},
   "source": [
    "### restaurant_id"
   ]
  },
  {
   "cell_type": "code",
   "execution_count": 10,
   "metadata": {},
   "outputs": [
    {
     "data": {
      "text/plain": [
       "11909"
      ]
     },
     "execution_count": 10,
     "metadata": {},
     "output_type": "execute_result"
    }
   ],
   "source": [
    "df.restaurant_id.nunique()"
   ]
  },
  {
   "cell_type": "markdown",
   "metadata": {},
   "source": [
    "### city"
   ]
  },
  {
   "cell_type": "code",
   "execution_count": 11,
   "metadata": {
    "scrolled": true
   },
   "outputs": [
    {
     "data": {
      "text/plain": [
       "London        5757\n",
       "Paris         4897\n",
       "Madrid        3108\n",
       "Barcelona     2734\n",
       "Berlin        2155\n",
       "Milan         2133\n",
       "Rome          2078\n",
       "Prague        1443\n",
       "Lisbon        1300\n",
       "Vienna        1166\n",
       "Amsterdam     1086\n",
       "Brussels      1060\n",
       "Hamburg        949\n",
       "Munich         893\n",
       "Lyon           892\n",
       "Stockholm      820\n",
       "Budapest       816\n",
       "Warsaw         727\n",
       "Dublin         673\n",
       "Copenhagen     659\n",
       "Athens         628\n",
       "Edinburgh      596\n",
       "Zurich         538\n",
       "Oporto         513\n",
       "Geneva         481\n",
       "Krakow         443\n",
       "Oslo           385\n",
       "Helsinki       376\n",
       "Bratislava     301\n",
       "Luxembourg     210\n",
       "Ljubljana      183\n",
       "Name: city, dtype: int64"
      ]
     },
     "execution_count": 11,
     "metadata": {},
     "output_type": "execute_result"
    }
   ],
   "source": [
    "df_tmp = df.city.value_counts()\n",
    "df_tmp"
   ]
  },
  {
   "cell_type": "markdown",
   "metadata": {},
   "source": [
    "#### Добавим столбец количества ресторанов в городе"
   ]
  },
  {
   "cell_type": "code",
   "execution_count": 12,
   "metadata": {},
   "outputs": [],
   "source": [
    "df['rests'] = df['city'].apply(lambda x: df_tmp[x])"
   ]
  },
  {
   "cell_type": "markdown",
   "metadata": {},
   "source": [
    "#### Поработаем с популяциями городов. Добавим столбец population двумя разными способми: из внешнего датасета worldcities.csv с https://kaggle.com и из Википедии, https://en.wikipedia.org/wiki/List_of_cities_in_the_European_Union_by_population_within_city_limits и проверим, какой способ лучше."
   ]
  },
  {
   "cell_type": "markdown",
   "metadata": {},
   "source": [
    "#### Способ 1"
   ]
  },
  {
   "cell_type": "code",
   "execution_count": 13,
   "metadata": {},
   "outputs": [],
   "source": [
    "#cities = pd.read_csv('.\\data\\worldcities.csv')\n",
    "#cities.head()"
   ]
  },
  {
   "cell_type": "code",
   "execution_count": 14,
   "metadata": {},
   "outputs": [],
   "source": [
    "def get_population(str_city):\n",
    "    '''Возвращает популяцию города str_city'''\n",
    "    if str_city.lower() == 'oporto': # Такого названия нет в датасете cities\n",
    "        str_city = 'porto'\n",
    "    return cities[cities.city_ascii.str.lower() == str_city.lower()]['population'].max()"
   ]
  },
  {
   "cell_type": "code",
   "execution_count": 15,
   "metadata": {},
   "outputs": [],
   "source": [
    "#df['population'] = df.city.apply(lambda x: get_population(x))"
   ]
  },
  {
   "cell_type": "markdown",
   "metadata": {},
   "source": [
    "#### Способ 2"
   ]
  },
  {
   "cell_type": "code",
   "execution_count": 16,
   "metadata": {},
   "outputs": [],
   "source": [
    "population_dict = {\n",
    "    'London': 9304016,\n",
    "    'Paris': 2140526,\n",
    "    'Madrid': 3348536,\n",
    "    'Barcelona': 1620343,\n",
    "    'Berlin': 3748148,\n",
    "    'Milan': 1404239,\n",
    "    'Rome': 2856133,\n",
    "    'Prague': 1324277,\n",
    "    'Lisbon': 506654,\n",
    "    'Vienna': 1911728,\n",
    "    'Amsterdam': 873555,\n",
    "    'Brussels': 1209000,\n",
    "    'Hamburg': 1841179,\n",
    "    'Munich': 1471508,\n",
    "    'Lyon': 515695,\n",
    "    'Stockholm': 974073,\n",
    "    'Budapest': 1752286,\n",
    "    'Warsaw': 1790658,\n",
    "    'Dublin': 554554,\n",
    "    'Copenhagen': 626508,\n",
    "    'Athens': 664046,\n",
    "    'Edinburgh': 524930,\n",
    "    'Zurich': 415367,\n",
    "    'Oporto': 237559,\n",
    "    'Geneva': 201818,\n",
    "    'Krakow': 779115,\n",
    "    'Oslo': 693491,\n",
    "    'Helsinki': 648042,\n",
    "    'Bratislava': 432864,\n",
    "    'Luxembourg': 613894,\n",
    "    'Ljubljana': 292988\n",
    "}\n",
    "df['population'] = df['city'].map(population_dict)"
   ]
  },
  {
   "cell_type": "markdown",
   "metadata": {},
   "source": [
    "#### Пронормируем столбец population и добавим в датасет"
   ]
  },
  {
   "cell_type": "code",
   "execution_count": 17,
   "metadata": {},
   "outputs": [],
   "source": [
    "#df['population_norm'] = df['population'] / 100000"
   ]
  },
  {
   "cell_type": "markdown",
   "metadata": {},
   "source": [
    "#### Добавим столбец плотности ресторанов в городе"
   ]
  },
  {
   "cell_type": "code",
   "execution_count": 18,
   "metadata": {},
   "outputs": [],
   "source": [
    "df['rest_density'] = df.rests / df.population"
   ]
  },
  {
   "cell_type": "code",
   "execution_count": 19,
   "metadata": {},
   "outputs": [],
   "source": [
    "#Вот насчет этого подумать\n",
    "#df['rest_density1'] = df.population / df.rests"
   ]
  },
  {
   "cell_type": "markdown",
   "metadata": {},
   "source": [
    "#### Добавим признак capital"
   ]
  },
  {
   "cell_type": "code",
   "execution_count": 20,
   "metadata": {},
   "outputs": [],
   "source": [
    "capitals = ['Paris', 'Stockholm', 'London', 'Berlin',\n",
    "            'Bratislava', 'Vienna', 'Rome', 'Madrid',\n",
    "            'Dublin', 'Brussels', 'Warsaw', 'Budapest', 'Copenhagen',\n",
    "            'Amsterdam', 'Lisbon', 'Prague', 'Oslo',\n",
    "            'Helsinki', 'Ljubljana', 'Athens', 'Luxembourg']\n",
    "#df['capital'] = df['city'].apply(lambda x: x in capitals).astype('uint8')"
   ]
  },
  {
   "cell_type": "markdown",
   "metadata": {},
   "source": [
    "#### Добавим dummies по городам"
   ]
  },
  {
   "cell_type": "code",
   "execution_count": 21,
   "metadata": {
    "scrolled": true
   },
   "outputs": [
    {
     "data": {
      "text/html": [
       "<div>\n",
       "<style scoped>\n",
       "    .dataframe tbody tr th:only-of-type {\n",
       "        vertical-align: middle;\n",
       "    }\n",
       "\n",
       "    .dataframe tbody tr th {\n",
       "        vertical-align: top;\n",
       "    }\n",
       "\n",
       "    .dataframe thead th {\n",
       "        text-align: right;\n",
       "    }\n",
       "</style>\n",
       "<table border=\"1\" class=\"dataframe\">\n",
       "  <thead>\n",
       "    <tr style=\"text-align: right;\">\n",
       "      <th></th>\n",
       "      <th>restaurant_id</th>\n",
       "      <th>city</th>\n",
       "      <th>cuisine_style</th>\n",
       "      <th>ranking</th>\n",
       "      <th>rating</th>\n",
       "      <th>price_range</th>\n",
       "      <th>reviews_number</th>\n",
       "      <th>reviews</th>\n",
       "      <th>url_ta</th>\n",
       "      <th>id_ta</th>\n",
       "      <th>...</th>\n",
       "      <th>Munich</th>\n",
       "      <th>Oporto</th>\n",
       "      <th>Oslo</th>\n",
       "      <th>Paris</th>\n",
       "      <th>Prague</th>\n",
       "      <th>Rome</th>\n",
       "      <th>Stockholm</th>\n",
       "      <th>Vienna</th>\n",
       "      <th>Warsaw</th>\n",
       "      <th>Zurich</th>\n",
       "    </tr>\n",
       "  </thead>\n",
       "  <tbody>\n",
       "    <tr>\n",
       "      <th>0</th>\n",
       "      <td>id_5569</td>\n",
       "      <td>Paris</td>\n",
       "      <td>['European', 'French', 'International']</td>\n",
       "      <td>5570.0</td>\n",
       "      <td>3.5</td>\n",
       "      <td>$$ - $$$</td>\n",
       "      <td>194.0</td>\n",
       "      <td>[['Good food at your doorstep', 'A good hotel ...</td>\n",
       "      <td>/Restaurant_Review-g187147-d1912643-Reviews-R_...</td>\n",
       "      <td>d1912643</td>\n",
       "      <td>...</td>\n",
       "      <td>0</td>\n",
       "      <td>0</td>\n",
       "      <td>0</td>\n",
       "      <td>1</td>\n",
       "      <td>0</td>\n",
       "      <td>0</td>\n",
       "      <td>0</td>\n",
       "      <td>0</td>\n",
       "      <td>0</td>\n",
       "      <td>0</td>\n",
       "    </tr>\n",
       "    <tr>\n",
       "      <th>1</th>\n",
       "      <td>id_1535</td>\n",
       "      <td>Stockholm</td>\n",
       "      <td>NaN</td>\n",
       "      <td>1537.0</td>\n",
       "      <td>4.0</td>\n",
       "      <td>NaN</td>\n",
       "      <td>10.0</td>\n",
       "      <td>[['Unique cuisine', 'Delicious Nepalese food']...</td>\n",
       "      <td>/Restaurant_Review-g189852-d7992032-Reviews-Bu...</td>\n",
       "      <td>d7992032</td>\n",
       "      <td>...</td>\n",
       "      <td>0</td>\n",
       "      <td>0</td>\n",
       "      <td>0</td>\n",
       "      <td>0</td>\n",
       "      <td>0</td>\n",
       "      <td>0</td>\n",
       "      <td>1</td>\n",
       "      <td>0</td>\n",
       "      <td>0</td>\n",
       "      <td>0</td>\n",
       "    </tr>\n",
       "    <tr>\n",
       "      <th>2</th>\n",
       "      <td>id_352</td>\n",
       "      <td>London</td>\n",
       "      <td>['Japanese', 'Sushi', 'Asian', 'Grill', 'Veget...</td>\n",
       "      <td>353.0</td>\n",
       "      <td>4.5</td>\n",
       "      <td>$$$$</td>\n",
       "      <td>688.0</td>\n",
       "      <td>[['Catch up with friends', 'Not exceptional'],...</td>\n",
       "      <td>/Restaurant_Review-g186338-d8632781-Reviews-RO...</td>\n",
       "      <td>d8632781</td>\n",
       "      <td>...</td>\n",
       "      <td>0</td>\n",
       "      <td>0</td>\n",
       "      <td>0</td>\n",
       "      <td>0</td>\n",
       "      <td>0</td>\n",
       "      <td>0</td>\n",
       "      <td>0</td>\n",
       "      <td>0</td>\n",
       "      <td>0</td>\n",
       "      <td>0</td>\n",
       "    </tr>\n",
       "  </tbody>\n",
       "</table>\n",
       "<p>3 rows × 44 columns</p>\n",
       "</div>"
      ],
      "text/plain": [
       "  restaurant_id       city                                      cuisine_style  \\\n",
       "0       id_5569      Paris            ['European', 'French', 'International']   \n",
       "1       id_1535  Stockholm                                                NaN   \n",
       "2        id_352     London  ['Japanese', 'Sushi', 'Asian', 'Grill', 'Veget...   \n",
       "\n",
       "   ranking  rating price_range  reviews_number  \\\n",
       "0   5570.0     3.5    $$ - $$$           194.0   \n",
       "1   1537.0     4.0         NaN            10.0   \n",
       "2    353.0     4.5        $$$$           688.0   \n",
       "\n",
       "                                             reviews  \\\n",
       "0  [['Good food at your doorstep', 'A good hotel ...   \n",
       "1  [['Unique cuisine', 'Delicious Nepalese food']...   \n",
       "2  [['Catch up with friends', 'Not exceptional'],...   \n",
       "\n",
       "                                              url_ta     id_ta  ...  Munich  \\\n",
       "0  /Restaurant_Review-g187147-d1912643-Reviews-R_...  d1912643  ...       0   \n",
       "1  /Restaurant_Review-g189852-d7992032-Reviews-Bu...  d7992032  ...       0   \n",
       "2  /Restaurant_Review-g186338-d8632781-Reviews-RO...  d8632781  ...       0   \n",
       "\n",
       "   Oporto  Oslo  Paris  Prague  Rome  Stockholm  Vienna  Warsaw  Zurich  \n",
       "0       0     0      1       0     0          0       0       0       0  \n",
       "1       0     0      0       0     0          1       0       0       0  \n",
       "2       0     0      0       0     0          0       0       0       0  \n",
       "\n",
       "[3 rows x 44 columns]"
      ]
     },
     "execution_count": 21,
     "metadata": {},
     "output_type": "execute_result"
    }
   ],
   "source": [
    "df = pd.concat([df, pd.get_dummies(df.city)], axis=1)\n",
    "df.head(3)"
   ]
  },
  {
   "cell_type": "markdown",
   "metadata": {},
   "source": [
    "#### Добавим признак country"
   ]
  },
  {
   "cell_type": "code",
   "execution_count": 22,
   "metadata": {},
   "outputs": [],
   "source": [
    "countries_dict = {'Amsterdam': 'Netherlands',\n",
    "             'Athens': 'Greece',\n",
    "             'Barcelona': 'Spain',\n",
    "             'Berlin': 'Germany',\n",
    "             'Bratislava': 'Slovakia',\n",
    "             'Brussels': 'Belgium',\n",
    "             'Budapest': 'Hungary',\n",
    "             'Copenhagen': 'Denmark',\n",
    "             'Dublin': 'Ireland',\n",
    "             'Edinburgh': 'United Kingdom',\n",
    "             'Geneva': 'Switzerland',\n",
    "             'Hamburg': 'Germany',\n",
    "             'Helsinki': 'Finland',\n",
    "             'Krakow': 'Poland',\n",
    "             'Lisbon': 'Portugal',\n",
    "             'Ljubljana': 'Slovenia',\n",
    "             'London': 'United Kingdom',\n",
    "             'Luxembourg': 'Luxembourg',\n",
    "             'Lyon': 'France',\n",
    "             'Madrid': 'Spain',\n",
    "             'Milan': 'Italy',\n",
    "             'Munich': 'Germany',\n",
    "             'Oporto': 'Portugal',\n",
    "             'Oslo': 'Norway',\n",
    "             'Paris': 'France',\n",
    "             'Prague': 'Czechia',\n",
    "             'Rome': 'Italy',\n",
    "             'Stockholm': 'Sweden',\n",
    "             'Vienna': 'Austria',\n",
    "             'Warsaw': 'Poland',\n",
    "             'Zurich': 'Switzerland'}\n",
    "#df['country'] = df['city'].map(countries_dict)"
   ]
  },
  {
   "cell_type": "code",
   "execution_count": 23,
   "metadata": {},
   "outputs": [],
   "source": [
    "#df = pd.concat([df, pd.get_dummies(df.country)], axis=1)\n",
    "#df.head(3)"
   ]
  },
  {
   "cell_type": "markdown",
   "metadata": {},
   "source": [
    "### cuisine_style"
   ]
  },
  {
   "cell_type": "code",
   "execution_count": 24,
   "metadata": {
    "scrolled": false
   },
   "outputs": [
    {
     "data": {
      "text/plain": [
       "['Italian']                                                                                                                1032\n",
       "['French']                                                                                                                  805\n",
       "['Spanish']                                                                                                                 695\n",
       "['French', 'European']                                                                                                      405\n",
       "['Cafe']                                                                                                                    403\n",
       "                                                                                                                           ... \n",
       "['French', 'Dutch', 'Bar', 'European', 'Vegetarian Friendly']                                                                 1\n",
       "['French', 'Chinese', 'Asian', 'Fusion', 'Vegetarian Friendly', 'Vegan Options']                                              1\n",
       "['Bar', 'Pizza', 'British', 'Pub', 'Vegetarian Friendly', 'Gluten Free Options']                                              1\n",
       "['Italian', 'International', 'Mediterranean', 'Contemporary', 'European', 'Vegetarian Friendly', 'Gluten Free Options']       1\n",
       "['Steakhouse', 'American', 'Barbecue', 'Gluten Free Options']                                                                 1\n",
       "Name: cuisine_style, Length: 9007, dtype: int64"
      ]
     },
     "execution_count": 24,
     "metadata": {},
     "output_type": "execute_result"
    }
   ],
   "source": [
    "df.cuisine_style.value_counts()"
   ]
  },
  {
   "cell_type": "code",
   "execution_count": 25,
   "metadata": {},
   "outputs": [],
   "source": [
    "df.cuisine_style.fillna('1', inplace=True)"
   ]
  },
  {
   "cell_type": "code",
   "execution_count": 26,
   "metadata": {},
   "outputs": [],
   "source": [
    "df['cuisine'] = df.cuisine_style.str[1:-1].str.split(', ')"
   ]
  },
  {
   "cell_type": "code",
   "execution_count": 27,
   "metadata": {},
   "outputs": [
    {
     "data": {
      "text/plain": [
       "0              ['European', 'French', 'International']\n",
       "1                                                   []\n",
       "2    ['Japanese', 'Sushi', 'Asian', 'Grill', 'Veget...\n",
       "3                                                   []\n",
       "4    ['German', 'Central European', 'Vegetarian Fri...\n",
       "Name: cuisine, dtype: object"
      ]
     },
     "execution_count": 27,
     "metadata": {},
     "output_type": "execute_result"
    }
   ],
   "source": [
    "df['cuisine'].head()"
   ]
  },
  {
   "cell_type": "code",
   "execution_count": 28,
   "metadata": {},
   "outputs": [
    {
     "data": {
      "text/plain": [
       "126"
      ]
     },
     "execution_count": 28,
     "metadata": {},
     "output_type": "execute_result"
    }
   ],
   "source": [
    "len(df.explode('cuisine')['cuisine'].value_counts())"
   ]
  },
  {
   "cell_type": "code",
   "execution_count": 29,
   "metadata": {},
   "outputs": [],
   "source": [
    "# Создадим новый признак - количество кухонь, представленных рестораном\n",
    "df['cuisines_number'] = df['cuisine'].apply( lambda x: 1.0 if len(x)==0 else float(len(x)))"
   ]
  },
  {
   "cell_type": "markdown",
   "metadata": {},
   "source": [
    "### ranking"
   ]
  },
  {
   "cell_type": "code",
   "execution_count": 30,
   "metadata": {
    "scrolled": true
   },
   "outputs": [
    {
     "name": "stdout",
     "output_type": "stream",
     "text": [
      "Количество: 40000, Среднее: 3676.029, Стандартное отклонение: 3708.750.\n",
      "Минимум: 1.0, 25-й перцентиль: 973.0, Медиана: 2285.0, 75-й перцентиль: 5260.0, Максимум: 16444.0, IQR: 4287.0.\n",
      "Количество пропусков в столбце:  0\n",
      "Границы выбросов: [-5457.5, 11690.5]. Количество выбросов:  2450\n"
     ]
    },
    {
     "data": {
      "image/png": "[encoded data removed]",
      "text/plain": [
       "<Figure size 432x288 with 1 Axes>"
      ]
     },
     "metadata": {
      "needs_background": "light"
     },
     "output_type": "display_data"
    }
   ],
   "source": [
    "analyse_numeric(df, 'ranking')"
   ]
  },
  {
   "cell_type": "code",
   "execution_count": 31,
   "metadata": {},
   "outputs": [],
   "source": [
    "# Удалим грубые выбросы\n",
    "#df=df[df.ranking < 13000]"
   ]
  },
  {
   "cell_type": "code",
   "execution_count": 32,
   "metadata": {},
   "outputs": [],
   "source": [
    "# Создадим новый признак путем нормирования ranking к количеству ресторанов в городе\n",
    "df['ranking_norm_rests'] = df.ranking / df.rests"
   ]
  },
  {
   "cell_type": "markdown",
   "metadata": {},
   "source": [
    "### rating"
   ]
  },
  {
   "cell_type": "code",
   "execution_count": 33,
   "metadata": {
    "scrolled": true
   },
   "outputs": [
    {
     "name": "stdout",
     "output_type": "stream",
     "text": [
      "Количество: 40000, Среднее: 3.993, Стандартное отклонение: 0.668.\n",
      "Минимум: 1.0, 25-й перцентиль: 3.5, Медиана: 4.0, 75-й перцентиль: 4.5, Максимум: 5.0, IQR: 1.0.\n",
      "Количество пропусков в столбце:  0\n",
      "Границы выбросов: [2.0, 6.0]. Количество выбросов:  340\n"
     ]
    },
    {
     "data": {
      "image/png": "[encoded data removed]",
      "text/plain": [
       "<Figure size 432x288 with 1 Axes>"
      ]
     },
     "metadata": {
      "needs_background": "light"
     },
     "output_type": "display_data"
    }
   ],
   "source": [
    "analyse_numeric(df, 'rating')"
   ]
  },
  {
   "cell_type": "markdown",
   "metadata": {},
   "source": [
    "### price_range"
   ]
  },
  {
   "cell_type": "code",
   "execution_count": 34,
   "metadata": {
    "scrolled": true
   },
   "outputs": [
    {
     "data": {
      "text/plain": [
       "$$ - $$$    18412\n",
       "$            6279\n",
       "$$$$         1423\n",
       "Name: price_range, dtype: int64"
      ]
     },
     "execution_count": 34,
     "metadata": {},
     "output_type": "execute_result"
    }
   ],
   "source": [
    "df.price_range.value_counts()"
   ]
  },
  {
   "cell_type": "code",
   "execution_count": 35,
   "metadata": {},
   "outputs": [],
   "source": [
    "# Либо так:\n",
    "#df['price_range_label'] = df.price_range.apply(lambda x: 1.0 if x=='$' else 2.0 if x=='$$ - $$$' else 5.0 if x=='$$$$' else np.nan)\n",
    "# и заполним медианой по городам\n",
    "#df.price_range_label = df.apply(lambda row: df[df.city==row.city].price_range_label.median() if pd.isna(row.price_range_label) \\\n",
    "#                                                                                     else row.price_range_label, axis=1)\n",
    "\n",
    "# Либо так:\n",
    "df['price_range_label'] = df.price_range.apply(lambda x: 0.0 if pd.isnull(x) else 1.0 if x=='$' else 2.0 if x=='$$ - $$$' else 5.0)"
   ]
  },
  {
   "cell_type": "markdown",
   "metadata": {},
   "source": [
    "### reviews_number"
   ]
  },
  {
   "cell_type": "code",
   "execution_count": 36,
   "metadata": {
    "scrolled": false
   },
   "outputs": [
    {
     "name": "stdout",
     "output_type": "stream",
     "text": [
      "Количество: 37457, Среднее: 124.825, Стандартное отклонение: 295.666.\n",
      "Минимум: 2.0, 25-й перцентиль: 9.0, Медиана: 33.0, 75-й перцентиль: 115.0, Максимум: 9660.0, IQR: 106.0.\n",
      "Количество пропусков в столбце:  2543\n",
      "Границы выбросов: [-150.0, 274.0]. Количество выбросов:  4348\n"
     ]
    },
    {
     "data": {
      "image/png": "[encoded data removed]",
      "text/plain": [
       "<Figure size 432x288 with 1 Axes>"
      ]
     },
     "metadata": {
      "needs_background": "light"
     },
     "output_type": "display_data"
    }
   ],
   "source": [
    "analyse_numeric(df, 'reviews_number')"
   ]
  },
  {
   "cell_type": "code",
   "execution_count": 37,
   "metadata": {
    "scrolled": true
   },
   "outputs": [
    {
     "data": {
      "text/plain": [
       "140"
      ]
     },
     "execution_count": 37,
     "metadata": {},
     "output_type": "execute_result"
    }
   ],
   "source": [
    "len(df[df.reviews_number > 2000])"
   ]
  },
  {
   "cell_type": "code",
   "execution_count": 38,
   "metadata": {},
   "outputs": [],
   "source": [
    "#Удалим грубые выбросы\n",
    "#df=df[df.reviews_number < 2000]"
   ]
  },
  {
   "cell_type": "code",
   "execution_count": 39,
   "metadata": {},
   "outputs": [],
   "source": [
    "#!!! Нужно пробовать одно из двух!!!\n",
    "# Замена пропусков медианой по соответствующему городу\n",
    "#df.reviews_number = df.apply(lambda row: df[df.city==row.city].reviews_number.median() if pd.isna(row.reviews_number) \\\n",
    "#                                                                                     else row.reviews_number, axis=1)\n",
    "\n",
    "# Замена пропусков нулевым значением\n",
    "df.reviews_number.fillna(0, inplace=True)"
   ]
  },
  {
   "cell_type": "code",
   "execution_count": 40,
   "metadata": {},
   "outputs": [],
   "source": [
    "# Нормируем количество отзывов к населению города\n",
    "df['reviews_number_norm'] = df.reviews_number / df.population"
   ]
  },
  {
   "cell_type": "markdown",
   "metadata": {},
   "source": [
    "### reviews"
   ]
  },
  {
   "cell_type": "code",
   "execution_count": 41,
   "metadata": {
    "scrolled": true
   },
   "outputs": [
    {
     "data": {
      "text/plain": [
       "[[], []]                                                                                             6471\n",
       "[['Absolutely authentic and delicious!', 'Wonderful discovery'], ['09/30/2017', '08/04/2016']]          2\n",
       "[['The real codido madrileño'], ['03/31/2017']]                                                         2\n",
       "[['Thursday snack', 'Good value for money & good food!'], ['03/13/2017', '06/20/2016']]                 2\n",
       "[['Sat night', 'Can\\'t even explain.. \"A\" place.. A \"100...'], ['10/22/2017', '05/11/2017']]            2\n",
       "                                                                                                     ... \n",
       "[['Cosy non-profit family cafe', 'Great breakfast buffet'], ['06/17/2017', '09/03/2016']]               1\n",
       "[['Very good and different than other pasta p...', 'Excellent !!'], ['11/10/2017', '11/06/2017']]       1\n",
       "[['A real pleasure to eat there!'], ['06/16/2017']]                                                     1\n",
       "[['Beer yum', 'Good Beer and Snacks'], ['12/02/2017', '09/30/2017']]                                    1\n",
       "[['Avoid', 'Lunch menu very acceptable and reasonably...'], ['07/28/2017', '12/20/2016']]               1\n",
       "Name: reviews, Length: 33516, dtype: int64"
      ]
     },
     "execution_count": 41,
     "metadata": {},
     "output_type": "execute_result"
    }
   ],
   "source": [
    "#pd.DataFrame(df.reviews.value_counts())\n",
    "df.reviews.value_counts()"
   ]
  },
  {
   "cell_type": "code",
   "execution_count": 42,
   "metadata": {},
   "outputs": [
    {
     "data": {
      "text/html": [
       "<div>\n",
       "<style scoped>\n",
       "    .dataframe tbody tr th:only-of-type {\n",
       "        vertical-align: middle;\n",
       "    }\n",
       "\n",
       "    .dataframe tbody tr th {\n",
       "        vertical-align: top;\n",
       "    }\n",
       "\n",
       "    .dataframe thead th {\n",
       "        text-align: right;\n",
       "    }\n",
       "</style>\n",
       "<table border=\"1\" class=\"dataframe\">\n",
       "  <thead>\n",
       "    <tr style=\"text-align: right;\">\n",
       "      <th></th>\n",
       "      <th>reviews</th>\n",
       "      <th>reviews_dates</th>\n",
       "    </tr>\n",
       "  </thead>\n",
       "  <tbody>\n",
       "    <tr>\n",
       "      <th>0</th>\n",
       "      <td>[['Good food at your doorstep', 'A good hotel ...</td>\n",
       "      <td>[12/31/2017, 11/20/2017]</td>\n",
       "    </tr>\n",
       "    <tr>\n",
       "      <th>1</th>\n",
       "      <td>[['Unique cuisine', 'Delicious Nepalese food']...</td>\n",
       "      <td>[07/06/2017, 06/19/2016]</td>\n",
       "    </tr>\n",
       "    <tr>\n",
       "      <th>2</th>\n",
       "      <td>[['Catch up with friends', 'Not exceptional'],...</td>\n",
       "      <td>[01/08/2018, 01/06/2018]</td>\n",
       "    </tr>\n",
       "    <tr>\n",
       "      <th>3</th>\n",
       "      <td>[[], []]</td>\n",
       "      <td>[]</td>\n",
       "    </tr>\n",
       "    <tr>\n",
       "      <th>4</th>\n",
       "      <td>[['Best place to try a Bavarian food', 'Nice b...</td>\n",
       "      <td>[11/18/2017, 02/19/2017]</td>\n",
       "    </tr>\n",
       "  </tbody>\n",
       "</table>\n",
       "</div>"
      ],
      "text/plain": [
       "                                             reviews             reviews_dates\n",
       "0  [['Good food at your doorstep', 'A good hotel ...  [12/31/2017, 11/20/2017]\n",
       "1  [['Unique cuisine', 'Delicious Nepalese food']...  [07/06/2017, 06/19/2016]\n",
       "2  [['Catch up with friends', 'Not exceptional'],...  [01/08/2018, 01/06/2018]\n",
       "3                                           [[], []]                        []\n",
       "4  [['Best place to try a Bavarian food', 'Nice b...  [11/18/2017, 02/19/2017]"
      ]
     },
     "execution_count": 42,
     "metadata": {},
     "output_type": "execute_result"
    }
   ],
   "source": [
    "df['reviews_dates'] = df['reviews'].str.findall('\\d+/\\d+/\\d+')\n",
    "df[['reviews', 'reviews_dates']].head()"
   ]
  },
  {
   "cell_type": "code",
   "execution_count": 43,
   "metadata": {},
   "outputs": [
    {
     "data": {
      "text/plain": [
       "0        12/31/2017\n",
       "1        07/06/2017\n",
       "2        01/08/2018\n",
       "3              None\n",
       "4        11/18/2017\n",
       "            ...    \n",
       "39995    12/16/2017\n",
       "39996    12/21/2017\n",
       "39997    11/03/2016\n",
       "39998    07/11/2017\n",
       "39999    01/31/2016\n",
       "Name: review1_date, Length: 40000, dtype: object"
      ]
     },
     "execution_count": 43,
     "metadata": {},
     "output_type": "execute_result"
    }
   ],
   "source": [
    "df['review1_date'] = df.reviews_dates.apply(lambda x: x[0] if len(x)>0 else None)\n",
    "df['review1_date']"
   ]
  },
  {
   "cell_type": "code",
   "execution_count": 44,
   "metadata": {},
   "outputs": [
    {
     "data": {
      "text/html": [
       "<div>\n",
       "<style scoped>\n",
       "    .dataframe tbody tr th:only-of-type {\n",
       "        vertical-align: middle;\n",
       "    }\n",
       "\n",
       "    .dataframe tbody tr th {\n",
       "        vertical-align: top;\n",
       "    }\n",
       "\n",
       "    .dataframe thead th {\n",
       "        text-align: right;\n",
       "    }\n",
       "</style>\n",
       "<table border=\"1\" class=\"dataframe\">\n",
       "  <thead>\n",
       "    <tr style=\"text-align: right;\">\n",
       "      <th></th>\n",
       "      <th>restaurant_id</th>\n",
       "      <th>city</th>\n",
       "      <th>cuisine_style</th>\n",
       "      <th>ranking</th>\n",
       "      <th>rating</th>\n",
       "      <th>price_range</th>\n",
       "      <th>reviews_number</th>\n",
       "      <th>reviews</th>\n",
       "      <th>url_ta</th>\n",
       "      <th>id_ta</th>\n",
       "      <th>...</th>\n",
       "      <th>Vienna</th>\n",
       "      <th>Warsaw</th>\n",
       "      <th>Zurich</th>\n",
       "      <th>cuisine</th>\n",
       "      <th>cuisines_number</th>\n",
       "      <th>ranking_norm_rests</th>\n",
       "      <th>price_range_label</th>\n",
       "      <th>reviews_number_norm</th>\n",
       "      <th>reviews_dates</th>\n",
       "      <th>review1_date</th>\n",
       "    </tr>\n",
       "  </thead>\n",
       "  <tbody>\n",
       "    <tr>\n",
       "      <th>23348</th>\n",
       "      <td>id_450</td>\n",
       "      <td>Geneva</td>\n",
       "      <td>['French', 'European']</td>\n",
       "      <td>453.0</td>\n",
       "      <td>4.0</td>\n",
       "      <td>$$ - $$$</td>\n",
       "      <td>48.0</td>\n",
       "      <td>[['lunch 29/9/2016', 'Unplanned Great Dinner']...</td>\n",
       "      <td>/Restaurant_Review-g188057-d2706773-Reviews-Le...</td>\n",
       "      <td>d2706773</td>\n",
       "      <td>...</td>\n",
       "      <td>0</td>\n",
       "      <td>0</td>\n",
       "      <td>0</td>\n",
       "      <td>['French', 'European']</td>\n",
       "      <td>2.0</td>\n",
       "      <td>0.941788</td>\n",
       "      <td>2.0</td>\n",
       "      <td>0.000238</td>\n",
       "      <td>[29/9/2016, 09/30/2016, 08/25/2016]</td>\n",
       "      <td>29/9/2016</td>\n",
       "    </tr>\n",
       "  </tbody>\n",
       "</table>\n",
       "<p>1 rows × 51 columns</p>\n",
       "</div>"
      ],
      "text/plain": [
       "      restaurant_id    city           cuisine_style  ranking  rating  \\\n",
       "23348        id_450  Geneva  ['French', 'European']    453.0     4.0   \n",
       "\n",
       "      price_range  reviews_number  \\\n",
       "23348    $$ - $$$            48.0   \n",
       "\n",
       "                                                 reviews  \\\n",
       "23348  [['lunch 29/9/2016', 'Unplanned Great Dinner']...   \n",
       "\n",
       "                                                  url_ta     id_ta  ...  \\\n",
       "23348  /Restaurant_Review-g188057-d2706773-Reviews-Le...  d2706773  ...   \n",
       "\n",
       "       Vienna  Warsaw  Zurich                 cuisine  cuisines_number  \\\n",
       "23348       0       0       0  ['French', 'European']              2.0   \n",
       "\n",
       "       ranking_norm_rests  price_range_label  reviews_number_norm  \\\n",
       "23348            0.941788                2.0             0.000238   \n",
       "\n",
       "                             reviews_dates  review1_date  \n",
       "23348  [29/9/2016, 09/30/2016, 08/25/2016]     29/9/2016  \n",
       "\n",
       "[1 rows x 51 columns]"
      ]
     },
     "execution_count": 44,
     "metadata": {},
     "output_type": "execute_result"
    }
   ],
   "source": [
    "#На этом значении в следующей ячейке возникает ошибка\n",
    "df[df['review1_date']=='29/9/2016']"
   ]
  },
  {
   "cell_type": "code",
   "execution_count": 45,
   "metadata": {},
   "outputs": [],
   "source": [
    "#df[df['review1_date']=='29/9/2016'].review1_date = '09/29/2016'\n",
    "df.loc[23348, 'review1_date'] = '09/29/2016'"
   ]
  },
  {
   "cell_type": "code",
   "execution_count": 46,
   "metadata": {},
   "outputs": [
    {
     "data": {
      "text/plain": [
       "0       2017-12-31\n",
       "1       2017-07-06\n",
       "2       2018-01-08\n",
       "3              NaT\n",
       "4       2017-11-18\n",
       "           ...    \n",
       "39995   2017-12-16\n",
       "39996   2017-12-21\n",
       "39997   2016-11-03\n",
       "39998   2017-07-11\n",
       "39999   2016-01-31\n",
       "Name: review1_date_d, Length: 40000, dtype: datetime64[ns]"
      ]
     },
     "execution_count": 46,
     "metadata": {},
     "output_type": "execute_result"
    }
   ],
   "source": [
    "df['review1_date_d'] = df.review1_date.apply(lambda x: None if pd.isna(x) else datetime.strptime(x, '%m/%d/%Y'))\n",
    "df['review1_date_d']"
   ]
  },
  {
   "cell_type": "code",
   "execution_count": 47,
   "metadata": {},
   "outputs": [
    {
     "data": {
      "text/plain": [
       "0        11/20/2017\n",
       "1        06/19/2016\n",
       "2        01/06/2018\n",
       "3              None\n",
       "4        02/19/2017\n",
       "            ...    \n",
       "39995    11/12/2017\n",
       "39996    12/12/2017\n",
       "39997    04/12/2008\n",
       "39998    06/18/2017\n",
       "39999    07/04/2012\n",
       "Name: review2_date, Length: 40000, dtype: object"
      ]
     },
     "execution_count": 47,
     "metadata": {},
     "output_type": "execute_result"
    }
   ],
   "source": [
    "df['review2_date'] = df.reviews_dates.apply(lambda x: x[1] if len(x)>1 else None)\n",
    "df['review2_date']"
   ]
  },
  {
   "cell_type": "code",
   "execution_count": 48,
   "metadata": {
    "scrolled": true
   },
   "outputs": [
    {
     "data": {
      "text/plain": [
       "0       2017-11-20\n",
       "1       2016-06-19\n",
       "2       2018-01-06\n",
       "3              NaT\n",
       "4       2017-02-19\n",
       "           ...    \n",
       "39995   2017-11-12\n",
       "39996   2017-12-12\n",
       "39997   2008-04-12\n",
       "39998   2017-06-18\n",
       "39999   2012-07-04\n",
       "Name: review2_date_d, Length: 40000, dtype: datetime64[ns]"
      ]
     },
     "execution_count": 48,
     "metadata": {},
     "output_type": "execute_result"
    }
   ],
   "source": [
    "df['review2_date_d'] = df.reviews_dates.apply(lambda x: datetime.strptime(x[1], '%m/%d/%Y') if len(x)>1 else None)\n",
    "df['review2_date_d']"
   ]
  },
  {
   "cell_type": "code",
   "execution_count": 49,
   "metadata": {},
   "outputs": [
    {
     "data": {
      "text/plain": [
       "Timestamp('2018-02-26 00:00:00')"
      ]
     },
     "execution_count": 49,
     "metadata": {},
     "output_type": "execute_result"
    }
   ],
   "source": [
    "df['review1_date_d'].max()"
   ]
  },
  {
   "cell_type": "code",
   "execution_count": 50,
   "metadata": {},
   "outputs": [
    {
     "data": {
      "text/plain": [
       "Timestamp('2018-02-26 00:00:00')"
      ]
     },
     "execution_count": 50,
     "metadata": {},
     "output_type": "execute_result"
    }
   ],
   "source": [
    "df['review2_date_d'].max()"
   ]
  },
  {
   "cell_type": "code",
   "execution_count": 51,
   "metadata": {
    "scrolled": true
   },
   "outputs": [
    {
     "data": {
      "text/plain": [
       "3207.0"
      ]
     },
     "execution_count": 51,
     "metadata": {},
     "output_type": "execute_result"
    }
   ],
   "source": [
    "#datetime(2019, 4, 1, 18, 59, 44) - так можно создать DateTime\n",
    "(df.review1_date_d - df.review2_date_d).dt.days.max()"
   ]
  },
  {
   "cell_type": "code",
   "execution_count": 52,
   "metadata": {},
   "outputs": [
    {
     "data": {
      "text/plain": [
       "0          41.0\n",
       "1         382.0\n",
       "2           2.0\n",
       "3           NaN\n",
       "4         272.0\n",
       "          ...  \n",
       "39995      34.0\n",
       "39996       9.0\n",
       "39997    3127.0\n",
       "39998      23.0\n",
       "39999    1306.0\n",
       "Name: days_between, Length: 40000, dtype: float64"
      ]
     },
     "execution_count": 52,
     "metadata": {},
     "output_type": "execute_result"
    }
   ],
   "source": [
    "# Создадим новый признак - количество дней между отзывами\n",
    "df['days_between'] = (df.review1_date_d - df.review2_date_d).dt.days\n",
    "df['days_between']"
   ]
  },
  {
   "cell_type": "code",
   "execution_count": 53,
   "metadata": {},
   "outputs": [
    {
     "name": "stdout",
     "output_type": "stream",
     "text": [
      "Количество: 28973, Среднее: 124.079, Стандартное отклонение: 231.519.\n",
      "Минимум: -362.0, 25-й перцентиль: 13.0, Медиана: 55.0, 75-й перцентиль: 156.0, Максимум: 3207.0, IQR: 143.0.\n",
      "Количество пропусков в столбце:  11027\n",
      "Границы выбросов: [-201.5, 370.5]. Количество выбросов:  3070\n"
     ]
    },
    {
     "data": {
      "image/png": "[encoded data removed]",
      "text/plain": [
       "<Figure size 432x288 with 1 Axes>"
      ]
     },
     "metadata": {
      "needs_background": "light"
     },
     "output_type": "display_data"
    }
   ],
   "source": [
    "analyse_numeric(df, 'days_between')"
   ]
  },
  {
   "cell_type": "code",
   "execution_count": 54,
   "metadata": {},
   "outputs": [
    {
     "data": {
      "text/plain": [
       "382"
      ]
     },
     "execution_count": 54,
     "metadata": {},
     "output_type": "execute_result"
    }
   ],
   "source": [
    "len(df[df.days_between > 1000])"
   ]
  },
  {
   "cell_type": "code",
   "execution_count": 55,
   "metadata": {},
   "outputs": [
    {
     "data": {
      "text/html": [
       "<div>\n",
       "<style scoped>\n",
       "    .dataframe tbody tr th:only-of-type {\n",
       "        vertical-align: middle;\n",
       "    }\n",
       "\n",
       "    .dataframe tbody tr th {\n",
       "        vertical-align: top;\n",
       "    }\n",
       "\n",
       "    .dataframe thead th {\n",
       "        text-align: right;\n",
       "    }\n",
       "</style>\n",
       "<table border=\"1\" class=\"dataframe\">\n",
       "  <thead>\n",
       "    <tr style=\"text-align: right;\">\n",
       "      <th></th>\n",
       "      <th>restaurant_id</th>\n",
       "      <th>city</th>\n",
       "      <th>cuisine_style</th>\n",
       "      <th>ranking</th>\n",
       "      <th>rating</th>\n",
       "      <th>price_range</th>\n",
       "      <th>reviews_number</th>\n",
       "      <th>reviews</th>\n",
       "      <th>url_ta</th>\n",
       "      <th>id_ta</th>\n",
       "      <th>...</th>\n",
       "      <th>cuisines_number</th>\n",
       "      <th>ranking_norm_rests</th>\n",
       "      <th>price_range_label</th>\n",
       "      <th>reviews_number_norm</th>\n",
       "      <th>reviews_dates</th>\n",
       "      <th>review1_date</th>\n",
       "      <th>review1_date_d</th>\n",
       "      <th>review2_date</th>\n",
       "      <th>review2_date_d</th>\n",
       "      <th>days_between</th>\n",
       "    </tr>\n",
       "  </thead>\n",
       "  <tbody>\n",
       "    <tr>\n",
       "      <th>914</th>\n",
       "      <td>id_12273</td>\n",
       "      <td>London</td>\n",
       "      <td>['Bar', 'Grill', 'Pub']</td>\n",
       "      <td>12283.0</td>\n",
       "      <td>4.5</td>\n",
       "      <td>NaN</td>\n",
       "      <td>2.0</td>\n",
       "      <td>[['Love these basic-traditional-tasty-but-ugl....</td>\n",
       "      <td>/Restaurant_Review-g186338-d1044726-Reviews-To...</td>\n",
       "      <td>d1044726</td>\n",
       "      <td>...</td>\n",
       "      <td>3.0</td>\n",
       "      <td>2.133577</td>\n",
       "      <td>0.0</td>\n",
       "      <td>2.149609e-07</td>\n",
       "      <td>[07/21/2017, 11/28/2011]</td>\n",
       "      <td>07/21/2017</td>\n",
       "      <td>2017-07-21</td>\n",
       "      <td>11/28/2011</td>\n",
       "      <td>2011-11-28</td>\n",
       "      <td>2062.0</td>\n",
       "    </tr>\n",
       "    <tr>\n",
       "      <th>2028</th>\n",
       "      <td>id_9573</td>\n",
       "      <td>London</td>\n",
       "      <td>['Indian']</td>\n",
       "      <td>9582.0</td>\n",
       "      <td>4.0</td>\n",
       "      <td>$$ - $$$</td>\n",
       "      <td>2.0</td>\n",
       "      <td>[['Great local curry', 'Love their black bean ...</td>\n",
       "      <td>/Restaurant_Review-g186338-d788235-Reviews-Ush...</td>\n",
       "      <td>d788235</td>\n",
       "      <td>...</td>\n",
       "      <td>1.0</td>\n",
       "      <td>1.664409</td>\n",
       "      <td>2.0</td>\n",
       "      <td>2.149609e-07</td>\n",
       "      <td>[10/27/2016, 07/01/2008]</td>\n",
       "      <td>10/27/2016</td>\n",
       "      <td>2016-10-27</td>\n",
       "      <td>07/01/2008</td>\n",
       "      <td>2008-07-01</td>\n",
       "      <td>3040.0</td>\n",
       "    </tr>\n",
       "    <tr>\n",
       "      <th>3324</th>\n",
       "      <td>id_5427</td>\n",
       "      <td>Paris</td>\n",
       "      <td>['Asian', 'Korean']</td>\n",
       "      <td>5428.0</td>\n",
       "      <td>4.5</td>\n",
       "      <td>NaN</td>\n",
       "      <td>11.0</td>\n",
       "      <td>[['A little Korean delight in Paris', 'top fre...</td>\n",
       "      <td>/Restaurant_Review-g187147-d778850-Reviews-Mis...</td>\n",
       "      <td>d778850</td>\n",
       "      <td>...</td>\n",
       "      <td>2.0</td>\n",
       "      <td>1.108434</td>\n",
       "      <td>0.0</td>\n",
       "      <td>5.138924e-06</td>\n",
       "      <td>[08/08/2017, 02/15/2011]</td>\n",
       "      <td>08/08/2017</td>\n",
       "      <td>2017-08-08</td>\n",
       "      <td>02/15/2011</td>\n",
       "      <td>2011-02-15</td>\n",
       "      <td>2366.0</td>\n",
       "    </tr>\n",
       "    <tr>\n",
       "      <th>3380</th>\n",
       "      <td>id_13209</td>\n",
       "      <td>Paris</td>\n",
       "      <td>['French']</td>\n",
       "      <td>13211.0</td>\n",
       "      <td>3.0</td>\n",
       "      <td>$$ - $$$</td>\n",
       "      <td>26.0</td>\n",
       "      <td>[['Happy hour drinks and meal', 'Very good'], ...</td>\n",
       "      <td>/Restaurant_Review-g187147-d1069475-Reviews-Au...</td>\n",
       "      <td>d1069475</td>\n",
       "      <td>...</td>\n",
       "      <td>1.0</td>\n",
       "      <td>2.697774</td>\n",
       "      <td>2.0</td>\n",
       "      <td>1.214655e-05</td>\n",
       "      <td>[08/31/2016, 09/25/2008]</td>\n",
       "      <td>08/31/2016</td>\n",
       "      <td>2016-08-31</td>\n",
       "      <td>09/25/2008</td>\n",
       "      <td>2008-09-25</td>\n",
       "      <td>2897.0</td>\n",
       "    </tr>\n",
       "    <tr>\n",
       "      <th>6958</th>\n",
       "      <td>id_1740</td>\n",
       "      <td>Budapest</td>\n",
       "      <td>1</td>\n",
       "      <td>1741.0</td>\n",
       "      <td>4.0</td>\n",
       "      <td>NaN</td>\n",
       "      <td>8.0</td>\n",
       "      <td>[['Lovely outside setting with good service', ...</td>\n",
       "      <td>/Restaurant_Review-g274887-d696012-Reviews-Art...</td>\n",
       "      <td>d696012</td>\n",
       "      <td>...</td>\n",
       "      <td>1.0</td>\n",
       "      <td>2.133578</td>\n",
       "      <td>0.0</td>\n",
       "      <td>4.565465e-06</td>\n",
       "      <td>[08/23/2016, 05/02/2008]</td>\n",
       "      <td>08/23/2016</td>\n",
       "      <td>2016-08-23</td>\n",
       "      <td>05/02/2008</td>\n",
       "      <td>2008-05-02</td>\n",
       "      <td>3035.0</td>\n",
       "    </tr>\n",
       "    <tr>\n",
       "      <th>7990</th>\n",
       "      <td>id_10021</td>\n",
       "      <td>Paris</td>\n",
       "      <td>['Japanese', 'Barbecue', 'Sushi']</td>\n",
       "      <td>10023.0</td>\n",
       "      <td>4.0</td>\n",
       "      <td>$</td>\n",
       "      <td>21.0</td>\n",
       "      <td>[['Incredible buffet!', 'Used to be great, but...</td>\n",
       "      <td>/Restaurant_Review-g187147-d805046-Reviews-Yam...</td>\n",
       "      <td>d805046</td>\n",
       "      <td>...</td>\n",
       "      <td>3.0</td>\n",
       "      <td>2.046763</td>\n",
       "      <td>1.0</td>\n",
       "      <td>9.810673e-06</td>\n",
       "      <td>[10/02/2016, 12/22/2007]</td>\n",
       "      <td>10/02/2016</td>\n",
       "      <td>2016-10-02</td>\n",
       "      <td>12/22/2007</td>\n",
       "      <td>2007-12-22</td>\n",
       "      <td>3207.0</td>\n",
       "    </tr>\n",
       "    <tr>\n",
       "      <th>8356</th>\n",
       "      <td>id_11032</td>\n",
       "      <td>Paris</td>\n",
       "      <td>['French', 'Cafe']</td>\n",
       "      <td>11034.0</td>\n",
       "      <td>3.5</td>\n",
       "      <td>$$ - $$$</td>\n",
       "      <td>5.0</td>\n",
       "      <td>[['Very pleasant staff', 'Stylish Café&amp;Pub, i ...</td>\n",
       "      <td>/Restaurant_Review-g187147-d794693-Reviews-Riv...</td>\n",
       "      <td>d794693</td>\n",
       "      <td>...</td>\n",
       "      <td>2.0</td>\n",
       "      <td>2.253216</td>\n",
       "      <td>2.0</td>\n",
       "      <td>2.335874e-06</td>\n",
       "      <td>[06/28/2016, 01/06/2008]</td>\n",
       "      <td>06/28/2016</td>\n",
       "      <td>2016-06-28</td>\n",
       "      <td>01/06/2008</td>\n",
       "      <td>2008-01-06</td>\n",
       "      <td>3096.0</td>\n",
       "    </tr>\n",
       "    <tr>\n",
       "      <th>9529</th>\n",
       "      <td>id_4970</td>\n",
       "      <td>Milan</td>\n",
       "      <td>['Seafood']</td>\n",
       "      <td>4973.0</td>\n",
       "      <td>3.5</td>\n",
       "      <td>NaN</td>\n",
       "      <td>18.0</td>\n",
       "      <td>[['Milanese dinner', 'Excellent food in a very...</td>\n",
       "      <td>/Restaurant_Review-g187849-d696602-Reviews-Il_...</td>\n",
       "      <td>d696602</td>\n",
       "      <td>...</td>\n",
       "      <td>1.0</td>\n",
       "      <td>2.331458</td>\n",
       "      <td>0.0</td>\n",
       "      <td>1.281833e-05</td>\n",
       "      <td>[02/13/2017, 08/05/2011]</td>\n",
       "      <td>02/13/2017</td>\n",
       "      <td>2017-02-13</td>\n",
       "      <td>08/05/2011</td>\n",
       "      <td>2011-08-05</td>\n",
       "      <td>2019.0</td>\n",
       "    </tr>\n",
       "    <tr>\n",
       "      <th>9686</th>\n",
       "      <td>id_388</td>\n",
       "      <td>Ljubljana</td>\n",
       "      <td>['Pizza']</td>\n",
       "      <td>389.0</td>\n",
       "      <td>3.5</td>\n",
       "      <td>$$ - $$$</td>\n",
       "      <td>6.0</td>\n",
       "      <td>[['very Slovenian dinning', 'poor choice for p...</td>\n",
       "      <td>/Restaurant_Review-g274873-d1117744-Reviews-Su...</td>\n",
       "      <td>d1117744</td>\n",
       "      <td>...</td>\n",
       "      <td>1.0</td>\n",
       "      <td>2.125683</td>\n",
       "      <td>2.0</td>\n",
       "      <td>2.047865e-05</td>\n",
       "      <td>[10/19/2017, 12/25/2011]</td>\n",
       "      <td>10/19/2017</td>\n",
       "      <td>2017-10-19</td>\n",
       "      <td>12/25/2011</td>\n",
       "      <td>2011-12-25</td>\n",
       "      <td>2125.0</td>\n",
       "    </tr>\n",
       "    <tr>\n",
       "      <th>10353</th>\n",
       "      <td>id_12277</td>\n",
       "      <td>London</td>\n",
       "      <td>['Spanish']</td>\n",
       "      <td>12287.0</td>\n",
       "      <td>4.0</td>\n",
       "      <td>$$ - $$$</td>\n",
       "      <td>7.0</td>\n",
       "      <td>[['A little little piece of Spain in london', ...</td>\n",
       "      <td>/Restaurant_Review-g186338-d1909726-Reviews-Ca...</td>\n",
       "      <td>d1909726</td>\n",
       "      <td>...</td>\n",
       "      <td>1.0</td>\n",
       "      <td>2.134271</td>\n",
       "      <td>2.0</td>\n",
       "      <td>7.523633e-07</td>\n",
       "      <td>[12/10/2016, 01/20/2011]</td>\n",
       "      <td>12/10/2016</td>\n",
       "      <td>2016-12-10</td>\n",
       "      <td>01/20/2011</td>\n",
       "      <td>2011-01-20</td>\n",
       "      <td>2151.0</td>\n",
       "    </tr>\n",
       "    <tr>\n",
       "      <th>10997</th>\n",
       "      <td>id_11817</td>\n",
       "      <td>Paris</td>\n",
       "      <td>['Chinese', 'Japanese', 'Thai']</td>\n",
       "      <td>11819.0</td>\n",
       "      <td>3.0</td>\n",
       "      <td>$$ - $$$</td>\n",
       "      <td>62.0</td>\n",
       "      <td>[[\"Crowded, don't go there when they host wed....</td>\n",
       "      <td>/Restaurant_Review-g187147-d805286-Reviews-Chi...</td>\n",
       "      <td>d805286</td>\n",
       "      <td>...</td>\n",
       "      <td>3.0</td>\n",
       "      <td>2.413518</td>\n",
       "      <td>2.0</td>\n",
       "      <td>2.896484e-05</td>\n",
       "      <td>[10/26/2016, 03/25/2008]</td>\n",
       "      <td>10/26/2016</td>\n",
       "      <td>2016-10-26</td>\n",
       "      <td>03/25/2008</td>\n",
       "      <td>2008-03-25</td>\n",
       "      <td>3137.0</td>\n",
       "    </tr>\n",
       "    <tr>\n",
       "      <th>11140</th>\n",
       "      <td>id_368</td>\n",
       "      <td>Luxembourg</td>\n",
       "      <td>['Italian']</td>\n",
       "      <td>369.0</td>\n",
       "      <td>5.0</td>\n",
       "      <td>NaN</td>\n",
       "      <td>2.0</td>\n",
       "      <td>[[\"Probably the best Italian restaurant I've.....</td>\n",
       "      <td>/Restaurant_Review-g190356-d743871-Reviews-Gri...</td>\n",
       "      <td>d743871</td>\n",
       "      <td>...</td>\n",
       "      <td>1.0</td>\n",
       "      <td>1.757143</td>\n",
       "      <td>0.0</td>\n",
       "      <td>3.257891e-06</td>\n",
       "      <td>[12/28/2015, 11/14/2007]</td>\n",
       "      <td>12/28/2015</td>\n",
       "      <td>2015-12-28</td>\n",
       "      <td>11/14/2007</td>\n",
       "      <td>2007-11-14</td>\n",
       "      <td>2966.0</td>\n",
       "    </tr>\n",
       "    <tr>\n",
       "      <th>11776</th>\n",
       "      <td>id_1875</td>\n",
       "      <td>Hamburg</td>\n",
       "      <td>1</td>\n",
       "      <td>1878.0</td>\n",
       "      <td>4.5</td>\n",
       "      <td>NaN</td>\n",
       "      <td>3.0</td>\n",
       "      <td>[['VIVERE Restaurant - Excellent Italian cuis....</td>\n",
       "      <td>/Restaurant_Review-g187331-d1349279-Reviews-Pa...</td>\n",
       "      <td>d1349279</td>\n",
       "      <td>...</td>\n",
       "      <td>1.0</td>\n",
       "      <td>1.978925</td>\n",
       "      <td>0.0</td>\n",
       "      <td>1.629391e-06</td>\n",
       "      <td>[01/31/2016, 04/18/2010]</td>\n",
       "      <td>01/31/2016</td>\n",
       "      <td>2016-01-31</td>\n",
       "      <td>04/18/2010</td>\n",
       "      <td>2010-04-18</td>\n",
       "      <td>2114.0</td>\n",
       "    </tr>\n",
       "    <tr>\n",
       "      <th>11875</th>\n",
       "      <td>id_1398</td>\n",
       "      <td>Athens</td>\n",
       "      <td>1</td>\n",
       "      <td>1400.0</td>\n",
       "      <td>4.0</td>\n",
       "      <td>NaN</td>\n",
       "      <td>4.0</td>\n",
       "      <td>[['Come in a warm evening', 'Old time classic ...</td>\n",
       "      <td>/Restaurant_Review-g189400-d1034216-Reviews-Mo...</td>\n",
       "      <td>d1034216</td>\n",
       "      <td>...</td>\n",
       "      <td>1.0</td>\n",
       "      <td>2.229299</td>\n",
       "      <td>0.0</td>\n",
       "      <td>6.023679e-06</td>\n",
       "      <td>[03/17/2015, 08/04/2009]</td>\n",
       "      <td>03/17/2015</td>\n",
       "      <td>2015-03-17</td>\n",
       "      <td>08/04/2009</td>\n",
       "      <td>2009-08-04</td>\n",
       "      <td>2051.0</td>\n",
       "    </tr>\n",
       "    <tr>\n",
       "      <th>12559</th>\n",
       "      <td>id_1079</td>\n",
       "      <td>Zurich</td>\n",
       "      <td>1</td>\n",
       "      <td>1084.0</td>\n",
       "      <td>4.5</td>\n",
       "      <td>NaN</td>\n",
       "      <td>11.0</td>\n",
       "      <td>[['Dinner with my wife', 'simply the best !!!!...</td>\n",
       "      <td>/Restaurant_Review-g188113-d1019785-Reviews-Re...</td>\n",
       "      <td>d1019785</td>\n",
       "      <td>...</td>\n",
       "      <td>1.0</td>\n",
       "      <td>2.014870</td>\n",
       "      <td>0.0</td>\n",
       "      <td>2.648260e-05</td>\n",
       "      <td>[06/27/2016, 06/06/2008]</td>\n",
       "      <td>06/27/2016</td>\n",
       "      <td>2016-06-27</td>\n",
       "      <td>06/06/2008</td>\n",
       "      <td>2008-06-06</td>\n",
       "      <td>2943.0</td>\n",
       "    </tr>\n",
       "    <tr>\n",
       "      <th>14101</th>\n",
       "      <td>id_981</td>\n",
       "      <td>Krakow</td>\n",
       "      <td>['European']</td>\n",
       "      <td>982.0</td>\n",
       "      <td>4.5</td>\n",
       "      <td>NaN</td>\n",
       "      <td>3.0</td>\n",
       "      <td>[['4 days in Krakow', 'I love U Pollera. Same ...</td>\n",
       "      <td>/Restaurant_Review-g274772-d1045657-Reviews-U_...</td>\n",
       "      <td>d1045657</td>\n",
       "      <td>...</td>\n",
       "      <td>1.0</td>\n",
       "      <td>2.216704</td>\n",
       "      <td>0.0</td>\n",
       "      <td>3.850523e-06</td>\n",
       "      <td>[07/25/2016, 05/07/2010]</td>\n",
       "      <td>07/25/2016</td>\n",
       "      <td>2016-07-25</td>\n",
       "      <td>05/07/2010</td>\n",
       "      <td>2010-05-07</td>\n",
       "      <td>2271.0</td>\n",
       "    </tr>\n",
       "    <tr>\n",
       "      <th>14828</th>\n",
       "      <td>id_4990</td>\n",
       "      <td>Barcelona</td>\n",
       "      <td>['Chinese']</td>\n",
       "      <td>4991.0</td>\n",
       "      <td>3.5</td>\n",
       "      <td>NaN</td>\n",
       "      <td>4.0</td>\n",
       "      <td>[['Very Nice Food', \"It's okay, nothing to wri...</td>\n",
       "      <td>/Restaurant_Review-g187497-d997761-Reviews-Res...</td>\n",
       "      <td>d997761</td>\n",
       "      <td>...</td>\n",
       "      <td>1.0</td>\n",
       "      <td>1.825530</td>\n",
       "      <td>0.0</td>\n",
       "      <td>2.468613e-06</td>\n",
       "      <td>[09/23/2016, 03/26/2010]</td>\n",
       "      <td>09/23/2016</td>\n",
       "      <td>2016-09-23</td>\n",
       "      <td>03/26/2010</td>\n",
       "      <td>2010-03-26</td>\n",
       "      <td>2373.0</td>\n",
       "    </tr>\n",
       "    <tr>\n",
       "      <th>19438</th>\n",
       "      <td>id_1878</td>\n",
       "      <td>Warsaw</td>\n",
       "      <td>['Polish', 'Bar', 'European']</td>\n",
       "      <td>1880.0</td>\n",
       "      <td>4.0</td>\n",
       "      <td>NaN</td>\n",
       "      <td>8.0</td>\n",
       "      <td>[['Great 24 hours pub.', 'home grub'], ['04/15...</td>\n",
       "      <td>/Restaurant_Review-g274856-d788869-Reviews-Caf...</td>\n",
       "      <td>d788869</td>\n",
       "      <td>...</td>\n",
       "      <td>3.0</td>\n",
       "      <td>2.585970</td>\n",
       "      <td>0.0</td>\n",
       "      <td>4.467631e-06</td>\n",
       "      <td>[04/15/2017, 10/25/2008]</td>\n",
       "      <td>04/15/2017</td>\n",
       "      <td>2017-04-15</td>\n",
       "      <td>10/25/2008</td>\n",
       "      <td>2008-10-25</td>\n",
       "      <td>3094.0</td>\n",
       "    </tr>\n",
       "    <tr>\n",
       "      <th>19959</th>\n",
       "      <td>id_3018</td>\n",
       "      <td>Vienna</td>\n",
       "      <td>['Japanese', 'Sushi']</td>\n",
       "      <td>3020.0</td>\n",
       "      <td>4.0</td>\n",
       "      <td>NaN</td>\n",
       "      <td>7.0</td>\n",
       "      <td>[['Mediocre and slow', 'best japanese food in ...</td>\n",
       "      <td>/Restaurant_Review-g190454-d784342-Reviews-Nar...</td>\n",
       "      <td>d784342</td>\n",
       "      <td>...</td>\n",
       "      <td>2.0</td>\n",
       "      <td>2.590051</td>\n",
       "      <td>0.0</td>\n",
       "      <td>3.661609e-06</td>\n",
       "      <td>[02/22/2015, 01/14/2009]</td>\n",
       "      <td>02/22/2015</td>\n",
       "      <td>2015-02-22</td>\n",
       "      <td>01/14/2009</td>\n",
       "      <td>2009-01-14</td>\n",
       "      <td>2230.0</td>\n",
       "    </tr>\n",
       "    <tr>\n",
       "      <th>22340</th>\n",
       "      <td>id_831</td>\n",
       "      <td>Geneva</td>\n",
       "      <td>['Bar', 'Pub']</td>\n",
       "      <td>835.0</td>\n",
       "      <td>4.0</td>\n",
       "      <td>NaN</td>\n",
       "      <td>4.0</td>\n",
       "      <td>[[\"You can't miss it\", 'Alternative cultural p...</td>\n",
       "      <td>/Restaurant_Review-g188057-d1421007-Reviews-L_...</td>\n",
       "      <td>d1421007</td>\n",
       "      <td>...</td>\n",
       "      <td>2.0</td>\n",
       "      <td>1.735967</td>\n",
       "      <td>0.0</td>\n",
       "      <td>1.981984e-05</td>\n",
       "      <td>[06/15/2016, 04/25/2009]</td>\n",
       "      <td>06/15/2016</td>\n",
       "      <td>2016-06-15</td>\n",
       "      <td>04/25/2009</td>\n",
       "      <td>2009-04-25</td>\n",
       "      <td>2608.0</td>\n",
       "    </tr>\n",
       "    <tr>\n",
       "      <th>22506</th>\n",
       "      <td>id_6706</td>\n",
       "      <td>Barcelona</td>\n",
       "      <td>['Italian']</td>\n",
       "      <td>6707.0</td>\n",
       "      <td>3.5</td>\n",
       "      <td>$</td>\n",
       "      <td>22.0</td>\n",
       "      <td>[['Nice local joint', 'Best pizza in Barcelona...</td>\n",
       "      <td>/Restaurant_Review-g187497-d2326330-Reviews-Sa...</td>\n",
       "      <td>d2326330</td>\n",
       "      <td>...</td>\n",
       "      <td>1.0</td>\n",
       "      <td>2.453182</td>\n",
       "      <td>1.0</td>\n",
       "      <td>1.357737e-05</td>\n",
       "      <td>[06/27/2017, 10/16/2011]</td>\n",
       "      <td>06/27/2017</td>\n",
       "      <td>2017-06-27</td>\n",
       "      <td>10/16/2011</td>\n",
       "      <td>2011-10-16</td>\n",
       "      <td>2081.0</td>\n",
       "    </tr>\n",
       "    <tr>\n",
       "      <th>23691</th>\n",
       "      <td>id_6127</td>\n",
       "      <td>Barcelona</td>\n",
       "      <td>1</td>\n",
       "      <td>6128.0</td>\n",
       "      <td>3.5</td>\n",
       "      <td>NaN</td>\n",
       "      <td>31.0</td>\n",
       "      <td>[['Delicious fondue in Barcelona', 'Nice fondu...</td>\n",
       "      <td>/Restaurant_Review-g187497-d781940-Reviews-Mic...</td>\n",
       "      <td>d781940</td>\n",
       "      <td>...</td>\n",
       "      <td>1.0</td>\n",
       "      <td>2.241405</td>\n",
       "      <td>0.0</td>\n",
       "      <td>1.913175e-05</td>\n",
       "      <td>[02/03/2014, 01/09/2008]</td>\n",
       "      <td>02/03/2014</td>\n",
       "      <td>2014-02-03</td>\n",
       "      <td>01/09/2008</td>\n",
       "      <td>2008-01-09</td>\n",
       "      <td>2217.0</td>\n",
       "    </tr>\n",
       "    <tr>\n",
       "      <th>25959</th>\n",
       "      <td>id_4739</td>\n",
       "      <td>Barcelona</td>\n",
       "      <td>1</td>\n",
       "      <td>4740.0</td>\n",
       "      <td>4.5</td>\n",
       "      <td>NaN</td>\n",
       "      <td>4.0</td>\n",
       "      <td>[['Best Kebab in town', 'The best kebab in the...</td>\n",
       "      <td>/Restaurant_Review-g187497-d2186291-Reviews-Ba...</td>\n",
       "      <td>d2186291</td>\n",
       "      <td>...</td>\n",
       "      <td>1.0</td>\n",
       "      <td>1.733723</td>\n",
       "      <td>0.0</td>\n",
       "      <td>2.468613e-06</td>\n",
       "      <td>[04/13/2017, 08/09/2011]</td>\n",
       "      <td>04/13/2017</td>\n",
       "      <td>2017-04-13</td>\n",
       "      <td>08/09/2011</td>\n",
       "      <td>2011-08-09</td>\n",
       "      <td>2074.0</td>\n",
       "    </tr>\n",
       "    <tr>\n",
       "      <th>28026</th>\n",
       "      <td>id_6796</td>\n",
       "      <td>Madrid</td>\n",
       "      <td>['Spanish']</td>\n",
       "      <td>6799.0</td>\n",
       "      <td>3.5</td>\n",
       "      <td>NaN</td>\n",
       "      <td>6.0</td>\n",
       "      <td>[['beautiful Madrid ...sorry !', 'Pleasant tap...</td>\n",
       "      <td>/Restaurant_Review-g187514-d2223840-Reviews-Ve...</td>\n",
       "      <td>d2223840</td>\n",
       "      <td>...</td>\n",
       "      <td>1.0</td>\n",
       "      <td>2.187580</td>\n",
       "      <td>0.0</td>\n",
       "      <td>1.791828e-06</td>\n",
       "      <td>[02/07/2017, 08/15/2011]</td>\n",
       "      <td>02/07/2017</td>\n",
       "      <td>2017-02-07</td>\n",
       "      <td>08/15/2011</td>\n",
       "      <td>2011-08-15</td>\n",
       "      <td>2003.0</td>\n",
       "    </tr>\n",
       "    <tr>\n",
       "      <th>31405</th>\n",
       "      <td>id_1172</td>\n",
       "      <td>Milan</td>\n",
       "      <td>['Italian', 'Pizza', 'Vegetarian Friendly']</td>\n",
       "      <td>1174.0</td>\n",
       "      <td>4.0</td>\n",
       "      <td>$</td>\n",
       "      <td>346.0</td>\n",
       "      <td>[['Well priced pizza', 'Good Local Italian Piz...</td>\n",
       "      <td>/Restaurant_Review-g187849-d2370358-Reviews-Ai...</td>\n",
       "      <td>d2370358</td>\n",
       "      <td>...</td>\n",
       "      <td>3.0</td>\n",
       "      <td>0.550398</td>\n",
       "      <td>1.0</td>\n",
       "      <td>2.463968e-04</td>\n",
       "      <td>[06/03/2017, 11/09/2011]</td>\n",
       "      <td>06/03/2017</td>\n",
       "      <td>2017-06-03</td>\n",
       "      <td>11/09/2011</td>\n",
       "      <td>2011-11-09</td>\n",
       "      <td>2033.0</td>\n",
       "    </tr>\n",
       "    <tr>\n",
       "      <th>32064</th>\n",
       "      <td>id_539</td>\n",
       "      <td>Luxembourg</td>\n",
       "      <td>['Chinese']</td>\n",
       "      <td>540.0</td>\n",
       "      <td>3.5</td>\n",
       "      <td>$$ - $$$</td>\n",
       "      <td>14.0</td>\n",
       "      <td>[['bad!!', 'Best Chinese for me. A lot of choi...</td>\n",
       "      <td>/Restaurant_Review-g190356-d1060871-Reviews-La...</td>\n",
       "      <td>d1060871</td>\n",
       "      <td>...</td>\n",
       "      <td>1.0</td>\n",
       "      <td>2.571429</td>\n",
       "      <td>2.0</td>\n",
       "      <td>2.280524e-05</td>\n",
       "      <td>[03/15/2015, 06/13/2008]</td>\n",
       "      <td>03/15/2015</td>\n",
       "      <td>2015-03-15</td>\n",
       "      <td>06/13/2008</td>\n",
       "      <td>2008-06-13</td>\n",
       "      <td>2466.0</td>\n",
       "    </tr>\n",
       "    <tr>\n",
       "      <th>34381</th>\n",
       "      <td>id_12317</td>\n",
       "      <td>London</td>\n",
       "      <td>['Indian']</td>\n",
       "      <td>12327.0</td>\n",
       "      <td>4.5</td>\n",
       "      <td>$$ - $$$</td>\n",
       "      <td>2.0</td>\n",
       "      <td>[['Amazing indian cuisine', 'probably the best...</td>\n",
       "      <td>/Restaurant_Review-g186338-d949922-Reviews-Nad...</td>\n",
       "      <td>d949922</td>\n",
       "      <td>...</td>\n",
       "      <td>1.0</td>\n",
       "      <td>2.141219</td>\n",
       "      <td>2.0</td>\n",
       "      <td>2.149609e-07</td>\n",
       "      <td>[02/10/2016, 01/23/2008]</td>\n",
       "      <td>02/10/2016</td>\n",
       "      <td>2016-02-10</td>\n",
       "      <td>01/23/2008</td>\n",
       "      <td>2008-01-23</td>\n",
       "      <td>2940.0</td>\n",
       "    </tr>\n",
       "    <tr>\n",
       "      <th>35056</th>\n",
       "      <td>id_2920</td>\n",
       "      <td>Madrid</td>\n",
       "      <td>1</td>\n",
       "      <td>2922.0</td>\n",
       "      <td>4.0</td>\n",
       "      <td>NaN</td>\n",
       "      <td>25.0</td>\n",
       "      <td>[['Such a great place to hang out ...', 'A myt...</td>\n",
       "      <td>/Restaurant_Review-g187514-d1048327-Reviews-Ba...</td>\n",
       "      <td>d1048327</td>\n",
       "      <td>...</td>\n",
       "      <td>1.0</td>\n",
       "      <td>0.940154</td>\n",
       "      <td>0.0</td>\n",
       "      <td>7.465949e-06</td>\n",
       "      <td>[12/09/2015, 04/21/2008]</td>\n",
       "      <td>12/09/2015</td>\n",
       "      <td>2015-12-09</td>\n",
       "      <td>04/21/2008</td>\n",
       "      <td>2008-04-21</td>\n",
       "      <td>2788.0</td>\n",
       "    </tr>\n",
       "    <tr>\n",
       "      <th>35177</th>\n",
       "      <td>id_6592</td>\n",
       "      <td>Barcelona</td>\n",
       "      <td>['Mediterranean', 'Grill']</td>\n",
       "      <td>6593.0</td>\n",
       "      <td>4.5</td>\n",
       "      <td>$</td>\n",
       "      <td>17.0</td>\n",
       "      <td>[['Sunday Picnic Lunch', 'Exceptional and Surp...</td>\n",
       "      <td>/Restaurant_Review-g187497-d1082279-Reviews-La...</td>\n",
       "      <td>d1082279</td>\n",
       "      <td>...</td>\n",
       "      <td>2.0</td>\n",
       "      <td>2.411485</td>\n",
       "      <td>1.0</td>\n",
       "      <td>1.049161e-05</td>\n",
       "      <td>[05/18/2017, 09/27/2010]</td>\n",
       "      <td>05/18/2017</td>\n",
       "      <td>2017-05-18</td>\n",
       "      <td>09/27/2010</td>\n",
       "      <td>2010-09-27</td>\n",
       "      <td>2425.0</td>\n",
       "    </tr>\n",
       "    <tr>\n",
       "      <th>37832</th>\n",
       "      <td>id_7033</td>\n",
       "      <td>Paris</td>\n",
       "      <td>['Japanese']</td>\n",
       "      <td>7034.0</td>\n",
       "      <td>4.0</td>\n",
       "      <td>$$ - $$$</td>\n",
       "      <td>26.0</td>\n",
       "      <td>[['Perfect', 'Small and quaint locals resturan...</td>\n",
       "      <td>/Restaurant_Review-g187147-d793121-Reviews-Le_...</td>\n",
       "      <td>d793121</td>\n",
       "      <td>...</td>\n",
       "      <td>1.0</td>\n",
       "      <td>1.436390</td>\n",
       "      <td>2.0</td>\n",
       "      <td>1.214655e-05</td>\n",
       "      <td>[07/07/2016, 09/24/2009]</td>\n",
       "      <td>07/07/2016</td>\n",
       "      <td>2016-07-07</td>\n",
       "      <td>09/24/2009</td>\n",
       "      <td>2009-09-24</td>\n",
       "      <td>2478.0</td>\n",
       "    </tr>\n",
       "    <tr>\n",
       "      <th>38372</th>\n",
       "      <td>id_11373</td>\n",
       "      <td>Paris</td>\n",
       "      <td>['Japanese', 'Sushi']</td>\n",
       "      <td>11375.0</td>\n",
       "      <td>3.5</td>\n",
       "      <td>$$ - $$$</td>\n",
       "      <td>16.0</td>\n",
       "      <td>[['Good sushi and service.', 'Good sushi, Grea...</td>\n",
       "      <td>/Restaurant_Review-g187147-d1016765-Reviews-To...</td>\n",
       "      <td>d1016765</td>\n",
       "      <td>...</td>\n",
       "      <td>2.0</td>\n",
       "      <td>2.322851</td>\n",
       "      <td>2.0</td>\n",
       "      <td>7.474798e-06</td>\n",
       "      <td>[03/18/2017, 01/16/2010]</td>\n",
       "      <td>03/18/2017</td>\n",
       "      <td>2017-03-18</td>\n",
       "      <td>01/16/2010</td>\n",
       "      <td>2010-01-16</td>\n",
       "      <td>2618.0</td>\n",
       "    </tr>\n",
       "    <tr>\n",
       "      <th>39997</th>\n",
       "      <td>id_1649</td>\n",
       "      <td>Stockholm</td>\n",
       "      <td>['Japanese', 'Sushi']</td>\n",
       "      <td>1652.0</td>\n",
       "      <td>4.5</td>\n",
       "      <td>NaN</td>\n",
       "      <td>4.0</td>\n",
       "      <td>[['Good by swedish standards', 'A hidden jewel...</td>\n",
       "      <td>/Restaurant_Review-g189852-d947615-Reviews-Sus...</td>\n",
       "      <td>d947615</td>\n",
       "      <td>...</td>\n",
       "      <td>2.0</td>\n",
       "      <td>2.014634</td>\n",
       "      <td>0.0</td>\n",
       "      <td>4.106468e-06</td>\n",
       "      <td>[11/03/2016, 04/12/2008]</td>\n",
       "      <td>11/03/2016</td>\n",
       "      <td>2016-11-03</td>\n",
       "      <td>04/12/2008</td>\n",
       "      <td>2008-04-12</td>\n",
       "      <td>3127.0</td>\n",
       "    </tr>\n",
       "  </tbody>\n",
       "</table>\n",
       "<p>32 rows × 55 columns</p>\n",
       "</div>"
      ],
      "text/plain": [
       "      restaurant_id        city                                cuisine_style  \\\n",
       "914        id_12273      London                      ['Bar', 'Grill', 'Pub']   \n",
       "2028        id_9573      London                                   ['Indian']   \n",
       "3324        id_5427       Paris                          ['Asian', 'Korean']   \n",
       "3380       id_13209       Paris                                   ['French']   \n",
       "6958        id_1740    Budapest                                            1   \n",
       "7990       id_10021       Paris            ['Japanese', 'Barbecue', 'Sushi']   \n",
       "8356       id_11032       Paris                           ['French', 'Cafe']   \n",
       "9529        id_4970       Milan                                  ['Seafood']   \n",
       "9686         id_388   Ljubljana                                    ['Pizza']   \n",
       "10353      id_12277      London                                  ['Spanish']   \n",
       "10997      id_11817       Paris              ['Chinese', 'Japanese', 'Thai']   \n",
       "11140        id_368  Luxembourg                                  ['Italian']   \n",
       "11776       id_1875     Hamburg                                            1   \n",
       "11875       id_1398      Athens                                            1   \n",
       "12559       id_1079      Zurich                                            1   \n",
       "14101        id_981      Krakow                                 ['European']   \n",
       "14828       id_4990   Barcelona                                  ['Chinese']   \n",
       "19438       id_1878      Warsaw                ['Polish', 'Bar', 'European']   \n",
       "19959       id_3018      Vienna                        ['Japanese', 'Sushi']   \n",
       "22340        id_831      Geneva                               ['Bar', 'Pub']   \n",
       "22506       id_6706   Barcelona                                  ['Italian']   \n",
       "23691       id_6127   Barcelona                                            1   \n",
       "25959       id_4739   Barcelona                                            1   \n",
       "28026       id_6796      Madrid                                  ['Spanish']   \n",
       "31405       id_1172       Milan  ['Italian', 'Pizza', 'Vegetarian Friendly']   \n",
       "32064        id_539  Luxembourg                                  ['Chinese']   \n",
       "34381      id_12317      London                                   ['Indian']   \n",
       "35056       id_2920      Madrid                                            1   \n",
       "35177       id_6592   Barcelona                   ['Mediterranean', 'Grill']   \n",
       "37832       id_7033       Paris                                 ['Japanese']   \n",
       "38372      id_11373       Paris                        ['Japanese', 'Sushi']   \n",
       "39997       id_1649   Stockholm                        ['Japanese', 'Sushi']   \n",
       "\n",
       "       ranking  rating price_range  reviews_number  \\\n",
       "914    12283.0     4.5         NaN             2.0   \n",
       "2028    9582.0     4.0    $$ - $$$             2.0   \n",
       "3324    5428.0     4.5         NaN            11.0   \n",
       "3380   13211.0     3.0    $$ - $$$            26.0   \n",
       "6958    1741.0     4.0         NaN             8.0   \n",
       "7990   10023.0     4.0           $            21.0   \n",
       "8356   11034.0     3.5    $$ - $$$             5.0   \n",
       "9529    4973.0     3.5         NaN            18.0   \n",
       "9686     389.0     3.5    $$ - $$$             6.0   \n",
       "10353  12287.0     4.0    $$ - $$$             7.0   \n",
       "10997  11819.0     3.0    $$ - $$$            62.0   \n",
       "11140    369.0     5.0         NaN             2.0   \n",
       "11776   1878.0     4.5         NaN             3.0   \n",
       "11875   1400.0     4.0         NaN             4.0   \n",
       "12559   1084.0     4.5         NaN            11.0   \n",
       "14101    982.0     4.5         NaN             3.0   \n",
       "14828   4991.0     3.5         NaN             4.0   \n",
       "19438   1880.0     4.0         NaN             8.0   \n",
       "19959   3020.0     4.0         NaN             7.0   \n",
       "22340    835.0     4.0         NaN             4.0   \n",
       "22506   6707.0     3.5           $            22.0   \n",
       "23691   6128.0     3.5         NaN            31.0   \n",
       "25959   4740.0     4.5         NaN             4.0   \n",
       "28026   6799.0     3.5         NaN             6.0   \n",
       "31405   1174.0     4.0           $           346.0   \n",
       "32064    540.0     3.5    $$ - $$$            14.0   \n",
       "34381  12327.0     4.5    $$ - $$$             2.0   \n",
       "35056   2922.0     4.0         NaN            25.0   \n",
       "35177   6593.0     4.5           $            17.0   \n",
       "37832   7034.0     4.0    $$ - $$$            26.0   \n",
       "38372  11375.0     3.5    $$ - $$$            16.0   \n",
       "39997   1652.0     4.5         NaN             4.0   \n",
       "\n",
       "                                                 reviews  \\\n",
       "914    [['Love these basic-traditional-tasty-but-ugl....   \n",
       "2028   [['Great local curry', 'Love their black bean ...   \n",
       "3324   [['A little Korean delight in Paris', 'top fre...   \n",
       "3380   [['Happy hour drinks and meal', 'Very good'], ...   \n",
       "6958   [['Lovely outside setting with good service', ...   \n",
       "7990   [['Incredible buffet!', 'Used to be great, but...   \n",
       "8356   [['Very pleasant staff', 'Stylish Café&Pub, i ...   \n",
       "9529   [['Milanese dinner', 'Excellent food in a very...   \n",
       "9686   [['very Slovenian dinning', 'poor choice for p...   \n",
       "10353  [['A little little piece of Spain in london', ...   \n",
       "10997  [[\"Crowded, don't go there when they host wed....   \n",
       "11140  [[\"Probably the best Italian restaurant I've.....   \n",
       "11776  [['VIVERE Restaurant - Excellent Italian cuis....   \n",
       "11875  [['Come in a warm evening', 'Old time classic ...   \n",
       "12559  [['Dinner with my wife', 'simply the best !!!!...   \n",
       "14101  [['4 days in Krakow', 'I love U Pollera. Same ...   \n",
       "14828  [['Very Nice Food', \"It's okay, nothing to wri...   \n",
       "19438  [['Great 24 hours pub.', 'home grub'], ['04/15...   \n",
       "19959  [['Mediocre and slow', 'best japanese food in ...   \n",
       "22340  [[\"You can't miss it\", 'Alternative cultural p...   \n",
       "22506  [['Nice local joint', 'Best pizza in Barcelona...   \n",
       "23691  [['Delicious fondue in Barcelona', 'Nice fondu...   \n",
       "25959  [['Best Kebab in town', 'The best kebab in the...   \n",
       "28026  [['beautiful Madrid ...sorry !', 'Pleasant tap...   \n",
       "31405  [['Well priced pizza', 'Good Local Italian Piz...   \n",
       "32064  [['bad!!', 'Best Chinese for me. A lot of choi...   \n",
       "34381  [['Amazing indian cuisine', 'probably the best...   \n",
       "35056  [['Such a great place to hang out ...', 'A myt...   \n",
       "35177  [['Sunday Picnic Lunch', 'Exceptional and Surp...   \n",
       "37832  [['Perfect', 'Small and quaint locals resturan...   \n",
       "38372  [['Good sushi and service.', 'Good sushi, Grea...   \n",
       "39997  [['Good by swedish standards', 'A hidden jewel...   \n",
       "\n",
       "                                                  url_ta     id_ta  ...  \\\n",
       "914    /Restaurant_Review-g186338-d1044726-Reviews-To...  d1044726  ...   \n",
       "2028   /Restaurant_Review-g186338-d788235-Reviews-Ush...   d788235  ...   \n",
       "3324   /Restaurant_Review-g187147-d778850-Reviews-Mis...   d778850  ...   \n",
       "3380   /Restaurant_Review-g187147-d1069475-Reviews-Au...  d1069475  ...   \n",
       "6958   /Restaurant_Review-g274887-d696012-Reviews-Art...   d696012  ...   \n",
       "7990   /Restaurant_Review-g187147-d805046-Reviews-Yam...   d805046  ...   \n",
       "8356   /Restaurant_Review-g187147-d794693-Reviews-Riv...   d794693  ...   \n",
       "9529   /Restaurant_Review-g187849-d696602-Reviews-Il_...   d696602  ...   \n",
       "9686   /Restaurant_Review-g274873-d1117744-Reviews-Su...  d1117744  ...   \n",
       "10353  /Restaurant_Review-g186338-d1909726-Reviews-Ca...  d1909726  ...   \n",
       "10997  /Restaurant_Review-g187147-d805286-Reviews-Chi...   d805286  ...   \n",
       "11140  /Restaurant_Review-g190356-d743871-Reviews-Gri...   d743871  ...   \n",
       "11776  /Restaurant_Review-g187331-d1349279-Reviews-Pa...  d1349279  ...   \n",
       "11875  /Restaurant_Review-g189400-d1034216-Reviews-Mo...  d1034216  ...   \n",
       "12559  /Restaurant_Review-g188113-d1019785-Reviews-Re...  d1019785  ...   \n",
       "14101  /Restaurant_Review-g274772-d1045657-Reviews-U_...  d1045657  ...   \n",
       "14828  /Restaurant_Review-g187497-d997761-Reviews-Res...   d997761  ...   \n",
       "19438  /Restaurant_Review-g274856-d788869-Reviews-Caf...   d788869  ...   \n",
       "19959  /Restaurant_Review-g190454-d784342-Reviews-Nar...   d784342  ...   \n",
       "22340  /Restaurant_Review-g188057-d1421007-Reviews-L_...  d1421007  ...   \n",
       "22506  /Restaurant_Review-g187497-d2326330-Reviews-Sa...  d2326330  ...   \n",
       "23691  /Restaurant_Review-g187497-d781940-Reviews-Mic...   d781940  ...   \n",
       "25959  /Restaurant_Review-g187497-d2186291-Reviews-Ba...  d2186291  ...   \n",
       "28026  /Restaurant_Review-g187514-d2223840-Reviews-Ve...  d2223840  ...   \n",
       "31405  /Restaurant_Review-g187849-d2370358-Reviews-Ai...  d2370358  ...   \n",
       "32064  /Restaurant_Review-g190356-d1060871-Reviews-La...  d1060871  ...   \n",
       "34381  /Restaurant_Review-g186338-d949922-Reviews-Nad...   d949922  ...   \n",
       "35056  /Restaurant_Review-g187514-d1048327-Reviews-Ba...  d1048327  ...   \n",
       "35177  /Restaurant_Review-g187497-d1082279-Reviews-La...  d1082279  ...   \n",
       "37832  /Restaurant_Review-g187147-d793121-Reviews-Le_...   d793121  ...   \n",
       "38372  /Restaurant_Review-g187147-d1016765-Reviews-To...  d1016765  ...   \n",
       "39997  /Restaurant_Review-g189852-d947615-Reviews-Sus...   d947615  ...   \n",
       "\n",
       "       cuisines_number  ranking_norm_rests  price_range_label  \\\n",
       "914                3.0            2.133577                0.0   \n",
       "2028               1.0            1.664409                2.0   \n",
       "3324               2.0            1.108434                0.0   \n",
       "3380               1.0            2.697774                2.0   \n",
       "6958               1.0            2.133578                0.0   \n",
       "7990               3.0            2.046763                1.0   \n",
       "8356               2.0            2.253216                2.0   \n",
       "9529               1.0            2.331458                0.0   \n",
       "9686               1.0            2.125683                2.0   \n",
       "10353              1.0            2.134271                2.0   \n",
       "10997              3.0            2.413518                2.0   \n",
       "11140              1.0            1.757143                0.0   \n",
       "11776              1.0            1.978925                0.0   \n",
       "11875              1.0            2.229299                0.0   \n",
       "12559              1.0            2.014870                0.0   \n",
       "14101              1.0            2.216704                0.0   \n",
       "14828              1.0            1.825530                0.0   \n",
       "19438              3.0            2.585970                0.0   \n",
       "19959              2.0            2.590051                0.0   \n",
       "22340              2.0            1.735967                0.0   \n",
       "22506              1.0            2.453182                1.0   \n",
       "23691              1.0            2.241405                0.0   \n",
       "25959              1.0            1.733723                0.0   \n",
       "28026              1.0            2.187580                0.0   \n",
       "31405              3.0            0.550398                1.0   \n",
       "32064              1.0            2.571429                2.0   \n",
       "34381              1.0            2.141219                2.0   \n",
       "35056              1.0            0.940154                0.0   \n",
       "35177              2.0            2.411485                1.0   \n",
       "37832              1.0            1.436390                2.0   \n",
       "38372              2.0            2.322851                2.0   \n",
       "39997              2.0            2.014634                0.0   \n",
       "\n",
       "       reviews_number_norm             reviews_dates  review1_date  \\\n",
       "914           2.149609e-07  [07/21/2017, 11/28/2011]    07/21/2017   \n",
       "2028          2.149609e-07  [10/27/2016, 07/01/2008]    10/27/2016   \n",
       "3324          5.138924e-06  [08/08/2017, 02/15/2011]    08/08/2017   \n",
       "3380          1.214655e-05  [08/31/2016, 09/25/2008]    08/31/2016   \n",
       "6958          4.565465e-06  [08/23/2016, 05/02/2008]    08/23/2016   \n",
       "7990          9.810673e-06  [10/02/2016, 12/22/2007]    10/02/2016   \n",
       "8356          2.335874e-06  [06/28/2016, 01/06/2008]    06/28/2016   \n",
       "9529          1.281833e-05  [02/13/2017, 08/05/2011]    02/13/2017   \n",
       "9686          2.047865e-05  [10/19/2017, 12/25/2011]    10/19/2017   \n",
       "10353         7.523633e-07  [12/10/2016, 01/20/2011]    12/10/2016   \n",
       "10997         2.896484e-05  [10/26/2016, 03/25/2008]    10/26/2016   \n",
       "11140         3.257891e-06  [12/28/2015, 11/14/2007]    12/28/2015   \n",
       "11776         1.629391e-06  [01/31/2016, 04/18/2010]    01/31/2016   \n",
       "11875         6.023679e-06  [03/17/2015, 08/04/2009]    03/17/2015   \n",
       "12559         2.648260e-05  [06/27/2016, 06/06/2008]    06/27/2016   \n",
       "14101         3.850523e-06  [07/25/2016, 05/07/2010]    07/25/2016   \n",
       "14828         2.468613e-06  [09/23/2016, 03/26/2010]    09/23/2016   \n",
       "19438         4.467631e-06  [04/15/2017, 10/25/2008]    04/15/2017   \n",
       "19959         3.661609e-06  [02/22/2015, 01/14/2009]    02/22/2015   \n",
       "22340         1.981984e-05  [06/15/2016, 04/25/2009]    06/15/2016   \n",
       "22506         1.357737e-05  [06/27/2017, 10/16/2011]    06/27/2017   \n",
       "23691         1.913175e-05  [02/03/2014, 01/09/2008]    02/03/2014   \n",
       "25959         2.468613e-06  [04/13/2017, 08/09/2011]    04/13/2017   \n",
       "28026         1.791828e-06  [02/07/2017, 08/15/2011]    02/07/2017   \n",
       "31405         2.463968e-04  [06/03/2017, 11/09/2011]    06/03/2017   \n",
       "32064         2.280524e-05  [03/15/2015, 06/13/2008]    03/15/2015   \n",
       "34381         2.149609e-07  [02/10/2016, 01/23/2008]    02/10/2016   \n",
       "35056         7.465949e-06  [12/09/2015, 04/21/2008]    12/09/2015   \n",
       "35177         1.049161e-05  [05/18/2017, 09/27/2010]    05/18/2017   \n",
       "37832         1.214655e-05  [07/07/2016, 09/24/2009]    07/07/2016   \n",
       "38372         7.474798e-06  [03/18/2017, 01/16/2010]    03/18/2017   \n",
       "39997         4.106468e-06  [11/03/2016, 04/12/2008]    11/03/2016   \n",
       "\n",
       "       review1_date_d  review2_date  review2_date_d  days_between  \n",
       "914        2017-07-21    11/28/2011      2011-11-28        2062.0  \n",
       "2028       2016-10-27    07/01/2008      2008-07-01        3040.0  \n",
       "3324       2017-08-08    02/15/2011      2011-02-15        2366.0  \n",
       "3380       2016-08-31    09/25/2008      2008-09-25        2897.0  \n",
       "6958       2016-08-23    05/02/2008      2008-05-02        3035.0  \n",
       "7990       2016-10-02    12/22/2007      2007-12-22        3207.0  \n",
       "8356       2016-06-28    01/06/2008      2008-01-06        3096.0  \n",
       "9529       2017-02-13    08/05/2011      2011-08-05        2019.0  \n",
       "9686       2017-10-19    12/25/2011      2011-12-25        2125.0  \n",
       "10353      2016-12-10    01/20/2011      2011-01-20        2151.0  \n",
       "10997      2016-10-26    03/25/2008      2008-03-25        3137.0  \n",
       "11140      2015-12-28    11/14/2007      2007-11-14        2966.0  \n",
       "11776      2016-01-31    04/18/2010      2010-04-18        2114.0  \n",
       "11875      2015-03-17    08/04/2009      2009-08-04        2051.0  \n",
       "12559      2016-06-27    06/06/2008      2008-06-06        2943.0  \n",
       "14101      2016-07-25    05/07/2010      2010-05-07        2271.0  \n",
       "14828      2016-09-23    03/26/2010      2010-03-26        2373.0  \n",
       "19438      2017-04-15    10/25/2008      2008-10-25        3094.0  \n",
       "19959      2015-02-22    01/14/2009      2009-01-14        2230.0  \n",
       "22340      2016-06-15    04/25/2009      2009-04-25        2608.0  \n",
       "22506      2017-06-27    10/16/2011      2011-10-16        2081.0  \n",
       "23691      2014-02-03    01/09/2008      2008-01-09        2217.0  \n",
       "25959      2017-04-13    08/09/2011      2011-08-09        2074.0  \n",
       "28026      2017-02-07    08/15/2011      2011-08-15        2003.0  \n",
       "31405      2017-06-03    11/09/2011      2011-11-09        2033.0  \n",
       "32064      2015-03-15    06/13/2008      2008-06-13        2466.0  \n",
       "34381      2016-02-10    01/23/2008      2008-01-23        2940.0  \n",
       "35056      2015-12-09    04/21/2008      2008-04-21        2788.0  \n",
       "35177      2017-05-18    09/27/2010      2010-09-27        2425.0  \n",
       "37832      2016-07-07    09/24/2009      2009-09-24        2478.0  \n",
       "38372      2017-03-18    01/16/2010      2010-01-16        2618.0  \n",
       "39997      2016-11-03    04/12/2008      2008-04-12        3127.0  \n",
       "\n",
       "[32 rows x 55 columns]"
      ]
     },
     "execution_count": 55,
     "metadata": {},
     "output_type": "execute_result"
    }
   ],
   "source": [
    "df[df.days_between > 2000]"
   ]
  },
  {
   "cell_type": "code",
   "execution_count": 56,
   "metadata": {},
   "outputs": [],
   "source": [
    "# Удалим грубые выбросы\n",
    "#df=df[df.days_between <= 2000]"
   ]
  },
  {
   "cell_type": "code",
   "execution_count": 57,
   "metadata": {},
   "outputs": [],
   "source": [
    "# !!! Пока заполним пропуски медианой\n",
    "df.days_between.fillna(df.days_between.median(), inplace=True)"
   ]
  },
  {
   "cell_type": "markdown",
   "metadata": {},
   "source": [
    "### url_ta"
   ]
  },
  {
   "cell_type": "code",
   "execution_count": 58,
   "metadata": {},
   "outputs": [
    {
     "data": {
      "text/plain": [
       "/Restaurant_Review-g187514-d697406-Reviews-Al_Mounia-Madrid.html                                                 2\n",
       "/Restaurant_Review-g187514-d13002276-Reviews-Delish_Vegan_Doughnuts-Madrid.html                                  2\n",
       "/Restaurant_Review-g187514-d7337366-Reviews-Lady_Madonna-Madrid.html                                             2\n",
       "/Restaurant_Review-g187514-d11698990-Reviews-Verdello_Restaurante-Madrid.html                                    2\n",
       "/Restaurant_Review-g187514-d9877640-Reviews-Raku_Sushi-Madrid.html                                               2\n",
       "                                                                                                                ..\n",
       "/Restaurant_Review-g187323-d695731-Reviews-Hackbarth_s_Bar-Berlin.html                                           1\n",
       "/Restaurant_Review-g189158-d12390337-Reviews-H3_New_Hamburgology-Lisbon_Lisbon_District_Central_Portugal.html    1\n",
       "/Restaurant_Review-g187497-d1081665-Reviews-La_Strada-Barcelona_Catalonia.html                                   1\n",
       "/Restaurant_Review-g189158-d3407316-Reviews-Bufalo_Grill-Lisbon_Lisbon_District_Central_Portugal.html            1\n",
       "/Restaurant_Review-g187514-d3419133-Reviews-La_Jauria-Madrid.html                                                1\n",
       "Name: url_ta, Length: 39980, dtype: int64"
      ]
     },
     "execution_count": 58,
     "metadata": {},
     "output_type": "execute_result"
    }
   ],
   "source": [
    "df.url_ta.value_counts()"
   ]
  },
  {
   "cell_type": "markdown",
   "metadata": {},
   "source": [
    "### id_ta"
   ]
  },
  {
   "cell_type": "code",
   "execution_count": 59,
   "metadata": {},
   "outputs": [
    {
     "data": {
      "text/plain": [
       "d7342803     2\n",
       "d697406      2\n",
       "d3161682     2\n",
       "d13002276    2\n",
       "d11999956    2\n",
       "            ..\n",
       "d3370609     1\n",
       "d9587036     1\n",
       "d5811134     1\n",
       "d9774409     1\n",
       "d680476      1\n",
       "Name: id_ta, Length: 39980, dtype: int64"
      ]
     },
     "execution_count": 59,
     "metadata": {},
     "output_type": "execute_result"
    }
   ],
   "source": [
    "df.id_ta.value_counts()"
   ]
  },
  {
   "cell_type": "markdown",
   "metadata": {},
   "source": [
    "## Разбиваем датафрейм на части, необходимые для обучения и тестирования модели"
   ]
  },
  {
   "cell_type": "code",
   "execution_count": 60,
   "metadata": {},
   "outputs": [
    {
     "name": "stdout",
     "output_type": "stream",
     "text": [
      "<class 'pandas.core.frame.DataFrame'>\n",
      "RangeIndex: 40000 entries, 0 to 39999\n",
      "Data columns (total 55 columns):\n",
      " #   Column               Non-Null Count  Dtype         \n",
      "---  ------               --------------  -----         \n",
      " 0   restaurant_id        40000 non-null  object        \n",
      " 1   city                 40000 non-null  object        \n",
      " 2   cuisine_style        40000 non-null  object        \n",
      " 3   ranking              40000 non-null  float64       \n",
      " 4   rating               40000 non-null  float64       \n",
      " 5   price_range          26114 non-null  object        \n",
      " 6   reviews_number       40000 non-null  float64       \n",
      " 7   reviews              40000 non-null  object        \n",
      " 8   url_ta               40000 non-null  object        \n",
      " 9   id_ta                40000 non-null  object        \n",
      " 10  rests                40000 non-null  int64         \n",
      " 11  population           40000 non-null  int64         \n",
      " 12  rest_density         40000 non-null  float64       \n",
      " 13  Amsterdam            40000 non-null  uint8         \n",
      " 14  Athens               40000 non-null  uint8         \n",
      " 15  Barcelona            40000 non-null  uint8         \n",
      " 16  Berlin               40000 non-null  uint8         \n",
      " 17  Bratislava           40000 non-null  uint8         \n",
      " 18  Brussels             40000 non-null  uint8         \n",
      " 19  Budapest             40000 non-null  uint8         \n",
      " 20  Copenhagen           40000 non-null  uint8         \n",
      " 21  Dublin               40000 non-null  uint8         \n",
      " 22  Edinburgh            40000 non-null  uint8         \n",
      " 23  Geneva               40000 non-null  uint8         \n",
      " 24  Hamburg              40000 non-null  uint8         \n",
      " 25  Helsinki             40000 non-null  uint8         \n",
      " 26  Krakow               40000 non-null  uint8         \n",
      " 27  Lisbon               40000 non-null  uint8         \n",
      " 28  Ljubljana            40000 non-null  uint8         \n",
      " 29  London               40000 non-null  uint8         \n",
      " 30  Luxembourg           40000 non-null  uint8         \n",
      " 31  Lyon                 40000 non-null  uint8         \n",
      " 32  Madrid               40000 non-null  uint8         \n",
      " 33  Milan                40000 non-null  uint8         \n",
      " 34  Munich               40000 non-null  uint8         \n",
      " 35  Oporto               40000 non-null  uint8         \n",
      " 36  Oslo                 40000 non-null  uint8         \n",
      " 37  Paris                40000 non-null  uint8         \n",
      " 38  Prague               40000 non-null  uint8         \n",
      " 39  Rome                 40000 non-null  uint8         \n",
      " 40  Stockholm            40000 non-null  uint8         \n",
      " 41  Vienna               40000 non-null  uint8         \n",
      " 42  Warsaw               40000 non-null  uint8         \n",
      " 43  Zurich               40000 non-null  uint8         \n",
      " 44  cuisine              40000 non-null  object        \n",
      " 45  cuisines_number      40000 non-null  float64       \n",
      " 46  ranking_norm_rests   40000 non-null  float64       \n",
      " 47  price_range_label    40000 non-null  float64       \n",
      " 48  reviews_number_norm  40000 non-null  float64       \n",
      " 49  reviews_dates        40000 non-null  object        \n",
      " 50  review1_date         33529 non-null  object        \n",
      " 51  review1_date_d       33529 non-null  datetime64[ns]\n",
      " 52  review2_date         28973 non-null  object        \n",
      " 53  review2_date_d       28973 non-null  datetime64[ns]\n",
      " 54  days_between         40000 non-null  float64       \n",
      "dtypes: datetime64[ns](2), float64(9), int64(2), object(11), uint8(31)\n",
      "memory usage: 8.5+ MB\n"
     ]
    }
   ],
   "source": [
    "df.info()"
   ]
  },
  {
   "cell_type": "code",
   "execution_count": 61,
   "metadata": {},
   "outputs": [],
   "source": [
    "# Х - данные с информацией о ресторанах, у - целевая переменная (рейтинги ресторанов)\n",
    "X = df.drop(['restaurant_id', 'rating'], axis = 1)\n",
    "y = df['rating']"
   ]
  },
  {
   "cell_type": "code",
   "execution_count": 62,
   "metadata": {},
   "outputs": [
    {
     "data": {
      "text/html": [
       "<div>\n",
       "<style scoped>\n",
       "    .dataframe tbody tr th:only-of-type {\n",
       "        vertical-align: middle;\n",
       "    }\n",
       "\n",
       "    .dataframe tbody tr th {\n",
       "        vertical-align: top;\n",
       "    }\n",
       "\n",
       "    .dataframe thead th {\n",
       "        text-align: right;\n",
       "    }\n",
       "</style>\n",
       "<table border=\"1\" class=\"dataframe\">\n",
       "  <thead>\n",
       "    <tr style=\"text-align: right;\">\n",
       "      <th></th>\n",
       "      <th>ranking</th>\n",
       "      <th>reviews_number</th>\n",
       "      <th>rest_density</th>\n",
       "      <th>Amsterdam</th>\n",
       "      <th>Athens</th>\n",
       "      <th>Barcelona</th>\n",
       "      <th>Berlin</th>\n",
       "      <th>Bratislava</th>\n",
       "      <th>Brussels</th>\n",
       "      <th>Budapest</th>\n",
       "      <th>...</th>\n",
       "      <th>Rome</th>\n",
       "      <th>Stockholm</th>\n",
       "      <th>Vienna</th>\n",
       "      <th>Warsaw</th>\n",
       "      <th>Zurich</th>\n",
       "      <th>cuisines_number</th>\n",
       "      <th>ranking_norm_rests</th>\n",
       "      <th>price_range_label</th>\n",
       "      <th>reviews_number_norm</th>\n",
       "      <th>days_between</th>\n",
       "    </tr>\n",
       "  </thead>\n",
       "  <tbody>\n",
       "    <tr>\n",
       "      <th>0</th>\n",
       "      <td>5570.0</td>\n",
       "      <td>194.0</td>\n",
       "      <td>0.002288</td>\n",
       "      <td>0</td>\n",
       "      <td>0</td>\n",
       "      <td>0</td>\n",
       "      <td>0</td>\n",
       "      <td>0</td>\n",
       "      <td>0</td>\n",
       "      <td>0</td>\n",
       "      <td>...</td>\n",
       "      <td>0</td>\n",
       "      <td>0</td>\n",
       "      <td>0</td>\n",
       "      <td>0</td>\n",
       "      <td>0</td>\n",
       "      <td>3.0</td>\n",
       "      <td>1.137431</td>\n",
       "      <td>2.0</td>\n",
       "      <td>0.000091</td>\n",
       "      <td>41.0</td>\n",
       "    </tr>\n",
       "    <tr>\n",
       "      <th>1</th>\n",
       "      <td>1537.0</td>\n",
       "      <td>10.0</td>\n",
       "      <td>0.000842</td>\n",
       "      <td>0</td>\n",
       "      <td>0</td>\n",
       "      <td>0</td>\n",
       "      <td>0</td>\n",
       "      <td>0</td>\n",
       "      <td>0</td>\n",
       "      <td>0</td>\n",
       "      <td>...</td>\n",
       "      <td>0</td>\n",
       "      <td>1</td>\n",
       "      <td>0</td>\n",
       "      <td>0</td>\n",
       "      <td>0</td>\n",
       "      <td>1.0</td>\n",
       "      <td>1.874390</td>\n",
       "      <td>0.0</td>\n",
       "      <td>0.000010</td>\n",
       "      <td>382.0</td>\n",
       "    </tr>\n",
       "    <tr>\n",
       "      <th>2</th>\n",
       "      <td>353.0</td>\n",
       "      <td>688.0</td>\n",
       "      <td>0.000619</td>\n",
       "      <td>0</td>\n",
       "      <td>0</td>\n",
       "      <td>0</td>\n",
       "      <td>0</td>\n",
       "      <td>0</td>\n",
       "      <td>0</td>\n",
       "      <td>0</td>\n",
       "      <td>...</td>\n",
       "      <td>0</td>\n",
       "      <td>0</td>\n",
       "      <td>0</td>\n",
       "      <td>0</td>\n",
       "      <td>0</td>\n",
       "      <td>7.0</td>\n",
       "      <td>0.061317</td>\n",
       "      <td>5.0</td>\n",
       "      <td>0.000074</td>\n",
       "      <td>2.0</td>\n",
       "    </tr>\n",
       "  </tbody>\n",
       "</table>\n",
       "<p>3 rows × 39 columns</p>\n",
       "</div>"
      ],
      "text/plain": [
       "   ranking  reviews_number  rest_density  Amsterdam  Athens  Barcelona  \\\n",
       "0   5570.0           194.0      0.002288          0       0          0   \n",
       "1   1537.0            10.0      0.000842          0       0          0   \n",
       "2    353.0           688.0      0.000619          0       0          0   \n",
       "\n",
       "   Berlin  Bratislava  Brussels  Budapest  ...  Rome  Stockholm  Vienna  \\\n",
       "0       0           0         0         0  ...     0          0       0   \n",
       "1       0           0         0         0  ...     0          1       0   \n",
       "2       0           0         0         0  ...     0          0       0   \n",
       "\n",
       "   Warsaw  Zurich  cuisines_number  ranking_norm_rests  price_range_label  \\\n",
       "0       0       0              3.0            1.137431                2.0   \n",
       "1       0       0              1.0            1.874390                0.0   \n",
       "2       0       0              7.0            0.061317                5.0   \n",
       "\n",
       "   reviews_number_norm  days_between  \n",
       "0             0.000091          41.0  \n",
       "1             0.000010         382.0  \n",
       "2             0.000074           2.0  \n",
       "\n",
       "[3 rows x 39 columns]"
      ]
     },
     "execution_count": 62,
     "metadata": {},
     "output_type": "execute_result"
    }
   ],
   "source": [
    "#!!!Нужно экспериментировать с составом признаков!!! Вот эти удалять: 'ranking', 'population', 'rests', 'reviews_number' ??\n",
    "X = df.drop(['restaurant_id', 'rating', 'city', 'cuisine_style', 'price_range', 'reviews', 'url_ta', 'id_ta',\n",
    "             'cuisine', 'reviews_dates', 'review1_date', 'review2_date', 'review1_date_d',\n",
    "             'review2_date_d', 'population', 'rests'], axis = 1)\n",
    "X.head(3)"
   ]
  },
  {
   "cell_type": "code",
   "execution_count": 63,
   "metadata": {},
   "outputs": [],
   "source": [
    "# Наборы данных с меткой \"train\" будут использоваться для обучения модели, \"test\" - для тестирования.\n",
    "# Для тестирования мы будем использовать 25% от исходного датасета.\n",
    "X_train, X_test, y_train, y_test = train_test_split(X, y, test_size=0.25)"
   ]
  },
  {
   "cell_type": "markdown",
   "metadata": {},
   "source": [
    "## Создание, обучение и тестирование модели"
   ]
  },
  {
   "cell_type": "code",
   "execution_count": 64,
   "metadata": {},
   "outputs": [],
   "source": [
    "# Создаём модель\n",
    "regr = RandomForestRegressor(n_estimators=100)\n",
    "\n",
    "# Обучаем модель на тестовом наборе данных\n",
    "regr.fit(X_train, y_train)\n",
    "\n",
    "# Используем обученную модель для предсказания рейтинга ресторанов в тестовой выборке.\n",
    "# Предсказанные значения записываем в переменную y_pred\n",
    "y_pred = (regr.predict(X_test)*2).round()/2"
   ]
  },
  {
   "cell_type": "code",
   "execution_count": 65,
   "metadata": {},
   "outputs": [
    {
     "name": "stdout",
     "output_type": "stream",
     "text": [
      "MAE: 0.1739\n"
     ]
    }
   ],
   "source": [
    "# Сравниваем предсказанные значения (y_pred) с реальными (y_test), и смотрим насколько они в среднем отличаются\n",
    "# Метрика называется Mean Absolute Error (MAE) и показывает среднее отклонение предсказанных значений от фактических.\n",
    "print('MAE:', metrics.mean_absolute_error(y_test, y_pred))"
   ]
  },
  {
   "cell_type": "code",
   "execution_count": 66,
   "metadata": {},
   "outputs": [
    {
     "data": {
      "text/plain": [
       "<matplotlib.axes._subplots.AxesSubplot at 0xc9c89f56a0>"
      ]
     },
     "execution_count": 66,
     "metadata": {},
     "output_type": "execute_result"
    },
    {
     "data": {
      "image/png": "[encoded data removed]",
      "text/plain": [
       "<Figure size 1440x720 with 1 Axes>"
      ]
     },
     "metadata": {
      "needs_background": "light"
     },
     "output_type": "display_data"
    }
   ],
   "source": [
    "plt.rcParams['figure.figsize'] = (20, 10)\n",
    "feat_importances = pd.Series(regr.feature_importances_, index=X.columns)\n",
    "feat_importances.nlargest(30).plot(kind='barh')"
   ]
  },
  {
   "cell_type": "code",
   "execution_count": 67,
   "metadata": {},
   "outputs": [],
   "source": [
    "# составляем список важнейших\n",
    "main_features = feat_importances.nlargest(35).index.tolist()"
   ]
  },
  {
   "cell_type": "code",
   "execution_count": 68,
   "metadata": {},
   "outputs": [],
   "source": [
    "# Еще раз копируем датасет, оставив только важнейшие признаки:\n",
    "X = X[main_features].copy()"
   ]
  },
  {
   "cell_type": "code",
   "execution_count": 69,
   "metadata": {},
   "outputs": [
    {
     "data": {
      "text/html": [
       "<div>\n",
       "<style scoped>\n",
       "    .dataframe tbody tr th:only-of-type {\n",
       "        vertical-align: middle;\n",
       "    }\n",
       "\n",
       "    .dataframe tbody tr th {\n",
       "        vertical-align: top;\n",
       "    }\n",
       "\n",
       "    .dataframe thead th {\n",
       "        text-align: right;\n",
       "    }\n",
       "</style>\n",
       "<table border=\"1\" class=\"dataframe\">\n",
       "  <thead>\n",
       "    <tr style=\"text-align: right;\">\n",
       "      <th></th>\n",
       "      <th>ranking_norm_rests</th>\n",
       "      <th>reviews_number</th>\n",
       "      <th>ranking</th>\n",
       "      <th>Rome</th>\n",
       "      <th>reviews_number_norm</th>\n",
       "      <th>days_between</th>\n",
       "      <th>cuisines_number</th>\n",
       "      <th>rest_density</th>\n",
       "      <th>Madrid</th>\n",
       "      <th>price_range_label</th>\n",
       "      <th>...</th>\n",
       "      <th>Athens</th>\n",
       "      <th>Dublin</th>\n",
       "      <th>Paris</th>\n",
       "      <th>Lyon</th>\n",
       "      <th>Copenhagen</th>\n",
       "      <th>Warsaw</th>\n",
       "      <th>Bratislava</th>\n",
       "      <th>Lisbon</th>\n",
       "      <th>Oslo</th>\n",
       "      <th>Helsinki</th>\n",
       "    </tr>\n",
       "  </thead>\n",
       "  <tbody>\n",
       "    <tr>\n",
       "      <th>0</th>\n",
       "      <td>1.137431</td>\n",
       "      <td>194.0</td>\n",
       "      <td>5570.0</td>\n",
       "      <td>0</td>\n",
       "      <td>9.063193e-05</td>\n",
       "      <td>41.0</td>\n",
       "      <td>3.0</td>\n",
       "      <td>0.002288</td>\n",
       "      <td>0</td>\n",
       "      <td>2.0</td>\n",
       "      <td>...</td>\n",
       "      <td>0</td>\n",
       "      <td>0</td>\n",
       "      <td>1</td>\n",
       "      <td>0</td>\n",
       "      <td>0</td>\n",
       "      <td>0</td>\n",
       "      <td>0</td>\n",
       "      <td>0</td>\n",
       "      <td>0</td>\n",
       "      <td>0</td>\n",
       "    </tr>\n",
       "    <tr>\n",
       "      <th>1</th>\n",
       "      <td>1.874390</td>\n",
       "      <td>10.0</td>\n",
       "      <td>1537.0</td>\n",
       "      <td>0</td>\n",
       "      <td>1.026617e-05</td>\n",
       "      <td>382.0</td>\n",
       "      <td>1.0</td>\n",
       "      <td>0.000842</td>\n",
       "      <td>0</td>\n",
       "      <td>0.0</td>\n",
       "      <td>...</td>\n",
       "      <td>0</td>\n",
       "      <td>0</td>\n",
       "      <td>0</td>\n",
       "      <td>0</td>\n",
       "      <td>0</td>\n",
       "      <td>0</td>\n",
       "      <td>0</td>\n",
       "      <td>0</td>\n",
       "      <td>0</td>\n",
       "      <td>0</td>\n",
       "    </tr>\n",
       "    <tr>\n",
       "      <th>2</th>\n",
       "      <td>0.061317</td>\n",
       "      <td>688.0</td>\n",
       "      <td>353.0</td>\n",
       "      <td>0</td>\n",
       "      <td>7.394656e-05</td>\n",
       "      <td>2.0</td>\n",
       "      <td>7.0</td>\n",
       "      <td>0.000619</td>\n",
       "      <td>0</td>\n",
       "      <td>5.0</td>\n",
       "      <td>...</td>\n",
       "      <td>0</td>\n",
       "      <td>0</td>\n",
       "      <td>0</td>\n",
       "      <td>0</td>\n",
       "      <td>0</td>\n",
       "      <td>0</td>\n",
       "      <td>0</td>\n",
       "      <td>0</td>\n",
       "      <td>0</td>\n",
       "      <td>0</td>\n",
       "    </tr>\n",
       "    <tr>\n",
       "      <th>3</th>\n",
       "      <td>1.604640</td>\n",
       "      <td>3.0</td>\n",
       "      <td>3458.0</td>\n",
       "      <td>0</td>\n",
       "      <td>8.003953e-07</td>\n",
       "      <td>55.0</td>\n",
       "      <td>1.0</td>\n",
       "      <td>0.000575</td>\n",
       "      <td>0</td>\n",
       "      <td>0.0</td>\n",
       "      <td>...</td>\n",
       "      <td>0</td>\n",
       "      <td>0</td>\n",
       "      <td>0</td>\n",
       "      <td>0</td>\n",
       "      <td>0</td>\n",
       "      <td>0</td>\n",
       "      <td>0</td>\n",
       "      <td>0</td>\n",
       "      <td>0</td>\n",
       "      <td>0</td>\n",
       "    </tr>\n",
       "    <tr>\n",
       "      <th>4</th>\n",
       "      <td>0.695409</td>\n",
       "      <td>84.0</td>\n",
       "      <td>621.0</td>\n",
       "      <td>0</td>\n",
       "      <td>5.708430e-05</td>\n",
       "      <td>272.0</td>\n",
       "      <td>3.0</td>\n",
       "      <td>0.000607</td>\n",
       "      <td>0</td>\n",
       "      <td>2.0</td>\n",
       "      <td>...</td>\n",
       "      <td>0</td>\n",
       "      <td>0</td>\n",
       "      <td>0</td>\n",
       "      <td>0</td>\n",
       "      <td>0</td>\n",
       "      <td>0</td>\n",
       "      <td>0</td>\n",
       "      <td>0</td>\n",
       "      <td>0</td>\n",
       "      <td>0</td>\n",
       "    </tr>\n",
       "  </tbody>\n",
       "</table>\n",
       "<p>5 rows × 35 columns</p>\n",
       "</div>"
      ],
      "text/plain": [
       "   ranking_norm_rests  reviews_number  ranking  Rome  reviews_number_norm  \\\n",
       "0            1.137431           194.0   5570.0     0         9.063193e-05   \n",
       "1            1.874390            10.0   1537.0     0         1.026617e-05   \n",
       "2            0.061317           688.0    353.0     0         7.394656e-05   \n",
       "3            1.604640             3.0   3458.0     0         8.003953e-07   \n",
       "4            0.695409            84.0    621.0     0         5.708430e-05   \n",
       "\n",
       "   days_between  cuisines_number  rest_density  Madrid  price_range_label  \\\n",
       "0          41.0              3.0      0.002288       0                2.0   \n",
       "1         382.0              1.0      0.000842       0                0.0   \n",
       "2           2.0              7.0      0.000619       0                5.0   \n",
       "3          55.0              1.0      0.000575       0                0.0   \n",
       "4         272.0              3.0      0.000607       0                2.0   \n",
       "\n",
       "   ...  Athens  Dublin  Paris  Lyon  Copenhagen  Warsaw  Bratislava  Lisbon  \\\n",
       "0  ...       0       0      1     0           0       0           0       0   \n",
       "1  ...       0       0      0     0           0       0           0       0   \n",
       "2  ...       0       0      0     0           0       0           0       0   \n",
       "3  ...       0       0      0     0           0       0           0       0   \n",
       "4  ...       0       0      0     0           0       0           0       0   \n",
       "\n",
       "   Oslo  Helsinki  \n",
       "0     0         0  \n",
       "1     0         0  \n",
       "2     0         0  \n",
       "3     0         0  \n",
       "4     0         0  \n",
       "\n",
       "[5 rows x 35 columns]"
      ]
     },
     "execution_count": 69,
     "metadata": {},
     "output_type": "execute_result"
    }
   ],
   "source": [
    "X.head()"
   ]
  },
  {
   "cell_type": "code",
   "execution_count": 70,
   "metadata": {},
   "outputs": [
    {
     "name": "stdout",
     "output_type": "stream",
     "text": [
      "MAE: 0.1811\n"
     ]
    }
   ],
   "source": [
    "# Пересоздаем модель, используя только самые важные признаки\n",
    "X_train, X_test, y_train, y_test = train_test_split(X, y, test_size=0.25)\n",
    "# Создаём модель\n",
    "regr = RandomForestRegressor(n_estimators=100)\n",
    "\n",
    "# Обучаем модель на тестовом наборе данных\n",
    "regr.fit(X_train, y_train)\n",
    "\n",
    "# Используем обученную модель для предсказания рейтинга ресторанов в тестовой выборке.\n",
    "# Предсказанные значения записываем в переменную y_pred\n",
    "y_pred = (regr.predict(X_test)*2).round()/2\n",
    "# Сравниваем предсказанные значения (y_pred) с реальными (y_test), и смотрим насколько они в среднем отличаются\n",
    "# Метрика называется Mean Absolute Error (MAE) и показывает среднее отклонение предсказанных значений от фактических.\n",
    "print('MAE:', metrics.mean_absolute_error(y_test, y_pred))"
   ]
  }
 ],
 "metadata": {
  "kernelspec": {
   "display_name": "Python 3",
   "language": "python",
   "name": "python3"
  },
  "language_info": {
   "codemirror_mode": {
    "name": "ipython",
    "version": 3
   },
   "file_extension": ".py",
   "mimetype": "text/x-python",
   "name": "python",
   "nbconvert_exporter": "python",
   "pygments_lexer": "ipython3",
   "version": "3.7.3"
  }
 },
 "nbformat": 4,
 "nbformat_minor": 4
}
