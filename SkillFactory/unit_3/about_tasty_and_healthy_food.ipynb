{
 "cells": [
  {
   "cell_type": "code",
   "execution_count": 1,
   "metadata": {},
   "outputs": [],
   "source": [
    "import numpy as np\n",
    "import pandas as pd\n",
    "import matplotlib.pyplot as plt\n",
    "import seaborn as sns\n",
    "from itertools import combinations\n",
    "from scipy.stats import ttest_ind\n",
    "from sklearn.model_selection import train_test_split\n",
    "from sklearn.ensemble import RandomForestRegressor\n",
    "from sklearn import metrics\n",
    "from datetime import datetime, timedelta\n",
    "%matplotlib inline"
   ]
  },
  {
   "cell_type": "markdown",
   "metadata": {},
   "source": [
    "> что такое baseline решение, зачем оно нужно и почему предоставлять baseline к соревнованию стало важным стандартом на kaggle и других площадках.   \n",
    "**baseline** создается больше как шаблон, где можно посмотреть как происходит обращение с входящими данными и что нужно получить на выходе. При этом МЛ начинка может быть достаточно простой, просто для примера. Это помогает быстрее приступить к самому МЛ, а не тратить ценное время на чисто инженерные задачи. \n",
    "Также baseline являеться хорошей опорной точкой по метрике. Если твое решение хуже baseline - ты явно делаешь что-то не то и стоит попробовать другой путь) "
   ]
  },
  {
   "cell_type": "code",
   "execution_count": 2,
   "metadata": {},
   "outputs": [],
   "source": [
    "pd.set_option('display.max_rows', 100) # выведем больше строк\n",
    "pd.set_option('display.max_columns', 100) # выведем больше колонок"
   ]
  },
  {
   "cell_type": "code",
   "execution_count": 3,
   "metadata": {},
   "outputs": [],
   "source": [
    "# Фиксируем RANDOM_SEED, чтобы результаты были воспроизводимы\n",
    "RANDOM_SEED = 42"
   ]
  },
  {
   "cell_type": "code",
   "execution_count": 4,
   "metadata": {},
   "outputs": [],
   "source": [
    "date_today = pd.to_datetime('2020-07-15')"
   ]
  },
  {
   "cell_type": "code",
   "execution_count": 5,
   "metadata": {
    "scrolled": true
   },
   "outputs": [],
   "source": [
    "df = pd.read_csv('main_task.csv')"
   ]
  },
  {
   "cell_type": "code",
   "execution_count": 6,
   "metadata": {
    "scrolled": true
   },
   "outputs": [
    {
     "data": {
      "text/html": [
       "<div>\n",
       "<style scoped>\n",
       "    .dataframe tbody tr th:only-of-type {\n",
       "        vertical-align: middle;\n",
       "    }\n",
       "\n",
       "    .dataframe tbody tr th {\n",
       "        vertical-align: top;\n",
       "    }\n",
       "\n",
       "    .dataframe thead th {\n",
       "        text-align: right;\n",
       "    }\n",
       "</style>\n",
       "<table border=\"1\" class=\"dataframe\">\n",
       "  <thead>\n",
       "    <tr style=\"text-align: right;\">\n",
       "      <th></th>\n",
       "      <th>restaurant_id</th>\n",
       "      <th>city</th>\n",
       "      <th>cuisine_style</th>\n",
       "      <th>ranking</th>\n",
       "      <th>rating</th>\n",
       "      <th>price_range</th>\n",
       "      <th>reviews_number</th>\n",
       "      <th>reviews</th>\n",
       "      <th>url_ta</th>\n",
       "      <th>id_ta</th>\n",
       "    </tr>\n",
       "  </thead>\n",
       "  <tbody>\n",
       "    <tr>\n",
       "      <th>0</th>\n",
       "      <td>id_5569</td>\n",
       "      <td>Paris</td>\n",
       "      <td>['European', 'French', 'International']</td>\n",
       "      <td>5570.0</td>\n",
       "      <td>3.5</td>\n",
       "      <td>$$ - $$$</td>\n",
       "      <td>194.0</td>\n",
       "      <td>[['Good food at your doorstep', 'A good hotel ...</td>\n",
       "      <td>/Restaurant_Review-g187147-d1912643-Reviews-R_...</td>\n",
       "      <td>d1912643</td>\n",
       "    </tr>\n",
       "    <tr>\n",
       "      <th>1</th>\n",
       "      <td>id_1535</td>\n",
       "      <td>Stockholm</td>\n",
       "      <td>NaN</td>\n",
       "      <td>1537.0</td>\n",
       "      <td>4.0</td>\n",
       "      <td>NaN</td>\n",
       "      <td>10.0</td>\n",
       "      <td>[['Unique cuisine', 'Delicious Nepalese food']...</td>\n",
       "      <td>/Restaurant_Review-g189852-d7992032-Reviews-Bu...</td>\n",
       "      <td>d7992032</td>\n",
       "    </tr>\n",
       "    <tr>\n",
       "      <th>2</th>\n",
       "      <td>id_352</td>\n",
       "      <td>London</td>\n",
       "      <td>['Japanese', 'Sushi', 'Asian', 'Grill', 'Veget...</td>\n",
       "      <td>353.0</td>\n",
       "      <td>4.5</td>\n",
       "      <td>$$$$</td>\n",
       "      <td>688.0</td>\n",
       "      <td>[['Catch up with friends', 'Not exceptional'],...</td>\n",
       "      <td>/Restaurant_Review-g186338-d8632781-Reviews-RO...</td>\n",
       "      <td>d8632781</td>\n",
       "    </tr>\n",
       "    <tr>\n",
       "      <th>3</th>\n",
       "      <td>id_3456</td>\n",
       "      <td>Berlin</td>\n",
       "      <td>NaN</td>\n",
       "      <td>3458.0</td>\n",
       "      <td>5.0</td>\n",
       "      <td>NaN</td>\n",
       "      <td>3.0</td>\n",
       "      <td>[[], []]</td>\n",
       "      <td>/Restaurant_Review-g187323-d1358776-Reviews-Es...</td>\n",
       "      <td>d1358776</td>\n",
       "    </tr>\n",
       "    <tr>\n",
       "      <th>4</th>\n",
       "      <td>id_615</td>\n",
       "      <td>Munich</td>\n",
       "      <td>['German', 'Central European', 'Vegetarian Fri...</td>\n",
       "      <td>621.0</td>\n",
       "      <td>4.0</td>\n",
       "      <td>$$ - $$$</td>\n",
       "      <td>84.0</td>\n",
       "      <td>[['Best place to try a Bavarian food', 'Nice b...</td>\n",
       "      <td>/Restaurant_Review-g187309-d6864963-Reviews-Au...</td>\n",
       "      <td>d6864963</td>\n",
       "    </tr>\n",
       "  </tbody>\n",
       "</table>\n",
       "</div>"
      ],
      "text/plain": [
       "  restaurant_id       city                                      cuisine_style  \\\n",
       "0       id_5569      Paris            ['European', 'French', 'International']   \n",
       "1       id_1535  Stockholm                                                NaN   \n",
       "2        id_352     London  ['Japanese', 'Sushi', 'Asian', 'Grill', 'Veget...   \n",
       "3       id_3456     Berlin                                                NaN   \n",
       "4        id_615     Munich  ['German', 'Central European', 'Vegetarian Fri...   \n",
       "\n",
       "   ranking  rating price_range  reviews_number  \\\n",
       "0   5570.0     3.5    $$ - $$$           194.0   \n",
       "1   1537.0     4.0         NaN            10.0   \n",
       "2    353.0     4.5        $$$$           688.0   \n",
       "3   3458.0     5.0         NaN             3.0   \n",
       "4    621.0     4.0    $$ - $$$            84.0   \n",
       "\n",
       "                                             reviews  \\\n",
       "0  [['Good food at your doorstep', 'A good hotel ...   \n",
       "1  [['Unique cuisine', 'Delicious Nepalese food']...   \n",
       "2  [['Catch up with friends', 'Not exceptional'],...   \n",
       "3                                           [[], []]   \n",
       "4  [['Best place to try a Bavarian food', 'Nice b...   \n",
       "\n",
       "                                              url_ta     id_ta  \n",
       "0  /Restaurant_Review-g187147-d1912643-Reviews-R_...  d1912643  \n",
       "1  /Restaurant_Review-g189852-d7992032-Reviews-Bu...  d7992032  \n",
       "2  /Restaurant_Review-g186338-d8632781-Reviews-RO...  d8632781  \n",
       "3  /Restaurant_Review-g187323-d1358776-Reviews-Es...  d1358776  \n",
       "4  /Restaurant_Review-g187309-d6864963-Reviews-Au...  d6864963  "
      ]
     },
     "execution_count": 6,
     "metadata": {},
     "output_type": "execute_result"
    }
   ],
   "source": [
    "df.columns = ['restaurant_id', 'city', 'cuisine_style', 'ranking', 'rating',\n",
    "              'price_range', 'reviews_number', 'reviews', 'url_ta', 'id_ta']\n",
    "df.head()"
   ]
  },
  {
   "cell_type": "code",
   "execution_count": 7,
   "metadata": {
    "scrolled": false
   },
   "outputs": [
    {
     "name": "stdout",
     "output_type": "stream",
     "text": [
      "<class 'pandas.core.frame.DataFrame'>\n",
      "RangeIndex: 40000 entries, 0 to 39999\n",
      "Data columns (total 10 columns):\n",
      " #   Column          Non-Null Count  Dtype  \n",
      "---  ------          --------------  -----  \n",
      " 0   restaurant_id   40000 non-null  object \n",
      " 1   city            40000 non-null  object \n",
      " 2   cuisine_style   30717 non-null  object \n",
      " 3   ranking         40000 non-null  float64\n",
      " 4   rating          40000 non-null  float64\n",
      " 5   price_range     26114 non-null  object \n",
      " 6   reviews_number  37457 non-null  float64\n",
      " 7   reviews         40000 non-null  object \n",
      " 8   url_ta          40000 non-null  object \n",
      " 9   id_ta           40000 non-null  object \n",
      "dtypes: float64(3), object(7)\n",
      "memory usage: 3.1+ MB\n"
     ]
    }
   ],
   "source": [
    "df.info()"
   ]
  },
  {
   "cell_type": "code",
   "execution_count": 8,
   "metadata": {
    "scrolled": false
   },
   "outputs": [
    {
     "data": {
      "text/html": [
       "<div>\n",
       "<style scoped>\n",
       "    .dataframe tbody tr th:only-of-type {\n",
       "        vertical-align: middle;\n",
       "    }\n",
       "\n",
       "    .dataframe tbody tr th {\n",
       "        vertical-align: top;\n",
       "    }\n",
       "\n",
       "    .dataframe thead th {\n",
       "        text-align: right;\n",
       "    }\n",
       "</style>\n",
       "<table border=\"1\" class=\"dataframe\">\n",
       "  <thead>\n",
       "    <tr style=\"text-align: right;\">\n",
       "      <th></th>\n",
       "      <th>ranking</th>\n",
       "      <th>rating</th>\n",
       "      <th>reviews_number</th>\n",
       "    </tr>\n",
       "  </thead>\n",
       "  <tbody>\n",
       "    <tr>\n",
       "      <th>count</th>\n",
       "      <td>40000.000000</td>\n",
       "      <td>40000.000000</td>\n",
       "      <td>37457.000000</td>\n",
       "    </tr>\n",
       "    <tr>\n",
       "      <th>mean</th>\n",
       "      <td>3676.028525</td>\n",
       "      <td>3.993037</td>\n",
       "      <td>124.825480</td>\n",
       "    </tr>\n",
       "    <tr>\n",
       "      <th>std</th>\n",
       "      <td>3708.749567</td>\n",
       "      <td>0.668417</td>\n",
       "      <td>295.666352</td>\n",
       "    </tr>\n",
       "    <tr>\n",
       "      <th>min</th>\n",
       "      <td>1.000000</td>\n",
       "      <td>1.000000</td>\n",
       "      <td>2.000000</td>\n",
       "    </tr>\n",
       "    <tr>\n",
       "      <th>25%</th>\n",
       "      <td>973.000000</td>\n",
       "      <td>3.500000</td>\n",
       "      <td>9.000000</td>\n",
       "    </tr>\n",
       "    <tr>\n",
       "      <th>50%</th>\n",
       "      <td>2285.000000</td>\n",
       "      <td>4.000000</td>\n",
       "      <td>33.000000</td>\n",
       "    </tr>\n",
       "    <tr>\n",
       "      <th>75%</th>\n",
       "      <td>5260.000000</td>\n",
       "      <td>4.500000</td>\n",
       "      <td>115.000000</td>\n",
       "    </tr>\n",
       "    <tr>\n",
       "      <th>max</th>\n",
       "      <td>16444.000000</td>\n",
       "      <td>5.000000</td>\n",
       "      <td>9660.000000</td>\n",
       "    </tr>\n",
       "  </tbody>\n",
       "</table>\n",
       "</div>"
      ],
      "text/plain": [
       "            ranking        rating  reviews_number\n",
       "count  40000.000000  40000.000000    37457.000000\n",
       "mean    3676.028525      3.993037      124.825480\n",
       "std     3708.749567      0.668417      295.666352\n",
       "min        1.000000      1.000000        2.000000\n",
       "25%      973.000000      3.500000        9.000000\n",
       "50%     2285.000000      4.000000       33.000000\n",
       "75%     5260.000000      4.500000      115.000000\n",
       "max    16444.000000      5.000000     9660.000000"
      ]
     },
     "execution_count": 8,
     "metadata": {},
     "output_type": "execute_result"
    }
   ],
   "source": [
    "df.describe()"
   ]
  },
  {
   "cell_type": "code",
   "execution_count": 9,
   "metadata": {
    "scrolled": true
   },
   "outputs": [
    {
     "data": {
      "text/plain": [
       "restaurant_id     11909\n",
       "city                 31\n",
       "cuisine_style      9007\n",
       "ranking           11936\n",
       "rating                9\n",
       "price_range           3\n",
       "reviews_number     1459\n",
       "reviews           33516\n",
       "url_ta            39980\n",
       "id_ta             39980\n",
       "dtype: int64"
      ]
     },
     "execution_count": 9,
     "metadata": {},
     "output_type": "execute_result"
    }
   ],
   "source": [
    "df.nunique()"
   ]
  },
  {
   "cell_type": "code",
   "execution_count": 10,
   "metadata": {
    "scrolled": true
   },
   "outputs": [
    {
     "data": {
      "text/plain": [
       "<matplotlib.axes._subplots.AxesSubplot at 0x1df1ffcb188>"
      ]
     },
     "execution_count": 10,
     "metadata": {},
     "output_type": "execute_result"
    },
    {
     "data": {
      "image/png": "[encoded data removed]",
      "text/plain": [
       "<Figure size 1008x288 with 1 Axes>"
      ]
     },
     "metadata": {
      "needs_background": "light"
     },
     "output_type": "display_data"
    }
   ],
   "source": [
    "#Анализ пропусков в столбцах\n",
    "plt.figure(figsize=(14, 4))\n",
    "sns.heatmap(df.isnull(), cbar=False, yticklabels=False, cmap = 'viridis')"
   ]
  },
  {
   "cell_type": "markdown",
   "metadata": {},
   "source": [
    "## Осмотр и обработка данных и генерация новых признаков "
   ]
  },
  {
   "cell_type": "code",
   "execution_count": 11,
   "metadata": {},
   "outputs": [],
   "source": [
    "def analyse_numeric(datafr, column):\n",
    "    '''Визуализирует распределение числовой переменной.\n",
    "       Принимает параметрами DataFrame и строковое название столбца\n",
    "       Печатает различные статистические показатели и строит гистограмму.'''\n",
    "    count = datafr[column].count()\n",
    "    mean = datafr[column].mean()\n",
    "    std = datafr[column].std()\n",
    "    median = datafr[column].median()\n",
    "    perc25 = datafr[column].quantile(0.25)\n",
    "    perc75 = datafr[column].quantile(0.75)\n",
    "    IQR = perc75 - perc25\n",
    "    range_min = datafr[column].min()\n",
    "    range_max = datafr[column].max()\n",
    "    margin = (range_max - range_min)/10\n",
    "    range_start = range_min - margin\n",
    "    range_stop = range_max + margin\n",
    "    range_ = (range_start, range_stop)\n",
    "    outliers = datafr[column].loc[(datafr[column] < perc25 - 1.5*IQR) | (datafr[column] > perc75 + 1.5*IQR)]\n",
    "\n",
    "    print('Количество: {}, Среднее: {:.3f}, Стандартное отклонение: {:.3f}.'.format(count, mean, std))\n",
    "    print('Минимум: {}, 25-й перцентиль: {}, Медиана: {}, 75-й перцентиль: {}, Максимум: {}, IQR: {}.'\n",
    "          .format(range_min, perc25, median, perc75, range_max, IQR))\n",
    "    print('Количество пропусков в столбце: ', pd.isnull(datafr[column]).sum())\n",
    "    print('Границы выбросов: [{f}, {l}].'.format(f=perc25 - 1.5*IQR, l=perc75 + 1.5*IQR)\n",
    "          , 'Количество выбросов: ', len(outliers))\n",
    "\n",
    "    datafr[column].loc[datafr[column].between(perc25 - 1.5*IQR, perc75 + 1.5*IQR)] \\\n",
    "                  .hist(bins = 30, range = range_, label = 'В границах выбросов')\n",
    "    outliers.hist(bins = 30, range = range_, label = 'Выбросы')\n",
    "    \n",
    "    plt.legend()"
   ]
  },
  {
   "cell_type": "markdown",
   "metadata": {},
   "source": [
    "### restaurant_id"
   ]
  },
  {
   "cell_type": "code",
   "execution_count": 12,
   "metadata": {},
   "outputs": [
    {
     "data": {
      "text/plain": [
       "11909"
      ]
     },
     "execution_count": 12,
     "metadata": {},
     "output_type": "execute_result"
    }
   ],
   "source": [
    "df.restaurant_id.nunique()"
   ]
  },
  {
   "cell_type": "markdown",
   "metadata": {},
   "source": [
    "### city"
   ]
  },
  {
   "cell_type": "code",
   "execution_count": 13,
   "metadata": {
    "scrolled": true
   },
   "outputs": [
    {
     "data": {
      "text/plain": [
       "London        5757\n",
       "Paris         4897\n",
       "Madrid        3108\n",
       "Barcelona     2734\n",
       "Berlin        2155\n",
       "Milan         2133\n",
       "Rome          2078\n",
       "Prague        1443\n",
       "Lisbon        1300\n",
       "Vienna        1166\n",
       "Amsterdam     1086\n",
       "Brussels      1060\n",
       "Hamburg        949\n",
       "Munich         893\n",
       "Lyon           892\n",
       "Stockholm      820\n",
       "Budapest       816\n",
       "Warsaw         727\n",
       "Dublin         673\n",
       "Copenhagen     659\n",
       "Athens         628\n",
       "Edinburgh      596\n",
       "Zurich         538\n",
       "Oporto         513\n",
       "Geneva         481\n",
       "Krakow         443\n",
       "Oslo           385\n",
       "Helsinki       376\n",
       "Bratislava     301\n",
       "Luxembourg     210\n",
       "Ljubljana      183\n",
       "Name: city, dtype: int64"
      ]
     },
     "execution_count": 13,
     "metadata": {},
     "output_type": "execute_result"
    }
   ],
   "source": [
    "df_tmp = df.city.value_counts()\n",
    "df_tmp"
   ]
  },
  {
   "cell_type": "markdown",
   "metadata": {},
   "source": [
    "#### Добавим столбец количества ресторанов в городе"
   ]
  },
  {
   "cell_type": "code",
   "execution_count": 14,
   "metadata": {},
   "outputs": [],
   "source": [
    "df['rests'] = df['city'].apply(lambda x: df_tmp[x])"
   ]
  },
  {
   "cell_type": "markdown",
   "metadata": {},
   "source": [
    "#### Поработаем с популяциями городов. Добавим столбец population двумя разными способми: из внешнего датасета worldcities.csv с https://kaggle.com и из Википедии, https://en.wikipedia.org/wiki/List_of_cities_in_the_European_Union_by_population_within_city_limits и проверим, какой способ лучше."
   ]
  },
  {
   "cell_type": "markdown",
   "metadata": {},
   "source": [
    "#### Способ 1"
   ]
  },
  {
   "cell_type": "code",
   "execution_count": 15,
   "metadata": {},
   "outputs": [],
   "source": [
    "#cities = pd.read_csv('.\\data\\worldcities.csv')\n",
    "#cities.head()"
   ]
  },
  {
   "cell_type": "code",
   "execution_count": 16,
   "metadata": {},
   "outputs": [],
   "source": [
    "def get_population(str_city):\n",
    "    '''Возвращает популяцию города str_city'''\n",
    "    if str_city.lower() == 'oporto': # Такого названия нет в датасете cities\n",
    "        str_city = 'porto'\n",
    "    return cities[cities.city_ascii.str.lower() == str_city.lower()]['population'].max()"
   ]
  },
  {
   "cell_type": "code",
   "execution_count": 17,
   "metadata": {},
   "outputs": [],
   "source": [
    "#df['population'] = df.city.apply(lambda x: get_population(x))"
   ]
  },
  {
   "cell_type": "markdown",
   "metadata": {},
   "source": [
    "#### Способ 2"
   ]
  },
  {
   "cell_type": "code",
   "execution_count": 18,
   "metadata": {},
   "outputs": [],
   "source": [
    "population_dict = {\n",
    "    'London': 9304016,\n",
    "    'Paris': 2140526,\n",
    "    'Madrid': 3348536,\n",
    "    'Barcelona': 1620343,\n",
    "    'Berlin': 3748148,\n",
    "    'Milan': 1404239,\n",
    "    'Rome': 2856133,\n",
    "    'Prague': 1324277,\n",
    "    'Lisbon': 506654,\n",
    "    'Vienna': 1911728,\n",
    "    'Amsterdam': 873555,\n",
    "    'Brussels': 1209000,\n",
    "    'Hamburg': 1841179,\n",
    "    'Munich': 1471508,\n",
    "    'Lyon': 515695,\n",
    "    'Stockholm': 974073,\n",
    "    'Budapest': 1752286,\n",
    "    'Warsaw': 1790658,\n",
    "    'Dublin': 554554,\n",
    "    'Copenhagen': 626508,\n",
    "    'Athens': 664046,\n",
    "    'Edinburgh': 524930,\n",
    "    'Zurich': 415367,\n",
    "    'Oporto': 237559,\n",
    "    'Geneva': 201818,\n",
    "    'Krakow': 779115,\n",
    "    'Oslo': 693491,\n",
    "    'Helsinki': 648042,\n",
    "    'Bratislava': 432864,\n",
    "    'Luxembourg': 613894,\n",
    "    'Ljubljana': 292988\n",
    "}\n",
    "df['population'] = df['city'].map(population_dict)"
   ]
  },
  {
   "cell_type": "markdown",
   "metadata": {},
   "source": [
    "#### Пронормируем столбец population (получим значения в тысячах жителей)"
   ]
  },
  {
   "cell_type": "code",
   "execution_count": 19,
   "metadata": {},
   "outputs": [],
   "source": [
    "df['population'] = df['population'] / 1000"
   ]
  },
  {
   "cell_type": "markdown",
   "metadata": {},
   "source": [
    "#### Добавим столбец плотности ресторанов в городе"
   ]
  },
  {
   "cell_type": "code",
   "execution_count": 20,
   "metadata": {},
   "outputs": [],
   "source": [
    "df['rest_density'] = df.rests / df.population"
   ]
  },
  {
   "cell_type": "markdown",
   "metadata": {},
   "source": [
    "#### Добавим признак capital"
   ]
  },
  {
   "cell_type": "code",
   "execution_count": 21,
   "metadata": {},
   "outputs": [],
   "source": [
    "capitals = ['Paris', 'Stockholm', 'London', 'Berlin',\n",
    "            'Bratislava', 'Vienna', 'Rome', 'Madrid',\n",
    "            'Dublin', 'Brussels', 'Warsaw', 'Budapest', 'Copenhagen',\n",
    "            'Amsterdam', 'Lisbon', 'Prague', 'Oslo',\n",
    "            'Helsinki', 'Ljubljana', 'Athens', 'Luxembourg']\n",
    "#df['capital'] = df['city'].apply(lambda x: x in capitals).astype('uint8')"
   ]
  },
  {
   "cell_type": "markdown",
   "metadata": {},
   "source": [
    "#### Добавим признак country"
   ]
  },
  {
   "cell_type": "code",
   "execution_count": 22,
   "metadata": {},
   "outputs": [],
   "source": [
    "countries_dict = {'Amsterdam': 'Netherlands',\n",
    "             'Athens': 'Greece',\n",
    "             'Barcelona': 'Spain',\n",
    "             'Berlin': 'Germany',\n",
    "             'Bratislava': 'Slovakia',\n",
    "             'Brussels': 'Belgium',\n",
    "             'Budapest': 'Hungary',\n",
    "             'Copenhagen': 'Denmark',\n",
    "             'Dublin': 'Ireland',\n",
    "             'Edinburgh': 'UK',\n",
    "             'Geneva': 'Switzerland',\n",
    "             'Hamburg': 'Germany',\n",
    "             'Helsinki': 'Finland',\n",
    "             'Krakow': 'Poland',\n",
    "             'Lisbon': 'Portugal',\n",
    "             'Ljubljana': 'Slovenia',\n",
    "             'London': 'UK',\n",
    "             'Luxembourg': 'Luxembourg',\n",
    "             'Lyon': 'France',\n",
    "             'Madrid': 'Spain',\n",
    "             'Milan': 'Italy',\n",
    "             'Munich': 'Germany',\n",
    "             'Oporto': 'Portugal',\n",
    "             'Oslo': 'Norway',\n",
    "             'Paris': 'France',\n",
    "             'Prague': 'Czechia',\n",
    "             'Rome': 'Italy',\n",
    "             'Stockholm': 'Sweden',\n",
    "             'Vienna': 'Austria',\n",
    "             'Warsaw': 'Poland',\n",
    "             'Zurich': 'Switzerland'}\n",
    "\n",
    "df['country'] = df['city'].map(countries_dict)\n",
    "#df.country = df.country.apply(lambda s: s + '_')"
   ]
  },
  {
   "cell_type": "markdown",
   "metadata": {},
   "source": [
    "#### Добавим dummies по странам"
   ]
  },
  {
   "cell_type": "code",
   "execution_count": 23,
   "metadata": {
    "scrolled": true
   },
   "outputs": [
    {
     "data": {
      "text/html": [
       "<div>\n",
       "<style scoped>\n",
       "    .dataframe tbody tr th:only-of-type {\n",
       "        vertical-align: middle;\n",
       "    }\n",
       "\n",
       "    .dataframe tbody tr th {\n",
       "        vertical-align: top;\n",
       "    }\n",
       "\n",
       "    .dataframe thead th {\n",
       "        text-align: right;\n",
       "    }\n",
       "</style>\n",
       "<table border=\"1\" class=\"dataframe\">\n",
       "  <thead>\n",
       "    <tr style=\"text-align: right;\">\n",
       "      <th></th>\n",
       "      <th>restaurant_id</th>\n",
       "      <th>city</th>\n",
       "      <th>cuisine_style</th>\n",
       "      <th>ranking</th>\n",
       "      <th>rating</th>\n",
       "      <th>price_range</th>\n",
       "      <th>reviews_number</th>\n",
       "      <th>reviews</th>\n",
       "      <th>url_ta</th>\n",
       "      <th>id_ta</th>\n",
       "      <th>rests</th>\n",
       "      <th>population</th>\n",
       "      <th>rest_density</th>\n",
       "      <th>country_Austria</th>\n",
       "      <th>country_Belgium</th>\n",
       "      <th>country_Czechia</th>\n",
       "      <th>country_Denmark</th>\n",
       "      <th>country_Finland</th>\n",
       "      <th>country_France</th>\n",
       "      <th>country_Germany</th>\n",
       "      <th>country_Greece</th>\n",
       "      <th>country_Hungary</th>\n",
       "      <th>country_Ireland</th>\n",
       "      <th>country_Italy</th>\n",
       "      <th>country_Luxembourg</th>\n",
       "      <th>country_Netherlands</th>\n",
       "      <th>country_Norway</th>\n",
       "      <th>country_Poland</th>\n",
       "      <th>country_Portugal</th>\n",
       "      <th>country_Slovakia</th>\n",
       "      <th>country_Slovenia</th>\n",
       "      <th>country_Spain</th>\n",
       "      <th>country_Sweden</th>\n",
       "      <th>country_Switzerland</th>\n",
       "      <th>country_UK</th>\n",
       "    </tr>\n",
       "  </thead>\n",
       "  <tbody>\n",
       "    <tr>\n",
       "      <th>0</th>\n",
       "      <td>id_5569</td>\n",
       "      <td>Paris</td>\n",
       "      <td>['European', 'French', 'International']</td>\n",
       "      <td>5570.0</td>\n",
       "      <td>3.5</td>\n",
       "      <td>$$ - $$$</td>\n",
       "      <td>194.0</td>\n",
       "      <td>[['Good food at your doorstep', 'A good hotel ...</td>\n",
       "      <td>/Restaurant_Review-g187147-d1912643-Reviews-R_...</td>\n",
       "      <td>d1912643</td>\n",
       "      <td>4897</td>\n",
       "      <td>2140.526</td>\n",
       "      <td>2.287755</td>\n",
       "      <td>0</td>\n",
       "      <td>0</td>\n",
       "      <td>0</td>\n",
       "      <td>0</td>\n",
       "      <td>0</td>\n",
       "      <td>1</td>\n",
       "      <td>0</td>\n",
       "      <td>0</td>\n",
       "      <td>0</td>\n",
       "      <td>0</td>\n",
       "      <td>0</td>\n",
       "      <td>0</td>\n",
       "      <td>0</td>\n",
       "      <td>0</td>\n",
       "      <td>0</td>\n",
       "      <td>0</td>\n",
       "      <td>0</td>\n",
       "      <td>0</td>\n",
       "      <td>0</td>\n",
       "      <td>0</td>\n",
       "      <td>0</td>\n",
       "      <td>0</td>\n",
       "    </tr>\n",
       "    <tr>\n",
       "      <th>1</th>\n",
       "      <td>id_1535</td>\n",
       "      <td>Stockholm</td>\n",
       "      <td>NaN</td>\n",
       "      <td>1537.0</td>\n",
       "      <td>4.0</td>\n",
       "      <td>NaN</td>\n",
       "      <td>10.0</td>\n",
       "      <td>[['Unique cuisine', 'Delicious Nepalese food']...</td>\n",
       "      <td>/Restaurant_Review-g189852-d7992032-Reviews-Bu...</td>\n",
       "      <td>d7992032</td>\n",
       "      <td>820</td>\n",
       "      <td>974.073</td>\n",
       "      <td>0.841826</td>\n",
       "      <td>0</td>\n",
       "      <td>0</td>\n",
       "      <td>0</td>\n",
       "      <td>0</td>\n",
       "      <td>0</td>\n",
       "      <td>0</td>\n",
       "      <td>0</td>\n",
       "      <td>0</td>\n",
       "      <td>0</td>\n",
       "      <td>0</td>\n",
       "      <td>0</td>\n",
       "      <td>0</td>\n",
       "      <td>0</td>\n",
       "      <td>0</td>\n",
       "      <td>0</td>\n",
       "      <td>0</td>\n",
       "      <td>0</td>\n",
       "      <td>0</td>\n",
       "      <td>0</td>\n",
       "      <td>1</td>\n",
       "      <td>0</td>\n",
       "      <td>0</td>\n",
       "    </tr>\n",
       "    <tr>\n",
       "      <th>2</th>\n",
       "      <td>id_352</td>\n",
       "      <td>London</td>\n",
       "      <td>['Japanese', 'Sushi', 'Asian', 'Grill', 'Veget...</td>\n",
       "      <td>353.0</td>\n",
       "      <td>4.5</td>\n",
       "      <td>$$$$</td>\n",
       "      <td>688.0</td>\n",
       "      <td>[['Catch up with friends', 'Not exceptional'],...</td>\n",
       "      <td>/Restaurant_Review-g186338-d8632781-Reviews-RO...</td>\n",
       "      <td>d8632781</td>\n",
       "      <td>5757</td>\n",
       "      <td>9304.016</td>\n",
       "      <td>0.618765</td>\n",
       "      <td>0</td>\n",
       "      <td>0</td>\n",
       "      <td>0</td>\n",
       "      <td>0</td>\n",
       "      <td>0</td>\n",
       "      <td>0</td>\n",
       "      <td>0</td>\n",
       "      <td>0</td>\n",
       "      <td>0</td>\n",
       "      <td>0</td>\n",
       "      <td>0</td>\n",
       "      <td>0</td>\n",
       "      <td>0</td>\n",
       "      <td>0</td>\n",
       "      <td>0</td>\n",
       "      <td>0</td>\n",
       "      <td>0</td>\n",
       "      <td>0</td>\n",
       "      <td>0</td>\n",
       "      <td>0</td>\n",
       "      <td>0</td>\n",
       "      <td>1</td>\n",
       "    </tr>\n",
       "  </tbody>\n",
       "</table>\n",
       "</div>"
      ],
      "text/plain": [
       "  restaurant_id       city                                      cuisine_style  \\\n",
       "0       id_5569      Paris            ['European', 'French', 'International']   \n",
       "1       id_1535  Stockholm                                                NaN   \n",
       "2        id_352     London  ['Japanese', 'Sushi', 'Asian', 'Grill', 'Veget...   \n",
       "\n",
       "   ranking  rating price_range  reviews_number  \\\n",
       "0   5570.0     3.5    $$ - $$$           194.0   \n",
       "1   1537.0     4.0         NaN            10.0   \n",
       "2    353.0     4.5        $$$$           688.0   \n",
       "\n",
       "                                             reviews  \\\n",
       "0  [['Good food at your doorstep', 'A good hotel ...   \n",
       "1  [['Unique cuisine', 'Delicious Nepalese food']...   \n",
       "2  [['Catch up with friends', 'Not exceptional'],...   \n",
       "\n",
       "                                              url_ta     id_ta  rests  \\\n",
       "0  /Restaurant_Review-g187147-d1912643-Reviews-R_...  d1912643   4897   \n",
       "1  /Restaurant_Review-g189852-d7992032-Reviews-Bu...  d7992032    820   \n",
       "2  /Restaurant_Review-g186338-d8632781-Reviews-RO...  d8632781   5757   \n",
       "\n",
       "   population  rest_density  country_Austria  country_Belgium  \\\n",
       "0    2140.526      2.287755                0                0   \n",
       "1     974.073      0.841826                0                0   \n",
       "2    9304.016      0.618765                0                0   \n",
       "\n",
       "   country_Czechia  country_Denmark  country_Finland  country_France  \\\n",
       "0                0                0                0               1   \n",
       "1                0                0                0               0   \n",
       "2                0                0                0               0   \n",
       "\n",
       "   country_Germany  country_Greece  country_Hungary  country_Ireland  \\\n",
       "0                0               0                0                0   \n",
       "1                0               0                0                0   \n",
       "2                0               0                0                0   \n",
       "\n",
       "   country_Italy  country_Luxembourg  country_Netherlands  country_Norway  \\\n",
       "0              0                   0                    0               0   \n",
       "1              0                   0                    0               0   \n",
       "2              0                   0                    0               0   \n",
       "\n",
       "   country_Poland  country_Portugal  country_Slovakia  country_Slovenia  \\\n",
       "0               0                 0                 0                 0   \n",
       "1               0                 0                 0                 0   \n",
       "2               0                 0                 0                 0   \n",
       "\n",
       "   country_Spain  country_Sweden  country_Switzerland  country_UK  \n",
       "0              0               0                    0           0  \n",
       "1              0               1                    0           0  \n",
       "2              0               0                    0           1  "
      ]
     },
     "execution_count": 23,
     "metadata": {},
     "output_type": "execute_result"
    }
   ],
   "source": [
    "#df = pd.concat([df, pd.get_dummies(df.country)], axis=1)\n",
    "df = pd.get_dummies(df, columns=['country']) # , dummy_na=True # в странах пропусков нет\n",
    "df.head(3)"
   ]
  },
  {
   "cell_type": "markdown",
   "metadata": {},
   "source": [
    "#### Добавим dummies по городам"
   ]
  },
  {
   "cell_type": "code",
   "execution_count": 24,
   "metadata": {},
   "outputs": [
    {
     "data": {
      "text/html": [
       "<div>\n",
       "<style scoped>\n",
       "    .dataframe tbody tr th:only-of-type {\n",
       "        vertical-align: middle;\n",
       "    }\n",
       "\n",
       "    .dataframe tbody tr th {\n",
       "        vertical-align: top;\n",
       "    }\n",
       "\n",
       "    .dataframe thead th {\n",
       "        text-align: right;\n",
       "    }\n",
       "</style>\n",
       "<table border=\"1\" class=\"dataframe\">\n",
       "  <thead>\n",
       "    <tr style=\"text-align: right;\">\n",
       "      <th></th>\n",
       "      <th>restaurant_id</th>\n",
       "      <th>cuisine_style</th>\n",
       "      <th>ranking</th>\n",
       "      <th>rating</th>\n",
       "      <th>price_range</th>\n",
       "      <th>reviews_number</th>\n",
       "      <th>reviews</th>\n",
       "      <th>url_ta</th>\n",
       "      <th>id_ta</th>\n",
       "      <th>rests</th>\n",
       "      <th>population</th>\n",
       "      <th>rest_density</th>\n",
       "      <th>country_Austria</th>\n",
       "      <th>country_Belgium</th>\n",
       "      <th>country_Czechia</th>\n",
       "      <th>country_Denmark</th>\n",
       "      <th>country_Finland</th>\n",
       "      <th>country_France</th>\n",
       "      <th>country_Germany</th>\n",
       "      <th>country_Greece</th>\n",
       "      <th>country_Hungary</th>\n",
       "      <th>country_Ireland</th>\n",
       "      <th>country_Italy</th>\n",
       "      <th>country_Luxembourg</th>\n",
       "      <th>country_Netherlands</th>\n",
       "      <th>country_Norway</th>\n",
       "      <th>country_Poland</th>\n",
       "      <th>country_Portugal</th>\n",
       "      <th>country_Slovakia</th>\n",
       "      <th>country_Slovenia</th>\n",
       "      <th>country_Spain</th>\n",
       "      <th>country_Sweden</th>\n",
       "      <th>country_Switzerland</th>\n",
       "      <th>country_UK</th>\n",
       "      <th>city_Amsterdam</th>\n",
       "      <th>city_Athens</th>\n",
       "      <th>city_Barcelona</th>\n",
       "      <th>city_Berlin</th>\n",
       "      <th>city_Bratislava</th>\n",
       "      <th>city_Brussels</th>\n",
       "      <th>city_Budapest</th>\n",
       "      <th>city_Copenhagen</th>\n",
       "      <th>city_Dublin</th>\n",
       "      <th>city_Edinburgh</th>\n",
       "      <th>city_Geneva</th>\n",
       "      <th>city_Hamburg</th>\n",
       "      <th>city_Helsinki</th>\n",
       "      <th>city_Krakow</th>\n",
       "      <th>city_Lisbon</th>\n",
       "      <th>city_Ljubljana</th>\n",
       "      <th>city_London</th>\n",
       "      <th>city_Luxembourg</th>\n",
       "      <th>city_Lyon</th>\n",
       "      <th>city_Madrid</th>\n",
       "      <th>city_Milan</th>\n",
       "      <th>city_Munich</th>\n",
       "      <th>city_Oporto</th>\n",
       "      <th>city_Oslo</th>\n",
       "      <th>city_Paris</th>\n",
       "      <th>city_Prague</th>\n",
       "      <th>city_Rome</th>\n",
       "      <th>city_Stockholm</th>\n",
       "      <th>city_Vienna</th>\n",
       "      <th>city_Warsaw</th>\n",
       "      <th>city_Zurich</th>\n",
       "    </tr>\n",
       "  </thead>\n",
       "  <tbody>\n",
       "    <tr>\n",
       "      <th>0</th>\n",
       "      <td>id_5569</td>\n",
       "      <td>['European', 'French', 'International']</td>\n",
       "      <td>5570.0</td>\n",
       "      <td>3.5</td>\n",
       "      <td>$$ - $$$</td>\n",
       "      <td>194.0</td>\n",
       "      <td>[['Good food at your doorstep', 'A good hotel ...</td>\n",
       "      <td>/Restaurant_Review-g187147-d1912643-Reviews-R_...</td>\n",
       "      <td>d1912643</td>\n",
       "      <td>4897</td>\n",
       "      <td>2140.526</td>\n",
       "      <td>2.287755</td>\n",
       "      <td>0</td>\n",
       "      <td>0</td>\n",
       "      <td>0</td>\n",
       "      <td>0</td>\n",
       "      <td>0</td>\n",
       "      <td>1</td>\n",
       "      <td>0</td>\n",
       "      <td>0</td>\n",
       "      <td>0</td>\n",
       "      <td>0</td>\n",
       "      <td>0</td>\n",
       "      <td>0</td>\n",
       "      <td>0</td>\n",
       "      <td>0</td>\n",
       "      <td>0</td>\n",
       "      <td>0</td>\n",
       "      <td>0</td>\n",
       "      <td>0</td>\n",
       "      <td>0</td>\n",
       "      <td>0</td>\n",
       "      <td>0</td>\n",
       "      <td>0</td>\n",
       "      <td>0</td>\n",
       "      <td>0</td>\n",
       "      <td>0</td>\n",
       "      <td>0</td>\n",
       "      <td>0</td>\n",
       "      <td>0</td>\n",
       "      <td>0</td>\n",
       "      <td>0</td>\n",
       "      <td>0</td>\n",
       "      <td>0</td>\n",
       "      <td>0</td>\n",
       "      <td>0</td>\n",
       "      <td>0</td>\n",
       "      <td>0</td>\n",
       "      <td>0</td>\n",
       "      <td>0</td>\n",
       "      <td>0</td>\n",
       "      <td>0</td>\n",
       "      <td>0</td>\n",
       "      <td>0</td>\n",
       "      <td>0</td>\n",
       "      <td>0</td>\n",
       "      <td>0</td>\n",
       "      <td>0</td>\n",
       "      <td>1</td>\n",
       "      <td>0</td>\n",
       "      <td>0</td>\n",
       "      <td>0</td>\n",
       "      <td>0</td>\n",
       "      <td>0</td>\n",
       "      <td>0</td>\n",
       "    </tr>\n",
       "    <tr>\n",
       "      <th>1</th>\n",
       "      <td>id_1535</td>\n",
       "      <td>NaN</td>\n",
       "      <td>1537.0</td>\n",
       "      <td>4.0</td>\n",
       "      <td>NaN</td>\n",
       "      <td>10.0</td>\n",
       "      <td>[['Unique cuisine', 'Delicious Nepalese food']...</td>\n",
       "      <td>/Restaurant_Review-g189852-d7992032-Reviews-Bu...</td>\n",
       "      <td>d7992032</td>\n",
       "      <td>820</td>\n",
       "      <td>974.073</td>\n",
       "      <td>0.841826</td>\n",
       "      <td>0</td>\n",
       "      <td>0</td>\n",
       "      <td>0</td>\n",
       "      <td>0</td>\n",
       "      <td>0</td>\n",
       "      <td>0</td>\n",
       "      <td>0</td>\n",
       "      <td>0</td>\n",
       "      <td>0</td>\n",
       "      <td>0</td>\n",
       "      <td>0</td>\n",
       "      <td>0</td>\n",
       "      <td>0</td>\n",
       "      <td>0</td>\n",
       "      <td>0</td>\n",
       "      <td>0</td>\n",
       "      <td>0</td>\n",
       "      <td>0</td>\n",
       "      <td>0</td>\n",
       "      <td>1</td>\n",
       "      <td>0</td>\n",
       "      <td>0</td>\n",
       "      <td>0</td>\n",
       "      <td>0</td>\n",
       "      <td>0</td>\n",
       "      <td>0</td>\n",
       "      <td>0</td>\n",
       "      <td>0</td>\n",
       "      <td>0</td>\n",
       "      <td>0</td>\n",
       "      <td>0</td>\n",
       "      <td>0</td>\n",
       "      <td>0</td>\n",
       "      <td>0</td>\n",
       "      <td>0</td>\n",
       "      <td>0</td>\n",
       "      <td>0</td>\n",
       "      <td>0</td>\n",
       "      <td>0</td>\n",
       "      <td>0</td>\n",
       "      <td>0</td>\n",
       "      <td>0</td>\n",
       "      <td>0</td>\n",
       "      <td>0</td>\n",
       "      <td>0</td>\n",
       "      <td>0</td>\n",
       "      <td>0</td>\n",
       "      <td>0</td>\n",
       "      <td>0</td>\n",
       "      <td>1</td>\n",
       "      <td>0</td>\n",
       "      <td>0</td>\n",
       "      <td>0</td>\n",
       "    </tr>\n",
       "    <tr>\n",
       "      <th>2</th>\n",
       "      <td>id_352</td>\n",
       "      <td>['Japanese', 'Sushi', 'Asian', 'Grill', 'Veget...</td>\n",
       "      <td>353.0</td>\n",
       "      <td>4.5</td>\n",
       "      <td>$$$$</td>\n",
       "      <td>688.0</td>\n",
       "      <td>[['Catch up with friends', 'Not exceptional'],...</td>\n",
       "      <td>/Restaurant_Review-g186338-d8632781-Reviews-RO...</td>\n",
       "      <td>d8632781</td>\n",
       "      <td>5757</td>\n",
       "      <td>9304.016</td>\n",
       "      <td>0.618765</td>\n",
       "      <td>0</td>\n",
       "      <td>0</td>\n",
       "      <td>0</td>\n",
       "      <td>0</td>\n",
       "      <td>0</td>\n",
       "      <td>0</td>\n",
       "      <td>0</td>\n",
       "      <td>0</td>\n",
       "      <td>0</td>\n",
       "      <td>0</td>\n",
       "      <td>0</td>\n",
       "      <td>0</td>\n",
       "      <td>0</td>\n",
       "      <td>0</td>\n",
       "      <td>0</td>\n",
       "      <td>0</td>\n",
       "      <td>0</td>\n",
       "      <td>0</td>\n",
       "      <td>0</td>\n",
       "      <td>0</td>\n",
       "      <td>0</td>\n",
       "      <td>1</td>\n",
       "      <td>0</td>\n",
       "      <td>0</td>\n",
       "      <td>0</td>\n",
       "      <td>0</td>\n",
       "      <td>0</td>\n",
       "      <td>0</td>\n",
       "      <td>0</td>\n",
       "      <td>0</td>\n",
       "      <td>0</td>\n",
       "      <td>0</td>\n",
       "      <td>0</td>\n",
       "      <td>0</td>\n",
       "      <td>0</td>\n",
       "      <td>0</td>\n",
       "      <td>0</td>\n",
       "      <td>0</td>\n",
       "      <td>1</td>\n",
       "      <td>0</td>\n",
       "      <td>0</td>\n",
       "      <td>0</td>\n",
       "      <td>0</td>\n",
       "      <td>0</td>\n",
       "      <td>0</td>\n",
       "      <td>0</td>\n",
       "      <td>0</td>\n",
       "      <td>0</td>\n",
       "      <td>0</td>\n",
       "      <td>0</td>\n",
       "      <td>0</td>\n",
       "      <td>0</td>\n",
       "      <td>0</td>\n",
       "    </tr>\n",
       "  </tbody>\n",
       "</table>\n",
       "</div>"
      ],
      "text/plain": [
       "  restaurant_id                                      cuisine_style  ranking  \\\n",
       "0       id_5569            ['European', 'French', 'International']   5570.0   \n",
       "1       id_1535                                                NaN   1537.0   \n",
       "2        id_352  ['Japanese', 'Sushi', 'Asian', 'Grill', 'Veget...    353.0   \n",
       "\n",
       "   rating price_range  reviews_number  \\\n",
       "0     3.5    $$ - $$$           194.0   \n",
       "1     4.0         NaN            10.0   \n",
       "2     4.5        $$$$           688.0   \n",
       "\n",
       "                                             reviews  \\\n",
       "0  [['Good food at your doorstep', 'A good hotel ...   \n",
       "1  [['Unique cuisine', 'Delicious Nepalese food']...   \n",
       "2  [['Catch up with friends', 'Not exceptional'],...   \n",
       "\n",
       "                                              url_ta     id_ta  rests  \\\n",
       "0  /Restaurant_Review-g187147-d1912643-Reviews-R_...  d1912643   4897   \n",
       "1  /Restaurant_Review-g189852-d7992032-Reviews-Bu...  d7992032    820   \n",
       "2  /Restaurant_Review-g186338-d8632781-Reviews-RO...  d8632781   5757   \n",
       "\n",
       "   population  rest_density  country_Austria  country_Belgium  \\\n",
       "0    2140.526      2.287755                0                0   \n",
       "1     974.073      0.841826                0                0   \n",
       "2    9304.016      0.618765                0                0   \n",
       "\n",
       "   country_Czechia  country_Denmark  country_Finland  country_France  \\\n",
       "0                0                0                0               1   \n",
       "1                0                0                0               0   \n",
       "2                0                0                0               0   \n",
       "\n",
       "   country_Germany  country_Greece  country_Hungary  country_Ireland  \\\n",
       "0                0               0                0                0   \n",
       "1                0               0                0                0   \n",
       "2                0               0                0                0   \n",
       "\n",
       "   country_Italy  country_Luxembourg  country_Netherlands  country_Norway  \\\n",
       "0              0                   0                    0               0   \n",
       "1              0                   0                    0               0   \n",
       "2              0                   0                    0               0   \n",
       "\n",
       "   country_Poland  country_Portugal  country_Slovakia  country_Slovenia  \\\n",
       "0               0                 0                 0                 0   \n",
       "1               0                 0                 0                 0   \n",
       "2               0                 0                 0                 0   \n",
       "\n",
       "   country_Spain  country_Sweden  country_Switzerland  country_UK  \\\n",
       "0              0               0                    0           0   \n",
       "1              0               1                    0           0   \n",
       "2              0               0                    0           1   \n",
       "\n",
       "   city_Amsterdam  city_Athens  city_Barcelona  city_Berlin  city_Bratislava  \\\n",
       "0               0            0               0            0                0   \n",
       "1               0            0               0            0                0   \n",
       "2               0            0               0            0                0   \n",
       "\n",
       "   city_Brussels  city_Budapest  city_Copenhagen  city_Dublin  city_Edinburgh  \\\n",
       "0              0              0                0            0               0   \n",
       "1              0              0                0            0               0   \n",
       "2              0              0                0            0               0   \n",
       "\n",
       "   city_Geneva  city_Hamburg  city_Helsinki  city_Krakow  city_Lisbon  \\\n",
       "0            0             0              0            0            0   \n",
       "1            0             0              0            0            0   \n",
       "2            0             0              0            0            0   \n",
       "\n",
       "   city_Ljubljana  city_London  city_Luxembourg  city_Lyon  city_Madrid  \\\n",
       "0               0            0                0          0            0   \n",
       "1               0            0                0          0            0   \n",
       "2               0            1                0          0            0   \n",
       "\n",
       "   city_Milan  city_Munich  city_Oporto  city_Oslo  city_Paris  city_Prague  \\\n",
       "0           0            0            0          0           1            0   \n",
       "1           0            0            0          0           0            0   \n",
       "2           0            0            0          0           0            0   \n",
       "\n",
       "   city_Rome  city_Stockholm  city_Vienna  city_Warsaw  city_Zurich  \n",
       "0          0               0            0            0            0  \n",
       "1          0               1            0            0            0  \n",
       "2          0               0            0            0            0  "
      ]
     },
     "execution_count": 24,
     "metadata": {},
     "output_type": "execute_result"
    }
   ],
   "source": [
    "# Альтернативный вариант кода: df = pd.concat([df, pd.get_dummies(df.city)], axis=1) - Не добавляет префикс city\n",
    "df = pd.get_dummies(df, columns=['city',]) # , dummy_na=True # в городах пропусков нет\n",
    "df.head(3)"
   ]
  },
  {
   "cell_type": "markdown",
   "metadata": {},
   "source": [
    "### cuisine_style"
   ]
  },
  {
   "cell_type": "code",
   "execution_count": 25,
   "metadata": {
    "scrolled": false
   },
   "outputs": [
    {
     "data": {
      "text/plain": [
       "['Italian']                                                                                                        1032\n",
       "['French']                                                                                                          805\n",
       "['Spanish']                                                                                                         695\n",
       "['French', 'European']                                                                                              405\n",
       "['Cafe']                                                                                                            403\n",
       "                                                                                                                   ... \n",
       "['Eastern European', 'Romanian', 'European', 'Vegetarian Friendly']                                                   1\n",
       "['Bar', 'Mediterranean', 'European', 'Contemporary', 'Pub', 'Portuguese']                                             1\n",
       "['Cafe', 'Fast Food', 'Soups', 'Vegetarian Friendly']                                                                 1\n",
       "['Bar', 'Sushi', 'Japanese', 'Grill', 'Healthy', 'Vegetarian Friendly', 'Gluten Free Options', 'Vegan Options']       1\n",
       "['Bar', 'Seafood', 'Mediterranean', 'Spanish']                                                                        1\n",
       "Name: cuisine_style, Length: 9007, dtype: int64"
      ]
     },
     "execution_count": 25,
     "metadata": {},
     "output_type": "execute_result"
    }
   ],
   "source": [
    "df.cuisine_style.value_counts()"
   ]
  },
  {
   "cell_type": "code",
   "execution_count": 26,
   "metadata": {},
   "outputs": [],
   "source": [
    "df['cuisine_style_isna'] = pd.isna(df.cuisine_style).astype('uint8')"
   ]
  },
  {
   "cell_type": "code",
   "execution_count": 27,
   "metadata": {},
   "outputs": [],
   "source": [
    "df.cuisine_style.fillna('1', inplace=True)"
   ]
  },
  {
   "cell_type": "code",
   "execution_count": 28,
   "metadata": {},
   "outputs": [],
   "source": [
    "df['cuisine'] = df.cuisine_style.str[1:-1].str.split(', ')"
   ]
  },
  {
   "cell_type": "code",
   "execution_count": 29,
   "metadata": {},
   "outputs": [
    {
     "data": {
      "text/plain": [
       "0              ['European', 'French', 'International']\n",
       "1                                                   []\n",
       "2    ['Japanese', 'Sushi', 'Asian', 'Grill', 'Veget...\n",
       "3                                                   []\n",
       "4    ['German', 'Central European', 'Vegetarian Fri...\n",
       "Name: cuisine, dtype: object"
      ]
     },
     "execution_count": 29,
     "metadata": {},
     "output_type": "execute_result"
    }
   ],
   "source": [
    "df['cuisine'].head()"
   ]
  },
  {
   "cell_type": "code",
   "execution_count": 30,
   "metadata": {},
   "outputs": [
    {
     "data": {
      "text/plain": [
       "126"
      ]
     },
     "execution_count": 30,
     "metadata": {},
     "output_type": "execute_result"
    }
   ],
   "source": [
    "len(df.explode('cuisine')['cuisine'].value_counts())"
   ]
  },
  {
   "cell_type": "code",
   "execution_count": 31,
   "metadata": {},
   "outputs": [],
   "source": [
    "# Создадим новый признак - количество кухонь, представленных рестораном\n",
    "df['cuisines_number'] = df['cuisine'].apply( lambda x: 1.0 if len(x)==0 else float(len(x)))"
   ]
  },
  {
   "cell_type": "markdown",
   "metadata": {},
   "source": [
    "### ranking"
   ]
  },
  {
   "cell_type": "code",
   "execution_count": 32,
   "metadata": {
    "scrolled": true
   },
   "outputs": [
    {
     "name": "stdout",
     "output_type": "stream",
     "text": [
      "Количество: 40000, Среднее: 3676.029, Стандартное отклонение: 3708.750.\n",
      "Минимум: 1.0, 25-й перцентиль: 973.0, Медиана: 2285.0, 75-й перцентиль: 5260.0, Максимум: 16444.0, IQR: 4287.0.\n",
      "Количество пропусков в столбце:  0\n",
      "Границы выбросов: [-5457.5, 11690.5]. Количество выбросов:  2450\n"
     ]
    },
    {
     "data": {
      "image/png": "[encoded data removed]",
      "text/plain": [
       "<Figure size 432x288 with 1 Axes>"
      ]
     },
     "metadata": {
      "needs_background": "light"
     },
     "output_type": "display_data"
    }
   ],
   "source": [
    "analyse_numeric(df, 'ranking')"
   ]
  },
  {
   "cell_type": "code",
   "execution_count": 33,
   "metadata": {},
   "outputs": [],
   "source": [
    "# Удалим грубые выбросы\n",
    "#df=df[df.ranking < 13000]"
   ]
  },
  {
   "cell_type": "code",
   "execution_count": 34,
   "metadata": {},
   "outputs": [],
   "source": [
    "# Создадим новый признак путем нормирования ranking к количеству ресторанов в городе\n",
    "df['ranking_norm_rests'] = df.ranking / df.rests"
   ]
  },
  {
   "cell_type": "markdown",
   "metadata": {},
   "source": [
    "### rating"
   ]
  },
  {
   "cell_type": "code",
   "execution_count": 35,
   "metadata": {
    "scrolled": true
   },
   "outputs": [
    {
     "name": "stdout",
     "output_type": "stream",
     "text": [
      "Количество: 40000, Среднее: 3.993, Стандартное отклонение: 0.668.\n",
      "Минимум: 1.0, 25-й перцентиль: 3.5, Медиана: 4.0, 75-й перцентиль: 4.5, Максимум: 5.0, IQR: 1.0.\n",
      "Количество пропусков в столбце:  0\n",
      "Границы выбросов: [2.0, 6.0]. Количество выбросов:  340\n"
     ]
    },
    {
     "data": {
      "image/png": "[encoded data removed]",
      "text/plain": [
       "<Figure size 432x288 with 1 Axes>"
      ]
     },
     "metadata": {
      "needs_background": "light"
     },
     "output_type": "display_data"
    }
   ],
   "source": [
    "analyse_numeric(df, 'rating')"
   ]
  },
  {
   "cell_type": "markdown",
   "metadata": {},
   "source": [
    "### price_range"
   ]
  },
  {
   "cell_type": "code",
   "execution_count": 36,
   "metadata": {
    "scrolled": true
   },
   "outputs": [
    {
     "data": {
      "text/plain": [
       "$$ - $$$    18412\n",
       "NaN         13886\n",
       "$            6279\n",
       "$$$$         1423\n",
       "Name: price_range, dtype: int64"
      ]
     },
     "execution_count": 36,
     "metadata": {},
     "output_type": "execute_result"
    }
   ],
   "source": [
    "df.price_range.value_counts(dropna=False)"
   ]
  },
  {
   "cell_type": "code",
   "execution_count": 37,
   "metadata": {},
   "outputs": [],
   "source": [
    "df['price_range_isna'] = pd.isna(df.price_range).astype('uint8')"
   ]
  },
  {
   "cell_type": "code",
   "execution_count": 38,
   "metadata": {},
   "outputs": [],
   "source": [
    "# Либо так:\n",
    "#df['price_range_label'] = df.price_range.apply(lambda x: 1.0 if x=='$' else 2.5 if x=='$$ - $$$' else 4.0 if x=='$$$$' else np.nan)\n",
    "# и заполним медианой по городам\n",
    "#df.price_range_label = df.apply(lambda row: df[df.city==row.city].price_range_label.median() if pd.isna(row.price_range_label) \\\n",
    "#                                                                                     else row.price_range_label, axis=1)\n",
    "\n",
    "# Либо так:\n",
    "df['price_range_label'] = df.price_range.apply(lambda x: 2.5 if pd.isnull(x) else 1.0 if x=='$' else 2.5 if x=='$$ - $$$' else 4.0)"
   ]
  },
  {
   "cell_type": "markdown",
   "metadata": {},
   "source": [
    "### reviews_number"
   ]
  },
  {
   "cell_type": "code",
   "execution_count": 39,
   "metadata": {
    "scrolled": false
   },
   "outputs": [
    {
     "name": "stdout",
     "output_type": "stream",
     "text": [
      "Количество: 37457, Среднее: 124.825, Стандартное отклонение: 295.666.\n",
      "Минимум: 2.0, 25-й перцентиль: 9.0, Медиана: 33.0, 75-й перцентиль: 115.0, Максимум: 9660.0, IQR: 106.0.\n",
      "Количество пропусков в столбце:  2543\n",
      "Границы выбросов: [-150.0, 274.0]. Количество выбросов:  4348\n"
     ]
    },
    {
     "data": {
      "image/png": "[encoded data removed]",
      "text/plain": [
       "<Figure size 432x288 with 1 Axes>"
      ]
     },
     "metadata": {
      "needs_background": "light"
     },
     "output_type": "display_data"
    }
   ],
   "source": [
    "analyse_numeric(df, 'reviews_number')"
   ]
  },
  {
   "cell_type": "code",
   "execution_count": 40,
   "metadata": {},
   "outputs": [],
   "source": [
    "df['reviews_number_isna'] = pd.isna(df.reviews_number).astype('uint8')"
   ]
  },
  {
   "cell_type": "code",
   "execution_count": 41,
   "metadata": {
    "scrolled": true
   },
   "outputs": [
    {
     "data": {
      "text/plain": [
       "140"
      ]
     },
     "execution_count": 41,
     "metadata": {},
     "output_type": "execute_result"
    }
   ],
   "source": [
    "len(df[df.reviews_number > 2000])"
   ]
  },
  {
   "cell_type": "code",
   "execution_count": 42,
   "metadata": {},
   "outputs": [],
   "source": [
    "#Удалим грубые выбросы\n",
    "#df=df[df.reviews_number < 2000]"
   ]
  },
  {
   "cell_type": "code",
   "execution_count": 43,
   "metadata": {},
   "outputs": [],
   "source": [
    "#!!! Нужно пробовать одно из двух!!!\n",
    "# Замена пропусков медианой по соответствующему городу\n",
    "#df.reviews_number = df.apply(lambda row: df[df.city==row.city].reviews_number.median() if pd.isna(row.reviews_number) \\\n",
    "#                                                                                     else row.reviews_number, axis=1)\n",
    "\n",
    "# Замена пропусков нулевым значением\n",
    "df.reviews_number.fillna(0, inplace=True)"
   ]
  },
  {
   "cell_type": "code",
   "execution_count": 44,
   "metadata": {},
   "outputs": [],
   "source": [
    "# Нормируем количество отзывов к населению города\n",
    "df['reviews_number_norm'] = df.reviews_number / df.population"
   ]
  },
  {
   "cell_type": "markdown",
   "metadata": {},
   "source": [
    "### reviews"
   ]
  },
  {
   "cell_type": "code",
   "execution_count": 45,
   "metadata": {
    "scrolled": false
   },
   "outputs": [
    {
     "data": {
      "text/plain": [
       "[[], []]                                                                                                6471\n",
       "[['Great food, service and atmosphere', 'Decor and food'], ['11/06/2017', '10/22/2017']]                   2\n",
       "[['The real codido madrileño'], ['03/31/2017']]                                                            2\n",
       "[['Simply Excellent!', 'Modern!'], ['10/22/2017', '08/29/2017']]                                           2\n",
       "[['Sat night', 'Can\\'t even explain.. \"A\" place.. A \"100...'], ['10/22/2017', '05/11/2017']]               2\n",
       "                                                                                                        ... \n",
       "[['Good bar', 'Great little bar'], ['11/19/2017', '11/06/2017']]                                           1\n",
       "[['Restaurant at the rear', 'Civilized, Classic Madrid'], ['03/21/2017', '09/06/2017']]                    1\n",
       "[['Best traditional cooking ever!', 'the real taste'], ['12/19/2017', '10/10/2017']]                       1\n",
       "[['Unadulterated Viennese Cuisine', 'The best Wiener-Schnitzer ever'], ['11/19/2017', '09/18/2017']]       1\n",
       "[['Weird atmosphere in a great location', 'Excellent food quality'], ['07/11/2017', '02/16/2017']]         1\n",
       "Name: reviews, Length: 33516, dtype: int64"
      ]
     },
     "execution_count": 45,
     "metadata": {},
     "output_type": "execute_result"
    }
   ],
   "source": [
    "#pd.DataFrame(df.reviews.value_counts())\n",
    "df.reviews.value_counts()"
   ]
  },
  {
   "cell_type": "code",
   "execution_count": 46,
   "metadata": {},
   "outputs": [
    {
     "data": {
      "text/html": [
       "<div>\n",
       "<style scoped>\n",
       "    .dataframe tbody tr th:only-of-type {\n",
       "        vertical-align: middle;\n",
       "    }\n",
       "\n",
       "    .dataframe tbody tr th {\n",
       "        vertical-align: top;\n",
       "    }\n",
       "\n",
       "    .dataframe thead th {\n",
       "        text-align: right;\n",
       "    }\n",
       "</style>\n",
       "<table border=\"1\" class=\"dataframe\">\n",
       "  <thead>\n",
       "    <tr style=\"text-align: right;\">\n",
       "      <th></th>\n",
       "      <th>reviews</th>\n",
       "      <th>reviews_dates</th>\n",
       "    </tr>\n",
       "  </thead>\n",
       "  <tbody>\n",
       "    <tr>\n",
       "      <th>0</th>\n",
       "      <td>[['Good food at your doorstep', 'A good hotel ...</td>\n",
       "      <td>[12/31/2017, 11/20/2017]</td>\n",
       "    </tr>\n",
       "    <tr>\n",
       "      <th>1</th>\n",
       "      <td>[['Unique cuisine', 'Delicious Nepalese food']...</td>\n",
       "      <td>[07/06/2017, 06/19/2016]</td>\n",
       "    </tr>\n",
       "    <tr>\n",
       "      <th>2</th>\n",
       "      <td>[['Catch up with friends', 'Not exceptional'],...</td>\n",
       "      <td>[01/08/2018, 01/06/2018]</td>\n",
       "    </tr>\n",
       "    <tr>\n",
       "      <th>3</th>\n",
       "      <td>[[], []]</td>\n",
       "      <td>[]</td>\n",
       "    </tr>\n",
       "    <tr>\n",
       "      <th>4</th>\n",
       "      <td>[['Best place to try a Bavarian food', 'Nice b...</td>\n",
       "      <td>[11/18/2017, 02/19/2017]</td>\n",
       "    </tr>\n",
       "  </tbody>\n",
       "</table>\n",
       "</div>"
      ],
      "text/plain": [
       "                                             reviews             reviews_dates\n",
       "0  [['Good food at your doorstep', 'A good hotel ...  [12/31/2017, 11/20/2017]\n",
       "1  [['Unique cuisine', 'Delicious Nepalese food']...  [07/06/2017, 06/19/2016]\n",
       "2  [['Catch up with friends', 'Not exceptional'],...  [01/08/2018, 01/06/2018]\n",
       "3                                           [[], []]                        []\n",
       "4  [['Best place to try a Bavarian food', 'Nice b...  [11/18/2017, 02/19/2017]"
      ]
     },
     "execution_count": 46,
     "metadata": {},
     "output_type": "execute_result"
    }
   ],
   "source": [
    "df['reviews_dates'] = df['reviews'].str.findall('\\d+/\\d+/\\d+')\n",
    "df[['reviews', 'reviews_dates']].head()"
   ]
  },
  {
   "cell_type": "code",
   "execution_count": 47,
   "metadata": {},
   "outputs": [
    {
     "data": {
      "text/plain": [
       "0        12/31/2017\n",
       "1        07/06/2017\n",
       "2        01/08/2018\n",
       "3              None\n",
       "4        11/18/2017\n",
       "            ...    \n",
       "39995    12/16/2017\n",
       "39996    12/21/2017\n",
       "39997    11/03/2016\n",
       "39998    07/11/2017\n",
       "39999    01/31/2016\n",
       "Name: review1_date, Length: 40000, dtype: object"
      ]
     },
     "execution_count": 47,
     "metadata": {},
     "output_type": "execute_result"
    }
   ],
   "source": [
    "df['review1_date'] = df.reviews_dates.apply(lambda x: x[0] if len(x)>0 else None)\n",
    "df['review1_date']"
   ]
  },
  {
   "cell_type": "code",
   "execution_count": 48,
   "metadata": {},
   "outputs": [
    {
     "data": {
      "text/html": [
       "<div>\n",
       "<style scoped>\n",
       "    .dataframe tbody tr th:only-of-type {\n",
       "        vertical-align: middle;\n",
       "    }\n",
       "\n",
       "    .dataframe tbody tr th {\n",
       "        vertical-align: top;\n",
       "    }\n",
       "\n",
       "    .dataframe thead th {\n",
       "        text-align: right;\n",
       "    }\n",
       "</style>\n",
       "<table border=\"1\" class=\"dataframe\">\n",
       "  <thead>\n",
       "    <tr style=\"text-align: right;\">\n",
       "      <th></th>\n",
       "      <th>restaurant_id</th>\n",
       "      <th>cuisine_style</th>\n",
       "      <th>ranking</th>\n",
       "      <th>rating</th>\n",
       "      <th>price_range</th>\n",
       "      <th>reviews_number</th>\n",
       "      <th>reviews</th>\n",
       "      <th>url_ta</th>\n",
       "      <th>id_ta</th>\n",
       "      <th>rests</th>\n",
       "      <th>population</th>\n",
       "      <th>rest_density</th>\n",
       "      <th>country_Austria</th>\n",
       "      <th>country_Belgium</th>\n",
       "      <th>country_Czechia</th>\n",
       "      <th>country_Denmark</th>\n",
       "      <th>country_Finland</th>\n",
       "      <th>country_France</th>\n",
       "      <th>country_Germany</th>\n",
       "      <th>country_Greece</th>\n",
       "      <th>country_Hungary</th>\n",
       "      <th>country_Ireland</th>\n",
       "      <th>country_Italy</th>\n",
       "      <th>country_Luxembourg</th>\n",
       "      <th>country_Netherlands</th>\n",
       "      <th>country_Norway</th>\n",
       "      <th>country_Poland</th>\n",
       "      <th>country_Portugal</th>\n",
       "      <th>country_Slovakia</th>\n",
       "      <th>country_Slovenia</th>\n",
       "      <th>country_Spain</th>\n",
       "      <th>country_Sweden</th>\n",
       "      <th>country_Switzerland</th>\n",
       "      <th>country_UK</th>\n",
       "      <th>city_Amsterdam</th>\n",
       "      <th>city_Athens</th>\n",
       "      <th>city_Barcelona</th>\n",
       "      <th>city_Berlin</th>\n",
       "      <th>city_Bratislava</th>\n",
       "      <th>city_Brussels</th>\n",
       "      <th>city_Budapest</th>\n",
       "      <th>city_Copenhagen</th>\n",
       "      <th>city_Dublin</th>\n",
       "      <th>city_Edinburgh</th>\n",
       "      <th>city_Geneva</th>\n",
       "      <th>city_Hamburg</th>\n",
       "      <th>city_Helsinki</th>\n",
       "      <th>city_Krakow</th>\n",
       "      <th>city_Lisbon</th>\n",
       "      <th>city_Ljubljana</th>\n",
       "      <th>city_London</th>\n",
       "      <th>city_Luxembourg</th>\n",
       "      <th>city_Lyon</th>\n",
       "      <th>city_Madrid</th>\n",
       "      <th>city_Milan</th>\n",
       "      <th>city_Munich</th>\n",
       "      <th>city_Oporto</th>\n",
       "      <th>city_Oslo</th>\n",
       "      <th>city_Paris</th>\n",
       "      <th>city_Prague</th>\n",
       "      <th>city_Rome</th>\n",
       "      <th>city_Stockholm</th>\n",
       "      <th>city_Vienna</th>\n",
       "      <th>city_Warsaw</th>\n",
       "      <th>city_Zurich</th>\n",
       "      <th>cuisine_style_isna</th>\n",
       "      <th>cuisine</th>\n",
       "      <th>cuisines_number</th>\n",
       "      <th>ranking_norm_rests</th>\n",
       "      <th>price_range_isna</th>\n",
       "      <th>price_range_label</th>\n",
       "      <th>reviews_number_isna</th>\n",
       "      <th>reviews_number_norm</th>\n",
       "      <th>reviews_dates</th>\n",
       "      <th>review1_date</th>\n",
       "    </tr>\n",
       "  </thead>\n",
       "  <tbody>\n",
       "    <tr>\n",
       "      <th>23348</th>\n",
       "      <td>id_450</td>\n",
       "      <td>['French', 'European']</td>\n",
       "      <td>453.0</td>\n",
       "      <td>4.0</td>\n",
       "      <td>$$ - $$$</td>\n",
       "      <td>48.0</td>\n",
       "      <td>[['lunch 29/9/2016', 'Unplanned Great Dinner']...</td>\n",
       "      <td>/Restaurant_Review-g188057-d2706773-Reviews-Le...</td>\n",
       "      <td>d2706773</td>\n",
       "      <td>481</td>\n",
       "      <td>201.818</td>\n",
       "      <td>2.383335</td>\n",
       "      <td>0</td>\n",
       "      <td>0</td>\n",
       "      <td>0</td>\n",
       "      <td>0</td>\n",
       "      <td>0</td>\n",
       "      <td>0</td>\n",
       "      <td>0</td>\n",
       "      <td>0</td>\n",
       "      <td>0</td>\n",
       "      <td>0</td>\n",
       "      <td>0</td>\n",
       "      <td>0</td>\n",
       "      <td>0</td>\n",
       "      <td>0</td>\n",
       "      <td>0</td>\n",
       "      <td>0</td>\n",
       "      <td>0</td>\n",
       "      <td>0</td>\n",
       "      <td>0</td>\n",
       "      <td>0</td>\n",
       "      <td>1</td>\n",
       "      <td>0</td>\n",
       "      <td>0</td>\n",
       "      <td>0</td>\n",
       "      <td>0</td>\n",
       "      <td>0</td>\n",
       "      <td>0</td>\n",
       "      <td>0</td>\n",
       "      <td>0</td>\n",
       "      <td>0</td>\n",
       "      <td>0</td>\n",
       "      <td>0</td>\n",
       "      <td>1</td>\n",
       "      <td>0</td>\n",
       "      <td>0</td>\n",
       "      <td>0</td>\n",
       "      <td>0</td>\n",
       "      <td>0</td>\n",
       "      <td>0</td>\n",
       "      <td>0</td>\n",
       "      <td>0</td>\n",
       "      <td>0</td>\n",
       "      <td>0</td>\n",
       "      <td>0</td>\n",
       "      <td>0</td>\n",
       "      <td>0</td>\n",
       "      <td>0</td>\n",
       "      <td>0</td>\n",
       "      <td>0</td>\n",
       "      <td>0</td>\n",
       "      <td>0</td>\n",
       "      <td>0</td>\n",
       "      <td>0</td>\n",
       "      <td>0</td>\n",
       "      <td>['French', 'European']</td>\n",
       "      <td>2.0</td>\n",
       "      <td>0.941788</td>\n",
       "      <td>0</td>\n",
       "      <td>2.5</td>\n",
       "      <td>0</td>\n",
       "      <td>0.237838</td>\n",
       "      <td>[29/9/2016, 09/30/2016, 08/25/2016]</td>\n",
       "      <td>29/9/2016</td>\n",
       "    </tr>\n",
       "  </tbody>\n",
       "</table>\n",
       "</div>"
      ],
      "text/plain": [
       "      restaurant_id           cuisine_style  ranking  rating price_range  \\\n",
       "23348        id_450  ['French', 'European']    453.0     4.0    $$ - $$$   \n",
       "\n",
       "       reviews_number                                            reviews  \\\n",
       "23348            48.0  [['lunch 29/9/2016', 'Unplanned Great Dinner']...   \n",
       "\n",
       "                                                  url_ta     id_ta  rests  \\\n",
       "23348  /Restaurant_Review-g188057-d2706773-Reviews-Le...  d2706773    481   \n",
       "\n",
       "       population  rest_density  country_Austria  country_Belgium  \\\n",
       "23348     201.818      2.383335                0                0   \n",
       "\n",
       "       country_Czechia  country_Denmark  country_Finland  country_France  \\\n",
       "23348                0                0                0               0   \n",
       "\n",
       "       country_Germany  country_Greece  country_Hungary  country_Ireland  \\\n",
       "23348                0               0                0                0   \n",
       "\n",
       "       country_Italy  country_Luxembourg  country_Netherlands  country_Norway  \\\n",
       "23348              0                   0                    0               0   \n",
       "\n",
       "       country_Poland  country_Portugal  country_Slovakia  country_Slovenia  \\\n",
       "23348               0                 0                 0                 0   \n",
       "\n",
       "       country_Spain  country_Sweden  country_Switzerland  country_UK  \\\n",
       "23348              0               0                    1           0   \n",
       "\n",
       "       city_Amsterdam  city_Athens  city_Barcelona  city_Berlin  \\\n",
       "23348               0            0               0            0   \n",
       "\n",
       "       city_Bratislava  city_Brussels  city_Budapest  city_Copenhagen  \\\n",
       "23348                0              0              0                0   \n",
       "\n",
       "       city_Dublin  city_Edinburgh  city_Geneva  city_Hamburg  city_Helsinki  \\\n",
       "23348            0               0            1             0              0   \n",
       "\n",
       "       city_Krakow  city_Lisbon  city_Ljubljana  city_London  city_Luxembourg  \\\n",
       "23348            0            0               0            0                0   \n",
       "\n",
       "       city_Lyon  city_Madrid  city_Milan  city_Munich  city_Oporto  \\\n",
       "23348          0            0           0            0            0   \n",
       "\n",
       "       city_Oslo  city_Paris  city_Prague  city_Rome  city_Stockholm  \\\n",
       "23348          0           0            0          0               0   \n",
       "\n",
       "       city_Vienna  city_Warsaw  city_Zurich  cuisine_style_isna  \\\n",
       "23348            0            0            0                   0   \n",
       "\n",
       "                      cuisine  cuisines_number  ranking_norm_rests  \\\n",
       "23348  ['French', 'European']              2.0            0.941788   \n",
       "\n",
       "       price_range_isna  price_range_label  reviews_number_isna  \\\n",
       "23348                 0                2.5                    0   \n",
       "\n",
       "       reviews_number_norm                        reviews_dates review1_date  \n",
       "23348             0.237838  [29/9/2016, 09/30/2016, 08/25/2016]    29/9/2016  "
      ]
     },
     "execution_count": 48,
     "metadata": {},
     "output_type": "execute_result"
    }
   ],
   "source": [
    "#На этом значении в следующей ячейке возникает ошибка\n",
    "df[df['review1_date']=='29/9/2016']"
   ]
  },
  {
   "cell_type": "code",
   "execution_count": 49,
   "metadata": {},
   "outputs": [],
   "source": [
    "#df[df['review1_date']=='29/9/2016'].review1_date = '09/29/2016'\n",
    "df.loc[23348, 'review1_date'] = '09/29/2016'"
   ]
  },
  {
   "cell_type": "code",
   "execution_count": 50,
   "metadata": {},
   "outputs": [],
   "source": [
    "df['review1_date_d'] = df.review1_date.apply(lambda x: None if pd.isna(x) else datetime.strptime(x, '%m/%d/%Y'))"
   ]
  },
  {
   "cell_type": "code",
   "execution_count": 51,
   "metadata": {},
   "outputs": [],
   "source": [
    "df['review2_date'] = df.reviews_dates.apply(lambda x: x[1] if len(x)>1 else None)"
   ]
  },
  {
   "cell_type": "code",
   "execution_count": 52,
   "metadata": {
    "scrolled": true
   },
   "outputs": [],
   "source": [
    "df['review2_date_d'] = df.reviews_dates.apply(lambda x: datetime.strptime(x[1], '%m/%d/%Y') if len(x)>1 else None)"
   ]
  },
  {
   "cell_type": "code",
   "execution_count": 53,
   "metadata": {},
   "outputs": [
    {
     "data": {
      "text/plain": [
       "Timestamp('2018-02-26 00:00:00')"
      ]
     },
     "execution_count": 53,
     "metadata": {},
     "output_type": "execute_result"
    }
   ],
   "source": [
    "df['review1_date_d'].max()"
   ]
  },
  {
   "cell_type": "code",
   "execution_count": 54,
   "metadata": {},
   "outputs": [
    {
     "data": {
      "text/plain": [
       "Timestamp('2018-02-26 00:00:00')"
      ]
     },
     "execution_count": 54,
     "metadata": {},
     "output_type": "execute_result"
    }
   ],
   "source": [
    "df['review2_date_d'].max()"
   ]
  },
  {
   "cell_type": "code",
   "execution_count": 55,
   "metadata": {
    "scrolled": true
   },
   "outputs": [
    {
     "data": {
      "text/plain": [
       "3207.0"
      ]
     },
     "execution_count": 55,
     "metadata": {},
     "output_type": "execute_result"
    }
   ],
   "source": [
    "(df.review1_date_d - df.review2_date_d).dt.days.max()"
   ]
  },
  {
   "cell_type": "code",
   "execution_count": 56,
   "metadata": {},
   "outputs": [],
   "source": [
    "# Создадим новый признак - количество дней между отзывами\n",
    "df['days_between'] = ((df.review1_date_d - df.review2_date_d).dt.days)#abs"
   ]
  },
  {
   "cell_type": "code",
   "execution_count": 57,
   "metadata": {},
   "outputs": [
    {
     "name": "stdout",
     "output_type": "stream",
     "text": [
      "Количество: 28973, Среднее: 124.079, Стандартное отклонение: 231.519.\n",
      "Минимум: -362.0, 25-й перцентиль: 13.0, Медиана: 55.0, 75-й перцентиль: 156.0, Максимум: 3207.0, IQR: 143.0.\n",
      "Количество пропусков в столбце:  11027\n",
      "Границы выбросов: [-201.5, 370.5]. Количество выбросов:  3070\n"
     ]
    },
    {
     "data": {
      "image/png": "[encoded data removed]",
      "text/plain": [
       "<Figure size 432x288 with 1 Axes>"
      ]
     },
     "metadata": {
      "needs_background": "light"
     },
     "output_type": "display_data"
    }
   ],
   "source": [
    "analyse_numeric(df, 'days_between')"
   ]
  },
  {
   "cell_type": "code",
   "execution_count": 58,
   "metadata": {},
   "outputs": [
    {
     "data": {
      "text/plain": [
       "382"
      ]
     },
     "execution_count": 58,
     "metadata": {},
     "output_type": "execute_result"
    }
   ],
   "source": [
    "len(df[df.days_between > 1000])"
   ]
  },
  {
   "cell_type": "code",
   "execution_count": 59,
   "metadata": {
    "scrolled": true
   },
   "outputs": [],
   "source": [
    "#df[df.days_between > 2000]"
   ]
  },
  {
   "cell_type": "code",
   "execution_count": 60,
   "metadata": {},
   "outputs": [
    {
     "data": {
      "text/plain": [
       "1948"
      ]
     },
     "execution_count": 60,
     "metadata": {},
     "output_type": "execute_result"
    }
   ],
   "source": [
    "len(df[df.days_between < 0])"
   ]
  },
  {
   "cell_type": "code",
   "execution_count": 61,
   "metadata": {},
   "outputs": [],
   "source": [
    "# Удалим грубые выбросы\n",
    "#df=df[df.days_between <= 2000]"
   ]
  },
  {
   "cell_type": "code",
   "execution_count": 62,
   "metadata": {},
   "outputs": [],
   "source": [
    "# !!! Пока заполним пропуски медианой\n",
    "df.days_between.fillna(df.days_between.median(), inplace=True)"
   ]
  },
  {
   "cell_type": "code",
   "execution_count": 63,
   "metadata": {},
   "outputs": [],
   "source": [
    "# Создадим новый признак - количество дней между последним отзывом и сегодняшней датой \n",
    "df['days_to_today'] = ((date_today - df.review1_date_d).dt.days)#abs"
   ]
  },
  {
   "cell_type": "code",
   "execution_count": 64,
   "metadata": {},
   "outputs": [
    {
     "name": "stdout",
     "output_type": "stream",
     "text": [
      "Количество: 33529, Среднее: 1166.984, Стандартное отклонение: 362.442.\n",
      "Минимум: 870.0, 25-й перцентиль: 952.0, Медиана: 1037.0, 75-й перцентиль: 1225.0, Максимум: 5929.0, IQR: 273.0.\n",
      "Количество пропусков в столбце:  6471\n",
      "Границы выбросов: [542.5, 1634.5]. Количество выбросов:  2892\n"
     ]
    },
    {
     "data": {
      "image/png": "[encoded data removed]",
      "text/plain": [
       "<Figure size 432x288 with 1 Axes>"
      ]
     },
     "metadata": {
      "needs_background": "light"
     },
     "output_type": "display_data"
    }
   ],
   "source": [
    "analyse_numeric(df, 'days_to_today')"
   ]
  },
  {
   "cell_type": "code",
   "execution_count": 65,
   "metadata": {},
   "outputs": [],
   "source": [
    "df.days_to_today.fillna(df.days_to_today.median(), inplace=True)"
   ]
  },
  {
   "cell_type": "code",
   "execution_count": 66,
   "metadata": {},
   "outputs": [],
   "source": [
    "# # Создадим новый признак - день недели последнего отзыва\n",
    "# df['last_review_weekday'] = df.review1_date_d.dt.weekday"
   ]
  },
  {
   "cell_type": "code",
   "execution_count": 67,
   "metadata": {},
   "outputs": [],
   "source": [
    "# analyse_numeric(df, 'last_review_weekday')"
   ]
  },
  {
   "cell_type": "code",
   "execution_count": 68,
   "metadata": {},
   "outputs": [],
   "source": [
    "# most_frequent_weekday = df['last_review_weekday'].value_counts().sort_values(ascending=False).iloc[0]"
   ]
  },
  {
   "cell_type": "code",
   "execution_count": 69,
   "metadata": {},
   "outputs": [],
   "source": [
    "# df.last_review_weekday.fillna(most_frequent_weekday, inplace=True)\n",
    "# df.last_review_weekday.isna().sum()"
   ]
  },
  {
   "cell_type": "markdown",
   "metadata": {},
   "source": [
    "### url_ta"
   ]
  },
  {
   "cell_type": "code",
   "execution_count": 70,
   "metadata": {},
   "outputs": [
    {
     "data": {
      "text/plain": [
       "/Restaurant_Review-g187514-d10047799-Reviews-Entrepuntos-Madrid.html                                                    2\n",
       "/Restaurant_Review-g187514-d13002276-Reviews-Delish_Vegan_Doughnuts-Madrid.html                                         2\n",
       "/Restaurant_Review-g187514-d3161682-Reviews-Cerveceria_La_Surena-Madrid.html                                            2\n",
       "/Restaurant_Review-g187514-d793170-Reviews-Caripen_Bistro-Madrid.html                                                   2\n",
       "/Restaurant_Review-g187514-d9877640-Reviews-Raku_Sushi-Madrid.html                                                      2\n",
       "                                                                                                                       ..\n",
       "/Restaurant_Review-g187514-d10353450-Reviews-Hemingway_s_Bar-Madrid.html                                                1\n",
       "/Restaurant_Review-g187514-d8855203-Reviews-Mercado_de_Los_Mostenses_Bar_Chino-Madrid.html                              1\n",
       "/Restaurant_Review-g189158-d10427577-Reviews-Tiborna_Taberna_Portuguesa-Lisbon_Lisbon_District_Central_Portugal.html    1\n",
       "/Restaurant_Review-g187147-d9858659-Reviews-Wunderbar-Paris_Ile_de_France.html                                          1\n",
       "/Restaurant_Review-g187147-d719186-Reviews-Le_Paradis_du_Fruit-Paris_Ile_de_France.html                                 1\n",
       "Name: url_ta, Length: 39980, dtype: int64"
      ]
     },
     "execution_count": 70,
     "metadata": {},
     "output_type": "execute_result"
    }
   ],
   "source": [
    "df.url_ta.value_counts()"
   ]
  },
  {
   "cell_type": "markdown",
   "metadata": {},
   "source": [
    "### id_ta"
   ]
  },
  {
   "cell_type": "code",
   "execution_count": 71,
   "metadata": {},
   "outputs": [
    {
     "data": {
      "text/plain": [
       "d9877640     2\n",
       "d13002276    2\n",
       "d4600226     2\n",
       "d11999956    2\n",
       "d793170      2\n",
       "            ..\n",
       "d5961438     1\n",
       "d5081096     1\n",
       "d10627619    1\n",
       "d4698842     1\n",
       "d6420527     1\n",
       "Name: id_ta, Length: 39980, dtype: int64"
      ]
     },
     "execution_count": 71,
     "metadata": {},
     "output_type": "execute_result"
    }
   ],
   "source": [
    "df.id_ta.value_counts()"
   ]
  },
  {
   "cell_type": "code",
   "execution_count": 72,
   "metadata": {},
   "outputs": [],
   "source": [
    "# Преобразуем id_ta в числа (будет новый признак):\n",
    "df['id_ta_num'] = df['id_ta'].str[1:].astype('int64')#'float64'"
   ]
  },
  {
   "cell_type": "markdown",
   "metadata": {},
   "source": [
    "## Попробуем текстовую классификацию"
   ]
  },
  {
   "cell_type": "code",
   "execution_count": 73,
   "metadata": {},
   "outputs": [],
   "source": [
    "import string\n",
    "import re\n",
    "from nltk.stem.snowball import SnowballStemmer\n",
    "from sklearn.feature_extraction.text import TfidfVectorizer"
   ]
  },
  {
   "cell_type": "code",
   "execution_count": 74,
   "metadata": {},
   "outputs": [],
   "source": [
    "pd.options.mode.chained_assignment = None"
   ]
  },
  {
   "cell_type": "code",
   "execution_count": 75,
   "metadata": {},
   "outputs": [],
   "source": [
    "def stop_words_remover(text):\n",
    "    text = text.lower() \n",
    "    \n",
    "    singles = [word for word in text.split()]\n",
    "    text = ' '.join(singles)\n",
    "        \n",
    "    #Удаление незначимых слов\n",
    "    stw = ['a', 'at', 'on', 'of', 'and', 'or', 'in', 'for', 'at', 'empty', 'cuisine', 'food' ]\n",
    "    stw.extend(['restaura', 'restauran', 'restaurant', 'restaurante', 'restaurants', 'resto', 'restuarant',\n",
    "                'restau', 'restaur', 'resturant'])\n",
    "    \n",
    "    stw.extend(list(x.lower() for x in countries_dict.keys()))\n",
    "    stw.extend(list(x.lower() for x in countries_dict.values()))\n",
    "    \n",
    "    remove = r'\\b(' + '|'.join(stw) + r')\\b'  \n",
    "    text = re.sub(remove, ' ', text)\n",
    "    \n",
    "    return  text"
   ]
  },
  {
   "cell_type": "code",
   "execution_count": 76,
   "metadata": {},
   "outputs": [
    {
     "name": "stdout",
     "output_type": "stream",
     "text": [
      "StemmedTfidfVectorizer(analyzer='word', binary=False, decode_error='strict',\n",
      "                       dtype=<class 'numpy.float64'>, encoding='utf-8',\n",
      "                       input='content', lowercase=True, max_df=0.7,\n",
      "                       max_features=None, min_df=10, ngram_range=(1, 1),\n",
      "                       norm='l2', preprocessor=None, smooth_idf=True,\n",
      "                       stop_words='english', strip_accents='ascii',\n",
      "                       sublinear_tf=False, token_pattern='(?u)\\\\b\\\\w\\\\w+\\\\b',\n",
      "                       tokenizer=None, use_idf=True, vocabulary=None)\n"
     ]
    }
   ],
   "source": [
    "english_stemmer = SnowballStemmer(\"english\")\n",
    "class StemmedTfidfVectorizer(TfidfVectorizer):\n",
    "\n",
    "    def build_analyzer(self):\n",
    "        analyzer = super(TfidfVectorizer, self).build_analyzer()\n",
    "        #return lambda doc: (english_stemmer.stem(w) for w in analyzer(doc))\n",
    "        return lambda doc: (w for w in analyzer(doc))\n",
    "\n",
    "vect_tfidf = StemmedTfidfVectorizer(min_df=10\n",
    "                                    ,max_df=0.7\n",
    "                                    ,stop_words='english'\n",
    "                                    ,ngram_range=(1, 1)\n",
    "                                    #,decode_error='ignore'\n",
    "                                    ,strip_accents='ascii' #'unicode', 'ascii', None\n",
    "                                    #,preprocessor=stop_words_remover\n",
    "                                   )\n",
    "print(vect_tfidf)"
   ]
  },
  {
   "cell_type": "code",
   "execution_count": 77,
   "metadata": {},
   "outputs": [],
   "source": [
    "# Удаляем цифры\n",
    "df.reviews = df.reviews.apply(lambda s: re.sub(r'\\b\\d+\\b', '', s))"
   ]
  },
  {
   "cell_type": "code",
   "execution_count": 78,
   "metadata": {},
   "outputs": [],
   "source": [
    "df.reviews = df.reviews.apply(lambda s: stop_words_remover(s))"
   ]
  },
  {
   "cell_type": "code",
   "execution_count": 79,
   "metadata": {},
   "outputs": [],
   "source": [
    "X_tfidf = vect_tfidf.fit_transform(df.reviews)"
   ]
  },
  {
   "cell_type": "code",
   "execution_count": 80,
   "metadata": {
    "scrolled": true
   },
   "outputs": [
    {
     "name": "stdout",
     "output_type": "stream",
     "text": [
      "#samples: 40000, #features: 1334\n",
      "1334\n",
      "['1st', '2nd', 'absolute', 'absolutely', 'acceptable', 'accident', 'accommodating', 'acropolis', 'addition', 'address', 'adequate', 'adorable', 'affordable', 'african', 'afternoon', 'air', 'airport', 'al', 'alcohol', 'ale', 'alright', 'alternative', 'amazing', 'amazingly', 'ambiance', 'ambience', 'ambient', 'american', 'anymore', 'aperitivo', 'appalling', 'apple', 'area', 'argentinian', 'arrogant', 'art', 'asian', 'ask', 'ate', 'athmosphere', 'atmo', 'atmos', 'atmosp', 'atmosph', 'atmosphe', 'atmospher', 'atmosphere', 'atmospheric', 'attention', 'attentive', 'attitude', 'austrian', 'authentic', 'available', 'average', 'avoid', 'away', 'awesome', 'awful', 'bad', 'bagels', 'baguette', 'baked', 'bakery', 'bar', 'bargain', 'bartender', 'basement', 'basic', 'bavarian', 'bbq', 'bcn', 'beach', 'beat', 'beaten', 'beautiful', 'beautifully', 'beef', 'beer', 'beers', 'belgian', 'believe', 'best', 'bet', 'better', 'beware', 'bien', 'biergarten', 'big', 'biggest', 'bio', 'birthday', 'bistro', 'bistrot', 'bit', 'bite', 'bites', 'black', 'bland', 'boat', 'bon', 'book', 'boozer', 'boring', 'bother', 'box', 'branch', 'brasserie', 'brazilian', 'bread', 'break', 'breakfast', 'breakfasts', 'bridge', 'bright', 'brilliant', 'bring', 'british', 'brunch', 'bu', 'bubble', 'budget', 'buffet', 'building', 'bun', 'buns', 'buono', 'burger', 'burgers', 'burrito', 'burritos', 'business', 'bustling', 'busy', 'cafe', 'cafeteria', 'caffe', 'cake', 'cakes', 'called', 'calm', 'came', 'canal', 'canteen', 'cappuccino', 'care', 'careful', 'cash', 'castle', 'casual', 'catalan', 'catch', 'catering', 'celebration', 'center', 'central', 'centre', 'certainly', 'ceviche', 'ch', 'chain', 'chance', 'change', 'changed', 'character', 'charm', 'charming', 'chat', 'cheap', 'cheaper', 'check', 'cheep', 'cheerful', 'cheese', 'cheesecake', 'chef', 'chic', 'chicken', 'children', 'chill', 'chilled', 'china', 'chinese', 'chip', 'chippy', 'chips', 'chocolate', 'choice', 'choices', 'choose', 'christmas', 'city', 'class', 'classic', 'classy', 'clean', 'close', 'closed', 'club', 'cocktail', 'cocktails', 'coctails', 'cod', 'coffe', 'coffee', 'cold', 'colleagues', 'come', 'comfort', 'comfortable', 'comfy', 'comida', 'coming', 'company', 'complete', 'concept', 'concert', 'consistent', 'consistently', 'contemporary', 'convenient', 'cook', 'cooked', 'cooking', 'cool', 'corner', 'correct', 'cost', 'costs', 'cosy', 'couldn', 'country', 'couple', 'course', 'couscous', 'cousine', 'cozy', 'cracking', 'craft', 'craving', 'crazy', 'cream', 'creams', 'creative', 'credit', 'crepe', 'crepes', 'crispy', 'croissant', 'croissants', 'crowd', 'crowded', 'crust', 'culinary', 'cup', 'curry', 'currywurst', 'cusine', 'customer', 'customers', 'cut', 'cute', 'czech', 'da', 'daily', 'danish', 'dark', 'date', 'daughter', 'day', 'days', 'deal', 'deals', 'decent', 'decor', 'decoration', 'definitely', 'del', 'deli', 'delicio', 'delicious', 'deliciously', 'delicous', 'delight', 'delightful', 'delish', 'delivered', 'delivery', 'dependable', 'des', 'desert', 'deserves', 'design', 'despite', 'dessert', 'desserts', 'di', 'dia', 'did', 'didn', 'die', 'different', 'dim', 'dine', 'diner', 'dining', 'dinner', 'dinners', 'dinning', 'dirty', 'disapointing', 'disappointed', 'disappointing', 'disappointment', 'disappoints', 'disaster', 'discover', 'discovery', 'disgusting', 'dish', 'dishes', 'dissapointed', 'district', 'divine', 'does', 'doesn', 'dog', 'dogs', 'don', 'doner', 'dont', 'door', 'downhill', 'downtown', 'dreadful', 'dream', 'drink', 'drinks', 'dry', 'du', 'duck', 'dumplings', 'duomo', 'dutch', 'early', 'earth', 'east', 'eastern', 'easy', 'eat', 'eaten', 'eatery', 'eating', 'eats', 'eclectic', 'efficient', 'eggs', 'el', 'elegant', 'empanadas', 'en', 'end', 'english', 'enjoy', 'enjoyable', 'enjoyed', 'entertainment', 'environment', 'escape', 'especially', 'est', 'ethiopian', 'euro', 'europe', 'european', 'euros', 'eve', 'evening', 'event', 'everyday', 'exactly', 'exceeded', 'excelent', 'excellence', 'excellent', 'exceptional', 'exciting', 'exellent', 'exotic', 'expect', 'expectations', 'expected', 'expensive', 'experienc', 'experience', 'experiences', 'exquisite', 'extra', 'extraordinary', 'extremely', 'fab', 'fabulous', 'fado', 'fair', 'fairly', 'falafel', 'familiar', 'family', 'famous', 'fan', 'fancy', 'fantastic', 'far', 'fare', 'fashioned', 'fast', 'fastfood', 'fav', 'favorite', 'favourite', 'feast', 'feel', 'feeling', 'feels', 'felt', 'fi', 'filled', 'filling', 'finally', 'fine', 'finest', 'finger', 'finish', 'fired', 'fish', 'fix', 'fixed', 'flamenco', 'flavor', 'flavorful', 'flavors', 'flavour', 'flavours', 'floor', 'fo', 'fondue', 'foo', 'foodie', 'foods', 'football', 'forever', 'forget', 'fr', 'francesinha', 'free', 'french', 'fresh', 'freshly', 'fri', 'friday', 'fried', 'frien', 'friend', 'friendliest', 'friendly', 'friends', 'fries', 'frills', 'frites', 'frozen', 'fun', 'funky', 'funny', 'fusion', 'fuss', 'game', 'garden', 'gastro', 'gastronomic', 'gay', 'gelato', 'gem', 'generous', 'genuine', 'georgian', 'german', 'gets', 'getting', 'gin', 'glad', 'glass', 'gluten', 'god', 'going', 'gone', 'goo', 'good', 'goodness', 'gorgeous', 'got', 'goulash', 'gourmet', 'grab', 'gracia', 'grand', 'gre', 'grea', 'greasy', 'great', 'greatest', 'greek', 'green', 'grill', 'grilled', 'group', 'groups', 'grub', 'guinness', 'gyros', 'halal', 'half', 'hall', 'ham', 'hamburger', 'hamburgers', 'hand', 'hands', 'handy', 'hang', 'hangout', 'happened', 'happy', 'hard', 'haven', 'having', 'health', 'healthy', 'heart', 'hearty', 'heaven', 'helpful', 'hidden', 'high', 'highlight', 'highly', 'hill', 'hip', 'hipster', 'historic', 'history', 'hit', 'hole', 'holiday', 'home', 'homely', 'homemade', 'homey', 'honest', 'horrible', 'hospitality', 'host', 'hot', 'hotel', 'hour', 'hours', 'house', 'huge', 'hungarian', 'hungry', 'hut', 'ice', 'icecream', 'idea', 'ideal', 'il', 'impressed', 'impressive', 'impromptu', 'improve', 'improved', 'improvement', 'incredible', 'incredibly', 'india', 'indian', 'indonesian', 'inexpensive', 'informal', 'ingredients', 'innovative', 'inside', 'inspired', 'interesting', 'interior', 'international', 'intimate', 'introduction', 'inviting', 'irish', 'isn', 'italian', 'italien', 'ive', 'jamon', 'japan', 'japanese', 'jazz', 'jewel', 'job', 'joint', 'journey', 'judge', 'juice', 'juices', 'just', 'karaoke', 'kebab', 'kebabs', 'kept', 'key', 'kfc', 'kids', 'kind', 'king', 'kitchen', 'know', 'known', 'korean', 'kosher', 'la', 'lack', 'lacking', 'laid', 'lake', 'lamb', 'large', 'lasagne', 'late', 'latin', 'lazy', 'le', 'lebanese', 'left', 'les', 'let', 'level', 'life', 'light', 'like', 'liked', 'limited', 'list', 'little', 'live', 'lively', 'll', 'lo', 'lobster', 'local', 'locals', 'located', 'location', 'long', 'longer', 'look', 'looking', 'looks', 'lost', 'lot', 'lots', 'loud', 'lounge', 'love', 'loved', 'lovely', 'lover', 'lovers', 'low', 'luck', 'lucky', 'lunch', 'lunches', 'lunchtime', 'ma', 'mad', 'magic', 'magical', 'main', 'make', 'makes', 'mall', 'man', 'management', 'manager', 'marais', 'market', 'marvellous', 'massive', 'match', 'maybe', 'mcdonald', 'mcdonalds', 'meal', 'meals', 'meat', 'meatballs', 'meats', 'mediocre', 'mediterranean', 'medium', 'meet', 'meeting', 'meets', 'meh', 'memorable', 'memories', 'menu', 'menus', 'met', 'metro', 'mex', 'mexican', 'mi', 'michelin', 'mid', 'middle', 'milanese', 'milano', 'mind', 'mini', 'minute', 'minutes', 'miss', 'missed', 'missing', 'mix', 'mixed', 'mo', 'moderate', 'modern', 'modest', 'mom', 'moment', 'monday', 'money', 'morning', 'moroccan', 'mouth', 'mr', 'museum', 'music', 'mussels', 'muy', 'nandos', 'nata', 'near', 'nearby', 'need', 'needed', 'needs', 'neighborhood', 'neighbourhood', 'nepalese', 'new', 'nice', 'nicely', 'nicest', 'night', 'nights', 'noisy', 'non', 'noodles', 'normal', 'north', 'northern', 'notch', 'nye', 'oasis', 'odd', 'offer', 'offering', 'office', 'oh', 'ok', 'okay', 'old', 'omg', 'open', 'opened', 'opening', 'opera', 'opposite', 'option', 'options', 'order', 'ordered', 'ordinary', 'organic', 'oriental', 'original', 'outdoor', 'outside', 'outstanding', 'oven', 'overall', 'overpriced', 'overrated', 'owned', 'owner', 'owners', 'oyster', 'oysters', 'pa', 'packed', 'pad', 'paella', 'pakistani', 'palace', 'pancakes', 'panini', 'par', 'paradise', 'pari', 'parisian', 'park', 'party', 'pass', 'past', 'pasta', 'pastries', 'pastry', 'path', 'patio', 'patisserie', 'pay', 'peaceful', 'pearl', 'people', 'perfect', 'perfection', 'perfectly', 'persian', 'personal', 'peruvian', 'petit', 'phenomenal', 'pho', 'pick', 'picnic', 'pie', 'piece', 'pies', 'pint', 'pit', 'pitstop', 'pity', 'pizza', 'pizzas', 'pizzeria', 'plac', 'place', 'places', 'plain', 'plate', 'plates', 'platter', 'plaza', 'pleasant', 'pleasantly', 'pleasure', 'plenty', 'plus', 'point', 'polish', 'polite', 'poor', 'pop', 'popular', 'pork', 'portion', 'portions', 'porto', 'portugese', 'portuguese', 'posh', 'positive', 'possibly', 'post', 'pot', 'potato', 'potatoes', 'potential', 'pr', 'pre', 'prepared', 'presentation', 'presented', 'pret', 'pretentious', 'pretty', 'pri', 'pric', 'price', 'priced', 'prices', 'pricey', 'pricing', 'pricy', 'private', 'probably', 'problem', 'products', 'professional', 'proper', 'pub', 'pure', 'quaint', 'quality', 'quantity', 'quiche', 'quick', 'quiet', 'quirky', 'quite', 'rainy', 'ramen', 'range', 'rare', 'rate', 'rating', 'ratio', 'ravioli', 'raw', 'read', 'ready', 'real', 'really', 'reason', 'reasonable', 'reasonably', 'reception', 'recommend', 'recommendation', 'recommended', 'red', 'refreshing', 'regional', 'regular', 'relatively', 'relax', 'relaxed', 'relaxing', 'reliable', 'remember', 'repeat', 'res', 'reservation', 'rest', 'resta', 'return', 'review', 'reviews', 'ribs', 'rice', 'rich', 'right', 'rip', 'risotto', 'river', 'road', 'roast', 'rock', 'roll', 'rolls', 'roma', 'roman', 'romantic', 'roof', 'rooftop', 'room', 'round', 'rubbish', 'rude', 'rue', 'run', 'rush', 'russian', 'rustic', 'sad', 'sadly', 'safe', 'salad', 'salads', 'salmon', 'salt', 'salty', 'san', 'sandwich', 'sandwiches', 'sangria', 'sashimi', 'satisfied', 'satisfying', 'saturday', 'sauce', 'sauces', 'sausage', 'saved', 'say', 'says', 'schnitzel', 'school', 'se', 'sea', 'seafood', 'seating', 'second', 'secret', 'seen', 'selection', 'ser', 'seriously', 'serv', 'serve', 'served', 'server', 'servi', 'servic', 'service', 'services', 'serving', 'set', 'setting', 'sh', 'shabby', 'shame', 'sharing', 'shawarma', 'shisha', 'shocking', 'shop', 'shopping', 'short', 'sicilian', 'sicily', 'simple', 'simply', 'sit', 'site', 'size', 'skip', 'slice', 'slightly', 'slow', 'small', 'smart', 'smile', 'smokers', 'smoking', 'smoothies', 'snack', 'snacks', 'soho', 'solid', 'solo', 'somewhat', 'son', 'sophisticated', 'sorry', 'soul', 'soup', 'soups', 'south', 'souvlaki', 'space', 'spacious', 'spanish', 'special', 'spectacular', 'spend', 'spicy', 'spirit', 'spoon', 'sports', 'spot', 'square', 'st', 'sta', 'staf', 'staff', 'staffs', 'standard', 'standards', 'star', 'stars', 'start', 'station', 'stay', 'staying', 'steak', 'steakhouse', 'steaks', 'step', 'steps', 'stop', 'stopped', 'store', 'strange', 'street', 'strong', 'student', 'stuff', 'stumbled', 'stunning', 'style', 'stylish', 'sublime', 'subway', 'sum', 'summer', 'sun', 'sunday', 'sunny', 'super', 'superb', 'supper', 'suprise', 'sure', 'surprise', 'surprised', 'surprising', 'surprisingly', 'surroundings', 'sushi', 'sushis', 'swedish', 'sweet', 'sweets', 'swiss', 'syrian', 'ta', 'table', 'tables', 'tacos', 'takeaway', 'takeout', 'taking', 'tap', 'tapas', 'tartare', 'taste', 'tasted', 'tasteful', 'tasteless', 'tastes', 'tasting', 'tasty', 'tavern', 'taverna', 'tea', 'team', 'terrace', 'terrible', 'terrific', 'tex', 'th', 'thai', 'thailand', 'thank', 'thanks', 'thats', 'theatre', 'thing', 'things', 'think', 'thought', 'thursday', 'time', 'times', 'tiny', 'tipical', 'tiramisu', 'tired', 'took', 'tortilla', 'total', 'totally', 'touch', 'tour', 'tourist', 'touristic', 'tourists', 'touristy', 'tower', 'town', 'track', 'tradition', 'traditional', 'train', 'trap', 'trattoria', 'travel', 'treasure', 'treat', 'trendy', 'tres', 'tried', 'trip', 'true', 'truly', 'try', 'trying', 'tucked', 'tuna', 'turkish', 'twice', 'twist', 'type', 'typical', 'unassuming', 'unbelievable', 'underrated', 'underwhelming', 'unexpected', 'unexpectedly', 'unforgettable', 'unfortunately', 'unfriendly', 'unique', 'unpleasant', 'unpretentious', 'unusual', 'upscale', 'use', 'used', 'usual', 'vacation', 'value', 'varied', 'variety', 'vatican', 've', 'veg', 'vegan', 'vegans', 'vegetarian', 'vegetarians', 'veggie', 'venue', 'ver', 'vibe', 'vibes', 'vibrant', 'viennese', 'viet', 'vietnamese', 'view', 'views', 'village', 'visit', 'visited', 'visiting', 'visits', 'wa', 'waffles', 'wait', 'waiter', 'waiters', 'waiting', 'waitress', 'walk', 'walking', 'wall', 'want', 'wanted', 'warm', 'wasn', 'waste', 'watch', 'watching', 'water', 'watering', 'way', 'wedding', 'wee', 'week', 'weekday', 'weekend', 'weird', 'welcome', 'welcoming', 'went', 'west', 'white', 'wholesome', 'wi', 'wide', 'wife', 'wifi', 'wild', 'wine', 'wines', 'wings', 'winner', 'wish', 'wit', 'wo', 'wok', 'won', 'wonder', 'wonderful', 'wonderfull', 'wood', 'word', 'work', 'working', 'world', 'worse', 'worst', 'worth', 'worthy', 'wouldn', 'wow', 'wrap', 'wraps', 'wrong', 'xmas', 'year', 'years', 'yes', 'young', 'yum', 'yummy', 'zero']\n"
     ]
    }
   ],
   "source": [
    "num_samples_tfidf, num_features_tfidf = X_tfidf.shape\n",
    "print(\"#samples: %d, #features: %d\" % (num_samples_tfidf,  num_features_tfidf))\n",
    "print(len(vect_tfidf.get_feature_names()))\n",
    "print(vect_tfidf.get_feature_names())"
   ]
  },
  {
   "cell_type": "code",
   "execution_count": 81,
   "metadata": {},
   "outputs": [
    {
     "name": "stdout",
     "output_type": "stream",
     "text": [
      "  (0, 562)\t0.7730280604742882\n",
      "  (0, 496)\t0.63437182922901\n",
      "(40000, 1334)\n"
     ]
    }
   ],
   "source": [
    "print(X_tfidf[0])\n",
    "print(X_tfidf.toarray().shape)"
   ]
  },
  {
   "cell_type": "code",
   "execution_count": 82,
   "metadata": {},
   "outputs": [
    {
     "data": {
      "text/plain": [
       "\"[['good     your doorstep', '  good hotel  '], ['//', '//']]\""
      ]
     },
     "execution_count": 82,
     "metadata": {},
     "output_type": "execute_result"
    }
   ],
   "source": [
    "df.reviews[0]"
   ]
  },
  {
   "cell_type": "code",
   "execution_count": 83,
   "metadata": {},
   "outputs": [],
   "source": [
    "# print(vect_tfidf.get_feature_names()[2292])\n",
    "# print(vect_tfidf.get_feature_names()[1362])\n",
    "# print(vect_tfidf.get_feature_names()[835])\n",
    "# print(vect_tfidf.get_feature_names()[1086])\n",
    "# print(vect_tfidf.get_feature_names()[1212])"
   ]
  },
  {
   "cell_type": "code",
   "execution_count": 84,
   "metadata": {},
   "outputs": [],
   "source": [
    "features_matrix = X_tfidf.toarray()"
   ]
  },
  {
   "cell_type": "markdown",
   "metadata": {},
   "source": [
    "#### Добавляем признаки на основе слов в отзывах со значением частоты встречаемости слова в конкретном отзыве"
   ]
  },
  {
   "cell_type": "code",
   "execution_count": 85,
   "metadata": {},
   "outputs": [],
   "source": [
    "for i in range(features_matrix.shape[1]):\n",
    "    feat_to_add = str(i) + '_f'\n",
    "    df[feat_to_add] = features_matrix[:,i]"
   ]
  },
  {
   "cell_type": "markdown",
   "metadata": {},
   "source": [
    "## Разбиваем датафрейм на части, необходимые для обучения и тестирования модели"
   ]
  },
  {
   "cell_type": "code",
   "execution_count": 86,
   "metadata": {},
   "outputs": [
    {
     "data": {
      "text/html": [
       "<div>\n",
       "<style scoped>\n",
       "    .dataframe tbody tr th:only-of-type {\n",
       "        vertical-align: middle;\n",
       "    }\n",
       "\n",
       "    .dataframe tbody tr th {\n",
       "        vertical-align: top;\n",
       "    }\n",
       "\n",
       "    .dataframe thead th {\n",
       "        text-align: right;\n",
       "    }\n",
       "</style>\n",
       "<table border=\"1\" class=\"dataframe\">\n",
       "  <thead>\n",
       "    <tr style=\"text-align: right;\">\n",
       "      <th></th>\n",
       "      <th>ranking</th>\n",
       "      <th>reviews_number</th>\n",
       "      <th>rest_density</th>\n",
       "      <th>country_Austria</th>\n",
       "      <th>country_Belgium</th>\n",
       "      <th>country_Czechia</th>\n",
       "      <th>country_Denmark</th>\n",
       "      <th>country_Finland</th>\n",
       "      <th>country_France</th>\n",
       "      <th>country_Germany</th>\n",
       "      <th>country_Greece</th>\n",
       "      <th>country_Hungary</th>\n",
       "      <th>country_Ireland</th>\n",
       "      <th>country_Italy</th>\n",
       "      <th>country_Luxembourg</th>\n",
       "      <th>country_Netherlands</th>\n",
       "      <th>country_Norway</th>\n",
       "      <th>country_Poland</th>\n",
       "      <th>country_Portugal</th>\n",
       "      <th>country_Slovakia</th>\n",
       "      <th>country_Slovenia</th>\n",
       "      <th>country_Spain</th>\n",
       "      <th>country_Sweden</th>\n",
       "      <th>country_Switzerland</th>\n",
       "      <th>country_UK</th>\n",
       "      <th>city_Amsterdam</th>\n",
       "      <th>city_Athens</th>\n",
       "      <th>city_Barcelona</th>\n",
       "      <th>city_Berlin</th>\n",
       "      <th>city_Bratislava</th>\n",
       "      <th>city_Brussels</th>\n",
       "      <th>city_Budapest</th>\n",
       "      <th>city_Copenhagen</th>\n",
       "      <th>city_Dublin</th>\n",
       "      <th>city_Edinburgh</th>\n",
       "      <th>city_Geneva</th>\n",
       "      <th>city_Hamburg</th>\n",
       "      <th>city_Helsinki</th>\n",
       "      <th>city_Krakow</th>\n",
       "      <th>city_Lisbon</th>\n",
       "      <th>city_Ljubljana</th>\n",
       "      <th>city_London</th>\n",
       "      <th>city_Luxembourg</th>\n",
       "      <th>city_Lyon</th>\n",
       "      <th>city_Madrid</th>\n",
       "      <th>city_Milan</th>\n",
       "      <th>city_Munich</th>\n",
       "      <th>city_Oporto</th>\n",
       "      <th>city_Oslo</th>\n",
       "      <th>city_Paris</th>\n",
       "      <th>...</th>\n",
       "      <th>1284_f</th>\n",
       "      <th>1285_f</th>\n",
       "      <th>1286_f</th>\n",
       "      <th>1287_f</th>\n",
       "      <th>1288_f</th>\n",
       "      <th>1289_f</th>\n",
       "      <th>1290_f</th>\n",
       "      <th>1291_f</th>\n",
       "      <th>1292_f</th>\n",
       "      <th>1293_f</th>\n",
       "      <th>1294_f</th>\n",
       "      <th>1295_f</th>\n",
       "      <th>1296_f</th>\n",
       "      <th>1297_f</th>\n",
       "      <th>1298_f</th>\n",
       "      <th>1299_f</th>\n",
       "      <th>1300_f</th>\n",
       "      <th>1301_f</th>\n",
       "      <th>1302_f</th>\n",
       "      <th>1303_f</th>\n",
       "      <th>1304_f</th>\n",
       "      <th>1305_f</th>\n",
       "      <th>1306_f</th>\n",
       "      <th>1307_f</th>\n",
       "      <th>1308_f</th>\n",
       "      <th>1309_f</th>\n",
       "      <th>1310_f</th>\n",
       "      <th>1311_f</th>\n",
       "      <th>1312_f</th>\n",
       "      <th>1313_f</th>\n",
       "      <th>1314_f</th>\n",
       "      <th>1315_f</th>\n",
       "      <th>1316_f</th>\n",
       "      <th>1317_f</th>\n",
       "      <th>1318_f</th>\n",
       "      <th>1319_f</th>\n",
       "      <th>1320_f</th>\n",
       "      <th>1321_f</th>\n",
       "      <th>1322_f</th>\n",
       "      <th>1323_f</th>\n",
       "      <th>1324_f</th>\n",
       "      <th>1325_f</th>\n",
       "      <th>1326_f</th>\n",
       "      <th>1327_f</th>\n",
       "      <th>1328_f</th>\n",
       "      <th>1329_f</th>\n",
       "      <th>1330_f</th>\n",
       "      <th>1331_f</th>\n",
       "      <th>1332_f</th>\n",
       "      <th>1333_f</th>\n",
       "    </tr>\n",
       "  </thead>\n",
       "  <tbody>\n",
       "    <tr>\n",
       "      <th>0</th>\n",
       "      <td>5570.0</td>\n",
       "      <td>194.0</td>\n",
       "      <td>2.287755</td>\n",
       "      <td>0</td>\n",
       "      <td>0</td>\n",
       "      <td>0</td>\n",
       "      <td>0</td>\n",
       "      <td>0</td>\n",
       "      <td>1</td>\n",
       "      <td>0</td>\n",
       "      <td>0</td>\n",
       "      <td>0</td>\n",
       "      <td>0</td>\n",
       "      <td>0</td>\n",
       "      <td>0</td>\n",
       "      <td>0</td>\n",
       "      <td>0</td>\n",
       "      <td>0</td>\n",
       "      <td>0</td>\n",
       "      <td>0</td>\n",
       "      <td>0</td>\n",
       "      <td>0</td>\n",
       "      <td>0</td>\n",
       "      <td>0</td>\n",
       "      <td>0</td>\n",
       "      <td>0</td>\n",
       "      <td>0</td>\n",
       "      <td>0</td>\n",
       "      <td>0</td>\n",
       "      <td>0</td>\n",
       "      <td>0</td>\n",
       "      <td>0</td>\n",
       "      <td>0</td>\n",
       "      <td>0</td>\n",
       "      <td>0</td>\n",
       "      <td>0</td>\n",
       "      <td>0</td>\n",
       "      <td>0</td>\n",
       "      <td>0</td>\n",
       "      <td>0</td>\n",
       "      <td>0</td>\n",
       "      <td>0</td>\n",
       "      <td>0</td>\n",
       "      <td>0</td>\n",
       "      <td>0</td>\n",
       "      <td>0</td>\n",
       "      <td>0</td>\n",
       "      <td>0</td>\n",
       "      <td>0</td>\n",
       "      <td>1</td>\n",
       "      <td>...</td>\n",
       "      <td>0.0</td>\n",
       "      <td>0.0</td>\n",
       "      <td>0.0</td>\n",
       "      <td>0.0</td>\n",
       "      <td>0.0</td>\n",
       "      <td>0.0</td>\n",
       "      <td>0.0</td>\n",
       "      <td>0.0</td>\n",
       "      <td>0.0</td>\n",
       "      <td>0.0</td>\n",
       "      <td>0.0</td>\n",
       "      <td>0.0</td>\n",
       "      <td>0.0</td>\n",
       "      <td>0.0</td>\n",
       "      <td>0.0</td>\n",
       "      <td>0.0</td>\n",
       "      <td>0.0</td>\n",
       "      <td>0.0</td>\n",
       "      <td>0.0</td>\n",
       "      <td>0.0</td>\n",
       "      <td>0.0</td>\n",
       "      <td>0.0</td>\n",
       "      <td>0.0</td>\n",
       "      <td>0.0</td>\n",
       "      <td>0.0</td>\n",
       "      <td>0.0</td>\n",
       "      <td>0.0</td>\n",
       "      <td>0.0</td>\n",
       "      <td>0.0</td>\n",
       "      <td>0.0</td>\n",
       "      <td>0.0</td>\n",
       "      <td>0.0</td>\n",
       "      <td>0.0</td>\n",
       "      <td>0.0</td>\n",
       "      <td>0.0</td>\n",
       "      <td>0.0</td>\n",
       "      <td>0.0</td>\n",
       "      <td>0.0</td>\n",
       "      <td>0.0</td>\n",
       "      <td>0.0</td>\n",
       "      <td>0.0</td>\n",
       "      <td>0.0</td>\n",
       "      <td>0.0</td>\n",
       "      <td>0.0</td>\n",
       "      <td>0.0</td>\n",
       "      <td>0.0</td>\n",
       "      <td>0.0</td>\n",
       "      <td>0.0</td>\n",
       "      <td>0.0</td>\n",
       "      <td>0.0</td>\n",
       "    </tr>\n",
       "    <tr>\n",
       "      <th>1</th>\n",
       "      <td>1537.0</td>\n",
       "      <td>10.0</td>\n",
       "      <td>0.841826</td>\n",
       "      <td>0</td>\n",
       "      <td>0</td>\n",
       "      <td>0</td>\n",
       "      <td>0</td>\n",
       "      <td>0</td>\n",
       "      <td>0</td>\n",
       "      <td>0</td>\n",
       "      <td>0</td>\n",
       "      <td>0</td>\n",
       "      <td>0</td>\n",
       "      <td>0</td>\n",
       "      <td>0</td>\n",
       "      <td>0</td>\n",
       "      <td>0</td>\n",
       "      <td>0</td>\n",
       "      <td>0</td>\n",
       "      <td>0</td>\n",
       "      <td>0</td>\n",
       "      <td>0</td>\n",
       "      <td>1</td>\n",
       "      <td>0</td>\n",
       "      <td>0</td>\n",
       "      <td>0</td>\n",
       "      <td>0</td>\n",
       "      <td>0</td>\n",
       "      <td>0</td>\n",
       "      <td>0</td>\n",
       "      <td>0</td>\n",
       "      <td>0</td>\n",
       "      <td>0</td>\n",
       "      <td>0</td>\n",
       "      <td>0</td>\n",
       "      <td>0</td>\n",
       "      <td>0</td>\n",
       "      <td>0</td>\n",
       "      <td>0</td>\n",
       "      <td>0</td>\n",
       "      <td>0</td>\n",
       "      <td>0</td>\n",
       "      <td>0</td>\n",
       "      <td>0</td>\n",
       "      <td>0</td>\n",
       "      <td>0</td>\n",
       "      <td>0</td>\n",
       "      <td>0</td>\n",
       "      <td>0</td>\n",
       "      <td>0</td>\n",
       "      <td>...</td>\n",
       "      <td>0.0</td>\n",
       "      <td>0.0</td>\n",
       "      <td>0.0</td>\n",
       "      <td>0.0</td>\n",
       "      <td>0.0</td>\n",
       "      <td>0.0</td>\n",
       "      <td>0.0</td>\n",
       "      <td>0.0</td>\n",
       "      <td>0.0</td>\n",
       "      <td>0.0</td>\n",
       "      <td>0.0</td>\n",
       "      <td>0.0</td>\n",
       "      <td>0.0</td>\n",
       "      <td>0.0</td>\n",
       "      <td>0.0</td>\n",
       "      <td>0.0</td>\n",
       "      <td>0.0</td>\n",
       "      <td>0.0</td>\n",
       "      <td>0.0</td>\n",
       "      <td>0.0</td>\n",
       "      <td>0.0</td>\n",
       "      <td>0.0</td>\n",
       "      <td>0.0</td>\n",
       "      <td>0.0</td>\n",
       "      <td>0.0</td>\n",
       "      <td>0.0</td>\n",
       "      <td>0.0</td>\n",
       "      <td>0.0</td>\n",
       "      <td>0.0</td>\n",
       "      <td>0.0</td>\n",
       "      <td>0.0</td>\n",
       "      <td>0.0</td>\n",
       "      <td>0.0</td>\n",
       "      <td>0.0</td>\n",
       "      <td>0.0</td>\n",
       "      <td>0.0</td>\n",
       "      <td>0.0</td>\n",
       "      <td>0.0</td>\n",
       "      <td>0.0</td>\n",
       "      <td>0.0</td>\n",
       "      <td>0.0</td>\n",
       "      <td>0.0</td>\n",
       "      <td>0.0</td>\n",
       "      <td>0.0</td>\n",
       "      <td>0.0</td>\n",
       "      <td>0.0</td>\n",
       "      <td>0.0</td>\n",
       "      <td>0.0</td>\n",
       "      <td>0.0</td>\n",
       "      <td>0.0</td>\n",
       "    </tr>\n",
       "    <tr>\n",
       "      <th>2</th>\n",
       "      <td>353.0</td>\n",
       "      <td>688.0</td>\n",
       "      <td>0.618765</td>\n",
       "      <td>0</td>\n",
       "      <td>0</td>\n",
       "      <td>0</td>\n",
       "      <td>0</td>\n",
       "      <td>0</td>\n",
       "      <td>0</td>\n",
       "      <td>0</td>\n",
       "      <td>0</td>\n",
       "      <td>0</td>\n",
       "      <td>0</td>\n",
       "      <td>0</td>\n",
       "      <td>0</td>\n",
       "      <td>0</td>\n",
       "      <td>0</td>\n",
       "      <td>0</td>\n",
       "      <td>0</td>\n",
       "      <td>0</td>\n",
       "      <td>0</td>\n",
       "      <td>0</td>\n",
       "      <td>0</td>\n",
       "      <td>0</td>\n",
       "      <td>1</td>\n",
       "      <td>0</td>\n",
       "      <td>0</td>\n",
       "      <td>0</td>\n",
       "      <td>0</td>\n",
       "      <td>0</td>\n",
       "      <td>0</td>\n",
       "      <td>0</td>\n",
       "      <td>0</td>\n",
       "      <td>0</td>\n",
       "      <td>0</td>\n",
       "      <td>0</td>\n",
       "      <td>0</td>\n",
       "      <td>0</td>\n",
       "      <td>0</td>\n",
       "      <td>0</td>\n",
       "      <td>0</td>\n",
       "      <td>1</td>\n",
       "      <td>0</td>\n",
       "      <td>0</td>\n",
       "      <td>0</td>\n",
       "      <td>0</td>\n",
       "      <td>0</td>\n",
       "      <td>0</td>\n",
       "      <td>0</td>\n",
       "      <td>0</td>\n",
       "      <td>...</td>\n",
       "      <td>0.0</td>\n",
       "      <td>0.0</td>\n",
       "      <td>0.0</td>\n",
       "      <td>0.0</td>\n",
       "      <td>0.0</td>\n",
       "      <td>0.0</td>\n",
       "      <td>0.0</td>\n",
       "      <td>0.0</td>\n",
       "      <td>0.0</td>\n",
       "      <td>0.0</td>\n",
       "      <td>0.0</td>\n",
       "      <td>0.0</td>\n",
       "      <td>0.0</td>\n",
       "      <td>0.0</td>\n",
       "      <td>0.0</td>\n",
       "      <td>0.0</td>\n",
       "      <td>0.0</td>\n",
       "      <td>0.0</td>\n",
       "      <td>0.0</td>\n",
       "      <td>0.0</td>\n",
       "      <td>0.0</td>\n",
       "      <td>0.0</td>\n",
       "      <td>0.0</td>\n",
       "      <td>0.0</td>\n",
       "      <td>0.0</td>\n",
       "      <td>0.0</td>\n",
       "      <td>0.0</td>\n",
       "      <td>0.0</td>\n",
       "      <td>0.0</td>\n",
       "      <td>0.0</td>\n",
       "      <td>0.0</td>\n",
       "      <td>0.0</td>\n",
       "      <td>0.0</td>\n",
       "      <td>0.0</td>\n",
       "      <td>0.0</td>\n",
       "      <td>0.0</td>\n",
       "      <td>0.0</td>\n",
       "      <td>0.0</td>\n",
       "      <td>0.0</td>\n",
       "      <td>0.0</td>\n",
       "      <td>0.0</td>\n",
       "      <td>0.0</td>\n",
       "      <td>0.0</td>\n",
       "      <td>0.0</td>\n",
       "      <td>0.0</td>\n",
       "      <td>0.0</td>\n",
       "      <td>0.0</td>\n",
       "      <td>0.0</td>\n",
       "      <td>0.0</td>\n",
       "      <td>0.0</td>\n",
       "    </tr>\n",
       "  </tbody>\n",
       "</table>\n",
       "<p>3 rows × 1400 columns</p>\n",
       "</div>"
      ],
      "text/plain": [
       "   ranking  reviews_number  rest_density  country_Austria  country_Belgium  \\\n",
       "0   5570.0           194.0      2.287755                0                0   \n",
       "1   1537.0            10.0      0.841826                0                0   \n",
       "2    353.0           688.0      0.618765                0                0   \n",
       "\n",
       "   country_Czechia  country_Denmark  country_Finland  country_France  \\\n",
       "0                0                0                0               1   \n",
       "1                0                0                0               0   \n",
       "2                0                0                0               0   \n",
       "\n",
       "   country_Germany  country_Greece  country_Hungary  country_Ireland  \\\n",
       "0                0               0                0                0   \n",
       "1                0               0                0                0   \n",
       "2                0               0                0                0   \n",
       "\n",
       "   country_Italy  country_Luxembourg  country_Netherlands  country_Norway  \\\n",
       "0              0                   0                    0               0   \n",
       "1              0                   0                    0               0   \n",
       "2              0                   0                    0               0   \n",
       "\n",
       "   country_Poland  country_Portugal  country_Slovakia  country_Slovenia  \\\n",
       "0               0                 0                 0                 0   \n",
       "1               0                 0                 0                 0   \n",
       "2               0                 0                 0                 0   \n",
       "\n",
       "   country_Spain  country_Sweden  country_Switzerland  country_UK  \\\n",
       "0              0               0                    0           0   \n",
       "1              0               1                    0           0   \n",
       "2              0               0                    0           1   \n",
       "\n",
       "   city_Amsterdam  city_Athens  city_Barcelona  city_Berlin  city_Bratislava  \\\n",
       "0               0            0               0            0                0   \n",
       "1               0            0               0            0                0   \n",
       "2               0            0               0            0                0   \n",
       "\n",
       "   city_Brussels  city_Budapest  city_Copenhagen  city_Dublin  city_Edinburgh  \\\n",
       "0              0              0                0            0               0   \n",
       "1              0              0                0            0               0   \n",
       "2              0              0                0            0               0   \n",
       "\n",
       "   city_Geneva  city_Hamburg  city_Helsinki  city_Krakow  city_Lisbon  \\\n",
       "0            0             0              0            0            0   \n",
       "1            0             0              0            0            0   \n",
       "2            0             0              0            0            0   \n",
       "\n",
       "   city_Ljubljana  city_London  city_Luxembourg  city_Lyon  city_Madrid  \\\n",
       "0               0            0                0          0            0   \n",
       "1               0            0                0          0            0   \n",
       "2               0            1                0          0            0   \n",
       "\n",
       "   city_Milan  city_Munich  city_Oporto  city_Oslo  city_Paris  ...  1284_f  \\\n",
       "0           0            0            0          0           1  ...     0.0   \n",
       "1           0            0            0          0           0  ...     0.0   \n",
       "2           0            0            0          0           0  ...     0.0   \n",
       "\n",
       "   1285_f  1286_f  1287_f  1288_f  1289_f  1290_f  1291_f  1292_f  1293_f  \\\n",
       "0     0.0     0.0     0.0     0.0     0.0     0.0     0.0     0.0     0.0   \n",
       "1     0.0     0.0     0.0     0.0     0.0     0.0     0.0     0.0     0.0   \n",
       "2     0.0     0.0     0.0     0.0     0.0     0.0     0.0     0.0     0.0   \n",
       "\n",
       "   1294_f  1295_f  1296_f  1297_f  1298_f  1299_f  1300_f  1301_f  1302_f  \\\n",
       "0     0.0     0.0     0.0     0.0     0.0     0.0     0.0     0.0     0.0   \n",
       "1     0.0     0.0     0.0     0.0     0.0     0.0     0.0     0.0     0.0   \n",
       "2     0.0     0.0     0.0     0.0     0.0     0.0     0.0     0.0     0.0   \n",
       "\n",
       "   1303_f  1304_f  1305_f  1306_f  1307_f  1308_f  1309_f  1310_f  1311_f  \\\n",
       "0     0.0     0.0     0.0     0.0     0.0     0.0     0.0     0.0     0.0   \n",
       "1     0.0     0.0     0.0     0.0     0.0     0.0     0.0     0.0     0.0   \n",
       "2     0.0     0.0     0.0     0.0     0.0     0.0     0.0     0.0     0.0   \n",
       "\n",
       "   1312_f  1313_f  1314_f  1315_f  1316_f  1317_f  1318_f  1319_f  1320_f  \\\n",
       "0     0.0     0.0     0.0     0.0     0.0     0.0     0.0     0.0     0.0   \n",
       "1     0.0     0.0     0.0     0.0     0.0     0.0     0.0     0.0     0.0   \n",
       "2     0.0     0.0     0.0     0.0     0.0     0.0     0.0     0.0     0.0   \n",
       "\n",
       "   1321_f  1322_f  1323_f  1324_f  1325_f  1326_f  1327_f  1328_f  1329_f  \\\n",
       "0     0.0     0.0     0.0     0.0     0.0     0.0     0.0     0.0     0.0   \n",
       "1     0.0     0.0     0.0     0.0     0.0     0.0     0.0     0.0     0.0   \n",
       "2     0.0     0.0     0.0     0.0     0.0     0.0     0.0     0.0     0.0   \n",
       "\n",
       "   1330_f  1331_f  1332_f  1333_f  \n",
       "0     0.0     0.0     0.0     0.0  \n",
       "1     0.0     0.0     0.0     0.0  \n",
       "2     0.0     0.0     0.0     0.0  \n",
       "\n",
       "[3 rows x 1400 columns]"
      ]
     },
     "execution_count": 86,
     "metadata": {},
     "output_type": "execute_result"
    }
   ],
   "source": [
    "# Х - данные с информацией о ресторанах, у - целевая переменная (рейтинги ресторанов)\n",
    "X = df.drop(['restaurant_id', 'rating', 'cuisine_style', 'price_range', 'url_ta', 'id_ta', #, 'reviews'\n",
    "             'cuisine', 'reviews_dates', 'review1_date', 'review2_date', 'review1_date_d',\n",
    "             'review2_date_d', 'rests', 'population', 'reviews'], axis = 1)\n",
    "y = df['rating']\n",
    "\n",
    "X.head(3)"
   ]
  },
  {
   "cell_type": "code",
   "execution_count": 87,
   "metadata": {},
   "outputs": [],
   "source": [
    "# Наборы данных с меткой \"train\" будут использоваться для обучения модели, \"test\" - для тестирования.\n",
    "# Для тестирования мы будем использовать 25% от исходного датасета.\n",
    "X_train, X_test, y_train, y_test = train_test_split(X, y, test_size=0.25, random_state=RANDOM_SEED)"
   ]
  },
  {
   "cell_type": "markdown",
   "metadata": {},
   "source": [
    "## Создание, обучение и тестирование модели"
   ]
  },
  {
   "cell_type": "code",
   "execution_count": 88,
   "metadata": {},
   "outputs": [],
   "source": [
    "# Создаём модель\n",
    "regr = RandomForestRegressor(n_estimators=100, random_state=RANDOM_SEED)\n",
    "\n",
    "# Обучаем модель на тестовом наборе данных\n",
    "regr.fit(X_train, y_train)\n",
    "\n",
    "# Используем обученную модель для предсказания рейтинга ресторанов в тестовой выборке.\n",
    "# Предсказанные значения записываем в переменную y_pred\n",
    "y_pred = (regr.predict(X_test)*2).round()/2"
   ]
  },
  {
   "cell_type": "code",
   "execution_count": 89,
   "metadata": {},
   "outputs": [
    {
     "name": "stdout",
     "output_type": "stream",
     "text": [
      "MAE: 0.16265\n"
     ]
    }
   ],
   "source": [
    "# Сравниваем предсказанные значения (y_pred) с реальными (y_test), и смотрим насколько они в среднем отличаются\n",
    "# Метрика называется Mean Absolute Error (MAE) и показывает среднее отклонение предсказанных значений от фактических.\n",
    "print('MAE:', metrics.mean_absolute_error(y_test, y_pred))"
   ]
  },
  {
   "cell_type": "code",
   "execution_count": 90,
   "metadata": {},
   "outputs": [
    {
     "data": {
      "text/plain": [
       "<matplotlib.axes._subplots.AxesSubplot at 0x1df20245e08>"
      ]
     },
     "execution_count": 90,
     "metadata": {},
     "output_type": "execute_result"
    },
    {
     "data": {
      "image/png": "[encoded data removed]",
      "text/plain": [
       "<Figure size 1440x720 with 1 Axes>"
      ]
     },
     "metadata": {
      "needs_background": "light"
     },
     "output_type": "display_data"
    }
   ],
   "source": [
    "# Отображаем признаки, отсортированные по их значимости\n",
    "plt.rcParams['figure.figsize'] = (20, 10)\n",
    "feat_importances = pd.Series(regr.feature_importances_, index=X.columns)\n",
    "feat_importances.nlargest(30).plot(kind='barh')"
   ]
  },
  {
   "cell_type": "code",
   "execution_count": 91,
   "metadata": {},
   "outputs": [],
   "source": [
    "from ipython_exit import exit"
   ]
  },
  {
   "cell_type": "code",
   "execution_count": 92,
   "metadata": {},
   "outputs": [],
   "source": [
    "# составляем список важнейших признаков\n",
    "main_features = feat_importances.nlargest(500).index.tolist()"
   ]
  },
  {
   "cell_type": "code",
   "execution_count": 93,
   "metadata": {},
   "outputs": [
    {
     "data": {
      "text/plain": [
       "ranking_norm_rests     0.597876\n",
       "reviews_number         0.112859\n",
       "city_Rome              0.047363\n",
       "ranking                0.040948\n",
       "id_ta_num              0.023566\n",
       "reviews_number_norm    0.018868\n",
       "days_to_today          0.012963\n",
       "days_between           0.009839\n",
       "rest_density           0.009617\n",
       "city_Madrid            0.008978\n",
       "cuisines_number        0.005911\n",
       "496_f                  0.003868\n",
       "508_f                  0.002645\n",
       "price_range_isna       0.002401\n",
       "country_Spain          0.002192\n",
       "city_Amsterdam         0.002007\n",
       "price_range_label      0.001933\n",
       "country_Netherlands    0.001885\n",
       "city_Edinburgh         0.001792\n",
       "reviews_number_isna    0.001702\n",
       "764_f                  0.001693\n",
       "82_f                   0.001630\n",
       "860_f                  0.001587\n",
       "cuisine_style_isna     0.001532\n",
       "1028_f                 0.001361\n",
       "country_Germany        0.001245\n",
       "city_Hamburg           0.001214\n",
       "411_f                  0.001196\n",
       "384_f                  0.001190\n",
       "280_f                  0.001128\n",
       "22_f                   0.001012\n",
       "city_Berlin            0.001007\n",
       "city_Munich            0.000980\n",
       "country_Belgium        0.000902\n",
       "city_Brussels          0.000866\n",
       "680_f                  0.000808\n",
       "464_f                  0.000751\n",
       "394_f                  0.000721\n",
       "1156_f                 0.000690\n",
       "city_Krakow            0.000683\n",
       "658_f                  0.000669\n",
       "600_f                  0.000658\n",
       "306_f                  0.000657\n",
       "64_f                   0.000654\n",
       "city_Prague            0.000642\n",
       "856_f                  0.000641\n",
       "city_Oporto            0.000633\n",
       "652_f                  0.000630\n",
       "country_Czechia        0.000625\n",
       "838_f                  0.000566\n",
       "country_Italy          0.000561\n",
       "country_France         0.000531\n",
       "674_f                  0.000529\n",
       "city_Milan             0.000497\n",
       "country_Sweden         0.000495\n",
       "902_f                  0.000494\n",
       "city_Stockholm         0.000475\n",
       "54_f                   0.000473\n",
       "914_f                  0.000465\n",
       "1089_f                 0.000461\n",
       "204_f                  0.000459\n",
       "134_f                  0.000453\n",
       "783_f                  0.000424\n",
       "city_Barcelona         0.000419\n",
       "city_Budapest          0.000400\n",
       "country_Portugal       0.000398\n",
       "46_f                   0.000397\n",
       "59_f                   0.000375\n",
       "917_f                  0.000373\n",
       "481_f                  0.000369\n",
       "1259_f                 0.000367\n",
       "456_f                  0.000362\n",
       "country_Hungary        0.000346\n",
       "55_f                   0.000341\n",
       "111_f                  0.000341\n",
       "407_f                  0.000340\n",
       "584_f                  0.000334\n",
       "56_f                   0.000333\n",
       "city_Zurich            0.000332\n",
       "52_f                   0.000332\n",
       "1121_f                 0.000330\n",
       "1084_f                 0.000327\n",
       "661_f                  0.000324\n",
       "1310_f                 0.000324\n",
       "country_Austria        0.000322\n",
       "328_f                  0.000319\n",
       "1237_f                 0.000318\n",
       "702_f                  0.000310\n",
       "1148_f                 0.000309\n",
       "168_f                  0.000304\n",
       "city_Lisbon            0.000295\n",
       "78_f                   0.000290\n",
       "city_Paris             0.000289\n",
       "920_f                  0.000287\n",
       "city_Lyon              0.000284\n",
       "country_UK             0.000282\n",
       "377_f                  0.000280\n",
       "1318_f                 0.000280\n",
       "1162_f                 0.000278\n",
       "city_Vienna            0.000276\n",
       "dtype: float64"
      ]
     },
     "execution_count": 93,
     "metadata": {},
     "output_type": "execute_result"
    }
   ],
   "source": [
    "feat_importances.sort_values(ascending=False)[:100]"
   ]
  },
  {
   "cell_type": "code",
   "execution_count": 94,
   "metadata": {},
   "outputs": [
    {
     "ename": "IpyExit",
     "evalue": "",
     "output_type": "error",
     "traceback": [
      "An exception has occurred, use %tb to see the full traceback.\n",
      "\u001b[1;31mIpyExit\u001b[0m\n"
     ]
    }
   ],
   "source": [
    "exit()"
   ]
  },
  {
   "cell_type": "code",
   "execution_count": null,
   "metadata": {},
   "outputs": [],
   "source": [
    "# Еще раз копируем датасет, оставив только важнейшие признаки:\n",
    "X = X[main_features].copy()\n",
    "X_train = X_train[main_features].copy()\n",
    "X_test = X_test[main_features].copy()"
   ]
  },
  {
   "cell_type": "code",
   "execution_count": null,
   "metadata": {},
   "outputs": [],
   "source": [
    "# X.head()"
   ]
  },
  {
   "cell_type": "code",
   "execution_count": null,
   "metadata": {},
   "outputs": [],
   "source": [
    "# Пересоздаем модель, используя только самые важные признаки\n",
    "regr = RandomForestRegressor(n_estimators=100, random_state=RANDOM_SEED)\n",
    "regr.fit(X_train, y_train)\n",
    "y_pred = (regr.predict(X_test)*2).round()/2\n",
    "print('MAE:', metrics.mean_absolute_error(y_test, y_pred))"
   ]
  },
  {
   "cell_type": "code",
   "execution_count": null,
   "metadata": {},
   "outputs": [],
   "source": [
    "# Отображаем признаки, отсортированные по их значимости\n",
    "plt.rcParams['figure.figsize'] = (20, 10)\n",
    "feat_importances = pd.Series(regr.feature_importances_, index=X.columns)\n",
    "feat_importances.nlargest(30).plot(kind='barh')"
   ]
  }
 ],
 "metadata": {
  "kernelspec": {
   "display_name": "Python 3",
   "language": "python",
   "name": "python3"
  },
  "language_info": {
   "codemirror_mode": {
    "name": "ipython",
    "version": 3
   },
   "file_extension": ".py",
   "mimetype": "text/x-python",
   "name": "python",
   "nbconvert_exporter": "python",
   "pygments_lexer": "ipython3",
   "version": "3.7.6"
  }
 },
 "nbformat": 4,
 "nbformat_minor": 4
}
