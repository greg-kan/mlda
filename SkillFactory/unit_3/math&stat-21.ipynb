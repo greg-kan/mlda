{
 "cells": [
  {
   "cell_type": "code",
   "execution_count": 1,
   "metadata": {},
   "outputs": [],
   "source": [
    "import numpy as np # для работы с массивами\n",
    "import pandas as pd # для работы DataFrame \n",
    "import seaborn as sns # библиотека для визуализации статистических данных\n",
    "import matplotlib.pyplot as plt # для построения графиков\n",
    "\n",
    "%matplotlib inline"
   ]
  },
  {
   "cell_type": "code",
   "execution_count": 2,
   "metadata": {
    "scrolled": true
   },
   "outputs": [
    {
     "data": {
      "text/html": [
       "<div>\n",
       "<style scoped>\n",
       "    .dataframe tbody tr th:only-of-type {\n",
       "        vertical-align: middle;\n",
       "    }\n",
       "\n",
       "    .dataframe tbody tr th {\n",
       "        vertical-align: top;\n",
       "    }\n",
       "\n",
       "    .dataframe thead th {\n",
       "        text-align: right;\n",
       "    }\n",
       "</style>\n",
       "<table border=\"1\" class=\"dataframe\">\n",
       "  <thead>\n",
       "    <tr style=\"text-align: right;\">\n",
       "      <th></th>\n",
       "      <th>Serial No.</th>\n",
       "      <th>GRE Score</th>\n",
       "      <th>TOEFL Score</th>\n",
       "      <th>University Rating</th>\n",
       "      <th>SOP</th>\n",
       "      <th>LOR</th>\n",
       "      <th>CGPA</th>\n",
       "      <th>Research</th>\n",
       "      <th>Chance of Admit</th>\n",
       "    </tr>\n",
       "  </thead>\n",
       "  <tbody>\n",
       "    <tr>\n",
       "      <th>0</th>\n",
       "      <td>1</td>\n",
       "      <td>337</td>\n",
       "      <td>118</td>\n",
       "      <td>4</td>\n",
       "      <td>4.5</td>\n",
       "      <td>4.5</td>\n",
       "      <td>9.65</td>\n",
       "      <td>1</td>\n",
       "      <td>0.92</td>\n",
       "    </tr>\n",
       "    <tr>\n",
       "      <th>1</th>\n",
       "      <td>2</td>\n",
       "      <td>324</td>\n",
       "      <td>107</td>\n",
       "      <td>4</td>\n",
       "      <td>4.0</td>\n",
       "      <td>4.5</td>\n",
       "      <td>8.87</td>\n",
       "      <td>1</td>\n",
       "      <td>0.76</td>\n",
       "    </tr>\n",
       "    <tr>\n",
       "      <th>2</th>\n",
       "      <td>3</td>\n",
       "      <td>316</td>\n",
       "      <td>104</td>\n",
       "      <td>3</td>\n",
       "      <td>3.0</td>\n",
       "      <td>3.5</td>\n",
       "      <td>8.00</td>\n",
       "      <td>1</td>\n",
       "      <td>0.72</td>\n",
       "    </tr>\n",
       "    <tr>\n",
       "      <th>3</th>\n",
       "      <td>4</td>\n",
       "      <td>322</td>\n",
       "      <td>110</td>\n",
       "      <td>3</td>\n",
       "      <td>3.5</td>\n",
       "      <td>2.5</td>\n",
       "      <td>8.67</td>\n",
       "      <td>1</td>\n",
       "      <td>0.80</td>\n",
       "    </tr>\n",
       "    <tr>\n",
       "      <th>4</th>\n",
       "      <td>5</td>\n",
       "      <td>314</td>\n",
       "      <td>103</td>\n",
       "      <td>2</td>\n",
       "      <td>2.0</td>\n",
       "      <td>3.0</td>\n",
       "      <td>8.21</td>\n",
       "      <td>0</td>\n",
       "      <td>0.65</td>\n",
       "    </tr>\n",
       "  </tbody>\n",
       "</table>\n",
       "</div>"
      ],
      "text/plain": [
       "   Serial No.  GRE Score  TOEFL Score  University Rating  SOP  LOR   CGPA  \\\n",
       "0           1        337          118                  4  4.5   4.5  9.65   \n",
       "1           2        324          107                  4  4.0   4.5  8.87   \n",
       "2           3        316          104                  3  3.0   3.5  8.00   \n",
       "3           4        322          110                  3  3.5   2.5  8.67   \n",
       "4           5        314          103                  2  2.0   3.0  8.21   \n",
       "\n",
       "   Research  Chance of Admit   \n",
       "0         1              0.92  \n",
       "1         1              0.76  \n",
       "2         1              0.72  \n",
       "3         1              0.80  \n",
       "4         0              0.65  "
      ]
     },
     "execution_count": 2,
     "metadata": {},
     "output_type": "execute_result"
    }
   ],
   "source": [
    "enrollees = pd.read_csv('Admission_Predict_Ver1.1.csv')\n",
    "enrollees.head(5)"
   ]
  },
  {
   "cell_type": "code",
   "execution_count": 3,
   "metadata": {
    "scrolled": true
   },
   "outputs": [
    {
     "name": "stdout",
     "output_type": "stream",
     "text": [
      "<class 'pandas.core.frame.DataFrame'>\n",
      "RangeIndex: 500 entries, 0 to 499\n",
      "Data columns (total 9 columns):\n",
      " #   Column             Non-Null Count  Dtype  \n",
      "---  ------             --------------  -----  \n",
      " 0   Serial No.         500 non-null    int64  \n",
      " 1   GRE Score          500 non-null    int64  \n",
      " 2   TOEFL Score        500 non-null    int64  \n",
      " 3   University Rating  500 non-null    int64  \n",
      " 4   SOP                500 non-null    float64\n",
      " 5   LOR                500 non-null    float64\n",
      " 6   CGPA               500 non-null    float64\n",
      " 7   Research           500 non-null    int64  \n",
      " 8   Chance of Admit    500 non-null    float64\n",
      "dtypes: float64(4), int64(5)\n",
      "memory usage: 35.3 KB\n"
     ]
    }
   ],
   "source": [
    "enrollees.info()"
   ]
  },
  {
   "cell_type": "code",
   "execution_count": 4,
   "metadata": {},
   "outputs": [
    {
     "data": {
      "text/html": [
       "<div>\n",
       "<style scoped>\n",
       "    .dataframe tbody tr th:only-of-type {\n",
       "        vertical-align: middle;\n",
       "    }\n",
       "\n",
       "    .dataframe tbody tr th {\n",
       "        vertical-align: top;\n",
       "    }\n",
       "\n",
       "    .dataframe thead th {\n",
       "        text-align: right;\n",
       "    }\n",
       "</style>\n",
       "<table border=\"1\" class=\"dataframe\">\n",
       "  <thead>\n",
       "    <tr style=\"text-align: right;\">\n",
       "      <th></th>\n",
       "      <th>Serial No.</th>\n",
       "      <th>GRE Score</th>\n",
       "      <th>TOEFL Score</th>\n",
       "      <th>University Rating</th>\n",
       "      <th>SOP</th>\n",
       "      <th>LOR</th>\n",
       "      <th>CGPA</th>\n",
       "      <th>Research</th>\n",
       "      <th>Chance of Admit</th>\n",
       "    </tr>\n",
       "  </thead>\n",
       "  <tbody>\n",
       "    <tr>\n",
       "      <th>count</th>\n",
       "      <td>500.000000</td>\n",
       "      <td>500.000000</td>\n",
       "      <td>500.000000</td>\n",
       "      <td>500.000000</td>\n",
       "      <td>500.000000</td>\n",
       "      <td>500.00000</td>\n",
       "      <td>500.000000</td>\n",
       "      <td>500.000000</td>\n",
       "      <td>500.00000</td>\n",
       "    </tr>\n",
       "    <tr>\n",
       "      <th>mean</th>\n",
       "      <td>250.500000</td>\n",
       "      <td>316.472000</td>\n",
       "      <td>107.192000</td>\n",
       "      <td>3.114000</td>\n",
       "      <td>3.374000</td>\n",
       "      <td>3.48400</td>\n",
       "      <td>8.576440</td>\n",
       "      <td>0.560000</td>\n",
       "      <td>0.72174</td>\n",
       "    </tr>\n",
       "    <tr>\n",
       "      <th>std</th>\n",
       "      <td>144.481833</td>\n",
       "      <td>11.295148</td>\n",
       "      <td>6.081868</td>\n",
       "      <td>1.143512</td>\n",
       "      <td>0.991004</td>\n",
       "      <td>0.92545</td>\n",
       "      <td>0.604813</td>\n",
       "      <td>0.496884</td>\n",
       "      <td>0.14114</td>\n",
       "    </tr>\n",
       "    <tr>\n",
       "      <th>min</th>\n",
       "      <td>1.000000</td>\n",
       "      <td>290.000000</td>\n",
       "      <td>92.000000</td>\n",
       "      <td>1.000000</td>\n",
       "      <td>1.000000</td>\n",
       "      <td>1.00000</td>\n",
       "      <td>6.800000</td>\n",
       "      <td>0.000000</td>\n",
       "      <td>0.34000</td>\n",
       "    </tr>\n",
       "    <tr>\n",
       "      <th>25%</th>\n",
       "      <td>125.750000</td>\n",
       "      <td>308.000000</td>\n",
       "      <td>103.000000</td>\n",
       "      <td>2.000000</td>\n",
       "      <td>2.500000</td>\n",
       "      <td>3.00000</td>\n",
       "      <td>8.127500</td>\n",
       "      <td>0.000000</td>\n",
       "      <td>0.63000</td>\n",
       "    </tr>\n",
       "    <tr>\n",
       "      <th>50%</th>\n",
       "      <td>250.500000</td>\n",
       "      <td>317.000000</td>\n",
       "      <td>107.000000</td>\n",
       "      <td>3.000000</td>\n",
       "      <td>3.500000</td>\n",
       "      <td>3.50000</td>\n",
       "      <td>8.560000</td>\n",
       "      <td>1.000000</td>\n",
       "      <td>0.72000</td>\n",
       "    </tr>\n",
       "    <tr>\n",
       "      <th>75%</th>\n",
       "      <td>375.250000</td>\n",
       "      <td>325.000000</td>\n",
       "      <td>112.000000</td>\n",
       "      <td>4.000000</td>\n",
       "      <td>4.000000</td>\n",
       "      <td>4.00000</td>\n",
       "      <td>9.040000</td>\n",
       "      <td>1.000000</td>\n",
       "      <td>0.82000</td>\n",
       "    </tr>\n",
       "    <tr>\n",
       "      <th>max</th>\n",
       "      <td>500.000000</td>\n",
       "      <td>340.000000</td>\n",
       "      <td>120.000000</td>\n",
       "      <td>5.000000</td>\n",
       "      <td>5.000000</td>\n",
       "      <td>5.00000</td>\n",
       "      <td>9.920000</td>\n",
       "      <td>1.000000</td>\n",
       "      <td>0.97000</td>\n",
       "    </tr>\n",
       "  </tbody>\n",
       "</table>\n",
       "</div>"
      ],
      "text/plain": [
       "       Serial No.   GRE Score  TOEFL Score  University Rating         SOP  \\\n",
       "count  500.000000  500.000000   500.000000         500.000000  500.000000   \n",
       "mean   250.500000  316.472000   107.192000           3.114000    3.374000   \n",
       "std    144.481833   11.295148     6.081868           1.143512    0.991004   \n",
       "min      1.000000  290.000000    92.000000           1.000000    1.000000   \n",
       "25%    125.750000  308.000000   103.000000           2.000000    2.500000   \n",
       "50%    250.500000  317.000000   107.000000           3.000000    3.500000   \n",
       "75%    375.250000  325.000000   112.000000           4.000000    4.000000   \n",
       "max    500.000000  340.000000   120.000000           5.000000    5.000000   \n",
       "\n",
       "            LOR         CGPA    Research  Chance of Admit   \n",
       "count  500.00000  500.000000  500.000000         500.00000  \n",
       "mean     3.48400    8.576440    0.560000           0.72174  \n",
       "std      0.92545    0.604813    0.496884           0.14114  \n",
       "min      1.00000    6.800000    0.000000           0.34000  \n",
       "25%      3.00000    8.127500    0.000000           0.63000  \n",
       "50%      3.50000    8.560000    1.000000           0.72000  \n",
       "75%      4.00000    9.040000    1.000000           0.82000  \n",
       "max      5.00000    9.920000    1.000000           0.97000  "
      ]
     },
     "execution_count": 4,
     "metadata": {},
     "output_type": "execute_result"
    }
   ],
   "source": [
    "enrollees.describe()"
   ]
  },
  {
   "cell_type": "code",
   "execution_count": 6,
   "metadata": {},
   "outputs": [
    {
     "data": {
      "text/html": [
       "<div>\n",
       "<style scoped>\n",
       "    .dataframe tbody tr th:only-of-type {\n",
       "        vertical-align: middle;\n",
       "    }\n",
       "\n",
       "    .dataframe tbody tr th {\n",
       "        vertical-align: top;\n",
       "    }\n",
       "\n",
       "    .dataframe thead th {\n",
       "        text-align: right;\n",
       "    }\n",
       "</style>\n",
       "<table border=\"1\" class=\"dataframe\">\n",
       "  <thead>\n",
       "    <tr style=\"text-align: right;\">\n",
       "      <th></th>\n",
       "      <th>GRE Score</th>\n",
       "      <th>TOEFL Score</th>\n",
       "      <th>University Rating</th>\n",
       "      <th>SOP</th>\n",
       "      <th>LOR</th>\n",
       "      <th>CGPA</th>\n",
       "      <th>Research</th>\n",
       "      <th>Chance of Admit</th>\n",
       "    </tr>\n",
       "  </thead>\n",
       "  <tbody>\n",
       "    <tr>\n",
       "      <th>GRE Score</th>\n",
       "      <td>1.000000</td>\n",
       "      <td>0.827200</td>\n",
       "      <td>0.635376</td>\n",
       "      <td>0.613498</td>\n",
       "      <td>0.524679</td>\n",
       "      <td>0.825878</td>\n",
       "      <td>0.563398</td>\n",
       "      <td>0.810351</td>\n",
       "    </tr>\n",
       "    <tr>\n",
       "      <th>TOEFL Score</th>\n",
       "      <td>0.827200</td>\n",
       "      <td>1.000000</td>\n",
       "      <td>0.649799</td>\n",
       "      <td>0.644410</td>\n",
       "      <td>0.541563</td>\n",
       "      <td>0.810574</td>\n",
       "      <td>0.467012</td>\n",
       "      <td>0.792228</td>\n",
       "    </tr>\n",
       "    <tr>\n",
       "      <th>University Rating</th>\n",
       "      <td>0.635376</td>\n",
       "      <td>0.649799</td>\n",
       "      <td>1.000000</td>\n",
       "      <td>0.728024</td>\n",
       "      <td>0.608651</td>\n",
       "      <td>0.705254</td>\n",
       "      <td>0.427047</td>\n",
       "      <td>0.690132</td>\n",
       "    </tr>\n",
       "    <tr>\n",
       "      <th>SOP</th>\n",
       "      <td>0.613498</td>\n",
       "      <td>0.644410</td>\n",
       "      <td>0.728024</td>\n",
       "      <td>1.000000</td>\n",
       "      <td>0.663707</td>\n",
       "      <td>0.712154</td>\n",
       "      <td>0.408116</td>\n",
       "      <td>0.684137</td>\n",
       "    </tr>\n",
       "    <tr>\n",
       "      <th>LOR</th>\n",
       "      <td>0.524679</td>\n",
       "      <td>0.541563</td>\n",
       "      <td>0.608651</td>\n",
       "      <td>0.663707</td>\n",
       "      <td>1.000000</td>\n",
       "      <td>0.637469</td>\n",
       "      <td>0.372526</td>\n",
       "      <td>0.645365</td>\n",
       "    </tr>\n",
       "    <tr>\n",
       "      <th>CGPA</th>\n",
       "      <td>0.825878</td>\n",
       "      <td>0.810574</td>\n",
       "      <td>0.705254</td>\n",
       "      <td>0.712154</td>\n",
       "      <td>0.637469</td>\n",
       "      <td>1.000000</td>\n",
       "      <td>0.501311</td>\n",
       "      <td>0.882413</td>\n",
       "    </tr>\n",
       "    <tr>\n",
       "      <th>Research</th>\n",
       "      <td>0.563398</td>\n",
       "      <td>0.467012</td>\n",
       "      <td>0.427047</td>\n",
       "      <td>0.408116</td>\n",
       "      <td>0.372526</td>\n",
       "      <td>0.501311</td>\n",
       "      <td>1.000000</td>\n",
       "      <td>0.545871</td>\n",
       "    </tr>\n",
       "    <tr>\n",
       "      <th>Chance of Admit</th>\n",
       "      <td>0.810351</td>\n",
       "      <td>0.792228</td>\n",
       "      <td>0.690132</td>\n",
       "      <td>0.684137</td>\n",
       "      <td>0.645365</td>\n",
       "      <td>0.882413</td>\n",
       "      <td>0.545871</td>\n",
       "      <td>1.000000</td>\n",
       "    </tr>\n",
       "  </tbody>\n",
       "</table>\n",
       "</div>"
      ],
      "text/plain": [
       "                   GRE Score  TOEFL Score  University Rating       SOP  \\\n",
       "GRE Score           1.000000     0.827200           0.635376  0.613498   \n",
       "TOEFL Score         0.827200     1.000000           0.649799  0.644410   \n",
       "University Rating   0.635376     0.649799           1.000000  0.728024   \n",
       "SOP                 0.613498     0.644410           0.728024  1.000000   \n",
       "LOR                 0.524679     0.541563           0.608651  0.663707   \n",
       "CGPA                0.825878     0.810574           0.705254  0.712154   \n",
       "Research            0.563398     0.467012           0.427047  0.408116   \n",
       "Chance of Admit     0.810351     0.792228           0.690132  0.684137   \n",
       "\n",
       "                       LOR       CGPA  Research  Chance of Admit   \n",
       "GRE Score          0.524679  0.825878  0.563398          0.810351  \n",
       "TOEFL Score        0.541563  0.810574  0.467012          0.792228  \n",
       "University Rating  0.608651  0.705254  0.427047          0.690132  \n",
       "SOP                0.663707  0.712154  0.408116          0.684137  \n",
       "LOR                1.000000  0.637469  0.372526          0.645365  \n",
       "CGPA               0.637469  1.000000  0.501311          0.882413  \n",
       "Research           0.372526  0.501311  1.000000          0.545871  \n",
       "Chance of Admit    0.645365  0.882413  0.545871          1.000000  "
      ]
     },
     "execution_count": 6,
     "metadata": {},
     "output_type": "execute_result"
    }
   ],
   "source": [
    "enrollees.drop(['Serial No.'], inplace = False, axis = 1).corr(method='pearson')"
   ]
  },
  {
   "cell_type": "code",
   "execution_count": 7,
   "metadata": {},
   "outputs": [
    {
     "data": {
      "text/html": [
       "<div>\n",
       "<style scoped>\n",
       "    .dataframe tbody tr th:only-of-type {\n",
       "        vertical-align: middle;\n",
       "    }\n",
       "\n",
       "    .dataframe tbody tr th {\n",
       "        vertical-align: top;\n",
       "    }\n",
       "\n",
       "    .dataframe thead th {\n",
       "        text-align: right;\n",
       "    }\n",
       "</style>\n",
       "<table border=\"1\" class=\"dataframe\">\n",
       "  <thead>\n",
       "    <tr style=\"text-align: right;\">\n",
       "      <th></th>\n",
       "      <th>GRE Score</th>\n",
       "      <th>TOEFL Score</th>\n",
       "      <th>University Rating</th>\n",
       "      <th>SOP</th>\n",
       "      <th>LOR</th>\n",
       "      <th>CGPA</th>\n",
       "      <th>Research</th>\n",
       "      <th>Chance of Admit</th>\n",
       "    </tr>\n",
       "  </thead>\n",
       "  <tbody>\n",
       "    <tr>\n",
       "      <th>0</th>\n",
       "      <td>337</td>\n",
       "      <td>118</td>\n",
       "      <td>4</td>\n",
       "      <td>4.5</td>\n",
       "      <td>4.5</td>\n",
       "      <td>9.65</td>\n",
       "      <td>1</td>\n",
       "      <td>0.92</td>\n",
       "    </tr>\n",
       "    <tr>\n",
       "      <th>1</th>\n",
       "      <td>324</td>\n",
       "      <td>107</td>\n",
       "      <td>4</td>\n",
       "      <td>4.0</td>\n",
       "      <td>4.5</td>\n",
       "      <td>8.87</td>\n",
       "      <td>1</td>\n",
       "      <td>0.76</td>\n",
       "    </tr>\n",
       "  </tbody>\n",
       "</table>\n",
       "</div>"
      ],
      "text/plain": [
       "   GRE Score  TOEFL Score  University Rating  SOP  LOR   CGPA  Research  \\\n",
       "0        337          118                  4  4.5   4.5  9.65         1   \n",
       "1        324          107                  4  4.0   4.5  8.87         1   \n",
       "\n",
       "   Chance of Admit   \n",
       "0              0.92  \n",
       "1              0.76  "
      ]
     },
     "execution_count": 7,
     "metadata": {},
     "output_type": "execute_result"
    }
   ],
   "source": [
    "enrol = enrollees.drop(['Serial No.'], inplace = False, axis = 1)\n",
    "enrol.head(2)"
   ]
  },
  {
   "cell_type": "code",
   "execution_count": 10,
   "metadata": {},
   "outputs": [
    {
     "data": {
      "text/html": [
       "<div>\n",
       "<style scoped>\n",
       "    .dataframe tbody tr th:only-of-type {\n",
       "        vertical-align: middle;\n",
       "    }\n",
       "\n",
       "    .dataframe tbody tr th {\n",
       "        vertical-align: top;\n",
       "    }\n",
       "\n",
       "    .dataframe thead th {\n",
       "        text-align: right;\n",
       "    }\n",
       "</style>\n",
       "<table border=\"1\" class=\"dataframe\">\n",
       "  <thead>\n",
       "    <tr style=\"text-align: right;\">\n",
       "      <th></th>\n",
       "      <th>GRE Score</th>\n",
       "      <th>TOEFL Score</th>\n",
       "      <th>University Rating</th>\n",
       "      <th>SOP</th>\n",
       "      <th>LOR</th>\n",
       "      <th>CGPA</th>\n",
       "      <th>Research</th>\n",
       "      <th>Chance of Admit</th>\n",
       "    </tr>\n",
       "  </thead>\n",
       "  <tbody>\n",
       "    <tr>\n",
       "      <th>GRE Score</th>\n",
       "      <td>1.000000</td>\n",
       "      <td>0.824170</td>\n",
       "      <td>0.614739</td>\n",
       "      <td>0.613318</td>\n",
       "      <td>0.443374</td>\n",
       "      <td>0.806720</td>\n",
       "      <td>NaN</td>\n",
       "      <td>0.802439</td>\n",
       "    </tr>\n",
       "    <tr>\n",
       "      <th>TOEFL Score</th>\n",
       "      <td>0.824170</td>\n",
       "      <td>1.000000</td>\n",
       "      <td>0.602445</td>\n",
       "      <td>0.629436</td>\n",
       "      <td>0.436199</td>\n",
       "      <td>0.784173</td>\n",
       "      <td>NaN</td>\n",
       "      <td>0.787180</td>\n",
       "    </tr>\n",
       "    <tr>\n",
       "      <th>University Rating</th>\n",
       "      <td>0.614739</td>\n",
       "      <td>0.602445</td>\n",
       "      <td>1.000000</td>\n",
       "      <td>0.723126</td>\n",
       "      <td>0.573881</td>\n",
       "      <td>0.692237</td>\n",
       "      <td>NaN</td>\n",
       "      <td>0.713094</td>\n",
       "    </tr>\n",
       "    <tr>\n",
       "      <th>SOP</th>\n",
       "      <td>0.613318</td>\n",
       "      <td>0.629436</td>\n",
       "      <td>0.723126</td>\n",
       "      <td>1.000000</td>\n",
       "      <td>0.591858</td>\n",
       "      <td>0.717750</td>\n",
       "      <td>NaN</td>\n",
       "      <td>0.708238</td>\n",
       "    </tr>\n",
       "    <tr>\n",
       "      <th>LOR</th>\n",
       "      <td>0.443374</td>\n",
       "      <td>0.436199</td>\n",
       "      <td>0.573881</td>\n",
       "      <td>0.591858</td>\n",
       "      <td>1.000000</td>\n",
       "      <td>0.564794</td>\n",
       "      <td>NaN</td>\n",
       "      <td>0.588558</td>\n",
       "    </tr>\n",
       "    <tr>\n",
       "      <th>CGPA</th>\n",
       "      <td>0.806720</td>\n",
       "      <td>0.784173</td>\n",
       "      <td>0.692237</td>\n",
       "      <td>0.717750</td>\n",
       "      <td>0.564794</td>\n",
       "      <td>1.000000</td>\n",
       "      <td>NaN</td>\n",
       "      <td>0.892489</td>\n",
       "    </tr>\n",
       "    <tr>\n",
       "      <th>Research</th>\n",
       "      <td>NaN</td>\n",
       "      <td>NaN</td>\n",
       "      <td>NaN</td>\n",
       "      <td>NaN</td>\n",
       "      <td>NaN</td>\n",
       "      <td>NaN</td>\n",
       "      <td>NaN</td>\n",
       "      <td>NaN</td>\n",
       "    </tr>\n",
       "    <tr>\n",
       "      <th>Chance of Admit</th>\n",
       "      <td>0.802439</td>\n",
       "      <td>0.787180</td>\n",
       "      <td>0.713094</td>\n",
       "      <td>0.708238</td>\n",
       "      <td>0.588558</td>\n",
       "      <td>0.892489</td>\n",
       "      <td>NaN</td>\n",
       "      <td>1.000000</td>\n",
       "    </tr>\n",
       "  </tbody>\n",
       "</table>\n",
       "</div>"
      ],
      "text/plain": [
       "                   GRE Score  TOEFL Score  University Rating       SOP  \\\n",
       "GRE Score           1.000000     0.824170           0.614739  0.613318   \n",
       "TOEFL Score         0.824170     1.000000           0.602445  0.629436   \n",
       "University Rating   0.614739     0.602445           1.000000  0.723126   \n",
       "SOP                 0.613318     0.629436           0.723126  1.000000   \n",
       "LOR                 0.443374     0.436199           0.573881  0.591858   \n",
       "CGPA                0.806720     0.784173           0.692237  0.717750   \n",
       "Research                 NaN          NaN                NaN       NaN   \n",
       "Chance of Admit     0.802439     0.787180           0.713094  0.708238   \n",
       "\n",
       "                       LOR       CGPA  Research  Chance of Admit   \n",
       "GRE Score          0.443374  0.806720       NaN          0.802439  \n",
       "TOEFL Score        0.436199  0.784173       NaN          0.787180  \n",
       "University Rating  0.573881  0.692237       NaN          0.713094  \n",
       "SOP                0.591858  0.717750       NaN          0.708238  \n",
       "LOR                1.000000  0.564794       NaN          0.588558  \n",
       "CGPA               0.564794  1.000000       NaN          0.892489  \n",
       "Research                NaN       NaN       NaN               NaN  \n",
       "Chance of Admit    0.588558  0.892489       NaN          1.000000  "
      ]
     },
     "execution_count": 10,
     "metadata": {},
     "output_type": "execute_result"
    }
   ],
   "source": [
    "enrol_r = enrol[enrol.Research == 1]\n",
    "enrol_r.corr(method='pearson')"
   ]
  },
  {
   "cell_type": "code",
   "execution_count": 11,
   "metadata": {
    "scrolled": true
   },
   "outputs": [
    {
     "data": {
      "text/html": [
       "<div>\n",
       "<style scoped>\n",
       "    .dataframe tbody tr th:only-of-type {\n",
       "        vertical-align: middle;\n",
       "    }\n",
       "\n",
       "    .dataframe tbody tr th {\n",
       "        vertical-align: top;\n",
       "    }\n",
       "\n",
       "    .dataframe thead th {\n",
       "        text-align: right;\n",
       "    }\n",
       "</style>\n",
       "<table border=\"1\" class=\"dataframe\">\n",
       "  <thead>\n",
       "    <tr style=\"text-align: right;\">\n",
       "      <th></th>\n",
       "      <th>GRE Score</th>\n",
       "      <th>TOEFL Score</th>\n",
       "      <th>University Rating</th>\n",
       "      <th>SOP</th>\n",
       "      <th>LOR</th>\n",
       "      <th>CGPA</th>\n",
       "      <th>Research</th>\n",
       "      <th>Chance of Admit</th>\n",
       "    </tr>\n",
       "  </thead>\n",
       "  <tbody>\n",
       "    <tr>\n",
       "      <th>GRE Score</th>\n",
       "      <td>1.000000</td>\n",
       "      <td>0.680668</td>\n",
       "      <td>0.384715</td>\n",
       "      <td>0.371424</td>\n",
       "      <td>0.365864</td>\n",
       "      <td>0.678476</td>\n",
       "      <td>NaN</td>\n",
       "      <td>0.603827</td>\n",
       "    </tr>\n",
       "    <tr>\n",
       "      <th>TOEFL Score</th>\n",
       "      <td>0.680668</td>\n",
       "      <td>1.000000</td>\n",
       "      <td>0.495748</td>\n",
       "      <td>0.476563</td>\n",
       "      <td>0.470956</td>\n",
       "      <td>0.696774</td>\n",
       "      <td>NaN</td>\n",
       "      <td>0.622458</td>\n",
       "    </tr>\n",
       "    <tr>\n",
       "      <th>University Rating</th>\n",
       "      <td>0.384715</td>\n",
       "      <td>0.495748</td>\n",
       "      <td>1.000000</td>\n",
       "      <td>0.607496</td>\n",
       "      <td>0.484262</td>\n",
       "      <td>0.516427</td>\n",
       "      <td>NaN</td>\n",
       "      <td>0.428580</td>\n",
       "    </tr>\n",
       "    <tr>\n",
       "      <th>SOP</th>\n",
       "      <td>0.371424</td>\n",
       "      <td>0.476563</td>\n",
       "      <td>0.607496</td>\n",
       "      <td>1.000000</td>\n",
       "      <td>0.618680</td>\n",
       "      <td>0.547098</td>\n",
       "      <td>NaN</td>\n",
       "      <td>0.470188</td>\n",
       "    </tr>\n",
       "    <tr>\n",
       "      <th>LOR</th>\n",
       "      <td>0.365864</td>\n",
       "      <td>0.470956</td>\n",
       "      <td>0.484262</td>\n",
       "      <td>0.618680</td>\n",
       "      <td>1.000000</td>\n",
       "      <td>0.562517</td>\n",
       "      <td>NaN</td>\n",
       "      <td>0.542528</td>\n",
       "    </tr>\n",
       "    <tr>\n",
       "      <th>CGPA</th>\n",
       "      <td>0.678476</td>\n",
       "      <td>0.696774</td>\n",
       "      <td>0.516427</td>\n",
       "      <td>0.547098</td>\n",
       "      <td>0.562517</td>\n",
       "      <td>1.000000</td>\n",
       "      <td>NaN</td>\n",
       "      <td>0.752714</td>\n",
       "    </tr>\n",
       "    <tr>\n",
       "      <th>Research</th>\n",
       "      <td>NaN</td>\n",
       "      <td>NaN</td>\n",
       "      <td>NaN</td>\n",
       "      <td>NaN</td>\n",
       "      <td>NaN</td>\n",
       "      <td>NaN</td>\n",
       "      <td>NaN</td>\n",
       "      <td>NaN</td>\n",
       "    </tr>\n",
       "    <tr>\n",
       "      <th>Chance of Admit</th>\n",
       "      <td>0.603827</td>\n",
       "      <td>0.622458</td>\n",
       "      <td>0.428580</td>\n",
       "      <td>0.470188</td>\n",
       "      <td>0.542528</td>\n",
       "      <td>0.752714</td>\n",
       "      <td>NaN</td>\n",
       "      <td>1.000000</td>\n",
       "    </tr>\n",
       "  </tbody>\n",
       "</table>\n",
       "</div>"
      ],
      "text/plain": [
       "                   GRE Score  TOEFL Score  University Rating       SOP  \\\n",
       "GRE Score           1.000000     0.680668           0.384715  0.371424   \n",
       "TOEFL Score         0.680668     1.000000           0.495748  0.476563   \n",
       "University Rating   0.384715     0.495748           1.000000  0.607496   \n",
       "SOP                 0.371424     0.476563           0.607496  1.000000   \n",
       "LOR                 0.365864     0.470956           0.484262  0.618680   \n",
       "CGPA                0.678476     0.696774           0.516427  0.547098   \n",
       "Research                 NaN          NaN                NaN       NaN   \n",
       "Chance of Admit     0.603827     0.622458           0.428580  0.470188   \n",
       "\n",
       "                       LOR       CGPA  Research  Chance of Admit   \n",
       "GRE Score          0.365864  0.678476       NaN          0.603827  \n",
       "TOEFL Score        0.470956  0.696774       NaN          0.622458  \n",
       "University Rating  0.484262  0.516427       NaN          0.428580  \n",
       "SOP                0.618680  0.547098       NaN          0.470188  \n",
       "LOR                1.000000  0.562517       NaN          0.542528  \n",
       "CGPA               0.562517  1.000000       NaN          0.752714  \n",
       "Research                NaN       NaN       NaN               NaN  \n",
       "Chance of Admit    0.542528  0.752714       NaN          1.000000  "
      ]
     },
     "execution_count": 11,
     "metadata": {},
     "output_type": "execute_result"
    }
   ],
   "source": [
    "enrol_nr = enrol[enrol.Research == 0]\n",
    "enrol_nr.corr(method='pearson')"
   ]
  },
  {
   "cell_type": "markdown",
   "metadata": {},
   "source": [
    "### 1. Without standardization"
   ]
  },
  {
   "cell_type": "code",
   "execution_count": 23,
   "metadata": {},
   "outputs": [
    {
     "data": {
      "text/plain": [
       "(220, 3)"
      ]
     },
     "execution_count": 23,
     "metadata": {},
     "output_type": "execute_result"
    }
   ],
   "source": [
    "A = np.column_stack((np.ones(len(enrol_nr)), enrol_nr['TOEFL Score'], enrol_nr['CGPA']))\n",
    "A.shape"
   ]
  },
  {
   "cell_type": "code",
   "execution_count": 24,
   "metadata": {},
   "outputs": [
    {
     "data": {
      "text/plain": [
       "(220,)"
      ]
     },
     "execution_count": 24,
     "metadata": {},
     "output_type": "execute_result"
    }
   ],
   "source": [
    "y = enrol_nr['Chance of Admit '].values\n",
    "y.shape"
   ]
  },
  {
   "cell_type": "code",
   "execution_count": 30,
   "metadata": {},
   "outputs": [
    {
     "data": {
      "text/plain": [
       "array([-1.04486443,  0.00442727,  0.14807744])"
      ]
     },
     "execution_count": 30,
     "metadata": {},
     "output_type": "execute_result"
    }
   ],
   "source": [
    "w = np.linalg.inv(A.T@A)@A.T@y\n",
    "w"
   ]
  },
  {
   "cell_type": "code",
   "execution_count": 31,
   "metadata": {
    "scrolled": true
   },
   "outputs": [
    {
     "data": {
      "text/plain": [
       "(array([-1.04486443,  0.00442727,  0.14807744]),\n",
       " array([1.13772786]),\n",
       " 3,\n",
       " array([1.54898055e+03, 5.02503482e+00, 6.75329627e-01]))"
      ]
     },
     "execution_count": 31,
     "metadata": {},
     "output_type": "execute_result"
    }
   ],
   "source": [
    "np.linalg.lstsq(A,y,rcond=None)"
   ]
  },
  {
   "cell_type": "code",
   "execution_count": 32,
   "metadata": {},
   "outputs": [
    {
     "data": {
      "text/plain": [
       "array([  1. , 107. ,   9.1])"
      ]
     },
     "execution_count": 32,
     "metadata": {},
     "output_type": "execute_result"
    }
   ],
   "source": [
    "new = np.array([1, 107, 9.1])\n",
    "new"
   ]
  },
  {
   "cell_type": "code",
   "execution_count": 37,
   "metadata": {},
   "outputs": [
    {
     "data": {
      "text/plain": [
       "0.73"
      ]
     },
     "execution_count": 37,
     "metadata": {},
     "output_type": "execute_result"
    }
   ],
   "source": [
    "round(new@w.round(3), 2)"
   ]
  },
  {
   "cell_type": "code",
   "execution_count": 70,
   "metadata": {},
   "outputs": [
    {
     "data": {
      "text/plain": [
       "0.776358530180697"
      ]
     },
     "execution_count": 70,
     "metadata": {},
     "output_type": "execute_result"
    }
   ],
   "source": [
    "new@w"
   ]
  },
  {
   "cell_type": "markdown",
   "metadata": {},
   "source": [
    "### 2. Using standardization"
   ]
  },
  {
   "cell_type": "code",
   "execution_count": 39,
   "metadata": {},
   "outputs": [
    {
     "name": "stdout",
     "output_type": "stream",
     "text": [
      "103.99090909090908 8.234727272727275 0.6349090909090905\n"
     ]
    }
   ],
   "source": [
    "toefl_mean = enrol_nr['TOEFL Score'].mean()\n",
    "cgpa_mean = enrol_nr['CGPA'].mean()\n",
    "y_mean = enrol_nr['Chance of Admit '].mean()\n",
    "print(toefl_mean, cgpa_mean, y_mean)"
   ]
  },
  {
   "cell_type": "code",
   "execution_count": 48,
   "metadata": {},
   "outputs": [],
   "source": [
    "toefl_с = enrol_nr['TOEFL Score'] - toefl_mean\n",
    "cgpa_c = enrol_nr['CGPA'] - cgpa_mean\n",
    "y_с = enrol_nr['Chance of Admit '] - y_mean"
   ]
  },
  {
   "cell_type": "code",
   "execution_count": 49,
   "metadata": {
    "scrolled": true
   },
   "outputs": [
    {
     "name": "stdout",
     "output_type": "stream",
     "text": [
      "среднее арифметическое вектора после центрирования: 5.2321783269607375e-15 -2.220446049250313e-15 3.7898976886067843e-16\n"
     ]
    }
   ],
   "source": [
    "print('среднее арифметическое вектора после центрирования:', toefl_с.mean(), cgpa_c.mean(), y_с.mean())"
   ]
  },
  {
   "cell_type": "code",
   "execution_count": 58,
   "metadata": {},
   "outputs": [],
   "source": [
    "toefl_norm = np.linalg.norm(toefl_с)\n",
    "cgpa_norm = np.linalg.norm(cgpa_c)\n",
    "y_norm = np.linalg.norm(y_с)"
   ]
  },
  {
   "cell_type": "code",
   "execution_count": 59,
   "metadata": {},
   "outputs": [],
   "source": [
    "toefl_st = toefl_с/toefl_norm\n",
    "cgpa_st = cgpa_c/cgpa_norm\n",
    "y_st = y_с/y_norm"
   ]
  },
  {
   "cell_type": "code",
   "execution_count": 60,
   "metadata": {
    "collapsed": true
   },
   "outputs": [
    {
     "data": {
      "text/plain": [
       "array([[-1.39082915e-02, -3.56567808e-03],\n",
       "       [-4.19800725e-02, -4.82677452e-02],\n",
       "       [-2.79441820e-02, -3.38477235e-02],\n",
       "       [ 5.62711610e-02,  5.26724063e-02],\n",
       "       [ 1.41634895e-02,  9.41234140e-03],\n",
       "       [ 4.22352705e-02,  6.70924280e-02],\n",
       "       [ 8.43429419e-02,  8.15124496e-02],\n",
       "       [-2.79441820e-02,  3.82523847e-02],\n",
       "       [ 1.40486504e-01,  2.38323630e-02],\n",
       "       [ 7.03070514e-02,  8.15124496e-02],\n",
       "       [-1.54267196e-01, -1.49207897e-01],\n",
       "       [-7.00518534e-02, -1.34787875e-01],\n",
       "       [ 2.81993800e-02,  2.38323630e-02],\n",
       "       [ 1.41634895e-02, -6.26877668e-02],\n",
       "       [ 1.41634895e-02, -1.05947832e-01],\n",
       "       [ 5.62711610e-02, -7.71077885e-02],\n",
       "       [ 1.82594175e-01,  1.24772515e-01],\n",
       "       [ 2.10665956e-01,  2.11292644e-01],\n",
       "       [ 8.43429419e-02, -3.38477235e-02],\n",
       "       [-1.39082915e-02, -7.71077885e-02],\n",
       "       [-2.79441820e-02, -1.20367853e-01],\n",
       "       [-7.00518534e-02, -9.15278101e-02],\n",
       "       [ 1.27599004e-04,  9.41234140e-03],\n",
       "       [-5.60159630e-02, -1.94277019e-02],\n",
       "       [-4.19800725e-02, -5.00768024e-03],\n",
       "       [ 9.83788324e-02,  6.70924280e-02],\n",
       "       [ 1.12414723e-01,  9.88164756e-02],\n",
       "       [ 1.40486504e-01,  1.13236497e-01],\n",
       "       [ 2.81993800e-02,  9.59324713e-02],\n",
       "       [-7.00518534e-02, -2.12367592e-03],\n",
       "       [-1.54267196e-01, -1.26135862e-01],\n",
       "       [-1.39082915e-02,  6.13244193e-02],\n",
       "       [ 2.81993800e-02,  2.67163674e-02],\n",
       "       [ 4.22352705e-02,  6.52833707e-03],\n",
       "       [ 5.62711610e-02, -1.36596932e-02],\n",
       "       [-9.81236344e-02, -8.28757971e-02],\n",
       "       [-8.40877439e-02, -2.95217170e-02],\n",
       "       [-7.00518534e-02, -8.28757971e-02],\n",
       "       [-5.60159630e-02, -5.69197582e-02],\n",
       "       [-5.60159630e-02, -3.38477235e-02],\n",
       "       [ 1.41634895e-02, -1.65436976e-02],\n",
       "       [ 2.81993800e-02,  2.20233058e-03],\n",
       "       [ 1.27599004e-04,  3.39263782e-02],\n",
       "       [-1.39082915e-02,  5.84404150e-02],\n",
       "       [ 5.62711610e-02,  3.53683804e-02],\n",
       "       [ 8.43429419e-02,  4.69043977e-02],\n",
       "       [-2.79441820e-02,  5.55564107e-02],\n",
       "       [ 1.27599004e-04, -1.11715840e-01],\n",
       "       [-7.00518534e-02, -1.37671879e-01],\n",
       "       [ 2.81993800e-02,  1.80643544e-02],\n",
       "       [ 5.62711610e-02, -2.12367592e-03],\n",
       "       [ 2.81993800e-02,  3.39263782e-02],\n",
       "       [ 1.41634895e-02,  5.98824172e-02],\n",
       "       [ 1.41634895e-02,  4.69043977e-02],\n",
       "       [ 1.12414723e-01,  7.86284453e-02],\n",
       "       [-1.39082915e-02,  3.10423739e-02],\n",
       "       [ 7.03070514e-02,  1.27656519e-01],\n",
       "       [ 1.41634895e-02,  3.53683804e-02],\n",
       "       [ 1.41634895e-02,  7.43024388e-02],\n",
       "       [ 5.62711610e-02,  9.44904691e-02],\n",
       "       [ 7.03070514e-02,  6.56504258e-02],\n",
       "       [ 1.41634895e-02,  1.51803501e-02],\n",
       "       [ 1.27599004e-04,  3.64433274e-03],\n",
       "       [ 2.81993800e-02, -1.36596932e-02],\n",
       "       [-5.60159630e-02, -4.82677452e-02],\n",
       "       [-1.39082915e-02, -5.40357538e-02],\n",
       "       [-7.00518534e-02, -1.11715840e-01],\n",
       "       [ 7.03070514e-02,  3.82523847e-02],\n",
       "       [ 1.41634895e-02,  4.69043977e-02],\n",
       "       [ 8.43429419e-02,  1.06026486e-01],\n",
       "       [-2.79441820e-02,  1.37383479e-02],\n",
       "       [-2.79441820e-02,  5.08633491e-03],\n",
       "       [-7.00518534e-02, -3.67317279e-02],\n",
       "       [ 8.43429419e-02,  1.16120502e-01],\n",
       "       [ 5.62711610e-02, -1.65436976e-02],\n",
       "       [-2.79441820e-02,  5.08633491e-03],\n",
       "       [ 1.27599004e-04, -1.07756889e-02],\n",
       "       [ 4.22352705e-02,  2.67163674e-02],\n",
       "       [-5.60159630e-02, -5.11517495e-02],\n",
       "       [ 8.43429419e-02,  8.15124496e-02],\n",
       "       [ 2.81993800e-02,  1.22963457e-02],\n",
       "       [ 7.03070514e-02,  7.57444410e-02],\n",
       "       [ 1.41634895e-02,  3.64433274e-03],\n",
       "       [ 2.81993800e-02,  1.37383479e-02],\n",
       "       [ 1.27599004e-04,  2.81583695e-02],\n",
       "       [ 4.22352705e-02,  6.56504258e-02],\n",
       "       [ 1.41634895e-02,  4.40203934e-02],\n",
       "       [-7.00518534e-02, -8.43177993e-02],\n",
       "       [-7.00518534e-02, -4.97097473e-02],\n",
       "       [ 2.81993800e-02, -1.07756889e-02],\n",
       "       [ 1.27599004e-04,  2.67163674e-02],\n",
       "       [-1.39082915e-02,  7.43024388e-02],\n",
       "       [ 8.43429419e-02,  4.69043977e-02],\n",
       "       [ 1.26450613e-01,  8.00704475e-02],\n",
       "       [ 7.03070514e-02,  3.10423739e-02],\n",
       "       [ 1.41634895e-02, -6.81673751e-04],\n",
       "       [-7.00518534e-02, -2.95217170e-02],\n",
       "       [ 8.43429419e-02,  3.10423739e-02],\n",
       "       [ 8.43429419e-02,  4.25783912e-02],\n",
       "       [ 1.12414723e-01,  6.27664215e-02],\n",
       "       [ 1.27599004e-04,  5.98824172e-02],\n",
       "       [ 4.22352705e-02,  5.08633491e-03],\n",
       "       [-5.60159630e-02, -2.37537084e-02],\n",
       "       [ 1.27599004e-04,  1.95063566e-02],\n",
       "       [-5.60159630e-02, -4.97097473e-02],\n",
       "       [-4.19800725e-02, -7.99917928e-02],\n",
       "       [-1.39082915e-02, -1.22176911e-02],\n",
       "       [ 4.22352705e-02,  4.69043977e-02],\n",
       "       [ 1.41634895e-02,  7.14184345e-02],\n",
       "       [ 1.27599004e-04,  3.53683804e-02],\n",
       "       [-7.00518534e-02,  1.10352493e-01],\n",
       "       [ 1.40486504e-01,  1.27656519e-01],\n",
       "       [ 8.43429419e-02,  1.95063566e-02],\n",
       "       [-7.00518534e-02,  4.69043977e-02],\n",
       "       [ 1.27599004e-04, -2.08697041e-02],\n",
       "       [-2.79441820e-02,  6.42084237e-02],\n",
       "       [ 1.41634895e-02,  3.10423739e-02],\n",
       "       [ 1.26450613e-01,  1.30540523e-01],\n",
       "       [ 5.62711610e-02,  1.51803501e-02],\n",
       "       [-1.12159525e-01, -5.40357538e-02],\n",
       "       [-1.26195415e-01, -8.57598015e-02],\n",
       "       [-5.60159630e-02, -4.10577344e-02],\n",
       "       [-4.19800725e-02,  5.55564107e-02],\n",
       "       [-1.39082915e-02,  3.68103825e-02],\n",
       "       [-2.79441820e-02,  7.14184345e-02],\n",
       "       [ 1.27599004e-04,  1.13236497e-01],\n",
       "       [ 7.03070514e-02,  1.10352493e-01],\n",
       "       [ 1.41634895e-02, -8.43177993e-02],\n",
       "       [-2.79441820e-02, -5.25937517e-02],\n",
       "       [-7.00518534e-02, -3.81737300e-02],\n",
       "       [-5.60159630e-02,  4.83463998e-02],\n",
       "       [ 4.22352705e-02,  6.27664215e-02],\n",
       "       [ 2.24701847e-01,  1.26214517e-01],\n",
       "       [ 1.12414723e-01,  5.98824172e-02],\n",
       "       [ 2.81993800e-02, -3.38477235e-02],\n",
       "       [ 5.62711610e-02,  7.57444410e-02],\n",
       "       [ 2.81993800e-02,  2.81583695e-02],\n",
       "       [ 5.62711610e-02,  4.25783912e-02],\n",
       "       [ 8.43429419e-02,  5.26724063e-02],\n",
       "       [-5.60159630e-02, -2.80797149e-02],\n",
       "       [ 1.41634895e-02, -1.51016954e-02],\n",
       "       [ 1.27599004e-04, -2.37537084e-02],\n",
       "       [-4.19800725e-02, -5.40357538e-02],\n",
       "       [-7.00518534e-02, -3.24057214e-02],\n",
       "       [ 4.22352705e-02,  5.08633491e-03],\n",
       "       [-2.79441820e-02, -7.89168457e-03],\n",
       "       [ 1.27599004e-04,  1.37383479e-02],\n",
       "       [-5.60159630e-02, -3.09637192e-02],\n",
       "       [-4.19800725e-02, -5.40357538e-02],\n",
       "       [-1.12159525e-01, -4.97097473e-02],\n",
       "       [ 8.43429419e-02,  8.00704475e-02],\n",
       "       [ 2.81993800e-02,  7.60328414e-04],\n",
       "       [-1.39082915e-02, -1.51016954e-02],\n",
       "       [-1.12159525e-01, -1.29019866e-01],\n",
       "       [-8.40877439e-02, -1.16041847e-01],\n",
       "       [-9.81236344e-02, -8.57598015e-02],\n",
       "       [-1.40231306e-01, -1.29019866e-01],\n",
       "       [-7.00518534e-02, -1.41997886e-01],\n",
       "       [-4.19800725e-02, -2.80797149e-02],\n",
       "       [-2.79441820e-02, -9.33368674e-03],\n",
       "       [-8.40877439e-02, -8.14337950e-02],\n",
       "       [ 2.81993800e-02, -1.65436976e-02],\n",
       "       [ 1.41634895e-02, -8.57598015e-02],\n",
       "       [ 4.22352705e-02,  2.96003717e-02],\n",
       "       [-1.39082915e-02,  1.80643544e-02],\n",
       "       [-8.40877439e-02, -1.11715840e-01],\n",
       "       [-1.68303087e-01, -5.11517495e-02],\n",
       "       [-1.39082915e-02,  7.60328414e-04],\n",
       "       [ 1.41634895e-02, -8.43177993e-02],\n",
       "       [-4.19800725e-02, -8.28757971e-02],\n",
       "       [-1.12159525e-01, -1.16041847e-01],\n",
       "       [-5.60159630e-02, -9.72958188e-02],\n",
       "       [-8.40877439e-02, -8.43177993e-02],\n",
       "       [-5.60159630e-02,  3.64433274e-03],\n",
       "       [-4.19800725e-02, -3.96157322e-02],\n",
       "       [ 1.41634895e-02, -1.94277019e-02],\n",
       "       [-9.81236344e-02, -6.26877668e-02],\n",
       "       [-2.79441820e-02,  7.60328414e-04],\n",
       "       [ 2.81993800e-02,  5.98824172e-02],\n",
       "       [ 1.27599004e-04,  7.57444410e-02],\n",
       "       [-1.39082915e-02,  7.86284453e-02],\n",
       "       [-5.60159630e-02, -2.12367592e-03],\n",
       "       [ 1.41634895e-02,  1.51803501e-02],\n",
       "       [-7.00518534e-02, -1.13157843e-01],\n",
       "       [-8.40877439e-02, -3.09637192e-02],\n",
       "       [-1.12159525e-01, -9.72958188e-02],\n",
       "       [-1.40231306e-01, -1.51016954e-02],\n",
       "       [ 1.27599004e-04, -1.94277019e-02],\n",
       "       [-1.39082915e-02, -7.99917928e-02],\n",
       "       [ 9.83788324e-02, -2.95217170e-02],\n",
       "       [-5.60159630e-02, -1.17483849e-01],\n",
       "       [ 2.81993800e-02,  4.83463998e-02],\n",
       "       [-1.39082915e-02,  7.28604366e-02],\n",
       "       [ 9.83788324e-02,  4.40203934e-02],\n",
       "       [-1.39082915e-02, -3.56567808e-03],\n",
       "       [ 1.41634895e-02, -7.99917928e-02],\n",
       "       [ 1.41634895e-02,  3.24843760e-02],\n",
       "       [ 1.27599004e-04, -6.41297690e-02],\n",
       "       [ 7.03070514e-02,  1.13236497e-01],\n",
       "       [-4.19800725e-02,  1.29098521e-01],\n",
       "       [ 1.41634895e-02, -3.24057214e-02],\n",
       "       [-2.79441820e-02, -8.57598015e-02],\n",
       "       [-5.60159630e-02, -5.11517495e-02],\n",
       "       [-7.00518534e-02, -9.58538166e-02],\n",
       "       [ 1.41634895e-02, -4.24997365e-02],\n",
       "       [ 4.22352705e-02, -5.40357538e-02],\n",
       "       [-9.81236344e-02, -1.47765895e-01],\n",
       "       [-1.12159525e-01,  3.64433274e-03],\n",
       "       [-1.39082915e-02, -2.08697041e-02],\n",
       "       [-2.79441820e-02, -1.22176911e-02],\n",
       "       [-4.19800725e-02, -5.11517495e-02],\n",
       "       [ 1.27599004e-04, -1.65436976e-02],\n",
       "       [ 1.41634895e-02, -7.89168457e-03],\n",
       "       [-1.39082915e-02, -4.53837409e-02],\n",
       "       [-2.79441820e-02,  1.95063566e-02],\n",
       "       [ 1.54522394e-01,  1.30540523e-01],\n",
       "       [ 8.43429419e-02,  3.82523847e-02],\n",
       "       [-7.00518534e-02, -6.12457647e-02],\n",
       "       [-1.39082915e-02,  2.81583695e-02],\n",
       "       [ 1.26450613e-01,  1.16120502e-01]])"
      ]
     },
     "execution_count": 60,
     "metadata": {},
     "output_type": "execute_result"
    }
   ],
   "source": [
    "A_st=np.column_stack((toefl_st, cgpa_st,))\n",
    "A_st"
   ]
  },
  {
   "cell_type": "code",
   "execution_count": 61,
   "metadata": {},
   "outputs": [
    {
     "data": {
      "text/plain": [
       "array([0.19044768, 0.62001517])"
      ]
     },
     "execution_count": 61,
     "metadata": {},
     "output_type": "execute_result"
    }
   ],
   "source": [
    "w_st = np.linalg.inv(A_st.T@A_st)@A_st.T@y_st\n",
    "w_st"
   ]
  },
  {
   "cell_type": "code",
   "execution_count": 62,
   "metadata": {},
   "outputs": [],
   "source": [
    "new_toefl = (107 - toefl_mean)/toefl_norm\n",
    "new_cgpa = (9.1 - cgpa_mean) /cgpa_norm"
   ]
  },
  {
   "cell_type": "code",
   "execution_count": 63,
   "metadata": {},
   "outputs": [
    {
     "data": {
      "text/plain": [
       "array([0.04223527, 0.12477251])"
      ]
     },
     "execution_count": 63,
     "metadata": {},
     "output_type": "execute_result"
    }
   ],
   "source": [
    "new_st = np.array([new_toefl, new_cgpa])\n",
    "new_st"
   ]
  },
  {
   "cell_type": "code",
   "execution_count": 68,
   "metadata": {},
   "outputs": [
    {
     "data": {
      "text/plain": [
       "0.08540446058814428"
      ]
     },
     "execution_count": 68,
     "metadata": {},
     "output_type": "execute_result"
    }
   ],
   "source": [
    "y_new_st = new_st@w_st\n",
    "y_new_st"
   ]
  },
  {
   "cell_type": "code",
   "execution_count": 69,
   "metadata": {},
   "outputs": [
    {
     "data": {
      "text/plain": [
       "0.7763585301807324"
      ]
     },
     "execution_count": 69,
     "metadata": {},
     "output_type": "execute_result"
    }
   ],
   "source": [
    "y_new = y_new_st*y_norm + y_mean\n",
    "y_new"
   ]
  }
 ],
 "metadata": {
  "kernelspec": {
   "display_name": "Python 3",
   "language": "python",
   "name": "python3"
  },
  "language_info": {
   "codemirror_mode": {
    "name": "ipython",
    "version": 3
   },
   "file_extension": ".py",
   "mimetype": "text/x-python",
   "name": "python",
   "nbconvert_exporter": "python",
   "pygments_lexer": "ipython3",
   "version": "3.7.3"
  }
 },
 "nbformat": 4,
 "nbformat_minor": 4
}
