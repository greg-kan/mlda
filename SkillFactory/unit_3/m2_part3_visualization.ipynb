{
 "cells": [
  {
   "cell_type": "markdown",
   "metadata": {},
   "source": [
    "# Визуализация для предобработки"
   ]
  },
  {
   "cell_type": "markdown",
   "metadata": {},
   "source": [
    "## Гистограмма"
   ]
  },
  {
   "cell_type": "markdown",
   "metadata": {},
   "source": [
    "Гистограмма показывает распределение данных. С помощью нее можно увидеть, как распределены данные, есть ли выбросы.  \n",
    "Загрузим данные:"
   ]
  },
  {
   "cell_type": "code",
   "execution_count": 1,
   "metadata": {},
   "outputs": [
    {
     "data": {
      "text/html": [
       "<div>\n",
       "<style scoped>\n",
       "    .dataframe tbody tr th:only-of-type {\n",
       "        vertical-align: middle;\n",
       "    }\n",
       "\n",
       "    .dataframe tbody tr th {\n",
       "        vertical-align: top;\n",
       "    }\n",
       "\n",
       "    .dataframe thead th {\n",
       "        text-align: right;\n",
       "    }\n",
       "</style>\n",
       "<table border=\"1\" class=\"dataframe\">\n",
       "  <thead>\n",
       "    <tr style=\"text-align: right;\">\n",
       "      <th></th>\n",
       "      <th>ticket_id</th>\n",
       "      <th>agency_name</th>\n",
       "      <th>inspector_name</th>\n",
       "      <th>violator_name</th>\n",
       "      <th>violation_street_number</th>\n",
       "      <th>violation_street_name</th>\n",
       "      <th>violation_zip_code</th>\n",
       "      <th>mailing_address_str_number</th>\n",
       "      <th>mailing_address_str_name</th>\n",
       "      <th>city</th>\n",
       "      <th>...</th>\n",
       "      <th>clean_up_cost</th>\n",
       "      <th>judgment_amount</th>\n",
       "      <th>payment_amount</th>\n",
       "      <th>balance_due</th>\n",
       "      <th>payment_date</th>\n",
       "      <th>payment_status</th>\n",
       "      <th>collection_status</th>\n",
       "      <th>grafitti_status</th>\n",
       "      <th>compliance_detail</th>\n",
       "      <th>compliance</th>\n",
       "    </tr>\n",
       "  </thead>\n",
       "  <tbody>\n",
       "    <tr>\n",
       "      <th>0</th>\n",
       "      <td>22056</td>\n",
       "      <td>Buildings, Safety Engineering &amp; Env Department</td>\n",
       "      <td>Sims, Martinzie</td>\n",
       "      <td>INVESTMENT INC., MIDWEST MORTGAGE</td>\n",
       "      <td>2900.0</td>\n",
       "      <td>TYLER</td>\n",
       "      <td>NaN</td>\n",
       "      <td>3.0</td>\n",
       "      <td>S. WICKER</td>\n",
       "      <td>CHICAGO</td>\n",
       "      <td>...</td>\n",
       "      <td>0.0</td>\n",
       "      <td>305.0</td>\n",
       "      <td>0.0</td>\n",
       "      <td>305.0</td>\n",
       "      <td>NaN</td>\n",
       "      <td>NO PAYMENT APPLIED</td>\n",
       "      <td>NaN</td>\n",
       "      <td>NaN</td>\n",
       "      <td>non-compliant by no payment</td>\n",
       "      <td>0.0</td>\n",
       "    </tr>\n",
       "    <tr>\n",
       "      <th>1</th>\n",
       "      <td>27586</td>\n",
       "      <td>Buildings, Safety Engineering &amp; Env Department</td>\n",
       "      <td>Williams, Darrin</td>\n",
       "      <td>Michigan, Covenant House</td>\n",
       "      <td>4311.0</td>\n",
       "      <td>CENTRAL</td>\n",
       "      <td>NaN</td>\n",
       "      <td>2959.0</td>\n",
       "      <td>Martin Luther King</td>\n",
       "      <td>Detroit</td>\n",
       "      <td>...</td>\n",
       "      <td>0.0</td>\n",
       "      <td>855.0</td>\n",
       "      <td>780.0</td>\n",
       "      <td>75.0</td>\n",
       "      <td>2005-06-02 00:00:00</td>\n",
       "      <td>PAID IN FULL</td>\n",
       "      <td>NaN</td>\n",
       "      <td>NaN</td>\n",
       "      <td>compliant by late payment within 1 month</td>\n",
       "      <td>1.0</td>\n",
       "    </tr>\n",
       "  </tbody>\n",
       "</table>\n",
       "<p>2 rows × 34 columns</p>\n",
       "</div>"
      ],
      "text/plain": [
       "   ticket_id                                     agency_name  \\\n",
       "0      22056  Buildings, Safety Engineering & Env Department   \n",
       "1      27586  Buildings, Safety Engineering & Env Department   \n",
       "\n",
       "     inspector_name                      violator_name  \\\n",
       "0   Sims, Martinzie  INVESTMENT INC., MIDWEST MORTGAGE   \n",
       "1  Williams, Darrin           Michigan, Covenant House   \n",
       "\n",
       "   violation_street_number violation_street_name  violation_zip_code  \\\n",
       "0                   2900.0                 TYLER                 NaN   \n",
       "1                   4311.0               CENTRAL                 NaN   \n",
       "\n",
       "   mailing_address_str_number mailing_address_str_name     city     ...      \\\n",
       "0                         3.0                S. WICKER  CHICAGO     ...       \n",
       "1                      2959.0       Martin Luther King  Detroit     ...       \n",
       "\n",
       "  clean_up_cost judgment_amount payment_amount balance_due  \\\n",
       "0           0.0           305.0            0.0       305.0   \n",
       "1           0.0           855.0          780.0        75.0   \n",
       "\n",
       "          payment_date      payment_status collection_status grafitti_status  \\\n",
       "0                  NaN  NO PAYMENT APPLIED               NaN             NaN   \n",
       "1  2005-06-02 00:00:00        PAID IN FULL               NaN             NaN   \n",
       "\n",
       "                          compliance_detail  compliance  \n",
       "0               non-compliant by no payment         0.0  \n",
       "1  compliant by late payment within 1 month         1.0  \n",
       "\n",
       "[2 rows x 34 columns]"
      ]
     },
     "execution_count": 1,
     "metadata": {},
     "output_type": "execute_result"
    }
   ],
   "source": [
    "import numpy as np\n",
    "import pandas as pd\n",
    "%matplotlib inline\n",
    "vis_data = pd.read_csv(\"./data/train.csv\", \n",
    "                       encoding = 'ISO-8859-1', \n",
    "                       low_memory = False)\n",
    "vis_data.head(2)"
   ]
  },
  {
   "cell_type": "markdown",
   "metadata": {},
   "source": [
    "Один из начальных этапов работы с данных - визуализация и поиск проблем, которые можно решить. О визуализации в целом мы поговорим позже, здесь мы обсудим применение в контексте предобработки.  \n",
    "Многие алгоритмы работают лучше, когда на вход принимают данные, распределенные нормально.  \n",
    "Посмотрим на гистограмму какого-нибудь из признаков. Для удобства оставим только значения больше 0.  \n",
    "**Совет** - на деле удаление из рассмотрения значений меньше 0 является не удобством, а необходимостью. Например, если признак обозначает выплату зарплаты, он не может быть меньше 0; тогда любые значения меньше 0 являются выбросами, мы поговорим о них чуть позже. "
   ]
  },
  {
   "cell_type": "code",
   "execution_count": 4,
   "metadata": {},
   "outputs": [
    {
     "data": {
      "image/png": "[encoded data removed]",
      "text/plain": [
       "<matplotlib.figure.Figure at 0x116896198>"
      ]
     },
     "metadata": {},
     "output_type": "display_data"
    }
   ],
   "source": [
    "vis_data.balance_due[vis_data.balance_due > 0].hist(bins=100);"
   ]
  },
  {
   "cell_type": "markdown",
   "metadata": {},
   "source": [
    "Одним из способов сделать данные более \"нормальными\" является взятие логарифма.  \n",
    "При этом, не должно быть значений, равных 0, иначе метод `np.log` выдаст $-\\infty$."
   ]
  },
  {
   "cell_type": "code",
   "execution_count": 6,
   "metadata": {
    "scrolled": false
   },
   "outputs": [
    {
     "data": {
      "image/png": "[encoded data removed]",
      "text/plain": [
       "<matplotlib.figure.Figure at 0x117b35d30>"
      ]
     },
     "metadata": {},
     "output_type": "display_data"
    }
   ],
   "source": [
    "np.log(vis_data.balance_due[vis_data.balance_due > 0]).hist();"
   ]
  },
  {
   "cell_type": "markdown",
   "metadata": {},
   "source": [
    "Другим способом является взятие квадратного корня от данных:"
   ]
  },
  {
   "cell_type": "code",
   "execution_count": 7,
   "metadata": {},
   "outputs": [
    {
     "data": {
      "image/png": "[encoded data removed]",
      "text/plain": [
       "<matplotlib.figure.Figure at 0x117c7d518>"
      ]
     },
     "metadata": {},
     "output_type": "display_data"
    }
   ],
   "source": [
    "np.sqrt(vis_data.balance_due[vis_data.balance_due > 0]).hist();"
   ]
  },
  {
   "cell_type": "markdown",
   "metadata": {},
   "source": [
    "Выше мы явно отсекли значения в данных, равные `0`. Если значения все-таки начинаются с `0`, перед взятием логарифма можно прибавить `1` к данным. Логарифм от `1` превратится в `0`."
   ]
  },
  {
   "cell_type": "code",
   "execution_count": 8,
   "metadata": {},
   "outputs": [
    {
     "data": {
      "image/png": "[encoded data removed]",
      "text/plain": [
       "<matplotlib.figure.Figure at 0x11711bdd8>"
      ]
     },
     "metadata": {},
     "output_type": "display_data"
    }
   ],
   "source": [
    "np.log(vis_data.balance_due[vis_data.balance_due >= 0] + 1).hist();"
   ]
  },
  {
   "cell_type": "markdown",
   "metadata": {},
   "source": [
    "## Correlation plot"
   ]
  },
  {
   "cell_type": "markdown",
   "metadata": {},
   "source": [
    "Некоторые признаки сильно скоррелированы друг с другом. Это значит, между этими признаками есть некоторая линейная зависимость. Если зависимость большая - часть скоррелированных признаков (не все) следует убрать из выборки, так как они несут избыточную информацию.  \n",
    "При этом, отсутствие корреляции не означает отсутствие зависимости - между признаками в таком случае может быть сложная нелинейная зависимость.  \n",
    "Для определения такой зависимости, можно посчитать матрицу корреляции для признаков и построить, например, heatmap, чтобы проще было увидеть зависимость.  \n",
    "На главной диагонали этой матрицы будут стоять единицы, потому что для признака считается корреляция с самим собой."
   ]
  },
  {
   "cell_type": "code",
   "execution_count": 10,
   "metadata": {},
   "outputs": [],
   "source": [
    "import seaborn as sns"
   ]
  },
  {
   "cell_type": "code",
   "execution_count": 11,
   "metadata": {
    "scrolled": false
   },
   "outputs": [
    {
     "data": {
      "text/html": [
       "<style  type=\"text/css\" >\n",
       "    #T_acbad386_9e39_11e9_b476_9801a7901309 th {\n",
       "          font-size: 7pt;\n",
       "    }    #T_acbad386_9e39_11e9_b476_9801a7901309 td {\n",
       "          padding: 0em 0em;\n",
       "    }    #T_acbad386_9e39_11e9_b476_9801a7901309 th:hover {\n",
       "          font-size: 12pt;\n",
       "    }    #T_acbad386_9e39_11e9_b476_9801a7901309 tr:hover td:hover {\n",
       "          max-width: 200px;\n",
       "          font-size: 12pt;\n",
       "    }    #T_acbad386_9e39_11e9_b476_9801a7901309row0_col0 {\n",
       "            background-color:  #4479bb;\n",
       "            max-width:  80px;\n",
       "            font-size:  10pt;\n",
       "        }    #T_acbad386_9e39_11e9_b476_9801a7901309row0_col1 {\n",
       "            background-color:  #d73c5b;\n",
       "            max-width:  80px;\n",
       "            font-size:  10pt;\n",
       "        }    #T_acbad386_9e39_11e9_b476_9801a7901309row0_col2 {\n",
       "            background-color:  #d73c5b;\n",
       "            max-width:  80px;\n",
       "            font-size:  10pt;\n",
       "        }    #T_acbad386_9e39_11e9_b476_9801a7901309row0_col3 {\n",
       "            background-color:  #d94563;\n",
       "            max-width:  80px;\n",
       "            font-size:  10pt;\n",
       "        }    #T_acbad386_9e39_11e9_b476_9801a7901309row0_col4 {\n",
       "            background-color:  #d8415f;\n",
       "            max-width:  80px;\n",
       "            font-size:  10pt;\n",
       "        }    #T_acbad386_9e39_11e9_b476_9801a7901309row0_col5 {\n",
       "            background-color:  #d94462;\n",
       "            max-width:  80px;\n",
       "            font-size:  10pt;\n",
       "        }    #T_acbad386_9e39_11e9_b476_9801a7901309row0_col6 {\n",
       "            background-color:  #da4966;\n",
       "            max-width:  80px;\n",
       "            font-size:  10pt;\n",
       "        }    #T_acbad386_9e39_11e9_b476_9801a7901309row1_col0 {\n",
       "            background-color:  #d73c5b;\n",
       "            max-width:  80px;\n",
       "            font-size:  10pt;\n",
       "        }    #T_acbad386_9e39_11e9_b476_9801a7901309row1_col1 {\n",
       "            background-color:  #4479bb;\n",
       "            max-width:  80px;\n",
       "            font-size:  10pt;\n",
       "        }    #T_acbad386_9e39_11e9_b476_9801a7901309row1_col2 {\n",
       "            background-color:  #4479bb;\n",
       "            max-width:  80px;\n",
       "            font-size:  10pt;\n",
       "        }    #T_acbad386_9e39_11e9_b476_9801a7901309row1_col3 {\n",
       "            background-color:  #eeacba;\n",
       "            max-width:  80px;\n",
       "            font-size:  10pt;\n",
       "        }    #T_acbad386_9e39_11e9_b476_9801a7901309row1_col4 {\n",
       "            background-color:  #dc526e;\n",
       "            max-width:  80px;\n",
       "            font-size:  10pt;\n",
       "        }    #T_acbad386_9e39_11e9_b476_9801a7901309row1_col5 {\n",
       "            background-color:  #f1b9c4;\n",
       "            max-width:  80px;\n",
       "            font-size:  10pt;\n",
       "        }    #T_acbad386_9e39_11e9_b476_9801a7901309row1_col6 {\n",
       "            background-color:  #eeaab7;\n",
       "            max-width:  80px;\n",
       "            font-size:  10pt;\n",
       "        }    #T_acbad386_9e39_11e9_b476_9801a7901309row2_col0 {\n",
       "            background-color:  #d73c5b;\n",
       "            max-width:  80px;\n",
       "            font-size:  10pt;\n",
       "        }    #T_acbad386_9e39_11e9_b476_9801a7901309row2_col1 {\n",
       "            background-color:  #4479bb;\n",
       "            max-width:  80px;\n",
       "            font-size:  10pt;\n",
       "        }    #T_acbad386_9e39_11e9_b476_9801a7901309row2_col2 {\n",
       "            background-color:  #4479bb;\n",
       "            max-width:  80px;\n",
       "            font-size:  10pt;\n",
       "        }    #T_acbad386_9e39_11e9_b476_9801a7901309row2_col3 {\n",
       "            background-color:  #eeacba;\n",
       "            max-width:  80px;\n",
       "            font-size:  10pt;\n",
       "        }    #T_acbad386_9e39_11e9_b476_9801a7901309row2_col4 {\n",
       "            background-color:  #dc526e;\n",
       "            max-width:  80px;\n",
       "            font-size:  10pt;\n",
       "        }    #T_acbad386_9e39_11e9_b476_9801a7901309row2_col5 {\n",
       "            background-color:  #f1b9c4;\n",
       "            max-width:  80px;\n",
       "            font-size:  10pt;\n",
       "        }    #T_acbad386_9e39_11e9_b476_9801a7901309row2_col6 {\n",
       "            background-color:  #eeaab7;\n",
       "            max-width:  80px;\n",
       "            font-size:  10pt;\n",
       "        }    #T_acbad386_9e39_11e9_b476_9801a7901309row3_col0 {\n",
       "            background-color:  #d83e5d;\n",
       "            max-width:  80px;\n",
       "            font-size:  10pt;\n",
       "        }    #T_acbad386_9e39_11e9_b476_9801a7901309row3_col1 {\n",
       "            background-color:  #eda7b5;\n",
       "            max-width:  80px;\n",
       "            font-size:  10pt;\n",
       "        }    #T_acbad386_9e39_11e9_b476_9801a7901309row3_col2 {\n",
       "            background-color:  #eda7b5;\n",
       "            max-width:  80px;\n",
       "            font-size:  10pt;\n",
       "        }    #T_acbad386_9e39_11e9_b476_9801a7901309row3_col3 {\n",
       "            background-color:  #4479bb;\n",
       "            max-width:  80px;\n",
       "            font-size:  10pt;\n",
       "        }    #T_acbad386_9e39_11e9_b476_9801a7901309row3_col4 {\n",
       "            background-color:  #d73c5b;\n",
       "            max-width:  80px;\n",
       "            font-size:  10pt;\n",
       "        }    #T_acbad386_9e39_11e9_b476_9801a7901309row3_col5 {\n",
       "            background-color:  #477bbc;\n",
       "            max-width:  80px;\n",
       "            font-size:  10pt;\n",
       "        }    #T_acbad386_9e39_11e9_b476_9801a7901309row3_col6 {\n",
       "            background-color:  #5686c1;\n",
       "            max-width:  80px;\n",
       "            font-size:  10pt;\n",
       "        }    #T_acbad386_9e39_11e9_b476_9801a7901309row4_col0 {\n",
       "            background-color:  #d73c5b;\n",
       "            max-width:  80px;\n",
       "            font-size:  10pt;\n",
       "        }    #T_acbad386_9e39_11e9_b476_9801a7901309row4_col1 {\n",
       "            background-color:  #da4b68;\n",
       "            max-width:  80px;\n",
       "            font-size:  10pt;\n",
       "        }    #T_acbad386_9e39_11e9_b476_9801a7901309row4_col2 {\n",
       "            background-color:  #da4b68;\n",
       "            max-width:  80px;\n",
       "            font-size:  10pt;\n",
       "        }    #T_acbad386_9e39_11e9_b476_9801a7901309row4_col3 {\n",
       "            background-color:  #d73d5c;\n",
       "            max-width:  80px;\n",
       "            font-size:  10pt;\n",
       "        }    #T_acbad386_9e39_11e9_b476_9801a7901309row4_col4 {\n",
       "            background-color:  #4479bb;\n",
       "            max-width:  80px;\n",
       "            font-size:  10pt;\n",
       "        }    #T_acbad386_9e39_11e9_b476_9801a7901309row4_col5 {\n",
       "            background-color:  #dc516d;\n",
       "            max-width:  80px;\n",
       "            font-size:  10pt;\n",
       "        }    #T_acbad386_9e39_11e9_b476_9801a7901309row4_col6 {\n",
       "            background-color:  #d73c5b;\n",
       "            max-width:  80px;\n",
       "            font-size:  10pt;\n",
       "        }    #T_acbad386_9e39_11e9_b476_9801a7901309row5_col0 {\n",
       "            background-color:  #d73c5b;\n",
       "            max-width:  80px;\n",
       "            font-size:  10pt;\n",
       "        }    #T_acbad386_9e39_11e9_b476_9801a7901309row5_col1 {\n",
       "            background-color:  #f0b4c0;\n",
       "            max-width:  80px;\n",
       "            font-size:  10pt;\n",
       "        }    #T_acbad386_9e39_11e9_b476_9801a7901309row5_col2 {\n",
       "            background-color:  #f0b4c0;\n",
       "            max-width:  80px;\n",
       "            font-size:  10pt;\n",
       "        }    #T_acbad386_9e39_11e9_b476_9801a7901309row5_col3 {\n",
       "            background-color:  #477bbc;\n",
       "            max-width:  80px;\n",
       "            font-size:  10pt;\n",
       "        }    #T_acbad386_9e39_11e9_b476_9801a7901309row5_col4 {\n",
       "            background-color:  #db4e6a;\n",
       "            max-width:  80px;\n",
       "            font-size:  10pt;\n",
       "        }    #T_acbad386_9e39_11e9_b476_9801a7901309row5_col5 {\n",
       "            background-color:  #4479bb;\n",
       "            max-width:  80px;\n",
       "            font-size:  10pt;\n",
       "        }    #T_acbad386_9e39_11e9_b476_9801a7901309row5_col6 {\n",
       "            background-color:  #5787c2;\n",
       "            max-width:  80px;\n",
       "            font-size:  10pt;\n",
       "        }    #T_acbad386_9e39_11e9_b476_9801a7901309row6_col0 {\n",
       "            background-color:  #d94261;\n",
       "            max-width:  80px;\n",
       "            font-size:  10pt;\n",
       "        }    #T_acbad386_9e39_11e9_b476_9801a7901309row6_col1 {\n",
       "            background-color:  #eca4b3;\n",
       "            max-width:  80px;\n",
       "            font-size:  10pt;\n",
       "        }    #T_acbad386_9e39_11e9_b476_9801a7901309row6_col2 {\n",
       "            background-color:  #eca4b3;\n",
       "            max-width:  80px;\n",
       "            font-size:  10pt;\n",
       "        }    #T_acbad386_9e39_11e9_b476_9801a7901309row6_col3 {\n",
       "            background-color:  #5485c1;\n",
       "            max-width:  80px;\n",
       "            font-size:  10pt;\n",
       "        }    #T_acbad386_9e39_11e9_b476_9801a7901309row6_col4 {\n",
       "            background-color:  #d73c5b;\n",
       "            max-width:  80px;\n",
       "            font-size:  10pt;\n",
       "        }    #T_acbad386_9e39_11e9_b476_9801a7901309row6_col5 {\n",
       "            background-color:  #5787c2;\n",
       "            max-width:  80px;\n",
       "            font-size:  10pt;\n",
       "        }    #T_acbad386_9e39_11e9_b476_9801a7901309row6_col6 {\n",
       "            background-color:  #4479bb;\n",
       "            max-width:  80px;\n",
       "            font-size:  10pt;\n",
       "        }</style>  \n",
       "<table id=\"T_acbad386_9e39_11e9_b476_9801a7901309\" ><caption>Hover to magify</caption> \n",
       "<thead>    <tr> \n",
       "        <th class=\"blank level0\" ></th> \n",
       "        <th class=\"col_heading level0 col0\" >ticket_id</th> \n",
       "        <th class=\"col_heading level0 col1\" >admin_fee</th> \n",
       "        <th class=\"col_heading level0 col2\" >state_fee</th> \n",
       "        <th class=\"col_heading level0 col3\" >late_fee</th> \n",
       "        <th class=\"col_heading level0 col4\" >discount_amount</th> \n",
       "        <th class=\"col_heading level0 col5\" >judgment_amount</th> \n",
       "        <th class=\"col_heading level0 col6\" >balance_due</th> \n",
       "    </tr></thead> \n",
       "<tbody>    <tr> \n",
       "        <th id=\"T_acbad386_9e39_11e9_b476_9801a7901309level0_row0\" class=\"row_heading level0 row0\" >ticket_id</th> \n",
       "        <td id=\"T_acbad386_9e39_11e9_b476_9801a7901309row0_col0\" class=\"data row0 col0\" >1</td> \n",
       "        <td id=\"T_acbad386_9e39_11e9_b476_9801a7901309row0_col1\" class=\"data row0 col1\" >-0.038</td> \n",
       "        <td id=\"T_acbad386_9e39_11e9_b476_9801a7901309row0_col2\" class=\"data row0 col2\" >-0.038</td> \n",
       "        <td id=\"T_acbad386_9e39_11e9_b476_9801a7901309row0_col3\" class=\"data row0 col3\" >-0.0057</td> \n",
       "        <td id=\"T_acbad386_9e39_11e9_b476_9801a7901309row0_col4\" class=\"data row0 col4\" >-0.02</td> \n",
       "        <td id=\"T_acbad386_9e39_11e9_b476_9801a7901309row0_col5\" class=\"data row0 col5\" >-0.013</td> \n",
       "        <td id=\"T_acbad386_9e39_11e9_b476_9801a7901309row0_col6\" class=\"data row0 col6\" >0.0037</td> \n",
       "    </tr>    <tr> \n",
       "        <th id=\"T_acbad386_9e39_11e9_b476_9801a7901309level0_row1\" class=\"row_heading level0 row1\" >admin_fee</th> \n",
       "        <td id=\"T_acbad386_9e39_11e9_b476_9801a7901309row1_col0\" class=\"data row1 col0\" >-0.038</td> \n",
       "        <td id=\"T_acbad386_9e39_11e9_b476_9801a7901309row1_col1\" class=\"data row1 col1\" >1</td> \n",
       "        <td id=\"T_acbad386_9e39_11e9_b476_9801a7901309row1_col2\" class=\"data row1 col2\" >1</td> \n",
       "        <td id=\"T_acbad386_9e39_11e9_b476_9801a7901309row1_col3\" class=\"data row1 col3\" >0.29</td> \n",
       "        <td id=\"T_acbad386_9e39_11e9_b476_9801a7901309row1_col4\" class=\"data row1 col4\" >0.027</td> \n",
       "        <td id=\"T_acbad386_9e39_11e9_b476_9801a7901309row1_col5\" class=\"data row1 col5\" >0.32</td> \n",
       "        <td id=\"T_acbad386_9e39_11e9_b476_9801a7901309row1_col6\" class=\"data row1 col6\" >0.28</td> \n",
       "    </tr>    <tr> \n",
       "        <th id=\"T_acbad386_9e39_11e9_b476_9801a7901309level0_row2\" class=\"row_heading level0 row2\" >state_fee</th> \n",
       "        <td id=\"T_acbad386_9e39_11e9_b476_9801a7901309row2_col0\" class=\"data row2 col0\" >-0.038</td> \n",
       "        <td id=\"T_acbad386_9e39_11e9_b476_9801a7901309row2_col1\" class=\"data row2 col1\" >1</td> \n",
       "        <td id=\"T_acbad386_9e39_11e9_b476_9801a7901309row2_col2\" class=\"data row2 col2\" >1</td> \n",
       "        <td id=\"T_acbad386_9e39_11e9_b476_9801a7901309row2_col3\" class=\"data row2 col3\" >0.29</td> \n",
       "        <td id=\"T_acbad386_9e39_11e9_b476_9801a7901309row2_col4\" class=\"data row2 col4\" >0.027</td> \n",
       "        <td id=\"T_acbad386_9e39_11e9_b476_9801a7901309row2_col5\" class=\"data row2 col5\" >0.32</td> \n",
       "        <td id=\"T_acbad386_9e39_11e9_b476_9801a7901309row2_col6\" class=\"data row2 col6\" >0.28</td> \n",
       "    </tr>    <tr> \n",
       "        <th id=\"T_acbad386_9e39_11e9_b476_9801a7901309level0_row3\" class=\"row_heading level0 row3\" >late_fee</th> \n",
       "        <td id=\"T_acbad386_9e39_11e9_b476_9801a7901309row3_col0\" class=\"data row3 col0\" >-0.0057</td> \n",
       "        <td id=\"T_acbad386_9e39_11e9_b476_9801a7901309row3_col1\" class=\"data row3 col1\" >0.29</td> \n",
       "        <td id=\"T_acbad386_9e39_11e9_b476_9801a7901309row3_col2\" class=\"data row3 col2\" >0.29</td> \n",
       "        <td id=\"T_acbad386_9e39_11e9_b476_9801a7901309row3_col3\" class=\"data row3 col3\" >1</td> \n",
       "        <td id=\"T_acbad386_9e39_11e9_b476_9801a7901309row3_col4\" class=\"data row3 col4\" >-0.014</td> \n",
       "        <td id=\"T_acbad386_9e39_11e9_b476_9801a7901309row3_col5\" class=\"data row3 col5\" >0.99</td> \n",
       "        <td id=\"T_acbad386_9e39_11e9_b476_9801a7901309row3_col6\" class=\"data row3 col6\" >0.95</td> \n",
       "    </tr>    <tr> \n",
       "        <th id=\"T_acbad386_9e39_11e9_b476_9801a7901309level0_row4\" class=\"row_heading level0 row4\" >discount_amount</th> \n",
       "        <td id=\"T_acbad386_9e39_11e9_b476_9801a7901309row4_col0\" class=\"data row4 col0\" >-0.02</td> \n",
       "        <td id=\"T_acbad386_9e39_11e9_b476_9801a7901309row4_col1\" class=\"data row4 col1\" >0.027</td> \n",
       "        <td id=\"T_acbad386_9e39_11e9_b476_9801a7901309row4_col2\" class=\"data row4 col2\" >0.027</td> \n",
       "        <td id=\"T_acbad386_9e39_11e9_b476_9801a7901309row4_col3\" class=\"data row4 col3\" >-0.014</td> \n",
       "        <td id=\"T_acbad386_9e39_11e9_b476_9801a7901309row4_col4\" class=\"data row4 col4\" >1</td> \n",
       "        <td id=\"T_acbad386_9e39_11e9_b476_9801a7901309row4_col5\" class=\"data row4 col5\" >0.041</td> \n",
       "        <td id=\"T_acbad386_9e39_11e9_b476_9801a7901309row4_col6\" class=\"data row4 col6\" >-0.018</td> \n",
       "    </tr>    <tr> \n",
       "        <th id=\"T_acbad386_9e39_11e9_b476_9801a7901309level0_row5\" class=\"row_heading level0 row5\" >judgment_amount</th> \n",
       "        <td id=\"T_acbad386_9e39_11e9_b476_9801a7901309row5_col0\" class=\"data row5 col0\" >-0.013</td> \n",
       "        <td id=\"T_acbad386_9e39_11e9_b476_9801a7901309row5_col1\" class=\"data row5 col1\" >0.32</td> \n",
       "        <td id=\"T_acbad386_9e39_11e9_b476_9801a7901309row5_col2\" class=\"data row5 col2\" >0.32</td> \n",
       "        <td id=\"T_acbad386_9e39_11e9_b476_9801a7901309row5_col3\" class=\"data row5 col3\" >0.99</td> \n",
       "        <td id=\"T_acbad386_9e39_11e9_b476_9801a7901309row5_col4\" class=\"data row5 col4\" >0.041</td> \n",
       "        <td id=\"T_acbad386_9e39_11e9_b476_9801a7901309row5_col5\" class=\"data row5 col5\" >1</td> \n",
       "        <td id=\"T_acbad386_9e39_11e9_b476_9801a7901309row5_col6\" class=\"data row5 col6\" >0.94</td> \n",
       "    </tr>    <tr> \n",
       "        <th id=\"T_acbad386_9e39_11e9_b476_9801a7901309level0_row6\" class=\"row_heading level0 row6\" >balance_due</th> \n",
       "        <td id=\"T_acbad386_9e39_11e9_b476_9801a7901309row6_col0\" class=\"data row6 col0\" >0.0037</td> \n",
       "        <td id=\"T_acbad386_9e39_11e9_b476_9801a7901309row6_col1\" class=\"data row6 col1\" >0.28</td> \n",
       "        <td id=\"T_acbad386_9e39_11e9_b476_9801a7901309row6_col2\" class=\"data row6 col2\" >0.28</td> \n",
       "        <td id=\"T_acbad386_9e39_11e9_b476_9801a7901309row6_col3\" class=\"data row6 col3\" >0.95</td> \n",
       "        <td id=\"T_acbad386_9e39_11e9_b476_9801a7901309row6_col4\" class=\"data row6 col4\" >-0.018</td> \n",
       "        <td id=\"T_acbad386_9e39_11e9_b476_9801a7901309row6_col5\" class=\"data row6 col5\" >0.94</td> \n",
       "        <td id=\"T_acbad386_9e39_11e9_b476_9801a7901309row6_col6\" class=\"data row6 col6\" >1</td> \n",
       "    </tr></tbody> \n",
       "</table> "
      ],
      "text/plain": [
       "<pandas.io.formats.style.Styler at 0x117d20dd8>"
      ]
     },
     "execution_count": 11,
     "metadata": {},
     "output_type": "execute_result"
    }
   ],
   "source": [
    "corr = vis_data.drop(['violation_zip_code', 'payment_amount', \n",
    "                      'clean_up_cost', \n",
    "                      'violation_street_number'], axis=1).\\\n",
    "                dropna(axis=1).\\\n",
    "                corr()\n",
    "cmap = sns.diverging_palette(5, 250, as_cmap=True)\n",
    "\n",
    "def magnify():\n",
    "    return [dict(selector=\"th\",\n",
    "                 props=[(\"font-size\", \"7pt\")]),\n",
    "            dict(selector=\"td\",\n",
    "                 props=[('padding', \"0em 0em\")]),\n",
    "            dict(selector=\"th:hover\",\n",
    "                 props=[(\"font-size\", \"12pt\")]),\n",
    "            dict(selector=\"tr:hover td:hover\",\n",
    "                 props=[('max-width', '200px'),\n",
    "                        ('font-size', '12pt')])\n",
    "]\n",
    "\n",
    "corr.style.background_gradient(cmap, axis=1)\\\n",
    "    .set_properties(**{'max-width': '80px', 'font-size': '10pt'})\\\n",
    "    .set_caption(\"Hover to magify\")\\\n",
    "    .set_precision(2)\\\n",
    "    .set_table_styles(magnify())"
   ]
  },
  {
   "cell_type": "code",
   "execution_count": null,
   "metadata": {},
   "outputs": [],
   "source": []
  }
 ],
 "metadata": {
  "kernelspec": {
   "display_name": "Python 3",
   "language": "python",
   "name": "python3"
  },
  "language_info": {
   "codemirror_mode": {
    "name": "ipython",
    "version": 3
   },
   "file_extension": ".py",
   "mimetype": "text/x-python",
   "name": "python",
   "nbconvert_exporter": "python",
   "pygments_lexer": "ipython3",
   "version": "3.7.3"
  }
 },
 "nbformat": 4,
 "nbformat_minor": 2
}
