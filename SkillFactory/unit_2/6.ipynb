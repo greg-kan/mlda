{
 "cells": [
  {
   "cell_type": "code",
   "execution_count": 2,
   "metadata": {},
   "outputs": [],
   "source": [
    "import numpy as np"
   ]
  },
  {
   "cell_type": "code",
   "execution_count": 2,
   "metadata": {},
   "outputs": [],
   "source": [
    "arr1 = np.array([1,2,3,4])"
   ]
  },
  {
   "cell_type": "code",
   "execution_count": 3,
   "metadata": {},
   "outputs": [
    {
     "data": {
      "text/plain": [
       "numpy.ndarray"
      ]
     },
     "execution_count": 3,
     "metadata": {},
     "output_type": "execute_result"
    }
   ],
   "source": [
    "type(arr1)"
   ]
  },
  {
   "cell_type": "code",
   "execution_count": 4,
   "metadata": {},
   "outputs": [
    {
     "data": {
      "text/plain": [
       "dtype('int32')"
      ]
     },
     "execution_count": 4,
     "metadata": {},
     "output_type": "execute_result"
    }
   ],
   "source": [
    "arr1.dtype"
   ]
  },
  {
   "cell_type": "code",
   "execution_count": 5,
   "metadata": {},
   "outputs": [
    {
     "data": {
      "text/plain": [
       "dtype('float64')"
      ]
     },
     "execution_count": 5,
     "metadata": {},
     "output_type": "execute_result"
    }
   ],
   "source": [
    "arr2 = np.array([5,6,7,8], dtype = float)\n",
    "arr2.dtype"
   ]
  },
  {
   "cell_type": "code",
   "execution_count": 6,
   "metadata": {},
   "outputs": [],
   "source": [
    "arr3 = np.array([[1,2,3],[4,5,6],[7,8,9]])"
   ]
  },
  {
   "cell_type": "code",
   "execution_count": 7,
   "metadata": {},
   "outputs": [
    {
     "data": {
      "text/plain": [
       "(3, 3)"
      ]
     },
     "execution_count": 7,
     "metadata": {},
     "output_type": "execute_result"
    }
   ],
   "source": [
    "np.shape(arr3)"
   ]
  },
  {
   "cell_type": "code",
   "execution_count": 8,
   "metadata": {},
   "outputs": [],
   "source": [
    "import pandas as pd"
   ]
  },
  {
   "cell_type": "code",
   "execution_count": 9,
   "metadata": {},
   "outputs": [
    {
     "data": {
      "text/plain": [
       "numpy.ndarray"
      ]
     },
     "execution_count": 9,
     "metadata": {},
     "output_type": "execute_result"
    }
   ],
   "source": [
    "df = pd.DataFrame()\n",
    "x = df.values\n",
    "type(x)"
   ]
  },
  {
   "cell_type": "code",
   "execution_count": 10,
   "metadata": {},
   "outputs": [
    {
     "data": {
      "text/plain": [
       "array([ 5,  6,  7,  8,  9, 10], dtype=int64)"
      ]
     },
     "execution_count": 10,
     "metadata": {},
     "output_type": "execute_result"
    }
   ],
   "source": [
    "my_series = pd.Series([5, 6, 7, 8, 9, 10])\n",
    "my_series.values"
   ]
  },
  {
   "cell_type": "code",
   "execution_count": 11,
   "metadata": {},
   "outputs": [
    {
     "data": {
      "text/plain": [
       "numpy.ndarray"
      ]
     },
     "execution_count": 11,
     "metadata": {},
     "output_type": "execute_result"
    }
   ],
   "source": [
    "type(my_series.values)"
   ]
  },
  {
   "cell_type": "code",
   "execution_count": 12,
   "metadata": {},
   "outputs": [
    {
     "data": {
      "text/plain": [
       "array([3.16694739e-312, 4.94065646e-324, 3.16709397e-312, 3.16709397e-312,\n",
       "       0.00000000e+000])"
      ]
     },
     "execution_count": 12,
     "metadata": {},
     "output_type": "execute_result"
    }
   ],
   "source": [
    "np.empty(5) # одномерный массив из пяти элементов, память для которого выделена, но не инициализирована"
   ]
  },
  {
   "cell_type": "code",
   "execution_count": 13,
   "metadata": {},
   "outputs": [
    {
     "data": {
      "text/plain": [
       "array([[0., 0., 0., 0., 0., 0., 0.],\n",
       "       [0., 0., 0., 0., 0., 0., 0.],\n",
       "       [0., 0., 0., 0., 0., 0., 0.],\n",
       "       [0., 0., 0., 0., 0., 0., 0.],\n",
       "       [0., 0., 0., 0., 0., 0., 0.],\n",
       "       [0., 0., 0., 0., 0., 0., 0.],\n",
       "       [0., 0., 0., 0., 0., 0., 0.],\n",
       "       [0., 0., 0., 0., 0., 0., 0.],\n",
       "       [0., 0., 0., 0., 0., 0., 0.],\n",
       "       [0., 0., 0., 0., 0., 0., 0.]])"
      ]
     },
     "execution_count": 13,
     "metadata": {},
     "output_type": "execute_result"
    }
   ],
   "source": [
    "np.zeros((10, 7)) # массив размером 10x7, заполненный нулями "
   ]
  },
  {
   "cell_type": "code",
   "execution_count": 14,
   "metadata": {},
   "outputs": [
    {
     "data": {
      "text/plain": [
       "array([[[1., 1., 1.],\n",
       "        [1., 1., 1.],\n",
       "        [1., 1., 1.]],\n",
       "\n",
       "       [[1., 1., 1.],\n",
       "        [1., 1., 1.],\n",
       "        [1., 1., 1.]],\n",
       "\n",
       "       [[1., 1., 1.],\n",
       "        [1., 1., 1.],\n",
       "        [1., 1., 1.]]])"
      ]
     },
     "execution_count": 14,
     "metadata": {},
     "output_type": "execute_result"
    }
   ],
   "source": [
    "np.ones((3,3,3)) # массив размером 3х3х3, заполненный единицами "
   ]
  },
  {
   "cell_type": "code",
   "execution_count": 15,
   "metadata": {},
   "outputs": [
    {
     "data": {
      "text/plain": [
       "array([[1., 0., 0.],\n",
       "       [0., 1., 0.],\n",
       "       [0., 0., 1.]])"
      ]
     },
     "execution_count": 15,
     "metadata": {},
     "output_type": "execute_result"
    }
   ],
   "source": [
    "np.eye(3) # единичная матрица (элементы главной диагонали равны 1, остальные — 0) размера 3х3"
   ]
  },
  {
   "cell_type": "code",
   "execution_count": 16,
   "metadata": {},
   "outputs": [
    {
     "data": {
      "text/plain": [
       "array([[3.14, 3.14, 3.14, 3.14, 3.14],\n",
       "       [3.14, 3.14, 3.14, 3.14, 3.14],\n",
       "       [3.14, 3.14, 3.14, 3.14, 3.14]])"
      ]
     },
     "execution_count": 16,
     "metadata": {},
     "output_type": "execute_result"
    }
   ],
   "source": [
    "np.full((3, 5), 3.14)  # массив 3x5 заполненный числом 3.14"
   ]
  },
  {
   "cell_type": "code",
   "execution_count": 17,
   "metadata": {},
   "outputs": [
    {
     "data": {
      "text/plain": [
       "array([ 0,  7, 14])"
      ]
     },
     "execution_count": 17,
     "metadata": {},
     "output_type": "execute_result"
    }
   ],
   "source": [
    "np.arange(0, 21, 7)  # одномерный массив, заполненный числами в диапазоне от 0 до 20 с шагом 7"
   ]
  },
  {
   "cell_type": "code",
   "execution_count": 18,
   "metadata": {},
   "outputs": [
    {
     "data": {
      "text/plain": [
       "array([0.  , 0.25, 0.5 , 0.75, 1.  ])"
      ]
     },
     "execution_count": 18,
     "metadata": {},
     "output_type": "execute_result"
    }
   ],
   "source": [
    "np.linspace(0, 1, 5)  # массив из пяти чисел, равномерно распределённых в интервале между 0 и 1 включительно"
   ]
  },
  {
   "cell_type": "code",
   "execution_count": 19,
   "metadata": {},
   "outputs": [
    {
     "data": {
      "text/plain": [
       "array([[0, 9, 6],\n",
       "       [9, 4, 6],\n",
       "       [8, 0, 2]])"
      ]
     },
     "execution_count": 19,
     "metadata": {},
     "output_type": "execute_result"
    }
   ],
   "source": [
    "np.random.randint(0, 10, (3, 3))  # массив размера 3х3, заполненный случайными числами из диапазона от 0 до 9 (включительно)"
   ]
  },
  {
   "cell_type": "code",
   "execution_count": 20,
   "metadata": {},
   "outputs": [
    {
     "data": {
      "text/plain": [
       "array([[ 8, 13, 18,  4],\n",
       "       [25,  3, 18, 28],\n",
       "       [14, 15, 18, 24],\n",
       "       [ 1,  2,  3,  4]])"
      ]
     },
     "execution_count": 20,
     "metadata": {},
     "output_type": "execute_result"
    }
   ],
   "source": [
    "np.array([[8,13,18,4], [25,3,18,28], [14,15,18,24], [1,2,3,4]]) "
   ]
  },
  {
   "cell_type": "code",
   "execution_count": 22,
   "metadata": {},
   "outputs": [
    {
     "data": {
      "text/plain": [
       "[1,\n",
       " 8,\n",
       " 15,\n",
       " 22,\n",
       " 29,\n",
       " 36,\n",
       " 43,\n",
       " 50,\n",
       " 57,\n",
       " 64,\n",
       " 71,\n",
       " 78,\n",
       " 85,\n",
       " 92,\n",
       " 99,\n",
       " 106,\n",
       " 113,\n",
       " 120,\n",
       " 127,\n",
       " 134,\n",
       " 141,\n",
       " 148,\n",
       " 155,\n",
       " 162,\n",
       " 169,\n",
       " 176,\n",
       " 183,\n",
       " 190,\n",
       " 197,\n",
       " 204,\n",
       " 211,\n",
       " 218,\n",
       " 225,\n",
       " 232,\n",
       " 239,\n",
       " 246,\n",
       " 253,\n",
       " 260,\n",
       " 267,\n",
       " 274,\n",
       " 281,\n",
       " 288,\n",
       " 295]"
      ]
     },
     "execution_count": 22,
     "metadata": {},
     "output_type": "execute_result"
    }
   ],
   "source": [
    "my_secret = [x for x in range(1, 301, 7) ]\n",
    "my_secret"
   ]
  },
  {
   "cell_type": "code",
   "execution_count": 23,
   "metadata": {},
   "outputs": [
    {
     "data": {
      "text/plain": [
       "[1, 57, 71, 127, 141, 197, 211, 267, 281]"
      ]
     },
     "execution_count": 23,
     "metadata": {},
     "output_type": "execute_result"
    }
   ],
   "source": [
    "my_secret = [x for x in range(1, 301, 7) if x%10 == 7 or x%10 == 1]\n",
    "my_secret"
   ]
  },
  {
   "cell_type": "code",
   "execution_count": 24,
   "metadata": {},
   "outputs": [
    {
     "data": {
      "text/plain": [
       "array([[  1. ,  57. ,  71. , 127. , 141. , 197. , 211. , 267. , 281. ],\n",
       "       [  0.5,  28.5,  35.5,  63.5,  70.5,  98.5, 105.5, 133.5, 140.5],\n",
       "       [-99. , -43. , -29. ,  27. ,  41. ,  97. , 111. , 167. , 181. ]])"
      ]
     },
     "execution_count": 24,
     "metadata": {},
     "output_type": "execute_result"
    }
   ],
   "source": [
    "np.array([my_secret, [x/2 for x in my_secret], [x-100 for x in my_secret]])"
   ]
  },
  {
   "cell_type": "code",
   "execution_count": 25,
   "metadata": {},
   "outputs": [
    {
     "data": {
      "text/plain": [
       "array([[1., 1., 1., 1., 1.],\n",
       "       [1., 1., 1., 1., 1.],\n",
       "       [1., 1., 1., 1., 1.],\n",
       "       [1., 1., 1., 1., 1.],\n",
       "       [1., 1., 1., 1., 1.]])"
      ]
     },
     "execution_count": 25,
     "metadata": {},
     "output_type": "execute_result"
    }
   ],
   "source": [
    "np.ones((5,5))"
   ]
  },
  {
   "cell_type": "code",
   "execution_count": 26,
   "metadata": {
    "scrolled": true
   },
   "outputs": [
    {
     "ename": "TypeError",
     "evalue": "data type not understood",
     "output_type": "error",
     "traceback": [
      "\u001b[1;31m---------------------------------------------------------------------------\u001b[0m",
      "\u001b[1;31mTypeError\u001b[0m                                 Traceback (most recent call last)",
      "\u001b[1;32m<ipython-input-26-0db54ceed569>\u001b[0m in \u001b[0;36m<module>\u001b[1;34m\u001b[0m\n\u001b[1;32m----> 1\u001b[1;33m \u001b[0mnp\u001b[0m\u001b[1;33m.\u001b[0m\u001b[0mones\u001b[0m\u001b[1;33m(\u001b[0m\u001b[1;36m5\u001b[0m\u001b[1;33m,\u001b[0m\u001b[1;36m5\u001b[0m\u001b[1;33m)\u001b[0m\u001b[1;33m\u001b[0m\u001b[1;33m\u001b[0m\u001b[0m\n\u001b[0m",
      "\u001b[1;32mD:\\tools\\Anaconda3\\lib\\site-packages\\numpy\\core\\numeric.py\u001b[0m in \u001b[0;36mones\u001b[1;34m(shape, dtype, order)\u001b[0m\n\u001b[0;32m    221\u001b[0m \u001b[1;33m\u001b[0m\u001b[0m\n\u001b[0;32m    222\u001b[0m     \"\"\"\n\u001b[1;32m--> 223\u001b[1;33m     \u001b[0ma\u001b[0m \u001b[1;33m=\u001b[0m \u001b[0mempty\u001b[0m\u001b[1;33m(\u001b[0m\u001b[0mshape\u001b[0m\u001b[1;33m,\u001b[0m \u001b[0mdtype\u001b[0m\u001b[1;33m,\u001b[0m \u001b[0morder\u001b[0m\u001b[1;33m)\u001b[0m\u001b[1;33m\u001b[0m\u001b[1;33m\u001b[0m\u001b[0m\n\u001b[0m\u001b[0;32m    224\u001b[0m     \u001b[0mmultiarray\u001b[0m\u001b[1;33m.\u001b[0m\u001b[0mcopyto\u001b[0m\u001b[1;33m(\u001b[0m\u001b[0ma\u001b[0m\u001b[1;33m,\u001b[0m \u001b[1;36m1\u001b[0m\u001b[1;33m,\u001b[0m \u001b[0mcasting\u001b[0m\u001b[1;33m=\u001b[0m\u001b[1;34m'unsafe'\u001b[0m\u001b[1;33m)\u001b[0m\u001b[1;33m\u001b[0m\u001b[1;33m\u001b[0m\u001b[0m\n\u001b[0;32m    225\u001b[0m     \u001b[1;32mreturn\u001b[0m \u001b[0ma\u001b[0m\u001b[1;33m\u001b[0m\u001b[1;33m\u001b[0m\u001b[0m\n",
      "\u001b[1;31mTypeError\u001b[0m: data type not understood"
     ]
    }
   ],
   "source": [
    "np.ones(5,5)"
   ]
  },
  {
   "cell_type": "code",
   "execution_count": 27,
   "metadata": {},
   "outputs": [
    {
     "data": {
      "text/plain": [
       "array([[1, 1, 1, 1, 1],\n",
       "       [1, 1, 1, 1, 1],\n",
       "       [1, 1, 1, 1, 1],\n",
       "       [1, 1, 1, 1, 1],\n",
       "       [1, 1, 1, 1, 1]])"
      ]
     },
     "execution_count": 27,
     "metadata": {},
     "output_type": "execute_result"
    }
   ],
   "source": [
    "np.full((5,5), 1)"
   ]
  },
  {
   "cell_type": "code",
   "execution_count": 35,
   "metadata": {},
   "outputs": [
    {
     "data": {
      "text/plain": [
       "array([3, 4, 4])"
      ]
     },
     "execution_count": 35,
     "metadata": {},
     "output_type": "execute_result"
    }
   ],
   "source": [
    "np.random.randint(0, 5, 3)"
   ]
  },
  {
   "cell_type": "code",
   "execution_count": 36,
   "metadata": {},
   "outputs": [
    {
     "data": {
      "text/plain": [
       "array([0, 1, 2, 3, 4, 5, 6, 7, 8])"
      ]
     },
     "execution_count": 36,
     "metadata": {},
     "output_type": "execute_result"
    }
   ],
   "source": [
    "np.array(range(9))"
   ]
  },
  {
   "cell_type": "code",
   "execution_count": 37,
   "metadata": {},
   "outputs": [
    {
     "data": {
      "text/plain": [
       "array([0, 1, 2, 3, 4, 5, 6, 7, 8])"
      ]
     },
     "execution_count": 37,
     "metadata": {},
     "output_type": "execute_result"
    }
   ],
   "source": [
    "np.arange(9)"
   ]
  },
  {
   "cell_type": "code",
   "execution_count": 39,
   "metadata": {},
   "outputs": [
    {
     "data": {
      "text/plain": [
       "array([1, 3, 5, 7, 9])"
      ]
     },
     "execution_count": 39,
     "metadata": {},
     "output_type": "execute_result"
    }
   ],
   "source": [
    "np.array([i for i in range(11) if i%2])"
   ]
  },
  {
   "cell_type": "code",
   "execution_count": 40,
   "metadata": {},
   "outputs": [
    {
     "data": {
      "text/plain": [
       "array([ 1,  3,  5,  7,  9, 11, 13])"
      ]
     },
     "execution_count": 40,
     "metadata": {},
     "output_type": "execute_result"
    }
   ],
   "source": [
    "np.arange(1, 14, 2)"
   ]
  },
  {
   "cell_type": "code",
   "execution_count": 41,
   "metadata": {
    "scrolled": true
   },
   "outputs": [
    {
     "data": {
      "text/plain": [
       "array([[[1., 1.],\n",
       "        [1., 1.]],\n",
       "\n",
       "       [[1., 1.],\n",
       "        [1., 1.]]])"
      ]
     },
     "execution_count": 41,
     "metadata": {},
     "output_type": "execute_result"
    }
   ],
   "source": [
    "np.ones((2,2,2))"
   ]
  },
  {
   "cell_type": "code",
   "execution_count": 2,
   "metadata": {},
   "outputs": [],
   "source": [
    "my_array = np.array([x for x in range(10)])"
   ]
  },
  {
   "cell_type": "code",
   "execution_count": 3,
   "metadata": {},
   "outputs": [
    {
     "data": {
      "text/plain": [
       "array([0, 1, 2, 3, 4, 5, 6, 7, 8, 9])"
      ]
     },
     "execution_count": 3,
     "metadata": {},
     "output_type": "execute_result"
    }
   ],
   "source": [
    "my_array"
   ]
  },
  {
   "cell_type": "code",
   "execution_count": 4,
   "metadata": {},
   "outputs": [
    {
     "data": {
      "text/plain": [
       "5"
      ]
     },
     "execution_count": 4,
     "metadata": {},
     "output_type": "execute_result"
    }
   ],
   "source": [
    "my_array[5]"
   ]
  },
  {
   "cell_type": "code",
   "execution_count": 5,
   "metadata": {},
   "outputs": [
    {
     "data": {
      "text/plain": [
       "9"
      ]
     },
     "execution_count": 5,
     "metadata": {},
     "output_type": "execute_result"
    }
   ],
   "source": [
    "my_array[-1]"
   ]
  },
  {
   "cell_type": "code",
   "execution_count": 6,
   "metadata": {},
   "outputs": [
    {
     "data": {
      "text/plain": [
       "array([3, 4, 5])"
      ]
     },
     "execution_count": 6,
     "metadata": {},
     "output_type": "execute_result"
    }
   ],
   "source": [
    "my_array[3:6]"
   ]
  },
  {
   "cell_type": "code",
   "execution_count": 7,
   "metadata": {},
   "outputs": [
    {
     "data": {
      "text/plain": [
       "array([1, 4, 7])"
      ]
     },
     "execution_count": 7,
     "metadata": {},
     "output_type": "execute_result"
    }
   ],
   "source": [
    "my_array[1:8:3]"
   ]
  },
  {
   "cell_type": "code",
   "execution_count": 8,
   "metadata": {},
   "outputs": [],
   "source": [
    "my_array = np.array([[1,2,3,4], [10,11,12,13], [45,46,47,48]])"
   ]
  },
  {
   "cell_type": "code",
   "execution_count": 9,
   "metadata": {},
   "outputs": [
    {
     "data": {
      "text/plain": [
       "12"
      ]
     },
     "execution_count": 9,
     "metadata": {},
     "output_type": "execute_result"
    }
   ],
   "source": [
    "my_array[1][2]"
   ]
  },
  {
   "cell_type": "code",
   "execution_count": 11,
   "metadata": {},
   "outputs": [
    {
     "data": {
      "text/plain": [
       "3"
      ]
     },
     "execution_count": 11,
     "metadata": {},
     "output_type": "execute_result"
    }
   ],
   "source": [
    "my_array[0,2]"
   ]
  },
  {
   "cell_type": "code",
   "execution_count": 12,
   "metadata": {},
   "outputs": [
    {
     "data": {
      "text/plain": [
       "array([10, 11, 12, 13])"
      ]
     },
     "execution_count": 12,
     "metadata": {},
     "output_type": "execute_result"
    }
   ],
   "source": [
    "my_array[1]"
   ]
  },
  {
   "cell_type": "code",
   "execution_count": 13,
   "metadata": {},
   "outputs": [
    {
     "data": {
      "text/plain": [
       "array([ 3, 12, 47])"
      ]
     },
     "execution_count": 13,
     "metadata": {},
     "output_type": "execute_result"
    }
   ],
   "source": [
    "my_array[:, 2]"
   ]
  },
  {
   "cell_type": "code",
   "execution_count": 33,
   "metadata": {},
   "outputs": [
    {
     "data": {
      "text/plain": [
       "array([ 4, 13, 48])"
      ]
     },
     "execution_count": 33,
     "metadata": {},
     "output_type": "execute_result"
    }
   ],
   "source": [
    "my_array[:, 3]"
   ]
  },
  {
   "cell_type": "code",
   "execution_count": 22,
   "metadata": {},
   "outputs": [
    {
     "data": {
      "text/plain": [
       "array([[ 1,  2,  3,  4],\n",
       "       [10, 11, 12, 13],\n",
       "       [45, 46, 47, 48]])"
      ]
     },
     "execution_count": 22,
     "metadata": {},
     "output_type": "execute_result"
    }
   ],
   "source": [
    "my_array[0:3]"
   ]
  },
  {
   "cell_type": "code",
   "execution_count": 24,
   "metadata": {
    "scrolled": true
   },
   "outputs": [
    {
     "data": {
      "text/plain": [
       "array([[ 2,  3],\n",
       "       [11, 12],\n",
       "       [46, 47]])"
      ]
     },
     "execution_count": 24,
     "metadata": {},
     "output_type": "execute_result"
    }
   ],
   "source": [
    "my_array[0:, 1:3]"
   ]
  },
  {
   "cell_type": "code",
   "execution_count": 28,
   "metadata": {},
   "outputs": [
    {
     "data": {
      "text/plain": [
       "[7, 5, 3]"
      ]
     },
     "execution_count": 28,
     "metadata": {},
     "output_type": "execute_result"
    }
   ],
   "source": [
    "[y for y in range (7, 1, -2)]"
   ]
  },
  {
   "cell_type": "code",
   "execution_count": 29,
   "metadata": {},
   "outputs": [
    {
     "name": "stdout",
     "output_type": "stream",
     "text": [
      "[14, 10, 6, 56, 40, 24, 98, 70, 42, 140, 100, 60, 182, 130, 78, 224, 160, 96, 266, 190, 114, 308, 220, 132, 350, 250, 150, 392, 280, 168, 434, 310, 186, 476, 340, 204, 518, 370, 222, 560, 400, 240, 602, 430, 258, 644, 460, 276, 686, 490, 294]\n"
     ]
    }
   ],
   "source": [
    "first_line = [x*y for x in range(2, 100, 6) for y in range (7, 1, -2)]\n",
    "print(first_line)"
   ]
  },
  {
   "cell_type": "code",
   "execution_count": 30,
   "metadata": {},
   "outputs": [
    {
     "name": "stdout",
     "output_type": "stream",
     "text": [
      "[31.622776601683793, 31.654383582688826, 31.68595903550972, 31.71750305430741, 31.74901573277509, 31.78049716414141, 31.811947441173732, 31.843366656181317, 31.874754901018456, 31.906112267087632, 31.937438845342623, 31.96873472629156, 32.0, 32.03123475609393, 32.0624390837628, 32.09361307176243, 32.12475680841802, 32.155870381627054, 32.18695387886216, 32.218007387174026, 32.2490309931942, 32.28002478313795, 32.31098884280702, 32.341923257592455, 32.37282811247729, 32.4037034920393, 32.43454948045371, 32.46536616149585, 32.49615361854384, 32.526911934581186, 32.55764119219941, 32.58834147360065, 32.61901286060018, 32.64965543462902, 32.68026927673638, 32.71085446759225, 32.7414110874898, 32.77193921634788, 32.802438933713454, 32.83291031876401, 32.863353450309965, 32.89376840679705, 32.92415526630866, 32.95451410656816, 32.984845004941285, 33.015148038438355, 33.04542328371661, 33.075670817082454, 33.1058907144937, 33.13608305156178, 33.166247903554]\n"
     ]
    }
   ],
   "source": [
    "second_line = [x ** 0.5 for x in range(1000, 1101, 2)]\n",
    "print(second_line)"
   ]
  },
  {
   "cell_type": "code",
   "execution_count": 31,
   "metadata": {},
   "outputs": [
    {
     "name": "stdout",
     "output_type": "stream",
     "text": [
      "[0, 1, 4, 9, 16, 25, 36, 49, 64, 81, 100, 121, 144, 169, 196, 225, 256, 289, 324, 361, 400, 441, 484, 529, 576, 625, 676, 729, 784, 841, 900, 961, 1024, 1089, 1156, 1225, 1296, 1369, 1444, 1521, 1600, 1681, 1764, 1849, 1936, 2025, 2116, 2209, 2304, 2401, 2500]\n"
     ]
    }
   ],
   "source": [
    "third_line = [x**2 for x in range(51)]\n",
    "print(third_line)"
   ]
  },
  {
   "cell_type": "code",
   "execution_count": 32,
   "metadata": {
    "scrolled": true
   },
   "outputs": [
    {
     "name": "stdout",
     "output_type": "stream",
     "text": [
      "[[1.40000000e+01 1.00000000e+01 6.00000000e+00 5.60000000e+01\n",
      "  4.00000000e+01 2.40000000e+01 9.80000000e+01 7.00000000e+01\n",
      "  4.20000000e+01 1.40000000e+02 1.00000000e+02 6.00000000e+01\n",
      "  1.82000000e+02 1.30000000e+02 7.80000000e+01 2.24000000e+02\n",
      "  1.60000000e+02 9.60000000e+01 2.66000000e+02 1.90000000e+02\n",
      "  1.14000000e+02 3.08000000e+02 2.20000000e+02 1.32000000e+02\n",
      "  3.50000000e+02 2.50000000e+02 1.50000000e+02 3.92000000e+02\n",
      "  2.80000000e+02 1.68000000e+02 4.34000000e+02 3.10000000e+02\n",
      "  1.86000000e+02 4.76000000e+02 3.40000000e+02 2.04000000e+02\n",
      "  5.18000000e+02 3.70000000e+02 2.22000000e+02 5.60000000e+02\n",
      "  4.00000000e+02 2.40000000e+02 6.02000000e+02 4.30000000e+02\n",
      "  2.58000000e+02 6.44000000e+02 4.60000000e+02 2.76000000e+02\n",
      "  6.86000000e+02 4.90000000e+02 2.94000000e+02]\n",
      " [3.16227766e+01 3.16543836e+01 3.16859590e+01 3.17175031e+01\n",
      "  3.17490157e+01 3.17804972e+01 3.18119474e+01 3.18433667e+01\n",
      "  3.18747549e+01 3.19061123e+01 3.19374388e+01 3.19687347e+01\n",
      "  3.20000000e+01 3.20312348e+01 3.20624391e+01 3.20936131e+01\n",
      "  3.21247568e+01 3.21558704e+01 3.21869539e+01 3.22180074e+01\n",
      "  3.22490310e+01 3.22800248e+01 3.23109888e+01 3.23419233e+01\n",
      "  3.23728281e+01 3.24037035e+01 3.24345495e+01 3.24653662e+01\n",
      "  3.24961536e+01 3.25269119e+01 3.25576412e+01 3.25883415e+01\n",
      "  3.26190129e+01 3.26496554e+01 3.26802693e+01 3.27108545e+01\n",
      "  3.27414111e+01 3.27719392e+01 3.28024389e+01 3.28329103e+01\n",
      "  3.28633535e+01 3.28937684e+01 3.29241553e+01 3.29545141e+01\n",
      "  3.29848450e+01 3.30151480e+01 3.30454233e+01 3.30756708e+01\n",
      "  3.31058907e+01 3.31360831e+01 3.31662479e+01]\n",
      " [0.00000000e+00 1.00000000e+00 4.00000000e+00 9.00000000e+00\n",
      "  1.60000000e+01 2.50000000e+01 3.60000000e+01 4.90000000e+01\n",
      "  6.40000000e+01 8.10000000e+01 1.00000000e+02 1.21000000e+02\n",
      "  1.44000000e+02 1.69000000e+02 1.96000000e+02 2.25000000e+02\n",
      "  2.56000000e+02 2.89000000e+02 3.24000000e+02 3.61000000e+02\n",
      "  4.00000000e+02 4.41000000e+02 4.84000000e+02 5.29000000e+02\n",
      "  5.76000000e+02 6.25000000e+02 6.76000000e+02 7.29000000e+02\n",
      "  7.84000000e+02 8.41000000e+02 9.00000000e+02 9.61000000e+02\n",
      "  1.02400000e+03 1.08900000e+03 1.15600000e+03 1.22500000e+03\n",
      "  1.29600000e+03 1.36900000e+03 1.44400000e+03 1.52100000e+03\n",
      "  1.60000000e+03 1.68100000e+03 1.76400000e+03 1.84900000e+03\n",
      "  1.93600000e+03 2.02500000e+03 2.11600000e+03 2.20900000e+03\n",
      "  2.30400000e+03 2.40100000e+03 2.50000000e+03]\n",
      " [3.16227766e+01 3.16543836e+01 3.16859590e+01 3.17175031e+01\n",
      "  3.17490157e+01 3.17804972e+01 3.18119474e+01 3.18433667e+01\n",
      "  3.18747549e+01 3.19061123e+01 3.19374388e+01 3.19687347e+01\n",
      "  3.20000000e+01 3.20312348e+01 3.20624391e+01 3.20936131e+01\n",
      "  3.21247568e+01 3.21558704e+01 3.21869539e+01 3.22180074e+01\n",
      "  3.22490310e+01 3.22800248e+01 3.23109888e+01 3.23419233e+01\n",
      "  3.23728281e+01 3.24037035e+01 3.24345495e+01 3.24653662e+01\n",
      "  3.24961536e+01 3.25269119e+01 3.25576412e+01 3.25883415e+01\n",
      "  3.26190129e+01 3.26496554e+01 3.26802693e+01 3.27108545e+01\n",
      "  3.27414111e+01 3.27719392e+01 3.28024389e+01 3.28329103e+01\n",
      "  3.28633535e+01 3.28937684e+01 3.29241553e+01 3.29545141e+01\n",
      "  3.29848450e+01 3.30151480e+01 3.30454233e+01 3.30756708e+01\n",
      "  3.31058907e+01 3.31360831e+01 3.31662479e+01]\n",
      " [1.40000000e+01 1.00000000e+01 6.00000000e+00 5.60000000e+01\n",
      "  4.00000000e+01 2.40000000e+01 9.80000000e+01 7.00000000e+01\n",
      "  4.20000000e+01 1.40000000e+02 1.00000000e+02 6.00000000e+01\n",
      "  1.82000000e+02 1.30000000e+02 7.80000000e+01 2.24000000e+02\n",
      "  1.60000000e+02 9.60000000e+01 2.66000000e+02 1.90000000e+02\n",
      "  1.14000000e+02 3.08000000e+02 2.20000000e+02 1.32000000e+02\n",
      "  3.50000000e+02 2.50000000e+02 1.50000000e+02 3.92000000e+02\n",
      "  2.80000000e+02 1.68000000e+02 4.34000000e+02 3.10000000e+02\n",
      "  1.86000000e+02 4.76000000e+02 3.40000000e+02 2.04000000e+02\n",
      "  5.18000000e+02 3.70000000e+02 2.22000000e+02 5.60000000e+02\n",
      "  4.00000000e+02 2.40000000e+02 6.02000000e+02 4.30000000e+02\n",
      "  2.58000000e+02 6.44000000e+02 4.60000000e+02 2.76000000e+02\n",
      "  6.86000000e+02 4.90000000e+02 2.94000000e+02]]\n"
     ]
    }
   ],
   "source": [
    "big_secret = np.array([first_line, second_line, third_line, second_line, first_line])\n",
    "print(big_secret)"
   ]
  },
  {
   "cell_type": "code",
   "execution_count": 34,
   "metadata": {},
   "outputs": [
    {
     "data": {
      "text/plain": [
       "(5, 51)"
      ]
     },
     "execution_count": 34,
     "metadata": {},
     "output_type": "execute_result"
    }
   ],
   "source": [
    "big_secret.shape"
   ]
  },
  {
   "cell_type": "code",
   "execution_count": 36,
   "metadata": {
    "scrolled": true
   },
   "outputs": [
    {
     "data": {
      "text/plain": [
       "array([ 294.       ,   33.1662479, 2500.       ,   33.1662479,\n",
       "        294.       ])"
      ]
     },
     "execution_count": 36,
     "metadata": {},
     "output_type": "execute_result"
    }
   ],
   "source": [
    "big_secret[:, 50]"
   ]
  },
  {
   "cell_type": "code",
   "execution_count": 37,
   "metadata": {},
   "outputs": [
    {
     "data": {
      "text/plain": [
       "3154.332495807108"
      ]
     },
     "execution_count": 37,
     "metadata": {},
     "output_type": "execute_result"
    }
   ],
   "source": [
    "big_secret[:, 50].sum()"
   ]
  },
  {
   "cell_type": "code",
   "execution_count": 39,
   "metadata": {},
   "outputs": [
    {
     "data": {
      "text/plain": [
       "[294.0, 33.166247903554, 2500.0, 33.166247903554, 294.0]"
      ]
     },
     "execution_count": 39,
     "metadata": {},
     "output_type": "execute_result"
    }
   ],
   "source": [
    "list(map(lambda x: x, big_secret[:, 50]))"
   ]
  },
  {
   "cell_type": "code",
   "execution_count": 40,
   "metadata": {},
   "outputs": [
    {
     "name": "stdout",
     "output_type": "stream",
     "text": [
      "3154.332495807108\n"
     ]
    }
   ],
   "source": [
    "summa = 0\n",
    "for val in big_secret[:, 50]:\n",
    "    summa += val\n",
    "    \n",
    "print(summa)"
   ]
  },
  {
   "cell_type": "code",
   "execution_count": 42,
   "metadata": {},
   "outputs": [
    {
     "data": {
      "text/plain": [
       "array([[14.        , 10.        ,  6.        , 56.        , 40.        ],\n",
       "       [31.6227766 , 31.65438358, 31.68595904, 31.71750305, 31.74901573],\n",
       "       [ 0.        ,  1.        ,  4.        ,  9.        , 16.        ],\n",
       "       [31.6227766 , 31.65438358, 31.68595904, 31.71750305, 31.74901573],\n",
       "       [14.        , 10.        ,  6.        , 56.        , 40.        ]])"
      ]
     },
     "execution_count": 42,
     "metadata": {},
     "output_type": "execute_result"
    }
   ],
   "source": [
    "big_secret[:, 0:5]"
   ]
  },
  {
   "cell_type": "code",
   "execution_count": 45,
   "metadata": {},
   "outputs": [
    {
     "data": {
      "text/plain": [
       "14.0"
      ]
     },
     "execution_count": 45,
     "metadata": {},
     "output_type": "execute_result"
    }
   ],
   "source": [
    "big_secret[:, 0:5][0, 0]"
   ]
  },
  {
   "cell_type": "code",
   "execution_count": 64,
   "metadata": {},
   "outputs": [
    {
     "name": "stdout",
     "output_type": "stream",
     "text": [
      "121.37188663699624\n"
     ]
    }
   ],
   "source": [
    "summa = 0\n",
    "for i in range(5):\n",
    "    for j in range(5):\n",
    "        if i == j:\n",
    "            summa += big_secret[:, 0:5][i, j]\n",
    "print(summa)"
   ]
  },
  {
   "cell_type": "code",
   "execution_count": 55,
   "metadata": {
    "scrolled": true
   },
   "outputs": [
    {
     "data": {
      "text/plain": [
       "array([[ 460.        ,  276.        ,  686.        ,  490.        ,\n",
       "         294.        ],\n",
       "       [  33.04542328,   33.07567082,   33.10589071,   33.13608305,\n",
       "          33.1662479 ],\n",
       "       [2116.        , 2209.        , 2304.        , 2401.        ,\n",
       "        2500.        ],\n",
       "       [  33.04542328,   33.07567082,   33.10589071,   33.13608305,\n",
       "          33.1662479 ],\n",
       "       [ 460.        ,  276.        ,  686.        ,  490.        ,\n",
       "         294.        ]])"
      ]
     },
     "execution_count": 55,
     "metadata": {},
     "output_type": "execute_result"
    }
   ],
   "source": [
    "big_secret[:, 46:51]"
   ]
  },
  {
   "cell_type": "code",
   "execution_count": 67,
   "metadata": {},
   "outputs": [
    {
     "name": "stdout",
     "output_type": "stream",
     "text": [
      "341505315559.2347\n"
     ]
    }
   ],
   "source": [
    "prod = 1\n",
    "for i in range(5):\n",
    "    for j in range(5):\n",
    "        if i == j:\n",
    "            #print(big_secret[:, 46:51][i, j])\n",
    "            prod *= big_secret[:, 46:51][i, j]\n",
    "print(prod)"
   ]
  },
  {
   "cell_type": "code",
   "execution_count": 60,
   "metadata": {},
   "outputs": [
    {
     "name": "stdout",
     "output_type": "stream",
     "text": [
      "341505315559.2347\n"
     ]
    }
   ],
   "source": [
    "bs2 = big_secret[:,-5:]\n",
    "prod_diag = bs2.diagonal().prod()\n",
    "print(prod_diag)"
   ]
  },
  {
   "cell_type": "code",
   "execution_count": 68,
   "metadata": {
    "scrolled": true
   },
   "outputs": [
    {
     "data": {
      "text/plain": [
       "array([[29,  1, 33, 76, 18, 83],\n",
       "       [46, 53, 15, 28, 76, 61],\n",
       "       [66, 36, 47, 62, 32, 27],\n",
       "       [49, 81, 31, 93, 44, 26]])"
      ]
     },
     "execution_count": 68,
     "metadata": {},
     "output_type": "execute_result"
    }
   ],
   "source": [
    "my_array = np.random.randint(1, 100, (4, 6))\n",
    "my_array"
   ]
  },
  {
   "cell_type": "code",
   "execution_count": 69,
   "metadata": {},
   "outputs": [
    {
     "data": {
      "text/plain": [
       "array([[15, 28],\n",
       "       [47, 62]])"
      ]
     },
     "execution_count": 69,
     "metadata": {},
     "output_type": "execute_result"
    }
   ],
   "source": [
    "my_slice = my_array[1:3, 2:4]\n",
    "my_slice"
   ]
  },
  {
   "cell_type": "code",
   "execution_count": 70,
   "metadata": {},
   "outputs": [],
   "source": [
    "my_slice[:] = 0"
   ]
  },
  {
   "cell_type": "code",
   "execution_count": 71,
   "metadata": {
    "scrolled": true
   },
   "outputs": [
    {
     "data": {
      "text/plain": [
       "array([[29,  1, 33, 76, 18, 83],\n",
       "       [46, 53,  0,  0, 76, 61],\n",
       "       [66, 36,  0,  0, 32, 27],\n",
       "       [49, 81, 31, 93, 44, 26]])"
      ]
     },
     "execution_count": 71,
     "metadata": {},
     "output_type": "execute_result"
    }
   ],
   "source": [
    "my_array"
   ]
  },
  {
   "cell_type": "code",
   "execution_count": 72,
   "metadata": {},
   "outputs": [
    {
     "data": {
      "text/plain": [
       "array([[1.40000000e+01, 1.00000000e+01, 6.00000000e+00, 5.60000000e+01,\n",
       "        4.00000000e+01, 2.40000000e+01, 9.80000000e+01, 7.00000000e+01,\n",
       "        4.20000000e+01, 1.40000000e+02, 1.00000000e+02, 6.00000000e+01,\n",
       "        1.82000000e+02, 1.30000000e+02, 7.80000000e+01, 2.24000000e+02,\n",
       "        1.60000000e+02, 9.60000000e+01, 2.66000000e+02, 1.90000000e+02,\n",
       "        1.14000000e+02, 3.08000000e+02, 2.20000000e+02, 1.32000000e+02,\n",
       "        3.50000000e+02, 2.50000000e+02, 1.50000000e+02, 3.92000000e+02,\n",
       "        2.80000000e+02, 1.68000000e+02, 4.34000000e+02, 3.10000000e+02,\n",
       "        1.86000000e+02, 4.76000000e+02, 3.40000000e+02, 2.04000000e+02,\n",
       "        5.18000000e+02, 3.70000000e+02, 2.22000000e+02, 5.60000000e+02,\n",
       "        4.00000000e+02, 2.40000000e+02, 6.02000000e+02, 4.30000000e+02,\n",
       "        2.58000000e+02, 6.44000000e+02, 4.60000000e+02, 2.76000000e+02,\n",
       "        6.86000000e+02, 4.90000000e+02, 2.94000000e+02],\n",
       "       [3.16227766e+01, 3.16543836e+01, 3.16859590e+01, 3.17175031e+01,\n",
       "        3.17490157e+01, 3.17804972e+01, 3.18119474e+01, 3.18433667e+01,\n",
       "        3.18747549e+01, 3.19061123e+01, 3.19374388e+01, 3.19687347e+01,\n",
       "        3.20000000e+01, 3.20312348e+01, 3.20624391e+01, 3.20936131e+01,\n",
       "        3.21247568e+01, 3.21558704e+01, 3.21869539e+01, 3.22180074e+01,\n",
       "        3.22490310e+01, 3.22800248e+01, 3.23109888e+01, 3.23419233e+01,\n",
       "        3.23728281e+01, 3.24037035e+01, 3.24345495e+01, 3.24653662e+01,\n",
       "        3.24961536e+01, 3.25269119e+01, 3.25576412e+01, 3.25883415e+01,\n",
       "        3.26190129e+01, 3.26496554e+01, 3.26802693e+01, 3.27108545e+01,\n",
       "        3.27414111e+01, 3.27719392e+01, 3.28024389e+01, 3.28329103e+01,\n",
       "        3.28633535e+01, 3.28937684e+01, 3.29241553e+01, 3.29545141e+01,\n",
       "        3.29848450e+01, 3.30151480e+01, 3.30454233e+01, 3.30756708e+01,\n",
       "        3.31058907e+01, 3.31360831e+01, 3.31662479e+01],\n",
       "       [0.00000000e+00, 1.00000000e+00, 4.00000000e+00, 9.00000000e+00,\n",
       "        1.60000000e+01, 2.50000000e+01, 3.60000000e+01, 4.90000000e+01,\n",
       "        6.40000000e+01, 8.10000000e+01, 1.00000000e+02, 1.21000000e+02,\n",
       "        1.44000000e+02, 1.69000000e+02, 1.96000000e+02, 2.25000000e+02,\n",
       "        2.56000000e+02, 2.89000000e+02, 3.24000000e+02, 3.61000000e+02,\n",
       "        4.00000000e+02, 4.41000000e+02, 4.84000000e+02, 5.29000000e+02,\n",
       "        5.76000000e+02, 6.25000000e+02, 6.76000000e+02, 7.29000000e+02,\n",
       "        7.84000000e+02, 8.41000000e+02, 9.00000000e+02, 9.61000000e+02,\n",
       "        1.02400000e+03, 1.08900000e+03, 1.15600000e+03, 1.22500000e+03,\n",
       "        1.29600000e+03, 1.36900000e+03, 1.44400000e+03, 1.52100000e+03,\n",
       "        1.60000000e+03, 1.68100000e+03, 1.76400000e+03, 1.84900000e+03,\n",
       "        1.93600000e+03, 2.02500000e+03, 2.11600000e+03, 2.20900000e+03,\n",
       "        2.30400000e+03, 2.40100000e+03, 2.50000000e+03],\n",
       "       [3.16227766e+01, 3.16543836e+01, 3.16859590e+01, 3.17175031e+01,\n",
       "        3.17490157e+01, 3.17804972e+01, 3.18119474e+01, 3.18433667e+01,\n",
       "        3.18747549e+01, 3.19061123e+01, 3.19374388e+01, 3.19687347e+01,\n",
       "        3.20000000e+01, 3.20312348e+01, 3.20624391e+01, 3.20936131e+01,\n",
       "        3.21247568e+01, 3.21558704e+01, 3.21869539e+01, 3.22180074e+01,\n",
       "        3.22490310e+01, 3.22800248e+01, 3.23109888e+01, 3.23419233e+01,\n",
       "        3.23728281e+01, 3.24037035e+01, 3.24345495e+01, 3.24653662e+01,\n",
       "        3.24961536e+01, 3.25269119e+01, 3.25576412e+01, 3.25883415e+01,\n",
       "        3.26190129e+01, 3.26496554e+01, 3.26802693e+01, 3.27108545e+01,\n",
       "        3.27414111e+01, 3.27719392e+01, 3.28024389e+01, 3.28329103e+01,\n",
       "        3.28633535e+01, 3.28937684e+01, 3.29241553e+01, 3.29545141e+01,\n",
       "        3.29848450e+01, 3.30151480e+01, 3.30454233e+01, 3.30756708e+01,\n",
       "        3.31058907e+01, 3.31360831e+01, 3.31662479e+01],\n",
       "       [1.40000000e+01, 1.00000000e+01, 6.00000000e+00, 5.60000000e+01,\n",
       "        4.00000000e+01, 2.40000000e+01, 9.80000000e+01, 7.00000000e+01,\n",
       "        4.20000000e+01, 1.40000000e+02, 1.00000000e+02, 6.00000000e+01,\n",
       "        1.82000000e+02, 1.30000000e+02, 7.80000000e+01, 2.24000000e+02,\n",
       "        1.60000000e+02, 9.60000000e+01, 2.66000000e+02, 1.90000000e+02,\n",
       "        1.14000000e+02, 3.08000000e+02, 2.20000000e+02, 1.32000000e+02,\n",
       "        3.50000000e+02, 2.50000000e+02, 1.50000000e+02, 3.92000000e+02,\n",
       "        2.80000000e+02, 1.68000000e+02, 4.34000000e+02, 3.10000000e+02,\n",
       "        1.86000000e+02, 4.76000000e+02, 3.40000000e+02, 2.04000000e+02,\n",
       "        5.18000000e+02, 3.70000000e+02, 2.22000000e+02, 5.60000000e+02,\n",
       "        4.00000000e+02, 2.40000000e+02, 6.02000000e+02, 4.30000000e+02,\n",
       "        2.58000000e+02, 6.44000000e+02, 4.60000000e+02, 2.76000000e+02,\n",
       "        6.86000000e+02, 4.90000000e+02, 2.94000000e+02]])"
      ]
     },
     "execution_count": 72,
     "metadata": {},
     "output_type": "execute_result"
    }
   ],
   "source": [
    "big_secret"
   ]
  },
  {
   "cell_type": "code",
   "execution_count": 73,
   "metadata": {},
   "outputs": [
    {
     "data": {
      "text/plain": [
       "(5, 51)"
      ]
     },
     "execution_count": 73,
     "metadata": {},
     "output_type": "execute_result"
    }
   ],
   "source": [
    "big_secret.shape"
   ]
  },
  {
   "cell_type": "code",
   "execution_count": 79,
   "metadata": {},
   "outputs": [
    {
     "data": {
      "text/plain": [
       "array([[-1.00000000e+00,  1.00000000e+01, -1.00000000e+00,\n",
       "         5.60000000e+01, -1.00000000e+00,  2.40000000e+01,\n",
       "        -1.00000000e+00,  7.00000000e+01, -1.00000000e+00,\n",
       "         1.40000000e+02, -1.00000000e+00,  6.00000000e+01,\n",
       "        -1.00000000e+00,  1.30000000e+02, -1.00000000e+00,\n",
       "         2.24000000e+02, -1.00000000e+00,  9.60000000e+01,\n",
       "        -1.00000000e+00,  1.90000000e+02, -1.00000000e+00,\n",
       "         3.08000000e+02, -1.00000000e+00,  1.32000000e+02,\n",
       "        -1.00000000e+00,  2.50000000e+02, -1.00000000e+00,\n",
       "         3.92000000e+02, -1.00000000e+00,  1.68000000e+02,\n",
       "        -1.00000000e+00,  3.10000000e+02, -1.00000000e+00,\n",
       "         4.76000000e+02, -1.00000000e+00,  2.04000000e+02,\n",
       "        -1.00000000e+00,  3.70000000e+02, -1.00000000e+00,\n",
       "         5.60000000e+02, -1.00000000e+00,  2.40000000e+02,\n",
       "        -1.00000000e+00,  4.30000000e+02, -1.00000000e+00,\n",
       "         6.44000000e+02, -1.00000000e+00,  2.76000000e+02,\n",
       "        -1.00000000e+00,  4.90000000e+02, -1.00000000e+00],\n",
       "       [ 3.16227766e+01,  1.00000000e+00,  3.16859590e+01,\n",
       "         1.00000000e+00,  3.17490157e+01,  1.00000000e+00,\n",
       "         3.18119474e+01,  1.00000000e+00,  3.18747549e+01,\n",
       "         1.00000000e+00,  3.19374388e+01,  1.00000000e+00,\n",
       "         3.20000000e+01,  1.00000000e+00,  3.20624391e+01,\n",
       "         1.00000000e+00,  3.21247568e+01,  1.00000000e+00,\n",
       "         3.21869539e+01,  1.00000000e+00,  3.22490310e+01,\n",
       "         1.00000000e+00,  3.23109888e+01,  1.00000000e+00,\n",
       "         3.23728281e+01,  1.00000000e+00,  3.24345495e+01,\n",
       "         1.00000000e+00,  3.24961536e+01,  1.00000000e+00,\n",
       "         3.25576412e+01,  1.00000000e+00,  3.26190129e+01,\n",
       "         1.00000000e+00,  3.26802693e+01,  1.00000000e+00,\n",
       "         3.27414111e+01,  1.00000000e+00,  3.28024389e+01,\n",
       "         1.00000000e+00,  3.28633535e+01,  1.00000000e+00,\n",
       "         3.29241553e+01,  1.00000000e+00,  3.29848450e+01,\n",
       "         1.00000000e+00,  3.30454233e+01,  1.00000000e+00,\n",
       "         3.31058907e+01,  1.00000000e+00,  3.31662479e+01],\n",
       "       [-1.00000000e+00,  1.00000000e+00, -1.00000000e+00,\n",
       "         9.00000000e+00, -1.00000000e+00,  2.50000000e+01,\n",
       "        -1.00000000e+00,  4.90000000e+01, -1.00000000e+00,\n",
       "         8.10000000e+01, -1.00000000e+00,  1.21000000e+02,\n",
       "        -1.00000000e+00,  1.69000000e+02, -1.00000000e+00,\n",
       "         2.25000000e+02, -1.00000000e+00,  2.89000000e+02,\n",
       "        -1.00000000e+00,  3.61000000e+02, -1.00000000e+00,\n",
       "         4.41000000e+02, -1.00000000e+00,  5.29000000e+02,\n",
       "        -1.00000000e+00,  6.25000000e+02, -1.00000000e+00,\n",
       "         7.29000000e+02, -1.00000000e+00,  8.41000000e+02,\n",
       "        -1.00000000e+00,  9.61000000e+02, -1.00000000e+00,\n",
       "         1.08900000e+03, -1.00000000e+00,  1.22500000e+03,\n",
       "        -1.00000000e+00,  1.36900000e+03, -1.00000000e+00,\n",
       "         1.52100000e+03, -1.00000000e+00,  1.68100000e+03,\n",
       "        -1.00000000e+00,  1.84900000e+03, -1.00000000e+00,\n",
       "         2.02500000e+03, -1.00000000e+00,  2.20900000e+03,\n",
       "        -1.00000000e+00,  2.40100000e+03, -1.00000000e+00],\n",
       "       [ 3.16227766e+01,  1.00000000e+00,  3.16859590e+01,\n",
       "         1.00000000e+00,  3.17490157e+01,  1.00000000e+00,\n",
       "         3.18119474e+01,  1.00000000e+00,  3.18747549e+01,\n",
       "         1.00000000e+00,  3.19374388e+01,  1.00000000e+00,\n",
       "         3.20000000e+01,  1.00000000e+00,  3.20624391e+01,\n",
       "         1.00000000e+00,  3.21247568e+01,  1.00000000e+00,\n",
       "         3.21869539e+01,  1.00000000e+00,  3.22490310e+01,\n",
       "         1.00000000e+00,  3.23109888e+01,  1.00000000e+00,\n",
       "         3.23728281e+01,  1.00000000e+00,  3.24345495e+01,\n",
       "         1.00000000e+00,  3.24961536e+01,  1.00000000e+00,\n",
       "         3.25576412e+01,  1.00000000e+00,  3.26190129e+01,\n",
       "         1.00000000e+00,  3.26802693e+01,  1.00000000e+00,\n",
       "         3.27414111e+01,  1.00000000e+00,  3.28024389e+01,\n",
       "         1.00000000e+00,  3.28633535e+01,  1.00000000e+00,\n",
       "         3.29241553e+01,  1.00000000e+00,  3.29848450e+01,\n",
       "         1.00000000e+00,  3.30454233e+01,  1.00000000e+00,\n",
       "         3.31058907e+01,  1.00000000e+00,  3.31662479e+01],\n",
       "       [-1.00000000e+00,  1.00000000e+01, -1.00000000e+00,\n",
       "         5.60000000e+01, -1.00000000e+00,  2.40000000e+01,\n",
       "        -1.00000000e+00,  7.00000000e+01, -1.00000000e+00,\n",
       "         1.40000000e+02, -1.00000000e+00,  6.00000000e+01,\n",
       "        -1.00000000e+00,  1.30000000e+02, -1.00000000e+00,\n",
       "         2.24000000e+02, -1.00000000e+00,  9.60000000e+01,\n",
       "        -1.00000000e+00,  1.90000000e+02, -1.00000000e+00,\n",
       "         3.08000000e+02, -1.00000000e+00,  1.32000000e+02,\n",
       "        -1.00000000e+00,  2.50000000e+02, -1.00000000e+00,\n",
       "         3.92000000e+02, -1.00000000e+00,  1.68000000e+02,\n",
       "        -1.00000000e+00,  3.10000000e+02, -1.00000000e+00,\n",
       "         4.76000000e+02, -1.00000000e+00,  2.04000000e+02,\n",
       "        -1.00000000e+00,  3.70000000e+02, -1.00000000e+00,\n",
       "         5.60000000e+02, -1.00000000e+00,  2.40000000e+02,\n",
       "        -1.00000000e+00,  4.30000000e+02, -1.00000000e+00,\n",
       "         6.44000000e+02, -1.00000000e+00,  2.76000000e+02,\n",
       "        -1.00000000e+00,  4.90000000e+02, -1.00000000e+00]])"
      ]
     },
     "execution_count": 79,
     "metadata": {},
     "output_type": "execute_result"
    }
   ],
   "source": [
    "big_secret[0::2, 0::2] = -1\n",
    "big_secret[1::2, 1::2] = 1\n",
    "big_secret"
   ]
  },
  {
   "cell_type": "code",
   "execution_count": 80,
   "metadata": {},
   "outputs": [
    {
     "data": {
      "text/plain": [
       "array([[-1.        , 10.        , -1.        , 56.        , -1.        ],\n",
       "       [31.6227766 ,  1.        , 31.68595904,  1.        , 31.74901573],\n",
       "       [-1.        ,  1.        , -1.        ,  9.        , -1.        ],\n",
       "       [31.6227766 ,  1.        , 31.68595904,  1.        , 31.74901573],\n",
       "       [-1.        , 10.        , -1.        , 56.        , -1.        ]])"
      ]
     },
     "execution_count": 80,
     "metadata": {},
     "output_type": "execute_result"
    }
   ],
   "source": [
    "big_secret[:, 0:5]"
   ]
  },
  {
   "cell_type": "code",
   "execution_count": 81,
   "metadata": {},
   "outputs": [
    {
     "data": {
      "text/plain": [
       "-1.0"
      ]
     },
     "execution_count": 81,
     "metadata": {},
     "output_type": "execute_result"
    }
   ],
   "source": [
    "big_secret[:, 0:5].diagonal().sum()"
   ]
  },
  {
   "cell_type": "code",
   "execution_count": 82,
   "metadata": {},
   "outputs": [
    {
     "data": {
      "text/plain": [
       "array([[-1.00000000e+00,  2.76000000e+02, -1.00000000e+00,\n",
       "         4.90000000e+02, -1.00000000e+00],\n",
       "       [ 3.30454233e+01,  1.00000000e+00,  3.31058907e+01,\n",
       "         1.00000000e+00,  3.31662479e+01],\n",
       "       [-1.00000000e+00,  2.20900000e+03, -1.00000000e+00,\n",
       "         2.40100000e+03, -1.00000000e+00],\n",
       "       [ 3.30454233e+01,  1.00000000e+00,  3.31058907e+01,\n",
       "         1.00000000e+00,  3.31662479e+01],\n",
       "       [-1.00000000e+00,  2.76000000e+02, -1.00000000e+00,\n",
       "         4.90000000e+02, -1.00000000e+00]])"
      ]
     },
     "execution_count": 82,
     "metadata": {},
     "output_type": "execute_result"
    }
   ],
   "source": [
    "big_secret[:,-5:]"
   ]
  },
  {
   "cell_type": "code",
   "execution_count": 83,
   "metadata": {},
   "outputs": [
    {
     "data": {
      "text/plain": [
       "-1.0"
      ]
     },
     "execution_count": 83,
     "metadata": {},
     "output_type": "execute_result"
    }
   ],
   "source": [
    "big_secret[:,-5:].diagonal().prod()"
   ]
  },
  {
   "cell_type": "code",
   "execution_count": 84,
   "metadata": {},
   "outputs": [],
   "source": [
    "a = np.array([3,6,9])\n",
    "b = np.array([12,15,18])"
   ]
  },
  {
   "cell_type": "code",
   "execution_count": 85,
   "metadata": {},
   "outputs": [
    {
     "name": "stdout",
     "output_type": "stream",
     "text": [
      "Сумма: [15 21 27]\n",
      "Разность: [9 9 9]\n",
      "Произведение: [ 36  90 162]\n",
      "Частное: [0.25 0.4  0.5 ]\n",
      "Умножение на число: [ 6 12 18]\n"
     ]
    }
   ],
   "source": [
    "result1 = a+b\n",
    "result2 = b-a\n",
    "result3 = a*b\n",
    "result4 = a/b\n",
    "result5 = a*2\n",
    "print('Сумма: {}\\nРазность: {}\\nПроизведение: {}\\nЧастное: {}\\nУмножение на число: {}'.format(result1, result2, result3, result4, result5))"
   ]
  },
  {
   "cell_type": "code",
   "execution_count": 86,
   "metadata": {},
   "outputs": [
    {
     "data": {
      "text/plain": [
       "array([[ 1,  6],\n",
       "       [ 2,  7],\n",
       "       [ 3,  8],\n",
       "       [ 4,  9],\n",
       "       [ 5, 10]])"
      ]
     },
     "execution_count": 86,
     "metadata": {},
     "output_type": "execute_result"
    }
   ],
   "source": [
    "my_array = np.array([[1,2,3,4,5], [6,7,8,9,10]])\n",
    "my_array.T"
   ]
  },
  {
   "cell_type": "code",
   "execution_count": 87,
   "metadata": {},
   "outputs": [
    {
     "data": {
      "text/plain": [
       "array([5, 9, 6, 5, 7, 8, 8, 9, 9, 6, 2, 0, 8, 5, 8, 0, 2, 8, 9, 9])"
      ]
     },
     "execution_count": 87,
     "metadata": {},
     "output_type": "execute_result"
    }
   ],
   "source": [
    "my_array = np.random.randint(0, 10, 20)\n",
    "my_array"
   ]
  },
  {
   "cell_type": "code",
   "execution_count": 90,
   "metadata": {},
   "outputs": [],
   "source": [
    "new_array = my_array.reshape((4,5))"
   ]
  },
  {
   "cell_type": "code",
   "execution_count": 91,
   "metadata": {},
   "outputs": [
    {
     "data": {
      "text/plain": [
       "array([[5, 9, 6, 5, 7],\n",
       "       [8, 8, 9, 9, 6],\n",
       "       [2, 0, 8, 5, 8],\n",
       "       [0, 2, 8, 9, 9]])"
      ]
     },
     "execution_count": 91,
     "metadata": {},
     "output_type": "execute_result"
    }
   ],
   "source": [
    "new_array"
   ]
  },
  {
   "cell_type": "code",
   "execution_count": 92,
   "metadata": {},
   "outputs": [
    {
     "data": {
      "text/plain": [
       "array([  1,   2,   3,  11,  22,  33, 111, 222, 333])"
      ]
     },
     "execution_count": 92,
     "metadata": {},
     "output_type": "execute_result"
    }
   ],
   "source": [
    "my_array = np.array([[1,2,3], [11,22,33], [111,222,333]])\n",
    "my_array.flatten()"
   ]
  },
  {
   "cell_type": "code",
   "execution_count": 93,
   "metadata": {},
   "outputs": [
    {
     "data": {
      "text/plain": [
       "array([[0, 9, 7, 0],\n",
       "       [7, 8, 8, 7],\n",
       "       [7, 5, 3, 8]])"
      ]
     },
     "execution_count": 93,
     "metadata": {},
     "output_type": "execute_result"
    }
   ],
   "source": [
    "my_array = np.random.randint(0, 10, (3,4))\n",
    "my_array"
   ]
  },
  {
   "cell_type": "code",
   "execution_count": 94,
   "metadata": {},
   "outputs": [
    {
     "data": {
      "text/plain": [
       "array([[ True, False, False,  True],\n",
       "       [False, False, False, False],\n",
       "       [False, False,  True, False]])"
      ]
     },
     "execution_count": 94,
     "metadata": {},
     "output_type": "execute_result"
    }
   ],
   "source": [
    "my_array < 5"
   ]
  },
  {
   "cell_type": "code",
   "execution_count": 95,
   "metadata": {},
   "outputs": [
    {
     "data": {
      "text/plain": [
       "array([0, 0, 3])"
      ]
     },
     "execution_count": 95,
     "metadata": {},
     "output_type": "execute_result"
    }
   ],
   "source": [
    "my_array[my_array < 5]"
   ]
  },
  {
   "cell_type": "code",
   "execution_count": 96,
   "metadata": {
    "scrolled": true
   },
   "outputs": [
    {
     "data": {
      "text/plain": [
       "array([[0, 7],\n",
       "       [7, 8],\n",
       "       [7, 3]])"
      ]
     },
     "execution_count": 96,
     "metadata": {},
     "output_type": "execute_result"
    }
   ],
   "source": [
    "mask = np.array([1, 0, 1, 0], dtype=bool)\n",
    "my_array[:, mask]"
   ]
  },
  {
   "cell_type": "code",
   "execution_count": 97,
   "metadata": {},
   "outputs": [
    {
     "data": {
      "text/plain": [
       "array([[9, 6, 3, 6, 0, 1],\n",
       "       [7, 8, 4, 2, 9, 3],\n",
       "       [8, 2, 6, 0, 9, 6],\n",
       "       [3, 7, 4, 7, 1, 4]])"
      ]
     },
     "execution_count": 97,
     "metadata": {},
     "output_type": "execute_result"
    }
   ],
   "source": [
    "my_array = np.random.randint(0, 10, (4, 6))\n",
    "my_array"
   ]
  },
  {
   "cell_type": "code",
   "execution_count": 98,
   "metadata": {},
   "outputs": [
    {
     "data": {
      "text/plain": [
       "array([[0, 1, 3, 6, 6, 9],\n",
       "       [2, 3, 4, 7, 8, 9],\n",
       "       [0, 2, 6, 6, 8, 9],\n",
       "       [1, 3, 4, 4, 7, 7]])"
      ]
     },
     "execution_count": 98,
     "metadata": {},
     "output_type": "execute_result"
    }
   ],
   "source": [
    "np.sort(my_array, axis=1)"
   ]
  },
  {
   "cell_type": "code",
   "execution_count": 99,
   "metadata": {
    "scrolled": true
   },
   "outputs": [
    {
     "data": {
      "text/plain": [
       "array([[3, 2, 3, 0, 0, 1],\n",
       "       [7, 6, 4, 2, 1, 3],\n",
       "       [8, 7, 4, 6, 9, 4],\n",
       "       [9, 8, 6, 7, 9, 6]])"
      ]
     },
     "execution_count": 99,
     "metadata": {},
     "output_type": "execute_result"
    }
   ],
   "source": [
    "np.sort(my_array, axis=0)"
   ]
  },
  {
   "cell_type": "code",
   "execution_count": 101,
   "metadata": {},
   "outputs": [
    {
     "name": "stdout",
     "output_type": "stream",
     "text": [
      "[0.0, 1.0, 1.4142135623730951, 1.7320508075688772, 2.0, 2.23606797749979, 2.449489742783178, 2.6457513110645907, 2.8284271247461903, 3.0, 3.1622776601683795, 3.3166247903554, 3.4641016151377544, 3.605551275463989, 3.7416573867739413, 3.872983346207417, 4.0, 4.123105625617661, 4.242640687119285, 4.358898943540674, 4.47213595499958, 4.58257569495584, 4.69041575982343, 4.795831523312719, 4.898979485566356, 5.0, 5.0990195135927845, 5.196152422706632, 5.291502622129181, 5.385164807134504, 5.477225575051661, 5.5677643628300215, 5.656854249492381, 5.744562646538029, 5.830951894845301, 5.916079783099616, 6.0, 6.082762530298219, 6.164414002968976, 6.244997998398398, 6.324555320336759, 6.4031242374328485, 6.48074069840786, 6.557438524302, 6.6332495807108, 6.708203932499369, 6.782329983125268, 6.855654600401044, 6.928203230275509, 7.0, 7.0710678118654755, 7.14142842854285, 7.211102550927978, 7.280109889280518, 7.3484692283495345, 7.416198487095663, 7.483314773547883, 7.54983443527075, 7.615773105863909, 7.681145747868608, 7.745966692414834, 7.810249675906654, 7.874007874011811, 7.937253933193772, 8.0, 8.06225774829855, 8.12403840463596, 8.18535277187245, 8.246211251235321, 8.306623862918075, 8.366600265340756, 8.426149773176359, 8.48528137423857, 8.54400374531753, 8.602325267042627, 8.660254037844387, 8.717797887081348, 8.774964387392123, 8.831760866327848, 8.888194417315589, 8.94427190999916, 9.0, 9.055385138137417, 9.1104335791443, 9.16515138991168, 9.219544457292887, 9.273618495495704, 9.327379053088816, 9.38083151964686, 9.433981132056603, 9.486832980505138, 9.539392014169456, 9.591663046625438, 9.643650760992955, 9.695359714832659, 9.746794344808963, 9.797958971132712, 9.848857801796104, 9.899494936611665, 9.9498743710662]\n"
     ]
    }
   ],
   "source": [
    "first = [x**(1/2) for x in range(100)]\n",
    "print(first)"
   ]
  },
  {
   "cell_type": "code",
   "execution_count": 104,
   "metadata": {},
   "outputs": [
    {
     "name": "stdout",
     "output_type": "stream",
     "text": [
      "[4.641588833612778, 4.657009507803835, 4.672328728355259, 4.687548147653597, 4.7026693754415145, 4.7176939803165325, 4.732623491163368, 4.7474593985234, 4.762203155904598, 4.776856181035017, 4.791419857062784, 4.805895533705332, 4.820284528350459, 4.834588127111639, 4.848807585839879, 4.862944131094279, 4.876998961073313, 4.890973246508748, 4.904868131524016, 4.9186847344587274, 4.93242414866094, 4.9460874432487, 4.9596756638423, 4.97318983326859, 4.986630952238645, 5.0, 5.0132979349645845, 5.026525695313479, 5.039684199579492, 5.05277434720856, 5.065797019100886, 5.0787530781327, 5.091643369659488, 5.104468722001463, 5.117229946912048, 5.12992784003009, 5.14256318131647, 5.155136735475772, 5.167649252363622, 5.180101467380292, 5.1924941018511035, 5.2048278633942004, 5.217103446276167, 5.229321531755983, 5.241482788417793, 5.253587872492901, 5.265637428171437, 5.277632087904076, 5.289572472694207, 5.301459192380904, 5.313292845913055, 5.325074021614986, 5.336803297443889, 5.348481241239363, 5.3601084109653625, 5.371685354944832, 5.383212612087283, 5.394690712109591, 5.406120175750225, 5.41750151497718, 5.428835233189813, 5.4401218254147965, 5.451361778496419, 5.462555571281397, 5.473703674798427, 5.484806552432618, 5.4958646600950125, 5.506878446387352, 5.517848352762241, 5.528774813678871, 5.539658256754464, 5.550499102911546, 5.561297766521235, 5.5720546555426225, 5.5827701716584235, 5.593444710406984, 5.604078661310774, 5.61467240800149, 5.6252263283418555, 5.635740794544236, 5.64621617328617, 5.65665282582291, 5.667051108097064, 5.677411370845432, 5.68773395970313, 5.698019215305065, 5.708267473384861, 5.718479064871316, 5.728654315982437, 5.738793548317167, 5.748897078944831, 5.758965220492401, 5.768998281229633, 5.778996565152129, 5.788960372062403, 5.798889997648997, 5.808785733563703, 5.818647867496961, 5.828476683251456, 5.838272460814002]\n"
     ]
    }
   ],
   "source": [
    "second = [x**(1/3) for x in range(100, 200)]\n",
    "print(second)"
   ]
  },
  {
   "cell_type": "code",
   "execution_count": 107,
   "metadata": {},
   "outputs": [
    {
     "name": "stdout",
     "output_type": "stream",
     "text": [
      "[66.66666666666667, 40.0, 67.33333333333333, 40.4, 68.0, 40.8, 68.66666666666667, 41.2, 69.33333333333333, 41.6, 70.0, 42.0, 70.66666666666667, 42.4, 71.33333333333333, 42.8, 72.0, 43.2, 72.66666666666667, 43.6, 73.33333333333333, 44.0, 74.0, 44.4, 74.66666666666667, 44.8, 75.33333333333333, 45.2, 76.0, 45.6, 76.66666666666667, 46.0, 77.33333333333333, 46.4, 78.0, 46.8, 78.66666666666667, 47.2, 79.33333333333333, 47.6, 80.0, 48.0, 80.66666666666667, 48.4, 81.33333333333333, 48.8, 82.0, 49.2, 82.66666666666667, 49.6, 83.33333333333333, 50.0, 84.0, 50.4, 84.66666666666667, 50.8, 85.33333333333333, 51.2, 86.0, 51.6, 86.66666666666667, 52.0, 87.33333333333333, 52.4, 88.0, 52.8, 88.66666666666667, 53.2, 89.33333333333333, 53.6, 90.0, 54.0, 90.66666666666667, 54.4, 91.33333333333333, 54.8, 92.0, 55.2, 92.66666666666667, 55.6, 93.33333333333333, 56.0, 94.0, 56.4, 94.66666666666667, 56.8, 95.33333333333333, 57.2, 96.0, 57.6, 96.66666666666667, 58.0, 97.33333333333333, 58.4, 98.0, 58.8, 98.66666666666667, 59.2, 99.33333333333333, 59.6]\n"
     ]
    }
   ],
   "source": [
    "third = [x/y for x in range(200,300,2) for y in [3,5]]\n",
    "print(third)"
   ]
  },
  {
   "cell_type": "code",
   "execution_count": 108,
   "metadata": {},
   "outputs": [
    {
     "data": {
      "text/plain": [
       "array([[ 0.        ,  4.64158883, 66.66666667],\n",
       "       [ 1.        ,  4.65700951, 40.        ],\n",
       "       [ 1.41421356,  4.67232873, 67.33333333],\n",
       "       [ 1.73205081,  4.68754815, 40.4       ],\n",
       "       [ 2.        ,  4.70266938, 68.        ],\n",
       "       [ 2.23606798,  4.71769398, 40.8       ],\n",
       "       [ 2.44948974,  4.73262349, 68.66666667],\n",
       "       [ 2.64575131,  4.7474594 , 41.2       ],\n",
       "       [ 2.82842712,  4.76220316, 69.33333333],\n",
       "       [ 3.        ,  4.77685618, 41.6       ],\n",
       "       [ 3.16227766,  4.79141986, 70.        ],\n",
       "       [ 3.31662479,  4.80589553, 42.        ],\n",
       "       [ 3.46410162,  4.82028453, 70.66666667],\n",
       "       [ 3.60555128,  4.83458813, 42.4       ],\n",
       "       [ 3.74165739,  4.84880759, 71.33333333],\n",
       "       [ 3.87298335,  4.86294413, 42.8       ],\n",
       "       [ 4.        ,  4.87699896, 72.        ],\n",
       "       [ 4.12310563,  4.89097325, 43.2       ],\n",
       "       [ 4.24264069,  4.90486813, 72.66666667],\n",
       "       [ 4.35889894,  4.91868473, 43.6       ],\n",
       "       [ 4.47213595,  4.93242415, 73.33333333],\n",
       "       [ 4.58257569,  4.94608744, 44.        ],\n",
       "       [ 4.69041576,  4.95967566, 74.        ],\n",
       "       [ 4.79583152,  4.97318983, 44.4       ],\n",
       "       [ 4.89897949,  4.98663095, 74.66666667],\n",
       "       [ 5.        ,  5.        , 44.8       ],\n",
       "       [ 5.09901951,  5.01329793, 75.33333333],\n",
       "       [ 5.19615242,  5.0265257 , 45.2       ],\n",
       "       [ 5.29150262,  5.0396842 , 76.        ],\n",
       "       [ 5.38516481,  5.05277435, 45.6       ],\n",
       "       [ 5.47722558,  5.06579702, 76.66666667],\n",
       "       [ 5.56776436,  5.07875308, 46.        ],\n",
       "       [ 5.65685425,  5.09164337, 77.33333333],\n",
       "       [ 5.74456265,  5.10446872, 46.4       ],\n",
       "       [ 5.83095189,  5.11722995, 78.        ],\n",
       "       [ 5.91607978,  5.12992784, 46.8       ],\n",
       "       [ 6.        ,  5.14256318, 78.66666667],\n",
       "       [ 6.08276253,  5.15513674, 47.2       ],\n",
       "       [ 6.164414  ,  5.16764925, 79.33333333],\n",
       "       [ 6.244998  ,  5.18010147, 47.6       ],\n",
       "       [ 6.32455532,  5.1924941 , 80.        ],\n",
       "       [ 6.40312424,  5.20482786, 48.        ],\n",
       "       [ 6.4807407 ,  5.21710345, 80.66666667],\n",
       "       [ 6.55743852,  5.22932153, 48.4       ],\n",
       "       [ 6.63324958,  5.24148279, 81.33333333],\n",
       "       [ 6.70820393,  5.25358787, 48.8       ],\n",
       "       [ 6.78232998,  5.26563743, 82.        ],\n",
       "       [ 6.8556546 ,  5.27763209, 49.2       ],\n",
       "       [ 6.92820323,  5.28957247, 82.66666667],\n",
       "       [ 7.        ,  5.30145919, 49.6       ],\n",
       "       [ 7.07106781,  5.31329285, 83.33333333],\n",
       "       [ 7.14142843,  5.32507402, 50.        ],\n",
       "       [ 7.21110255,  5.3368033 , 84.        ],\n",
       "       [ 7.28010989,  5.34848124, 50.4       ],\n",
       "       [ 7.34846923,  5.36010841, 84.66666667],\n",
       "       [ 7.41619849,  5.37168535, 50.8       ],\n",
       "       [ 7.48331477,  5.38321261, 85.33333333],\n",
       "       [ 7.54983444,  5.39469071, 51.2       ],\n",
       "       [ 7.61577311,  5.40612018, 86.        ],\n",
       "       [ 7.68114575,  5.41750151, 51.6       ],\n",
       "       [ 7.74596669,  5.42883523, 86.66666667],\n",
       "       [ 7.81024968,  5.44012183, 52.        ],\n",
       "       [ 7.87400787,  5.45136178, 87.33333333],\n",
       "       [ 7.93725393,  5.46255557, 52.4       ],\n",
       "       [ 8.        ,  5.47370367, 88.        ],\n",
       "       [ 8.06225775,  5.48480655, 52.8       ],\n",
       "       [ 8.1240384 ,  5.49586466, 88.66666667],\n",
       "       [ 8.18535277,  5.50687845, 53.2       ],\n",
       "       [ 8.24621125,  5.51784835, 89.33333333],\n",
       "       [ 8.30662386,  5.52877481, 53.6       ],\n",
       "       [ 8.36660027,  5.53965826, 90.        ],\n",
       "       [ 8.42614977,  5.5504991 , 54.        ],\n",
       "       [ 8.48528137,  5.56129777, 90.66666667],\n",
       "       [ 8.54400375,  5.57205466, 54.4       ],\n",
       "       [ 8.60232527,  5.58277017, 91.33333333],\n",
       "       [ 8.66025404,  5.59344471, 54.8       ],\n",
       "       [ 8.71779789,  5.60407866, 92.        ],\n",
       "       [ 8.77496439,  5.61467241, 55.2       ],\n",
       "       [ 8.83176087,  5.62522633, 92.66666667],\n",
       "       [ 8.88819442,  5.63574079, 55.6       ],\n",
       "       [ 8.94427191,  5.64621617, 93.33333333],\n",
       "       [ 9.        ,  5.65665283, 56.        ],\n",
       "       [ 9.05538514,  5.66705111, 94.        ],\n",
       "       [ 9.11043358,  5.67741137, 56.4       ],\n",
       "       [ 9.16515139,  5.68773396, 94.66666667],\n",
       "       [ 9.21954446,  5.69801922, 56.8       ],\n",
       "       [ 9.2736185 ,  5.70826747, 95.33333333],\n",
       "       [ 9.32737905,  5.71847906, 57.2       ],\n",
       "       [ 9.38083152,  5.72865432, 96.        ],\n",
       "       [ 9.43398113,  5.73879355, 57.6       ],\n",
       "       [ 9.48683298,  5.74889708, 96.66666667],\n",
       "       [ 9.53939201,  5.75896522, 58.        ],\n",
       "       [ 9.59166305,  5.76899828, 97.33333333],\n",
       "       [ 9.64365076,  5.77899657, 58.4       ],\n",
       "       [ 9.69535971,  5.78896037, 98.        ],\n",
       "       [ 9.74679434,  5.79889   , 58.8       ],\n",
       "       [ 9.79795897,  5.80878573, 98.66666667],\n",
       "       [ 9.8488578 ,  5.81864787, 59.2       ],\n",
       "       [ 9.89949494,  5.82847668, 99.33333333],\n",
       "       [ 9.94987437,  5.83827246, 59.6       ]])"
      ]
     },
     "execution_count": 108,
     "metadata": {},
     "output_type": "execute_result"
    }
   ],
   "source": [
    "great_secret = np.array([first, second, third]).T\n",
    "great_secret"
   ]
  },
  {
   "cell_type": "code",
   "execution_count": 109,
   "metadata": {},
   "outputs": [
    {
     "data": {
      "text/plain": [
       "array([ 0.        ,  4.64158883, 66.66666667])"
      ]
     },
     "execution_count": 109,
     "metadata": {},
     "output_type": "execute_result"
    }
   ],
   "source": [
    "great_secret[0]"
   ]
  },
  {
   "cell_type": "code",
   "execution_count": 113,
   "metadata": {},
   "outputs": [
    {
     "data": {
      "text/plain": [
       "0.16006721889793019"
      ]
     },
     "execution_count": 113,
     "metadata": {},
     "output_type": "execute_result"
    }
   ],
   "source": [
    "np.cos(great_secret[0]).sum()"
   ]
  },
  {
   "cell_type": "code",
   "execution_count": 115,
   "metadata": {},
   "outputs": [
    {
     "data": {
      "text/plain": [
       "5470.0"
      ]
     },
     "execution_count": 115,
     "metadata": {},
     "output_type": "execute_result"
    }
   ],
   "source": [
    "great_secret[great_secret > 50].sum()"
   ]
  },
  {
   "cell_type": "code",
   "execution_count": 117,
   "metadata": {
    "scrolled": true
   },
   "outputs": [
    {
     "data": {
      "text/plain": [
       "7.0710678118654755"
      ]
     },
     "execution_count": 117,
     "metadata": {},
     "output_type": "execute_result"
    }
   ],
   "source": [
    "great_secret.flatten()[150]"
   ]
  },
  {
   "cell_type": "code",
   "execution_count": 118,
   "metadata": {},
   "outputs": [
    {
     "data": {
      "text/plain": [
       "array([[ 0.        ,  4.64158883, 40.        ],\n",
       "       [ 1.        ,  4.65700951, 40.4       ],\n",
       "       [ 1.41421356,  4.67232873, 40.8       ],\n",
       "       [ 1.73205081,  4.68754815, 41.2       ],\n",
       "       [ 2.        ,  4.70266938, 41.6       ],\n",
       "       [ 2.23606798,  4.71769398, 42.        ],\n",
       "       [ 2.44948974,  4.73262349, 42.4       ],\n",
       "       [ 2.64575131,  4.7474594 , 42.8       ],\n",
       "       [ 2.82842712,  4.76220316, 43.2       ],\n",
       "       [ 3.        ,  4.77685618, 43.6       ],\n",
       "       [ 3.16227766,  4.79141986, 44.        ],\n",
       "       [ 3.31662479,  4.80589553, 44.4       ],\n",
       "       [ 3.46410162,  4.82028453, 44.8       ],\n",
       "       [ 3.60555128,  4.83458813, 45.2       ],\n",
       "       [ 3.74165739,  4.84880759, 45.6       ],\n",
       "       [ 3.87298335,  4.86294413, 46.        ],\n",
       "       [ 4.        ,  4.87699896, 46.4       ],\n",
       "       [ 4.12310563,  4.89097325, 46.8       ],\n",
       "       [ 4.24264069,  4.90486813, 47.2       ],\n",
       "       [ 4.35889894,  4.91868473, 47.6       ],\n",
       "       [ 4.47213595,  4.93242415, 48.        ],\n",
       "       [ 4.58257569,  4.94608744, 48.4       ],\n",
       "       [ 4.69041576,  4.95967566, 48.8       ],\n",
       "       [ 4.79583152,  4.97318983, 49.2       ],\n",
       "       [ 4.89897949,  4.98663095, 49.6       ],\n",
       "       [ 5.        ,  5.        , 50.        ],\n",
       "       [ 5.09901951,  5.01329793, 50.4       ],\n",
       "       [ 5.19615242,  5.0265257 , 50.8       ],\n",
       "       [ 5.29150262,  5.0396842 , 51.2       ],\n",
       "       [ 5.38516481,  5.05277435, 51.6       ],\n",
       "       [ 5.47722558,  5.06579702, 52.        ],\n",
       "       [ 5.56776436,  5.07875308, 52.4       ],\n",
       "       [ 5.65685425,  5.09164337, 52.8       ],\n",
       "       [ 5.74456265,  5.10446872, 53.2       ],\n",
       "       [ 5.83095189,  5.11722995, 53.6       ],\n",
       "       [ 5.91607978,  5.12992784, 54.        ],\n",
       "       [ 6.        ,  5.14256318, 54.4       ],\n",
       "       [ 6.08276253,  5.15513674, 54.8       ],\n",
       "       [ 6.164414  ,  5.16764925, 55.2       ],\n",
       "       [ 6.244998  ,  5.18010147, 55.6       ],\n",
       "       [ 6.32455532,  5.1924941 , 56.        ],\n",
       "       [ 6.40312424,  5.20482786, 56.4       ],\n",
       "       [ 6.4807407 ,  5.21710345, 56.8       ],\n",
       "       [ 6.55743852,  5.22932153, 57.2       ],\n",
       "       [ 6.63324958,  5.24148279, 57.6       ],\n",
       "       [ 6.70820393,  5.25358787, 58.        ],\n",
       "       [ 6.78232998,  5.26563743, 58.4       ],\n",
       "       [ 6.8556546 ,  5.27763209, 58.8       ],\n",
       "       [ 6.92820323,  5.28957247, 59.2       ],\n",
       "       [ 7.        ,  5.30145919, 59.6       ],\n",
       "       [ 7.07106781,  5.31329285, 66.66666667],\n",
       "       [ 7.14142843,  5.32507402, 67.33333333],\n",
       "       [ 7.21110255,  5.3368033 , 68.        ],\n",
       "       [ 7.28010989,  5.34848124, 68.66666667],\n",
       "       [ 7.34846923,  5.36010841, 69.33333333],\n",
       "       [ 7.41619849,  5.37168535, 70.        ],\n",
       "       [ 7.48331477,  5.38321261, 70.66666667],\n",
       "       [ 7.54983444,  5.39469071, 71.33333333],\n",
       "       [ 7.61577311,  5.40612018, 72.        ],\n",
       "       [ 7.68114575,  5.41750151, 72.66666667],\n",
       "       [ 7.74596669,  5.42883523, 73.33333333],\n",
       "       [ 7.81024968,  5.44012183, 74.        ],\n",
       "       [ 7.87400787,  5.45136178, 74.66666667],\n",
       "       [ 7.93725393,  5.46255557, 75.33333333],\n",
       "       [ 8.        ,  5.47370367, 76.        ],\n",
       "       [ 8.06225775,  5.48480655, 76.66666667],\n",
       "       [ 8.1240384 ,  5.49586466, 77.33333333],\n",
       "       [ 8.18535277,  5.50687845, 78.        ],\n",
       "       [ 8.24621125,  5.51784835, 78.66666667],\n",
       "       [ 8.30662386,  5.52877481, 79.33333333],\n",
       "       [ 8.36660027,  5.53965826, 80.        ],\n",
       "       [ 8.42614977,  5.5504991 , 80.66666667],\n",
       "       [ 8.48528137,  5.56129777, 81.33333333],\n",
       "       [ 8.54400375,  5.57205466, 82.        ],\n",
       "       [ 8.60232527,  5.58277017, 82.66666667],\n",
       "       [ 8.66025404,  5.59344471, 83.33333333],\n",
       "       [ 8.71779789,  5.60407866, 84.        ],\n",
       "       [ 8.77496439,  5.61467241, 84.66666667],\n",
       "       [ 8.83176087,  5.62522633, 85.33333333],\n",
       "       [ 8.88819442,  5.63574079, 86.        ],\n",
       "       [ 8.94427191,  5.64621617, 86.66666667],\n",
       "       [ 9.        ,  5.65665283, 87.33333333],\n",
       "       [ 9.05538514,  5.66705111, 88.        ],\n",
       "       [ 9.11043358,  5.67741137, 88.66666667],\n",
       "       [ 9.16515139,  5.68773396, 89.33333333],\n",
       "       [ 9.21954446,  5.69801922, 90.        ],\n",
       "       [ 9.2736185 ,  5.70826747, 90.66666667],\n",
       "       [ 9.32737905,  5.71847906, 91.33333333],\n",
       "       [ 9.38083152,  5.72865432, 92.        ],\n",
       "       [ 9.43398113,  5.73879355, 92.66666667],\n",
       "       [ 9.48683298,  5.74889708, 93.33333333],\n",
       "       [ 9.53939201,  5.75896522, 94.        ],\n",
       "       [ 9.59166305,  5.76899828, 94.66666667],\n",
       "       [ 9.64365076,  5.77899657, 95.33333333],\n",
       "       [ 9.69535971,  5.78896037, 96.        ],\n",
       "       [ 9.74679434,  5.79889   , 96.66666667],\n",
       "       [ 9.79795897,  5.80878573, 97.33333333],\n",
       "       [ 9.8488578 ,  5.81864787, 98.        ],\n",
       "       [ 9.89949494,  5.82847668, 98.66666667],\n",
       "       [ 9.94987437,  5.83827246, 99.33333333]])"
      ]
     },
     "execution_count": 118,
     "metadata": {},
     "output_type": "execute_result"
    }
   ],
   "source": [
    "np.sort(great_secret, axis=0)"
   ]
  },
  {
   "cell_type": "code",
   "execution_count": 120,
   "metadata": {
    "scrolled": true
   },
   "outputs": [
    {
     "data": {
      "text/plain": [
       "115.12148016521353"
      ]
     },
     "execution_count": 120,
     "metadata": {},
     "output_type": "execute_result"
    }
   ],
   "source": [
    "np.sort(great_secret, axis=0)[-1].sum()"
   ]
  },
  {
   "cell_type": "code",
   "execution_count": 3,
   "metadata": {
    "scrolled": true
   },
   "outputs": [
    {
     "data": {
      "text/plain": [
       "array([[  1. , 135. ,  34. ,   4. ],\n",
       "       [  2. , 160. ,  43. ,   5. ],\n",
       "       [  3. , 163. ,  40. ,   4.3],\n",
       "       [  4. , 147. ,  44. ,   5. ],\n",
       "       [  5. , 138. ,  41. ,   4.7],\n",
       "       [  6. , 149. ,  54. ,   3.9],\n",
       "       [  7. , 136. ,  39. ,   4.2],\n",
       "       [  8. , 154. ,  48. ,   4.9],\n",
       "       [  9. , 137. ,  35. ,   3.7],\n",
       "       [ 10. , 165. ,  60. ,   4.6]])"
      ]
     },
     "execution_count": 3,
     "metadata": {},
     "output_type": "execute_result"
    }
   ],
   "source": [
    "students = np.array([[1,135,34,4], [2,160,43,5], [3,163,40,4.3], [4,147,44,5], [5,138,41,4.7],\n",
    "                     [6,149,54,3.9], [7,136,39,4.2], [8,154,48,4.9], [9,137,35,3.7], [10,165,60,4.6]])\n",
    "students"
   ]
  },
  {
   "cell_type": "code",
   "execution_count": 4,
   "metadata": {},
   "outputs": [
    {
     "data": {
      "text/plain": [
       "array([4. , 5. , 4.3, 5. , 4.7, 3.9, 4.2, 4.9, 3.7, 4.6])"
      ]
     },
     "execution_count": 4,
     "metadata": {},
     "output_type": "execute_result"
    }
   ],
   "source": [
    "students[:,-1]"
   ]
  },
  {
   "cell_type": "code",
   "execution_count": 5,
   "metadata": {},
   "outputs": [
    {
     "data": {
      "text/plain": [
       "4.430000000000001"
      ]
     },
     "execution_count": 5,
     "metadata": {},
     "output_type": "execute_result"
    }
   ],
   "source": [
    "mean = np.mean(students[:,-1])\n",
    "mean"
   ]
  },
  {
   "cell_type": "code",
   "execution_count": 6,
   "metadata": {},
   "outputs": [
    {
     "data": {
      "text/plain": [
       "4.449999999999999"
      ]
     },
     "execution_count": 6,
     "metadata": {},
     "output_type": "execute_result"
    }
   ],
   "source": [
    "median = np.median(students[:,-1])\n",
    "median"
   ]
  },
  {
   "cell_type": "code",
   "execution_count": 7,
   "metadata": {},
   "outputs": [
    {
     "data": {
      "text/plain": [
       "4.449999999999999"
      ]
     },
     "execution_count": 7,
     "metadata": {},
     "output_type": "execute_result"
    }
   ],
   "source": [
    "sort = np.sort(students[:,-1])\n",
    "(sort[4]+sort[5])/2"
   ]
  },
  {
   "cell_type": "code",
   "execution_count": 9,
   "metadata": {},
   "outputs": [
    {
     "data": {
      "text/plain": [
       "array([34., 43., 40., 44., 41., 54., 39., 48., 35., 60.])"
      ]
     },
     "execution_count": 9,
     "metadata": {},
     "output_type": "execute_result"
    }
   ],
   "source": [
    "students[:,2]"
   ]
  },
  {
   "cell_type": "code",
   "execution_count": 10,
   "metadata": {},
   "outputs": [
    {
     "data": {
      "text/plain": [
       "42.0"
      ]
     },
     "execution_count": 10,
     "metadata": {},
     "output_type": "execute_result"
    }
   ],
   "source": [
    "median = np.median(students[:,-2])\n",
    "median"
   ]
  },
  {
   "cell_type": "code",
   "execution_count": 11,
   "metadata": {},
   "outputs": [
    {
     "data": {
      "text/plain": [
       "1.7999999999999972"
      ]
     },
     "execution_count": 11,
     "metadata": {},
     "output_type": "execute_result"
    }
   ],
   "source": [
    "np.mean(students[:,-2]) - np.median(students[:,-2])"
   ]
  },
  {
   "cell_type": "code",
   "execution_count": 12,
   "metadata": {},
   "outputs": [
    {
     "data": {
      "text/plain": [
       "array([[1.        , 0.64314431],\n",
       "       [0.64314431, 1.        ]])"
      ]
     },
     "execution_count": 12,
     "metadata": {},
     "output_type": "execute_result"
    }
   ],
   "source": [
    "corr = np.corrcoef(students[:,1], students[:,2])\n",
    "corr"
   ]
  },
  {
   "cell_type": "code",
   "execution_count": 14,
   "metadata": {},
   "outputs": [
    {
     "data": {
      "text/plain": [
       "array([[1.        , 0.46293714],\n",
       "       [0.46293714, 1.        ]])"
      ]
     },
     "execution_count": 14,
     "metadata": {},
     "output_type": "execute_result"
    }
   ],
   "source": [
    "corr = np.corrcoef(students[:,1], students[:,3])\n",
    "corr"
   ]
  },
  {
   "cell_type": "code",
   "execution_count": 15,
   "metadata": {},
   "outputs": [
    {
     "data": {
      "text/plain": [
       "array([[1.        , 0.29801325],\n",
       "       [0.29801325, 1.        ]])"
      ]
     },
     "execution_count": 15,
     "metadata": {},
     "output_type": "execute_result"
    }
   ],
   "source": [
    "corr = np.corrcoef(students[:,2], students[:,3])\n",
    "corr"
   ]
  },
  {
   "cell_type": "code",
   "execution_count": 16,
   "metadata": {},
   "outputs": [
    {
     "data": {
      "text/plain": [
       "11.083320801997928"
      ]
     },
     "execution_count": 16,
     "metadata": {},
     "output_type": "execute_result"
    }
   ],
   "source": [
    "std = np.std(students[:,1])\n",
    "std"
   ]
  },
  {
   "cell_type": "code",
   "execution_count": 17,
   "metadata": {},
   "outputs": [
    {
     "data": {
      "text/plain": [
       "0.4517742799230607"
      ]
     },
     "execution_count": 17,
     "metadata": {},
     "output_type": "execute_result"
    }
   ],
   "source": [
    "std = np.std(students[:,-1])\n",
    "std"
   ]
  },
  {
   "cell_type": "code",
   "execution_count": 18,
   "metadata": {},
   "outputs": [
    {
     "data": {
      "text/plain": [
       "60.36"
      ]
     },
     "execution_count": 18,
     "metadata": {},
     "output_type": "execute_result"
    }
   ],
   "source": [
    "std = np.std(students[:, 2])\n",
    "std * std"
   ]
  },
  {
   "cell_type": "code",
   "execution_count": 19,
   "metadata": {},
   "outputs": [
    {
     "data": {
      "text/plain": [
       "array([[ 1,  2,  3,  4,  5],\n",
       "       [ 6,  7,  8,  9, 10],\n",
       "       [11, 12, 13, 14, 15],\n",
       "       [16, 17, 18, 19, 20],\n",
       "       [21, 22, 23, 24, 25]])"
      ]
     },
     "execution_count": 19,
     "metadata": {},
     "output_type": "execute_result"
    }
   ],
   "source": [
    "my_array = np.array([[1,2,3,4,5],\n",
    "                     [6,7,8,9,10],\n",
    "                     [11,12,13,14,15],\n",
    "                     [16,17,18,19,20],\n",
    "                     [21,22,23,24,25]])\n",
    "my_array"
   ]
  },
  {
   "cell_type": "code",
   "execution_count": 20,
   "metadata": {
    "scrolled": true
   },
   "outputs": [
    {
     "data": {
      "text/plain": [
       "array([[ 7,  8,  9],\n",
       "       [12, 13, 14],\n",
       "       [17, 18, 19]])"
      ]
     },
     "execution_count": 20,
     "metadata": {},
     "output_type": "execute_result"
    }
   ],
   "source": [
    "my_array[1:4, 1:4]"
   ]
  },
  {
   "cell_type": "code",
   "execution_count": 22,
   "metadata": {},
   "outputs": [
    {
     "data": {
      "text/plain": [
       "-0.05812430261413351"
      ]
     },
     "execution_count": 22,
     "metadata": {},
     "output_type": "execute_result"
    }
   ],
   "source": [
    "my_sin = np.sin(my_array)\n",
    "my_sin.sum()"
   ]
  },
  {
   "cell_type": "code",
   "execution_count": 25,
   "metadata": {},
   "outputs": [
    {
     "data": {
      "text/plain": [
       "7.571718421269144"
      ]
     },
     "execution_count": 25,
     "metadata": {},
     "output_type": "execute_result"
    }
   ],
   "source": [
    "my_sin[1:4, 1:4] = 1\n",
    "my_sin.sum()"
   ]
  },
  {
   "cell_type": "code",
   "execution_count": 26,
   "metadata": {},
   "outputs": [
    {
     "data": {
      "text/plain": [
       "array([[ 0.84147098,  0.90929743,  0.14112001, -0.7568025 , -0.95892427],\n",
       "       [-0.2794155 ,  0.6569866 ,  0.98935825,  0.41211849, -0.54402111],\n",
       "       [-0.99999021, -0.53657292,  0.42016704,  0.99060736,  0.65028784],\n",
       "       [-0.28790332, -0.96139749, -0.75098725,  0.14987721,  0.91294525],\n",
       "       [ 0.83665564, -0.00885131, -0.8462204 , -0.90557836, -0.13235175]])"
      ]
     },
     "execution_count": 26,
     "metadata": {},
     "output_type": "execute_result"
    }
   ],
   "source": [
    "my_sin = np.sin(my_array)\n",
    "my_sin"
   ]
  },
  {
   "cell_type": "code",
   "execution_count": 40,
   "metadata": {},
   "outputs": [],
   "source": [
    "my_sin[1:4, 1:4] = 1"
   ]
  },
  {
   "cell_type": "code",
   "execution_count": 41,
   "metadata": {},
   "outputs": [
    {
     "data": {
      "text/plain": [
       "2.4057172058139544"
      ]
     },
     "execution_count": 41,
     "metadata": {},
     "output_type": "execute_result"
    }
   ],
   "source": [
    "my_sin[:, :4].reshape((10,2))[:, 0].sum()"
   ]
  },
  {
   "cell_type": "code",
   "execution_count": 43,
   "metadata": {
    "scrolled": true
   },
   "outputs": [
    {
     "name": "stdout",
     "output_type": "stream",
     "text": [
      "[ 10201  10609  11025  11449  11881  12321  12769  13225  13689  14161\n",
      "  14641  15129  15625  16129  16641  17161  17689  18225  18769  19321\n",
      "  19881  20449  21025  21609  22201  22801  23409  24025  24649  25281\n",
      "  25921  26569  27225  27889  28561  29241  29929  30625  31329  32041\n",
      "  32761  33489  34225  34969  35721  36481  37249  38025  38809  39601\n",
      "  40401  41209  42025  42849  43681  44521  45369  46225  47089  47961\n",
      "  48841  49729  50625  51529  52441  53361  54289  55225  56169  57121\n",
      "  58081  59049  60025  61009  62001  63001  64009  65025  66049  67081\n",
      "  68121  69169  70225  71289  72361  73441  74529  75625  76729  77841\n",
      "  78961  80089  81225  82369  83521  84681  85849  87025  88209  89401\n",
      "  90601  91809  93025  94249  95481  96721  97969  99225 100489 101761\n",
      " 103041 104329 105625 106929 108241 109561 110889 112225 113569 114921\n",
      " 116281 117649 119025 120409 121801 123201 124609 126025 127449 128881\n",
      " 130321 131769 133225 134689 136161 137641 139129 140625 142129 143641\n",
      " 145161 146689 148225 149769 151321 152881 154449 156025 157609 159201\n",
      " 160801 162409 164025 165649 167281 168921 170569 172225 173889 175561\n",
      " 177241 178929 180625 182329 184041 185761 187489 189225 190969 192721\n",
      " 194481 196249 198025 199809 201601 203401 205209 207025 208849 210681\n",
      " 212521 214369 216225 218089 219961 221841 223729 225625 227529 229441\n",
      " 231361 233289 235225 237169 239121 241081 243049 245025 247009 249001\n",
      " 251001 253009 255025 257049 259081 261121 263169 265225 267289 269361\n",
      " 271441 273529 275625 277729 279841 281961 284089 286225 288369 290521\n",
      " 292681 294849 297025 299209 301401 303601 305809 308025 310249 312481\n",
      " 314721 316969 319225 321489 323761 326041 328329 330625 332929 335241\n",
      " 337561 339889 342225 344569 346921 349281 351649 354025 356409 358801\n",
      " 361201 363609 366025 368449 370881 373321 375769 378225 380689 383161\n",
      " 385641 388129 390625 393129 395641 398161 400689 403225 405769 408321\n",
      " 410881 413449 416025 418609 421201 423801 426409 429025 431649 434281\n",
      " 436921 439569 442225 444889 447561 450241 452929 455625 458329 461041\n",
      " 463761 466489 469225 471969 474721 477481 480249 483025 485809 488601\n",
      " 491401 494209 497025 499849 502681 505521 508369 511225 514089 516961\n",
      " 519841 522729 525625 528529 531441 534361 537289 540225 543169 546121\n",
      " 549081 552049 555025 558009 561001 564001 567009 570025 573049 576081\n",
      " 579121 582169 585225 588289 591361 594441 597529 600625 603729 606841\n",
      " 609961 613089 616225 619369 622521 625681 628849 632025 635209 638401\n",
      " 641601 644809 648025 651249 654481 657721 660969 664225 667489 670761\n",
      " 674041 677329 680625 683929 687241 690561 693889 697225 700569 703921\n",
      " 707281 710649 714025 717409 720801 724201 727609 731025 734449 737881\n",
      " 741321 744769 748225 751689 755161 758641 762129 765625 769129 772641\n",
      " 776161 779689 783225 786769 790321 793881 797449 801025 804609 808201\n",
      " 811801 815409 819025 822649 826281 829921 833569 837225 840889 844561\n",
      " 848241 851929 855625 859329 863041 866761 870489 874225 877969 881721\n",
      " 885481 889249 893025 896809 900601 904401 908209 912025 915849 919681\n",
      " 923521 927369 931225 935089 938961 942841 946729 950625 954529 958441\n",
      " 962361 966289 970225 974169 978121 982081 986049 990025 994009 998001]\n"
     ]
    }
   ],
   "source": [
    "bigdata = np.array([x*x for x in range(101, 1000, 2) ])\n",
    "print(bigdata)"
   ]
  },
  {
   "cell_type": "code",
   "execution_count": 44,
   "metadata": {},
   "outputs": [
    {
     "data": {
      "text/plain": [
       "302501.0"
      ]
     },
     "execution_count": 44,
     "metadata": {},
     "output_type": "execute_result"
    }
   ],
   "source": [
    "np.median(bigdata)"
   ]
  },
  {
   "cell_type": "code",
   "execution_count": 45,
   "metadata": {
    "scrolled": true
   },
   "outputs": [
    {
     "data": {
      "text/plain": [
       "292095.0301991155"
      ]
     },
     "execution_count": 45,
     "metadata": {},
     "output_type": "execute_result"
    }
   ],
   "source": [
    "np.std(bigdata)"
   ]
  },
  {
   "cell_type": "code",
   "execution_count": 46,
   "metadata": {},
   "outputs": [
    {
     "data": {
      "text/plain": [
       "array([[1.        , 0.99999973],\n",
       "       [0.99999973, 1.        ]])"
      ]
     },
     "execution_count": 46,
     "metadata": {},
     "output_type": "execute_result"
    }
   ],
   "source": [
    "np.corrcoef(bigdata[0::2], bigdata[1::2])"
   ]
  }
 ],
 "metadata": {
  "kernelspec": {
   "display_name": "Python 3",
   "language": "python",
   "name": "python3"
  },
  "language_info": {
   "codemirror_mode": {
    "name": "ipython",
    "version": 3
   },
   "file_extension": ".py",
   "mimetype": "text/x-python",
   "name": "python",
   "nbconvert_exporter": "python",
   "pygments_lexer": "ipython3",
   "version": "3.7.3"
  }
 },
 "nbformat": 4,
 "nbformat_minor": 2
}
