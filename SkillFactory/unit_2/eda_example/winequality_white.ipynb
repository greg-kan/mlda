








<!DOCTYPE html>
<html lang="en">

<head>
  <meta charset="utf-8">
  <title>Jupyter Notebook Viewer</title>
  <meta name="viewport" content="width=device-width, initial-scale=1.0">
  <meta name="description" content="">
  <meta name="author" content="">
  
  <meta name="robots" content="noindex,nofollow">
  

  <!--NEW RELIC Start Perf Measurement-->
  
  <!--NREND-->

  <!-- Le styles -->
  <link href="/static/build/styles.css" rel="stylesheet">

  <!-- Le HTML5 shim, for IE6-8 support of HTML5 elements -->
  <!--[if lt IE 9]>
    <script src="http://html5shim.googlecode.com/svn/trunk/html5.js"></script>
  <![endif]-->

  <!-- Le fav and touch icons -->
  <link rel="shortcut icon" href="/static/ico/ipynb_icon_16x16.png">
  <link rel="apple-touch-icon-precomposed" sizes="144x144"
        href="/static/ico/apple-touch-icon-144-precomposed.png">
  <link rel="apple-touch-icon-precomposed" sizes="114x114"
        href="/static/ico/apple-touch-icon-114-precomposed.png">
  <link rel="apple-touch-icon-precomposed" sizes="72x72"
        href="/static/ico/apple-touch-icon-72-precomposed.png">
  <link rel="apple-touch-icon-precomposed"
        href="/static/ico/apple-touch-icon-57-precomposed.png">
  
  

  

  
  <meta name="twitter:card" content="summary">
  <meta name="twitter:title" content="Notebook on nbviewer">
  <meta name="twitter:description" content="Check out this Jupyter notebook!">

  
  <meta name="twitter:domain" content="nbviewer.jupyter.org">
  <meta name="twitter:image:src" content="http://ipython.org/ipython-doc/dev/_images/ipynb_icon_128x128.png">

  
    <link href="/static/build/notebook.css" rel="stylesheet">
  

  

  
    <script src="https://cdnjs.cloudflare.com/ajax/libs/mathjax/2.7.1/MathJax.js?config=TeX-AMS_HTML" type="text/javascript">
    </script>
    <script type="text/javascript">
      init_mathjax = function() {
        if (window.MathJax) {
          // MathJax loaded
          MathJax.Hub.Config({
            TeX: {
              equationNumbers: {
                autoNumber: "AMS",
                useLabelIds: true
              }
            },
            tex2jax: {
              inlineMath: [ ['$','$'], ["\\(","\\)"] ],
              displayMath: [ ['$$','$$'], ["\\[","\\]"] ],
              processEscapes: true,
              processEnvironments: true
            },
            displayAlign: 'center',
            "HTML-CSS": {
              styles: {'.MathJax_Display': {"margin": 0}},
              linebreaks: { automatic: true }
            }
          });
          MathJax.Hub.Queue(["Typeset", MathJax.Hub]);
        }
      }
      init_mathjax();
    </script>
  

  
    <script>
      (function() {
        function addWidgetsRenderer() {
          var mimeElement = document.querySelector('script[type="application/vnd.jupyter.widget-view+json"]');
          var scriptElement = document.createElement('script');
          var widgetRendererSrc = 'https://unpkg.com/@jupyter-widgets/html-manager@0.15/dist/embed-amd.js';
          var widgetState;

          try {
            widgetState = mimeElement && JSON.parse(mimeElement.innerHTML);

            if (widgetState && (widgetState.version_major < 2 || !widgetState.version_major)) {
              widgetRendererSrc = 'https://unpkg.com/jupyter-js-widgets@2.1/dist/embed.js';
            }
          } catch(e) {}

          scriptElement.src = widgetRendererSrc;
          document.body.appendChild(scriptElement);
        }

        document.addEventListener('DOMContentLoaded', addWidgetsRenderer);
      }());
    </script>
  

</head>

<body class="nbviewer">

  <!-- These are loaded at the top of the body so they are available to
       notebook cells when they are loaded below. -->
  <script src="/static/components/jquery/dist/jquery.min.js"></script>
  <script src="/static/components/requirejs/require.js"></script>
  <script src="/static/components/moment/min/moment.min.js"></script>
<!-- Navbar
================================================== -->
  <nav id="menubar" class="navbar navbar-default navbar-fixed-top" data-spy="affix">
    <div class="container">
      <div class="navbar-header">
        <button type="button" class="navbar-toggle collapsed" data-toggle="collapse" data-target=".navbar-collapse">
          <span class="sr-only">Toggle navigation</span>
          <i class="fa fa-bars"></i>
        </button>
        <a class="navbar-brand" href="/">
          <img src="/static/img/nav_logo.svg" width="159"/>
        </a>
      </div>

      <div class="collapse navbar-collapse">
        <ul class="nav navbar-nav navbar-right">
          <li>
            <a class="active" href="https://jupyter.org">JUPYTER</a>
          </li>
          <li>
    <a href="/faq" title="FAQ" >
      
        <span>FAQ</span>
      
    </a>
  </li>

          
  
    
  
    
      
        <li>
    <a href="slides/github/PBPatil/Exploratory_Data_Analysis-Wine_Quality_Dataset/blob/master/winequality_white.ipynb" title="View as Slides" >
      <span class="fa fa-gift fa-2x menu-icon"></span>
      <span class="menu-text">View as Slides</span>
    </a>
  </li>
      
    
  
    
      
        <li>
    <a href="script/github/PBPatil/Exploratory_Data_Analysis-Wine_Quality_Dataset/blob/master/winequality_white.ipynb" title="View as Code" >
      <span class="fa fa-code fa-2x menu-icon"></span>
      <span class="menu-text">View as Code</span>
    </a>
  </li>
      
    
  

  
    <li>
    <a href="#" title="Python 2 Kernel" >
      <span class="fa fa-server fa-2x menu-icon"></span>
      <span class="menu-text">Python 2 Kernel</span>
    </a>
  </li>
  

  
    <li>
    <a href="https://github.com/PBPatil/Exploratory_Data_Analysis-Wine_Quality_Dataset/blob/master/winequality_white.ipynb" title="View on GitHub" >
      <span class="fa fa-github fa-2x menu-icon"></span>
      <span class="menu-text">View on GitHub</span>
    </a>
  </li>
  

  
    <li>
    <a href="https://mybinder.org/v2/gh/PBPatil/Exploratory_Data_Analysis-Wine_Quality_Dataset/master?filepath=winequality_white.ipynb" title="Execute on Binder" >
      <span class="fa fa-icon-binder fa-2x menu-icon"></span>
      <span class="menu-text">Execute on Binder</span>
    </a>
  </li>
  

  <li>
    <a href="https://raw.githubusercontent.com/PBPatil/Exploratory_Data_Analysis-Wine_Quality_Dataset/master/winequality_white.ipynb" title="Download Notebook" download>
      <span class="fa fa-download fa-2x menu-icon"></span>
      <span class="menu-text">Download Notebook</span>
    </a>
  </li>

        </ul>
      </div><!-- /.navbar-collapse -->
      
      
    </div>
  </nav>

  <div class="container container-main">
    
  
  <ol class="breadcrumb">
    
      <li>
        <a href="/github/PBPatil/Exploratory_Data_Analysis-Wine_Quality_Dataset/tree/master">Exploratory_Data_Analysis-Wine_Quality_Dataset</a>
      </li>
    
      <li>
        <a href="/github/PBPatil/Exploratory_Data_Analysis-Wine_Quality_Dataset/tree/master/winequality_white.ipynb">winequality_white.ipynb</a>
      </li>
    
  </ol>
  
  <div id="notebook">
    <div id="notebook-container">
      <div class="cell border-box-sizing text_cell rendered"><div class="prompt input_prompt">
</div><div class="inner_cell">
<div class="text_cell_render border-box-sizing rendered_html">
<h1 id="Importing-Libraries">Importing Libraries<a class="anchor-link" href="#Importing-Libraries">&#182;</a></h1>
</div>
</div>
</div>
<div class="cell border-box-sizing code_cell rendered">
<div class="input">
<div class="prompt input_prompt">In&nbsp;[1]:</div>
<div class="inner_cell">
    <div class="input_area">
<div class=" highlight hl-ipython2"><pre><span></span><span class="kn">import</span> <span class="nn">pandas</span> <span class="k">as</span> <span class="nn">pd</span>
<span class="kn">import</span> <span class="nn">numpy</span> <span class="k">as</span> <span class="nn">np</span>
<span class="kn">import</span> <span class="nn">seaborn</span> <span class="k">as</span> <span class="nn">sns</span>
<span class="kn">import</span> <span class="nn">matplotlib.pyplot</span> <span class="k">as</span> <span class="nn">plt</span>
<span class="o">%</span><span class="k">matplotlib</span> inline
</pre></div>

    </div>
</div>
</div>

</div>
<div class="cell border-box-sizing text_cell rendered"><div class="prompt input_prompt">
</div><div class="inner_cell">
<div class="text_cell_render border-box-sizing rendered_html">
<ul>
<li>" %matplotlib inline " makes life easy by returning output plots without needing to write plt.show() code everytime after each plot!</li>
</ul>

</div>
</div>
</div>
<div class="cell border-box-sizing text_cell rendered"><div class="prompt input_prompt">
</div><div class="inner_cell">
<div class="text_cell_render border-box-sizing rendered_html">
<h1 id="Loading-dataset">Loading dataset<a class="anchor-link" href="#Loading-dataset">&#182;</a></h1>
</div>
</div>
</div>
<div class="cell border-box-sizing code_cell rendered">
<div class="input">
<div class="prompt input_prompt">In&nbsp;[2]:</div>
<div class="inner_cell">
    <div class="input_area">
<div class=" highlight hl-ipython2"><pre><span></span><span class="n">df</span> <span class="o">=</span> <span class="n">pd</span><span class="o">.</span><span class="n">read_csv</span><span class="p">(</span><span class="s1">&#39;winequality-white.csv&#39;</span><span class="p">,</span><span class="n">sep</span><span class="o">=</span><span class="s1">&#39;;&#39;</span><span class="p">)</span>
<span class="n">df</span><span class="o">.</span><span class="n">head</span><span class="p">()</span> 
</pre></div>

    </div>
</div>
</div>

<div class="output_wrapper">
<div class="output">


<div class="output_area">

    <div class="prompt output_prompt">Out[2]:</div>



<div class="output_html rendered_html output_subarea output_execute_result">
<div>
<style>
    .dataframe thead tr:only-child th {
        text-align: right;
    }

    .dataframe thead th {
        text-align: left;
    }

    .dataframe tbody tr th {
        vertical-align: top;
    }
</style>
<table border="1" class="dataframe">
  <thead>
    <tr style="text-align: right;">
      <th></th>
      <th>fixed acidity</th>
      <th>volatile acidity</th>
      <th>citric acid</th>
      <th>residual sugar</th>
      <th>chlorides</th>
      <th>free sulfur dioxide</th>
      <th>total sulfur dioxide</th>
      <th>density</th>
      <th>pH</th>
      <th>sulphates</th>
      <th>alcohol</th>
      <th>quality</th>
    </tr>
  </thead>
  <tbody>
    <tr>
      <th>0</th>
      <td>7.0</td>
      <td>0.27</td>
      <td>0.36</td>
      <td>20.7</td>
      <td>0.045</td>
      <td>45.0</td>
      <td>170.0</td>
      <td>1.0010</td>
      <td>3.00</td>
      <td>0.45</td>
      <td>8.8</td>
      <td>6</td>
    </tr>
    <tr>
      <th>1</th>
      <td>6.3</td>
      <td>0.30</td>
      <td>0.34</td>
      <td>1.6</td>
      <td>0.049</td>
      <td>14.0</td>
      <td>132.0</td>
      <td>0.9940</td>
      <td>3.30</td>
      <td>0.49</td>
      <td>9.5</td>
      <td>6</td>
    </tr>
    <tr>
      <th>2</th>
      <td>8.1</td>
      <td>0.28</td>
      <td>0.40</td>
      <td>6.9</td>
      <td>0.050</td>
      <td>30.0</td>
      <td>97.0</td>
      <td>0.9951</td>
      <td>3.26</td>
      <td>0.44</td>
      <td>10.1</td>
      <td>6</td>
    </tr>
    <tr>
      <th>3</th>
      <td>7.2</td>
      <td>0.23</td>
      <td>0.32</td>
      <td>8.5</td>
      <td>0.058</td>
      <td>47.0</td>
      <td>186.0</td>
      <td>0.9956</td>
      <td>3.19</td>
      <td>0.40</td>
      <td>9.9</td>
      <td>6</td>
    </tr>
    <tr>
      <th>4</th>
      <td>7.2</td>
      <td>0.23</td>
      <td>0.32</td>
      <td>8.5</td>
      <td>0.058</td>
      <td>47.0</td>
      <td>186.0</td>
      <td>0.9956</td>
      <td>3.19</td>
      <td>0.40</td>
      <td>9.9</td>
      <td>6</td>
    </tr>
  </tbody>
</table>
</div>
</div>

</div>

</div>
</div>

</div>
<div class="cell border-box-sizing text_cell rendered"><div class="prompt input_prompt">
</div><div class="inner_cell">
<div class="text_cell_render border-box-sizing rendered_html">
<ul>
<li>Original data is seperated by delimiter " ; " in given dataset</li>
<li>" .head() " returns first five observations of the dataset</li>
</ul>

</div>
</div>
</div>
<div class="cell border-box-sizing text_cell rendered"><div class="prompt input_prompt">
</div><div class="inner_cell">
<div class="text_cell_render border-box-sizing rendered_html">
<h1 id="Data-Insights">Data Insights<a class="anchor-link" href="#Data-Insights">&#182;</a></h1>
</div>
</div>
</div>
<div class="cell border-box-sizing code_cell rendered">
<div class="input">
<div class="prompt input_prompt">In&nbsp;[3]:</div>
<div class="inner_cell">
    <div class="input_area">
<div class=" highlight hl-ipython2"><pre><span></span><span class="n">df</span><span class="o">.</span><span class="n">shape</span> 
</pre></div>

    </div>
</div>
</div>

<div class="output_wrapper">
<div class="output">


<div class="output_area">

    <div class="prompt output_prompt">Out[3]:</div>




<div class="output_text output_subarea output_execute_result">
<pre>(4898, 12)</pre>
</div>

</div>

</div>
</div>

</div>
<div class="cell border-box-sizing text_cell rendered"><div class="prompt input_prompt">
</div><div class="inner_cell">
<div class="text_cell_render border-box-sizing rendered_html">
<ul>
<li>dataset comprises of 4898 observations and 12 chracteriestics </li>
<li>out of which one is dependent variable and rest 11 are independent variables - physicochemical characteristics</li>
</ul>

</div>
</div>
</div>
<div class="cell border-box-sizing code_cell rendered">
<div class="input">
<div class="prompt input_prompt">In&nbsp;[4]:</div>
<div class="inner_cell">
    <div class="input_area">
<div class=" highlight hl-ipython2"><pre><span></span><span class="n">df</span><span class="o">.</span><span class="n">columns</span><span class="o">.</span><span class="n">values</span> 
</pre></div>

    </div>
</div>
</div>

<div class="output_wrapper">
<div class="output">


<div class="output_area">

    <div class="prompt output_prompt">Out[4]:</div>




<div class="output_text output_subarea output_execute_result">
<pre>array([&#39;fixed acidity&#39;, &#39;volatile acidity&#39;, &#39;citric acid&#39;,
       &#39;residual sugar&#39;, &#39;chlorides&#39;, &#39;free sulfur dioxide&#39;,
       &#39;total sulfur dioxide&#39;, &#39;density&#39;, &#39;pH&#39;, &#39;sulphates&#39;, &#39;alcohol&#39;,
       &#39;quality&#39;], dtype=object)</pre>
</div>

</div>

</div>
</div>

</div>
<div class="cell border-box-sizing text_cell rendered"><div class="prompt input_prompt">
</div><div class="inner_cell">
<div class="text_cell_render border-box-sizing rendered_html">
<ul>
<li>Label of each column</li>
</ul>

</div>
</div>
</div>
<div class="cell border-box-sizing code_cell rendered">
<div class="input">
<div class="prompt input_prompt">In&nbsp;[5]:</div>
<div class="inner_cell">
    <div class="input_area">
<div class=" highlight hl-ipython2"><pre><span></span><span class="n">df</span><span class="o">.</span><span class="n">info</span><span class="p">()</span> 
</pre></div>

    </div>
</div>
</div>

<div class="output_wrapper">
<div class="output">


<div class="output_area">

    <div class="prompt"></div>


<div class="output_subarea output_stream output_stdout output_text">
<pre>&lt;class &#39;pandas.core.frame.DataFrame&#39;&gt;
RangeIndex: 4898 entries, 0 to 4897
Data columns (total 12 columns):
fixed acidity           4898 non-null float64
volatile acidity        4898 non-null float64
citric acid             4898 non-null float64
residual sugar          4898 non-null float64
chlorides               4898 non-null float64
free sulfur dioxide     4898 non-null float64
total sulfur dioxide    4898 non-null float64
density                 4898 non-null float64
pH                      4898 non-null float64
sulphates               4898 non-null float64
alcohol                 4898 non-null float64
quality                 4898 non-null int64
dtypes: float64(11), int64(1)
memory usage: 459.3 KB
</pre>
</div>
</div>

</div>
</div>

</div>
<div class="cell border-box-sizing text_cell rendered"><div class="prompt input_prompt">
</div><div class="inner_cell">
<div class="text_cell_render border-box-sizing rendered_html">
<ul>
<li>Data has only float and integer values</li>
<li>No variable column has null/missing values</li>
</ul>

</div>
</div>
</div>
<div class="cell border-box-sizing text_cell rendered"><div class="prompt input_prompt">
</div><div class="inner_cell">
<div class="text_cell_render border-box-sizing rendered_html">
<h1 id="Summary-Statistics">Summary Statistics<a class="anchor-link" href="#Summary-Statistics">&#182;</a></h1>
</div>
</div>
</div>
<div class="cell border-box-sizing code_cell rendered">
<div class="input">
<div class="prompt input_prompt">In&nbsp;[6]:</div>
<div class="inner_cell">
    <div class="input_area">
<div class=" highlight hl-ipython2"><pre><span></span><span class="n">df</span><span class="o">.</span><span class="n">describe</span><span class="p">()</span> 
</pre></div>

    </div>
</div>
</div>

<div class="output_wrapper">
<div class="output">


<div class="output_area">

    <div class="prompt output_prompt">Out[6]:</div>



<div class="output_html rendered_html output_subarea output_execute_result">
<div>
<style>
    .dataframe thead tr:only-child th {
        text-align: right;
    }

    .dataframe thead th {
        text-align: left;
    }

    .dataframe tbody tr th {
        vertical-align: top;
    }
</style>
<table border="1" class="dataframe">
  <thead>
    <tr style="text-align: right;">
      <th></th>
      <th>fixed acidity</th>
      <th>volatile acidity</th>
      <th>citric acid</th>
      <th>residual sugar</th>
      <th>chlorides</th>
      <th>free sulfur dioxide</th>
      <th>total sulfur dioxide</th>
      <th>density</th>
      <th>pH</th>
      <th>sulphates</th>
      <th>alcohol</th>
      <th>quality</th>
    </tr>
  </thead>
  <tbody>
    <tr>
      <th>count</th>
      <td>4898.000000</td>
      <td>4898.000000</td>
      <td>4898.000000</td>
      <td>4898.000000</td>
      <td>4898.000000</td>
      <td>4898.000000</td>
      <td>4898.000000</td>
      <td>4898.000000</td>
      <td>4898.000000</td>
      <td>4898.000000</td>
      <td>4898.000000</td>
      <td>4898.000000</td>
    </tr>
    <tr>
      <th>mean</th>
      <td>6.854788</td>
      <td>0.278241</td>
      <td>0.334192</td>
      <td>6.391415</td>
      <td>0.045772</td>
      <td>35.308085</td>
      <td>138.360657</td>
      <td>0.994027</td>
      <td>3.188267</td>
      <td>0.489847</td>
      <td>10.514267</td>
      <td>5.877909</td>
    </tr>
    <tr>
      <th>std</th>
      <td>0.843868</td>
      <td>0.100795</td>
      <td>0.121020</td>
      <td>5.072058</td>
      <td>0.021848</td>
      <td>17.007137</td>
      <td>42.498065</td>
      <td>0.002991</td>
      <td>0.151001</td>
      <td>0.114126</td>
      <td>1.230621</td>
      <td>0.885639</td>
    </tr>
    <tr>
      <th>min</th>
      <td>3.800000</td>
      <td>0.080000</td>
      <td>0.000000</td>
      <td>0.600000</td>
      <td>0.009000</td>
      <td>2.000000</td>
      <td>9.000000</td>
      <td>0.987110</td>
      <td>2.720000</td>
      <td>0.220000</td>
      <td>8.000000</td>
      <td>3.000000</td>
    </tr>
    <tr>
      <th>25%</th>
      <td>6.300000</td>
      <td>0.210000</td>
      <td>0.270000</td>
      <td>1.700000</td>
      <td>0.036000</td>
      <td>23.000000</td>
      <td>108.000000</td>
      <td>0.991723</td>
      <td>3.090000</td>
      <td>0.410000</td>
      <td>9.500000</td>
      <td>5.000000</td>
    </tr>
    <tr>
      <th>50%</th>
      <td>6.800000</td>
      <td>0.260000</td>
      <td>0.320000</td>
      <td>5.200000</td>
      <td>0.043000</td>
      <td>34.000000</td>
      <td>134.000000</td>
      <td>0.993740</td>
      <td>3.180000</td>
      <td>0.470000</td>
      <td>10.400000</td>
      <td>6.000000</td>
    </tr>
    <tr>
      <th>75%</th>
      <td>7.300000</td>
      <td>0.320000</td>
      <td>0.390000</td>
      <td>9.900000</td>
      <td>0.050000</td>
      <td>46.000000</td>
      <td>167.000000</td>
      <td>0.996100</td>
      <td>3.280000</td>
      <td>0.550000</td>
      <td>11.400000</td>
      <td>6.000000</td>
    </tr>
    <tr>
      <th>max</th>
      <td>14.200000</td>
      <td>1.100000</td>
      <td>1.660000</td>
      <td>65.800000</td>
      <td>0.346000</td>
      <td>289.000000</td>
      <td>440.000000</td>
      <td>1.038980</td>
      <td>3.820000</td>
      <td>1.080000</td>
      <td>14.200000</td>
      <td>9.000000</td>
    </tr>
  </tbody>
</table>
</div>
</div>

</div>

</div>
</div>

</div>
<div class="cell border-box-sizing text_cell rendered"><div class="prompt input_prompt">
</div><div class="inner_cell">
<div class="text_cell_render border-box-sizing rendered_html">
<h1 id="Key-Observations--">Key Observations -<a class="anchor-link" href="#Key-Observations--">&#182;</a></h1><ul>
<li>Mean value is less than median value of each column represented by 50%(50th percentile) in index column.</li>
<li>Natably large differnece in 75th %tile and max values of predictors "residual sugar","free sulfur dioxide","total sulfur dioxide"</li>
<li>Thus observations 1 and 2 suggests that there are extreme values-Outliers in our dataset</li>
</ul>

</div>
</div>
</div>
<div class="cell border-box-sizing text_cell rendered"><div class="prompt input_prompt">
</div><div class="inner_cell">
<div class="text_cell_render border-box-sizing rendered_html">
<h1 id="Understanding-Target-variable">Understanding Target variable<a class="anchor-link" href="#Understanding-Target-variable">&#182;</a></h1>
</div>
</div>
</div>
<div class="cell border-box-sizing code_cell rendered">
<div class="input">
<div class="prompt input_prompt">In&nbsp;[7]:</div>
<div class="inner_cell">
    <div class="input_area">
<div class=" highlight hl-ipython2"><pre><span></span><span class="n">df</span><span class="o">.</span><span class="n">quality</span><span class="o">.</span><span class="n">unique</span><span class="p">()</span> 
</pre></div>

    </div>
</div>
</div>

<div class="output_wrapper">
<div class="output">


<div class="output_area">

    <div class="prompt output_prompt">Out[7]:</div>




<div class="output_text output_subarea output_execute_result">
<pre>array([6, 5, 7, 8, 4, 3, 9], dtype=int64)</pre>
</div>

</div>

</div>
</div>

</div>
<div class="cell border-box-sizing text_cell rendered"><div class="prompt input_prompt">
</div><div class="inner_cell">
<div class="text_cell_render border-box-sizing rendered_html">
<ul>
<li>Target variable/Dependent variable is discrete and categorical in nature.</li>
<li>"quality" score scale ranges from 1 to 10;where 1 being poor and 10 being the best.</li>
<li>1,2 &amp; 10 Quality ratings are not given by any obseravtion.Only scores obtained are between 3 to 9.</li>
</ul>

</div>
</div>
</div>
<div class="cell border-box-sizing code_cell rendered">
<div class="input">
<div class="prompt input_prompt">In&nbsp;[8]:</div>
<div class="inner_cell">
    <div class="input_area">
<div class=" highlight hl-ipython2"><pre><span></span><span class="n">df</span><span class="o">.</span><span class="n">quality</span><span class="o">.</span><span class="n">value_counts</span><span class="p">()</span>
</pre></div>

    </div>
</div>
</div>

<div class="output_wrapper">
<div class="output">


<div class="output_area">

    <div class="prompt output_prompt">Out[8]:</div>




<div class="output_text output_subarea output_execute_result">
<pre>6    2198
5    1457
7     880
8     175
4     163
3      20
9       5
Name: quality, dtype: int64</pre>
</div>

</div>

</div>
</div>

</div>
<div class="cell border-box-sizing text_cell rendered"><div class="prompt input_prompt">
</div><div class="inner_cell">
<div class="text_cell_render border-box-sizing rendered_html">
<ul>
<li>This tells us vote count of each quality score in descending order.</li>
<li>"quality" has most values concentrated in the categories 5, 6 and 7.</li>
<li>Only a few observations made for the categories 3 &amp; 9 </li>
</ul>

</div>
</div>
</div>
<div class="cell border-box-sizing text_cell rendered"><div class="prompt input_prompt">
</div><div class="inner_cell">
<div class="text_cell_render border-box-sizing rendered_html">
<h1 id="Data-Visualization">Data Visualization<a class="anchor-link" href="#Data-Visualization">&#182;</a></h1>
</div>
</div>
</div>
<div class="cell border-box-sizing text_cell rendered"><div class="prompt input_prompt">
</div><div class="inner_cell">
<div class="text_cell_render border-box-sizing rendered_html">
<h1 id="To-check-missing-values">To check missing values<a class="anchor-link" href="#To-check-missing-values">&#182;</a></h1>
</div>
</div>
</div>
<div class="cell border-box-sizing code_cell rendered">
<div class="input">
<div class="prompt input_prompt">In&nbsp;[9]:</div>
<div class="inner_cell">
    <div class="input_area">
<div class=" highlight hl-ipython2"><pre><span></span><span class="n">sns</span><span class="o">.</span><span class="n">heatmap</span><span class="p">(</span><span class="n">df</span><span class="o">.</span><span class="n">isnull</span><span class="p">(),</span><span class="n">cbar</span><span class="o">=</span><span class="kc">False</span><span class="p">,</span><span class="n">yticklabels</span><span class="o">=</span><span class="kc">False</span><span class="p">,</span><span class="n">cmap</span> <span class="o">=</span> <span class="s1">&#39;viridis&#39;</span><span class="p">)</span>
</pre></div>

    </div>
</div>
</div>

<div class="output_wrapper">
<div class="output">


<div class="output_area">

    <div class="prompt output_prompt">Out[9]:</div>




<div class="output_text output_subarea output_execute_result">
<pre>&lt;matplotlib.axes._subplots.AxesSubplot at 0x85cec50&gt;</pre>
</div>

</div>

<div class="output_area">

    <div class="prompt"></div>




<div class="output_png output_subarea ">
<img src="data:image/png;base64,iVBORw0KGgoAAAANSUhEUgAAAWQAAAFQCAYAAACI8ASbAAAABHNCSVQICAgIfAhkiAAAAAlwSFlz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==
"
>
</div>

</div>

</div>
</div>

</div>
<div class="cell border-box-sizing text_cell rendered"><div class="prompt input_prompt">
</div><div class="inner_cell">
<div class="text_cell_render border-box-sizing rendered_html">
<ul>
<li>Dataset has no missing values.</li>
<li>If there were any, you would've noticed in figure represented by different colour shade on purple background.</li>
<li>Do try it out with other dataset which has missing values,you'll see the difference. </li>
<li>Ex.in titanic dataset,you will find "Age" and "Cabin" columns with differnt shades with this code. </li>
</ul>

</div>
</div>
</div>
<div class="cell border-box-sizing text_cell rendered"><div class="prompt input_prompt">
</div><div class="inner_cell">
<div class="text_cell_render border-box-sizing rendered_html">
<h1 id="To-check-correlation">To check correlation<a class="anchor-link" href="#To-check-correlation">&#182;</a></h1>
</div>
</div>
</div>
<div class="cell border-box-sizing code_cell rendered">
<div class="input">
<div class="prompt input_prompt">In&nbsp;[10]:</div>
<div class="inner_cell">
    <div class="input_area">
<div class=" highlight hl-ipython2"><pre><span></span><span class="n">plt</span><span class="o">.</span><span class="n">figure</span><span class="p">(</span><span class="n">figsize</span><span class="o">=</span><span class="p">(</span><span class="mi">6</span><span class="p">,</span><span class="mi">4</span><span class="p">))</span>
<span class="n">sns</span><span class="o">.</span><span class="n">heatmap</span><span class="p">(</span><span class="n">df</span><span class="o">.</span><span class="n">corr</span><span class="p">(),</span><span class="n">cmap</span><span class="o">=</span><span class="s1">&#39;Blues&#39;</span><span class="p">,</span><span class="n">annot</span><span class="o">=</span><span class="kc">False</span><span class="p">)</span> 
</pre></div>

    </div>
</div>
</div>

<div class="output_wrapper">
<div class="output">


<div class="output_area">

    <div class="prompt output_prompt">Out[10]:</div>




<div class="output_text output_subarea output_execute_result">
<pre>&lt;matplotlib.axes._subplots.AxesSubplot at 0xe793ac8&gt;</pre>
</div>

</div>

<div class="output_area">

    <div class="prompt"></div>




<div class="output_png output_subarea ">
<img src="data:image/png;base64,iVBORw0KGgoAAAANSUhEUgAAAboAAAFQCAYAAADJKLthAAAABHNCSVQICAgIfAhkiAAAAAlwSFlz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"
>
</div>

</div>

</div>
</div>

</div>
<div class="cell border-box-sizing text_cell rendered"><div class="prompt input_prompt">
</div><div class="inner_cell">
<div class="text_cell_render border-box-sizing rendered_html">
<ul>
<li>Dark shades represents positive correlation while lighter shades represents negative correlation.</li>
<li>If you set annot=True, you'll get values by which features are correlated to each other in grid-cells</li>
</ul>

</div>
</div>
</div>
<div class="cell border-box-sizing code_cell rendered">
<div class="input">
<div class="prompt input_prompt">In&nbsp;[11]:</div>
<div class="inner_cell">
    <div class="input_area">
<div class=" highlight hl-ipython2"><pre><span></span><span class="c1">#Quality correlation matrix</span>
<span class="n">k</span> <span class="o">=</span> <span class="mi">12</span> <span class="c1">#number of variables for heatmap</span>
<span class="n">cols</span> <span class="o">=</span> <span class="n">df</span><span class="o">.</span><span class="n">corr</span><span class="p">()</span><span class="o">.</span><span class="n">nlargest</span><span class="p">(</span><span class="n">k</span><span class="p">,</span> <span class="s1">&#39;quality&#39;</span><span class="p">)[</span><span class="s1">&#39;quality&#39;</span><span class="p">]</span><span class="o">.</span><span class="n">index</span>
<span class="n">cm</span> <span class="o">=</span> <span class="n">df</span><span class="p">[</span><span class="n">cols</span><span class="p">]</span><span class="o">.</span><span class="n">corr</span><span class="p">()</span>
<span class="n">plt</span><span class="o">.</span><span class="n">figure</span><span class="p">(</span><span class="n">figsize</span><span class="o">=</span><span class="p">(</span><span class="mi">10</span><span class="p">,</span><span class="mi">6</span><span class="p">))</span>
<span class="n">sns</span><span class="o">.</span><span class="n">heatmap</span><span class="p">(</span><span class="n">cm</span><span class="p">,</span> <span class="n">annot</span><span class="o">=</span><span class="kc">True</span><span class="p">,</span> <span class="n">cmap</span> <span class="o">=</span> <span class="s1">&#39;viridis&#39;</span><span class="p">)</span>
</pre></div>

    </div>
</div>
</div>

<div class="output_wrapper">
<div class="output">


<div class="output_area">

    <div class="prompt output_prompt">Out[11]:</div>




<div class="output_text output_subarea output_execute_result">
<pre>&lt;matplotlib.axes._subplots.AxesSubplot at 0xe887f28&gt;</pre>
</div>

</div>

<div class="output_area">

    <div class="prompt"></div>




<div class="output_png output_subarea ">
<img src="data:image/png;base64,iVBORw0KGgoAAAANSUhEUgAAAn0AAAG9CAYAAABgc8DkAAAABHNCSVQICAgIfAhkiAAAAAlwSFlz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"
>
</div>

</div>

</div>
</div>

</div>
<div class="cell border-box-sizing text_cell rendered"><div class="prompt input_prompt">
</div><div class="inner_cell">
<div class="text_cell_render border-box-sizing rendered_html">
<ul>
<li>Here we can infer that "density" has strong positive correlation with "residual sugar" whereas it has strong negative correlation with "alcohol".</li>
<li>"free sulphur dioxide" and "citric acid" has almost no correlation with "quality"</li>
<li>Since correlation is zero we can infer there is no linear relationship between these two predictors.However it is safe to drop these features in case you're applying Linear Regression model to the dataset. </li>
</ul>

</div>
</div>
</div>
<div class="cell border-box-sizing text_cell rendered"><div class="prompt input_prompt">
</div><div class="inner_cell">
<div class="text_cell_render border-box-sizing rendered_html">
<h1 id="To-check-Outliers">To check Outliers<a class="anchor-link" href="#To-check-Outliers">&#182;</a></h1>
</div>
</div>
</div>
<div class="cell border-box-sizing code_cell rendered">
<div class="input">
<div class="prompt input_prompt">In&nbsp;[12]:</div>
<div class="inner_cell">
    <div class="input_area">
<div class=" highlight hl-ipython2"><pre><span></span><span class="n">l</span> <span class="o">=</span> <span class="n">df</span><span class="o">.</span><span class="n">columns</span><span class="o">.</span><span class="n">values</span>
<span class="n">number_of_columns</span><span class="o">=</span><span class="mi">12</span>
<span class="n">number_of_rows</span> <span class="o">=</span> <span class="nb">len</span><span class="p">(</span><span class="n">l</span><span class="p">)</span><span class="o">-</span><span class="mi">1</span><span class="o">/</span><span class="n">number_of_columns</span>
<span class="n">plt</span><span class="o">.</span><span class="n">figure</span><span class="p">(</span><span class="n">figsize</span><span class="o">=</span><span class="p">(</span><span class="n">number_of_columns</span><span class="p">,</span><span class="mi">5</span><span class="o">*</span><span class="n">number_of_rows</span><span class="p">))</span>
<span class="k">for</span> <span class="n">i</span> <span class="ow">in</span> <span class="nb">range</span><span class="p">(</span><span class="mi">0</span><span class="p">,</span><span class="nb">len</span><span class="p">(</span><span class="n">l</span><span class="p">)):</span>
    <span class="n">plt</span><span class="o">.</span><span class="n">subplot</span><span class="p">(</span><span class="n">number_of_rows</span> <span class="o">+</span> <span class="mi">1</span><span class="p">,</span><span class="n">number_of_columns</span><span class="p">,</span><span class="n">i</span><span class="o">+</span><span class="mi">1</span><span class="p">)</span>
    <span class="n">sns</span><span class="o">.</span><span class="n">set_style</span><span class="p">(</span><span class="s1">&#39;whitegrid&#39;</span><span class="p">)</span>
    <span class="n">sns</span><span class="o">.</span><span class="n">boxplot</span><span class="p">(</span><span class="n">df</span><span class="p">[</span><span class="n">l</span><span class="p">[</span><span class="n">i</span><span class="p">]],</span><span class="n">color</span><span class="o">=</span><span class="s1">&#39;green&#39;</span><span class="p">,</span><span class="n">orient</span><span class="o">=</span><span class="s1">&#39;v&#39;</span><span class="p">)</span>
    <span class="n">plt</span><span class="o">.</span><span class="n">tight_layout</span><span class="p">()</span>
</pre></div>

    </div>
</div>
</div>

<div class="output_wrapper">
<div class="output">


<div class="output_area">

    <div class="prompt"></div>




<div class="output_png output_subarea ">
<img src="data:image/png;base64,iVBORw0KGgoAAAANSUhEUgAAA1gAAAFSCAYAAADvm37nAAAABHNCSVQICAgIfAhkiAAAAAlwSFlz
AAALEgAACxIB0t1+/AAAADl0RVh0U29mdHdhcmUAbWF0cGxvdGxpYiB2ZXJzaW9uIDIuMS4wLCBo
dHRwOi8vbWF0cGxvdGxpYi5vcmcvpW3flQAAIABJREFUeJzs3XuclHXd//HXtYBhKB7CzUqNEnoD
3ZUJ5SEPVFJZroKYGMFtBzPb6lZRLNMEvDuZoNYvNw/lrUkICois5fFOzeOtUHbbDXxiUwM1XTAF
wQMLe/3+uK5ZZ4adYQ8zc10z+3k+Hvtwv9fMXPPhcmZ2Pt/D5xuEYYhzzjnnnHPOud6rSzoA55xz
zjnnnKsVnmA555xzzjnnXIl4guWcc84555xzJeIJlnPOOeecc86ViCdYzjnnnHPOOVcinmA555xz
zjnnXIl4guWcc84555xzJeIJlnPOOeecc86ViCdYzjnnnHPOOVci/ZMOoJAhQ4aEQ4cOLetzLF++
fH0YhnuV9UnKZPny5WElnmf06NFBJZ6nlPzaFOfXpzC/NsX59SnMr01xfn0K82tTnF+fwvzaFJfk
9UltgjV06FCWLVtW1ucIguAfZX2CMhs9enRZz798+fKynr+c/NoU59ensFq6NpL6AVcDArYBXwYC
4FogBP4KfNPM2iXNAD4HbAXOMLNHOztnLV2fUvNrU5xfn8L82hTn16cwvzbFJXV9fIqgc87VrgYA
M/sYcAFwSfxzvpkdTpRsHSfpQOBI4CDgJODyZMJ1zjnnql9qR7Ccc871jpktkXRr3Hw38ALRKNV9
8bHbgE8BBtxpZiGwRlJ/SXuZ2br8c65cubICkTvnnHPVyxMs55yrYWa2VdJ1wATgBOCYOJECeAXY
DRgMvJj1sMzx7RKskSNHljXeap+O4pxzzvkUQeecq3FmdjLwPqL1WDtn3bQr8DKwMf49/7hzzjnn
uskTLOecq1GSpko6N26+CrQDyySNjY8dDdwPPAh8WlKdpP2AOjNbX/GAXSpIOkjSvZ0cb5D0mKSH
JX0t77YRkjZIGlixQJ1zLqV8iqBzztWuxcB/SfojMAA4A1gJXC1pp/j3hWa2TdL9wMNEHW/fTCpg
lyxJ5wBTgc15xwcAlwIfiW97UFKzmT0vaTAwB3ij0vE651waeYLlnKs6kuqAJuBDRF/qTjGzlqzb
vwl8iagU+YVmdqukAHgGWB3f7WEzO5caZmabgRM7uenITu47E5hZ5pBc+v0dOB64Pu/4SKDFzF4C
kPQAcLikhcBVwPeAWyoZqHPOpZUnWM65ajQeGGhmh0g6mKj3/DgASUOARuAAYCCwQtLvgP2BP5lZ
Q0IxO5d6ZrZI0tBObhoMbMhqZwqhzAB+Z2Z/kVT03F6B0jnXV3iC5ZyrRocBtwOY2SOSxmRuMLP1
kj4UV88bCrxsZqGk0cC7JN0DvAacaWaWRPDOVaFChVC+Czwj6avA3sCdwBGdncArUDrn+oqaKXLR
2trKlClTWLduu6rCfZ5fm+L8+hSW4muT35u+TVJHh1GcXH0LeARYGB/+J/BjM/s48CNgbmcnXrly
ZZd/HnzwQSZMmMBDDz3U5cf0FSl+7aRCFV6flcBwSXvG6/eOIJpmO8zMxprZWOB5on3VeqUKr01F
+fUpzK+N66l58+YhiQULFpTkfDWTYDU1NbFs2TKampqSDiV1/NoU59ensBRfm/ze9Doz25p9BzP7
BfAO4AhJHweWEa8RMbMHiEazgvwTjxw5sss/d911FytXruSuu+7q8mP6ihS/dlKhWq6PpMmSTjWz
NmAacAdRMZRrzOzZcjxntVybpPj1KcyvTd8h6S2S5kl6RNKdkob35nwXXnghADNnzixFeLWRYLW2
trJ48WLCMGTRokXec5HFr01xfn0KS/m1eRD4LEC8BuuJzA2KLI6TpzaiIhjtRGtFzojv8yFgTdaG
u92W8uuTKL82xaX9+pjZ02Z2cPz7PDO7Kv692cw+YmajzezyTh431Mxe781zp/3aJK21tZVFixYR
hiELFy7065PFXzt9zteATfFn1beBX/T0RPPmzSMMo68D7e3tJRnFqokEq6mpifb2diC6MN5z8Sa/
NsX59Sks5dfmZuB1SQ8RlY4+U9I0ScfG66r+QtTL/hDwiJndB/wEOFLSfcAlRFUGeyzl1ydRfm2K
8+tTmF+b4pqammhrawOgra3Nr08Wf+3kWrJkCVOnTs35Ofroozn66KO3O75kyZKkw+2JUcBtAPHf
/R5PEcmMXmWUYhSrJopcNDc353zgLF26lBkzZiQcVTr4tSnOr09hab42ZtYOnJZ3eFXW7bOAWXmP
eQn4XKliSPP1SZpfm+L8+hTm16a4W265paOnPQxDlixZ4tcn5q+dHcuM6g0ZMiThSEriceAYSUuA
g4im/fczs23Zd+rK2ufMeyqjvb2912umayLBamhoYOHChbS1tTFgwACOPfbYpENKDb82xfn1Kcyv
TXF+fQrza1OcX5/C/NoU9853vpOWlo4t/3jXu96VYDTp4q+dXOPHj2f8+PE5x6ZOnQrA9dfnb3NX
la4hGrW6h2jZwPL85Aq6Vr00CIKcJKuurq7La6YLVS8t2xTBIAgOCoLg3rxjk4MgeLjUz9XY2Ehd
XfRPqauro7GxsdRPUbX82hTn16cwvzbF+fUpzK9NcX59Cqu2ayOpn6RrJD0o6Y+S9s+7/YuS/iTp
MUnf6O3zPffcczntZ58tS52RqtTY2EgQRHWLquG143rtI8ADcQXTm4Ene3qiCy64IKddiimCZUmw
giA4B/gV0SafmWMHAF8Ftqva1Vv19fUcf/zxBEHAxIkT2WuvvUr9FFXLr01xfn0K82tTnF+fwvza
FOfXp7AqvDYNAGb2MeACovWd2WYDRwEfA86StEdvnuyII3K3GDvyyCN7c7qaUl9fz3777QfAfvvt
Vw2vHdc7q4FvSHoY+E+iKqc9Mnny5JzkfNKkSb0OrlxTBP8OHA9cDxAEwduIFpifAVxdjidsbGyk
paXFeyw64demOL8+hfm1Kc6vT2F+bYrz61NYNV0bM1si6da4+W7ghby7/C+wG7CVqIO5x5VLAVat
WlW03Ze1trayZs0aAP7xj3+wbt06T7JqmJmtJ+q8KIkLLriAWbNmlaxMe1kSrDAMFwVBMBQgCIJ+
wK+BM4HXij0uCIJTgVOBjl6Irqqvr2fu3E73De3z/NoU59enML82xfn1KcyvTXF+fQqrtmsTb2x+
HTABOCHv5r8Cy4HNwGIze7mzc3R1Qf3TTz+d037qqaf61AbmxTQ1NeUUAGlqavIiF67LJk+ezOTJ
k0t2vkoUuRgNDAd+STRlcFQQBJeFYXhG/h3DMLwKuApgzJgxverlcc4555yrBDM7WdJ3gP+RNMrM
Nkv6IFHl0vcAm4C5kj5vZjflP76rC+oHDx7Mxo0bO9q77bZblx5baCF+LamFKoKSDgIuitcVZY5N
Br5tZockFpjrtrLvgxWG4aNhGL4/DMOxwEnAis6SK+ecc865aiJpqqRz4+arRJuaZyqZbSCaufNa
XN2sFejVGqxMApGxZcuW3pyupjQ0NDBgwACAqqwiKGm7+gWSyla/wJVXTWw07JxzzjmXgMXAhyX9
EbiDaK358ZJONbN/AFcCD0h6ANgduLY3T5ZfdnvChAm9OV1NqbYKlJ3I1C8AQFJ2/QJXZco2RTAM
w6eBg3d0zDnnnHOuGpnZZuDEIrdfAVxRqudrbGzkpptuYuvWrfTv378ak4iyyVSgnD9/frVUoMxh
ZoskDYWo/D9drF/QnTV4mzdv7vZjXM/UxEbDzjnnnHO1rr6+nre+9a1s3LiRQYMGVV0SUW7VVIFy
B7arXyDpMjPbbjSrq+v3AAYNGtTtx/SF9Xvl4AmWc84551wVWLFiRUeRiw0bNrBq1SpGjBiRcFTp
UW0VKAsxs0eB9wPEo1rzO0uuXHr5GiznnHPOuSowffr0nPbZZ5+dUCTOuWJ8BMs555xzrgq0tLTk
tFevXp1QJK4czOxp8moVdHbMpZ+PYDnnnHPOVYFMGfKMnXbaKaFInHPFeILlnHPOOVcFfB8s56qD
J1jOOeecc1Vg3333zWnvt99+CUXinCvGEyznnHPOuSoQhmHRtnMuHTzBcs4555yrAs8880xOe+3a
tQlF4pwrxhMs55xzzrkq4FMEi2ttbWXKlCmsW7cu6VBcH+cJlnPOOedcFfApgsU1NTWxbNkympqa
kg7F9XGeYDnnnHPOVQGfIlhYa2srixcvJgxDFi1a5KNYLlGeYPUBPmReuySdK+lhScslfVXSMEkP
SLpf0i8l+XvcOedqxLBhw3Law4cPTyiS9GlqaqK9vR2A9vZ2H8VyifIvX32AD5nXJkljgUOBjwFH
AvsClwDnm9nhQAAcl1iAzlUBSfWS1koaUaiDQtIMSY9KekjSR5OO2fVdF198cU579uzZCUXSPZIO
knRvJ8cbJD0WdxR+rTfP0dzc3LFPWFtbG0uXLu3N6ZzrFU+walw1DJkX+eCdJun/JN0b/0jSzpIW
xV+Afi9prwRCTotPA08ANwPNwK3AaOC++PbbgKOSCc259JM0ALgSeC0+tF0HhaQDiTowDgJOAi5P
IlbnAP71r3/ltF966aWEIuk6SecAvwIG5h0fAFwKfIroPXaqpL17+jxHHZX7527cuHE9PZVzvdY/
6QD6MkkHAReZ2di84w3ABcBW4Bozu7qnz9HZkPmMGTN6HnSJxR+8U4HNndx8IPDvZrY86/7TgCfM
bKakk4DzgdMrEmz6DAHeDRwDvAdYCtSZWWbV8yvAbp09cOXKlRUJ0LmUmw1cAZwbt/M7KD4FGHBn
/L5aI6m/pL3MLH29Va7mnXnmmTnt008/nUcffTShaLrs78DxwPV5x0cCLWb2EoCkB4DDgZsqG55z
pecJVkIKJRZZPTofiW97UFKzmT3fk+fpbMg8TQkWhT94Ifqyc27co/U7M/sxcBjw0/j224DvVyTK
dHoRWGVmWwCT9DrRNMGMXYGXO3vgyJEjyxrY8uXLd3wn5xIk6UvAOjO7Q1ImwQo66aAYTPReI+/4
dgmWd1y4ctu4cWNOe8OGDQlF0nVmtkjS0E5uGgxk/wN61Sl4xx135LRvv/12Tj755C7H6VwpeYKV
nIr06DQ0NLBw4ULa2toYMGAAxx57bG9iLrkiH7wA84mm42wEbpZ0DLkfyH19hOYB4HRJlwDvAAYB
/y1prJndCxwN3JNgfM6l2VeAUNJRwAHAb4D6rNszHRQb49/zj2/HOy5cuQ0ePDgnydptt07/BFaL
kr63xo8fzw033NDRnjBhQpffk/7ecqXmCVZCKtWjM27cOBYtWgRAEASMGzeuKpIPSQFwmZltiNu/
Az5M7gdyn/6iY2a3SjoCeJRoPeU3gaeAqyXtBKwEFiYYonOpZWZHZH6P14CeBlzcSQdFC/BTSbOB
fYim4a6vfMTOwaWXXspXv/rVjvbPfvazBKPptZXAcEl7ApuAI4im7fbIiSeemJNgTZo0qdcBOtdT
nmClT8l7SydOnMj8+fM54YQTOPTQQ7scSMJJxGDgr5JGEk2V/ARwDfAq8FmipOJo4P7EIkwBMzun
k8NHVjwQ52rDWeR1UJjZNkn3Aw/zZkeGc4l43/vel9POL9teDSRNBnYxs6viddV3EL23rjGzZ3t6
3htvvDGnvWDBgrQtiXB9iCdY6VPSHh2AxsZGWlpaaGxsLEV8ZZX3wfs9oh7kN4D/NrPfxz3N18VT
J7cAk5OL1jlXC/IKDW3XQWFmM4GZFQrHuYKampqoq6ujvb2durq61BWuKsTMngYOjn+fl3W8magK
bq81N+eeJoVrzl0f4glWSpSrRwegvr6euXPnliLMsijywXs9eWvUzOxV4POVjM8555xLg+bm5pzK
wJ5EvOm9730v//u//9vRrsbRPVc7PMFKUCV6dJxzzjlXGw477DBuv/32jvbhhx+eYDTpkp1cATz+
+OMJReKcbzTsnHPOOVcVVq1aVbTtnEsHT7D6gNbWVqZMmcK6db4vpnOl5O8t51wlPf300zntp556
KplAnHNFeYLVBzQ1NbFs2TKampqSDsW5muLvLedcJQ0YMCCnvdNOOyUUSfp88IMfzGkfcMABCUXi
nK/Bqnmtra0sXryYMAxZtGgRjY2N7LXXXkmH5VyvSKoDmoAPEVWZPMXMWrJu/ybwJSAELoz3DNsZ
mEu0mewrwMlm1uOhp2p4b0kaQLS9wVDgLcAPgGeI1niuju/2SzNbIGkG8DlgK3CGmT1a+Yidc8W0
tbXltLds2ZJQJOnz5JNP5rRbWloK3NO58vMRrBrX1NSUU3HIe9pdjRgPDDSzQ4DvAnMyN0gaAjQC
hwKfBH4Zb1z9DeAJMzsc+A1wfm8CqJL31hTgxfjffDTwC+BA4BIzGxv/LJB0IFF58oOAk4DLE4vY
OVfQ0KFDc9rvec97kgkkhRoaGnLaxx57bEKROOcJVs1rbm7u6PFqa2tj6dKlCUfkXEkcBtwOYGaP
AGMyN5jZeuBDZtYG7A28bGZh9mOA24CjehNAlby3bgK+n9XeCowGPifpj5J+LWlXomtzp5mFZrYG
6C8pXcNxzjlGjBhRtN2XjRkzJqf90Y9+NKFInPMpgjWvoaGBhQsX0tbWxoABA7xHx9WKwcCGrPY2
Sf3NbCuAmW2V9C1gFvDzTh7zCrBbZydeuXJllwI47LDDuPvuu9m6dSv9+/fnsMMO6/JjK8XMNgHE
SdRColG7twC/MrPlks4DZgAvAy9mPTRzfbabQpm2f6Nzfck999yT0/7DH/6QUCTpM2vWrJz2jBkz
OProoxOKxvV1nmDVuMbGRhYvXgxAXV0djY2NCUfkXElsBHbNatdlkqsMM/uFpKuA2yR9PO8xuxIl
FdsZOXJklwI477zzuOeee9i6dSv9+vXj/PPP79IarOXLl3fp/KUiaV/gZqDJzOZJ2t3MMv/2m4H/
B9xC7vXs9fXpqUpfH+eqyRtvvFG03Zdt3Lgxp71hw4YC93Su/HyKYI2rr6/n+OOPJwgCJk6cmLpF
+M710IPAZwEkHQw8kblBkcXxuqs2oiIY7dmPIVqPdH9vAqiG95aktwN3At8xs2viw3dIysyd+SSw
nOjafFpSnaT9iBLW9ZWP2DnnembgwIFF285Vko9g9QGNjY20tLT46JWrJTcD4yQ9BATAlyVNA1rM
bKmkvwAPE1URvM3M7pP0GHCdpAeALcDk3gZRBe+t7wF7AN+XlFmLNQ24TNIW4HngVDPbKOl+omtW
B3wzkWidc66HXn/99aJt5yrJE6w+oL6+nrlz5yYdhnMlY2btwGl5h1dl3T6LaP1V9mNeBT5f/ujS
w8xOB07v5KZDO7nvTGBmmUNyzpVQEARJh+Cc64RPEewDWltbmTJlCuvW9XjLH+dcJ3yjYedcksIw
TDqE1PLk03WHpI6fUvAEqw/wL4HOlV7+RsPegeG6wzu+XE/079+/aLsvGzJkSNG2qy2SBkiaJ+kh
SfdLStWeBZ5g1Tj/EuhceVTJRsMupbzjy/XEnnvumdN+29vellAk6bN+fW5dHv++U/M+C/Q3s0OB
C4Ef9vRE+aNWpRjF8gSrxvmXQOfKo0o2GnYplPaOL0kHSbq3k+MNkh6T9LCkr8XHBkm6Je5Bvt03
qC6v1tbWnPYLL7yQUCTpM2zYsJz28OHDE4rEVcjfgP6S6oj2uWxLOJ4cPrZc4zr7EjhjxoyEo3Ku
+vkm3q6nOuv4SsvnsqRzgKnA5rzjA4BLgY/Etz0oqRk4CVhuZhdK+hLRZtadFVZxrqwuvvhiJkyY
0NGePXt2gtG4CtgEDCUqcDUEOKazO61cubJHJ+/p4zI8wapx/iXQufLwTbxdT6W84+vvwPHA9XnH
RxJtg/ASQLzdweFmdpmkfvF99gMKDqn09guLc8WMGjWKfffdl7Vr17LffvsxYkSqluS40jsTuMPM
zpW0L/AHSR8ws5z6/CNHjuzRybv6uOXLl3d63BOsGtfY2MiNN94IRD2l/iXQudLIbDQ8f/781G40
7NIpzR1fZrZI0tBObhoMbMhqvwLsFj9mm6Q/AB8AxhU6d0+/6HRVoS86ru/IVFX06op9wku8OS3w
X8AAoF/hu1eWr8HqA/wDx7nyaGxsZMyYMd5x4bqlsbGRurroz28VjX5uBHbNau8KvJxpmNkngMOB
RRWOq0/54Ac/mNM+4IADEookfVasWMEzzzwDwNq1a1m1atUOHuGq3KXAgZLuB/4AfM/MNu/gMZ0y
s6LtnvARrBrX1NSUk2Claa6/c9XON/F2PVGlo58rgeGS9iRa+3AEMFvSucAzZnY90dqsbQnGWPOe
fPLJnHZLS0tCkaTP9OnTc9pnn302t956a0LR9Iykg4CLzGyspFHAVUAA/AX4tpn5+ytmZpuAE5OO
oxAfwapxt9xyS06CtWTJkoQjcs45Vy2jn5ImSzrVzNqAacAdwMPANWb2LHAN8MW46uA84MuJBdsH
jBkzJqf90Y9+NKFI0ic/2Vy9enVCkfRMXGDmV8DA+NCPiEZlPga8FUjPXOIaZGYdP6XgI1g17p3v
fGfOh8673vWuBKNxzjkH6R79NLOngYPj3+dlHW8GmvPu+wLwmUrGlyZxgY+rARGN3n3ZzP6edftH
gEuIRiGeB6bkL8LvjmXLluW0H3vssZ6equYMGzYs5/tOFZZpzy8wMzFe37gTsDdFCsi49PEEq8Y9
99xzOe1nn302oUicc865mtMAYGYfkzSWKJk6DkBSQJR8nWBmLZJOAd4N9LiLfNOmTTntV155paen
qjnVXqY9v8BMnFy9G7ibqMBMp6+b7lTn3Lx5c7cf43rGE6wad9xxxzF//nzCMCQIAsaPH590SM45
51xNMLMlkjILfd5N7ijD+4AXgTMkfQD4nZVq/pHbzqhRoxgyZAjr169nr732qoky7Wb2D6K1j6cQ
Je8n59+nO9U5Bw0a1O3HeHXOnvEEq8Y1NjayaNEitmzZwoABA1I/398555yrJma2VdJ1wATghKyb
hgCHAt8GVgO3SlpuZv+df47ejCj4aMSb1q9fD8C6desSjqT3JC0FzjKz1UTbIrQnHJLrhrIlWEEQ
HARcFIbh2CAIDgD+H9H85DeAfw/D0OeSVkB9fT0TJ05k/vz5nHDCCdVSrco555yrGmZ2sqTvAP8j
aVRcLvpFos2ZVwBIuh0YDWyXYPVmj7CuPLYvjELMmzcvp71gwQImTZqUUDQl8RPgWklbgFeBUxKO
x3VDWRKsIAjOAaYSlWwF+Bnw7TAMHw+C4OvAd4iqEbkKaGxspKWlxUevnHPOuRKSNBXYx8x+TPQl
uJ03S9U/CewiaZiZtRDtE/brZCKtfRdeeGFOe+bMmVWXYOUVmHkI+FiiAbkeK1eZ9kwllIyTwjB8
PP69P9DjCjqu+zLVqnz0yrnSam1tZcqUKTUxHcVVlr92asZi4MOS/khUwv4M4Pi4tP0W4KvAPEmP
AWvN7HcJxlrTMlvSZLS3+4w6l5yyjGCFYbgoCIKhWe1/AgRBcCjwLaINCrcTBMGpwKkA++23XzlC
c865kmlqamLZsmW+gbfrNn/t1IZ4KmDBzU7N7A+Ab1aVgCAIkg7B9WEV22g4CIJJwBXA58Iw7LTL
LgzDq8IwHBOG4ZjujrZ4b6BzrpJaW1tZvHgxYRiyaNEi/+xxXeavHedKL38T5vy2c5VUkQQrCIIp
RCNXY8MwfLIcz5HdG+icc+XW1NTUMQWlvb3dP3tcl/lrx7nSW7VqVU7bqyu6JJU9wQqCoB/wc2BX
YHEQBPcGQTCrlM/hvYHOuUprbm6mra0NgLa2NpYuXZpwRK5a+GvHudJraGjIaR977LEJReJcGROs
MAyfDsPw4DAMt4VhuGcYhgeEYTg2/inphHPvDXTOVVpDQwMDBgwAYMCAAf7H3HWZv3acK71+/frl
tDPvMeeSULE1WOXkvYHF+fq02iXpz5LujX/+S9LBkv5H0oOSfOV8GTU2NlJXF32E1tXV+TYIrsv8
teN6Kr9wQ+Z15GDu3Lk57euuuy6hSJyrkQTLewOL8/VptUnSQAAzGxv/fJmokMxk4DDgIEkHJhlj
Lauvr+f4448nCAImTpzo2yC4LvPXjuuqJUuWMHXq1I6ffffdN+f2ffbZp+O2JUuWJBSlcy5fWcq0
V1pjYyOLFy8GvDcwX/76tMbGxtT9MZd0EHCRmY3NO/4Foj1FtgH/CzSaWbukPwMb4rs9FScWfdGH
gLdKupPovTwTeIuZ/R1A0h3AJ4E/JRZhjfNNvF1P+WvH9cTee+/NmjVrctrOufSpiQQr0xs4f/58
7w3M09n6tDTtuSLpHGAqsDnv+M7AD4APmNmrkm4AjomTCfKTsT7qVWA28CtgOHAb8HLW7a8A7+3s
gV5dqTQym3g7113+2nFdMX78eMaPH59zbNy4caxZs4YLL7yQSZMmJRRZ+uy+++68/PKbfwL32GOP
BKNxfV1NJFjgvYGFdLY+LU0JFvB34Hjg+rzjbwCHmtmrcbs/8Drbj9p8z8we6U0Ara2tTJs2jUsv
vbTakvO/AS1mFgJ/k7QB2DPr9l3JTbg6jBw5sqyBLV++vKznd865vmrvvfdm77339uQqT3ZyBfDS
Sy8lFIlzNZRgeW9g5xoaGli4cCFtbW2pXJ9mZoskDe3keDvwAoCkbwO7AHcB/0beqI0kmdnW7Md3
Z4TmiiuuYNmyZfzgBz/gtNNO6+k/JQlfAT4ANEp6J/BWYLOk/YEngU8DJd0SwTnnnEujfffdl7Vr
13a099tvvwSjcX1dzSRYrnPVvD5NUh3wU+B9wEQzCyXlj9q8CLwDWJv92K6O0LS2tnLPPfcQhiH3
3HMP559/fpdGsVIyQvNr4FpJDwAhUcLVDvwW6AfcaWb/k2B8zjnnXEWEYVi07VwleYJV46p8fdqV
RFMFx8cjWrD9qM1g4J89fYK0r1Erxsy2EFUMzHdwpWPpq6p4eqlzztWUZ555JqedPZrlXKXVRJl2
V1xjYyNjxoypitErSZMlnRqXF/8qUTL1h3ifpwlEoza7x6M2C4Cv5E8P7A7fQ831hm+B4Jxz6TBs
2LCc9vDhwxOKxDkfweoT0r6AezWTAAAgAElEQVQ+zcyeJh51MbN5WTcV6gDobNSmR9K+Rs2lVzVs
geCcc33FF7/4RWbNenPZ8dSpUxOMxvV1PoLVB7S2tjJlyhTWrVuXdCip09jYSF1d9DaotjVqLlmd
TS91zjmXjEsvvTSnPWfOnIQicc4TrD7BpzEVllmjFgRBNa5Rcwny6aXOOZceGzduzGlv2LAhoUic
8wSr5uVPY/JRrO1V0xo1lx4NDQ0MGDAAwKeXOudcwgYOHJjT3nnnnROKxDlfg1XzqrlKXqWkfY2a
215cwr+JaOPpN4BTzKwl6/YzgZPi5u/NbJakAHgGWB0ff9jMzu1pDNW8BYJzztWazIyCjC1btiQU
iXM+glXzfBqTq1HjgYFmdgjwXaBjsr2k9wJfBA4FDgE+JemDwP7An8xsbPzT4+QKfHqpc86lybZt
24q2naskT7ASIKlO0hWSHo7Ljw/Lu/1sScslPRaXJu8xn8bkatRhwO0AZvYIMCbrtrXAZ8xsW7x/
2gDgdWA08C5J90j6vST1NgifXup6yosPOVda/fr1y2n37++TtFxy/NWXjI7ed0kHE/W+HwcgaXfg
P4BhwCDgceDmnj6RT2NyNWowkL2CeZuk/ma21czagPXxlMCLgT+b2d8k7Q382MxuknQYMBf4SP6J
V65c2a1AzjvvPNavX8/69et7/I9xfU928SGftu1c7w0ZMoQXXnghp+1cUjzBSkZO77uk7N73zcA/
iJKrQUB7b54oM41p/vz5Po3J1ZKNwK5Z7brsDaclDQSuAV4BMr0Ky4CtAGb2gKR3SQrMLMw+8ciR
I7scRGtrK9OmTePSSy/t8ntr+fLlXT6/q02+h5pzpZedXAE8//zzCUXinCdYSSnY+x631wIrgH7A
jwudpKs97ePGjeMvf/kL48aN63bvvHMp9SDQANwYjwI/kbkhHrm6BfiDmV2U9ZgZwIvATyV9CFiT
n1x1l49CuJ5oamrqWB+ybds2f/04VwLDhg2jpaWj1hHDhw9PMBrX13mClYxive9HA+8A3hO375D0
oJk9mn+Srva0t7a2MmjQIIYPH96tXlLvaXcpdjMwTtJDQAB8WdI0oIWoY+JI4C2Sjo7vfy7wE2Cu
pM8RjWR9qTcB+CiE66nm5ma2bo0+8rdu3crSpUs9wXKulzLrzTPyy7Y7V0meYCWjYO878BLwGvCG
mYWSXgZ2782TzZkzh8cee4w5c+bwk5/8pDenci4V4uIVp+UdXpX1e6G/rJ8rVQzVsAWCpAFEUyWH
Am8BfkA0On4tEAJ/Bb5pZu2SZhBdn63AGZ116rjSOOqoo1iyZElHe9y4cQlG41xtyJ+h88QTTxS4
p3Pl51UEk3Ez8Hrc+34pcKakaZKONbP7gceARyQ9DPwNuKunT9Ta2kpzczMAS5cu9YpVzpVIlWyB
MAV40cwOJxod/wVwCXB+fCwAjpN0INGo30FE+4ddnlC8zjnnXNXzEawE7Kj33cxmEK0X6bU5c+bk
zPX3USznSqNKRiFuAhZmtbcSlau/L27fBnwKMODOeE3aGkn9Je1lZt4jUwZ33313Tvuuu+7yz2Xn
nKshnmDVuFtvvXW7tv8hd673Xn/99aLtNDCzTQCSdiVKtM4HZmcV93gF2I2o8M6LWQ/NHN8uwfJC
Ob1XJcm5c865HvIEq48Jw14VTXPOxTobhUgjSfsSTUtuMrN5kn6adfOuwMtsX3gnc3w73Slj3xOV
LK4jqR9wNSBgG/BlommT1+Jr1JzrNUl1QBPwIeAN4BQza8m6/WzgC0Rb0vzIzHq876dzaeJrsGrc
Mccck9NuaGhIKBLnalsQBEmHsB1JbwfuBL5jZtfEh/8saWz8+9HA/USFdz4tqU7SfkSVTfvCzskN
AGb2MeACovVpZV+jVi3JuXMlMB4YaGaHAN8F5mRukLQ78B/AIURTlS9LJELnysATrBp31llndXzx
C4KAs846K+GInKsN+Z0X+e2U+B6wB/B9SfdKupdomuCsuIjOTsBCM1tOlGg9DCwCvplQvBVlZkuA
U+Pmu4EX2H6N2lFEm8PfaWahma0B+kvqcU3+hoaGjpLSAwYM4Nhjj+3pqZxLu8OA2wHM7BFgTNZt
m4F/AIPin/aKR+dcmdTMFMEVK1YwdepUfvvb3zJixIikw0mN+vp6Bg0axKZNm9hll118nx7nSuSs
s86iubmZbdu20a9fv1R2XpjZ6cDpndx0ZCf3nQnMLHNIqWNmWyVdB0wATgCO6ekate5s/r5w4cKc
tq9tczVqMLAhq71NUv+svT/XEm0d0Q/4caGT9PT94e+r2iXpS7y5n+VA4ABgbzPrdHp7pdVMgjV9
+nQ2bdrE2WefvV1hh75sxYoVbNq0CYBXXnmFVatWeQLqXAnU19fT0NDAkiVLOPbYY73zooqZ2cmS
vgP8D7Bz1k3dWqPWnfVp7373u2lpaWHo0KEceuihXXqMb/7uqlD+e6cuK7k6GngH8J64fYekBztb
39iV91YQBDnrzOvq6rr8nvT3VvUxs2uJ1ssi6XLgmrQkV1AjCdaKFStoaYnWTK5evdqTiCzTp0/P
aXsC6lzpnHXWWTz77LOpHL1yOyZpKrCPmf0YeJVoitIySWPN7F6iL4D3AC3ATyXNBvahl2vUWltb
WbNmDQBr1qxh3bp1nqC7WvUg0VrHGyUdDGTv/vsS8BrwhpmFkl4Gdu/pE+255568+OKbA81Dhgzp
6alcFZE0Bni/mXV5avuSJUtYtGhRzrH166OP9PzXzcSJExk/fny346qJBMuTiMIyiWfG6tWrE4rE
udpTX1/P3Llzkw7D9dxi4L8k/REYAJwBrASulrRT/PtCM9smKbNGrY5erlFramrq6Glvb2+nqamJ
GTNKsvWhc2lzMzBO0kNERWO+LGka0GJmSyUdBTwiqR14AOhxxZfs5AqijgzXJ3wPmFXoxs6miT73
3HNs3rw559jzzz8PwM4777zdfXsy1bQmEixPIgobPHgwGzdu7GjvtttuCUbjnHPpYWabgRM7uams
a9Sam5tpa2sDoK2tjaVLl3qC5WqSmbUDp+UdXpV1+wzAX/yuR+JKlCPM7J5C9+lsmujIkSNpbGzM
OTZ16lQArr/++m7FUGh6aU1UERw2bFhOe/jw4QlFkj6ZP+IZW7ZsSSgS55xz4FUEnXOuRI4A7t7h
vRJQEwnWxRdfnNOePXt2QpGkz6c//emc9mc+85mEInHOOQfQ2NhIXV3057eurm67nlTnXN8k6aB4
Ow0kHSDp/niLjTvifQ1dLgFPJh1EZ2oiwRo1alTHKNbw4cO9wIVzzrnUqq+v5/jjjycIAiZOnOgF
LpxzSDoH+BVRyXGAnwHfNrOxROtFv5NQaKllZhebWSo3qK6JBAuiUaxddtnFR6/y3H137sjpXXf1
eP2oc865EjnxxBMZNGgQkyZNSjoU51w6/B04Pqt9kpk9Hv/eH3i98iG5nqqJIhcQjWL5PgbbO+qo
o1iyZElHe9y4cQlG45xzDuDGG29k8+bNLFiwIHUFLiQdBFwU95xnH28ALgC2Eu05c7Wk3YC5RBvK
7gRMM7OHKxyyc1XPzBZJGprV/ieApEOBbxGtN9pOdyrcZSrn+QbM5VczCZZzzjlXDVpbW1m8eDFh
GLJo0SIaGxtTM00wnqY0Fdicd3wAcCnwkfi2ByU1A98A/tvMLpMk4AbgwMpG7VxtkjQJOA/4nJmt
6+w+3dngfNCgQd1+jA9e9EzNTBFcsWIFo0ePZtWqVTu+cx/iUwSdc32JpD2SjmFHmpqaaG9vB97c
BytF8qcpZYwk2rvoJTPbQrRn0eFESdeV8X18GpNzJSJpCtHI1VgzS2UhB1dYzYxgTZ8+nU2bNvkm
w3kaGhpYuHAhbW1tXg7YuRohaQ8zeynpONJE0pHA5UA/STcB/zCzXyccVqfSvA9W/jSlLIOBDVnt
V4DdzOxlAEl7E00VPKPQuX1akiunYcOG5eyLWs0FzyT1A34OrAEWR4PD3BfvG+aqQE0kWCtWrOh4
U61evZpVq1ZV9RurlBobG1m0aBHg5YCdK7XW1lamTZvGpZdeWpEpXtWURCTgP4nWKCwCfgQ8CKTy
2lRpx9dGYNes9q5AJrn6ADAfONvM7it0gu5MS+oJn8rUtyxZsqTj+w3AnnvumXP74MGDOzaPnThx
IuPHj69ofD1hZk8DB8fNPYvc1aVcTUwRnD59ek777LPPTiiS9Kmvr+ftb4+2Tnj729+emnn+ztWC
pqYmli1bVskpXpkk4nmiJMJ7TN7Ubmb/AkIze51ohCWVqnQfrJXAcEl7StqJ6HX4sKRRwE3AZDO7
LdEIEyCpn6RrJD0o6Y+S9i9wv6sk/aTS8fVVb3nLW5IOwfVxNTGClT0kDNEolou0traydu1aANas
WcO6des8yXKuBBIqVNBuZv+SFJrZ65JSm0QkoEXSj4G3Sfou8I+kAyqkvr6ej3/849x+++184hOf
SPVnsqTJwC5mdpWkacAdRJ2z15jZs5KaiPbt+Vk8jWmDmR2XXMQV1wBgZh+TNBa4BMj590v6OvAB
oODonuu+8ePHbzcqlRmxuv7665MIybkONZFgDR48mI0bN3a0d9tttwSjSZcf/vCH27UvuyyVe7I5
V1U6K1RQgXU0VZNEJOA04BSi4gubgK8lG05xmYJMaSzMlD1NyczmZR1vBprz7tuXkqntmNkSSZmF
3+8GXsi+XdIhRNfySsDXLjjXR9REgpVZLJyxZcuWhCJJnzvuuCOnffvttycUSXrNmzePWbNmceGF
F/qmn67LEipUUFVJRCVIyt4bZkX8A9GX2j9WPqIdW7FiBU8//TQATz31lK8brnJmtlXSdcAE4ITM
cUnvAGbGx08sdg7fy8i52lITCdb48eO54YYbOtoTJkxIMJp0CcOwaDsNurmp5c5ElarqidZYnFxo
b4iuuvDCCwGYOXNm1SVYkuqB5cA4out0LRACfwW+aWbtyUVX2xoaGpg/fz5hGBIEQVkLFVRjElFB
34j/uz/RRrePAR8mSkDHJhRTUZ2tG/bqt9XNzE6W9B3gfySNMrPNwOeBIcDvgb2Bt0paZWbX5j/e
9zJyrrbURJGLKl0wXBGZAhcZe++9d0KRdC7e1PJXRHP4s49nNrX8FHAkcGpcBvgbwBNmdjjwG+D8
3jz/vHnzOpLO9vZ2FixY0JvTVVR8ja4EXosPXQKcH1+bgLx1AK60TjzxxI7XThiG5U7OvxH/zCYq
3TuV6P/3heV80mpgZl8wsy8A64AxZvY14CBSvB+TrxuuHZKmSjo3br4KtAPbAMzs52Y2Ou48/Akw
r7PkyjlXe8qWYAVBcFAQBPfGvw8LguCBIAjuD4Lgl0EQlPR56+vr6devHwD9+/dP9YLhStuwYUPR
dgp0d1PLw4DMPMfbgKN68+SZ0auMmTNn9uZ0PSbpiz142GzgCuC5uD2aNxdR9/rauOKuu+66nPa1
115btueqxiQiAe/I+r0/0Sh3Kg0bNiynPXz48IQicSWwGPiwpD8SFQA5Azhe0qnJhuWcS1JZpggG
QXAOUQ/r5vjQJcD5YRjeGwTBFUQ96zeX6vkeeOCBjrUQW7Zs4eGHH+aQQw4p1el3SNJZwG96O1Wt
HF5/Pff712uvvVbgnsno7qaWecczx7bT1bnp+VMm29vbk5rXfirw267eWdKXgHVmdkdW72lgZpl/
UMFrAz53vxTyp3Tdeuut/OQnZa/CXDVJRAJ+DfyfpL8Co4DUbsh58cUX50xlnz17doLRuN6IpwIW
XV8V3+/a8kfjnEuLcq3ByoxKZOpk5vesf4oSJlhnnnlmTvv000/n0UcfLdXpu2IzsETSP4n+yN+e
9UXX9UyhTS2zj3dsdJmvNxtaduWxZZjP/hZJfwaMaIoJZja5yP2/AoSSjgIOIJoumf1lu+C1Ad/w
sxQ6S84roGqSiEozs8slXU9Uqe1JM1ufdEyFjBo1imHDhtHS0sLw4cO9wIVzztWYskwRDMNwEZBd
2i8I3/w2UrBnPQiCU4MgWBYEwbJ167o+GJRdoh0qPw3OzK4ws48RfdmZCvxD0kxJu1c0kE7kb7ZX
RZvvdbqpJfAg8Nn4PkcD9/fmSXbaaaei7Qr6DtHUkl8Srau6stidzewIMzsyntv/OPDvwG3xPixQ
gmvjiktifaOZXQ58BLgIONzMbiz7k6acpPPj/95ANGX2DODnkuYVfWDCzj33XOrq6jjvvPOSDsU5
51yJVarIRXbXbsGe9TAMrwrDcEwYhmO6s47qrW99a047U2GnUiTtLuk04Gpgd+B04P+AWyoaSCfe
eOONou20kTRZ0qlm1gZkNrV8mHhTS6IE5P2SHiCaVjerN883ceLEnPYJJ5xQ4J5l9wTwTqJ9VIYC
h/bgHGcBsyQ9TFRNbWHJonPb+ec//5nTfu655wrcs/eqNYmokMy+TFfwZufElXE7tZqbm2lvb+eW
WxL/M+Gcc67EKlWm/c9BEIwNw/Beop71e0p58t12241XX321o7377hUfOHqMqHT4JDNbmzko6YBK
B1KNurmp5atEpW9LorGxkQULFtDe3k6/fv2SrEC5EPgb8AGiwgWvFr/7m/LK2x9Z2rBcIRXeAiE7
ich52nI+aTUws7/Evx4NfM/M2uPZA1eT0hL2ra2tLF26FIBbbrmFs846y4szOedcDdnhCFYQBBOD
IOhtInYWMCsIgrL0rOf3JD/77LOlPH1X/NTMZmWSK0n/AWBmic/9qOIpghVRX1/PpEmTCIKASZMm
Jfolx8xOI1qDNQ7YI7FAXJfss88+Oe199923bM+Vl0Tcb2b3AX8Bvl22J60+bwB3SxpPtOY3tRtL
zZkzp2PNXnt7O3PmzEk4Iuecc6XUlSmCHwGWB0EwOwiCLq+MD8Pw6TAMD45//1sYhkeGYXhIGIZf
CcNwW08D7szgwYNz2rvtVrB4WklJ+kI8Zec/Jc2LfxYAX69IAF1QbVMEk9DY2MiYMWMS3z9N0kBg
ENGoxC6JBuN26N/+7d+KtsukapKIBMwEngFuAq4ws+uK3z05+RUom5ubC9zTOedcNdphghWG4XeB
DxNN6/tBEAQPBkHwpRKMapVMgkUubiea6/+/vDnv/xdEIxCuStTX1zN37tykp+hcDpwJ3AmsBVYl
GYzbsQceeCCnff/9FakpMpMqSSIScB/wItE6xs9IuirheAoq83RS55xzCdthkhQEQUBUVv3fif5w
/RbYi2hzvWPLGl36DTKzeyXlr2730QfXLWa2KPO7pJvMbGOx+/d1kuqAJuBDRKM6p5hZS9btZwIn
xc3fm9ksSTsTrZWsJ6pmenJv9q4bM2YM9957b0f7ox/9aE9P1R33AcuJPot/KenDZuYbmkYuMrPf
xb8fl5mqnQZLlixh0aKOt3inJf6nTp0KRIV3xo8fX9H4nHPOlVZXRqFWE5V7/nkYhg9mDgZBMKps
UVWPs4hGHfJLaofAJyofzvaCIMj5Yx7lyy5tJK0G+mW124hGss4xsz8lFlh6jQcGmtkhkg4G5hBt
YI6k9wJfBA4iei/eL+lm4CjgCTObKekk4Hyiip89smzZspz2Y4891tNTdUdqk4gUuF/ST4H3ExWM
+c+E4ykof8+0Cu2h5pxzrkK6kmBNC8NwaaYRBMGJYRjeGIbhl8sYV1UwszPj/3486VgKKXelM0lH
FLrNzFJZwSul/kA07et+4BDgFOC/gJ8DhyUYV1odRjRFFzN7RNKYrNvWAp8xs20AkgYQVWY8DPhp
fJ/bgO93duKVK1d2KYBNmzbltF955ZUuP7YXqiaJSMA1RFUD5xFV07yWlMyyGD9+fM6o1Oc+9zla
WjoGXBk+fDjXX399EqE555wrg4IJVhAExwAfA74QBMHB8eF+RH+wUrW5ZV1dXU4PYL9+/Yrcu3Qk
PUVumeQ2YADwupn1lRG+b8T/3Z+oQuRjRGv2NgFjE4qpGr3PzO6Of79X0vfN7L8lzUg0qvQaDGQv
ttwmqb+ZbY33UFsvKQAuBv5sZn+TlP2YghuejxzZtVo+gwYNYvPmzR3tXXbZpUuPXb58eZfOX0Bq
k4gUeJuZ/Tz+/XFJiW1qtyMXX3wxEyZM6GjPnj07wWic6zpJ7yCqcrsV+A7w/8zs8WSjci59ihW5
+AvRQvvXiEpHG/BX4AsViKtb8qdXbNtW0iKFxYwARhEVADnJzARMBB4s+qgaYmZfMLMvAOuAMWb2
NaKpWa8nG1nXrVixgtGjR7NqVaJ1JbZIOk3SB+NNq9+QNJrK7VWXKEnvl3SIpIMk/bekT+7gIRuJ
Ni3PqDOzrVnnG0i0XnRXoLGTxxTc8Lyr8quX5rfL5G1m9nMze9zMfoaX88+2s6S9ASS9nawpt2kz
atQoBg4cCESjVyNGjEg4Iue67DfA24EfAXcBlyYbjnPpVCzB+mcYhtcBBwI3xD8LgBWVCKwamNkb
ZvY6sL+ZPRof+zOgZCNLxDuyfu9PVEigKkyfPp1NmzZx9tlnJxnGZOB9wEXAe4GpRNfwK0kGVUFX
EBWrOB84D9jRyN2DwGcB4jVYT2RuiEeubgH+YmZfz0wVzH4M8X5SvQk4f/+9557Lr3VTFlWTRCTg
+8BDkh4HHqLAFNC02H///enXr5+PXrlq059oFH13M5uPfwY516liveO/IfrSt4JoGlymOkJI9AUw
tRIo5PCypP8EHgUOBZ6udACF7L777rz88psd9XvsUbYO718D/yfpr0SjelUxtW3FihUdayFWr17N
qlWrkupNHgRclt02s9uSCCQhbcD/ATvFa6p2NHJ3MzBO0kNEn01fljQNaCH6g38k8BZJR8f3Pxf4
JXCdpAeALUSfbz02dOhQnn766Y72e97znt6crqsySURmNM4rCMbM7C7gvZKGmNn6pOPZkUGDBjF6
9GgfvXLVZifgEuCPkj5OH5ll4Vx3FXxjhGE4Of5vRb419MaQIUNYv359TrvCvgh8iahXfCVRL3wq
ZCdXAC+99FJZnsfMLpd0PdG0ySer4QsORKNX2c4+++ztNgGtkAVEnRd1wHuIqnf2peIWIdG6ot9L
OhHYXOzOZtYOnJZ3OHuO58ACD/18jyPMM2LEiJwEqxJflKstiagESb8ws29Jeph4TawUTSIws0OT
jM25GvQlor0+f0VUzXVKotE4AH74wx92aZlDphBTZluIYkaMGMF5553X69j6qmJFLu4ht4BDRhiG
4Y7WR1RUdnIFsG5dj7e26RZJY8xsGVExkNXxD8AniTaMrXmSzjezH0i6gazXiyTMrFcjBJWQXckL
olGsJJjZIZnfJe3O9qX/a90k4KNm9vu4V3RS0gHtSCU3GvYkoqhMJcWTit6rD5J0K9EX4easqbLO
9caTRDMAziNaf+57NmaR9L5Ct5nZ38r1vKtWreKRPz3C1sFbi96vrj1aGfRAywNF79d/ow9M9lax
K5jpHZ4BLCFav/BR4JhyB9VdO++8M6+99lpOu0I+CSwjKvyRmUaZSTL6RIIFNMf/vSLRKHpo2LBh
25VLToENRFUZ+5I3gEMlTQR+B+wJ/CvZkIpraGjgpptuYuvWrfTv359jjy1rMT9PIgr7eibZ7MSF
lQwkhc4mWsc5U9IdwK/MLJleJFcrrgSeIxrFWka0nOSzRR/RtxTqHC37/qhbB2/l5YN7Vbupw+6P
7F6S83SHpAFxFeCaULDIRRiGFoahAW+P9716NgzDm4mmL6VKdnLVWbtczOyi+NfpwA1m9mXgT8C0
igSQAmb2l/jXwcAnzew+ovUuhaZopcrFF1+c005qwbmkhyU9FI9QtBD94epLriHqGX0f8DzRmr5U
a2xspK4u+gjt168fjY2NO3hEr3xd0gXAyZ389HUvxD+HAHsDfydK0A9IMqg0MLNVZnYO0ZfhfYG/
Srorb98457pjfzO7AHjNzJopsN1FX2VmH8/8ACcQlbL/vJmVNbmqEcslXSbp35IOpBSKVRHsEATB
V4Mg+EAQBF8HXi1zTNXoBt78kPkXMDfBWHLkr0fba6+9yvVUs4BfxL9PokqKXORfn7e97W0JRcJJ
RCOhJwGHmln++qJa9zYzuwZoM7NM4YpUq6+vp76+vuP3Mr63wJOIgszsSjO7kqhUf6OZ/dbMziC3
jH+fJOloSQuAu4E/EyVZX6IKOjBcavWXNARA0q5A+w7u3ydJ+jxRNdPvAY9I8rVqO3YA0eyvGZLu
lXSKpF2SDqqnupJgfZGocMFFRL3LqV8bkYBBZrYQwMzmEVWES4X89Wn57RJqM7NWADPbAFTFfP+m
pqaOjan79etHU1NTUqHsAryT6MvzvC7sA1VzJI2I/7sPVfD6aW1t5ZlnngFg7dq1ZV376UlEl7xN
0v4AiuYMVmRjspSbAvzSzD5kZhebWauZPUvUIeZcT5xHtGRkDPAI/loqZBow2szGAx8GTk84ntSL
i1fdRjSj5UXg28AdkqqyWm7BBCsIgn3iXwcDVwNnEM0tfVcF4qo2WySNk7Rr/MU4tV8Ow7CzuiUl
8aikeZK+HVcT/HO5nqiUmpubOzam3rZtG0uXLk0qlO7uA1VrTgf+i2jfvYXAWcmGs2M//OEPi7bL
xJOIwk4HbpD0LNEm019KNpxUeMnM7s00JP0GwMwWJxaRq3avmpmI1gn/G9EWG2577Wa2CcDMXgFe
Tzie1JP0U6JqwBOAi8zsQ8DhwDcSDayHihW5mBb/XMn21QR9LmmuU4DZwM+J9g37erLhJOI/gOOI
Nlm+ycwSy1S6o6Ghgfnz5xOGIUEQlLtQQTHd3QeqppjZE0TT36rG7bffntO+7bbbuOyyywrcu2Qy
ScS7gH8SbUi9Q5IOIvqDNVbSgUTFaTLFDn5pZgskzQA+B2wFzshsnl4tzCxTiKnPk/RNos6aPSQd
TzTlNiD6jHGu2yQdTrTH5ZmSLokP1wHfIkq0XK6/S5pDtCnzEUTTul1xfyMa9dsEUUVlM3tZ0oSE
4+qRYvtgZQo1HA2MDI4XhtgAACAASURBVMPwz0EQjCeq8OWymFkL0X4QAEh6R4LhJGUPYGeiL317
SDrXzH6ccEw7dOKJJ3LDDTcA0ejepEmJzYDt1j5QtULSU+R24LQBA4A3zGxkMlGlV0+SCEnnECVi
mdfUgcAlZjYn6z4HEm3OfBDROp1FwEdKEbOrPDO7HLhc0vfM7EdJx+NqwktEU9jfAmS+47QD5yQW
Ubp9haizfRxRx/t3kg0nvSTtTTQb4xTgPkkBUfL+G6LtW55OMLwe60ov+VzeXCD7PuBEIPX7G1WS
pAuJhjB3At5KlIW/v8j964Am4ENE08JOiZO0zO1H8+YUsT8B3zSzss3tK5GFRP/uDxANhVdFMZQb
b7yRuro62tvbqaurY8GCBcyYkcjsvElEX5xvA8bSd9Y6jiDqWb8cuNLMHpX0YaCsJfn6mL8DxwPX
x+3RRDMMjyMaxTqDaFPrO+PPmTWS+kvay8wqs6mgKylJx5jZrcCL+esXzOyqhMJyVczM/kpUhfJq
M3suc1zSgATDSrNBRIWJXonbk4kSBre9g4lmZwjIfD61A3ckFlEJdCXBelcYhlcAhGH403gDYpfr
M8A+wKXAJUTJUzHjgYFmdoikg4E5RNPrMlV5LgbGmtn6uPd5CJD6Lzpmdpqka4h6If6YdDxd0dzc
THt7VASpvb2dpUuXJpJgmdl64Pdxs8+8x8zsDQBJ+2empJnZn1VkY6O02GeffTqKXADsu+++CUZT
mJktkjQ069CjRPshLZeUWe/3MtGi4oxXiCqjbve5s3Llyi4977/+9S9mz57N9OnT2WOPPXoafpdJ
+q2ZffH/t3fvcVLX9eLHX9/d5aKreGlBBUUt6L3LLy8ppZaa55GcwkQRTMuik6aW6ylFxFS6UEdP
KphHO67XOBpekZtAec1IUElFSzvLvgUVLVFxPQKyKLC7398fn+8sM7Nz292Z+c535v18PHow35nv
5eM0O/N9fy7vd8EvFA2xdKh7h9oKU47GicgU3P2jh5t1kLa4bgVbAKzFBVnQfamNCajqQmChiJyg
qn/IekBE5LTOw/O8T/u+/4rneZ8Cqgvcpih6X1W3isiuqrpGRHbOsv/RwMMAwXqb+JokXwBeBq4V
kU/iboRKPrgCEJGBuF4bH5cVr+SNGzeOuXPnsn37dvr16xfmGqxKt0FE/gN38/8F3A9TSZs8eTJT
puzIxRH/uFDyFEQsUNVYNcoFwG+AB0nMSLgrLujqpqEht5mb06dPZ9WqVTz22GM96rRYuXJlzvsm
GSgiB+NG0jsBVHVbb08WZap6Z/Dwl7ipN524jr0loTXKZHXllVfS0tKSdb9YJ8ekSdmXYNbX1zNt
2rQ+ty3OObjpxD8BHsCNgJvuPFU9K+xGRIGI/ERVrwAmJaezV9XIzpjLJcC6EJjjed5ewFtApdXn
ycU/ReQsoE1EfkX2zF6DgI1x2x0iUqOq7bjRqn/B1QPYDCwTkWdU9ZXkk+Tak5yv47K4EfdZeRT4
B7C8EBfJt8bGRubNmweA53mFLhZr0vsWLuvbWGAV7se7pN10000J2zfeeCNjx44t9GXzEUQ8IiI/
DEYMvwysxKVdvkZEZuJG46uCUdVeWb9+PfPnz8f3febNm0djY2Oh64SBm17yYNy2D3yy0BctcXfi
vpO/gFvTMAGXocukkGJNKLhRGl9VC/5ZamlpYcULK2gf1J5xv6pOlwB6+ZrMP7M1mwqSK6lVVd8O
OpSXBkskTEBE+gcPXxORo3DLPHyo3A6fHCwO/r25pweKyGXASbglOk2qWjI1/rL+9fm+/xfiill6
nmfzbbv7Pm5h+AO4m8RvZNl/E4m9xVVBcAVums5zqvoOgIg8iXv/uwVYufYk9/a4nvQkq+q82GMR
eUBVN/W8ZcU3ZMgQBg4cyLZt29hpp52KcROYQETuJc3UgSj33ORKREar6vPAF3HrgWKZ7b6MuzEs
WWvWrEnYXr16dZo98yofQcR5wH+LyDbgHeBcVd0kIsuAZ3A34uf3pZFNTU0JU2+bmpoKPvVWVS2T
WXcHqOpdIvI9Vf0XEflj2A0qcfXBvx5u/ce/FrsB7YPa2XBkysHjHtt9xe55OU+SjSIyHvBF5PtA
cX80S5/ivpc9EjNuW4dPekcEmW5T+XO6g0TkOFzn0Rdx+Q8uzn/Tei9rgOV53vdx6dr74T4w7cDI
ArcrUoLiaG8Em7/J4ZCngHHAnGAN1stxr60EPhNUSt+AW/x3Wx6bW3BRCa4Ampub2bTJNXfjxo20
tLRQX1+f5ai86nGPTZn5MvA88M2k531KPMAKYw1Wb4OIIAvTkcHjF3A/Ssn7TAem9751OyxevJjt
2115nO3btxdlbaOI/ImkzgpVrfSSIv2DrKTNwW/KJ7IdUMlia0IBRKQjftt0ORsYAVyKu6G1WU1x
VPXA2OMgG95g3DKSkq2PWgLSZd7Otm7tK7j75wW4mWFTU+101lln8dJLL2VtxJYtLjfb6NGjs+wJ
Bx98MLNmzcq4Ty7jx+fgsprZfNv8WQCMEZGncUHrmSJyEbBGVRcFQ56x7Clzguw9pgCmTk38e7z4
4otZsqR4yxRU9c8AIrIn7ssi1pExlAw9N+VCVa8OHn6gqhdl3LnEbNuWONsjFlAUUlSCiJDWNsZu
9DxcpsRDinHREncNbkbFRbhahSU/9daUvCpckeGDgJeA/cNtTmkKRldm4ZaD7CEi56jqY+G2qjSp
6i9ij4MyR/H3QZnU4T5/JwIHAotEpD456/batWvZ9OEm/JrM8ZrnewBs/Ghj5v3aPdauXZt1uU0u
AVar7/tve563q+/7Sz3Ps/m2fRSMeCX3+rTEvX4fcF9RG9VHIvIJ4LOq+nhQ5PLuuIX0JSukaV6p
RDLNfR41xIoKht2QXK1fvz5h+5133inGZSMRRDQ2NjJ//nwAqqqqirK2UVU1brMlWBdb0VR1PjA/
2PxZmG2JAhGJZcPzgJ3jtkm1DrpCLcDN2Il94Vl2vNSuAI5W1XVBYfj5QNYAK74ofNxz1+G+4sp6
xouI/BY4CpcsbSfgNYKZF2m8D7QEa9tURD7GjRgm/DgPGzaM1z96Pa9Tb4cNG9a13CbdcppcAqyN
QYFhP5guaPNtk4jIZ4CbgN2Bu4G/BzVIKsl9wC3B4w9w9dNODK85uenXr1/CyEP//v0z7F1YUUxz
n0ejcDV7WnHJG3xVzdZ7VXGiEkQMGTKECRMmcN999zFx4sSirG1Mqve0D4nrXCuSiFyOKwS7hR3J
GuzvKr3Yb5gPbMOtd1wPdJC4nqaSeap6ZtiNiICOWL0wVX0ruPnPKLkovIgMxtXO+jSufE+5a8DV
kL0FuBzX8ZzJcuACEfk17ju/lsRyI6HKJcBKnm97XkFbFE3XA2fi1kr9FlcsttICrJ1VdS6Aqt4j
ImeH3aBcJE/rSp72VUylmOa+ubmZSZMmcffddxd0bZqq2jSTHEQpiDjttNNYvHgxp59e2JrZIrKb
qm4kcR7/x8BpBb1wNJwGDFXVShsR7xVV/RcAEZmAq2n5AS6rZsXf91h2vB7bJCI/xHWWHgv8Xw7H
JBeF3wW3Lrbg6WlLxIeq6otIbVAHNmOPt6ouEZFjceVdqoDzS2mtWy5ZBD8EXgw2C1/oJQcLFy7s
Sq0NMGDAALZu3ZqwHasPMXHiRMaPH1/wNgX1r3xVfU9EPsx+RNnZLiJjgBXA5wlSSJe6EhrBuhGY
TImluZ86dSqbN28u+No0ETkIN199X9zUk7NU9cXMR1WOKAYRc+bMoa2tjfvvv7/QCS4W425g9lbV
ir8RTrIW+CjsRkTQT4HPq+p6EdkL9xkr6aQ7RWDZ8Xrm27g1j1cCzUDW2QbJReFV9XXgdRHJGGCt
WrWKtra2vrU2hba2tkKV9UlnpYhcDKwTkfvIIUZR1UsK36zeKUiRhGI75JBDePbZZxO2i+z/gnSl
tSLyDdIU6CxzZwMzgRtwXybfD7c5uSmVEaxSTHPf3NzctUZt9erVhc6weANwtqr+TUQOxQWcXyzU
xSIoUkFEketgfSQizwMjRCThy19Vu2VLrDD9gZdF5GV2jDaUffmHPHhfVdcDqOq7IhL693HYkrLj
VROsdQnWlJvu6oAXVHWqiFwF7IYbEc27hoYGamtr837e2tpaGhoa+lL8vUdU9XIR2RXXKTQW+EtR
LlwgkQywxo8f321U6uCDD2br1q3U19cze/bsNEcWzPdw80VbgdHBdkWIK5D8Jq433SNCi16rq6vp
6NgxolxTE86fRHJ2OBEJPTtckTMsVqnq3wBU9a8ikrnSZuWJVBBR5DpYY3HZpm4BrFJ4oquz72JS
2CQij+AyuR6OS3jxn+BuAkNtWchE5BR2TJ8cJCLnWXa8lH4HTAse/wG3fOTL4TWn9IlIciKezwKR
TayX9m7S87y0GYd83y+5/+DYqFUxg6v4DEO46U0xdeQ237Yc/A44gx3TB2BHkFXy0wbigyuA9vbQ
7utLLjtckTMsbheRE4FluJEaqz+TKFJBRJHrYB0f/Hs9rhBzvDeobC8AP8ZNLf09Lq22yS6+mPdb
obWiNP0MOCJp+qQFWCmo6tLg3ydFpCrk5kTBu8G/HnAYbl1VZGXqro/9h44HXscVx/0cMLzQjYqQ
W9I871MhGYfippv8VFXvCrUxEVaK2eFGjBiREGSNHFnQ+uLfw00xvQo3xfScQl4sgiIVRBS5DlZy
keqYki9WXQSzcEmXvoTrQf9t8NhkoKp3ht2GEmbTJ3OzIUhK9AxuXXpOa/Pji8LHPTc9340rRaqa
cE8tIg+F1ZZ8SBtg+b5/C4DneRN834/1mN7teZ71VARiGYcM4G6IIxdg7bfffvzjH//o2h4+PJz+
g1LMDjdjxgxOOeWUru2ZM2fm/RpxWYLeBr5FxKaYFlGkgohi1sGylNEZfUJVZ4nIt1X1aRHxwm6Q
ibz46ZOjsemT6XwXN0XwFHJMclHpkmaFDSXiAzq5LDj5hOd5n/J9/1XP8wQYVOhGRYWIzFXVU0Xk
bZKmx1VgrZEBIvIibqpgJ0RjMfUNN9yQEET85je/CaspJZcdbtSoUV2jWCNHjixUgov4zFSRmmK6
zz778Pbbb3dtDxs2rGDXiloQMWTIEMaOHcvChQs54YQTilUHK/Y97AF7Aq+pakPBL1ziRKQ++Hdf
XD0nY/rCpk9mkBQkNLHj92xP3Dp9k94t7LgP+JgSyVzeW7kEWBcC93qeNxSXPnlSYZsUHap6avDw
86raNQwS+0GrMD/u6QHBnOQm3HqjrbgscmuC1w4F/itu9yNx01WfBV4B/h48v0BVr+9to0eNGpWw
XchaT6mISKyH5n96cWw1rvaa4G6czsR9md+B+5L6O64uRK+zPM2YMYNJkyYVZPQKEjNTRU1TU1NC
cN7U1FTwa1oQkZ6qdnVSiMj+uPoxle5HuGmCDbiinSWfgRKKV3/P5E5E/jV4+Hbya6pacqPoIYov
Vh1vAJYZN5s9cYM4HwMDgaZg1N1X1ZLucE0llzpYyz3PGwPsD7zm+/7mwjcrGkTkM8Aw4GoRmYq7
6anCrSM5NMy2FUtwk18NXACcjnsPqnELqrOtQxsPDFTVo0TkSOBa4GRwmeSA44JrfB1Yp6oPi8jx
wL2q+sMC/OeE4f7g30/gpgW+jKtk/i5ukWcm4wBU9Ysichwus5MH/ERVl4rIzbj3c0FvGzdq1Kii
pGgNClNfCOwce67Uv1BHjRrVlYWyurq6KDeCUQki1q9fz0MPuenzf/jDH5gyZUpRRrFiVPWNCu3o
AkBEXidxRPg9YC/gHlywVdKKVX/P9EikpimHJa5Y9Q+Ai4B+uL/B7ZmOMwA8DfxOVZ8JamNOJcLr
sbMGWJ7nTcQVS6sB5nie5/u+f0XBWxYNewDfwP1wxabDdeJGZSrFWbgU9Xvjpnt5uNGUXArlHg08
DKCqK0RkdPIOIlIL/AKXWQ5chr3DROTPwHrgR6rarUctVyLSbTsx30RhqepRwXUXAN9R1Q+D/+Z7
czh2oYjE7j72xwVlX8PNjQe3uP1f6UOAVUTn4dr+TtgNyVVzc3NXFsqOjo5C1wnrppSDiKampoT3
psBp2gEQkXvZEVQMZUeipkzH9MON8ByA62G+Arde4g6SRoFF5Oe4z2g7cKGqPpvqnCWiHvddfCNw
i6o+KyKfJQIZKItcf8/kKGrTlEvA2biEMj8BHsB1QpvMRqnqMwCq+rKIDFfVyGYUzmWK4EW46VkP
4358ng/+rXiqugxYJiKHqeoLYbcnDKp6G3CbiJylqrOyHpBoELAxbrsjrq5WzPeAB1Q1Nne5BVip
qo+LyLeA3wCnkqQv1ceLXLk8Zl9V/RBAVdtEJKc1fKraLiJ34hbSngqcqKqxm8wPccUNuwnpvzGT
VlUtuWx4mUyePDlh+8ILL+Thhx8u6DV7E0SEYfHixV0lD9rb2wudpj3m5rjHH+N+q7L5Ni4r2iQR
+QTwIvBXkkaBReQN3M3SEcB+wDxcVt2SFLspEZFPxQJBVX1RknuU0hCRI4CrVfW4pOfH4dJ0twOz
gu//2GunAF/v69rbItffMz3U02nKmZYCBK+PBWJfDi/gOjTKIdFRq6q+LSK7Bt8lJVfeqARtEJH/
wC0FOZoSzJDbE7kEWJ2+728NRq58z/PaCt6q6NlXRH7FjqHgOlU9KOQ2FYWInK2qtwMjY5mEYnLI
KLSJxGx5VUnBFbjMcvEB1BPAluDxAtIUoWto6P0smFyOLcC0uUeDUbnncSldcy7opqr/JiI/xlU9
3ynupV2BDamO6cv7k4tc35+4z0z/IDPVCwQBRKlnpFq7dm3C9uuvv16My/YmiCi6448/noULF3Zt
jxkzphiXfQU3q6ADuAT3/vwtyzEP4NYmxbTjRsmTR4EVeDS48XtTRGpEZLCqvpfH9hdC/A3LUcDa
bAeIyCW4tdZtSc/3A67DBZZtwFMislhV3xGR64Gv4ILTPily/b0+S7UWVlVfjXv9m7jpzx24OmSN
fVkXG7ZeTFNOuxRARHYFZgDHqWpr8Nmrw01pjbqNIjIe8EXk+0Dx5khH1xm4UfaxuL+VaZl3L225
BFjLPM+7B9jX87ybgecK3KYo+hnwQ1yx2D+xo2ZNJYgl92jpxbFP4dYRzQm+eF+Of1FEdgMGxCcQ
AW7H9R7PwVVFL/wCoSJQ1Wki8v9w669+p6rZbgwRkUm4ka9f4YLOTuB5ETkuKHA4Fvd5LGWx+Zib
gI9wAeF/4n6ETXe9CSIqxe9wn53zcUHTfwEZS2mo6mboutGbi5vOMzPFKPAg4P24Q2PPJ9wI9mRk
uK2trcfH9MK3cOmix+K+o3+awzGvAhPo3snTAKxR1Q8ARGQ5cAwuSH0aWAh8v68NLnL9vXxItRY2
FkDshJvxc5CqbglGoE8EFoXU1rzKcZpypqUAX8D97l8rIp8Ebk/XaZHr30mR/q5ycTYwArgUuJiI
JJgJk6q24QLuspBLkovLPc/7Km7qRIvv+4sL36zIeT9YlPcDVb1DRCpmrrKqPhJ7iMumeIOI3E1u
N8gLgDEi8jRu5O9MEbkI9yO+CPg03XtcLwVmiUgjrhf17Dz8Z4QmNgIYjIDGbuoOFZHTcxjBmQ/8
j4g8iRs9vRBYhZuy2T94PDfD8aGLFfQUkWeB76pqs4gsw62B+XWYbStRPQ4iwvD4448nbD/22GNc
ddVVhb5sDfAkME1V7wu+I7ISkf1w30VNqnqPiFwT93JsFDh5tD3l6HBPRoZra2t7fExPR86DG5Yb
e3jMPBE5IMVLyVO6u6Ygq+r9QXCRUS43vY2NjVx00UVd2+eff34p3CynlWYtbMxW4AuqGpt1UYPr
FImspGnK+5B93WympQB1uO+vQ4HNuCUXz6jqK8knyfXvpDd/V5D/WSnBlP8Xg81Ipxs3vZNLkour
gMt933/Y87zdPc97wPf9rxehbVGyVUSOBfqJyFdIrGlUKW7A9ZSC6yW9gx2JKVIKpkn8IOnplrjX
n8NNL4g/5nVK8IayD3o9AhjcPKWql/WlPrUoHO2q2gygqq+JSGSn0BRYr4KIYhs3bhz33Xcfvu/j
eR4nnXRSMS7bHxeUPyki/0IOv28ishcuA9q/q+ofg6dfTDEKvAa4RkRmAvvipjNXWk2bnILMTHK5
6W1oaKCpqamr/t7YsWNzPn8xMp6mkmItbOz5ToKAS0R+COwCPJbqHKtWreoafcmntra2fAeoi3Gj
6O24zMFXZtk/01KA94HnVPUdgKCz8FDcSL0xkVaVwz5bgcc9zxuPm5duq027Ow83gnAFcC5uymCl
SbhBJig2bDKLGwGcC/wReARXvXxpWG0KyRsi8p8iMi5YM1LyBSz32muvhO299967GJftcRARhtNO
Ow3fd53cvu9z+umnF+Oy38WNpF+NW+/w7RyOuRx3s/hTEVkqIktx0wR/ISLP4N7vuaq6ElgGPIOb
onx+3ltf+lbh1truGYyQH4t7P/JuxowZ7LLLLgWrv1cIqvpvuFkXtwWZYAGX5CEIzMcAE9MlcGho
aOgafcmn2trafK+5PROXaXMMcCvZp3Q9BZwAkGIpwErgMyJSJyI1uIRqzflsrDFhyeXHeTpwJ26e
9Y9837+zoC2KEEms2B0bibgsjLaUgDeChAXP4JI0lPwNcom5G1dseCLuB+ZW3KLxSnEmbjTzBNyN
XMZMpdkyUwX7DMatDTlIVT8WV7Dwn0Bs1fwzqtrrv9eNGzcmbG/Y0KPO/N76Lu7G5re4dR65BBFF
N2fOnITt+++/v+BZBFV1NTv+v52Tad+4Yy4gdfrkbqPAqjqdEq07Vkgicgawi6reGkzhfgTXOTtL
VQvyPV+s+nv5kGYtbEfcLrfgvqPGRzm5RZyejqJnXAogIpfhPlMAc1T17wVruTFFlEuA9WdcL8P+
wE2e533W9/1zC9usyLglaTuWutQne5HdctOjG2TTzR64hc8XqOp3ROSrYTeomFT1Y9x6olylzUwF
EEzVvQpXoy7mU8ALqjouD02mpibx67Nfv375OG1GvQkiwvDggw8mbC9cuLAYadpNnqjqWtxoAqp6
T9zzi3FTxFIds5TKG3mH1GthJ4jILrgsn9/DjX4+EWTJv15Vo1CbMJ0ejaLnsBTgPuC+fDfSmLDl
EmBd7fv+74PHJ3ue96NCNihKNKjYDRDUUPkUriZEpc3N780NsknUH7cQdqWIjMLN1TfpZStS3YnL
5hnfDX44MExE/oTLWDhZtfdVpTdv3pyw/eGHH/b2VGVn6NChCZnghg0bFmJrjCmcDGthY3JZigFA
a2srNZtq2H3F7n1vGFCzqYbW1rzfjnyXCIyiGxO2tAGW53kn+r6/BJeePX7EKtIZcApBRL6OG7FZ
hZtPPF1V7wq5WSZapuBGZa7EpVYuyeQFJSRjkWpVfQwgqa7q28CvVPUBETkauIsUxWIjWKS65Kxb
ty5h+623CjdjOCkDZ4JSr6VmTNREZRTdmLBlGsH6VPBvUVZuR9xFwOGqujmop/IE7ubNmJyo6tMi
sjPwddx0EsuilFkuRaqTPY/LfIWqLheRYSLiJS86z3VBuOd5XYkcYtuFLlItIsPYkcRhLvCSqv6l
1ycskJNPPpl77723a3v8+PEZ9u6z3tTgM6bk1NXV0bKhhQ1H5mc95+4rdqeuri4v5zLG9EymoeuJ
wb97+77/i/j/9eZCnuf18zzvHs/znvY8b5nnedmK00VJZ6xgZVD7wEb5TI8ECUK+g8tC+VlcwguT
XqbMVOn8HLc+AhE5BHgzXUavXMQHV6m2C+RWYBZuSumTwPXFuGhPnXZa4oypQmYRVNU7g3pqd+M6
Jl7H1c/bVrCLGmOMMRlkCrC2eJ73HPDNICjq+l8vr3UCUOP7/heAX5K9dkKUvCoi14rIySJyLfBq
2A0ykXO0qn4H2BzcLB4YdoNK3ALg4yAz1XXAZBG5SEQyFVy6CviSiPwZt0j7u4VvZt4NVNUnAD9Y
P1aSnTlz5syhqsr9vFRVVXH//fcX47LzcUH0jcBNuOQCxhhjTNFlmiJ4AjAUlykvH+tBXgFqPM+r
wq2f2J68Q7DW61yA4cOH5+GSRXMW8H3cws9VwKXhNsdEUI2IDAR8EakmMc1vaJqbm5k0aRJ33303
9fWlM+icLTNV3H4HxD3+APhaYVtWcFuDDInVwchdSQZYixcvprPTZaTu7Oxk0aJFxcgiuJuqfklE
bgd+SJqCrsYYY0yhpQ2wfN/vxNWMydcNyWbgANxNUB1wYopr3oqbAsPo0aOLMt8mTx4AbgOa+jLl
KB8WLlzIvHnzMu4zadIkACZOnFjotREmd7/GZbwbDPwl2A7d1KlT2bx5MxdffDFLlliN8RJwLjAT
9x16Ma7IeckZN24cc+fOZfv27fTr14+TTso0sJg3sTV4tar6UVAM1xhjjCm6nNOH5sFk4BHf9z+N
Kw56p+d5A4t4/UK6Ejfi96KITBeRSA2/mZLwPi71+NeAr8bXnglLc3NzV6rt1atX09JiuQTieZ6X
cbsQVPWfwM+Aqbj1ZGsLftFeaGxs7Ho/PM+jsbEoSTHni8hPgb+JyApcIhRjjDGm6HKpg5UvH7Bj
WuD/4QryVRfx+gWjqs8Dz4vIHri5/6uBAWG0Zfz48QmjUl//+td56aWXurYPO+wwZs+eHUbTTGa/
UNVjgefCbkjM1KlTE7ZtFCtRGEkuROTfgVOAPYE7gJHAvxf8wj00ZMgQhg8fzpo1a9h///0ZPHhw
MS77IPCWqvoi8nt2jGgZY4wxRVXMAOs6YJbnectwGbAu932/rYjXLxgROQa3YP5zuOmCF4faoDgP
PPBAQi2g+NTJpqT4IrIAUFyR3NBr+MQXigU3imV2GDRoEJs27Rgk2W233Ypx2W8AxwBPqOr1IlIy
AXm89evX8+abbwLwxhtv8N577xUsyBKRzwCx9PWXBN931cCvgEMLclFjjCkhESlSXVGKFmD5vr+Z
zNXOo+xC3BqswDdjnQAAIABJREFUs8Neg5XKTjvtxEcffcRhhx0WdlNMerPCbkCyESNGJARZI0eO
DLE1pecb3/gGt956a9f2GWecUYzLxqZ1x75nthbjoj3V1NREe7sbQGpvb6epqamQSS72wAWeewHf
DJ7rBJoKdUFjTHFdeeWVOU1TjxV7j601z6S+vp5p06b1uW3GpFLMEayypaoTs+8VnoMOOgjApgaW
sCA1e0mZMWMGp5xyStf2zJkzQ2xN6Zk1KzEmvv3227nwwgsLfdl7cPWv9heRPwALC33B3njwwQcT
sgguXLiwYAGWqi4DlonIYar6gogMBt4PMk0aY8pAS0sLK15YQfugzDN/qzpdH9TyNcsz7lezqbxu
f61Idekpr0+YMSZvRo0a1TWKNXLkyJJK014KYiM0Mdu3d6s8UQiPAX8EPgOoqr6UZf9QDB06NGH0
c9iwYcW47G4i8hqwEdhDRM5RVUvVbkyZaB/UntcAwphCKmYWQWNMxMyYMYNddtnFRq9Kx29VdZWq
PlCqwRXAP/7xj4Tt2HqsAvsPXMHuzwJfBK4oxkWNMcaYZDaCZYxJa9SoUaxcuTLsZpSkqqqqrmlw
se0iaBOR60hMhnJr5kOKL/59geJkWAQ6VHUdgKq+JSIlWYTZGGNM+bMAyxhjemHo0KH885//7Nou
5DQ4EdlNVTcCTwdP7VWwi+VB8nTJbdu2FeOym0Tkh7g1asfiyoEUnS3GN8YYYwGWMcb0wttvv51x
O88W44KGvVX1vEJeKB9qa2tpa9tRhWOXXXYpxmW/DfwEV/h9FXBmMS6azBbjG2OMsW9uY0xa69ev
56KLLuK6664rVrHYyEieBtfR0VHIy30U1LwaKSKHxL+gql8o5IV7Y9CgQQkB1qBBg4px2R+qald1
bBH5FXBZMS6czBbjG2NMZbMAyxiTVlNTE88//3yh6xhFUlVVVUJQVV1dXcjLjQWGArcAjYW8UD4k
j+atW7euYNcSke8BZwMNInJC8HQVrqB9KAGWMcaYymYBljEmpfXr1zN//nx832fevHk0NjbaKFac
Y445hqVLl3ZtH3vssQW7VlDT6Z/A1wp2kTwqcpHqu3Cp6y/HTQ8ElwBkfSEvaowxxqRjAZYxJqWm
pqaEYrE2ipUolqQgprm5OaSWlJ7zzjuPKVOmdG2ff/75BbuWqm4F1gLnFuwixhhjTA9YHSxjTEqL
Fy/uyga3fft2Fi1aFHKLSsu7776bsP3OO++E1JLsROQIEVkaPB4hIstFZJmI3CQiVcHzPxeRZ0Xk
aRH5fF+ud9NNNyVs33jjjX05nTHGGBMpNoJlKsrChQuZN29exn1iaZMnTpzI+PHji9GskjRu3Dju
u+8+fN/H8zxOOumksJtkekFELgEmAbGsE78GfqKqS0XkZuBkEXkD+BJwBLAfMA/4XG+vGT89EGD1
6tW9PZUxxhgTORZgmYoWUrHYSDjttNO49957AVco9vTTTw+5RaaXXgUmALOD7cOBPwePHwL+FVe4
+FFV9YE3RaRGRAar6nvJJ0ueGplKXV0dra2tCdu5HGeMMcbkSkReBDYGm6+raijlOVIp+QDLijaa
fBo/fny3USkR6XpsN4E7zJkzpysAraqq4v7777c1WBGkqvNE5IC4p7wgkAL4ENgNGAS8H7dP7Plu
AVZDQ0PWa8anaAfYsmVLTscBrFy5Mqf9jClHNZtqsqbmr9rqOgI7B3Rm3M9qqJlyJiIDAVT1uJCb
klLJ//VZ0UZTaLEgYsiQIWE3paQsXrw4IcnFokWLLMAqD/F3ZbsCG4BNwePk53vlo48+StjesmVL
b09lTMWor6/Pab9YR2DDiOydFrme05gIOgTYWUQexcUzl6vqilQ7htFxEYlow4o2mkIaPXo0ALNn
z86yZ3lLXp+28847s3nzZgA8z2PnnXe29Wnl4UUROU5Vl+Lqa/0JWANcIyIzgX2BKlVtzXAOY0ye
5TqzJvY9XOm/WeVIRI4ArlbV40RkBHAH4AN/B84PSnYYZwswE7gdGAk8JCKiqgkjMkOGDOEgOSjr
yV5//XUADtznwMw77uPOmW3GUyQCLGNM8Q0dOpT169cnbJuyMAW4TUT6A6uAuaraISLLgGdw2WUL
l1fdGGNMN7kkJAIWhNW+EvQKsCaY8v6KiLwP7AP8I36na6+9NqeT9bbjIt20dguwQhCkRW7CDW9u
Bc5W1TUp9vk98KCq3lz8VppKk2p92jHHHMP69ev55je/adMDI0xV1wJHBo9fwWUMTN5nOjC9mO0y
xhjTJZeERBZg7XAWcBDQKCJDcWuJ3w63STtYyrRwjAcGqupRwKVAqvD6CmDPorbKmCRDhw5l1113
pbGxMeymmAjZZ599EraHDRsWUkuMMSYaVHUesD3uqVQJibpZtWpVt8RC+dDW1lbqib9+C+wuIsuB
+4GzkqcHhskCrHAcDTwMECzIGx3/ooiciluI/lDxm2bMDv3796ehoYHBgweH3RQTIRs3bkzY/uCD
D0JqiYmi5uZmDj/88JwyCBtTxlIlJOqmoaGB2travF+8trY25+yvYVDVbap6hqoerarHqOrTYbcp
nk0RDMcgduTtB+gQkRpVbReRzwBnAKcCP8t0klx7FmI9GyXeE2FMpHmeF3YTSsbJJ5/cVUMNsIQo
pkemTp3K5s2bufjii1myZEnYzTEmLKkSEpmIsAArHMkpkavihjW/AwwDngAOALaJyFpVfTj5JLn2
LMR6NnraE1HoejTZ1qKJyA3AF3FD4+AWePYD7gF2AtYBZ6qq5YA2RVddXU1HR0fXthWp3iG+SDVg
RapNzpqbm1mzxv0MrF69mpaWFks1bipVt4REIbfH9IAFWOF4ChgHzBGRI4GXYy+o6iWxxyIyHXgn
VXBVJrrWogXvw7W4ICrmMOAr8emig6DrHlW9Q0QuBb4PXFfMRpcKEekHzMIF4gNw6/aasbSuRVFX
V8e7777btW3TKHe48847E7bvuOMOrrrqqpBaY6Jk6tSpCds2imUqSS4JiUw0WJdrOBYAH4vI07jg
YLKIXCQiJ4XcrmJLuxYtGN0aCdwqIk+JyFnJx+DWqB1fvOaWnG8D76vqMbjpA//NjrSuxwAeiQGr
yaP44ArgnXfeCaklpefBBx/MuG1MOrHRq5jVq1eH1BJjjOk9G8EKQTCi8IOkp7ut5g3SJpeztGvR
gFrgN7iAoRr4k4g8n3RMxqw6uYrwGrUHSJwy0I6ldTUlwPf9hO3OThtENbkZMWJEQpA1cuTIEFtj
jDG9YwGWCVOmtWhbgOtj66tE5AncWq3YMR+RJatOrnqzRq3Q69NyoaqbAURkV1yg9RNgZq5pXXMR
4eCz4DzPSwgkLMmFMT23cOFC5s2b17U9YMCAhNf79+/fVQB04sSJljDFGBMJFmCZMKVdiwZ8GrhP
RA7DTWU9GrgzOOYE3DqjscCyYja41IjIfrgRqiZVvUdErol7uc8BaKkmSCkFyaM0ydumMrW2tlKz
qYbdV+yel/PVbKqhtbU1+45lora2tqvzYuDAgQVJP22ix/6uTNSUfIBlf1RlbQEwJliL5gFnishF
wBpVXSQidwMrcIX3fqeq/ysiVwB3isg5QCsupX1FEpG9gEeBf1fVPwZPW1rXIjnggANYu3Zt1/aB
Bx4YXmOMiajx48d3G5WaMGECLS0t3H///ZZB0BgTSSUfYJnylW0tmqpeA1yTdMy7wFcL37pIuBzY
A/ipiPw0eO4C4AZL61p4FmClt/vuu7Nhw47B0z322CPE1hRXXV0dLRta2HBkysHjHtt9xe7U1dXl
5VxRUVtby+GHH27Blelif1cmako+wLI/KmNSU9ULcAFVMkvrWgTLly9P2H7yySdDaknpiQ+uAD74
4IOQWmKMMcYUX8kHWMYYkyxbkepgn8HA08BBqvqxiOwE3AUMwSUA+TdVfa+3bYgvMpxq2xhjjDGV
yepgGWOiqKtINXAprkh1FxH5Cm592l5xT58HvBzUCPsdLutir1VVJX59VldX9+V0xhhjjCkTNoJl
jImihCLVIjI66fVOXBHqlUnHxNb0PQT8lD4YM2YMDz/8cMJ2pUpOtZ2Kpdo2xhhTKSzAMsZEUaYi
1ajqYwAiku6YPtcIW7duXbdtqxdmjDHGGAuwjDFRlKlIdS7H9LlG2EsvvZSw/be//S2nY8uxRlhy
qu1rr72WW2+9tWv7vPPO48ILLwyjacYYY0zR2RosY0wUxQpOk6JIddZjsCLVBTVlypSEbQuuTLkS
kWoRmSUiT4nIkyLyqaTXx4nIcyLyTFC/0RhTAWwEyxgTRRmLVKc55iZckerlwDYquEh1Mey99968
8847nHfeeWE3xfSQiBwBXK2qxyU9Pw74GdAOzFLV2/KdnTOCxgGo6hdF5Djg18DJACLSD7gO+BzQ
BjwlIotV9Z2Q2mqMKRILsIwxkZOtSHXcfgfEPd4CfL2wLTMxw4cPZ/jw4TZ6FTEicgkwCRcQxD+f
MljAdVS8rKrTReQbuOycqerzlSVVXSgiS4LN/YF3415uwHX6fAAQdO4cAzyQfJ6erN9sa2vr8THG
mOKyAMsYY4wxMa8CE4DZSc+nCxbymp0zilS1XUTuBE4BTo17KTkZT9rkOrmu/QSora3t8THluPbT
mFJmAZYxxhhjAFDVeSJyQIqX0gULOWXnhNxHXKI4QqOq/yYiPwb+IiKjVLWN7sl40ibXMcaUFwuw
jDHGGJNNumAhp+yckPuIS29GaCCcURoRmQTsq6q/ArbgavB1BC+vAkaKyJ7AZuBYYGbRG2kqQs2m
GnZfsXvGfaq2utx2nQM6s57L9E0k3kH70BhjjDGhShcs7I/LzvkslZmdcz7wPyLyJNAPuBCYICK7
qOqtQfKdR3BZm2ep6lshttWUqfr6+pz2i40KN4zI3nmR6zlNaiUfbdiHJr0rr7ySlpZu6/q7ib03
kyZNyrpvfX0906ZN63PbSoG9P8YY0zcicgaQNlgQkYrOzhlMBTwtw+uLgcXFa5GpRLnel8Tuc2bP
Tl5iafKt5AMs+9Ck19LSwooXVtA+KHN91apON7q3fM3yjPuV2+ievT/GGNNzqroWODJ4fE/c892C
BcvOaYwx3dkdY8S1D2pnw5H5WTObbRpmFNn7Y4wpNpvWbowxlc2+uY0xxpg8sWntxhhjLMAyxhhj
8sSmtRtTGDYybKKkqJ8wz/MuA04C+gNNvu//tpjXN8YYY+KJyBHA1ap6nIiMAO4AfODvwPmq2iki
Pwe+BrQDF6rqs6E12JgKZCPDJmqKFmB5nncc8AXgi8DOwMXFurYxxhiTTEQuASYBbcFTvwZ+oqpL
ReRm4GQReQP4EnAEsB8wD/hcGO01JmpEpApoAg4BtgJnq+qaFPv8HnhQVW9OdR4bGTZRU1XEa30F
eBlYgMtCtKSI1zbGGGOSvQpMiNs+HPhz8Pgh4HjgaOBRVfVV9U2gRkQGF7eZxkTWeGCgqh4FXApc
m2KfK4A9i9oqYwqsmFME63AFCU8EDgQWeZ5X7/u+H9vB87xzgXMBhg8fXsSmGWOMqTSqOk9EDoh7
ylPV2G/Sh8BuwCDg/bh9Ys+/l3y+2PSkXLS1tfX4GGMi6GjgYQBVXSEio+NfFJFTgU5ch4YxZaOY
Adb7QIvv+9sA9TzvY2AwsD62g+/7twK3AowePdpPeRZjjDGmMOJXxu8KbAA2BY+Tn++moSH7uo+Y
2traHh+zcuXKnPc1pkQMAjbGbXeISI2qtovIZ3CFqU8FfpbpJLl2RFjHhSkVxQywlgMXeJ73a2Af
oJbEXkFjjDEmTC+KyHGquhQYC/wJWANcIyIzgX2BKlVtDbGNxkRJcgdFlaq2B4+/AwwDngAOALaJ
yFpVfTj5JLl2RPSm4wKs88LkX9ECLN/3l3iedyzwLG7t1/m+73cU6/rGGGNMFlOA20SkP7AKmKuq
HSKyDHiG4LcrzAYaEzFPAeOAOSJyJG4tPgCqeknssYhMB95JFVwZE0VFTdPu+/4l2fcyJj9aW1tz
qpuRq5pNNbS2Wse1MeVEVdcCRwaPX8FlDEzeZzowvZjtMqZMLADGiMjTgAecKSIXAWtUdVG4TTOm
cKzSmjHGGGOMyTtV7QR+kPR0S4r9phelQcYUiQVYpmzV1dXRsqGFDUemXI/eY7uv2J26urq8nMsY
Y4wxxpQnC7CMMSYHCxcuZN68eRn3iRW5nDhxIuPHjy9Gs4wxxhhTYopZaNgYY8pGdXV1xm1jjDHG
VCYbwYowS+JgTPGMHz8+YVSqubmZU045pWt7/vz51NfXh9E0Y4wxxpQQC7CMMaYXRo0aRXV1NR0d
HQwePDhywZWIvMiOAqCvA7cA1wPtwKOq+ouw2mbK05VXXklLS7f8Bt3EisTGptxmUl9fz7Rp0/rc
NmNMNInIEGAlMEZVs3/BFIkFWBFmSRyMCVd9fT0tLS3cfvvtYTelR0RkIICqHhf33F+BicBrwO9F
5DBVfSGcFppy1NLSwooXVtA+qD3jflWdbvXC8jXLM+5Xs8luYUx5E5EBwP8An8QVbT5fVVeH26rS
ISL9cJ2DH4XdlmT27WSMMb1UW1vL4YcfHrnRK+AQYGcReRT3OzAdGKCqrwKIyCPAlwELsExetQ9q
z2unoDFl7hxgs6oeKSIC/DfwlZDbVEpmAjcDl/XkoFRJq9KNnPc2aZUFWKas5bJGrWqr6y3tHNCZ
9VzGlIktuB+m24GRwENA/F3vh7ge025iP0LZtLW19Wh/Y4wx3YzCfT+jqioiDSG3p2SIyHeB91T1
ERFJG2Cl+g1at25d129UzKBBgwC6Pb9u3bpe/Y7ZHaMpW7mOKsT+cBpGZP/eiuBIhTGpvAKsUVUf
eEVENgJ7xr2+K4kBV5eGhtx+32tra3u0f8zKlSt7tL8xxpSxvwInishC4AhgmIhUq2pHbIee3PyX
WcfXWYAvIscDhwK/E5GTVPWd+J1S/QY1NDTQ2NiYl0ak+82yAMuERkSqgCbcdKWtwNmquibu9cnA
N4LNP6jqL0TEA/4JxOYgP6OqKXsucl34HBsOnj17di/+K4yJpLOAg4BGERkK7Ay0icincGuwvgJY
kgtjjAnXLKAB+BPwFLAyPriCnnVi9abjq1Q7vVT12NhjEVkK/CA5uAqTBVgmTOOBgap6lIgcCVwL
nAwgIp8EvoXrsfGBZSKyADe16QVVHRdSm0uKiBwBXK2qx4nICOAO3Pv1d9xi2MzzHk2l+i1wh4gs
x31ezgI6gbuBalwWwb+kOtAywRljTNF8DliuqpNFZDTwqbAbZHJjAZYJ09HAwwCquiL48oj5B/DV
WE9NkCnmY+Bw3BD5n3BZYyarqiafuBKGzEXkEmASEJsw/GvgJ6q6VERuxgWrC8JqnyldqroNOCPF
S0dmO9YywRljTNGsBv5DRC7GTdv+XsjtKUnxGXFLhf2ymTANYkcdHoAOEalR1XZV3Q60BlMCZwAv
quorIrI38CtVfUBEjgbuwvXwJKiQIfNXgQlAbG7j4cCfg8cPAf+KBVimACwTnDHGFJ6qtgLHh90O
03MWYJkwbcItpo+pUtWubvGgVs8sXEaz2GrE53GFUFHV5SIyTES8YLF+RVHVeSJyQNxT8e/Dh8Bu
6Y6dMmUKr7/+etZrxPaZMGFC1n0PPPBAzj777Kz7GWOMMcaUMwuwTJieAsYBc4I1WC/HXghGrh4E
nlDVq+OO+TnwPnCNiBwCvFmJwVUa8eut0maBA1i/fj0v68vZp3l5bprXi2+/mHG/mk011NbWdo0C
lsgInzHGGGNM0VmAZcK0ABgjIk8DHnCmiFwErMEttP8SMEBExgb7XwZcBdwlIl/DjWR9t+itLl0v
ishxqroUGIvLOpSWTfMyxhhjjMk/C7BMaIIMdz9Iejo+PdnANId+rTAtirwpwG0i0h9YBcwNuT3G
GGOMMRXHAqyIq9lUk3X0oGqrm+bVOSBzxm7L5hU9qrqWIPObqr6CG/UreznUUDsH+D5ulPMKVV0i
InviCuz+PdhtgapeX9yWG1O5Wltbc/rNylXNphpaW1vzci5jjMknu6MOQW8K7KY6T319fU7Xi6Uf
bxiRPUteruc0JmSZaqjtDfwIGI0bBV0uIo8BhwH3quoPQ2qzMcYYYyqABVjh6HGBXVV9KfkkuRbm
jBX6nD17dpY9jYmMTDXUPg88papbga0isgY4GJfG/jAR+TOwHviRqr6d6uRWTNeY/Kurq6NlQ0te
137W1dXl5VzGGJNPFmCFozcFdo0xO6StoZbitVjK+hZgpao+LiLfAn4DnJp84lWrVrFy5crcsiz2
oJhuW1tb5IpZG2OMMabnLMAKR48L7KY6Sa43a21tbT3a35gIyFRDLfm1WMr6vwBbgucWAL9MdeKG
hgZqa2vznmUxlsbeUtgbY4wx5c0CrHD0psBuN7GaQ9nU1tb2aP8YuxE0JSxtDTXgWeDK4O9oANCA
S2xxJzAPmAN8GbAPeC9YogJjjDEmMwuwwtGbArvGmB3S1lBT1UUicgOwDKgCpqnqxyJyKTBLRBqB
NuDssBpvjDHGmPJlAVY4elxgV1WfCaepxpSebDXUVPU24LakY14H/qXwrStvlqjAGGOMycwCrBD0
ocCuMaYIbBqcMcYYY3orkgHWwoULmTdvXsJzf/3rX9m2bRtjxoxh77337np+4sSJjB8/vthNNMYY
Y4wxxlSgSAZYqWzbtg2AN998MyHAMsaYnrJpcMYYY4zprUgGWOPHj08Ylbrnnnt49tlnu7ZPPPFE
Tj/99DCaZowxxpg0cpl6W7XV1ZfrHNCZ9VzlLtWMnXQFzm3GjjGloyy+nX75y8RyNtOnT7cAyxhj
jCkh9fX1Oe0XCyAaRmQvLZLrOcvJ4MGDw26CMSaLsgiwfN9P2O7szNzrZYwxxpjimjZtWk77xUZm
Zs+eXcjmRELyjB2A5cuXc8455/Czn/2Mo446KqSWGWMyKYsAy/O8hCDL87wQW2OMKQc2lckYk42I
9ANmAQfgCptfoaqL4l7/FjAF6ABmqepNfb3m5MmT6ezs5IILLkhYHmGMKR1l8at/2GGHsXLlyq7t
0aNHh9gaY0zU2VQmY0yOvg28r6qTROQTwIvAorjXZwL/D9gMNIvIfar6QW8vtnz5cjZt2gTAxo0b
eeaZZ2wUy5gSVBYBVuwmJ+Z///d/Q2qJMaYc2FSmzGx0z5guDwBz47bbk15/CdgteN4DfPpg8uTJ
Cds2imVMaSqLX7ahQ4eyZs2aru1hw4aF2BpjSp8V0jW9ZaN7xuygqpsBRGRXXKD1k6Rd/g6sBNqA
+aqasvZDckdxOrHRq5iNGzfmfKwxpnjKIsBat25dwvZbb70VUktMFDU3N7N582bOOeccbrvttrCb
Y0xJs9E9YxKJyH7AAqBJVe+Je/5g4GvAgbgpgneJyNdV9YHkczQ0ZO+IANh5553ZsmVL13ZtbW1O
x8YvozDGFF5ZBFif//znWbp0adf2kUceGV5jTORs3rwZgCeffDLklhSPFdI1xqQiIlVAE3AIsBU4
W1XXxL3+Y+CbwCbgGlVdIiIHAnfipsC9AZyrqlu6nbwMichewKPAv6vqH5Ne3gh8BHykqh0ish7Y
oy/Xs6zJxkRDWQRYzz//fML2c889F1JLTKlLLtrY3Nyc8Pro0aO7egOtaKMxpgKNBwaq6lEiciRw
LXAygIgcBJwBHBHs+7SIPAHMAG5W1XtE5GzgIuCK4jc9FJfjgqafishPg+duA2pV9VYRuQVYLiLb
gFeBO/pysY8++ijjtjGmNJRFgBUbgYj58MMPQ2qJiRr77BhjTIKjgYcBVHWFiMSn5W0AlqrqxwAi
sho4GBgFnBPs8xRwXfGaGy5VvQC4IMPrNwM35+t6gwYNSliHtdtuu+Xr1MaYPCqLAMu+cEyukos2
iki3fWzNiDGmgg3CTW2L6RCRGlVtB14GLgsSOvQHvgDcCvwVOAk3TfAkoDbViXNNxtDW1taj/SvJ
ddddx/e+972u7euvvz7E1hhj0imLAMu+cIwxxpi82ATsGrddFQRXqOoqEflv4CFgDfAXoBVXSPe/
ReSbwB+D57rJNZFDbW1tj/aPqYREDp/+9KcTtkeMGBFSS4wxmVSF3YB8OProo/E8D4CqqiorumeM
Mcb0zlPACQDBGqyXYy+IyGCgTlWPxk2L2w+XhnwM8AtV/SrQCTxW7EZXiqamJqqrqwGorq6mqakp
5BYZY1IpiwCrubm5K7NOZ2cnLS0tIbfIGGOMiaQFwMci8jRuLdVkEblIRE7CjUx9UkSeA/4ATFXV
DkCBWSLyFCC4JA+mABYvXkxHRwcAHR0dLFq0KOQWGWNSKYspglOnTk3Yvvjii1myZElIrTHGGGOi
SVU7gR8kPR3fa/n9FMf8BRid/LzJv3HjxjF37ly2b99Ov379OOmkk8JukjEmhbIYwVqzZk3C9urV
q0NqiTHGGJPdtm3bWLVqFe+9917YTTER0tjYSFWVu3WrqqqisbEx5BYZY1IpiwAreZHnyJEjQ2qJ
McYYk90bb7zBhx9+yJVXXhl2U0yEDBkyhAkTJuB5HhMnTmTw4MFhN8kYk0LRpwh6njcEWAmM8X0/
L4ulZsyYwSmnnNK1PXPmzHyc1hhjMmptbeW1117joYceYuzYsWE3x5So5ALn27Zt44MPPgDgoYce
4u2336Z///6AFTg32Z122mksXryY008/PeymGGPSKOoIlud5/YBbgLyWHh81alTXKNbIkSOpr6/P
5+mNMSal1157DYApU6aE3BITJW+88UbGbWMymTNnDm1tbdx///1hN8UYk0axR7Bm4iqaX5bvE192
2WWcc845TJs2Ld+nNsaYbqMQra07Sv10dHQwduxY6urqABuFMImSC5wndwJu2LDBCpybnKxfv575
8+fj+z7z5s2jsbHRpgkaU4KKFmB5nvdd4D3f9x/xPC9lgOV53rnAuQDDhw/v0fkff/xxfN/n0Ucf
tTpYxuSZgavVAAAHyklEQVSgZlMNu6/YPeM+VVvdIHfngM6s56o0sdGr+O1YgGVMJrGyIum2jUmn
qamJzk73fdzZ2UlTUxM///nPQ26VMSZZMe+KzgJ8z/OOBw4Ffud53km+778T28H3/VuBWwFGjx6d
8y+O9egY0zO5TqNdtWoVAA0jGvJ2zqhKHoUQkW772CiEycUBBxzA2rVru7YPPPDA8BpjImXx4sVs
374dgO3bt7No0SILsIwpQUULsHzfPzb22PO8pcAP4oOrvrAeHWN6JteptJMmTQIscDAmn6677rqE
xEz/9V//FWJrTJSMGzeOBx54gPb2dmpqaqwOljF5cswxx7B+/Xr22Wcfli5d2ufzlcW8HuvRiSYR
qQKagEOArcDZqrom7vVzcEUt24ErVHWJiNQB9wA7AeuAM1V1S9Ebb4wxvZQ8lfQTn/hESC0xUdPY
2NiV3KKzs9PqYJU5EekH3AkcAHQA56hqXjJwR52IVAO3AYJ7b85U1Vd7e77169cD8Pbbb+elfaHU
wfJ9/7h8pWgHOP744xO2x4wZk69Tm8IaDwxU1aOAS4FrYy+IyN7Aj4AvAl8BfiUiA4CfAfeo6jHA
i7gAzJiiO/jggxO2Dz300JBaYqLm2muvzbhtTCae5yX8a8raCUCNqn4B+CVghfN2GAegql/E3Rv+
urcnOuaYYxK2jzvuuL60CyiTESyzQ3KmM9ixjiY23SumBDKdHQ08DKCqK0RkdNxrnweeUtWtwFYR
WQMcHBzzn8E+DwWPrytek8tXxD47ofvkJz/JSy+91LUd9XU02UaUM7HPTs8sWbKk2/ZVV10VUmvC
ZZ+dnmlqaqKqqoqOjg6qqqoqeklEhXx2XgFqgu/nQcD2XA8s9/dHVReKSOzLdH/g3d6eKzZ6FZOP
UayyCLAef/zxhO3HHnusYn+sUinhhB+DgI1x2x0iUqOq7Sle+xDYLen52HPdxL5EeqMvx4atLzfJ
qZTwZyd0Zfi90zWiLCJH4kaUT+7tyeyzkzvLIpjIPjvp2ZKIzMrws7MZNz2wBagDTkzeId09y7p1
62hra0t4btCgQQDdnl+3bl0k731UtV1E7gROAU5NtU9v/7v6+n6URYBliz53SM50VuI2AbvGbVcF
wVWq13YFNsQ9/1Hcc900NGTPepdOLseuXLmy1+cvsF7fJEfssxO6cePGMXfuXLZv306/fv3K4Xsn
04hyRvbZ6ZkTTzyRhQsXdm2PGzcuxNaEyz47PVOG3zu9ViGfncnAI6p6mYjsBzwhIgep6sexHdLd
szQ0NORljV4J3+8AoKr/JiI/Bv4iIqNUNSF67O39YK7HpXt/yiLAamxsZP78+bS3t1NdXW2LPqPj
Kdwc2jlBMPBy3GvPAleKyEBgANAA/D045gTgDmAssKwvDdhnn30ShoL33XffvpyuFPT6Jtn0TOx7
B6CqqqocvncyjSh3iWIvZ6mZMmUKixYtorOzk6qqKqZMmRJ2k0xElOH3jsnsA3ZMC/w/oB9QHV5z
SoeITAL2VdVfAVuATlyyix4bMmRIwjTBffbZp8/tK4sAa8iQIUyYMIH77ruPiRMnluMQcblaAIwR
kacBDzhTRC4C1qjqIhG5ARdAVQHTVPVjEbkCuDPIMNgKnNGXBixdujShntEf//jHvpyuFNhNcpGU
4fdOphHlLn0ZHc5FqfaW5nP67ZAhQzjppJNYuHAhJ598cjl8dkyRlOH3jsnsOmCWiCwD+gOXJ4/Q
VLD5wP+IyJO4wPPC+JG9nli2bFnCvaClaY/T2NjImjVrrDcnQlS1E/hB0tMtca/fhkvBGX/Mu8BX
89mO2ChWGYxegd0kF1WZfe9kGlE2eV6jNmXKFN566y0bvTI9FqXvnRzKsUwGvhFs/kFVf1H8VpYu
Vd0MnBZ2O0pREGjm7b2JjWLlY/QKyijAGjJkCHfddVfYzTARlI+eihJSETfJpVJDrcy+d7qNKIfc
nlKT1+m3ZfbZMUUUsc9O2o4JEfkk8C3gCMAHlonIAlV9Ke3ZjCmQZcv6tOKkm7IJsIwxQOXcJGf6
0Y7VUBsNDASWi8hj7KihdoeIXIoLwCzFfyDNiLLZIev0W5t6a0w3mTom/gF8VVU7oKuobq+meBlT
aizAMqaMVNBNstVQM8WWdfqtTb01ppu0HROquh1oFREPmAG8qKqvpDqJdV6YqLEAyxgTRSVZQ82U
tYqYfmtMnmXsmAgyBc/CfSenXVRmnRcmaizAMsZEUUnWUMuF/ZBHVqVMvzUmn9J2TAQjVw8CT6jq
1SG1z5iCsADLGBNFoddQM5WlgqbfGpNPacux4Oo5fQkYICJjg/0vU9VnwmmqMfljAZYxJopCr6Fm
jDEms2zlWHCJiIwpOxZgGWMip1RqqBljjDHGJKsKuwHGGGOMMcYYUy5KdgRr5cqVrZ7nvdHDw+pw
U39ytX8Pz19SbLF8evbeZGbvT3r23mRm70969t5kZu9PevbeZGbvT3r23mQW1vvj+b4fyoULwfO8
533fH519T2OMMcYYY4zJP5siaIwxxhhjjDF5YgGWMcYYY4wxxuRJuQVYt4bdAGOMMcYYY0zlKqs1
WMYYY4wxxhgTpnIbwTLGGGOMMcaY0FiAZYwxxhhjjDF5YgGWMcYYY4wxxuSJBVjGGGOMMcYYkycW
YBljjDHGGGNMnvx/cbjwPeY72wIAAAAASUVORK5CYII=
"
>
</div>

</div>

</div>
</div>

</div>
<div class="cell border-box-sizing text_cell rendered"><div class="prompt input_prompt">
</div><div class="inner_cell">
<div class="text_cell_render border-box-sizing rendered_html">
<ul>
<li>Except "alcohol" all other features columns shows outliers.
'''Color Codes : <a href="https://matplotlib.org/examples/color/colormaps_reference.html">https://matplotlib.org/examples/color/colormaps_reference.html</a>'''</li>
</ul>

</div>
</div>
</div>
<div class="cell border-box-sizing text_cell rendered"><div class="prompt input_prompt">
</div><div class="inner_cell">
<div class="text_cell_render border-box-sizing rendered_html">
<h1 id="To-check-distribution-Skewness">To check distribution-Skewness<a class="anchor-link" href="#To-check-distribution-Skewness">&#182;</a></h1>
</div>
</div>
</div>
<div class="cell border-box-sizing code_cell rendered">
<div class="input">
<div class="prompt input_prompt">In&nbsp;[13]:</div>
<div class="inner_cell">
    <div class="input_area">
<div class=" highlight hl-ipython2"><pre><span></span><span class="n">plt</span><span class="o">.</span><span class="n">figure</span><span class="p">(</span><span class="n">figsize</span><span class="o">=</span><span class="p">(</span><span class="mi">2</span><span class="o">*</span><span class="n">number_of_columns</span><span class="p">,</span><span class="mi">5</span><span class="o">*</span><span class="n">number_of_rows</span><span class="p">))</span>
<span class="k">for</span> <span class="n">i</span> <span class="ow">in</span> <span class="nb">range</span><span class="p">(</span><span class="mi">0</span><span class="p">,</span><span class="nb">len</span><span class="p">(</span><span class="n">l</span><span class="p">)):</span>
    <span class="n">plt</span><span class="o">.</span><span class="n">subplot</span><span class="p">(</span><span class="n">number_of_rows</span> <span class="o">+</span> <span class="mi">1</span><span class="p">,</span><span class="n">number_of_columns</span><span class="p">,</span><span class="n">i</span><span class="o">+</span><span class="mi">1</span><span class="p">)</span>
    <span class="n">sns</span><span class="o">.</span><span class="n">distplot</span><span class="p">(</span><span class="n">df</span><span class="p">[</span><span class="n">l</span><span class="p">[</span><span class="n">i</span><span class="p">]],</span><span class="n">kde</span><span class="o">=</span><span class="kc">True</span><span class="p">)</span> 
</pre></div>

    </div>
</div>
</div>

<div class="output_wrapper">
<div class="output">


<div class="output_area">

    <div class="prompt"></div>




<div class="output_png output_subarea ">
<img src="data:image/png;base64,iVBORw0KGgoAAAANSUhEUgAABVoAAAD+CAYAAADLcr64AAAABHNCSVQICAgIfAhkiAAAAAlwSFlz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"
>
</div>

</div>

</div>
</div>

</div>
<div class="cell border-box-sizing text_cell rendered"><div class="prompt input_prompt">
</div><div class="inner_cell">
<div class="text_cell_render border-box-sizing rendered_html">
<ul>
<li>"pH" column appears to be normally distributed</li>
<li>remaining all independent variables are right skewed/positively skewed.   </li>
</ul>

</div>
</div>
</div>
 


    </div>
  </div>

  </div>


  
    <footer class="footer hidden-print">
      <div class="container">
        <div class="col-md-4">
          <p>
            This website does not host notebooks, it only renders notebooks
            available on other websites.
          </p>
        </div>

        <div class="col-md-4">
          <p>
            Delivered by <a href="https://www.fastly.com/">Fastly</a>,
            Rendered by <a href="https://ovhcloud.com">OVHCloud</a>
          </p>
          <p>
            nbviewer GitHub <a href="https://github.com/jupyter/nbviewer">repository</a>.
          </p>
        </div>

        <div class="col-md-4">
          
  
            
              <p>
                nbviewer version:
                <a href="https://github.com/jupyter/nbviewer/commit/e83752b49e1663d3feb1c157d31fb51451f11c0a">
                  e83752b
                </a>
              </p>
            
          
  
  <p>
    nbconvert version: <a href="https://github.com/jupyter/nbconvert/releases/tag/5.6.1">
      5.6.1
    </a>
  </p>
  

          
  
  
  <p>
    Rendered
    <span class='date' data-date='Wed, 13 May 2020 12:44:26 UTC' title='Wed, 13 May 2020 12:44:26 UTC'>(Wed, 13 May 2020 12:44:26 UTC)</span>
  </p>
  

        </div>
      </div>
    </footer>
  

  <script src="/static/components/bootstrap/js/bootstrap.min.js"></script>
  <script src="/static/components/headroom.js/dist/headroom.min.js"></script>
  <script src="/static/components/headroom.js/dist/jQuery.headroom.min.js"></script>

  
  
  <script>
    $(function(){ $("#menubar").headroom({
      tolerance: 5,
      offset: 205,
      classes: {
        initial: "animated",
        pinned: "slideInDown",
        unpinned: "slideOutUp"
      }
    })});
  </script>


  
  <script>
    (function(i,s,o,g,r,a,m){i['GoogleAnalyticsObject']=r;i[r]=i[r]||function(){
      (i[r].q=i[r].q||[]).push(arguments)},i[r].l=1*new Date();a=s.createElement(o),
      m=s.getElementsByTagName(o)[0];a.async=1;a.src=g;m.parentNode.insertBefore(a,m)
    })(window,document,'script','https://www.google-analytics.com/analytics.js','ga');
    ga('create', 'UA-52617120-5', 'auto',
       {'storage': 'none'});
    ga('set', 'anonymizeIp', true);
    ga('send', 'pageview');
  </script>
  
  <script>
    require({
        paths: {
          moment: "/static/components/moment/min/moment.min.js"
        }
      }, ["moment"], function(moment){
      var date = $("footer .date"),
        m = moment(new Date(date.data('date'))),
        update = function(){ date.text(m.fromNow()); };
      setInterval(update, 61*1000);
      update();
      var w = $(window).scroll(function(event){
        $("body").toggleClass("scrolled", w.scrollTop() > 0);
      });
    });
  </script>

  <!--NEW RELIC Stop Perf Measurement-->
  
  <!--NEW RELIC End-->
</body>
</html>