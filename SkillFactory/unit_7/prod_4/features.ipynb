{
 "cells": [
  {
   "cell_type": "code",
   "execution_count": 1,
   "id": "96070866",
   "metadata": {},
   "outputs": [],
   "source": [
    "import pika\n",
    "import numpy as np\n",
    "import json\n",
    "from sklearn.datasets import load_diabetes"
   ]
  },
  {
   "cell_type": "code",
   "execution_count": 4,
   "id": "0647ccf5",
   "metadata": {},
   "outputs": [],
   "source": [
    "X, y = load_diabetes(return_X_y=True)\n",
    "random_row = np.random.randint(0, X.shape[0]-1)"
   ]
  },
  {
   "cell_type": "code",
   "execution_count": 5,
   "id": "d1dea0ba",
   "metadata": {},
   "outputs": [
    {
     "data": {
      "text/plain": [
       "265"
      ]
     },
     "execution_count": 5,
     "metadata": {},
     "output_type": "execute_result"
    }
   ],
   "source": [
    "random_row "
   ]
  },
  {
   "cell_type": "code",
   "execution_count": 6,
   "id": "6473b697",
   "metadata": {},
   "outputs": [
    {
     "data": {
      "text/plain": [
       "array([-0.03457486,  0.05068012, -0.02560657, -0.01714685,  0.00118295,\n",
       "       -0.00287962,  0.00814208, -0.01550765,  0.01482271,  0.04034337])"
      ]
     },
     "execution_count": 6,
     "metadata": {},
     "output_type": "execute_result"
    }
   ],
   "source": [
    "X[random_row]"
   ]
  },
  {
   "cell_type": "code",
   "execution_count": 7,
   "id": "8cccb705",
   "metadata": {},
   "outputs": [
    {
     "data": {
      "text/plain": [
       "74.0"
      ]
     },
     "execution_count": 7,
     "metadata": {},
     "output_type": "execute_result"
    }
   ],
   "source": [
    "y[random_row]"
   ]
  },
  {
   "cell_type": "code",
   "execution_count": 8,
   "id": "534e8d70",
   "metadata": {
    "scrolled": true
   },
   "outputs": [],
   "source": [
    "# Подключение к серверу на локальном хосте:\n",
    "connection = pika.BlockingConnection(pika.ConnectionParameters('localhost'))\n",
    "channel = connection.channel()"
   ]
  },
  {
   "cell_type": "code",
   "execution_count": 9,
   "id": "2fc480c7",
   "metadata": {},
   "outputs": [
    {
     "data": {
      "text/plain": [
       "<METHOD(['channel_number=1', 'frame_type=1', \"method=<Queue.DeclareOk(['consumer_count=0', 'message_count=2', 'queue=y_true'])>\"])>"
      ]
     },
     "execution_count": 9,
     "metadata": {},
     "output_type": "execute_result"
    }
   ],
   "source": [
    "# Создадим очередь, с которой будем работать:\n",
    "channel.queue_declare(queue='y_true')"
   ]
  },
  {
   "cell_type": "code",
   "execution_count": 10,
   "id": "4940c749",
   "metadata": {},
   "outputs": [
    {
     "name": "stdout",
     "output_type": "stream",
     "text": [
      "Сообщение с правильным ответом отправлено в очередь\n"
     ]
    }
   ],
   "source": [
    "# Опубликуем сообщение\n",
    "# exchange определяет, в какую очередь отправляется сообщение. Если мы используем дефолтную точку обмена, то значение можно оставить пустым.\n",
    "# параметр routing_key указывает имя очереди, \n",
    "# параметр body тело самого сообщения, \n",
    "channel.basic_publish(exchange='',\n",
    "                      routing_key='y_true',\n",
    "                      body=json.dumps(y[random_row]))\n",
    "\n",
    "\n",
    "print('Сообщение с правильным ответом отправлено в очередь')"
   ]
  },
  {
   "cell_type": "code",
   "execution_count": 11,
   "id": "a52d6f26",
   "metadata": {},
   "outputs": [
    {
     "data": {
      "text/plain": [
       "<METHOD(['channel_number=1', 'frame_type=1', \"method=<Queue.DeclareOk(['consumer_count=0', 'message_count=1', 'queue=Features'])>\"])>"
      ]
     },
     "execution_count": 11,
     "metadata": {},
     "output_type": "execute_result"
    }
   ],
   "source": [
    "channel.queue_declare(queue='Features')"
   ]
  },
  {
   "cell_type": "code",
   "execution_count": 12,
   "id": "f5e7a070",
   "metadata": {},
   "outputs": [
    {
     "name": "stdout",
     "output_type": "stream",
     "text": [
      "Сообщение с признаками отправлено в очередь\n"
     ]
    }
   ],
   "source": [
    "channel.basic_publish(exchange='',\n",
    "                      routing_key='Features',\n",
    "                      body=json.dumps(list(X[random_row])))\n",
    "\n",
    "print('Сообщение с признаками отправлено в очередь')"
   ]
  },
  {
   "cell_type": "code",
   "execution_count": 13,
   "id": "c2c1f2dc",
   "metadata": {},
   "outputs": [],
   "source": [
    "# Закроем подключение \n",
    "connection.close()"
   ]
  },
  {
   "cell_type": "code",
   "execution_count": 14,
   "id": "1e9a6468",
   "metadata": {},
   "outputs": [
    {
     "data": {
      "text/plain": [
       "'74.0'"
      ]
     },
     "execution_count": 14,
     "metadata": {},
     "output_type": "execute_result"
    }
   ],
   "source": [
    "json.dumps(y[random_row])"
   ]
  },
  {
   "cell_type": "code",
   "execution_count": 15,
   "id": "d3cb44ab",
   "metadata": {},
   "outputs": [
    {
     "data": {
      "text/plain": [
       "'[-0.034574862586967, 0.0506801187398187, -0.0256065714656645, -0.0171468461892456, 0.00118294589619092, -0.00287961973516629, 0.0081420836051921, -0.015507654304751, 0.0148227108412663, 0.0403433716478807]'"
      ]
     },
     "execution_count": 15,
     "metadata": {},
     "output_type": "execute_result"
    }
   ],
   "source": [
    "json.dumps(list(X[random_row]))"
   ]
  },
  {
   "cell_type": "code",
   "execution_count": null,
   "id": "77635187",
   "metadata": {},
   "outputs": [],
   "source": []
  }
 ],
 "metadata": {
  "kernelspec": {
   "display_name": "Python 3 (ipykernel)",
   "language": "python",
   "name": "python3"
  },
  "language_info": {
   "codemirror_mode": {
    "name": "ipython",
    "version": 3
   },
   "file_extension": ".py",
   "mimetype": "text/x-python",
   "name": "python",
   "nbconvert_exporter": "python",
   "pygments_lexer": "ipython3",
   "version": "3.9.7"
  }
 },
 "nbformat": 4,
 "nbformat_minor": 5
}
