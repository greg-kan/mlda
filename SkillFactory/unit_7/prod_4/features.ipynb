{
 "cells": [
  {
   "cell_type": "code",
   "execution_count": 1,
   "id": "96070866",
   "metadata": {},
   "outputs": [],
   "source": [
    "import pika\n",
    "import numpy as np\n",
    "import json\n",
    "from sklearn.datasets import load_diabetes"
   ]
  },
  {
   "cell_type": "code",
   "execution_count": 2,
   "id": "0647ccf5",
   "metadata": {},
   "outputs": [],
   "source": [
    "X, y = load_diabetes(return_X_y=True)\n",
    "random_row = np.random.randint(0, X.shape[0]-1)"
   ]
  },
  {
   "cell_type": "code",
   "execution_count": 3,
   "id": "d1dea0ba",
   "metadata": {},
   "outputs": [
    {
     "data": {
      "text/plain": [
       "394"
      ]
     },
     "execution_count": 3,
     "metadata": {},
     "output_type": "execute_result"
    }
   ],
   "source": [
    "random_row "
   ]
  },
  {
   "cell_type": "code",
   "execution_count": 4,
   "id": "6473b697",
   "metadata": {},
   "outputs": [
    {
     "data": {
      "text/plain": [
       "array([ 0.03444337, -0.04464164,  0.01858372,  0.05630106,  0.01219057,\n",
       "       -0.05454912, -0.06917231,  0.07120998,  0.13008061,  0.00720652])"
      ]
     },
     "execution_count": 4,
     "metadata": {},
     "output_type": "execute_result"
    }
   ],
   "source": [
    "X[random_row]"
   ]
  },
  {
   "cell_type": "code",
   "execution_count": 5,
   "id": "8cccb705",
   "metadata": {},
   "outputs": [
    {
     "data": {
      "text/plain": [
       "273.0"
      ]
     },
     "execution_count": 5,
     "metadata": {},
     "output_type": "execute_result"
    }
   ],
   "source": [
    "y[random_row]"
   ]
  },
  {
   "cell_type": "code",
   "execution_count": 6,
   "id": "534e8d70",
   "metadata": {
    "scrolled": true
   },
   "outputs": [],
   "source": [
    "# Подключение к серверу на локальном хосте:\n",
    "connection = pika.BlockingConnection(pika.ConnectionParameters('localhost'))\n",
    "channel = connection.channel()"
   ]
  },
  {
   "cell_type": "code",
   "execution_count": 7,
   "id": "2fc480c7",
   "metadata": {},
   "outputs": [
    {
     "data": {
      "text/plain": [
       "<METHOD(['channel_number=1', 'frame_type=1', \"method=<Queue.DeclareOk(['consumer_count=1', 'message_count=0', 'queue=y_true'])>\"])>"
      ]
     },
     "execution_count": 7,
     "metadata": {},
     "output_type": "execute_result"
    }
   ],
   "source": [
    "# Создадим очередь, с которой будем работать:\n",
    "channel.queue_declare(queue='y_true')"
   ]
  },
  {
   "cell_type": "code",
   "execution_count": 8,
   "id": "4940c749",
   "metadata": {},
   "outputs": [
    {
     "name": "stdout",
     "output_type": "stream",
     "text": [
      "Сообщение с правильным ответом отправлено в очередь\n"
     ]
    }
   ],
   "source": [
    "# Опубликуем сообщение\n",
    "# exchange определяет, в какую очередь отправляется сообщение. Если мы используем дефолтную точку обмена, то значение можно оставить пустым.\n",
    "# параметр routing_key указывает имя очереди, \n",
    "# параметр body тело самого сообщения, \n",
    "channel.basic_publish(exchange='',\n",
    "                      routing_key='y_true',\n",
    "                      body=json.dumps(y[random_row]))\n",
    "\n",
    "\n",
    "print('Сообщение с правильным ответом отправлено в очередь')"
   ]
  },
  {
   "cell_type": "code",
   "execution_count": 9,
   "id": "a52d6f26",
   "metadata": {},
   "outputs": [
    {
     "data": {
      "text/plain": [
       "<METHOD(['channel_number=1', 'frame_type=1', \"method=<Queue.DeclareOk(['consumer_count=1', 'message_count=0', 'queue=Features'])>\"])>"
      ]
     },
     "execution_count": 9,
     "metadata": {},
     "output_type": "execute_result"
    }
   ],
   "source": [
    "channel.queue_declare(queue='Features')"
   ]
  },
  {
   "cell_type": "code",
   "execution_count": 10,
   "id": "f5e7a070",
   "metadata": {},
   "outputs": [
    {
     "name": "stdout",
     "output_type": "stream",
     "text": [
      "Сообщение с признаками отправлено в очередь\n"
     ]
    }
   ],
   "source": [
    "channel.basic_publish(exchange='',\n",
    "                      routing_key='Features',\n",
    "                      body=json.dumps(list(X[random_row])))\n",
    "\n",
    "print('Сообщение с признаками отправлено в очередь')"
   ]
  },
  {
   "cell_type": "code",
   "execution_count": 11,
   "id": "c2c1f2dc",
   "metadata": {},
   "outputs": [],
   "source": [
    "# Закроем подключение \n",
    "connection.close()"
   ]
  },
  {
   "cell_type": "code",
   "execution_count": 12,
   "id": "1e9a6468",
   "metadata": {},
   "outputs": [
    {
     "data": {
      "text/plain": [
       "'273.0'"
      ]
     },
     "execution_count": 12,
     "metadata": {},
     "output_type": "execute_result"
    }
   ],
   "source": [
    "json.dumps(y[random_row])"
   ]
  },
  {
   "cell_type": "code",
   "execution_count": 13,
   "id": "d3cb44ab",
   "metadata": {},
   "outputs": [
    {
     "data": {
      "text/plain": [
       "'[0.0344433679824045, -0.044641636506989, 0.0185837235634525, 0.0563010619323185, 0.0121905687618, -0.0545491159304391, -0.0691723102806364, 0.0712099797536354, 0.130080609521753, 0.00720651632920303]'"
      ]
     },
     "execution_count": 13,
     "metadata": {},
     "output_type": "execute_result"
    }
   ],
   "source": [
    "json.dumps(list(X[random_row]))"
   ]
  },
  {
   "cell_type": "code",
   "execution_count": null,
   "id": "77635187",
   "metadata": {},
   "outputs": [],
   "source": []
  }
 ],
 "metadata": {
  "kernelspec": {
   "display_name": "Python 3 (ipykernel)",
   "language": "python",
   "name": "python3"
  },
  "language_info": {
   "codemirror_mode": {
    "name": "ipython",
    "version": 3
   },
   "file_extension": ".py",
   "mimetype": "text/x-python",
   "name": "python",
   "nbconvert_exporter": "python",
   "pygments_lexer": "ipython3",
   "version": "3.9.7"
  }
 },
 "nbformat": 4,
 "nbformat_minor": 5
}
