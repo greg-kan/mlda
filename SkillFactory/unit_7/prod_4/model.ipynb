{
 "cells": [
  {
   "cell_type": "code",
   "execution_count": 1,
   "id": "930b8a15",
   "metadata": {},
   "outputs": [],
   "source": [
    "import pika\n",
    "import pickle\n",
    "import numpy as np\n",
    "import json"
   ]
  },
  {
   "cell_type": "code",
   "execution_count": 2,
   "id": "8a931ca7",
   "metadata": {},
   "outputs": [
    {
     "name": "stderr",
     "output_type": "stream",
     "text": [
      "/home/greg/anaconda3/lib/python3.9/site-packages/sklearn/base.py:310: UserWarning: Trying to unpickle estimator LinearRegression from version 0.23.2 when using version 0.24.2. This might lead to breaking code or invalid results. Use at your own risk.\n",
      "  warnings.warn(\n"
     ]
    }
   ],
   "source": [
    "with open('../myfile.pkl', 'rb') as pkl_file:\n",
    "    regressor = pickle.load(pkl_file)"
   ]
  },
  {
   "cell_type": "code",
   "execution_count": 3,
   "id": "e3469abe",
   "metadata": {},
   "outputs": [],
   "source": [
    "connection = pika.BlockingConnection(pika.ConnectionParameters(host='localhost'))\n",
    "channel = connection.channel()"
   ]
  },
  {
   "cell_type": "code",
   "execution_count": 4,
   "id": "afb08e02",
   "metadata": {},
   "outputs": [
    {
     "data": {
      "text/plain": [
       "<METHOD(['channel_number=1', 'frame_type=1', \"method=<Queue.DeclareOk(['consumer_count=0', 'message_count=0', 'queue=Features'])>\"])>"
      ]
     },
     "execution_count": 4,
     "metadata": {},
     "output_type": "execute_result"
    }
   ],
   "source": [
    "channel.queue_declare(queue='Features')"
   ]
  },
  {
   "cell_type": "code",
   "execution_count": 5,
   "id": "146f9256",
   "metadata": {},
   "outputs": [],
   "source": [
    "def callback(ch, method, properties, body):\n",
    "    print(f'Получен вектор признаков: {body}')\n",
    "    features=json.loads(body)\n",
    "    print(f'Признаки десериализованы: {features}')\n",
    "    y_pred = regressor.predict(np.array(features).reshape(1, -1))\n",
    "    print(f'Предсказанное значение: {y_pred}')\n",
    "    ##\n",
    "    channel.queue_declare(queue='y_pred')\n",
    "    channel.basic_publish(exchange='',\n",
    "                          routing_key='y_pred',\n",
    "                          body=json.dumps(list(y_pred)))\n",
    "    print(f'Сообщение с предсказанным {list(y_pred)} значением отправлено в очередь')    "
   ]
  },
  {
   "cell_type": "code",
   "execution_count": 6,
   "id": "559d2882",
   "metadata": {},
   "outputs": [
    {
     "name": "stdout",
     "output_type": "stream",
     "text": [
      "...Ожидание сообщений, для выхода нажмите CTRL+C\n"
     ]
    }
   ],
   "source": [
    "# on_message_callback показывает какую функцию вызвать при получении сообщения\n",
    "channel.basic_consume(queue='Features', on_message_callback=callback, auto_ack=True)\n",
    "print('...Ожидание сообщений, для выхода нажмите CTRL+C')"
   ]
  },
  {
   "cell_type": "code",
   "execution_count": null,
   "id": "ad877e74",
   "metadata": {},
   "outputs": [
    {
     "name": "stdout",
     "output_type": "stream",
     "text": [
      "Получен вектор признаков: b'[0.0417084448844436, 0.0506801187398187, 0.0196615356373334, 0.0597439326260547, -0.00569681839481472, -0.00256647127337676, -0.0286742944356786, -0.00259226199818282, 0.0311929907028023, 0.00720651632920303]'\n",
      "Признаки десериализованы: [0.0417084448844436, 0.0506801187398187, 0.0196615356373334, 0.0597439326260547, -0.00569681839481472, -0.00256647127337676, -0.0286742944356786, -0.00259226199818282, 0.0311929907028023, 0.00720651632920303]\n",
      "Предсказанное значение: [193.01802803]\n",
      "Сообщение с предсказанным [193.0180280269608] значением отправлено в очередь\n",
      "Получен вектор признаков: b'[0.0526060602375023, -0.044641636506989, -0.0212953231701409, -0.0745280244296595, -0.040095639849843, -0.0376390989938044, -0.00658446761115617, -0.0394933828740919, -0.000609254186102297, -0.0549250873933176]'\n",
      "Признаки десериализованы: [0.0526060602375023, -0.044641636506989, -0.0212953231701409, -0.0745280244296595, -0.040095639849843, -0.0376390989938044, -0.00658446761115617, -0.0394933828740919, -0.000609254186102297, -0.0549250873933176]\n",
      "Предсказанное значение: [129.05497324]\n",
      "Сообщение с предсказанным [129.0549732403647] значением отправлено в очередь\n",
      "Получен вектор признаков: b'[0.0162806757273067, 0.0506801187398187, -0.0212953231701409, -0.00911348124867051, 0.034205814493018, 0.047850431074738, 0.000778807997017968, -0.00259226199818282, -0.0129079422541688, 0.0237749439885419]'\n",
      "Признаки десериализованы: [0.0162806757273067, 0.0506801187398187, -0.0212953231701409, -0.00911348124867051, 0.034205814493018, 0.047850431074738, 0.000778807997017968, -0.00259226199818282, -0.0129079422541688, 0.0237749439885419]\n",
      "Предсказанное значение: [113.0351432]\n",
      "Сообщение с предсказанным [113.0351431958206] значением отправлено в очередь\n",
      "Получен вектор признаков: b'[0.0344433679824045, -0.044641636506989, 0.0185837235634525, 0.0563010619323185, 0.0121905687618, -0.0545491159304391, -0.0691723102806364, 0.0712099797536354, 0.130080609521753, 0.00720651632920303]'\n",
      "Признаки десериализованы: [0.0344433679824045, -0.044641636506989, 0.0185837235634525, 0.0563010619323185, 0.0121905687618, -0.0545491159304391, -0.0691723102806364, 0.0712099797536354, 0.130080609521753, 0.00720651632920303]\n",
      "Предсказанное значение: [258.58885744]\n",
      "Сообщение с предсказанным [258.5888574410861] значением отправлено в очередь\n"
     ]
    }
   ],
   "source": [
    "#Запустим чтение очереди. Скрипт будет работать до принудительной остановки: так мы не пропустим ни одного сообщения.\n",
    "channel.start_consuming()"
   ]
  },
  {
   "cell_type": "code",
   "execution_count": null,
   "id": "39993546",
   "metadata": {},
   "outputs": [],
   "source": []
  }
 ],
 "metadata": {
  "kernelspec": {
   "display_name": "Python 3 (ipykernel)",
   "language": "python",
   "name": "python3"
  },
  "language_info": {
   "codemirror_mode": {
    "name": "ipython",
    "version": 3
   },
   "file_extension": ".py",
   "mimetype": "text/x-python",
   "name": "python",
   "nbconvert_exporter": "python",
   "pygments_lexer": "ipython3",
   "version": "3.9.7"
  }
 },
 "nbformat": 4,
 "nbformat_minor": 5
}
