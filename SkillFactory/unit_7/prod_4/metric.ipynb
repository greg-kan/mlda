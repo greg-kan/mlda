{
 "cells": [
  {
   "cell_type": "code",
   "execution_count": 1,
   "id": "c335e883",
   "metadata": {},
   "outputs": [],
   "source": [
    "import pika\n",
    "import json"
   ]
  },
  {
   "cell_type": "code",
   "execution_count": 2,
   "id": "4568cd70",
   "metadata": {},
   "outputs": [],
   "source": [
    "# Подключение к серверу на локальном хосте:\n",
    "connection = pika.BlockingConnection(pika.ConnectionParameters('localhost'))\n",
    "channel = connection.channel()"
   ]
  },
  {
   "cell_type": "code",
   "execution_count": 3,
   "id": "e39f11d6",
   "metadata": {},
   "outputs": [
    {
     "data": {
      "text/plain": [
       "<METHOD(['channel_number=1', 'frame_type=1', \"method=<Queue.DeclareOk(['consumer_count=0', 'message_count=0', 'queue=y_pred'])>\"])>"
      ]
     },
     "execution_count": 3,
     "metadata": {},
     "output_type": "execute_result"
    }
   ],
   "source": [
    "channel.queue_declare(queue='y_true')\n",
    "channel.queue_declare(queue='y_pred')"
   ]
  },
  {
   "cell_type": "code",
   "execution_count": 4,
   "id": "1c1f3a1d",
   "metadata": {},
   "outputs": [],
   "source": [
    "def callback(ch, method, properties, body):\n",
    "    print(f'Из очереди {method.routing_key} получено значение {json.loads(body)}')"
   ]
  },
  {
   "cell_type": "code",
   "execution_count": 5,
   "id": "50475839",
   "metadata": {},
   "outputs": [
    {
     "data": {
      "text/plain": [
       "'ctag1.ef39aba5199b4749982b5af4b0ae054f'"
      ]
     },
     "execution_count": 5,
     "metadata": {},
     "output_type": "execute_result"
    }
   ],
   "source": [
    "channel.basic_consume(queue='y_pred', on_message_callback=callback, auto_ack=True)\n",
    "\n",
    "channel.basic_consume(queue='y_true', on_message_callback=callback, auto_ack=True)"
   ]
  },
  {
   "cell_type": "code",
   "execution_count": null,
   "id": "6339ba52",
   "metadata": {},
   "outputs": [
    {
     "name": "stdout",
     "output_type": "stream",
     "text": [
      "...Ожидание сообщений, для выхода нажмите CTRL+C\n",
      "Из очереди y_true получено значение 131.0\n",
      "Из очереди y_pred получено значение [129.0549732403647]\n",
      "Из очереди y_true получено значение 107.0\n",
      "Из очереди y_pred получено значение [113.0351431958206]\n",
      "Из очереди y_true получено значение 273.0\n",
      "Из очереди y_pred получено значение [258.5888574410861]\n"
     ]
    }
   ],
   "source": [
    "print('...Ожидание сообщений, для выхода нажмите CTRL+C')\n",
    "channel.start_consuming()"
   ]
  }
 ],
 "metadata": {
  "kernelspec": {
   "display_name": "Python 3 (ipykernel)",
   "language": "python",
   "name": "python3"
  },
  "language_info": {
   "codemirror_mode": {
    "name": "ipython",
    "version": 3
   },
   "file_extension": ".py",
   "mimetype": "text/x-python",
   "name": "python",
   "nbconvert_exporter": "python",
   "pygments_lexer": "ipython3",
   "version": "3.9.7"
  }
 },
 "nbformat": 4,
 "nbformat_minor": 5
}
