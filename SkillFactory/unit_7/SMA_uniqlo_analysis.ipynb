{
 "cells": [
  {
   "cell_type": "markdown",
   "metadata": {
    "colab_type": "text",
    "id": "VlnDp96f35Ld"
   },
   "source": [
    "Давайте познакомимся с приближением ряда скользящим средним на примере биржевых котировок акций компании Uniqlo"
   ]
  },
  {
   "cell_type": "code",
   "execution_count": 1,
   "metadata": {
    "colab": {},
    "colab_type": "code",
    "id": "xCTGg7tr35Lm"
   },
   "outputs": [],
   "source": [
    "# импорт библиотек и датасета\n",
    "import numpy as np\n",
    "import pandas as pd\n",
    "import matplotlib.pyplot as plt\n",
    "\n",
    "df = pd.read_csv('uniqlo.csv')"
   ]
  },
  {
   "cell_type": "code",
   "execution_count": 2,
   "metadata": {
    "colab": {},
    "colab_type": "code",
    "id": "55dJnXT035L5",
    "outputId": "0e59f125-6d75-4da1-8a65-1464eb047da6"
   },
   "outputs": [
    {
     "data": {
      "text/html": [
       "<div>\n",
       "<style scoped>\n",
       "    .dataframe tbody tr th:only-of-type {\n",
       "        vertical-align: middle;\n",
       "    }\n",
       "\n",
       "    .dataframe tbody tr th {\n",
       "        vertical-align: top;\n",
       "    }\n",
       "\n",
       "    .dataframe thead th {\n",
       "        text-align: right;\n",
       "    }\n",
       "</style>\n",
       "<table border=\"1\" class=\"dataframe\">\n",
       "  <thead>\n",
       "    <tr style=\"text-align: right;\">\n",
       "      <th></th>\n",
       "      <th>Date</th>\n",
       "      <th>Open</th>\n",
       "      <th>High</th>\n",
       "      <th>Low</th>\n",
       "      <th>Close</th>\n",
       "      <th>Volume</th>\n",
       "      <th>Stock Trading</th>\n",
       "    </tr>\n",
       "  </thead>\n",
       "  <tbody>\n",
       "    <tr>\n",
       "      <th>0</th>\n",
       "      <td>2016-12-30</td>\n",
       "      <td>42120</td>\n",
       "      <td>42330</td>\n",
       "      <td>41700</td>\n",
       "      <td>41830</td>\n",
       "      <td>610000</td>\n",
       "      <td>25628028000</td>\n",
       "    </tr>\n",
       "    <tr>\n",
       "      <th>1</th>\n",
       "      <td>2016-12-29</td>\n",
       "      <td>43000</td>\n",
       "      <td>43220</td>\n",
       "      <td>42540</td>\n",
       "      <td>42660</td>\n",
       "      <td>448400</td>\n",
       "      <td>19188227000</td>\n",
       "    </tr>\n",
       "    <tr>\n",
       "      <th>2</th>\n",
       "      <td>2016-12-28</td>\n",
       "      <td>43940</td>\n",
       "      <td>43970</td>\n",
       "      <td>43270</td>\n",
       "      <td>43270</td>\n",
       "      <td>339900</td>\n",
       "      <td>14780670000</td>\n",
       "    </tr>\n",
       "    <tr>\n",
       "      <th>3</th>\n",
       "      <td>2016-12-27</td>\n",
       "      <td>43140</td>\n",
       "      <td>43700</td>\n",
       "      <td>43140</td>\n",
       "      <td>43620</td>\n",
       "      <td>400100</td>\n",
       "      <td>17427993000</td>\n",
       "    </tr>\n",
       "    <tr>\n",
       "      <th>4</th>\n",
       "      <td>2016-12-26</td>\n",
       "      <td>43310</td>\n",
       "      <td>43660</td>\n",
       "      <td>43090</td>\n",
       "      <td>43340</td>\n",
       "      <td>358200</td>\n",
       "      <td>15547803000</td>\n",
       "    </tr>\n",
       "    <tr>\n",
       "      <th>5</th>\n",
       "      <td>2016-12-22</td>\n",
       "      <td>43660</td>\n",
       "      <td>43840</td>\n",
       "      <td>43190</td>\n",
       "      <td>43480</td>\n",
       "      <td>381600</td>\n",
       "      <td>16586491000</td>\n",
       "    </tr>\n",
       "    <tr>\n",
       "      <th>6</th>\n",
       "      <td>2016-12-21</td>\n",
       "      <td>43900</td>\n",
       "      <td>44370</td>\n",
       "      <td>43610</td>\n",
       "      <td>44000</td>\n",
       "      <td>658900</td>\n",
       "      <td>28994316000</td>\n",
       "    </tr>\n",
       "    <tr>\n",
       "      <th>7</th>\n",
       "      <td>2016-12-20</td>\n",
       "      <td>42910</td>\n",
       "      <td>43630</td>\n",
       "      <td>42860</td>\n",
       "      <td>43620</td>\n",
       "      <td>499400</td>\n",
       "      <td>21606102000</td>\n",
       "    </tr>\n",
       "    <tr>\n",
       "      <th>8</th>\n",
       "      <td>2016-12-19</td>\n",
       "      <td>42790</td>\n",
       "      <td>43150</td>\n",
       "      <td>42740</td>\n",
       "      <td>43130</td>\n",
       "      <td>358700</td>\n",
       "      <td>15428531000</td>\n",
       "    </tr>\n",
       "    <tr>\n",
       "      <th>9</th>\n",
       "      <td>2016-12-16</td>\n",
       "      <td>43350</td>\n",
       "      <td>43550</td>\n",
       "      <td>42810</td>\n",
       "      <td>43130</td>\n",
       "      <td>542000</td>\n",
       "      <td>23380606000</td>\n",
       "    </tr>\n",
       "    <tr>\n",
       "      <th>10</th>\n",
       "      <td>2016-12-15</td>\n",
       "      <td>43440</td>\n",
       "      <td>43880</td>\n",
       "      <td>42550</td>\n",
       "      <td>43000</td>\n",
       "      <td>627400</td>\n",
       "      <td>27055034000</td>\n",
       "    </tr>\n",
       "    <tr>\n",
       "      <th>11</th>\n",
       "      <td>2016-12-14</td>\n",
       "      <td>43300</td>\n",
       "      <td>43440</td>\n",
       "      <td>42590</td>\n",
       "      <td>43090</td>\n",
       "      <td>548800</td>\n",
       "      <td>23600236000</td>\n",
       "    </tr>\n",
       "    <tr>\n",
       "      <th>12</th>\n",
       "      <td>2016-12-13</td>\n",
       "      <td>43130</td>\n",
       "      <td>43300</td>\n",
       "      <td>42630</td>\n",
       "      <td>43210</td>\n",
       "      <td>434500</td>\n",
       "      <td>18658982000</td>\n",
       "    </tr>\n",
       "    <tr>\n",
       "      <th>13</th>\n",
       "      <td>2016-12-12</td>\n",
       "      <td>43950</td>\n",
       "      <td>44000</td>\n",
       "      <td>42880</td>\n",
       "      <td>43130</td>\n",
       "      <td>775300</td>\n",
       "      <td>33633233000</td>\n",
       "    </tr>\n",
       "    <tr>\n",
       "      <th>14</th>\n",
       "      <td>2016-12-09</td>\n",
       "      <td>41700</td>\n",
       "      <td>42970</td>\n",
       "      <td>41150</td>\n",
       "      <td>42590</td>\n",
       "      <td>1975600</td>\n",
       "      <td>83251556000</td>\n",
       "    </tr>\n",
       "  </tbody>\n",
       "</table>\n",
       "</div>"
      ],
      "text/plain": [
       "          Date   Open   High    Low  Close   Volume  Stock Trading\n",
       "0   2016-12-30  42120  42330  41700  41830   610000    25628028000\n",
       "1   2016-12-29  43000  43220  42540  42660   448400    19188227000\n",
       "2   2016-12-28  43940  43970  43270  43270   339900    14780670000\n",
       "3   2016-12-27  43140  43700  43140  43620   400100    17427993000\n",
       "4   2016-12-26  43310  43660  43090  43340   358200    15547803000\n",
       "5   2016-12-22  43660  43840  43190  43480   381600    16586491000\n",
       "6   2016-12-21  43900  44370  43610  44000   658900    28994316000\n",
       "7   2016-12-20  42910  43630  42860  43620   499400    21606102000\n",
       "8   2016-12-19  42790  43150  42740  43130   358700    15428531000\n",
       "9   2016-12-16  43350  43550  42810  43130   542000    23380606000\n",
       "10  2016-12-15  43440  43880  42550  43000   627400    27055034000\n",
       "11  2016-12-14  43300  43440  42590  43090   548800    23600236000\n",
       "12  2016-12-13  43130  43300  42630  43210   434500    18658982000\n",
       "13  2016-12-12  43950  44000  42880  43130   775300    33633233000\n",
       "14  2016-12-09  41700  42970  41150  42590  1975600    83251556000"
      ]
     },
     "execution_count": 2,
     "metadata": {},
     "output_type": "execute_result"
    }
   ],
   "source": [
    "# посмотрим глазами на начало датасета\n",
    "# можно увидеть, что данные отсортированы в обратном порядке\n",
    "# кроме того, данных за некоторые дни нет (например, 2016-12-18)\n",
    "df.head(15)"
   ]
  },
  {
   "cell_type": "code",
   "execution_count": 3,
   "metadata": {
    "colab": {},
    "colab_type": "code",
    "id": "ndZ2rEBO35ML",
    "outputId": "a1d5a006-cd46-470d-d08e-0ec7edaf274d"
   },
   "outputs": [
    {
     "data": {
      "text/html": [
       "<div>\n",
       "<style scoped>\n",
       "    .dataframe tbody tr th:only-of-type {\n",
       "        vertical-align: middle;\n",
       "    }\n",
       "\n",
       "    .dataframe tbody tr th {\n",
       "        vertical-align: top;\n",
       "    }\n",
       "\n",
       "    .dataframe thead th {\n",
       "        text-align: right;\n",
       "    }\n",
       "</style>\n",
       "<table border=\"1\" class=\"dataframe\">\n",
       "  <thead>\n",
       "    <tr style=\"text-align: right;\">\n",
       "      <th></th>\n",
       "      <th>Date</th>\n",
       "      <th>Open</th>\n",
       "      <th>High</th>\n",
       "      <th>Low</th>\n",
       "      <th>Close</th>\n",
       "      <th>Volume</th>\n",
       "      <th>Stock Trading</th>\n",
       "    </tr>\n",
       "  </thead>\n",
       "  <tbody>\n",
       "    <tr>\n",
       "      <th>0</th>\n",
       "      <td>2016-12-30</td>\n",
       "      <td>42120</td>\n",
       "      <td>42330</td>\n",
       "      <td>41700</td>\n",
       "      <td>41830</td>\n",
       "      <td>610000</td>\n",
       "      <td>25628028000</td>\n",
       "    </tr>\n",
       "    <tr>\n",
       "      <th>1</th>\n",
       "      <td>2016-12-29</td>\n",
       "      <td>43000</td>\n",
       "      <td>43220</td>\n",
       "      <td>42540</td>\n",
       "      <td>42660</td>\n",
       "      <td>448400</td>\n",
       "      <td>19188227000</td>\n",
       "    </tr>\n",
       "    <tr>\n",
       "      <th>2</th>\n",
       "      <td>2016-12-28</td>\n",
       "      <td>43940</td>\n",
       "      <td>43970</td>\n",
       "      <td>43270</td>\n",
       "      <td>43270</td>\n",
       "      <td>339900</td>\n",
       "      <td>14780670000</td>\n",
       "    </tr>\n",
       "    <tr>\n",
       "      <th>3</th>\n",
       "      <td>2016-12-27</td>\n",
       "      <td>43140</td>\n",
       "      <td>43700</td>\n",
       "      <td>43140</td>\n",
       "      <td>43620</td>\n",
       "      <td>400100</td>\n",
       "      <td>17427993000</td>\n",
       "    </tr>\n",
       "    <tr>\n",
       "      <th>4</th>\n",
       "      <td>2016-12-26</td>\n",
       "      <td>43310</td>\n",
       "      <td>43660</td>\n",
       "      <td>43090</td>\n",
       "      <td>43340</td>\n",
       "      <td>358200</td>\n",
       "      <td>15547803000</td>\n",
       "    </tr>\n",
       "  </tbody>\n",
       "</table>\n",
       "</div>"
      ],
      "text/plain": [
       "        Date   Open   High    Low  Close  Volume  Stock Trading\n",
       "0 2016-12-30  42120  42330  41700  41830  610000    25628028000\n",
       "1 2016-12-29  43000  43220  42540  42660  448400    19188227000\n",
       "2 2016-12-28  43940  43970  43270  43270  339900    14780670000\n",
       "3 2016-12-27  43140  43700  43140  43620  400100    17427993000\n",
       "4 2016-12-26  43310  43660  43090  43340  358200    15547803000"
      ]
     },
     "execution_count": 3,
     "metadata": {},
     "output_type": "execute_result"
    }
   ],
   "source": [
    "# приведем формат даты к стандарту datetime. \n",
    "# это стандартный тип данных, который позволит нам красиво отображать графики по временнЫм осям\n",
    "# и делать разные операции, например заполнять недостающие данные по дням\n",
    "df['Date'] = pd.to_datetime(df['Date'], format = '%Y-%m-%d')\n",
    "df.head(5)"
   ]
  },
  {
   "cell_type": "code",
   "execution_count": 4,
   "metadata": {
    "colab": {},
    "colab_type": "code",
    "id": "h-cN0f7N35MW",
    "outputId": "feaf1f47-5d41-4213-84c0-37a20d334bbb"
   },
   "outputs": [
    {
     "data": {
      "text/html": [
       "<div>\n",
       "<style scoped>\n",
       "    .dataframe tbody tr th:only-of-type {\n",
       "        vertical-align: middle;\n",
       "    }\n",
       "\n",
       "    .dataframe tbody tr th {\n",
       "        vertical-align: top;\n",
       "    }\n",
       "\n",
       "    .dataframe thead th {\n",
       "        text-align: right;\n",
       "    }\n",
       "</style>\n",
       "<table border=\"1\" class=\"dataframe\">\n",
       "  <thead>\n",
       "    <tr style=\"text-align: right;\">\n",
       "      <th></th>\n",
       "      <th>Open</th>\n",
       "      <th>High</th>\n",
       "      <th>Low</th>\n",
       "      <th>Close</th>\n",
       "      <th>Volume</th>\n",
       "      <th>Stock Trading</th>\n",
       "    </tr>\n",
       "    <tr>\n",
       "      <th>Date</th>\n",
       "      <th></th>\n",
       "      <th></th>\n",
       "      <th></th>\n",
       "      <th></th>\n",
       "      <th></th>\n",
       "      <th></th>\n",
       "    </tr>\n",
       "  </thead>\n",
       "  <tbody>\n",
       "    <tr>\n",
       "      <th>2016-12-30</th>\n",
       "      <td>42120</td>\n",
       "      <td>42330</td>\n",
       "      <td>41700</td>\n",
       "      <td>41830</td>\n",
       "      <td>610000</td>\n",
       "      <td>25628028000</td>\n",
       "    </tr>\n",
       "    <tr>\n",
       "      <th>2016-12-29</th>\n",
       "      <td>43000</td>\n",
       "      <td>43220</td>\n",
       "      <td>42540</td>\n",
       "      <td>42660</td>\n",
       "      <td>448400</td>\n",
       "      <td>19188227000</td>\n",
       "    </tr>\n",
       "    <tr>\n",
       "      <th>2016-12-28</th>\n",
       "      <td>43940</td>\n",
       "      <td>43970</td>\n",
       "      <td>43270</td>\n",
       "      <td>43270</td>\n",
       "      <td>339900</td>\n",
       "      <td>14780670000</td>\n",
       "    </tr>\n",
       "    <tr>\n",
       "      <th>2016-12-27</th>\n",
       "      <td>43140</td>\n",
       "      <td>43700</td>\n",
       "      <td>43140</td>\n",
       "      <td>43620</td>\n",
       "      <td>400100</td>\n",
       "      <td>17427993000</td>\n",
       "    </tr>\n",
       "    <tr>\n",
       "      <th>2016-12-26</th>\n",
       "      <td>43310</td>\n",
       "      <td>43660</td>\n",
       "      <td>43090</td>\n",
       "      <td>43340</td>\n",
       "      <td>358200</td>\n",
       "      <td>15547803000</td>\n",
       "    </tr>\n",
       "  </tbody>\n",
       "</table>\n",
       "</div>"
      ],
      "text/plain": [
       "             Open   High    Low  Close  Volume  Stock Trading\n",
       "Date                                                         \n",
       "2016-12-30  42120  42330  41700  41830  610000    25628028000\n",
       "2016-12-29  43000  43220  42540  42660  448400    19188227000\n",
       "2016-12-28  43940  43970  43270  43270  339900    14780670000\n",
       "2016-12-27  43140  43700  43140  43620  400100    17427993000\n",
       "2016-12-26  43310  43660  43090  43340  358200    15547803000"
      ]
     },
     "execution_count": 4,
     "metadata": {},
     "output_type": "execute_result"
    }
   ],
   "source": [
    "# переименуем индексы строк в даты\n",
    "df = df.set_index(pd.DatetimeIndex(df['Date']))\n",
    "# столбец Date нам больше не нужен, удалим его\n",
    "df.drop(['Date'], axis=1, inplace=True)\n",
    "df.head(5)"
   ]
  },
  {
   "cell_type": "code",
   "execution_count": 5,
   "metadata": {
    "colab": {},
    "colab_type": "code",
    "id": "00p2mmlJ35Mk",
    "outputId": "a8b470bd-e51c-4abf-93a5-545143bd9f2d"
   },
   "outputs": [
    {
     "name": "stdout",
     "output_type": "stream",
     "text": [
      "Open             0\n",
      "High             0\n",
      "Low              0\n",
      "Close            0\n",
      "Volume           0\n",
      "Stock Trading    0\n",
      "dtype: int64\n"
     ]
    },
    {
     "data": {
      "text/html": [
       "<div>\n",
       "<style scoped>\n",
       "    .dataframe tbody tr th:only-of-type {\n",
       "        vertical-align: middle;\n",
       "    }\n",
       "\n",
       "    .dataframe tbody tr th {\n",
       "        vertical-align: top;\n",
       "    }\n",
       "\n",
       "    .dataframe thead th {\n",
       "        text-align: right;\n",
       "    }\n",
       "</style>\n",
       "<table border=\"1\" class=\"dataframe\">\n",
       "  <thead>\n",
       "    <tr style=\"text-align: right;\">\n",
       "      <th></th>\n",
       "      <th>Open</th>\n",
       "      <th>High</th>\n",
       "      <th>Low</th>\n",
       "      <th>Close</th>\n",
       "      <th>Volume</th>\n",
       "      <th>Stock Trading</th>\n",
       "    </tr>\n",
       "    <tr>\n",
       "      <th>Date</th>\n",
       "      <th></th>\n",
       "      <th></th>\n",
       "      <th></th>\n",
       "      <th></th>\n",
       "      <th></th>\n",
       "      <th></th>\n",
       "    </tr>\n",
       "  </thead>\n",
       "  <tbody>\n",
       "    <tr>\n",
       "      <th>2016-12-16</th>\n",
       "      <td>43350</td>\n",
       "      <td>43550</td>\n",
       "      <td>42810</td>\n",
       "      <td>43130</td>\n",
       "      <td>542000</td>\n",
       "      <td>23380606000</td>\n",
       "    </tr>\n",
       "    <tr>\n",
       "      <th>2016-12-17</th>\n",
       "      <td>43350</td>\n",
       "      <td>43550</td>\n",
       "      <td>42810</td>\n",
       "      <td>43130</td>\n",
       "      <td>542000</td>\n",
       "      <td>23380606000</td>\n",
       "    </tr>\n",
       "    <tr>\n",
       "      <th>2016-12-18</th>\n",
       "      <td>43350</td>\n",
       "      <td>43550</td>\n",
       "      <td>42810</td>\n",
       "      <td>43130</td>\n",
       "      <td>542000</td>\n",
       "      <td>23380606000</td>\n",
       "    </tr>\n",
       "    <tr>\n",
       "      <th>2016-12-19</th>\n",
       "      <td>42790</td>\n",
       "      <td>43150</td>\n",
       "      <td>42740</td>\n",
       "      <td>43130</td>\n",
       "      <td>358700</td>\n",
       "      <td>15428531000</td>\n",
       "    </tr>\n",
       "    <tr>\n",
       "      <th>2016-12-20</th>\n",
       "      <td>42910</td>\n",
       "      <td>43630</td>\n",
       "      <td>42860</td>\n",
       "      <td>43620</td>\n",
       "      <td>499400</td>\n",
       "      <td>21606102000</td>\n",
       "    </tr>\n",
       "    <tr>\n",
       "      <th>2016-12-21</th>\n",
       "      <td>43900</td>\n",
       "      <td>44370</td>\n",
       "      <td>43610</td>\n",
       "      <td>44000</td>\n",
       "      <td>658900</td>\n",
       "      <td>28994316000</td>\n",
       "    </tr>\n",
       "    <tr>\n",
       "      <th>2016-12-22</th>\n",
       "      <td>43660</td>\n",
       "      <td>43840</td>\n",
       "      <td>43190</td>\n",
       "      <td>43480</td>\n",
       "      <td>381600</td>\n",
       "      <td>16586491000</td>\n",
       "    </tr>\n",
       "    <tr>\n",
       "      <th>2016-12-23</th>\n",
       "      <td>43660</td>\n",
       "      <td>43840</td>\n",
       "      <td>43190</td>\n",
       "      <td>43480</td>\n",
       "      <td>381600</td>\n",
       "      <td>16586491000</td>\n",
       "    </tr>\n",
       "    <tr>\n",
       "      <th>2016-12-24</th>\n",
       "      <td>43660</td>\n",
       "      <td>43840</td>\n",
       "      <td>43190</td>\n",
       "      <td>43480</td>\n",
       "      <td>381600</td>\n",
       "      <td>16586491000</td>\n",
       "    </tr>\n",
       "    <tr>\n",
       "      <th>2016-12-25</th>\n",
       "      <td>43660</td>\n",
       "      <td>43840</td>\n",
       "      <td>43190</td>\n",
       "      <td>43480</td>\n",
       "      <td>381600</td>\n",
       "      <td>16586491000</td>\n",
       "    </tr>\n",
       "    <tr>\n",
       "      <th>2016-12-26</th>\n",
       "      <td>43310</td>\n",
       "      <td>43660</td>\n",
       "      <td>43090</td>\n",
       "      <td>43340</td>\n",
       "      <td>358200</td>\n",
       "      <td>15547803000</td>\n",
       "    </tr>\n",
       "    <tr>\n",
       "      <th>2016-12-27</th>\n",
       "      <td>43140</td>\n",
       "      <td>43700</td>\n",
       "      <td>43140</td>\n",
       "      <td>43620</td>\n",
       "      <td>400100</td>\n",
       "      <td>17427993000</td>\n",
       "    </tr>\n",
       "    <tr>\n",
       "      <th>2016-12-28</th>\n",
       "      <td>43940</td>\n",
       "      <td>43970</td>\n",
       "      <td>43270</td>\n",
       "      <td>43270</td>\n",
       "      <td>339900</td>\n",
       "      <td>14780670000</td>\n",
       "    </tr>\n",
       "    <tr>\n",
       "      <th>2016-12-29</th>\n",
       "      <td>43000</td>\n",
       "      <td>43220</td>\n",
       "      <td>42540</td>\n",
       "      <td>42660</td>\n",
       "      <td>448400</td>\n",
       "      <td>19188227000</td>\n",
       "    </tr>\n",
       "    <tr>\n",
       "      <th>2016-12-30</th>\n",
       "      <td>42120</td>\n",
       "      <td>42330</td>\n",
       "      <td>41700</td>\n",
       "      <td>41830</td>\n",
       "      <td>610000</td>\n",
       "      <td>25628028000</td>\n",
       "    </tr>\n",
       "  </tbody>\n",
       "</table>\n",
       "</div>"
      ],
      "text/plain": [
       "             Open   High    Low  Close  Volume  Stock Trading\n",
       "Date                                                         \n",
       "2016-12-16  43350  43550  42810  43130  542000    23380606000\n",
       "2016-12-17  43350  43550  42810  43130  542000    23380606000\n",
       "2016-12-18  43350  43550  42810  43130  542000    23380606000\n",
       "2016-12-19  42790  43150  42740  43130  358700    15428531000\n",
       "2016-12-20  42910  43630  42860  43620  499400    21606102000\n",
       "2016-12-21  43900  44370  43610  44000  658900    28994316000\n",
       "2016-12-22  43660  43840  43190  43480  381600    16586491000\n",
       "2016-12-23  43660  43840  43190  43480  381600    16586491000\n",
       "2016-12-24  43660  43840  43190  43480  381600    16586491000\n",
       "2016-12-25  43660  43840  43190  43480  381600    16586491000\n",
       "2016-12-26  43310  43660  43090  43340  358200    15547803000\n",
       "2016-12-27  43140  43700  43140  43620  400100    17427993000\n",
       "2016-12-28  43940  43970  43270  43270  339900    14780670000\n",
       "2016-12-29  43000  43220  42540  42660  448400    19188227000\n",
       "2016-12-30  42120  42330  41700  41830  610000    25628028000"
      ]
     },
     "execution_count": 5,
     "metadata": {},
     "output_type": "execute_result"
    }
   ],
   "source": [
    "# заполним данные по пропущенным дням\n",
    "# метод resample('d') выполняет группировку данных по дням,\n",
    "# а ffill заполнит получившиеся пропуски, взяв предыдущее значение вместо пропущенного\n",
    "df = df.resample('d').ffill()\n",
    "print(df.isnull().sum()) # проверим, что пропущенных дней больше нет\n",
    "df.tail(15) # полюбуемся на результат предварительной обработки"
   ]
  },
  {
   "cell_type": "code",
   "execution_count": 6,
   "metadata": {
    "colab": {},
    "colab_type": "code",
    "id": "K1HbxfcF35Mu",
    "outputId": "7ede9db5-3789-4871-88d0-65c223aa304b",
    "scrolled": true
   },
   "outputs": [
    {
     "data": {
      "text/plain": [
       "Date\n",
       "2012-01-04    14050\n",
       "2012-01-05    13720\n",
       "2012-01-06    13990\n",
       "2012-01-07    13990\n",
       "2012-01-08    13990\n",
       "Freq: D, Name: Open, dtype: int64"
      ]
     },
     "execution_count": 6,
     "metadata": {},
     "output_type": "execute_result"
    }
   ],
   "source": [
    "# создадим отдельный Series для цен открытия биржи\n",
    "OpenPrice = df.Open\n",
    "OpenPrice.head()"
   ]
  },
  {
   "cell_type": "markdown",
   "metadata": {
    "colab_type": "text",
    "id": "oS7Z7MeR35M4"
   },
   "source": [
    "Нарисуем приближение простым скользящим средним с шириной окна 2"
   ]
  },
  {
   "cell_type": "code",
   "execution_count": 7,
   "metadata": {
    "colab": {},
    "colab_type": "code",
    "id": "yTZl9rhi35M7",
    "outputId": "c45d24a4-5cdc-4284-f81f-fefb3a0d1a65"
   },
   "outputs": [
    {
     "data": {
      "image/png": "[encoded data removed]",
      "text/plain": [
       "<Figure size 432x288 with 1 Axes>"
      ]
     },
     "metadata": {
      "needs_background": "light"
     },
     "output_type": "display_data"
    }
   ],
   "source": [
    "# метод rolling умеет делать скользящие преобразования. \n",
    "# Параметр window задает ширину окна, а mean() говорит, что в окне нужно взять среднее арифметическое\n",
    "result1 = OpenPrice.rolling(window = 2).mean()\n",
    "# Нарисуем красивый график\n",
    "plt.plot(OpenPrice,label=\"Actual values\")\n",
    "plt.plot(result1,label=\"SMA with window=2\")\n",
    "plt.legend(loc=\"upper left\")\n",
    "plt.show()"
   ]
  },
  {
   "cell_type": "markdown",
   "metadata": {
    "colab_type": "text",
    "id": "kbq0eg4p35NG"
   },
   "source": [
    "Нарисуем приближение простым скользящим средним с шириной окна 10"
   ]
  },
  {
   "cell_type": "code",
   "execution_count": 8,
   "metadata": {
    "colab": {},
    "colab_type": "code",
    "id": "tRdBjRza35NN",
    "outputId": "da16ff8d-ac74-44f0-bd45-73648241a176",
    "scrolled": true
   },
   "outputs": [
    {
     "data": {
      "image/png": "[encoded data removed]",
      "text/plain": [
       "<Figure size 432x288 with 1 Axes>"
      ]
     },
     "metadata": {
      "needs_background": "light"
     },
     "output_type": "display_data"
    }
   ],
   "source": [
    "result2 = OpenPrice.rolling(window = 10).mean()\n",
    "plt.plot(OpenPrice,label=\"Actual values\")\n",
    "plt.plot(result2,label=\"SMA with window=10\")\n",
    "plt.legend(loc=\"upper left\")\n",
    "plt.show()"
   ]
  },
  {
   "cell_type": "markdown",
   "metadata": {
    "colab_type": "text",
    "id": "b2aZez8-35NW"
   },
   "source": [
    "Нарисуем приближение простым скользящим средним с шириной окна 50.\n",
    "\n",
    "Можно заметить, что оранжевый график приближения начинается позже графика истинных значений.\n",
    "\n",
    "Подумайте, почему так получается?"
   ]
  },
  {
   "cell_type": "code",
   "execution_count": 9,
   "metadata": {
    "colab": {},
    "colab_type": "code",
    "id": "vBmHqSzj35NZ",
    "outputId": "125331d0-6f1d-4cdd-d674-7361b4940aa2"
   },
   "outputs": [
    {
     "data": {
      "image/png": "[encoded data removed]",
      "text/plain": [
       "<Figure size 432x288 with 1 Axes>"
      ]
     },
     "metadata": {
      "needs_background": "light"
     },
     "output_type": "display_data"
    }
   ],
   "source": [
    "result3 = OpenPrice.rolling(window = 50).mean()\n",
    "plt.plot(OpenPrice,label=\"Actual values\")\n",
    "plt.plot(result3,label=\"SMA with window=50\")\n",
    "plt.legend(loc=\"upper left\")\n",
    "plt.show()"
   ]
  },
  {
   "cell_type": "code",
   "execution_count": 10,
   "metadata": {},
   "outputs": [
    {
     "data": {
      "image/png": "[encoded data removed]",
      "text/plain": [
       "<Figure size 432x288 with 1 Axes>"
      ]
     },
     "metadata": {
      "needs_background": "light"
     },
     "output_type": "display_data"
    }
   ],
   "source": [
    "result4 = OpenPrice.rolling(window = 100).mean()\n",
    "plt.plot(OpenPrice,label=\"Actual values\")\n",
    "plt.plot(result4,label=\"SMA with window=50\")\n",
    "plt.legend(loc=\"upper left\")\n",
    "plt.show()"
   ]
  },
  {
   "cell_type": "code",
   "execution_count": null,
   "metadata": {},
   "outputs": [],
   "source": []
  }
 ],
 "metadata": {
  "colab": {
   "name": "SMA_uniqlo_analysis.ipynb",
   "provenance": [],
   "version": "0.3.2"
  },
  "kernelspec": {
   "display_name": "Python 3",
   "language": "python",
   "name": "python3"
  },
  "language_info": {
   "codemirror_mode": {
    "name": "ipython",
    "version": 3
   },
   "file_extension": ".py",
   "mimetype": "text/x-python",
   "name": "python",
   "nbconvert_exporter": "python",
   "pygments_lexer": "ipython3",
   "version": "3.7.6"
  }
 },
 "nbformat": 4,
 "nbformat_minor": 1
}
