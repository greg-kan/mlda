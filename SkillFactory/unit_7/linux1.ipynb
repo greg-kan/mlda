{
 "cells": [
  {
   "cell_type": "code",
   "execution_count": 1,
   "metadata": {},
   "outputs": [
    {
     "name": "stderr",
     "output_type": "stream",
     "text": [
      "UsageError: %%bash is a cell magic, but the cell body is empty.\n"
     ]
    }
   ],
   "source": [
    "%%bash"
   ]
  },
  {
   "cell_type": "code",
   "execution_count": 2,
   "metadata": {},
   "outputs": [
    {
     "name": "stdout",
     "output_type": "stream",
     "text": [
      "['7_10.ipynb', '7_6_solarpower.ipynb', '8_3_graphics.ipynb', 'acf_pacf.ipynb', 'AirPassengers.csv', 'air_passengers.ipynb', 'boston_housing.ipynb', 'candy_production.csv', 'candy_production.ipynb', 'Datasets_nonstationary_time_series', 'decomp_air.ipynb', 'EURUSD_1.csv', 'gold_clean.csv', 'helper_v31102020.py', 'interpolation_practice.ipynb', 'linux1.ipynb', 'M8_10_Изменение_разрешения_данных.ipynb', 'M8_12_Оконные_функции.ipynb', 'M8_12_Оконные_функции_Задачи.ipynb', 'M8_17_Цифровые_фильтры.ipynb', 'M8_17_Цифровые_фильтры_Задачи.ipynb', 'M8_19_TSFresh.ipynb', 'M8_19_TSFresh_Задачи.ipynb', 'M8_21_NNMF.ipynb', 'M8_21_NNMF_Задачи.ipynb', 'M8_23_Задачи.ipynb', 'M8_23_Особенности_MO_на_временных_рядах.ipynb', 'M8_6_Первые_шаги.ipynb', 'M8_8_интерполяция.ipynb', 'ml_9', 'nonstationary_time_series.ipynb', 'random_walk.ipynb', 'resampling.ipynb', 'SMA_uniqlo_analysis.ipynb', 'solarpower_cumuldaybyday2.csv', 'srt_data.csv', 'uniqlo.csv', 'Untitled.ipynb', 'white_noise.ipynb', 'ноутбук_перед_8.21.4.ipynb']\n"
     ]
    }
   ],
   "source": [
    "file_list = !ls\n",
    "print(file_list)"
   ]
  },
  {
   "cell_type": "code",
   "execution_count": 3,
   "metadata": {},
   "outputs": [
    {
     "name": "stdout",
     "output_type": "stream",
     "text": [
      "/home/greg/projects/mlda/SkillFactory/unit_7\r\n"
     ]
    }
   ],
   "source": [
    "!pwd"
   ]
  },
  {
   "cell_type": "code",
   "execution_count": 6,
   "metadata": {},
   "outputs": [
    {
     "name": "stdout",
     "output_type": "stream",
     "text": [
      "total 8\r\n",
      "-rw-rw-r-- 1 greg greg 1 мая  2 10:29 1.txt\r\n",
      "-rw-rw-r-- 1 greg greg 1 мая  2 10:30 2.txt\r\n"
     ]
    }
   ],
   "source": [
    "text_files = \"./txtfiles\"\n",
    "!ls -l {text_files}"
   ]
  },
  {
   "cell_type": "code",
   "execution_count": 7,
   "metadata": {},
   "outputs": [
    {
     "name": "stdout",
     "output_type": "stream",
     "text": [
      "Tmp file: 1.txt\n",
      "Tmp file: 2.txt\n"
     ]
    }
   ],
   "source": [
    "%%bash\n",
    "for fn in `ls ./txtfiles`\n",
    "do\n",
    "    echo \"Tmp file:\" $fn\n",
    "done"
   ]
  },
  {
   "cell_type": "code",
   "execution_count": null,
   "metadata": {},
   "outputs": [],
   "source": []
  }
 ],
 "metadata": {
  "kernelspec": {
   "display_name": "Python 3",
   "language": "python",
   "name": "python3"
  },
  "language_info": {
   "codemirror_mode": {
    "name": "ipython",
    "version": 3
   },
   "file_extension": ".py",
   "mimetype": "text/x-python",
   "name": "python",
   "nbconvert_exporter": "python",
   "pygments_lexer": "ipython3",
   "version": "3.8.5"
  }
 },
 "nbformat": 4,
 "nbformat_minor": 4
}
