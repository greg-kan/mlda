{
  "cells": [
    {
      "cell_type": "code",
      "source": [
        "! pip install -U ebonite flask flasgger==0.9.3 scikit-learn ebonite==0.5.2"
      ],
      "outputs": [],
      "execution_count": null,
      "metadata": {}
    },
    {
      "cell_type": "code",
      "source": [
        "from sklearn.datasets import load_diabetes\n",
        "from sklearn.linear_model import LinearRegression\n",
        "\n",
        "X, y = load_diabetes(True)\n",
        "\n",
        "lr = LinearRegression()\n",
        "lr.fit(X, y)"
      ],
      "outputs": [
        {
          "output_type": "stream",
          "name": "stderr",
          "text": [
            "/Users/mike0sv/miniconda3/envs/py36/lib/python3.6/site-packages/sklearn/utils/validation.py:71: FutureWarning: Pass return_X_y=True as keyword args. From version 0.25 passing these as positional arguments will result in an error\n",
            "  FutureWarning)\n"
          ]
        },
        {
          "output_type": "execute_result",
          "execution_count": 1,
          "data": {
            "text/plain": [
              "LinearRegression()"
            ]
          },
          "metadata": {}
        }
      ],
      "execution_count": 1,
      "metadata": {}
    },
    {
      "cell_type": "code",
      "source": [
        "import ebonite"
      ],
      "outputs": [],
      "execution_count": 2,
      "metadata": {}
    },
    {
      "cell_type": "code",
      "source": [
        "model = ebonite.create_model(lr, X, model_name='diabetes_model_1')"
      ],
      "outputs": [],
      "execution_count": 3,
      "metadata": {}
    },
    {
      "cell_type": "code",
      "source": [
        "model"
      ],
      "outputs": [
        {
          "output_type": "execute_result",
          "execution_count": 4,
          "data": {
            "text/plain": [
              "Model(id=None,name=diabetes_model_1)"
            ]
          },
          "metadata": {}
        }
      ],
      "execution_count": 4,
      "metadata": {}
    },
    {
      "cell_type": "code",
      "source": [
        "from pprint import pprint"
      ],
      "outputs": [],
      "execution_count": 5,
      "metadata": {}
    },
    {
      "cell_type": "code",
      "source": [
        "from pyjackson import serialize\n",
        "\n",
        "pprint(serialize(model))"
      ],
      "outputs": [
        {
          "output_type": "stream",
          "name": "stdout",
          "text": [
            "{'author': 'mike0sv',\n",
            " 'creation_date': '2020-06-03 01:37:20.473379 ',\n",
            " 'name': 'diabetes_model_1',\n",
            " 'params': {'python_version': '3.6.7'},\n",
            " 'requirements': {'requirements': [{'module': 'sklearn',\n",
            "                                    'type': 'installable',\n",
            "                                    'version': '0.23.1'},\n",
            "                                   {'module': 'numpy',\n",
            "                                    'type': 'installable',\n",
            "                                    'version': '1.18.2'}]},\n",
            " 'wrapper_meta': {'type': 'ebonite.ext.sklearn.model.SklearnModelWrapper'}}\n"
          ]
        }
      ],
      "execution_count": 6,
      "metadata": {}
    },
    {
      "cell_type": "code",
      "source": [
        "ebnt = ebonite.Ebonite.local(clear=True)"
      ],
      "outputs": [],
      "execution_count": 7,
      "metadata": {}
    },
    {
      "cell_type": "code",
      "source": [
        "task = ebnt.get_or_create_task('my_prj', 'diabetes_task')"
      ],
      "outputs": [],
      "execution_count": 8,
      "metadata": {}
    },
    {
      "cell_type": "code",
      "source": [
        "task"
      ],
      "outputs": [
        {
          "output_type": "execute_result",
          "execution_count": 9,
          "data": {
            "text/plain": [
              "Task(id=0,name=diabetes_task)"
            ]
          },
          "metadata": {}
        }
      ],
      "execution_count": 9,
      "metadata": {}
    },
    {
      "cell_type": "code",
      "source": [
        "pprint(serialize(task))"
      ],
      "outputs": [
        {
          "output_type": "stream",
          "name": "stdout",
          "text": [
            "{'author': 'mike0sv',\n",
            " 'creation_date': '2020-06-03 01:40:28.271587 ',\n",
            " 'id': 0,\n",
            " 'name': 'diabetes_task',\n",
            " 'project_id': 0}\n"
          ]
        }
      ],
      "execution_count": 10,
      "metadata": {}
    },
    {
      "cell_type": "code",
      "source": [
        "task.push_model(model)"
      ],
      "outputs": [
        {
          "output_type": "execute_result",
          "execution_count": 11,
          "data": {
            "text/plain": [
              "Model(id=0,name=diabetes_model_1)"
            ]
          },
          "metadata": {}
        }
      ],
      "execution_count": 11,
      "metadata": {}
    },
    {
      "cell_type": "code",
      "source": [
        "pprint(serialize(model))"
      ],
      "outputs": [
        {
          "output_type": "stream",
          "name": "stdout",
          "text": [
            "{'artifact': {'blobs': {'methods.json': {'path': '/Users/mike0sv/PycharmProjects/zyfra/ebonite/ebonite/examples/notebook_tutorial/.ebonite/artifacts/0/methods.json',\n",
            "                                         'type': 'local_file'},\n",
            "                        'model.pkl': {'path': '/Users/mike0sv/PycharmProjects/zyfra/ebonite/ebonite/examples/notebook_tutorial/.ebonite/artifacts/0/model.pkl',\n",
            "                                      'type': 'local_file'},\n",
            "                        'requirements.json': {'path': '/Users/mike0sv/PycharmProjects/zyfra/ebonite/ebonite/examples/notebook_tutorial/.ebonite/artifacts/0/requirements.json',\n",
            "                                              'type': 'local_file'}},\n",
            "              'type': 'blobs'},\n",
            " 'author': 'mike0sv',\n",
            " 'creation_date': '2020-06-03 01:37:20.473379 ',\n",
            " 'id': 0,\n",
            " 'name': 'diabetes_model_1',\n",
            " 'params': {'python_version': '3.6.7'},\n",
            " 'requirements': {'requirements': [{'module': 'sklearn',\n",
            "                                    'type': 'installable',\n",
            "                                    'version': '0.23.1'},\n",
            "                                   {'module': 'numpy',\n",
            "                                    'type': 'installable',\n",
            "                                    'version': '1.18.2'}]},\n",
            " 'task_id': 0,\n",
            " 'wrapper_meta': {'type': 'ebonite.ext.sklearn.model.SklearnModelWrapper'}}\n"
          ]
        }
      ],
      "execution_count": 12,
      "metadata": {}
    },
    {
      "cell_type": "code",
      "source": [
        "! ls -la .ebonite/artifacts/0"
      ],
      "outputs": [
        {
          "output_type": "stream",
          "name": "stdout",
          "text": [
            "total 24\r\n",
            "drwxr-xr-x  5 mike0sv  staff  160 Jun  3 04:40 \u001b[34m.\u001b[m\u001b[m\r\n",
            "drwxr-xr-x  3 mike0sv  staff   96 Jun  3 04:40 \u001b[34m..\u001b[m\u001b[m\r\n",
            "-rw-r--r--  1 mike0sv  staff  228 Jun  3 04:40 methods.json\r\n",
            "-rw-r--r--  1 mike0sv  staff  754 Jun  3 04:40 model.pkl\r\n",
            "-rw-r--r--  1 mike0sv  staff  150 Jun  3 04:40 requirements.json\r\n"
          ]
        }
      ],
      "execution_count": 13,
      "metadata": {}
    },
    {
      "cell_type": "code",
      "source": [
        "model.id"
      ],
      "outputs": [
        {
          "output_type": "execute_result",
          "execution_count": 14,
          "data": {
            "text/plain": [
              "0"
            ]
          },
          "metadata": {}
        }
      ],
      "execution_count": 14,
      "metadata": {}
    },
    {
      "cell_type": "code",
      "source": [
        "del model"
      ],
      "outputs": [],
      "execution_count": 15,
      "metadata": {}
    },
    {
      "cell_type": "code",
      "source": [
        "model = ebnt.get_model('diabetes_model_1', task)"
      ],
      "outputs": [],
      "execution_count": 16,
      "metadata": {}
    },
    {
      "cell_type": "code",
      "source": [
        "model"
      ],
      "outputs": [
        {
          "output_type": "execute_result",
          "execution_count": 17,
          "data": {
            "text/plain": [
              "Model(id=0,name=diabetes_model_1)"
            ]
          },
          "metadata": {}
        }
      ],
      "execution_count": 17,
      "metadata": {}
    },
    {
      "cell_type": "code",
      "source": [
        "from ebonite.runtime import run_model_server"
      ],
      "outputs": [],
      "execution_count": 18,
      "metadata": {}
    },
    {
      "cell_type": "code",
      "source": [
        "from ebonite.ext.flask.server import FlaskServer"
      ],
      "outputs": [],
      "execution_count": 19,
      "metadata": {}
    },
    {
      "cell_type": "code",
      "source": [
        "run_model_server(model, FlaskServer())"
      ],
      "outputs": [
        {
          "output_type": "stream",
          "name": "stdout",
          "text": [
            "2020-06-03 04:43:31,282 [INFO] ebonite_runtime: Starting Ebonite runtime with loader MockLoader and server FlaskServer ...\n",
            "2020-06-03 04:43:31,287 [INFO] ebonite_runtime: Running server <ebonite.ext.flask.server.FlaskServer object at 0x1a2400cc88>\n",
            " * Serving Flask app \"ebonite.ext.flask.server\" (lazy loading)\n",
            " * Environment: production\n",
            "   WARNING: This is a development server. Do not use it in a production deployment.\n",
            "   Use a production WSGI server instead.\n",
            " * Debug mode: off\n"
          ]
        },
        {
          "output_type": "stream",
          "name": "stderr",
          "text": [
            " * Running on http://0.0.0.0:9000/ (Press CTRL+C to quit)\n",
            "127.0.0.1 - - [03/Jun/2020 04:43:58] \"\u001b[32mGET / HTTP/1.1\u001b[0m\" 302 -\n",
            "127.0.0.1 - - [03/Jun/2020 04:43:58] \"\u001b[32mGET /apidocs HTTP/1.1\u001b[0m\" 308 -\n",
            "127.0.0.1 - - [03/Jun/2020 04:43:58] \"\u001b[37mGET /apidocs/ HTTP/1.1\u001b[0m\" 200 -\n",
            "127.0.0.1 - - [03/Jun/2020 04:43:58] \"\u001b[37mGET /flasgger_static/swagger-ui.css HTTP/1.1\u001b[0m\" 200 -\n",
            "127.0.0.1 - - [03/Jun/2020 04:43:58] \"\u001b[37mGET /flasgger_static/swagger-ui-standalone-preset.js HTTP/1.1\u001b[0m\" 200 -\n",
            "127.0.0.1 - - [03/Jun/2020 04:43:58] \"\u001b[37mGET /flasgger_static/swagger-ui-bundle.js HTTP/1.1\u001b[0m\" 200 -\n",
            "127.0.0.1 - - [03/Jun/2020 04:43:58] \"\u001b[37mGET /flasgger_static/lib/jquery.min.js HTTP/1.1\u001b[0m\" 200 -\n",
            "127.0.0.1 - - [03/Jun/2020 04:43:59] \"\u001b[37mGET /flasgger_static/favicon-32x32.png HTTP/1.1\u001b[0m\" 200 -\n",
            "127.0.0.1 - - [03/Jun/2020 04:43:59] \"\u001b[37mGET /apispec_1.json HTTP/1.1\u001b[0m\" 200 -\n",
            "127.0.0.1 - - [03/Jun/2020 04:44:29] \"\u001b[37mPOST /predict HTTP/1.1\u001b[0m\" 200 -\n",
            "127.0.0.1 - - [03/Jun/2020 04:44:41] \"\u001b[31m\u001b[1mPOST /predict HTTP/1.1\u001b[0m\" 400 -\n"
          ]
        }
      ],
      "execution_count": 20,
      "metadata": {}
    },
    {
      "cell_type": "code",
      "source": [
        "image = ebnt.build_image('nb_example_diabetes', model, FlaskServer(), force_overwrite=True)"
      ],
      "outputs": [
        {
          "output_type": "stream",
          "name": "stdout",
          "text": [
            "2020-06-03 04:46:20,791 [INFO] ebonite: Built image nb_example_diabetes:latest\n"
          ]
        }
      ],
      "execution_count": 21,
      "metadata": {}
    },
    {
      "cell_type": "code",
      "source": [
        "instance = ebnt.create_instance('nb_example_diabetes', image, ports_mapping={9000:80})"
      ],
      "outputs": [],
      "execution_count": 23,
      "metadata": {}
    },
    {
      "cell_type": "code",
      "source": [
        "instance.is_running()"
      ],
      "outputs": [
        {
          "output_type": "execute_result",
          "execution_count": 24,
          "data": {
            "text/plain": [
              "False"
            ]
          },
          "metadata": {}
        }
      ],
      "execution_count": 24,
      "metadata": {}
    },
    {
      "cell_type": "code",
      "source": [
        "instance.run()"
      ],
      "outputs": [
        {
          "output_type": "execute_result",
          "execution_count": 25,
          "data": {
            "text/plain": [
              "<ebonite.core.objects.core.RuntimeInstance at 0x1a241b9240>"
            ]
          },
          "metadata": {}
        }
      ],
      "execution_count": 25,
      "metadata": {}
    },
    {
      "cell_type": "code",
      "source": [
        "! docker ps"
      ],
      "outputs": [
        {
          "output_type": "stream",
          "name": "stdout",
          "text": [
            "CONTAINER ID        IMAGE                        COMMAND                  CREATED             STATUS              PORTS                  NAMES\r\n",
            "55d620a9c3e3        nb_example_diabetes:latest   \"/usr/bin/supervisord\"   10 seconds ago      Up 10 seconds       0.0.0.0:80->9000/tcp   nb_example_diabetes\r\n"
          ]
        }
      ],
      "execution_count": 26,
      "metadata": {}
    },
    {
      "cell_type": "code",
      "source": [
        "instance.is_running()"
      ],
      "outputs": [
        {
          "output_type": "execute_result",
          "execution_count": 27,
          "data": {
            "text/plain": [
              "True"
            ]
          },
          "metadata": {}
        }
      ],
      "execution_count": 27,
      "metadata": {}
    },
    {
      "cell_type": "code",
      "source": [
        "from ebonite.ext.flask.client import HTTPClient"
      ],
      "outputs": [],
      "execution_count": 28,
      "metadata": {}
    },
    {
      "cell_type": "code",
      "source": [
        "client = HTTPClient('localhost', 80)"
      ],
      "outputs": [],
      "execution_count": 29,
      "metadata": {}
    },
    {
      "cell_type": "code",
      "source": [
        "client.methods"
      ],
      "outputs": [
        {
          "output_type": "execute_result",
          "execution_count": 30,
          "data": {
            "text/plain": [
              "{'predict': Method(name='predict', args=[Argument(name='vector', type=<class 'pyjackson.generics.NumpyNdarrayDatasetType[shape=(None, 10),dtype=float64]'>)], out_type=<class 'pyjackson.generics.NumpyNdarrayDatasetType[shape=(None,),dtype=float64]'>)}"
            ]
          },
          "metadata": {}
        }
      ],
      "execution_count": 30,
      "metadata": {}
    },
    {
      "cell_type": "code",
      "source": [
        "import numpy as np\n",
        "client.predict(np.array([[1.,2,3,4,5,6,7,8,9,10]]))"
      ],
      "outputs": [
        {
          "output_type": "execute_result",
          "execution_count": 31,
          "data": {
            "text/plain": [
              "array([10980.71155335])"
            ]
          },
          "metadata": {}
        }
      ],
      "execution_count": 31,
      "metadata": {}
    },
    {
      "cell_type": "code",
      "source": [
        "def is_bad(data):\n",
        "    preds = lr.predict(data)\n",
        "    return preds > 50"
      ],
      "outputs": [],
      "execution_count": 33,
      "metadata": {}
    },
    {
      "cell_type": "code",
      "source": [
        "model2 = ebonite.create_model(is_bad, X, 'diabetes_model_2')\n",
        "task.push_model(model2)"
      ],
      "outputs": [
        {
          "output_type": "execute_result",
          "execution_count": 34,
          "data": {
            "text/plain": [
              "Model(id=1,name=diabetes_model_2)"
            ]
          },
          "metadata": {}
        }
      ],
      "execution_count": 34,
      "metadata": {}
    },
    {
      "cell_type": "code",
      "source": [
        "pprint(serialize(model2))"
      ],
      "outputs": [
        {
          "output_type": "stream",
          "name": "stdout",
          "text": [
            "{'artifact': {'blobs': {'methods.json': {'path': '/Users/mike0sv/PycharmProjects/zyfra/ebonite/ebonite/examples/notebook_tutorial/.ebonite/artifacts/1/methods.json',\n",
            "                                         'type': 'local_file'},\n",
            "                        'model.pkl': {'path': '/Users/mike0sv/PycharmProjects/zyfra/ebonite/ebonite/examples/notebook_tutorial/.ebonite/artifacts/1/model.pkl',\n",
            "                                      'type': 'local_file'},\n",
            "                        'requirements.json': {'path': '/Users/mike0sv/PycharmProjects/zyfra/ebonite/ebonite/examples/notebook_tutorial/.ebonite/artifacts/1/requirements.json',\n",
            "                                              'type': 'local_file'}},\n",
            "              'type': 'blobs'},\n",
            " 'author': 'mike0sv',\n",
            " 'creation_date': '2020-06-03 01:53:55.378329 ',\n",
            " 'id': 1,\n",
            " 'name': 'diabetes_model_2',\n",
            " 'params': {'python_version': '3.6.7'},\n",
            " 'requirements': {'requirements': [{'module': 'numpy',\n",
            "                                    'type': 'installable',\n",
            "                                    'version': '1.18.2'},\n",
            "                                   {'module': 'sklearn',\n",
            "                                    'type': 'installable',\n",
            "                                    'version': '0.23.1'}]},\n",
            " 'task_id': 0,\n",
            " 'wrapper_meta': {'type': 'callable_method'}}\n"
          ]
        }
      ],
      "execution_count": 35,
      "metadata": {}
    },
    {
      "cell_type": "code",
      "source": [
        "image2 = ebnt.build_image('nb_example_diabetes2', model2, FlaskServer(), force_overwrite=True)"
      ],
      "outputs": [
        {
          "output_type": "stream",
          "name": "stdout",
          "text": [
            "2020-06-03 04:55:10,571 [INFO] ebonite: Built image nb_example_diabetes2:latest\n"
          ]
        }
      ],
      "execution_count": 36,
      "metadata": {}
    },
    {
      "cell_type": "code",
      "source": [
        "instance2 = ebnt.create_instance('nb_example_diabetes2', image2, ports_mapping={9000:81})"
      ],
      "outputs": [],
      "execution_count": 37,
      "metadata": {}
    },
    {
      "cell_type": "code",
      "source": [
        "instance2.run()"
      ],
      "outputs": [
        {
          "output_type": "execute_result",
          "execution_count": 38,
          "data": {
            "text/plain": [
              "<ebonite.core.objects.core.RuntimeInstance at 0x1a2422ca90>"
            ]
          },
          "metadata": {}
        }
      ],
      "execution_count": 38,
      "metadata": {}
    },
    {
      "cell_type": "code",
      "source": [
        "client2 = HTTPClient('localhost', 81)"
      ],
      "outputs": [],
      "execution_count": 39,
      "metadata": {}
    },
    {
      "cell_type": "code",
      "source": [
        "client2.predict(np.array([[1.,2,3,4,5,6,7,8,9,10]]))"
      ],
      "outputs": [
        {
          "output_type": "execute_result",
          "execution_count": 40,
          "data": {
            "text/plain": [
              "array([ True])"
            ]
          },
          "metadata": {}
        }
      ],
      "execution_count": 40,
      "metadata": {}
    },
    {
      "cell_type": "code",
      "source": [
        "client2.methods"
      ],
      "outputs": [
        {
          "output_type": "execute_result",
          "execution_count": 41,
          "data": {
            "text/plain": [
              "{'predict': Method(name='predict', args=[Argument(name='vector', type=<class 'pyjackson.generics.NumpyNdarrayDatasetType[shape=(None, 10),dtype=float64]'>)], out_type=<class 'pyjackson.generics.NumpyNdarrayDatasetType[shape=(None,),dtype=bool]'>)}"
            ]
          },
          "metadata": {}
        }
      ],
      "execution_count": 41,
      "metadata": {}
    },
    {
      "cell_type": "code",
      "source": [],
      "outputs": [],
      "execution_count": null,
      "metadata": {}
    }
  ],
  "metadata": {
    "kernelspec": {
      "display_name": "Python 3",
      "language": "python",
      "name": "python3"
    },
    "language_info": {
      "codemirror_mode": {
        "name": "ipython",
        "version": 3
      },
      "file_extension": ".py",
      "mimetype": "text/x-python",
      "name": "python",
      "nbconvert_exporter": "python",
      "pygments_lexer": "ipython3",
      "version": "3.6.7"
    },
    "nteract": {
      "version": "0.23.3"
    }
  },
  "nbformat": 4,
  "nbformat_minor": 2
}