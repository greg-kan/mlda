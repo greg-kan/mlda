{
 "cells": [
  {
   "cell_type": "code",
   "execution_count": 1,
   "metadata": {},
   "outputs": [],
   "source": [
    "import pandas as pd\n",
    "import numpy as np"
   ]
  },
  {
   "cell_type": "code",
   "execution_count": 2,
   "metadata": {},
   "outputs": [
    {
     "data": {
      "text/plain": [
       "array([[1, 5, 0, 5, 4],\n",
       "       [5, 4, 4, 3, 2],\n",
       "       [0, 4, 0, 0, 5],\n",
       "       [4, 4, 1, 4, 0],\n",
       "       [0, 4, 3, 5, 0],\n",
       "       [2, 4, 3, 5, 3]])"
      ]
     },
     "execution_count": 2,
     "metadata": {},
     "output_type": "execute_result"
    }
   ],
   "source": [
    "user_movie_matrix = np.array(((1,5,0,5,4), (5,4,4,3,2), (0,4,0,0,5), (4,4,1,4,0), (0,4,3,5,0), (2,4,3,5,3)))\n",
    "user_movie_matrix"
   ]
  },
  {
   "cell_type": "code",
   "execution_count": 3,
   "metadata": {},
   "outputs": [],
   "source": [
    "import scipy\n",
    "from scipy import linalg"
   ]
  },
  {
   "cell_type": "code",
   "execution_count": 6,
   "metadata": {},
   "outputs": [],
   "source": [
    "U, s, V = linalg.svd(user_movie_matrix) "
   ]
  },
  {
   "cell_type": "code",
   "execution_count": 7,
   "metadata": {},
   "outputs": [
    {
     "data": {
      "text/plain": [
       "array([16.46644354,  6.21001334,  4.39908461,  2.90336429,  1.58445634])"
      ]
     },
     "execution_count": 7,
     "metadata": {},
     "output_type": "execute_result"
    }
   ],
   "source": [
    "s"
   ]
  },
  {
   "cell_type": "code",
   "execution_count": 8,
   "metadata": {},
   "outputs": [
    {
     "data": {
      "text/plain": [
       "array([[-0.45995612,  0.39643205,  0.30008466, -0.43188307,  0.32259944,\n",
       "        -0.5006374 ],\n",
       "       [-0.46080622, -0.30693176, -0.6474524 ,  0.28369822,  0.01979887,\n",
       "        -0.43974907],\n",
       "       [-0.24879658,  0.7546451 , -0.27901701,  0.15629367, -0.46458544,\n",
       "         0.22470694],\n",
       "       [-0.38343916, -0.34546491, -0.13187024, -0.68331121, -0.32184406,\n",
       "         0.38176018],\n",
       "       [-0.37621687, -0.24437478,  0.62120015,  0.38026413, -0.50209455,\n",
       "        -0.12709231],\n",
       "       [-0.47500898, -0.00895923,  0.09810557,  0.31152785,  0.56922355,\n",
       "         0.58617101]])"
      ]
     },
     "execution_count": 8,
     "metadata": {},
     "output_type": "execute_result"
    }
   ],
   "source": [
    "U"
   ]
  },
  {
   "cell_type": "code",
   "execution_count": 9,
   "metadata": {},
   "outputs": [
    {
     "data": {
      "text/plain": [
       "(6, 6)"
      ]
     },
     "execution_count": 9,
     "metadata": {},
     "output_type": "execute_result"
    }
   ],
   "source": [
    "U.shape"
   ]
  },
  {
   "cell_type": "code",
   "execution_count": 10,
   "metadata": {},
   "outputs": [
    {
     "data": {
      "text/plain": [
       "array([[-0.31869431, -0.61196286, -0.29030808, -0.57523564, -0.32978869],\n",
       "       [-0.40869555,  0.22187036, -0.37571481, -0.25558153,  0.75977493],\n",
       "       [-0.74298347,  0.03279947, -0.12815454,  0.59719556, -0.27172346],\n",
       "       [-0.38699282, -0.12589696,  0.87032055, -0.2006657 ,  0.19147306],\n",
       "       [ 0.17208719, -0.74789649, -0.02604148,  0.4548327 ,  0.45109412]])"
      ]
     },
     "execution_count": 10,
     "metadata": {},
     "output_type": "execute_result"
    }
   ],
   "source": [
    "V"
   ]
  },
  {
   "cell_type": "code",
   "execution_count": 11,
   "metadata": {},
   "outputs": [
    {
     "data": {
      "text/plain": [
       "array([[-0.45995612,  0.39643205,  0.30008466, -0.43188307,  0.32259944,\n",
       "        -0.5006374 ],\n",
       "       [-0.46080622, -0.30693176, -0.6474524 ,  0.28369822,  0.01979887,\n",
       "        -0.43974907]])"
      ]
     },
     "execution_count": 11,
     "metadata": {},
     "output_type": "execute_result"
    }
   ],
   "source": [
    "U2 = U[0:2, :]\n",
    "U2"
   ]
  },
  {
   "cell_type": "code",
   "execution_count": 12,
   "metadata": {},
   "outputs": [
    {
     "data": {
      "text/plain": [
       "array([0, 4, 0, 0, 5])"
      ]
     },
     "execution_count": 12,
     "metadata": {},
     "output_type": "execute_result"
    }
   ],
   "source": [
    "user2 = user_movie_matrix[2, :]\n",
    "user2"
   ]
  },
  {
   "cell_type": "code",
   "execution_count": 13,
   "metadata": {},
   "outputs": [
    {
     "data": {
      "text/plain": [
       "array([[-0.31869431, -0.61196286, -0.29030808, -0.57523564, -0.32978869],\n",
       "       [-0.40869555,  0.22187036, -0.37571481, -0.25558153,  0.75977493]])"
      ]
     },
     "execution_count": 13,
     "metadata": {},
     "output_type": "execute_result"
    }
   ],
   "source": [
    "V2 = V[0:2, :]\n",
    "V2"
   ]
  },
  {
   "cell_type": "code",
   "execution_count": 14,
   "metadata": {},
   "outputs": [
    {
     "data": {
      "text/plain": [
       "array([[-0.31869431, -0.40869555],\n",
       "       [-0.61196286,  0.22187036],\n",
       "       [-0.29030808, -0.37571481],\n",
       "       [-0.57523564, -0.25558153],\n",
       "       [-0.32978869,  0.75977493]])"
      ]
     },
     "execution_count": 14,
     "metadata": {},
     "output_type": "execute_result"
    }
   ],
   "source": [
    "V2.transpose()"
   ]
  },
  {
   "cell_type": "code",
   "execution_count": 15,
   "metadata": {},
   "outputs": [
    {
     "data": {
      "text/plain": [
       "array([-4.09679486,  4.68635611])"
      ]
     },
     "execution_count": 15,
     "metadata": {},
     "output_type": "execute_result"
    }
   ],
   "source": [
    "lowdim = np.dot(user2, V2.transpose())\n",
    "lowdim"
   ]
  },
  {
   "cell_type": "code",
   "execution_count": 16,
   "metadata": {},
   "outputs": [
    {
     "data": {
      "text/plain": [
       "array([-0.6096677 ,  3.54684982, -0.57140075,  1.15887633,  4.9116525 ])"
      ]
     },
     "execution_count": 16,
     "metadata": {},
     "output_type": "execute_result"
    }
   ],
   "source": [
    "inversed_transformation = np.dot(lowdim, V2)\n",
    "inversed_transformation"
   ]
  },
  {
   "cell_type": "code",
   "execution_count": 17,
   "metadata": {},
   "outputs": [
    {
     "data": {
      "text/plain": [
       "0.08834750000000025"
      ]
     },
     "execution_count": 17,
     "metadata": {},
     "output_type": "execute_result"
    }
   ],
   "source": [
    "abs(5-4.9116525)"
   ]
  },
  {
   "cell_type": "code",
   "execution_count": 18,
   "metadata": {},
   "outputs": [
    {
     "data": {
      "text/plain": [
       "array([0, 0, 3, 4, 0])"
      ]
     },
     "execution_count": 18,
     "metadata": {},
     "output_type": "execute_result"
    }
   ],
   "source": [
    "new_user = np.array((0, 0, 3, 4, 0))\n",
    "new_user"
   ]
  },
  {
   "cell_type": "code",
   "execution_count": 19,
   "metadata": {},
   "outputs": [
    {
     "data": {
      "text/plain": [
       "(5,)"
      ]
     },
     "execution_count": 19,
     "metadata": {},
     "output_type": "execute_result"
    }
   ],
   "source": [
    "new_user.shape"
   ]
  },
  {
   "cell_type": "code",
   "execution_count": 20,
   "metadata": {},
   "outputs": [
    {
     "data": {
      "text/plain": [
       "array([[-0.31869431, -0.61196286, -0.29030808, -0.57523564, -0.32978869],\n",
       "       [-0.40869555,  0.22187036, -0.37571481, -0.25558153,  0.75977493],\n",
       "       [-0.74298347,  0.03279947, -0.12815454,  0.59719556, -0.27172346]])"
      ]
     },
     "execution_count": 20,
     "metadata": {},
     "output_type": "execute_result"
    }
   ],
   "source": [
    "V3 = V[0:3, :]\n",
    "V3"
   ]
  },
  {
   "cell_type": "code",
   "execution_count": 21,
   "metadata": {},
   "outputs": [
    {
     "data": {
      "text/plain": [
       "array([-3.17186679, -2.14947056,  2.00431861])"
      ]
     },
     "execution_count": 21,
     "metadata": {},
     "output_type": "execute_result"
    }
   ],
   "source": [
    "lowdim_new = np.dot(new_user, V3.transpose())\n",
    "lowdim_new"
   ]
  },
  {
   "cell_type": "code",
   "execution_count": 22,
   "metadata": {},
   "outputs": [
    {
     "data": {
      "text/plain": [
       "array([ 0.40015936,  1.52990144,  1.47154395,  3.57090597, -1.13168846])"
      ]
     },
     "execution_count": 22,
     "metadata": {},
     "output_type": "execute_result"
    }
   ],
   "source": [
    "inversed_transformation_new = np.dot(lowdim_new, V3)\n",
    "inversed_transformation_new"
   ]
  },
  {
   "cell_type": "code",
   "execution_count": null,
   "metadata": {},
   "outputs": [],
   "source": []
  }
 ],
 "metadata": {
  "kernelspec": {
   "display_name": "Python 3",
   "language": "python",
   "name": "python3"
  },
  "language_info": {
   "codemirror_mode": {
    "name": "ipython",
    "version": 3
   },
   "file_extension": ".py",
   "mimetype": "text/x-python",
   "name": "python",
   "nbconvert_exporter": "python",
   "pygments_lexer": "ipython3",
   "version": "3.8.5"
  }
 },
 "nbformat": 4,
 "nbformat_minor": 4
}
