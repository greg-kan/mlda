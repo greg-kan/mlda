{
 "cells": [
  {
   "cell_type": "code",
   "execution_count": 1,
   "metadata": {},
   "outputs": [],
   "source": [
    "import pandas as pd"
   ]
  },
  {
   "cell_type": "code",
   "execution_count": 4,
   "metadata": {},
   "outputs": [],
   "source": [
    "data_all = []\n",
    "for i in range(4):\n",
    "    data = pd.read_csv('./1636_792972_bundle_archive/combined_data_' + str(i+1)+'.txt', header = None, names = ['Cust_Id', 'Rating'], usecols = [0,1])\n",
    "    data_all.append(data)"
   ]
  },
  {
   "cell_type": "code",
   "execution_count": 5,
   "metadata": {},
   "outputs": [],
   "source": [
    "df = pd.concat(data_all)"
   ]
  },
  {
   "cell_type": "code",
   "execution_count": 6,
   "metadata": {},
   "outputs": [
    {
     "name": "stdout",
     "output_type": "stream",
     "text": [
      "Full dataset shape: (100498277, 2)\n",
      "-Dataset examples-\n",
      "           Cust_Id  Rating\n",
      "0               1:     NaN\n",
      "5000000    2560324     4.0\n",
      "10000000   2271935     2.0\n",
      "15000000   1921803     2.0\n",
      "20000000   1933327     3.0\n",
      "25000000   1465002     3.0\n",
      "30000000    961023     4.0\n",
      "35000000   1372532     5.0\n",
      "40000000    854274     5.0\n",
      "45000000    116334     3.0\n",
      "50000000    768483     3.0\n",
      "55000000   1331144     5.0\n",
      "60000000   1609324     2.0\n",
      "65000000   1699240     3.0\n",
      "70000000   1776418     4.0\n",
      "75000000   1643826     5.0\n",
      "80000000    932047     4.0\n",
      "85000000   2292868     4.0\n",
      "90000000    932191     4.0\n",
      "95000000   1815101     3.0\n",
      "100000000   872339     4.0\n"
     ]
    }
   ],
   "source": [
    "import numpy as np\n",
    "df.index = np.arange(0,len(df))\n",
    "print('Full dataset shape: {}'.format(df.shape))\n",
    "print('-Dataset examples-')\n",
    "print(df.iloc[::5000000, :])"
   ]
  },
  {
   "cell_type": "code",
   "execution_count": 7,
   "metadata": {},
   "outputs": [
    {
     "data": {
      "text/plain": [
       "(100498277, 2)"
      ]
     },
     "execution_count": 7,
     "metadata": {},
     "output_type": "execute_result"
    }
   ],
   "source": [
    "df.shape"
   ]
  },
  {
   "cell_type": "code",
   "execution_count": 2,
   "metadata": {},
   "outputs": [],
   "source": [
    "import numpy as np\n",
    "# df_nan = pd.DataFrame(pd.isnull(df.Rating))\n",
    "# df_nan = df_nan[df_nan['Rating'] == True]\n",
    "# df_nan = df_nan.reset_index()\n",
    "\n",
    "# movie_np = []\n",
    "# movie_id = 1\n",
    "\n",
    "# for i,j in zip(df_nan['index'][1:],df_nan['index'][:-1]):\n",
    "#     # numpy approach\n",
    "#     temp = np.full((1,np.abs(i-j-1)), movie_id)\n",
    "#     movie_np = np.append(movie_np, temp)\n",
    "#     movie_id += 1\n",
    "\n",
    "# # Account for last record and corresponding length\n",
    "# # numpy approach\n",
    "# last_record = np.full((1,len(df) - df_nan.iloc[-1, 0] - 1),movie_id)\n",
    "# movie_np = np.append(movie_np, last_record)"
   ]
  },
  {
   "cell_type": "code",
   "execution_count": 9,
   "metadata": {},
   "outputs": [
    {
     "name": "stdout",
     "output_type": "stream",
     "text": [
      "-Dataset examples-\n",
      "          Cust_Id  Rating  Movie_Id\n",
      "2884918   2290447     3.0       528\n",
      "71012600  1278132     5.0     12870\n",
      "55136945  1328843     4.0     10078\n"
     ]
    }
   ],
   "source": [
    "# df = df[pd.notnull(df['Rating'])]\n",
    "\n",
    "# df['Movie_Id'] = movie_np.astype(int)\n",
    "# df['Cust_Id'] = df['Cust_Id'].astype(int)\n",
    "# print('-Dataset examples-')\n",
    "# print(df.sample(3))"
   ]
  },
  {
   "cell_type": "code",
   "execution_count": 10,
   "metadata": {},
   "outputs": [],
   "source": [
    "# df.to_csv('data_prep.csv', sep=';', index = None)"
   ]
  },
  {
   "cell_type": "code",
   "execution_count": 3,
   "metadata": {},
   "outputs": [],
   "source": [
    "df = pd.read_csv('data_prep.csv', sep=';')"
   ]
  },
  {
   "cell_type": "code",
   "execution_count": 4,
   "metadata": {},
   "outputs": [
    {
     "data": {
      "text/html": [
       "<div>\n",
       "<style scoped>\n",
       "    .dataframe tbody tr th:only-of-type {\n",
       "        vertical-align: middle;\n",
       "    }\n",
       "\n",
       "    .dataframe tbody tr th {\n",
       "        vertical-align: top;\n",
       "    }\n",
       "\n",
       "    .dataframe thead th {\n",
       "        text-align: right;\n",
       "    }\n",
       "</style>\n",
       "<table border=\"1\" class=\"dataframe\">\n",
       "  <thead>\n",
       "    <tr style=\"text-align: right;\">\n",
       "      <th></th>\n",
       "      <th>Cust_Id</th>\n",
       "      <th>Rating</th>\n",
       "      <th>Movie_Id</th>\n",
       "    </tr>\n",
       "  </thead>\n",
       "  <tbody>\n",
       "    <tr>\n",
       "      <th>0</th>\n",
       "      <td>1488844</td>\n",
       "      <td>3.0</td>\n",
       "      <td>1</td>\n",
       "    </tr>\n",
       "    <tr>\n",
       "      <th>1</th>\n",
       "      <td>822109</td>\n",
       "      <td>5.0</td>\n",
       "      <td>1</td>\n",
       "    </tr>\n",
       "    <tr>\n",
       "      <th>2</th>\n",
       "      <td>885013</td>\n",
       "      <td>4.0</td>\n",
       "      <td>1</td>\n",
       "    </tr>\n",
       "    <tr>\n",
       "      <th>3</th>\n",
       "      <td>30878</td>\n",
       "      <td>4.0</td>\n",
       "      <td>1</td>\n",
       "    </tr>\n",
       "    <tr>\n",
       "      <th>4</th>\n",
       "      <td>823519</td>\n",
       "      <td>3.0</td>\n",
       "      <td>1</td>\n",
       "    </tr>\n",
       "  </tbody>\n",
       "</table>\n",
       "</div>"
      ],
      "text/plain": [
       "   Cust_Id  Rating  Movie_Id\n",
       "0  1488844     3.0         1\n",
       "1   822109     5.0         1\n",
       "2   885013     4.0         1\n",
       "3    30878     4.0         1\n",
       "4   823519     3.0         1"
      ]
     },
     "execution_count": 4,
     "metadata": {},
     "output_type": "execute_result"
    }
   ],
   "source": [
    "df.head()"
   ]
  },
  {
   "cell_type": "code",
   "execution_count": 5,
   "metadata": {},
   "outputs": [],
   "source": [
    "good = df[df['Rating']==5].groupby('Cust_Id')['Movie_Id'].apply(lambda r: ' '.join([str(A) for A in r]))"
   ]
  },
  {
   "cell_type": "code",
   "execution_count": 6,
   "metadata": {
    "scrolled": true
   },
   "outputs": [
    {
     "data": {
      "text/plain": [
       "Cust_Id\n",
       "6     175 457 886 1467 2372 2452 2782 3290 4043 4633...\n",
       "7     8 30 83 175 257 283 285 313 357 457 458 468 50...\n",
       "8     1202 1799 1905 2186 3610 3925 4306 5054 5317 5...\n",
       "10    473 985 1542 1905 2172 3124 3371 3962 4043 430...\n",
       "25                4432 6786 7605 9326 10643 15107 15270\n",
       "Name: Movie_Id, dtype: object"
      ]
     },
     "execution_count": 6,
     "metadata": {},
     "output_type": "execute_result"
    }
   ],
   "source": [
    "good.head()"
   ]
  },
  {
   "cell_type": "code",
   "execution_count": 6,
   "metadata": {},
   "outputs": [
    {
     "data": {
      "text/plain": [
       "Cust_Id\n",
       "6     [175, 457, 886, 1467, 2372, 2452, 2782, 3290, ...\n",
       "7     [8, 30, 83, 175, 257, 283, 285, 313, 357, 457,...\n",
       "8     [1202, 1799, 1905, 2186, 3610, 3925, 4306, 505...\n",
       "10    [473, 985, 1542, 1905, 2172, 3124, 3371, 3962,...\n",
       "25        [4432, 6786, 7605, 9326, 10643, 15107, 15270]\n",
       "Name: Movie_Id, dtype: object"
      ]
     },
     "execution_count": 6,
     "metadata": {},
     "output_type": "execute_result"
    }
   ],
   "source": [
    "# good.apply(lambda r: r.split(' ')).head()"
   ]
  },
  {
   "cell_type": "code",
   "execution_count": 7,
   "metadata": {},
   "outputs": [],
   "source": [
    "import apyori"
   ]
  },
  {
   "cell_type": "code",
   "execution_count": 8,
   "metadata": {},
   "outputs": [],
   "source": [
    "association_rules = apyori.apriori(good.apply(lambda r: r.split(' ')), \n",
    "                                   min_support=0.04, \n",
    "                                   min_confidence=0.1, min_lift=2, \n",
    "                                   min_length=2)"
   ]
  },
  {
   "cell_type": "code",
   "execution_count": 11,
   "metadata": {},
   "outputs": [
    {
     "name": "stdout",
     "output_type": "stream",
     "text": [
      "RelationRecord(items=frozenset({'10820', '10042'}), support=0.04157319850911099, ordered_statistics=[OrderedStatistic(items_base=frozenset({'10042'}), items_add=frozenset({'10820'}), confidence=0.2662154696132597, lift=4.11022216465369), OrderedStatistic(items_base=frozenset({'10820'}), items_add=frozenset({'10042'}), confidence=0.6418675902491008, lift=4.11022216465369)])\n"
     ]
    }
   ],
   "source": [
    "#print(list(association_rules)[0])"
   ]
  },
  {
   "cell_type": "code",
   "execution_count": 9,
   "metadata": {},
   "outputs": [],
   "source": [
    "# association_rules_list = list(association_rules)"
   ]
  },
  {
   "cell_type": "code",
   "execution_count": 11,
   "metadata": {},
   "outputs": [
    {
     "data": {
      "text/plain": [
       "2023"
      ]
     },
     "execution_count": 11,
     "metadata": {},
     "output_type": "execute_result"
    }
   ],
   "source": [
    "# len(association_rules_list)"
   ]
  },
  {
   "cell_type": "code",
   "execution_count": 12,
   "metadata": {},
   "outputs": [
    {
     "name": "stdout",
     "output_type": "stream",
     "text": [
      "RelationRecord(items=frozenset({'2452', '7230', '14240', '14961', '11521', '5582', '16265', '7057'}), support=0.04052707413031474, ordered_statistics=[OrderedStatistic(items_base=frozenset({'11521'}), items_add=frozenset({'2452', '7230', '14240', '14961', '5582', '16265', '7057'}), confidence=0.19463407054436213, lift=4.666225527432775), OrderedStatistic(items_base=frozenset({'14240'}), items_add=frozenset({'2452', '7230', '14961', '11521', '5582', '16265', '7057'}), confidence=0.20245676418296427, lift=4.880268038446896), OrderedStatistic(items_base=frozenset({'14961'}), items_add=frozenset({'2452', '7230', '14240', '11521', '5582', '16265', '7057'}), confidence=0.3250523329238967, lift=7.460369424794321), OrderedStatistic(items_base=frozenset({'16265'}), items_add=frozenset({'2452', '7230', '14240', '14961', '11521', '5582', '7057'}), confidence=0.33865037309397644, lift=7.00003260833461), OrderedStatistic(items_base=frozenset({'2452'}), items_add=frozenset({'7230', '14240', '14961', '11521', '5582', '16265', '7057'}), confidence=0.1984998151180603, lift=4.693135309591241), OrderedStatistic(items_base=frozenset({'5582'}), items_add=frozenset({'2452', '7230', '14240', '14961', '11521', '16265', '7057'}), confidence=0.3040045303778011, lift=6.918046647800257), OrderedStatistic(items_base=frozenset({'7057'}), items_add=frozenset({'2452', '7230', '14240', '14961', '11521', '5582', '16265'}), confidence=0.3240767890715283, lift=7.7904793447156315), OrderedStatistic(items_base=frozenset({'7230'}), items_add=frozenset({'2452', '14240', '14961', '11521', '5582', '16265', '7057'}), confidence=0.3262772201576772, lift=7.741023473753732), OrderedStatistic(items_base=frozenset({'14240', '11521'}), items_add=frozenset({'2452', '7230', '14961', '5582', '16265', '7057'}), confidence=0.25455210534872375, lift=5.916399903411737), OrderedStatistic(items_base=frozenset({'14961', '11521'}), items_add=frozenset({'2452', '7230', '14240', '5582', '16265', '7057'}), confidence=0.39139672950734294, lift=8.713040725404605), OrderedStatistic(items_base=frozenset({'16265', '11521'}), items_add=frozenset({'2452', '7230', '14240', '14961', '5582', '7057'}), confidence=0.5336268105651804, lift=10.683505091634782), OrderedStatistic(items_base=frozenset({'2452', '11521'}), items_add=frozenset({'7230', '14240', '14961', '5582', '16265', '7057'}), confidence=0.24126197385654485, lift=5.400652371757805), OrderedStatistic(items_base=frozenset({'5582', '11521'}), items_add=frozenset({'2452', '7230', '14240', '14961', '16265', '7057'}), confidence=0.47883483269196464, lift=10.570207113290062), OrderedStatistic(items_base=frozenset({'7057', '11521'}), items_add=frozenset({'2452', '7230', '14240', '14961', '5582', '16265'}), confidence=0.38011329152336637, lift=8.820150338483336), OrderedStatistic(items_base=frozenset({'7230', '11521'}), items_add=frozenset({'2452', '14240', '14961', '5582', '16265', '7057'}), confidence=0.3878739084659689, lift=8.92651029770954), OrderedStatistic(items_base=frozenset({'14240', '14961'}), items_add=frozenset({'2452', '7230', '11521', '5582', '16265', '7057'}), confidence=0.37482045962336413, lift=8.351247703226912), OrderedStatistic(items_base=frozenset({'14240', '16265'}), items_add=frozenset({'2452', '7230', '11521', '14961', '5582', '7057'}), confidence=0.5335055937304787, lift=10.734852191439156), OrderedStatistic(items_base=frozenset({'2452', '14240'}), items_add=frozenset({'7230', '11521', '14961', '5582', '16265', '7057'}), confidence=0.2609365886176152, lift=5.995657306266754), OrderedStatistic(items_base=frozenset({'5582', '14240'}), items_add=frozenset({'2452', '7230', '11521', '14961', '16265', '7057'}), confidence=0.4789568941344413, lift=10.635696878581912), OrderedStatistic(items_base=frozenset({'14240', '7057'}), items_add=frozenset({'2452', '7230', '11521', '14961', '5582', '16265'}), confidence=0.3713901682117372, lift=8.70751614370652), OrderedStatistic(items_base=frozenset({'7230', '14240'}), items_add=frozenset({'2452', '11521', '14961', '5582', '16265', '7057'}), confidence=0.3764802532710842, lift=8.71273743825323), OrderedStatistic(items_base=frozenset({'16265', '14961'}), items_add=frozenset({'2452', '7230', '14240', '11521', '5582', '7057'}), confidence=0.662985179957657, lift=12.625612536095671), OrderedStatistic(items_base=frozenset({'2452', '14961'}), items_add=frozenset({'7230', '14240', '11521', '5582', '16265', '7057'}), confidence=0.3953498158863756, lift=8.676884124312531), OrderedStatistic(items_base=frozenset({'5582', '14961'}), items_add=frozenset({'2452', '7230', '14240', '11521', '16265', '7057'}), confidence=0.5900697192387412, lift=12.452920746294076), OrderedStatistic(items_base=frozenset({'7057', '14961'}), items_add=frozenset({'2452', '7230', '14240', '11521', '5582', '16265'}), confidence=0.38305810397553514, lift=8.465220741347142), OrderedStatistic(items_base=frozenset({'7230', '14961'}), items_add=frozenset({'2452', '14240', '11521', '5582', '16265', '7057'}), confidence=0.38893373905483447, lift=8.481463046361531), OrderedStatistic(items_base=frozenset({'2452', '16265'}), items_add=frozenset({'7230', '14240', '11521', '14961', '5582', '7057'}), confidence=0.5390772938543639, lift=10.637363637692477), OrderedStatistic(items_base=frozenset({'5582', '16265'}), items_add=frozenset({'2452', '7230', '14240', '11521', '14961', '7057'}), confidence=0.40528472821397754, lift=5.180921624497516), OrderedStatistic(items_base=frozenset({'7057', '16265'}), items_add=frozenset({'2452', '7230', '14240', '11521', '14961', '5582'}), confidence=0.6579472633680008, lift=13.214698195798599), OrderedStatistic(items_base=frozenset({'7230', '16265'}), items_add=frozenset({'2452', '14240', '11521', '14961', '5582', '7057'}), confidence=0.6621207315783909, lift=13.074226546762949), OrderedStatistic(items_base=frozenset({'2452', '5582'}), items_add=frozenset({'7230', '14240', '11521', '14961', '16265', '7057'}), confidence=0.4836417925815336, lift=10.527446044860335), OrderedStatistic(items_base=frozenset({'2452', '7057'}), items_add=frozenset({'7230', '14240', '11521', '14961', '5582', '16265'}), confidence=0.38709079297060095, lift=8.906277174881298), OrderedStatistic(items_base=frozenset({'2452', '7230'}), items_add=frozenset({'14240', '11521', '14961', '5582', '16265', '7057'}), confidence=0.3875299067733685, lift=8.767998890178227), OrderedStatistic(items_base=frozenset({'5582', '7057'}), items_add=frozenset({'2452', '7230', '14240', '11521', '14961', '16265'}), confidence=0.5832376222256712, lift=12.906839783569298), OrderedStatistic(items_base=frozenset({'7230', '5582'}), items_add=frozenset({'2452', '14240', '11521', '14961', '16265', '7057'}), confidence=0.5892000376305309, lift=12.855918893360137), OrderedStatistic(items_base=frozenset({'7230', '7057'}), items_add=frozenset({'2452', '14240', '11521', '14961', '5582', '16265'}), confidence=0.3654949715019355, lift=8.181609613627606), OrderedStatistic(items_base=frozenset({'14961', '14240', '11521'}), items_add=frozenset({'2452', '7230', '5582', '16265', '7057'}), confidence=0.41837007348029387, lift=8.965658684785058), OrderedStatistic(items_base=frozenset({'14240', '16265', '11521'}), items_add=frozenset({'2452', '7230', '14961', '5582', '7057'}), confidence=0.5992536837405116, lift=11.569234439953403), OrderedStatistic(items_base=frozenset({'2452', '14240', '11521'}), items_add=frozenset({'7230', '14961', '5582', '16265', '7057'}), confidence=0.2843242588865517, lift=6.000149101367725), OrderedStatistic(items_base=frozenset({'5582', '14240', '11521'}), items_add=frozenset({'2452', '7230', '14961', '16265', '7057'}), confidence=0.5396966737519389, lift=11.530507516045109), OrderedStatistic(items_base=frozenset({'14240', '7057', '11521'}), items_add=frozenset({'2452', '7230', '14961', '5582', '16265'}), confidence=0.4070142755020254, lift=9.127325643375594), OrderedStatistic(items_base=frozenset({'7230', '14240', '11521'}), items_add=frozenset({'2452', '14961', '5582', '16265', '7057'}), confidence=0.41490559788009274, lift=9.234164162391489), OrderedStatistic(items_base=frozenset({'14961', '16265', '11521'}), items_add=frozenset({'2452', '7230', '14240', '5582', '7057'}), confidence=0.7532170775706554, lift=13.86828787271632), OrderedStatistic(items_base=frozenset({'14961', '2452', '11521'}), items_add=frozenset({'7230', '14240', '5582', '16265', '7057'}), confidence=0.42792720978431686, lift=8.861617888662044), OrderedStatistic(items_base=frozenset({'14961', '5582', '11521'}), items_add=frozenset({'2452', '7230', '14240', '16265', '7057'}), confidence=0.6777405042744291, lift=13.852893996547648), OrderedStatistic(items_base=frozenset({'14961', '7057', '11521'}), items_add=frozenset({'2452', '7230', '14240', '5582', '16265'}), confidence=0.4390671371485991, lift=9.338833319093679), OrderedStatistic(items_base=frozenset({'14961', '7230', '11521'}), items_add=frozenset({'2452', '14240', '5582', '16265', '7057'}), confidence=0.44863896848137536, lift=9.465990261296195), OrderedStatistic(items_base=frozenset({'2452', '16265', '11521'}), items_add=frozenset({'7230', '14240', '14961', '5582', '7057'}), confidence=0.591891381048387, lift=10.994883985741206), OrderedStatistic(items_base=frozenset({'5582', '16265', '11521'}), items_add=frozenset({'2452', '7230', '14240', '14961', '7057'}), confidence=0.6079008670894267, lift=7.463390932591802), OrderedStatistic(items_base=frozenset({'7057', '16265', '11521'}), items_add=frozenset({'2452', '7230', '14240', '14961', '5582'}), confidence=0.7332292682926829, lift=14.156366153699265), OrderedStatistic(items_base=frozenset({'7230', '16265', '11521'}), items_add=frozenset({'2452', '14240', '14961', '5582', '7057'}), confidence=0.7466618979494516, lift=14.254247579976651), OrderedStatistic(items_base=frozenset({'2452', '5582', '11521'}), items_add=frozenset({'7230', '14240', '14961', '16265', '7057'}), confidence=0.5324925605781493, lift=10.943881149259653), OrderedStatistic(items_base=frozenset({'2452', '7057', '11521'}), items_add=frozenset({'7230', '14240', '14961', '5582', '16265'}), confidence=0.41398228528621156, lift=8.944811072156046), OrderedStatistic(items_base=frozenset({'2452', '7230', '11521'}), items_add=frozenset({'14240', '14961', '5582', '16265', '7057'}), confidence=0.42028855832680906, lift=8.966981143913571), OrderedStatistic(items_base=frozenset({'5582', '7057', '11521'}), items_add=frozenset({'2452', '7230', '14240', '14961', '16265'}), confidence=0.65565132428377, lift=13.975010085014222), OrderedStatistic(items_base=frozenset({'7230', '5582', '11521'}), items_add=frozenset({'2452', '14240', '14961', '16265', '7057'}), confidence=0.6697440650174663, lift=14.150483728165595), OrderedStatistic(items_base=frozenset({'7230', '7057', '11521'}), items_add=frozenset({'2452', '14240', '14961', '5582', '16265'}), confidence=0.4180070746846426, lift=9.003659539908718), OrderedStatistic(items_base=frozenset({'14240', '16265', '14961'}), items_add=frozenset({'2452', '7230', '11521', '5582', '7057'}), confidence=0.7259204883514275, lift=13.361986466333244), OrderedStatistic(items_base=frozenset({'2452', '14240', '14961'}), items_add=frozenset({'7230', '11521', '5582', '16265', '7057'}), confidence=0.4241404997855482, lift=8.985072970005788), OrderedStatistic(items_base=frozenset({'5582', '14240', '14961'}), items_add=frozenset({'2452', '7230', '11521', '16265', '7057'}), confidence=0.6519657170616607, lift=13.331939744233367), OrderedStatistic(items_base=frozenset({'14240', '7057', '14961'}), items_add=frozenset({'2452', '7230', '11521', '5582', '16265'}), confidence=0.42447587204048437, lift=9.06674986832164), OrderedStatistic(items_base=frozenset({'7230', '14240', '14961'}), items_add=frozenset({'2452', '11521', '5582', '16265', '7057'}), confidence=0.4312964833348636, lift=9.099660981968514), OrderedStatistic(items_base=frozenset({'2452', '14240', '16265'}), items_add=frozenset({'7230', '11521', '14961', '5582', '7057'}), confidence=0.6083535696940262, lift=11.612419654449344), OrderedStatistic(items_base=frozenset({'5582', '14240', '16265'}), items_add=frozenset({'2452', '7230', '11521', '14961', '7057'}), confidence=0.6062923523717328, lift=7.50205068957973), OrderedStatistic(items_base=frozenset({'7057', '14240', '16265'}), items_add=frozenset({'2452', '7230', '11521', '14961', '5582'}), confidence=0.7183437834531273, lift=14.020783543527347), OrderedStatistic(items_base=frozenset({'7230', '14240', '16265'}), items_add=frozenset({'2452', '11521', '14961', '5582', '7057'}), confidence=0.726959684283835, lift=13.949345680598254), OrderedStatistic(items_base=frozenset({'2452', '14240', '5582'}), items_add=frozenset({'7230', '11521', '14961', '16265', '7057'}), confidence=0.5478002274118778, lift=11.56507059343284), OrderedStatistic(items_base=frozenset({'2452', '14240', '7057'}), items_add=frozenset({'7230', '11521', '14961', '5582', '16265'}), confidence=0.4151898174746983, lift=9.259603733805546), OrderedStatistic(items_base=frozenset({'2452', '7230', '14240'}), items_add=frozenset({'11521', '14961', '5582', '16265', '7057'}), confidence=0.419032538638239, lift=9.191001061328752), OrderedStatistic(items_base=frozenset({'5582', '14240', '7057'}), items_add=frozenset({'2452', '7230', '11521', '14961', '16265'}), confidence=0.6418323426931748, lift=13.83373981357689), OrderedStatistic(items_base=frozenset({'5582', '7230', '14240'}), items_add=frozenset({'2452', '11521', '14961', '16265', '7057'}), confidence=0.6518300086730269, lift=13.852799509555537), OrderedStatistic(items_base=frozenset({'7230', '14240', '7057'}), items_add=frozenset({'2452', '11521', '14961', '5582', '16265'}), confidence=0.406846823437703, lift=8.840490105684951), OrderedStatistic(items_base=frozenset({'2452', '16265', '14961'}), items_add=frozenset({'7230', '14240', '11521', '5582', '7057'}), confidence=0.761027178095508, lift=13.804310661603624), OrderedStatistic(items_base=frozenset({'5582', '16265', '14961'}), items_add=frozenset({'2452', '7230', '14240', '11521', '7057'}), confidence=0.7357847744360902, lift=8.501896517831728), OrderedStatistic(items_base=frozenset({'7057', '16265', '14961'}), items_add=frozenset({'2452', '7230', '14240', '11521', '5582'}), confidence=0.7386484255218775, lift=13.482253088454755), OrderedStatistic(items_base=frozenset({'7230', '16265', '14961'}), items_add=frozenset({'2452', '14240', '11521', '5582', '7057'}), confidence=0.7474638978398377, lift=13.4222721535717), OrderedStatistic(items_base=frozenset({'2452', '5582', '14961'}), items_add=frozenset({'7230', '14240', '11521', '16265', '7057'}), confidence=0.684406075838706, lift=13.784334995266413), OrderedStatistic(items_base=frozenset({'2452', '7057', '14961'}), items_add=frozenset({'7230', '14240', '11521', '5582', '16265'}), confidence=0.4457757004911148, lift=9.401298601596174), OrderedStatistic(items_base=frozenset({'2452', '7230', '14961'}), items_add=frozenset({'14240', '11521', '5582', '16265', '7057'}), confidence=0.4513982317893523, lift=9.36271665306247), OrderedStatistic(items_base=frozenset({'5582', '7057', '14961'}), items_add=frozenset({'2452', '7230', '14240', '11521', '16265'}), confidence=0.6598419666374011, lift=13.35865909190242), OrderedStatistic(items_base=frozenset({'7230', '5582', '14961'}), items_add=frozenset({'2452', '14240', '11521', '16265', '7057'}), confidence=0.6701979668271802, lift=13.389403627878567), OrderedStatistic(items_base=frozenset({'7230', '7057', '14961'}), items_add=frozenset({'2452', '14240', '11521', '5582', '16265'}), confidence=0.41496974247979146, lift=7.350575483494861), OrderedStatistic(items_base=frozenset({'2452', '5582', '16265'}), items_add=frozenset({'7230', '14240', '11521', '14961', '7057'}), confidence=0.6142002549769541, lift=7.4254997760351396), OrderedStatistic(items_base=frozenset({'7057', '2452', '16265'}), items_add=frozenset({'7230', '14240', '11521', '14961', '5582'}), confidence=0.7464839094159713, lift=14.292635836614973), OrderedStatistic(items_base=frozenset({'2452', '7230', '16265'}), items_add=frozenset({'14240', '11521', '14961', '5582', '7057'}), confidence=0.7474044313616293, lift=14.01223878240742), OrderedStatistic(items_base=frozenset({'7057', '5582', '16265'}), items_add=frozenset({'2452', '7230', '14240', '11521', '14961'}), confidence=0.7267628515065949, lift=8.960902267601433), OrderedStatistic(items_base=frozenset({'7230', '5582', '16265'}), items_add=frozenset({'2452', '14240', '11521', '14961', '7057'}), confidence=0.7321150249376559, lift=8.859833970281812), OrderedStatistic(items_base=frozenset({'7057', '7230', '16265'}), items_add=frozenset({'2452', '14240', '11521', '14961', '5582'}), confidence=0.714383483517737, lift=13.226293402602098), OrderedStatistic(items_base=frozenset({'2452', '5582', '7057'}), items_add=frozenset({'7230', '14240', '11521', '14961', '16265'}), confidence=0.6673889105956736, lift=14.107152563476216), OrderedStatistic(items_base=frozenset({'2452', '7230', '5582'}), items_add=frozenset({'14240', '11521', '14961', '16265', '7057'}), confidence=0.6700784593437946, lift=13.915301008158238), OrderedStatistic(items_base=frozenset({'2452', '7230', '7057'}), items_add=frozenset({'14240', '11521', '14961', '5582', '16265'}), confidence=0.42355725879170425, lift=9.008116064588961), OrderedStatistic(items_base=frozenset({'7230', '5582', '7057'}), items_add=frozenset({'2452', '14240', '11521', '14961', '16265'}), confidence=0.6370880238708803, lift=13.037484055392719), OrderedStatistic(items_base=frozenset({'14961', '14240', '16265', '11521'}), items_add=frozenset({'2452', '7230', '5582', '7057'}), confidence=0.7857889674208522, lift=13.837144405947502), OrderedStatistic(items_base=frozenset({'14961', '2452', '14240', '11521'}), items_add=frozenset({'7057', '7230', '5582', '16265'}), confidence=0.4486068333213953, lift=8.675647838699035), OrderedStatistic(items_base=frozenset({'14961', '5582', '14240', '11521'}), items_add=frozenset({'7057', '2452', '7230', '16265'}), confidence=0.7092329759927525, lift=13.92031477913111), OrderedStatistic(items_base=frozenset({'14961', '14240', '7057', '11521'}), items_add=frozenset({'2452', '7230', '5582', '16265'}), confidence=0.4609440164859428, lift=9.342529559637443), OrderedStatistic(items_base=frozenset({'14961', '7230', '14240', '11521'}), items_add=frozenset({'7057', '2452', '5582', '16265'}), confidence=0.471114788626448, lift=9.522031294962042), OrderedStatistic(items_base=frozenset({'2452', '14240', '16265', '11521'}), items_add=frozenset({'7230', '5582', '7057', '14961'}), confidence=0.642117494275657, lift=11.14173225892073), OrderedStatistic(items_base=frozenset({'5582', '14240', '16265', '11521'}), items_add=frozenset({'2452', '7230', '7057', '14961'}), confidence=0.6733925883449214, lift=7.899086057184908), OrderedStatistic(items_base=frozenset({'7057', '14240', '16265', '11521'}), items_add=frozenset({'2452', '7230', '5582', '14961'}), confidence=0.7682148990105486, lift=14.25368065872952), OrderedStatistic(items_base=frozenset({'7230', '14240', '16265', '11521'}), items_add=frozenset({'2452', '5582', '7057', '14961'}), confidence=0.7812149182986154, lift=14.338799460070902), OrderedStatistic(items_base=frozenset({'2452', '14240', '5582', '11521'}), items_add=frozenset({'7057', '7230', '16265', '14961'}), confidence=0.5790138674884437, lift=11.183140026225727), OrderedStatistic(items_base=frozenset({'2452', '14240', '7057', '11521'}), items_add=frozenset({'7230', '5582', '16265', '14961'}), confidence=0.4351622391551057, lift=8.80304462292231), OrderedStatistic(items_base=frozenset({'2452', '7230', '14240', '11521'}), items_add=frozenset({'7057', '5582', '16265', '14961'}), confidence=0.44213573042168675, lift=8.842256871502922), OrderedStatistic(items_base=frozenset({'5582', '14240', '7057', '11521'}), items_add=frozenset({'2452', '7230', '16265', '14961'}), confidence=0.688872593950504, lift=14.1572036223661), OrderedStatistic(items_base=frozenset({'5582', '7230', '14240', '11521'}), items_add=frozenset({'7057', '2452', '16265', '14961'}), confidence=0.703023273217092, lift=14.331127724390596), OrderedStatistic(items_base=frozenset({'7230', '14240', '7057', '11521'}), items_add=frozenset({'2452', '5582', '16265', '14961'}), confidence=0.44138789701183984, lift=9.12447011464044), OrderedStatistic(items_base=frozenset({'14961', '2452', '16265', '11521'}), items_add=frozenset({'5582', '7230', '14240', '7057'}), confidence=0.8032233242134063, lift=13.66658781116128), OrderedStatistic(items_base=frozenset({'14961', '5582', '16265', '11521'}), items_add=frozenset({'2452', '7230', '14240', '7057'}), confidence=0.8293899532091462, lift=9.182530210077887), OrderedStatistic(items_base=frozenset({'14961', '7057', '16265', '11521'}), items_add=frozenset({'2452', '7230', '14240', '5582'}), confidence=0.8138346255468445, lift=14.237453445436996), OrderedStatistic(items_base=frozenset({'14961', '7230', '16265', '11521'}), items_add=frozenset({'2452', '14240', '5582', '7057'}), confidence=0.8284391534391534, lift=14.345708234446889), OrderedStatistic(items_base=frozenset({'14961', '2452', '5582', '11521'}), items_add=frozenset({'7057', '7230', '14240', '16265'}), confidence=0.7249961413798426, lift=13.739364416365152), OrderedStatistic(items_base=frozenset({'14961', '2452', '7057', '11521'}), items_add=frozenset({'5582', '7230', '14240', '16265'}), confidence=0.47286958272512203, lift=9.315850272582765), OrderedStatistic(items_base=frozenset({'14961', '2452', '7230', '11521'}), items_add=frozenset({'7057', '5582', '14240', '16265'}), confidence=0.48201641867624423, lift=9.377697186781605), OrderedStatistic(items_base=frozenset({'14961', '5582', '7057', '11521'}), items_add=frozenset({'2452', '7230', '14240', '16265'}), confidence=0.7328574771823075, lift=14.245888978673069), OrderedStatistic(items_base=frozenset({'14961', '7230', '5582', '11521'}), items_add=frozenset({'7057', '2452', '14240', '16265'}), confidence=0.7482378240611683, lift=14.438317948886317), OrderedStatistic(items_base=frozenset({'14961', '7230', '7057', '11521'}), items_add=frozenset({'2452', '14240', '5582', '16265'}), confidence=0.4694785237750181, lift=7.916842660985661), OrderedStatistic(items_base=frozenset({'2452', '5582', '16265', '11521'}), items_add=frozenset({'7230', '14240', '7057', '14961'}), confidence=0.6672941009340484, lift=7.475190206800361), OrderedStatistic(items_base=frozenset({'7057', '2452', '16265', '11521'}), items_add=frozenset({'5582', '7230', '14240', '14961'}), confidence=0.781344866303489, lift=13.94909243852895), OrderedStatistic(items_base=frozenset({'2452', '7230', '16265', '11521'}), items_add=frozenset({'5582', '14240', '7057', '14961'}), confidence=0.7910158716793668, lift=13.894355321834558), OrderedStatistic(items_base=frozenset({'7057', '5582', '16265', '11521'}), items_add=frozenset({'2452', '7230', '14240', '14961'}), confidence=0.8055305466237942, lift=9.45484315814418), OrderedStatistic(items_base=frozenset({'7230', '5582', '16265', '11521'}), items_add=frozenset({'2452', '14240', '7057', '14961'}), confidence=0.8198359368182214, lift=9.502464003698007), OrderedStatistic(items_base=frozenset({'7057', '7230', '16265', '11521'}), items_add=frozenset({'2452', '14240', '5582', '14961'}), confidence=0.7856575371106, lift=13.92687178730091), OrderedStatistic(items_base=frozenset({'2452', '5582', '7057', '11521'}), items_add=frozenset({'7230', '14240', '16265', '14961'}), confidence=0.700846730575553, lift=13.863117921431675), OrderedStatistic(items_base=frozenset({'2452', '7230', '5582', '11521'}), items_add=frozenset({'7057', '14240', '16265', '14961'}), confidence=0.7115967277685199, lift=13.894357671038163), OrderedStatistic(items_base=frozenset({'2452', '7230', '7057', '11521'}), items_add=frozenset({'5582', '14240', '16265', '14961'}), confidence=0.44888549107676134, lift=8.864441616520159), OrderedStatistic(items_base=frozenset({'7230', '5582', '7057', '11521'}), items_add=frozenset({'2452', '14240', '16265', '14961'}), confidence=0.7054516783059247, lift=13.8554833844304), OrderedStatistic(items_base=frozenset({'2452', '14240', '16265', '14961'}), items_add=frozenset({'7230', '5582', '7057', '11521'}), confidence=0.7959754289345478, lift=13.8554833844304), OrderedStatistic(items_base=frozenset({'5582', '14240', '16265', '14961'}), items_add=frozenset({'2452', '7230', '7057', '11521'}), confidence=0.800315202112706, lift=8.864441616520159), OrderedStatistic(items_base=frozenset({'7057', '14240', '16265', '14961'}), items_add=frozenset({'2452', '7230', '5582', '11521'}), confidence=0.7913157008086253, lift=13.894357671038163), OrderedStatistic(items_base=frozenset({'7230', '14240', '16265', '14961'}), items_add=frozenset({'2452', '5582', '7057', '11521'}), confidence=0.8016468981995051, lift=13.863117921431675), OrderedStatistic(items_base=frozenset({'2452', '14240', '5582', '14961'}), items_add=frozenset({'7057', '7230', '16265', '11521'}), confidence=0.7183987153016748, lift=13.92687178730091), OrderedStatistic(items_base=frozenset({'2452', '14240', '7057', '14961'}), items_add=frozenset({'7230', '5582', '16265', '11521'}), confidence=0.46973674341858546, lift=9.502464003698007), OrderedStatistic(items_base=frozenset({'2452', '7230', '14240', '14961'}), items_add=frozenset({'7057', '5582', '16265', '11521'}), confidence=0.4756829286817388, lift=9.45484315814418), OrderedStatistic(items_base=frozenset({'5582', '14240', '7057', '14961'}), items_add=frozenset({'2452', '7230', '16265', '11521'}), confidence=0.7118663332575585, lift=13.894355321834558), OrderedStatistic(items_base=frozenset({'5582', '7230', '14240', '14961'}), items_add=frozenset({'7057', '2452', '16265', '11521'}), confidence=0.7235165004428357, lift=13.949092438528952), OrderedStatistic(items_base=frozenset({'7230', '14240', '7057', '14961'}), items_add=frozenset({'2452', '5582', '16265', '11521'}), confidence=0.45399410428647363, lift=7.475190206800361), OrderedStatistic(items_base=frozenset({'2452', '14240', '5582', '16265'}), items_add=frozenset({'7057', '7230', '11521', '14961'}), confidence=0.6834103226275778, lift=7.916842660985661), OrderedStatistic(items_base=frozenset({'7057', '2452', '14240', '16265'}), items_add=frozenset({'7230', '5582', '11521', '14961'}), confidence=0.7820278032131857, lift=14.438317948886315), OrderedStatistic(items_base=frozenset({'2452', '7230', '14240', '16265'}), items_add=frozenset({'7057', '5582', '11521', '14961'}), confidence=0.7877987421383648, lift=14.245888978673069), OrderedStatistic(items_base=frozenset({'7057', '5582', '14240', '16265'}), items_add=frozenset({'2452', '7230', '11521', '14961'}), confidence=0.78845992446496, lift=9.377697186781605), OrderedStatistic(items_base=frozenset({'5582', '7230', '14240', '16265'}), items_add=frozenset({'7057', '2452', '11521', '14961'}), confidence=0.7984107423617899, lift=9.315850272582765), OrderedStatistic(items_base=frozenset({'7057', '7230', '14240', '16265'}), items_add=frozenset({'2452', '5582', '11521', '14961'}), confidence=0.7680264879005886, lift=13.739364416365152), OrderedStatistic(items_base=frozenset({'2452', '14240', '5582', '7057'}), items_add=frozenset({'7230', '16265', '11521', '14961'}), confidence=0.7017891159003473, lift=14.345708234446887), OrderedStatistic(items_base=frozenset({'2452', '7230', '14240', '5582'}), items_add=frozenset({'7057', '16265', '11521', '14961'}), confidence=0.7089921135051507, lift=14.237453445436996), OrderedStatistic(items_base=frozenset({'2452', '7230', '14240', '7057'}), items_add=frozenset({'5582', '16265', '11521', '14961'}), confidence=0.4486925373134328, lift=9.182530210077886), OrderedStatistic(items_base=frozenset({'5582', '7230', '14240', '7057'}), items_add=frozenset({'2452', '16265', '11521', '14961'}), confidence=0.6895551967116852, lift=13.66658781116128), OrderedStatistic(items_base=frozenset({'2452', '5582', '16265', '14961'}), items_add=frozenset({'7230', '14240', '7057', '11521'}), confidence=0.8377848129486779, lift=9.12447011464044), OrderedStatistic(items_base=frozenset({'7057', '2452', '16265', '14961'}), items_add=frozenset({'5582', '7230', '14240', '11521'}), confidence=0.8261443081387678, lift=14.331127724390594), OrderedStatistic(items_base=frozenset({'2452', '7230', '16265', '14961'}), items_add=frozenset({'5582', '14240', '7057', '11521'}), confidence=0.8328826632386186, lift=14.1572036223661), OrderedStatistic(items_base=frozenset({'7057', '5582', '16265', '14961'}), items_add=frozenset({'2452', '7230', '14240', '11521'}), confidence=0.8104995254939177, lift=8.842256871502922), OrderedStatistic(items_base=frozenset({'7230', '5582', '16265', '14961'}), items_add=frozenset({'2452', '14240', '7057', '11521'}), confidence=0.8198359368182214, lift=8.80304462292231), OrderedStatistic(items_base=frozenset({'7057', '7230', '16265', '14961'}), items_add=frozenset({'2452', '14240', '5582', '11521'}), confidence=0.7827445425762373, lift=11.183140026225725), OrderedStatistic(items_base=frozenset({'2452', '5582', '7057', '14961'}), items_add=frozenset({'7230', '14240', '16265', '11521'}), confidence=0.7438536759174947, lift=14.338799460070902), OrderedStatistic(items_base=frozenset({'2452', '7230', '5582', '14961'}), items_add=frozenset({'7057', '14240', '16265', '11521'}), confidence=0.7519510145275543, lift=14.25368065872952), OrderedStatistic(items_base=frozenset({'2452', '7230', '7057', '14961'}), items_add=frozenset({'5582', '14240', '16265', '11521'}), confidence=0.4753940743364623, lift=7.899086057184908), OrderedStatistic(items_base=frozenset({'7230', '5582', '7057', '14961'}), items_add=frozenset({'2452', '14240', '16265', '11521'}), confidence=0.7032074553688386, lift=11.14173225892073), OrderedStatistic(items_base=frozenset({'7057', '2452', '5582', '16265'}), items_add=frozenset({'7230', '14240', '11521', '14961'}), confidence=0.8191211090766414, lift=9.522031294962042), OrderedStatistic(items_base=frozenset({'2452', '7230', '5582', '16265'}), items_add=frozenset({'7057', '14240', '11521', '14961'}), confidence=0.8214129579435167, lift=9.342529559637443), OrderedStatistic(items_base=frozenset({'7057', '2452', '7230', '16265'}), items_add=frozenset({'5582', '14240', '11521', '14961'}), confidence=0.7954362643410524, lift=13.92031477913111), OrderedStatistic(items_base=frozenset({'7057', '7230', '5582', '16265'}), items_add=frozenset({'2452', '14240', '11521', '14961'}), confidence=0.7837567263171067, lift=8.675647838699037), OrderedStatistic(items_base=frozenset({'2452', '7230', '5582', '7057'}), items_add=frozenset({'14240', '16265', '11521', '14961'}), confidence=0.7136508659981768, lift=13.837144405947504), OrderedStatistic(items_base=frozenset({'2452', '14240', '14961', '11521', '16265'}), items_add=frozenset({'7230', '5582', '7057'}), confidence=0.8293533436327521, lift=13.037484055392717), OrderedStatistic(items_base=frozenset({'14240', '14961', '11521', '5582', '16265'}), items_add=frozenset({'2452', '7230', '7057'}), confidence=0.8619202715720904, lift=9.00811606458896), OrderedStatistic(items_base=frozenset({'14240', '14961', '11521', '16265', '7057'}), items_add=frozenset({'2452', '7230', '5582'}), confidence=0.8416125419932811, lift=13.915301008158238), OrderedStatistic(items_base=frozenset({'7230', '14240', '14961', '11521', '16265'}), items_add=frozenset({'2452', '5582', '7057'}), confidence=0.8566543564491862, lift=14.107152563476216), OrderedStatistic(items_base=frozenset({'2452', '14240', '14961', '11521', '5582'}), items_add=frozenset({'7057', '7230', '16265'}), confidence=0.7503294596861148, lift=13.226293402602098), OrderedStatistic(items_base=frozenset({'2452', '14240', '14961', '11521', '7057'}), items_add=frozenset({'7230', '5582', '16265'}), confidence=0.4904463586530931, lift=8.859833970281812), OrderedStatistic(items_base=frozenset({'2452', '7230', '14240', '14961', '11521'}), items_add=frozenset({'7057', '5582', '16265'}), confidence=0.49969415707029063, lift=8.960902267601433), OrderedStatistic(items_base=frozenset({'14240', '14961', '11521', '5582', '7057'}), items_add=frozenset({'2452', '7230', '16265'}), confidence=0.7597961907072667, lift=14.01223878240742), OrderedStatistic(items_base=frozenset({'7230', '14240', '14961', '11521', '5582'}), items_add=frozenset({'7057', '2452', '16265'}), confidence=0.7759560584785661, lift=14.292635836614973), OrderedStatistic(items_base=frozenset({'7230', '14240', '14961', '11521', '7057'}), items_add=frozenset({'2452', '5582', '16265'}), confidence=0.489960362991551, lift=7.425499776035139), OrderedStatistic(items_base=frozenset({'2452', '14240', '11521', '5582', '16265'}), items_add=frozenset({'7230', '7057', '14961'}), confidence=0.7178772016964047, lift=7.350575483494861), OrderedStatistic(items_base=frozenset({'2452', '14240', '11521', '16265', '7057'}), items_add=frozenset({'7230', '5582', '14961'}), confidence=0.8096612944928036, lift=13.389403627878567), OrderedStatistic(items_base=frozenset({'2452', '7230', '14240', '11521', '16265'}), items_add=frozenset({'5582', '7057', '14961'}), confidence=0.8204803493449782, lift=13.35865909190242), OrderedStatistic(items_base=frozenset({'14240', '11521', '5582', '16265', '7057'}), items_add=frozenset({'2452', '7230', '14961'}), confidence=0.8405959198282033, lift=9.36271665306247), OrderedStatistic(items_base=frozenset({'7230', '14240', '11521', '5582', '16265'}), items_add=frozenset({'2452', '7057', '14961'}), confidence=0.8547059091115862, lift=9.401298601596173), OrderedStatistic(items_base=frozenset({'7230', '14240', '11521', '16265', '7057'}), items_add=frozenset({'2452', '5582', '14961'}), confidence=0.8162387592858074, lift=13.784334995266413), OrderedStatistic(items_base=frozenset({'2452', '14240', '11521', '5582', '7057'}), items_add=frozenset({'7230', '16265', '14961'}), confidence=0.727748082732977, lift=13.4222721535717), OrderedStatistic(items_base=frozenset({'2452', '7230', '14240', '11521', '5582'}), items_add=frozenset({'7057', '16265', '14961'}), confidence=0.7397244094488189, lift=13.482253088454755), OrderedStatistic(items_base=frozenset({'2452', '7230', '14240', '11521', '7057'}), items_add=frozenset({'5582', '16265', '14961'}), confidence=0.46828502355257584, lift=8.501896517831728), OrderedStatistic(items_base=frozenset({'7230', '14240', '11521', '5582', '7057'}), items_add=frozenset({'2452', '16265', '14961'}), confidence=0.7351226573809616, lift=13.804310661603624), OrderedStatistic(items_base=frozenset({'2452', '14961', '11521', '5582', '16265'}), items_add=frozenset({'7230', '14240', '7057'}), confidence=0.8806242969628796, lift=8.840490105684951), OrderedStatistic(items_base=frozenset({'2452', '14961', '11521', '16265', '7057'}), items_add=frozenset({'5582', '7230', '14240'}), confidence=0.8612881045152417, lift=13.852799509555537), OrderedStatistic(items_base=frozenset({'2452', '7230', '14961', '11521', '16265'}), items_add=frozenset({'5582', '14240', '7057'}), confidence=0.8735006973500696, lift=13.83373981357689), OrderedStatistic(items_base=frozenset({'14961', '11521', '5582', '16265', '7057'}), items_add=frozenset({'2452', '7230', '14240'}), confidence=0.8889151724464209, lift=9.191001061328752), OrderedStatistic(items_base=frozenset({'7230', '14961', '11521', '5582', '16265'}), items_add=frozenset({'2452', '14240', '7057'}), confidence=0.9038387531268038, lift=9.259603733805548), OrderedStatistic(items_base=frozenset({'7230', '14961', '11521', '16265', '7057'}), items_add=frozenset({'2452', '14240', '5582'}), confidence=0.8556010928961748, lift=11.565070593432841), OrderedStatistic(items_base=frozenset({'2452', '14961', '11521', '5582', '7057'}), items_add=frozenset({'7230', '14240', '16265'}), confidence=0.7776582095111957, lift=13.949345680598254), OrderedStatistic(items_base=frozenset({'2452', '7230', '14961', '11521', '5582'}), items_add=frozenset({'7057', '14240', '16265'}), confidence=0.7910158716793668, lift=14.02078354352735), OrderedStatistic(items_base=frozenset({'2452', '7230', '14961', '11521', '7057'}), items_add=frozenset({'5582', '14240', '16265'}), confidence=0.5014679192911284, lift=7.502050689579729), OrderedStatistic(items_base=frozenset({'7230', '14961', '11521', '5582', '7057'}), items_add=frozenset({'2452', '14240', '16265'}), confidence=0.7735918972332015, lift=11.612419654449344), OrderedStatistic(items_base=frozenset({'2452', '11521', '5582', '16265', '7057'}), items_add=frozenset({'7230', '14240', '14961'}), confidence=0.8550559752434695, lift=9.099660981968514), OrderedStatistic(items_base=frozenset({'2452', '7230', '11521', '5582', '16265'}), items_add=frozenset({'14240', '7057', '14961'}), confidence=0.8656530753282653, lift=9.06674986832164), OrderedStatistic(items_base=frozenset({'2452', '7230', '11521', '16265', '7057'}), items_add=frozenset({'5582', '14240', '14961'}), confidence=0.8287314749470712, lift=13.331939744233367), OrderedStatistic(items_base=frozenset({'7230', '11521', '5582', '16265', '7057'}), items_add=frozenset({'2452', '14240', '14961'}), confidence=0.8585332419465386, lift=8.985072970005788), OrderedStatistic(items_base=frozenset({'2452', '7230', '11521', '5582', '7057'}), items_add=frozenset({'14240', '16265', '14961'}), confidence=0.7459800690832572, lift=13.361986466333246), OrderedStatistic(items_base=frozenset({'2452', '14240', '14961', '5582', '16265'}), items_add=frozenset({'7230', '7057', '11521'}), confidence=0.8729325404199962, lift=9.003659539908718), OrderedStatistic(items_base=frozenset({'2452', '14240', '14961', '16265', '7057'}), items_add=frozenset({'7230', '5582', '11521'}), confidence=0.8562639566148658, lift=14.150483728165597), OrderedStatistic(items_base=frozenset({'2452', '7230', '14240', '14961', '16265'}), items_add=frozenset({'5582', '7057', '11521'}), confidence=0.8638223529952646, lift=13.975010085014222), OrderedStatistic(items_base=frozenset({'14240', '14961', '5582', '16265', '7057'}), items_add=frozenset({'2452', '7230', '11521'}), confidence=0.8646571560055223, lift=8.966981143913571), OrderedStatistic(items_base=frozenset({'7230', '14240', '14961', '5582', '16265'}), items_add=frozenset({'2452', '7057', '11521'}), confidence=0.8756582933308478, lift=8.944811072156046), OrderedStatistic(items_base=frozenset({'7230', '14240', '14961', '16265', '7057'}), items_add=frozenset({'2452', '5582', '11521'}), confidence=0.8329195850695983, lift=10.943881149259653), OrderedStatistic(items_base=frozenset({'2452', '14240', '14961', '5582', '7057'}), items_add=frozenset({'7230', '16265', '11521'}), confidence=0.7736874613959234, lift=14.25424757997665), OrderedStatistic(items_base=frozenset({'2452', '7230', '14240', '14961', '5582'}), items_add=frozenset({'7057', '16265', '11521'}), confidence=0.7824511722816807, lift=14.156366153699267), OrderedStatistic(items_base=frozenset({'2452', '7230', '14240', '14961', '7057'}), items_add=frozenset({'5582', '16265', '11521'}), confidence=0.49756368836396375, lift=7.463390932591802), OrderedStatistic(items_base=frozenset({'7230', '14240', '14961', '5582', '7057'}), items_add=frozenset({'2452', '16265', '11521'}), confidence=0.7528247455725618, lift=10.994883985741206), OrderedStatistic(items_base=frozenset({'2452', '14240', '5582', '16265', '7057'}), items_add=frozenset({'7230', '11521', '14961'}), confidence=0.855094889182178, lift=9.465990261296195), OrderedStatistic(items_base=frozenset({'2452', '7230', '14240', '5582', '16265'}), items_add=frozenset({'7057', '11521', '14961'}), confidence=0.8619993577097766, lift=9.338833319093679), OrderedStatistic(items_base=frozenset({'2452', '7230', '14240', '16265', '7057'}), items_add=frozenset({'5582', '11521', '14961'}), confidence=0.8283661052817212, lift=13.852893996547648), OrderedStatistic(items_base=frozenset({'7230', '14240', '5582', '16265', '7057'}), items_add=frozenset({'2452', '11521', '14961'}), confidence=0.8392442379846345, lift=8.861617888662044), OrderedStatistic(items_base=frozenset({'2452', '7230', '14240', '5582', '7057'}), items_add=frozenset({'16265', '11521', '14961'}), confidence=0.7461874503574265, lift=13.868287872716323), OrderedStatistic(items_base=frozenset({'2452', '14961', '5582', '16265', '7057'}), items_add=frozenset({'7230', '14240', '11521'}), confidence=0.9019730209783495, lift=9.234164162391487), OrderedStatistic(items_base=frozenset({'2452', '7230', '14961', '5582', '16265'}), items_add=frozenset({'14240', '7057', '11521'}), confidence=0.9088226758247073, lift=9.127325643375594), OrderedStatistic(items_base=frozenset({'2452', '7230', '14961', '16265', '7057'}), items_add=frozenset({'5582', '14240', '11521'}), confidence=0.8658525345622119, lift=11.530507516045109), OrderedStatistic(items_base=frozenset({'7230', '14961', '5582', '16265', '7057'}), items_add=frozenset({'2452', '14240', '11521'}), confidence=0.8552505803632391, lift=6.000149101367726), OrderedStatistic(items_base=frozenset({'2452', '7230', '14961', '5582', '7057'}), items_add=frozenset({'14240', '16265', '11521'}), confidence=0.7824185891563255, lift=11.569234439953403), OrderedStatistic(items_base=frozenset({'2452', '7230', '5582', '16265', '7057'}), items_add=frozenset({'14240', '11521', '14961'}), confidence=0.8684940371637238, lift=8.965658684785058), OrderedStatistic(items_base=frozenset({'2452', '14240', '14961', '11521', '5582', '16265'}), items_add=frozenset({'7230', '7057'}), confidence=0.9071990729563999, lift=8.181609613627606), OrderedStatistic(items_base=frozenset({'2452', '14240', '14961', '11521', '16265', '7057'}), items_add=frozenset({'7230', '5582'}), confidence=0.8842714608433735, lift=12.855918893360139), OrderedStatistic(items_base=frozenset({'2452', '7230', '14240', '14961', '11521', '16265'}), items_add=frozenset({'5582', '7057'}), confidence=0.8968496420047732, lift=12.906839783569298), OrderedStatistic(items_base=frozenset({'14240', '14961', '11521', '5582', '16265', '7057'}), items_add=frozenset({'2452', '7230'}), confidence=0.9169391440144453, lift=8.767998890178227), OrderedStatistic(items_base=frozenset({'7230', '14240', '14961', '11521', '5582', '16265'}), items_add=frozenset({'2452', '7057'}), confidence=0.9324565756823822, lift=8.906277174881298), OrderedStatistic(items_base=frozenset({'7230', '14240', '14961', '11521', '16265', '7057'}), items_add=frozenset({'2452', '5582'}), confidence=0.8821540917413963, lift=10.527446044860335), OrderedStatistic(items_base=frozenset({'2452', '14240', '14961', '11521', '5582', '7057'}), items_add=frozenset({'7230', '16265'}), confidence=0.80024702926019, lift=13.07422654676295), OrderedStatistic(items_base=frozenset({'2452', '7230', '14240', '14961', '11521', '5582'}), items_add=frozenset({'7057', '16265'}), confidence=0.8139756530780227, lift=13.214698195798597), OrderedStatistic(items_base=frozenset({'2452', '7230', '14240', '14961', '11521', '7057'}), items_add=frozenset({'5582', '16265'}), confidence=0.5180742824054926, lift=5.1809216244975165), OrderedStatistic(items_base=frozenset({'7230', '14240', '14961', '11521', '5582', '7057'}), items_add=frozenset({'2452', '16265'}), confidence=0.7997020642689934, lift=10.637363637692479), OrderedStatistic(items_base=frozenset({'2452', '14240', '11521', '5582', '16265', '7057'}), items_add=frozenset({'7230', '14961'}), confidence=0.8837723424270931, lift=8.481463046361531), OrderedStatistic(items_base=frozenset({'2452', '7230', '14240', '11521', '5582', '16265'}), items_add=frozenset({'7057', '14961'}), confidence=0.8956098956098956, lift=8.465220741347142), OrderedStatistic(items_base=frozenset({'2452', '7230', '14240', '11521', '16265', '7057'}), items_add=frozenset({'5582', '14961'}), confidence=0.8552895120174799, lift=12.452920746294074), OrderedStatistic(items_base=frozenset({'7230', '14240', '11521', '5582', '16265', '7057'}), items_add=frozenset({'2452', '14961'}), confidence=0.8894622230638136, lift=8.67688412431253), OrderedStatistic(items_base=frozenset({'2452', '7230', '14240', '11521', '5582', '7057'}), items_add=frozenset({'16265', '14961'}), confidence=0.7717806531115219, lift=12.625612536095671), OrderedStatistic(items_base=frozenset({'2452', '14961', '11521', '5582', '16265', '7057'}), items_add=frozenset({'7230', '14240'}), confidence=0.9379024609394498, lift=8.71273743825323), OrderedStatistic(items_base=frozenset({'2452', '7230', '14961', '11521', '5582', '16265'}), items_add=frozenset({'14240', '7057'}), confidence=0.9501871143926367, lift=8.707516143706522), OrderedStatistic(items_base=frozenset({'2452', '7230', '14961', '11521', '16265', '7057'}), items_add=frozenset({'5582', '14240'}), confidence=0.8999425232301945, lift=10.635696878581912), OrderedStatistic(items_base=frozenset({'7230', '14961', '11521', '5582', '16265', '7057'}), items_add=frozenset({'2452', '14240'}), confidence=0.9312088021014026, lift=5.995657306266754), OrderedStatistic(items_base=frozenset({'2452', '7230', '14961', '11521', '5582', '7057'}), items_add=frozenset({'14240', '16265'}), confidence=0.8154593984636083, lift=10.734852191439156), OrderedStatistic(items_base=frozenset({'2452', '7230', '11521', '5582', '16265', '7057'}), items_add=frozenset({'14240', '14961'}), confidence=0.9029700115340253, lift=8.351247703226912), OrderedStatistic(items_base=frozenset({'2452', '14240', '14961', '5582', '16265', '7057'}), items_add=frozenset({'7230', '11521'}), confidence=0.9326880119136262, lift=8.926510297709537), OrderedStatistic(items_base=frozenset({'2452', '7230', '14240', '14961', '5582', '16265'}), items_add=frozenset({'7057', '11521'}), confidence=0.9403903903903904, lift=8.820150338483336), OrderedStatistic(items_base=frozenset({'2452', '7230', '14240', '14961', '16265', '7057'}), items_add=frozenset({'5582', '11521'}), confidence=0.8946290829444815, lift=10.570207113290062), OrderedStatistic(items_base=frozenset({'7230', '14240', '14961', '5582', '16265', '7057'}), items_add=frozenset({'2452', '11521'}), confidence=0.9071990729563999, lift=5.400652371757805), OrderedStatistic(items_base=frozenset({'2452', '7230', '14240', '14961', '5582', '7057'}), items_add=frozenset({'16265', '11521'}), confidence=0.8113745303795827, lift=10.683505091634782), OrderedStatistic(items_base=frozenset({'2452', '7230', '14240', '5582', '16265', '7057'}), items_add=frozenset({'11521', '14961'}), confidence=0.9021895707288965, lift=8.713040725404605), OrderedStatistic(items_base=frozenset({'2452', '7230', '14961', '5582', '16265', '7057'}), items_add=frozenset({'14240', '11521'}), confidence=0.9419461573168897, lift=5.916399903411737), OrderedStatistic(items_base=frozenset({'2452', '14240', '14961', '11521', '5582', '16265', '7057'}), items_add=frozenset({'7230'}), confidence=0.9615168108080445, lift=7.741023473753732), OrderedStatistic(items_base=frozenset({'2452', '7230', '14240', '14961', '11521', '5582', '16265'}), items_add=frozenset({'7057'}), confidence=0.9742300114072384, lift=7.790479344715632), OrderedStatistic(items_base=frozenset({'2452', '7230', '14240', '14961', '11521', '16265', '7057'}), items_add=frozenset({'5582'}), confidence=0.9222500368134294, lift=6.918046647800257), OrderedStatistic(items_base=frozenset({'7230', '14240', '14961', '11521', '5582', '16265', '7057'}), items_add=frozenset({'2452'}), confidence=0.9581824672344331, lift=4.693135309591241), OrderedStatistic(items_base=frozenset({'2452', '7230', '14240', '14961', '11521', '5582', '7057'}), items_add=frozenset({'16265'}), confidence=0.837710107450176, lift=7.00003260833461), OrderedStatistic(items_base=frozenset({'2452', '7230', '14240', '11521', '5582', '16265', '7057'}), items_add=frozenset({'14961'}), confidence=0.9301485148514851, lift=7.460369424794321), OrderedStatistic(items_base=frozenset({'2452', '7230', '14961', '11521', '5582', '16265', '7057'}), items_add=frozenset({'14240'}), confidence=0.9769146778973639, lift=4.880268038446896), OrderedStatistic(items_base=frozenset({'2452', '7230', '14240', '14961', '5582', '16265', '7057'}), items_add=frozenset({'11521'}), confidence=0.9716103009618366, lift=4.666225527432774)])\n"
     ]
    }
   ],
   "source": [
    "# print(association_rules_list[2022])"
   ]
  },
  {
   "cell_type": "code",
   "execution_count": 9,
   "metadata": {},
   "outputs": [],
   "source": [
    "asr_df = pd.DataFrame(columns = ['from', 'to', 'confidence', 'support', 'lift'])"
   ]
  },
  {
   "cell_type": "code",
   "execution_count": null,
   "metadata": {},
   "outputs": [],
   "source": [
    "# for item in association_rules:\n",
    "#     pair = item[0] \n",
    "#     items = [x for x in pair]\n",
    "#     asr_df.loc[len(asr_df), :] =  ' '.join(list(item[2][0][0])), \\\n",
    "#                                   ' '.join(list(item[2][0][1])),\\\n",
    "#                                   item[2][0][2], item[1], item[2][0][3]"
   ]
  },
  {
   "cell_type": "code",
   "execution_count": 10,
   "metadata": {},
   "outputs": [],
   "source": [
    "for item in association_rules:\n",
    "    pair = item[0] \n",
    "    items = [x for x in pair]\n",
    "    asr_df.loc[len(asr_df), :] =  ' '.join(list(item[2][0][1])), \\\n",
    "                                  ' '.join(list(item[2][0][0])),\\\n",
    "                                  item[2][0][2], item[1], item[2][0][3]"
   ]
  },
  {
   "cell_type": "code",
   "execution_count": 11,
   "metadata": {},
   "outputs": [
    {
     "data": {
      "text/html": [
       "<div>\n",
       "<style scoped>\n",
       "    .dataframe tbody tr th:only-of-type {\n",
       "        vertical-align: middle;\n",
       "    }\n",
       "\n",
       "    .dataframe tbody tr th {\n",
       "        vertical-align: top;\n",
       "    }\n",
       "\n",
       "    .dataframe thead th {\n",
       "        text-align: right;\n",
       "    }\n",
       "</style>\n",
       "<table border=\"1\" class=\"dataframe\">\n",
       "  <thead>\n",
       "    <tr style=\"text-align: right;\">\n",
       "      <th></th>\n",
       "      <th>from</th>\n",
       "      <th>to</th>\n",
       "      <th>confidence</th>\n",
       "      <th>support</th>\n",
       "      <th>lift</th>\n",
       "    </tr>\n",
       "  </thead>\n",
       "  <tbody>\n",
       "    <tr>\n",
       "      <th>0</th>\n",
       "      <td>10820</td>\n",
       "      <td>10042</td>\n",
       "      <td>0.266215</td>\n",
       "      <td>0.0415732</td>\n",
       "      <td>4.11022</td>\n",
       "    </tr>\n",
       "    <tr>\n",
       "      <th>1</th>\n",
       "      <td>10947</td>\n",
       "      <td>10042</td>\n",
       "      <td>0.351478</td>\n",
       "      <td>0.0548881</td>\n",
       "      <td>2.42194</td>\n",
       "    </tr>\n",
       "    <tr>\n",
       "      <th>2</th>\n",
       "      <td>11064</td>\n",
       "      <td>10042</td>\n",
       "      <td>0.348135</td>\n",
       "      <td>0.0543661</td>\n",
       "      <td>2.3007</td>\n",
       "    </tr>\n",
       "    <tr>\n",
       "      <th>3</th>\n",
       "      <td>11089</td>\n",
       "      <td>10042</td>\n",
       "      <td>0.331616</td>\n",
       "      <td>0.0517864</td>\n",
       "      <td>2.48827</td>\n",
       "    </tr>\n",
       "    <tr>\n",
       "      <th>4</th>\n",
       "      <td>11283</td>\n",
       "      <td>10042</td>\n",
       "      <td>0.454613</td>\n",
       "      <td>0.0709941</td>\n",
       "      <td>2.20623</td>\n",
       "    </tr>\n",
       "    <tr>\n",
       "      <th>...</th>\n",
       "      <td>...</td>\n",
       "      <td>...</td>\n",
       "      <td>...</td>\n",
       "      <td>...</td>\n",
       "      <td>...</td>\n",
       "    </tr>\n",
       "    <tr>\n",
       "      <th>2018</th>\n",
       "      <td>7230 5582 7057 16265 2452 14961</td>\n",
       "      <td>11521</td>\n",
       "      <td>0.199233</td>\n",
       "      <td>0.0414848</td>\n",
       "      <td>4.63066</td>\n",
       "    </tr>\n",
       "    <tr>\n",
       "      <th>2019</th>\n",
       "      <td>7230 5582 7057 9628 2452 14961</td>\n",
       "      <td>11521</td>\n",
       "      <td>0.195898</td>\n",
       "      <td>0.0407902</td>\n",
       "      <td>4.63469</td>\n",
       "    </tr>\n",
       "    <tr>\n",
       "      <th>2020</th>\n",
       "      <td>7230 5582 7057 16265 2452 14961</td>\n",
       "      <td>14240</td>\n",
       "      <td>0.208372</td>\n",
       "      <td>0.0417112</td>\n",
       "      <td>4.84307</td>\n",
       "    </tr>\n",
       "    <tr>\n",
       "      <th>2021</th>\n",
       "      <td>7230 5582 7057 9628 2452 14961</td>\n",
       "      <td>14240</td>\n",
       "      <td>0.204569</td>\n",
       "      <td>0.0409498</td>\n",
       "      <td>4.83983</td>\n",
       "    </tr>\n",
       "    <tr>\n",
       "      <th>2022</th>\n",
       "      <td>14240 7230 5582 7057 16265 2452 14961</td>\n",
       "      <td>11521</td>\n",
       "      <td>0.194634</td>\n",
       "      <td>0.0405271</td>\n",
       "      <td>4.66623</td>\n",
       "    </tr>\n",
       "  </tbody>\n",
       "</table>\n",
       "<p>2023 rows × 5 columns</p>\n",
       "</div>"
      ],
      "text/plain": [
       "                                       from     to confidence    support  \\\n",
       "0                                     10820  10042   0.266215  0.0415732   \n",
       "1                                     10947  10042   0.351478  0.0548881   \n",
       "2                                     11064  10042   0.348135  0.0543661   \n",
       "3                                     11089  10042   0.331616  0.0517864   \n",
       "4                                     11283  10042   0.454613  0.0709941   \n",
       "...                                     ...    ...        ...        ...   \n",
       "2018        7230 5582 7057 16265 2452 14961  11521   0.199233  0.0414848   \n",
       "2019         7230 5582 7057 9628 2452 14961  11521   0.195898  0.0407902   \n",
       "2020        7230 5582 7057 16265 2452 14961  14240   0.208372  0.0417112   \n",
       "2021         7230 5582 7057 9628 2452 14961  14240   0.204569  0.0409498   \n",
       "2022  14240 7230 5582 7057 16265 2452 14961  11521   0.194634  0.0405271   \n",
       "\n",
       "         lift  \n",
       "0     4.11022  \n",
       "1     2.42194  \n",
       "2      2.3007  \n",
       "3     2.48827  \n",
       "4     2.20623  \n",
       "...       ...  \n",
       "2018  4.63066  \n",
       "2019  4.63469  \n",
       "2020  4.84307  \n",
       "2021  4.83983  \n",
       "2022  4.66623  \n",
       "\n",
       "[2023 rows x 5 columns]"
      ]
     },
     "execution_count": 11,
     "metadata": {},
     "output_type": "execute_result"
    }
   ],
   "source": [
    "asr_df"
   ]
  },
  {
   "cell_type": "code",
   "execution_count": 12,
   "metadata": {},
   "outputs": [
    {
     "data": {
      "text/html": [
       "<div>\n",
       "<style scoped>\n",
       "    .dataframe tbody tr th:only-of-type {\n",
       "        vertical-align: middle;\n",
       "    }\n",
       "\n",
       "    .dataframe tbody tr th {\n",
       "        vertical-align: top;\n",
       "    }\n",
       "\n",
       "    .dataframe thead th {\n",
       "        text-align: right;\n",
       "    }\n",
       "</style>\n",
       "<table border=\"1\" class=\"dataframe\">\n",
       "  <thead>\n",
       "    <tr style=\"text-align: right;\">\n",
       "      <th></th>\n",
       "      <th>from</th>\n",
       "      <th>to</th>\n",
       "      <th>confidence</th>\n",
       "      <th>support</th>\n",
       "      <th>lift</th>\n",
       "    </tr>\n",
       "  </thead>\n",
       "  <tbody>\n",
       "    <tr>\n",
       "      <th>1881</th>\n",
       "      <td>7057 16265 7230 2452</td>\n",
       "      <td>14961</td>\n",
       "      <td>0.375413</td>\n",
       "      <td>0.046806</td>\n",
       "      <td>7.36834</td>\n",
       "    </tr>\n",
       "    <tr>\n",
       "      <th>2000</th>\n",
       "      <td>7230 5582 7057 9628 16265</td>\n",
       "      <td>14961</td>\n",
       "      <td>0.330554</td>\n",
       "      <td>0.041213</td>\n",
       "      <td>7.38021</td>\n",
       "    </tr>\n",
       "    <tr>\n",
       "      <th>1999</th>\n",
       "      <td>7230 5582 7057 16265 2452</td>\n",
       "      <td>14961</td>\n",
       "      <td>0.345086</td>\n",
       "      <td>0.0430248</td>\n",
       "      <td>7.39518</td>\n",
       "    </tr>\n",
       "    <tr>\n",
       "      <th>325</th>\n",
       "      <td>457</td>\n",
       "      <td>14454</td>\n",
       "      <td>0.631952</td>\n",
       "      <td>0.0607572</td>\n",
       "      <td>7.40661</td>\n",
       "    </tr>\n",
       "    <tr>\n",
       "      <th>1187</th>\n",
       "      <td>9628 7230</td>\n",
       "      <td>7057</td>\n",
       "      <td>0.449937</td>\n",
       "      <td>0.0562664</td>\n",
       "      <td>7.43479</td>\n",
       "    </tr>\n",
       "    <tr>\n",
       "      <th>143</th>\n",
       "      <td>17627</td>\n",
       "      <td>11443</td>\n",
       "      <td>0.734164</td>\n",
       "      <td>0.0657225</td>\n",
       "      <td>7.95834</td>\n",
       "    </tr>\n",
       "    <tr>\n",
       "      <th>768</th>\n",
       "      <td>17627 2452</td>\n",
       "      <td>11443</td>\n",
       "      <td>0.463653</td>\n",
       "      <td>0.0415063</td>\n",
       "      <td>8.6031</td>\n",
       "    </tr>\n",
       "    <tr>\n",
       "      <th>764</th>\n",
       "      <td>17627 11521</td>\n",
       "      <td>11443</td>\n",
       "      <td>0.465292</td>\n",
       "      <td>0.041653</td>\n",
       "      <td>8.75651</td>\n",
       "    </tr>\n",
       "    <tr>\n",
       "      <th>766</th>\n",
       "      <td>12338 17627</td>\n",
       "      <td>11443</td>\n",
       "      <td>0.490663</td>\n",
       "      <td>0.0439243</td>\n",
       "      <td>9.47831</td>\n",
       "    </tr>\n",
       "    <tr>\n",
       "      <th>313</th>\n",
       "      <td>16147</td>\n",
       "      <td>14302</td>\n",
       "      <td>0.741323</td>\n",
       "      <td>0.0403588</td>\n",
       "      <td>12.7193</td>\n",
       "    </tr>\n",
       "  </tbody>\n",
       "</table>\n",
       "</div>"
      ],
      "text/plain": [
       "                           from     to confidence    support     lift\n",
       "1881       7057 16265 7230 2452  14961   0.375413   0.046806  7.36834\n",
       "2000  7230 5582 7057 9628 16265  14961   0.330554   0.041213  7.38021\n",
       "1999  7230 5582 7057 16265 2452  14961   0.345086  0.0430248  7.39518\n",
       "325                         457  14454   0.631952  0.0607572  7.40661\n",
       "1187                  9628 7230   7057   0.449937  0.0562664  7.43479\n",
       "143                       17627  11443   0.734164  0.0657225  7.95834\n",
       "768                  17627 2452  11443   0.463653  0.0415063   8.6031\n",
       "764                 17627 11521  11443   0.465292   0.041653  8.75651\n",
       "766                 12338 17627  11443   0.490663  0.0439243  9.47831\n",
       "313                       16147  14302   0.741323  0.0403588  12.7193"
      ]
     },
     "execution_count": 12,
     "metadata": {},
     "output_type": "execute_result"
    }
   ],
   "source": [
    "asr_df.sort_values('lift').tail(10)"
   ]
  },
  {
   "cell_type": "code",
   "execution_count": 13,
   "metadata": {},
   "outputs": [],
   "source": [
    "titles = pd.read_csv('movie_titles.csv', encoding = \"ISO-8859-1\", \n",
    "                     header = None, \n",
    "                     names = ['Movie_Id', 'Year', 'Name'])"
   ]
  },
  {
   "cell_type": "code",
   "execution_count": 14,
   "metadata": {},
   "outputs": [
    {
     "data": {
      "text/html": [
       "<div>\n",
       "<style scoped>\n",
       "    .dataframe tbody tr th:only-of-type {\n",
       "        vertical-align: middle;\n",
       "    }\n",
       "\n",
       "    .dataframe tbody tr th {\n",
       "        vertical-align: top;\n",
       "    }\n",
       "\n",
       "    .dataframe thead th {\n",
       "        text-align: right;\n",
       "    }\n",
       "</style>\n",
       "<table border=\"1\" class=\"dataframe\">\n",
       "  <thead>\n",
       "    <tr style=\"text-align: right;\">\n",
       "      <th></th>\n",
       "      <th>Movie_Id</th>\n",
       "      <th>Year</th>\n",
       "      <th>Name</th>\n",
       "    </tr>\n",
       "  </thead>\n",
       "  <tbody>\n",
       "    <tr>\n",
       "      <th>0</th>\n",
       "      <td>1</td>\n",
       "      <td>2003.0</td>\n",
       "      <td>Dinosaur Planet</td>\n",
       "    </tr>\n",
       "    <tr>\n",
       "      <th>1</th>\n",
       "      <td>2</td>\n",
       "      <td>2004.0</td>\n",
       "      <td>Isle of Man TT 2004 Review</td>\n",
       "    </tr>\n",
       "    <tr>\n",
       "      <th>2</th>\n",
       "      <td>3</td>\n",
       "      <td>1997.0</td>\n",
       "      <td>Character</td>\n",
       "    </tr>\n",
       "    <tr>\n",
       "      <th>3</th>\n",
       "      <td>4</td>\n",
       "      <td>1994.0</td>\n",
       "      <td>Paula Abdul's Get Up &amp; Dance</td>\n",
       "    </tr>\n",
       "    <tr>\n",
       "      <th>4</th>\n",
       "      <td>5</td>\n",
       "      <td>2004.0</td>\n",
       "      <td>The Rise and Fall of ECW</td>\n",
       "    </tr>\n",
       "  </tbody>\n",
       "</table>\n",
       "</div>"
      ],
      "text/plain": [
       "   Movie_Id    Year                          Name\n",
       "0         1  2003.0               Dinosaur Planet\n",
       "1         2  2004.0    Isle of Man TT 2004 Review\n",
       "2         3  1997.0                     Character\n",
       "3         4  1994.0  Paula Abdul's Get Up & Dance\n",
       "4         5  2004.0      The Rise and Fall of ECW"
      ]
     },
     "execution_count": 14,
     "metadata": {},
     "output_type": "execute_result"
    }
   ],
   "source": [
    "titles.head()"
   ]
  },
  {
   "cell_type": "code",
   "execution_count": 15,
   "metadata": {},
   "outputs": [],
   "source": [
    "def get_rule_title(rule):\n",
    "    print(titles[titles.Movie_Id.isin(rule['from'].split(' '))]['Name'].values)\n",
    "    print('----------->')\n",
    "    print(titles[titles.Movie_Id == int(rule['to'])]['Name'].values)"
   ]
  },
  {
   "cell_type": "code",
   "execution_count": 16,
   "metadata": {},
   "outputs": [
    {
     "data": {
      "text/plain": [
       "from          14240 7230 5582 7057 16265 2452 14961\n",
       "to                                            11521\n",
       "confidence                                 0.194634\n",
       "support                                   0.0405271\n",
       "lift                                        4.66623\n",
       "Name: 2022, dtype: object"
      ]
     },
     "execution_count": 16,
     "metadata": {},
     "output_type": "execute_result"
    }
   ],
   "source": [
    "asr_df.loc[2022]"
   ]
  },
  {
   "cell_type": "code",
   "execution_count": 17,
   "metadata": {},
   "outputs": [
    {
     "name": "stdout",
     "output_type": "stream",
     "text": [
      "['Lord of the Rings: The Fellowship of the Ring'\n",
      " 'Star Wars: Episode V: The Empire Strikes Back'\n",
      " 'Lord of the Rings: The Two Towers: Extended Edition'\n",
      " 'The Lord of the Rings: The Fellowship of the Ring: Extended Edition'\n",
      " 'Lord of the Rings: The Return of the King'\n",
      " 'Lord of the Rings: The Return of the King: Extended Edition'\n",
      " 'Star Wars: Episode IV: A New Hope']\n",
      "----------->\n",
      "['Lord of the Rings: The Two Towers']\n"
     ]
    }
   ],
   "source": [
    "get_rule_title(asr_df.loc[2022])"
   ]
  },
  {
   "cell_type": "code",
   "execution_count": 18,
   "metadata": {},
   "outputs": [
    {
     "name": "stdout",
     "output_type": "stream",
     "text": [
      "['The Sixth Sense']\n",
      "----------->\n",
      "[\"Schindler's List\"]\n"
     ]
    }
   ],
   "source": [
    "get_rule_title(asr_df.sample(1).iloc[0])"
   ]
  },
  {
   "cell_type": "code",
   "execution_count": 19,
   "metadata": {},
   "outputs": [
    {
     "data": {
      "text/plain": [
       "'334 1145 1289 1542 2152 2153 2212 2290 3079 3098 3418 4123 4302 4545 4577 4640 5056 5069 5181 5807 5875 6386 6398 7617 9617 9728 10158 10359 11283 13115 13702 14103 14667 15062 15540 15563 16008 16668 17323'"
      ]
     },
     "execution_count": 19,
     "metadata": {},
     "output_type": "execute_result"
    }
   ],
   "source": [
    "good.iloc[14]"
   ]
  },
  {
   "cell_type": "code",
   "execution_count": 20,
   "metadata": {},
   "outputs": [],
   "source": [
    "j = 159992"
   ]
  },
  {
   "cell_type": "code",
   "execution_count": 21,
   "metadata": {},
   "outputs": [
    {
     "data": {
      "text/plain": [
       "1144     The Wedding Planner\n",
       "2151         What Women Want\n",
       "5316       Miss Congeniality\n",
       "6286            Pretty Woman\n",
       "6385              Sister Act\n",
       "7233            Men of Honor\n",
       "10358          Runaway Bride\n",
       "11148      Maid in Manhattan\n",
       "13049       Two Weeks Notice\n",
       "15581     Sweet Home Alabama\n",
       "Name: Name, dtype: object"
      ]
     },
     "execution_count": 21,
     "metadata": {},
     "output_type": "execute_result"
    }
   ],
   "source": [
    "titles[titles.Movie_Id.isin(good.iloc[j].split(' '))]['Name']"
   ]
  },
  {
   "cell_type": "code",
   "execution_count": 22,
   "metadata": {},
   "outputs": [
    {
     "name": "stdout",
     "output_type": "stream",
     "text": [
      "{'The Green Mile', 'The Patriot', 'Sweet Home Alabama'}\n"
     ]
    }
   ],
   "source": [
    "def print_rule_title(rule):\n",
    "    return (titles[titles.Movie_Id == int(rule['to'])]['Name'].values)\n",
    "    \n",
    "\n",
    "result = []\n",
    "for A in asr_df.index:\n",
    "    if len(set(good.iloc[j].split(' ')) & set(asr_df['from'].loc[A].split(' '))) == len(asr_df['from'].loc[A].split(' ')):\n",
    "        result.append(print_rule_title(asr_df.loc[A])[0])\n",
    "print(set(result))"
   ]
  },
  {
   "cell_type": "code",
   "execution_count": null,
   "metadata": {},
   "outputs": [],
   "source": []
  }
 ],
 "metadata": {
  "kernelspec": {
   "display_name": "Python 3",
   "language": "python",
   "name": "python3"
  },
  "language_info": {
   "codemirror_mode": {
    "name": "ipython",
    "version": 3
   },
   "file_extension": ".py",
   "mimetype": "text/x-python",
   "name": "python",
   "nbconvert_exporter": "python",
   "pygments_lexer": "ipython3",
   "version": "3.8.5"
  }
 },
 "nbformat": 4,
 "nbformat_minor": 2
}
