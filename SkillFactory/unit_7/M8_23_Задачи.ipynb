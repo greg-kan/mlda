{
 "cells": [
  {
   "cell_type": "code",
   "execution_count": 1,
   "metadata": {},
   "outputs": [],
   "source": [
    "import pandas as pd\n",
    "import matplotlib.pyplot as plt\n",
    "import numpy as np\n",
    "import random\n",
    "\n",
    "from sklearn.ensemble import RandomForestClassifier\n",
    "from sklearn.model_selection import train_test_split\n",
    "\n",
    "from sklearn.metrics import confusion_matrix\n",
    "from sklearn.metrics import roc_curve, auc\n",
    "from math import isnan"
   ]
  },
  {
   "cell_type": "code",
   "execution_count": 3,
   "metadata": {
    "scrolled": true
   },
   "outputs": [
    {
     "name": "stdout",
     "output_type": "stream",
     "text": [
      "len(data) = 10792\n"
     ]
    },
    {
     "data": {
      "text/html": [
       "<div>\n",
       "<style scoped>\n",
       "    .dataframe tbody tr th:only-of-type {\n",
       "        vertical-align: middle;\n",
       "    }\n",
       "\n",
       "    .dataframe tbody tr th {\n",
       "        vertical-align: top;\n",
       "    }\n",
       "\n",
       "    .dataframe thead th {\n",
       "        text-align: right;\n",
       "    }\n",
       "</style>\n",
       "<table border=\"1\" class=\"dataframe\">\n",
       "  <thead>\n",
       "    <tr style=\"text-align: right;\">\n",
       "      <th></th>\n",
       "      <th>unixtime</th>\n",
       "      <th>open</th>\n",
       "      <th>high</th>\n",
       "      <th>low</th>\n",
       "      <th>close</th>\n",
       "      <th>vol</th>\n",
       "      <th>ts</th>\n",
       "    </tr>\n",
       "  </thead>\n",
       "  <tbody>\n",
       "    <tr>\n",
       "      <th>39280</th>\n",
       "      <td>1518220800000000000</td>\n",
       "      <td>1316.7</td>\n",
       "      <td>1317.1</td>\n",
       "      <td>1316.7</td>\n",
       "      <td>1317.0</td>\n",
       "      <td>259</td>\n",
       "      <td>2018-02-10 00:00:00</td>\n",
       "    </tr>\n",
       "    <tr>\n",
       "      <th>39281</th>\n",
       "      <td>1518220860000000000</td>\n",
       "      <td>1317.0</td>\n",
       "      <td>1317.0</td>\n",
       "      <td>1316.6</td>\n",
       "      <td>1316.7</td>\n",
       "      <td>103</td>\n",
       "      <td>2018-02-10 00:01:00</td>\n",
       "    </tr>\n",
       "    <tr>\n",
       "      <th>39282</th>\n",
       "      <td>1518220920000000000</td>\n",
       "      <td>1316.8</td>\n",
       "      <td>1317.1</td>\n",
       "      <td>1316.7</td>\n",
       "      <td>1317.1</td>\n",
       "      <td>139</td>\n",
       "      <td>2018-02-10 00:02:00</td>\n",
       "    </tr>\n",
       "    <tr>\n",
       "      <th>39283</th>\n",
       "      <td>1518220980000000000</td>\n",
       "      <td>1317.0</td>\n",
       "      <td>1317.6</td>\n",
       "      <td>1317.0</td>\n",
       "      <td>1317.5</td>\n",
       "      <td>198</td>\n",
       "      <td>2018-02-10 00:03:00</td>\n",
       "    </tr>\n",
       "    <tr>\n",
       "      <th>39284</th>\n",
       "      <td>1518221040000000000</td>\n",
       "      <td>1317.6</td>\n",
       "      <td>1318.3</td>\n",
       "      <td>1317.6</td>\n",
       "      <td>1318.1</td>\n",
       "      <td>218</td>\n",
       "      <td>2018-02-10 00:04:00</td>\n",
       "    </tr>\n",
       "  </tbody>\n",
       "</table>\n",
       "</div>"
      ],
      "text/plain": [
       "                  unixtime    open    high     low   close  vol  \\\n",
       "39280  1518220800000000000  1316.7  1317.1  1316.7  1317.0  259   \n",
       "39281  1518220860000000000  1317.0  1317.0  1316.6  1316.7  103   \n",
       "39282  1518220920000000000  1316.8  1317.1  1316.7  1317.1  139   \n",
       "39283  1518220980000000000  1317.0  1317.6  1317.0  1317.5  198   \n",
       "39284  1518221040000000000  1317.6  1318.3  1317.6  1318.1  218   \n",
       "\n",
       "                       ts  \n",
       "39280 2018-02-10 00:00:00  \n",
       "39281 2018-02-10 00:01:00  \n",
       "39282 2018-02-10 00:02:00  \n",
       "39283 2018-02-10 00:03:00  \n",
       "39284 2018-02-10 00:04:00  "
      ]
     },
     "execution_count": 3,
     "metadata": {},
     "output_type": "execute_result"
    }
   ],
   "source": [
    "data = pd.read_csv('gold_clean.csv')\n",
    "data = data.rename(columns = {'ts': 'unixtime'})\n",
    "data['ts'] = pd.to_datetime(data.unixtime)\n",
    "data = data[(data.ts >= '2018-02-10') & (data.ts <= '2018-02-22')]\n",
    "\n",
    "print(f'len(data) = {len(data)}')\n",
    "data.head()"
   ]
  },
  {
   "cell_type": "code",
   "execution_count": 4,
   "metadata": {},
   "outputs": [],
   "source": [
    "train, test = np.split(data, [int(0.6*len(data))])"
   ]
  },
  {
   "cell_type": "code",
   "execution_count": 5,
   "metadata": {},
   "outputs": [
    {
     "data": {
      "text/html": [
       "<div>\n",
       "<style scoped>\n",
       "    .dataframe tbody tr th:only-of-type {\n",
       "        vertical-align: middle;\n",
       "    }\n",
       "\n",
       "    .dataframe tbody tr th {\n",
       "        vertical-align: top;\n",
       "    }\n",
       "\n",
       "    .dataframe thead th {\n",
       "        text-align: right;\n",
       "    }\n",
       "</style>\n",
       "<table border=\"1\" class=\"dataframe\">\n",
       "  <thead>\n",
       "    <tr style=\"text-align: right;\">\n",
       "      <th></th>\n",
       "      <th>unixtime</th>\n",
       "      <th>open</th>\n",
       "      <th>high</th>\n",
       "      <th>low</th>\n",
       "      <th>close</th>\n",
       "      <th>vol</th>\n",
       "      <th>ts</th>\n",
       "    </tr>\n",
       "  </thead>\n",
       "  <tbody>\n",
       "    <tr>\n",
       "      <th>45755</th>\n",
       "      <td>1518800460000000000</td>\n",
       "      <td>1358.0</td>\n",
       "      <td>1358.0</td>\n",
       "      <td>1356.6</td>\n",
       "      <td>1356.6</td>\n",
       "      <td>934</td>\n",
       "      <td>2018-02-16 17:01:00</td>\n",
       "    </tr>\n",
       "    <tr>\n",
       "      <th>45756</th>\n",
       "      <td>1518800520000000000</td>\n",
       "      <td>1356.7</td>\n",
       "      <td>1357.2</td>\n",
       "      <td>1356.3</td>\n",
       "      <td>1356.4</td>\n",
       "      <td>665</td>\n",
       "      <td>2018-02-16 17:02:00</td>\n",
       "    </tr>\n",
       "    <tr>\n",
       "      <th>45757</th>\n",
       "      <td>1518800580000000000</td>\n",
       "      <td>1356.4</td>\n",
       "      <td>1356.6</td>\n",
       "      <td>1355.8</td>\n",
       "      <td>1356.5</td>\n",
       "      <td>678</td>\n",
       "      <td>2018-02-16 17:03:00</td>\n",
       "    </tr>\n",
       "    <tr>\n",
       "      <th>45758</th>\n",
       "      <td>1518800640000000000</td>\n",
       "      <td>1356.5</td>\n",
       "      <td>1357.0</td>\n",
       "      <td>1356.5</td>\n",
       "      <td>1356.9</td>\n",
       "      <td>253</td>\n",
       "      <td>2018-02-16 17:04:00</td>\n",
       "    </tr>\n",
       "    <tr>\n",
       "      <th>45759</th>\n",
       "      <td>1518800700000000000</td>\n",
       "      <td>1356.9</td>\n",
       "      <td>1356.9</td>\n",
       "      <td>1356.4</td>\n",
       "      <td>1356.7</td>\n",
       "      <td>304</td>\n",
       "      <td>2018-02-16 17:05:00</td>\n",
       "    </tr>\n",
       "  </tbody>\n",
       "</table>\n",
       "</div>"
      ],
      "text/plain": [
       "                  unixtime    open    high     low   close  vol  \\\n",
       "45755  1518800460000000000  1358.0  1358.0  1356.6  1356.6  934   \n",
       "45756  1518800520000000000  1356.7  1357.2  1356.3  1356.4  665   \n",
       "45757  1518800580000000000  1356.4  1356.6  1355.8  1356.5  678   \n",
       "45758  1518800640000000000  1356.5  1357.0  1356.5  1356.9  253   \n",
       "45759  1518800700000000000  1356.9  1356.9  1356.4  1356.7  304   \n",
       "\n",
       "                       ts  \n",
       "45755 2018-02-16 17:01:00  \n",
       "45756 2018-02-16 17:02:00  \n",
       "45757 2018-02-16 17:03:00  \n",
       "45758 2018-02-16 17:04:00  \n",
       "45759 2018-02-16 17:05:00  "
      ]
     },
     "execution_count": 5,
     "metadata": {},
     "output_type": "execute_result"
    }
   ],
   "source": [
    "test.head()"
   ]
  },
  {
   "cell_type": "code",
   "execution_count": 13,
   "metadata": {},
   "outputs": [
    {
     "data": {
      "text/plain": [
       "unixtime    1518800460000000000\n",
       "open                       1358\n",
       "high                       1358\n",
       "low                      1356.6\n",
       "close                    1356.6\n",
       "vol                         934\n",
       "ts          2018-02-16 17:01:00\n",
       "Name: 45755, dtype: object"
      ]
     },
     "execution_count": 13,
     "metadata": {},
     "output_type": "execute_result"
    }
   ],
   "source": [
    "test.iloc[0]"
   ]
  },
  {
   "cell_type": "code",
   "execution_count": null,
   "metadata": {},
   "outputs": [],
   "source": [
    "train, test = np.split(data, [int(0.6*len(data))])\n",
    "\n"
   ]
  },
  {
   "cell_type": "code",
   "execution_count": null,
   "metadata": {},
   "outputs": [],
   "source": [
    "def multySplit(d, N, m):\n",
    "    return np.array_split"
   ]
  },
  {
   "cell_type": "code",
   "execution_count": 28,
   "metadata": {},
   "outputs": [],
   "source": [
    "train, test = np.split(data, [int((3/5)*len(data))-1])"
   ]
  },
  {
   "cell_type": "code",
   "execution_count": 29,
   "metadata": {},
   "outputs": [
    {
     "data": {
      "text/plain": [
       "(10792, 6474, 4318)"
      ]
     },
     "execution_count": 29,
     "metadata": {},
     "output_type": "execute_result"
    }
   ],
   "source": [
    "len(data), len(train), len(test)"
   ]
  },
  {
   "cell_type": "code",
   "execution_count": 30,
   "metadata": {},
   "outputs": [
    {
     "data": {
      "text/html": [
       "<div>\n",
       "<style scoped>\n",
       "    .dataframe tbody tr th:only-of-type {\n",
       "        vertical-align: middle;\n",
       "    }\n",
       "\n",
       "    .dataframe tbody tr th {\n",
       "        vertical-align: top;\n",
       "    }\n",
       "\n",
       "    .dataframe thead th {\n",
       "        text-align: right;\n",
       "    }\n",
       "</style>\n",
       "<table border=\"1\" class=\"dataframe\">\n",
       "  <thead>\n",
       "    <tr style=\"text-align: right;\">\n",
       "      <th></th>\n",
       "      <th>unixtime</th>\n",
       "      <th>open</th>\n",
       "      <th>high</th>\n",
       "      <th>low</th>\n",
       "      <th>close</th>\n",
       "      <th>vol</th>\n",
       "      <th>ts</th>\n",
       "    </tr>\n",
       "  </thead>\n",
       "  <tbody>\n",
       "    <tr>\n",
       "      <th>45749</th>\n",
       "      <td>1518800100000000000</td>\n",
       "      <td>1358.6</td>\n",
       "      <td>1358.8</td>\n",
       "      <td>1358.3</td>\n",
       "      <td>1358.3</td>\n",
       "      <td>236</td>\n",
       "      <td>2018-02-16 16:55:00</td>\n",
       "    </tr>\n",
       "    <tr>\n",
       "      <th>45750</th>\n",
       "      <td>1518800160000000000</td>\n",
       "      <td>1358.3</td>\n",
       "      <td>1358.9</td>\n",
       "      <td>1358.2</td>\n",
       "      <td>1358.7</td>\n",
       "      <td>344</td>\n",
       "      <td>2018-02-16 16:56:00</td>\n",
       "    </tr>\n",
       "    <tr>\n",
       "      <th>45751</th>\n",
       "      <td>1518800220000000000</td>\n",
       "      <td>1358.7</td>\n",
       "      <td>1358.7</td>\n",
       "      <td>1358.2</td>\n",
       "      <td>1358.2</td>\n",
       "      <td>244</td>\n",
       "      <td>2018-02-16 16:57:00</td>\n",
       "    </tr>\n",
       "    <tr>\n",
       "      <th>45752</th>\n",
       "      <td>1518800280000000000</td>\n",
       "      <td>1358.2</td>\n",
       "      <td>1358.4</td>\n",
       "      <td>1358.2</td>\n",
       "      <td>1358.2</td>\n",
       "      <td>100</td>\n",
       "      <td>2018-02-16 16:58:00</td>\n",
       "    </tr>\n",
       "    <tr>\n",
       "      <th>45753</th>\n",
       "      <td>1518800340000000000</td>\n",
       "      <td>1358.2</td>\n",
       "      <td>1358.4</td>\n",
       "      <td>1358.0</td>\n",
       "      <td>1358.2</td>\n",
       "      <td>293</td>\n",
       "      <td>2018-02-16 16:59:00</td>\n",
       "    </tr>\n",
       "  </tbody>\n",
       "</table>\n",
       "</div>"
      ],
      "text/plain": [
       "                  unixtime    open    high     low   close  vol  \\\n",
       "45749  1518800100000000000  1358.6  1358.8  1358.3  1358.3  236   \n",
       "45750  1518800160000000000  1358.3  1358.9  1358.2  1358.7  344   \n",
       "45751  1518800220000000000  1358.7  1358.7  1358.2  1358.2  244   \n",
       "45752  1518800280000000000  1358.2  1358.4  1358.2  1358.2  100   \n",
       "45753  1518800340000000000  1358.2  1358.4  1358.0  1358.2  293   \n",
       "\n",
       "                       ts  \n",
       "45749 2018-02-16 16:55:00  \n",
       "45750 2018-02-16 16:56:00  \n",
       "45751 2018-02-16 16:57:00  \n",
       "45752 2018-02-16 16:58:00  \n",
       "45753 2018-02-16 16:59:00  "
      ]
     },
     "execution_count": 30,
     "metadata": {},
     "output_type": "execute_result"
    }
   ],
   "source": [
    "train.tail()"
   ]
  },
  {
   "cell_type": "code",
   "execution_count": null,
   "metadata": {},
   "outputs": [],
   "source": [
    "training_size = i * n_samples / (n_splits + 1) + n_samples % (n_splits + 1)\n",
    "test_size = n_samples / (n_splits + 1)"
   ]
  }
 ],
 "metadata": {
  "kernelspec": {
   "display_name": "Python 3",
   "language": "python",
   "name": "python3"
  },
  "language_info": {
   "codemirror_mode": {
    "name": "ipython",
    "version": 3
   },
   "file_extension": ".py",
   "mimetype": "text/x-python",
   "name": "python",
   "nbconvert_exporter": "python",
   "pygments_lexer": "ipython3",
   "version": "3.8.5"
  }
 },
 "nbformat": 4,
 "nbformat_minor": 4
}
