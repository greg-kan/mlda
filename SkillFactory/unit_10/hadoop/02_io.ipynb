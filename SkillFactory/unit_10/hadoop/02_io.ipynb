{
 "cells": [
  {
   "cell_type": "markdown",
   "metadata": {
    "colab_type": "text",
    "id": "orjRk6e85ZP8"
   },
   "source": [
    "# Ввод и вывод в Spark: работа с файлами"
   ]
  },
  {
   "cell_type": "markdown",
   "metadata": {
    "colab_type": "text",
    "id": "f1rh9TPU5ZQE"
   },
   "source": [
    "Стандартная \"шапка\" - настройка окружения на работу со spark\n",
    "\n",
    "**Важно** обратите внимание - SPARK_HOME указывает на путь, куда установлен Spark на локальном компютере (поправьте под себя) "
   ]
  },
  {
   "cell_type": "code",
   "execution_count": 3,
   "metadata": {
    "colab": {},
    "colab_type": "code",
    "id": "VWZjJwT55ZQG"
   },
   "outputs": [],
   "source": [
    "import os\n",
    "\n",
    "os.environ[\"JAVA_HOME\"] = \"/usr/lib/jvm/java-11-openjdk-amd64\"\n",
    "os.environ[\"SPARK_HOME\"] = \"/opt/spark\"\n",
    "\n",
    "import findspark\n",
    "findspark.find()\n",
    "findspark.init()\n",
    "\n",
    "from pyspark.sql import SparkSession\n",
    "\n",
    "# os.environ[\"SPARK_HOME\"] = \"/home/mk/mk_win/projects/SparkEdu/lib/python3.5/site-packages/pyspark\"\n",
    "# os.environ[\"PYSPARK_PYTHON\"] = \"/usr/bin/python3\"\n",
    "# os.environ[\"PYSPARK_DRIVER_PYTHON\"] = \"python3\"\n",
    "# os.environ[\"PYSPARK_SUBMIT_ARGS\"] = \"pyspark-shell\""
   ]
  },
  {
   "cell_type": "markdown",
   "metadata": {
    "colab_type": "text",
    "id": "t3TyocMg5ZQM"
   },
   "source": [
    "Создаем сессию, работаем в \"локальном\" режиме."
   ]
  },
  {
   "cell_type": "code",
   "execution_count": 4,
   "metadata": {
    "colab": {},
    "colab_type": "code",
    "id": "S8IraIed5ZQN"
   },
   "outputs": [],
   "source": [
    "master = \"local\"\n",
    "#master = \"yarn\" В кластере\n",
    "spark = SparkSession.builder.master(master).appName(\"spark_test\").getOrCreate()"
   ]
  },
  {
   "cell_type": "markdown",
   "metadata": {
    "colab_type": "text",
    "id": "1cFiR_wb5ZQS"
   },
   "source": [
    "Загрузим наш файл со странами мира, на забываем - первая строка, заголовок (опция `header`)"
   ]
  },
  {
   "cell_type": "code",
   "execution_count": 8,
   "metadata": {
    "colab": {},
    "colab_type": "code",
    "id": "r3h5YPgV5ZQT"
   },
   "outputs": [],
   "source": [
    "# цепочка обработки при чтении\n",
    "\n",
    "df = spark.read.format(\"csv\") \\\n",
    "    .option(\"mode\", \"FAILFAST\") \\\n",
    "    .option(\"inferSchema\", \"true\") \\\n",
    "    .option(\"header\",\"true\") \\\n",
    "    .option(\"path\", \"./countries_of_the_world.xls\") \\\n",
    "    .load()"
   ]
  },
  {
   "cell_type": "markdown",
   "metadata": {
    "colab_type": "text",
    "id": "H9dD3VJ15ZQY"
   },
   "source": [
    "Покажем первые 3 строки"
   ]
  },
  {
   "cell_type": "code",
   "execution_count": 9,
   "metadata": {
    "colab": {},
    "colab_type": "code",
    "id": "faWcl1T05ZQa",
    "outputId": "5a6f62e2-befc-4a68-d152-7afdc9f83ccf"
   },
   "outputs": [
    {
     "name": "stdout",
     "output_type": "stream",
     "text": [
      "+------------+--------------------+----------+--------------+--------------------------+----------------------------+-------------+----------------------------------+------------------+------------+-----------------+----------+---------+---------+-------+---------+---------+-----------+--------+-------+\n",
      "|     Country|              Region|Population|Area (sq. mi.)|Pop. Density (per sq. mi.)|Coastline (coast/area ratio)|Net migration|Infant mortality (per 1000 births)|GDP ($ per capita)|Literacy (%)|Phones (per 1000)|Arable (%)|Crops (%)|Other (%)|Climate|Birthrate|Deathrate|Agriculture|Industry|Service|\n",
      "+------------+--------------------+----------+--------------+--------------------------+----------------------------+-------------+----------------------------------+------------------+------------+-----------------+----------+---------+---------+-------+---------+---------+-----------+--------+-------+\n",
      "|Afghanistan |ASIA (EX. NEAR EA...|  31056997|        647500|                      48,0|                        0,00|        23,06|                            163,07|               700|        36,0|              3,2|     12,13|     0,22|    87,65|      1|     46,6|    20,34|       0,38|    0,24|   0,38|\n",
      "|    Albania |EASTERN EUROPE   ...|   3581655|         28748|                     124,6|                        1,26|        -4,93|                             21,52|              4500|        86,5|             71,2|     21,09|     4,42|    74,49|      3|    15,11|     5,22|      0,232|   0,188|  0,579|\n",
      "|    Algeria |NORTHERN AFRICA  ...|  32930091|       2381740|                      13,8|                        0,04|        -0,39|                                31|              6000|        70,0|             78,1|      3,22|     0,25|    96,53|      1|    17,14|     4,61|      0,101|     0,6|  0,298|\n",
      "+------------+--------------------+----------+--------------+--------------------------+----------------------------+-------------+----------------------------------+------------------+------------+-----------------+----------+---------+---------+-------+---------+---------+-----------+--------+-------+\n",
      "only showing top 3 rows\n",
      "\n"
     ]
    }
   ],
   "source": [
    "df.show(3)"
   ]
  },
  {
   "cell_type": "markdown",
   "metadata": {
    "colab_type": "text",
    "id": "1wN2W7E55ZQh"
   },
   "source": [
    "Посмотреть схему файла можно с помощью метода `printSchema()`"
   ]
  },
  {
   "cell_type": "code",
   "execution_count": 10,
   "metadata": {
    "colab": {},
    "colab_type": "code",
    "id": "hotRPkTT5ZQk",
    "outputId": "60ce88fc-4e16-43d9-d497-4ff834168277"
   },
   "outputs": [
    {
     "name": "stdout",
     "output_type": "stream",
     "text": [
      "root\n",
      " |-- Country: string (nullable = true)\n",
      " |-- Region: string (nullable = true)\n",
      " |-- Population: integer (nullable = true)\n",
      " |-- Area (sq. mi.): integer (nullable = true)\n",
      " |-- Pop. Density (per sq. mi.): string (nullable = true)\n",
      " |-- Coastline (coast/area ratio): string (nullable = true)\n",
      " |-- Net migration: string (nullable = true)\n",
      " |-- Infant mortality (per 1000 births): string (nullable = true)\n",
      " |-- GDP ($ per capita): integer (nullable = true)\n",
      " |-- Literacy (%): string (nullable = true)\n",
      " |-- Phones (per 1000): string (nullable = true)\n",
      " |-- Arable (%): string (nullable = true)\n",
      " |-- Crops (%): string (nullable = true)\n",
      " |-- Other (%): string (nullable = true)\n",
      " |-- Climate: string (nullable = true)\n",
      " |-- Birthrate: string (nullable = true)\n",
      " |-- Deathrate: string (nullable = true)\n",
      " |-- Agriculture: string (nullable = true)\n",
      " |-- Industry: string (nullable = true)\n",
      " |-- Service: string (nullable = true)\n",
      "\n"
     ]
    }
   ],
   "source": [
    "df.printSchema()"
   ]
  },
  {
   "cell_type": "markdown",
   "metadata": {
    "colab_type": "text",
    "id": "qhIfX4R45ZQr"
   },
   "source": [
    "Загрузка JSON файла (столицы) происходит полностью аналогично, меняются только формат файла и, возможно, набор опций (зависит от специфики файла)."
   ]
  },
  {
   "cell_type": "code",
   "execution_count": 0,
   "metadata": {
    "colab": {},
    "colab_type": "code",
    "id": "rYq4VLVw5ZQt",
    "outputId": "61ad5392-54e0-423c-81ad-27ffd6057888"
   },
   "outputs": [
    {
     "name": "stdout",
     "output_type": "stream",
     "text": [
      "+----------------+---------+-----+----------+----------+------+-------+------+---+------------+---------+------+--------+----------+---------+----+--------+----------+-----+--------+-----------+-----+------+---------+----------+--------+--------+-------------------+-----+---+--------+------+-------+---+--------+-----+--------+------+-----------+--------+------+-----------+-----+------------+------+--------+-------+-------+------+--------+------+-----+-----------+----------------+-------+------+------+--------+----------+------+-------------+-------+-----+-------+-----+--------+------+------+-----------+--------+----+-------+-------+--------+-----+----------+------+------------+-------+-------+-------------+-----+---------+----+------+-------+-----------+------+------+---------+--------------+-------+------+----------+---------+---+-----------+------+--------------+--------+-------+------+---------+--------------------+---------+------------+-------+------+---------+----+------------+--------+-----+-----+-------+-------+----------+------+------+----------+---------+-----+-----------+-----------+------+---------+------+--------+-----+-------+--------+------+-------+----------+----+--------+-----+------+--------+---------+-------+------------+------+------+------+-----------+----------+-----+------+--------------+----------+--------+--------+----------+----+--------+-----------+------------+------+--------+------+------+--------+-----+-------+---------+----+---------+-----+-----+----------+------+-----------+----+-------+------------+------+---------+------+------------+---------+--------+--------------+------+--------+--------+----+-----------+---------+--------+------+------+------+-------+--------+--------+---------+--------+---------+---------+------------+----------+--------+----------+-----+---------+----------+----+--------+------------+-----------+--------+-------+-------------+---------+-----------------+----+-------+--------+---+----+--------+-----+----------+------+-------------+--------+------+------+----+-------+---+----------+----------+--------+------------+---------+-------+---------+----------------+-----+---------+--------+----+--------+-----+---------+--------+------+------+\n",
      "|              AD|       AE|   AF|        AG|        AI|    AL|     AM|    AO| AQ|          AR|       AS|    AT|      AU|        AW|       AX|  AZ|      BA|        BB|   BD|      BE|         BF|   BG|    BH|       BI|        BJ|      BL|      BM|                 BN|   BO| BQ|      BR|    BS|     BT| BV|      BW|   BY|      BZ|    CA|         CC|      CD|    CF|         CG|   CH|          CI|    CK|      CL|     CM|     CN|    CO|      CR|    CU|   CV|         CW|              CX|     CY|    CZ|    DE|      DJ|        DK|    DM|           DO|     DZ|   EC|     EE|   EG|      EH|    ER|    ES|         ET|      FI|  FJ|     FK|     FM|      FO|   FR|        GA|    GB|          GD|     GE|     GF|           GG|   GH|       GI|  GL|    GM|     GN|         GP|    GQ|    GR|       GS|            GT|     GU|    GW|        GY|       HK| HM|         HN|    HR|            HT|      HU|     ID|    IE|       IL|                  IM|       IN|          IO|     IQ|    IR|       IS|  IT|          JE|      JM|   JO|   JP|     KE|     KG|        KH|    KI|    KM|        KN|       KP|   KR|         KW|         KY|    KZ|       LA|    LB|      LC|   LI|     LK|      LR|    LS|     LT|        LU|  LV|      LY|   MA|    MC|      MD|       ME|     MF|          MG|    MH|    MK|    ML|         MM|        MN|   MO|    MP|            MQ|        MR|      MS|      MT|        MU|  MV|      MW|         MX|          MY|    MZ|      NA|    NC|    NE|      NF|   NG|     NI|       NL|  NO|       NP|   NR|   NU|        NZ|    OM|         PA|  PE|     PF|          PG|    PH|       PK|    PL|          PM|       PN|      PR|            PS|    PT|      PW|      PY|  QA|         RE|       RO|      RS|    RU|    RW|    SA|     SB|      SC|      SD|       SE|      SG|       SH|       SI|          SJ|        SK|      SL|        SM|   SN|       SO|        SR|  SS|      ST|          SV|         SX|      SY|     SZ|           TC|       TD|               TF|  TG|     TH|      TJ| TK|  TL|      TM|   TN|        TO|    TR|           TT|      TV|    TW|    TZ|  UA|     UG| UM|        US|        UY|      UZ|          VA|       VC|     VE|       VG|              VI|   VN|       VU|      WF|  WS|      XK|   YE|       YT|      ZA|    ZM|    ZW|\n",
      "+----------------+---------+-----+----------+----------+------+-------+------+---+------------+---------+------+--------+----------+---------+----+--------+----------+-----+--------+-----------+-----+------+---------+----------+--------+--------+-------------------+-----+---+--------+------+-------+---+--------+-----+--------+------+-----------+--------+------+-----------+-----+------------+------+--------+-------+-------+------+--------+------+-----+-----------+----------------+-------+------+------+--------+----------+------+-------------+-------+-----+-------+-----+--------+------+------+-----------+--------+----+-------+-------+--------+-----+----------+------+------------+-------+-------+-------------+-----+---------+----+------+-------+-----------+------+------+---------+--------------+-------+------+----------+---------+---+-----------+------+--------------+--------+-------+------+---------+--------------------+---------+------------+-------+------+---------+----+------------+--------+-----+-----+-------+-------+----------+------+------+----------+---------+-----+-----------+-----------+------+---------+------+--------+-----+-------+--------+------+-------+----------+----+--------+-----+------+--------+---------+-------+------------+------+------+------+-----------+----------+-----+------+--------------+----------+--------+--------+----------+----+--------+-----------+------------+------+--------+------+------+--------+-----+-------+---------+----+---------+-----+-----+----------+------+-----------+----+-------+------------+------+---------+------+------------+---------+--------+--------------+------+--------+--------+----+-----------+---------+--------+------+------+------+-------+--------+--------+---------+--------+---------+---------+------------+----------+--------+----------+-----+---------+----------+----+--------+------------+-----------+--------+-------+-------------+---------+-----------------+----+-------+--------+---+----+--------+-----+----------+------+-------------+--------+------+------+----+-------+---+----------+----------+--------+------------+---------+-------+---------+----------------+-----+---------+--------+----+--------+-----+---------+--------+------+------+\n",
      "|Andorra la Vella|Abu Dhabi|Kabul|St. John's|The Valley|Tirana|Yerevan|Luanda|   |Buenos Aires|Pago Pago|Vienna|Canberra|Oranjestad|Mariehamn|Baku|Sarajevo|Bridgetown|Dhaka|Brussels|Ouagadougou|Sofia|Manama|Bujumbura|Porto-Novo|Gustavia|Hamilton|Bandar Seri Begawan|Sucre|   |Brasilia|Nassau|Thimphu|   |Gaborone|Minsk|Belmopan|Ottawa|West Island|Kinshasa|Bangui|Brazzaville|Berne|Yamoussoukro|Avarua|Santiago|Yaounde|Beijing|Bogota|San Jose|Havana|Praia| Willemstad|Flying Fish Cove|Nicosia|Prague|Berlin|Djibouti|Copenhagen|Roseau|Santo Domingo|Algiers|Quito|Tallinn|Cairo|El-Aaiun|Asmara|Madrid|Addis Ababa|Helsinki|Suva|Stanley|Palikir|Torshavn|Paris|Libreville|London|St. George's|Tbilisi|Cayenne|St Peter Port|Accra|Gibraltar|Nuuk|Banjul|Conakry|Basse-Terre|Malabo|Athens|Grytviken|Guatemala City|Hagatna|Bissau|Georgetown|Hong Kong|   |Tegucigalpa|Zagreb|Port-au-Prince|Budapest|Jakarta|Dublin|Jerusalem|Douglas, Isle of Man|New Delhi|Diego Garcia|Baghdad|Tehran|Reykjavik|Rome|Saint Helier|Kingston|Amman|Tokyo|Nairobi|Bishkek|Phnom Penh|Tarawa|Moroni|Basseterre|Pyongyang|Seoul|Kuwait City|George Town|Astana|Vientiane|Beirut|Castries|Vaduz|Colombo|Monrovia|Maseru|Vilnius|Luxembourg|Riga|Tripolis|Rabat|Monaco|Chisinau|Podgorica|Marigot|Antananarivo|Majuro|Skopje|Bamako|Nay Pyi Taw|Ulan Bator|Macao|Saipan|Fort-de-France|Nouakchott|Plymouth|Valletta|Port Louis|Male|Lilongwe|Mexico City|Kuala Lumpur|Maputo|Windhoek|Noumea|Niamey|Kingston|Abuja|Managua|Amsterdam|Oslo|Kathmandu|Yaren|Alofi|Wellington|Muscat|Panama City|Lima|Papeete|Port Moresby|Manila|Islamabad|Warsaw|Saint-Pierre|Adamstown|San Juan|East Jerusalem|Lisbon|Melekeok|Asuncion|Doha|Saint-Denis|Bucharest|Belgrade|Moscow|Kigali|Riyadh|Honiara|Victoria|Khartoum|Stockholm|Singapur|Jamestown|Ljubljana|Longyearbyen|Bratislava|Freetown|San Marino|Dakar|Mogadishu|Paramaribo|Juba|Sao Tome|San Salvador|Philipsburg|Damascus|Mbabane|Cockburn Town|N'Djamena|Port-aux-Francais|Lome|Bangkok|Dushanbe|   |Dili|Ashgabat|Tunis|Nuku'alofa|Ankara|Port of Spain|Funafuti|Taipei|Dodoma|Kiev|Kampala|   |Washington|Montevideo|Tashkent|Vatican City|Kingstown|Caracas|Road Town|Charlotte Amalie|Hanoi|Port Vila|Mata Utu|Apia|Pristina|Sanaa|Mamoudzou|Pretoria|Lusaka|Harare|\n",
      "+----------------+---------+-----+----------+----------+------+-------+------+---+------------+---------+------+--------+----------+---------+----+--------+----------+-----+--------+-----------+-----+------+---------+----------+--------+--------+-------------------+-----+---+--------+------+-------+---+--------+-----+--------+------+-----------+--------+------+-----------+-----+------------+------+--------+-------+-------+------+--------+------+-----+-----------+----------------+-------+------+------+--------+----------+------+-------------+-------+-----+-------+-----+--------+------+------+-----------+--------+----+-------+-------+--------+-----+----------+------+------------+-------+-------+-------------+-----+---------+----+------+-------+-----------+------+------+---------+--------------+-------+------+----------+---------+---+-----------+------+--------------+--------+-------+------+---------+--------------------+---------+------------+-------+------+---------+----+------------+--------+-----+-----+-------+-------+----------+------+------+----------+---------+-----+-----------+-----------+------+---------+------+--------+-----+-------+--------+------+-------+----------+----+--------+-----+------+--------+---------+-------+------------+------+------+------+-----------+----------+-----+------+--------------+----------+--------+--------+----------+----+--------+-----------+------------+------+--------+------+------+--------+-----+-------+---------+----+---------+-----+-----+----------+------+-----------+----+-------+------------+------+---------+------+------------+---------+--------+--------------+------+--------+--------+----+-----------+---------+--------+------+------+------+-------+--------+--------+---------+--------+---------+---------+------------+----------+--------+----------+-----+---------+----------+----+--------+------------+-----------+--------+-------+-------------+---------+-----------------+----+-------+--------+---+----+--------+-----+----------+------+-------------+--------+------+------+----+-------+---+----------+----------+--------+------------+---------+-------+---------+----------------+-----+---------+--------+----+--------+-----+---------+--------+------+------+\n",
      "\n"
     ]
    }
   ],
   "source": [
    "# загрузим JSON\n",
    "dfj = spark.read.format(\"json\") \\\n",
    "    .option(\"mode\", \"FAILFAST\") \\\n",
    "    .option(\"inferSchema\", \"true\") \\\n",
    "    .option(\"path\", \"./capital.json\") \\\n",
    "    .load()\n",
    "dfj.show(3)"
   ]
  },
  {
   "cell_type": "markdown",
   "metadata": {
    "colab_type": "text",
    "id": "5M70Bh_25ZQ1"
   },
   "source": [
    "Запись в файлы происходит так же просто (и универсально - нужно лишь указать формат результирующего файла)."
   ]
  },
  {
   "cell_type": "code",
   "execution_count": 0,
   "metadata": {
    "colab": {},
    "colab_type": "code",
    "id": "TUqMLmI-5ZQ3"
   },
   "outputs": [],
   "source": [
    "# цепочка обработки при записи\n",
    "df.write.format(\"csv\") \\\n",
    "    .mode(\"overwrite\") \\\n",
    "    .option(\"sep\", \"\\t\") \\\n",
    "    .save(\"./new.csv\")"
   ]
  },
  {
   "cell_type": "code",
   "execution_count": 0,
   "metadata": {
    "colab": {},
    "colab_type": "code",
    "id": "fSBbCkkq5ZQ_"
   },
   "outputs": [],
   "source": [
    "# сохраним в виде JSON\n",
    "df.write.format(\"json\") \\\n",
    "    .mode(\"overwrite\") \\\n",
    "    .save(\"./new.json\")"
   ]
  },
  {
   "cell_type": "code",
   "execution_count": 0,
   "metadata": {
    "colab": {},
    "colab_type": "code",
    "id": "xdECcPr95ZRG"
   },
   "outputs": [],
   "source": [
    "spark.stop()"
   ]
  }
 ],
 "metadata": {
  "colab": {
   "name": "03_io.ipynb",
   "provenance": []
  },
  "jupytext": {
   "encoding": "# -*- coding: utf-8 -*-",
   "formats": "ipynb,py:light"
  },
  "kernelspec": {
   "display_name": "Python 3",
   "language": "python",
   "name": "python3"
  },
  "language_info": {
   "codemirror_mode": {
    "name": "ipython",
    "version": 3
   },
   "file_extension": ".py",
   "mimetype": "text/x-python",
   "name": "python",
   "nbconvert_exporter": "python",
   "pygments_lexer": "ipython3",
   "version": "3.8.8"
  }
 },
 "nbformat": 4,
 "nbformat_minor": 1
}
