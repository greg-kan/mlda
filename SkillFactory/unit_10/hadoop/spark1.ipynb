{
 "cells": [
  {
   "cell_type": "code",
   "execution_count": 1,
   "id": "12c1a2b0",
   "metadata": {},
   "outputs": [],
   "source": [
    "import os \n",
    "os.environ[\"JAVA_HOME\"] = \"/usr/lib/jvm/java-11-openjdk-amd64\"\n",
    "os.environ[\"SPARK_HOME\"] = \"/opt/spark\""
   ]
  },
  {
   "cell_type": "code",
   "execution_count": 2,
   "id": "145983fe",
   "metadata": {},
   "outputs": [],
   "source": [
    "# !pip install -q findspark"
   ]
  },
  {
   "cell_type": "code",
   "execution_count": 3,
   "id": "e27ce248",
   "metadata": {},
   "outputs": [],
   "source": [
    "import findspark\n",
    "findspark.find()\n",
    "findspark.init()"
   ]
  },
  {
   "cell_type": "code",
   "execution_count": 4,
   "id": "a86f8aaf",
   "metadata": {},
   "outputs": [],
   "source": [
    "from pyspark.sql import SparkSession"
   ]
  },
  {
   "cell_type": "code",
   "execution_count": 5,
   "id": "db8532b9",
   "metadata": {},
   "outputs": [],
   "source": [
    "spark = SparkSession.builder\\\n",
    "        .master(\"local\")\\\n",
    "        .appName(\"Colab\")\\\n",
    "        .config('spark.ui.port', '4050')\\\n",
    "        .getOrCreate()"
   ]
  },
  {
   "cell_type": "code",
   "execution_count": 6,
   "id": "1a209e86",
   "metadata": {},
   "outputs": [
    {
     "data": {
      "text/html": [
       "\n",
       "            <div>\n",
       "                <p><b>SparkSession - in-memory</b></p>\n",
       "                \n",
       "        <div>\n",
       "            <p><b>SparkContext</b></p>\n",
       "\n",
       "            <p><a href=\"http://192.168.43.176:4050\">Spark UI</a></p>\n",
       "\n",
       "            <dl>\n",
       "              <dt>Version</dt>\n",
       "                <dd><code>v3.0.2</code></dd>\n",
       "              <dt>Master</dt>\n",
       "                <dd><code>local</code></dd>\n",
       "              <dt>AppName</dt>\n",
       "                <dd><code>Colab</code></dd>\n",
       "            </dl>\n",
       "        </div>\n",
       "        \n",
       "            </div>\n",
       "        "
      ],
      "text/plain": [
       "<pyspark.sql.session.SparkSession at 0x7f422c82b550>"
      ]
     },
     "execution_count": 6,
     "metadata": {},
     "output_type": "execute_result"
    }
   ],
   "source": [
    "from pyspark.sql import SQLContext\n",
    "sqlContext = SQLContext(spark)\n",
    "spark"
   ]
  },
  {
   "cell_type": "code",
   "execution_count": 8,
   "id": "e743efa9",
   "metadata": {},
   "outputs": [],
   "source": [
    "df = spark.read.csv(\"./Airports2.csv\", header=True, inferSchema=True)\n",
    "df.registerTempTable('df')"
   ]
  },
  {
   "cell_type": "code",
   "execution_count": 9,
   "id": "67a427fa",
   "metadata": {},
   "outputs": [
    {
     "name": "stdout",
     "output_type": "stream",
     "text": [
      "root\n",
      " |-- Origin_airport: string (nullable = true)\n",
      " |-- Destination_airport: string (nullable = true)\n",
      " |-- Origin_city: string (nullable = true)\n",
      " |-- Destination_city: string (nullable = true)\n",
      " |-- Passengers: integer (nullable = true)\n",
      " |-- Seats: integer (nullable = true)\n",
      " |-- Flights: integer (nullable = true)\n",
      " |-- Distance: integer (nullable = true)\n",
      " |-- Fly_date: string (nullable = true)\n",
      " |-- Origin_population: integer (nullable = true)\n",
      " |-- Destination_population: integer (nullable = true)\n",
      " |-- Org_airport_lat: string (nullable = true)\n",
      " |-- Org_airport_long: string (nullable = true)\n",
      " |-- Dest_airport_lat: string (nullable = true)\n",
      " |-- Dest_airport_long: string (nullable = true)\n",
      "\n"
     ]
    }
   ],
   "source": [
    "df.printSchema()"
   ]
  },
  {
   "cell_type": "code",
   "execution_count": 10,
   "id": "740317ca",
   "metadata": {},
   "outputs": [
    {
     "name": "stdout",
     "output_type": "stream",
     "text": [
      "+-------+--------------+-------------------+--------------+----------------+------------------+-----------------+------------------+-----------------+----------+-----------------+----------------------+------------------+------------------+-----------------+------------------+\n",
      "|summary|Origin_airport|Destination_airport|   Origin_city|Destination_city|        Passengers|            Seats|           Flights|         Distance|  Fly_date|Origin_population|Destination_population|   Org_airport_lat|  Org_airport_long| Dest_airport_lat| Dest_airport_long|\n",
      "+-------+--------------+-------------------+--------------+----------------+------------------+-----------------+------------------+-----------------+----------+-----------------+----------------------+------------------+------------------+-----------------+------------------+\n",
      "|  count|       3606803|            3606803|       3606803|         3606803|           3606803|          3606803|           3606803|          3606803|   3606803|          3606803|               3606803|           3606803|           3606803|          3606803|           3606803|\n",
      "|   mean|          null|               null|          null|            null|2688.9104331453646|4048.297368888736| 37.22889855642241|697.3190326724249|      null| 5871502.49894491|      5897982.44118434|37.750289955901664|-91.86177935715813|37.74090832973531|-91.83432738662697|\n",
      "| stddev|          null|               null|          null|            null|  4347.61704769634|6200.871210153885|49.619697799496414|604.4165108483492|      null|7858061.601821028|     7906127.406405261| 5.765453283976701|16.537733702683525|5.736555536048647|16.472284529884853|\n",
      "|    min|           1B1|                1B1|  Aberdeen, SD|    Aberdeen, SD|                 0|                0|                 0|                0|1990-01-01|            13005|                 12887|   19.721399307251|      -100.2860031|  19.721399307251|      -100.2860031|\n",
      "|    max|           ZZV|                ZZV|Zanesville, OH|  Zanesville, OH|             89597|           147062|              1128|             5095|2009-12-01|         38139592|              38139592|                NA|                NA|               NA|                NA|\n",
      "+-------+--------------+-------------------+--------------+----------------+------------------+-----------------+------------------+-----------------+----------+-----------------+----------------------+------------------+------------------+-----------------+------------------+\n",
      "\n"
     ]
    }
   ],
   "source": [
    "df.describe().show()"
   ]
  },
  {
   "cell_type": "code",
   "execution_count": 11,
   "id": "cc8a8f65",
   "metadata": {
    "scrolled": true
   },
   "outputs": [
    {
     "name": "stdout",
     "output_type": "stream",
     "text": [
      "+--------------+-------------------+----------+-----+\n",
      "|Origin_airport|Destination_airport|Passengers|Seats|\n",
      "+--------------+-------------------+----------+-----+\n",
      "|           MHK|                AMW|        21|   30|\n",
      "|           EUG|                RDM|        41|  396|\n",
      "|           EUG|                RDM|        88|  342|\n",
      "|           EUG|                RDM|        11|   72|\n",
      "|           MFR|                RDM|         0|   18|\n",
      "|           MFR|                RDM|        11|   18|\n",
      "|           MFR|                RDM|         2|   72|\n",
      "|           MFR|                RDM|         7|   18|\n",
      "|           MFR|                RDM|         7|   36|\n",
      "|           SEA|                RDM|         8|   18|\n",
      "|           SEA|                RDM|       453| 3128|\n",
      "|           SEA|                RDM|       784| 2720|\n",
      "|           SEA|                RDM|       749| 2992|\n",
      "|           SEA|                RDM|        11|   18|\n",
      "|           PDX|                RDM|       349|  851|\n",
      "+--------------+-------------------+----------+-----+\n",
      "only showing top 15 rows\n",
      "\n"
     ]
    }
   ],
   "source": [
    "df.select(\"Origin_airport\",\"Destination_airport\",\"Passengers\",\"Seats\").show(15)"
   ]
  },
  {
   "cell_type": "code",
   "execution_count": 16,
   "id": "8786940a",
   "metadata": {},
   "outputs": [],
   "source": [
    "from pyspark.sql import functions as F\n",
    "from pyspark.sql.functions import col\n",
    "from pyspark.sql.functions import desc"
   ]
  },
  {
   "cell_type": "code",
   "execution_count": 17,
   "id": "bbb0058a",
   "metadata": {},
   "outputs": [
    {
     "name": "stdout",
     "output_type": "stream",
     "text": [
      "+--------------+---------------+\n",
      "|Origin_airport|sum(Passengers)|\n",
      "+--------------+---------------+\n",
      "|           BGM|        1876537|\n",
      "|           CRS|             29|\n",
      "|           VWD|              0|\n",
      "|           MOR|              0|\n",
      "|           MSY|       83279662|\n",
      "|           RDG|          87401|\n",
      "|           GEG|       23872254|\n",
      "|           DRT|          75152|\n",
      "|           HVR|           1193|\n",
      "|           MML|              0|\n",
      "+--------------+---------------+\n",
      "only showing top 10 rows\n",
      "\n"
     ]
    }
   ],
   "source": [
    "airportAgg_DF = df.groupBy(\"Origin_airport\").agg(F.sum(\"Passengers\"))\n",
    "airportAgg_DF.show(10)"
   ]
  },
  {
   "cell_type": "code",
   "execution_count": null,
   "id": "27318a81",
   "metadata": {},
   "outputs": [],
   "source": []
  }
 ],
 "metadata": {
  "kernelspec": {
   "display_name": "Python 3",
   "language": "python",
   "name": "python3"
  },
  "language_info": {
   "codemirror_mode": {
    "name": "ipython",
    "version": 3
   },
   "file_extension": ".py",
   "mimetype": "text/x-python",
   "name": "python",
   "nbconvert_exporter": "python",
   "pygments_lexer": "ipython3",
   "version": "3.8.8"
  }
 },
 "nbformat": 4,
 "nbformat_minor": 5
}
