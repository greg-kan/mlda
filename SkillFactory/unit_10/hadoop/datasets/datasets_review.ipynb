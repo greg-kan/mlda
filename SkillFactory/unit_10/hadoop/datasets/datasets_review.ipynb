{
 "cells": [
  {
   "cell_type": "code",
   "execution_count": 1,
   "metadata": {},
   "outputs": [],
   "source": [
    "import os\n",
    "import numpy as np\n",
    "import pandas as pd"
   ]
  },
  {
   "cell_type": "code",
   "execution_count": 2,
   "metadata": {},
   "outputs": [],
   "source": [
    "import matplotlib.pyplot as plt\n",
    "import seaborn as sns\n",
    "%matplotlib inline"
   ]
  },
  {
   "cell_type": "code",
   "execution_count": 3,
   "metadata": {},
   "outputs": [
    {
     "name": "stdout",
     "output_type": "stream",
     "text": [
      "['continent.csv', 'Countries_of_the_World', 'countries_of_the_world.csv', 'Country_Data', 'country_name.csv', 'country_phone_code.csv', 'currency.csv', 'ddl.sql', 'iso3.csv', 'nobel.csv', 'Nobel_Laureates_1901_Present', 'worldcitiespop.csv', 'World_Cities_Database']\n"
     ]
    }
   ],
   "source": [
    "print(os.listdir('./datasets'))\n",
    "PATH_to_file = './datasets/'"
   ]
  },
  {
   "cell_type": "code",
   "execution_count": 4,
   "metadata": {},
   "outputs": [],
   "source": [
    "pd.set_option('display.max_columns', 50)\n",
    "pd.set_option('max_colwidth', 200)"
   ]
  },
  {
   "cell_type": "code",
   "execution_count": 5,
   "metadata": {},
   "outputs": [],
   "source": [
    "import json"
   ]
  },
  {
   "cell_type": "code",
   "execution_count": 6,
   "metadata": {},
   "outputs": [],
   "source": [
    "from pprint import pprint"
   ]
  },
  {
   "cell_type": "markdown",
   "metadata": {},
   "source": [
    "### Countries_of_the_World"
   ]
  },
  {
   "cell_type": "code",
   "execution_count": 7,
   "metadata": {},
   "outputs": [
    {
     "data": {
      "text/html": [
       "<div>\n",
       "<style scoped>\n",
       "    .dataframe tbody tr th:only-of-type {\n",
       "        vertical-align: middle;\n",
       "    }\n",
       "\n",
       "    .dataframe tbody tr th {\n",
       "        vertical-align: top;\n",
       "    }\n",
       "\n",
       "    .dataframe thead th {\n",
       "        text-align: right;\n",
       "    }\n",
       "</style>\n",
       "<table border=\"1\" class=\"dataframe\">\n",
       "  <thead>\n",
       "    <tr style=\"text-align: right;\">\n",
       "      <th></th>\n",
       "      <th>Country</th>\n",
       "      <th>Region</th>\n",
       "      <th>Population</th>\n",
       "      <th>Area (sq. mi.)</th>\n",
       "      <th>Pop. Density (per sq. mi.)</th>\n",
       "      <th>Coastline (coast/area ratio)</th>\n",
       "      <th>Net migration</th>\n",
       "      <th>Infant mortality (per 1000 births)</th>\n",
       "      <th>GDP ($ per capita)</th>\n",
       "      <th>Literacy (%)</th>\n",
       "      <th>Phones (per 1000)</th>\n",
       "      <th>Arable (%)</th>\n",
       "      <th>Crops (%)</th>\n",
       "      <th>Other (%)</th>\n",
       "      <th>Climate</th>\n",
       "      <th>Birthrate</th>\n",
       "      <th>Deathrate</th>\n",
       "      <th>Agriculture</th>\n",
       "      <th>Industry</th>\n",
       "      <th>Service</th>\n",
       "    </tr>\n",
       "  </thead>\n",
       "  <tbody>\n",
       "    <tr>\n",
       "      <th>0</th>\n",
       "      <td>Afghanistan</td>\n",
       "      <td>ASIA (EX. NEAR EAST)</td>\n",
       "      <td>31056997</td>\n",
       "      <td>647500</td>\n",
       "      <td>48,0</td>\n",
       "      <td>0,00</td>\n",
       "      <td>23,06</td>\n",
       "      <td>163,07</td>\n",
       "      <td>700.0</td>\n",
       "      <td>36,0</td>\n",
       "      <td>3,2</td>\n",
       "      <td>12,13</td>\n",
       "      <td>0,22</td>\n",
       "      <td>87,65</td>\n",
       "      <td>1</td>\n",
       "      <td>46,6</td>\n",
       "      <td>20,34</td>\n",
       "      <td>0,38</td>\n",
       "      <td>0,24</td>\n",
       "      <td>0,38</td>\n",
       "    </tr>\n",
       "    <tr>\n",
       "      <th>1</th>\n",
       "      <td>Albania</td>\n",
       "      <td>EASTERN EUROPE</td>\n",
       "      <td>3581655</td>\n",
       "      <td>28748</td>\n",
       "      <td>124,6</td>\n",
       "      <td>1,26</td>\n",
       "      <td>-4,93</td>\n",
       "      <td>21,52</td>\n",
       "      <td>4500.0</td>\n",
       "      <td>86,5</td>\n",
       "      <td>71,2</td>\n",
       "      <td>21,09</td>\n",
       "      <td>4,42</td>\n",
       "      <td>74,49</td>\n",
       "      <td>3</td>\n",
       "      <td>15,11</td>\n",
       "      <td>5,22</td>\n",
       "      <td>0,232</td>\n",
       "      <td>0,188</td>\n",
       "      <td>0,579</td>\n",
       "    </tr>\n",
       "    <tr>\n",
       "      <th>2</th>\n",
       "      <td>Algeria</td>\n",
       "      <td>NORTHERN AFRICA</td>\n",
       "      <td>32930091</td>\n",
       "      <td>2381740</td>\n",
       "      <td>13,8</td>\n",
       "      <td>0,04</td>\n",
       "      <td>-0,39</td>\n",
       "      <td>31</td>\n",
       "      <td>6000.0</td>\n",
       "      <td>70,0</td>\n",
       "      <td>78,1</td>\n",
       "      <td>3,22</td>\n",
       "      <td>0,25</td>\n",
       "      <td>96,53</td>\n",
       "      <td>1</td>\n",
       "      <td>17,14</td>\n",
       "      <td>4,61</td>\n",
       "      <td>0,101</td>\n",
       "      <td>0,6</td>\n",
       "      <td>0,298</td>\n",
       "    </tr>\n",
       "    <tr>\n",
       "      <th>3</th>\n",
       "      <td>American Samoa</td>\n",
       "      <td>OCEANIA</td>\n",
       "      <td>57794</td>\n",
       "      <td>199</td>\n",
       "      <td>290,4</td>\n",
       "      <td>58,29</td>\n",
       "      <td>-20,71</td>\n",
       "      <td>9,27</td>\n",
       "      <td>8000.0</td>\n",
       "      <td>97,0</td>\n",
       "      <td>259,5</td>\n",
       "      <td>10</td>\n",
       "      <td>15</td>\n",
       "      <td>75</td>\n",
       "      <td>2</td>\n",
       "      <td>22,46</td>\n",
       "      <td>3,27</td>\n",
       "      <td>NaN</td>\n",
       "      <td>NaN</td>\n",
       "      <td>NaN</td>\n",
       "    </tr>\n",
       "    <tr>\n",
       "      <th>4</th>\n",
       "      <td>Andorra</td>\n",
       "      <td>WESTERN EUROPE</td>\n",
       "      <td>71201</td>\n",
       "      <td>468</td>\n",
       "      <td>152,1</td>\n",
       "      <td>0,00</td>\n",
       "      <td>6,6</td>\n",
       "      <td>4,05</td>\n",
       "      <td>19000.0</td>\n",
       "      <td>100,0</td>\n",
       "      <td>497,2</td>\n",
       "      <td>2,22</td>\n",
       "      <td>0</td>\n",
       "      <td>97,78</td>\n",
       "      <td>3</td>\n",
       "      <td>8,71</td>\n",
       "      <td>6,25</td>\n",
       "      <td>NaN</td>\n",
       "      <td>NaN</td>\n",
       "      <td>NaN</td>\n",
       "    </tr>\n",
       "  </tbody>\n",
       "</table>\n",
       "</div>"
      ],
      "text/plain": [
       "           Country                               Region  Population  \\\n",
       "0     Afghanistan         ASIA (EX. NEAR EAST)             31056997   \n",
       "1         Albania   EASTERN EUROPE                          3581655   \n",
       "2         Algeria   NORTHERN AFRICA                        32930091   \n",
       "3  American Samoa   OCEANIA                                   57794   \n",
       "4         Andorra   WESTERN EUROPE                            71201   \n",
       "\n",
       "   Area (sq. mi.) Pop. Density (per sq. mi.) Coastline (coast/area ratio)  \\\n",
       "0          647500                       48,0                         0,00   \n",
       "1           28748                      124,6                         1,26   \n",
       "2         2381740                       13,8                         0,04   \n",
       "3             199                      290,4                        58,29   \n",
       "4             468                      152,1                         0,00   \n",
       "\n",
       "  Net migration Infant mortality (per 1000 births)  GDP ($ per capita)  \\\n",
       "0         23,06                             163,07               700.0   \n",
       "1         -4,93                              21,52              4500.0   \n",
       "2         -0,39                                 31              6000.0   \n",
       "3        -20,71                               9,27              8000.0   \n",
       "4           6,6                               4,05             19000.0   \n",
       "\n",
       "  Literacy (%) Phones (per 1000) Arable (%) Crops (%) Other (%) Climate  \\\n",
       "0         36,0               3,2      12,13      0,22     87,65       1   \n",
       "1         86,5              71,2      21,09      4,42     74,49       3   \n",
       "2         70,0              78,1       3,22      0,25     96,53       1   \n",
       "3         97,0             259,5         10        15        75       2   \n",
       "4        100,0             497,2       2,22         0     97,78       3   \n",
       "\n",
       "  Birthrate Deathrate Agriculture Industry Service  \n",
       "0      46,6     20,34        0,38     0,24    0,38  \n",
       "1     15,11      5,22       0,232    0,188   0,579  \n",
       "2     17,14      4,61       0,101      0,6   0,298  \n",
       "3     22,46      3,27         NaN      NaN     NaN  \n",
       "4      8,71      6,25         NaN      NaN     NaN  "
      ]
     },
     "execution_count": 7,
     "metadata": {},
     "output_type": "execute_result"
    }
   ],
   "source": [
    "countries_of_the_world = pd.read_csv(PATH_to_file + '/Countries_of_the_World/' + 'countries of the world.csv')\n",
    "countries_of_the_world.head()"
   ]
  },
  {
   "cell_type": "code",
   "execution_count": 8,
   "metadata": {},
   "outputs": [
    {
     "name": "stdout",
     "output_type": "stream",
     "text": [
      "<class 'pandas.core.frame.DataFrame'>\n",
      "RangeIndex: 227 entries, 0 to 226\n",
      "Data columns (total 20 columns):\n",
      " #   Column                              Non-Null Count  Dtype  \n",
      "---  ------                              --------------  -----  \n",
      " 0   Country                             227 non-null    object \n",
      " 1   Region                              227 non-null    object \n",
      " 2   Population                          227 non-null    int64  \n",
      " 3   Area (sq. mi.)                      227 non-null    int64  \n",
      " 4   Pop. Density (per sq. mi.)          227 non-null    object \n",
      " 5   Coastline (coast/area ratio)        227 non-null    object \n",
      " 6   Net migration                       224 non-null    object \n",
      " 7   Infant mortality (per 1000 births)  224 non-null    object \n",
      " 8   GDP ($ per capita)                  226 non-null    float64\n",
      " 9   Literacy (%)                        209 non-null    object \n",
      " 10  Phones (per 1000)                   223 non-null    object \n",
      " 11  Arable (%)                          225 non-null    object \n",
      " 12  Crops (%)                           225 non-null    object \n",
      " 13  Other (%)                           225 non-null    object \n",
      " 14  Climate                             205 non-null    object \n",
      " 15  Birthrate                           224 non-null    object \n",
      " 16  Deathrate                           223 non-null    object \n",
      " 17  Agriculture                         212 non-null    object \n",
      " 18  Industry                            211 non-null    object \n",
      " 19  Service                             212 non-null    object \n",
      "dtypes: float64(1), int64(2), object(17)\n",
      "memory usage: 35.6+ KB\n"
     ]
    }
   ],
   "source": [
    "countries_of_the_world.info()"
   ]
  },
  {
   "cell_type": "code",
   "execution_count": 9,
   "metadata": {},
   "outputs": [
    {
     "data": {
      "text/plain": [
       "Index(['Country', 'Region', 'Population', 'Area (sq. mi.)',\n",
       "       'Pop. Density (per sq. mi.)', 'Coastline (coast/area ratio)',\n",
       "       'Net migration', 'Infant mortality (per 1000 births)',\n",
       "       'GDP ($ per capita)', 'Literacy (%)', 'Phones (per 1000)', 'Arable (%)',\n",
       "       'Crops (%)', 'Other (%)', 'Climate', 'Birthrate', 'Deathrate',\n",
       "       'Agriculture', 'Industry', 'Service'],\n",
       "      dtype='object')"
      ]
     },
     "execution_count": 9,
     "metadata": {},
     "output_type": "execute_result"
    }
   ],
   "source": [
    "countries_of_the_world.columns"
   ]
  },
  {
   "cell_type": "code",
   "execution_count": 10,
   "metadata": {},
   "outputs": [],
   "source": [
    "countries_of_the_world.columns = ['coutry', 'region', 'population', 'area', 'pop_density', 'coastline',\n",
    "                                  'net_migration', 'infant_mortality', 'gdp', 'literacy', 'phones', 'arable',\n",
    "                                  'crops', 'other', 'climate', 'birthrate', 'deathrate', 'agriculture',\n",
    "                                  'Industry', 'service']"
   ]
  },
  {
   "cell_type": "code",
   "execution_count": 11,
   "metadata": {},
   "outputs": [
    {
     "data": {
      "text/html": [
       "<div>\n",
       "<style scoped>\n",
       "    .dataframe tbody tr th:only-of-type {\n",
       "        vertical-align: middle;\n",
       "    }\n",
       "\n",
       "    .dataframe tbody tr th {\n",
       "        vertical-align: top;\n",
       "    }\n",
       "\n",
       "    .dataframe thead th {\n",
       "        text-align: right;\n",
       "    }\n",
       "</style>\n",
       "<table border=\"1\" class=\"dataframe\">\n",
       "  <thead>\n",
       "    <tr style=\"text-align: right;\">\n",
       "      <th></th>\n",
       "      <th>coutry</th>\n",
       "      <th>region</th>\n",
       "      <th>population</th>\n",
       "      <th>area</th>\n",
       "      <th>pop_density</th>\n",
       "      <th>coastline</th>\n",
       "      <th>net_migration</th>\n",
       "      <th>infant_mortality</th>\n",
       "      <th>gdp</th>\n",
       "      <th>literacy</th>\n",
       "      <th>phones</th>\n",
       "      <th>arable</th>\n",
       "      <th>crops</th>\n",
       "      <th>other</th>\n",
       "      <th>climate</th>\n",
       "      <th>birthrate</th>\n",
       "      <th>deathrate</th>\n",
       "      <th>agriculture</th>\n",
       "      <th>Industry</th>\n",
       "      <th>service</th>\n",
       "    </tr>\n",
       "  </thead>\n",
       "  <tbody>\n",
       "    <tr>\n",
       "      <th>0</th>\n",
       "      <td>Afghanistan</td>\n",
       "      <td>ASIA (EX. NEAR EAST)</td>\n",
       "      <td>31056997</td>\n",
       "      <td>647500</td>\n",
       "      <td>48,0</td>\n",
       "      <td>0,00</td>\n",
       "      <td>23,06</td>\n",
       "      <td>163,07</td>\n",
       "      <td>700.0</td>\n",
       "      <td>36,0</td>\n",
       "      <td>3,2</td>\n",
       "      <td>12,13</td>\n",
       "      <td>0,22</td>\n",
       "      <td>87,65</td>\n",
       "      <td>1</td>\n",
       "      <td>46,6</td>\n",
       "      <td>20,34</td>\n",
       "      <td>0,38</td>\n",
       "      <td>0,24</td>\n",
       "      <td>0,38</td>\n",
       "    </tr>\n",
       "    <tr>\n",
       "      <th>1</th>\n",
       "      <td>Albania</td>\n",
       "      <td>EASTERN EUROPE</td>\n",
       "      <td>3581655</td>\n",
       "      <td>28748</td>\n",
       "      <td>124,6</td>\n",
       "      <td>1,26</td>\n",
       "      <td>-4,93</td>\n",
       "      <td>21,52</td>\n",
       "      <td>4500.0</td>\n",
       "      <td>86,5</td>\n",
       "      <td>71,2</td>\n",
       "      <td>21,09</td>\n",
       "      <td>4,42</td>\n",
       "      <td>74,49</td>\n",
       "      <td>3</td>\n",
       "      <td>15,11</td>\n",
       "      <td>5,22</td>\n",
       "      <td>0,232</td>\n",
       "      <td>0,188</td>\n",
       "      <td>0,579</td>\n",
       "    </tr>\n",
       "    <tr>\n",
       "      <th>2</th>\n",
       "      <td>Algeria</td>\n",
       "      <td>NORTHERN AFRICA</td>\n",
       "      <td>32930091</td>\n",
       "      <td>2381740</td>\n",
       "      <td>13,8</td>\n",
       "      <td>0,04</td>\n",
       "      <td>-0,39</td>\n",
       "      <td>31</td>\n",
       "      <td>6000.0</td>\n",
       "      <td>70,0</td>\n",
       "      <td>78,1</td>\n",
       "      <td>3,22</td>\n",
       "      <td>0,25</td>\n",
       "      <td>96,53</td>\n",
       "      <td>1</td>\n",
       "      <td>17,14</td>\n",
       "      <td>4,61</td>\n",
       "      <td>0,101</td>\n",
       "      <td>0,6</td>\n",
       "      <td>0,298</td>\n",
       "    </tr>\n",
       "    <tr>\n",
       "      <th>3</th>\n",
       "      <td>American Samoa</td>\n",
       "      <td>OCEANIA</td>\n",
       "      <td>57794</td>\n",
       "      <td>199</td>\n",
       "      <td>290,4</td>\n",
       "      <td>58,29</td>\n",
       "      <td>-20,71</td>\n",
       "      <td>9,27</td>\n",
       "      <td>8000.0</td>\n",
       "      <td>97,0</td>\n",
       "      <td>259,5</td>\n",
       "      <td>10</td>\n",
       "      <td>15</td>\n",
       "      <td>75</td>\n",
       "      <td>2</td>\n",
       "      <td>22,46</td>\n",
       "      <td>3,27</td>\n",
       "      <td>NaN</td>\n",
       "      <td>NaN</td>\n",
       "      <td>NaN</td>\n",
       "    </tr>\n",
       "    <tr>\n",
       "      <th>4</th>\n",
       "      <td>Andorra</td>\n",
       "      <td>WESTERN EUROPE</td>\n",
       "      <td>71201</td>\n",
       "      <td>468</td>\n",
       "      <td>152,1</td>\n",
       "      <td>0,00</td>\n",
       "      <td>6,6</td>\n",
       "      <td>4,05</td>\n",
       "      <td>19000.0</td>\n",
       "      <td>100,0</td>\n",
       "      <td>497,2</td>\n",
       "      <td>2,22</td>\n",
       "      <td>0</td>\n",
       "      <td>97,78</td>\n",
       "      <td>3</td>\n",
       "      <td>8,71</td>\n",
       "      <td>6,25</td>\n",
       "      <td>NaN</td>\n",
       "      <td>NaN</td>\n",
       "      <td>NaN</td>\n",
       "    </tr>\n",
       "  </tbody>\n",
       "</table>\n",
       "</div>"
      ],
      "text/plain": [
       "            coutry                               region  population     area  \\\n",
       "0     Afghanistan         ASIA (EX. NEAR EAST)             31056997   647500   \n",
       "1         Albania   EASTERN EUROPE                          3581655    28748   \n",
       "2         Algeria   NORTHERN AFRICA                        32930091  2381740   \n",
       "3  American Samoa   OCEANIA                                   57794      199   \n",
       "4         Andorra   WESTERN EUROPE                            71201      468   \n",
       "\n",
       "  pop_density coastline net_migration infant_mortality      gdp literacy  \\\n",
       "0        48,0      0,00         23,06           163,07    700.0     36,0   \n",
       "1       124,6      1,26         -4,93            21,52   4500.0     86,5   \n",
       "2        13,8      0,04         -0,39               31   6000.0     70,0   \n",
       "3       290,4     58,29        -20,71             9,27   8000.0     97,0   \n",
       "4       152,1      0,00           6,6             4,05  19000.0    100,0   \n",
       "\n",
       "  phones arable crops  other climate birthrate deathrate agriculture Industry  \\\n",
       "0    3,2  12,13  0,22  87,65       1      46,6     20,34        0,38     0,24   \n",
       "1   71,2  21,09  4,42  74,49       3     15,11      5,22       0,232    0,188   \n",
       "2   78,1   3,22  0,25  96,53       1     17,14      4,61       0,101      0,6   \n",
       "3  259,5     10    15     75       2     22,46      3,27         NaN      NaN   \n",
       "4  497,2   2,22     0  97,78       3      8,71      6,25         NaN      NaN   \n",
       "\n",
       "  service  \n",
       "0    0,38  \n",
       "1   0,579  \n",
       "2   0,298  \n",
       "3     NaN  \n",
       "4     NaN  "
      ]
     },
     "execution_count": 11,
     "metadata": {},
     "output_type": "execute_result"
    }
   ],
   "source": [
    "countries_of_the_world.head()"
   ]
  },
  {
   "cell_type": "code",
   "execution_count": 12,
   "metadata": {},
   "outputs": [],
   "source": [
    "countries_of_the_world.to_csv(PATH_to_file + 'countries_of_the_world.csv', index=False)"
   ]
  },
  {
   "cell_type": "code",
   "execution_count": 13,
   "metadata": {},
   "outputs": [
    {
     "data": {
      "text/plain": [
       "2      111\n",
       "3       48\n",
       "1       29\n",
       "1,5      8\n",
       "4        6\n",
       "2,5      3\n",
       "Name: climate, dtype: int64"
      ]
     },
     "execution_count": 13,
     "metadata": {},
     "output_type": "execute_result"
    }
   ],
   "source": [
    "countries_of_the_world.climate.value_counts()"
   ]
  },
  {
   "cell_type": "markdown",
   "metadata": {},
   "source": [
    "### Country_Data"
   ]
  },
  {
   "cell_type": "markdown",
   "metadata": {},
   "source": [
    "#### continent"
   ]
  },
  {
   "cell_type": "code",
   "execution_count": 14,
   "metadata": {},
   "outputs": [],
   "source": [
    "with open(PATH_to_file + '/Country_Data/' + 'continent.json') as f:\n",
    "    continent_json = json.load(f)"
   ]
  },
  {
   "cell_type": "code",
   "execution_count": 15,
   "metadata": {},
   "outputs": [
    {
     "name": "stdout",
     "output_type": "stream",
     "text": [
      "{'AD': 'EU',\n",
      " 'AE': 'AS',\n",
      " 'AF': 'AS',\n",
      " 'AG': 'NA',\n",
      " 'AI': 'NA',\n",
      " 'AL': 'EU',\n",
      " 'AM': 'AS',\n",
      " 'AO': 'AF',\n",
      " 'AQ': 'AN',\n",
      " 'AR': 'SA',\n",
      " 'AS': 'OC',\n",
      " 'AT': 'EU',\n",
      " 'AU': 'OC',\n",
      " 'AW': 'NA',\n",
      " 'AX': 'EU',\n",
      " 'AZ': 'AS',\n",
      " 'BA': 'EU',\n",
      " 'BB': 'NA',\n",
      " 'BD': 'AS',\n",
      " 'BE': 'EU',\n",
      " 'BF': 'AF',\n",
      " 'BG': 'EU',\n",
      " 'BH': 'AS',\n",
      " 'BI': 'AF',\n",
      " 'BJ': 'AF',\n",
      " 'BL': 'NA',\n",
      " 'BM': 'NA',\n",
      " 'BN': 'AS',\n",
      " 'BO': 'SA',\n",
      " 'BQ': 'NA',\n",
      " 'BR': 'SA',\n",
      " 'BS': 'NA',\n",
      " 'BT': 'AS',\n",
      " 'BV': 'AN',\n",
      " 'BW': 'AF',\n",
      " 'BY': 'EU',\n",
      " 'BZ': 'NA',\n",
      " 'CA': 'NA',\n",
      " 'CC': 'AS',\n",
      " 'CD': 'AF',\n",
      " 'CF': 'AF',\n",
      " 'CG': 'AF',\n",
      " 'CH': 'EU',\n",
      " 'CI': 'AF',\n",
      " 'CK': 'OC',\n",
      " 'CL': 'SA',\n",
      " 'CM': 'AF',\n",
      " 'CN': 'AS',\n",
      " 'CO': 'SA',\n",
      " 'CR': 'NA',\n",
      " 'CU': 'NA',\n",
      " 'CV': 'AF',\n",
      " 'CW': 'NA',\n",
      " 'CX': 'AS',\n",
      " 'CY': 'EU',\n",
      " 'CZ': 'EU',\n",
      " 'DE': 'EU',\n",
      " 'DJ': 'AF',\n",
      " 'DK': 'EU',\n",
      " 'DM': 'NA',\n",
      " 'DO': 'NA',\n",
      " 'DZ': 'AF',\n",
      " 'EC': 'SA',\n",
      " 'EE': 'EU',\n",
      " 'EG': 'AF',\n",
      " 'EH': 'AF',\n",
      " 'ER': 'AF',\n",
      " 'ES': 'EU',\n",
      " 'ET': 'AF',\n",
      " 'FI': 'EU',\n",
      " 'FJ': 'OC',\n",
      " 'FK': 'SA',\n",
      " 'FM': 'OC',\n",
      " 'FO': 'EU',\n",
      " 'FR': 'EU',\n",
      " 'GA': 'AF',\n",
      " 'GB': 'EU',\n",
      " 'GD': 'NA',\n",
      " 'GE': 'AS',\n",
      " 'GF': 'SA',\n",
      " 'GG': 'EU',\n",
      " 'GH': 'AF',\n",
      " 'GI': 'EU',\n",
      " 'GL': 'NA',\n",
      " 'GM': 'AF',\n",
      " 'GN': 'AF',\n",
      " 'GP': 'NA',\n",
      " 'GQ': 'AF',\n",
      " 'GR': 'EU',\n",
      " 'GS': 'AN',\n",
      " 'GT': 'NA',\n",
      " 'GU': 'OC',\n",
      " 'GW': 'AF',\n",
      " 'GY': 'SA',\n",
      " 'HK': 'AS',\n",
      " 'HM': 'AN',\n",
      " 'HN': 'NA',\n",
      " 'HR': 'EU',\n",
      " 'HT': 'NA',\n",
      " 'HU': 'EU',\n",
      " 'ID': 'AS',\n",
      " 'IE': 'EU',\n",
      " 'IL': 'AS',\n",
      " 'IM': 'EU',\n",
      " 'IN': 'AS',\n",
      " 'IO': 'AS',\n",
      " 'IQ': 'AS',\n",
      " 'IR': 'AS',\n",
      " 'IS': 'EU',\n",
      " 'IT': 'EU',\n",
      " 'JE': 'EU',\n",
      " 'JM': 'NA',\n",
      " 'JO': 'AS',\n",
      " 'JP': 'AS',\n",
      " 'KE': 'AF',\n",
      " 'KG': 'AS',\n",
      " 'KH': 'AS',\n",
      " 'KI': 'OC',\n",
      " 'KM': 'AF',\n",
      " 'KN': 'NA',\n",
      " 'KP': 'AS',\n",
      " 'KR': 'AS',\n",
      " 'KW': 'AS',\n",
      " 'KY': 'NA',\n",
      " 'KZ': 'AS',\n",
      " 'LA': 'AS',\n",
      " 'LB': 'AS',\n",
      " 'LC': 'NA',\n",
      " 'LI': 'EU',\n",
      " 'LK': 'AS',\n",
      " 'LR': 'AF',\n",
      " 'LS': 'AF',\n",
      " 'LT': 'EU',\n",
      " 'LU': 'EU',\n",
      " 'LV': 'EU',\n",
      " 'LY': 'AF',\n",
      " 'MA': 'AF',\n",
      " 'MC': 'EU',\n",
      " 'MD': 'EU',\n",
      " 'ME': 'EU',\n",
      " 'MF': 'NA',\n",
      " 'MG': 'AF',\n",
      " 'MH': 'OC',\n",
      " 'MK': 'EU',\n",
      " 'ML': 'AF',\n",
      " 'MM': 'AS',\n",
      " 'MN': 'AS',\n",
      " 'MO': 'AS',\n",
      " 'MP': 'OC',\n",
      " 'MQ': 'NA',\n",
      " 'MR': 'AF',\n",
      " 'MS': 'NA',\n",
      " 'MT': 'EU',\n",
      " 'MU': 'AF',\n",
      " 'MV': 'AS',\n",
      " 'MW': 'AF',\n",
      " 'MX': 'NA',\n",
      " 'MY': 'AS',\n",
      " 'MZ': 'AF',\n",
      " 'NA': 'AF',\n",
      " 'NC': 'OC',\n",
      " 'NE': 'AF',\n",
      " 'NF': 'OC',\n",
      " 'NG': 'AF',\n",
      " 'NI': 'NA',\n",
      " 'NL': 'EU',\n",
      " 'NO': 'EU',\n",
      " 'NP': 'AS',\n",
      " 'NR': 'OC',\n",
      " 'NU': 'OC',\n",
      " 'NZ': 'OC',\n",
      " 'OM': 'AS',\n",
      " 'PA': 'NA',\n",
      " 'PE': 'SA',\n",
      " 'PF': 'OC',\n",
      " 'PG': 'OC',\n",
      " 'PH': 'AS',\n",
      " 'PK': 'AS',\n",
      " 'PL': 'EU',\n",
      " 'PM': 'NA',\n",
      " 'PN': 'OC',\n",
      " 'PR': 'NA',\n",
      " 'PS': 'AS',\n",
      " 'PT': 'EU',\n",
      " 'PW': 'OC',\n",
      " 'PY': 'SA',\n",
      " 'QA': 'AS',\n",
      " 'RE': 'AF',\n",
      " 'RO': 'EU',\n",
      " 'RS': 'EU',\n",
      " 'RU': 'EU',\n",
      " 'RW': 'AF',\n",
      " 'SA': 'AS',\n",
      " 'SB': 'OC',\n",
      " 'SC': 'AF',\n",
      " 'SD': 'AF',\n",
      " 'SE': 'EU',\n",
      " 'SG': 'AS',\n",
      " 'SH': 'AF',\n",
      " 'SI': 'EU',\n",
      " 'SJ': 'EU',\n",
      " 'SK': 'EU',\n",
      " 'SL': 'AF',\n",
      " 'SM': 'EU',\n",
      " 'SN': 'AF',\n",
      " 'SO': 'AF',\n",
      " 'SR': 'SA',\n",
      " 'SS': 'AF',\n",
      " 'ST': 'AF',\n",
      " 'SV': 'NA',\n",
      " 'SX': 'NA',\n",
      " 'SY': 'AS',\n",
      " 'SZ': 'AF',\n",
      " 'TC': 'NA',\n",
      " 'TD': 'AF',\n",
      " 'TF': 'AN',\n",
      " 'TG': 'AF',\n",
      " 'TH': 'AS',\n",
      " 'TJ': 'AS',\n",
      " 'TK': 'OC',\n",
      " 'TL': 'OC',\n",
      " 'TM': 'AS',\n",
      " 'TN': 'AF',\n",
      " 'TO': 'OC',\n",
      " 'TR': 'AS',\n",
      " 'TT': 'NA',\n",
      " 'TV': 'OC',\n",
      " 'TW': 'AS',\n",
      " 'TZ': 'AF',\n",
      " 'UA': 'EU',\n",
      " 'UG': 'AF',\n",
      " 'UM': 'OC',\n",
      " 'US': 'NA',\n",
      " 'UY': 'SA',\n",
      " 'UZ': 'AS',\n",
      " 'VA': 'EU',\n",
      " 'VC': 'NA',\n",
      " 'VE': 'SA',\n",
      " 'VG': 'NA',\n",
      " 'VI': 'NA',\n",
      " 'VN': 'AS',\n",
      " 'VU': 'OC',\n",
      " 'WF': 'OC',\n",
      " 'WS': 'OC',\n",
      " 'XK': 'EU',\n",
      " 'YE': 'AS',\n",
      " 'YT': 'AF',\n",
      " 'ZA': 'AF',\n",
      " 'ZM': 'AF',\n",
      " 'ZW': 'AF'}\n"
     ]
    }
   ],
   "source": [
    "pprint(continent_json)"
   ]
  },
  {
   "cell_type": "code",
   "execution_count": 16,
   "metadata": {},
   "outputs": [],
   "source": [
    "continent = pd.read_json(PATH_to_file + '/Country_Data/' + 'continent.json', typ='series')\n",
    "#continent = pd.DataFrame({'column_x': continent_json})"
   ]
  },
  {
   "cell_type": "code",
   "execution_count": 17,
   "metadata": {},
   "outputs": [
    {
     "data": {
      "text/plain": [
       "BD    AS\n",
       "BE    EU\n",
       "BF    AF\n",
       "BG    EU\n",
       "BA    EU\n",
       "BB    NA\n",
       "dtype: object"
      ]
     },
     "execution_count": 17,
     "metadata": {},
     "output_type": "execute_result"
    }
   ],
   "source": [
    "continent.head(6)"
   ]
  },
  {
   "cell_type": "code",
   "execution_count": 18,
   "metadata": {},
   "outputs": [
    {
     "data": {
      "text/html": [
       "<div>\n",
       "<style scoped>\n",
       "    .dataframe tbody tr th:only-of-type {\n",
       "        vertical-align: middle;\n",
       "    }\n",
       "\n",
       "    .dataframe tbody tr th {\n",
       "        vertical-align: top;\n",
       "    }\n",
       "\n",
       "    .dataframe thead th {\n",
       "        text-align: right;\n",
       "    }\n",
       "</style>\n",
       "<table border=\"1\" class=\"dataframe\">\n",
       "  <thead>\n",
       "    <tr style=\"text-align: right;\">\n",
       "      <th></th>\n",
       "      <th>index</th>\n",
       "      <th>0</th>\n",
       "    </tr>\n",
       "  </thead>\n",
       "  <tbody>\n",
       "    <tr>\n",
       "      <th>0</th>\n",
       "      <td>BD</td>\n",
       "      <td>AS</td>\n",
       "    </tr>\n",
       "    <tr>\n",
       "      <th>1</th>\n",
       "      <td>BE</td>\n",
       "      <td>EU</td>\n",
       "    </tr>\n",
       "    <tr>\n",
       "      <th>2</th>\n",
       "      <td>BF</td>\n",
       "      <td>AF</td>\n",
       "    </tr>\n",
       "    <tr>\n",
       "      <th>3</th>\n",
       "      <td>BG</td>\n",
       "      <td>EU</td>\n",
       "    </tr>\n",
       "    <tr>\n",
       "      <th>4</th>\n",
       "      <td>BA</td>\n",
       "      <td>EU</td>\n",
       "    </tr>\n",
       "  </tbody>\n",
       "</table>\n",
       "</div>"
      ],
      "text/plain": [
       "  index   0\n",
       "0    BD  AS\n",
       "1    BE  EU\n",
       "2    BF  AF\n",
       "3    BG  EU\n",
       "4    BA  EU"
      ]
     },
     "execution_count": 18,
     "metadata": {},
     "output_type": "execute_result"
    }
   ],
   "source": [
    "continent = continent.to_frame()\n",
    "continent.reset_index(inplace=True)\n",
    "\n",
    "continent.head()"
   ]
  },
  {
   "cell_type": "code",
   "execution_count": 19,
   "metadata": {},
   "outputs": [
    {
     "data": {
      "text/html": [
       "<div>\n",
       "<style scoped>\n",
       "    .dataframe tbody tr th:only-of-type {\n",
       "        vertical-align: middle;\n",
       "    }\n",
       "\n",
       "    .dataframe tbody tr th {\n",
       "        vertical-align: top;\n",
       "    }\n",
       "\n",
       "    .dataframe thead th {\n",
       "        text-align: right;\n",
       "    }\n",
       "</style>\n",
       "<table border=\"1\" class=\"dataframe\">\n",
       "  <thead>\n",
       "    <tr style=\"text-align: right;\">\n",
       "      <th></th>\n",
       "      <th>country</th>\n",
       "      <th>continent</th>\n",
       "    </tr>\n",
       "  </thead>\n",
       "  <tbody>\n",
       "    <tr>\n",
       "      <th>0</th>\n",
       "      <td>BD</td>\n",
       "      <td>AS</td>\n",
       "    </tr>\n",
       "    <tr>\n",
       "      <th>1</th>\n",
       "      <td>BE</td>\n",
       "      <td>EU</td>\n",
       "    </tr>\n",
       "    <tr>\n",
       "      <th>2</th>\n",
       "      <td>BF</td>\n",
       "      <td>AF</td>\n",
       "    </tr>\n",
       "    <tr>\n",
       "      <th>3</th>\n",
       "      <td>BG</td>\n",
       "      <td>EU</td>\n",
       "    </tr>\n",
       "    <tr>\n",
       "      <th>4</th>\n",
       "      <td>BA</td>\n",
       "      <td>EU</td>\n",
       "    </tr>\n",
       "  </tbody>\n",
       "</table>\n",
       "</div>"
      ],
      "text/plain": [
       "  country continent\n",
       "0      BD        AS\n",
       "1      BE        EU\n",
       "2      BF        AF\n",
       "3      BG        EU\n",
       "4      BA        EU"
      ]
     },
     "execution_count": 19,
     "metadata": {},
     "output_type": "execute_result"
    }
   ],
   "source": [
    "continent = continent.rename(columns = {'index':'country', 0:'continent'})\n",
    "continent.head()"
   ]
  },
  {
   "cell_type": "code",
   "execution_count": 20,
   "metadata": {},
   "outputs": [
    {
     "data": {
      "text/plain": [
       "AF    58\n",
       "EU    53\n",
       "AS    52\n",
       "NA    41\n",
       "OC    27\n",
       "SA    14\n",
       "AN     5\n",
       "Name: continent, dtype: int64"
      ]
     },
     "execution_count": 20,
     "metadata": {},
     "output_type": "execute_result"
    }
   ],
   "source": [
    "continent.continent.value_counts(dropna=False)"
   ]
  },
  {
   "cell_type": "code",
   "execution_count": 21,
   "metadata": {},
   "outputs": [
    {
     "data": {
      "text/plain": [
       "TM    1\n",
       "LU    1\n",
       "IT    1\n",
       "NZ    1\n",
       "SY    1\n",
       "     ..\n",
       "UA    1\n",
       "LR    1\n",
       "TN    1\n",
       "CH    1\n",
       "PS    1\n",
       "Name: country, Length: 250, dtype: int64"
      ]
     },
     "execution_count": 21,
     "metadata": {},
     "output_type": "execute_result"
    }
   ],
   "source": [
    "continent.country.value_counts(dropna=False)"
   ]
  },
  {
   "cell_type": "code",
   "execution_count": 22,
   "metadata": {},
   "outputs": [
    {
     "data": {
      "text/html": [
       "<div>\n",
       "<style scoped>\n",
       "    .dataframe tbody tr th:only-of-type {\n",
       "        vertical-align: middle;\n",
       "    }\n",
       "\n",
       "    .dataframe tbody tr th {\n",
       "        vertical-align: top;\n",
       "    }\n",
       "\n",
       "    .dataframe thead th {\n",
       "        text-align: right;\n",
       "    }\n",
       "</style>\n",
       "<table border=\"1\" class=\"dataframe\">\n",
       "  <thead>\n",
       "    <tr style=\"text-align: right;\">\n",
       "      <th></th>\n",
       "      <th>country</th>\n",
       "      <th>continent</th>\n",
       "    </tr>\n",
       "  </thead>\n",
       "  <tbody>\n",
       "    <tr>\n",
       "      <th>16</th>\n",
       "      <td>BV</td>\n",
       "      <td>AN</td>\n",
       "    </tr>\n",
       "    <tr>\n",
       "      <th>37</th>\n",
       "      <td>GS</td>\n",
       "      <td>AN</td>\n",
       "    </tr>\n",
       "    <tr>\n",
       "      <th>63</th>\n",
       "      <td>HM</td>\n",
       "      <td>AN</td>\n",
       "    </tr>\n",
       "    <tr>\n",
       "      <th>218</th>\n",
       "      <td>TF</td>\n",
       "      <td>AN</td>\n",
       "    </tr>\n",
       "    <tr>\n",
       "      <th>236</th>\n",
       "      <td>AQ</td>\n",
       "      <td>AN</td>\n",
       "    </tr>\n",
       "  </tbody>\n",
       "</table>\n",
       "</div>"
      ],
      "text/plain": [
       "    country continent\n",
       "16       BV        AN\n",
       "37       GS        AN\n",
       "63       HM        AN\n",
       "218      TF        AN\n",
       "236      AQ        AN"
      ]
     },
     "execution_count": 22,
     "metadata": {},
     "output_type": "execute_result"
    }
   ],
   "source": [
    "continent[continent.continent == 'AN']"
   ]
  },
  {
   "cell_type": "code",
   "execution_count": 23,
   "metadata": {},
   "outputs": [],
   "source": [
    "continent.to_csv(PATH_to_file + 'continent.csv', index=False)"
   ]
  },
  {
   "cell_type": "markdown",
   "metadata": {},
   "source": [
    "#### currency"
   ]
  },
  {
   "cell_type": "code",
   "execution_count": 24,
   "metadata": {},
   "outputs": [
    {
     "data": {
      "text/plain": [
       "BD    BDT\n",
       "BE    EUR\n",
       "BF    XOF\n",
       "BG    BGN\n",
       "BA    BAM\n",
       "dtype: object"
      ]
     },
     "execution_count": 24,
     "metadata": {},
     "output_type": "execute_result"
    }
   ],
   "source": [
    "currency = pd.read_json(PATH_to_file + '/Country_Data/' + 'currency.json', typ='series')\n",
    "currency.head()"
   ]
  },
  {
   "cell_type": "code",
   "execution_count": 25,
   "metadata": {},
   "outputs": [
    {
     "data": {
      "text/html": [
       "<div>\n",
       "<style scoped>\n",
       "    .dataframe tbody tr th:only-of-type {\n",
       "        vertical-align: middle;\n",
       "    }\n",
       "\n",
       "    .dataframe tbody tr th {\n",
       "        vertical-align: top;\n",
       "    }\n",
       "\n",
       "    .dataframe thead th {\n",
       "        text-align: right;\n",
       "    }\n",
       "</style>\n",
       "<table border=\"1\" class=\"dataframe\">\n",
       "  <thead>\n",
       "    <tr style=\"text-align: right;\">\n",
       "      <th></th>\n",
       "      <th>country</th>\n",
       "      <th>currency</th>\n",
       "    </tr>\n",
       "  </thead>\n",
       "  <tbody>\n",
       "    <tr>\n",
       "      <th>0</th>\n",
       "      <td>BD</td>\n",
       "      <td>BDT</td>\n",
       "    </tr>\n",
       "    <tr>\n",
       "      <th>1</th>\n",
       "      <td>BE</td>\n",
       "      <td>EUR</td>\n",
       "    </tr>\n",
       "    <tr>\n",
       "      <th>2</th>\n",
       "      <td>BF</td>\n",
       "      <td>XOF</td>\n",
       "    </tr>\n",
       "    <tr>\n",
       "      <th>3</th>\n",
       "      <td>BG</td>\n",
       "      <td>BGN</td>\n",
       "    </tr>\n",
       "    <tr>\n",
       "      <th>4</th>\n",
       "      <td>BA</td>\n",
       "      <td>BAM</td>\n",
       "    </tr>\n",
       "  </tbody>\n",
       "</table>\n",
       "</div>"
      ],
      "text/plain": [
       "  country currency\n",
       "0      BD      BDT\n",
       "1      BE      EUR\n",
       "2      BF      XOF\n",
       "3      BG      BGN\n",
       "4      BA      BAM"
      ]
     },
     "execution_count": 25,
     "metadata": {},
     "output_type": "execute_result"
    }
   ],
   "source": [
    "currency = currency.to_frame()\n",
    "currency.reset_index(inplace=True)\n",
    "currency = currency.rename(columns = {'index':'country', 0:'currency'})\n",
    "currency.head()"
   ]
  },
  {
   "cell_type": "code",
   "execution_count": 26,
   "metadata": {},
   "outputs": [],
   "source": [
    "currency.to_csv(PATH_to_file + 'currency.csv', index=False)"
   ]
  },
  {
   "cell_type": "markdown",
   "metadata": {},
   "source": [
    "#### iso3"
   ]
  },
  {
   "cell_type": "code",
   "execution_count": 27,
   "metadata": {},
   "outputs": [
    {
     "data": {
      "text/plain": [
       "BD    BGD\n",
       "BE    BEL\n",
       "BF    BFA\n",
       "BG    BGR\n",
       "BA    BIH\n",
       "dtype: object"
      ]
     },
     "execution_count": 27,
     "metadata": {},
     "output_type": "execute_result"
    }
   ],
   "source": [
    "iso3 = pd.read_json(PATH_to_file + '/Country_Data/' + 'iso3.json', typ='series')\n",
    "iso3.head()"
   ]
  },
  {
   "cell_type": "code",
   "execution_count": 28,
   "metadata": {},
   "outputs": [
    {
     "data": {
      "text/html": [
       "<div>\n",
       "<style scoped>\n",
       "    .dataframe tbody tr th:only-of-type {\n",
       "        vertical-align: middle;\n",
       "    }\n",
       "\n",
       "    .dataframe tbody tr th {\n",
       "        vertical-align: top;\n",
       "    }\n",
       "\n",
       "    .dataframe thead th {\n",
       "        text-align: right;\n",
       "    }\n",
       "</style>\n",
       "<table border=\"1\" class=\"dataframe\">\n",
       "  <thead>\n",
       "    <tr style=\"text-align: right;\">\n",
       "      <th></th>\n",
       "      <th>country</th>\n",
       "      <th>iso3</th>\n",
       "    </tr>\n",
       "  </thead>\n",
       "  <tbody>\n",
       "    <tr>\n",
       "      <th>0</th>\n",
       "      <td>BD</td>\n",
       "      <td>BGD</td>\n",
       "    </tr>\n",
       "    <tr>\n",
       "      <th>1</th>\n",
       "      <td>BE</td>\n",
       "      <td>BEL</td>\n",
       "    </tr>\n",
       "    <tr>\n",
       "      <th>2</th>\n",
       "      <td>BF</td>\n",
       "      <td>BFA</td>\n",
       "    </tr>\n",
       "    <tr>\n",
       "      <th>3</th>\n",
       "      <td>BG</td>\n",
       "      <td>BGR</td>\n",
       "    </tr>\n",
       "    <tr>\n",
       "      <th>4</th>\n",
       "      <td>BA</td>\n",
       "      <td>BIH</td>\n",
       "    </tr>\n",
       "  </tbody>\n",
       "</table>\n",
       "</div>"
      ],
      "text/plain": [
       "  country iso3\n",
       "0      BD  BGD\n",
       "1      BE  BEL\n",
       "2      BF  BFA\n",
       "3      BG  BGR\n",
       "4      BA  BIH"
      ]
     },
     "execution_count": 28,
     "metadata": {},
     "output_type": "execute_result"
    }
   ],
   "source": [
    "iso3 = iso3.to_frame()\n",
    "iso3.reset_index(inplace=True)\n",
    "iso3 = iso3.rename(columns = {'index':'country', 0:'iso3'})\n",
    "iso3.head()"
   ]
  },
  {
   "cell_type": "code",
   "execution_count": 29,
   "metadata": {},
   "outputs": [],
   "source": [
    "iso3.to_csv(PATH_to_file + 'iso3.csv', index=False)"
   ]
  },
  {
   "cell_type": "markdown",
   "metadata": {},
   "source": [
    "#### names"
   ]
  },
  {
   "cell_type": "code",
   "execution_count": 30,
   "metadata": {},
   "outputs": [
    {
     "data": {
      "text/plain": [
       "BD                Bangladesh\n",
       "BE                   Belgium\n",
       "BF              Burkina Faso\n",
       "BG                  Bulgaria\n",
       "BA    Bosnia and Herzegovina\n",
       "dtype: object"
      ]
     },
     "execution_count": 30,
     "metadata": {},
     "output_type": "execute_result"
    }
   ],
   "source": [
    "names = pd.read_json(PATH_to_file + '/Country_Data/' + 'names.json', typ='series')\n",
    "names.head()"
   ]
  },
  {
   "cell_type": "code",
   "execution_count": 31,
   "metadata": {},
   "outputs": [
    {
     "data": {
      "text/html": [
       "<div>\n",
       "<style scoped>\n",
       "    .dataframe tbody tr th:only-of-type {\n",
       "        vertical-align: middle;\n",
       "    }\n",
       "\n",
       "    .dataframe tbody tr th {\n",
       "        vertical-align: top;\n",
       "    }\n",
       "\n",
       "    .dataframe thead th {\n",
       "        text-align: right;\n",
       "    }\n",
       "</style>\n",
       "<table border=\"1\" class=\"dataframe\">\n",
       "  <thead>\n",
       "    <tr style=\"text-align: right;\">\n",
       "      <th></th>\n",
       "      <th>country</th>\n",
       "      <th>name</th>\n",
       "    </tr>\n",
       "  </thead>\n",
       "  <tbody>\n",
       "    <tr>\n",
       "      <th>0</th>\n",
       "      <td>BD</td>\n",
       "      <td>Bangladesh</td>\n",
       "    </tr>\n",
       "    <tr>\n",
       "      <th>1</th>\n",
       "      <td>BE</td>\n",
       "      <td>Belgium</td>\n",
       "    </tr>\n",
       "    <tr>\n",
       "      <th>2</th>\n",
       "      <td>BF</td>\n",
       "      <td>Burkina Faso</td>\n",
       "    </tr>\n",
       "    <tr>\n",
       "      <th>3</th>\n",
       "      <td>BG</td>\n",
       "      <td>Bulgaria</td>\n",
       "    </tr>\n",
       "    <tr>\n",
       "      <th>4</th>\n",
       "      <td>BA</td>\n",
       "      <td>Bosnia and Herzegovina</td>\n",
       "    </tr>\n",
       "  </tbody>\n",
       "</table>\n",
       "</div>"
      ],
      "text/plain": [
       "  country                    name\n",
       "0      BD              Bangladesh\n",
       "1      BE                 Belgium\n",
       "2      BF            Burkina Faso\n",
       "3      BG                Bulgaria\n",
       "4      BA  Bosnia and Herzegovina"
      ]
     },
     "execution_count": 31,
     "metadata": {},
     "output_type": "execute_result"
    }
   ],
   "source": [
    "country_name = names.to_frame()\n",
    "country_name.reset_index(inplace=True)\n",
    "country_name = country_name.rename(columns = {'index':'country', 0:'name'})\n",
    "country_name.head()"
   ]
  },
  {
   "cell_type": "code",
   "execution_count": 32,
   "metadata": {},
   "outputs": [],
   "source": [
    "country_name.to_csv(PATH_to_file + 'country_name.csv', index=False)"
   ]
  },
  {
   "cell_type": "markdown",
   "metadata": {},
   "source": [
    "#### phone"
   ]
  },
  {
   "cell_type": "code",
   "execution_count": 33,
   "metadata": {},
   "outputs": [
    {
     "data": {
      "text/plain": [
       "BD    880\n",
       "BE     32\n",
       "BF    226\n",
       "BG    359\n",
       "BA    387\n",
       "dtype: object"
      ]
     },
     "execution_count": 33,
     "metadata": {},
     "output_type": "execute_result"
    }
   ],
   "source": [
    "phone = pd.read_json(PATH_to_file + '/Country_Data/' + 'phone.json', typ='series')\n",
    "phone.head()"
   ]
  },
  {
   "cell_type": "code",
   "execution_count": 34,
   "metadata": {},
   "outputs": [
    {
     "data": {
      "text/html": [
       "<div>\n",
       "<style scoped>\n",
       "    .dataframe tbody tr th:only-of-type {\n",
       "        vertical-align: middle;\n",
       "    }\n",
       "\n",
       "    .dataframe tbody tr th {\n",
       "        vertical-align: top;\n",
       "    }\n",
       "\n",
       "    .dataframe thead th {\n",
       "        text-align: right;\n",
       "    }\n",
       "</style>\n",
       "<table border=\"1\" class=\"dataframe\">\n",
       "  <thead>\n",
       "    <tr style=\"text-align: right;\">\n",
       "      <th></th>\n",
       "      <th>country</th>\n",
       "      <th>phone_code</th>\n",
       "    </tr>\n",
       "  </thead>\n",
       "  <tbody>\n",
       "    <tr>\n",
       "      <th>0</th>\n",
       "      <td>BD</td>\n",
       "      <td>880</td>\n",
       "    </tr>\n",
       "    <tr>\n",
       "      <th>1</th>\n",
       "      <td>BE</td>\n",
       "      <td>32</td>\n",
       "    </tr>\n",
       "    <tr>\n",
       "      <th>2</th>\n",
       "      <td>BF</td>\n",
       "      <td>226</td>\n",
       "    </tr>\n",
       "    <tr>\n",
       "      <th>3</th>\n",
       "      <td>BG</td>\n",
       "      <td>359</td>\n",
       "    </tr>\n",
       "    <tr>\n",
       "      <th>4</th>\n",
       "      <td>BA</td>\n",
       "      <td>387</td>\n",
       "    </tr>\n",
       "  </tbody>\n",
       "</table>\n",
       "</div>"
      ],
      "text/plain": [
       "  country phone_code\n",
       "0      BD        880\n",
       "1      BE         32\n",
       "2      BF        226\n",
       "3      BG        359\n",
       "4      BA        387"
      ]
     },
     "execution_count": 34,
     "metadata": {},
     "output_type": "execute_result"
    }
   ],
   "source": [
    "country_phone_code = phone.to_frame()\n",
    "country_phone_code.reset_index(inplace=True)\n",
    "country_phone_code = country_phone_code.rename(columns = {'index':'country', 0:'phone_code'})\n",
    "country_phone_code.head()"
   ]
  },
  {
   "cell_type": "code",
   "execution_count": 35,
   "metadata": {},
   "outputs": [],
   "source": [
    "country_phone_code.to_csv(PATH_to_file + 'country_phone_code.csv', index=False)"
   ]
  },
  {
   "cell_type": "markdown",
   "metadata": {},
   "source": [
    "### World_Cities_Database"
   ]
  },
  {
   "cell_type": "code",
   "execution_count": 36,
   "metadata": {},
   "outputs": [
    {
     "data": {
      "text/html": [
       "<div>\n",
       "<style scoped>\n",
       "    .dataframe tbody tr th:only-of-type {\n",
       "        vertical-align: middle;\n",
       "    }\n",
       "\n",
       "    .dataframe tbody tr th {\n",
       "        vertical-align: top;\n",
       "    }\n",
       "\n",
       "    .dataframe thead th {\n",
       "        text-align: right;\n",
       "    }\n",
       "</style>\n",
       "<table border=\"1\" class=\"dataframe\">\n",
       "  <thead>\n",
       "    <tr style=\"text-align: right;\">\n",
       "      <th></th>\n",
       "      <th>Country</th>\n",
       "      <th>City</th>\n",
       "      <th>AccentCity</th>\n",
       "      <th>Region</th>\n",
       "      <th>Population</th>\n",
       "      <th>Latitude</th>\n",
       "      <th>Longitude</th>\n",
       "    </tr>\n",
       "  </thead>\n",
       "  <tbody>\n",
       "    <tr>\n",
       "      <th>0</th>\n",
       "      <td>ad</td>\n",
       "      <td>aixas</td>\n",
       "      <td>Aixàs</td>\n",
       "      <td>06</td>\n",
       "      <td>NaN</td>\n",
       "      <td>42.483333</td>\n",
       "      <td>1.466667</td>\n",
       "    </tr>\n",
       "    <tr>\n",
       "      <th>1</th>\n",
       "      <td>ad</td>\n",
       "      <td>aixirivali</td>\n",
       "      <td>Aixirivali</td>\n",
       "      <td>06</td>\n",
       "      <td>NaN</td>\n",
       "      <td>42.466667</td>\n",
       "      <td>1.500000</td>\n",
       "    </tr>\n",
       "    <tr>\n",
       "      <th>2</th>\n",
       "      <td>ad</td>\n",
       "      <td>aixirivall</td>\n",
       "      <td>Aixirivall</td>\n",
       "      <td>06</td>\n",
       "      <td>NaN</td>\n",
       "      <td>42.466667</td>\n",
       "      <td>1.500000</td>\n",
       "    </tr>\n",
       "    <tr>\n",
       "      <th>3</th>\n",
       "      <td>ad</td>\n",
       "      <td>aixirvall</td>\n",
       "      <td>Aixirvall</td>\n",
       "      <td>06</td>\n",
       "      <td>NaN</td>\n",
       "      <td>42.466667</td>\n",
       "      <td>1.500000</td>\n",
       "    </tr>\n",
       "    <tr>\n",
       "      <th>4</th>\n",
       "      <td>ad</td>\n",
       "      <td>aixovall</td>\n",
       "      <td>Aixovall</td>\n",
       "      <td>06</td>\n",
       "      <td>NaN</td>\n",
       "      <td>42.466667</td>\n",
       "      <td>1.483333</td>\n",
       "    </tr>\n",
       "  </tbody>\n",
       "</table>\n",
       "</div>"
      ],
      "text/plain": [
       "  Country        City  AccentCity Region  Population   Latitude  Longitude\n",
       "0      ad       aixas       Aixàs     06         NaN  42.483333   1.466667\n",
       "1      ad  aixirivali  Aixirivali     06         NaN  42.466667   1.500000\n",
       "2      ad  aixirivall  Aixirivall     06         NaN  42.466667   1.500000\n",
       "3      ad   aixirvall   Aixirvall     06         NaN  42.466667   1.500000\n",
       "4      ad    aixovall    Aixovall     06         NaN  42.466667   1.483333"
      ]
     },
     "execution_count": 36,
     "metadata": {},
     "output_type": "execute_result"
    }
   ],
   "source": [
    "worldcitiespop = pd.read_csv(PATH_to_file + '/World_Cities_Database/' + 'worldcitiespop.csv',\n",
    "                             dtype={'Country': object, 'City' : object, 'AccentCity' : object, 'Region' : object,\n",
    "                                    'Population' : float, 'Latitude' : float, 'Longitude' : float}\n",
    ")\n",
    "worldcitiespop.head()"
   ]
  },
  {
   "cell_type": "code",
   "execution_count": 37,
   "metadata": {},
   "outputs": [
    {
     "name": "stdout",
     "output_type": "stream",
     "text": [
      "<class 'pandas.core.frame.DataFrame'>\n",
      "RangeIndex: 3173958 entries, 0 to 3173957\n",
      "Data columns (total 7 columns):\n",
      " #   Column      Dtype  \n",
      "---  ------      -----  \n",
      " 0   Country     object \n",
      " 1   City        object \n",
      " 2   AccentCity  object \n",
      " 3   Region      object \n",
      " 4   Population  float64\n",
      " 5   Latitude    float64\n",
      " 6   Longitude   float64\n",
      "dtypes: float64(3), object(4)\n",
      "memory usage: 169.5+ MB\n"
     ]
    }
   ],
   "source": [
    "worldcitiespop.info()"
   ]
  },
  {
   "cell_type": "code",
   "execution_count": 38,
   "metadata": {},
   "outputs": [
    {
     "data": {
      "text/plain": [
       "04    159916\n",
       "02    142158\n",
       "07    126867\n",
       "03    122161\n",
       "05    118441\n",
       "       ...  \n",
       "I4         5\n",
       "O9         4\n",
       "K7         4\n",
       "U3         3\n",
       "Z9         3\n",
       "Name: Region, Length: 397, dtype: int64"
      ]
     },
     "execution_count": 38,
     "metadata": {},
     "output_type": "execute_result"
    }
   ],
   "source": [
    "worldcitiespop.Region.value_counts(dropna=False)"
   ]
  },
  {
   "cell_type": "code",
   "execution_count": 39,
   "metadata": {
    "scrolled": true
   },
   "outputs": [
    {
     "data": {
      "text/plain": [
       "<AxesSubplot:>"
      ]
     },
     "execution_count": 39,
     "metadata": {},
     "output_type": "execute_result"
    },
    {
     "data": {
      "image/png": "[encoded data removed]",
      "text/plain": [
       "<Figure size 1008x288 with 1 Axes>"
      ]
     },
     "metadata": {
      "needs_background": "light"
     },
     "output_type": "display_data"
    }
   ],
   "source": [
    "plt.figure(figsize=(14, 4))\n",
    "sns.heatmap(worldcitiespop.isnull(), cbar=False, yticklabels=False, cmap = 'viridis')"
   ]
  },
  {
   "cell_type": "code",
   "execution_count": 40,
   "metadata": {},
   "outputs": [],
   "source": [
    "worldcitiespop.drop(['Population'], axis=1, inplace=True)"
   ]
  },
  {
   "cell_type": "code",
   "execution_count": 41,
   "metadata": {},
   "outputs": [],
   "source": [
    "worldcitiespop.to_csv(PATH_to_file + 'worldcitiespop.csv', index=False)"
   ]
  },
  {
   "cell_type": "markdown",
   "metadata": {},
   "source": [
    "### Nobel_Laureates_1901_Present"
   ]
  },
  {
   "cell_type": "code",
   "execution_count": 42,
   "metadata": {},
   "outputs": [
    {
     "data": {
      "text/html": [
       "<div>\n",
       "<style scoped>\n",
       "    .dataframe tbody tr th:only-of-type {\n",
       "        vertical-align: middle;\n",
       "    }\n",
       "\n",
       "    .dataframe tbody tr th {\n",
       "        vertical-align: top;\n",
       "    }\n",
       "\n",
       "    .dataframe thead th {\n",
       "        text-align: right;\n",
       "    }\n",
       "</style>\n",
       "<table border=\"1\" class=\"dataframe\">\n",
       "  <thead>\n",
       "    <tr style=\"text-align: right;\">\n",
       "      <th></th>\n",
       "      <th>Year</th>\n",
       "      <th>Category</th>\n",
       "      <th>Prize</th>\n",
       "      <th>Motivation</th>\n",
       "      <th>Prize Share</th>\n",
       "      <th>Laureate ID</th>\n",
       "      <th>Laureate Type</th>\n",
       "      <th>Full Name</th>\n",
       "      <th>Birth Date</th>\n",
       "      <th>Birth City</th>\n",
       "      <th>Birth Country</th>\n",
       "      <th>Sex</th>\n",
       "      <th>Organization Name</th>\n",
       "      <th>Organization City</th>\n",
       "      <th>Organization Country</th>\n",
       "      <th>Death Date</th>\n",
       "      <th>Death City</th>\n",
       "      <th>Death Country</th>\n",
       "    </tr>\n",
       "  </thead>\n",
       "  <tbody>\n",
       "    <tr>\n",
       "      <th>0</th>\n",
       "      <td>1901</td>\n",
       "      <td>Chemistry</td>\n",
       "      <td>The Nobel Prize in Chemistry 1901</td>\n",
       "      <td>\"in recognition of the extraordinary services he has rendered by the discovery of the laws of chemical dynamics and osmotic pressure in solutions\"</td>\n",
       "      <td>1/1</td>\n",
       "      <td>160</td>\n",
       "      <td>Individual</td>\n",
       "      <td>Jacobus Henricus van 't Hoff</td>\n",
       "      <td>1852-08-30</td>\n",
       "      <td>Rotterdam</td>\n",
       "      <td>Netherlands</td>\n",
       "      <td>Male</td>\n",
       "      <td>Berlin University</td>\n",
       "      <td>Berlin</td>\n",
       "      <td>Germany</td>\n",
       "      <td>1911-03-01</td>\n",
       "      <td>Berlin</td>\n",
       "      <td>Germany</td>\n",
       "    </tr>\n",
       "    <tr>\n",
       "      <th>1</th>\n",
       "      <td>1901</td>\n",
       "      <td>Literature</td>\n",
       "      <td>The Nobel Prize in Literature 1901</td>\n",
       "      <td>\"in special recognition of his poetic composition, which gives evidence of lofty idealism, artistic perfection and a rare combination of the qualities of both heart and intellect\"</td>\n",
       "      <td>1/1</td>\n",
       "      <td>569</td>\n",
       "      <td>Individual</td>\n",
       "      <td>Sully Prudhomme</td>\n",
       "      <td>1839-03-16</td>\n",
       "      <td>Paris</td>\n",
       "      <td>France</td>\n",
       "      <td>Male</td>\n",
       "      <td>NaN</td>\n",
       "      <td>NaN</td>\n",
       "      <td>NaN</td>\n",
       "      <td>1907-09-07</td>\n",
       "      <td>Châtenay</td>\n",
       "      <td>France</td>\n",
       "    </tr>\n",
       "    <tr>\n",
       "      <th>2</th>\n",
       "      <td>1901</td>\n",
       "      <td>Medicine</td>\n",
       "      <td>The Nobel Prize in Physiology or Medicine 1901</td>\n",
       "      <td>\"for his work on serum therapy, especially its application against diphtheria, by which he has opened a new road in the domain of medical science and thereby placed in the hands of the physician a...</td>\n",
       "      <td>1/1</td>\n",
       "      <td>293</td>\n",
       "      <td>Individual</td>\n",
       "      <td>Emil Adolf von Behring</td>\n",
       "      <td>1854-03-15</td>\n",
       "      <td>Hansdorf (Lawice)</td>\n",
       "      <td>Prussia (Poland)</td>\n",
       "      <td>Male</td>\n",
       "      <td>Marburg University</td>\n",
       "      <td>Marburg</td>\n",
       "      <td>Germany</td>\n",
       "      <td>1917-03-31</td>\n",
       "      <td>Marburg</td>\n",
       "      <td>Germany</td>\n",
       "    </tr>\n",
       "    <tr>\n",
       "      <th>3</th>\n",
       "      <td>1901</td>\n",
       "      <td>Peace</td>\n",
       "      <td>The Nobel Peace Prize 1901</td>\n",
       "      <td>NaN</td>\n",
       "      <td>1/2</td>\n",
       "      <td>462</td>\n",
       "      <td>Individual</td>\n",
       "      <td>Jean Henry Dunant</td>\n",
       "      <td>1828-05-08</td>\n",
       "      <td>Geneva</td>\n",
       "      <td>Switzerland</td>\n",
       "      <td>Male</td>\n",
       "      <td>NaN</td>\n",
       "      <td>NaN</td>\n",
       "      <td>NaN</td>\n",
       "      <td>1910-10-30</td>\n",
       "      <td>Heiden</td>\n",
       "      <td>Switzerland</td>\n",
       "    </tr>\n",
       "    <tr>\n",
       "      <th>4</th>\n",
       "      <td>1901</td>\n",
       "      <td>Peace</td>\n",
       "      <td>The Nobel Peace Prize 1901</td>\n",
       "      <td>NaN</td>\n",
       "      <td>1/2</td>\n",
       "      <td>463</td>\n",
       "      <td>Individual</td>\n",
       "      <td>Frédéric Passy</td>\n",
       "      <td>1822-05-20</td>\n",
       "      <td>Paris</td>\n",
       "      <td>France</td>\n",
       "      <td>Male</td>\n",
       "      <td>NaN</td>\n",
       "      <td>NaN</td>\n",
       "      <td>NaN</td>\n",
       "      <td>1912-06-12</td>\n",
       "      <td>Paris</td>\n",
       "      <td>France</td>\n",
       "    </tr>\n",
       "  </tbody>\n",
       "</table>\n",
       "</div>"
      ],
      "text/plain": [
       "   Year    Category                                           Prize  \\\n",
       "0  1901   Chemistry               The Nobel Prize in Chemistry 1901   \n",
       "1  1901  Literature              The Nobel Prize in Literature 1901   \n",
       "2  1901    Medicine  The Nobel Prize in Physiology or Medicine 1901   \n",
       "3  1901       Peace                      The Nobel Peace Prize 1901   \n",
       "4  1901       Peace                      The Nobel Peace Prize 1901   \n",
       "\n",
       "                                                                                                                                                                                                Motivation  \\\n",
       "0                                                       \"in recognition of the extraordinary services he has rendered by the discovery of the laws of chemical dynamics and osmotic pressure in solutions\"   \n",
       "1                      \"in special recognition of his poetic composition, which gives evidence of lofty idealism, artistic perfection and a rare combination of the qualities of both heart and intellect\"   \n",
       "2  \"for his work on serum therapy, especially its application against diphtheria, by which he has opened a new road in the domain of medical science and thereby placed in the hands of the physician a...   \n",
       "3                                                                                                                                                                                                      NaN   \n",
       "4                                                                                                                                                                                                      NaN   \n",
       "\n",
       "  Prize Share  Laureate ID Laureate Type                     Full Name  \\\n",
       "0         1/1          160    Individual  Jacobus Henricus van 't Hoff   \n",
       "1         1/1          569    Individual               Sully Prudhomme   \n",
       "2         1/1          293    Individual        Emil Adolf von Behring   \n",
       "3         1/2          462    Individual             Jean Henry Dunant   \n",
       "4         1/2          463    Individual                Frédéric Passy   \n",
       "\n",
       "   Birth Date         Birth City     Birth Country   Sex   Organization Name  \\\n",
       "0  1852-08-30          Rotterdam       Netherlands  Male   Berlin University   \n",
       "1  1839-03-16              Paris            France  Male                 NaN   \n",
       "2  1854-03-15  Hansdorf (Lawice)  Prussia (Poland)  Male  Marburg University   \n",
       "3  1828-05-08             Geneva       Switzerland  Male                 NaN   \n",
       "4  1822-05-20              Paris            France  Male                 NaN   \n",
       "\n",
       "  Organization City Organization Country  Death Date Death City Death Country  \n",
       "0            Berlin              Germany  1911-03-01     Berlin       Germany  \n",
       "1               NaN                  NaN  1907-09-07   Châtenay        France  \n",
       "2           Marburg              Germany  1917-03-31    Marburg       Germany  \n",
       "3               NaN                  NaN  1910-10-30     Heiden   Switzerland  \n",
       "4               NaN                  NaN  1912-06-12      Paris        France  "
      ]
     },
     "execution_count": 42,
     "metadata": {},
     "output_type": "execute_result"
    }
   ],
   "source": [
    "nobel = pd.read_csv(PATH_to_file + '/Nobel_Laureates_1901_Present/' + 'archive.csv')\n",
    "nobel.head()"
   ]
  },
  {
   "cell_type": "code",
   "execution_count": 43,
   "metadata": {},
   "outputs": [
    {
     "name": "stdout",
     "output_type": "stream",
     "text": [
      "<class 'pandas.core.frame.DataFrame'>\n",
      "RangeIndex: 969 entries, 0 to 968\n",
      "Data columns (total 18 columns):\n",
      " #   Column                Non-Null Count  Dtype \n",
      "---  ------                --------------  ----- \n",
      " 0   Year                  969 non-null    int64 \n",
      " 1   Category              969 non-null    object\n",
      " 2   Prize                 969 non-null    object\n",
      " 3   Motivation            881 non-null    object\n",
      " 4   Prize Share           969 non-null    object\n",
      " 5   Laureate ID           969 non-null    int64 \n",
      " 6   Laureate Type         969 non-null    object\n",
      " 7   Full Name             969 non-null    object\n",
      " 8   Birth Date            940 non-null    object\n",
      " 9   Birth City            941 non-null    object\n",
      " 10  Birth Country         943 non-null    object\n",
      " 11  Sex                   943 non-null    object\n",
      " 12  Organization Name     722 non-null    object\n",
      " 13  Organization City     716 non-null    object\n",
      " 14  Organization Country  716 non-null    object\n",
      " 15  Death Date            617 non-null    object\n",
      " 16  Death City            599 non-null    object\n",
      " 17  Death Country         605 non-null    object\n",
      "dtypes: int64(2), object(16)\n",
      "memory usage: 136.4+ KB\n"
     ]
    }
   ],
   "source": [
    "nobel.info()"
   ]
  },
  {
   "cell_type": "code",
   "execution_count": 44,
   "metadata": {},
   "outputs": [
    {
     "data": {
      "text/plain": [
       "Index(['Year', 'Category', 'Prize', 'Motivation', 'Prize Share', 'Laureate ID',\n",
       "       'Laureate Type', 'Full Name', 'Birth Date', 'Birth City',\n",
       "       'Birth Country', 'Sex', 'Organization Name', 'Organization City',\n",
       "       'Organization Country', 'Death Date', 'Death City', 'Death Country'],\n",
       "      dtype='object')"
      ]
     },
     "execution_count": 44,
     "metadata": {},
     "output_type": "execute_result"
    }
   ],
   "source": [
    "nobel.columns"
   ]
  },
  {
   "cell_type": "code",
   "execution_count": 45,
   "metadata": {},
   "outputs": [],
   "source": [
    "nobel.columns = ['year', 'category', 'prize', 'motivation', 'prize_share', 'laureate_id','laureate_type', 'full_name',\n",
    "                 'birth_date', 'birth_city', 'birth_country', 'sex', 'organization_name', 'organization_city',\n",
    "                 'organization_country', 'death_date', 'death_city', 'death_country']"
   ]
  },
  {
   "cell_type": "code",
   "execution_count": 46,
   "metadata": {},
   "outputs": [],
   "source": [
    "nobel.to_csv(PATH_to_file + 'nobel.csv', index=False)"
   ]
  },
  {
   "cell_type": "code",
   "execution_count": null,
   "metadata": {},
   "outputs": [],
   "source": []
  }
 ],
 "metadata": {
  "kernelspec": {
   "display_name": "Python 3",
   "language": "python",
   "name": "python3"
  },
  "language_info": {
   "codemirror_mode": {
    "name": "ipython",
    "version": 3
   },
   "file_extension": ".py",
   "mimetype": "text/x-python",
   "name": "python",
   "nbconvert_exporter": "python",
   "pygments_lexer": "ipython3",
   "version": "3.8.5"
  }
 },
 "nbformat": 4,
 "nbformat_minor": 4
}
