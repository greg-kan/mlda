{
  "nbformat": 4,
  "nbformat_minor": 0,
  "metadata": {
    "colab": {
      "name": "dqn-pong.ipynb",
      "version": "0.3.2",
      "provenance": [],
      "collapsed_sections": []
    },
    "language_info": {
      "codemirror_mode": {
        "name": "ipython",
        "version": 3
      },
      "file_extension": ".py",
      "mimetype": "text/x-python",
      "name": "python",
      "nbconvert_exporter": "python",
      "pygments_lexer": "ipython3",
      "version": "3.7.1"
    },
    "kernelspec": {
      "name": "python3",
      "display_name": "Python 3"
    },
    "accelerator": "GPU"
  },
  "cells": [
    {
      "metadata": {
        "id": "ipwdFHUVB5qG",
        "colab_type": "code",
        "colab": {}
      },
      "cell_type": "code",
      "source": [
        "import time\n",
        "import random\n",
        "import numpy as np\n",
        "\n",
        "import gym\n",
        "\n",
        "import matplotlib.pyplot as plt\n",
        "%matplotlib inline"
      ],
      "execution_count": 0,
      "outputs": []
    },
    {
      "metadata": {
        "id": "1WoSzJUgB5qJ",
        "colab_type": "text"
      },
      "cell_type": "markdown",
      "source": [
        "## Load GYM environment"
      ]
    },
    {
      "metadata": {
        "scrolled": false,
        "id": "RO8UWiE4B5qK",
        "colab_type": "code",
        "outputId": "d1e6b1d7-8210-48de-e09b-d6ceaa81501d",
        "colab": {
          "base_uri": "https://localhost:8080/",
          "height": 51
        }
      },
      "cell_type": "code",
      "source": [
        "env = gym.make('Pong-v0')\n",
        "\n",
        "STATE_SHAPE = env.observation_space.shape\n",
        "NUM_ACTIONS = env.action_space.n\n",
        "\n",
        "print('Actions: {}'.format(NUM_ACTIONS))\n",
        "print('States shape: {}'.format(STATE_SHAPE))"
      ],
      "execution_count": 2,
      "outputs": [
        {
          "output_type": "stream",
          "text": [
            "Actions: 6\n",
            "States shape: (210, 160, 3)\n"
          ],
          "name": "stdout"
        }
      ]
    },
    {
      "metadata": {
        "id": "cHaEq-ExGjp5",
        "colab_type": "text"
      },
      "cell_type": "markdown",
      "source": [
        "## Example of a state"
      ]
    },
    {
      "metadata": {
        "id": "HycCupurCLXM",
        "colab_type": "code",
        "outputId": "50b8cea8-91fb-4965-95cd-70553a6a77d1",
        "colab": {
          "base_uri": "https://localhost:8080/",
          "height": 269
        }
      },
      "cell_type": "code",
      "source": [
        "s = env.reset()\n",
        "_=plt.imshow(s)"
      ],
      "execution_count": 3,
      "outputs": [
        {
          "output_type": "display_data",
          "data": {
            "image/png": "[encoded data removed]",
            "text/plain": [
              "<Figure size 432x288 with 1 Axes>"
            ]
          },
          "metadata": {
            "tags": []
          }
        }
      ]
    },
    {
      "metadata": {
        "id": "JUSl-luBMors",
        "colab_type": "text"
      },
      "cell_type": "markdown",
      "source": [
        "## DQN"
      ]
    },
    {
      "metadata": {
        "id": "lMKyAI5GLN1w",
        "colab_type": "code",
        "colab": {}
      },
      "cell_type": "code",
      "source": [
        "# Train a DQN model here"
      ],
      "execution_count": 0,
      "outputs": []
    },
    {
      "metadata": {
        "id": "IiOBPXjVGnLR",
        "colab_type": "text"
      },
      "cell_type": "markdown",
      "source": [
        "## Virtual display and video recording for Colab"
      ]
    },
    {
      "metadata": {
        "id": "Kzmt2e5jEbX6",
        "colab_type": "code",
        "colab": {}
      },
      "cell_type": "code",
      "source": [
        "RECORD_VIDEO = True\n",
        "\n",
        "if RECORD_VIDEO:\n",
        "  \n",
        "    !pip install pyvirtualdisplay > /dev/null 2>&1\n",
        "    !apt-get install -y xvfb python-opengl ffmpeg > /dev/null 2>&1\n",
        "\n",
        "    from pyvirtualdisplay import Display\n",
        "    display = Display(visible=0, size=(1400, 900))\n",
        "    display.start()"
      ],
      "execution_count": 0,
      "outputs": []
    },
    {
      "metadata": {
        "id": "4sx3L1j9B5qn",
        "colab_type": "text"
      },
      "cell_type": "markdown",
      "source": [
        "## Run simulation"
      ]
    },
    {
      "metadata": {
        "id": "GhSeQkSBB5qo",
        "colab_type": "code",
        "outputId": "ac85d3ac-16c7-4565-e70d-ed9d21b04dd4",
        "colab": {
          "base_uri": "https://localhost:8080/",
          "height": 34
        }
      },
      "cell_type": "code",
      "source": [
        "if RECORD_VIDEO:\n",
        "    from gym.wrappers import Monitor\n",
        "    env_sim = Monitor(env, './video', force=True)\n",
        "else:\n",
        "    env_sim = env\n",
        "\n",
        "s = env_sim.reset()\n",
        "totalReward = 0\n",
        "\n",
        "for _ in range(1000):\n",
        "    env_sim.render()\n",
        "    a = env_sim.action_space.sample() # Change to your policy (DQN) \n",
        "    s, r, done, _ = env_sim.step(a)\n",
        "    totalReward += r\n",
        "    if done:        \n",
        "        break\n",
        "    \n",
        "    if not RECORD_VIDEO:\n",
        "        time.sleep(1./30)\n",
        "        \n",
        "env_sim.close()\n",
        "\n",
        "print('Total reward = {}'.format(totalReward))"
      ],
      "execution_count": 6,
      "outputs": [
        {
          "output_type": "stream",
          "text": [
            "Total reward = -14.0\n"
          ],
          "name": "stdout"
        }
      ]
    },
    {
      "metadata": {
        "id": "oWteeIo8K2jR",
        "colab_type": "text"
      },
      "cell_type": "markdown",
      "source": [
        "## Show the video"
      ]
    },
    {
      "metadata": {
        "id": "yEb1-4mhEU0i",
        "colab_type": "code",
        "colab": {}
      },
      "cell_type": "code",
      "source": [
        "def show_video():\n",
        "    import glob\n",
        "    import io\n",
        "    import base64\n",
        "    from IPython.display import HTML\n",
        "    from IPython import display as ipythondisplay\n",
        "\n",
        "    mp4list = glob.glob('video/*.mp4')\n",
        "    if len(mp4list) > 0:\n",
        "        mp4 = mp4list[0]\n",
        "        video = io.open(mp4, 'r+b').read()\n",
        "        encoded = base64.b64encode(video)\n",
        "        ipythondisplay.display(HTML(data='''<video alt=\"test\" autoplay \n",
        "            loop controls style=\"height: 400px;\">\n",
        "            <source src=\"data:video/mp4;base64,{0}\" type=\"video/mp4\" />\n",
        "            </video>'''.format(encoded.decode('ascii'))))\n",
        "    else: \n",
        "        print(\"Could not find video\")\n",
        "    \n",
        "show_video()"
      ],
      "execution_count": 0,
      "outputs": []
    },
    {
      "metadata": {
        "id": "j8eb7loItDM4",
        "colab_type": "code",
        "colab": {}
      },
      "cell_type": "code",
      "source": [
        ""
      ],
      "execution_count": 0,
      "outputs": []
    }
  ]
}