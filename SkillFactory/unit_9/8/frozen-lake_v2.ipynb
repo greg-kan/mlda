{
 "cells": [
  {
   "cell_type": "code",
   "execution_count": 1,
   "metadata": {
    "colab": {
     "base_uri": "https://localhost:8080/"
    },
    "executionInfo": {
     "elapsed": 4428,
     "status": "ok",
     "timestamp": 1649092503372,
     "user": {
      "displayName": "Gregory Kanavenko",
      "userId": "10503408555776388272"
     },
     "user_tz": -180
    },
    "id": "R4ztVP8zNoBg",
    "outputId": "f43209c2-a529-4cb9-a983-efc992167cb6",
    "pycharm": {
     "name": "#%%\n"
    }
   },
   "outputs": [],
   "source": [
    "import numpy as np\n",
    "import random\n",
    "import os\n",
    "import gym\n",
    "import matplotlib.pyplot as plt\n",
    "%matplotlib inline"
   ]
  },
  {
   "cell_type": "code",
   "execution_count": 2,
   "outputs": [],
   "source": [
    "os.environ['TF_CPP_MIN_LOG_LEVEL'] = '1'\n",
    "os.environ['TF_ENABLE_ONEDNN_OPTS'] = '0'\n",
    "import tensorflow as tf\n",
    "import tensorflow.keras.layers as L\n",
    "import tensorflow.keras.models as M"
   ],
   "metadata": {
    "collapsed": false,
    "pycharm": {
     "name": "#%%\n"
    }
   }
  },
  {
   "cell_type": "code",
   "execution_count": 3,
   "outputs": [
    {
     "name": "stdout",
     "output_type": "stream",
     "text": [
      "2.9.1\n"
     ]
    }
   ],
   "source": [
    "print(tf.__version__)"
   ],
   "metadata": {
    "collapsed": false,
    "pycharm": {
     "name": "#%%\n"
    }
   }
  },
  {
   "cell_type": "markdown",
   "metadata": {
    "id": "8kDXc0QqNoBk",
    "pycharm": {
     "name": "#%% md\n"
    }
   },
   "source": [
    "### Load GYM environment"
   ]
  },
  {
   "cell_type": "code",
   "execution_count": 4,
   "metadata": {
    "colab": {
     "base_uri": "https://localhost:8080/"
    },
    "executionInfo": {
     "elapsed": 258,
     "status": "ok",
     "timestamp": 1649092738517,
     "user": {
      "displayName": "Gregory Kanavenko",
      "userId": "10503408555776388272"
     },
     "user_tz": -180
    },
    "id": "6TOp2yzwNoBk",
    "outputId": "4defd943-219f-459e-c3cb-10b1bbc1b538",
    "scrolled": false,
    "pycharm": {
     "name": "#%%\n"
    }
   },
   "outputs": [
    {
     "name": "stdout",
     "output_type": "stream",
     "text": [
      "States: 16\n",
      "Actions: 4\n"
     ]
    }
   ],
   "source": [
    "env = gym.make('FrozenLake-v1', is_slippery=False)\n",
    "s = env.reset()\n",
    "\n",
    "NUM_STATES = env.observation_space.n\n",
    "NUM_ACTIONS = env.action_space.n\n",
    "\n",
    "print('States: {}'.format(NUM_STATES))\n",
    "print('Actions: {}'.format(NUM_ACTIONS))"
   ]
  },
  {
   "cell_type": "markdown",
   "metadata": {
    "id": "VfJmjmDBNoBo",
    "pycharm": {
     "name": "#%% md\n"
    }
   },
   "source": [
    "### Settings"
   ]
  },
  {
   "cell_type": "code",
   "execution_count": 5,
   "metadata": {
    "executionInfo": {
     "elapsed": 9,
     "status": "ok",
     "timestamp": 1649092744938,
     "user": {
      "displayName": "Gregory Kanavenko",
      "userId": "10503408555776388272"
     },
     "user_tz": -180
    },
    "id": "GRY4j-ioNoBo",
    "pycharm": {
     "name": "#%%\n"
    }
   },
   "outputs": [],
   "source": [
    "LR = 0.1\n",
    "gamma = 0.99\n",
    "\n",
    "NUM_EPISODES = 2000\n",
    "MAX_STEPS = 100\n",
    "REWARD_AVERAGE_WINDOW = 20"
   ]
  },
  {
   "cell_type": "markdown",
   "metadata": {
    "id": "RjMSoTDVNoBq",
    "pycharm": {
     "name": "#%% md\n"
    }
   },
   "source": [
    "### DQN Model"
   ]
  },
  {
   "cell_type": "code",
   "execution_count": 6,
   "metadata": {
    "executionInfo": {
     "elapsed": 3087,
     "status": "ok",
     "timestamp": 1649092805306,
     "user": {
      "displayName": "Gregory Kanavenko",
      "userId": "10503408555776388272"
     },
     "user_tz": -180
    },
    "id": "W4-2wioNNoBr",
    "pycharm": {
     "name": "#%%\n"
    }
   },
   "outputs": [],
   "source": [
    "model = M.Sequential([L.Dense(\n",
    "    NUM_ACTIONS,\n",
    "    activation=None,\n",
    "    use_bias=False,\n",
    "    kernel_initializer=tf.random_uniform_initializer(0, 0.01))])"
   ]
  },
  {
   "cell_type": "code",
   "execution_count": 7,
   "outputs": [],
   "source": [
    "def evalQ(s):\n",
    "     return model(tf.one_hot([s], NUM_STATES)).numpy()[0]"
   ],
   "metadata": {
    "collapsed": false,
    "pycharm": {
     "name": "#%%\n"
    }
   }
  },
  {
   "cell_type": "code",
   "execution_count": 8,
   "outputs": [
    {
     "data": {
      "text/plain": "<tf.Tensor: shape=(1, 16), dtype=float32, numpy=\narray([[0., 1., 0., 0., 0., 0., 0., 0., 0., 0., 0., 0., 0., 0., 0., 0.]],\n      dtype=float32)>"
     },
     "execution_count": 8,
     "metadata": {},
     "output_type": "execute_result"
    }
   ],
   "source": [
    "tf.one_hot([1], NUM_STATES)"
   ],
   "metadata": {
    "collapsed": false,
    "pycharm": {
     "name": "#%%\n"
    }
   }
  },
  {
   "cell_type": "markdown",
   "metadata": {
    "id": "vt4UVJ7QNoBt",
    "pycharm": {
     "name": "#%% md\n"
    }
   },
   "source": [
    "### Prepare model for training"
   ]
  },
  {
   "cell_type": "code",
   "execution_count": 9,
   "outputs": [],
   "source": [
    "def loss(q1, q2):\n",
    "    return tf.reduce_sum(tf.square(q1 - q2))"
   ],
   "metadata": {
    "collapsed": false,
    "pycharm": {
     "name": "#%%\n"
    }
   }
  },
  {
   "cell_type": "code",
   "execution_count": 10,
   "metadata": {
    "executionInfo": {
     "elapsed": 263,
     "status": "ok",
     "timestamp": 1649092819295,
     "user": {
      "displayName": "Gregory Kanavenko",
      "userId": "10503408555776388272"
     },
     "user_tz": -180
    },
    "id": "Ir-CNs-CNoBu",
    "pycharm": {
     "name": "#%%\n"
    }
   },
   "outputs": [],
   "source": [
    "optimizer = tf.keras.optimizers.SGD(learning_rate=LR)\n",
    "model.compile(loss=loss, optimizer=optimizer)"
   ]
  },
  {
   "cell_type": "code",
   "execution_count": 11,
   "outputs": [],
   "source": [
    "pathLenList = []\n",
    "totalRewardList = []\n",
    "totalRewardAverageList = []"
   ],
   "metadata": {
    "collapsed": false,
    "pycharm": {
     "name": "#%%\n"
    }
   }
  },
  {
   "cell_type": "markdown",
   "metadata": {
    "id": "6bDo6pUsNoBw",
    "pycharm": {
     "name": "#%% md\n"
    }
   },
   "source": [
    "### DQN training"
   ]
  },
  {
   "cell_type": "code",
   "execution_count": 12,
   "outputs": [
    {
     "data": {
      "text/plain": "array([0.0099114 , 0.00380075, 0.00716122, 0.00102974], dtype=float32)"
     },
     "execution_count": 12,
     "metadata": {},
     "output_type": "execute_result"
    }
   ],
   "source": [
    "evalQ(s)"
   ],
   "metadata": {
    "collapsed": false,
    "pycharm": {
     "name": "#%%\n"
    }
   }
  },
  {
   "cell_type": "code",
   "execution_count": 13,
   "metadata": {
    "colab": {
     "base_uri": "https://localhost:8080/"
    },
    "executionInfo": {
     "elapsed": 125366,
     "status": "ok",
     "timestamp": 1649092985381,
     "user": {
      "displayName": "Gregory Kanavenko",
      "userId": "10503408555776388272"
     },
     "user_tz": -180
    },
    "id": "bZHNmKNhNoBx",
    "outputId": "1aace028-5552-4999-f884-f0808db602f9",
    "pycharm": {
     "name": "#%%\n"
    }
   },
   "outputs": [
    {
     "name": "stdout",
     "output_type": "stream",
     "text": [
      "Episode 100: average total reward = 0.9\n",
      "Episode 200: average total reward = 0.8\n",
      "Episode 300: average total reward = 0.85\n",
      "Episode 400: average total reward = 1.0\n",
      "Episode 500: average total reward = 1.0\n",
      "Episode 600: average total reward = 1.0\n",
      "Episode 700: average total reward = 1.0\n",
      "Episode 800: average total reward = 1.0\n",
      "Episode 900: average total reward = 0.9\n",
      "Episode 1000: average total reward = 1.0\n",
      "Episode 1100: average total reward = 1.0\n",
      "Episode 1200: average total reward = 1.0\n",
      "Episode 1300: average total reward = 1.0\n",
      "Episode 1400: average total reward = 1.0\n",
      "Episode 1500: average total reward = 1.0\n",
      "Episode 1600: average total reward = 0.95\n",
      "Episode 1700: average total reward = 1.0\n",
      "Episode 1800: average total reward = 1.0\n",
      "Episode 1900: average total reward = 1.0\n"
     ]
    }
   ],
   "source": [
    "for i in range(NUM_EPISODES):\n",
    "    \n",
    "    eps = 1./((i/50) + 10)\n",
    "    \n",
    "    s = env.reset()\n",
    "    \n",
    "    totalReward = 0\n",
    "    step = 0\n",
    "    \n",
    "    while step < MAX_STEPS:\n",
    "        step += 1\n",
    "\n",
    "        Q_s = evalQ(s)\n",
    "        \n",
    "        if np.random.rand() < eps:\n",
    "            a = env.action_space.sample()\n",
    "        else:\n",
    "            a = np.argmax(Q_s)\n",
    "\n",
    "        s1, r, done, _ = env.step(a)\n",
    "\n",
    "        Q_s1 = evalQ(s1)\n",
    "        \n",
    "        Q_target = Q_s\n",
    "        if done:\n",
    "            Q_target[a] = r\n",
    "        else:\n",
    "            Q_target[a] = r + gamma * np.max(Q_s1)\n",
    "        Q_target = tf.constant(Q_target)[None, ...]\n",
    "\n",
    "        model.train_on_batch(tf.one_hot([s], NUM_STATES), Q_target)\n",
    "\n",
    "        totalReward += r\n",
    "        s = s1\n",
    "\n",
    "        if done:\n",
    "            break\n",
    "            \n",
    "    pathLenList.append(step)\n",
    "    totalRewardList.append(totalReward)\n",
    "\n",
    "    if i % REWARD_AVERAGE_WINDOW == 0 and i >= REWARD_AVERAGE_WINDOW:\n",
    "        totalRewardAverage = np.mean(totalRewardList[-REWARD_AVERAGE_WINDOW:])\n",
    "        totalRewardAverageList.append(totalRewardAverage)\n",
    "        if i % 100 == 0:\n",
    "            print('Episode {}: average total reward = {}'.format(i, totalRewardAverage))"
   ]
  },
  {
   "cell_type": "markdown",
   "metadata": {
    "id": "hnzioGPmNoB3",
    "pycharm": {
     "name": "#%% md\n"
    }
   },
   "source": [
    "### Plot trajectory length over time"
   ]
  },
  {
   "cell_type": "code",
   "execution_count": 14,
   "metadata": {
    "colab": {
     "base_uri": "https://localhost:8080/",
     "height": 265
    },
    "executionInfo": {
     "elapsed": 361,
     "status": "ok",
     "timestamp": 1649093001773,
     "user": {
      "displayName": "Gregory Kanavenko",
      "userId": "10503408555776388272"
     },
     "user_tz": -180
    },
    "id": "BA6bQskMNoB4",
    "outputId": "26b57238-3a33-4669-8faf-c9f7a20abb60",
    "scrolled": true,
    "pycharm": {
     "name": "#%%\n"
    }
   },
   "outputs": [
    {
     "data": {
      "text/plain": "<Figure size 432x288 with 1 Axes>",
      "image/png": "[encoded data removed]"
     },
     "metadata": {
      "needs_background": "light"
     },
     "output_type": "display_data"
    }
   ],
   "source": [
    "plt.plot(pathLenList)\n",
    "plt.grid()"
   ]
  },
  {
   "cell_type": "markdown",
   "metadata": {
    "id": "tZBmpuprNoB7",
    "pycharm": {
     "name": "#%% md\n"
    }
   },
   "source": [
    "### Plot average total reward over time"
   ]
  },
  {
   "cell_type": "code",
   "execution_count": 15,
   "metadata": {
    "colab": {
     "base_uri": "https://localhost:8080/",
     "height": 265
    },
    "executionInfo": {
     "elapsed": 274,
     "status": "ok",
     "timestamp": 1649093014320,
     "user": {
      "displayName": "Gregory Kanavenko",
      "userId": "10503408555776388272"
     },
     "user_tz": -180
    },
    "id": "aQlfebuaNoB8",
    "outputId": "a6891457-ff86-4bec-a6a6-62bd2cbf37eb",
    "pycharm": {
     "name": "#%%\n"
    }
   },
   "outputs": [
    {
     "data": {
      "text/plain": "<Figure size 432x288 with 1 Axes>",
      "image/png": "[encoded data removed]"
     },
     "metadata": {
      "needs_background": "light"
     },
     "output_type": "display_data"
    }
   ],
   "source": [
    "plt.plot(totalRewardAverageList)\n",
    "plt.grid()"
   ]
  },
  {
   "cell_type": "markdown",
   "metadata": {
    "id": "GgFoQBI5NoCC",
    "pycharm": {
     "name": "#%% md\n"
    }
   },
   "source": [
    "### Run simulation"
   ]
  },
  {
   "cell_type": "code",
   "execution_count": 16,
   "metadata": {
    "colab": {
     "base_uri": "https://localhost:8080/"
    },
    "executionInfo": {
     "elapsed": 253,
     "status": "ok",
     "timestamp": 1649093021913,
     "user": {
      "displayName": "Gregory Kanavenko",
      "userId": "10503408555776388272"
     },
     "user_tz": -180
    },
    "id": "IgdZP_aPNoCD",
    "outputId": "c4831211-5b0e-4a5f-9965-4ffc1416f278",
    "pycharm": {
     "name": "#%%\n"
    }
   },
   "outputs": [
    {
     "name": "stdout",
     "output_type": "stream",
     "text": [
      "\n",
      "\u001B[41mS\u001B[0mFFF\n",
      "FHFH\n",
      "FFFH\n",
      "HFFG\n",
      "  (Right)\n",
      "S\u001B[41mF\u001B[0mFF\n",
      "FHFH\n",
      "FFFH\n",
      "HFFG\n",
      "  (Right)\n",
      "SF\u001B[41mF\u001B[0mF\n",
      "FHFH\n",
      "FFFH\n",
      "HFFG\n",
      "  (Down)\n",
      "SFFF\n",
      "FH\u001B[41mF\u001B[0mH\n",
      "FFFH\n",
      "HFFG\n",
      "  (Down)\n",
      "SFFF\n",
      "FHFH\n",
      "FF\u001B[41mF\u001B[0mH\n",
      "HFFG\n",
      "  (Down)\n",
      "SFFF\n",
      "FHFH\n",
      "FFFH\n",
      "HF\u001B[41mF\u001B[0mG\n",
      "  (Right)\n",
      "SFFF\n",
      "FHFH\n",
      "FFFH\n",
      "HFF\u001B[41mG\u001B[0m\n",
      "Reward = 1.0\n"
     ]
    }
   ],
   "source": [
    "s = env.reset()\n",
    "\n",
    "for _ in range(1000):\n",
    "    env.render()\n",
    "    a = np.argmax(evalQ(s))\n",
    "    s, r, done, _ = env.step(a)\n",
    "    if done:\n",
    "        env.render()\n",
    "        print('Reward = {}'.format(r))\n",
    "        break\n",
    "        \n",
    "env.close()"
   ]
  }
 ],
 "metadata": {
  "accelerator": "GPU",
  "colab": {
   "collapsed_sections": [],
   "name": "SF_mod_8_dqn-frozen_v2.ipynb",
   "provenance": [
    {
     "file_id": "1dCjGhavOkcXiO_oJiCSzVUS1K9BK4yC0",
     "timestamp": 1649089517987
    },
    {
     "file_id": "12EnYepdBzttHB_C09CqFClwnnw6-DJs1",
     "timestamp": 1588013965248
    },
    {
     "file_id": "1GMz8KAs1vqemzYpPvhJR5CoQr5fJ7Mos",
     "timestamp": 1587055745542
    }
   ]
  },
  "kernelspec": {
   "display_name": "Python 3 (ipykernel)",
   "language": "python",
   "name": "python3"
  },
  "language_info": {
   "codemirror_mode": {
    "name": "ipython",
    "version": 3
   },
   "file_extension": ".py",
   "mimetype": "text/x-python",
   "name": "python",
   "nbconvert_exporter": "python",
   "pygments_lexer": "ipython3",
   "version": "3.9.12"
  }
 },
 "nbformat": 4,
 "nbformat_minor": 1
}