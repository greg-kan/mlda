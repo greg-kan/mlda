{
 "cells": [
  {
   "cell_type": "code",
   "execution_count": 1,
   "metadata": {
    "colab": {
     "base_uri": "https://localhost:8080/",
     "height": 34
    },
    "executionInfo": {
     "elapsed": 1015,
     "status": "ok",
     "timestamp": 1587062517145,
     "user": {
      "displayName": "Lek Dev",
      "photoUrl": "",
      "userId": "12863469546297939726"
     },
     "user_tz": -180
    },
    "id": "lglPTqADTCEE",
    "outputId": "e8b2fef3-aee4-4787-f2ef-d2c942b8b523",
    "pycharm": {
     "name": "#%%\n"
    }
   },
   "outputs": [
    {
     "name": "stdout",
     "output_type": "stream",
     "text": [
      "2.9.1\n"
     ]
    }
   ],
   "source": [
    "import time\n",
    "import random\n",
    "import numpy as np\n",
    "from collections import deque\n",
    "import gym\n",
    "import os\n",
    "os.environ['TF_CPP_MIN_LOG_LEVEL'] = '1'\n",
    "os.environ['TF_ENABLE_ONEDNN_OPTS'] = '0'\n",
    "import tensorflow as tf\n",
    "import tensorflow.keras.layers as L\n",
    "import tensorflow.keras.models as M\n",
    "\n",
    "import matplotlib.pyplot as plt\n",
    "%matplotlib inline\n",
    "print(tf.__version__)"
   ]
  },
  {
   "cell_type": "code",
   "execution_count": 2,
   "metadata": {
    "colab": {
     "base_uri": "https://localhost:8080/",
     "height": 34
    },
    "executionInfo": {
     "elapsed": 1096,
     "status": "ok",
     "timestamp": 1587062526450,
     "user": {
      "displayName": "Lek Dev",
      "photoUrl": "",
      "userId": "12863469546297939726"
     },
     "user_tz": -180
    },
    "id": "19sOBDnQTEV3",
    "outputId": "1e718584-fa5a-4b86-d77f-6931ba8b68e1",
    "pycharm": {
     "name": "#%%\n"
    }
   },
   "outputs": [
    {
     "data": {
      "text/plain": [
       "'/device:GPU:0'"
      ]
     },
     "execution_count": 2,
     "metadata": {},
     "output_type": "execute_result"
    }
   ],
   "source": [
    "# Проверяем что у нас работает GPU\n",
    "tf.test.gpu_device_name()"
   ]
  },
  {
   "cell_type": "code",
   "execution_count": 3,
   "metadata": {
    "colab": {
     "base_uri": "https://localhost:8080/",
     "height": 34
    },
    "executionInfo": {
     "elapsed": 3811,
     "status": "ok",
     "timestamp": 1587062537010,
     "user": {
      "displayName": "Lek Dev",
      "photoUrl": "",
      "userId": "12863469546297939726"
     },
     "user_tz": -180
    },
    "id": "bPRC0BXlTGZR",
    "outputId": "b95f15db-4081-4fe5-a600-3c022854c58d",
    "pycharm": {
     "name": "#%%\n"
    }
   },
   "outputs": [
    {
     "name": "stdout",
     "output_type": "stream",
     "text": [
      "/bin/bash: /home/greg/anaconda3/envs/tf/lib/libtinfo.so.6: no version information available (required by /bin/bash)\r\n",
      "Sun Aug 14 13:10:55 2022       \r\n",
      "+-----------------------------------------------------------------------------+\r\n",
      "| NVIDIA-SMI 515.65.01    Driver Version: 515.65.01    CUDA Version: 11.7     |\r\n",
      "|-------------------------------+----------------------+----------------------+\r\n",
      "| GPU  Name        Persistence-M| Bus-Id        Disp.A | Volatile Uncorr. ECC |\r\n",
      "| Fan  Temp  Perf  Pwr:Usage/Cap|         Memory-Usage | GPU-Util  Compute M. |\r\n",
      "|                               |                      |               MIG M. |\r\n",
      "|===============================+======================+======================|\r\n",
      "|   0  NVIDIA GeForce ...  Off  | 00000000:01:00.0  On |                  N/A |\r\n",
      "|  0%   58C    P2    79W / 350W |    866MiB / 12288MiB |      0%      Default |\r\n",
      "|                               |                      |                  N/A |\r\n",
      "+-------------------------------+----------------------+----------------------+\r\n",
      "                                                                               \r\n",
      "+-----------------------------------------------------------------------------+\r\n",
      "| Processes:                                                                  |\r\n",
      "|  GPU   GI   CI        PID   Type   Process name                  GPU Memory |\r\n",
      "|        ID   ID                                                   Usage      |\r\n",
      "|=============================================================================|\r\n",
      "|    0   N/A  N/A      1459      G   /usr/lib/xorg/Xorg                 53MiB |\r\n",
      "|    0   N/A  N/A      4138      G   /usr/lib/xorg/Xorg                133MiB |\r\n",
      "|    0   N/A  N/A      4269      G   /usr/bin/gnome-shell               48MiB |\r\n",
      "|    0   N/A  N/A   3490009      G   ...uncher/minecraft-launcher       23MiB |\r\n",
      "|    0   N/A  N/A   3490181      G   ...383538641380383089,131072      173MiB |\r\n",
      "|    0   N/A  N/A   3490902      C   ...conda3/envs/tf/bin/python      413MiB |\r\n",
      "+-----------------------------------------------------------------------------+\r\n"
     ]
    }
   ],
   "source": [
    "#GPU count and name\n",
    "!nvidia-smi"
   ]
  },
  {
   "cell_type": "markdown",
   "metadata": {
    "id": "9D-t4TtCJeLM",
    "pycharm": {
     "name": "#%% md\n"
    }
   },
   "source": [
    "### Load GYM environment"
   ]
  },
  {
   "cell_type": "code",
   "execution_count": 4,
   "metadata": {
    "colab": {
     "base_uri": "https://localhost:8080/",
     "height": 119
    },
    "executionInfo": {
     "elapsed": 5005,
     "status": "ok",
     "timestamp": 1587060409006,
     "user": {
      "displayName": "Lek Dev",
      "photoUrl": "",
      "userId": "12863469546297939726"
     },
     "user_tz": -180
    },
    "id": "Xwdf4vsHJeLN",
    "outputId": "69f8ade3-f7a7-423b-a37f-9f8f15e8a108",
    "pycharm": {
     "name": "#%%\n"
    },
    "scrolled": false
   },
   "outputs": [
    {
     "name": "stdout",
     "output_type": "stream",
     "text": [
      "Actions: 2\n",
      "States limits:\n",
      "[-4.800000190734863, 4.800000190734863]\n",
      "[-3.4028234663852886e+38, 3.4028234663852886e+38]\n",
      "[-0.41887903213500977, 0.41887903213500977]\n",
      "[-3.4028234663852886e+38, 3.4028234663852886e+38]\n"
     ]
    }
   ],
   "source": [
    "env = gym.make('CartPole-v0')\n",
    "\n",
    "STATE_LIMITS = env.observation_space\n",
    "NUM_ACTIONS = env.action_space.n\n",
    "\n",
    "print('Actions: {}'.format(NUM_ACTIONS))\n",
    "print('States limits:')\n",
    "for i in range(STATE_LIMITS.shape[0]):\n",
    "    print('[{}, {}]'.format(STATE_LIMITS.low[i], STATE_LIMITS.high[i]))"
   ]
  },
  {
   "cell_type": "markdown",
   "metadata": {
    "id": "auU0dXqEJeLQ",
    "pycharm": {
     "name": "#%% md\n"
    }
   },
   "source": [
    "### Settings"
   ]
  },
  {
   "cell_type": "code",
   "execution_count": 5,
   "metadata": {
    "id": "kSlPTNohJeLR",
    "pycharm": {
     "name": "#%%\n"
    }
   },
   "outputs": [],
   "source": [
    "LR = 0.001\n",
    "gamma = 0.99\n",
    "replay_experience_maxlen = 50000\n",
    "batch_size = 64\n",
    "NUM_EPISODES = 1000\n",
    "MAX_STEPS = 200\n",
    "REWARD_AVERAGE_WINDOW = 50"
   ]
  },
  {
   "cell_type": "markdown",
   "metadata": {
    "id": "AFtnFh9-JeLW",
    "pycharm": {
     "name": "#%% md\n"
    }
   },
   "source": [
    "### DQN Model"
   ]
  },
  {
   "cell_type": "code",
   "execution_count": 6,
   "metadata": {
    "id": "SM8c4_EzJeLX",
    "pycharm": {
     "name": "#%%\n"
    }
   },
   "outputs": [],
   "source": [
    "model = M.Sequential([\n",
    "    L.Dense(24, activation='relu'),\n",
    "    L.Dense(24, activation='relu'),\n",
    "    L.Dense(NUM_ACTIONS, activation=None, use_bias=False),\n",
    "])"
   ]
  },
  {
   "cell_type": "code",
   "execution_count": 7,
   "metadata": {},
   "outputs": [],
   "source": [
    "def evalQ(s):\n",
    "    return model(s[None, ...].astype(np.float32)).numpy()[0]"
   ]
  },
  {
   "cell_type": "markdown",
   "metadata": {
    "id": "l1YFJEqmJeLb",
    "pycharm": {
     "name": "#%% md\n"
    }
   },
   "source": [
    "### Prepare model for training"
   ]
  },
  {
   "cell_type": "code",
   "execution_count": 8,
   "metadata": {
    "id": "7Rdpi_MHD8Op",
    "pycharm": {
     "name": "#%%\n"
    }
   },
   "outputs": [],
   "source": [
    "# def loss(q1, q2):\n",
    "#     return tf.reduce_sum(tf.square(q1 - q2))\n",
    "# optimizer = tf.train.GradientDescentOptimizer(learning_rate=lr)\n",
    "# model.compile(loss=loss, optimizer=optimizer)\n",
    "\n",
    "optimizer = tf.keras.optimizers.Adam(learning_rate=LR)\n",
    "model.compile(loss='mse', optimizer=optimizer)"
   ]
  },
  {
   "cell_type": "code",
   "execution_count": 9,
   "metadata": {},
   "outputs": [],
   "source": [
    "pathLenList = []\n",
    "totalRewardList = []\n",
    "totalRewardAverageList = []"
   ]
  },
  {
   "cell_type": "code",
   "execution_count": 10,
   "metadata": {},
   "outputs": [
    {
     "name": "stdout",
     "output_type": "stream",
     "text": [
      "<class 'numpy.ndarray'>\n",
      "4\n",
      "[ 0.00294177  0.0314798   0.01904531 -0.01151615]\n",
      "[[ 0.00294177  0.0314798   0.01904531 -0.01151615]]\n"
     ]
    }
   ],
   "source": [
    "s = env.reset()\n",
    "print(type(s))\n",
    "print(len(s))\n",
    "print(s)\n",
    "print(s[None, ...])"
   ]
  },
  {
   "cell_type": "markdown",
   "metadata": {
    "id": "CjRC50GBJeLg",
    "pycharm": {
     "name": "#%% md\n"
    }
   },
   "source": [
    "### DQN training"
   ]
  },
  {
   "cell_type": "code",
   "execution_count": 11,
   "metadata": {},
   "outputs": [],
   "source": [
    "# Initialize empty experiences\n",
    "replay_experience = deque(maxlen=replay_experience_maxlen)"
   ]
  },
  {
   "cell_type": "code",
   "execution_count": 12,
   "metadata": {
    "colab": {
     "base_uri": "https://localhost:8080/",
     "height": 340
    },
    "executionInfo": {
     "elapsed": 1365773,
     "status": "ok",
     "timestamp": 1587061999824,
     "user": {
      "displayName": "Lek Dev",
      "photoUrl": "",
      "userId": "12863469546297939726"
     },
     "user_tz": -180
    },
    "id": "PeHAhQmGJeLh",
    "outputId": "200d84b5-f964-4a33-9b28-c8bb188fc0d9",
    "pycharm": {
     "name": "#%%\n"
    }
   },
   "outputs": [
    {
     "name": "stdout",
     "output_type": "stream",
     "text": [
      "Episode 100: average total reward = 162.12\n",
      "Episode 200: average total reward = 199.72\n"
     ]
    }
   ],
   "source": [
    "totalRewardAverage = 0\n",
    "for i in range(NUM_EPISODES):\n",
    "    \n",
    "    eps = 1./((i/50) + 10)\n",
    "    \n",
    "    s = env.reset()\n",
    "    \n",
    "    totalReward = 0\n",
    "    step = 0\n",
    "    done = False\n",
    "    \n",
    "    while not done and (step < MAX_STEPS):\n",
    "        step += 1\n",
    "\n",
    "        Q_s = evalQ(s)\n",
    "        \n",
    "        if np.random.rand() < eps:\n",
    "            a = env.action_space.sample()\n",
    "        else:\n",
    "            a = np.argmax(Q_s)\n",
    "\n",
    "        s1, r, done, _ = env.step(a)\n",
    "        \n",
    "        totalReward += r\n",
    "\n",
    "        if done:\n",
    "            r = -1.0\n",
    "        \n",
    "        # Save experience\n",
    "        replay_experience.append([s, a, r, s1, done])      \n",
    "        \n",
    "        s = s1\n",
    "        \n",
    "        # Do training if replay_experience contains enough sample > batch_size\n",
    "        if len(replay_experience) > batch_size:\n",
    "            ## 1- Sample from replay experience\n",
    "            batch = random.sample(replay_experience, batch_size)\n",
    "            \n",
    "            states = np.vstack([x[0] for x in batch])\n",
    "            actions = np.array([x[1] for x in batch])\n",
    "            rewards = np.array([x[2] for x in batch])\n",
    "            next_states = np.vstack([x[3] for x in batch])\n",
    "            episodes_done = np.array([x[4] for x in batch])\n",
    "            \n",
    "            target_Q = evalQ(states)\n",
    "            \n",
    "#             target_Q = Q.eval(feed_dict={X: states})\n",
    "            \n",
    "            target_Q[range(batch_size), actions] = rewards + \\\n",
    "                                                   gamma * np.max(evalQ(next_states), axis=1) * ~episodes_done\n",
    "            \n",
    "#             train_step.run(feed_dict={X: states, y: target_Q})            \n",
    "            \n",
    "#             Q_s1 = evalQ(s1)\n",
    "        \n",
    "#             Q_target = Q_s\n",
    "            \n",
    "            #             Q_target[a] = r\n",
    "            \n",
    "#             Q_target[a] = r + gamma * np.max(Q_s1)\n",
    " \n",
    "            model.train_on_batch(states, target_Q)\n",
    "            \n",
    "#             model.train_on_batch(s[None, ...].astype(np.float32), Q_target[None, ...])\n",
    "\n",
    "        \n",
    "            \n",
    "    pathLenList.append(step)\n",
    "    totalRewardList.append(totalReward)\n",
    "\n",
    "    if i % REWARD_AVERAGE_WINDOW == 0 and i >= REWARD_AVERAGE_WINDOW:\n",
    "        totalRewardAverage = np.mean(totalRewardList[-REWARD_AVERAGE_WINDOW:])\n",
    "        totalRewardAverageList.append(totalRewardAverage)\n",
    "        if i % 100 == 0:\n",
    "            print('Episode {}: average total reward = {}'.format(i, totalRewardAverage))\n",
    "            \n",
    "    if totalRewardAverage > 199:\n",
    "        break"
   ]
  },
  {
   "cell_type": "markdown",
   "metadata": {
    "id": "1Er0TlkRJeLk",
    "pycharm": {
     "name": "#%% md\n"
    }
   },
   "source": [
    "## Plot trajectory length over time"
   ]
  },
  {
   "cell_type": "code",
   "execution_count": 13,
   "metadata": {
    "colab": {
     "base_uri": "https://localhost:8080/",
     "height": 265
    },
    "executionInfo": {
     "elapsed": 1106,
     "status": "ok",
     "timestamp": 1587062023252,
     "user": {
      "displayName": "Lek Dev",
      "photoUrl": "",
      "userId": "12863469546297939726"
     },
     "user_tz": -180
    },
    "id": "qrvJlQT1RJai",
    "outputId": "cb5fe3d2-0461-4dac-9138-d7b9c58b9a2f",
    "pycharm": {
     "name": "#%%\n"
    }
   },
   "outputs": [
    {
     "data": {
      "image/png": "[encoded data removed]",
      "text/plain": [
       "<Figure size 432x288 with 1 Axes>"
      ]
     },
     "metadata": {
      "needs_background": "light"
     },
     "output_type": "display_data"
    }
   ],
   "source": [
    "plt.plot(pathLenList)\n",
    "plt.grid()"
   ]
  },
  {
   "cell_type": "markdown",
   "metadata": {
    "id": "hB10VTaVJeLn",
    "pycharm": {
     "name": "#%% md\n"
    }
   },
   "source": [
    "## Plot average total reward over time"
   ]
  },
  {
   "cell_type": "code",
   "execution_count": 14,
   "metadata": {
    "colab": {
     "base_uri": "https://localhost:8080/",
     "height": 265
    },
    "executionInfo": {
     "elapsed": 1298,
     "status": "ok",
     "timestamp": 1587062010418,
     "user": {
      "displayName": "Lek Dev",
      "photoUrl": "",
      "userId": "12863469546297939726"
     },
     "user_tz": -180
    },
    "id": "SvdDw66qJeLo",
    "outputId": "5cb27510-bccc-4b6f-e6df-3b36b412692a",
    "pycharm": {
     "name": "#%%\n"
    }
   },
   "outputs": [
    {
     "data": {
      "image/png": "[encoded data removed]",
      "text/plain": [
       "<Figure size 432x288 with 1 Axes>"
      ]
     },
     "metadata": {
      "needs_background": "light"
     },
     "output_type": "display_data"
    }
   ],
   "source": [
    "plt.plot(totalRewardAverageList)\n",
    "plt.grid()"
   ]
  },
  {
   "cell_type": "code",
   "execution_count": 15,
   "metadata": {
    "colab": {
     "base_uri": "https://localhost:8080/",
     "height": 34
    },
    "executionInfo": {
     "elapsed": 7924,
     "status": "ok",
     "timestamp": 1587062041492,
     "user": {
      "displayName": "Lek Dev",
      "photoUrl": "",
      "userId": "12863469546297939726"
     },
     "user_tz": -180
    },
    "id": "SjKtnoczJeLr",
    "outputId": "fc6c4323-6ea7-4836-bbfa-f055d5d83629",
    "pycharm": {
     "name": "#%%\n"
    }
   },
   "outputs": [],
   "source": [
    "RECORD_VIDEO = False # True\n",
    "\n",
    "if RECORD_VIDEO:\n",
    "  \n",
    "    !pip install pyvirtualdisplay > /dev/null 2>&1\n",
    "    !apt-get install -y xvfb python-opengl ffmpeg > /dev/null 2>&1\n",
    "\n",
    "    from pyvirtualdisplay import Display\n",
    "    display = Display(visible=0, size=(1400, 900))\n",
    "    display.start()"
   ]
  },
  {
   "cell_type": "markdown",
   "metadata": {
    "id": "zdasuT4IJeLu",
    "pycharm": {
     "name": "#%% md\n"
    }
   },
   "source": [
    "## Run simulation"
   ]
  },
  {
   "cell_type": "code",
   "execution_count": 17,
   "metadata": {
    "colab": {
     "base_uri": "https://localhost:8080/",
     "height": 34
    },
    "executionInfo": {
     "elapsed": 2798,
     "status": "ok",
     "timestamp": 1587062228163,
     "user": {
      "displayName": "Lek Dev",
      "photoUrl": "",
      "userId": "12863469546297939726"
     },
     "user_tz": -180
    },
    "id": "yFq_vsynR68Z",
    "outputId": "72dd47c9-61b1-4b3d-aeb7-f86a15a13884",
    "pycharm": {
     "name": "#%%\n"
    }
   },
   "outputs": [
    {
     "name": "stdout",
     "output_type": "stream",
     "text": [
      "Play 20 times with optimal policy\n",
      "Total reward = 200.0\n",
      "Total reward = 200.0\n",
      "Total reward = 200.0\n",
      "Total reward = 200.0\n",
      "Total reward = 200.0\n",
      "Total reward = 200.0\n",
      "Total reward = 200.0\n",
      "Total reward = 200.0\n",
      "Total reward = 200.0\n",
      "Total reward = 200.0\n",
      "Total reward = 200.0\n",
      "Total reward = 200.0\n",
      "Total reward = 200.0\n",
      "Total reward = 200.0\n",
      "Total reward = 200.0\n",
      "Total reward = 200.0\n",
      "Total reward = 200.0\n",
      "Total reward = 200.0\n",
      "Total reward = 200.0\n",
      "Total reward = 200.0\n"
     ]
    }
   ],
   "source": [
    "USE_Q = True\n",
    "\n",
    "if RECORD_VIDEO:\n",
    "    from gym.wrappers import Monitor\n",
    "    env_sim = Monitor(env, './video', force=True)\n",
    "else:\n",
    "    env_sim = env\n",
    "\n",
    "print(\"Play 20 times with optimal policy\")    \n",
    "for i in range(20):    \n",
    "    \n",
    "    s = env_sim.reset()\n",
    "    totalReward = 0\n",
    "\n",
    "    for _ in range(1000):\n",
    "        env_sim.render()\n",
    "        if USE_Q:\n",
    "            a = np.argmax(evalQ(s))\n",
    "        else:\n",
    "            a = env_sim.action_space.sample()    \n",
    "        s, r, done, _ = env_sim.step(a)\n",
    "        totalReward += r\n",
    "        if done:\n",
    "            break\n",
    "       \n",
    "        if not RECORD_VIDEO:\n",
    "            time.sleep(1./30)\n",
    "        \n",
    "    env_sim.close()\n",
    "\n",
    "    print('Total reward = {}'.format(totalReward))"
   ]
  },
  {
   "cell_type": "markdown",
   "metadata": {
    "id": "lNE57fAVMbkf",
    "pycharm": {
     "name": "#%% md\n"
    }
   },
   "source": [
    "## Show the video"
   ]
  },
  {
   "cell_type": "code",
   "execution_count": null,
   "metadata": {
    "colab": {
     "base_uri": "https://localhost:8080/",
     "height": 421
    },
    "executionInfo": {
     "elapsed": 1081,
     "status": "ok",
     "timestamp": 1587062236210,
     "user": {
      "displayName": "Lek Dev",
      "photoUrl": "",
      "userId": "12863469546297939726"
     },
     "user_tz": -180
    },
    "id": "8aTM0iwhJtl4",
    "outputId": "619be504-9be7-4adf-c6e1-627c7da21fef",
    "pycharm": {
     "name": "#%%\n"
    }
   },
   "outputs": [
    {
     "data": {
      "text/html": [
       "<video alt=\"test\" autoplay \n",
       "            loop controls style=\"height: 400px;\">\n",
       "            <source src=\"data:video/mp4;base64,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\" type=\"video/mp4\" />\n",
       "            </video>"
      ],
      "text/plain": [
       "<IPython.core.display.HTML object>"
      ]
     },
     "metadata": {
      "tags": []
     },
     "output_type": "display_data"
    }
   ],
   "source": [
    "# def show_video():\n",
    "#     import glob\n",
    "#     import io\n",
    "#     import base64\n",
    "#     from IPython.display import HTML\n",
    "#     from IPython import display as ipythondisplay\n",
    "\n",
    "#     mp4list = glob.glob('video/*.mp4')\n",
    "#     if len(mp4list) > 0:\n",
    "#         mp4 = mp4list[0]\n",
    "#         video = io.open(mp4, 'r+b').read()\n",
    "#         encoded = base64.b64encode(video)\n",
    "#         ipythondisplay.display(HTML(data='''<video alt=\"test\" autoplay \n",
    "#             loop controls style=\"height: 400px;\">\n",
    "#             <source src=\"data:video/mp4;base64,{0}\" type=\"video/mp4\" />\n",
    "#             </video>'''.format(encoded.decode('ascii'))))\n",
    "#     else: \n",
    "#         print(\"Could not find video\")\n",
    "    \n",
    "# show_video()"
   ]
  },
  {
   "cell_type": "code",
   "execution_count": null,
   "metadata": {
    "id": "xqMTfBPJSgoh",
    "pycharm": {
     "name": "#%%\n"
    }
   },
   "outputs": [],
   "source": [
    "# как видим, задача увы не решена - в итоге уходим за допустимые границы игры. \n",
    "# А нам нужно, чтоб она смогла стоять не ограниченное время (как это было на видео)\n",
    "# в этом и есть наша задача в ДЗ"
   ]
  }
 ],
 "metadata": {
  "accelerator": "GPU",
  "colab": {
   "collapsed_sections": [],
   "name": "Copy of SF_mod_8_dqn-cartpole_v2.ipynb",
   "provenance": [
    {
     "file_id": "10wcvPiBBeuwcyI1rVIhMYIG6YJLcoeP1",
     "timestamp": 1649089617448
    },
    {
     "file_id": "1etzzaUaTU-LaxgI3OVB10kP1fEls1J6y",
     "timestamp": 1588014358531
    },
    {
     "file_id": "1OFPq5d4PGPbBU1Lpfs8_AVBcC0iECOPl",
     "timestamp": 1587058173702
    }
   ]
  },
  "kernelspec": {
   "display_name": "Python 3 (ipykernel)",
   "language": "python",
   "name": "python3"
  },
  "language_info": {
   "codemirror_mode": {
    "name": "ipython",
    "version": 3
   },
   "file_extension": ".py",
   "mimetype": "text/x-python",
   "name": "python",
   "nbconvert_exporter": "python",
   "pygments_lexer": "ipython3",
   "version": "3.9.12"
  }
 },
 "nbformat": 4,
 "nbformat_minor": 1
}
