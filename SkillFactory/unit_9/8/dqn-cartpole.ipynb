{
  "nbformat": 4,
  "nbformat_minor": 0,
  "metadata": {
    "colab": {
      "name": "dqn-cartpole.ipynb",
      "version": "0.3.2",
      "provenance": [],
      "collapsed_sections": []
    },
    "language_info": {
      "codemirror_mode": {
        "name": "ipython",
        "version": 3
      },
      "file_extension": ".py",
      "mimetype": "text/x-python",
      "name": "python",
      "nbconvert_exporter": "python",
      "pygments_lexer": "ipython3",
      "version": "3.7.1"
    },
    "kernelspec": {
      "name": "python3",
      "display_name": "Python 3"
    },
    "accelerator": "GPU"
  },
  "cells": [
    {
      "metadata": {
        "id": "cnhkXzquJeLH",
        "colab_type": "code",
        "colab": {}
      },
      "cell_type": "code",
      "source": [
        "import time\n",
        "import random\n",
        "import numpy as np\n",
        "\n",
        "import gym\n",
        "\n",
        "import tensorflow as tf\n",
        "tf.enable_eager_execution()\n",
        "\n",
        "import matplotlib.pyplot as plt\n",
        "%matplotlib inline"
      ],
      "execution_count": 0,
      "outputs": []
    },
    {
      "metadata": {
        "id": "9D-t4TtCJeLM",
        "colab_type": "text"
      },
      "cell_type": "markdown",
      "source": [
        "## Load GYM environment"
      ]
    },
    {
      "metadata": {
        "scrolled": false,
        "id": "Xwdf4vsHJeLN",
        "colab_type": "code",
        "outputId": "3e11a7ff-fea0-43be-c2a8-f88741f700d1",
        "colab": {
          "base_uri": "https://localhost:8080/",
          "height": 120
        }
      },
      "cell_type": "code",
      "source": [
        "env = gym.make('CartPole-v0')\n",
        "\n",
        "STATE_LIMITS = env.observation_space\n",
        "NUM_ACTIONS = env.action_space.n\n",
        "\n",
        "print('Actions: {}'.format(NUM_ACTIONS))\n",
        "print('States limits:')\n",
        "for i in range(STATE_LIMITS.shape[0]):\n",
        "    print('[{}, {}]'.format(STATE_LIMITS.low[i], STATE_LIMITS.high[i]))"
      ],
      "execution_count": 2,
      "outputs": [
        {
          "output_type": "stream",
          "text": [
            "Actions: 2\n",
            "States limits:\n",
            "[-4.800000190734863, 4.800000190734863]\n",
            "[-3.4028234663852886e+38, 3.4028234663852886e+38]\n",
            "[-0.41887903213500977, 0.41887903213500977]\n",
            "[-3.4028234663852886e+38, 3.4028234663852886e+38]\n"
          ],
          "name": "stdout"
        }
      ]
    },
    {
      "metadata": {
        "id": "auU0dXqEJeLQ",
        "colab_type": "text"
      },
      "cell_type": "markdown",
      "source": [
        "## Settings"
      ]
    },
    {
      "metadata": {
        "id": "kSlPTNohJeLR",
        "colab_type": "code",
        "colab": {}
      },
      "cell_type": "code",
      "source": [
        "lr = 0.01\n",
        "gamma = 0.95\n",
        "\n",
        "NUM_EPISODES = 2000\n",
        "MAX_STEPS = 100\n",
        "REWARD_AVERAGE_WINDOW = 20"
      ],
      "execution_count": 0,
      "outputs": []
    },
    {
      "metadata": {
        "id": "AFtnFh9-JeLW",
        "colab_type": "text"
      },
      "cell_type": "markdown",
      "source": [
        "## DQN Model"
      ]
    },
    {
      "metadata": {
        "id": "SM8c4_EzJeLX",
        "colab_type": "code",
        "colab": {}
      },
      "cell_type": "code",
      "source": [
        "model = tf.keras.Sequential([\n",
        "    tf.keras.layers.Dense(24, activation=tf.nn.relu),\n",
        "    tf.keras.layers.Dense(24, activation=tf.nn.relu),\n",
        "    tf.keras.layers.Dense(NUM_ACTIONS, activation=None, use_bias=False),\n",
        "])\n",
        "\n",
        "def evalQ(s):\n",
        "    return model(s[None, ...].astype(np.float32)).numpy()[0]"
      ],
      "execution_count": 0,
      "outputs": []
    },
    {
      "metadata": {
        "id": "l1YFJEqmJeLb",
        "colab_type": "text"
      },
      "cell_type": "markdown",
      "source": [
        "## Prepare model for training"
      ]
    },
    {
      "metadata": {
        "id": "XDFmNd1SJeLd",
        "colab_type": "code",
        "colab": {}
      },
      "cell_type": "code",
      "source": [
        "def loss(q1, q2):\n",
        "    return tf.reduce_sum(tf.square(q1 - q2))\n",
        "\n",
        "optimizer = tf.train.GradientDescentOptimizer(learning_rate=lr)\n",
        "model.compile(loss=loss, optimizer=optimizer)\n",
        "\n",
        "pathLenList = []\n",
        "totalRewardList = []\n",
        "totalRewardAverageList = []"
      ],
      "execution_count": 0,
      "outputs": []
    },
    {
      "metadata": {
        "id": "CjRC50GBJeLg",
        "colab_type": "text"
      },
      "cell_type": "markdown",
      "source": [
        "## DQN training"
      ]
    },
    {
      "metadata": {
        "id": "PeHAhQmGJeLh",
        "colab_type": "code",
        "outputId": "10867a8e-0298-4594-d3cb-85f979650939",
        "colab": {
          "base_uri": "https://localhost:8080/",
          "height": 414
        }
      },
      "cell_type": "code",
      "source": [
        "for i in range(NUM_EPISODES):\n",
        "    \n",
        "    eps = 1./((i/50) + 10)\n",
        "    \n",
        "    s = env.reset()\n",
        "    \n",
        "    totalReward = 0\n",
        "    step = 0\n",
        "    \n",
        "    while step < MAX_STEPS:\n",
        "        step += 1\n",
        "\n",
        "        Q_s = evalQ(s)\n",
        "        \n",
        "        if np.random.rand() < eps:\n",
        "            a = env.action_space.sample()\n",
        "        else:\n",
        "            a = np.argmax(Q_s)\n",
        "\n",
        "        s1, r, done, _ = env.step(a)\n",
        "\n",
        "        Q_s1 = evalQ(s1)\n",
        "        \n",
        "        Q_target = Q_s\n",
        "        if done:\n",
        "            Q_target[a] = r\n",
        "        else:\n",
        "            Q_target[a] = r + gamma * np.max(Q_s1)\n",
        " \n",
        "        model.train_on_batch(s[None, ...].astype(np.float32), Q_target[None, ...])\n",
        "\n",
        "        totalReward += r\n",
        "        s = s1\n",
        "        \n",
        "        if done:\n",
        "            break\n",
        "            \n",
        "    pathLenList.append(step)\n",
        "    totalRewardList.append(totalReward)\n",
        "\n",
        "    if i % REWARD_AVERAGE_WINDOW == 0 and i >= REWARD_AVERAGE_WINDOW:\n",
        "        totalRewardAverage = np.mean(totalRewardList[-REWARD_AVERAGE_WINDOW:])\n",
        "        totalRewardAverageList.append(totalRewardAverage)\n",
        "        if i % 100 == 0:\n",
        "            print('Episode {}: average total reward = {}'.format(i, totalRewardAverage))"
      ],
      "execution_count": 6,
      "outputs": [
        {
          "output_type": "stream",
          "text": [
            "WARNING:tensorflow:From /usr/local/lib/python3.6/dist-packages/tensorflow/python/ops/resource_variable_ops.py:642: colocate_with (from tensorflow.python.framework.ops) is deprecated and will be removed in a future version.\n",
            "Instructions for updating:\n",
            "Colocations handled automatically by placer.\n",
            "Episode 100: average total reward = 10.05\n",
            "Episode 200: average total reward = 14.75\n",
            "Episode 300: average total reward = 19.7\n",
            "Episode 400: average total reward = 9.65\n",
            "Episode 500: average total reward = 9.7\n",
            "Episode 600: average total reward = 9.85\n",
            "Episode 700: average total reward = 9.6\n",
            "Episode 800: average total reward = 9.4\n",
            "Episode 900: average total reward = 9.2\n",
            "Episode 1000: average total reward = 10.0\n",
            "Episode 1100: average total reward = 9.6\n",
            "Episode 1200: average total reward = 9.7\n",
            "Episode 1300: average total reward = 9.1\n",
            "Episode 1400: average total reward = 9.85\n",
            "Episode 1500: average total reward = 9.35\n",
            "Episode 1600: average total reward = 9.4\n",
            "Episode 1700: average total reward = 9.55\n",
            "Episode 1800: average total reward = 8.75\n",
            "Episode 1900: average total reward = 9.4\n"
          ],
          "name": "stdout"
        }
      ]
    },
    {
      "metadata": {
        "id": "1Er0TlkRJeLk",
        "colab_type": "text"
      },
      "cell_type": "markdown",
      "source": [
        "## Plot trajectory length over time"
      ]
    },
    {
      "metadata": {
        "scrolled": true,
        "id": "MMdftxV2JeLl",
        "colab_type": "code",
        "outputId": "e4b671e5-437b-44cd-9fc2-c112891d68b6",
        "colab": {
          "base_uri": "https://localhost:8080/",
          "height": 269
        }
      },
      "cell_type": "code",
      "source": [
        "plt.plot(pathLenList)\n",
        "plt.grid()"
      ],
      "execution_count": 7,
      "outputs": [
        {
          "output_type": "display_data",
          "data": {
            "image/png": "[encoded data removed]",
            "text/plain": [
              "<Figure size 432x288 with 1 Axes>"
            ]
          },
          "metadata": {
            "tags": []
          }
        }
      ]
    },
    {
      "metadata": {
        "id": "hB10VTaVJeLn",
        "colab_type": "text"
      },
      "cell_type": "markdown",
      "source": [
        "## Plot average total reward over time"
      ]
    },
    {
      "metadata": {
        "id": "SvdDw66qJeLo",
        "colab_type": "code",
        "outputId": "a180f6e4-16c4-4c8b-8582-43fa7e0c887c",
        "colab": {
          "base_uri": "https://localhost:8080/",
          "height": 269
        }
      },
      "cell_type": "code",
      "source": [
        "plt.plot(totalRewardAverageList)\n",
        "plt.grid()"
      ],
      "execution_count": 8,
      "outputs": [
        {
          "output_type": "display_data",
          "data": {
            "image/png": "[encoded data removed]",
            "text/plain": [
              "<Figure size 432x288 with 1 Axes>"
            ]
          },
          "metadata": {
            "tags": []
          }
        }
      ]
    },
    {
      "metadata": {
        "id": "SjKtnoczJeLr",
        "colab_type": "code",
        "colab": {}
      },
      "cell_type": "code",
      "source": [
        "RECORD_VIDEO = True\n",
        "\n",
        "if RECORD_VIDEO:\n",
        "  \n",
        "    !pip install pyvirtualdisplay > /dev/null 2>&1\n",
        "    !apt-get install -y xvfb python-opengl ffmpeg > /dev/null 2>&1\n",
        "\n",
        "    from pyvirtualdisplay import Display\n",
        "    display = Display(visible=0, size=(1400, 900))\n",
        "    display.start()"
      ],
      "execution_count": 0,
      "outputs": []
    },
    {
      "metadata": {
        "id": "zdasuT4IJeLu",
        "colab_type": "text"
      },
      "cell_type": "markdown",
      "source": [
        "## Run simulation"
      ]
    },
    {
      "metadata": {
        "id": "55B63PEuJeLv",
        "colab_type": "code",
        "outputId": "23203023-796a-471b-bf5f-c5f415edfef7",
        "colab": {
          "base_uri": "https://localhost:8080/",
          "height": 34
        }
      },
      "cell_type": "code",
      "source": [
        "USE_Q = True\n",
        "\n",
        "if RECORD_VIDEO:\n",
        "    from gym.wrappers import Monitor\n",
        "    env_sim = Monitor(env, './video', force=True)\n",
        "else:\n",
        "    env_sim = env\n",
        "    \n",
        "s = env_sim.reset()\n",
        "totalReward = 0\n",
        "\n",
        "for _ in range(1000):\n",
        "    env_sim.render()\n",
        "    if USE_Q:\n",
        "        a = np.argmax(evalQ(s))\n",
        "    else:\n",
        "        a = env_sim.action_space.sample()    \n",
        "    s, r, done, _ = env_sim.step(a)\n",
        "    totalReward += r\n",
        "    if done:\n",
        "        break\n",
        "       \n",
        "    if not RECORD_VIDEO:\n",
        "        time.sleep(1./30)\n",
        "        \n",
        "env_sim.close()\n",
        "\n",
        "print('Total reward = {}'.format(totalReward))"
      ],
      "execution_count": 10,
      "outputs": [
        {
          "output_type": "stream",
          "text": [
            "Total reward = 9.0\n"
          ],
          "name": "stdout"
        }
      ]
    },
    {
      "metadata": {
        "id": "lNE57fAVMbkf",
        "colab_type": "text"
      },
      "cell_type": "markdown",
      "source": [
        "## Show the video"
      ]
    },
    {
      "metadata": {
        "id": "8aTM0iwhJtl4",
        "colab_type": "code",
        "colab": {}
      },
      "cell_type": "code",
      "source": [
        "def show_video():\n",
        "    import glob\n",
        "    import io\n",
        "    import base64\n",
        "    from IPython.display import HTML\n",
        "    from IPython import display as ipythondisplay\n",
        "\n",
        "    mp4list = glob.glob('video/*.mp4')\n",
        "    if len(mp4list) > 0:\n",
        "        mp4 = mp4list[0]\n",
        "        video = io.open(mp4, 'r+b').read()\n",
        "        encoded = base64.b64encode(video)\n",
        "        ipythondisplay.display(HTML(data='''<video alt=\"test\" autoplay \n",
        "            loop controls style=\"height: 400px;\">\n",
        "            <source src=\"data:video/mp4;base64,{0}\" type=\"video/mp4\" />\n",
        "            </video>'''.format(encoded.decode('ascii'))))\n",
        "    else: \n",
        "        print(\"Could not find video\")\n",
        "    \n",
        "show_video()"
      ],
      "execution_count": 0,
      "outputs": []
    }
  ]
}