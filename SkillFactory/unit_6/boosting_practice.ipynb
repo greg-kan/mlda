{
 "cells": [
  {
   "cell_type": "code",
   "execution_count": 1,
   "metadata": {},
   "outputs": [],
   "source": [
    "import pandas as pd\n",
    "import numpy as np\n",
    "from sklearn.metrics import accuracy_score\n",
    "from sklearn.model_selection import train_test_split, GridSearchCV\n",
    "from sklearn.ensemble import GradientBoostingClassifier\n",
    "\n",
    "import matplotlib.pyplot as plt\n",
    "#import seaborn as sns\n",
    "%matplotlib inline"
   ]
  },
  {
   "cell_type": "code",
   "execution_count": 2,
   "metadata": {},
   "outputs": [],
   "source": [
    "df = pd.read_csv('spam7.csv')"
   ]
  },
  {
   "cell_type": "code",
   "execution_count": 3,
   "metadata": {},
   "outputs": [
    {
     "data": {
      "text/html": [
       "<div>\n",
       "<style scoped>\n",
       "    .dataframe tbody tr th:only-of-type {\n",
       "        vertical-align: middle;\n",
       "    }\n",
       "\n",
       "    .dataframe tbody tr th {\n",
       "        vertical-align: top;\n",
       "    }\n",
       "\n",
       "    .dataframe thead th {\n",
       "        text-align: right;\n",
       "    }\n",
       "</style>\n",
       "<table border=\"1\" class=\"dataframe\">\n",
       "  <thead>\n",
       "    <tr style=\"text-align: right;\">\n",
       "      <th></th>\n",
       "      <th>Unnamed: 0</th>\n",
       "      <th>crl.tot</th>\n",
       "      <th>dollar</th>\n",
       "      <th>bang</th>\n",
       "      <th>money</th>\n",
       "      <th>n000</th>\n",
       "      <th>make</th>\n",
       "      <th>yesno</th>\n",
       "    </tr>\n",
       "  </thead>\n",
       "  <tbody>\n",
       "    <tr>\n",
       "      <th>0</th>\n",
       "      <td>1</td>\n",
       "      <td>278</td>\n",
       "      <td>0.000</td>\n",
       "      <td>0.778</td>\n",
       "      <td>0.00</td>\n",
       "      <td>0.00</td>\n",
       "      <td>0.00</td>\n",
       "      <td>y</td>\n",
       "    </tr>\n",
       "    <tr>\n",
       "      <th>1</th>\n",
       "      <td>2</td>\n",
       "      <td>1028</td>\n",
       "      <td>0.180</td>\n",
       "      <td>0.372</td>\n",
       "      <td>0.43</td>\n",
       "      <td>0.43</td>\n",
       "      <td>0.21</td>\n",
       "      <td>y</td>\n",
       "    </tr>\n",
       "    <tr>\n",
       "      <th>2</th>\n",
       "      <td>3</td>\n",
       "      <td>2259</td>\n",
       "      <td>0.184</td>\n",
       "      <td>0.276</td>\n",
       "      <td>0.06</td>\n",
       "      <td>1.16</td>\n",
       "      <td>0.06</td>\n",
       "      <td>y</td>\n",
       "    </tr>\n",
       "    <tr>\n",
       "      <th>3</th>\n",
       "      <td>4</td>\n",
       "      <td>191</td>\n",
       "      <td>0.000</td>\n",
       "      <td>0.137</td>\n",
       "      <td>0.00</td>\n",
       "      <td>0.00</td>\n",
       "      <td>0.00</td>\n",
       "      <td>y</td>\n",
       "    </tr>\n",
       "    <tr>\n",
       "      <th>4</th>\n",
       "      <td>5</td>\n",
       "      <td>191</td>\n",
       "      <td>0.000</td>\n",
       "      <td>0.135</td>\n",
       "      <td>0.00</td>\n",
       "      <td>0.00</td>\n",
       "      <td>0.00</td>\n",
       "      <td>y</td>\n",
       "    </tr>\n",
       "  </tbody>\n",
       "</table>\n",
       "</div>"
      ],
      "text/plain": [
       "   Unnamed: 0  crl.tot  dollar   bang  money  n000  make yesno\n",
       "0           1      278   0.000  0.778   0.00  0.00  0.00     y\n",
       "1           2     1028   0.180  0.372   0.43  0.43  0.21     y\n",
       "2           3     2259   0.184  0.276   0.06  1.16  0.06     y\n",
       "3           4      191   0.000  0.137   0.00  0.00  0.00     y\n",
       "4           5      191   0.000  0.135   0.00  0.00  0.00     y"
      ]
     },
     "execution_count": 3,
     "metadata": {},
     "output_type": "execute_result"
    }
   ],
   "source": [
    "df.head()"
   ]
  },
  {
   "cell_type": "code",
   "execution_count": 4,
   "metadata": {},
   "outputs": [
    {
     "name": "stdout",
     "output_type": "stream",
     "text": [
      "<class 'pandas.core.frame.DataFrame'>\n",
      "RangeIndex: 4601 entries, 0 to 4600\n",
      "Data columns (total 8 columns):\n",
      " #   Column      Non-Null Count  Dtype  \n",
      "---  ------      --------------  -----  \n",
      " 0   Unnamed: 0  4601 non-null   int64  \n",
      " 1   crl.tot     4601 non-null   int64  \n",
      " 2   dollar      4601 non-null   float64\n",
      " 3   bang        4601 non-null   float64\n",
      " 4   money       4601 non-null   float64\n",
      " 5   n000        4601 non-null   float64\n",
      " 6   make        4601 non-null   float64\n",
      " 7   yesno       4601 non-null   object \n",
      "dtypes: float64(5), int64(2), object(1)\n",
      "memory usage: 287.7+ KB\n"
     ]
    }
   ],
   "source": [
    "df.info()"
   ]
  },
  {
   "cell_type": "code",
   "execution_count": 5,
   "metadata": {},
   "outputs": [
    {
     "data": {
      "text/plain": [
       "Index(['Unnamed: 0', 'crl.tot', 'dollar', 'bang', 'money', 'n000', 'make',\n",
       "       'yesno'],\n",
       "      dtype='object')"
      ]
     },
     "execution_count": 5,
     "metadata": {},
     "output_type": "execute_result"
    }
   ],
   "source": [
    "df.columns"
   ]
  },
  {
   "cell_type": "code",
   "execution_count": 6,
   "metadata": {},
   "outputs": [
    {
     "data": {
      "text/plain": [
       "n    2788\n",
       "y    1813\n",
       "Name: yesno, dtype: int64"
      ]
     },
     "execution_count": 6,
     "metadata": {},
     "output_type": "execute_result"
    }
   ],
   "source": [
    "df.yesno.value_counts()"
   ]
  },
  {
   "cell_type": "code",
   "execution_count": 7,
   "metadata": {},
   "outputs": [],
   "source": [
    "df['spam'] = df.yesno.apply(lambda x: 1 if x=='y' else 0)"
   ]
  },
  {
   "cell_type": "code",
   "execution_count": 8,
   "metadata": {},
   "outputs": [
    {
     "data": {
      "text/plain": [
       "0    2788\n",
       "1    1813\n",
       "Name: spam, dtype: int64"
      ]
     },
     "execution_count": 8,
     "metadata": {},
     "output_type": "execute_result"
    }
   ],
   "source": [
    "df.spam.value_counts()"
   ]
  },
  {
   "cell_type": "code",
   "execution_count": 9,
   "metadata": {},
   "outputs": [],
   "source": [
    "df.drop(['Unnamed: 0', 'yesno'], axis=1, inplace=True)"
   ]
  },
  {
   "cell_type": "code",
   "execution_count": 10,
   "metadata": {},
   "outputs": [
    {
     "name": "stdout",
     "output_type": "stream",
     "text": [
      "<class 'pandas.core.frame.DataFrame'>\n",
      "RangeIndex: 4601 entries, 0 to 4600\n",
      "Data columns (total 7 columns):\n",
      " #   Column   Non-Null Count  Dtype  \n",
      "---  ------   --------------  -----  \n",
      " 0   crl.tot  4601 non-null   int64  \n",
      " 1   dollar   4601 non-null   float64\n",
      " 2   bang     4601 non-null   float64\n",
      " 3   money    4601 non-null   float64\n",
      " 4   n000     4601 non-null   float64\n",
      " 5   make     4601 non-null   float64\n",
      " 6   spam     4601 non-null   int64  \n",
      "dtypes: float64(5), int64(2)\n",
      "memory usage: 251.7 KB\n"
     ]
    }
   ],
   "source": [
    "df.info()"
   ]
  },
  {
   "cell_type": "code",
   "execution_count": 11,
   "metadata": {},
   "outputs": [
    {
     "data": {
      "text/html": [
       "<div>\n",
       "<style scoped>\n",
       "    .dataframe tbody tr th:only-of-type {\n",
       "        vertical-align: middle;\n",
       "    }\n",
       "\n",
       "    .dataframe tbody tr th {\n",
       "        vertical-align: top;\n",
       "    }\n",
       "\n",
       "    .dataframe thead th {\n",
       "        text-align: right;\n",
       "    }\n",
       "</style>\n",
       "<table border=\"1\" class=\"dataframe\">\n",
       "  <thead>\n",
       "    <tr style=\"text-align: right;\">\n",
       "      <th></th>\n",
       "      <th>crl.tot</th>\n",
       "      <th>dollar</th>\n",
       "      <th>bang</th>\n",
       "      <th>money</th>\n",
       "      <th>n000</th>\n",
       "      <th>make</th>\n",
       "      <th>spam</th>\n",
       "    </tr>\n",
       "  </thead>\n",
       "  <tbody>\n",
       "    <tr>\n",
       "      <th>1615</th>\n",
       "      <td>228</td>\n",
       "      <td>0.000</td>\n",
       "      <td>0.000</td>\n",
       "      <td>0.00</td>\n",
       "      <td>0.00</td>\n",
       "      <td>0.0</td>\n",
       "      <td>1</td>\n",
       "    </tr>\n",
       "    <tr>\n",
       "      <th>4400</th>\n",
       "      <td>67</td>\n",
       "      <td>0.000</td>\n",
       "      <td>0.656</td>\n",
       "      <td>0.00</td>\n",
       "      <td>0.00</td>\n",
       "      <td>0.0</td>\n",
       "      <td>0</td>\n",
       "    </tr>\n",
       "    <tr>\n",
       "      <th>456</th>\n",
       "      <td>91</td>\n",
       "      <td>0.251</td>\n",
       "      <td>0.251</td>\n",
       "      <td>0.00</td>\n",
       "      <td>0.00</td>\n",
       "      <td>0.0</td>\n",
       "      <td>1</td>\n",
       "    </tr>\n",
       "    <tr>\n",
       "      <th>19</th>\n",
       "      <td>186</td>\n",
       "      <td>0.496</td>\n",
       "      <td>0.055</td>\n",
       "      <td>0.63</td>\n",
       "      <td>0.31</td>\n",
       "      <td>0.0</td>\n",
       "      <td>1</td>\n",
       "    </tr>\n",
       "    <tr>\n",
       "      <th>2059</th>\n",
       "      <td>71</td>\n",
       "      <td>0.000</td>\n",
       "      <td>0.000</td>\n",
       "      <td>0.00</td>\n",
       "      <td>0.00</td>\n",
       "      <td>0.0</td>\n",
       "      <td>0</td>\n",
       "    </tr>\n",
       "  </tbody>\n",
       "</table>\n",
       "</div>"
      ],
      "text/plain": [
       "      crl.tot  dollar   bang  money  n000  make  spam\n",
       "1615      228   0.000  0.000   0.00  0.00   0.0     1\n",
       "4400       67   0.000  0.656   0.00  0.00   0.0     0\n",
       "456        91   0.251  0.251   0.00  0.00   0.0     1\n",
       "19        186   0.496  0.055   0.63  0.31   0.0     1\n",
       "2059       71   0.000  0.000   0.00  0.00   0.0     0"
      ]
     },
     "execution_count": 11,
     "metadata": {},
     "output_type": "execute_result"
    }
   ],
   "source": [
    "df.sample(5)"
   ]
  },
  {
   "cell_type": "code",
   "execution_count": 12,
   "metadata": {},
   "outputs": [],
   "source": [
    "X = df.drop('spam', axis=1)\n",
    "y = df.spam"
   ]
  },
  {
   "cell_type": "code",
   "execution_count": 13,
   "metadata": {},
   "outputs": [
    {
     "data": {
      "text/plain": [
       "['crl.tot', 'dollar', 'bang', 'money', 'n000', 'make']"
      ]
     },
     "execution_count": 13,
     "metadata": {},
     "output_type": "execute_result"
    }
   ],
   "source": [
    "col_lst = list(X.columns)\n",
    "col_lst"
   ]
  },
  {
   "cell_type": "code",
   "execution_count": 14,
   "metadata": {},
   "outputs": [],
   "source": [
    "def multiply_columns(data):\n",
    "    col_lst = list(data.columns)\n",
    "    col_cnt = len(col_lst) - 1\n",
    "    for ind1, col in enumerate(data.columns):\n",
    "        #print(ind, col)\n",
    "        for ind2 in range(ind1 + 1, col_cnt + 1):\n",
    "            new_col = col_lst[ind1] + '_' + col_lst[ind2]\n",
    "            print(new_col)\n",
    "            data[new_col] = data[col_lst[ind1]]*data[col_lst[ind2]]"
   ]
  },
  {
   "cell_type": "code",
   "execution_count": 15,
   "metadata": {},
   "outputs": [
    {
     "name": "stdout",
     "output_type": "stream",
     "text": [
      "crl.tot_dollar\n",
      "crl.tot_bang\n",
      "crl.tot_money\n",
      "crl.tot_n000\n",
      "crl.tot_make\n",
      "dollar_bang\n",
      "dollar_money\n",
      "dollar_n000\n",
      "dollar_make\n",
      "bang_money\n",
      "bang_n000\n",
      "bang_make\n",
      "money_n000\n",
      "money_make\n",
      "n000_make\n"
     ]
    }
   ],
   "source": [
    "multiply_columns(X)"
   ]
  },
  {
   "cell_type": "code",
   "execution_count": 16,
   "metadata": {},
   "outputs": [
    {
     "data": {
      "text/html": [
       "<div>\n",
       "<style scoped>\n",
       "    .dataframe tbody tr th:only-of-type {\n",
       "        vertical-align: middle;\n",
       "    }\n",
       "\n",
       "    .dataframe tbody tr th {\n",
       "        vertical-align: top;\n",
       "    }\n",
       "\n",
       "    .dataframe thead th {\n",
       "        text-align: right;\n",
       "    }\n",
       "</style>\n",
       "<table border=\"1\" class=\"dataframe\">\n",
       "  <thead>\n",
       "    <tr style=\"text-align: right;\">\n",
       "      <th></th>\n",
       "      <th>crl.tot</th>\n",
       "      <th>dollar</th>\n",
       "      <th>bang</th>\n",
       "      <th>money</th>\n",
       "      <th>n000</th>\n",
       "      <th>make</th>\n",
       "      <th>crl.tot_dollar</th>\n",
       "      <th>crl.tot_bang</th>\n",
       "      <th>crl.tot_money</th>\n",
       "      <th>crl.tot_n000</th>\n",
       "      <th>...</th>\n",
       "      <th>dollar_bang</th>\n",
       "      <th>dollar_money</th>\n",
       "      <th>dollar_n000</th>\n",
       "      <th>dollar_make</th>\n",
       "      <th>bang_money</th>\n",
       "      <th>bang_n000</th>\n",
       "      <th>bang_make</th>\n",
       "      <th>money_n000</th>\n",
       "      <th>money_make</th>\n",
       "      <th>n000_make</th>\n",
       "    </tr>\n",
       "  </thead>\n",
       "  <tbody>\n",
       "    <tr>\n",
       "      <th>0</th>\n",
       "      <td>278</td>\n",
       "      <td>0.000</td>\n",
       "      <td>0.778</td>\n",
       "      <td>0.00</td>\n",
       "      <td>0.00</td>\n",
       "      <td>0.00</td>\n",
       "      <td>0.000</td>\n",
       "      <td>216.284</td>\n",
       "      <td>0.00</td>\n",
       "      <td>0.00</td>\n",
       "      <td>...</td>\n",
       "      <td>0.000000</td>\n",
       "      <td>0.00000</td>\n",
       "      <td>0.00000</td>\n",
       "      <td>0.00000</td>\n",
       "      <td>0.00000</td>\n",
       "      <td>0.00000</td>\n",
       "      <td>0.00000</td>\n",
       "      <td>0.0000</td>\n",
       "      <td>0.0000</td>\n",
       "      <td>0.0000</td>\n",
       "    </tr>\n",
       "    <tr>\n",
       "      <th>1</th>\n",
       "      <td>1028</td>\n",
       "      <td>0.180</td>\n",
       "      <td>0.372</td>\n",
       "      <td>0.43</td>\n",
       "      <td>0.43</td>\n",
       "      <td>0.21</td>\n",
       "      <td>185.040</td>\n",
       "      <td>382.416</td>\n",
       "      <td>442.04</td>\n",
       "      <td>442.04</td>\n",
       "      <td>...</td>\n",
       "      <td>0.066960</td>\n",
       "      <td>0.07740</td>\n",
       "      <td>0.07740</td>\n",
       "      <td>0.03780</td>\n",
       "      <td>0.15996</td>\n",
       "      <td>0.15996</td>\n",
       "      <td>0.07812</td>\n",
       "      <td>0.1849</td>\n",
       "      <td>0.0903</td>\n",
       "      <td>0.0903</td>\n",
       "    </tr>\n",
       "    <tr>\n",
       "      <th>2</th>\n",
       "      <td>2259</td>\n",
       "      <td>0.184</td>\n",
       "      <td>0.276</td>\n",
       "      <td>0.06</td>\n",
       "      <td>1.16</td>\n",
       "      <td>0.06</td>\n",
       "      <td>415.656</td>\n",
       "      <td>623.484</td>\n",
       "      <td>135.54</td>\n",
       "      <td>2620.44</td>\n",
       "      <td>...</td>\n",
       "      <td>0.050784</td>\n",
       "      <td>0.01104</td>\n",
       "      <td>0.21344</td>\n",
       "      <td>0.01104</td>\n",
       "      <td>0.01656</td>\n",
       "      <td>0.32016</td>\n",
       "      <td>0.01656</td>\n",
       "      <td>0.0696</td>\n",
       "      <td>0.0036</td>\n",
       "      <td>0.0696</td>\n",
       "    </tr>\n",
       "    <tr>\n",
       "      <th>3</th>\n",
       "      <td>191</td>\n",
       "      <td>0.000</td>\n",
       "      <td>0.137</td>\n",
       "      <td>0.00</td>\n",
       "      <td>0.00</td>\n",
       "      <td>0.00</td>\n",
       "      <td>0.000</td>\n",
       "      <td>26.167</td>\n",
       "      <td>0.00</td>\n",
       "      <td>0.00</td>\n",
       "      <td>...</td>\n",
       "      <td>0.000000</td>\n",
       "      <td>0.00000</td>\n",
       "      <td>0.00000</td>\n",
       "      <td>0.00000</td>\n",
       "      <td>0.00000</td>\n",
       "      <td>0.00000</td>\n",
       "      <td>0.00000</td>\n",
       "      <td>0.0000</td>\n",
       "      <td>0.0000</td>\n",
       "      <td>0.0000</td>\n",
       "    </tr>\n",
       "    <tr>\n",
       "      <th>4</th>\n",
       "      <td>191</td>\n",
       "      <td>0.000</td>\n",
       "      <td>0.135</td>\n",
       "      <td>0.00</td>\n",
       "      <td>0.00</td>\n",
       "      <td>0.00</td>\n",
       "      <td>0.000</td>\n",
       "      <td>25.785</td>\n",
       "      <td>0.00</td>\n",
       "      <td>0.00</td>\n",
       "      <td>...</td>\n",
       "      <td>0.000000</td>\n",
       "      <td>0.00000</td>\n",
       "      <td>0.00000</td>\n",
       "      <td>0.00000</td>\n",
       "      <td>0.00000</td>\n",
       "      <td>0.00000</td>\n",
       "      <td>0.00000</td>\n",
       "      <td>0.0000</td>\n",
       "      <td>0.0000</td>\n",
       "      <td>0.0000</td>\n",
       "    </tr>\n",
       "  </tbody>\n",
       "</table>\n",
       "<p>5 rows × 21 columns</p>\n",
       "</div>"
      ],
      "text/plain": [
       "   crl.tot  dollar   bang  money  n000  make  crl.tot_dollar  crl.tot_bang  \\\n",
       "0      278   0.000  0.778   0.00  0.00  0.00           0.000       216.284   \n",
       "1     1028   0.180  0.372   0.43  0.43  0.21         185.040       382.416   \n",
       "2     2259   0.184  0.276   0.06  1.16  0.06         415.656       623.484   \n",
       "3      191   0.000  0.137   0.00  0.00  0.00           0.000        26.167   \n",
       "4      191   0.000  0.135   0.00  0.00  0.00           0.000        25.785   \n",
       "\n",
       "   crl.tot_money  crl.tot_n000  ...  dollar_bang  dollar_money  dollar_n000  \\\n",
       "0           0.00          0.00  ...     0.000000       0.00000      0.00000   \n",
       "1         442.04        442.04  ...     0.066960       0.07740      0.07740   \n",
       "2         135.54       2620.44  ...     0.050784       0.01104      0.21344   \n",
       "3           0.00          0.00  ...     0.000000       0.00000      0.00000   \n",
       "4           0.00          0.00  ...     0.000000       0.00000      0.00000   \n",
       "\n",
       "   dollar_make  bang_money  bang_n000  bang_make  money_n000  money_make  \\\n",
       "0      0.00000     0.00000    0.00000    0.00000      0.0000      0.0000   \n",
       "1      0.03780     0.15996    0.15996    0.07812      0.1849      0.0903   \n",
       "2      0.01104     0.01656    0.32016    0.01656      0.0696      0.0036   \n",
       "3      0.00000     0.00000    0.00000    0.00000      0.0000      0.0000   \n",
       "4      0.00000     0.00000    0.00000    0.00000      0.0000      0.0000   \n",
       "\n",
       "   n000_make  \n",
       "0     0.0000  \n",
       "1     0.0903  \n",
       "2     0.0696  \n",
       "3     0.0000  \n",
       "4     0.0000  \n",
       "\n",
       "[5 rows x 21 columns]"
      ]
     },
     "execution_count": 16,
     "metadata": {},
     "output_type": "execute_result"
    }
   ],
   "source": [
    "X.head()"
   ]
  },
  {
   "cell_type": "code",
   "execution_count": 17,
   "metadata": {},
   "outputs": [],
   "source": [
    "X_train, X_test, y_train, y_test = train_test_split(X, y, test_size = 0.2, random_state=42)"
   ]
  },
  {
   "cell_type": "code",
   "execution_count": 18,
   "metadata": {},
   "outputs": [],
   "source": [
    "clf = GradientBoostingClassifier(learning_rate=0.1,\n",
    "                                 n_estimators=100,\n",
    "                                 max_depth=3,\n",
    "                                 min_samples_split=2,\n",
    "                                 min_samples_leaf=1,\n",
    "                                 subsample=1,\n",
    "                                 max_features=None,\n",
    "                                 random_state=42)"
   ]
  },
  {
   "cell_type": "code",
   "execution_count": 19,
   "metadata": {},
   "outputs": [
    {
     "data": {
      "text/plain": [
       "GradientBoostingClassifier(ccp_alpha=0.0, criterion='friedman_mse', init=None,\n",
       "                           learning_rate=0.1, loss='deviance', max_depth=3,\n",
       "                           max_features=None, max_leaf_nodes=None,\n",
       "                           min_impurity_decrease=0.0, min_impurity_split=None,\n",
       "                           min_samples_leaf=1, min_samples_split=2,\n",
       "                           min_weight_fraction_leaf=0.0, n_estimators=100,\n",
       "                           n_iter_no_change=None, presort='deprecated',\n",
       "                           random_state=42, subsample=1, tol=0.0001,\n",
       "                           validation_fraction=0.1, verbose=0,\n",
       "                           warm_start=False)"
      ]
     },
     "execution_count": 19,
     "metadata": {},
     "output_type": "execute_result"
    }
   ],
   "source": [
    "clf.fit(X,y)"
   ]
  },
  {
   "cell_type": "code",
   "execution_count": 20,
   "metadata": {},
   "outputs": [
    {
     "name": "stdout",
     "output_type": "stream",
     "text": [
      "0.8849077090119435\n"
     ]
    }
   ],
   "source": [
    "print(accuracy_score(y_test, clf.predict(X_test)))"
   ]
  },
  {
   "cell_type": "code",
   "execution_count": 21,
   "metadata": {},
   "outputs": [
    {
     "name": "stdout",
     "output_type": "stream",
     "text": [
      "Accuracy score (test): 0.885\n"
     ]
    }
   ],
   "source": [
    "print(\"Accuracy score (test): {0:.3f}\".format(clf.score(X_test, y_test)))"
   ]
  },
  {
   "cell_type": "code",
   "execution_count": 22,
   "metadata": {},
   "outputs": [
    {
     "data": {
      "text/plain": [
       "<matplotlib.axes._subplots.AxesSubplot at 0x13d64beeb48>"
      ]
     },
     "execution_count": 22,
     "metadata": {},
     "output_type": "execute_result"
    },
    {
     "data": {
      "image/png": "[encoded data removed]",
      "text/plain": [
       "<Figure size 1440x720 with 1 Axes>"
      ]
     },
     "metadata": {
      "needs_background": "light"
     },
     "output_type": "display_data"
    }
   ],
   "source": [
    "# Выведем самые важные признаки для GradientBoostingClassifier\n",
    "plt.rcParams['figure.figsize'] = (20,10)\n",
    "feat_importances = pd.Series(clf.feature_importances_, index=X.columns)\n",
    "feat_importances.nlargest(30).plot(kind='barh')"
   ]
  },
  {
   "cell_type": "code",
   "execution_count": 23,
   "metadata": {},
   "outputs": [],
   "source": [
    "param_grid = {'learning_rate':[0.00001, 0.0001, 0.001, 0.01, 0.1, 1], \n",
    "              'n_estimators':[100, 250, 500, 750, 1000, 1250, 1500, 1750]}"
   ]
  },
  {
   "cell_type": "code",
   "execution_count": 24,
   "metadata": {
    "scrolled": true
   },
   "outputs": [
    {
     "name": "stdout",
     "output_type": "stream",
     "text": [
      "\tccp_alpha: 0.0\n",
      "\tcriterion: 'friedman_mse'\n",
      "\tinit: None\n",
      "\tlearning_rate: 0.01\n",
      "\tloss: 'deviance'\n",
      "\tmax_depth: 3\n",
      "\tmax_features: None\n",
      "\tmax_leaf_nodes: None\n",
      "\tmin_impurity_decrease: 0.0\n",
      "\tmin_impurity_split: None\n",
      "\tmin_samples_leaf: 1\n",
      "\tmin_samples_split: 2\n",
      "\tmin_weight_fraction_leaf: 0.0\n",
      "\tn_estimators: 1750\n",
      "\tn_iter_no_change: None\n",
      "\tpresort: 'deprecated'\n",
      "\trandom_state: 42\n",
      "\tsubsample: 1\n",
      "\ttol: 0.0001\n",
      "\tvalidation_fraction: 0.1\n",
      "\tverbose: 0\n",
      "\twarm_start: False\n",
      "Accuracy score (test): 0.861\n"
     ]
    }
   ],
   "source": [
    "gridsearch = GridSearchCV(clf, param_grid, scoring='accuracy', n_jobs=-1, cv=5)\n",
    "gridsearch.fit(X_train, y_train)\n",
    "clf = gridsearch.best_estimator_\n",
    "##печатаем параметры\n",
    "best_parameters = clf.get_params()\n",
    "for param_name in sorted(best_parameters.keys()):\n",
    "    print('\\t%s: %r' % (param_name, best_parameters[param_name]))\n",
    "##печатаем метрики\n",
    "print(\"Accuracy score (test): {0:.3f}\".format(clf.score(X_test, y_test)))\n",
    "# predicted = model.predict(X_test)\n",
    "# probabilities = model.predict_proba(X_test)\n",
    "# probabilities = probabilities[:,1]\n",
    "# utils.print_classification_metrics(y_test, predicted, probabilities)"
   ]
  },
  {
   "cell_type": "code",
   "execution_count": 27,
   "metadata": {},
   "outputs": [
    {
     "name": "stdout",
     "output_type": "stream",
     "text": [
      "0.8610206297502715\n"
     ]
    }
   ],
   "source": [
    "print(accuracy_score(y_test, clf.predict(X_test)))"
   ]
  },
  {
   "cell_type": "code",
   "execution_count": 26,
   "metadata": {},
   "outputs": [],
   "source": [
    "param_grid = {'max_depth':list(range(5, 16))}"
   ]
  },
  {
   "cell_type": "code",
   "execution_count": 28,
   "metadata": {
    "scrolled": true
   },
   "outputs": [
    {
     "name": "stdout",
     "output_type": "stream",
     "text": [
      "\tccp_alpha: 0.0\n",
      "\tcriterion: 'friedman_mse'\n",
      "\tinit: None\n",
      "\tlearning_rate: 0.01\n",
      "\tloss: 'deviance'\n",
      "\tmax_depth: 5\n",
      "\tmax_features: None\n",
      "\tmax_leaf_nodes: None\n",
      "\tmin_impurity_decrease: 0.0\n",
      "\tmin_impurity_split: None\n",
      "\tmin_samples_leaf: 1\n",
      "\tmin_samples_split: 2\n",
      "\tmin_weight_fraction_leaf: 0.0\n",
      "\tn_estimators: 1750\n",
      "\tn_iter_no_change: None\n",
      "\tpresort: 'deprecated'\n",
      "\trandom_state: 42\n",
      "\tsubsample: 1\n",
      "\ttol: 0.0001\n",
      "\tvalidation_fraction: 0.1\n",
      "\tverbose: 0\n",
      "\twarm_start: False\n",
      "Accuracy score (test): 0.865\n"
     ]
    }
   ],
   "source": [
    "gridsearch = GridSearchCV(clf, param_grid, scoring='accuracy', n_jobs=-1, cv=5)\n",
    "gridsearch.fit(X_train, y_train)\n",
    "clf = gridsearch.best_estimator_\n",
    "##печатаем параметры\n",
    "best_parameters = clf.get_params()\n",
    "for param_name in sorted(best_parameters.keys()):\n",
    "    print('\\t%s: %r' % (param_name, best_parameters[param_name]))\n",
    "##печатаем метрики\n",
    "print(\"Accuracy score (test): {0:.3f}\".format(clf.score(X_test, y_test)))"
   ]
  },
  {
   "cell_type": "code",
   "execution_count": 31,
   "metadata": {},
   "outputs": [],
   "source": [
    "from sklearn.tree import DecisionTreeClassifier"
   ]
  },
  {
   "cell_type": "code",
   "execution_count": 32,
   "metadata": {},
   "outputs": [],
   "source": [
    "def AdaBoost_scratch(X,y, M=10, learning_rate = 1):\n",
    "    # инициалиазция служебных переменных\n",
    "    N = len(y)\n",
    "    estimator_list, y_predict_list, estimator_error_list, estimator_weight_list, sample_weight_list = [],[],[],[],[]\n",
    "\n",
    "    # инициализация весов\n",
    "    sample_weight = np.ones(N) / N\n",
    "    sample_weight_list.append(sample_weight.copy())\n",
    "\n",
    "    # цикл по длине М\n",
    "    for m in range(M):   \n",
    "\n",
    "        # обучим базовую модель и получим предсказание\n",
    "        estimator = DecisionTreeClassifier(max_depth = 1, max_leaf_nodes=2)\n",
    "        estimator.fit(X, y, sample_weight=sample_weight)\n",
    "        y_predict = estimator.predict(X)\n",
    "\n",
    "        # Маска для ошибок классификации\n",
    "        incorrect = (y_predict != y)\n",
    "\n",
    "        # Оцениваем ошибку\n",
    "        estimator_error = np.sum(sample_weight * incorrect)\n",
    "        \n",
    "        # Вычисляем вес нового алгоритма\n",
    "        estimator_weight = np.log((1-estimator_error)/estimator_error) * learning_rate\n",
    "\n",
    "        # Получаем новые веса объектов\n",
    "        sample_weight *= np.exp(estimator_weight * incorrect * ((sample_weight > 0) | (estimator_weight < 0)))\n",
    "\n",
    "        # Сохраяем результаты данной итерации\n",
    "        estimator_list.append(estimator)\n",
    "        y_predict_list.append(y_predict.copy())\n",
    "        estimator_error_list.append(estimator_error.copy())\n",
    "        estimator_weight_list.append(estimator_weight.copy())\n",
    "        sample_weight_list.append(sample_weight.copy())\n",
    "        \n",
    "\n",
    "\n",
    "    # Для удобства переведем в numpy.array   \n",
    "    estimator_list = np.asarray(estimator_list)\n",
    "    y_predict_list = np.asarray(y_predict_list)\n",
    "    estimator_error_list = np.asarray(estimator_error_list)\n",
    "    estimator_weight_list = np.asarray(estimator_weight_list)\n",
    "    sample_weight_list = np.asarray(sample_weight_list)\n",
    "\n",
    "    # Получим предсказания\n",
    "    preds = (np.array([np.sign((y_predict_list[:,point] * estimator_weight_list).sum()) for point in range(N)]))\n",
    "    print('Accuracy = ', (preds == y).sum() / N) \n",
    "    \n",
    "    return estimator_list, estimator_weight_list, sample_weight_list"
   ]
  },
  {
   "cell_type": "code",
   "execution_count": 33,
   "metadata": {},
   "outputs": [
    {
     "name": "stdout",
     "output_type": "stream",
     "text": [
      "Accuracy =  0.8228645946533363\n"
     ]
    }
   ],
   "source": [
    "estimator_list, estimator_weight_list, sample_weight_list  = AdaBoost_scratch(X, y, M=10, learning_rate=0.001)"
   ]
  },
  {
   "cell_type": "code",
   "execution_count": null,
   "metadata": {},
   "outputs": [],
   "source": []
  }
 ],
 "metadata": {
  "kernelspec": {
   "display_name": "Python 3",
   "language": "python",
   "name": "python3"
  },
  "language_info": {
   "codemirror_mode": {
    "name": "ipython",
    "version": 3
   },
   "file_extension": ".py",
   "mimetype": "text/x-python",
   "name": "python",
   "nbconvert_exporter": "python",
   "pygments_lexer": "ipython3",
   "version": "3.7.6"
  }
 },
 "nbformat": 4,
 "nbformat_minor": 4
}
