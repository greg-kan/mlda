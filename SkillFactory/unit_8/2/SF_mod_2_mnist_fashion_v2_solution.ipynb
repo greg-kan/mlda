{
 "cells": [
  {
   "cell_type": "code",
   "execution_count": 1,
   "metadata": {},
   "outputs": [
    {
     "name": "stdout",
     "output_type": "stream",
     "text": [
      "env: TF_ENABLE_ONEDNN_OPTS=0\n"
     ]
    }
   ],
   "source": [
    "%env TF_ENABLE_ONEDNN_OPTS=0"
   ]
  },
  {
   "cell_type": "code",
   "execution_count": 2,
   "metadata": {
    "executionInfo": {
     "elapsed": 4738,
     "status": "ok",
     "timestamp": 1643642519787,
     "user": {
      "displayName": "Gregory Kanavenko",
      "photoUrl": "https://lh3.googleusercontent.com/a/default-user=s64",
      "userId": "10503408555776388272"
     },
     "user_tz": -180
    },
    "id": "NPDfQS-kNO1v"
   },
   "outputs": [],
   "source": [
    "import tensorflow as tf\n",
    "from tensorflow import keras\n",
    "from tensorflow.keras.layers import Dense\n",
    "from tensorflow.keras.models import Sequential\n",
    "from tensorflow.keras.backend import clear_session"
   ]
  },
  {
   "cell_type": "code",
   "execution_count": 3,
   "metadata": {},
   "outputs": [],
   "source": [
    "import numpy as np\n",
    "import pandas as pd\n",
    "import sklearn\n",
    "from sklearn.metrics import accuracy_score\n",
    "import matplotlib.pyplot as plt"
   ]
  },
  {
   "cell_type": "code",
   "execution_count": 4,
   "metadata": {
    "colab": {
     "base_uri": "https://localhost:8080/"
    },
    "executionInfo": {
     "elapsed": 264,
     "status": "ok",
     "timestamp": 1643642531772,
     "user": {
      "displayName": "Gregory Kanavenko",
      "photoUrl": "https://lh3.googleusercontent.com/a/default-user=s64",
      "userId": "10503408555776388272"
     },
     "user_tz": -180
    },
    "id": "B4QHV0JB9r9D",
    "outputId": "6c3bcda3-5f32-4ecf-e014-425d2aecc511"
   },
   "outputs": [
    {
     "name": "stdout",
     "output_type": "stream",
     "text": [
      "We're using TF 2.9.1\n",
      "We are using Keras 2.9.0\n"
     ]
    }
   ],
   "source": [
    "print(\"We're using TF\", tf.__version__)\n",
    "print(\"We are using Keras\", keras.__version__)"
   ]
  },
  {
   "cell_type": "code",
   "execution_count": 5,
   "metadata": {},
   "outputs": [],
   "source": [
    "# gpu_devices = tf.config.experimental.list_physical_devices('GPU')\n",
    "# for device in gpu_devices:\n",
    "#     tf.config.experimental.set_memory_growth(device, True)"
   ]
  },
  {
   "cell_type": "code",
   "execution_count": 6,
   "metadata": {
    "colab": {
     "base_uri": "https://localhost:8080/",
     "height": 35
    },
    "executionInfo": {
     "elapsed": 268,
     "status": "ok",
     "timestamp": 1643642552361,
     "user": {
      "displayName": "Gregory Kanavenko",
      "photoUrl": "https://lh3.googleusercontent.com/a/default-user=s64",
      "userId": "10503408555776388272"
     },
     "user_tz": -180
    },
    "id": "Xfoji_vbLUiA",
    "outputId": "127d32f4-bbd2-408d-9e4d-2c91eab36ccb"
   },
   "outputs": [
    {
     "name": "stderr",
     "output_type": "stream",
     "text": [
      "2022-07-23 16:20:56.197263: I tensorflow/core/platform/cpu_feature_guard.cc:193] This TensorFlow binary is optimized with oneAPI Deep Neural Network Library (oneDNN) to use the following CPU instructions in performance-critical operations:  AVX2 AVX512F AVX512_VNNI FMA\n",
      "To enable them in other operations, rebuild TensorFlow with the appropriate compiler flags.\n",
      "2022-07-23 16:20:56.278106: I tensorflow/stream_executor/cuda/cuda_gpu_executor.cc:975] successful NUMA node read from SysFS had negative value (-1), but there must be at least one NUMA node, so returning NUMA node zero\n",
      "2022-07-23 16:20:56.387518: I tensorflow/stream_executor/cuda/cuda_gpu_executor.cc:975] successful NUMA node read from SysFS had negative value (-1), but there must be at least one NUMA node, so returning NUMA node zero\n",
      "2022-07-23 16:20:56.387892: I tensorflow/stream_executor/cuda/cuda_gpu_executor.cc:975] successful NUMA node read from SysFS had negative value (-1), but there must be at least one NUMA node, so returning NUMA node zero\n",
      "2022-07-23 16:20:57.089183: I tensorflow/stream_executor/cuda/cuda_gpu_executor.cc:975] successful NUMA node read from SysFS had negative value (-1), but there must be at least one NUMA node, so returning NUMA node zero\n",
      "2022-07-23 16:20:57.089312: I tensorflow/stream_executor/cuda/cuda_gpu_executor.cc:975] successful NUMA node read from SysFS had negative value (-1), but there must be at least one NUMA node, so returning NUMA node zero\n",
      "2022-07-23 16:20:57.089400: I tensorflow/stream_executor/cuda/cuda_gpu_executor.cc:975] successful NUMA node read from SysFS had negative value (-1), but there must be at least one NUMA node, so returning NUMA node zero\n",
      "2022-07-23 16:20:57.089485: I tensorflow/core/common_runtime/gpu/gpu_device.cc:1532] Created device /device:GPU:0 with 9755 MB memory:  -> device: 0, name: NVIDIA GeForce RTX 3080 Ti, pci bus id: 0000:01:00.0, compute capability: 8.6\n"
     ]
    },
    {
     "data": {
      "text/plain": [
       "'/device:GPU:0'"
      ]
     },
     "execution_count": 6,
     "metadata": {},
     "output_type": "execute_result"
    }
   ],
   "source": [
    "# Проверяем что у нас работает GPU\n",
    "tf.test.gpu_device_name()"
   ]
  },
  {
   "cell_type": "code",
   "execution_count": 7,
   "metadata": {
    "colab": {
     "base_uri": "https://localhost:8080/"
    },
    "executionInfo": {
     "elapsed": 272,
     "status": "ok",
     "timestamp": 1643642556048,
     "user": {
      "displayName": "Gregory Kanavenko",
      "photoUrl": "https://lh3.googleusercontent.com/a/default-user=s64",
      "userId": "10503408555776388272"
     },
     "user_tz": -180
    },
    "id": "5oglA59FL0wA",
    "outputId": "f7e5faa6-9b64-4939-8ca6-8d81165bb319"
   },
   "outputs": [
    {
     "name": "stdout",
     "output_type": "stream",
     "text": [
      "/bin/bash: /home/greg/anaconda3/envs/tf/lib/libtinfo.so.6: no version information available (required by /bin/bash)\r\n",
      "GPU 0: NVIDIA GeForce RTX 3080 Ti (UUID: GPU-3640a850-99c1-dc54-6fa7-580525d9e5af)\r\n"
     ]
    }
   ],
   "source": [
    "#GPU count and name\n",
    "!nvidia-smi -L"
   ]
  },
  {
   "cell_type": "code",
   "execution_count": 1,
   "metadata": {
    "colab": {
     "base_uri": "https://localhost:8080/"
    },
    "executionInfo": {
     "elapsed": 253,
     "status": "ok",
     "timestamp": 1643642571543,
     "user": {
      "displayName": "Gregory Kanavenko",
      "photoUrl": "https://lh3.googleusercontent.com/a/default-user=s64",
      "userId": "10503408555776388272"
     },
     "user_tz": -180
    },
    "id": "rYt8uY3aOaFT",
    "outputId": "c7972cd2-258d-4ac8-fc3f-208913daa3a8"
   },
   "outputs": [
    {
     "name": "stdout",
     "output_type": "stream",
     "text": [
      "/bin/bash: /home/greg/anaconda3/envs/tf/lib/libtinfo.so.6: no version information available (required by /bin/bash)\r\n",
      "Sat Jul 23 17:51:11 2022       \r\n",
      "+-----------------------------------------------------------------------------+\r\n",
      "| NVIDIA-SMI 515.48.07    Driver Version: 515.48.07    CUDA Version: 11.7     |\r\n",
      "|-------------------------------+----------------------+----------------------+\r\n",
      "| GPU  Name        Persistence-M| Bus-Id        Disp.A | Volatile Uncorr. ECC |\r\n",
      "| Fan  Temp  Perf  Pwr:Usage/Cap|         Memory-Usage | GPU-Util  Compute M. |\r\n",
      "|                               |                      |               MIG M. |\r\n",
      "|===============================+======================+======================|\r\n",
      "|   0  NVIDIA GeForce ...  Off  | 00000000:01:00.0  On |                  N/A |\r\n",
      "| 30%   47C    P5    45W / 350W |  11516MiB / 12288MiB |     42%      Default |\r\n",
      "|                               |                      |                  N/A |\r\n",
      "+-------------------------------+----------------------+----------------------+\r\n",
      "                                                                               \r\n",
      "+-----------------------------------------------------------------------------+\r\n",
      "| Processes:                                                                  |\r\n",
      "|  GPU   GI   CI        PID   Type   Process name                  GPU Memory |\r\n",
      "|        ID   ID                                                   Usage      |\r\n",
      "|=============================================================================|\r\n",
      "|    0   N/A  N/A      1565      G   /usr/lib/xorg/Xorg                 53MiB |\r\n",
      "|    0   N/A  N/A      2656      G   /usr/lib/xorg/Xorg                260MiB |\r\n",
      "|    0   N/A  N/A      2786      G   /usr/bin/gnome-shell               53MiB |\r\n",
      "|    0   N/A  N/A      4665      G   ...160776601448141033,131072      143MiB |\r\n",
      "|    0   N/A  N/A      5078      G   ...uncher/minecraft-launcher       26MiB |\r\n",
      "|    0   N/A  N/A      8197      C   ...conda3/envs/tf/bin/python    10295MiB |\r\n",
      "|    0   N/A  N/A      9527      G   ...va-runtime-gamma/bin/java      663MiB |\r\n",
      "+-----------------------------------------------------------------------------+\r\n"
     ]
    }
   ],
   "source": [
    "#use this command to see GPU activity while doing Deep Learning tasks, for this command 'nvidia-smi' and for above one to work, go to 'Runtime > change runtime type > Hardware Accelerator > GPU'\n",
    "!nvidia-smi"
   ]
  },
  {
   "cell_type": "markdown",
   "metadata": {
    "id": "aM4jVTyFDFqx"
   },
   "source": [
    "# MNIST"
   ]
  },
  {
   "cell_type": "code",
   "execution_count": 9,
   "metadata": {
    "colab": {
     "base_uri": "https://localhost:8080/"
    },
    "executionInfo": {
     "elapsed": 988,
     "status": "ok",
     "timestamp": 1643642610365,
     "user": {
      "displayName": "Gregory Kanavenko",
      "photoUrl": "https://lh3.googleusercontent.com/a/default-user=s64",
      "userId": "10503408555776388272"
     },
     "user_tz": -180
    },
    "id": "5ynJ91PONjLN",
    "outputId": "896cc248-f85c-4ac7-b0a9-d38b847f9dde"
   },
   "outputs": [],
   "source": [
    "# скачиваем данные\n",
    "(x_train, y_train), (x_val, y_val) = tf.keras.datasets.fashion_mnist.load_data()"
   ]
  },
  {
   "cell_type": "code",
   "execution_count": 10,
   "metadata": {
    "colab": {
     "base_uri": "https://localhost:8080/"
    },
    "executionInfo": {
     "elapsed": 308,
     "status": "ok",
     "timestamp": 1643642615844,
     "user": {
      "displayName": "Gregory Kanavenko",
      "photoUrl": "https://lh3.googleusercontent.com/a/default-user=s64",
      "userId": "10503408555776388272"
     },
     "user_tz": -180
    },
    "id": "gFOePELMN8KM",
    "outputId": "aa6ae8b0-3d1a-41d7-a3ed-069bc0182600"
   },
   "outputs": [
    {
     "name": "stdout",
     "output_type": "stream",
     "text": [
      "(60000, 28, 28)\n",
      "(10000, 28, 28)\n",
      "[9 0 0 3 0 2 7 2 5 5]\n",
      "[9 2 1 1 6 1 4 6 5 7]\n"
     ]
    }
   ],
   "source": [
    "# что за данные\n",
    "print(x_train.shape)\n",
    "print(x_val.shape)\n",
    "print (y_train[:10])\n",
    "print (y_val[:10])"
   ]
  },
  {
   "cell_type": "code",
   "execution_count": 11,
   "metadata": {
    "colab": {
     "base_uri": "https://localhost:8080/",
     "height": 582
    },
    "executionInfo": {
     "elapsed": 810,
     "status": "ok",
     "timestamp": 1643642693960,
     "user": {
      "displayName": "Gregory Kanavenko",
      "photoUrl": "https://lh3.googleusercontent.com/a/default-user=s64",
      "userId": "10503408555776388272"
     },
     "user_tz": -180
    },
    "id": "S_1_CbatN_Kt",
    "outputId": "90c8a292-983a-43c8-9db1-7b75ae5a77bc"
   },
   "outputs": [
    {
     "name": "stdout",
     "output_type": "stream",
     "text": [
      "Пример кусочка картинки (пиксели со значениями от 0 до 255):\n"
     ]
    },
    {
     "data": {
      "image/png": "[encoded data removed]",
      "text/plain": [
       "<Figure size 432x288 with 1 Axes>"
      ]
     },
     "metadata": {
      "needs_background": "light"
     },
     "output_type": "display_data"
    },
    {
     "name": "stdout",
     "output_type": "stream",
     "text": [
      "Пример картинки:\n"
     ]
    },
    {
     "data": {
      "image/png": "[encoded data removed]",
      "text/plain": [
       "<Figure size 432x288 with 1 Axes>"
      ]
     },
     "metadata": {
      "needs_background": "light"
     },
     "output_type": "display_data"
    },
    {
     "name": "stdout",
     "output_type": "stream",
     "text": [
      "y_train [shape (60000,)] 10 примеров:\n",
      " [9 0 0 3 0 2 7 2 5 5]\n"
     ]
    }
   ],
   "source": [
    "# нарисуем картинку\n",
    "x_train_image = np.tile(x_train[5, :, :].reshape((28, 28))[:, :, np.newaxis], (1, 1, 3))\n",
    "print(\"Пример кусочка картинки (пиксели со значениями от 0 до 255):\")\n",
    "plt.imshow(x_train_image[15:20, 5:10], cmap=\"Greys\")\n",
    "plt.show()\n",
    "print(\"Пример картинки:\")\n",
    "plt.imshow(x_train_image, cmap=\"Greys\")\n",
    "plt.show()\n",
    "print(\"y_train [shape %s] 10 примеров:\\n\" % (str(y_train.shape)), y_train[:10])"
   ]
  },
  {
   "cell_type": "code",
   "execution_count": 12,
   "metadata": {
    "colab": {
     "base_uri": "https://localhost:8080/",
     "height": 589
    },
    "executionInfo": {
     "elapsed": 1503,
     "status": "ok",
     "timestamp": 1643642718209,
     "user": {
      "displayName": "Gregory Kanavenko",
      "photoUrl": "https://lh3.googleusercontent.com/a/default-user=s64",
      "userId": "10503408555776388272"
     },
     "user_tz": -180
    },
    "id": "N8lbRW0WBPvh",
    "outputId": "60875851-06c7-4f31-e689-b45ec89b522e"
   },
   "outputs": [
    {
     "data": {
      "image/png": "[encoded data removed]",
      "text/plain": [
       "<Figure size 720x720 with 25 Axes>"
      ]
     },
     "metadata": {},
     "output_type": "display_data"
    }
   ],
   "source": [
    "# Посмотрим побольше примеров\n",
    "plt.figure(figsize=(10,10))\n",
    "for i in range(25):\n",
    "    plt.subplot(5,5,i+1)\n",
    "    plt.xticks([])\n",
    "    plt.yticks([])\n",
    "    plt.grid(False)\n",
    "    plt.imshow(x_train[i], cmap=\"Greys\")\n",
    "    plt.xlabel(y_train[i])\n",
    "plt.show()"
   ]
  },
  {
   "cell_type": "markdown",
   "metadata": {
    "id": "Zs9l8YcDCn77"
   },
   "source": [
    "# Data"
   ]
  },
  {
   "cell_type": "code",
   "execution_count": 13,
   "metadata": {
    "colab": {
     "base_uri": "https://localhost:8080/"
    },
    "executionInfo": {
     "elapsed": 312,
     "status": "ok",
     "timestamp": 1643642803238,
     "user": {
      "displayName": "Gregory Kanavenko",
      "photoUrl": "https://lh3.googleusercontent.com/a/default-user=s64",
      "userId": "10503408555776388272"
     },
     "user_tz": -180
    },
    "id": "Gy5rjeOE1RGk",
    "outputId": "924a03c5-97c6-40e2-d35b-eb7b683e19b2"
   },
   "outputs": [
    {
     "name": "stdout",
     "output_type": "stream",
     "text": [
      "(60000, 28, 28) (60000, 784)\n",
      "(10000, 28, 28) (10000, 784)\n"
     ]
    }
   ],
   "source": [
    "# вытянем картинку в вектор размера 28*28=784 и будем использовать это как фичи!\n",
    "\n",
    "x_train_flat = x_train.reshape(-1, 28*28).astype(float)\n",
    "print(x_train.shape, x_train_flat.shape)\n",
    "\n",
    "x_val_flat = x_val.reshape(-1, 28*28).astype(float)\n",
    "print(x_val.shape, x_val_flat.shape)"
   ]
  },
  {
   "cell_type": "code",
   "execution_count": 14,
   "metadata": {
    "executionInfo": {
     "elapsed": 685,
     "status": "ok",
     "timestamp": 1643642838731,
     "user": {
      "displayName": "Gregory Kanavenko",
      "photoUrl": "https://lh3.googleusercontent.com/a/default-user=s64",
      "userId": "10503408555776388272"
     },
     "user_tz": -180
    },
    "id": "eiiClrqZC1ev"
   },
   "outputs": [],
   "source": [
    "# центрируем и нормируем, так сети будет проще учиться\n",
    "x_train_float = x_train_flat.astype(float) / 255 - 0.5\n",
    "x_val_float = x_val_flat.astype(float) / 255 - 0.5\n",
    "\n",
    "# по сути, это действия аналогичны нормализации через StandardScaler\n",
    "# from sklearn.preprocessing import StandardScaler\n",
    "# scaler = StandardScaler()\n",
    "# x_train_flat = scaler.fit_transform(x_train_flat)\n",
    "# x_val_flat = scaler.transform(x_val_flat)\n",
    "\n",
    "# Но попробуйте пропустить нормирование и посмотрите что будет ;)\n",
    "# x_train_float = x_train_flat.astype(float)\n",
    "# x_val_float = x_val_flat.astype(float)"
   ]
  },
  {
   "cell_type": "code",
   "execution_count": 15,
   "metadata": {
    "colab": {
     "base_uri": "https://localhost:8080/"
    },
    "executionInfo": {
     "elapsed": 219,
     "status": "ok",
     "timestamp": 1643642871638,
     "user": {
      "displayName": "Gregory Kanavenko",
      "photoUrl": "https://lh3.googleusercontent.com/a/default-user=s64",
      "userId": "10503408555776388272"
     },
     "user_tz": -180
    },
    "id": "lLz736fXE1mN",
    "outputId": "420b4aa1-f0b3-4860-ccc8-b469ff43c680"
   },
   "outputs": [
    {
     "name": "stdout",
     "output_type": "stream",
     "text": [
      "(60000, 10)\n",
      "[[0. 0. 0. 0. 0. 0. 0. 0. 0. 1.]\n",
      " [1. 0. 0. 0. 0. 0. 0. 0. 0. 0.]\n",
      " [1. 0. 0. 0. 0. 0. 0. 0. 0. 0.]\n",
      " [0. 0. 0. 1. 0. 0. 0. 0. 0. 0.]\n",
      " [1. 0. 0. 0. 0. 0. 0. 0. 0. 0.]] [9 0 0 3 0]\n"
     ]
    }
   ],
   "source": [
    "# one-hot encode для ответов\n",
    "y_train_oh = keras.utils.to_categorical(y_train, 10)\n",
    "y_val_oh = keras.utils.to_categorical(y_val, 10)\n",
    "\n",
    "print(y_train_oh.shape)\n",
    "print(y_train_oh[:5], y_train[:5])"
   ]
  },
  {
   "cell_type": "markdown",
   "metadata": {
    "id": "n8jUd6IORgQh"
   },
   "source": [
    "# Собираем модель\n",
    "\n",
    "Самостоятельно постойте Multi layer Perceptron (MLP) классификатор (по аналогии с практическеской частью, но на новых данных)"
   ]
  },
  {
   "cell_type": "code",
   "execution_count": 16,
   "metadata": {
    "id": "EaI0ev6BOI2r"
   },
   "outputs": [],
   "source": [
    "clear_session()"
   ]
  },
  {
   "cell_type": "code",
   "execution_count": 17,
   "metadata": {
    "colab": {
     "base_uri": "https://localhost:8080/"
    },
    "executionInfo": {
     "elapsed": 312,
     "status": "ok",
     "timestamp": 1643643014182,
     "user": {
      "displayName": "Gregory Kanavenko",
      "photoUrl": "https://lh3.googleusercontent.com/a/default-user=s64",
      "userId": "10503408555776388272"
     },
     "user_tz": -180
    },
    "id": "aqaxWllqwe3d",
    "outputId": "52755c85-bf95-42bb-cc08-554a561333d8"
   },
   "outputs": [
    {
     "data": {
      "text/plain": [
       "784"
      ]
     },
     "execution_count": 17,
     "metadata": {},
     "output_type": "execute_result"
    }
   ],
   "source": [
    "x_train_float.shape[1]"
   ]
  },
  {
   "cell_type": "code",
   "execution_count": 18,
   "metadata": {
    "executionInfo": {
     "elapsed": 667,
     "status": "ok",
     "timestamp": 1643643152407,
     "user": {
      "displayName": "Gregory Kanavenko",
      "photoUrl": "https://lh3.googleusercontent.com/a/default-user=s64",
      "userId": "10503408555776388272"
     },
     "user_tz": -180
    },
    "id": "yrIcMsFlHp4U"
   },
   "outputs": [
    {
     "name": "stderr",
     "output_type": "stream",
     "text": [
      "2022-07-23 16:21:32.155369: I tensorflow/stream_executor/cuda/cuda_gpu_executor.cc:975] successful NUMA node read from SysFS had negative value (-1), but there must be at least one NUMA node, so returning NUMA node zero\n",
      "2022-07-23 16:21:32.155533: I tensorflow/stream_executor/cuda/cuda_gpu_executor.cc:975] successful NUMA node read from SysFS had negative value (-1), but there must be at least one NUMA node, so returning NUMA node zero\n",
      "2022-07-23 16:21:32.155613: I tensorflow/stream_executor/cuda/cuda_gpu_executor.cc:975] successful NUMA node read from SysFS had negative value (-1), but there must be at least one NUMA node, so returning NUMA node zero\n",
      "2022-07-23 16:21:32.155844: I tensorflow/stream_executor/cuda/cuda_gpu_executor.cc:975] successful NUMA node read from SysFS had negative value (-1), but there must be at least one NUMA node, so returning NUMA node zero\n",
      "2022-07-23 16:21:32.155934: I tensorflow/stream_executor/cuda/cuda_gpu_executor.cc:975] successful NUMA node read from SysFS had negative value (-1), but there must be at least one NUMA node, so returning NUMA node zero\n",
      "2022-07-23 16:21:32.156009: I tensorflow/stream_executor/cuda/cuda_gpu_executor.cc:975] successful NUMA node read from SysFS had negative value (-1), but there must be at least one NUMA node, so returning NUMA node zero\n",
      "2022-07-23 16:21:32.156118: I tensorflow/stream_executor/cuda/cuda_gpu_executor.cc:975] successful NUMA node read from SysFS had negative value (-1), but there must be at least one NUMA node, so returning NUMA node zero\n",
      "2022-07-23 16:21:32.156197: I tensorflow/stream_executor/cuda/cuda_gpu_executor.cc:975] successful NUMA node read from SysFS had negative value (-1), but there must be at least one NUMA node, so returning NUMA node zero\n",
      "2022-07-23 16:21:32.156255: I tensorflow/core/common_runtime/gpu/gpu_device.cc:1532] Created device /job:localhost/replica:0/task:0/device:GPU:0 with 9755 MB memory:  -> device: 0, name: NVIDIA GeForce RTX 3080 Ti, pci bus id: 0000:01:00.0, compute capability: 8.6\n"
     ]
    }
   ],
   "source": [
    "# Тут ваш код Архитектуры сети\n",
    "# не забудьте 10 выходов с активацией softmax на выходном слое!\n",
    "\n",
    "# Архитектура сети\n",
    "model = Sequential()\n",
    "model.add(Dense(256, activation='relu', input_shape=(x_train_float.shape[1],))) # первый скрытый слой\n",
    "model.add(Dense(128, activation='relu',)) # второй скрытый слой\n",
    "model.add(Dense(10, activation='softmax',)) # выходной слой"
   ]
  },
  {
   "cell_type": "code",
   "execution_count": 19,
   "metadata": {
    "colab": {
     "base_uri": "https://localhost:8080/"
    },
    "executionInfo": {
     "elapsed": 226,
     "status": "ok",
     "timestamp": 1643643157028,
     "user": {
      "displayName": "Gregory Kanavenko",
      "photoUrl": "https://lh3.googleusercontent.com/a/default-user=s64",
      "userId": "10503408555776388272"
     },
     "user_tz": -180
    },
    "id": "dumFu1lQHpm_",
    "outputId": "f4bc67b5-859b-4b23-c059-977b38ee9ba4"
   },
   "outputs": [
    {
     "name": "stdout",
     "output_type": "stream",
     "text": [
      "Model: \"sequential\"\n",
      "_________________________________________________________________\n",
      " Layer (type)                Output Shape              Param #   \n",
      "=================================================================\n",
      " dense (Dense)               (None, 256)               200960    \n",
      "                                                                 \n",
      " dense_1 (Dense)             (None, 128)               32896     \n",
      "                                                                 \n",
      " dense_2 (Dense)             (None, 10)                1290      \n",
      "                                                                 \n",
      "=================================================================\n",
      "Total params: 235,146\n",
      "Trainable params: 235,146\n",
      "Non-trainable params: 0\n",
      "_________________________________________________________________\n"
     ]
    }
   ],
   "source": [
    "model.summary()"
   ]
  },
  {
   "cell_type": "code",
   "execution_count": 20,
   "metadata": {
    "executionInfo": {
     "elapsed": 332,
     "status": "ok",
     "timestamp": 1643643229122,
     "user": {
      "displayName": "Gregory Kanavenko",
      "photoUrl": "https://lh3.googleusercontent.com/a/default-user=s64",
      "userId": "10503408555776388272"
     },
     "user_tz": -180
    },
    "id": "UNi21kLiJCys"
   },
   "outputs": [],
   "source": [
    "model.compile(\n",
    "    loss='categorical_crossentropy',  # минимизируем кросс-энтропию\n",
    "    optimizer='adam',  # так будет быстрее, позже узнаем что это :)\n",
    "    metrics=['accuracy']  # выводим процент правильных ответов\n",
    ")"
   ]
  },
  {
   "cell_type": "code",
   "execution_count": 21,
   "metadata": {
    "colab": {
     "base_uri": "https://localhost:8080/"
    },
    "executionInfo": {
     "elapsed": 45070,
     "status": "ok",
     "timestamp": 1643643352840,
     "user": {
      "displayName": "Gregory Kanavenko",
      "photoUrl": "https://lh3.googleusercontent.com/a/default-user=s64",
      "userId": "10503408555776388272"
     },
     "user_tz": -180
    },
    "id": "ADaeJAzURsEA",
    "outputId": "9b978b99-aa88-4ba0-e547-9770af95acf7"
   },
   "outputs": [
    {
     "name": "stdout",
     "output_type": "stream",
     "text": [
      "Epoch 1/10\n",
      "155/938 [===>..........................] - ETA: 0s - loss: 0.6755 - accuracy: 0.7603"
     ]
    },
    {
     "name": "stderr",
     "output_type": "stream",
     "text": [
      "2022-07-23 16:22:00.332160: I tensorflow/stream_executor/cuda/cuda_blas.cc:1786] TensorFloat-32 will be used for the matrix multiplication. This will only be logged once.\n"
     ]
    },
    {
     "name": "stdout",
     "output_type": "stream",
     "text": [
      "938/938 [==============================] - 3s 1ms/step - loss: 0.4794 - accuracy: 0.8268 - val_loss: 0.4338 - val_accuracy: 0.8451\n",
      "Epoch 2/10\n",
      "938/938 [==============================] - 1s 1ms/step - loss: 0.3643 - accuracy: 0.8661 - val_loss: 0.4150 - val_accuracy: 0.8499\n",
      "Epoch 3/10\n",
      "938/938 [==============================] - 1s 1ms/step - loss: 0.3273 - accuracy: 0.8788 - val_loss: 0.3697 - val_accuracy: 0.8682\n",
      "Epoch 4/10\n",
      "938/938 [==============================] - 1s 1ms/step - loss: 0.3001 - accuracy: 0.8889 - val_loss: 0.3638 - val_accuracy: 0.8704\n",
      "Epoch 5/10\n",
      "938/938 [==============================] - 1s 1ms/step - loss: 0.2843 - accuracy: 0.8945 - val_loss: 0.3539 - val_accuracy: 0.8757\n",
      "Epoch 6/10\n",
      "938/938 [==============================] - 1s 1ms/step - loss: 0.2652 - accuracy: 0.9008 - val_loss: 0.3482 - val_accuracy: 0.8790\n",
      "Epoch 7/10\n",
      "938/938 [==============================] - 1s 1ms/step - loss: 0.2500 - accuracy: 0.9054 - val_loss: 0.3539 - val_accuracy: 0.8769\n",
      "Epoch 8/10\n",
      "938/938 [==============================] - 1s 1ms/step - loss: 0.2387 - accuracy: 0.9108 - val_loss: 0.3522 - val_accuracy: 0.8759\n",
      "Epoch 9/10\n",
      "938/938 [==============================] - 1s 1ms/step - loss: 0.2260 - accuracy: 0.9154 - val_loss: 0.3402 - val_accuracy: 0.8853\n",
      "Epoch 10/10\n",
      "938/938 [==============================] - 1s 1ms/step - loss: 0.2186 - accuracy: 0.9176 - val_loss: 0.3449 - val_accuracy: 0.8868\n",
      "CPU times: user 14.1 s, sys: 1.68 s, total: 15.8 s\n",
      "Wall time: 11.8 s\n"
     ]
    }
   ],
   "source": [
    "%%time\n",
    "history = model.fit(\n",
    "                    x_train_float, \n",
    "                    y_train_oh,\n",
    "                    batch_size=64,  # 64 объекта для подсчета градиента на каждом шаге\n",
    "                    epochs=10,  # 10 проходов по датасету\n",
    "                    validation_data=(x_val_float, y_val_oh)\n",
    "                    )"
   ]
  },
  {
   "cell_type": "code",
   "execution_count": 22,
   "metadata": {
    "colab": {
     "base_uri": "https://localhost:8080/",
     "height": 350
    },
    "executionInfo": {
     "elapsed": 560,
     "status": "ok",
     "timestamp": 1643643385017,
     "user": {
      "displayName": "Gregory Kanavenko",
      "photoUrl": "https://lh3.googleusercontent.com/a/default-user=s64",
      "userId": "10503408555776388272"
     },
     "user_tz": -180
    },
    "id": "z5UNQIsPRwVg",
    "outputId": "167b68b7-ed3f-4b43-f080-d66de73037e7"
   },
   "outputs": [
    {
     "data": {
      "image/png": "[encoded data removed]",
      "text/plain": [
       "<Figure size 720x360 with 1 Axes>"
      ]
     },
     "metadata": {},
     "output_type": "display_data"
    }
   ],
   "source": [
    "# Plot training & validation accuracy values\n",
    "plt.style.use(['dark_background'])\n",
    "fig, ax = plt.subplots(figsize=(10, 5))\n",
    "plt.plot(history.history['accuracy'])\n",
    "plt.plot(history.history['val_accuracy'])\n",
    "plt.title('Model accuracy')\n",
    "plt.ylabel('Accuracy')\n",
    "plt.xlabel('Epoch')\n",
    "plt.legend(['Train', 'Test'], loc='upper left')\n",
    "plt.show()"
   ]
  },
  {
   "cell_type": "code",
   "execution_count": 23,
   "metadata": {
    "colab": {
     "base_uri": "https://localhost:8080/",
     "height": 350
    },
    "executionInfo": {
     "elapsed": 754,
     "status": "ok",
     "timestamp": 1643643447874,
     "user": {
      "displayName": "Gregory Kanavenko",
      "photoUrl": "https://lh3.googleusercontent.com/a/default-user=s64",
      "userId": "10503408555776388272"
     },
     "user_tz": -180
    },
    "id": "vxcBTgUhRylC",
    "outputId": "38adf26f-e5fc-4ba0-d676-1447fd5aee61"
   },
   "outputs": [
    {
     "data": {
      "image/png": "[encoded data removed]",
      "text/plain": [
       "<Figure size 720x360 with 1 Axes>"
      ]
     },
     "metadata": {},
     "output_type": "display_data"
    }
   ],
   "source": [
    "# Plot training & validation loss values\n",
    "plt.style.use(['dark_background'])\n",
    "fig, ax = plt.subplots(figsize=(10, 5))\n",
    "plt.plot(history.history['loss'])\n",
    "plt.plot(history.history['val_loss'])\n",
    "plt.title('Model loss')\n",
    "plt.ylabel('Loss')\n",
    "plt.xlabel('Epoch')\n",
    "plt.legend(['Train', 'Test'], loc='upper left')\n",
    "plt.show()"
   ]
  },
  {
   "cell_type": "code",
   "execution_count": 24,
   "metadata": {
    "colab": {
     "base_uri": "https://localhost:8080/"
    },
    "executionInfo": {
     "elapsed": 682,
     "status": "ok",
     "timestamp": 1643643517136,
     "user": {
      "displayName": "Gregory Kanavenko",
      "photoUrl": "https://lh3.googleusercontent.com/a/default-user=s64",
      "userId": "10503408555776388272"
     },
     "user_tz": -180
    },
    "id": "Om9B9fJhR2vj",
    "outputId": "9265f06e-7017-4649-d417-618e6a82474f"
   },
   "outputs": [
    {
     "name": "stdout",
     "output_type": "stream",
     "text": [
      "313/313 [==============================] - 0s 513us/step\n",
      "Test Accuracy:  0.8868\n"
     ]
    }
   ],
   "source": [
    "predicts = np.argmax(model.predict(x_val_float), axis = 1)\n",
    "print('Test Accuracy: ', accuracy_score(y_val, predicts))"
   ]
  },
  {
   "cell_type": "markdown",
   "metadata": {
    "id": "0OwQZWJFR7-y"
   },
   "source": [
    "Что вам необходимо сделать:\n",
    "1. Обучите сеть без скрытых слоев. (Построить аналог обычной линейной модели) **Какое accuracy на валидации получили?**\n",
    "2. Обучите сеть с двумя скрытыми слоями по 128 нейронов в каждом. **Какое accuracy на валидации получили?**\n",
    "3. **Сколько параметров в последней сети?**\n",
    "\n",
    "Удачи!"
   ]
  },
  {
   "cell_type": "code",
   "execution_count": 25,
   "metadata": {
    "colab": {
     "base_uri": "https://localhost:8080/"
    },
    "executionInfo": {
     "elapsed": 2,
     "status": "ok",
     "timestamp": 1643644751734,
     "user": {
      "displayName": "Gregory Kanavenko",
      "photoUrl": "https://lh3.googleusercontent.com/a/default-user=s64",
      "userId": "10503408555776388272"
     },
     "user_tz": -180
    },
    "id": "q9UH6OWd3H0A",
    "outputId": "9cb889a1-7c86-4539-f888-ac6ae1bb909b"
   },
   "outputs": [],
   "source": [
    "#from keras.layers import Input"
   ]
  },
  {
   "cell_type": "code",
   "execution_count": 26,
   "metadata": {
    "executionInfo": {
     "elapsed": 232,
     "status": "ok",
     "timestamp": 1643645005405,
     "user": {
      "displayName": "Gregory Kanavenko",
      "photoUrl": "https://lh3.googleusercontent.com/a/default-user=s64",
      "userId": "10503408555776388272"
     },
     "user_tz": -180
    },
    "id": "e3p6CJJXW9f4"
   },
   "outputs": [],
   "source": [
    "clear_session()"
   ]
  },
  {
   "cell_type": "code",
   "execution_count": 27,
   "metadata": {
    "executionInfo": {
     "elapsed": 222,
     "status": "ok",
     "timestamp": 1643645006804,
     "user": {
      "displayName": "Gregory Kanavenko",
      "photoUrl": "https://lh3.googleusercontent.com/a/default-user=s64",
      "userId": "10503408555776388272"
     },
     "user_tz": -180
    },
    "id": "fR4kSuWi3w7h"
   },
   "outputs": [],
   "source": [
    "model = Sequential()\n",
    "#model.add(Dense(128, activation='relu', input_shape=(x_train_float.shape[1],))) # первый скрытый слой\n",
    "#model.add(Dense(128, activation='relu',)) # второй скрытый слой\n",
    "model.add(Dense(10, activation='softmax', input_shape=(x_train_float.shape[1],))) # выходной слой"
   ]
  },
  {
   "cell_type": "code",
   "execution_count": 28,
   "metadata": {
    "colab": {
     "base_uri": "https://localhost:8080/"
    },
    "executionInfo": {
     "elapsed": 256,
     "status": "ok",
     "timestamp": 1643645032559,
     "user": {
      "displayName": "Gregory Kanavenko",
      "photoUrl": "https://lh3.googleusercontent.com/a/default-user=s64",
      "userId": "10503408555776388272"
     },
     "user_tz": -180
    },
    "id": "ByVIqxtb08e7",
    "outputId": "aebb99ee-f8f9-4a36-8d92-59d320a91269"
   },
   "outputs": [
    {
     "name": "stdout",
     "output_type": "stream",
     "text": [
      "Model: \"sequential\"\n",
      "_________________________________________________________________\n",
      " Layer (type)                Output Shape              Param #   \n",
      "=================================================================\n",
      " dense (Dense)               (None, 10)                7850      \n",
      "                                                                 \n",
      "=================================================================\n",
      "Total params: 7,850\n",
      "Trainable params: 7,850\n",
      "Non-trainable params: 0\n",
      "_________________________________________________________________\n"
     ]
    }
   ],
   "source": [
    "model.summary()"
   ]
  },
  {
   "cell_type": "code",
   "execution_count": 29,
   "metadata": {
    "executionInfo": {
     "elapsed": 223,
     "status": "ok",
     "timestamp": 1643645081358,
     "user": {
      "displayName": "Gregory Kanavenko",
      "photoUrl": "https://lh3.googleusercontent.com/a/default-user=s64",
      "userId": "10503408555776388272"
     },
     "user_tz": -180
    },
    "id": "Pz6ST8Iz1ChX"
   },
   "outputs": [],
   "source": [
    "model.compile(\n",
    "    loss='categorical_crossentropy',  # минимизируем кросс-энтропию\n",
    "    optimizer='adam',  # так будет быстрее, позже узнаем что это :)\n",
    "    metrics=['accuracy']  # выводим процент правильных ответов\n",
    ")"
   ]
  },
  {
   "cell_type": "code",
   "execution_count": 30,
   "metadata": {
    "colab": {
     "base_uri": "https://localhost:8080/"
    },
    "executionInfo": {
     "elapsed": 40135,
     "status": "ok",
     "timestamp": 1643645150127,
     "user": {
      "displayName": "Gregory Kanavenko",
      "photoUrl": "https://lh3.googleusercontent.com/a/default-user=s64",
      "userId": "10503408555776388272"
     },
     "user_tz": -180
    },
    "id": "NuDe-7Pp4ZPc",
    "outputId": "b2abb0ff-9567-4839-af5d-bee96a51b07f"
   },
   "outputs": [
    {
     "name": "stdout",
     "output_type": "stream",
     "text": [
      "Epoch 1/10\n",
      "938/938 [==============================] - 1s 961us/step - loss: 0.6211 - accuracy: 0.7893 - val_loss: 0.5202 - val_accuracy: 0.8159\n",
      "Epoch 2/10\n",
      "938/938 [==============================] - 1s 890us/step - loss: 0.4725 - accuracy: 0.8371 - val_loss: 0.4832 - val_accuracy: 0.8304\n",
      "Epoch 3/10\n",
      "938/938 [==============================] - 1s 939us/step - loss: 0.4446 - accuracy: 0.8463 - val_loss: 0.4736 - val_accuracy: 0.8357\n",
      "Epoch 4/10\n",
      "938/938 [==============================] - 1s 862us/step - loss: 0.4329 - accuracy: 0.8502 - val_loss: 0.4629 - val_accuracy: 0.8387\n",
      "Epoch 5/10\n",
      "938/938 [==============================] - 1s 874us/step - loss: 0.4247 - accuracy: 0.8535 - val_loss: 0.4586 - val_accuracy: 0.8368\n",
      "Epoch 6/10\n",
      "938/938 [==============================] - 1s 934us/step - loss: 0.4180 - accuracy: 0.8557 - val_loss: 0.4531 - val_accuracy: 0.8372\n",
      "Epoch 7/10\n",
      "938/938 [==============================] - 1s 872us/step - loss: 0.4116 - accuracy: 0.8576 - val_loss: 0.4484 - val_accuracy: 0.8415\n",
      "Epoch 8/10\n",
      "938/938 [==============================] - 1s 897us/step - loss: 0.4081 - accuracy: 0.8586 - val_loss: 0.4501 - val_accuracy: 0.8389\n",
      "Epoch 9/10\n",
      "938/938 [==============================] - 1s 885us/step - loss: 0.4048 - accuracy: 0.8598 - val_loss: 0.4482 - val_accuracy: 0.8429\n",
      "Epoch 10/10\n",
      "938/938 [==============================] - 1s 881us/step - loss: 0.4017 - accuracy: 0.8604 - val_loss: 0.4516 - val_accuracy: 0.8379\n"
     ]
    }
   ],
   "source": [
    "history = model.fit(\n",
    "                    x_train_float, \n",
    "                    y_train_oh,\n",
    "                    batch_size=64,  # 64 объекта для подсчета градиента на каждом шаге\n",
    "                    epochs=10,  # 10 проходов по датасету\n",
    "                    validation_data=(x_val_float, y_val_oh)\n",
    "                    )"
   ]
  },
  {
   "cell_type": "code",
   "execution_count": 32,
   "metadata": {
    "colab": {
     "base_uri": "https://localhost:8080/"
    },
    "executionInfo": {
     "elapsed": 1097,
     "status": "ok",
     "timestamp": 1643645165533,
     "user": {
      "displayName": "Gregory Kanavenko",
      "photoUrl": "https://lh3.googleusercontent.com/a/default-user=s64",
      "userId": "10503408555776388272"
     },
     "user_tz": -180
    },
    "id": "nGpJhBGc4gRR",
    "outputId": "3e2b1ed2-bf77-4c1e-c788-29d922ea7199"
   },
   "outputs": [
    {
     "name": "stdout",
     "output_type": "stream",
     "text": [
      "313/313 [==============================] - 0s 452us/step\n",
      "Test Accuracy:  0.8379\n"
     ]
    }
   ],
   "source": [
    "predicts = np.argmax(model.predict(x_val_float), axis = 1)\n",
    "print('Test Accuracy: ', accuracy_score(y_val, predicts))"
   ]
  },
  {
   "cell_type": "code",
   "execution_count": null,
   "metadata": {
    "id": "G7EarTLM4tlb"
   },
   "outputs": [],
   "source": []
  }
 ],
 "metadata": {
  "accelerator": "GPU",
  "colab": {
   "collapsed_sections": [],
   "name": "SF_mod_2_mnist_fashion_v1_solution.ipynb",
   "provenance": [
    {
     "file_id": "1TSW5nlZqe25L1skbaDKzB0LkH5Z15mqj",
     "timestamp": 1643538058551
    },
    {
     "file_id": "1mYsb1IxzwS2kZ6aCYI_I7UE0ODCO-TlW",
     "timestamp": 1587116250030
    },
    {
     "file_id": "1cMAMj3ugHfrF4c6euX-D5Fz7Fo3k44kx",
     "timestamp": 1586205879860
    },
    {
     "file_id": "1yF7YOZ0a7R38zKY1Z8D62Q0Xm5LToKSB",
     "timestamp": 1586182046269
    }
   ]
  },
  "kernelspec": {
   "display_name": "Python 3 (ipykernel)",
   "language": "python",
   "name": "python3"
  },
  "language_info": {
   "codemirror_mode": {
    "name": "ipython",
    "version": 3
   },
   "file_extension": ".py",
   "mimetype": "text/x-python",
   "name": "python",
   "nbconvert_exporter": "python",
   "pygments_lexer": "ipython3",
   "version": "3.9.12"
  }
 },
 "nbformat": 4,
 "nbformat_minor": 1
}
