{
 "cells": [
  {
   "cell_type": "markdown",
   "metadata": {
    "id": "frHiDRbv-JnK"
   },
   "source": [
    "Для воспроизводимости кода установим определенную версию tensorflow и keras"
   ]
  },
  {
   "cell_type": "code",
   "execution_count": 1,
   "metadata": {
    "colab": {
     "base_uri": "https://localhost:8080/"
    },
    "executionInfo": {
     "elapsed": 88417,
     "status": "ok",
     "timestamp": 1643642451371,
     "user": {
      "displayName": "Gregory Kanavenko",
      "photoUrl": "https://lh3.googleusercontent.com/a/default-user=s64",
      "userId": "10503408555776388272"
     },
     "user_tz": -180
    },
    "id": "sfrrvxH_-Gdg",
    "outputId": "c158e41c-e55b-43d5-e1be-9297ee2c4bcf"
   },
   "outputs": [
    {
     "name": "stdout",
     "output_type": "stream",
     "text": [
      "\u001b[K     |████████████████████████████████| 421.8 MB 23 kB/s \n",
      "\u001b[K     |████████████████████████████████| 448 kB 46.5 MB/s \n",
      "\u001b[K     |████████████████████████████████| 3.8 MB 32.4 MB/s \n",
      "\u001b[K     |████████████████████████████████| 50 kB 6.3 MB/s \n",
      "\u001b[?25h  Building wheel for gast (setup.py) ... \u001b[?25l\u001b[?25hdone\n",
      "\u001b[31mERROR: pip's dependency resolver does not currently take into account all the packages that are installed. This behaviour is the source of the following dependency conflicts.\n",
      "tensorflow-probability 0.15.0 requires gast>=0.3.2, but you have gast 0.2.2 which is incompatible.\u001b[0m\n"
     ]
    }
   ],
   "source": [
    "!pip install -q tensorflow==2.1"
   ]
  },
  {
   "cell_type": "code",
   "execution_count": 2,
   "metadata": {
    "colab": {
     "base_uri": "https://localhost:8080/"
    },
    "executionInfo": {
     "elapsed": 4913,
     "status": "ok",
     "timestamp": 1643642508938,
     "user": {
      "displayName": "Gregory Kanavenko",
      "photoUrl": "https://lh3.googleusercontent.com/a/default-user=s64",
      "userId": "10503408555776388272"
     },
     "user_tz": -180
    },
    "id": "KFtPOQKZudOD",
    "outputId": "e20bed6c-b725-4c55-bbb2-4d8e35079afe"
   },
   "outputs": [
    {
     "name": "stdout",
     "output_type": "stream",
     "text": [
      "Collecting keras==2.3.1\n",
      "  Downloading Keras-2.3.1-py2.py3-none-any.whl (377 kB)\n",
      "\u001b[?25l\r",
      "\u001b[K     |▉                               | 10 kB 23.0 MB/s eta 0:00:01\r",
      "\u001b[K     |█▊                              | 20 kB 18.4 MB/s eta 0:00:01\r",
      "\u001b[K     |██▋                             | 30 kB 10.1 MB/s eta 0:00:01\r",
      "\u001b[K     |███▌                            | 40 kB 8.4 MB/s eta 0:00:01\r",
      "\u001b[K     |████▍                           | 51 kB 5.4 MB/s eta 0:00:01\r",
      "\u001b[K     |█████▏                          | 61 kB 5.6 MB/s eta 0:00:01\r",
      "\u001b[K     |██████                          | 71 kB 5.6 MB/s eta 0:00:01\r",
      "\u001b[K     |███████                         | 81 kB 6.2 MB/s eta 0:00:01\r",
      "\u001b[K     |███████▉                        | 92 kB 4.9 MB/s eta 0:00:01\r",
      "\u001b[K     |████████▊                       | 102 kB 5.3 MB/s eta 0:00:01\r",
      "\u001b[K     |█████████▌                      | 112 kB 5.3 MB/s eta 0:00:01\r",
      "\u001b[K     |██████████▍                     | 122 kB 5.3 MB/s eta 0:00:01\r",
      "\u001b[K     |███████████▎                    | 133 kB 5.3 MB/s eta 0:00:01\r",
      "\u001b[K     |████████████▏                   | 143 kB 5.3 MB/s eta 0:00:01\r",
      "\u001b[K     |█████████████                   | 153 kB 5.3 MB/s eta 0:00:01\r",
      "\u001b[K     |█████████████▉                  | 163 kB 5.3 MB/s eta 0:00:01\r",
      "\u001b[K     |██████████████▊                 | 174 kB 5.3 MB/s eta 0:00:01\r",
      "\u001b[K     |███████████████▋                | 184 kB 5.3 MB/s eta 0:00:01\r",
      "\u001b[K     |████████████████▌               | 194 kB 5.3 MB/s eta 0:00:01\r",
      "\u001b[K     |█████████████████▍              | 204 kB 5.3 MB/s eta 0:00:01\r",
      "\u001b[K     |██████████████████▏             | 215 kB 5.3 MB/s eta 0:00:01\r",
      "\u001b[K     |███████████████████             | 225 kB 5.3 MB/s eta 0:00:01\r",
      "\u001b[K     |████████████████████            | 235 kB 5.3 MB/s eta 0:00:01\r",
      "\u001b[K     |████████████████████▉           | 245 kB 5.3 MB/s eta 0:00:01\r",
      "\u001b[K     |█████████████████████▊          | 256 kB 5.3 MB/s eta 0:00:01\r",
      "\u001b[K     |██████████████████████▌         | 266 kB 5.3 MB/s eta 0:00:01\r",
      "\u001b[K     |███████████████████████▍        | 276 kB 5.3 MB/s eta 0:00:01\r",
      "\u001b[K     |████████████████████████▎       | 286 kB 5.3 MB/s eta 0:00:01\r",
      "\u001b[K     |█████████████████████████▏      | 296 kB 5.3 MB/s eta 0:00:01\r",
      "\u001b[K     |██████████████████████████      | 307 kB 5.3 MB/s eta 0:00:01\r",
      "\u001b[K     |██████████████████████████▉     | 317 kB 5.3 MB/s eta 0:00:01\r",
      "\u001b[K     |███████████████████████████▊    | 327 kB 5.3 MB/s eta 0:00:01\r",
      "\u001b[K     |████████████████████████████▋   | 337 kB 5.3 MB/s eta 0:00:01\r",
      "\u001b[K     |█████████████████████████████▌  | 348 kB 5.3 MB/s eta 0:00:01\r",
      "\u001b[K     |██████████████████████████████▍ | 358 kB 5.3 MB/s eta 0:00:01\r",
      "\u001b[K     |███████████████████████████████▏| 368 kB 5.3 MB/s eta 0:00:01\r",
      "\u001b[K     |████████████████████████████████| 377 kB 5.3 MB/s \n",
      "\u001b[?25hRequirement already satisfied: keras-preprocessing>=1.0.5 in /usr/local/lib/python3.7/dist-packages (from keras==2.3.1) (1.1.2)\n",
      "Requirement already satisfied: pyyaml in /usr/local/lib/python3.7/dist-packages (from keras==2.3.1) (3.13)\n",
      "Requirement already satisfied: six>=1.9.0 in /usr/local/lib/python3.7/dist-packages (from keras==2.3.1) (1.15.0)\n",
      "Requirement already satisfied: keras-applications>=1.0.6 in /usr/local/lib/python3.7/dist-packages (from keras==2.3.1) (1.0.8)\n",
      "Requirement already satisfied: numpy>=1.9.1 in /usr/local/lib/python3.7/dist-packages (from keras==2.3.1) (1.19.5)\n",
      "Requirement already satisfied: scipy>=0.14 in /usr/local/lib/python3.7/dist-packages (from keras==2.3.1) (1.4.1)\n",
      "Requirement already satisfied: h5py in /usr/local/lib/python3.7/dist-packages (from keras==2.3.1) (3.1.0)\n",
      "Requirement already satisfied: cached-property in /usr/local/lib/python3.7/dist-packages (from h5py->keras==2.3.1) (1.5.2)\n",
      "Installing collected packages: keras\n",
      "  Attempting uninstall: keras\n",
      "    Found existing installation: keras 2.7.0\n",
      "    Uninstalling keras-2.7.0:\n",
      "      Successfully uninstalled keras-2.7.0\n",
      "Successfully installed keras-2.3.1\n"
     ]
    }
   ],
   "source": [
    "!pip install keras==2.3.1"
   ]
  },
  {
   "cell_type": "code",
   "execution_count": 3,
   "metadata": {
    "executionInfo": {
     "elapsed": 4738,
     "status": "ok",
     "timestamp": 1643642519787,
     "user": {
      "displayName": "Gregory Kanavenko",
      "photoUrl": "https://lh3.googleusercontent.com/a/default-user=s64",
      "userId": "10503408555776388272"
     },
     "user_tz": -180
    },
    "id": "NPDfQS-kNO1v"
   },
   "outputs": [],
   "source": [
    "import tensorflow as tf\n",
    "from tensorflow import keras\n",
    "from tensorflow.keras.layers import Dense\n",
    "from tensorflow.keras.models import Sequential\n",
    "from tensorflow.keras.backend import clear_session\n",
    "import numpy as np\n",
    "import pandas as pd\n",
    "import sklearn\n",
    "from sklearn.metrics import accuracy_score\n",
    "import matplotlib.pyplot as plt"
   ]
  },
  {
   "cell_type": "code",
   "execution_count": 4,
   "metadata": {
    "colab": {
     "base_uri": "https://localhost:8080/"
    },
    "executionInfo": {
     "elapsed": 264,
     "status": "ok",
     "timestamp": 1643642531772,
     "user": {
      "displayName": "Gregory Kanavenko",
      "photoUrl": "https://lh3.googleusercontent.com/a/default-user=s64",
      "userId": "10503408555776388272"
     },
     "user_tz": -180
    },
    "id": "B4QHV0JB9r9D",
    "outputId": "6c3bcda3-5f32-4ecf-e014-425d2aecc511"
   },
   "outputs": [
    {
     "name": "stdout",
     "output_type": "stream",
     "text": [
      "We're using TF 2.1.0\n",
      "We are using Keras 2.2.4-tf\n"
     ]
    }
   ],
   "source": [
    "print(\"We're using TF\", tf.__version__)\n",
    "print(\"We are using Keras\", keras.__version__)"
   ]
  },
  {
   "cell_type": "code",
   "execution_count": 5,
   "metadata": {
    "colab": {
     "base_uri": "https://localhost:8080/",
     "height": 35
    },
    "executionInfo": {
     "elapsed": 268,
     "status": "ok",
     "timestamp": 1643642552361,
     "user": {
      "displayName": "Gregory Kanavenko",
      "photoUrl": "https://lh3.googleusercontent.com/a/default-user=s64",
      "userId": "10503408555776388272"
     },
     "user_tz": -180
    },
    "id": "Xfoji_vbLUiA",
    "outputId": "127d32f4-bbd2-408d-9e4d-2c91eab36ccb"
   },
   "outputs": [
    {
     "data": {
      "application/vnd.google.colaboratory.intrinsic+json": {
       "type": "string"
      },
      "text/plain": [
       "'/device:GPU:0'"
      ]
     },
     "execution_count": 5,
     "metadata": {},
     "output_type": "execute_result"
    }
   ],
   "source": [
    "# Проверяем что у нас работает GPU\n",
    "tf.test.gpu_device_name()"
   ]
  },
  {
   "cell_type": "code",
   "execution_count": 6,
   "metadata": {
    "colab": {
     "base_uri": "https://localhost:8080/"
    },
    "executionInfo": {
     "elapsed": 272,
     "status": "ok",
     "timestamp": 1643642556048,
     "user": {
      "displayName": "Gregory Kanavenko",
      "photoUrl": "https://lh3.googleusercontent.com/a/default-user=s64",
      "userId": "10503408555776388272"
     },
     "user_tz": -180
    },
    "id": "5oglA59FL0wA",
    "outputId": "f7e5faa6-9b64-4939-8ca6-8d81165bb319"
   },
   "outputs": [
    {
     "name": "stdout",
     "output_type": "stream",
     "text": [
      "GPU 0: Tesla K80 (UUID: GPU-84d44810-97ca-8715-1e71-7069ebe00808)\n"
     ]
    }
   ],
   "source": [
    "#GPU count and name\n",
    "!nvidia-smi -L"
   ]
  },
  {
   "cell_type": "code",
   "execution_count": 7,
   "metadata": {
    "colab": {
     "base_uri": "https://localhost:8080/"
    },
    "executionInfo": {
     "elapsed": 253,
     "status": "ok",
     "timestamp": 1643642571543,
     "user": {
      "displayName": "Gregory Kanavenko",
      "photoUrl": "https://lh3.googleusercontent.com/a/default-user=s64",
      "userId": "10503408555776388272"
     },
     "user_tz": -180
    },
    "id": "rYt8uY3aOaFT",
    "outputId": "c7972cd2-258d-4ac8-fc3f-208913daa3a8"
   },
   "outputs": [
    {
     "name": "stdout",
     "output_type": "stream",
     "text": [
      "Mon Jan 31 15:22:51 2022       \n",
      "+-----------------------------------------------------------------------------+\n",
      "| NVIDIA-SMI 495.46       Driver Version: 460.32.03    CUDA Version: 11.2     |\n",
      "|-------------------------------+----------------------+----------------------+\n",
      "| GPU  Name        Persistence-M| Bus-Id        Disp.A | Volatile Uncorr. ECC |\n",
      "| Fan  Temp  Perf  Pwr:Usage/Cap|         Memory-Usage | GPU-Util  Compute M. |\n",
      "|                               |                      |               MIG M. |\n",
      "|===============================+======================+======================|\n",
      "|   0  Tesla K80           Off  | 00000000:00:04.0 Off |                    0 |\n",
      "| N/A   38C    P0    63W / 149W |     60MiB / 11441MiB |      0%      Default |\n",
      "|                               |                      |                  N/A |\n",
      "+-------------------------------+----------------------+----------------------+\n",
      "                                                                               \n",
      "+-----------------------------------------------------------------------------+\n",
      "| Processes:                                                                  |\n",
      "|  GPU   GI   CI        PID   Type   Process name                  GPU Memory |\n",
      "|        ID   ID                                                   Usage      |\n",
      "|=============================================================================|\n",
      "|  No running processes found                                                 |\n",
      "+-----------------------------------------------------------------------------+\n"
     ]
    }
   ],
   "source": [
    "#use this command to see GPU activity while doing Deep Learning tasks, for this command 'nvidia-smi' and for above one to work, go to 'Runtime > change runtime type > Hardware Accelerator > GPU'\n",
    "!nvidia-smi"
   ]
  },
  {
   "cell_type": "markdown",
   "metadata": {
    "id": "aM4jVTyFDFqx"
   },
   "source": [
    "# MNIST"
   ]
  },
  {
   "cell_type": "code",
   "execution_count": 8,
   "metadata": {
    "colab": {
     "base_uri": "https://localhost:8080/"
    },
    "executionInfo": {
     "elapsed": 988,
     "status": "ok",
     "timestamp": 1643642610365,
     "user": {
      "displayName": "Gregory Kanavenko",
      "photoUrl": "https://lh3.googleusercontent.com/a/default-user=s64",
      "userId": "10503408555776388272"
     },
     "user_tz": -180
    },
    "id": "5ynJ91PONjLN",
    "outputId": "896cc248-f85c-4ac7-b0a9-d38b847f9dde"
   },
   "outputs": [
    {
     "name": "stdout",
     "output_type": "stream",
     "text": [
      "Downloading data from https://storage.googleapis.com/tensorflow/tf-keras-datasets/train-labels-idx1-ubyte.gz\n",
      "32768/29515 [=================================] - 0s 0us/step\n",
      "Downloading data from https://storage.googleapis.com/tensorflow/tf-keras-datasets/train-images-idx3-ubyte.gz\n",
      "26427392/26421880 [==============================] - 0s 0us/step\n",
      "Downloading data from https://storage.googleapis.com/tensorflow/tf-keras-datasets/t10k-labels-idx1-ubyte.gz\n",
      "8192/5148 [===============================================] - 0s 0us/step\n",
      "Downloading data from https://storage.googleapis.com/tensorflow/tf-keras-datasets/t10k-images-idx3-ubyte.gz\n",
      "4423680/4422102 [==============================] - 0s 0us/step\n"
     ]
    }
   ],
   "source": [
    "# скачиваем данные\n",
    "(x_train, y_train), (x_val, y_val) = tf.keras.datasets.fashion_mnist.load_data()"
   ]
  },
  {
   "cell_type": "code",
   "execution_count": 9,
   "metadata": {
    "colab": {
     "base_uri": "https://localhost:8080/"
    },
    "executionInfo": {
     "elapsed": 308,
     "status": "ok",
     "timestamp": 1643642615844,
     "user": {
      "displayName": "Gregory Kanavenko",
      "photoUrl": "https://lh3.googleusercontent.com/a/default-user=s64",
      "userId": "10503408555776388272"
     },
     "user_tz": -180
    },
    "id": "gFOePELMN8KM",
    "outputId": "aa6ae8b0-3d1a-41d7-a3ed-069bc0182600"
   },
   "outputs": [
    {
     "name": "stdout",
     "output_type": "stream",
     "text": [
      "(60000, 28, 28)\n",
      "(10000, 28, 28)\n",
      "[9 0 0 3 0 2 7 2 5 5]\n",
      "[9 2 1 1 6 1 4 6 5 7]\n"
     ]
    }
   ],
   "source": [
    "# что за данные\n",
    "print(x_train.shape)\n",
    "print(x_val.shape)\n",
    "print (y_train[:10])\n",
    "print (y_val[:10])"
   ]
  },
  {
   "cell_type": "code",
   "execution_count": 10,
   "metadata": {
    "colab": {
     "base_uri": "https://localhost:8080/",
     "height": 582
    },
    "executionInfo": {
     "elapsed": 810,
     "status": "ok",
     "timestamp": 1643642693960,
     "user": {
      "displayName": "Gregory Kanavenko",
      "photoUrl": "https://lh3.googleusercontent.com/a/default-user=s64",
      "userId": "10503408555776388272"
     },
     "user_tz": -180
    },
    "id": "S_1_CbatN_Kt",
    "outputId": "90c8a292-983a-43c8-9db1-7b75ae5a77bc"
   },
   "outputs": [
    {
     "name": "stdout",
     "output_type": "stream",
     "text": [
      "Пример кусочка картинки (пиксели со значениями от 0 до 255):\n"
     ]
    },
    {
     "data": {
      "image/png": "[encoded data removed]",
      "text/plain": [
       "<Figure size 432x288 with 1 Axes>"
      ]
     },
     "metadata": {
      "needs_background": "light"
     },
     "output_type": "display_data"
    },
    {
     "name": "stdout",
     "output_type": "stream",
     "text": [
      "Пример картинки:\n"
     ]
    },
    {
     "data": {
      "image/png": "[encoded data removed]",
      "text/plain": [
       "<Figure size 432x288 with 1 Axes>"
      ]
     },
     "metadata": {
      "needs_background": "light"
     },
     "output_type": "display_data"
    },
    {
     "name": "stdout",
     "output_type": "stream",
     "text": [
      "y_train [shape (60000,)] 10 примеров:\n",
      " [9 0 0 3 0 2 7 2 5 5]\n"
     ]
    }
   ],
   "source": [
    "# нарисуем картинку\n",
    "x_train_image = np.tile(x_train[5, :, :].reshape((28, 28))[:, :, np.newaxis], (1, 1, 3))\n",
    "print(\"Пример кусочка картинки (пиксели со значениями от 0 до 255):\")\n",
    "plt.imshow(x_train_image[15:20, 5:10], cmap=\"Greys\")\n",
    "plt.show()\n",
    "print(\"Пример картинки:\")\n",
    "plt.imshow(x_train_image, cmap=\"Greys\")\n",
    "plt.show()\n",
    "print(\"y_train [shape %s] 10 примеров:\\n\" % (str(y_train.shape)), y_train[:10])"
   ]
  },
  {
   "cell_type": "code",
   "execution_count": 11,
   "metadata": {
    "colab": {
     "base_uri": "https://localhost:8080/",
     "height": 589
    },
    "executionInfo": {
     "elapsed": 1503,
     "status": "ok",
     "timestamp": 1643642718209,
     "user": {
      "displayName": "Gregory Kanavenko",
      "photoUrl": "https://lh3.googleusercontent.com/a/default-user=s64",
      "userId": "10503408555776388272"
     },
     "user_tz": -180
    },
    "id": "N8lbRW0WBPvh",
    "outputId": "60875851-06c7-4f31-e689-b45ec89b522e"
   },
   "outputs": [
    {
     "data": {
      "image/png": "[encoded data removed]",
      "text/plain": [
       "<Figure size 720x720 with 25 Axes>"
      ]
     },
     "metadata": {},
     "output_type": "display_data"
    }
   ],
   "source": [
    "# Посмотрим побольше примеров\n",
    "plt.figure(figsize=(10,10))\n",
    "for i in range(25):\n",
    "    plt.subplot(5,5,i+1)\n",
    "    plt.xticks([])\n",
    "    plt.yticks([])\n",
    "    plt.grid(False)\n",
    "    plt.imshow(x_train[i], cmap=\"Greys\")\n",
    "    plt.xlabel(y_train[i])\n",
    "plt.show()"
   ]
  },
  {
   "cell_type": "markdown",
   "metadata": {
    "id": "Zs9l8YcDCn77"
   },
   "source": [
    "# Data"
   ]
  },
  {
   "cell_type": "code",
   "execution_count": 12,
   "metadata": {
    "colab": {
     "base_uri": "https://localhost:8080/"
    },
    "executionInfo": {
     "elapsed": 312,
     "status": "ok",
     "timestamp": 1643642803238,
     "user": {
      "displayName": "Gregory Kanavenko",
      "photoUrl": "https://lh3.googleusercontent.com/a/default-user=s64",
      "userId": "10503408555776388272"
     },
     "user_tz": -180
    },
    "id": "Gy5rjeOE1RGk",
    "outputId": "924a03c5-97c6-40e2-d35b-eb7b683e19b2"
   },
   "outputs": [
    {
     "name": "stdout",
     "output_type": "stream",
     "text": [
      "(60000, 28, 28) (60000, 784)\n",
      "(10000, 28, 28) (10000, 784)\n"
     ]
    }
   ],
   "source": [
    "# вытянем картинку в вектор размера 28*28=784 и будем использовать это как фичи!\n",
    "\n",
    "x_train_flat = x_train.reshape(-1, 28*28).astype(float)\n",
    "print(x_train.shape, x_train_flat.shape)\n",
    "\n",
    "x_val_flat = x_val.reshape(-1, 28*28).astype(float)\n",
    "print(x_val.shape, x_val_flat.shape)"
   ]
  },
  {
   "cell_type": "code",
   "execution_count": 13,
   "metadata": {
    "executionInfo": {
     "elapsed": 685,
     "status": "ok",
     "timestamp": 1643642838731,
     "user": {
      "displayName": "Gregory Kanavenko",
      "photoUrl": "https://lh3.googleusercontent.com/a/default-user=s64",
      "userId": "10503408555776388272"
     },
     "user_tz": -180
    },
    "id": "eiiClrqZC1ev"
   },
   "outputs": [],
   "source": [
    "# центрируем и нормируем, так сети будет проще учиться\n",
    "x_train_float = x_train_flat.astype(np.float) / 255 - 0.5\n",
    "x_val_float = x_val_flat.astype(np.float) / 255 - 0.5\n",
    "\n",
    "# по сути, это действия аналогичны нормализации через StandardScaler\n",
    "# from sklearn.preprocessing import StandardScaler\n",
    "# scaler = StandardScaler()\n",
    "# x_train_flat = scaler.fit_transform(x_train_flat)\n",
    "# x_val_flat = scaler.transform(x_val_flat)\n",
    "\n",
    "# Но попробуйте пропустить нормирование и посмотрите что будет ;)\n",
    "# x_train_float = x_train_flat.astype(np.float)\n",
    "# x_val_float = x_val_flat.astype(np.float)"
   ]
  },
  {
   "cell_type": "code",
   "execution_count": 14,
   "metadata": {
    "colab": {
     "base_uri": "https://localhost:8080/"
    },
    "executionInfo": {
     "elapsed": 219,
     "status": "ok",
     "timestamp": 1643642871638,
     "user": {
      "displayName": "Gregory Kanavenko",
      "photoUrl": "https://lh3.googleusercontent.com/a/default-user=s64",
      "userId": "10503408555776388272"
     },
     "user_tz": -180
    },
    "id": "lLz736fXE1mN",
    "outputId": "420b4aa1-f0b3-4860-ccc8-b469ff43c680"
   },
   "outputs": [
    {
     "name": "stdout",
     "output_type": "stream",
     "text": [
      "(60000, 10)\n",
      "[[0. 0. 0. 0. 0. 0. 0. 0. 0. 1.]\n",
      " [1. 0. 0. 0. 0. 0. 0. 0. 0. 0.]\n",
      " [1. 0. 0. 0. 0. 0. 0. 0. 0. 0.]\n",
      " [0. 0. 0. 1. 0. 0. 0. 0. 0. 0.]\n",
      " [1. 0. 0. 0. 0. 0. 0. 0. 0. 0.]] [9 0 0 3 0]\n"
     ]
    }
   ],
   "source": [
    "# one-hot encode для ответов\n",
    "y_train_oh = keras.utils.to_categorical(y_train, 10)\n",
    "y_val_oh = keras.utils.to_categorical(y_val, 10)\n",
    "\n",
    "print(y_train_oh.shape)\n",
    "print(y_train_oh[:5], y_train[:5])"
   ]
  },
  {
   "cell_type": "markdown",
   "metadata": {
    "id": "n8jUd6IORgQh"
   },
   "source": [
    "# Собираем модель\n",
    "\n",
    "Самостоятельно постойте Multi layer Perceptron (MLP) классификатор (по аналогии с практическеской частью, но на новых данных)"
   ]
  },
  {
   "cell_type": "code",
   "execution_count": null,
   "metadata": {
    "id": "EaI0ev6BOI2r"
   },
   "outputs": [],
   "source": [
    "clear_session()"
   ]
  },
  {
   "cell_type": "code",
   "execution_count": 15,
   "metadata": {
    "colab": {
     "base_uri": "https://localhost:8080/"
    },
    "executionInfo": {
     "elapsed": 312,
     "status": "ok",
     "timestamp": 1643643014182,
     "user": {
      "displayName": "Gregory Kanavenko",
      "photoUrl": "https://lh3.googleusercontent.com/a/default-user=s64",
      "userId": "10503408555776388272"
     },
     "user_tz": -180
    },
    "id": "aqaxWllqwe3d",
    "outputId": "52755c85-bf95-42bb-cc08-554a561333d8"
   },
   "outputs": [
    {
     "data": {
      "text/plain": [
       "784"
      ]
     },
     "execution_count": 15,
     "metadata": {},
     "output_type": "execute_result"
    }
   ],
   "source": [
    "x_train_float.shape[1]"
   ]
  },
  {
   "cell_type": "code",
   "execution_count": 16,
   "metadata": {
    "executionInfo": {
     "elapsed": 667,
     "status": "ok",
     "timestamp": 1643643152407,
     "user": {
      "displayName": "Gregory Kanavenko",
      "photoUrl": "https://lh3.googleusercontent.com/a/default-user=s64",
      "userId": "10503408555776388272"
     },
     "user_tz": -180
    },
    "id": "yrIcMsFlHp4U"
   },
   "outputs": [],
   "source": [
    "# Тут ваш код Архитектуры сети\n",
    "# не забудьте 10 выходов с активацией softmax на выходном слое!\n",
    "\n",
    "# Архитектура сети\n",
    "model = Sequential()\n",
    "model.add(Dense(128, activation='relu', input_shape=(x_train_float.shape[1],))) # первый скрытый слой\n",
    "model.add(Dense(128, activation='relu',)) # второй скрытый слой\n",
    "model.add(Dense(10, activation='softmax',)) # выходной слой"
   ]
  },
  {
   "cell_type": "code",
   "execution_count": 17,
   "metadata": {
    "colab": {
     "base_uri": "https://localhost:8080/"
    },
    "executionInfo": {
     "elapsed": 226,
     "status": "ok",
     "timestamp": 1643643157028,
     "user": {
      "displayName": "Gregory Kanavenko",
      "photoUrl": "https://lh3.googleusercontent.com/a/default-user=s64",
      "userId": "10503408555776388272"
     },
     "user_tz": -180
    },
    "id": "dumFu1lQHpm_",
    "outputId": "f4bc67b5-859b-4b23-c059-977b38ee9ba4"
   },
   "outputs": [
    {
     "name": "stdout",
     "output_type": "stream",
     "text": [
      "Model: \"sequential\"\n",
      "_________________________________________________________________\n",
      "Layer (type)                 Output Shape              Param #   \n",
      "=================================================================\n",
      "dense (Dense)                (None, 128)               100480    \n",
      "_________________________________________________________________\n",
      "dense_1 (Dense)              (None, 128)               16512     \n",
      "_________________________________________________________________\n",
      "dense_2 (Dense)              (None, 10)                1290      \n",
      "=================================================================\n",
      "Total params: 118,282\n",
      "Trainable params: 118,282\n",
      "Non-trainable params: 0\n",
      "_________________________________________________________________\n"
     ]
    }
   ],
   "source": [
    "model.summary()"
   ]
  },
  {
   "cell_type": "code",
   "execution_count": 18,
   "metadata": {
    "executionInfo": {
     "elapsed": 332,
     "status": "ok",
     "timestamp": 1643643229122,
     "user": {
      "displayName": "Gregory Kanavenko",
      "photoUrl": "https://lh3.googleusercontent.com/a/default-user=s64",
      "userId": "10503408555776388272"
     },
     "user_tz": -180
    },
    "id": "UNi21kLiJCys"
   },
   "outputs": [],
   "source": [
    "model.compile(\n",
    "    loss='categorical_crossentropy',  # минимизируем кросс-энтропию\n",
    "    optimizer='adam',  # так будет быстрее, позже узнаем что это :)\n",
    "    metrics=['accuracy']  # выводим процент правильных ответов\n",
    ")"
   ]
  },
  {
   "cell_type": "code",
   "execution_count": 19,
   "metadata": {
    "colab": {
     "base_uri": "https://localhost:8080/"
    },
    "executionInfo": {
     "elapsed": 45070,
     "status": "ok",
     "timestamp": 1643643352840,
     "user": {
      "displayName": "Gregory Kanavenko",
      "photoUrl": "https://lh3.googleusercontent.com/a/default-user=s64",
      "userId": "10503408555776388272"
     },
     "user_tz": -180
    },
    "id": "ADaeJAzURsEA",
    "outputId": "9b978b99-aa88-4ba0-e547-9770af95acf7"
   },
   "outputs": [
    {
     "name": "stdout",
     "output_type": "stream",
     "text": [
      "Train on 60000 samples, validate on 10000 samples\n",
      "Epoch 1/10\n",
      "60000/60000 [==============================] - 6s 95us/sample - loss: 0.4905 - accuracy: 0.8237 - val_loss: 0.4167 - val_accuracy: 0.8493\n",
      "Epoch 2/10\n",
      "60000/60000 [==============================] - 4s 73us/sample - loss: 0.3682 - accuracy: 0.8637 - val_loss: 0.3911 - val_accuracy: 0.8588\n",
      "Epoch 3/10\n",
      "60000/60000 [==============================] - 4s 72us/sample - loss: 0.3310 - accuracy: 0.8773 - val_loss: 0.4050 - val_accuracy: 0.8547\n",
      "Epoch 4/10\n",
      "60000/60000 [==============================] - 4s 72us/sample - loss: 0.3053 - accuracy: 0.8866 - val_loss: 0.3474 - val_accuracy: 0.8712\n",
      "Epoch 5/10\n",
      "60000/60000 [==============================] - 4s 72us/sample - loss: 0.2879 - accuracy: 0.8925 - val_loss: 0.3476 - val_accuracy: 0.8736\n",
      "Epoch 6/10\n",
      "60000/60000 [==============================] - 4s 72us/sample - loss: 0.2729 - accuracy: 0.8987 - val_loss: 0.3489 - val_accuracy: 0.8724\n",
      "Epoch 7/10\n",
      "60000/60000 [==============================] - 4s 73us/sample - loss: 0.2591 - accuracy: 0.9030 - val_loss: 0.3390 - val_accuracy: 0.8781\n",
      "Epoch 8/10\n",
      "60000/60000 [==============================] - 4s 74us/sample - loss: 0.2462 - accuracy: 0.9067 - val_loss: 0.3314 - val_accuracy: 0.8821\n",
      "Epoch 9/10\n",
      "60000/60000 [==============================] - 4s 72us/sample - loss: 0.2364 - accuracy: 0.9116 - val_loss: 0.3486 - val_accuracy: 0.8766\n",
      "Epoch 10/10\n",
      "60000/60000 [==============================] - 4s 71us/sample - loss: 0.2248 - accuracy: 0.9155 - val_loss: 0.3456 - val_accuracy: 0.8821\n"
     ]
    }
   ],
   "source": [
    "history = model.fit(\n",
    "                    x_train_float, \n",
    "                    y_train_oh,\n",
    "                    batch_size=64,  # 64 объекта для подсчета градиента на каждом шаге\n",
    "                    epochs=10,  # 10 проходов по датасету\n",
    "                    validation_data=(x_val_float, y_val_oh)\n",
    "                    )"
   ]
  },
  {
   "cell_type": "code",
   "execution_count": 20,
   "metadata": {
    "colab": {
     "base_uri": "https://localhost:8080/",
     "height": 350
    },
    "executionInfo": {
     "elapsed": 560,
     "status": "ok",
     "timestamp": 1643643385017,
     "user": {
      "displayName": "Gregory Kanavenko",
      "photoUrl": "https://lh3.googleusercontent.com/a/default-user=s64",
      "userId": "10503408555776388272"
     },
     "user_tz": -180
    },
    "id": "z5UNQIsPRwVg",
    "outputId": "167b68b7-ed3f-4b43-f080-d66de73037e7"
   },
   "outputs": [
    {
     "data": {
      "image/png": "[encoded data removed]",
      "text/plain": [
       "<Figure size 720x360 with 1 Axes>"
      ]
     },
     "metadata": {},
     "output_type": "display_data"
    }
   ],
   "source": [
    "# Plot training & validation accuracy values\n",
    "plt.style.use(['dark_background'])\n",
    "fig, ax = plt.subplots(figsize=(10, 5))\n",
    "plt.plot(history.history['accuracy'])\n",
    "plt.plot(history.history['val_accuracy'])\n",
    "plt.title('Model accuracy')\n",
    "plt.ylabel('Accuracy')\n",
    "plt.xlabel('Epoch')\n",
    "plt.legend(['Train', 'Test'], loc='upper left')\n",
    "plt.show()"
   ]
  },
  {
   "cell_type": "code",
   "execution_count": 21,
   "metadata": {
    "colab": {
     "base_uri": "https://localhost:8080/",
     "height": 350
    },
    "executionInfo": {
     "elapsed": 754,
     "status": "ok",
     "timestamp": 1643643447874,
     "user": {
      "displayName": "Gregory Kanavenko",
      "photoUrl": "https://lh3.googleusercontent.com/a/default-user=s64",
      "userId": "10503408555776388272"
     },
     "user_tz": -180
    },
    "id": "vxcBTgUhRylC",
    "outputId": "38adf26f-e5fc-4ba0-d676-1447fd5aee61"
   },
   "outputs": [
    {
     "data": {
      "image/png": "[encoded data removed]",
      "text/plain": [
       "<Figure size 720x360 with 1 Axes>"
      ]
     },
     "metadata": {},
     "output_type": "display_data"
    }
   ],
   "source": [
    "# Plot training & validation loss values\n",
    "plt.style.use(['dark_background'])\n",
    "fig, ax = plt.subplots(figsize=(10, 5))\n",
    "plt.plot(history.history['loss'])\n",
    "plt.plot(history.history['val_loss'])\n",
    "plt.title('Model loss')\n",
    "plt.ylabel('Loss')\n",
    "plt.xlabel('Epoch')\n",
    "plt.legend(['Train', 'Test'], loc='upper left')\n",
    "plt.show()"
   ]
  },
  {
   "cell_type": "code",
   "execution_count": 22,
   "metadata": {
    "colab": {
     "base_uri": "https://localhost:8080/"
    },
    "executionInfo": {
     "elapsed": 682,
     "status": "ok",
     "timestamp": 1643643517136,
     "user": {
      "displayName": "Gregory Kanavenko",
      "photoUrl": "https://lh3.googleusercontent.com/a/default-user=s64",
      "userId": "10503408555776388272"
     },
     "user_tz": -180
    },
    "id": "Om9B9fJhR2vj",
    "outputId": "9265f06e-7017-4649-d417-618e6a82474f"
   },
   "outputs": [
    {
     "name": "stdout",
     "output_type": "stream",
     "text": [
      "Test Accuracy:  0.8821\n"
     ]
    }
   ],
   "source": [
    "predicts = model.predict_classes(x_val_float)\n",
    "print('Test Accuracy: ', accuracy_score(y_val, predicts))"
   ]
  },
  {
   "cell_type": "markdown",
   "metadata": {
    "id": "0OwQZWJFR7-y"
   },
   "source": [
    "Что вам необходимо сделать:\n",
    "1. Обучите сеть без скрытых слоев. (Построить аналог обычной линейной модели) **Какое accuracy на валидации получили?**\n",
    "2. Обучите сеть с двумя скрытыми слоями по 128 нейронов в каждом. **Какое accuracy на валидации получили?**\n",
    "3. **Сколько параметров в последней сети?**\n",
    "\n",
    "Удачи!"
   ]
  },
  {
   "cell_type": "code",
   "execution_count": 28,
   "metadata": {
    "colab": {
     "base_uri": "https://localhost:8080/"
    },
    "executionInfo": {
     "elapsed": 2,
     "status": "ok",
     "timestamp": 1643644751734,
     "user": {
      "displayName": "Gregory Kanavenko",
      "photoUrl": "https://lh3.googleusercontent.com/a/default-user=s64",
      "userId": "10503408555776388272"
     },
     "user_tz": -180
    },
    "id": "q9UH6OWd3H0A",
    "outputId": "9cb889a1-7c86-4539-f888-ac6ae1bb909b"
   },
   "outputs": [
    {
     "name": "stderr",
     "output_type": "stream",
     "text": [
      "Using TensorFlow backend.\n"
     ]
    }
   ],
   "source": [
    "#from keras.layers import Input"
   ]
  },
  {
   "cell_type": "code",
   "execution_count": 34,
   "metadata": {
    "executionInfo": {
     "elapsed": 232,
     "status": "ok",
     "timestamp": 1643645005405,
     "user": {
      "displayName": "Gregory Kanavenko",
      "photoUrl": "https://lh3.googleusercontent.com/a/default-user=s64",
      "userId": "10503408555776388272"
     },
     "user_tz": -180
    },
    "id": "e3p6CJJXW9f4"
   },
   "outputs": [],
   "source": [
    "clear_session()"
   ]
  },
  {
   "cell_type": "code",
   "execution_count": 35,
   "metadata": {
    "executionInfo": {
     "elapsed": 222,
     "status": "ok",
     "timestamp": 1643645006804,
     "user": {
      "displayName": "Gregory Kanavenko",
      "photoUrl": "https://lh3.googleusercontent.com/a/default-user=s64",
      "userId": "10503408555776388272"
     },
     "user_tz": -180
    },
    "id": "fR4kSuWi3w7h"
   },
   "outputs": [],
   "source": [
    "model = Sequential()\n",
    "#model.add(Dense(128, activation='relu', input_shape=(x_train_float.shape[1],))) # первый скрытый слой\n",
    "#model.add(Dense(128, activation='relu',)) # второй скрытый слой\n",
    "model.add(Dense(10, activation='softmax', input_shape=(x_train_float.shape[1],))) # выходной слой"
   ]
  },
  {
   "cell_type": "code",
   "execution_count": 36,
   "metadata": {
    "colab": {
     "base_uri": "https://localhost:8080/"
    },
    "executionInfo": {
     "elapsed": 256,
     "status": "ok",
     "timestamp": 1643645032559,
     "user": {
      "displayName": "Gregory Kanavenko",
      "photoUrl": "https://lh3.googleusercontent.com/a/default-user=s64",
      "userId": "10503408555776388272"
     },
     "user_tz": -180
    },
    "id": "ByVIqxtb08e7",
    "outputId": "aebb99ee-f8f9-4a36-8d92-59d320a91269"
   },
   "outputs": [
    {
     "name": "stdout",
     "output_type": "stream",
     "text": [
      "Model: \"sequential\"\n",
      "_________________________________________________________________\n",
      "Layer (type)                 Output Shape              Param #   \n",
      "=================================================================\n",
      "dense (Dense)                (None, 10)                7850      \n",
      "=================================================================\n",
      "Total params: 7,850\n",
      "Trainable params: 7,850\n",
      "Non-trainable params: 0\n",
      "_________________________________________________________________\n"
     ]
    }
   ],
   "source": [
    "model.summary()"
   ]
  },
  {
   "cell_type": "code",
   "execution_count": 37,
   "metadata": {
    "executionInfo": {
     "elapsed": 223,
     "status": "ok",
     "timestamp": 1643645081358,
     "user": {
      "displayName": "Gregory Kanavenko",
      "photoUrl": "https://lh3.googleusercontent.com/a/default-user=s64",
      "userId": "10503408555776388272"
     },
     "user_tz": -180
    },
    "id": "Pz6ST8Iz1ChX"
   },
   "outputs": [],
   "source": [
    "model.compile(\n",
    "    loss='categorical_crossentropy',  # минимизируем кросс-энтропию\n",
    "    optimizer='adam',  # так будет быстрее, позже узнаем что это :)\n",
    "    metrics=['accuracy']  # выводим процент правильных ответов\n",
    ")"
   ]
  },
  {
   "cell_type": "code",
   "execution_count": 38,
   "metadata": {
    "colab": {
     "base_uri": "https://localhost:8080/"
    },
    "executionInfo": {
     "elapsed": 40135,
     "status": "ok",
     "timestamp": 1643645150127,
     "user": {
      "displayName": "Gregory Kanavenko",
      "photoUrl": "https://lh3.googleusercontent.com/a/default-user=s64",
      "userId": "10503408555776388272"
     },
     "user_tz": -180
    },
    "id": "NuDe-7Pp4ZPc",
    "outputId": "b2abb0ff-9567-4839-af5d-bee96a51b07f"
   },
   "outputs": [
    {
     "name": "stdout",
     "output_type": "stream",
     "text": [
      "Train on 60000 samples, validate on 10000 samples\n",
      "Epoch 1/10\n",
      "60000/60000 [==============================] - 5s 78us/sample - loss: 0.6184 - accuracy: 0.7914 - val_loss: 0.5179 - val_accuracy: 0.8169\n",
      "Epoch 2/10\n",
      "60000/60000 [==============================] - 4s 64us/sample - loss: 0.4720 - accuracy: 0.8361 - val_loss: 0.4823 - val_accuracy: 0.8317\n",
      "Epoch 3/10\n",
      "60000/60000 [==============================] - 4s 63us/sample - loss: 0.4465 - accuracy: 0.8443 - val_loss: 0.4749 - val_accuracy: 0.8335\n",
      "Epoch 4/10\n",
      "60000/60000 [==============================] - 4s 65us/sample - loss: 0.4329 - accuracy: 0.8503 - val_loss: 0.4598 - val_accuracy: 0.8388\n",
      "Epoch 5/10\n",
      "60000/60000 [==============================] - 4s 71us/sample - loss: 0.4233 - accuracy: 0.8526 - val_loss: 0.4574 - val_accuracy: 0.8370\n",
      "Epoch 6/10\n",
      "60000/60000 [==============================] - 4s 65us/sample - loss: 0.4184 - accuracy: 0.8542 - val_loss: 0.4588 - val_accuracy: 0.8357\n",
      "Epoch 7/10\n",
      "60000/60000 [==============================] - 4s 64us/sample - loss: 0.4123 - accuracy: 0.8564 - val_loss: 0.4554 - val_accuracy: 0.8380\n",
      "Epoch 8/10\n",
      "60000/60000 [==============================] - 4s 64us/sample - loss: 0.4081 - accuracy: 0.8588 - val_loss: 0.4524 - val_accuracy: 0.8381\n",
      "Epoch 9/10\n",
      "60000/60000 [==============================] - 4s 64us/sample - loss: 0.4052 - accuracy: 0.8593 - val_loss: 0.4548 - val_accuracy: 0.8399\n",
      "Epoch 10/10\n",
      "60000/60000 [==============================] - 4s 64us/sample - loss: 0.4018 - accuracy: 0.8610 - val_loss: 0.4530 - val_accuracy: 0.8398\n"
     ]
    }
   ],
   "source": [
    "history = model.fit(\n",
    "                    x_train_float, \n",
    "                    y_train_oh,\n",
    "                    batch_size=64,  # 64 объекта для подсчета градиента на каждом шаге\n",
    "                    epochs=10,  # 10 проходов по датасету\n",
    "                    validation_data=(x_val_float, y_val_oh)\n",
    "                    )"
   ]
  },
  {
   "cell_type": "code",
   "execution_count": 39,
   "metadata": {
    "colab": {
     "base_uri": "https://localhost:8080/"
    },
    "executionInfo": {
     "elapsed": 1097,
     "status": "ok",
     "timestamp": 1643645165533,
     "user": {
      "displayName": "Gregory Kanavenko",
      "photoUrl": "https://lh3.googleusercontent.com/a/default-user=s64",
      "userId": "10503408555776388272"
     },
     "user_tz": -180
    },
    "id": "nGpJhBGc4gRR",
    "outputId": "3e2b1ed2-bf77-4c1e-c788-29d922ea7199"
   },
   "outputs": [
    {
     "name": "stdout",
     "output_type": "stream",
     "text": [
      "Test Accuracy:  0.8398\n"
     ]
    }
   ],
   "source": [
    "predicts = model.predict_classes(x_val_float)\n",
    "print('Test Accuracy: ', accuracy_score(y_val, predicts))"
   ]
  },
  {
   "cell_type": "code",
   "execution_count": null,
   "metadata": {
    "id": "G7EarTLM4tlb"
   },
   "outputs": [],
   "source": []
  }
 ],
 "metadata": {
  "accelerator": "GPU",
  "colab": {
   "collapsed_sections": [],
   "name": "SF_mod_2_mnist_fashion_v1_solution.ipynb",
   "provenance": [
    {
     "file_id": "1TSW5nlZqe25L1skbaDKzB0LkH5Z15mqj",
     "timestamp": 1643538058551
    },
    {
     "file_id": "1mYsb1IxzwS2kZ6aCYI_I7UE0ODCO-TlW",
     "timestamp": 1587116250030
    },
    {
     "file_id": "1cMAMj3ugHfrF4c6euX-D5Fz7Fo3k44kx",
     "timestamp": 1586205879860
    },
    {
     "file_id": "1yF7YOZ0a7R38zKY1Z8D62Q0Xm5LToKSB",
     "timestamp": 1586182046269
    }
   ]
  },
  "kernelspec": {
   "display_name": "Python 3 (ipykernel)",
   "language": "python",
   "name": "python3"
  },
  "language_info": {
   "codemirror_mode": {
    "name": "ipython",
    "version": 3
   },
   "file_extension": ".py",
   "mimetype": "text/x-python",
   "name": "python",
   "nbconvert_exporter": "python",
   "pygments_lexer": "ipython3",
   "version": "3.9.7"
  }
 },
 "nbformat": 4,
 "nbformat_minor": 1
}
