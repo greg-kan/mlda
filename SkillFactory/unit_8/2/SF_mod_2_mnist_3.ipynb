{
 "cells": [
  {
   "cell_type": "markdown",
   "metadata": {
    "id": "frHiDRbv-JnK"
   },
   "source": [
    "Для воспроизводимости кода установим определенную версию tensorflow и keras"
   ]
  },
  {
   "cell_type": "code",
   "execution_count": 1,
   "metadata": {
    "colab": {
     "base_uri": "https://localhost:8080/"
    },
    "executionInfo": {
     "elapsed": 79587,
     "status": "ok",
     "timestamp": 1643536249170,
     "user": {
      "displayName": "Gregory Kanavenko",
      "photoUrl": "https://lh3.googleusercontent.com/a/default-user=s64",
      "userId": "10503408555776388272"
     },
     "user_tz": -180
    },
    "id": "sfrrvxH_-Gdg",
    "outputId": "fff8cd9d-a1e3-4f9a-b223-6c6497484044"
   },
   "outputs": [
    {
     "name": "stdout",
     "output_type": "stream",
     "text": [
      "\u001b[K     |████████████████████████████████| 421.8 MB 26 kB/s \n",
      "\u001b[K     |████████████████████████████████| 3.8 MB 49.3 MB/s \n",
      "\u001b[K     |████████████████████████████████| 448 kB 55.7 MB/s \n",
      "\u001b[K     |████████████████████████████████| 50 kB 7.9 MB/s \n",
      "\u001b[?25h  Building wheel for gast (setup.py) ... \u001b[?25l\u001b[?25hdone\n",
      "\u001b[31mERROR: pip's dependency resolver does not currently take into account all the packages that are installed. This behaviour is the source of the following dependency conflicts.\n",
      "tensorflow-probability 0.15.0 requires gast>=0.3.2, but you have gast 0.2.2 which is incompatible.\u001b[0m\n"
     ]
    }
   ],
   "source": [
    "#!pip install -q tensorflow==2.1"
   ]
  },
  {
   "cell_type": "code",
   "execution_count": 2,
   "metadata": {
    "colab": {
     "base_uri": "https://localhost:8080/"
    },
    "executionInfo": {
     "elapsed": 3806,
     "status": "ok",
     "timestamp": 1643536293187,
     "user": {
      "displayName": "Gregory Kanavenko",
      "photoUrl": "https://lh3.googleusercontent.com/a/default-user=s64",
      "userId": "10503408555776388272"
     },
     "user_tz": -180
    },
    "id": "nm6J7R15ZNtm",
    "outputId": "025a49ae-220e-4857-adae-fb7448151702"
   },
   "outputs": [
    {
     "name": "stdout",
     "output_type": "stream",
     "text": [
      "Collecting keras==2.3.1\n",
      "  Downloading Keras-2.3.1-py2.py3-none-any.whl (377 kB)\n",
      "\u001b[?25l\r",
      "\u001b[K     |▉                               | 10 kB 6.4 MB/s eta 0:00:01\r",
      "\u001b[K     |█▊                              | 20 kB 8.1 MB/s eta 0:00:01\r",
      "\u001b[K     |██▋                             | 30 kB 7.2 MB/s eta 0:00:01\r",
      "\u001b[K     |███▌                            | 40 kB 6.6 MB/s eta 0:00:01\r",
      "\u001b[K     |████▍                           | 51 kB 6.4 MB/s eta 0:00:01\r",
      "\u001b[K     |█████▏                          | 61 kB 6.8 MB/s eta 0:00:01\r",
      "\u001b[K     |██████                          | 71 kB 7.0 MB/s eta 0:00:01\r",
      "\u001b[K     |███████                         | 81 kB 7.8 MB/s eta 0:00:01\r",
      "\u001b[K     |███████▉                        | 92 kB 7.1 MB/s eta 0:00:01\r",
      "\u001b[K     |████████▊                       | 102 kB 6.9 MB/s eta 0:00:01\r",
      "\u001b[K     |█████████▌                      | 112 kB 6.9 MB/s eta 0:00:01\r",
      "\u001b[K     |██████████▍                     | 122 kB 6.9 MB/s eta 0:00:01\r",
      "\u001b[K     |███████████▎                    | 133 kB 6.9 MB/s eta 0:00:01\r",
      "\u001b[K     |████████████▏                   | 143 kB 6.9 MB/s eta 0:00:01\r",
      "\u001b[K     |█████████████                   | 153 kB 6.9 MB/s eta 0:00:01\r",
      "\u001b[K     |█████████████▉                  | 163 kB 6.9 MB/s eta 0:00:01\r",
      "\u001b[K     |██████████████▊                 | 174 kB 6.9 MB/s eta 0:00:01\r",
      "\u001b[K     |███████████████▋                | 184 kB 6.9 MB/s eta 0:00:01\r",
      "\u001b[K     |████████████████▌               | 194 kB 6.9 MB/s eta 0:00:01\r",
      "\u001b[K     |█████████████████▍              | 204 kB 6.9 MB/s eta 0:00:01\r",
      "\u001b[K     |██████████████████▏             | 215 kB 6.9 MB/s eta 0:00:01\r",
      "\u001b[K     |███████████████████             | 225 kB 6.9 MB/s eta 0:00:01\r",
      "\u001b[K     |████████████████████            | 235 kB 6.9 MB/s eta 0:00:01\r",
      "\u001b[K     |████████████████████▉           | 245 kB 6.9 MB/s eta 0:00:01\r",
      "\u001b[K     |█████████████████████▊          | 256 kB 6.9 MB/s eta 0:00:01\r",
      "\u001b[K     |██████████████████████▌         | 266 kB 6.9 MB/s eta 0:00:01\r",
      "\u001b[K     |███████████████████████▍        | 276 kB 6.9 MB/s eta 0:00:01\r",
      "\u001b[K     |████████████████████████▎       | 286 kB 6.9 MB/s eta 0:00:01\r",
      "\u001b[K     |█████████████████████████▏      | 296 kB 6.9 MB/s eta 0:00:01\r",
      "\u001b[K     |██████████████████████████      | 307 kB 6.9 MB/s eta 0:00:01\r",
      "\u001b[K     |██████████████████████████▉     | 317 kB 6.9 MB/s eta 0:00:01\r",
      "\u001b[K     |███████████████████████████▊    | 327 kB 6.9 MB/s eta 0:00:01\r",
      "\u001b[K     |████████████████████████████▋   | 337 kB 6.9 MB/s eta 0:00:01\r",
      "\u001b[K     |█████████████████████████████▌  | 348 kB 6.9 MB/s eta 0:00:01\r",
      "\u001b[K     |██████████████████████████████▍ | 358 kB 6.9 MB/s eta 0:00:01\r",
      "\u001b[K     |███████████████████████████████▏| 368 kB 6.9 MB/s eta 0:00:01\r",
      "\u001b[K     |████████████████████████████████| 377 kB 6.9 MB/s \n",
      "\u001b[?25hRequirement already satisfied: h5py in /usr/local/lib/python3.7/dist-packages (from keras==2.3.1) (3.1.0)\n",
      "Requirement already satisfied: numpy>=1.9.1 in /usr/local/lib/python3.7/dist-packages (from keras==2.3.1) (1.19.5)\n",
      "Requirement already satisfied: six>=1.9.0 in /usr/local/lib/python3.7/dist-packages (from keras==2.3.1) (1.15.0)\n",
      "Requirement already satisfied: pyyaml in /usr/local/lib/python3.7/dist-packages (from keras==2.3.1) (3.13)\n",
      "Requirement already satisfied: keras-applications>=1.0.6 in /usr/local/lib/python3.7/dist-packages (from keras==2.3.1) (1.0.8)\n",
      "Requirement already satisfied: keras-preprocessing>=1.0.5 in /usr/local/lib/python3.7/dist-packages (from keras==2.3.1) (1.1.2)\n",
      "Requirement already satisfied: scipy>=0.14 in /usr/local/lib/python3.7/dist-packages (from keras==2.3.1) (1.4.1)\n",
      "Requirement already satisfied: cached-property in /usr/local/lib/python3.7/dist-packages (from h5py->keras==2.3.1) (1.5.2)\n",
      "Installing collected packages: keras\n",
      "  Attempting uninstall: keras\n",
      "    Found existing installation: keras 2.7.0\n",
      "    Uninstalling keras-2.7.0:\n",
      "      Successfully uninstalled keras-2.7.0\n",
      "Successfully installed keras-2.3.1\n"
     ]
    }
   ],
   "source": [
    "#!pip install keras==2.3.1"
   ]
  },
  {
   "cell_type": "code",
   "execution_count": 1,
   "metadata": {
    "executionInfo": {
     "elapsed": 3751,
     "status": "ok",
     "timestamp": 1643536303179,
     "user": {
      "displayName": "Gregory Kanavenko",
      "photoUrl": "https://lh3.googleusercontent.com/a/default-user=s64",
      "userId": "10503408555776388272"
     },
     "user_tz": -180
    },
    "id": "NPDfQS-kNO1v"
   },
   "outputs": [
    {
     "name": "stderr",
     "output_type": "stream",
     "text": [
      "2022-07-10 12:37:28.917506: I tensorflow/core/util/util.cc:169] oneDNN custom operations are on. You may see slightly different numerical results due to floating-point round-off errors from different computation orders. To turn them off, set the environment variable `TF_ENABLE_ONEDNN_OPTS=0`.\n",
      "2022-07-10 12:37:28.920069: W tensorflow/stream_executor/platform/default/dso_loader.cc:64] Could not load dynamic library 'libcudart.so.11.0'; dlerror: libcudart.so.11.0: cannot open shared object file: No such file or directory\n",
      "2022-07-10 12:37:28.920077: I tensorflow/stream_executor/cuda/cudart_stub.cc:29] Ignore above cudart dlerror if you do not have a GPU set up on your machine.\n"
     ]
    }
   ],
   "source": [
    "import tensorflow as tf\n",
    "from tensorflow import keras\n",
    "from tensorflow.keras.layers import Dense\n",
    "from tensorflow.keras.models import Sequential\n",
    "from tensorflow.keras.backend import clear_session"
   ]
  },
  {
   "cell_type": "code",
   "execution_count": 2,
   "metadata": {},
   "outputs": [],
   "source": [
    "import numpy as np\n",
    "import pandas as pd\n",
    "import sklearn\n",
    "from sklearn.metrics import accuracy_score\n",
    "import matplotlib.pyplot as plt"
   ]
  },
  {
   "cell_type": "code",
   "execution_count": 3,
   "metadata": {
    "colab": {
     "base_uri": "https://localhost:8080/"
    },
    "executionInfo": {
     "elapsed": 278,
     "status": "ok",
     "timestamp": 1643536308641,
     "user": {
      "displayName": "Gregory Kanavenko",
      "photoUrl": "https://lh3.googleusercontent.com/a/default-user=s64",
      "userId": "10503408555776388272"
     },
     "user_tz": -180
    },
    "id": "B4QHV0JB9r9D",
    "outputId": "e3dee1c6-807e-42b3-c5fe-ab8694265309"
   },
   "outputs": [
    {
     "name": "stdout",
     "output_type": "stream",
     "text": [
      "We're using TF 2.9.1\n",
      "We are using Keras 2.9.0\n"
     ]
    }
   ],
   "source": [
    "print(\"We're using TF\", tf.__version__)\n",
    "print(\"We are using Keras\", keras.__version__)"
   ]
  },
  {
   "cell_type": "code",
   "execution_count": 4,
   "metadata": {
    "colab": {
     "base_uri": "https://localhost:8080/",
     "height": 35
    },
    "executionInfo": {
     "elapsed": 425,
     "status": "ok",
     "timestamp": 1643536321048,
     "user": {
      "displayName": "Gregory Kanavenko",
      "photoUrl": "https://lh3.googleusercontent.com/a/default-user=s64",
      "userId": "10503408555776388272"
     },
     "user_tz": -180
    },
    "id": "Xfoji_vbLUiA",
    "outputId": "1f518282-9056-4bb9-8687-04bdba7d2cb1"
   },
   "outputs": [
    {
     "name": "stderr",
     "output_type": "stream",
     "text": [
      "2022-07-10 12:37:57.884195: I tensorflow/core/platform/cpu_feature_guard.cc:193] This TensorFlow binary is optimized with oneAPI Deep Neural Network Library (oneDNN) to use the following CPU instructions in performance-critical operations:  AVX2 AVX512F AVX512_VNNI FMA\n",
      "To enable them in other operations, rebuild TensorFlow with the appropriate compiler flags.\n",
      "2022-07-10 12:37:57.884912: W tensorflow/stream_executor/platform/default/dso_loader.cc:64] Could not load dynamic library 'libcuda.so.1'; dlerror: libcuda.so.1: cannot open shared object file: No such file or directory\n",
      "2022-07-10 12:37:57.884925: W tensorflow/stream_executor/cuda/cuda_driver.cc:269] failed call to cuInit: UNKNOWN ERROR (303)\n",
      "2022-07-10 12:37:57.884937: I tensorflow/stream_executor/cuda/cuda_diagnostics.cc:156] kernel driver does not appear to be running on this host (ls01): /proc/driver/nvidia/version does not exist\n"
     ]
    },
    {
     "data": {
      "text/plain": [
       "''"
      ]
     },
     "execution_count": 4,
     "metadata": {},
     "output_type": "execute_result"
    }
   ],
   "source": [
    "# Проверяем что у нас работает GPU\n",
    "tf.test.gpu_device_name()"
   ]
  },
  {
   "cell_type": "code",
   "execution_count": 5,
   "metadata": {
    "colab": {
     "base_uri": "https://localhost:8080/"
    },
    "executionInfo": {
     "elapsed": 324,
     "status": "ok",
     "timestamp": 1643536334671,
     "user": {
      "displayName": "Gregory Kanavenko",
      "photoUrl": "https://lh3.googleusercontent.com/a/default-user=s64",
      "userId": "10503408555776388272"
     },
     "user_tz": -180
    },
    "id": "5oglA59FL0wA",
    "outputId": "7090cb6a-1f06-495e-d459-c5c63769b87a"
   },
   "outputs": [
    {
     "name": "stdout",
     "output_type": "stream",
     "text": [
      "/bin/bash: nvidia-smi: command not found\r\n"
     ]
    }
   ],
   "source": [
    "#GPU count and name\n",
    "!nvidia-smi -L"
   ]
  },
  {
   "cell_type": "code",
   "execution_count": 6,
   "metadata": {
    "colab": {
     "base_uri": "https://localhost:8080/"
    },
    "executionInfo": {
     "elapsed": 316,
     "status": "ok",
     "timestamp": 1643536371117,
     "user": {
      "displayName": "Gregory Kanavenko",
      "photoUrl": "https://lh3.googleusercontent.com/a/default-user=s64",
      "userId": "10503408555776388272"
     },
     "user_tz": -180
    },
    "id": "rYt8uY3aOaFT",
    "outputId": "c820d4a2-2203-406e-edba-7252ef1f4fd3"
   },
   "outputs": [
    {
     "name": "stdout",
     "output_type": "stream",
     "text": [
      "/bin/bash: nvidia-smi: command not found\r\n"
     ]
    }
   ],
   "source": [
    "#use this command to see GPU activity while doing Deep Learning tasks, for this command 'nvidia-smi' and for above one to work, go to 'Runtime > change runtime type > Hardware Accelerator > GPU'\n",
    "!nvidia-smi"
   ]
  },
  {
   "cell_type": "markdown",
   "metadata": {
    "id": "aM4jVTyFDFqx"
   },
   "source": [
    "# MNIST"
   ]
  },
  {
   "cell_type": "code",
   "execution_count": 7,
   "metadata": {
    "colab": {
     "base_uri": "https://localhost:8080/"
    },
    "executionInfo": {
     "elapsed": 866,
     "status": "ok",
     "timestamp": 1643536455390,
     "user": {
      "displayName": "Gregory Kanavenko",
      "photoUrl": "https://lh3.googleusercontent.com/a/default-user=s64",
      "userId": "10503408555776388272"
     },
     "user_tz": -180
    },
    "id": "5ynJ91PONjLN",
    "outputId": "ac4a3adc-ec55-4d49-e21c-ed7528dbfe9a"
   },
   "outputs": [],
   "source": [
    "# скачиваем данные\n",
    "(x_train, y_train), (x_val, y_val) = tf.keras.datasets.mnist.load_data()"
   ]
  },
  {
   "cell_type": "code",
   "execution_count": 8,
   "metadata": {
    "colab": {
     "base_uri": "https://localhost:8080/"
    },
    "executionInfo": {
     "elapsed": 406,
     "status": "ok",
     "timestamp": 1643536501365,
     "user": {
      "displayName": "Gregory Kanavenko",
      "photoUrl": "https://lh3.googleusercontent.com/a/default-user=s64",
      "userId": "10503408555776388272"
     },
     "user_tz": -180
    },
    "id": "gFOePELMN8KM",
    "outputId": "060ce089-7714-4041-d090-665d167be5af"
   },
   "outputs": [
    {
     "name": "stdout",
     "output_type": "stream",
     "text": [
      "(60000, 28, 28)\n",
      "(10000, 28, 28)\n",
      "[5 0 4 1 9 2 1 3 1 4]\n",
      "[7 2 1 0 4 1 4 9 5 9]\n"
     ]
    }
   ],
   "source": [
    "# что за данные\n",
    "print(x_train.shape)\n",
    "print(x_val.shape)\n",
    "print (y_train[:10])\n",
    "print (y_val[:10])"
   ]
  },
  {
   "cell_type": "code",
   "execution_count": 9,
   "metadata": {
    "colab": {
     "base_uri": "https://localhost:8080/",
     "height": 582
    },
    "executionInfo": {
     "elapsed": 462,
     "status": "ok",
     "timestamp": 1643536508478,
     "user": {
      "displayName": "Gregory Kanavenko",
      "photoUrl": "https://lh3.googleusercontent.com/a/default-user=s64",
      "userId": "10503408555776388272"
     },
     "user_tz": -180
    },
    "id": "S_1_CbatN_Kt",
    "outputId": "6f03e584-1714-47d7-9fc2-8ed2c93dfb1e"
   },
   "outputs": [
    {
     "name": "stdout",
     "output_type": "stream",
     "text": [
      "Пример кусочка картинки (пиксели со значениями от 0 до 255):\n"
     ]
    },
    {
     "data": {
      "image/png": "[encoded data removed]",
      "text/plain": [
       "<Figure size 432x288 with 1 Axes>"
      ]
     },
     "metadata": {
      "needs_background": "light"
     },
     "output_type": "display_data"
    },
    {
     "name": "stdout",
     "output_type": "stream",
     "text": [
      "Пример картинки:\n"
     ]
    },
    {
     "data": {
      "image/png": "[encoded data removed]",
      "text/plain": [
       "<Figure size 432x288 with 1 Axes>"
      ]
     },
     "metadata": {
      "needs_background": "light"
     },
     "output_type": "display_data"
    },
    {
     "name": "stdout",
     "output_type": "stream",
     "text": [
      "y_train [shape (60000,)] 10 примеров:\n",
      " [5 0 4 1 9 2 1 3 1 4]\n"
     ]
    }
   ],
   "source": [
    "# нарисуем картинку\n",
    "x_train_image = np.tile(x_train[5, :, :].reshape((28, 28))[:, :, np.newaxis], (1, 1, 3))\n",
    "print(\"Пример кусочка картинки (пиксели со значениями от 0 до 255):\")\n",
    "plt.imshow(x_train_image[15:20, 5:10], cmap=\"Greys\")\n",
    "plt.show()\n",
    "print(\"Пример картинки:\")\n",
    "plt.imshow(x_train_image, cmap=\"Greys\")\n",
    "plt.show()\n",
    "print(\"y_train [shape %s] 10 примеров:\\n\" % (str(y_train.shape)), y_train[:10])"
   ]
  },
  {
   "cell_type": "code",
   "execution_count": 10,
   "metadata": {
    "colab": {
     "base_uri": "https://localhost:8080/",
     "height": 589
    },
    "executionInfo": {
     "elapsed": 1025,
     "status": "ok",
     "timestamp": 1643536532158,
     "user": {
      "displayName": "Gregory Kanavenko",
      "photoUrl": "https://lh3.googleusercontent.com/a/default-user=s64",
      "userId": "10503408555776388272"
     },
     "user_tz": -180
    },
    "id": "N8lbRW0WBPvh",
    "outputId": "ee22d80c-4af3-44a0-a59e-3e6cc406d16b"
   },
   "outputs": [
    {
     "data": {
      "image/png": "[encoded data removed]",
      "text/plain": [
       "<Figure size 720x720 with 25 Axes>"
      ]
     },
     "metadata": {},
     "output_type": "display_data"
    }
   ],
   "source": [
    "# Посмотрим побольше примеров\n",
    "plt.figure(figsize=(10,10))\n",
    "for i in range(25):\n",
    "    plt.subplot(5,5,i+1)\n",
    "    plt.xticks([])\n",
    "    plt.yticks([])\n",
    "    plt.grid(False)\n",
    "    plt.imshow(x_train[i], cmap=\"Greys\")\n",
    "    plt.xlabel(y_train[i])\n",
    "plt.show()"
   ]
  },
  {
   "cell_type": "markdown",
   "metadata": {
    "id": "Zs9l8YcDCn77"
   },
   "source": [
    "# Data"
   ]
  },
  {
   "cell_type": "code",
   "execution_count": 11,
   "metadata": {
    "colab": {
     "base_uri": "https://localhost:8080/"
    },
    "executionInfo": {
     "elapsed": 617,
     "status": "ok",
     "timestamp": 1643536579801,
     "user": {
      "displayName": "Gregory Kanavenko",
      "photoUrl": "https://lh3.googleusercontent.com/a/default-user=s64",
      "userId": "10503408555776388272"
     },
     "user_tz": -180
    },
    "id": "Gy5rjeOE1RGk",
    "outputId": "8b8c2cc1-ba19-420a-8b16-364a33ffd5e2"
   },
   "outputs": [
    {
     "name": "stdout",
     "output_type": "stream",
     "text": [
      "(60000, 28, 28) (60000, 784)\n",
      "(10000, 28, 28) (10000, 784)\n"
     ]
    }
   ],
   "source": [
    "# вытянем картинку в вектор размера 28*28=784 и будем использовать это как фичи!\n",
    "\n",
    "x_train_flat = x_train.reshape(-1, 28*28).astype(float)\n",
    "print(x_train.shape, x_train_flat.shape)\n",
    "\n",
    "x_val_flat = x_val.reshape(-1, 28*28).astype(float)\n",
    "print(x_val.shape, x_val_flat.shape)"
   ]
  },
  {
   "cell_type": "code",
   "execution_count": 13,
   "metadata": {
    "executionInfo": {
     "elapsed": 442,
     "status": "ok",
     "timestamp": 1643536708955,
     "user": {
      "displayName": "Gregory Kanavenko",
      "photoUrl": "https://lh3.googleusercontent.com/a/default-user=s64",
      "userId": "10503408555776388272"
     },
     "user_tz": -180
    },
    "id": "eiiClrqZC1ev"
   },
   "outputs": [],
   "source": [
    "# центрируем и нормируем, так сети будет проще учиться\n",
    "x_train_float = x_train_flat.astype(float) / 255 - 0.5\n",
    "x_val_float = x_val_flat.astype(float) / 255 - 0.5\n",
    "\n",
    "# по сути, это действия аналогичны нормализации через StandardScaler\n",
    "# from sklearn.preprocessing import StandardScaler\n",
    "# scaler = StandardScaler()\n",
    "# x_train_flat = scaler.fit_transform(x_train_flat)\n",
    "# x_val_flat = scaler.transform(x_val_flat)\n",
    "\n",
    "# Но попробуйте пропустить нормирование и посмотрите что будет ;)\n",
    "# x_train_float = x_train_flat.astype(float)\n",
    "# x_val_float = x_val_flat.astype(float)"
   ]
  },
  {
   "cell_type": "code",
   "execution_count": 14,
   "metadata": {
    "colab": {
     "base_uri": "https://localhost:8080/"
    },
    "executionInfo": {
     "elapsed": 414,
     "status": "ok",
     "timestamp": 1643536714560,
     "user": {
      "displayName": "Gregory Kanavenko",
      "photoUrl": "https://lh3.googleusercontent.com/a/default-user=s64",
      "userId": "10503408555776388272"
     },
     "user_tz": -180
    },
    "id": "lLz736fXE1mN",
    "outputId": "8384c0fc-fc3e-4c40-91d2-9b102b428e41"
   },
   "outputs": [
    {
     "name": "stdout",
     "output_type": "stream",
     "text": [
      "(60000, 10)\n",
      "[[0. 0. 0. 0. 0. 1. 0. 0. 0. 0.]\n",
      " [1. 0. 0. 0. 0. 0. 0. 0. 0. 0.]\n",
      " [0. 0. 0. 0. 1. 0. 0. 0. 0. 0.]\n",
      " [0. 1. 0. 0. 0. 0. 0. 0. 0. 0.]\n",
      " [0. 0. 0. 0. 0. 0. 0. 0. 0. 1.]] [5 0 4 1 9]\n"
     ]
    }
   ],
   "source": [
    "# one-hot encode для ответов\n",
    "y_train_oh = keras.utils.to_categorical(y_train, 10)\n",
    "y_val_oh = keras.utils.to_categorical(y_val, 10)\n",
    "\n",
    "print(y_train_oh.shape)\n",
    "print(y_train_oh[:5], y_train[:5])"
   ]
  },
  {
   "cell_type": "markdown",
   "metadata": {
    "id": "n8jUd6IORgQh"
   },
   "source": [
    "# Собираем модель\n",
    "\n",
    "Построим простой Multi layer Perceptron (MLP) классификатор в Keras (по аналогии со знакомым нам уже MLPClassifier из sklearn)\n",
    "\n",
    "<img src=\"https://cdn-images-1.medium.com/max/1600/1*Gh5PS4R_A5drl5ebd_gNrg@2x.png\" width=\"500\">\n"
   ]
  },
  {
   "cell_type": "markdown",
   "metadata": {
    "id": "cSdaCoTkUCxH"
   },
   "source": [
    "Сначала надо будет посчитать логиты (logit, линейное преобразование) $z_k$ для каждого класса: $$z_k = \\vec{x} \\cdot \\vec{w_k} + b_k \\quad k = 0..9$$\n",
    "\n",
    "А затем превратить логиты $z_k$ в вероятности $p_k$ при помощи функции softmax: $$p_k = \\frac{e^{z_k}}{\\sum_{i=0}^{9}{e^{z_i}}} \\quad k = 0..9$$\n",
    "\n",
    "Мы будем использовать cross-entropy для минимизации ошибки: $$\\text{cross-entropy}(y, p) = -\\sum_{k=0}^{9}{\\log(p_k)[y = k]}$$\n",
    "\n",
    "где $$ [x]=\\begin{cases} 1, \\quad \\text{если $x$ истина} \\\\ 0, \\quad \\text{иначе} \\end{cases} $$\n",
    "\n",
    "Минимизация cross-entropy двигает $p_k$ в сторону 1 когда $y = k$, что как раз мы и хотим.\n"
   ]
  },
  {
   "cell_type": "code",
   "execution_count": null,
   "metadata": {
    "id": "EaI0ev6BOI2r"
   },
   "outputs": [],
   "source": [
    "clear_session()"
   ]
  },
  {
   "cell_type": "code",
   "execution_count": 23,
   "metadata": {},
   "outputs": [
    {
     "data": {
      "text/plain": [
       "784"
      ]
     },
     "execution_count": 23,
     "metadata": {},
     "output_type": "execute_result"
    }
   ],
   "source": [
    "x_train_float.shape[1]"
   ]
  },
  {
   "cell_type": "code",
   "execution_count": 15,
   "metadata": {
    "executionInfo": {
     "elapsed": 740,
     "status": "ok",
     "timestamp": 1643537084961,
     "user": {
      "displayName": "Gregory Kanavenko",
      "photoUrl": "https://lh3.googleusercontent.com/a/default-user=s64",
      "userId": "10503408555776388272"
     },
     "user_tz": -180
    },
    "id": "yrIcMsFlHp4U"
   },
   "outputs": [],
   "source": [
    "# Архитектура сети\n",
    "model = Sequential()\n",
    "model.add(Dense(256, activation='relu', input_shape=(x_train_float.shape[1],))) # первый скрытый слой\n",
    "model.add(Dense(128, activation='relu',)) # второй скрытый слой\n",
    "model.add(Dense(10, activation='softmax',)) # выходной слой"
   ]
  },
  {
   "cell_type": "code",
   "execution_count": 16,
   "metadata": {
    "colab": {
     "base_uri": "https://localhost:8080/"
    },
    "executionInfo": {
     "elapsed": 313,
     "status": "ok",
     "timestamp": 1643537089447,
     "user": {
      "displayName": "Gregory Kanavenko",
      "photoUrl": "https://lh3.googleusercontent.com/a/default-user=s64",
      "userId": "10503408555776388272"
     },
     "user_tz": -180
    },
    "id": "dumFu1lQHpm_",
    "outputId": "aa979874-2b20-4527-c066-fad268764440"
   },
   "outputs": [
    {
     "name": "stdout",
     "output_type": "stream",
     "text": [
      "Model: \"sequential\"\n",
      "_________________________________________________________________\n",
      " Layer (type)                Output Shape              Param #   \n",
      "=================================================================\n",
      " dense (Dense)               (None, 256)               200960    \n",
      "                                                                 \n",
      " dense_1 (Dense)             (None, 128)               32896     \n",
      "                                                                 \n",
      " dense_2 (Dense)             (None, 10)                1290      \n",
      "                                                                 \n",
      "=================================================================\n",
      "Total params: 235,146\n",
      "Trainable params: 235,146\n",
      "Non-trainable params: 0\n",
      "_________________________________________________________________\n"
     ]
    }
   ],
   "source": [
    "model.summary()"
   ]
  },
  {
   "cell_type": "code",
   "execution_count": 17,
   "metadata": {
    "id": "UNi21kLiJCys"
   },
   "outputs": [],
   "source": [
    "model.compile(\n",
    "    loss='categorical_crossentropy',  # минимизируем кросс-энтропию\n",
    "    optimizer='adam',  # так будет быстрее, позже узнаем что это :)\n",
    "    metrics=['accuracy']  # выводим процент правильных ответов\n",
    ")"
   ]
  },
  {
   "cell_type": "code",
   "execution_count": 18,
   "metadata": {
    "colab": {
     "base_uri": "https://localhost:8080/",
     "height": 374
    },
    "executionInfo": {
     "elapsed": 32645,
     "status": "ok",
     "timestamp": 1586200676931,
     "user": {
      "displayName": "Lek Dev",
      "photoUrl": "",
      "userId": "12863469546297939726"
     },
     "user_tz": -180
    },
    "id": "rsO0ZQFDJFq_",
    "outputId": "07b403ea-10ed-4ef4-ec05-fa40baf8688b"
   },
   "outputs": [
    {
     "name": "stdout",
     "output_type": "stream",
     "text": [
      "Epoch 1/10\n",
      "938/938 [==============================] - 1s 1ms/step - loss: 0.3078 - accuracy: 0.9072 - val_loss: 0.1572 - val_accuracy: 0.9488\n",
      "Epoch 2/10\n",
      "938/938 [==============================] - 1s 1ms/step - loss: 0.1378 - accuracy: 0.9578 - val_loss: 0.1022 - val_accuracy: 0.9682\n",
      "Epoch 3/10\n",
      "938/938 [==============================] - 1s 1ms/step - loss: 0.1036 - accuracy: 0.9678 - val_loss: 0.1059 - val_accuracy: 0.9665\n",
      "Epoch 4/10\n",
      "938/938 [==============================] - 1s 1ms/step - loss: 0.0859 - accuracy: 0.9728 - val_loss: 0.0913 - val_accuracy: 0.9722\n",
      "Epoch 5/10\n",
      "938/938 [==============================] - 1s 1ms/step - loss: 0.0705 - accuracy: 0.9777 - val_loss: 0.0947 - val_accuracy: 0.9703\n",
      "Epoch 6/10\n",
      "938/938 [==============================] - 1s 1ms/step - loss: 0.0633 - accuracy: 0.9796 - val_loss: 0.1056 - val_accuracy: 0.9675\n",
      "Epoch 7/10\n",
      "938/938 [==============================] - 1s 1ms/step - loss: 0.0545 - accuracy: 0.9822 - val_loss: 0.0942 - val_accuracy: 0.9711\n",
      "Epoch 8/10\n",
      "938/938 [==============================] - 1s 1ms/step - loss: 0.0483 - accuracy: 0.9837 - val_loss: 0.0861 - val_accuracy: 0.9749\n",
      "Epoch 9/10\n",
      "938/938 [==============================] - 1s 1ms/step - loss: 0.0452 - accuracy: 0.9848 - val_loss: 0.0757 - val_accuracy: 0.9796\n",
      "Epoch 10/10\n",
      "938/938 [==============================] - 1s 1ms/step - loss: 0.0401 - accuracy: 0.9866 - val_loss: 0.0808 - val_accuracy: 0.9773\n"
     ]
    }
   ],
   "source": [
    "history = model.fit(\n",
    "                    x_train_float, \n",
    "                    y_train_oh,\n",
    "                    batch_size=64,  # 64 объекта для подсчета градиента на каждом шаге\n",
    "                    epochs=10,  # 10 проходов по датасету\n",
    "                    validation_data=(x_val_float, y_val_oh)\n",
    "                    )"
   ]
  },
  {
   "cell_type": "code",
   "execution_count": 19,
   "metadata": {
    "colab": {
     "base_uri": "https://localhost:8080/",
     "height": 350
    },
    "executionInfo": {
     "elapsed": 1085,
     "status": "ok",
     "timestamp": 1586200684339,
     "user": {
      "displayName": "Lek Dev",
      "photoUrl": "",
      "userId": "12863469546297939726"
     },
     "user_tz": -180
    },
    "id": "zM4NTDXyQn0A",
    "outputId": "ed04b618-3cd1-46c3-c334-f82675d159fb"
   },
   "outputs": [
    {
     "data": {
      "image/png": "[encoded data removed]",
      "text/plain": [
       "<Figure size 720x360 with 1 Axes>"
      ]
     },
     "metadata": {},
     "output_type": "display_data"
    }
   ],
   "source": [
    "# Plot training & validation accuracy values\n",
    "plt.style.use(['dark_background'])\n",
    "fig, ax = plt.subplots(figsize=(10, 5))\n",
    "plt.plot(history.history['accuracy'])\n",
    "plt.plot(history.history['val_accuracy'])\n",
    "plt.title('Model accuracy')\n",
    "plt.ylabel('Accuracy')\n",
    "plt.xlabel('Epoch')\n",
    "plt.legend(['Train', 'Test'], loc='upper left')\n",
    "plt.show()"
   ]
  },
  {
   "cell_type": "code",
   "execution_count": 20,
   "metadata": {
    "colab": {
     "base_uri": "https://localhost:8080/",
     "height": 350
    },
    "executionInfo": {
     "elapsed": 1173,
     "status": "ok",
     "timestamp": 1586200689486,
     "user": {
      "displayName": "Lek Dev",
      "photoUrl": "",
      "userId": "12863469546297939726"
     },
     "user_tz": -180
    },
    "id": "uUwz9JG0R-9w",
    "outputId": "a0fd66f7-4ba4-421d-9ebf-ab39b3e93595"
   },
   "outputs": [
    {
     "data": {
      "image/png": "[encoded data removed]",
      "text/plain": [
       "<Figure size 720x360 with 1 Axes>"
      ]
     },
     "metadata": {},
     "output_type": "display_data"
    }
   ],
   "source": [
    "# Plot training & validation loss values\n",
    "plt.style.use(['dark_background'])\n",
    "fig, ax = plt.subplots(figsize=(10, 5))\n",
    "plt.plot(history.history['loss'])\n",
    "plt.plot(history.history['val_loss'])\n",
    "plt.title('Model loss')\n",
    "plt.ylabel('Loss')\n",
    "plt.xlabel('Epoch')\n",
    "plt.legend(['Train', 'Test'], loc='upper left')\n",
    "plt.show()"
   ]
  },
  {
   "cell_type": "code",
   "execution_count": 21,
   "metadata": {
    "colab": {
     "base_uri": "https://localhost:8080/",
     "height": 238
    },
    "executionInfo": {
     "elapsed": 1318,
     "status": "ok",
     "timestamp": 1586200532993,
     "user": {
      "displayName": "Lek Dev",
      "photoUrl": "",
      "userId": "12863469546297939726"
     },
     "user_tz": -180
    },
    "id": "gpkK_GHOSF2j",
    "outputId": "1695d436-4893-4d52-dbfc-f9ac9a50fb1b"
   },
   "outputs": [
    {
     "name": "stdout",
     "output_type": "stream",
     "text": [
      "313/313 [==============================] - 0s 433us/step\n"
     ]
    },
    {
     "data": {
      "text/plain": [
       "array([[1.5048586e-08, 1.1410210e-08, 2.5867794e-06, ..., 9.9999052e-01,\n",
       "        4.6172917e-07, 3.9030942e-06],\n",
       "       [5.7689444e-12, 3.5680390e-09, 9.9999279e-01, ..., 2.1455465e-14,\n",
       "        1.7546657e-09, 2.8539880e-16],\n",
       "       [1.1504515e-08, 9.9973381e-01, 3.4307199e-05, ..., 1.9155689e-04,\n",
       "        3.5493629e-06, 1.2699077e-07],\n",
       "       ...,\n",
       "       [3.0259714e-13, 4.2488695e-12, 5.8824972e-13, ..., 1.3330166e-05,\n",
       "        2.4090527e-09, 1.7341889e-06],\n",
       "       [8.2786399e-12, 2.1226732e-13, 2.3240030e-12, ..., 1.5198081e-11,\n",
       "        7.3231161e-07, 2.6467264e-14],\n",
       "       [2.7710192e-10, 3.8412277e-20, 5.6271251e-14, ..., 2.2604954e-19,\n",
       "        1.6120960e-11, 7.3545304e-13]], dtype=float32)"
      ]
     },
     "execution_count": 21,
     "metadata": {},
     "output_type": "execute_result"
    }
   ],
   "source": [
    "model.predict(x_val_float)"
   ]
  },
  {
   "cell_type": "code",
   "execution_count": 24,
   "metadata": {
    "colab": {
     "base_uri": "https://localhost:8080/",
     "height": 34
    },
    "executionInfo": {
     "elapsed": 2318,
     "status": "ok",
     "timestamp": 1586197538989,
     "user": {
      "displayName": "Lek Dev",
      "photoUrl": "",
      "userId": "12863469546297939726"
     },
     "user_tz": -180
    },
    "id": "WV5Z-2qlJxa2",
    "outputId": "7121b72f-43ac-4f39-bbeb-109e22526151"
   },
   "outputs": [
    {
     "name": "stdout",
     "output_type": "stream",
     "text": [
      "313/313 [==============================] - 0s 441us/step\n"
     ]
    },
    {
     "data": {
      "text/plain": [
       "array([7, 2, 1, ..., 4, 5, 6])"
      ]
     },
     "execution_count": 24,
     "metadata": {},
     "output_type": "execute_result"
    }
   ],
   "source": [
    "# аналогично\n",
    "np.argmax(model.predict(x_val_float), axis = 1)"
   ]
  },
  {
   "cell_type": "code",
   "execution_count": 26,
   "metadata": {
    "colab": {
     "base_uri": "https://localhost:8080/",
     "height": 34
    },
    "executionInfo": {
     "elapsed": 949,
     "status": "ok",
     "timestamp": 1586200694953,
     "user": {
      "displayName": "Lek Dev",
      "photoUrl": "",
      "userId": "12863469546297939726"
     },
     "user_tz": -180
    },
    "id": "j5MI71XhJPCk",
    "outputId": "b9a95153-ca91-4800-eb70-1f13d5a8f5e4"
   },
   "outputs": [
    {
     "name": "stdout",
     "output_type": "stream",
     "text": [
      "313/313 [==============================] - 0s 444us/step\n",
      "Test Accuracy:  0.9773\n"
     ]
    }
   ],
   "source": [
    "predicts = np.argmax(model.predict(x_val_float), axis = 1)\n",
    "print('Test Accuracy: ', accuracy_score(y_val, predicts))"
   ]
  }
 ],
 "metadata": {
  "accelerator": "GPU",
  "colab": {
   "collapsed_sections": [],
   "name": "Copy of SF_mod_2_mnist_2 .ipynb",
   "provenance": [
    {
     "file_id": "1sbT9sts6YCTvJ1TDLzO50tyKLtRB2G98",
     "timestamp": 1643537168192
    },
    {
     "file_id": "1cMAMj3ugHfrF4c6euX-D5Fz7Fo3k44kx",
     "timestamp": 1587115713450
    },
    {
     "file_id": "1yF7YOZ0a7R38zKY1Z8D62Q0Xm5LToKSB",
     "timestamp": 1586182046269
    }
   ]
  },
  "kernelspec": {
   "display_name": "Python 3 (ipykernel)",
   "language": "python",
   "name": "python3"
  },
  "language_info": {
   "codemirror_mode": {
    "name": "ipython",
    "version": 3
   },
   "file_extension": ".py",
   "mimetype": "text/x-python",
   "name": "python",
   "nbconvert_exporter": "python",
   "pygments_lexer": "ipython3",
   "version": "3.9.12"
  }
 },
 "nbformat": 4,
 "nbformat_minor": 1
}
