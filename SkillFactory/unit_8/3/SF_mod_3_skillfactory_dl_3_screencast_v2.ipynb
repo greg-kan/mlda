{
 "cells": [
  {
   "cell_type": "markdown",
   "metadata": {
    "id": "gWohvxTubkJF"
   },
   "source": [
    "# Свертки в Keras\n",
    "\n",
    "Будем использовать Fashion MNIST"
   ]
  },
  {
   "cell_type": "code",
   "execution_count": 1,
   "metadata": {},
   "outputs": [],
   "source": [
    "import os\n",
    "import numpy as np\n",
    "import pandas as pd\n",
    "from sklearn.metrics import accuracy_score\n",
    "import matplotlib.pyplot as plt\n",
    "%matplotlib inline"
   ]
  },
  {
   "cell_type": "code",
   "execution_count": 2,
   "metadata": {},
   "outputs": [
    {
     "name": "stdout",
     "output_type": "stream",
     "text": [
      "2.9.1\n",
      "2.9.0\n"
     ]
    }
   ],
   "source": [
    "os.environ['TF_CPP_MIN_LOG_LEVEL'] = '1'\n",
    "os.environ['TF_ENABLE_ONEDNN_OPTS'] = '0'\n",
    "import tensorflow as tf\n",
    "import tensorflow.keras as keras\n",
    "import tensorflow.keras.models as M\n",
    "import tensorflow.keras.layers as L\n",
    "import tensorflow.keras.backend as K\n",
    "print(tf.__version__)\n",
    "print(keras.__version__)"
   ]
  },
  {
   "cell_type": "code",
   "execution_count": 3,
   "metadata": {
    "colab": {
     "base_uri": "https://localhost:8080/",
     "height": 35
    },
    "executionInfo": {
     "elapsed": 11,
     "status": "ok",
     "timestamp": 1643904782901,
     "user": {
      "displayName": "Gregory Kanavenko",
      "photoUrl": "https://lh3.googleusercontent.com/a/default-user=s64",
      "userId": "10503408555776388272"
     },
     "user_tz": -180
    },
    "id": "-4LwMoWC3CuX",
    "outputId": "ca66860e-8dc0-42b1-eb37-5890d220090c"
   },
   "outputs": [
    {
     "data": {
      "text/plain": [
       "'/device:GPU:0'"
      ]
     },
     "execution_count": 3,
     "metadata": {},
     "output_type": "execute_result"
    }
   ],
   "source": [
    "# Проверяем что у нас работает GPU\n",
    "tf.test.gpu_device_name()"
   ]
  },
  {
   "cell_type": "code",
   "execution_count": 4,
   "metadata": {
    "colab": {
     "base_uri": "https://localhost:8080/"
    },
    "executionInfo": {
     "elapsed": 6,
     "status": "ok",
     "timestamp": 1643904782901,
     "user": {
      "displayName": "Gregory Kanavenko",
      "photoUrl": "https://lh3.googleusercontent.com/a/default-user=s64",
      "userId": "10503408555776388272"
     },
     "user_tz": -180
    },
    "id": "leCBt1jY3E9Y",
    "outputId": "6d3af197-b109-4851-f54c-b9bf90d3af27"
   },
   "outputs": [
    {
     "name": "stdout",
     "output_type": "stream",
     "text": [
      "/bin/bash: /home/greg/anaconda3/envs/tf/lib/libtinfo.so.6: no version information available (required by /bin/bash)\r\n",
      "GPU 0: NVIDIA GeForce RTX 3080 Ti (UUID: GPU-3640a850-99c1-dc54-6fa7-580525d9e5af)\r\n"
     ]
    }
   ],
   "source": [
    "#GPU count and name\n",
    "!nvidia-smi -L"
   ]
  },
  {
   "cell_type": "markdown",
   "metadata": {
    "id": "bpgb9XRbbkJM"
   },
   "source": [
    "# Загрузим данные\n",
    "\n",
    "Классы:\n",
    "```\n",
    "0 T-shirt/top \n",
    "1 Trouser \n",
    "2 Pullover \n",
    "3 Dress \n",
    "4 Coat \n",
    "5 Sandal \n",
    "6 Shirt \n",
    "7 Sneaker \n",
    "8 Bag \n",
    "9 Ankle boot\n",
    "```\n",
    "\n",
    "\n"
   ]
  },
  {
   "cell_type": "code",
   "execution_count": 5,
   "metadata": {
    "executionInfo": {
     "elapsed": 423,
     "status": "ok",
     "timestamp": 1643904783320,
     "user": {
      "displayName": "Gregory Kanavenko",
      "photoUrl": "https://lh3.googleusercontent.com/a/default-user=s64",
      "userId": "10503408555776388272"
     },
     "user_tz": -180
    },
    "id": "urm1aZJwjQkC"
   },
   "outputs": [],
   "source": [
    "(x_train, y_train), (x_val, y_val) = tf.keras.datasets.fashion_mnist.load_data()"
   ]
  },
  {
   "cell_type": "code",
   "execution_count": 6,
   "metadata": {
    "colab": {
     "base_uri": "https://localhost:8080/"
    },
    "executionInfo": {
     "elapsed": 11,
     "status": "ok",
     "timestamp": 1643904783321,
     "user": {
      "displayName": "Gregory Kanavenko",
      "photoUrl": "https://lh3.googleusercontent.com/a/default-user=s64",
      "userId": "10503408555776388272"
     },
     "user_tz": -180
    },
    "id": "JXxm8f9Dupqb",
    "outputId": "c3e54d92-7213-4810-b349-1bbda6489045"
   },
   "outputs": [
    {
     "name": "stdout",
     "output_type": "stream",
     "text": [
      "(60000, 28, 28)\n",
      "(10000, 28, 28)\n",
      "[9 0 0 3 0 2 7 2 5 5]\n",
      "[9 2 1 1 6 1 4 6 5 7]\n"
     ]
    }
   ],
   "source": [
    "print(x_train.shape)\n",
    "print(x_val.shape)\n",
    "print (y_train[:10])\n",
    "print (y_val[:10])"
   ]
  },
  {
   "cell_type": "code",
   "execution_count": 7,
   "metadata": {
    "colab": {
     "base_uri": "https://localhost:8080/",
     "height": 582
    },
    "executionInfo": {
     "elapsed": 734,
     "status": "ok",
     "timestamp": 1643904784049,
     "user": {
      "displayName": "Gregory Kanavenko",
      "photoUrl": "https://lh3.googleusercontent.com/a/default-user=s64",
      "userId": "10503408555776388272"
     },
     "user_tz": -180
    },
    "id": "yW57DlfmbkJP",
    "outputId": "21748f1b-0f6a-4350-b73a-33c5d56a112a"
   },
   "outputs": [
    {
     "name": "stdout",
     "output_type": "stream",
     "text": [
      "Пример кусочка картинки:\n"
     ]
    },
    {
     "data": {
      "image/png": "[encoded data removed]",
      "text/plain": [
       "<Figure size 432x288 with 1 Axes>"
      ]
     },
     "metadata": {
      "needs_background": "light"
     },
     "output_type": "display_data"
    },
    {
     "name": "stdout",
     "output_type": "stream",
     "text": [
      "Пример картинки:\n"
     ]
    },
    {
     "data": {
      "image/png": "[encoded data removed]",
      "text/plain": [
       "<Figure size 432x288 with 1 Axes>"
      ]
     },
     "metadata": {
      "needs_background": "light"
     },
     "output_type": "display_data"
    },
    {
     "name": "stdout",
     "output_type": "stream",
     "text": [
      "y_train [shape (60000,)] 10 примеров:\n",
      " [9 0 0 3 0 2 7 2 5 5]\n"
     ]
    }
   ],
   "source": [
    "x_train_image = np.tile(x_train[5, :, :].reshape((28, 28))[:, :, np.newaxis], (1, 1, 3))\n",
    "print(\"Пример кусочка картинки:\")\n",
    "plt.imshow(x_train_image[15:20, 5:10], cmap=\"Greys\")\n",
    "plt.show()\n",
    "print(\"Пример картинки:\")\n",
    "plt.imshow(x_train_image, cmap=\"Greys\")\n",
    "plt.show()\n",
    "print(\"y_train [shape %s] 10 примеров:\\n\" % (str(y_train.shape)), y_train[:10])"
   ]
  },
  {
   "cell_type": "code",
   "execution_count": 8,
   "metadata": {
    "colab": {
     "base_uri": "https://localhost:8080/"
    },
    "executionInfo": {
     "elapsed": 6,
     "status": "ok",
     "timestamp": 1643904784050,
     "user": {
      "displayName": "Gregory Kanavenko",
      "photoUrl": "https://lh3.googleusercontent.com/a/default-user=s64",
      "userId": "10503408555776388272"
     },
     "user_tz": -180
    },
    "id": "Ntmlh71gbkJU",
    "outputId": "62b969bb-5001-4f43-e57a-b6101b60f506"
   },
   "outputs": [
    {
     "name": "stdout",
     "output_type": "stream",
     "text": [
      "(60000, 10)\n",
      "[[0. 0. 0. 0. 0. 0. 0. 0. 0. 1.]\n",
      " [1. 0. 0. 0. 0. 0. 0. 0. 0. 0.]\n",
      " [1. 0. 0. 0. 0. 0. 0. 0. 0. 0.]\n",
      " [0. 0. 0. 1. 0. 0. 0. 0. 0. 0.]\n",
      " [1. 0. 0. 0. 0. 0. 0. 0. 0. 0.]] [9 0 0 3 0]\n"
     ]
    }
   ],
   "source": [
    "# one-hot encode для ответов\n",
    "y_train_oh = keras.utils.to_categorical(y_train, 10)\n",
    "y_val_oh = keras.utils.to_categorical(y_val, 10)\n",
    "\n",
    "print(y_train_oh.shape)\n",
    "print(y_train_oh[:5], y_train[:5])"
   ]
  },
  {
   "cell_type": "markdown",
   "metadata": {
    "id": "sFdgl0owpaff"
   },
   "source": [
    "# Собираем модель"
   ]
  },
  {
   "cell_type": "markdown",
   "metadata": {
    "id": "2br7Y727oGH5"
   },
   "source": [
    "Будем как и в предыдущем модуле минимизировать кросс-энтропию."
   ]
  },
  {
   "cell_type": "code",
   "execution_count": 9,
   "metadata": {
    "executionInfo": {
     "elapsed": 556,
     "status": "ok",
     "timestamp": 1643904784604,
     "user": {
      "displayName": "Gregory Kanavenko",
      "photoUrl": "https://lh3.googleusercontent.com/a/default-user=s64",
      "userId": "10503408555776388272"
     },
     "user_tz": -180
    },
    "id": "f75e-QsypY4a"
   },
   "outputs": [],
   "source": [
    "K.clear_session()\n",
    "\n",
    "# в этот раз используем картинку как вход без вытягивания в вектор!\n",
    "\n",
    "model = M.Sequential()\n",
    "model.add(L.Conv2D(16, kernel_size=3, strides=1, padding='same', input_shape=(28, 28, 1))) # padding='same'\n",
    "model.add(L.MaxPool2D())\n",
    "model.add(L.Conv2D(32, kernel_size=3, strides=1, padding='same'))\n",
    "model.add(L.MaxPool2D())\n",
    "model.add(L.Conv2D(64, kernel_size=3, strides=1, padding='same'))\n",
    "model.add(L.MaxPool2D())\n",
    "model.add(L.Flatten())\n",
    "model.add(L.Dense(64, activation='elu'))\n",
    "model.add(L.Dense(10, activation='softmax'))"
   ]
  },
  {
   "cell_type": "code",
   "execution_count": 10,
   "metadata": {
    "colab": {
     "base_uri": "https://localhost:8080/"
    },
    "executionInfo": {
     "elapsed": 16,
     "status": "ok",
     "timestamp": 1643904784607,
     "user": {
      "displayName": "Gregory Kanavenko",
      "photoUrl": "https://lh3.googleusercontent.com/a/default-user=s64",
      "userId": "10503408555776388272"
     },
     "user_tz": -180
    },
    "id": "oAyTk_FAbkJZ",
    "outputId": "52e43415-0732-4e99-bc6b-a54b86638648"
   },
   "outputs": [
    {
     "name": "stdout",
     "output_type": "stream",
     "text": [
      "Model: \"sequential\"\n",
      "_________________________________________________________________\n",
      " Layer (type)                Output Shape              Param #   \n",
      "=================================================================\n",
      " conv2d (Conv2D)             (None, 28, 28, 16)        160       \n",
      "                                                                 \n",
      " max_pooling2d (MaxPooling2D  (None, 14, 14, 16)       0         \n",
      " )                                                               \n",
      "                                                                 \n",
      " conv2d_1 (Conv2D)           (None, 14, 14, 32)        4640      \n",
      "                                                                 \n",
      " max_pooling2d_1 (MaxPooling  (None, 7, 7, 32)         0         \n",
      " 2D)                                                             \n",
      "                                                                 \n",
      " conv2d_2 (Conv2D)           (None, 7, 7, 64)          18496     \n",
      "                                                                 \n",
      " max_pooling2d_2 (MaxPooling  (None, 3, 3, 64)         0         \n",
      " 2D)                                                             \n",
      "                                                                 \n",
      " flatten (Flatten)           (None, 576)               0         \n",
      "                                                                 \n",
      " dense (Dense)               (None, 64)                36928     \n",
      "                                                                 \n",
      " dense_1 (Dense)             (None, 10)                650       \n",
      "                                                                 \n",
      "=================================================================\n",
      "Total params: 60,874\n",
      "Trainable params: 60,874\n",
      "Non-trainable params: 0\n",
      "_________________________________________________________________\n"
     ]
    }
   ],
   "source": [
    "model.summary()"
   ]
  },
  {
   "cell_type": "code",
   "execution_count": 11,
   "metadata": {
    "executionInfo": {
     "elapsed": 13,
     "status": "ok",
     "timestamp": 1643904784608,
     "user": {
      "displayName": "Gregory Kanavenko",
      "photoUrl": "https://lh3.googleusercontent.com/a/default-user=s64",
      "userId": "10503408555776388272"
     },
     "user_tz": -180
    },
    "id": "05_NRSnWbkJc"
   },
   "outputs": [],
   "source": [
    "model.compile(\n",
    "    loss='categorical_crossentropy',  # минимизируем кросс-энтропию\n",
    "    optimizer='adam',  # так будет быстрее, позже узнаем что это :)\n",
    "    metrics=['accuracy']  # выводим процент правильных ответов\n",
    ")"
   ]
  },
  {
   "cell_type": "code",
   "execution_count": 12,
   "metadata": {
    "executionInfo": {
     "elapsed": 262,
     "status": "ok",
     "timestamp": 1643904784858,
     "user": {
      "displayName": "Gregory Kanavenko",
      "photoUrl": "https://lh3.googleusercontent.com/a/default-user=s64",
      "userId": "10503408555776388272"
     },
     "user_tz": -180
    },
    "id": "Tj7JoTt3rghC"
   },
   "outputs": [],
   "source": [
    "# центрируем и нормируем, так сети будет проще учиться (позже узнаем почему :)\n",
    "x_train_float = x_train.astype(float) / 255 - 0.5\n",
    "x_val_float = x_val.astype(float) / 255 - 0.5"
   ]
  },
  {
   "cell_type": "code",
   "execution_count": 13,
   "metadata": {
    "colab": {
     "base_uri": "https://localhost:8080/"
    },
    "executionInfo": {
     "elapsed": 17,
     "status": "ok",
     "timestamp": 1643904784858,
     "user": {
      "displayName": "Gregory Kanavenko",
      "photoUrl": "https://lh3.googleusercontent.com/a/default-user=s64",
      "userId": "10503408555776388272"
     },
     "user_tz": -180
    },
    "id": "AZ0g6vEzs3E7",
    "outputId": "49f8db3a-f8a9-43eb-e19d-987d5da95fac"
   },
   "outputs": [
    {
     "name": "stdout",
     "output_type": "stream",
     "text": [
      "(60000, 28, 28)\n",
      "(60000, 28, 28, 1)\n"
     ]
    }
   ],
   "source": [
    "print(x_train_float.shape)\n",
    "print(x_train_float[:, :, :, np.newaxis].shape)"
   ]
  },
  {
   "cell_type": "code",
   "execution_count": 14,
   "metadata": {
    "colab": {
     "base_uri": "https://localhost:8080/"
    },
    "executionInfo": {
     "elapsed": 69236,
     "status": "ok",
     "timestamp": 1643904854088,
     "user": {
      "displayName": "Gregory Kanavenko",
      "photoUrl": "https://lh3.googleusercontent.com/a/default-user=s64",
      "userId": "10503408555776388272"
     },
     "user_tz": -180
    },
    "id": "0c6R3wKWbkJf",
    "outputId": "8b87135c-2ad5-42f4-8060-95f4daa638be"
   },
   "outputs": [
    {
     "name": "stdout",
     "output_type": "stream",
     "text": [
      "Epoch 1/10\n"
     ]
    },
    {
     "name": "stderr",
     "output_type": "stream",
     "text": [
      "2022-07-25 20:38:49.876123: W tensorflow/stream_executor/gpu/asm_compiler.cc:80] Couldn't get ptxas version string: INTERNAL: Couldn't invoke ptxas --version\n",
      "2022-07-25 20:38:49.876612: W tensorflow/stream_executor/gpu/redzone_allocator.cc:314] INTERNAL: Failed to launch ptxas\n",
      "Relying on driver to perform ptx compilation. \n",
      "Modify $PATH to customize ptxas location.\n",
      "This message will be only logged once.\n"
     ]
    },
    {
     "name": "stdout",
     "output_type": "stream",
     "text": [
      "235/235 [==============================] - 3s 3ms/step - loss: 0.6142 - accuracy: 0.7830 - val_loss: 0.4529 - val_accuracy: 0.8309\n",
      "Epoch 2/10\n",
      "235/235 [==============================] - 1s 2ms/step - loss: 0.3761 - accuracy: 0.8647 - val_loss: 0.3650 - val_accuracy: 0.8706\n",
      "Epoch 3/10\n",
      "235/235 [==============================] - 1s 3ms/step - loss: 0.3245 - accuracy: 0.8822 - val_loss: 0.3460 - val_accuracy: 0.8769\n",
      "Epoch 4/10\n",
      "235/235 [==============================] - 1s 2ms/step - loss: 0.2931 - accuracy: 0.8934 - val_loss: 0.3290 - val_accuracy: 0.8773\n",
      "Epoch 5/10\n",
      "235/235 [==============================] - 1s 2ms/step - loss: 0.2727 - accuracy: 0.9014 - val_loss: 0.2941 - val_accuracy: 0.8975\n",
      "Epoch 6/10\n",
      "235/235 [==============================] - 1s 2ms/step - loss: 0.2535 - accuracy: 0.9080 - val_loss: 0.2918 - val_accuracy: 0.8920\n",
      "Epoch 7/10\n",
      "235/235 [==============================] - 1s 2ms/step - loss: 0.2350 - accuracy: 0.9146 - val_loss: 0.2946 - val_accuracy: 0.8936\n",
      "Epoch 8/10\n",
      "235/235 [==============================] - 1s 2ms/step - loss: 0.2228 - accuracy: 0.9184 - val_loss: 0.2777 - val_accuracy: 0.9034\n",
      "Epoch 9/10\n",
      "235/235 [==============================] - 1s 2ms/step - loss: 0.2108 - accuracy: 0.9229 - val_loss: 0.2695 - val_accuracy: 0.9066\n",
      "Epoch 10/10\n",
      "235/235 [==============================] - 1s 2ms/step - loss: 0.2003 - accuracy: 0.9257 - val_loss: 0.2700 - val_accuracy: 0.9047\n"
     ]
    },
    {
     "data": {
      "text/plain": [
       "<keras.callbacks.History at 0x7fa6c7c9c790>"
      ]
     },
     "execution_count": 14,
     "metadata": {},
     "output_type": "execute_result"
    }
   ],
   "source": [
    "model.fit(\n",
    "    x_train_float[:, :, :, np.newaxis], \n",
    "    y_train_oh,\n",
    "    batch_size=256, \n",
    "    epochs=10,\n",
    "    validation_data=(x_val_float[:, :, :, np.newaxis], y_val_oh)\n",
    ")"
   ]
  },
  {
   "cell_type": "code",
   "execution_count": 15,
   "metadata": {
    "colab": {
     "base_uri": "https://localhost:8080/"
    },
    "executionInfo": {
     "elapsed": 762,
     "status": "ok",
     "timestamp": 1643904854848,
     "user": {
      "displayName": "Gregory Kanavenko",
      "photoUrl": "https://lh3.googleusercontent.com/a/default-user=s64",
      "userId": "10503408555776388272"
     },
     "user_tz": -180
    },
    "id": "EXK2Y6aZYQUW",
    "outputId": "1bf680bc-b45c-4d62-abf9-c90e476c87e3"
   },
   "outputs": [
    {
     "name": "stdout",
     "output_type": "stream",
     "text": [
      "313/313 [==============================] - 0s 776us/step\n",
      "Test Accuracy:  0.9047\n"
     ]
    }
   ],
   "source": [
    "# predicts = model.predict_classes(x_val_float[:, :, :, np.newaxis])\n",
    "# print('Test Accuracy: ', accuracy_score(y_val, predicts))\n",
    "\n",
    "predicts = np.argmax(model.predict(x_val_float), axis = 1)\n",
    "print('Test Accuracy: ', accuracy_score(y_val, predicts))"
   ]
  },
  {
   "cell_type": "code",
   "execution_count": null,
   "metadata": {},
   "outputs": [],
   "source": []
  }
 ],
 "metadata": {
  "accelerator": "GPU",
  "colab": {
   "collapsed_sections": [],
   "name": "SF_mod_3_skillfactory_dl_3_screencast_v2.ipynb",
   "provenance": [
    {
     "file_id": "1Wteyx4m3mbwnzkXBFnLRQo7Fwmc_Kl51",
     "timestamp": 1643731353045
    },
    {
     "file_id": "1xlKuz-tzFvGvyneSmfIPr54E923D0Djs",
     "timestamp": 1587117495903
    }
   ]
  },
  "kernelspec": {
   "display_name": "Python 3 (ipykernel)",
   "language": "python",
   "name": "python3"
  },
  "language_info": {
   "codemirror_mode": {
    "name": "ipython",
    "version": 3
   },
   "file_extension": ".py",
   "mimetype": "text/x-python",
   "name": "python",
   "nbconvert_exporter": "python",
   "pygments_lexer": "ipython3",
   "version": "3.9.12"
  }
 },
 "nbformat": 4,
 "nbformat_minor": 1
}
