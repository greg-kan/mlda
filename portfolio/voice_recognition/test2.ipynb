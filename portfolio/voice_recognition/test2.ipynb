{
 "cells": [
  {
   "cell_type": "code",
   "execution_count": 4,
   "metadata": {},
   "outputs": [],
   "source": [
    "import librosa as lr\n",
    "import numpy as np"
   ]
  },
  {
   "cell_type": "code",
   "execution_count": 6,
   "metadata": {},
   "outputs": [
    {
     "ename": "ModuleNotFoundError",
     "evalue": "No module named 'tensorflow'",
     "output_type": "error",
     "traceback": [
      "\u001b[1;31m---------------------------------------------------------------------------\u001b[0m",
      "\u001b[1;31mModuleNotFoundError\u001b[0m                       Traceback (most recent call last)",
      "\u001b[1;32m<ipython-input-6-f83c6d50081b>\u001b[0m in \u001b[0;36m<module>\u001b[1;34m\u001b[0m\n\u001b[1;32m----> 1\u001b[1;33m \u001b[1;32mimport\u001b[0m \u001b[0mtensorflow\u001b[0m \u001b[1;32mas\u001b[0m \u001b[0mtf\u001b[0m\u001b[1;33m\u001b[0m\u001b[1;33m\u001b[0m\u001b[0m\n\u001b[0m\u001b[0;32m      2\u001b[0m \u001b[0mprint\u001b[0m\u001b[1;33m(\u001b[0m\u001b[0mtf\u001b[0m\u001b[1;33m.\u001b[0m\u001b[0m__version__\u001b[0m\u001b[1;33m)\u001b[0m\u001b[1;33m\u001b[0m\u001b[1;33m\u001b[0m\u001b[0m\n",
      "\u001b[1;31mModuleNotFoundError\u001b[0m: No module named 'tensorflow'"
     ]
    }
   ],
   "source": [
    "import tensorflow as tf\n",
    "print(tf.__version__)"
   ]
  },
  {
   "cell_type": "code",
   "execution_count": 7,
   "metadata": {},
   "outputs": [
    {
     "ename": "ModuleNotFoundError",
     "evalue": "No module named 'keras'",
     "output_type": "error",
     "traceback": [
      "\u001b[1;31m---------------------------------------------------------------------------\u001b[0m",
      "\u001b[1;31mModuleNotFoundError\u001b[0m                       Traceback (most recent call last)",
      "\u001b[1;32m<ipython-input-7-7a3112173175>\u001b[0m in \u001b[0;36m<module>\u001b[1;34m\u001b[0m\n\u001b[1;32m----> 1\u001b[1;33m \u001b[1;32mfrom\u001b[0m \u001b[0mkeras\u001b[0m\u001b[1;33m.\u001b[0m\u001b[0mlayers\u001b[0m \u001b[1;32mimport\u001b[0m \u001b[0mDense\u001b[0m\u001b[1;33m,\u001b[0m \u001b[0mLSTM\u001b[0m\u001b[1;33m,\u001b[0m \u001b[0mActivation\u001b[0m\u001b[1;33m\u001b[0m\u001b[1;33m\u001b[0m\u001b[0m\n\u001b[0m\u001b[0;32m      2\u001b[0m \u001b[1;32mfrom\u001b[0m \u001b[0mkeras\u001b[0m\u001b[1;33m.\u001b[0m\u001b[0mmodels\u001b[0m \u001b[1;32mimport\u001b[0m \u001b[0mSequential\u001b[0m\u001b[1;33m\u001b[0m\u001b[1;33m\u001b[0m\u001b[0m\n\u001b[0;32m      3\u001b[0m \u001b[1;32mfrom\u001b[0m \u001b[0mkeras\u001b[0m\u001b[1;33m.\u001b[0m\u001b[0moptimizers\u001b[0m \u001b[1;32mimport\u001b[0m \u001b[0mAdam\u001b[0m\u001b[1;33m\u001b[0m\u001b[1;33m\u001b[0m\u001b[0m\n",
      "\u001b[1;31mModuleNotFoundError\u001b[0m: No module named 'keras'"
     ]
    }
   ],
   "source": [
    "from keras.layers import Dense, LSTM, Activation\n",
    "from keras.models import Sequential\n",
    "from keras.optimizers import Adam"
   ]
  },
  {
   "cell_type": "code",
   "execution_count": 3,
   "metadata": {},
   "outputs": [],
   "source": [
    "SR = 16000 # Частота дискретизации\n",
    "LENGTH = 16 # Количество блоков за один проход нейронной сети\n",
    "OVERLAP = 8 # Шаг в количестве блоков между обучающими семплами\n",
    "FFT = 1024 # Длина блока (64 мс)\n",
    "\n",
    "def prepare_audio(aname, target=False):\n",
    "    # Загружаем и подготавливаем данные\n",
    "    print('loading %s' % aname)\n",
    "    audio, _ = lr.load(aname, sr=SR)\n",
    "    audio = filter_audio(audio) # Убираем тишину и пробелы между словами\n",
    "    data = lr.stft(audio, n_fft=FFT).swapaxes(0, 1) # Извлекаем спектрограмму\n",
    "    samples = []\n",
    "\n",
    "    for i in range(0, len(data) - LENGTH, OVERLAP):\n",
    "        samples.append(np.abs(data[i:i + LENGTH])) # Создаем обучающую выборку\n",
    "\n",
    "    results_shape = (len(samples), 1)\n",
    "    results = np.ones(results_shape) if target else np.zeros(results_shape)\n",
    "    return np.array(samples), results"
   ]
  },
  {
   "cell_type": "code",
   "execution_count": 4,
   "metadata": {},
   "outputs": [],
   "source": [
    "## Список всех записей\n",
    "voices = [(\"woman2.wav\", True),\n",
    "          (\"woman2.1.wav\", True),\n",
    "          (\"woman2.2.wav\", True),\n",
    "          (\"woman2.3.wav\", True),\n",
    "          (\"woman1.wav\", False),\n",
    "          (\"woman1.1.wav\", False),\n",
    "          (\"woman1.2.wav\", False),\n",
    "          (\"woman1.3.wav\", False),\n",
    "          (\"man1.1.wav\", False),\n",
    "          (\"man1.2.wav\", False),\n",
    "          (\"man1.3.wav\", False)]"
   ]
  },
  {
   "cell_type": "code",
   "execution_count": null,
   "metadata": {},
   "outputs": [],
   "source": [
    "## Объединяем обучающие выборки\n",
    "X, Y = prepare_audio(*voices[0])\n",
    "for voice in voices[1:]:\n",
    "    dx, dy = prepare_audio(*voice)\n",
    "    X = np.concatenate((X, dx), axis=0)\n",
    "    Y = np.concatenate((Y, dy), axis=0)\n",
    "    del dx, dy\n",
    "\n",
    "## Случайным образом перемешиваем все блоки\n",
    "perm = np.random.permutation(len(X))\n",
    "X = X[perm]\n",
    "Y = Y[perm]\n",
    "\n",
    "## Создаем модель\n",
    "model = Sequential()\n",
    "model.add(LSTM(128, return_sequences=True, input_shape=X.shape[1:]))\n",
    "model.add(LSTM(64))\n",
    "model.add(Dense(64))\n",
    "model.add(Activation('tanh'))\n",
    "model.add(Dense(16))\n",
    "model.add(Activation('sigmoid'))\n",
    "model.add(Dense(1))\n",
    "model.add(Activation('hard_sigmoid'))\n",
    "\n",
    "## Компилируем и обучаем модель\n",
    "model.compile(Adam(lr=0.005), loss='binary_crossentropy', metrics=['accuracy'])\n",
    "model.fit(X, Y, epochs=15, batch_size=32, validation_split=0.2)\n",
    "\n",
    "## Тестируем полученную в итоге модель\n",
    "print(model.evaluate(X, Y))\n",
    "## Сохраняем модель для дальнейшего использования\n",
    "model.save('model.hdf5')"
   ]
  }
 ],
 "metadata": {
  "kernelspec": {
   "display_name": "Python 3",
   "language": "python",
   "name": "python3"
  },
  "language_info": {
   "codemirror_mode": {
    "name": "ipython",
    "version": 3
   },
   "file_extension": ".py",
   "mimetype": "text/x-python",
   "name": "python",
   "nbconvert_exporter": "python",
   "pygments_lexer": "ipython3",
   "version": "3.8.5"
  }
 },
 "nbformat": 4,
 "nbformat_minor": 4
}
