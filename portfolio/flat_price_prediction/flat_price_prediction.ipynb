{
 "cells": [
  {
   "cell_type": "markdown",
   "metadata": {},
   "source": [
    "# Проект \"Flat price prediction\". Часть 2: Построение модели."
   ]
  },
  {
   "cell_type": "code",
   "execution_count": 1,
   "metadata": {},
   "outputs": [],
   "source": [
    "import os\n",
    "import numpy as np\n",
    "import pandas as pd\n",
    "import sys\n",
    "import re\n",
    "from datetime import datetime\n",
    "from pprint import pprint"
   ]
  },
  {
   "cell_type": "code",
   "execution_count": 2,
   "metadata": {},
   "outputs": [],
   "source": [
    "import ipython_exit as ie\n",
    "import helper_v31102020 as utils"
   ]
  },
  {
   "cell_type": "code",
   "execution_count": 3,
   "metadata": {},
   "outputs": [],
   "source": [
    "import locale\n",
    "import copy"
   ]
  },
  {
   "cell_type": "code",
   "execution_count": 4,
   "metadata": {},
   "outputs": [],
   "source": [
    "import matplotlib.pyplot as plt\n",
    "import seaborn as sns"
   ]
  },
  {
   "cell_type": "code",
   "execution_count": 5,
   "metadata": {},
   "outputs": [],
   "source": [
    "from sklearn.model_selection import train_test_split, RandomizedSearchCV, GridSearchCV\n",
    "from sklearn.metrics import make_scorer\n",
    "from sklearn.preprocessing import PolynomialFeatures\n",
    "from sklearn import metrics\n",
    "from sklearn.ensemble import RandomForestRegressor\n",
    "#from sklearn.ensemble import GradientBoostingRegressor"
   ]
  },
  {
   "cell_type": "code",
   "execution_count": 6,
   "metadata": {},
   "outputs": [],
   "source": [
    "#Выставим опции pandas для удобства просмотра\n",
    "pd.set_option('display.max_columns', 100)\n",
    "pd.set_option('max_colwidth', 200)"
   ]
  },
  {
   "cell_type": "code",
   "execution_count": 7,
   "metadata": {},
   "outputs": [],
   "source": [
    "# зафиксируем версию пакетов, чтобы эксперименты были воспроизводимы:\n",
    "!pip freeze > requirements.txt"
   ]
  },
  {
   "cell_type": "code",
   "execution_count": 8,
   "metadata": {},
   "outputs": [],
   "source": [
    "RANDOM_SEED = 42"
   ]
  },
  {
   "cell_type": "code",
   "execution_count": 9,
   "metadata": {},
   "outputs": [],
   "source": [
    "def mape(y_true, y_pred):\n",
    "    return np.mean(np.abs((y_pred-y_true)/y_true))"
   ]
  },
  {
   "cell_type": "markdown",
   "metadata": {},
   "source": [
    "## 1. Загрузка данных"
   ]
  },
  {
   "cell_type": "code",
   "execution_count": 10,
   "metadata": {},
   "outputs": [],
   "source": [
    "PATH_to_file = './data/'"
   ]
  },
  {
   "cell_type": "code",
   "execution_count": 11,
   "metadata": {},
   "outputs": [],
   "source": [
    "lst_files = os.listdir(PATH_to_file)"
   ]
  },
  {
   "cell_type": "code",
   "execution_count": 12,
   "metadata": {},
   "outputs": [],
   "source": [
    "data_all = []\n",
    "\n",
    "for fl in lst_files:\n",
    "    data = pd.read_csv(PATH_to_file + fl)\n",
    "    data_all.append(data)\n",
    "\n",
    "df = pd.concat(data_all)"
   ]
  },
  {
   "cell_type": "code",
   "execution_count": 13,
   "metadata": {
    "scrolled": true
   },
   "outputs": [
    {
     "data": {
      "text/html": [
       "<div>\n",
       "<style scoped>\n",
       "    .dataframe tbody tr th:only-of-type {\n",
       "        vertical-align: middle;\n",
       "    }\n",
       "\n",
       "    .dataframe tbody tr th {\n",
       "        vertical-align: top;\n",
       "    }\n",
       "\n",
       "    .dataframe thead th {\n",
       "        text-align: right;\n",
       "    }\n",
       "</style>\n",
       "<table border=\"1\" class=\"dataframe\">\n",
       "  <thead>\n",
       "    <tr style=\"text-align: right;\">\n",
       "      <th></th>\n",
       "      <th>id</th>\n",
       "      <th>page</th>\n",
       "      <th>url</th>\n",
       "      <th>district</th>\n",
       "      <th>live_rooms</th>\n",
       "      <th>title</th>\n",
       "      <th>price</th>\n",
       "      <th>address</th>\n",
       "      <th>text_preview</th>\n",
       "      <th>owner</th>\n",
       "      <th>stats_city</th>\n",
       "      <th>ad_date</th>\n",
       "      <th>paid_hot</th>\n",
       "      <th>paid_up</th>\n",
       "      <th>paid_fast</th>\n",
       "      <th>paid_urgent</th>\n",
       "      <th>paid_turbo</th>\n",
       "      <th>highlighted</th>\n",
       "      <th>pars_date</th>\n",
       "      <th>flat.building</th>\n",
       "      <th>flat.floor</th>\n",
       "      <th>live.square</th>\n",
       "      <th>flat.renovation</th>\n",
       "      <th>flat.toilet</th>\n",
       "      <th>flat.balcony</th>\n",
       "      <th>flat.balcony_g</th>\n",
       "      <th>map.complex</th>\n",
       "      <th>flat.door</th>\n",
       "      <th>inet.type</th>\n",
       "      <th>live.furniture</th>\n",
       "      <th>flat.flooring</th>\n",
       "      <th>ceiling</th>\n",
       "      <th>flat.security</th>\n",
       "      <th>has_change</th>\n",
       "      <th>flat.phone</th>\n",
       "      <th>flat.parking</th>\n",
       "      <th>flat.priv_dorm</th>\n",
       "      <th>options_text</th>\n",
       "      <th>text</th>\n",
       "    </tr>\n",
       "  </thead>\n",
       "  <tbody>\n",
       "    <tr>\n",
       "      <th>1279</th>\n",
       "      <td>664547534</td>\n",
       "      <td>65</td>\n",
       "      <td>https://krisha.kz/a/show/664547534</td>\n",
       "      <td>almaty-almalinskij</td>\n",
       "      <td>3.0</td>\n",
       "      <td>3-комнатная квартира, 134 м², 8/18 этаж</td>\n",
       "      <td>60000000</td>\n",
       "      <td>Алмалинский р-н, Брусиловского 144</td>\n",
       "      <td>жил. комплекс Манхеттан (29 квартал), монолитный дом, 2007 г.п., состояние: евроремонт, жил. площадь 86.4 кв.м., кухня 12.6 кв.м., потолки 3м., санузел 2 с/у и более, телефон: нет, интернет ADSL, ...</td>\n",
       "      <td>Хозяин недвижимости</td>\n",
       "      <td>Алматы</td>\n",
       "      <td>11 мар.</td>\n",
       "      <td>0</td>\n",
       "      <td>0</td>\n",
       "      <td>0</td>\n",
       "      <td>0</td>\n",
       "      <td>0</td>\n",
       "      <td>0</td>\n",
       "      <td>14-03-2021 12:38:03</td>\n",
       "      <td>монолитный, 2007 г.п.</td>\n",
       "      <td>8 из 18</td>\n",
       "      <td>134 м², жилая — 86.4 м², кухня — 12.6 м²</td>\n",
       "      <td>евроремонт</td>\n",
       "      <td>2 с/у и более</td>\n",
       "      <td>балкон</td>\n",
       "      <td>да</td>\n",
       "      <td>Манхеттен (29 квартал)</td>\n",
       "      <td>деревянная</td>\n",
       "      <td>ADSL</td>\n",
       "      <td>полностью меблирована</td>\n",
       "      <td>ламинат</td>\n",
       "      <td>3 м</td>\n",
       "      <td>домофон, видеодомофон</td>\n",
       "      <td>Возможен обмен</td>\n",
       "      <td>нет</td>\n",
       "      <td>паркинг</td>\n",
       "      <td>нет</td>\n",
       "      <td>NaN</td>\n",
       "      <td>Торг</td>\n",
       "    </tr>\n",
       "  </tbody>\n",
       "</table>\n",
       "</div>"
      ],
      "text/plain": [
       "             id  page                                 url            district  \\\n",
       "1279  664547534    65  https://krisha.kz/a/show/664547534  almaty-almalinskij   \n",
       "\n",
       "      live_rooms                                    title     price  \\\n",
       "1279         3.0  3-комнатная квартира, 134 м², 8/18 этаж  60000000   \n",
       "\n",
       "                                 address  \\\n",
       "1279  Алмалинский р-н, Брусиловского 144   \n",
       "\n",
       "                                                                                                                                                                                                 text_preview  \\\n",
       "1279  жил. комплекс Манхеттан (29 квартал), монолитный дом, 2007 г.п., состояние: евроремонт, жил. площадь 86.4 кв.м., кухня 12.6 кв.м., потолки 3м., санузел 2 с/у и более, телефон: нет, интернет ADSL, ...   \n",
       "\n",
       "                    owner stats_city  ad_date  paid_hot  paid_up  paid_fast  \\\n",
       "1279  Хозяин недвижимости     Алматы  11 мар.         0        0          0   \n",
       "\n",
       "      paid_urgent  paid_turbo  highlighted            pars_date  \\\n",
       "1279            0           0            0  14-03-2021 12:38:03   \n",
       "\n",
       "              flat.building flat.floor  \\\n",
       "1279  монолитный, 2007 г.п.    8 из 18   \n",
       "\n",
       "                                   live.square flat.renovation    flat.toilet  \\\n",
       "1279  134 м², жилая — 86.4 м², кухня — 12.6 м²      евроремонт  2 с/у и более   \n",
       "\n",
       "     flat.balcony flat.balcony_g             map.complex   flat.door  \\\n",
       "1279       балкон             да  Манхеттен (29 квартал)  деревянная   \n",
       "\n",
       "     inet.type         live.furniture flat.flooring ceiling  \\\n",
       "1279      ADSL  полностью меблирована       ламинат     3 м   \n",
       "\n",
       "              flat.security      has_change flat.phone flat.parking  \\\n",
       "1279  домофон, видеодомофон  Возможен обмен        нет      паркинг   \n",
       "\n",
       "     flat.priv_dorm options_text  text  \n",
       "1279            нет          NaN  Торг  "
      ]
     },
     "execution_count": 13,
     "metadata": {},
     "output_type": "execute_result"
    }
   ],
   "source": [
    "df.sample()"
   ]
  },
  {
   "cell_type": "code",
   "execution_count": 14,
   "metadata": {
    "scrolled": true
   },
   "outputs": [
    {
     "name": "stdout",
     "output_type": "stream",
     "text": [
      "<class 'pandas.core.frame.DataFrame'>\n",
      "Int64Index: 147029 entries, 0 to 4\n",
      "Data columns (total 39 columns):\n",
      " #   Column           Non-Null Count   Dtype  \n",
      "---  ------           --------------   -----  \n",
      " 0   id               147029 non-null  int64  \n",
      " 1   page             147029 non-null  int64  \n",
      " 2   url              147029 non-null  object \n",
      " 3   district         147029 non-null  object \n",
      " 4   live_rooms       147029 non-null  float64\n",
      " 5   title            147029 non-null  object \n",
      " 6   price            147029 non-null  int64  \n",
      " 7   address          147029 non-null  object \n",
      " 8   text_preview     147029 non-null  object \n",
      " 9   owner            147029 non-null  object \n",
      " 10  stats_city       147029 non-null  object \n",
      " 11  ad_date          147029 non-null  object \n",
      " 12  paid_hot         147029 non-null  int64  \n",
      " 13  paid_up          147029 non-null  int64  \n",
      " 14  paid_fast        147029 non-null  int64  \n",
      " 15  paid_urgent      147029 non-null  int64  \n",
      " 16  paid_turbo       147029 non-null  int64  \n",
      " 17  highlighted      147029 non-null  int64  \n",
      " 18  pars_date        147029 non-null  object \n",
      " 19  flat.building    147029 non-null  object \n",
      " 20  flat.floor       145482 non-null  object \n",
      " 21  live.square      147029 non-null  object \n",
      " 22  flat.renovation  136141 non-null  object \n",
      " 23  flat.toilet      124941 non-null  object \n",
      " 24  flat.balcony     85332 non-null   object \n",
      " 25  flat.balcony_g   62344 non-null   object \n",
      " 26  map.complex      46490 non-null   object \n",
      " 27  flat.door        95586 non-null   object \n",
      " 28  inet.type        66100 non-null   object \n",
      " 29  live.furniture   105202 non-null  object \n",
      " 30  flat.flooring    86420 non-null   object \n",
      " 31  ceiling          70894 non-null   object \n",
      " 32  flat.security    91565 non-null   object \n",
      " 33  has_change       6482 non-null    object \n",
      " 34  flat.phone       65819 non-null   object \n",
      " 35  flat.parking     73128 non-null   object \n",
      " 36  flat.priv_dorm   134328 non-null  object \n",
      " 37  options_text     96668 non-null   object \n",
      " 38  text             127741 non-null  object \n",
      "dtypes: float64(1), int64(9), object(29)\n",
      "memory usage: 44.9+ MB\n"
     ]
    }
   ],
   "source": [
    "df.info()"
   ]
  },
  {
   "cell_type": "code",
   "execution_count": 15,
   "metadata": {},
   "outputs": [
    {
     "data": {
      "text/plain": [
       "<AxesSubplot:>"
      ]
     },
     "execution_count": 15,
     "metadata": {},
     "output_type": "execute_result"
    },
    {
     "data": {
      "image/png": "[encoded data removed]",
      "text/plain": [
       "<Figure size 1008x288 with 1 Axes>"
      ]
     },
     "metadata": {
      "needs_background": "light"
     },
     "output_type": "display_data"
    }
   ],
   "source": [
    "plt.figure(figsize=(14, 4))\n",
    "sns.heatmap(df.isnull(), cbar=False, yticklabels=False, cmap = 'viridis')"
   ]
  },
  {
   "cell_type": "markdown",
   "metadata": {},
   "source": [
    "Перед обработкой сохраним оригинальный датасет"
   ]
  },
  {
   "cell_type": "code",
   "execution_count": 16,
   "metadata": {},
   "outputs": [],
   "source": [
    "data = copy.deepcopy(df)"
   ]
  },
  {
   "cell_type": "markdown",
   "metadata": {},
   "source": [
    "### Устранение дублей"
   ]
  },
  {
   "cell_type": "code",
   "execution_count": 17,
   "metadata": {},
   "outputs": [
    {
     "data": {
      "text/plain": [
       "665593861    1\n",
       "665652204    1\n",
       "665916399    1\n",
       "Name: id, dtype: int64"
      ]
     },
     "execution_count": 17,
     "metadata": {},
     "output_type": "execute_result"
    }
   ],
   "source": [
    "df.id.value_counts(ascending=True)[:3]"
   ]
  },
  {
   "cell_type": "code",
   "execution_count": 18,
   "metadata": {},
   "outputs": [
    {
     "name": "stdout",
     "output_type": "stream",
     "text": [
      "['district', 'live_rooms', 'title', 'price', 'address', 'text_preview', 'owner', 'stats_city', 'paid_hot', 'paid_up', 'paid_fast', 'paid_urgent', 'paid_turbo', 'highlighted', 'flat.building', 'flat.floor', 'live.square', 'flat.renovation', 'flat.toilet', 'flat.balcony', 'flat.balcony_g', 'map.complex', 'flat.door', 'inet.type', 'live.furniture', 'flat.flooring', 'ceiling', 'flat.security', 'has_change', 'flat.phone', 'flat.parking', 'flat.priv_dorm', 'options_text', 'text']\n"
     ]
    }
   ],
   "source": [
    "valuable_columns = list(df.columns)\n",
    "valuable_columns.remove('id')\n",
    "valuable_columns.remove('page')\n",
    "valuable_columns.remove('url')\n",
    "valuable_columns.remove('ad_date')\n",
    "valuable_columns.remove('pars_date')\n",
    "print(valuable_columns)"
   ]
  },
  {
   "cell_type": "code",
   "execution_count": 19,
   "metadata": {
    "scrolled": false
   },
   "outputs": [],
   "source": [
    "df.drop_duplicates(subset=valuable_columns, inplace=True, keep='last', ignore_index=True)"
   ]
  },
  {
   "cell_type": "code",
   "execution_count": 20,
   "metadata": {},
   "outputs": [
    {
     "data": {
      "text/plain": [
       "92528"
      ]
     },
     "execution_count": 20,
     "metadata": {},
     "output_type": "execute_result"
    }
   ],
   "source": [
    "len(df)"
   ]
  },
  {
   "cell_type": "markdown",
   "metadata": {},
   "source": [
    "### Столько объявлений останется, если оставить только \"значимые столбцы\" и удалить дубли."
   ]
  },
  {
   "cell_type": "markdown",
   "metadata": {},
   "source": [
    "## 2. Обработка признаков"
   ]
  },
  {
   "cell_type": "markdown",
   "metadata": {},
   "source": [
    "### Удаляем неинформативные признаки"
   ]
  },
  {
   "cell_type": "code",
   "execution_count": 21,
   "metadata": {},
   "outputs": [],
   "source": [
    "df.drop(['id', 'page', 'url', 'pars_date', 'stats_city'], axis=1, inplace=True)"
   ]
  },
  {
   "cell_type": "markdown",
   "metadata": {},
   "source": [
    "### \"Закодируем\" первую группу категориальных признаков без пропусков (Label Encoding)"
   ]
  },
  {
   "cell_type": "code",
   "execution_count": 22,
   "metadata": {},
   "outputs": [],
   "source": [
    "cat_f_1 = ['district', 'owner']"
   ]
  },
  {
   "cell_type": "code",
   "execution_count": 23,
   "metadata": {},
   "outputs": [
    {
     "name": "stdout",
     "output_type": "stream",
     "text": [
      "district 8 \n",
      " almaty-bostandykskij    28676\n",
      "almaty-aujezovskij      18990\n",
      "almaty-almalinskij      18501\n",
      "almaty-medeuskij        10231\n",
      "almaty-alatauskij        5003\n",
      "almaty-nauryzbajskiy     3983\n",
      "almaty-zhetysuskij       3979\n",
      "almaty-turksibskij       3165\n",
      "Name: district, dtype: int64 \n",
      "\n",
      "owner 7 \n",
      " Специалист                54629\n",
      "Хозяин недвижимости       22119\n",
      "Проверенный специалист     9853\n",
      "Проверенная компания       2977\n",
      "Компания                   2877\n",
      "Специалист оштрафован        49\n",
      "На проверке                  24\n",
      "Name: owner, dtype: int64 \n",
      "\n"
     ]
    }
   ],
   "source": [
    "for col in cat_f_1:\n",
    "    print(col, df[col].nunique(), '\\n', df[col].value_counts(), '\\n')"
   ]
  },
  {
   "cell_type": "code",
   "execution_count": 24,
   "metadata": {},
   "outputs": [],
   "source": [
    "# Кодируем категориальные признаки\n",
    "for col in cat_f_1:\n",
    "    df[col] = df[col].astype('category').cat.codes"
   ]
  },
  {
   "cell_type": "code",
   "execution_count": 25,
   "metadata": {},
   "outputs": [
    {
     "name": "stdout",
     "output_type": "stream",
     "text": [
      "district 8 \n",
      " 3    28676\n",
      "2    18990\n",
      "1    18501\n",
      "4    10231\n",
      "0     5003\n",
      "5     3983\n",
      "7     3979\n",
      "6     3165\n",
      "Name: district, dtype: int64 \n",
      "\n",
      "owner 7 \n",
      " 4    54629\n",
      "6    22119\n",
      "3     9853\n",
      "2     2977\n",
      "0     2877\n",
      "5       49\n",
      "1       24\n",
      "Name: owner, dtype: int64 \n",
      "\n"
     ]
    }
   ],
   "source": [
    "#Проверяем\n",
    "for col in cat_f_1:\n",
    "    print(col, df[col].nunique(), '\\n', df[col].value_counts(), '\\n')"
   ]
  },
  {
   "cell_type": "markdown",
   "metadata": {},
   "source": [
    "### Теперь из признаков live_rooms, title, flat.floor и live.square нужно получить количество комнат, площади, этаж, на котором находится квартира и количество этажей в доме. Также, будут полезны новые признаки, как Первый этаж, Последний этаж, Отношение площади к количеству комнат."
   ]
  },
  {
   "cell_type": "markdown",
   "metadata": {},
   "source": [
    "Определяем функции"
   ]
  },
  {
   "cell_type": "code",
   "execution_count": 26,
   "metadata": {},
   "outputs": [],
   "source": [
    "def extract_live_rooms(str_title):\n",
    "    return int(str_title.split(', ', 2)[0].split('-', 1)[0])"
   ]
  },
  {
   "cell_type": "code",
   "execution_count": 27,
   "metadata": {},
   "outputs": [],
   "source": [
    "def extract_total_square(str_title):\n",
    "    return float(str_title.split(', ', 2)[1].split(' м²', 1)[0])"
   ]
  },
  {
   "cell_type": "code",
   "execution_count": 28,
   "metadata": {},
   "outputs": [],
   "source": [
    "def extract_total_square1(str_title):\n",
    "    return float(str_title.split(', ', 2)[0].split(' м²', 1)[0])"
   ]
  },
  {
   "cell_type": "code",
   "execution_count": 29,
   "metadata": {},
   "outputs": [],
   "source": [
    "def extract_living_square(str_title):\n",
    "    if 'жилая' in str_title:\n",
    "        return float(str_title.split(', ', 2)[1].split('жилая — ', 1)[1].split(' м²', 1)[0])\n",
    "    else:\n",
    "        return 0.0"
   ]
  },
  {
   "cell_type": "code",
   "execution_count": 30,
   "metadata": {},
   "outputs": [],
   "source": [
    "def extract_kitchen_square(str_title):\n",
    "    if 'кухня' in str_title:\n",
    "        if 'жилая' in str_title:\n",
    "            return float(str_title.split(', ', 2)[2].split('кухня — ', 1)[1].split(' м²', 1)[0])\n",
    "        else:\n",
    "            return float(str_title.split(', ', 2)[1].split('кухня — ', 1)[1].split(' м²', 1)[0])\n",
    "        \n",
    "    else:\n",
    "        return 0.0"
   ]
  },
  {
   "cell_type": "code",
   "execution_count": 31,
   "metadata": {},
   "outputs": [],
   "source": [
    "def extract_flat_floor(str_title):\n",
    "    temp_arr = str_title.split(', ', 2)\n",
    "    if len(temp_arr) >=3:\n",
    "        temp_str = temp_arr[2]\n",
    "        if '/' in temp_str:\n",
    "            return int(temp_str.split('/', 1)[0])\n",
    "        else:\n",
    "            return int(temp_str.split(' этаж', 1)[0])\n",
    "    else:\n",
    "        return 0"
   ]
  },
  {
   "cell_type": "code",
   "execution_count": 32,
   "metadata": {},
   "outputs": [],
   "source": [
    "def extract_building_floor(str_title):\n",
    "    temp_arr = str_title.split(', ', 2)\n",
    "    if len(temp_arr) >=3:\n",
    "        temp_str = temp_arr[2]\n",
    "        if '/' in temp_str:\n",
    "            return int(temp_str.split('/', 1)[1].split(' этаж', 1)[0])\n",
    "        else:\n",
    "            return 0\n",
    "    else:\n",
    "        #print(str_title)\n",
    "        return 0"
   ]
  },
  {
   "cell_type": "code",
   "execution_count": 33,
   "metadata": {},
   "outputs": [],
   "source": [
    "def extract_flat_floor1(str_flat_floor):\n",
    "    str_flat_floor_temp = str(str_flat_floor)\n",
    "    if str_flat_floor_temp != 'nan':\n",
    "        if ' из ' in str_flat_floor_temp:\n",
    "            return int(str_flat_floor_temp.split(' из ', 1)[0])\n",
    "        else:\n",
    "            return int(str_flat_floor_temp)\n",
    "    else:\n",
    "        return 0"
   ]
  },
  {
   "cell_type": "code",
   "execution_count": 34,
   "metadata": {},
   "outputs": [],
   "source": [
    "def extract_building_floor1(str_flat_floor):\n",
    "    str_flat_floor_temp = str(str_flat_floor)\n",
    "    if str_flat_floor_temp != 'nan':\n",
    "        if ' из ' in str_flat_floor_temp:\n",
    "            return int(str_flat_floor_temp.split(' из ', 1)[1])\n",
    "        else:\n",
    "            return 0\n",
    "    else:\n",
    "        return 0"
   ]
  },
  {
   "cell_type": "markdown",
   "metadata": {},
   "source": [
    "Извлекаем и проверяем признаки"
   ]
  },
  {
   "cell_type": "markdown",
   "metadata": {},
   "source": [
    "### live_rooms"
   ]
  },
  {
   "cell_type": "code",
   "execution_count": 35,
   "metadata": {},
   "outputs": [],
   "source": [
    "df['live_rooms1'] = df.title.apply(lambda x: extract_live_rooms(x))"
   ]
  },
  {
   "cell_type": "code",
   "execution_count": 36,
   "metadata": {},
   "outputs": [
    {
     "data": {
      "text/html": [
       "<div>\n",
       "<style scoped>\n",
       "    .dataframe tbody tr th:only-of-type {\n",
       "        vertical-align: middle;\n",
       "    }\n",
       "\n",
       "    .dataframe tbody tr th {\n",
       "        vertical-align: top;\n",
       "    }\n",
       "\n",
       "    .dataframe thead th {\n",
       "        text-align: right;\n",
       "    }\n",
       "</style>\n",
       "<table border=\"1\" class=\"dataframe\">\n",
       "  <thead>\n",
       "    <tr style=\"text-align: right;\">\n",
       "      <th></th>\n",
       "      <th>district</th>\n",
       "      <th>live_rooms</th>\n",
       "      <th>title</th>\n",
       "      <th>price</th>\n",
       "      <th>address</th>\n",
       "      <th>text_preview</th>\n",
       "      <th>owner</th>\n",
       "      <th>ad_date</th>\n",
       "      <th>paid_hot</th>\n",
       "      <th>paid_up</th>\n",
       "      <th>paid_fast</th>\n",
       "      <th>paid_urgent</th>\n",
       "      <th>paid_turbo</th>\n",
       "      <th>highlighted</th>\n",
       "      <th>flat.building</th>\n",
       "      <th>flat.floor</th>\n",
       "      <th>live.square</th>\n",
       "      <th>flat.renovation</th>\n",
       "      <th>flat.toilet</th>\n",
       "      <th>flat.balcony</th>\n",
       "      <th>flat.balcony_g</th>\n",
       "      <th>map.complex</th>\n",
       "      <th>flat.door</th>\n",
       "      <th>inet.type</th>\n",
       "      <th>live.furniture</th>\n",
       "      <th>flat.flooring</th>\n",
       "      <th>ceiling</th>\n",
       "      <th>flat.security</th>\n",
       "      <th>has_change</th>\n",
       "      <th>flat.phone</th>\n",
       "      <th>flat.parking</th>\n",
       "      <th>flat.priv_dorm</th>\n",
       "      <th>options_text</th>\n",
       "      <th>text</th>\n",
       "      <th>live_rooms1</th>\n",
       "    </tr>\n",
       "  </thead>\n",
       "  <tbody>\n",
       "  </tbody>\n",
       "</table>\n",
       "</div>"
      ],
      "text/plain": [
       "Empty DataFrame\n",
       "Columns: [district, live_rooms, title, price, address, text_preview, owner, ad_date, paid_hot, paid_up, paid_fast, paid_urgent, paid_turbo, highlighted, flat.building, flat.floor, live.square, flat.renovation, flat.toilet, flat.balcony, flat.balcony_g, map.complex, flat.door, inet.type, live.furniture, flat.flooring, ceiling, flat.security, has_change, flat.phone, flat.parking, flat.priv_dorm, options_text, text, live_rooms1]\n",
       "Index: []"
      ]
     },
     "execution_count": 36,
     "metadata": {},
     "output_type": "execute_result"
    }
   ],
   "source": [
    "df_temp = df[df.live_rooms <= 4]\n",
    "df_temp[(df_temp.live_rooms - df_temp.live_rooms1) != 0]"
   ]
  },
  {
   "cell_type": "markdown",
   "metadata": {},
   "source": [
    "Эта проверка показывает, что мы правильно извлекли количество комнат из заголовка объявления"
   ]
  },
  {
   "cell_type": "code",
   "execution_count": 37,
   "metadata": {},
   "outputs": [],
   "source": [
    "df.live_rooms = df.live_rooms1"
   ]
  },
  {
   "cell_type": "markdown",
   "metadata": {},
   "source": [
    "**total_square, living_square, kitchen_square**"
   ]
  },
  {
   "cell_type": "code",
   "execution_count": 38,
   "metadata": {},
   "outputs": [],
   "source": [
    "df['total_square'] = df.title.apply(lambda x: extract_total_square(x))"
   ]
  },
  {
   "cell_type": "code",
   "execution_count": 39,
   "metadata": {},
   "outputs": [],
   "source": [
    "df['total_square1'] = df['live.square'].apply(lambda x: extract_total_square1(x))"
   ]
  },
  {
   "cell_type": "code",
   "execution_count": 40,
   "metadata": {},
   "outputs": [
    {
     "data": {
      "text/html": [
       "<div>\n",
       "<style scoped>\n",
       "    .dataframe tbody tr th:only-of-type {\n",
       "        vertical-align: middle;\n",
       "    }\n",
       "\n",
       "    .dataframe tbody tr th {\n",
       "        vertical-align: top;\n",
       "    }\n",
       "\n",
       "    .dataframe thead th {\n",
       "        text-align: right;\n",
       "    }\n",
       "</style>\n",
       "<table border=\"1\" class=\"dataframe\">\n",
       "  <thead>\n",
       "    <tr style=\"text-align: right;\">\n",
       "      <th></th>\n",
       "      <th>district</th>\n",
       "      <th>live_rooms</th>\n",
       "      <th>title</th>\n",
       "      <th>price</th>\n",
       "      <th>address</th>\n",
       "      <th>text_preview</th>\n",
       "      <th>owner</th>\n",
       "      <th>ad_date</th>\n",
       "      <th>paid_hot</th>\n",
       "      <th>paid_up</th>\n",
       "      <th>paid_fast</th>\n",
       "      <th>paid_urgent</th>\n",
       "      <th>paid_turbo</th>\n",
       "      <th>highlighted</th>\n",
       "      <th>flat.building</th>\n",
       "      <th>flat.floor</th>\n",
       "      <th>live.square</th>\n",
       "      <th>flat.renovation</th>\n",
       "      <th>flat.toilet</th>\n",
       "      <th>flat.balcony</th>\n",
       "      <th>flat.balcony_g</th>\n",
       "      <th>map.complex</th>\n",
       "      <th>flat.door</th>\n",
       "      <th>inet.type</th>\n",
       "      <th>live.furniture</th>\n",
       "      <th>flat.flooring</th>\n",
       "      <th>ceiling</th>\n",
       "      <th>flat.security</th>\n",
       "      <th>has_change</th>\n",
       "      <th>flat.phone</th>\n",
       "      <th>flat.parking</th>\n",
       "      <th>flat.priv_dorm</th>\n",
       "      <th>options_text</th>\n",
       "      <th>text</th>\n",
       "      <th>live_rooms1</th>\n",
       "      <th>total_square</th>\n",
       "      <th>total_square1</th>\n",
       "    </tr>\n",
       "  </thead>\n",
       "  <tbody>\n",
       "  </tbody>\n",
       "</table>\n",
       "</div>"
      ],
      "text/plain": [
       "Empty DataFrame\n",
       "Columns: [district, live_rooms, title, price, address, text_preview, owner, ad_date, paid_hot, paid_up, paid_fast, paid_urgent, paid_turbo, highlighted, flat.building, flat.floor, live.square, flat.renovation, flat.toilet, flat.balcony, flat.balcony_g, map.complex, flat.door, inet.type, live.furniture, flat.flooring, ceiling, flat.security, has_change, flat.phone, flat.parking, flat.priv_dorm, options_text, text, live_rooms1, total_square, total_square1]\n",
       "Index: []"
      ]
     },
     "execution_count": 40,
     "metadata": {},
     "output_type": "execute_result"
    }
   ],
   "source": [
    "df[df.total_square != df.total_square1]"
   ]
  },
  {
   "cell_type": "markdown",
   "metadata": {},
   "source": [
    "Колонки total_square и total_square1 совпадают"
   ]
  },
  {
   "cell_type": "code",
   "execution_count": 41,
   "metadata": {},
   "outputs": [],
   "source": [
    "df['living_square'] = df['live.square'].apply(lambda x: extract_living_square(x))"
   ]
  },
  {
   "cell_type": "code",
   "execution_count": 42,
   "metadata": {},
   "outputs": [],
   "source": [
    "df['kitchen_square'] = df['live.square'].apply(lambda x: extract_kitchen_square(x))"
   ]
  },
  {
   "cell_type": "markdown",
   "metadata": {},
   "source": [
    "### flat_floor"
   ]
  },
  {
   "cell_type": "code",
   "execution_count": 43,
   "metadata": {},
   "outputs": [],
   "source": [
    "df['flat_floor'] = df.title.apply(lambda x: extract_flat_floor(x))"
   ]
  },
  {
   "cell_type": "code",
   "execution_count": 44,
   "metadata": {},
   "outputs": [],
   "source": [
    "df['flat_floor1'] = df['flat.floor'].apply(lambda x: extract_flat_floor1(x))"
   ]
  },
  {
   "cell_type": "code",
   "execution_count": 45,
   "metadata": {},
   "outputs": [],
   "source": [
    "df['flat_floor'] = np.where(df['flat_floor'] == 0, df['flat_floor1'], df['flat_floor'])"
   ]
  },
  {
   "cell_type": "code",
   "execution_count": 46,
   "metadata": {},
   "outputs": [
    {
     "data": {
      "text/html": [
       "<div>\n",
       "<style scoped>\n",
       "    .dataframe tbody tr th:only-of-type {\n",
       "        vertical-align: middle;\n",
       "    }\n",
       "\n",
       "    .dataframe tbody tr th {\n",
       "        vertical-align: top;\n",
       "    }\n",
       "\n",
       "    .dataframe thead th {\n",
       "        text-align: right;\n",
       "    }\n",
       "</style>\n",
       "<table border=\"1\" class=\"dataframe\">\n",
       "  <thead>\n",
       "    <tr style=\"text-align: right;\">\n",
       "      <th></th>\n",
       "      <th>district</th>\n",
       "      <th>live_rooms</th>\n",
       "      <th>title</th>\n",
       "      <th>price</th>\n",
       "      <th>address</th>\n",
       "      <th>text_preview</th>\n",
       "      <th>owner</th>\n",
       "      <th>ad_date</th>\n",
       "      <th>paid_hot</th>\n",
       "      <th>paid_up</th>\n",
       "      <th>paid_fast</th>\n",
       "      <th>paid_urgent</th>\n",
       "      <th>paid_turbo</th>\n",
       "      <th>highlighted</th>\n",
       "      <th>flat.building</th>\n",
       "      <th>flat.floor</th>\n",
       "      <th>live.square</th>\n",
       "      <th>flat.renovation</th>\n",
       "      <th>flat.toilet</th>\n",
       "      <th>flat.balcony</th>\n",
       "      <th>flat.balcony_g</th>\n",
       "      <th>map.complex</th>\n",
       "      <th>flat.door</th>\n",
       "      <th>inet.type</th>\n",
       "      <th>live.furniture</th>\n",
       "      <th>flat.flooring</th>\n",
       "      <th>ceiling</th>\n",
       "      <th>flat.security</th>\n",
       "      <th>has_change</th>\n",
       "      <th>flat.phone</th>\n",
       "      <th>flat.parking</th>\n",
       "      <th>flat.priv_dorm</th>\n",
       "      <th>options_text</th>\n",
       "      <th>text</th>\n",
       "      <th>live_rooms1</th>\n",
       "      <th>total_square</th>\n",
       "      <th>total_square1</th>\n",
       "      <th>living_square</th>\n",
       "      <th>kitchen_square</th>\n",
       "      <th>flat_floor</th>\n",
       "      <th>flat_floor1</th>\n",
       "    </tr>\n",
       "  </thead>\n",
       "  <tbody>\n",
       "  </tbody>\n",
       "</table>\n",
       "</div>"
      ],
      "text/plain": [
       "Empty DataFrame\n",
       "Columns: [district, live_rooms, title, price, address, text_preview, owner, ad_date, paid_hot, paid_up, paid_fast, paid_urgent, paid_turbo, highlighted, flat.building, flat.floor, live.square, flat.renovation, flat.toilet, flat.balcony, flat.balcony_g, map.complex, flat.door, inet.type, live.furniture, flat.flooring, ceiling, flat.security, has_change, flat.phone, flat.parking, flat.priv_dorm, options_text, text, live_rooms1, total_square, total_square1, living_square, kitchen_square, flat_floor, flat_floor1]\n",
       "Index: []"
      ]
     },
     "execution_count": 46,
     "metadata": {},
     "output_type": "execute_result"
    }
   ],
   "source": [
    "df[df['flat_floor'] != df['flat_floor1']]"
   ]
  },
  {
   "cell_type": "markdown",
   "metadata": {},
   "source": [
    "Теперь колонки flat_floor и flat_floor1 совпадают"
   ]
  },
  {
   "cell_type": "markdown",
   "metadata": {},
   "source": [
    "### building_floor"
   ]
  },
  {
   "cell_type": "code",
   "execution_count": 47,
   "metadata": {},
   "outputs": [],
   "source": [
    "df['building_floor'] = df.title.apply(lambda x: extract_building_floor(x))"
   ]
  },
  {
   "cell_type": "code",
   "execution_count": 48,
   "metadata": {},
   "outputs": [],
   "source": [
    "df['building_floor1'] = df['flat.floor'].apply(lambda x: extract_building_floor1(x))"
   ]
  },
  {
   "cell_type": "code",
   "execution_count": 49,
   "metadata": {
    "scrolled": true
   },
   "outputs": [
    {
     "data": {
      "text/html": [
       "<div>\n",
       "<style scoped>\n",
       "    .dataframe tbody tr th:only-of-type {\n",
       "        vertical-align: middle;\n",
       "    }\n",
       "\n",
       "    .dataframe tbody tr th {\n",
       "        vertical-align: top;\n",
       "    }\n",
       "\n",
       "    .dataframe thead th {\n",
       "        text-align: right;\n",
       "    }\n",
       "</style>\n",
       "<table border=\"1\" class=\"dataframe\">\n",
       "  <thead>\n",
       "    <tr style=\"text-align: right;\">\n",
       "      <th></th>\n",
       "      <th>district</th>\n",
       "      <th>live_rooms</th>\n",
       "      <th>title</th>\n",
       "      <th>price</th>\n",
       "      <th>address</th>\n",
       "      <th>text_preview</th>\n",
       "      <th>owner</th>\n",
       "      <th>ad_date</th>\n",
       "      <th>paid_hot</th>\n",
       "      <th>paid_up</th>\n",
       "      <th>paid_fast</th>\n",
       "      <th>paid_urgent</th>\n",
       "      <th>paid_turbo</th>\n",
       "      <th>highlighted</th>\n",
       "      <th>flat.building</th>\n",
       "      <th>flat.floor</th>\n",
       "      <th>live.square</th>\n",
       "      <th>flat.renovation</th>\n",
       "      <th>flat.toilet</th>\n",
       "      <th>flat.balcony</th>\n",
       "      <th>flat.balcony_g</th>\n",
       "      <th>map.complex</th>\n",
       "      <th>flat.door</th>\n",
       "      <th>inet.type</th>\n",
       "      <th>live.furniture</th>\n",
       "      <th>flat.flooring</th>\n",
       "      <th>ceiling</th>\n",
       "      <th>flat.security</th>\n",
       "      <th>has_change</th>\n",
       "      <th>flat.phone</th>\n",
       "      <th>flat.parking</th>\n",
       "      <th>flat.priv_dorm</th>\n",
       "      <th>options_text</th>\n",
       "      <th>text</th>\n",
       "      <th>live_rooms1</th>\n",
       "      <th>total_square</th>\n",
       "      <th>total_square1</th>\n",
       "      <th>living_square</th>\n",
       "      <th>kitchen_square</th>\n",
       "      <th>flat_floor</th>\n",
       "      <th>flat_floor1</th>\n",
       "      <th>building_floor</th>\n",
       "      <th>building_floor1</th>\n",
       "    </tr>\n",
       "  </thead>\n",
       "  <tbody>\n",
       "  </tbody>\n",
       "</table>\n",
       "</div>"
      ],
      "text/plain": [
       "Empty DataFrame\n",
       "Columns: [district, live_rooms, title, price, address, text_preview, owner, ad_date, paid_hot, paid_up, paid_fast, paid_urgent, paid_turbo, highlighted, flat.building, flat.floor, live.square, flat.renovation, flat.toilet, flat.balcony, flat.balcony_g, map.complex, flat.door, inet.type, live.furniture, flat.flooring, ceiling, flat.security, has_change, flat.phone, flat.parking, flat.priv_dorm, options_text, text, live_rooms1, total_square, total_square1, living_square, kitchen_square, flat_floor, flat_floor1, building_floor, building_floor1]\n",
       "Index: []"
      ]
     },
     "execution_count": 49,
     "metadata": {},
     "output_type": "execute_result"
    }
   ],
   "source": [
    "df[df['building_floor'] != df['building_floor1']]"
   ]
  },
  {
   "cell_type": "markdown",
   "metadata": {},
   "source": [
    "Колонки building_floor и building_floor1 совпадают"
   ]
  },
  {
   "cell_type": "markdown",
   "metadata": {},
   "source": [
    "Удалим \"лишние\" колонки:"
   ]
  },
  {
   "cell_type": "code",
   "execution_count": 50,
   "metadata": {},
   "outputs": [],
   "source": [
    "df.drop(['live_rooms1', 'flat_floor1', 'flat.floor', 'title', 'building_floor1', 'live.square', 'total_square1'], axis=1, inplace=True)"
   ]
  },
  {
   "cell_type": "markdown",
   "metadata": {},
   "source": [
    "Теперь еще раз удалим дубли, так как состав столбцов изменился\n",
    "**Здесь нужно подбирать способ удаления дублей, состав столбцов для уникальности!**"
   ]
  },
  {
   "cell_type": "code",
   "execution_count": 51,
   "metadata": {},
   "outputs": [],
   "source": [
    "valuable_columns = \\\n",
    "['district', 'live_rooms', 'price', 'owner', 'flat.building', 'total_square', 'flat_floor', 'building_floor']"
   ]
  },
  {
   "cell_type": "code",
   "execution_count": 52,
   "metadata": {
    "scrolled": true
   },
   "outputs": [
    {
     "data": {
      "text/plain": [
       "61328"
      ]
     },
     "execution_count": 52,
     "metadata": {},
     "output_type": "execute_result"
    }
   ],
   "source": [
    "df.drop_duplicates(subset=valuable_columns, inplace=True, keep='last', ignore_index=True)\n",
    "len(df)"
   ]
  },
  {
   "cell_type": "markdown",
   "metadata": {},
   "source": [
    "**Теперь посмотрими на значения признаков live_rooms, total_square, living_square, kitchen_square, flat_floor, building_floor и обработаем аномальные значения (выбросы).**"
   ]
  },
  {
   "cell_type": "markdown",
   "metadata": {},
   "source": [
    "### live_rooms"
   ]
  },
  {
   "cell_type": "code",
   "execution_count": 53,
   "metadata": {
    "scrolled": true
   },
   "outputs": [
    {
     "data": {
      "text/plain": [
       "2     21512\n",
       "3     20174\n",
       "1     14135\n",
       "4      4434\n",
       "5       719\n",
       "6       191\n",
       "7        84\n",
       "8        35\n",
       "9        21\n",
       "12       11\n",
       "10        8\n",
       "20        1\n",
       "14        1\n",
       "11        1\n",
       "32        1\n",
       "Name: live_rooms, dtype: int64"
      ]
     },
     "execution_count": 53,
     "metadata": {},
     "output_type": "execute_result"
    }
   ],
   "source": [
    "df.live_rooms.value_counts(dropna=False)"
   ]
  },
  {
   "cell_type": "markdown",
   "metadata": {},
   "source": [
    "Видно, что квартиры с количеством комнат > 8 представлены очень малым числом объявлений. Точность модели на таких примерах будет низкой. Удалим их."
   ]
  },
  {
   "cell_type": "code",
   "execution_count": 54,
   "metadata": {
    "scrolled": true
   },
   "outputs": [],
   "source": [
    "df.drop(df[df.live_rooms > 8].index, inplace=True)"
   ]
  },
  {
   "cell_type": "code",
   "execution_count": 55,
   "metadata": {},
   "outputs": [
    {
     "name": "stdout",
     "output_type": "stream",
     "text": [
      "Количество: 61284, Среднее: 2.301, Стандартное отклонение: 0.984.\n",
      "Минимум: 1, 25-й перцентиль: 2.0, Медиана: 2.0, 75-й перцентиль: 3.0, Максимум: 8, IQR: 1.0.\n",
      "Количество пропусков в столбце:  0\n",
      "Границы выбросов: [0.5, 4.5]. Количество выбросов:  1029\n"
     ]
    },
    {
     "data": {
      "image/png": "[encoded data removed]",
      "text/plain": [
       "<Figure size 432x288 with 1 Axes>"
      ]
     },
     "metadata": {
      "needs_background": "light"
     },
     "output_type": "display_data"
    }
   ],
   "source": [
    "utils.analyse_numeric(df, 'live_rooms')"
   ]
  },
  {
   "cell_type": "markdown",
   "metadata": {},
   "source": [
    "**Здесь, возможно, нужно удалить все записи со значением live_rooms > 4**"
   ]
  },
  {
   "cell_type": "code",
   "execution_count": 56,
   "metadata": {},
   "outputs": [],
   "source": [
    "df.drop(df[df.live_rooms > 4].index, inplace=True)"
   ]
  },
  {
   "cell_type": "code",
   "execution_count": 57,
   "metadata": {},
   "outputs": [
    {
     "data": {
      "text/plain": [
       "60255"
      ]
     },
     "execution_count": 57,
     "metadata": {},
     "output_type": "execute_result"
    }
   ],
   "source": [
    "len(df)"
   ]
  },
  {
   "cell_type": "markdown",
   "metadata": {},
   "source": [
    "### total_square"
   ]
  },
  {
   "cell_type": "code",
   "execution_count": 58,
   "metadata": {
    "scrolled": true
   },
   "outputs": [
    {
     "name": "stdout",
     "output_type": "stream",
     "text": [
      "Количество: 60255, Среднее: 66.569, Стандартное отклонение: 33.075.\n",
      "Минимум: 8.97, 25-й перцентиль: 44.0, Медиана: 60.0, 75-й перцентиль: 78.0, Максимум: 450.0, IQR: 34.0.\n",
      "Количество пропусков в столбце:  0\n",
      "Границы выбросов: [-7.0, 129.0]. Количество выбросов:  3409\n"
     ]
    },
    {
     "data": {
      "image/png": "[encoded data removed]",
      "text/plain": [
       "<Figure size 432x288 with 1 Axes>"
      ]
     },
     "metadata": {
      "needs_background": "light"
     },
     "output_type": "display_data"
    }
   ],
   "source": [
    "utils.analyse_numeric(df, 'total_square')"
   ]
  },
  {
   "cell_type": "markdown",
   "metadata": {},
   "source": [
    "Квартиры с площадью > 180 м² будем считать аномалиями. **Это значение нужно подбирать** "
   ]
  },
  {
   "cell_type": "code",
   "execution_count": 59,
   "metadata": {},
   "outputs": [],
   "source": [
    "df.drop(df[df.total_square > 180].index, inplace=True)"
   ]
  },
  {
   "cell_type": "markdown",
   "metadata": {},
   "source": [
    "### living_square и kitchen_square"
   ]
  },
  {
   "cell_type": "code",
   "execution_count": 60,
   "metadata": {},
   "outputs": [],
   "source": [
    "df.loc[df.living_square >= df.total_square, 'living_square'] = 0"
   ]
  },
  {
   "cell_type": "code",
   "execution_count": 61,
   "metadata": {
    "scrolled": true
   },
   "outputs": [
    {
     "name": "stdout",
     "output_type": "stream",
     "text": [
      "Количество: 59657, Среднее: 14.646, Стандартное отклонение: 22.302.\n",
      "Минимум: 0.0, 25-й перцентиль: 0.0, Медиана: 0.0, 75-й перцентиль: 28.4, Максимум: 162.4, IQR: 28.4.\n",
      "Количество пропусков в столбце:  0\n",
      "Границы выбросов: [-42.599999999999994, 71.0]. Количество выбросов:  1432\n"
     ]
    },
    {
     "data": {
      "image/png": "[encoded data removed]",
      "text/plain": [
       "<Figure size 432x288 with 1 Axes>"
      ]
     },
     "metadata": {
      "needs_background": "light"
     },
     "output_type": "display_data"
    }
   ],
   "source": [
    "utils.analyse_numeric(df, 'living_square')"
   ]
  },
  {
   "cell_type": "markdown",
   "metadata": {},
   "source": [
    "Признак **living_square** не так важен и содержит много пропусков. Лучше его удалить."
   ]
  },
  {
   "cell_type": "code",
   "execution_count": 62,
   "metadata": {},
   "outputs": [],
   "source": [
    "df.drop(['living_square'], axis=1, inplace=True)"
   ]
  },
  {
   "cell_type": "code",
   "execution_count": 63,
   "metadata": {},
   "outputs": [],
   "source": [
    "df.loc[df.kitchen_square >= df.total_square, 'kitchen_square'] = 0"
   ]
  },
  {
   "cell_type": "code",
   "execution_count": 64,
   "metadata": {
    "scrolled": false
   },
   "outputs": [
    {
     "data": {
      "text/plain": [
       "19954"
      ]
     },
     "execution_count": 64,
     "metadata": {},
     "output_type": "execute_result"
    }
   ],
   "source": [
    "len(df[df.kitchen_square == 0])"
   ]
  },
  {
   "cell_type": "markdown",
   "metadata": {},
   "source": [
    "**Можно попробовать заменить пропуски медианой, либо оставить значение нулевым (0)**"
   ]
  },
  {
   "cell_type": "code",
   "execution_count": 65,
   "metadata": {},
   "outputs": [],
   "source": [
    "#df.loc[df.kitchen_square == 0, 'kitchen_square'] = df.kitchen_square.median()"
   ]
  },
  {
   "cell_type": "code",
   "execution_count": 66,
   "metadata": {
    "scrolled": true
   },
   "outputs": [
    {
     "name": "stdout",
     "output_type": "stream",
     "text": [
      "Количество: 59657, Среднее: 6.752, Стандартное отклонение: 6.038.\n",
      "Минимум: 0.0, 25-й перцентиль: 0.0, Медиана: 6.0, 75-й перцентиль: 10.7, Максимум: 80.0, IQR: 10.7.\n",
      "Количество пропусков в столбце:  0\n",
      "Границы выбросов: [-16.049999999999997, 26.749999999999996]. Количество выбросов:  287\n"
     ]
    },
    {
     "data": {
      "image/png": "[encoded data removed]",
      "text/plain": [
       "<Figure size 432x288 with 1 Axes>"
      ]
     },
     "metadata": {
      "needs_background": "light"
     },
     "output_type": "display_data"
    }
   ],
   "source": [
    "utils.analyse_numeric(df, 'kitchen_square', bns=100)"
   ]
  },
  {
   "cell_type": "markdown",
   "metadata": {},
   "source": [
    "### flat_floor"
   ]
  },
  {
   "cell_type": "code",
   "execution_count": 67,
   "metadata": {
    "scrolled": false
   },
   "outputs": [
    {
     "data": {
      "text/plain": [
       "2     8980\n",
       "4     8365\n",
       "3     8295\n",
       "1     7704\n",
       "5     7521\n",
       "6     2879\n",
       "8     2811\n",
       "9     2787\n",
       "7     2769\n",
       "10    1618\n",
       "12    1155\n",
       "11    1041\n",
       "0      770\n",
       "13     574\n",
       "14     557\n",
       "16     518\n",
       "15     503\n",
       "17     245\n",
       "18     180\n",
       "19     137\n",
       "20      90\n",
       "21      80\n",
       "25      23\n",
       "22      22\n",
       "23      11\n",
       "24      10\n",
       "26       6\n",
       "27       2\n",
       "99       1\n",
       "77       1\n",
       "58       1\n",
       "70       1\n",
       "Name: flat_floor, dtype: int64"
      ]
     },
     "execution_count": 67,
     "metadata": {},
     "output_type": "execute_result"
    }
   ],
   "source": [
    "df['flat_floor'].value_counts(dropna=False)"
   ]
  },
  {
   "cell_type": "code",
   "execution_count": 68,
   "metadata": {
    "scrolled": true
   },
   "outputs": [
    {
     "data": {
      "text/html": [
       "<div>\n",
       "<style scoped>\n",
       "    .dataframe tbody tr th:only-of-type {\n",
       "        vertical-align: middle;\n",
       "    }\n",
       "\n",
       "    .dataframe tbody tr th {\n",
       "        vertical-align: top;\n",
       "    }\n",
       "\n",
       "    .dataframe thead th {\n",
       "        text-align: right;\n",
       "    }\n",
       "</style>\n",
       "<table border=\"1\" class=\"dataframe\">\n",
       "  <thead>\n",
       "    <tr style=\"text-align: right;\">\n",
       "      <th></th>\n",
       "      <th>district</th>\n",
       "      <th>live_rooms</th>\n",
       "      <th>price</th>\n",
       "      <th>address</th>\n",
       "      <th>text_preview</th>\n",
       "      <th>owner</th>\n",
       "      <th>ad_date</th>\n",
       "      <th>paid_hot</th>\n",
       "      <th>paid_up</th>\n",
       "      <th>paid_fast</th>\n",
       "      <th>paid_urgent</th>\n",
       "      <th>paid_turbo</th>\n",
       "      <th>highlighted</th>\n",
       "      <th>flat.building</th>\n",
       "      <th>flat.renovation</th>\n",
       "      <th>flat.toilet</th>\n",
       "      <th>flat.balcony</th>\n",
       "      <th>flat.balcony_g</th>\n",
       "      <th>map.complex</th>\n",
       "      <th>flat.door</th>\n",
       "      <th>inet.type</th>\n",
       "      <th>live.furniture</th>\n",
       "      <th>flat.flooring</th>\n",
       "      <th>ceiling</th>\n",
       "      <th>flat.security</th>\n",
       "      <th>has_change</th>\n",
       "      <th>flat.phone</th>\n",
       "      <th>flat.parking</th>\n",
       "      <th>flat.priv_dorm</th>\n",
       "      <th>options_text</th>\n",
       "      <th>text</th>\n",
       "      <th>total_square</th>\n",
       "      <th>kitchen_square</th>\n",
       "      <th>flat_floor</th>\n",
       "      <th>building_floor</th>\n",
       "    </tr>\n",
       "  </thead>\n",
       "  <tbody>\n",
       "    <tr>\n",
       "      <th>13393</th>\n",
       "      <td>1</td>\n",
       "      <td>3</td>\n",
       "      <td>35000000</td>\n",
       "      <td>Алмалинский р-н, проспект Райымбека 243</td>\n",
       "      <td>монолитный дом, 2007 г.п., состояние: евроремонт, потолки 2.8м., санузел раздельный, телефон: отдельный, интернет ADSL, частично меблирована</td>\n",
       "      <td>6</td>\n",
       "      <td>25 мар.</td>\n",
       "      <td>0</td>\n",
       "      <td>0</td>\n",
       "      <td>0</td>\n",
       "      <td>0</td>\n",
       "      <td>0</td>\n",
       "      <td>0</td>\n",
       "      <td>монолитный, 2007 г.п.</td>\n",
       "      <td>евроремонт</td>\n",
       "      <td>раздельный</td>\n",
       "      <td>лоджия</td>\n",
       "      <td>да</td>\n",
       "      <td>NaN</td>\n",
       "      <td>металлическая</td>\n",
       "      <td>ADSL</td>\n",
       "      <td>частично меблирована</td>\n",
       "      <td>линолеум</td>\n",
       "      <td>2.8 м</td>\n",
       "      <td>домофон, видеонаблюдение</td>\n",
       "      <td>NaN</td>\n",
       "      <td>отдельный</td>\n",
       "      <td>NaN</td>\n",
       "      <td>нет</td>\n",
       "      <td>Пластиковые окна, неугловая, улучшенная, комнаты изолированы, встроенная кухня, новая сантехника, счётчики, тихий двор, кондиционер.</td>\n",
       "      <td>NaN</td>\n",
       "      <td>75.0</td>\n",
       "      <td>14.0</td>\n",
       "      <td>77</td>\n",
       "      <td>9</td>\n",
       "    </tr>\n",
       "    <tr>\n",
       "      <th>23088</th>\n",
       "      <td>2</td>\n",
       "      <td>3</td>\n",
       "      <td>28499900</td>\n",
       "      <td>Ауэзовский р-н, мкр Жетысу-1, Мкр Жетысу-1</td>\n",
       "      <td>панельный дом, 1989 г.п., состояние: хорошее, жил. площадь 55 кв.м., кухня 15 кв.м., санузел раздельный, телефон: отдельный, интернет ADSL, частично меблирована, ВНИМАНИЕ! 3-х комнатная квартира в...</td>\n",
       "      <td>4</td>\n",
       "      <td>13 мар.</td>\n",
       "      <td>0</td>\n",
       "      <td>0</td>\n",
       "      <td>0</td>\n",
       "      <td>0</td>\n",
       "      <td>0</td>\n",
       "      <td>0</td>\n",
       "      <td>панельный, 1989 г.п.</td>\n",
       "      <td>хорошее</td>\n",
       "      <td>раздельный</td>\n",
       "      <td>балкон и лоджия</td>\n",
       "      <td>да</td>\n",
       "      <td>NaN</td>\n",
       "      <td>металлическая</td>\n",
       "      <td>ADSL</td>\n",
       "      <td>частично меблирована</td>\n",
       "      <td>NaN</td>\n",
       "      <td>NaN</td>\n",
       "      <td>домофон</td>\n",
       "      <td>NaN</td>\n",
       "      <td>отдельный</td>\n",
       "      <td>рядом охраняемая стоянка</td>\n",
       "      <td>нет</td>\n",
       "      <td>Пластиковые окна, неугловая, улучшенная, комнаты изолированы, новая сантехника, счётчики, тихий двор.</td>\n",
       "      <td>ВНИМАНИЕ! 3-х комнатная квартира в одном из самых востребованных районов города. Соотношение ЦЕНА-СОСТОЯНИЕ-расположенИЕ! \\nРазвитая инфраструктура, квартира и район со всеми удобствами для жизни,...</td>\n",
       "      <td>70.0</td>\n",
       "      <td>15.0</td>\n",
       "      <td>99</td>\n",
       "      <td>0</td>\n",
       "    </tr>\n",
       "    <tr>\n",
       "      <th>30960</th>\n",
       "      <td>3</td>\n",
       "      <td>2</td>\n",
       "      <td>79000000</td>\n",
       "      <td>Бостандыкский р-н, Аль-Фараби</td>\n",
       "      <td>жил. комплекс Orion, монолитный дом, 2018 г.п., состояние: евроремонт, санузел 2 с/у и более, телефон: отдельный, интернет оптика, полностью меблирована, Эксклюзивное предложение от агентства «Dem...</td>\n",
       "      <td>2</td>\n",
       "      <td>2 мар.</td>\n",
       "      <td>1</td>\n",
       "      <td>0</td>\n",
       "      <td>0</td>\n",
       "      <td>0</td>\n",
       "      <td>0</td>\n",
       "      <td>0</td>\n",
       "      <td>монолитный, 2018 г.п.</td>\n",
       "      <td>евроремонт</td>\n",
       "      <td>2 с/у и более</td>\n",
       "      <td>NaN</td>\n",
       "      <td>NaN</td>\n",
       "      <td>Orion</td>\n",
       "      <td>бронированная</td>\n",
       "      <td>оптика</td>\n",
       "      <td>полностью меблирована</td>\n",
       "      <td>ламинат</td>\n",
       "      <td>NaN</td>\n",
       "      <td>охрана, кодовый замок, сигнализация, видеонаблюдение, видеодомофон, консьерж</td>\n",
       "      <td>NaN</td>\n",
       "      <td>отдельный</td>\n",
       "      <td>NaN</td>\n",
       "      <td>нет</td>\n",
       "      <td>Пластиковые окна, неугловая, улучшенная, комнаты изолированы, встроенная кухня, новая сантехника, кладовка, счётчики, кондиционер.</td>\n",
       "      <td>Эксклюзивное предложение от агентства «Demetra» -Продается шикарная квартира в жк \"ORION\", расположенный в экологически чистом и элитном районе города. Эксклюзивный дизайн интерьера выполнен в спо...</td>\n",
       "      <td>87.0</td>\n",
       "      <td>16.0</td>\n",
       "      <td>26</td>\n",
       "      <td>33</td>\n",
       "    </tr>\n",
       "    <tr>\n",
       "      <th>31280</th>\n",
       "      <td>3</td>\n",
       "      <td>2</td>\n",
       "      <td>75000000</td>\n",
       "      <td>Бостандыкский р-н, Аль-Фараби</td>\n",
       "      <td>жил. комплекс Orion, монолитный дом, 2018 г.п., состояние: евроремонт, потолки 3м., санузел 2 с/у и более, телефон: отдельный, интернет ADSL, полностью меблирована, Пластиковые окна, неугловая, ул...</td>\n",
       "      <td>3</td>\n",
       "      <td>28 февр.</td>\n",
       "      <td>1</td>\n",
       "      <td>0</td>\n",
       "      <td>0</td>\n",
       "      <td>0</td>\n",
       "      <td>0</td>\n",
       "      <td>0</td>\n",
       "      <td>монолитный, 2018 г.п.</td>\n",
       "      <td>евроремонт</td>\n",
       "      <td>2 с/у и более</td>\n",
       "      <td>лоджия</td>\n",
       "      <td>NaN</td>\n",
       "      <td>Orion</td>\n",
       "      <td>бронированная</td>\n",
       "      <td>ADSL</td>\n",
       "      <td>полностью меблирована</td>\n",
       "      <td>ламинат</td>\n",
       "      <td>3 м</td>\n",
       "      <td>видеодомофон</td>\n",
       "      <td>NaN</td>\n",
       "      <td>отдельный</td>\n",
       "      <td>NaN</td>\n",
       "      <td>нет</td>\n",
       "      <td>Пластиковые окна, неугловая, улучшенная, комнаты изолированы, встроенная кухня, новая сантехника, кладовка, счётчики, тихий двор, кондиционер.</td>\n",
       "      <td>Пластиковые окна, неугловая, улучшенная, комнаты изолированы, встроенная кухня, новая сантехника, кладовка, счётчики, кондиционер. \\nЭксклюзивное предложение от агентства «Demetra» -Продается шика...</td>\n",
       "      <td>87.0</td>\n",
       "      <td>16.0</td>\n",
       "      <td>26</td>\n",
       "      <td>33</td>\n",
       "    </tr>\n",
       "    <tr>\n",
       "      <th>31533</th>\n",
       "      <td>3</td>\n",
       "      <td>2</td>\n",
       "      <td>59000000</td>\n",
       "      <td>Бостандыкский р-н, мкр Нурлытау (Энергетик) 7 — проспект Аль-Фараби</td>\n",
       "      <td>жил. комплекс Нурлы Тау, монолитный дом, 2005 г.п., состояние: хорошее, потолки 2.85м., санузел 2 с/у и более, телефон: отдельный, интернет ADSL, частично меблирована, Вид на Коктобе</td>\n",
       "      <td>6</td>\n",
       "      <td>13 мар.</td>\n",
       "      <td>0</td>\n",
       "      <td>0</td>\n",
       "      <td>0</td>\n",
       "      <td>0</td>\n",
       "      <td>0</td>\n",
       "      <td>0</td>\n",
       "      <td>монолитный, 2005 г.п.</td>\n",
       "      <td>хорошее</td>\n",
       "      <td>2 с/у и более</td>\n",
       "      <td>NaN</td>\n",
       "      <td>NaN</td>\n",
       "      <td>Нурлы Тау</td>\n",
       "      <td>металлическая</td>\n",
       "      <td>ADSL</td>\n",
       "      <td>частично меблирована</td>\n",
       "      <td>ламинат</td>\n",
       "      <td>2.85 м</td>\n",
       "      <td>охрана, домофон, видеонаблюдение, консьерж</td>\n",
       "      <td>NaN</td>\n",
       "      <td>отдельный</td>\n",
       "      <td>NaN</td>\n",
       "      <td>NaN</td>\n",
       "      <td>Пластиковые окна, кухня-студия, новая сантехника, счётчики, тихий двор, кондиционер, удобно под коммерцию.</td>\n",
       "      <td>Вид на Коктобе</td>\n",
       "      <td>94.0</td>\n",
       "      <td>0.0</td>\n",
       "      <td>26</td>\n",
       "      <td>32</td>\n",
       "    </tr>\n",
       "    <tr>\n",
       "      <th>33807</th>\n",
       "      <td>3</td>\n",
       "      <td>2</td>\n",
       "      <td>54000000</td>\n",
       "      <td>Бостандыкский р-н, Ходжанова</td>\n",
       "      <td>монолитный дом, 2007 г.п., состояние: хорошее, санузел раздельный, телефон: есть возможность подключения, интернет ADSL, Пластиковые окна, комнаты изолированы, встроенная кухня, тихий двор. Кварти...</td>\n",
       "      <td>4</td>\n",
       "      <td>15 мар.</td>\n",
       "      <td>0</td>\n",
       "      <td>0</td>\n",
       "      <td>0</td>\n",
       "      <td>0</td>\n",
       "      <td>0</td>\n",
       "      <td>0</td>\n",
       "      <td>монолитный, 2007 г.п.</td>\n",
       "      <td>хорошее</td>\n",
       "      <td>раздельный</td>\n",
       "      <td>балкон</td>\n",
       "      <td>NaN</td>\n",
       "      <td>NaN</td>\n",
       "      <td>металлическая</td>\n",
       "      <td>ADSL</td>\n",
       "      <td>NaN</td>\n",
       "      <td>NaN</td>\n",
       "      <td>NaN</td>\n",
       "      <td>домофон</td>\n",
       "      <td>NaN</td>\n",
       "      <td>есть возможность подключения</td>\n",
       "      <td>NaN</td>\n",
       "      <td>нет</td>\n",
       "      <td>Пластиковые окна, улучшенная, комнаты изолированы, встроенная кухня, новая сантехника, счётчики, тихий двор.</td>\n",
       "      <td>Пластиковые окна, комнаты изолированы, встроенная кухня, тихий двор. \\nКвартира с хорошим качественным ремонтом. Жилой комплекс повышенной комфортности «Алтын Орда» застройщика АО «МАК Алматыгорст...</td>\n",
       "      <td>70.0</td>\n",
       "      <td>0.0</td>\n",
       "      <td>70</td>\n",
       "      <td>0</td>\n",
       "    </tr>\n",
       "    <tr>\n",
       "      <th>34286</th>\n",
       "      <td>3</td>\n",
       "      <td>2</td>\n",
       "      <td>79000000</td>\n",
       "      <td>Бостандыкский р-н, Аль-Фараби — Козыбаева</td>\n",
       "      <td>жил. комплекс Orion, монолитный дом, 2018 г.п., состояние: евроремонт, санузел 2 с/у и более, интернет ADSL, частично меблирована, Отличное предложение! В самом шикарном месте продается 2х комнатн...</td>\n",
       "      <td>4</td>\n",
       "      <td>27 мар.</td>\n",
       "      <td>0</td>\n",
       "      <td>0</td>\n",
       "      <td>0</td>\n",
       "      <td>1</td>\n",
       "      <td>0</td>\n",
       "      <td>0</td>\n",
       "      <td>монолитный, 2018 г.п.</td>\n",
       "      <td>евроремонт</td>\n",
       "      <td>2 с/у и более</td>\n",
       "      <td>лоджия</td>\n",
       "      <td>да</td>\n",
       "      <td>Orion</td>\n",
       "      <td>металлическая</td>\n",
       "      <td>ADSL</td>\n",
       "      <td>частично меблирована</td>\n",
       "      <td>ламинат</td>\n",
       "      <td>NaN</td>\n",
       "      <td>домофон, видеонаблюдение, видеодомофон</td>\n",
       "      <td>NaN</td>\n",
       "      <td>NaN</td>\n",
       "      <td>паркинг</td>\n",
       "      <td>нет</td>\n",
       "      <td>Пластиковые окна, улучшенная, кухня-студия, встроенная кухня, новая сантехника, кладовка, счётчики, тихий двор, кондиционер.</td>\n",
       "      <td>Отличное предложение! \\n \\nВ самом шикарном месте продается 2х комнатная квартира! \\nКвартира продается с мебелью! \\n \\nС уважением, Алтынжан. \\n \\nГруппа агентств недвижимости \"Expert Estate Serv...</td>\n",
       "      <td>83.0</td>\n",
       "      <td>0.0</td>\n",
       "      <td>26</td>\n",
       "      <td>33</td>\n",
       "    </tr>\n",
       "    <tr>\n",
       "      <th>34640</th>\n",
       "      <td>3</td>\n",
       "      <td>2</td>\n",
       "      <td>60000000</td>\n",
       "      <td>Бостандыкский р-н, Аль-Фараби 7</td>\n",
       "      <td>жил. комплекс Нурлы Тау, монолитный дом, 2005 г.п., состояние: хорошее, потолки 2.85м., санузел 2 с/у и более, телефон: отдельный, интернет ADSL, частично меблирована, Вашему вниманию представляет...</td>\n",
       "      <td>4</td>\n",
       "      <td>26 мар.</td>\n",
       "      <td>1</td>\n",
       "      <td>0</td>\n",
       "      <td>0</td>\n",
       "      <td>0</td>\n",
       "      <td>0</td>\n",
       "      <td>0</td>\n",
       "      <td>монолитный, 2005 г.п.</td>\n",
       "      <td>хорошее</td>\n",
       "      <td>2 с/у и более</td>\n",
       "      <td>NaN</td>\n",
       "      <td>NaN</td>\n",
       "      <td>Нурлы Тау</td>\n",
       "      <td>металлическая</td>\n",
       "      <td>ADSL</td>\n",
       "      <td>частично меблирована</td>\n",
       "      <td>ламинат</td>\n",
       "      <td>2.85 м</td>\n",
       "      <td>охрана, домофон, видеонаблюдение, консьерж</td>\n",
       "      <td>NaN</td>\n",
       "      <td>отдельный</td>\n",
       "      <td>паркинг</td>\n",
       "      <td>нет</td>\n",
       "      <td>Пластиковые окна, кухня-студия, новая сантехника, счётчики, тихий двор, кондиционер, удобно под коммерцию.</td>\n",
       "      <td>Вашему вниманию представляется 2-х комнатная квартира - просторные комнаты с удобной планировкой. \\nТеплая, светлая и очень уютная, обставленная мебелью и техникой. \\nОчень развитая инфраструктура...</td>\n",
       "      <td>94.0</td>\n",
       "      <td>0.0</td>\n",
       "      <td>26</td>\n",
       "      <td>32</td>\n",
       "    </tr>\n",
       "    <tr>\n",
       "      <th>35483</th>\n",
       "      <td>3</td>\n",
       "      <td>2</td>\n",
       "      <td>64000000</td>\n",
       "      <td>Бостандыкский р-н, Аль-Фараби 7 — Козыбаева</td>\n",
       "      <td>жил. комплекс Нурлы Тау, монолитный дом, 2007 г.п., состояние: евроремонт, санузел совмещенный, полностью меблирована, Светлая, комфортная квартира в легком классическом стиле, престижный жилой ко...</td>\n",
       "      <td>4</td>\n",
       "      <td>25 мар.</td>\n",
       "      <td>1</td>\n",
       "      <td>0</td>\n",
       "      <td>0</td>\n",
       "      <td>0</td>\n",
       "      <td>0</td>\n",
       "      <td>0</td>\n",
       "      <td>монолитный, 2007 г.п.</td>\n",
       "      <td>евроремонт</td>\n",
       "      <td>совмещенный</td>\n",
       "      <td>NaN</td>\n",
       "      <td>NaN</td>\n",
       "      <td>Нурлы Тау</td>\n",
       "      <td>бронированная</td>\n",
       "      <td>NaN</td>\n",
       "      <td>полностью меблирована</td>\n",
       "      <td>ламинат</td>\n",
       "      <td>NaN</td>\n",
       "      <td>домофон, охрана, консьерж</td>\n",
       "      <td>NaN</td>\n",
       "      <td>NaN</td>\n",
       "      <td>паркинг</td>\n",
       "      <td>NaN</td>\n",
       "      <td>Кухня-студия, встроенная кухня, кондиционер.</td>\n",
       "      <td>Светлая, комфортная квартира в легком классическом стиле, престижный жилой комплекс, деловой район города. Хороший вид на горы. Вся мебель на заказ, все остается - заехать и жить! Есть паркинг, га...</td>\n",
       "      <td>90.0</td>\n",
       "      <td>0.0</td>\n",
       "      <td>27</td>\n",
       "      <td>30</td>\n",
       "    </tr>\n",
       "    <tr>\n",
       "      <th>36967</th>\n",
       "      <td>3</td>\n",
       "      <td>2</td>\n",
       "      <td>64000000</td>\n",
       "      <td>Бостандыкский р-н, Аль-Фараби 7 — Козыбаева</td>\n",
       "      <td>жил. комплекс Нурлы Тау, монолитный дом, 2005 г.п., Очень хорошая квартира, 2 су, встроенный шкаф - купе, удобный кухонный гарнитур, паркинг. квартира продается полностью с мебелью и техникой</td>\n",
       "      <td>3</td>\n",
       "      <td>21 мар.</td>\n",
       "      <td>0</td>\n",
       "      <td>0</td>\n",
       "      <td>0</td>\n",
       "      <td>0</td>\n",
       "      <td>0</td>\n",
       "      <td>0</td>\n",
       "      <td>монолитный, 2005 г.п.</td>\n",
       "      <td>NaN</td>\n",
       "      <td>NaN</td>\n",
       "      <td>NaN</td>\n",
       "      <td>NaN</td>\n",
       "      <td>Нурлы Тау</td>\n",
       "      <td>NaN</td>\n",
       "      <td>NaN</td>\n",
       "      <td>NaN</td>\n",
       "      <td>NaN</td>\n",
       "      <td>NaN</td>\n",
       "      <td>NaN</td>\n",
       "      <td>NaN</td>\n",
       "      <td>NaN</td>\n",
       "      <td>NaN</td>\n",
       "      <td>нет</td>\n",
       "      <td>NaN</td>\n",
       "      <td>Очень хорошая квартира, 2 су, встроенный шкаф - купе, удобный кухонный гарнитур, паркинг. квартира продается полностью с мебелью и техникой</td>\n",
       "      <td>95.0</td>\n",
       "      <td>0.0</td>\n",
       "      <td>27</td>\n",
       "      <td>29</td>\n",
       "    </tr>\n",
       "    <tr>\n",
       "      <th>37103</th>\n",
       "      <td>3</td>\n",
       "      <td>3</td>\n",
       "      <td>28000000</td>\n",
       "      <td>Бостандыкский р-н, Навои</td>\n",
       "      <td>панельный дом, 1973 г.п., Теплая, светлая квартира в хорошем состоянии с адекватной ценой. Документы в порядке. Светлая, уютная. Частично мебель остается. Хороший двор, приветливые, улбычивые сосе...</td>\n",
       "      <td>4</td>\n",
       "      <td>6 мар.</td>\n",
       "      <td>0</td>\n",
       "      <td>0</td>\n",
       "      <td>0</td>\n",
       "      <td>0</td>\n",
       "      <td>0</td>\n",
       "      <td>0</td>\n",
       "      <td>панельный, 1973 г.п.</td>\n",
       "      <td>NaN</td>\n",
       "      <td>NaN</td>\n",
       "      <td>NaN</td>\n",
       "      <td>NaN</td>\n",
       "      <td>NaN</td>\n",
       "      <td>NaN</td>\n",
       "      <td>NaN</td>\n",
       "      <td>NaN</td>\n",
       "      <td>NaN</td>\n",
       "      <td>NaN</td>\n",
       "      <td>NaN</td>\n",
       "      <td>NaN</td>\n",
       "      <td>NaN</td>\n",
       "      <td>NaN</td>\n",
       "      <td>нет</td>\n",
       "      <td>NaN</td>\n",
       "      <td>Теплая, светлая квартира в хорошем состоянии с адекватной ценой. \\nДокументы в порядке. \\nСветлая, уютная. \\nЧастично мебель остается. \\nХороший двор, приветливые, улбычивые соседи. \\nИфраструктур...</td>\n",
       "      <td>58.0</td>\n",
       "      <td>0.0</td>\n",
       "      <td>58</td>\n",
       "      <td>0</td>\n",
       "    </tr>\n",
       "    <tr>\n",
       "      <th>47176</th>\n",
       "      <td>4</td>\n",
       "      <td>2</td>\n",
       "      <td>74000000</td>\n",
       "      <td>Медеуский р-н, Аль-Фараби — Козыбаева</td>\n",
       "      <td>жил. комплекс Orion, монолитный дом, 2018 г.п., состояние: евроремонт, потолки 3м., санузел совмещенный, телефон: отдельный, интернет проводной, полностью меблирована, Асположение Стильная новостр...</td>\n",
       "      <td>3</td>\n",
       "      <td>1 мар.</td>\n",
       "      <td>1</td>\n",
       "      <td>0</td>\n",
       "      <td>0</td>\n",
       "      <td>0</td>\n",
       "      <td>0</td>\n",
       "      <td>0</td>\n",
       "      <td>монолитный, 2018 г.п.</td>\n",
       "      <td>евроремонт</td>\n",
       "      <td>совмещенный</td>\n",
       "      <td>NaN</td>\n",
       "      <td>NaN</td>\n",
       "      <td>Orion</td>\n",
       "      <td>бронированная</td>\n",
       "      <td>проводной</td>\n",
       "      <td>полностью меблирована</td>\n",
       "      <td>ламинат</td>\n",
       "      <td>3 м</td>\n",
       "      <td>охрана, домофон, видеонаблюдение, видеодомофон, консьерж</td>\n",
       "      <td>NaN</td>\n",
       "      <td>отдельный</td>\n",
       "      <td>рядом охраняемая стоянка</td>\n",
       "      <td>нет</td>\n",
       "      <td>Пластиковые окна, неугловая, улучшенная, комнаты изолированы, кухня-студия, встроенная кухня, новая сантехника, кладовка, счётчики, тихий двор, кондиционер.</td>\n",
       "      <td>Асположение \\nСтильная новостройка появилась в одной из самых престижных частей Алматы – на пересечении проспекта Аль-Фараби и проспекта Назарбаева в Бостандыкском районе. Это буквально в пяти мин...</td>\n",
       "      <td>83.0</td>\n",
       "      <td>0.0</td>\n",
       "      <td>26</td>\n",
       "      <td>33</td>\n",
       "    </tr>\n",
       "  </tbody>\n",
       "</table>\n",
       "</div>"
      ],
      "text/plain": [
       "       district  live_rooms     price  \\\n",
       "13393         1           3  35000000   \n",
       "23088         2           3  28499900   \n",
       "30960         3           2  79000000   \n",
       "31280         3           2  75000000   \n",
       "31533         3           2  59000000   \n",
       "33807         3           2  54000000   \n",
       "34286         3           2  79000000   \n",
       "34640         3           2  60000000   \n",
       "35483         3           2  64000000   \n",
       "36967         3           2  64000000   \n",
       "37103         3           3  28000000   \n",
       "47176         4           2  74000000   \n",
       "\n",
       "                                                                   address  \\\n",
       "13393                              Алмалинский р-н, проспект Райымбека 243   \n",
       "23088                           Ауэзовский р-н, мкр Жетысу-1, Мкр Жетысу-1   \n",
       "30960                                        Бостандыкский р-н, Аль-Фараби   \n",
       "31280                                        Бостандыкский р-н, Аль-Фараби   \n",
       "31533  Бостандыкский р-н, мкр Нурлытау (Энергетик) 7 — проспект Аль-Фараби   \n",
       "33807                                         Бостандыкский р-н, Ходжанова   \n",
       "34286                            Бостандыкский р-н, Аль-Фараби — Козыбаева   \n",
       "34640                                      Бостандыкский р-н, Аль-Фараби 7   \n",
       "35483                          Бостандыкский р-н, Аль-Фараби 7 — Козыбаева   \n",
       "36967                          Бостандыкский р-н, Аль-Фараби 7 — Козыбаева   \n",
       "37103                                             Бостандыкский р-н, Навои   \n",
       "47176                                Медеуский р-н, Аль-Фараби — Козыбаева   \n",
       "\n",
       "                                                                                                                                                                                                  text_preview  \\\n",
       "13393                                                             монолитный дом, 2007 г.п., состояние: евроремонт, потолки 2.8м., санузел раздельный, телефон: отдельный, интернет ADSL, частично меблирована   \n",
       "23088  панельный дом, 1989 г.п., состояние: хорошее, жил. площадь 55 кв.м., кухня 15 кв.м., санузел раздельный, телефон: отдельный, интернет ADSL, частично меблирована, ВНИМАНИЕ! 3-х комнатная квартира в...   \n",
       "30960  жил. комплекс Orion, монолитный дом, 2018 г.п., состояние: евроремонт, санузел 2 с/у и более, телефон: отдельный, интернет оптика, полностью меблирована, Эксклюзивное предложение от агентства «Dem...   \n",
       "31280  жил. комплекс Orion, монолитный дом, 2018 г.п., состояние: евроремонт, потолки 3м., санузел 2 с/у и более, телефон: отдельный, интернет ADSL, полностью меблирована, Пластиковые окна, неугловая, ул...   \n",
       "31533                   жил. комплекс Нурлы Тау, монолитный дом, 2005 г.п., состояние: хорошее, потолки 2.85м., санузел 2 с/у и более, телефон: отдельный, интернет ADSL, частично меблирована, Вид на Коктобе   \n",
       "33807  монолитный дом, 2007 г.п., состояние: хорошее, санузел раздельный, телефон: есть возможность подключения, интернет ADSL, Пластиковые окна, комнаты изолированы, встроенная кухня, тихий двор. Кварти...   \n",
       "34286  жил. комплекс Orion, монолитный дом, 2018 г.п., состояние: евроремонт, санузел 2 с/у и более, интернет ADSL, частично меблирована, Отличное предложение! В самом шикарном месте продается 2х комнатн...   \n",
       "34640  жил. комплекс Нурлы Тау, монолитный дом, 2005 г.п., состояние: хорошее, потолки 2.85м., санузел 2 с/у и более, телефон: отдельный, интернет ADSL, частично меблирована, Вашему вниманию представляет...   \n",
       "35483  жил. комплекс Нурлы Тау, монолитный дом, 2007 г.п., состояние: евроремонт, санузел совмещенный, полностью меблирована, Светлая, комфортная квартира в легком классическом стиле, престижный жилой ко...   \n",
       "36967          жил. комплекс Нурлы Тау, монолитный дом, 2005 г.п., Очень хорошая квартира, 2 су, встроенный шкаф - купе, удобный кухонный гарнитур, паркинг. квартира продается полностью с мебелью и техникой   \n",
       "37103  панельный дом, 1973 г.п., Теплая, светлая квартира в хорошем состоянии с адекватной ценой. Документы в порядке. Светлая, уютная. Частично мебель остается. Хороший двор, приветливые, улбычивые сосе...   \n",
       "47176  жил. комплекс Orion, монолитный дом, 2018 г.п., состояние: евроремонт, потолки 3м., санузел совмещенный, телефон: отдельный, интернет проводной, полностью меблирована, Асположение Стильная новостр...   \n",
       "\n",
       "       owner   ad_date  paid_hot  paid_up  paid_fast  paid_urgent  paid_turbo  \\\n",
       "13393      6   25 мар.         0        0          0            0           0   \n",
       "23088      4   13 мар.         0        0          0            0           0   \n",
       "30960      2    2 мар.         1        0          0            0           0   \n",
       "31280      3  28 февр.         1        0          0            0           0   \n",
       "31533      6   13 мар.         0        0          0            0           0   \n",
       "33807      4   15 мар.         0        0          0            0           0   \n",
       "34286      4   27 мар.         0        0          0            1           0   \n",
       "34640      4   26 мар.         1        0          0            0           0   \n",
       "35483      4   25 мар.         1        0          0            0           0   \n",
       "36967      3   21 мар.         0        0          0            0           0   \n",
       "37103      4    6 мар.         0        0          0            0           0   \n",
       "47176      3    1 мар.         1        0          0            0           0   \n",
       "\n",
       "       highlighted          flat.building flat.renovation    flat.toilet  \\\n",
       "13393            0  монолитный, 2007 г.п.      евроремонт     раздельный   \n",
       "23088            0   панельный, 1989 г.п.         хорошее     раздельный   \n",
       "30960            0  монолитный, 2018 г.п.      евроремонт  2 с/у и более   \n",
       "31280            0  монолитный, 2018 г.п.      евроремонт  2 с/у и более   \n",
       "31533            0  монолитный, 2005 г.п.         хорошее  2 с/у и более   \n",
       "33807            0  монолитный, 2007 г.п.         хорошее     раздельный   \n",
       "34286            0  монолитный, 2018 г.п.      евроремонт  2 с/у и более   \n",
       "34640            0  монолитный, 2005 г.п.         хорошее  2 с/у и более   \n",
       "35483            0  монолитный, 2007 г.п.      евроремонт    совмещенный   \n",
       "36967            0  монолитный, 2005 г.п.             NaN            NaN   \n",
       "37103            0   панельный, 1973 г.п.             NaN            NaN   \n",
       "47176            0  монолитный, 2018 г.п.      евроремонт    совмещенный   \n",
       "\n",
       "          flat.balcony flat.balcony_g map.complex      flat.door  inet.type  \\\n",
       "13393           лоджия             да         NaN  металлическая       ADSL   \n",
       "23088  балкон и лоджия             да         NaN  металлическая       ADSL   \n",
       "30960              NaN            NaN       Orion  бронированная     оптика   \n",
       "31280           лоджия            NaN       Orion  бронированная       ADSL   \n",
       "31533              NaN            NaN   Нурлы Тау  металлическая       ADSL   \n",
       "33807           балкон            NaN         NaN  металлическая       ADSL   \n",
       "34286           лоджия             да       Orion  металлическая       ADSL   \n",
       "34640              NaN            NaN   Нурлы Тау  металлическая       ADSL   \n",
       "35483              NaN            NaN   Нурлы Тау  бронированная        NaN   \n",
       "36967              NaN            NaN   Нурлы Тау            NaN        NaN   \n",
       "37103              NaN            NaN         NaN            NaN        NaN   \n",
       "47176              NaN            NaN       Orion  бронированная  проводной   \n",
       "\n",
       "              live.furniture flat.flooring ceiling  \\\n",
       "13393   частично меблирована      линолеум   2.8 м   \n",
       "23088   частично меблирована           NaN     NaN   \n",
       "30960  полностью меблирована       ламинат     NaN   \n",
       "31280  полностью меблирована       ламинат     3 м   \n",
       "31533   частично меблирована       ламинат  2.85 м   \n",
       "33807                    NaN           NaN     NaN   \n",
       "34286   частично меблирована       ламинат     NaN   \n",
       "34640   частично меблирована       ламинат  2.85 м   \n",
       "35483  полностью меблирована       ламинат     NaN   \n",
       "36967                    NaN           NaN     NaN   \n",
       "37103                    NaN           NaN     NaN   \n",
       "47176  полностью меблирована       ламинат     3 м   \n",
       "\n",
       "                                                                      flat.security  \\\n",
       "13393                                                      домофон, видеонаблюдение   \n",
       "23088                                                                       домофон   \n",
       "30960  охрана, кодовый замок, сигнализация, видеонаблюдение, видеодомофон, консьерж   \n",
       "31280                                                                  видеодомофон   \n",
       "31533                                    охрана, домофон, видеонаблюдение, консьерж   \n",
       "33807                                                                       домофон   \n",
       "34286                                        домофон, видеонаблюдение, видеодомофон   \n",
       "34640                                    охрана, домофон, видеонаблюдение, консьерж   \n",
       "35483                                                     домофон, охрана, консьерж   \n",
       "36967                                                                           NaN   \n",
       "37103                                                                           NaN   \n",
       "47176                      охрана, домофон, видеонаблюдение, видеодомофон, консьерж   \n",
       "\n",
       "      has_change                    flat.phone              flat.parking  \\\n",
       "13393        NaN                     отдельный                       NaN   \n",
       "23088        NaN                     отдельный  рядом охраняемая стоянка   \n",
       "30960        NaN                     отдельный                       NaN   \n",
       "31280        NaN                     отдельный                       NaN   \n",
       "31533        NaN                     отдельный                       NaN   \n",
       "33807        NaN  есть возможность подключения                       NaN   \n",
       "34286        NaN                           NaN                   паркинг   \n",
       "34640        NaN                     отдельный                   паркинг   \n",
       "35483        NaN                           NaN                   паркинг   \n",
       "36967        NaN                           NaN                       NaN   \n",
       "37103        NaN                           NaN                       NaN   \n",
       "47176        NaN                     отдельный  рядом охраняемая стоянка   \n",
       "\n",
       "      flat.priv_dorm  \\\n",
       "13393            нет   \n",
       "23088            нет   \n",
       "30960            нет   \n",
       "31280            нет   \n",
       "31533            NaN   \n",
       "33807            нет   \n",
       "34286            нет   \n",
       "34640            нет   \n",
       "35483            NaN   \n",
       "36967            нет   \n",
       "37103            нет   \n",
       "47176            нет   \n",
       "\n",
       "                                                                                                                                                       options_text  \\\n",
       "13393                          Пластиковые окна, неугловая, улучшенная, комнаты изолированы, встроенная кухня, новая сантехника, счётчики, тихий двор, кондиционер.   \n",
       "23088                                                         Пластиковые окна, неугловая, улучшенная, комнаты изолированы, новая сантехника, счётчики, тихий двор.   \n",
       "30960                            Пластиковые окна, неугловая, улучшенная, комнаты изолированы, встроенная кухня, новая сантехника, кладовка, счётчики, кондиционер.   \n",
       "31280                Пластиковые окна, неугловая, улучшенная, комнаты изолированы, встроенная кухня, новая сантехника, кладовка, счётчики, тихий двор, кондиционер.   \n",
       "31533                                                    Пластиковые окна, кухня-студия, новая сантехника, счётчики, тихий двор, кондиционер, удобно под коммерцию.   \n",
       "33807                                                  Пластиковые окна, улучшенная, комнаты изолированы, встроенная кухня, новая сантехника, счётчики, тихий двор.   \n",
       "34286                                  Пластиковые окна, улучшенная, кухня-студия, встроенная кухня, новая сантехника, кладовка, счётчики, тихий двор, кондиционер.   \n",
       "34640                                                    Пластиковые окна, кухня-студия, новая сантехника, счётчики, тихий двор, кондиционер, удобно под коммерцию.   \n",
       "35483                                                                                                                  Кухня-студия, встроенная кухня, кондиционер.   \n",
       "36967                                                                                                                                                           NaN   \n",
       "37103                                                                                                                                                           NaN   \n",
       "47176  Пластиковые окна, неугловая, улучшенная, комнаты изолированы, кухня-студия, встроенная кухня, новая сантехника, кладовка, счётчики, тихий двор, кондиционер.   \n",
       "\n",
       "                                                                                                                                                                                                          text  \\\n",
       "13393                                                                                                                                                                                                      NaN   \n",
       "23088  ВНИМАНИЕ! 3-х комнатная квартира в одном из самых востребованных районов города. Соотношение ЦЕНА-СОСТОЯНИЕ-расположенИЕ! \\nРазвитая инфраструктура, квартира и район со всеми удобствами для жизни,...   \n",
       "30960  Эксклюзивное предложение от агентства «Demetra» -Продается шикарная квартира в жк \"ORION\", расположенный в экологически чистом и элитном районе города. Эксклюзивный дизайн интерьера выполнен в спо...   \n",
       "31280  Пластиковые окна, неугловая, улучшенная, комнаты изолированы, встроенная кухня, новая сантехника, кладовка, счётчики, кондиционер. \\nЭксклюзивное предложение от агентства «Demetra» -Продается шика...   \n",
       "31533                                                                                                                                                                                           Вид на Коктобе   \n",
       "33807  Пластиковые окна, комнаты изолированы, встроенная кухня, тихий двор. \\nКвартира с хорошим качественным ремонтом. Жилой комплекс повышенной комфортности «Алтын Орда» застройщика АО «МАК Алматыгорст...   \n",
       "34286  Отличное предложение! \\n \\nВ самом шикарном месте продается 2х комнатная квартира! \\nКвартира продается с мебелью! \\n \\nС уважением, Алтынжан. \\n \\nГруппа агентств недвижимости \"Expert Estate Serv...   \n",
       "34640  Вашему вниманию представляется 2-х комнатная квартира - просторные комнаты с удобной планировкой. \\nТеплая, светлая и очень уютная, обставленная мебелью и техникой. \\nОчень развитая инфраструктура...   \n",
       "35483  Светлая, комфортная квартира в легком классическом стиле, престижный жилой комплекс, деловой район города. Хороший вид на горы. Вся мебель на заказ, все остается - заехать и жить! Есть паркинг, га...   \n",
       "36967                                                              Очень хорошая квартира, 2 су, встроенный шкаф - купе, удобный кухонный гарнитур, паркинг. квартира продается полностью с мебелью и техникой   \n",
       "37103  Теплая, светлая квартира в хорошем состоянии с адекватной ценой. \\nДокументы в порядке. \\nСветлая, уютная. \\nЧастично мебель остается. \\nХороший двор, приветливые, улбычивые соседи. \\nИфраструктур...   \n",
       "47176  Асположение \\nСтильная новостройка появилась в одной из самых престижных частей Алматы – на пересечении проспекта Аль-Фараби и проспекта Назарбаева в Бостандыкском районе. Это буквально в пяти мин...   \n",
       "\n",
       "       total_square  kitchen_square  flat_floor  building_floor  \n",
       "13393          75.0            14.0          77               9  \n",
       "23088          70.0            15.0          99               0  \n",
       "30960          87.0            16.0          26              33  \n",
       "31280          87.0            16.0          26              33  \n",
       "31533          94.0             0.0          26              32  \n",
       "33807          70.0             0.0          70               0  \n",
       "34286          83.0             0.0          26              33  \n",
       "34640          94.0             0.0          26              32  \n",
       "35483          90.0             0.0          27              30  \n",
       "36967          95.0             0.0          27              29  \n",
       "37103          58.0             0.0          58               0  \n",
       "47176          83.0             0.0          26              33  "
      ]
     },
     "execution_count": 68,
     "metadata": {},
     "output_type": "execute_result"
    }
   ],
   "source": [
    "df[df['flat_floor'] > 25]"
   ]
  },
  {
   "cell_type": "markdown",
   "metadata": {},
   "source": [
    "Визуальный просмотр показывает, что объявления по квартирам со значением этажа > 25 содержат ошибки, дубли и их мало. Удалим записи со значением > 20."
   ]
  },
  {
   "cell_type": "code",
   "execution_count": 69,
   "metadata": {},
   "outputs": [],
   "source": [
    "df.drop(df[df.flat_floor > 20].index, inplace=True)"
   ]
  },
  {
   "cell_type": "code",
   "execution_count": 70,
   "metadata": {},
   "outputs": [
    {
     "name": "stdout",
     "output_type": "stream",
     "text": [
      "Количество: 59499, Среднее: 4.878, Стандартное отклонение: 3.644.\n",
      "Минимум: 0, 25-й перцентиль: 2.0, Медиана: 4.0, 75-й перцентиль: 7.0, Максимум: 20, IQR: 5.0.\n",
      "Количество пропусков в столбце:  0\n",
      "Границы выбросов: [-5.5, 14.5]. Количество выбросов:  1673\n"
     ]
    },
    {
     "data": {
      "image/png": "[encoded data removed]",
      "text/plain": [
       "<Figure size 432x288 with 1 Axes>"
      ]
     },
     "metadata": {
      "needs_background": "light"
     },
     "output_type": "display_data"
    }
   ],
   "source": [
    "utils.analyse_numeric(df, 'flat_floor', bns=15)"
   ]
  },
  {
   "cell_type": "markdown",
   "metadata": {},
   "source": [
    "**Можно попробовать заменить пропуски медианой, либо оставить значение нулевым (0)**"
   ]
  },
  {
   "cell_type": "code",
   "execution_count": 71,
   "metadata": {},
   "outputs": [],
   "source": [
    "df.loc[df.flat_floor == 0, 'flat_floor'] = df.flat_floor.median()"
   ]
  },
  {
   "cell_type": "markdown",
   "metadata": {},
   "source": [
    "### building_floor"
   ]
  },
  {
   "cell_type": "code",
   "execution_count": 72,
   "metadata": {
    "scrolled": true
   },
   "outputs": [
    {
     "data": {
      "text/plain": [
       "5      16138\n",
       "9       8609\n",
       "4       8293\n",
       "12      4625\n",
       "10      3283\n",
       "16      2709\n",
       "13      1828\n",
       "3       1794\n",
       "0       1633\n",
       "6       1546\n",
       "2       1146\n",
       "14      1074\n",
       "15       921\n",
       "18       907\n",
       "17       891\n",
       "7        853\n",
       "8        845\n",
       "21       682\n",
       "11       403\n",
       "20       400\n",
       "25       281\n",
       "22       246\n",
       "19       178\n",
       "1        111\n",
       "23        30\n",
       "33        29\n",
       "30        24\n",
       "29         4\n",
       "32         4\n",
       "24         2\n",
       "31         2\n",
       "100        1\n",
       "28         1\n",
       "252        1\n",
       "98         1\n",
       "121        1\n",
       "54         1\n",
       "76         1\n",
       "49         1\n",
       "Name: building_floor, dtype: int64"
      ]
     },
     "execution_count": 72,
     "metadata": {},
     "output_type": "execute_result"
    }
   ],
   "source": [
    "df['building_floor'].value_counts(dropna=False)"
   ]
  },
  {
   "cell_type": "code",
   "execution_count": 73,
   "metadata": {
    "scrolled": true
   },
   "outputs": [
    {
     "data": {
      "text/html": [
       "<div>\n",
       "<style scoped>\n",
       "    .dataframe tbody tr th:only-of-type {\n",
       "        vertical-align: middle;\n",
       "    }\n",
       "\n",
       "    .dataframe tbody tr th {\n",
       "        vertical-align: top;\n",
       "    }\n",
       "\n",
       "    .dataframe thead th {\n",
       "        text-align: right;\n",
       "    }\n",
       "</style>\n",
       "<table border=\"1\" class=\"dataframe\">\n",
       "  <thead>\n",
       "    <tr style=\"text-align: right;\">\n",
       "      <th></th>\n",
       "      <th>district</th>\n",
       "      <th>live_rooms</th>\n",
       "      <th>price</th>\n",
       "      <th>address</th>\n",
       "      <th>text_preview</th>\n",
       "      <th>owner</th>\n",
       "      <th>ad_date</th>\n",
       "      <th>paid_hot</th>\n",
       "      <th>paid_up</th>\n",
       "      <th>paid_fast</th>\n",
       "      <th>paid_urgent</th>\n",
       "      <th>paid_turbo</th>\n",
       "      <th>highlighted</th>\n",
       "      <th>flat.building</th>\n",
       "      <th>flat.renovation</th>\n",
       "      <th>flat.toilet</th>\n",
       "      <th>flat.balcony</th>\n",
       "      <th>flat.balcony_g</th>\n",
       "      <th>map.complex</th>\n",
       "      <th>flat.door</th>\n",
       "      <th>inet.type</th>\n",
       "      <th>live.furniture</th>\n",
       "      <th>flat.flooring</th>\n",
       "      <th>ceiling</th>\n",
       "      <th>flat.security</th>\n",
       "      <th>has_change</th>\n",
       "      <th>flat.phone</th>\n",
       "      <th>flat.parking</th>\n",
       "      <th>flat.priv_dorm</th>\n",
       "      <th>options_text</th>\n",
       "      <th>text</th>\n",
       "      <th>total_square</th>\n",
       "      <th>kitchen_square</th>\n",
       "      <th>flat_floor</th>\n",
       "      <th>building_floor</th>\n",
       "    </tr>\n",
       "  </thead>\n",
       "  <tbody>\n",
       "    <tr>\n",
       "      <th>7771</th>\n",
       "      <td>1</td>\n",
       "      <td>2</td>\n",
       "      <td>25500000</td>\n",
       "      <td>Алмалинский р-н, Макатаева (Пастера) — Абылай хана (Коммунистический)</td>\n",
       "      <td>кирпичный дом, 1979 г.п., состояние: среднее, жил. площадь 30 кв.м., кухня 9 кв.м., санузел раздельный, пустая, (№61387) 2 КОМТНАТНАЯ улУЧШЕННОЙ ПЛАНИРОВКИ, НЕУГЛОВАЯ КВАРТИРА. Удобная транспортна...</td>\n",
       "      <td>4</td>\n",
       "      <td>20 мар.</td>\n",
       "      <td>0</td>\n",
       "      <td>0</td>\n",
       "      <td>0</td>\n",
       "      <td>0</td>\n",
       "      <td>0</td>\n",
       "      <td>0</td>\n",
       "      <td>кирпичный, 1979 г.п.</td>\n",
       "      <td>среднее</td>\n",
       "      <td>раздельный</td>\n",
       "      <td>NaN</td>\n",
       "      <td>NaN</td>\n",
       "      <td>NaN</td>\n",
       "      <td>NaN</td>\n",
       "      <td>NaN</td>\n",
       "      <td>пустая</td>\n",
       "      <td>NaN</td>\n",
       "      <td>NaN</td>\n",
       "      <td>NaN</td>\n",
       "      <td>NaN</td>\n",
       "      <td>NaN</td>\n",
       "      <td>NaN</td>\n",
       "      <td>нет</td>\n",
       "      <td>NaN</td>\n",
       "      <td>(№61387) 2 КОМТНАТНАЯ улУЧШЕННОЙ ПЛАНИРОВКИ, НЕУГЛОВАЯ КВАРТИРА. Удобная транспортная развязка. Развитая инфраструктура - магазины, школы, банки, аптеки, детские сады, поликлиники. Квартиру можно ...</td>\n",
       "      <td>49.4</td>\n",
       "      <td>9.0</td>\n",
       "      <td>5</td>\n",
       "      <td>49</td>\n",
       "    </tr>\n",
       "    <tr>\n",
       "      <th>18172</th>\n",
       "      <td>2</td>\n",
       "      <td>2</td>\n",
       "      <td>25000000</td>\n",
       "      <td>Ауэзовский р-н, мкр Аксай-1 25</td>\n",
       "      <td>монолитный дом, 1994 г.п., состояние: хорошее, потолки 2.8м., санузел раздельный, телефон: отдельный, интернет ADSL, частично меблирована, Срочно! Продам отличную 2-х комнатную квартиру, в ХОРОШЕМ...</td>\n",
       "      <td>4</td>\n",
       "      <td>5 мар.</td>\n",
       "      <td>1</td>\n",
       "      <td>0</td>\n",
       "      <td>0</td>\n",
       "      <td>1</td>\n",
       "      <td>0</td>\n",
       "      <td>0</td>\n",
       "      <td>монолитный, 1994 г.п.</td>\n",
       "      <td>хорошее</td>\n",
       "      <td>раздельный</td>\n",
       "      <td>балкон</td>\n",
       "      <td>да</td>\n",
       "      <td>NaN</td>\n",
       "      <td>металлическая</td>\n",
       "      <td>ADSL</td>\n",
       "      <td>частично меблирована</td>\n",
       "      <td>линолеум</td>\n",
       "      <td>2.8 м</td>\n",
       "      <td>домофон, видеонаблюдение</td>\n",
       "      <td>NaN</td>\n",
       "      <td>отдельный</td>\n",
       "      <td>рядом охраняемая стоянка</td>\n",
       "      <td>нет</td>\n",
       "      <td>Пластиковые окна, улучшенная, комнаты изолированы, встроенная кухня, новая сантехника, счётчики, тихий двор.</td>\n",
       "      <td>Срочно! Продам отличную 2-х комнатную квартиру, в ХОРОШЕМ СОСТОЯНИИ. \\nОтличное расположение, рядом всё в шаговой доступности.</td>\n",
       "      <td>57.0</td>\n",
       "      <td>10.0</td>\n",
       "      <td>7</td>\n",
       "      <td>121</td>\n",
       "    </tr>\n",
       "    <tr>\n",
       "      <th>30350</th>\n",
       "      <td>3</td>\n",
       "      <td>2</td>\n",
       "      <td>31000000</td>\n",
       "      <td>Бостандыкский р-н, Каблукова 264</td>\n",
       "      <td>жил. комплекс Mega Tower Almaty, монолитный дом, 2016 г.п., состояние: хорошее, потолки 2.8м., санузел совмещенный, телефон: отдельный, интернет ADSL, полностью меблирована</td>\n",
       "      <td>4</td>\n",
       "      <td>5 мар.</td>\n",
       "      <td>0</td>\n",
       "      <td>0</td>\n",
       "      <td>0</td>\n",
       "      <td>0</td>\n",
       "      <td>0</td>\n",
       "      <td>0</td>\n",
       "      <td>монолитный, 2016 г.п.</td>\n",
       "      <td>хорошее</td>\n",
       "      <td>совмещенный</td>\n",
       "      <td>балкон</td>\n",
       "      <td>да</td>\n",
       "      <td>Mega Tower Almaty</td>\n",
       "      <td>металлическая</td>\n",
       "      <td>ADSL</td>\n",
       "      <td>полностью меблирована</td>\n",
       "      <td>ламинат</td>\n",
       "      <td>2.8 м</td>\n",
       "      <td>охрана, домофон, сигнализация, видеонаблюдение</td>\n",
       "      <td>NaN</td>\n",
       "      <td>отдельный</td>\n",
       "      <td>паркинг</td>\n",
       "      <td>нет</td>\n",
       "      <td>Пластиковые окна, неугловая, кухня-студия, встроенная кухня, новая сантехника, кладовка, счётчики, тихий двор, кондиционер.</td>\n",
       "      <td>NaN</td>\n",
       "      <td>50.0</td>\n",
       "      <td>0.0</td>\n",
       "      <td>7</td>\n",
       "      <td>252</td>\n",
       "    </tr>\n",
       "    <tr>\n",
       "      <th>33731</th>\n",
       "      <td>3</td>\n",
       "      <td>2</td>\n",
       "      <td>35800000</td>\n",
       "      <td>Бостандыкский р-н, Жамбыла</td>\n",
       "      <td>жил. комплекс Алма-Ата, монолитный дом, 2015 г.п., состояние: хорошее, потолки 3м., санузел совмещенный, телефон: отдельный, интернет ADSL, полностью меблирована, Отличная квартира по хорошей цене...</td>\n",
       "      <td>4</td>\n",
       "      <td>15 мар.</td>\n",
       "      <td>0</td>\n",
       "      <td>0</td>\n",
       "      <td>0</td>\n",
       "      <td>0</td>\n",
       "      <td>0</td>\n",
       "      <td>0</td>\n",
       "      <td>монолитный, 2015 г.п.</td>\n",
       "      <td>хорошее</td>\n",
       "      <td>совмещенный</td>\n",
       "      <td>NaN</td>\n",
       "      <td>NaN</td>\n",
       "      <td>Алма-Ата</td>\n",
       "      <td>бронированная</td>\n",
       "      <td>ADSL</td>\n",
       "      <td>полностью меблирована</td>\n",
       "      <td>NaN</td>\n",
       "      <td>3 м</td>\n",
       "      <td>домофон</td>\n",
       "      <td>NaN</td>\n",
       "      <td>отдельный</td>\n",
       "      <td>паркинг</td>\n",
       "      <td>нет</td>\n",
       "      <td>Пластиковые окна, кухня-студия, встроенная кухня, новая сантехника, тихий двор.</td>\n",
       "      <td>Отличная квартира по хорошей цене в ЖК Алма-Ата! Развитая инфраструктура, рядом школы, детсады, остановки, станция метро, ТРЦ Глобус, и т.д. \\nОтличный вариант на сдачу или для семейной пары. \\nПо...</td>\n",
       "      <td>62.0</td>\n",
       "      <td>0.0</td>\n",
       "      <td>5</td>\n",
       "      <td>98</td>\n",
       "    </tr>\n",
       "    <tr>\n",
       "      <th>37709</th>\n",
       "      <td>3</td>\n",
       "      <td>3</td>\n",
       "      <td>50100000</td>\n",
       "      <td>Бостандыкский р-н, Навои</td>\n",
       "      <td>жил. комплекс Тау Самал на Навои, монолитный дом, 2011 г.п., состояние: хорошее, жил. площадь 55 кв.м., кухня 19 кв.м., потолки 3м., санузел раздельный, частично меблирована, От специалиста компан...</td>\n",
       "      <td>4</td>\n",
       "      <td>2 мар.</td>\n",
       "      <td>0</td>\n",
       "      <td>0</td>\n",
       "      <td>0</td>\n",
       "      <td>0</td>\n",
       "      <td>0</td>\n",
       "      <td>0</td>\n",
       "      <td>монолитный, 2011 г.п.</td>\n",
       "      <td>хорошее</td>\n",
       "      <td>раздельный</td>\n",
       "      <td>NaN</td>\n",
       "      <td>NaN</td>\n",
       "      <td>Тау Самал на Навои</td>\n",
       "      <td>NaN</td>\n",
       "      <td>NaN</td>\n",
       "      <td>частично меблирована</td>\n",
       "      <td>NaN</td>\n",
       "      <td>3 м</td>\n",
       "      <td>домофон</td>\n",
       "      <td>NaN</td>\n",
       "      <td>NaN</td>\n",
       "      <td>паркинг</td>\n",
       "      <td>нет</td>\n",
       "      <td>Пластиковые окна, неугловая, улучшенная, встроенная кухня, новая сантехника, счётчики.</td>\n",
       "      <td>От специалиста компании \"ATRIUM\" продается квартира в уютном доме. Дом каркасно-монолитный, 2011 года, состояние отличное. Квартира не залоговая, улучшенная, комнаты изолированные, большой благоус...</td>\n",
       "      <td>103.0</td>\n",
       "      <td>19.0</td>\n",
       "      <td>3</td>\n",
       "      <td>100</td>\n",
       "    </tr>\n",
       "    <tr>\n",
       "      <th>39707</th>\n",
       "      <td>3</td>\n",
       "      <td>3</td>\n",
       "      <td>75000000</td>\n",
       "      <td>Бостандыкский р-н, проспект Гагарина</td>\n",
       "      <td>монолитный дом, 2018 г.п., состояние: евроремонт, санузел 2 с/у и более, интернет проводной, полностью меблирована</td>\n",
       "      <td>4</td>\n",
       "      <td>19 мар.</td>\n",
       "      <td>0</td>\n",
       "      <td>0</td>\n",
       "      <td>0</td>\n",
       "      <td>0</td>\n",
       "      <td>0</td>\n",
       "      <td>0</td>\n",
       "      <td>монолитный, 2018 г.п.</td>\n",
       "      <td>евроремонт</td>\n",
       "      <td>2 с/у и более</td>\n",
       "      <td>NaN</td>\n",
       "      <td>NaN</td>\n",
       "      <td>NaN</td>\n",
       "      <td>металлическая</td>\n",
       "      <td>проводной</td>\n",
       "      <td>полностью меблирована</td>\n",
       "      <td>ламинат</td>\n",
       "      <td>NaN</td>\n",
       "      <td>охрана, домофон, видеонаблюдение</td>\n",
       "      <td>NaN</td>\n",
       "      <td>NaN</td>\n",
       "      <td>NaN</td>\n",
       "      <td>нет</td>\n",
       "      <td>Пластиковые окна, неугловая, улучшенная, комнаты изолированы, кухня-студия, встроенная кухня, новая сантехника, счётчики.</td>\n",
       "      <td>NaN</td>\n",
       "      <td>108.0</td>\n",
       "      <td>0.0</td>\n",
       "      <td>7</td>\n",
       "      <td>76</td>\n",
       "    </tr>\n",
       "    <tr>\n",
       "      <th>45398</th>\n",
       "      <td>3</td>\n",
       "      <td>4</td>\n",
       "      <td>42500000</td>\n",
       "      <td>Бостандыкский р-н, Розыбакиева 153А</td>\n",
       "      <td>кирпичный дом, 1974 г.п., состояние: хорошее, санузел раздельный, телефон: отдельный, интернет ADSL, полностью меблирована, Балкон довольно просторный Дом после капитального ремонта Квартира очень...</td>\n",
       "      <td>4</td>\n",
       "      <td>22 мар.</td>\n",
       "      <td>0</td>\n",
       "      <td>0</td>\n",
       "      <td>0</td>\n",
       "      <td>0</td>\n",
       "      <td>0</td>\n",
       "      <td>0</td>\n",
       "      <td>кирпичный, 1974 г.п.</td>\n",
       "      <td>хорошее</td>\n",
       "      <td>раздельный</td>\n",
       "      <td>балкон и лоджия</td>\n",
       "      <td>NaN</td>\n",
       "      <td>NaN</td>\n",
       "      <td>металлическая</td>\n",
       "      <td>ADSL</td>\n",
       "      <td>полностью меблирована</td>\n",
       "      <td>линолеум</td>\n",
       "      <td>NaN</td>\n",
       "      <td>домофон</td>\n",
       "      <td>NaN</td>\n",
       "      <td>отдельный</td>\n",
       "      <td>NaN</td>\n",
       "      <td>нет</td>\n",
       "      <td>Пластиковые окна, неугловая, улучшенная, комнаты изолированы, кухня-студия, встроенная кухня, новая сантехника, кладовка, счётчики, тихий двор.</td>\n",
       "      <td>Балкон довольно просторный Дом после капитального ремонта Квартира очень просторная, светлая. Индивидуальная планировка квартиры полностью узаконена. Имеются все соответствующие документы. Дом пов...</td>\n",
       "      <td>85.0</td>\n",
       "      <td>0.0</td>\n",
       "      <td>4</td>\n",
       "      <td>54</td>\n",
       "    </tr>\n",
       "  </tbody>\n",
       "</table>\n",
       "</div>"
      ],
      "text/plain": [
       "       district  live_rooms     price  \\\n",
       "7771          1           2  25500000   \n",
       "18172         2           2  25000000   \n",
       "30350         3           2  31000000   \n",
       "33731         3           2  35800000   \n",
       "37709         3           3  50100000   \n",
       "39707         3           3  75000000   \n",
       "45398         3           4  42500000   \n",
       "\n",
       "                                                                     address  \\\n",
       "7771   Алмалинский р-н, Макатаева (Пастера) — Абылай хана (Коммунистический)   \n",
       "18172                                         Ауэзовский р-н, мкр Аксай-1 25   \n",
       "30350                                       Бостандыкский р-н, Каблукова 264   \n",
       "33731                                             Бостандыкский р-н, Жамбыла   \n",
       "37709                                               Бостандыкский р-н, Навои   \n",
       "39707                                   Бостандыкский р-н, проспект Гагарина   \n",
       "45398                                    Бостандыкский р-н, Розыбакиева 153А   \n",
       "\n",
       "                                                                                                                                                                                                  text_preview  \\\n",
       "7771   кирпичный дом, 1979 г.п., состояние: среднее, жил. площадь 30 кв.м., кухня 9 кв.м., санузел раздельный, пустая, (№61387) 2 КОМТНАТНАЯ улУЧШЕННОЙ ПЛАНИРОВКИ, НЕУГЛОВАЯ КВАРТИРА. Удобная транспортна...   \n",
       "18172  монолитный дом, 1994 г.п., состояние: хорошее, потолки 2.8м., санузел раздельный, телефон: отдельный, интернет ADSL, частично меблирована, Срочно! Продам отличную 2-х комнатную квартиру, в ХОРОШЕМ...   \n",
       "30350                             жил. комплекс Mega Tower Almaty, монолитный дом, 2016 г.п., состояние: хорошее, потолки 2.8м., санузел совмещенный, телефон: отдельный, интернет ADSL, полностью меблирована   \n",
       "33731  жил. комплекс Алма-Ата, монолитный дом, 2015 г.п., состояние: хорошее, потолки 3м., санузел совмещенный, телефон: отдельный, интернет ADSL, полностью меблирована, Отличная квартира по хорошей цене...   \n",
       "37709  жил. комплекс Тау Самал на Навои, монолитный дом, 2011 г.п., состояние: хорошее, жил. площадь 55 кв.м., кухня 19 кв.м., потолки 3м., санузел раздельный, частично меблирована, От специалиста компан...   \n",
       "39707                                                                                       монолитный дом, 2018 г.п., состояние: евроремонт, санузел 2 с/у и более, интернет проводной, полностью меблирована   \n",
       "45398  кирпичный дом, 1974 г.п., состояние: хорошее, санузел раздельный, телефон: отдельный, интернет ADSL, полностью меблирована, Балкон довольно просторный Дом после капитального ремонта Квартира очень...   \n",
       "\n",
       "       owner  ad_date  paid_hot  paid_up  paid_fast  paid_urgent  paid_turbo  \\\n",
       "7771       4  20 мар.         0        0          0            0           0   \n",
       "18172      4   5 мар.         1        0          0            1           0   \n",
       "30350      4   5 мар.         0        0          0            0           0   \n",
       "33731      4  15 мар.         0        0          0            0           0   \n",
       "37709      4   2 мар.         0        0          0            0           0   \n",
       "39707      4  19 мар.         0        0          0            0           0   \n",
       "45398      4  22 мар.         0        0          0            0           0   \n",
       "\n",
       "       highlighted          flat.building flat.renovation    flat.toilet  \\\n",
       "7771             0   кирпичный, 1979 г.п.         среднее     раздельный   \n",
       "18172            0  монолитный, 1994 г.п.         хорошее     раздельный   \n",
       "30350            0  монолитный, 2016 г.п.         хорошее    совмещенный   \n",
       "33731            0  монолитный, 2015 г.п.         хорошее    совмещенный   \n",
       "37709            0  монолитный, 2011 г.п.         хорошее     раздельный   \n",
       "39707            0  монолитный, 2018 г.п.      евроремонт  2 с/у и более   \n",
       "45398            0   кирпичный, 1974 г.п.         хорошее     раздельный   \n",
       "\n",
       "          flat.balcony flat.balcony_g         map.complex      flat.door  \\\n",
       "7771               NaN            NaN                 NaN            NaN   \n",
       "18172           балкон             да                 NaN  металлическая   \n",
       "30350           балкон             да   Mega Tower Almaty  металлическая   \n",
       "33731              NaN            NaN            Алма-Ата  бронированная   \n",
       "37709              NaN            NaN  Тау Самал на Навои            NaN   \n",
       "39707              NaN            NaN                 NaN  металлическая   \n",
       "45398  балкон и лоджия            NaN                 NaN  металлическая   \n",
       "\n",
       "       inet.type         live.furniture flat.flooring ceiling  \\\n",
       "7771         NaN                 пустая           NaN     NaN   \n",
       "18172       ADSL   частично меблирована      линолеум   2.8 м   \n",
       "30350       ADSL  полностью меблирована       ламинат   2.8 м   \n",
       "33731       ADSL  полностью меблирована           NaN     3 м   \n",
       "37709        NaN   частично меблирована           NaN     3 м   \n",
       "39707  проводной  полностью меблирована       ламинат     NaN   \n",
       "45398       ADSL  полностью меблирована      линолеум     NaN   \n",
       "\n",
       "                                        flat.security has_change flat.phone  \\\n",
       "7771                                              NaN        NaN        NaN   \n",
       "18172                        домофон, видеонаблюдение        NaN  отдельный   \n",
       "30350  охрана, домофон, сигнализация, видеонаблюдение        NaN  отдельный   \n",
       "33731                                         домофон        NaN  отдельный   \n",
       "37709                                         домофон        NaN        NaN   \n",
       "39707                охрана, домофон, видеонаблюдение        NaN        NaN   \n",
       "45398                                         домофон        NaN  отдельный   \n",
       "\n",
       "                   flat.parking flat.priv_dorm  \\\n",
       "7771                        NaN            нет   \n",
       "18172  рядом охраняемая стоянка            нет   \n",
       "30350                   паркинг            нет   \n",
       "33731                   паркинг            нет   \n",
       "37709                   паркинг            нет   \n",
       "39707                       NaN            нет   \n",
       "45398                       NaN            нет   \n",
       "\n",
       "                                                                                                                                          options_text  \\\n",
       "7771                                                                                                                                               NaN   \n",
       "18172                                     Пластиковые окна, улучшенная, комнаты изолированы, встроенная кухня, новая сантехника, счётчики, тихий двор.   \n",
       "30350                      Пластиковые окна, неугловая, кухня-студия, встроенная кухня, новая сантехника, кладовка, счётчики, тихий двор, кондиционер.   \n",
       "33731                                                                  Пластиковые окна, кухня-студия, встроенная кухня, новая сантехника, тихий двор.   \n",
       "37709                                                           Пластиковые окна, неугловая, улучшенная, встроенная кухня, новая сантехника, счётчики.   \n",
       "39707                        Пластиковые окна, неугловая, улучшенная, комнаты изолированы, кухня-студия, встроенная кухня, новая сантехника, счётчики.   \n",
       "45398  Пластиковые окна, неугловая, улучшенная, комнаты изолированы, кухня-студия, встроенная кухня, новая сантехника, кладовка, счётчики, тихий двор.   \n",
       "\n",
       "                                                                                                                                                                                                          text  \\\n",
       "7771   (№61387) 2 КОМТНАТНАЯ улУЧШЕННОЙ ПЛАНИРОВКИ, НЕУГЛОВАЯ КВАРТИРА. Удобная транспортная развязка. Развитая инфраструктура - магазины, школы, банки, аптеки, детские сады, поликлиники. Квартиру можно ...   \n",
       "18172                                                                           Срочно! Продам отличную 2-х комнатную квартиру, в ХОРОШЕМ СОСТОЯНИИ. \\nОтличное расположение, рядом всё в шаговой доступности.   \n",
       "30350                                                                                                                                                                                                      NaN   \n",
       "33731  Отличная квартира по хорошей цене в ЖК Алма-Ата! Развитая инфраструктура, рядом школы, детсады, остановки, станция метро, ТРЦ Глобус, и т.д. \\nОтличный вариант на сдачу или для семейной пары. \\nПо...   \n",
       "37709  От специалиста компании \"ATRIUM\" продается квартира в уютном доме. Дом каркасно-монолитный, 2011 года, состояние отличное. Квартира не залоговая, улучшенная, комнаты изолированные, большой благоус...   \n",
       "39707                                                                                                                                                                                                      NaN   \n",
       "45398  Балкон довольно просторный Дом после капитального ремонта Квартира очень просторная, светлая. Индивидуальная планировка квартиры полностью узаконена. Имеются все соответствующие документы. Дом пов...   \n",
       "\n",
       "       total_square  kitchen_square  flat_floor  building_floor  \n",
       "7771           49.4             9.0           5              49  \n",
       "18172          57.0            10.0           7             121  \n",
       "30350          50.0             0.0           7             252  \n",
       "33731          62.0             0.0           5              98  \n",
       "37709         103.0            19.0           3             100  \n",
       "39707         108.0             0.0           7              76  \n",
       "45398          85.0             0.0           4              54  "
      ]
     },
     "execution_count": 73,
     "metadata": {},
     "output_type": "execute_result"
    }
   ],
   "source": [
    "df[df['building_floor'] > 33]"
   ]
  },
  {
   "cell_type": "markdown",
   "metadata": {},
   "source": [
    "Удалим записи со значением > 33"
   ]
  },
  {
   "cell_type": "code",
   "execution_count": 74,
   "metadata": {},
   "outputs": [],
   "source": [
    "df.drop(df[df.building_floor > 33].index, inplace=True)"
   ]
  },
  {
   "cell_type": "markdown",
   "metadata": {},
   "source": [
    "**Можно попробовать заменить пропуски медианой, либо оставить значение нулевым (0)**"
   ]
  },
  {
   "cell_type": "code",
   "execution_count": 75,
   "metadata": {},
   "outputs": [],
   "source": [
    "df.loc[df.building_floor == 0, 'building_floor'] = df.building_floor.median()"
   ]
  },
  {
   "cell_type": "code",
   "execution_count": 76,
   "metadata": {
    "scrolled": true
   },
   "outputs": [
    {
     "name": "stdout",
     "output_type": "stream",
     "text": [
      "Количество: 59492, Среднее: 8.270, Стандартное отклонение: 4.693.\n",
      "Минимум: 1, 25-й перцентиль: 5.0, Медиана: 6.0, 75-й перцентиль: 11.0, Максимум: 33, IQR: 6.0.\n",
      "Количество пропусков в столбце:  0\n",
      "Границы выбросов: [-4.0, 20.0]. Количество выбросов:  1305\n"
     ]
    },
    {
     "data": {
      "image/png": "[encoded data removed]",
      "text/plain": [
       "<Figure size 432x288 with 1 Axes>"
      ]
     },
     "metadata": {
      "needs_background": "light"
     },
     "output_type": "display_data"
    }
   ],
   "source": [
    "utils.analyse_numeric(df, 'building_floor')"
   ]
  },
  {
   "cell_type": "code",
   "execution_count": 77,
   "metadata": {
    "scrolled": true
   },
   "outputs": [
    {
     "data": {
      "text/html": [
       "<div>\n",
       "<style scoped>\n",
       "    .dataframe tbody tr th:only-of-type {\n",
       "        vertical-align: middle;\n",
       "    }\n",
       "\n",
       "    .dataframe tbody tr th {\n",
       "        vertical-align: top;\n",
       "    }\n",
       "\n",
       "    .dataframe thead th {\n",
       "        text-align: right;\n",
       "    }\n",
       "</style>\n",
       "<table border=\"1\" class=\"dataframe\">\n",
       "  <thead>\n",
       "    <tr style=\"text-align: right;\">\n",
       "      <th></th>\n",
       "      <th>district</th>\n",
       "      <th>live_rooms</th>\n",
       "      <th>price</th>\n",
       "      <th>address</th>\n",
       "      <th>text_preview</th>\n",
       "      <th>owner</th>\n",
       "      <th>ad_date</th>\n",
       "      <th>paid_hot</th>\n",
       "      <th>paid_up</th>\n",
       "      <th>paid_fast</th>\n",
       "      <th>paid_urgent</th>\n",
       "      <th>paid_turbo</th>\n",
       "      <th>highlighted</th>\n",
       "      <th>flat.building</th>\n",
       "      <th>flat.renovation</th>\n",
       "      <th>flat.toilet</th>\n",
       "      <th>flat.balcony</th>\n",
       "      <th>flat.balcony_g</th>\n",
       "      <th>map.complex</th>\n",
       "      <th>flat.door</th>\n",
       "      <th>inet.type</th>\n",
       "      <th>live.furniture</th>\n",
       "      <th>flat.flooring</th>\n",
       "      <th>ceiling</th>\n",
       "      <th>flat.security</th>\n",
       "      <th>has_change</th>\n",
       "      <th>flat.phone</th>\n",
       "      <th>flat.parking</th>\n",
       "      <th>flat.priv_dorm</th>\n",
       "      <th>options_text</th>\n",
       "      <th>text</th>\n",
       "      <th>total_square</th>\n",
       "      <th>kitchen_square</th>\n",
       "      <th>flat_floor</th>\n",
       "      <th>building_floor</th>\n",
       "    </tr>\n",
       "  </thead>\n",
       "  <tbody>\n",
       "    <tr>\n",
       "      <th>58317</th>\n",
       "      <td>6</td>\n",
       "      <td>3</td>\n",
       "      <td>21400000</td>\n",
       "      <td>Турксибский р-н, мкр Жулдыз-1</td>\n",
       "      <td>панельный дом, 1983 г.п., состояние: хорошее, потолки 2.8м., санузел раздельный, телефон: отдельный, интернет оптика, частично меблирована, Продам светлую, уютную, хорошую 3-х комнатную квартиру в...</td>\n",
       "      <td>6</td>\n",
       "      <td>22 мар.</td>\n",
       "      <td>0</td>\n",
       "      <td>0</td>\n",
       "      <td>0</td>\n",
       "      <td>0</td>\n",
       "      <td>0</td>\n",
       "      <td>0</td>\n",
       "      <td>панельный, 1983 г.п.</td>\n",
       "      <td>хорошее</td>\n",
       "      <td>раздельный</td>\n",
       "      <td>балкон и лоджия</td>\n",
       "      <td>да</td>\n",
       "      <td>NaN</td>\n",
       "      <td>металлическая</td>\n",
       "      <td>оптика</td>\n",
       "      <td>частично меблирована</td>\n",
       "      <td>линолеум</td>\n",
       "      <td>2.8 м</td>\n",
       "      <td>кодовый замок</td>\n",
       "      <td>NaN</td>\n",
       "      <td>отдельный</td>\n",
       "      <td>рядом охраняемая стоянка</td>\n",
       "      <td>нет</td>\n",
       "      <td>Пластиковые окна, неугловая, улучшенная, комнаты изолированы, встроенная кухня, счётчики, тихий двор, кондиционер.</td>\n",
       "      <td>Продам светлую, уютную, хорошую 3-х комнатную квартиру в м-н \"Жулдыз-1\". НЕ УГЛОВАЯ! НЕ ЗАЛОГОВАЯ! ВТОРОЙ ЭТАЖ. Зимой тепло! Двери деревянные, мебель из дерева белорусская. Балконы остеклены с уте...</td>\n",
       "      <td>67.6</td>\n",
       "      <td>12.0</td>\n",
       "      <td>2</td>\n",
       "      <td>3</td>\n",
       "    </tr>\n",
       "  </tbody>\n",
       "</table>\n",
       "</div>"
      ],
      "text/plain": [
       "       district  live_rooms     price                        address  \\\n",
       "58317         6           3  21400000  Турксибский р-н, мкр Жулдыз-1   \n",
       "\n",
       "                                                                                                                                                                                                  text_preview  \\\n",
       "58317  панельный дом, 1983 г.п., состояние: хорошее, потолки 2.8м., санузел раздельный, телефон: отдельный, интернет оптика, частично меблирована, Продам светлую, уютную, хорошую 3-х комнатную квартиру в...   \n",
       "\n",
       "       owner  ad_date  paid_hot  paid_up  paid_fast  paid_urgent  paid_turbo  \\\n",
       "58317      6  22 мар.         0        0          0            0           0   \n",
       "\n",
       "       highlighted         flat.building flat.renovation flat.toilet  \\\n",
       "58317            0  панельный, 1983 г.п.         хорошее  раздельный   \n",
       "\n",
       "          flat.balcony flat.balcony_g map.complex      flat.door inet.type  \\\n",
       "58317  балкон и лоджия             да         NaN  металлическая    оптика   \n",
       "\n",
       "             live.furniture flat.flooring ceiling  flat.security has_change  \\\n",
       "58317  частично меблирована      линолеум   2.8 м  кодовый замок        NaN   \n",
       "\n",
       "      flat.phone              flat.parking flat.priv_dorm  \\\n",
       "58317  отдельный  рядом охраняемая стоянка            нет   \n",
       "\n",
       "                                                                                                             options_text  \\\n",
       "58317  Пластиковые окна, неугловая, улучшенная, комнаты изолированы, встроенная кухня, счётчики, тихий двор, кондиционер.   \n",
       "\n",
       "                                                                                                                                                                                                          text  \\\n",
       "58317  Продам светлую, уютную, хорошую 3-х комнатную квартиру в м-н \"Жулдыз-1\". НЕ УГЛОВАЯ! НЕ ЗАЛОГОВАЯ! ВТОРОЙ ЭТАЖ. Зимой тепло! Двери деревянные, мебель из дерева белорусская. Балконы остеклены с уте...   \n",
       "\n",
       "       total_square  kitchen_square  flat_floor  building_floor  \n",
       "58317          67.6            12.0           2               3  "
      ]
     },
     "execution_count": 77,
     "metadata": {},
     "output_type": "execute_result"
    }
   ],
   "source": [
    "df.sample(1)"
   ]
  },
  {
   "cell_type": "markdown",
   "metadata": {},
   "source": [
    "### price - целевая переменная"
   ]
  },
  {
   "cell_type": "code",
   "execution_count": 78,
   "metadata": {
    "scrolled": true
   },
   "outputs": [
    {
     "name": "stdout",
     "output_type": "stream",
     "text": [
      "Количество: 59492, Среднее: 32996811.066, Стандартное отклонение: 21842496.452.\n",
      "Минимум: 2500000, 25-й перцентиль: 20000000.0, Медиана: 26500000.0, 75-й перцентиль: 38500000.0, Максимум: 555000000, IQR: 18500000.0.\n",
      "Количество пропусков в столбце:  0\n",
      "Границы выбросов: [-7750000.0, 66250000.0]. Количество выбросов:  4143\n"
     ]
    },
    {
     "data": {
      "image/png": "[encoded data removed]",
      "text/plain": [
       "<Figure size 432x288 with 1 Axes>"
      ]
     },
     "metadata": {
      "needs_background": "light"
     },
     "output_type": "display_data"
    }
   ],
   "source": [
    "utils.analyse_numeric(df, 'price')"
   ]
  },
  {
   "cell_type": "markdown",
   "metadata": {},
   "source": [
    "Квартиры ценой > 200000000 (200 млн. тенге) будем считать аномалиями. Это значение нужно подбирать"
   ]
  },
  {
   "cell_type": "code",
   "execution_count": 79,
   "metadata": {},
   "outputs": [],
   "source": [
    "df.drop(df[df.price > 200000000].index, inplace=True)"
   ]
  },
  {
   "cell_type": "code",
   "execution_count": 80,
   "metadata": {
    "scrolled": true
   },
   "outputs": [
    {
     "name": "stdout",
     "output_type": "stream",
     "text": [
      "Количество: 59456, Среднее: 32860125.841, Стандартное отклонение: 21046296.375.\n",
      "Минимум: 2500000, 25-й перцентиль: 20000000.0, Медиана: 26500000.0, 75-й перцентиль: 38500000.0, Максимум: 200000000, IQR: 18500000.0.\n",
      "Количество пропусков в столбце:  0\n",
      "Границы выбросов: [-7750000.0, 66250000.0]. Количество выбросов:  4107\n"
     ]
    },
    {
     "data": {
      "image/png": "[encoded data removed]",
      "text/plain": [
       "<Figure size 432x288 with 1 Axes>"
      ]
     },
     "metadata": {
      "needs_background": "light"
     },
     "output_type": "display_data"
    }
   ],
   "source": [
    "utils.analyse_numeric(df, 'price')"
   ]
  },
  {
   "cell_type": "markdown",
   "metadata": {},
   "source": [
    "Порядок значений цены можно понизить, поделив все на 1000000.0"
   ]
  },
  {
   "cell_type": "code",
   "execution_count": 81,
   "metadata": {},
   "outputs": [],
   "source": [
    "df.price = df.price / 1000000.0"
   ]
  },
  {
   "cell_type": "code",
   "execution_count": 82,
   "metadata": {},
   "outputs": [
    {
     "name": "stdout",
     "output_type": "stream",
     "text": [
      "Количество: 59456, Среднее: 32.860, Стандартное отклонение: 21.046.\n",
      "Минимум: 2.5, 25-й перцентиль: 20.0, Медиана: 26.5, 75-й перцентиль: 38.5, Максимум: 200.0, IQR: 18.5.\n",
      "Количество пропусков в столбце:  0\n",
      "Границы выбросов: [-7.75, 66.25]. Количество выбросов:  4107\n"
     ]
    },
    {
     "data": {
      "image/png": "[encoded data removed]",
      "text/plain": [
       "<Figure size 432x288 with 1 Axes>"
      ]
     },
     "metadata": {
      "needs_background": "light"
     },
     "output_type": "display_data"
    }
   ],
   "source": [
    "#plt.rcParams['figure.figsize'] = (10,7)\n",
    "utils.analyse_numeric(df, 'price')"
   ]
  },
  {
   "cell_type": "markdown",
   "metadata": {},
   "source": [
    "### ad_date - дата подачи объявления.\n",
    "Возможно, нам пригодится признак days - количество дней между максимальной датой и датой подачи объявления, если, к примеру, квартиры со временем дорожают."
   ]
  },
  {
   "cell_type": "code",
   "execution_count": 83,
   "metadata": {},
   "outputs": [
    {
     "data": {
      "text/plain": [
       "26 мар.    5345\n",
       "25 мар.    5124\n",
       "27 мар.    4445\n",
       "24 мар.    4436\n",
       "23 мар.    4201\n",
       "Name: ad_date, dtype: int64"
      ]
     },
     "execution_count": 83,
     "metadata": {},
     "output_type": "execute_result"
    }
   ],
   "source": [
    "df.ad_date.value_counts()[:5]"
   ]
  },
  {
   "cell_type": "code",
   "execution_count": 84,
   "metadata": {},
   "outputs": [
    {
     "data": {
      "text/plain": [
       "('Russian_Russia', '1251')"
      ]
     },
     "execution_count": 84,
     "metadata": {},
     "output_type": "execute_result"
    }
   ],
   "source": [
    "loca = locale.getlocale()\n",
    "loca"
   ]
  },
  {
   "cell_type": "code",
   "execution_count": 85,
   "metadata": {},
   "outputs": [
    {
     "data": {
      "text/plain": [
       "'ru_RU'"
      ]
     },
     "execution_count": 85,
     "metadata": {},
     "output_type": "execute_result"
    }
   ],
   "source": [
    "locale.setlocale(locale.LC_ALL, 'ru_RU')"
   ]
  },
  {
   "cell_type": "code",
   "execution_count": 86,
   "metadata": {},
   "outputs": [],
   "source": [
    "df.ad_date = df.ad_date.apply(lambda x: x.replace('.', ' 2021'))"
   ]
  },
  {
   "cell_type": "code",
   "execution_count": 87,
   "metadata": {},
   "outputs": [],
   "source": [
    "df.ad_date = df.ad_date.apply(lambda x: x.replace('февр', 'фев'))"
   ]
  },
  {
   "cell_type": "code",
   "execution_count": 88,
   "metadata": {},
   "outputs": [
    {
     "data": {
      "text/plain": [
       "26 мар 2021    5345\n",
       "9 мар 2021     2303\n",
       "18 мар 2021    1789\n",
       "11 мар 2021    1533\n",
       "14 мар 2021     958\n",
       "Name: ad_date, dtype: int64"
      ]
     },
     "execution_count": 88,
     "metadata": {},
     "output_type": "execute_result"
    }
   ],
   "source": [
    "df.ad_date.value_counts()[::6]"
   ]
  },
  {
   "cell_type": "code",
   "execution_count": 89,
   "metadata": {},
   "outputs": [],
   "source": [
    "df.ad_date = pd.to_datetime(df.ad_date, format = '%d %b %Y')"
   ]
  },
  {
   "cell_type": "code",
   "execution_count": 90,
   "metadata": {},
   "outputs": [
    {
     "data": {
      "text/plain": [
       "'Russian_Russia.1251'"
      ]
     },
     "execution_count": 90,
     "metadata": {},
     "output_type": "execute_result"
    }
   ],
   "source": [
    "locale.setlocale(locale.LC_ALL, loca)"
   ]
  },
  {
   "cell_type": "code",
   "execution_count": 91,
   "metadata": {},
   "outputs": [
    {
     "data": {
      "text/plain": [
       "(Timestamp('2021-02-28 00:00:00'), Timestamp('2021-03-29 00:00:00'))"
      ]
     },
     "execution_count": 91,
     "metadata": {},
     "output_type": "execute_result"
    }
   ],
   "source": [
    "min(df.ad_date), max(df.ad_date)"
   ]
  },
  {
   "cell_type": "code",
   "execution_count": 92,
   "metadata": {},
   "outputs": [],
   "source": [
    "max_date = max(df.ad_date)\n",
    "df['days'] = df.ad_date.apply(lambda x: (max_date - x).days + 1)"
   ]
  },
  {
   "cell_type": "code",
   "execution_count": 93,
   "metadata": {},
   "outputs": [
    {
     "data": {
      "text/plain": [
       "<AxesSubplot:>"
      ]
     },
     "execution_count": 93,
     "metadata": {},
     "output_type": "execute_result"
    },
    {
     "data": {
      "image/png": "[encoded data removed]",
      "text/plain": [
       "<Figure size 432x288 with 1 Axes>"
      ]
     },
     "metadata": {
      "needs_background": "light"
     },
     "output_type": "display_data"
    }
   ],
   "source": [
    "df.days.hist()"
   ]
  },
  {
   "cell_type": "code",
   "execution_count": 94,
   "metadata": {},
   "outputs": [],
   "source": [
    "df.drop(['ad_date'], axis=1, inplace=True)"
   ]
  },
  {
   "cell_type": "code",
   "execution_count": 95,
   "metadata": {},
   "outputs": [
    {
     "data": {
      "text/plain": [
       "59456"
      ]
     },
     "execution_count": 95,
     "metadata": {},
     "output_type": "execute_result"
    }
   ],
   "source": [
    "len(df)"
   ]
  },
  {
   "cell_type": "markdown",
   "metadata": {},
   "source": [
    "### flat.building"
   ]
  },
  {
   "cell_type": "code",
   "execution_count": 96,
   "metadata": {},
   "outputs": [
    {
     "data": {
      "text/plain": [
       "монолитный, 2016 г.п.    3904\n",
       "монолитный, 2017 г.п.    3006\n",
       "монолитный, 2018 г.п.    2212\n",
       "монолитный, 2015 г.п.    2024\n",
       "монолитный, 2020 г.п.    1641\n",
       "                         ... \n",
       "кирпичный, 1930 г.п.        1\n",
       "иное, 1984 г.п.             1\n",
       "панельный, 1919 г.п.        1\n",
       "монолитный, 1964 г.п.       1\n",
       "панельный, 1958 г.п.        1\n",
       "Name: flat.building, Length: 374, dtype: int64"
      ]
     },
     "execution_count": 96,
     "metadata": {},
     "output_type": "execute_result"
    }
   ],
   "source": [
    "df['flat.building'].value_counts(dropna=False)"
   ]
  },
  {
   "cell_type": "code",
   "execution_count": 97,
   "metadata": {},
   "outputs": [
    {
     "data": {
      "text/plain": [
       "0"
      ]
     },
     "execution_count": 97,
     "metadata": {},
     "output_type": "execute_result"
    }
   ],
   "source": [
    "df['flat.building'].isna().sum()"
   ]
  },
  {
   "cell_type": "markdown",
   "metadata": {},
   "source": [
    "Извлечем Год постройки"
   ]
  },
  {
   "cell_type": "code",
   "execution_count": 98,
   "metadata": {},
   "outputs": [],
   "source": [
    "def extract_building_year(str_year):\n",
    "    arr_tmp = str_year.split(', ', 1)\n",
    "    if len(arr_tmp) == 1:\n",
    "        return int(arr_tmp[0].split(' г.п.', 1)[0])\n",
    "    elif len(arr_tmp) == 2:\n",
    "        return int(arr_tmp[1].split(' г.п.', 1)[0])\n",
    "    else:\n",
    "        print(str_year)\n",
    "        return np.nan"
   ]
  },
  {
   "cell_type": "code",
   "execution_count": 99,
   "metadata": {},
   "outputs": [],
   "source": [
    "def extract_building_type(str_year):\n",
    "    arr_tmp = str_year.split(', ', 1)\n",
    "    if len(arr_tmp) == 1:\n",
    "        return 'unknown'\n",
    "    elif len(arr_tmp) == 2:\n",
    "        return arr_tmp[0]\n",
    "    else:\n",
    "        print(str_year)\n",
    "        return None"
   ]
  },
  {
   "cell_type": "code",
   "execution_count": 100,
   "metadata": {},
   "outputs": [],
   "source": [
    "PRESENT_YEAR = 2021"
   ]
  },
  {
   "cell_type": "code",
   "execution_count": 101,
   "metadata": {},
   "outputs": [],
   "source": [
    "df['building_age'] = df['flat.building'].apply(lambda x: extract_building_year(x))"
   ]
  },
  {
   "cell_type": "code",
   "execution_count": 102,
   "metadata": {},
   "outputs": [
    {
     "data": {
      "text/html": [
       "<div>\n",
       "<style scoped>\n",
       "    .dataframe tbody tr th:only-of-type {\n",
       "        vertical-align: middle;\n",
       "    }\n",
       "\n",
       "    .dataframe tbody tr th {\n",
       "        vertical-align: top;\n",
       "    }\n",
       "\n",
       "    .dataframe thead th {\n",
       "        text-align: right;\n",
       "    }\n",
       "</style>\n",
       "<table border=\"1\" class=\"dataframe\">\n",
       "  <thead>\n",
       "    <tr style=\"text-align: right;\">\n",
       "      <th></th>\n",
       "      <th>district</th>\n",
       "      <th>live_rooms</th>\n",
       "      <th>price</th>\n",
       "      <th>address</th>\n",
       "      <th>text_preview</th>\n",
       "      <th>owner</th>\n",
       "      <th>paid_hot</th>\n",
       "      <th>paid_up</th>\n",
       "      <th>paid_fast</th>\n",
       "      <th>paid_urgent</th>\n",
       "      <th>paid_turbo</th>\n",
       "      <th>highlighted</th>\n",
       "      <th>flat.building</th>\n",
       "      <th>flat.renovation</th>\n",
       "      <th>flat.toilet</th>\n",
       "      <th>flat.balcony</th>\n",
       "      <th>flat.balcony_g</th>\n",
       "      <th>map.complex</th>\n",
       "      <th>flat.door</th>\n",
       "      <th>inet.type</th>\n",
       "      <th>live.furniture</th>\n",
       "      <th>flat.flooring</th>\n",
       "      <th>ceiling</th>\n",
       "      <th>flat.security</th>\n",
       "      <th>has_change</th>\n",
       "      <th>flat.phone</th>\n",
       "      <th>flat.parking</th>\n",
       "      <th>flat.priv_dorm</th>\n",
       "      <th>options_text</th>\n",
       "      <th>text</th>\n",
       "      <th>total_square</th>\n",
       "      <th>kitchen_square</th>\n",
       "      <th>flat_floor</th>\n",
       "      <th>building_floor</th>\n",
       "      <th>days</th>\n",
       "      <th>building_age</th>\n",
       "    </tr>\n",
       "  </thead>\n",
       "  <tbody>\n",
       "    <tr>\n",
       "      <th>127</th>\n",
       "      <td>0</td>\n",
       "      <td>1</td>\n",
       "      <td>13.500</td>\n",
       "      <td>Алатауский р-н, мкр Саялы 20</td>\n",
       "      <td>монолитный дом, 1915 г.п., состояние: хорошее, потолки 2.8м., санузел совмещенный, пустая, ВНИМАНИЕ ЭКСКЛЮЗИВ 🔥 Предлагаем вам выгодно приобрести 1 комнатную улучшенную квартиру, в стремительно ра...</td>\n",
       "      <td>4</td>\n",
       "      <td>0</td>\n",
       "      <td>0</td>\n",
       "      <td>0</td>\n",
       "      <td>0</td>\n",
       "      <td>0</td>\n",
       "      <td>0</td>\n",
       "      <td>монолитный, 1915 г.п.</td>\n",
       "      <td>хорошее</td>\n",
       "      <td>совмещенный</td>\n",
       "      <td>лоджия</td>\n",
       "      <td>NaN</td>\n",
       "      <td>NaN</td>\n",
       "      <td>металлическая</td>\n",
       "      <td>NaN</td>\n",
       "      <td>пустая</td>\n",
       "      <td>линолеум</td>\n",
       "      <td>2.8 м</td>\n",
       "      <td>NaN</td>\n",
       "      <td>NaN</td>\n",
       "      <td>NaN</td>\n",
       "      <td>рядом охраняемая стоянка</td>\n",
       "      <td>нет</td>\n",
       "      <td>Пластиковые окна, неугловая, счётчики, тихий двор.</td>\n",
       "      <td>ВНИМАНИЕ ЭКСКЛЮЗИВ 🔥 \\n \\nПредлагаем вам выгодно приобрести 1 комнатную улучшенную квартиру, в стремительно развивающемся районе. \\nВсе удобства для жизни. Большая, просторная парковка, множество ...</td>\n",
       "      <td>40.0</td>\n",
       "      <td>10.0</td>\n",
       "      <td>5</td>\n",
       "      <td>6</td>\n",
       "      <td>27</td>\n",
       "      <td>1915</td>\n",
       "    </tr>\n",
       "    <tr>\n",
       "      <th>637</th>\n",
       "      <td>0</td>\n",
       "      <td>1</td>\n",
       "      <td>13.300</td>\n",
       "      <td>Алатауский р-н, мкр Саялы, Мкр Саялы</td>\n",
       "      <td>монолитный дом, 1915 г.п., состояние: хорошее, потолки 2.8м., санузел совмещенный, пустая, ВНИМАНИЕ ЭКСКЛЮЗИВ 🔥 Предлагаем вам выгодно приобрести 1 комнатную улучшенную квартиру, в стремительно ра...</td>\n",
       "      <td>4</td>\n",
       "      <td>1</td>\n",
       "      <td>0</td>\n",
       "      <td>0</td>\n",
       "      <td>0</td>\n",
       "      <td>0</td>\n",
       "      <td>0</td>\n",
       "      <td>монолитный, 1915 г.п.</td>\n",
       "      <td>хорошее</td>\n",
       "      <td>совмещенный</td>\n",
       "      <td>лоджия</td>\n",
       "      <td>NaN</td>\n",
       "      <td>NaN</td>\n",
       "      <td>металлическая</td>\n",
       "      <td>NaN</td>\n",
       "      <td>пустая</td>\n",
       "      <td>линолеум</td>\n",
       "      <td>2.8 м</td>\n",
       "      <td>NaN</td>\n",
       "      <td>NaN</td>\n",
       "      <td>NaN</td>\n",
       "      <td>рядом охраняемая стоянка</td>\n",
       "      <td>нет</td>\n",
       "      <td>Пластиковые окна, неугловая, счётчики, тихий двор.</td>\n",
       "      <td>ВНИМАНИЕ ЭКСКЛЮЗИВ 🔥 \\n \\nПредлагаем вам выгодно приобрести 1 комнатную улучшенную квартиру, в стремительно развивающемся районе. \\nВсе удобства для жизни. Большая, просторная парковка, множество ...</td>\n",
       "      <td>40.0</td>\n",
       "      <td>10.0</td>\n",
       "      <td>4</td>\n",
       "      <td>5</td>\n",
       "      <td>13</td>\n",
       "      <td>1915</td>\n",
       "    </tr>\n",
       "    <tr>\n",
       "      <th>20603</th>\n",
       "      <td>2</td>\n",
       "      <td>2</td>\n",
       "      <td>20.500</td>\n",
       "      <td>Ауэзовский р-н, мкр №6, Мкр №6 3А</td>\n",
       "      <td>панельный дом, 1919 г.п., состояние: хорошее, санузел совмещенный, Пластиковые окна, неугловая, комнаты изолированы. Дом расположен прямо по Абая, но окна выходят во двор. Пластиковые окна, решетк...</td>\n",
       "      <td>4</td>\n",
       "      <td>0</td>\n",
       "      <td>0</td>\n",
       "      <td>0</td>\n",
       "      <td>0</td>\n",
       "      <td>0</td>\n",
       "      <td>0</td>\n",
       "      <td>панельный, 1919 г.п.</td>\n",
       "      <td>хорошее</td>\n",
       "      <td>совмещенный</td>\n",
       "      <td>NaN</td>\n",
       "      <td>NaN</td>\n",
       "      <td>NaN</td>\n",
       "      <td>NaN</td>\n",
       "      <td>NaN</td>\n",
       "      <td>NaN</td>\n",
       "      <td>NaN</td>\n",
       "      <td>NaN</td>\n",
       "      <td>NaN</td>\n",
       "      <td>NaN</td>\n",
       "      <td>NaN</td>\n",
       "      <td>NaN</td>\n",
       "      <td>нет</td>\n",
       "      <td>NaN</td>\n",
       "      <td>Пластиковые окна, неугловая, комнаты изолированы. \\nДом расположен прямо по Абая, но окна выходят во двор. Пластиковые окна, решетки. Балкон застеклен. Очень теплая. Район удобный с развитой инфра...</td>\n",
       "      <td>42.0</td>\n",
       "      <td>6.0</td>\n",
       "      <td>2</td>\n",
       "      <td>5</td>\n",
       "      <td>3</td>\n",
       "      <td>1919</td>\n",
       "    </tr>\n",
       "    <tr>\n",
       "      <th>22855</th>\n",
       "      <td>2</td>\n",
       "      <td>3</td>\n",
       "      <td>37.999</td>\n",
       "      <td>Ауэзовский р-н, Саина 10/3</td>\n",
       "      <td>жил. комплекс Самга, монолитный дом, 1917 г.п., состояние: хорошее, потолки 2.7м., санузел раздельный, телефон: отдельный, частично меблирована, Срочная продажа, развитая инфраструктура, транспорт...</td>\n",
       "      <td>0</td>\n",
       "      <td>0</td>\n",
       "      <td>0</td>\n",
       "      <td>0</td>\n",
       "      <td>1</td>\n",
       "      <td>0</td>\n",
       "      <td>0</td>\n",
       "      <td>монолитный, 1917 г.п.</td>\n",
       "      <td>хорошее</td>\n",
       "      <td>раздельный</td>\n",
       "      <td>балкон и лоджия</td>\n",
       "      <td>да</td>\n",
       "      <td>Самга</td>\n",
       "      <td>NaN</td>\n",
       "      <td>NaN</td>\n",
       "      <td>частично меблирована</td>\n",
       "      <td>ламинат</td>\n",
       "      <td>2.7 м</td>\n",
       "      <td>домофон</td>\n",
       "      <td>NaN</td>\n",
       "      <td>отдельный</td>\n",
       "      <td>рядом охраняемая стоянка</td>\n",
       "      <td>нет</td>\n",
       "      <td>Пластиковые окна, неугловая, улучшенная, комнаты изолированы, встроенная кухня, новая сантехника, счётчики, тихий двор.</td>\n",
       "      <td>Срочная продажа, развитая инфраструктура, транспорт в любую часть города</td>\n",
       "      <td>90.0</td>\n",
       "      <td>15.0</td>\n",
       "      <td>6</td>\n",
       "      <td>12</td>\n",
       "      <td>28</td>\n",
       "      <td>1917</td>\n",
       "    </tr>\n",
       "    <tr>\n",
       "      <th>24609</th>\n",
       "      <td>2</td>\n",
       "      <td>3</td>\n",
       "      <td>28.400</td>\n",
       "      <td>Ауэзовский р-н, проспект Райымбека 508 — Саина</td>\n",
       "      <td>панельный дом, 1876 г.п., состояние: хорошее, санузел раздельный, Квартира находится в очень хорошем и развитом районе города. Сантехника в отличном состоянии. Квартира полностью готова к продаже....</td>\n",
       "      <td>4</td>\n",
       "      <td>0</td>\n",
       "      <td>0</td>\n",
       "      <td>0</td>\n",
       "      <td>0</td>\n",
       "      <td>0</td>\n",
       "      <td>0</td>\n",
       "      <td>панельный, 1876 г.п.</td>\n",
       "      <td>хорошее</td>\n",
       "      <td>раздельный</td>\n",
       "      <td>NaN</td>\n",
       "      <td>NaN</td>\n",
       "      <td>NaN</td>\n",
       "      <td>NaN</td>\n",
       "      <td>NaN</td>\n",
       "      <td>NaN</td>\n",
       "      <td>NaN</td>\n",
       "      <td>NaN</td>\n",
       "      <td>NaN</td>\n",
       "      <td>NaN</td>\n",
       "      <td>NaN</td>\n",
       "      <td>NaN</td>\n",
       "      <td>нет</td>\n",
       "      <td>NaN</td>\n",
       "      <td>Квартира находится в очень хорошем и развитом районе города. Сантехника в отличном состоянии. Квартира полностью готова к продаже. Идеальная транспортная развязка \\n \\nПодробнее по телефону!</td>\n",
       "      <td>65.0</td>\n",
       "      <td>8.0</td>\n",
       "      <td>1</td>\n",
       "      <td>8</td>\n",
       "      <td>3</td>\n",
       "      <td>1876</td>\n",
       "    </tr>\n",
       "    <tr>\n",
       "      <th>39986</th>\n",
       "      <td>3</td>\n",
       "      <td>3</td>\n",
       "      <td>80.000</td>\n",
       "      <td>Бостандыкский р-н, мкр Баганашыл, Аль-Фараби 144</td>\n",
       "      <td>жил. комплекс Горное Солнце, монолитный дом, 1916 г.п., состояние: хорошее, жил. площадь 100 кв.м., кухня 20 кв.м., потолки 3м., санузел 2 с/у и более, телефон: отдельный, интернет оптика, частичн...</td>\n",
       "      <td>6</td>\n",
       "      <td>0</td>\n",
       "      <td>0</td>\n",
       "      <td>0</td>\n",
       "      <td>0</td>\n",
       "      <td>0</td>\n",
       "      <td>0</td>\n",
       "      <td>монолитный, 1916 г.п.</td>\n",
       "      <td>хорошее</td>\n",
       "      <td>2 с/у и более</td>\n",
       "      <td>NaN</td>\n",
       "      <td>NaN</td>\n",
       "      <td>Горное Солнце</td>\n",
       "      <td>металлическая</td>\n",
       "      <td>оптика</td>\n",
       "      <td>частично меблирована</td>\n",
       "      <td>NaN</td>\n",
       "      <td>3 м</td>\n",
       "      <td>охрана, домофон</td>\n",
       "      <td>NaN</td>\n",
       "      <td>отдельный</td>\n",
       "      <td>паркинг</td>\n",
       "      <td>нет</td>\n",
       "      <td>Пластиковые окна, улучшенная, комнаты изолированы, кухня-студия, встроенная кухня, новая сантехника, счётчики, тихий двор.</td>\n",
       "      <td>Рядом спортивный комплекс, сад, парк.</td>\n",
       "      <td>105.0</td>\n",
       "      <td>20.0</td>\n",
       "      <td>2</td>\n",
       "      <td>4</td>\n",
       "      <td>12</td>\n",
       "      <td>1916</td>\n",
       "    </tr>\n",
       "    <tr>\n",
       "      <th>40805</th>\n",
       "      <td>3</td>\n",
       "      <td>3</td>\n",
       "      <td>35.000</td>\n",
       "      <td>Бостандыкский р-н, мкр Коктем-2, Мкр Коктем-2 76б — Габдулина Олея</td>\n",
       "      <td>кирпичный дом, 1868 г.п., состояние: хорошее, жил. площадь 50 кв.м., кухня 8 кв.м., полностью меблирована, Квартира находится в центре города. Удобное расположение комнот продувайма зимой очень те...</td>\n",
       "      <td>6</td>\n",
       "      <td>0</td>\n",
       "      <td>0</td>\n",
       "      <td>0</td>\n",
       "      <td>0</td>\n",
       "      <td>0</td>\n",
       "      <td>0</td>\n",
       "      <td>кирпичный, 1868 г.п.</td>\n",
       "      <td>хорошее</td>\n",
       "      <td>NaN</td>\n",
       "      <td>NaN</td>\n",
       "      <td>NaN</td>\n",
       "      <td>NaN</td>\n",
       "      <td>металлическая</td>\n",
       "      <td>NaN</td>\n",
       "      <td>полностью меблирована</td>\n",
       "      <td>ламинат</td>\n",
       "      <td>NaN</td>\n",
       "      <td>решетки на окнах, домофон, видеодомофон</td>\n",
       "      <td>NaN</td>\n",
       "      <td>NaN</td>\n",
       "      <td>паркинг</td>\n",
       "      <td>нет</td>\n",
       "      <td>Пластиковые окна, неугловая, кухня-студия, встроенная кухня, счётчики, тихий двор, кондиционер, удобно под коммерцию.</td>\n",
       "      <td>Квартира находится в центре города. Удобное расположение комнот продувайма зимой очень тепло а летом прохладно. Очень уютная и теплая. Находится в парковой зоне много мест для прогулок. Школа, дет...</td>\n",
       "      <td>58.0</td>\n",
       "      <td>8.0</td>\n",
       "      <td>1</td>\n",
       "      <td>4</td>\n",
       "      <td>2</td>\n",
       "      <td>1868</td>\n",
       "    </tr>\n",
       "  </tbody>\n",
       "</table>\n",
       "</div>"
      ],
      "text/plain": [
       "       district  live_rooms   price  \\\n",
       "127           0           1  13.500   \n",
       "637           0           1  13.300   \n",
       "20603         2           2  20.500   \n",
       "22855         2           3  37.999   \n",
       "24609         2           3  28.400   \n",
       "39986         3           3  80.000   \n",
       "40805         3           3  35.000   \n",
       "\n",
       "                                                                  address  \\\n",
       "127                                          Алатауский р-н, мкр Саялы 20   \n",
       "637                                  Алатауский р-н, мкр Саялы, Мкр Саялы   \n",
       "20603                                   Ауэзовский р-н, мкр №6, Мкр №6 3А   \n",
       "22855                                          Ауэзовский р-н, Саина 10/3   \n",
       "24609                      Ауэзовский р-н, проспект Райымбека 508 — Саина   \n",
       "39986                    Бостандыкский р-н, мкр Баганашыл, Аль-Фараби 144   \n",
       "40805  Бостандыкский р-н, мкр Коктем-2, Мкр Коктем-2 76б — Габдулина Олея   \n",
       "\n",
       "                                                                                                                                                                                                  text_preview  \\\n",
       "127    монолитный дом, 1915 г.п., состояние: хорошее, потолки 2.8м., санузел совмещенный, пустая, ВНИМАНИЕ ЭКСКЛЮЗИВ 🔥 Предлагаем вам выгодно приобрести 1 комнатную улучшенную квартиру, в стремительно ра...   \n",
       "637    монолитный дом, 1915 г.п., состояние: хорошее, потолки 2.8м., санузел совмещенный, пустая, ВНИМАНИЕ ЭКСКЛЮЗИВ 🔥 Предлагаем вам выгодно приобрести 1 комнатную улучшенную квартиру, в стремительно ра...   \n",
       "20603  панельный дом, 1919 г.п., состояние: хорошее, санузел совмещенный, Пластиковые окна, неугловая, комнаты изолированы. Дом расположен прямо по Абая, но окна выходят во двор. Пластиковые окна, решетк...   \n",
       "22855  жил. комплекс Самга, монолитный дом, 1917 г.п., состояние: хорошее, потолки 2.7м., санузел раздельный, телефон: отдельный, частично меблирована, Срочная продажа, развитая инфраструктура, транспорт...   \n",
       "24609  панельный дом, 1876 г.п., состояние: хорошее, санузел раздельный, Квартира находится в очень хорошем и развитом районе города. Сантехника в отличном состоянии. Квартира полностью готова к продаже....   \n",
       "39986  жил. комплекс Горное Солнце, монолитный дом, 1916 г.п., состояние: хорошее, жил. площадь 100 кв.м., кухня 20 кв.м., потолки 3м., санузел 2 с/у и более, телефон: отдельный, интернет оптика, частичн...   \n",
       "40805  кирпичный дом, 1868 г.п., состояние: хорошее, жил. площадь 50 кв.м., кухня 8 кв.м., полностью меблирована, Квартира находится в центре города. Удобное расположение комнот продувайма зимой очень те...   \n",
       "\n",
       "       owner  paid_hot  paid_up  paid_fast  paid_urgent  paid_turbo  \\\n",
       "127        4         0        0          0            0           0   \n",
       "637        4         1        0          0            0           0   \n",
       "20603      4         0        0          0            0           0   \n",
       "22855      0         0        0          0            1           0   \n",
       "24609      4         0        0          0            0           0   \n",
       "39986      6         0        0          0            0           0   \n",
       "40805      6         0        0          0            0           0   \n",
       "\n",
       "       highlighted          flat.building flat.renovation    flat.toilet  \\\n",
       "127              0  монолитный, 1915 г.п.         хорошее    совмещенный   \n",
       "637              0  монолитный, 1915 г.п.         хорошее    совмещенный   \n",
       "20603            0   панельный, 1919 г.п.         хорошее    совмещенный   \n",
       "22855            0  монолитный, 1917 г.п.         хорошее     раздельный   \n",
       "24609            0   панельный, 1876 г.п.         хорошее     раздельный   \n",
       "39986            0  монолитный, 1916 г.п.         хорошее  2 с/у и более   \n",
       "40805            0   кирпичный, 1868 г.п.         хорошее            NaN   \n",
       "\n",
       "          flat.balcony flat.balcony_g    map.complex      flat.door inet.type  \\\n",
       "127             лоджия            NaN            NaN  металлическая       NaN   \n",
       "637             лоджия            NaN            NaN  металлическая       NaN   \n",
       "20603              NaN            NaN            NaN            NaN       NaN   \n",
       "22855  балкон и лоджия             да          Самга            NaN       NaN   \n",
       "24609              NaN            NaN            NaN            NaN       NaN   \n",
       "39986              NaN            NaN  Горное Солнце  металлическая    оптика   \n",
       "40805              NaN            NaN            NaN  металлическая       NaN   \n",
       "\n",
       "              live.furniture flat.flooring ceiling  \\\n",
       "127                   пустая      линолеум   2.8 м   \n",
       "637                   пустая      линолеум   2.8 м   \n",
       "20603                    NaN           NaN     NaN   \n",
       "22855   частично меблирована       ламинат   2.7 м   \n",
       "24609                    NaN           NaN     NaN   \n",
       "39986   частично меблирована           NaN     3 м   \n",
       "40805  полностью меблирована       ламинат     NaN   \n",
       "\n",
       "                                 flat.security has_change flat.phone  \\\n",
       "127                                        NaN        NaN        NaN   \n",
       "637                                        NaN        NaN        NaN   \n",
       "20603                                      NaN        NaN        NaN   \n",
       "22855                                  домофон        NaN  отдельный   \n",
       "24609                                      NaN        NaN        NaN   \n",
       "39986                          охрана, домофон        NaN  отдельный   \n",
       "40805  решетки на окнах, домофон, видеодомофон        NaN        NaN   \n",
       "\n",
       "                   flat.parking flat.priv_dorm  \\\n",
       "127    рядом охраняемая стоянка            нет   \n",
       "637    рядом охраняемая стоянка            нет   \n",
       "20603                       NaN            нет   \n",
       "22855  рядом охраняемая стоянка            нет   \n",
       "24609                       NaN            нет   \n",
       "39986                   паркинг            нет   \n",
       "40805                   паркинг            нет   \n",
       "\n",
       "                                                                                                                     options_text  \\\n",
       "127                                                                            Пластиковые окна, неугловая, счётчики, тихий двор.   \n",
       "637                                                                            Пластиковые окна, неугловая, счётчики, тихий двор.   \n",
       "20603                                                                                                                         NaN   \n",
       "22855     Пластиковые окна, неугловая, улучшенная, комнаты изолированы, встроенная кухня, новая сантехника, счётчики, тихий двор.   \n",
       "24609                                                                                                                         NaN   \n",
       "39986  Пластиковые окна, улучшенная, комнаты изолированы, кухня-студия, встроенная кухня, новая сантехника, счётчики, тихий двор.   \n",
       "40805       Пластиковые окна, неугловая, кухня-студия, встроенная кухня, счётчики, тихий двор, кондиционер, удобно под коммерцию.   \n",
       "\n",
       "                                                                                                                                                                                                          text  \\\n",
       "127    ВНИМАНИЕ ЭКСКЛЮЗИВ 🔥 \\n \\nПредлагаем вам выгодно приобрести 1 комнатную улучшенную квартиру, в стремительно развивающемся районе. \\nВсе удобства для жизни. Большая, просторная парковка, множество ...   \n",
       "637    ВНИМАНИЕ ЭКСКЛЮЗИВ 🔥 \\n \\nПредлагаем вам выгодно приобрести 1 комнатную улучшенную квартиру, в стремительно развивающемся районе. \\nВсе удобства для жизни. Большая, просторная парковка, множество ...   \n",
       "20603  Пластиковые окна, неугловая, комнаты изолированы. \\nДом расположен прямо по Абая, но окна выходят во двор. Пластиковые окна, решетки. Балкон застеклен. Очень теплая. Район удобный с развитой инфра...   \n",
       "22855                                                                                                                                 Срочная продажа, развитая инфраструктура, транспорт в любую часть города   \n",
       "24609           Квартира находится в очень хорошем и развитом районе города. Сантехника в отличном состоянии. Квартира полностью готова к продаже. Идеальная транспортная развязка \\n \\nПодробнее по телефону!   \n",
       "39986                                                                                                                                                                    Рядом спортивный комплекс, сад, парк.   \n",
       "40805  Квартира находится в центре города. Удобное расположение комнот продувайма зимой очень тепло а летом прохладно. Очень уютная и теплая. Находится в парковой зоне много мест для прогулок. Школа, дет...   \n",
       "\n",
       "       total_square  kitchen_square  flat_floor  building_floor  days  \\\n",
       "127            40.0            10.0           5               6    27   \n",
       "637            40.0            10.0           4               5    13   \n",
       "20603          42.0             6.0           2               5     3   \n",
       "22855          90.0            15.0           6              12    28   \n",
       "24609          65.0             8.0           1               8     3   \n",
       "39986         105.0            20.0           2               4    12   \n",
       "40805          58.0             8.0           1               4     2   \n",
       "\n",
       "       building_age  \n",
       "127            1915  \n",
       "637            1915  \n",
       "20603          1919  \n",
       "22855          1917  \n",
       "24609          1876  \n",
       "39986          1916  \n",
       "40805          1868  "
      ]
     },
     "execution_count": 102,
     "metadata": {},
     "output_type": "execute_result"
    }
   ],
   "source": [
    "df[df.building_age < 1930]"
   ]
  },
  {
   "cell_type": "markdown",
   "metadata": {},
   "source": [
    "Исправим ошибки в годе постройки и преобразуем к возрасту постройки + 1"
   ]
  },
  {
   "cell_type": "code",
   "execution_count": 103,
   "metadata": {},
   "outputs": [],
   "source": [
    "df.building_age = df.building_age.apply(lambda x: x + 100 if x < 1930 else x)\n",
    "df.building_age = (PRESENT_YEAR + 1) - df.building_age"
   ]
  },
  {
   "cell_type": "code",
   "execution_count": 104,
   "metadata": {},
   "outputs": [
    {
     "data": {
      "text/plain": [
       "6     4191\n",
       "5     3262\n",
       "4     2447\n",
       "7     2215\n",
       "2     1958\n",
       "      ... \n",
       "92       2\n",
       "86       1\n",
       "85       1\n",
       "91       1\n",
       "87       1\n",
       "Name: building_age, Length: 92, dtype: int64"
      ]
     },
     "execution_count": 104,
     "metadata": {},
     "output_type": "execute_result"
    }
   ],
   "source": [
    "df.building_age.value_counts()"
   ]
  },
  {
   "cell_type": "markdown",
   "metadata": {},
   "source": [
    "Теперь извлечем Тип постройки (материал)"
   ]
  },
  {
   "cell_type": "code",
   "execution_count": 105,
   "metadata": {},
   "outputs": [],
   "source": [
    "df['building_type'] = df['flat.building'].apply(lambda x: extract_building_type(x))"
   ]
  },
  {
   "cell_type": "code",
   "execution_count": 106,
   "metadata": {},
   "outputs": [
    {
     "data": {
      "text/plain": [
       "монолитный    26315\n",
       "панельный     18058\n",
       "кирпичный     11582\n",
       "unknown        2793\n",
       "иное            705\n",
       "4                 3\n",
       "Name: building_type, dtype: int64"
      ]
     },
     "execution_count": 106,
     "metadata": {},
     "output_type": "execute_result"
    }
   ],
   "source": [
    "df.building_type.value_counts(dropna=False)"
   ]
  },
  {
   "cell_type": "code",
   "execution_count": 107,
   "metadata": {},
   "outputs": [],
   "source": [
    "df['building_type'] = df['building_type'].astype('category').cat.codes"
   ]
  },
  {
   "cell_type": "code",
   "execution_count": 108,
   "metadata": {},
   "outputs": [
    {
     "data": {
      "text/plain": [
       "4    26315\n",
       "5    18058\n",
       "3    11582\n",
       "1     2793\n",
       "2      705\n",
       "0        3\n",
       "Name: building_type, dtype: int64"
      ]
     },
     "execution_count": 108,
     "metadata": {},
     "output_type": "execute_result"
    }
   ],
   "source": [
    "df.building_type.value_counts(dropna=False)"
   ]
  },
  {
   "cell_type": "code",
   "execution_count": 109,
   "metadata": {},
   "outputs": [],
   "source": [
    "df.drop(['flat.building'], axis=1, inplace=True)"
   ]
  },
  {
   "cell_type": "markdown",
   "metadata": {},
   "source": [
    "### flat.priv_dorm"
   ]
  },
  {
   "cell_type": "code",
   "execution_count": 110,
   "metadata": {},
   "outputs": [
    {
     "data": {
      "text/plain": [
       "нет    52509\n",
       "NaN     5444\n",
       "да      1503\n",
       "Name: flat.priv_dorm, dtype: int64"
      ]
     },
     "execution_count": 110,
     "metadata": {},
     "output_type": "execute_result"
    }
   ],
   "source": [
    "df['flat.priv_dorm'].value_counts(dropna=False)"
   ]
  },
  {
   "cell_type": "code",
   "execution_count": 111,
   "metadata": {},
   "outputs": [],
   "source": [
    "df['flat_priv_dorm'] = df['flat.priv_dorm']"
   ]
  },
  {
   "cell_type": "code",
   "execution_count": 112,
   "metadata": {},
   "outputs": [],
   "source": [
    "df.loc[df['flat_priv_dorm'].isna(), 'flat_priv_dorm'] = 'нет'"
   ]
  },
  {
   "cell_type": "code",
   "execution_count": 113,
   "metadata": {},
   "outputs": [],
   "source": [
    "df['flat_priv_dorm'] = df['flat_priv_dorm'].astype('category').cat.codes"
   ]
  },
  {
   "cell_type": "code",
   "execution_count": 114,
   "metadata": {},
   "outputs": [
    {
     "data": {
      "text/plain": [
       "1    57953\n",
       "0     1503\n",
       "Name: flat_priv_dorm, dtype: int64"
      ]
     },
     "execution_count": 114,
     "metadata": {},
     "output_type": "execute_result"
    }
   ],
   "source": [
    "df['flat_priv_dorm'].value_counts(dropna=False)"
   ]
  },
  {
   "cell_type": "code",
   "execution_count": 115,
   "metadata": {},
   "outputs": [],
   "source": [
    "df.drop(['flat.priv_dorm'], axis=1, inplace=True)"
   ]
  },
  {
   "cell_type": "markdown",
   "metadata": {},
   "source": [
    "### flat.renovation"
   ]
  },
  {
   "cell_type": "code",
   "execution_count": 116,
   "metadata": {},
   "outputs": [
    {
     "data": {
      "text/plain": [
       "хорошее                 23357\n",
       "евроремонт              21402\n",
       "среднее                  5011\n",
       "NaN                      4608\n",
       "требует ремонта          1971\n",
       "черновая отделка         1890\n",
       "свободная планировка     1217\n",
       "Name: flat.renovation, dtype: int64"
      ]
     },
     "execution_count": 116,
     "metadata": {},
     "output_type": "execute_result"
    }
   ],
   "source": [
    "df['flat.renovation'].value_counts(dropna=False)"
   ]
  },
  {
   "cell_type": "code",
   "execution_count": 117,
   "metadata": {},
   "outputs": [],
   "source": [
    "df['flat_renovation'] = df['flat.renovation']"
   ]
  },
  {
   "cell_type": "code",
   "execution_count": 118,
   "metadata": {},
   "outputs": [],
   "source": [
    "df.loc[df['flat_renovation'].isna(), 'flat_renovation'] = 'хорошее'"
   ]
  },
  {
   "cell_type": "code",
   "execution_count": 119,
   "metadata": {},
   "outputs": [],
   "source": [
    "df['flat_renovation'] = df['flat_renovation'].astype('category').cat.codes"
   ]
  },
  {
   "cell_type": "code",
   "execution_count": 120,
   "metadata": {},
   "outputs": [
    {
     "data": {
      "text/plain": [
       "4    27965\n",
       "0    21402\n",
       "2     5011\n",
       "3     1971\n",
       "5     1890\n",
       "1     1217\n",
       "Name: flat_renovation, dtype: int64"
      ]
     },
     "execution_count": 120,
     "metadata": {},
     "output_type": "execute_result"
    }
   ],
   "source": [
    "df['flat_renovation'].value_counts(dropna=False)"
   ]
  },
  {
   "cell_type": "code",
   "execution_count": 121,
   "metadata": {},
   "outputs": [],
   "source": [
    "df.drop(['flat.renovation'], axis=1, inplace=True)"
   ]
  },
  {
   "cell_type": "markdown",
   "metadata": {},
   "source": [
    "### flat.toilet"
   ]
  },
  {
   "cell_type": "code",
   "execution_count": 122,
   "metadata": {},
   "outputs": [
    {
     "data": {
      "text/plain": [
       "совмещенный      24912\n",
       "раздельный       16717\n",
       "NaN               9793\n",
       "2 с/у и более     7967\n",
       "нет                 67\n",
       "Name: flat.toilet, dtype: int64"
      ]
     },
     "execution_count": 122,
     "metadata": {},
     "output_type": "execute_result"
    }
   ],
   "source": [
    "df['flat.toilet'].value_counts(dropna=False)"
   ]
  },
  {
   "cell_type": "code",
   "execution_count": 123,
   "metadata": {},
   "outputs": [],
   "source": [
    "df['flat_toilet'] = df['flat.toilet']"
   ]
  },
  {
   "cell_type": "code",
   "execution_count": 124,
   "metadata": {},
   "outputs": [],
   "source": [
    "df.loc[df['flat_toilet'].isna(), 'flat_toilet'] = 'unknown'"
   ]
  },
  {
   "cell_type": "code",
   "execution_count": 125,
   "metadata": {},
   "outputs": [],
   "source": [
    "df['flat_toilet'] = df['flat_toilet'].astype('category').cat.codes"
   ]
  },
  {
   "cell_type": "code",
   "execution_count": 126,
   "metadata": {},
   "outputs": [
    {
     "data": {
      "text/plain": [
       "4    24912\n",
       "3    16717\n",
       "1     9793\n",
       "0     7967\n",
       "2       67\n",
       "Name: flat_toilet, dtype: int64"
      ]
     },
     "execution_count": 126,
     "metadata": {},
     "output_type": "execute_result"
    }
   ],
   "source": [
    "df['flat_toilet'].value_counts(dropna=False)"
   ]
  },
  {
   "cell_type": "code",
   "execution_count": 127,
   "metadata": {},
   "outputs": [],
   "source": [
    "df.drop(['flat.toilet'], axis=1, inplace=True)"
   ]
  },
  {
   "cell_type": "markdown",
   "metadata": {},
   "source": [
    "### live.furniture"
   ]
  },
  {
   "cell_type": "code",
   "execution_count": 128,
   "metadata": {},
   "outputs": [
    {
     "data": {
      "text/plain": [
       "частично меблирована     21546\n",
       "NaN                      16701\n",
       "полностью меблирована    16323\n",
       "пустая                    4886\n",
       "Name: live.furniture, dtype: int64"
      ]
     },
     "execution_count": 128,
     "metadata": {},
     "output_type": "execute_result"
    }
   ],
   "source": [
    "df['live.furniture'].value_counts(dropna=False)"
   ]
  },
  {
   "cell_type": "code",
   "execution_count": 129,
   "metadata": {},
   "outputs": [],
   "source": [
    "df['live_furniture'] = df['live.furniture']"
   ]
  },
  {
   "cell_type": "code",
   "execution_count": 130,
   "metadata": {},
   "outputs": [],
   "source": [
    "df.loc[df['live_furniture'].isna(), 'live_furniture'] = 'частично меблирована'"
   ]
  },
  {
   "cell_type": "code",
   "execution_count": 131,
   "metadata": {},
   "outputs": [],
   "source": [
    "df['live_furniture'] = df['live_furniture'].astype('category').cat.codes"
   ]
  },
  {
   "cell_type": "code",
   "execution_count": 132,
   "metadata": {},
   "outputs": [
    {
     "data": {
      "text/plain": [
       "2    38247\n",
       "0    16323\n",
       "1     4886\n",
       "Name: live_furniture, dtype: int64"
      ]
     },
     "execution_count": 132,
     "metadata": {},
     "output_type": "execute_result"
    }
   ],
   "source": [
    "df['live_furniture'].value_counts(dropna=False)"
   ]
  },
  {
   "cell_type": "code",
   "execution_count": 133,
   "metadata": {},
   "outputs": [],
   "source": [
    "df.drop(['live.furniture'], axis=1, inplace=True)"
   ]
  },
  {
   "cell_type": "markdown",
   "metadata": {},
   "source": [
    "## 3. Генерация новых признаков (feature engineering)\n",
    "Первый этаж, Последний этаж, Отношение площади к количеству комнат."
   ]
  },
  {
   "cell_type": "code",
   "execution_count": 134,
   "metadata": {},
   "outputs": [
    {
     "data": {
      "text/plain": [
       "4     9126\n",
       "2     8976\n",
       "3     8287\n",
       "1     7702\n",
       "5     7517\n",
       "6     2877\n",
       "8     2811\n",
       "9     2787\n",
       "7     2765\n",
       "10    1618\n",
       "12    1153\n",
       "11    1041\n",
       "13     574\n",
       "14     550\n",
       "16     518\n",
       "15     503\n",
       "17     244\n",
       "18     180\n",
       "19     137\n",
       "20      90\n",
       "Name: flat_floor, dtype: int64"
      ]
     },
     "execution_count": 134,
     "metadata": {},
     "output_type": "execute_result"
    }
   ],
   "source": [
    "df.flat_floor.value_counts()"
   ]
  },
  {
   "cell_type": "code",
   "execution_count": 135,
   "metadata": {},
   "outputs": [],
   "source": [
    "df['first_floor'] = df.flat_floor.apply(lambda x: 1 if x==1 else 0)"
   ]
  },
  {
   "cell_type": "code",
   "execution_count": 136,
   "metadata": {},
   "outputs": [
    {
     "data": {
      "text/html": [
       "<div>\n",
       "<style scoped>\n",
       "    .dataframe tbody tr th:only-of-type {\n",
       "        vertical-align: middle;\n",
       "    }\n",
       "\n",
       "    .dataframe tbody tr th {\n",
       "        vertical-align: top;\n",
       "    }\n",
       "\n",
       "    .dataframe thead th {\n",
       "        text-align: right;\n",
       "    }\n",
       "</style>\n",
       "<table border=\"1\" class=\"dataframe\">\n",
       "  <thead>\n",
       "    <tr style=\"text-align: right;\">\n",
       "      <th></th>\n",
       "      <th>district</th>\n",
       "      <th>live_rooms</th>\n",
       "      <th>price</th>\n",
       "      <th>address</th>\n",
       "      <th>text_preview</th>\n",
       "      <th>owner</th>\n",
       "      <th>paid_hot</th>\n",
       "      <th>paid_up</th>\n",
       "      <th>paid_fast</th>\n",
       "      <th>paid_urgent</th>\n",
       "      <th>paid_turbo</th>\n",
       "      <th>highlighted</th>\n",
       "      <th>flat.balcony</th>\n",
       "      <th>flat.balcony_g</th>\n",
       "      <th>map.complex</th>\n",
       "      <th>flat.door</th>\n",
       "      <th>inet.type</th>\n",
       "      <th>flat.flooring</th>\n",
       "      <th>ceiling</th>\n",
       "      <th>flat.security</th>\n",
       "      <th>has_change</th>\n",
       "      <th>flat.phone</th>\n",
       "      <th>flat.parking</th>\n",
       "      <th>options_text</th>\n",
       "      <th>text</th>\n",
       "      <th>total_square</th>\n",
       "      <th>kitchen_square</th>\n",
       "      <th>flat_floor</th>\n",
       "      <th>building_floor</th>\n",
       "      <th>days</th>\n",
       "      <th>building_age</th>\n",
       "      <th>building_type</th>\n",
       "      <th>flat_priv_dorm</th>\n",
       "      <th>flat_renovation</th>\n",
       "      <th>flat_toilet</th>\n",
       "      <th>live_furniture</th>\n",
       "      <th>first_floor</th>\n",
       "    </tr>\n",
       "  </thead>\n",
       "  <tbody>\n",
       "    <tr>\n",
       "      <th>11</th>\n",
       "      <td>0</td>\n",
       "      <td>1</td>\n",
       "      <td>8.5</td>\n",
       "      <td>Алатауский р-н, Северное кольцо 8611</td>\n",
       "      <td>жил. комплекс Северное кольцо, монолитный дом, 2014 г.п., состояние: хорошее, жил. площадь 29.5 кв.м., потолки 2.8м., Квартира- студия. ТОРГ небольшой, НАЛИЧНЫЙ РАСЧЕТ ( ипотека не подходит), Расс...</td>\n",
       "      <td>6</td>\n",
       "      <td>0</td>\n",
       "      <td>0</td>\n",
       "      <td>0</td>\n",
       "      <td>0</td>\n",
       "      <td>0</td>\n",
       "      <td>0</td>\n",
       "      <td>NaN</td>\n",
       "      <td>NaN</td>\n",
       "      <td>Северное кольцо</td>\n",
       "      <td>NaN</td>\n",
       "      <td>NaN</td>\n",
       "      <td>NaN</td>\n",
       "      <td>2.8 м</td>\n",
       "      <td>NaN</td>\n",
       "      <td>NaN</td>\n",
       "      <td>NaN</td>\n",
       "      <td>NaN</td>\n",
       "      <td>NaN</td>\n",
       "      <td>Квартира- студия. \\nТОРГ небольшой, НАЛИЧНЫЙ РАСЧЕТ ( ипотека не подходит), Рассрочку рассмотрим ( если сумма остается небольшая). \\nЦокольный этаж ( можно использовать как коммерческую недвижимос...</td>\n",
       "      <td>29.5</td>\n",
       "      <td>0.0</td>\n",
       "      <td>7</td>\n",
       "      <td>6</td>\n",
       "      <td>24</td>\n",
       "      <td>8</td>\n",
       "      <td>4</td>\n",
       "      <td>1</td>\n",
       "      <td>4</td>\n",
       "      <td>1</td>\n",
       "      <td>2</td>\n",
       "      <td>0</td>\n",
       "    </tr>\n",
       "    <tr>\n",
       "      <th>308</th>\n",
       "      <td>0</td>\n",
       "      <td>1</td>\n",
       "      <td>18.1</td>\n",
       "      <td>Алатауский р-н, мкр Акбулак, 3-я ул</td>\n",
       "      <td>жил. комплекс Alatau City, монолитный дом, 2017 г.п., состояние: хорошее, потолки 2.7м., санузел совмещенный, частично меблирована, Просторная 1 комнатная квартира с изолированной кухней в ЖК Alat...</td>\n",
       "      <td>4</td>\n",
       "      <td>0</td>\n",
       "      <td>0</td>\n",
       "      <td>0</td>\n",
       "      <td>0</td>\n",
       "      <td>0</td>\n",
       "      <td>0</td>\n",
       "      <td>лоджия</td>\n",
       "      <td>да</td>\n",
       "      <td>Alatau City</td>\n",
       "      <td>металлическая</td>\n",
       "      <td>NaN</td>\n",
       "      <td>ламинат</td>\n",
       "      <td>2.7 м</td>\n",
       "      <td>домофон</td>\n",
       "      <td>NaN</td>\n",
       "      <td>NaN</td>\n",
       "      <td>NaN</td>\n",
       "      <td>NaN</td>\n",
       "      <td>Просторная 1 комнатная квартира с изолированной кухней в ЖК Alatau City, от проверенного застройщика Exclusive Qurylys. Частично остаётся мебель, квартира в хорошем состоянии, рядом детские сады, ...</td>\n",
       "      <td>44.8</td>\n",
       "      <td>15.0</td>\n",
       "      <td>12</td>\n",
       "      <td>5</td>\n",
       "      <td>18</td>\n",
       "      <td>5</td>\n",
       "      <td>4</td>\n",
       "      <td>1</td>\n",
       "      <td>4</td>\n",
       "      <td>4</td>\n",
       "      <td>2</td>\n",
       "      <td>0</td>\n",
       "    </tr>\n",
       "    <tr>\n",
       "      <th>585</th>\n",
       "      <td>0</td>\n",
       "      <td>1</td>\n",
       "      <td>16.8</td>\n",
       "      <td>Алатауский р-н, мкр Акбулак, Чуланова 117 — Момыш улы</td>\n",
       "      <td>жил. комплекс Акбулак, монолитный дом, 2014 г.п., состояние: хорошее, потолки 2.8м., 1 к. монолит дом в микрорайоне Акбулак. НОвый район. год 2012года. этаж 5/9 общая площадь 51/23/15 состояние чи...</td>\n",
       "      <td>0</td>\n",
       "      <td>0</td>\n",
       "      <td>0</td>\n",
       "      <td>0</td>\n",
       "      <td>0</td>\n",
       "      <td>0</td>\n",
       "      <td>0</td>\n",
       "      <td>NaN</td>\n",
       "      <td>NaN</td>\n",
       "      <td>Акбулак</td>\n",
       "      <td>NaN</td>\n",
       "      <td>NaN</td>\n",
       "      <td>NaN</td>\n",
       "      <td>2.8 м</td>\n",
       "      <td>NaN</td>\n",
       "      <td>NaN</td>\n",
       "      <td>NaN</td>\n",
       "      <td>паркинг</td>\n",
       "      <td>NaN</td>\n",
       "      <td>1 к. монолит дом в микрорайоне Акбулак. НОвый район. год 2012года. этаж 5/9 общая площадь 51/23/15 состояние чистое среднее. домофон. (культурно развитый район) лиф транспортная доступность. живит...</td>\n",
       "      <td>51.0</td>\n",
       "      <td>0.0</td>\n",
       "      <td>10</td>\n",
       "      <td>6</td>\n",
       "      <td>12</td>\n",
       "      <td>8</td>\n",
       "      <td>4</td>\n",
       "      <td>1</td>\n",
       "      <td>4</td>\n",
       "      <td>1</td>\n",
       "      <td>2</td>\n",
       "      <td>0</td>\n",
       "    </tr>\n",
       "    <tr>\n",
       "      <th>929</th>\n",
       "      <td>0</td>\n",
       "      <td>1</td>\n",
       "      <td>11.8</td>\n",
       "      <td>Алатауский р-н, Аккент 42</td>\n",
       "      <td>монолитный дом, 2010 г.п., состояние: хорошее, потолки 4м., санузел совмещенный, Тех этаж</td>\n",
       "      <td>6</td>\n",
       "      <td>0</td>\n",
       "      <td>0</td>\n",
       "      <td>0</td>\n",
       "      <td>0</td>\n",
       "      <td>0</td>\n",
       "      <td>0</td>\n",
       "      <td>NaN</td>\n",
       "      <td>NaN</td>\n",
       "      <td>NaN</td>\n",
       "      <td>металлическая</td>\n",
       "      <td>NaN</td>\n",
       "      <td>ламинат</td>\n",
       "      <td>4 м</td>\n",
       "      <td>охрана, домофон</td>\n",
       "      <td>NaN</td>\n",
       "      <td>NaN</td>\n",
       "      <td>NaN</td>\n",
       "      <td>NaN</td>\n",
       "      <td>Тех этаж</td>\n",
       "      <td>35.0</td>\n",
       "      <td>0.0</td>\n",
       "      <td>10</td>\n",
       "      <td>9</td>\n",
       "      <td>4</td>\n",
       "      <td>12</td>\n",
       "      <td>4</td>\n",
       "      <td>1</td>\n",
       "      <td>4</td>\n",
       "      <td>4</td>\n",
       "      <td>2</td>\n",
       "      <td>0</td>\n",
       "    </tr>\n",
       "    <tr>\n",
       "      <th>1098</th>\n",
       "      <td>0</td>\n",
       "      <td>1</td>\n",
       "      <td>18.0</td>\n",
       "      <td>Алатауский р-н, Аккент</td>\n",
       "      <td>жил. комплекс Аккент, монолитный дом, 2011 г.п., состояние: хорошее, жил. площадь 22 кв.м., кухня 12 кв.м., потолки 2.8м., санузел совмещенный, телефон: есть возможность подключения, частично мебл...</td>\n",
       "      <td>2</td>\n",
       "      <td>0</td>\n",
       "      <td>0</td>\n",
       "      <td>0</td>\n",
       "      <td>0</td>\n",
       "      <td>0</td>\n",
       "      <td>0</td>\n",
       "      <td>лоджия</td>\n",
       "      <td>да</td>\n",
       "      <td>Аккент</td>\n",
       "      <td>бронированная</td>\n",
       "      <td>NaN</td>\n",
       "      <td>ламинат</td>\n",
       "      <td>2.8 м</td>\n",
       "      <td>охрана, домофон, видеонаблюдение</td>\n",
       "      <td>NaN</td>\n",
       "      <td>есть возможность подключения</td>\n",
       "      <td>рядом охраняемая стоянка</td>\n",
       "      <td>Пластиковые окна, неугловая, улучшенная, комнаты изолированы, встроенная кухня, новая сантехника, счётчики, тихий двор.</td>\n",
       "      <td>NaN</td>\n",
       "      <td>45.0</td>\n",
       "      <td>12.0</td>\n",
       "      <td>9</td>\n",
       "      <td>6</td>\n",
       "      <td>5</td>\n",
       "      <td>11</td>\n",
       "      <td>4</td>\n",
       "      <td>1</td>\n",
       "      <td>4</td>\n",
       "      <td>4</td>\n",
       "      <td>2</td>\n",
       "      <td>0</td>\n",
       "    </tr>\n",
       "    <tr>\n",
       "      <th>...</th>\n",
       "      <td>...</td>\n",
       "      <td>...</td>\n",
       "      <td>...</td>\n",
       "      <td>...</td>\n",
       "      <td>...</td>\n",
       "      <td>...</td>\n",
       "      <td>...</td>\n",
       "      <td>...</td>\n",
       "      <td>...</td>\n",
       "      <td>...</td>\n",
       "      <td>...</td>\n",
       "      <td>...</td>\n",
       "      <td>...</td>\n",
       "      <td>...</td>\n",
       "      <td>...</td>\n",
       "      <td>...</td>\n",
       "      <td>...</td>\n",
       "      <td>...</td>\n",
       "      <td>...</td>\n",
       "      <td>...</td>\n",
       "      <td>...</td>\n",
       "      <td>...</td>\n",
       "      <td>...</td>\n",
       "      <td>...</td>\n",
       "      <td>...</td>\n",
       "      <td>...</td>\n",
       "      <td>...</td>\n",
       "      <td>...</td>\n",
       "      <td>...</td>\n",
       "      <td>...</td>\n",
       "      <td>...</td>\n",
       "      <td>...</td>\n",
       "      <td>...</td>\n",
       "      <td>...</td>\n",
       "      <td>...</td>\n",
       "      <td>...</td>\n",
       "      <td>...</td>\n",
       "    </tr>\n",
       "    <tr>\n",
       "      <th>58460</th>\n",
       "      <td>7</td>\n",
       "      <td>1</td>\n",
       "      <td>11.5</td>\n",
       "      <td>Жетысуский р-н, мкр Дорожник, Северное кольцо</td>\n",
       "      <td>жил. комплекс Северное кольцо, монолитный дом, 2016 г.п., состояние: хорошее, потолки 2.7м., санузел совмещенный, интернет ADSL, пустая, Продается под коммерцию или для жилья 1-комнатная квартира ...</td>\n",
       "      <td>4</td>\n",
       "      <td>0</td>\n",
       "      <td>0</td>\n",
       "      <td>0</td>\n",
       "      <td>0</td>\n",
       "      <td>0</td>\n",
       "      <td>0</td>\n",
       "      <td>NaN</td>\n",
       "      <td>NaN</td>\n",
       "      <td>Северное кольцо</td>\n",
       "      <td>металлическая</td>\n",
       "      <td>ADSL</td>\n",
       "      <td>линолеум</td>\n",
       "      <td>2.7 м</td>\n",
       "      <td>решетки на окнах, домофон</td>\n",
       "      <td>NaN</td>\n",
       "      <td>NaN</td>\n",
       "      <td>паркинг</td>\n",
       "      <td>Пластиковые окна, неугловая, новая сантехника, счётчики, тихий двор, удобно под коммерцию.</td>\n",
       "      <td>Продается под коммерцию или для жилья 1-комнатная квартира на цокольном этаже нового дома ЖК Северное Кольцо в мкр. Дорожник (Кокмайса), так как Целевое назначение помещения \"Коммерция\". \\n \\nМожн...</td>\n",
       "      <td>32.0</td>\n",
       "      <td>0.0</td>\n",
       "      <td>9</td>\n",
       "      <td>6</td>\n",
       "      <td>24</td>\n",
       "      <td>6</td>\n",
       "      <td>4</td>\n",
       "      <td>1</td>\n",
       "      <td>4</td>\n",
       "      <td>4</td>\n",
       "      <td>1</td>\n",
       "      <td>0</td>\n",
       "    </tr>\n",
       "    <tr>\n",
       "      <th>58960</th>\n",
       "      <td>7</td>\n",
       "      <td>1</td>\n",
       "      <td>15.8</td>\n",
       "      <td>Жетысуский р-н, мкр Айнабулак-3 139</td>\n",
       "      <td>панельный дом, 1988 г.п., состояние: евроремонт, жил. площадь 13 кв.м., кухня 10.1 кв.м., потолки 2.8м., санузел совмещенный, телефон: есть возможность подключения, интернет проводной, полностью м...</td>\n",
       "      <td>6</td>\n",
       "      <td>0</td>\n",
       "      <td>0</td>\n",
       "      <td>0</td>\n",
       "      <td>0</td>\n",
       "      <td>0</td>\n",
       "      <td>0</td>\n",
       "      <td>балкон и лоджия</td>\n",
       "      <td>да</td>\n",
       "      <td>NaN</td>\n",
       "      <td>бронированная</td>\n",
       "      <td>проводной</td>\n",
       "      <td>линолеум</td>\n",
       "      <td>2.8 м</td>\n",
       "      <td>домофон, видеонаблюдение</td>\n",
       "      <td>NaN</td>\n",
       "      <td>есть возможность подключения</td>\n",
       "      <td>рядом охраняемая стоянка</td>\n",
       "      <td>Пластиковые окна, тихий двор, неугловая.</td>\n",
       "      <td>Продам хорошую, светлую, уютную квартиру Рядом вся инфраструктура: школа, садик, поликлиники. Соседи тихие хорошие. Лоджия балкон с болшой квадратурой не включён в общую площадь. Перед входом квар...</td>\n",
       "      <td>32.4</td>\n",
       "      <td>10.1</td>\n",
       "      <td>5</td>\n",
       "      <td>2</td>\n",
       "      <td>3</td>\n",
       "      <td>34</td>\n",
       "      <td>5</td>\n",
       "      <td>1</td>\n",
       "      <td>0</td>\n",
       "      <td>4</td>\n",
       "      <td>0</td>\n",
       "      <td>0</td>\n",
       "    </tr>\n",
       "    <tr>\n",
       "      <th>59728</th>\n",
       "      <td>7</td>\n",
       "      <td>2</td>\n",
       "      <td>26.0</td>\n",
       "      <td>Жетысуский р-н, мкр Айнабулак-2 84</td>\n",
       "      <td>панельный дом, 2008 г.п., состояние: евроремонт, санузел раздельный, частично меблирована</td>\n",
       "      <td>4</td>\n",
       "      <td>0</td>\n",
       "      <td>0</td>\n",
       "      <td>0</td>\n",
       "      <td>0</td>\n",
       "      <td>0</td>\n",
       "      <td>0</td>\n",
       "      <td>балкон</td>\n",
       "      <td>да</td>\n",
       "      <td>NaN</td>\n",
       "      <td>металлическая</td>\n",
       "      <td>NaN</td>\n",
       "      <td>ламинат</td>\n",
       "      <td>NaN</td>\n",
       "      <td>домофон, видеонаблюдение</td>\n",
       "      <td>NaN</td>\n",
       "      <td>NaN</td>\n",
       "      <td>рядом охраняемая стоянка</td>\n",
       "      <td>Пластиковые окна, неугловая, улучшенная, комнаты изолированы, встроенная кухня, счётчики, тихий двор.</td>\n",
       "      <td>NaN</td>\n",
       "      <td>57.0</td>\n",
       "      <td>14.0</td>\n",
       "      <td>6</td>\n",
       "      <td>5</td>\n",
       "      <td>21</td>\n",
       "      <td>14</td>\n",
       "      <td>5</td>\n",
       "      <td>1</td>\n",
       "      <td>0</td>\n",
       "      <td>3</td>\n",
       "      <td>2</td>\n",
       "      <td>0</td>\n",
       "    </tr>\n",
       "    <tr>\n",
       "      <th>59759</th>\n",
       "      <td>7</td>\n",
       "      <td>2</td>\n",
       "      <td>23.0</td>\n",
       "      <td>Жетысуский р-н, мкр Кокжиек 10</td>\n",
       "      <td>В залоге, монолитный дом, 2010 г.п., состояние: хорошее, жил. площадь 32 кв.м., кухня 9 кв.м., потолки 2.7м., санузел раздельный, телефон: нет, интернет через TV кабель, полностью меблирована, Ква...</td>\n",
       "      <td>6</td>\n",
       "      <td>0</td>\n",
       "      <td>0</td>\n",
       "      <td>0</td>\n",
       "      <td>0</td>\n",
       "      <td>0</td>\n",
       "      <td>0</td>\n",
       "      <td>балкон</td>\n",
       "      <td>нет</td>\n",
       "      <td>NaN</td>\n",
       "      <td>металлическая</td>\n",
       "      <td>через TV кабель</td>\n",
       "      <td>линолеум</td>\n",
       "      <td>2.7 м</td>\n",
       "      <td>домофон, видеонаблюдение</td>\n",
       "      <td>NaN</td>\n",
       "      <td>нет</td>\n",
       "      <td>рядом охраняемая стоянка</td>\n",
       "      <td>Пластиковые окна, неугловая, комнаты изолированы, новая сантехника, счётчики, тихий двор, кондиционер.</td>\n",
       "      <td>Квартира уютная, теплая. Добросовестные соседи. Рядом школа, поликлиника, садики, магазины, аптека, различные развивашки для детей.</td>\n",
       "      <td>62.0</td>\n",
       "      <td>9.0</td>\n",
       "      <td>6</td>\n",
       "      <td>4</td>\n",
       "      <td>10</td>\n",
       "      <td>12</td>\n",
       "      <td>4</td>\n",
       "      <td>1</td>\n",
       "      <td>4</td>\n",
       "      <td>3</td>\n",
       "      <td>0</td>\n",
       "      <td>0</td>\n",
       "    </tr>\n",
       "    <tr>\n",
       "      <th>60885</th>\n",
       "      <td>7</td>\n",
       "      <td>3</td>\n",
       "      <td>26.5</td>\n",
       "      <td>Жетысуский р-н, мкр Айнабулак-2 85</td>\n",
       "      <td>2018 г.п., потолки 2.8м., санузел 2 с/у и более, интернет проводной, полностью меблирована, Срочно Срочно! Удобно расположена в самом сердце мкр Айнабулак. Инфраструктура достаточно развита. Рядом...</td>\n",
       "      <td>6</td>\n",
       "      <td>0</td>\n",
       "      <td>0</td>\n",
       "      <td>0</td>\n",
       "      <td>0</td>\n",
       "      <td>0</td>\n",
       "      <td>0</td>\n",
       "      <td>NaN</td>\n",
       "      <td>NaN</td>\n",
       "      <td>NaN</td>\n",
       "      <td>металлическая</td>\n",
       "      <td>проводной</td>\n",
       "      <td>ламинат</td>\n",
       "      <td>2.8 м</td>\n",
       "      <td>домофон, кодовый замок, видеонаблюдение</td>\n",
       "      <td>NaN</td>\n",
       "      <td>NaN</td>\n",
       "      <td>NaN</td>\n",
       "      <td>NaN</td>\n",
       "      <td>Срочно Срочно! Удобно расположена в самом сердце мкр Айнабулак. Инфраструктура достаточно развита. Рядом с домом находиться ТД Белес, ТД Султан, ТД Айнабулак, супермаркеты Скиф Магнум, спортивно-р...</td>\n",
       "      <td>65.3</td>\n",
       "      <td>0.0</td>\n",
       "      <td>10</td>\n",
       "      <td>9</td>\n",
       "      <td>4</td>\n",
       "      <td>4</td>\n",
       "      <td>1</td>\n",
       "      <td>1</td>\n",
       "      <td>4</td>\n",
       "      <td>0</td>\n",
       "      <td>0</td>\n",
       "      <td>0</td>\n",
       "    </tr>\n",
       "  </tbody>\n",
       "</table>\n",
       "<p>559 rows × 37 columns</p>\n",
       "</div>"
      ],
      "text/plain": [
       "       district  live_rooms  price  \\\n",
       "11            0           1    8.5   \n",
       "308           0           1   18.1   \n",
       "585           0           1   16.8   \n",
       "929           0           1   11.8   \n",
       "1098          0           1   18.0   \n",
       "...         ...         ...    ...   \n",
       "58460         7           1   11.5   \n",
       "58960         7           1   15.8   \n",
       "59728         7           2   26.0   \n",
       "59759         7           2   23.0   \n",
       "60885         7           3   26.5   \n",
       "\n",
       "                                                     address  \\\n",
       "11                      Алатауский р-н, Северное кольцо 8611   \n",
       "308                      Алатауский р-н, мкр Акбулак, 3-я ул   \n",
       "585    Алатауский р-н, мкр Акбулак, Чуланова 117 — Момыш улы   \n",
       "929                                Алатауский р-н, Аккент 42   \n",
       "1098                                  Алатауский р-н, Аккент   \n",
       "...                                                      ...   \n",
       "58460          Жетысуский р-н, мкр Дорожник, Северное кольцо   \n",
       "58960                    Жетысуский р-н, мкр Айнабулак-3 139   \n",
       "59728                     Жетысуский р-н, мкр Айнабулак-2 84   \n",
       "59759                         Жетысуский р-н, мкр Кокжиек 10   \n",
       "60885                     Жетысуский р-н, мкр Айнабулак-2 85   \n",
       "\n",
       "                                                                                                                                                                                                  text_preview  \\\n",
       "11     жил. комплекс Северное кольцо, монолитный дом, 2014 г.п., состояние: хорошее, жил. площадь 29.5 кв.м., потолки 2.8м., Квартира- студия. ТОРГ небольшой, НАЛИЧНЫЙ РАСЧЕТ ( ипотека не подходит), Расс...   \n",
       "308    жил. комплекс Alatau City, монолитный дом, 2017 г.п., состояние: хорошее, потолки 2.7м., санузел совмещенный, частично меблирована, Просторная 1 комнатная квартира с изолированной кухней в ЖК Alat...   \n",
       "585    жил. комплекс Акбулак, монолитный дом, 2014 г.п., состояние: хорошее, потолки 2.8м., 1 к. монолит дом в микрорайоне Акбулак. НОвый район. год 2012года. этаж 5/9 общая площадь 51/23/15 состояние чи...   \n",
       "929                                                                                                                  монолитный дом, 2010 г.п., состояние: хорошее, потолки 4м., санузел совмещенный, Тех этаж   \n",
       "1098   жил. комплекс Аккент, монолитный дом, 2011 г.п., состояние: хорошее, жил. площадь 22 кв.м., кухня 12 кв.м., потолки 2.8м., санузел совмещенный, телефон: есть возможность подключения, частично мебл...   \n",
       "...                                                                                                                                                                                                        ...   \n",
       "58460  жил. комплекс Северное кольцо, монолитный дом, 2016 г.п., состояние: хорошее, потолки 2.7м., санузел совмещенный, интернет ADSL, пустая, Продается под коммерцию или для жилья 1-комнатная квартира ...   \n",
       "58960  панельный дом, 1988 г.п., состояние: евроремонт, жил. площадь 13 кв.м., кухня 10.1 кв.м., потолки 2.8м., санузел совмещенный, телефон: есть возможность подключения, интернет проводной, полностью м...   \n",
       "59728                                                                                                                панельный дом, 2008 г.п., состояние: евроремонт, санузел раздельный, частично меблирована   \n",
       "59759  В залоге, монолитный дом, 2010 г.п., состояние: хорошее, жил. площадь 32 кв.м., кухня 9 кв.м., потолки 2.7м., санузел раздельный, телефон: нет, интернет через TV кабель, полностью меблирована, Ква...   \n",
       "60885  2018 г.п., потолки 2.8м., санузел 2 с/у и более, интернет проводной, полностью меблирована, Срочно Срочно! Удобно расположена в самом сердце мкр Айнабулак. Инфраструктура достаточно развита. Рядом...   \n",
       "\n",
       "       owner  paid_hot  paid_up  paid_fast  paid_urgent  paid_turbo  \\\n",
       "11         6         0        0          0            0           0   \n",
       "308        4         0        0          0            0           0   \n",
       "585        0         0        0          0            0           0   \n",
       "929        6         0        0          0            0           0   \n",
       "1098       2         0        0          0            0           0   \n",
       "...      ...       ...      ...        ...          ...         ...   \n",
       "58460      4         0        0          0            0           0   \n",
       "58960      6         0        0          0            0           0   \n",
       "59728      4         0        0          0            0           0   \n",
       "59759      6         0        0          0            0           0   \n",
       "60885      6         0        0          0            0           0   \n",
       "\n",
       "       highlighted     flat.balcony flat.balcony_g      map.complex  \\\n",
       "11               0              NaN            NaN  Северное кольцо   \n",
       "308              0           лоджия             да      Alatau City   \n",
       "585              0              NaN            NaN          Акбулак   \n",
       "929              0              NaN            NaN              NaN   \n",
       "1098             0           лоджия             да           Аккент   \n",
       "...            ...              ...            ...              ...   \n",
       "58460            0              NaN            NaN  Северное кольцо   \n",
       "58960            0  балкон и лоджия             да              NaN   \n",
       "59728            0           балкон             да              NaN   \n",
       "59759            0           балкон            нет              NaN   \n",
       "60885            0              NaN            NaN              NaN   \n",
       "\n",
       "           flat.door        inet.type flat.flooring ceiling  \\\n",
       "11               NaN              NaN           NaN   2.8 м   \n",
       "308    металлическая              NaN       ламинат   2.7 м   \n",
       "585              NaN              NaN           NaN   2.8 м   \n",
       "929    металлическая              NaN       ламинат     4 м   \n",
       "1098   бронированная              NaN       ламинат   2.8 м   \n",
       "...              ...              ...           ...     ...   \n",
       "58460  металлическая             ADSL      линолеум   2.7 м   \n",
       "58960  бронированная        проводной      линолеум   2.8 м   \n",
       "59728  металлическая              NaN       ламинат     NaN   \n",
       "59759  металлическая  через TV кабель      линолеум   2.7 м   \n",
       "60885  металлическая        проводной       ламинат   2.8 м   \n",
       "\n",
       "                                 flat.security has_change  \\\n",
       "11                                         NaN        NaN   \n",
       "308                                    домофон        NaN   \n",
       "585                                        NaN        NaN   \n",
       "929                            охрана, домофон        NaN   \n",
       "1098          охрана, домофон, видеонаблюдение        NaN   \n",
       "...                                        ...        ...   \n",
       "58460                решетки на окнах, домофон        NaN   \n",
       "58960                 домофон, видеонаблюдение        NaN   \n",
       "59728                 домофон, видеонаблюдение        NaN   \n",
       "59759                 домофон, видеонаблюдение        NaN   \n",
       "60885  домофон, кодовый замок, видеонаблюдение        NaN   \n",
       "\n",
       "                         flat.phone              flat.parking  \\\n",
       "11                              NaN                       NaN   \n",
       "308                             NaN                       NaN   \n",
       "585                             NaN                   паркинг   \n",
       "929                             NaN                       NaN   \n",
       "1098   есть возможность подключения  рядом охраняемая стоянка   \n",
       "...                             ...                       ...   \n",
       "58460                           NaN                   паркинг   \n",
       "58960  есть возможность подключения  рядом охраняемая стоянка   \n",
       "59728                           NaN  рядом охраняемая стоянка   \n",
       "59759                           нет  рядом охраняемая стоянка   \n",
       "60885                           NaN                       NaN   \n",
       "\n",
       "                                                                                                                  options_text  \\\n",
       "11                                                                                                                         NaN   \n",
       "308                                                                                                                        NaN   \n",
       "585                                                                                                                        NaN   \n",
       "929                                                                                                                        NaN   \n",
       "1098   Пластиковые окна, неугловая, улучшенная, комнаты изолированы, встроенная кухня, новая сантехника, счётчики, тихий двор.   \n",
       "...                                                                                                                        ...   \n",
       "58460                               Пластиковые окна, неугловая, новая сантехника, счётчики, тихий двор, удобно под коммерцию.   \n",
       "58960                                                                                 Пластиковые окна, тихий двор, неугловая.   \n",
       "59728                    Пластиковые окна, неугловая, улучшенная, комнаты изолированы, встроенная кухня, счётчики, тихий двор.   \n",
       "59759                   Пластиковые окна, неугловая, комнаты изолированы, новая сантехника, счётчики, тихий двор, кондиционер.   \n",
       "60885                                                                                                                      NaN   \n",
       "\n",
       "                                                                                                                                                                                                          text  \\\n",
       "11     Квартира- студия. \\nТОРГ небольшой, НАЛИЧНЫЙ РАСЧЕТ ( ипотека не подходит), Рассрочку рассмотрим ( если сумма остается небольшая). \\nЦокольный этаж ( можно использовать как коммерческую недвижимос...   \n",
       "308    Просторная 1 комнатная квартира с изолированной кухней в ЖК Alatau City, от проверенного застройщика Exclusive Qurylys. Частично остаётся мебель, квартира в хорошем состоянии, рядом детские сады, ...   \n",
       "585    1 к. монолит дом в микрорайоне Акбулак. НОвый район. год 2012года. этаж 5/9 общая площадь 51/23/15 состояние чистое среднее. домофон. (культурно развитый район) лиф транспортная доступность. живит...   \n",
       "929                                                                                                                                                                                                   Тех этаж   \n",
       "1098                                                                                                                                                                                                       NaN   \n",
       "...                                                                                                                                                                                                        ...   \n",
       "58460  Продается под коммерцию или для жилья 1-комнатная квартира на цокольном этаже нового дома ЖК Северное Кольцо в мкр. Дорожник (Кокмайса), так как Целевое назначение помещения \"Коммерция\". \\n \\nМожн...   \n",
       "58960  Продам хорошую, светлую, уютную квартиру Рядом вся инфраструктура: школа, садик, поликлиники. Соседи тихие хорошие. Лоджия балкон с болшой квадратурой не включён в общую площадь. Перед входом квар...   \n",
       "59728                                                                                                                                                                                                      NaN   \n",
       "59759                                                                      Квартира уютная, теплая. Добросовестные соседи. Рядом школа, поликлиника, садики, магазины, аптека, различные развивашки для детей.   \n",
       "60885  Срочно Срочно! Удобно расположена в самом сердце мкр Айнабулак. Инфраструктура достаточно развита. Рядом с домом находиться ТД Белес, ТД Султан, ТД Айнабулак, супермаркеты Скиф Магнум, спортивно-р...   \n",
       "\n",
       "       total_square  kitchen_square  flat_floor  building_floor  days  \\\n",
       "11             29.5             0.0           7               6    24   \n",
       "308            44.8            15.0          12               5    18   \n",
       "585            51.0             0.0          10               6    12   \n",
       "929            35.0             0.0          10               9     4   \n",
       "1098           45.0            12.0           9               6     5   \n",
       "...             ...             ...         ...             ...   ...   \n",
       "58460          32.0             0.0           9               6    24   \n",
       "58960          32.4            10.1           5               2     3   \n",
       "59728          57.0            14.0           6               5    21   \n",
       "59759          62.0             9.0           6               4    10   \n",
       "60885          65.3             0.0          10               9     4   \n",
       "\n",
       "       building_age  building_type  flat_priv_dorm  flat_renovation  \\\n",
       "11                8              4               1                4   \n",
       "308               5              4               1                4   \n",
       "585               8              4               1                4   \n",
       "929              12              4               1                4   \n",
       "1098             11              4               1                4   \n",
       "...             ...            ...             ...              ...   \n",
       "58460             6              4               1                4   \n",
       "58960            34              5               1                0   \n",
       "59728            14              5               1                0   \n",
       "59759            12              4               1                4   \n",
       "60885             4              1               1                4   \n",
       "\n",
       "       flat_toilet  live_furniture  first_floor  \n",
       "11               1               2            0  \n",
       "308              4               2            0  \n",
       "585              1               2            0  \n",
       "929              4               2            0  \n",
       "1098             4               2            0  \n",
       "...            ...             ...          ...  \n",
       "58460            4               1            0  \n",
       "58960            4               0            0  \n",
       "59728            3               2            0  \n",
       "59759            3               0            0  \n",
       "60885            0               0            0  \n",
       "\n",
       "[559 rows x 37 columns]"
      ]
     },
     "execution_count": 136,
     "metadata": {},
     "output_type": "execute_result"
    }
   ],
   "source": [
    "df[df.flat_floor > df.building_floor]"
   ]
  },
  {
   "cell_type": "code",
   "execution_count": 137,
   "metadata": {},
   "outputs": [],
   "source": [
    "df['last_floor'] = df.flat_floor - df.building_floor\n",
    "df['last_floor'] = df['last_floor'].apply(lambda x: 1 if x == 0 else 0)"
   ]
  },
  {
   "cell_type": "code",
   "execution_count": 138,
   "metadata": {},
   "outputs": [],
   "source": [
    "df['sqare_per_room'] = df.total_square / df.live_rooms"
   ]
  },
  {
   "cell_type": "code",
   "execution_count": 139,
   "metadata": {},
   "outputs": [],
   "source": [
    "df.reset_index(drop=True, inplace=True)"
   ]
  },
  {
   "cell_type": "markdown",
   "metadata": {},
   "source": [
    "### address"
   ]
  },
  {
   "cell_type": "markdown",
   "metadata": {},
   "source": [
    "#### При обработке этого поля применим NLP"
   ]
  },
  {
   "cell_type": "code",
   "execution_count": 140,
   "metadata": {},
   "outputs": [
    {
     "data": {
      "text/plain": [
       "Бостандыкский р-н    18290\n",
       "Ауэзовский р-н       11622\n",
       "Алмалинский р-н      11379\n",
       "Медеуский р-н         6238\n",
       "Алатауский р-н        3578\n",
       "Наурызбайский р-н     3068\n",
       "Жетысуский р-н        2881\n",
       "Турксибский р-н       2400\n",
       "Name: address, dtype: int64"
      ]
     },
     "execution_count": 140,
     "metadata": {},
     "output_type": "execute_result"
    }
   ],
   "source": [
    "df.address.apply(lambda x: x.split(', ', 1)[0]).value_counts(dropna=False)"
   ]
  },
  {
   "cell_type": "markdown",
   "metadata": {},
   "source": [
    "Можно удалить левую часть поля address (ту, что до знака ',')"
   ]
  },
  {
   "cell_type": "code",
   "execution_count": 141,
   "metadata": {},
   "outputs": [],
   "source": [
    "def extract_address(str_address):\n",
    "    tmp_arr = str_address.split(', ', 1)\n",
    "    if len(tmp_arr) >= 2:\n",
    "        return tmp_arr[1]\n",
    "    else:\n",
    "        return 'empty'"
   ]
  },
  {
   "cell_type": "code",
   "execution_count": 142,
   "metadata": {},
   "outputs": [],
   "source": [
    "df.address = df.address.apply(lambda x: extract_address(x))"
   ]
  },
  {
   "cell_type": "code",
   "execution_count": 143,
   "metadata": {},
   "outputs": [],
   "source": [
    "from sklearn.feature_extraction.text import CountVectorizer\n",
    "import nltk\n",
    "import re"
   ]
  },
  {
   "cell_type": "code",
   "execution_count": 144,
   "metadata": {},
   "outputs": [],
   "source": [
    "# nltk.download('stopwords')\n",
    "# from nltk.corpus import stopwords\n",
    "# print(stopwords.words('russian'))\n",
    "\n",
    "# result = re.search(r'мкр№\\d+', 'fvvмкр№500ttvv 445')\n",
    "# print(result.group(0))\n",
    "\n",
    "# result = re.search(r'[а-я]+-\\d+', 'айнабулак-3')\n",
    "# if result is not None:\n",
    "#     print(result.group(0))\n",
    "# else:\n",
    "#     print('None')"
   ]
  },
  {
   "cell_type": "code",
   "execution_count": 145,
   "metadata": {},
   "outputs": [],
   "source": [
    "def stop_words_remover(text):\n",
    "    '''Предобработка текстов: удаление дополнительных стоп-слов'''\n",
    "    \n",
    "    text = text.lower()\n",
    "    \n",
    "    text = text.replace('мкр №', 'мкр')\n",
    "    text = text.replace('горный гигант', 'горныйгигант')\n",
    "    text = text.replace('военный городок', 'военный городок')\n",
    "    text = text.replace('яссауй', 'яссауи')\n",
    "    text = text.replace('момушылы', 'момышулы')\n",
    "    text = text.replace('момыш', 'момышулы')\n",
    "    text = text.replace('момышұлы', 'момышулы')\n",
    "    text = text.replace('момышулыұлы', 'момышулы')\n",
    "    text = text.replace('момышулыулы', 'момышулы')    \n",
    "    text = text.replace('толе би', 'толеби')\n",
    "    text = text.replace('казбек би', 'казбекби')\n",
    "    \n",
    "    text = re.sub(r'\\b\\d+\\b', '', text) # Удаляем цифры\n",
    "    text = re.sub( r'\\b\\w\\b', ' ', text ) # удаление отдельно стоящих букв\n",
    "    text = re.sub( r'\\b\\d+\\w+\\b', ' ', text ) # удаление слов, начинающихся с цифры\n",
    "   \n",
    "    singles = [word for word in text.split()]\n",
    "    text = ' '.join(singles)\n",
    "        \n",
    "    #Удаление незначимых слов\n",
    "    stw = ['ул', 'улица', 'проспект', 'мкр', 'мкрн', 'бостандыкский', 'ауэзовский', 'алмалинский', 'медеуский', 'алатауский', 'наурызбайский',\n",
    "           'жетысуский', 'турксибский', 'ая']\n",
    "#     stw.extend(['restaura', 'restauran', 'restaurant', 'restaurante', 'restaurants', 'resto', 'restuarant',\n",
    "#                 'restau', 'restaur', 'resturant'])\n",
    "    \n",
    "    remove = r'\\b(' + '|'.join(stw) + r')\\b'  \n",
    "    text = re.sub(remove, ' ', text)\n",
    "    \n",
    "    return  text"
   ]
  },
  {
   "cell_type": "code",
   "execution_count": 146,
   "metadata": {},
   "outputs": [
    {
     "name": "stdout",
     "output_type": "stream",
     "text": [
      "CountVectorizer(binary=True, max_df=0.7, min_df=10)\n"
     ]
    }
   ],
   "source": [
    "vectorizer = CountVectorizer(ngram_range=(1, 1),\n",
    "                             min_df=10,\n",
    "                             max_df=0.7,\n",
    "                             #decode_error='ignore'\n",
    "                             #strip_accents='ascii', #'unicode', 'ascii', None\n",
    "                             binary=True,\n",
    "                            )                            \n",
    "print(vectorizer)"
   ]
  },
  {
   "cell_type": "code",
   "execution_count": 147,
   "metadata": {},
   "outputs": [],
   "source": [
    "df['address1'] = df.address.apply(lambda s: stop_words_remover(s))"
   ]
  },
  {
   "cell_type": "code",
   "execution_count": 148,
   "metadata": {},
   "outputs": [],
   "source": [
    "Vect = vectorizer.fit_transform(df.address1)"
   ]
  },
  {
   "cell_type": "code",
   "execution_count": 149,
   "metadata": {},
   "outputs": [
    {
     "name": "stdout",
     "output_type": "stream",
     "text": [
      "#samples: 59456, #features: 571\n",
      "571\n",
      "['абай', 'абая', 'абдуллиных', 'абиша', 'абишева', 'абылай', 'ади', 'айбасова', 'айгерим', 'айманова', 'айнабуклак', 'айнабулак', 'айриха', 'айтеке', 'айтиева', 'ак', 'акан', 'акбулак', 'акжар', 'аккент']\n"
     ]
    }
   ],
   "source": [
    "num_samples_Vect, num_features_Vect = Vect.shape\n",
    "print(\"#samples: %d, #features: %d\" % (num_samples_Vect,  num_features_Vect))\n",
    "print(len(vectorizer.get_feature_names()))\n",
    "print(vectorizer.get_feature_names()[:20])"
   ]
  },
  {
   "cell_type": "code",
   "execution_count": 150,
   "metadata": {},
   "outputs": [],
   "source": [
    "ind_test = 2"
   ]
  },
  {
   "cell_type": "code",
   "execution_count": 151,
   "metadata": {},
   "outputs": [
    {
     "name": "stdout",
     "output_type": "stream",
     "text": [
      "  (0, 413)\t1\n",
      "  (0, 162)\t1\n",
      "(59456, 571)\n"
     ]
    }
   ],
   "source": [
    "print(Vect[ind_test])\n",
    "print(Vect.toarray().shape)"
   ]
  },
  {
   "cell_type": "code",
   "execution_count": 152,
   "metadata": {},
   "outputs": [
    {
     "data": {
      "text/plain": [
       "('райымбека', 'емцова')"
      ]
     },
     "execution_count": 152,
     "metadata": {},
     "output_type": "execute_result"
    }
   ],
   "source": [
    "vectorizer.get_feature_names()[413], vectorizer.get_feature_names()[162]"
   ]
  },
  {
   "cell_type": "code",
   "execution_count": 153,
   "metadata": {},
   "outputs": [
    {
     "data": {
      "text/plain": [
       "2    проспект Райымбека — Емцова\n",
       "Name: address, dtype: object"
      ]
     },
     "execution_count": 153,
     "metadata": {},
     "output_type": "execute_result"
    }
   ],
   "source": [
    "df[df.index==2].address"
   ]
  },
  {
   "cell_type": "markdown",
   "metadata": {},
   "source": [
    "Добавляем в dataframe столбцы с адресными признаками"
   ]
  },
  {
   "cell_type": "code",
   "execution_count": 154,
   "metadata": {},
   "outputs": [],
   "source": [
    "features_matrix = Vect.toarray()\n",
    "address_f = []\n",
    "for i in range(features_matrix.shape[1]):\n",
    "    feat_to_add = str(i) + '_f'\n",
    "    address_f.append(feat_to_add)\n",
    "    df[feat_to_add] = features_matrix[:,i]"
   ]
  },
  {
   "cell_type": "markdown",
   "metadata": {},
   "source": [
    "Проверяем"
   ]
  },
  {
   "cell_type": "code",
   "execution_count": 155,
   "metadata": {},
   "outputs": [
    {
     "data": {
      "text/html": [
       "<div>\n",
       "<style scoped>\n",
       "    .dataframe tbody tr th:only-of-type {\n",
       "        vertical-align: middle;\n",
       "    }\n",
       "\n",
       "    .dataframe tbody tr th {\n",
       "        vertical-align: top;\n",
       "    }\n",
       "\n",
       "    .dataframe thead th {\n",
       "        text-align: right;\n",
       "    }\n",
       "</style>\n",
       "<table border=\"1\" class=\"dataframe\">\n",
       "  <thead>\n",
       "    <tr style=\"text-align: right;\">\n",
       "      <th></th>\n",
       "      <th>address</th>\n",
       "      <th>address1</th>\n",
       "      <th>413_f</th>\n",
       "      <th>162_f</th>\n",
       "    </tr>\n",
       "  </thead>\n",
       "  <tbody>\n",
       "    <tr>\n",
       "      <th>2</th>\n",
       "      <td>проспект Райымбека — Емцова</td>\n",
       "      <td>райымбека — емцова</td>\n",
       "      <td>1</td>\n",
       "      <td>1</td>\n",
       "    </tr>\n",
       "  </tbody>\n",
       "</table>\n",
       "</div>"
      ],
      "text/plain": [
       "                       address              address1  413_f  162_f\n",
       "2  проспект Райымбека — Емцова    райымбека — емцова      1      1"
      ]
     },
     "execution_count": 155,
     "metadata": {},
     "output_type": "execute_result"
    }
   ],
   "source": [
    "df[df.index==2][['address', 'address1', '413_f', '162_f']]"
   ]
  },
  {
   "cell_type": "markdown",
   "metadata": {},
   "source": [
    "Забегая вперед, скажем, что обработка поля address и включение сгенерированных признаков дало выигрыш в MAPE на целый 1%"
   ]
  },
  {
   "cell_type": "markdown",
   "metadata": {},
   "source": [
    "### Теперь поработаем с другими текстовыми признаками: 'text_preview', 'options_text' и 'text'\n",
    "#### Попробуем извлечь из них ключевые слова: Неугловая, Улучшенная, и т.д."
   ]
  },
  {
   "cell_type": "markdown",
   "metadata": {},
   "source": [
    "Объединяем признаки в один"
   ]
  },
  {
   "cell_type": "code",
   "execution_count": 156,
   "metadata": {},
   "outputs": [],
   "source": [
    "df['texts'] = df.text_preview + ' ' + df.options_text + ' ' + df.text"
   ]
  },
  {
   "cell_type": "code",
   "execution_count": 157,
   "metadata": {},
   "outputs": [],
   "source": [
    "pd.set_option('display.max_colwidth', None)"
   ]
  },
  {
   "cell_type": "code",
   "execution_count": 158,
   "metadata": {
    "scrolled": true
   },
   "outputs": [
    {
     "data": {
      "text/plain": [
       "36168                                                                                                                                                                                                                                                                                                                                                                                                                                                                                                                                                                                                                                                                                                                                                                                                                                                                                                                                                                                                                                                                                                                                                                                                                                                                                                                                                                                                                                                                                                                                                                                                                                                                                                                                                                                                                                                         жил. комплекс Gagarin Park, монолитный дом, 2016 г.п., состояние: евроремонт, потолки 3м., санузел раздельный, частично меблирована, Срочно! Пластиковые окна, неугловая, улучшенная, комнаты изолированы, встроенная кухня, новая сантехника, счётчики, тихий двор, кондиционер. Срочно!\n",
       "41026                                                                                                                                                                                                                                                                                                                                                                                                                                                                                                                                                                                                                                                                                                                                                                                                                                                                                                                                                                                                                                                                                                                                                                                                                                                                                                                                                                                                                                                                                                             панельный дом, 1972 г.п., состояние: хорошее, жил. площадь 37 кв.м., кухня 6 кв.м., потолки 2.7м., санузел совмещенный, телефон: отдельный, интернет ADSL, частично меблирована, Продаётся 3х комнатная квартира Рядом с домом школы: РФМШ, 10, 81, 138, 51, музыкальная школа им. Байсеитовой, КазНу… Тихий двор, встроенная кухня, счётчики. Продаётся 3х комнатная квартира \\nРядом с домом школы: РФМШ, 10, 81, 138, 51, музыкальная школа им. Байсеитовой, КазНу, универСвязи, Политех, Ботанический сад, Атакент, Магнум, FixPrice, театр Ауэзова, cinema towers, N1 городская дет. больница, N12 поликлиника —-ЗВОНИТЬ ТОЛЬКО-\n",
       "44569                                                                                                                                                                                                                                                                                                                                                                                                                                                                                                                                                                                                                                                                                                                                                                                                                                                                                                                                                                                                                                                                                                                                                                                                                                                                                                                                                                                                                    жил. комплекс AFD Plaza, монолитный дом, 2016 г.п., состояние: евроремонт, потолки 3м., санузел 2 с/у и более, интернет ADSL, частично меблирована, Квартира в самом сердце города! В шаговой доступности все достопримечательности, много развлекательных заведений, отличная транспортная развязка, фуни… Пластиковые окна, улучшенная, кухня-студия, встроенная кухня, новая сантехника, счётчики, тихий двор. Квартира в самом сердце города! В шаговой доступности все достопримечательности, много развлекательных заведений, отличная транспортная развязка, фуникулер на Кок-Тобе, Дворец Республики, ТРЦ Достык плаза, ТРЦ Рамстор, ТРЦ Ритц Палас, КИМЕП, университеты, школы, и т.д. \\nПолное сопровождение сделки!\n",
       "13960                                                                                                                                                                                                                                                                                                                                                                                                                                                                                                                                                                                                                                                                                                                                                                                                                                                                                                                                                                                                                                                                                                                                                                                                                                                                                                                                                                                                                                                                                                                                      панельный дом, 1974 г.п., состояние: евроремонт, потолки 2.7м., санузел совмещенный, интернет ADSL, частично меблирована, Продаётся 3-х комнатная квартира в Алмалинском районе, удобное расположение: в шаговой доступности школы, детские сады, развивательные центры, базар, аптеки, поликлиника, дворы… Пластиковые окна, комнаты изолированы, кондиционер. Продаётся 3-х комнатная квартира в Алмалинском районе, удобное расположение: в шаговой доступности школы, детские сады, развивательные центры, базар, аптеки, поликлиника, дворы с детскими площадками. Угловая, стены и потолок утеплённые.\n",
       "47462                                                                                                                                                                                                                                                                                                                                                                                                                                                                                                                                                                                                                                                                                                                                                                                                                                                                                                                                                                                                                                                                                                                                                                                                                                                                                                                                                                                                                                                                                                                кирпичный дом, 1966 г.п., состояние: евроремонт, санузел совмещенный, телефон: отдельный, частично меблирована, Крышу делали сами для себя проблем нет, порядочные и интеллигентные хозяева и соседи, квартира с отличным ремонтом, Кухня Franke, дом расположен в Элитном районе в дали от шумных ули… Пластиковые окна, неугловая, встроенная кухня, новая сантехника, счётчики, тихий двор, кондиционер. Крышу делали сами для себя проблем нет, порядочные и интеллигентные хозяева и соседи, квартира с отличным ремонтом, Кухня Franke, дом расположен в Элитном районе в дали от шумных улиц, поможем продать недвижимость.\n",
       "55420                                                                                                                                                                                                                                                                                                                                                                                                                                                                                                                                                                                                                                                                                                                                                                                                                                                                                                                                                                                                                                                                                                                                                                                                                                                                                                                                                                                                                                                                                                                                                                                                     1990 г.п., состояние: хорошее, жил. площадь 16.5 кв.м., кухня 9 кв.м., потолки 2.8м., санузла нет, телефон: есть возможность подключения, Жекешеленген бөлмелер сатылады.1990ж. Красный кирпич, вход отдельный, пристройка кухня, септик, 9квм холодный помещение (сарай) есть. Жилая комната16, 5квм, кух… Пластиковые окна, неугловая, тихий двор. Жекешеленген бөлмелер сатылады.1990ж. Красный кирпич, вход отдельный, пристройка кухня, септик, 9квм холодный помещение (сарай) есть. Жилая комната16, 5квм, кухня 9квм. общий 25, 5квм.\n",
       "47355                                                                                                                                                                                                                                                                                                                                                                                                                                                                                                                                                                                                                                                                                                                                                                                                                                                                                                                                                                                                                                                                                                                                                                                                                                                                                                                                                                                                                                                                                                                                                                    монолитный дом, 2014 г.п., состояние: евроремонт, санузел совмещенный, частично меблирована, Продается квартира! Новая планировка, дом 2014 года постройки, рядом в шаговой доступности имеются школы, детские сады, Магнум, автобусные остановки и т.д. Полное сопровождение сделки со стороны агентство Пластиковые окна, неугловая, кухня-студия, тихий двор. Продается квартира! Новая планировка, дом 2014 года постройки, рядом в шаговой доступности имеются школы, детские сады, Магнум, автобусные остановки и т.д. Полное сопровождение сделки со стороны агентство.\n",
       "34524                                                                                                                                                                                                                                                                                                                                                                                                                                                                                                                                                                                                                                                                                                                                                                                                                                                                                                                                                                                                                                                                                                                                                                                                                                                                                                   жил. комплекс Гаухартас, монолитный дом, 2010 г.п., состояние: евроремонт, частично меблирована, Пластиковые окна, улучшенная, кухня-студия, кондиционер, неугловая, тихий двор, удобно под коммерцию срочно продается уютная квартира с евроремонтом от первых хозяев в жилом комплексе элит клас… Пластиковые окна, неугловая, улучшенная, кухня-студия, тихий двор, кондиционер, удобно под коммерцию. Пластиковые окна, улучшенная, кухня-студия, кондиционер, неугловая, тихий двор, удобно под коммерцию срочно продается уютная квартира с евроремонтом от первых хозяев в жилом комплексе элит класса, расспаложенный по проспекту Абая, частично оставляют мебель и технику. Все, что необходимо для комфортной жизни в шаговой доступности. Отличное предложение в сопоставлении цены и качества! торг при наличном расчете. Звоните!\n",
       "38689                                                                                                                                                                                                                                                                                                                                                                                                                                                                                                                                                                                                                                                                                                                                                                                                                                                                                                                                                                                                                                                                                                                                                                                                                                                                                                                                                                                        жил. комплекс Симфония, монолитный дом, 2015 г.п., состояние: евроремонт, санузел 2 с/у и более, интернет через TV кабель, полностью меблирована, Отличное предложение в самом востребованном жилом комплексе! На территории государственный детский сад. Развитая инфраструктура комплекса предоставляе… Пластиковые окна, улучшенная, комнаты изолированы, встроенная кухня, новая сантехника, счётчики, тихий двор, кондиционер. Отличное предложение в самом востребованном жилом комплексе! \\nНа территории государственный детский сад. Развитая инфраструктура комплекса предоставляет все для комфортного проживания. В шаговой доступности находится ТРЦ АДК, ТД Дана, рынок, станция метро, остановки, школы и т.д. Полное сопровождение сделки!\n",
       "42301                                                                                                                                                                                                                                                                                                                                                                                                                                                                                                                                                                                                                                                                                                                                                                                                                                                                                                                                                                                                                                                                                                                                                                                                                                                                                                                                                                                                                                                                                         панельный дом, 1980 г.п., состояние: хорошее, жил. площадь 43 кв.м., кухня 11 кв.м., потолки 2.85м., санузел раздельный, частично меблирована, Продается 3-х комнатная квартира в КРУПНОПАНЕЛЬНОМ доме улучшенной планировки. Этаж последний, все сухо. Отличный благоустроенный двор. Вид на ГОРЫ! Квар… Неугловая. Продается 3-х комнатная квартира в КРУПНОПАНЕЛЬНОМ доме улучшенной планировки. Этаж последний, все сухо. Отличный благоустроенный двор. Вид на ГОРЫ! Квартира частично меблирована. Не угловая. В шаговой доступности школы, сады, магазины, поликлиника и многое другое. Транспорт в любую часть города. Юридическое сопровождение.\n",
       "37006                                                                                                                                                                                                                                            жил. комплекс Mountain Drive, монолитный дом, 2019 г.п., состояние: евроремонт, санузел 2 с/у и более, телефон: отдельный, интернет оптика, полностью меблирована, SN 725 Просторная, шикарная квартира в современном жилом комплексе Mountian Drive. расположен в экологически чистом и престижном райо… Пластиковые окна, кухня-студия, встроенная кухня, новая сантехника, счётчики, тихий двор, кондиционер. SN 725 \\n \\nПросторная, шикарная квартира в современном жилом комплексе Mountian Drive. \\n \\nрасположен в экологически чистом и престижном районе. \\n \\nВ квартире отличный ремонт. Покрытие полов: ламинат и керамогранит (с подогревом), имеется кондиционер, два санузла (в одном - душ, в другом - ванна), окна в детской комнате смотрят на юг, в гостиной комнате на север, а в спальне на запад. В квартире много света, тёплая с удобной планировкой, а также со стильной мебелью и современной техникой. Продумано всё детально до мелочей. \\n \\nКвартира идеально подходит для проживания современной семьи. \\n \\nПомимо мебели, техники (от именитых производителей) и отличного ремонта в стоимость входят 2 паркинг места под навесом. \\n \\nИмеется возможность докупить террасы и кладовки в неограниченном количестве. \\n \\nЖилой комплекс «Mountain Drive» – называют уютным жилищем в горах. Располагается он на участке площадью два гектара и включает четыре трехэтажных дома, спроектированных в стиле современных зданий небольшого европейского городка с благоустроенным двором, красивым ландшафтом. \\n \\nКаркас строения домов: монолитный железобетон, внешние стены из теплоблоков, а окна из энергосберегающих стеклопакетов. \\n \\nПроживание в этом комплексе дополняет свежий воздух и роскошный вид - круглый год из-за соседства с горами \\n \\nПросмотр возможен в любое удобное для вас время. \\n \\nЭксклюзивно от агентства недвижимости Авангард.\n",
       "2601                                                                                                                                                                                                                                                                                                                                                                                                                                                                                                                                                                                                                                                                                                                                                                                                                                                                                                                                                                                                                                                                                                                                                                                                                                                                                                                                                                                                                                                                                                                                                                                                                                                                                                                                                                                            жил. комплекс Аккент, монолитный дом, 2010 г.п., состояние: хорошее, санузел совмещенный, частично меблирована, Квартира в хорошем состоянии находится, имеются много встроенных шкафов Пластиковые окна, неугловая, улучшенная, комнаты изолированы, тихий двор, кондиционер. Квартира в хорошем состоянии находится, имеются много встроенных шкафов.\n",
       "25506                                                                                                                                                                                                                                                                                                                                                                                                                                                                                                                                                                                                                                                                                                                                                                                                                                                                                                                                                                                                                                                                                                                                                                                                                                                                                          панельный дом, 1989 г.п., состояние: евроремонт, жил. площадь 42.3 кв.м., кухня 11.6 кв.м., потолки 2.6м., санузел раздельный, телефон: отдельный, интернет через TV кабель, частично меблирована, Продаётся 3х комнатная квартира, теплая уютная, тёплые полы, не угловая, с двумя балконами, в балко… Пластиковые окна, неугловая, улучшенная, комнаты изолированы, встроенная кухня, новая сантехника, кладовка, счётчики, тихий двор. Продаётся 3х комнатная квартира, теплая уютная, тёплые полы, не угловая, с двумя балконами, в балконах встроенные шкафы;большая светлая и удобная кухня. есть гардеробная. имеется кладовка на лестничной площадке, очень удобно ставить велосипеды, коляски ;все в шаговой доступности супермаркеты, х/з \"Аксай-нан\". Предварительно звонить и обговаривать время просмотра. Предложение от хозяина квартиры.\n",
       "795                                                                                                                                                                                                                                                                                                                                                                                                                                                                                                                                                                                                                                                                                                                                                                                                                                                                                                                                                                                                                                                                                                                                                                                                                                                                                                        жил. комплекс Алмалы, монолитный дом, 2017 г.п., состояние: евроремонт, потолки 2.7м., санузел совмещенный, частично меблирована, Срочно продаётся 1 комнатная квартира в мкр АКБУЛАК Ж. К. Алмалы. Чистая и уютная квартира, с кухонной мебелю. Ремонт сделан на совесть, из добротных строительных матери… Пластиковые окна, неугловая, улучшенная, комнаты изолированы, встроенная кухня, новая сантехника, счётчики, тихий двор. Срочно продаётся 1 комнатная квартира в мкр АКБУЛАК Ж. К. Алмалы. Чистая и уютная квартира, с кухонной мебелю. Ремонт сделан на совесть, из добротных строительных материалов. По всем стандартам строительства. Кухонную мебель сделан из качественного материала, чтобы служил долго. Из бытовой техники духовка, вытяжка, мойка каменная. Торг при показе квартиры. Если ипотека цена без изменений.\n",
       "45934                                                                                                                                                                                                                                                                                                                                                                                                                                                                                                                                                                                                                                                                                                                                                                                                                                                                                                                                                                                                                                                                                                                                                                                                                                                                                                                               панельный дом, 1976 г.п., состояние: хорошее, потолки 2.8м., санузел раздельный, телефон: отдельный, интернет проводной, частично меблирована, Светлая уютная квартира в престижном районе. В пешей доступности гимназия №30, ясли-сад №110, различные секции, санаторий Самал. Новые оснащённые детские… Пластиковые окна, неугловая, комнаты изолированы, встроенная кухня, новая сантехника, счётчики, тихий двор. Светлая уютная квартира в престижном районе. В пешей доступности гимназия №30, ясли-сад №110, различные секции, санаторий Самал. Новые оснащённые детские площадки, хорошие соседи. Квартира не угловая, окна восток-запад, вид из окна на башню Кок-Тобе. Рядом магазины: Магнум, Беккер, Алатау-кус. В двух остановках ТРЦ Dostyk Plaza. Транспорт ходит в любую точку города. Не в залоге.\n",
       "39453    монолитный дом, 2013 г.п., состояние: евроремонт, интернет оптика, Квартира находится в живописном месте близ гор Заилийского Алатау в микрорайоне Каргалы ЖК Хан-Тенгри. Жилищный комплекс является жильем комфорт класса, город в городе. В квартире выполнен авторский ремонт по дизайн проекту. Входна… Пластиковые окна, неугловая, улучшенная, комнаты изолированы, кухня-студия, встроенная кухня, новая сантехника, счётчики, тихий двор, кондиционер. Квартира находится в живописном месте близ гор Заилийского Алатау в микрорайоне Каргалы ЖК Хан-Тенгри. Жилищный комплекс является жильем комфорт класса, город в городе. В квартире выполнен авторский ремонт по дизайн проекту. Входная бронированная дверь (толщина 160мм. ), 3D стена, немецкий ламинат, декоративные кирпичики. Внутренние двери квартиры из цельного дерева (сосна) изысканно белого цвета (Aivori). Дизайн кухни выполнен в белых тонах с использованием качественных натуральных материалов. Встроенная бытовая техника фирмы «Hansa», индукционная варочная поверхность 360 Вт, холодильник «Side by Side». 3D подсветка в дизайн тонах (электро синий, точечная, фигурная). Исполнение ванной комнаты в спокойных тонах с использованием качественных материалов и дорогой германской сантехники. Подвесной унитаз, душевая система пр-во Германии, акриловая ванна, теплые Электра полы. На территории ЖК очень хорошо развита инфраструктура: Школа, детские сады, развивающие центры, кафе, супермаркет \"Magnum\", банки, парикмахерские, а также отличная транспортная развязка. Тихий двор с закрытой футбольной площадкой, с баскетбольным полем, отличной спортивной площадкой и отдельной детской площадкой с горками, качелями песочницами. Имеется спорт зал для оздоровления всех членов своей семьи. Наличие медицинского центра в непосредственной близости также можно добавить в список преимущества расположения данной квартиры. Во дворе имеется огромная парковочная площадка, что также удобно как для самих жильцов, так и для гостей. Дома, построенные компанией \"Элитстрой\" проверены временем, имеет сейсмостойкость 9 баллов.\n",
       "19688                                                                                                                                                                                                                                                                                                                                                                                                                                                                                                                                                                                                                                                                                                                                                                                                                                                                                                                                                                                                                                                                                                                                                                                                                                                                                                                                                                                                                                                                                                                                                                                                                                                                                                                                                                  монолитный дом, 1989 г.п., состояние: хорошее, жил. площадь 31 кв.м., кухня 9 кв.м., потолки 2.7м., санузел раздельный, телефон: отдельный, интернет ADSL, полностью меблирована, Риелторов прошу не беспокоить, за наличный расчет Пластиковые окна, улучшенная, комнаты изолированы, встроенная кухня, счётчики, тихий двор. Риелторов прошу не беспокоить, за наличный расчет\n",
       "15054                                                                                                                                                                                                                                                                                                                                                                                                                                                                                                                                                                                                                                                                                                                                                                                                                                                                                                                                                                                                                                                                                                                                                                                                                                                              панельный дом, 1975 г.п., состояние: хорошее, санузел совмещенный, телефон: отдельный, частично меблирована, Представляем Вашему вниманию общежитие. Отличный вариант для комфортного проживания, а также для сдачи в аренду. Ухоженный двор с детской площадкой, чистый подъезд, замечательные дружелю… Пластиковые окна. Представляем Вашему вниманию общежитие. Отличный вариант для комфортного проживания, а также для сдачи в аренду. Ухоженный двор с детской площадкой, чистый подъезд, замечательные дружелюбные соседи. Вы найдете в непосредственной близости все, что необходимо для Вашей жизнедеятельности (магазины, аптеки, банки, детские сады, школы и многое другое). Удобная транспортная развязка по всем направлениям города. Полный пакет Документов. Дополнительная информация по телефону. Просмотр квартиры в удобное для вас время. \\nС уважением, Жанна.\n",
       "22048                                                                                                                                                                                                                                                                                                                                                                                                                                                                                                                                                                                                                                                                                                                                                                                                                                                                                                                                                                                                                                                                                                                                                                                                                                                                                                                                                                                                                                                                                                                                                                                                                                                                                                                                                                                                                                                                        панельный дом, 1968 г.п., состояние: хорошее, санузел совмещенный, телефон: отдельный, Обменяю с доплатой, на частный дом, с участком Пластиковые окна, встроенная кухня, новая сантехника, кладовка, счётчики, тихий двор. Обменяю с доплатой, на частный дом, с участком\n",
       "26286                                                                                                                                                                                                                                                                                                                                                                                                                                                                                                                                                                                                                                                                                                                                                                                                                                                                                                                                                                                                                                                                                                                                                                                                                                                                                                                                                     монолитный дом, 1994 г.п., состояние: хорошее, потолки 2.8м., санузел раздельный, интернет оптика, полностью меблирована, Exclusive Тёплая и светлая квартира-студия с качественным и дорогим ремонтом, авторский дизайн, немецкие деревянные двери, полностью меблированная, панорамное остекл… Пластиковые окна, улучшенная, комнаты изолированы, кухня-студия, встроенная кухня, счётчики. Exclusive Тёплая и светлая квартира-студия с качественным и дорогим ремонтом, авторский дизайн, немецкие деревянные двери, полностью меблированная, панорамное остекление с великолепным видом на город, кондиционеры, вся бытовая техника, большая остекленная лоджия, 2 лифта, 3фазы (отдельное эл. питание), люстры, итальянские батареи, теплая. Один хозяин. В собственности более 10 лет.\n",
       "54294                                                                                                                                                                                                                                                                                                                                                                                                                                                                                                                                                                                                                                                                                                                                                                                                                                                                                                                                                                                                                                                                                                                                                                                                                        кирпичный дом, 1962 г.п., состояние: хорошее, потолки 2.75м., санузел раздельный, телефон: отдельный, интернет ADSL, полностью меблирована, Продается квартира в хорошем доме (считается одним из трех лучших домов в районе), балкон остеклен и расширен, сан узел раздельный, двойная входная дверь, мета… Пластиковые окна, новая сантехника, счётчики, тихий двор. Продается квартира в хорошем доме (считается одним из трех лучших домов в районе), балкон остеклен и расширен, сан узел раздельный, двойная входная дверь, металлическая и деревянная, вся мебель и техника остается в подарок, тихий чистый двор, спокойный район, дом состоит из 2-х подъездов и двух этажей есть место для парковки автомобиля! Всё рядом, далеко не надо ехать, почта, поликлиника детская взрослая, Small, чайка супермаркет, банки, аптеки, маршруты в любой конец города. В качестве бонуса + дополнительно кирпичный сарай!\n",
       "17907                                                                                                                                                                                                                                                                                                                                                                                                                                                                                                                                                                                                                                                                                                                                                                                                                                                                                                                                                                                                                                                                                                                                                                                                                                                                                                                                                                                                                                                                                                                                              панельный дом, 1990 г.п., состояние: хорошее, жил. площадь 36 кв.м., кухня 10 кв.м., потолки 2.9м., санузел раздельный, телефон: отдельный, интернет проводной, частично меблирована, Продам 2 комнатную квартиру. в районе с развитой инфраструктурой. Все необходимое для комфортного проживания в шагов… Пластиковые окна, неугловая, улучшенная, комнаты изолированы, встроенная кухня, новая сантехника, счётчики, тихий двор. Продам 2 комнатную квартиру. в районе с развитой инфраструктурой. Все необходимое для комфортного проживания в шаговой доступности. Показ в любое удобное время.\n",
       "47460                                                                                                                                                                                                                                                                                                                                                                                                                                                                                                                                                                                                                                                                                                                                                                                                                                                                                                                                                                                                                                                                                                                                                                                                                                                                                                                                                                                                                                             кирпичный дом, 1985 г.п., состояние: среднее, потолки 2.7м., санузел раздельный, частично меблирована, Два балкона, Дом расположен в тихом ухоженном дворе, крыша заменена, очень хороший район с отличным расположением, чистый воздух во дворе сохранились белки, рядом несколько детсадов и школ, Т… Пластиковые окна, неугловая, улучшенная, кухня-студия, встроенная кухня, тихий двор. Два балкона, Дом расположен в тихом ухоженном дворе, крыша заменена, очень хороший район с отличным расположением, чистый воздух во дворе сохранились белки, рядом несколько детсадов и школ, ТРЦ Достык Плаза 15минут ходьбы, Магнум рядом, прогулочные зоны вдоль речки, поможем продать недвижимость.\n",
       "29179                                                                                                                                                                                                                                                                                                                                                                                                                                                                                                                                                                                                                                                                                                                                                                                                                                                                                                                                                                                                                                                                                                                                                                                                                                                                                                                                                                                                                                                                                                                                                                                                                                                                                                                                                                                                                                                                                                 монолитный дом, 2016 г.п., состояние: требует ремонта, санузел совмещенный, Ипотека рассматривается! Показ в любое время! Пластиковые окна, тихий двор, неугловая, улучшенная, комнаты изолированы. Ипотека рассматривается! Показ в любое время!\n",
       "58803                                                                                                                                                                                                                                                                                                                                                                                                                                                                                                                                                                                                                                                                                                                                                                                                                                                                                                                                                                                                                                                                                                                                                                                                                                                                                                                                                                                                                      монолитный дом, 2008 г.п., состояние: хорошее, жил. площадь 67 кв.м., кухня 20 кв.м., потолки 2.8м., санузел 2 с/у и более, телефон: отдельный, интернет оптика, частично меблирована, Хорошая, большая квартира в современном стиле, 3 комнаты, большая кухня 20м2, с кладовкой прям в ней, 2 отдель… Пластиковые окна, улучшенная, комнаты изолированы, тихий двор. Хорошая, большая квартира в современном стиле, 3 комнаты, большая кухня 20м2, с кладовкой прям в ней, 2 отдельных санузла, ванная комната, 3 больших застеклённых балкона с выходом на северную и южную стороны. Рядом школа, 3детских садика, хорошая инфраструктура, доброжелательные соседи. Продаю частично мебелерованную, с ремонтом. Торг есть!\n",
       "44047                                                                                                                                                                                                                                                                                                                                                                                                                                                                                                                                                                                                                                                                                                                                                                                                                                                                                                                                                                                                                                                                                                                                                                                                                                                                                                                                                               панельный дом, 1975 г.п., состояние: хорошее, санузел раздельный, ЭКСКЛЮЗИВНОЕ предложение от Агентство Недвижемости Atrium Home! Яркий и самобытный » - это квартал семейного типа, расположенный в удобной части города (недалеко улиц Сатпаева, Тлендиева и Туркебаева) неподалеку от набережной… Улучшенная. ЭКСКЛЮЗИВНОЕ предложение от Агентство Недвижемости Atrium Home! Яркий и самобытный » - это квартал семейного типа, расположенный в удобной части города (недалеко улиц Сатпаева, Тлендиева и Туркебаева) неподалеку от набережной реки Большая Алматинка и водохранилища Сайран. Преимущества:+Два детских сада+Круглосуточная охрана+Поблизости торговый центр \"ADK\" +Прекрасный вид на ГОРЫ. Квартира !ТОРОПИТЕСЬ! ЗВОНИТЕ! ПИШИТЕ!ПОКАЗ КВАРТИРЫ В ЛЮБОЕ ВРЕМЯ!\n",
       "16492                                                                                                                                                                                                                                                                                                                                                                                                                                                                                                                                                                                                                                                                                                                                                                                                                                                                                                                                                                                                                                                                                                                                                                                                                                                                                                                                                                                                                                                                                                                                                                                                                                                                                                                                                           панельный дом, 1980 г.п., состояние: хорошее, жил. площадь 18 кв.м., кухня 6 кв.м., потолки 2.5м., санузел совмещенный, телефон: нет, пустая, Не угловая, не первый, не последний этаж, продается пустая без мебели и техники, без посредников Пластиковые окна, неугловая, счётчики. Не угловая, не первый, не последний этаж, продается пустая без мебели и техники, без посредников.\n",
       "6257                                                                                                                                                                                                                                                                                                                                                                                                                                                                                                                                                                                                                                                                                                                                                                                                                                                                                                                                                                                                                                                                                                                                                                                                                                                                                                                                                                                                                                                                                                                              жил. комплекс 12 месяцев, монолитный дом, 2017 г.п., состояние: евроремонт, потолки 2.8м., санузел раздельный, частично меблирована, Срочно! Рассматриваютипотеку! Продается квартира в новостроенном доме! Квартира улучшенной планировки в одном из самых востребованных районов города! Развит… Неугловая, улучшенная. Срочно! Рассматриваютипотеку! Продается квартира в новостроенном доме! Квартира улучшенной планировки в одном из самых востребованных районов города! Развитая инфраструктура, тихий двор, удобная транспортная развязка! В шаговой доступности все необходимое для комфортного проживания!\n",
       "23356                                                                                                                                                                                                                                                                                                                                                                                                                                                                                                                                                                                                                                                                                                                                                                                                                                                                                                                                                                                                                                                                                                                                                                            монолитный дом, 2017 г.п., состояние: евроремонт, жил. площадь 50 кв.м., кухня 13 кв.м., санузел 2 с/у и более, полностью меблирована, Внимание! Продается 3-х комнатная квартира в ЖК \"ЖАНА ЖЕТЫСУ\" ! Отличное предложение с точки зрения расположения, далеко от шума города, но в то же вр… Пластиковые окна, неугловая, улучшенная, встроенная кухня, новая сантехника, счётчики, тихий двор, кондиционер. Внимание! Продается 3-х комнатная квартира в ЖК \"ЖАНА ЖЕТЫСУ\" ! Отличное предложение с точки зрения расположения, далеко от шума города, но в то же время недалеко от городской цивилизации!В шаговой доступности имеется все: школы, детские сады, магазины и ТРЦ. Транспортная сеть очень развита, район сам по себе спокойный! Продается с мебелью, квартира не требует вложенийй, ЗАЕЗЖАЙ и ЖИВИ! Лучшее предложение в соотношении расположенИЕ-ЦЕНА-СОСТОЯНИЕ!Торопитесь приобрести квартиру мечты в одном из самых востребованных районов города.\n",
       "48815                                                                                                                                                                                                                                                                                                                                                                                                                                                                                                                                                                                                                                                                                     монолитный дом, 2012 г.п., состояние: евроремонт, санузел 2 с/у и более, ЖК Меркур Град Эксклюзивное предложение от Агенства Недвижимости Atrium Home! Отличная квартира, в оживленном месте города, в шаговой доступности есть всё. Дом монолитный, теплый, хорошая шумоизоляция. Отлично ра… Улучшенная. ЖК Меркур Град \\nЭксклюзивное предложение от Агенства Недвижимости Atrium Home! Отличная квартира, в оживленном месте города, в шаговой доступности есть всё. Дом монолитный, теплый, хорошая шумоизоляция. \\nОтлично развитая инфраструктура. Торг аргументированный! Вы нашли то, что искали. Приезжайте прямо сейчас! Квартира именно для вас: Доступность транспорта, живописный, спокойный, престижный район. \\nВ свою очередь агентство недвижимости \"Атриум\", предоставит для Вас полное юридическое сопровождение начиная от оформления договора задатка, вплоть до полного закрытия сделки! Звоните в любое удобное для Вас время! \\nРеальному клиенту СКиДКА \\n- Юридическое сопровождение - Да. \\n- Наличный расчет - Да. \\nПластиковые окна, встроенная кухня, тихий двор, кондиционер, улучшенная, новая сантехника, кладовка, комнаты изолированы, кухня-студия. \\nПреимущества: \\n1) холодильник Samsung \\n2) встроенная посудомойка Electrolux \\n3) газовая плита и духовка Bosch \\n4) встроенные во все окна жалюзи \\n5) 2 с/у ванна и душевая \\n6) дополнительное подвальное помещение 20кв/м \\n7) без посредников, торг уместен\n",
       "18018                                                                                                                                                                                                                                                                                                                                                                                                                                                                                                                                                                                                                                                                                                                                                                                                                                                                                                                                                                                                                                                                                                                                                                                                                                                                                                                                                                                                                     жил. комплекс Адиет, монолитный дом, 2016 г.п., состояние: евроремонт, потолки 2.8м., санузел совмещенный, полностью меблирована, Пластиковые окна, тихий двор, кондиционер, неугловая, кухня-студия, новая сантехника. Продается 2-комнатная квартира в ЖК Адиет. Чистая, уютная, не угловая. Кухня-с… Улучшенная. Пластиковые окна, тихий двор, кондиционер, неугловая, кухня-студия, новая сантехника. \\nПродается 2-комнатная квартира в ЖК Адиет. Чистая, уютная, не угловая. Кухня-студия, вытяжка установлена и работает исправно. \\nУдобное расположение: рядом школа, детский сад, ТРЦ Asia Park, магазины и салоны внутри ЖК. С парковкой проблем нет, охрана имеется. Полностью мебелирована, состояние идеальное.\n",
       "45397                                                                                                                                                                                                                                                                                                                                                                                                                                                                                                                                                                               жил. комплекс Алма Тау, 2019 г.п., состояние: евроремонт, жил. площадь 13 кв.м., кухня 15 кв.м., потолки 2.7м., санузел совмещенный, телефон: есть возможность подключения, интернет ADSL, полностью меблирована, Квартира новая, кухня-студия и отдельная спальня. Кухня разделена на две зоны: гостиная… Пластиковые окна, тихий двор, кондиционер, неугловая, улучшенная, комнаты изолированы, кухня-студия, встроенная кухня, новая сантехника, кладовка, счётчики. Квартира новая, кухня-студия и отдельная спальня. Кухня разделена на две зоны: гостиная и кухня, вытяжка работает отлично, едой не пахнет. Сантехника вся новая-дорогая, стоит новый фильтр для воды Аквафор Морион, кухня со встроенной новой техникой: посудомоечная машина Electrolux, мощная вытяжка Samsung, варочная панель газ Bosch на 4 комфорки, духовой шкаф электрический Bosch, холодильник LG, с кухни выход на балкон и кладовую. Санузел с Новым дорогим санфаянсом и сантехникой. Лоджия утеплённая, имеется 2 шкафчика, застекление Rehau (немецкий профиль с гарантией), ролшторы блэкаут, есть раскладной столик встроенный для утреннего кофе. Квартира тёплая, в спальне отключаем батарею, окна выходят на восток, очень светлая, с хорошей инсоляцией, счётчики все имеются. Коридор со встроенным шкафом-купе с зеркалами. Спальня полностью с мебелью. Очень развитая инфраструктура, рядом Магнум, аптеки, больницы, школа, чистый воздух, сказочный вид на горы. Квартира сразу для заселения., ремонтировали и обставляли для себя, качественно. Возможен торг\n",
       "36504                                                                                                                                                                                                                                                                                                                                                                                                                                                                                                                                                                                                                                                                                                                                                                                                                                                                                                                                                                                                                                                                                                                                                                                                                                                                                                                                                                                                                                                                              жил. комплекс Шахристан, монолитный дом, 2009 г.п., состояние: евроремонт, потолки 2.85м., санузел совмещенный, телефон: отдельный, интернет ADSL, полностью меблирована, Продам квартиру в ЖК Шахристан. Состояние отличное, дизайн уникальный. Полностью мебелирована и укомплектована бытовой техникой… Пластиковые окна, кондиционер, неугловая, улучшенная, комнаты изолированы, кухня-студия, встроенная кухня, счётчики. Продам квартиру в ЖК Шахристан. Состояние отличное, дизайн уникальный. Полностью мебелирована и укомплектована бытовой техникой. \\nВ жилом комплексе есть магазины, аптека, дет. сад, площадки, кафе, центр развития для детей и пр.\n",
       "14060                                                                                                                                                                                                                                                                                                                                                                                                                                                                                                                                                                                                                                                                                                                                                                                                                                                                                                                                                                                                                                                                                                                                                                                                                                                                                                                                                                                                                                                                                                                                                                                                                                                                                                                                                                                                               панельный дом, 1978 г.п., состояние: хорошее, жил. площадь 43 кв.м., кухня 6 кв.м., потолки 2.7м., санузел раздельный, телефон: есть возможность подключения, интернет ADSL, частично меблирована, Продам 3-х комнатную квартиру Пластиковые окна, неугловая, новая сантехника, счётчики, тихий двор. Продам 3-х комнатную квартиру\n",
       "46153                                                                                                                                                                                                                                                                                                                                                                                                                                                                                                                                                                                                                                                                                                                                                                                                                                                                                                                                                                                                                                                                                                                                                                                                                                                                                                                                                                                                                                                                                                                                                                                                                                                                                                                                                                                                         кирпичный дом, 1992 г.п., состояние: хорошее, потолки 2.8м., санузел совмещенный, телефон: отдельный, интернет оптика, Продается 2х комнатная квартира в СавМиновском доме. Комнаты пространные Пластиковые окна, неугловая, улучшенная, комнаты изолированы. Продается 2х комнатная квартира в СавМиновском доме. \\nКомнаты пространные.\n",
       "58188                                                                                                                                                                                                                                                                                                                                                                                                                                                                                                                                                                                                                                                                                                                                                                                                                                                                                                                                                                                                                                                                                                                                                                                                                                                                                                                   кирпичный дом, 1988 г.п., состояние: среднее, жил. площадь 40.6 кв.м., кухня 6.5 кв.м., потолки 2.7м., санузел раздельный, телефон: отдельный, интернет оптика, частично меблирована, Продаю квартиру ниже конечной Айнабулака 3. многое в шаговой доступности: магазины, аптети, школы, дет. сады… Комнаты изолированы, кладовка, тихий двор. Продаю квартиру ниже конечной Айнабулака 3. многое в шаговой доступности: магазины, аптети, школы, дет. сады, кафе, автомойка, СТО, вулканизация, поликлиника, спорт зал. Хорошо подойдет для молодой семьи. Дом состоит из железо-бетона и кирпича, сейсмостойкий, балки в пол метра шириной. Рядом барахолка, Ж/Д Алматы1. Из лоджии и прихожей можно сделать еще комнаты. Торг. Либо обмен на квартиру этажами ниже (2-3 этаж) с меньшей квадратурой в г. Алматы, не область.\n",
       "38064                                                                                                                                                                                                                                                                                                                                                                                                                                                                                                                                                                                                                                                                                                                                                                                                                                                                                                                                                                                                                                                                                                                                                                                                                                    кирпичный дом, 1989 г.п., состояние: хорошее, жил. площадь 46 кв.м., кухня 12 кв.м., санузел раздельный, телефон: отдельный, частично меблирована, Внимание! Срочная продажа квартиры. - Светлая, чистая и уютная квартира. - Хороший благоустроенный двор. - Доброжелательные соседи. Отличное Расположе… Пластиковые окна, неугловая, улучшенная, комнаты изолированы, новая сантехника, счётчики, кондиционер. Внимание! \\nСрочная продажа квартиры. \\n \\n- Светлая, чистая и уютная квартира. \\n- Хороший благоустроенный двор. \\n- Доброжелательные соседи. \\n \\nОтличное Расположение, рядом все для комфортного проживания. \\nТакже поликлиника, базар и супермаркеты. \\nУдобная транспортная развязка во все направления города. \\n При наличии заинтересованности, реальному покупателю торг уместен. Звоните в любое удобное для Вас время. \\n \\nСпешите, звоните! Просмотры в удобное для вас время\n",
       "55499                                                                                                                                                                                                                                                                                                                                                                                                                                                                                                                                                                                                                                                                                                                                                                                                                                                                                                                                                                                                                                                                                                                                                                                                                                                                                                                                                                                                                           1968 г.п., состояние: хорошее, потолки 2.7м., санузел совмещенный, телефон: отдельный, интернет ADSL, частично меблирована, Продам квартиру 2х комнатную. Квартира теплая светлая. имеется участок к участку подведена вода и свет на участке гараж навес для летнего отдыха погреб и сарай. на участ… Комнаты изолированы, встроенная кухня, тихий двор. Продам квартиру 2х комнатную. Квартира теплая светлая. имеется участок к участку подведена вода и свет на участке гараж навес для летнего отдыха погреб и сарай. на участке выращиваются овощи цветы и тд. есть ещё 2 сарай для хранения. Продаю срочно в связи с переездом. рядом с домом супермаркет базар полеклиника, остановка все в шаговой доступности\n",
       "24801                                                                                                                                                                                                                                                                                                                                                                                                                                                                                                                                                                                                                                                                                                                                                                                                                                                                                                                                                                                                                                                                                                                                                                                                                                                                                                                                                                                 1967 г.п., состояние: хорошее, жил. площадь 42.5 кв.м., кухня 6 кв.м., потолки 2.5м., санузел совмещенный, телефон: отдельный, интернет ADSL, частично меблирована, Квартира находится в очень удобном расположении, район с развитой инфраструктурой, во дворе дома находится детский сад 42, школа гимназ… Пластиковые окна, неугловая, комнаты изолированы, кладовка, счётчики. Квартира находится в очень удобном расположении, район с развитой инфраструктурой, во дворе дома находится детский сад 42, школа гимназия 5, в шаговой доступности гимназия 1, поликлиника 16, магазины, 2 магнума неподалёку, большой двор, транспорт в любую точку города, квартира светлая чистая, хороший соседи, во дворе парковка для машин, в подвале имеется кладовка.\n",
       "3511                                                                                                                                                                                                                                                                                                                                                                                                                                                                                                                                                                                                                                                                                                                                                                                                                                                                                                                                                                                                                                                                                                                                                                                                                                                                                                                                                                                                                                                                                                                                                                                                                                                                                                                                                    жил. комплекс Alatau City, 2020 г.п., состояние: евроремонт, потолки 2.9м., санузел раздельный, телефон: есть возможность подключения, интернет ADSL, полностью меблирована, Срочно продам хозяйка сама Пластиковые окна, тихий двор, кондиционер, удобно под коммерцию, неугловая, комнаты изолированы, кухня-студия, встроенная кухня, новая сантехника, счётчики. Срочно продам хозяйка сама\n",
       "7778                                                                                                     панельный дом, 1987 г.п., состояние: хорошее, потолки 2.8м., санузел раздельный, телефон: отдельный, интернет ADSL, частично меблирована, ⁉Надоела снимать квартиру или жить на 1-на комнатной квартире? ✅Квартира в активно развивающемся перспективном районе - отличное решение. 👉Эксперты дел… Пластиковые окна, неугловая, улучшенная, комнаты изолированы, встроенная кухня, счётчики, тихий двор, кондиционер. ⁉Надоела снимать квартиру или жить на 1-на комнатной квартире? \\n \\n✅Квартира в активно развивающемся перспективном районе - отличное решение. \\n \\n👉Эксперты делятся секретами, почему стоит выбрать именно эту квартиру: \\n \\n🗝 Район вдали от скопления машин дарит тишину и покой. При этом динамично развивается, облагораживается территория. Все значимо важные социальные объекты под рукой: сады, школы, поликлиника, продуктовые магазины, велопарковка. Дворы оборудованы детскими и спортивными площадками, вдали от дороги. Что делает прогулки безопасными. Есть остановка общественного транспорта. \\n🗝Рассматриваемый объект расположен панельном доме 1986 года постройки. - надёжный, качественный материал. Обладает высокой сейсмостойкостью до 10 баллов. Что актуально для города Алматы. Плюс хороший вклад на будущее. Так как они даже через 20 лет будут пользоваться спросом, сохраняя выгодные цены. \\n🗝 2-комнатная квартира с большой кухней под 11 метров - подарок для любителей вкусно готовить. Проводите больше времени с семьей, друзьями за чашечкой чая. \\n🗝. Высокие 2, 8 метровые потолки позволят реализовать самые смелые дизайнерские решения. Отсутствует давящее чувство. В комнате светло, просторно, легче дышать. \\n🗝 “Золотая середина” - 3 этаж. Открывает изумительный вид на город. Комнаты наполнены светом, меньше запахов, шума, пыли доносится с улицы, в отличие от нижних этажей. В случае необходимости можно дойти до квартиры пешком. Хорошая кардиотренировка. \\n \\n📝☎Готовы заехать сразу? Отлично! Звоните и выбирайте удобное время и дату для осмотра.\n",
       "54475                                                                                                                                                                                                                                                                                                                                                                                                                                                                                                                                                                                                                                                                                                                                                                                                                                                                                                                                                                                                                                                                                                                                                                                                                                                                                                                                                                                                                                                                                                                                                монолитный дом, 2007 г.п., состояние: хорошее, потолки 2.7м., санузел совмещенный, телефон: отдельный, интернет через TV кабель, частично меблирована, Чистая, уютная, очень тёплая квартира. Район с хорошей инфраструктурой: рядом магазины, базар, поликлиника, детские сады, школа, прогулочная аллея… Пластиковые окна, неугловая, улучшенная, комнаты изолированы, встроенная кухня, счётчики, тихий двор, кондиционер. Чистая, уютная, очень тёплая квартира. Район с хорошей инфраструктурой: рядом магазины, базар, поликлиника, детские сады, школа, прогулочная аллея, и многое другое.\n",
       "29551                                                                                                                                                                                                                                                                                                                                                                                                                                                                                                                                                                                                                                                                                                                                                                                                                                                                                                                                                                                                                                                                                                                                                                                                                                                                                                                                                                                                                                                                                                                                                                                              панельный дом, 1977 г.п., состояние: евроремонт, жил. площадь 18 кв.м., кухня 6 кв.м., потолки 27м., санузел совмещенный, интернет ADSL, частично меблирована, Продам 1-комнатную квартиру в верхней части города, евроремонт, чистая тёплая. Развитая инфраструктура. Рядом папк Первого президента, школ… Пластиковые окна, встроенная кухня, новая сантехника, счётчики, тихий двор. Продам 1-комнатную квартиру в верхней части города, евроремонт, чистая тёплая. Развитая инфраструктура. Рядом папк Первого президента, школы, садики, базар.\n",
       "32012                                                                                                                                                                                                                                                                                                                                                                                                                                                                                                                                                                                                                                                                                                                                                                                                                                                                                                                                                                                                                                                                                                                                                                                                                                                                                                                                                                                                                                                                                                                                                                                                                                      жил. комплекс Varlamova, монолитный дом, 2017 г.п., состояние: евроремонт, потолки 3м., санузел совмещенный, полностью меблирована, ЖК VARLAMOVA Отличный вариант с видом на Юг и на Запад Два лифта, потолки 3м Ремонт делали для себя. Заезжай и живи Пластиковые окна, улучшенная, комнаты изолированы, встроенная кухня, новая сантехника, счётчики, тихий двор, кондиционер. ЖК VARLAMOVA \\nОтличный вариант с видом на Юг и на Запад \\nДва лифта, потолки 3м \\nРемонт делали для себя. Заезжай и живи.\n",
       "58000                                                                                                                                                                                                                                                                                                                                                                                                                                                                                                                                                                                                                                                                                                                                                                                                                                                                                                                                                                                                                                                                                                                                                                                                                                                                                                                                                                                                                                                                                                                                                     панельный дом, 1988 г.п., состояние: хорошее, жил. площадь 32 кв.м., кухня 12 кв.м., потолки 2.8м., санузел раздельный, телефон: есть возможность подключения, интернет оптика, полностью меблирована, Продам ухоженную квартиру с двумя крытыми парковочными местами на охраняемой стоянке в тихом дворе… Пластиковые окна, улучшенная, комнаты изолированы, встроенная кухня, счётчики, тихий двор. Продам ухоженную квартиру с двумя крытыми парковочными местами на охраняемой стоянке в тихом дворе, в уютном районе рядом школа, детский сад, поликлиника рынки, в шаговой доступности.\n",
       "9982                                                                                                                                                                                                                                                                                                                                                                                                                                                                                                                                                                                                                                                                                                                                                                                                                                                                                                                                                                                                                                                         жил. комплекс Алтын Булак 1, монолитный дом, 2012 г.п., состояние: евроремонт, потолки 3м., санузел совмещенный, интернет ADSL, частично меблирована, Уютная 2-х комнатная улучшенная светлая квартира, в прекрасном районе, с развитой инфраструктурой. В шаговой доступности метро (Сайран), торговые до… Кухня-студия, новая сантехника, тихий двор, кондиционер. Уютная 2-х комнатная улучшенная светлая квартира, в прекрасном районе, с развитой инфраструктурой. В шаговой доступности метро (Сайран), торговые дома (АДК, Асыл), частные и государственные поликлиники и медицинские центры, детские сады, школы, большой выбор магазинов, кафе/ресторанов и салонов красоты. Солнечная сторона, зимой очень теплая уютная квартира. Высота потолков 3 метра. \\nДокументы готовы. Под ипотеку подходит! Не залоговая. Встроенная кухня, ремонт. Охраняемый двор, в который въезд запрещён, что безопасно для детей. В ЖК своё собственное футбольное поле, тренировочное место, гостевой паркинг, очень большая детская площадка. Все в шаговой доступности \\nС уважением, Эльмира\n",
       "27180                                                                                                                                                                                                                                                                                                                                                                                                                                                                                                                                                                                                                                                                                                                                                                                                                                                                                                                                                                                                                                                                                                                                                                                                                                                                                                                                                                                                                                                                                                                                                                                                                                                                                                                                     жил. комплекс 4YOU, монолитный дом, 2021 г.п., состояние: евроремонт, санузел раздельный, полностью меблирована, Срочно продам 1 комнатную квартиру в бизнес классе в ЖК 4YOU. В стоимость входит Смарт ремонт, полный пакет Пластиковые окна, неугловая, комнаты изолированы, новая сантехника. Срочно продам 1 комнатную квартиру в бизнес классе в ЖК 4YOU. В стоимость входит Смарт ремонт, полный пакет.\n",
       "51552                                                                                                                                                                                                                                                                                                                                                                                                                                                                                                                                                                                                                                                                                                                                                                                                                                                                                                                                                                              жил. комплекс Alma City, монолитный дом, 2021 г.п., состояние: свободная планировка, потолки 2.8м., санузел совмещенный, Срочно! Продается квартира! Ключи получили! Ипотеку рассмотрим! Квартира в новом доме! Массу плюсов можно вынести из отличного расположения! В непосредственной близости наход… Пластиковые окна, неугловая, улучшенная. Срочно! \\n \\nПродается квартира! \\n \\nКлючи получили! \\n \\nИпотеку рассмотрим! \\n \\nКвартира в новом доме! \\n \\n \\nМассу плюсов можно вынести из отличного расположения! В непосредственной близости находятся школы, детские сады, в которых найдется место для Вашего чада, банки, почта, салоны красоты, огромное количество магазинов, парковая зона, где Вы можете расслабиться и отдохнуть после рабочих будней. Все это значительно упростит жизнь! Отличная транспортная логистика остановка общественного транспорта в двух шагах от Вашего дома! Ну разве это не здорово. А учитывая стоимость квадратного метра данной квартиры, стоит ли лишний раз напоминать о выгодности вложения. Не откладывайте решение важных вопросов на потом! Действуйте сейчас! \\nЗвоните! \\nИ возможно, Вы станете первым.\n",
       "27356                                                                                                                                                                                                                                                                                                                                                                                                                                                                                                                                                                                                                                                                                                                                                                                                                                                                                                                                                                                                                                                                                                                                                            кирпичный дом, 1987 г.п., состояние: хорошее, санузел совмещенный, частично меблирована, Продается квартира! Дом расположен в спальном районе. С окон открывается живописный вид на горы, отличная продуваемость т. к окна выходят на обе стороны, есть лоджия. Очень развита инфраструктура района: шк… Пластиковые окна, неугловая, улучшенная, комнаты изолированы, тихий двор. Продается квартира! \\n \\nДом расположен в спальном районе. С окон открывается живописный вид на горы, отличная продуваемость т. к окна выходят на обе стороны, есть лоджия. Очень развита инфраструктура района: школы, сады, Метро, фитнес-залы, военторг, строительный рынок Саламат, также без труда можно добраться в любую точку города транспортная развязка позволяет. Окна смотрят на запад и восток. \\n Плюсы кирпичного дома: \\n- Сейсмостойкость \\n- Прочность. \\n- Долговечность. Кирпичные здания могут служить 100 и более лет. \\n- Пожаростойкость \\n- Морозостойкость \\n \\nЗвоните!\n",
       "27202                                                                                                                                                                                                                                                                                                                                                                                                                                                                                                                                                                                                                                                                                                                                                                                                                                                                                                                                                                                         жил. комплекс Аскар Тау, монолитный дом, 2016 г.п., состояние: хорошее, санузел совмещенный, Полностью новый, свежий ремонт, с мебелью и техникой как на фото. Квартира небольшая, но очень уютная, светлая, удобно для проживания, а также для сдачи в аренду. На территории дома имееться детская площадк… Улучшенная. Полностью новый, свежий ремонт, с мебелью и техникой как на фото. Квартира небольшая, но очень уютная, светлая, удобно для проживания, а также для сдачи в аренду. На территории дома имееться детская площадка, продуктовый магазин, парковка. Развитая инфрастуктура гастроном, Магнум, аптека, школа, детский сад в шаговой доступности, дом находиться выше пр. Аль-Фараби по ул. Аскарова недоезжая кооптехникума, свежий воздух, красивый вид на горы. \\nВ свою очередь агентство недвижимости \"Атриум\", предоставит для Вас полное юридическое сопровождение начиная от оформления договора задатка, вплоть до полного закрытия сделки! Звоните в любое удобное для Вас время! Гарантия безопасной сделки! \\n- Юридическое сопровождение - Да. \\n- Пенсионная программа - Да. \\n- Наличный расчет - Да. \\n- Ипотека - Да.\n",
       "Name: texts, dtype: object"
      ]
     },
     "execution_count": 158,
     "metadata": {},
     "output_type": "execute_result"
    }
   ],
   "source": [
    "df[~pd.isna(df.texts)].sample(50).texts"
   ]
  },
  {
   "cell_type": "markdown",
   "metadata": {},
   "source": [
    "### Часто встречаются следующие характеристики:\n",
    "\n",
    "- требует ремонта\n",
    "- улучшенная, улутшенная, улутшеная\n",
    "- комнаты изолированные, комнаты изолированы\n",
    "- пластиковые окна\n",
    "- экологически чистый район\n",
    "- кондиционер,\n",
    "- угловая, неугловая, не угловая\n",
    "- общежитие, не общежитие\n",
    "- не в залоге, в залоге\n",
    "\n",
    "### Сгенерируем признаки и попробуем использовать."
   ]
  },
  {
   "cell_type": "code",
   "execution_count": 159,
   "metadata": {},
   "outputs": [],
   "source": [
    "df['needs_repair'] = df.texts.apply(lambda x: 1 if (('требует ремонта' in str(x).lower()) & \\\n",
    "                                                    ('не требует ремонта' not in str(x).lower())) else 0)\n",
    "df['improved'] = df.texts.apply(lambda x: 1 if (('улучшенная' in str(x).lower()) | \\\n",
    "                                                ('улутшенная' in str(x).lower()) | \\\n",
    "                                                ('улутшеная' in str(x).lower())) else 0)\n",
    "df['rooms_isolated'] = df.texts.apply(lambda x: 1 if (('комнаты изолированные' in str(x).lower()) | \\\n",
    "                                                      ('комнаты изолированы' in str(x).lower())) else 0)\n",
    "df['plastic_windows'] = df.texts.apply(lambda x: 1 if 'пластиковые окна' in str(x).lower() else 0)\n",
    "df['ecologically_clean'] = df.texts.apply(lambda x: 1 if 'экологически чистый район' in str(x).lower() else 0)\n",
    "df['air_conditioning'] = df.texts.apply(lambda x: 1 if 'кондиционер,' in str(x).lower() else 0)\n",
    "df['not_at_corner'] = df.texts.apply(lambda x: 1 if (('неугловая' in str(x).lower()) | \\\n",
    "                                                     ('не угловая' in str(x).lower())) else 0)\n",
    "df['pledged'] = df.texts.apply(lambda x: 1 if (('в залоге' in str(x).lower()) & \\\n",
    "                                               ('не в залоге' not in str(x).lower())) else 0)\n",
    "df['not_pledged'] = df.texts.apply(lambda x: 1 if 'не в залоге' in str(x).lower() else 0)\n",
    "df['dormitory'] = df.texts.apply(lambda x: 1 if (('общежитие' in str(x).lower()) & \\\n",
    "                                                 ('не общежитие' not in str(x).lower())) else 0)\n",
    "df['not_dormitory'] = df.texts.apply(lambda x: 1 if 'не общежитие' in str(x).lower() else 0)"
   ]
  },
  {
   "cell_type": "code",
   "execution_count": 160,
   "metadata": {},
   "outputs": [
    {
     "data": {
      "text/plain": [
       "0    59405\n",
       "1       51\n",
       "Name: not_dormitory, dtype: int64"
      ]
     },
     "execution_count": 160,
     "metadata": {},
     "output_type": "execute_result"
    }
   ],
   "source": [
    "df.not_dormitory.value_counts()"
   ]
  },
  {
   "cell_type": "markdown",
   "metadata": {},
   "source": [
    "### Наконец, остаются еще признаки, в которых наблюдается множеств пропусков.\n",
    "#### Попробуем использовать и их (исключая столбецы 'has_change', который состоит почти из одних пропусков и 'ceiling', который кроме пропусков содержит много ошибок и, как следствие, очень большой спектр значений)."
   ]
  },
  {
   "cell_type": "code",
   "execution_count": 161,
   "metadata": {},
   "outputs": [],
   "source": [
    "candidates_to_drop = ['flat.balcony','flat.balcony_g','map.complex','flat.door','inet.type',\n",
    "                      'flat.flooring', 'flat.security','flat.phone','flat.parking'] # map.complex, flat.security - ?"
   ]
  },
  {
   "cell_type": "code",
   "execution_count": 162,
   "metadata": {},
   "outputs": [
    {
     "name": "stdout",
     "output_type": "stream",
     "text": [
      "<class 'pandas.core.frame.DataFrame'>\n",
      "RangeIndex: 59456 entries, 0 to 59455\n",
      "Data columns (total 9 columns):\n",
      " #   Column          Non-Null Count  Dtype \n",
      "---  ------          --------------  ----- \n",
      " 0   flat.balcony    36481 non-null  object\n",
      " 1   flat.balcony_g  27215 non-null  object\n",
      " 2   map.complex     19373 non-null  object\n",
      " 3   flat.door       41597 non-null  object\n",
      " 4   inet.type       28368 non-null  object\n",
      " 5   flat.flooring   36888 non-null  object\n",
      " 6   flat.security   39365 non-null  object\n",
      " 7   flat.phone      28151 non-null  object\n",
      " 8   flat.parking    31305 non-null  object\n",
      "dtypes: object(9)\n",
      "memory usage: 4.1+ MB\n"
     ]
    }
   ],
   "source": [
    "df[candidates_to_drop].info()"
   ]
  },
  {
   "cell_type": "markdown",
   "metadata": {},
   "source": [
    "Посмотрим на значения в этих столбцах"
   ]
  },
  {
   "cell_type": "code",
   "execution_count": 163,
   "metadata": {},
   "outputs": [
    {
     "name": "stdout",
     "output_type": "stream",
     "text": [
      "flat.balcony 4 \n",
      " NaN                              22975\n",
      "балкон                           21638\n",
      "лоджия                            7825\n",
      "несколько балконов или лоджий     4017\n",
      "балкон и лоджия                   3001\n",
      "Name: flat.balcony, dtype: int64 \n",
      "\n",
      "flat.balcony_g 2 \n",
      " NaN    32241\n",
      "да     26774\n",
      "нет      441\n",
      "Name: flat.balcony_g, dtype: int64 \n",
      "\n",
      "map.complex 361 \n",
      " NaN                            40083\n",
      "Шахристан                        778\n",
      "Alma City                        614\n",
      "Акварель                         491\n",
      "Алмалы                           400\n",
      "                               ...  \n",
      "Кулагер                            1\n",
      "Прогресс                           1\n",
      "Жана Куат                          1\n",
      "Bass Townhouse                     1\n",
      "НИКО на Толе би - Абдулиных        1\n",
      "Name: map.complex, Length: 362, dtype: int64 \n",
      "\n",
      "flat.door 3 \n",
      " металлическая    33614\n",
      "NaN              17859\n",
      "бронированная     7256\n",
      "деревянная         727\n",
      "Name: flat.door, dtype: int64 \n",
      "\n",
      "inet.type 4 \n",
      " NaN                31088\n",
      "ADSL               13440\n",
      "оптика              7162\n",
      "проводной           4670\n",
      "через TV кабель     3096\n",
      "Name: inet.type, dtype: int64 \n",
      "\n",
      "flat.flooring 7 \n",
      " NaN          22568\n",
      "ламинат      20462\n",
      "линолеум     12211\n",
      "паркет        3465\n",
      "дерево         469\n",
      "плитка         188\n",
      "ковролан        69\n",
      "пробковое       24\n",
      "Name: flat.flooring, dtype: int64 \n",
      "\n",
      "flat.security 217 \n",
      " NaN                                                                                 20091\n",
      "домофон                                                                              9745\n",
      "домофон, видеонаблюдение                                                             8174\n",
      "охрана, домофон, видеонаблюдение                                                     4546\n",
      "решетки на окнах, домофон                                                            1738\n",
      "                                                                                    ...  \n",
      "видеонаблюдение, охрана, домофон                                                        1\n",
      "решетки на окнах, охрана, кодовый замок, сигнализация, видеонаблюдение                  1\n",
      "решетки на окнах, домофон, сигнализация, видеонаблюдение, видеодомофон, консьерж        1\n",
      "домофон, решетки на окнах, кодовый замок                                                1\n",
      "охрана, видеонаблюдение, решетки на окнах, домофон, сигнализация                        1\n",
      "Name: flat.security, Length: 218, dtype: int64 \n",
      "\n",
      "flat.phone 4 \n",
      " NaN                             31305\n",
      "отдельный                       19966\n",
      "есть возможность подключения     6730\n",
      "нет                              1354\n",
      "блокиратор                        101\n",
      "Name: flat.phone, dtype: int64 \n",
      "\n",
      "flat.parking 3 \n",
      " NaN                         28151\n",
      "рядом охраняемая стоянка    19217\n",
      "паркинг                     11739\n",
      "гараж                         349\n",
      "Name: flat.parking, dtype: int64 \n",
      "\n"
     ]
    }
   ],
   "source": [
    "for col in candidates_to_drop:\n",
    "    print(col, df[col].nunique(), '\\n', df[col].value_counts(dropna=False), '\\n')"
   ]
  },
  {
   "cell_type": "markdown",
   "metadata": {},
   "source": [
    "Для каждого столбца сгенерируем признак отсутствия значения и заполним пропуск новым значением 'unknown'"
   ]
  },
  {
   "cell_type": "code",
   "execution_count": 164,
   "metadata": {},
   "outputs": [],
   "source": [
    "null_cols = []\n",
    "for col in candidates_to_drop:\n",
    "    df[col].fillna('unknown', inplace=True)\n",
    "    df[col + '_null'] = df[col].apply(lambda x: 1 if x == 'unknown' else 0)\n",
    "    null_cols.append(col + '_null')"
   ]
  },
  {
   "cell_type": "markdown",
   "metadata": {},
   "source": [
    "### flat.security"
   ]
  },
  {
   "cell_type": "code",
   "execution_count": 165,
   "metadata": {},
   "outputs": [],
   "source": [
    "security_list = []"
   ]
  },
  {
   "cell_type": "code",
   "execution_count": 166,
   "metadata": {},
   "outputs": [],
   "source": [
    "def arr_to_security_list(str_security):\n",
    "    for e in str_security.split(', '):\n",
    "        if e not in security_list:\n",
    "            security_list.append(e)"
   ]
  },
  {
   "cell_type": "code",
   "execution_count": 167,
   "metadata": {},
   "outputs": [
    {
     "data": {
      "text/plain": [
       "0        None\n",
       "1        None\n",
       "2        None\n",
       "3        None\n",
       "4        None\n",
       "         ... \n",
       "59451    None\n",
       "59452    None\n",
       "59453    None\n",
       "59454    None\n",
       "59455    None\n",
       "Name: flat.security, Length: 59456, dtype: object"
      ]
     },
     "execution_count": 167,
     "metadata": {},
     "output_type": "execute_result"
    }
   ],
   "source": [
    "df['flat.security'].apply(lambda x: arr_to_security_list(x))"
   ]
  },
  {
   "cell_type": "code",
   "execution_count": 168,
   "metadata": {},
   "outputs": [
    {
     "data": {
      "text/plain": [
       "['unknown',\n",
       " 'домофон',\n",
       " 'видеонаблюдение',\n",
       " 'решетки на окнах',\n",
       " 'охрана',\n",
       " 'кодовый замок',\n",
       " 'сигнализация',\n",
       " 'видеодомофон',\n",
       " 'консьерж']"
      ]
     },
     "execution_count": 168,
     "metadata": {},
     "output_type": "execute_result"
    }
   ],
   "source": [
    "security_list"
   ]
  },
  {
   "cell_type": "code",
   "execution_count": 169,
   "metadata": {},
   "outputs": [],
   "source": [
    "for e in security_list:\n",
    "    df[e] = df['flat.security'].apply(lambda x: 1 if e in x.split(', ') else 0)"
   ]
  },
  {
   "cell_type": "markdown",
   "metadata": {},
   "source": [
    "Остальные категориальные признаки закодируем"
   ]
  },
  {
   "cell_type": "code",
   "execution_count": 170,
   "metadata": {},
   "outputs": [],
   "source": [
    "cat_f_2 = ['flat.balcony','flat.balcony_g','map.complex','flat.door','inet.type', 'flat.flooring', 'flat.phone','flat.parking']\n",
    "# Кодируем категориальные признаки\n",
    "for col in cat_f_2:\n",
    "    df[col] = df[col].astype('category').cat.codes"
   ]
  },
  {
   "cell_type": "code",
   "execution_count": 171,
   "metadata": {
    "scrolled": true
   },
   "outputs": [
    {
     "data": {
      "text/html": [
       "<div>\n",
       "<style scoped>\n",
       "    .dataframe tbody tr th:only-of-type {\n",
       "        vertical-align: middle;\n",
       "    }\n",
       "\n",
       "    .dataframe tbody tr th {\n",
       "        vertical-align: top;\n",
       "    }\n",
       "\n",
       "    .dataframe thead th {\n",
       "        text-align: right;\n",
       "    }\n",
       "</style>\n",
       "<table border=\"1\" class=\"dataframe\">\n",
       "  <thead>\n",
       "    <tr style=\"text-align: right;\">\n",
       "      <th></th>\n",
       "      <th>district</th>\n",
       "      <th>live_rooms</th>\n",
       "      <th>price</th>\n",
       "      <th>address</th>\n",
       "      <th>text_preview</th>\n",
       "      <th>owner</th>\n",
       "      <th>paid_hot</th>\n",
       "      <th>paid_up</th>\n",
       "      <th>paid_fast</th>\n",
       "      <th>paid_urgent</th>\n",
       "      <th>paid_turbo</th>\n",
       "      <th>highlighted</th>\n",
       "      <th>flat.balcony</th>\n",
       "      <th>flat.balcony_g</th>\n",
       "      <th>map.complex</th>\n",
       "      <th>flat.door</th>\n",
       "      <th>inet.type</th>\n",
       "      <th>flat.flooring</th>\n",
       "      <th>ceiling</th>\n",
       "      <th>flat.security</th>\n",
       "      <th>has_change</th>\n",
       "      <th>flat.phone</th>\n",
       "      <th>flat.parking</th>\n",
       "      <th>options_text</th>\n",
       "      <th>text</th>\n",
       "      <th>total_square</th>\n",
       "      <th>kitchen_square</th>\n",
       "      <th>flat_floor</th>\n",
       "      <th>building_floor</th>\n",
       "      <th>days</th>\n",
       "      <th>building_age</th>\n",
       "      <th>building_type</th>\n",
       "      <th>flat_priv_dorm</th>\n",
       "      <th>flat_renovation</th>\n",
       "      <th>flat_toilet</th>\n",
       "      <th>live_furniture</th>\n",
       "      <th>first_floor</th>\n",
       "      <th>last_floor</th>\n",
       "      <th>sqare_per_room</th>\n",
       "      <th>address1</th>\n",
       "      <th>0_f</th>\n",
       "      <th>1_f</th>\n",
       "      <th>2_f</th>\n",
       "      <th>3_f</th>\n",
       "      <th>4_f</th>\n",
       "      <th>5_f</th>\n",
       "      <th>6_f</th>\n",
       "      <th>7_f</th>\n",
       "      <th>8_f</th>\n",
       "      <th>9_f</th>\n",
       "      <th>...</th>\n",
       "      <th>551_f</th>\n",
       "      <th>552_f</th>\n",
       "      <th>553_f</th>\n",
       "      <th>554_f</th>\n",
       "      <th>555_f</th>\n",
       "      <th>556_f</th>\n",
       "      <th>557_f</th>\n",
       "      <th>558_f</th>\n",
       "      <th>559_f</th>\n",
       "      <th>560_f</th>\n",
       "      <th>561_f</th>\n",
       "      <th>562_f</th>\n",
       "      <th>563_f</th>\n",
       "      <th>564_f</th>\n",
       "      <th>565_f</th>\n",
       "      <th>566_f</th>\n",
       "      <th>567_f</th>\n",
       "      <th>568_f</th>\n",
       "      <th>569_f</th>\n",
       "      <th>570_f</th>\n",
       "      <th>texts</th>\n",
       "      <th>needs_repair</th>\n",
       "      <th>improved</th>\n",
       "      <th>rooms_isolated</th>\n",
       "      <th>plastic_windows</th>\n",
       "      <th>ecologically_clean</th>\n",
       "      <th>air_conditioning</th>\n",
       "      <th>not_at_corner</th>\n",
       "      <th>pledged</th>\n",
       "      <th>not_pledged</th>\n",
       "      <th>dormitory</th>\n",
       "      <th>not_dormitory</th>\n",
       "      <th>flat.balcony_null</th>\n",
       "      <th>flat.balcony_g_null</th>\n",
       "      <th>map.complex_null</th>\n",
       "      <th>flat.door_null</th>\n",
       "      <th>inet.type_null</th>\n",
       "      <th>flat.flooring_null</th>\n",
       "      <th>flat.security_null</th>\n",
       "      <th>flat.phone_null</th>\n",
       "      <th>flat.parking_null</th>\n",
       "      <th>unknown</th>\n",
       "      <th>домофон</th>\n",
       "      <th>видеонаблюдение</th>\n",
       "      <th>решетки на окнах</th>\n",
       "      <th>охрана</th>\n",
       "      <th>кодовый замок</th>\n",
       "      <th>сигнализация</th>\n",
       "      <th>видеодомофон</th>\n",
       "      <th>консьерж</th>\n",
       "    </tr>\n",
       "  </thead>\n",
       "  <tbody>\n",
       "    <tr>\n",
       "      <th>8197</th>\n",
       "      <td>1</td>\n",
       "      <td>2</td>\n",
       "      <td>25.5</td>\n",
       "      <td>Шевченко — Сейфуллина</td>\n",
       "      <td>монолитный дом, 2018 г.п., состояние: евроремонт, жил. площадь 24.7 кв.м., санузел совмещенный, частично меблирована, Надежное будущее - вложение в собственную недвижимость. Продаётся 2-комнатная квартира улучшенной планировки в ЖК Молодежный, в самом центре Южной Столицы, в окружении знаковых объе…</td>\n",
       "      <td>4</td>\n",
       "      <td>1</td>\n",
       "      <td>0</td>\n",
       "      <td>0</td>\n",
       "      <td>0</td>\n",
       "      <td>0</td>\n",
       "      <td>0</td>\n",
       "      <td>0</td>\n",
       "      <td>0</td>\n",
       "      <td>134</td>\n",
       "      <td>3</td>\n",
       "      <td>1</td>\n",
       "      <td>0</td>\n",
       "      <td>NaN</td>\n",
       "      <td>unknown</td>\n",
       "      <td>NaN</td>\n",
       "      <td>0</td>\n",
       "      <td>0</td>\n",
       "      <td>NaN</td>\n",
       "      <td>Надежное будущее - вложение в собственную недвижимость. Продаётся 2-комнатная квартира улучшенной планировки в ЖК Молодежный, в самом центре Южной Столицы, в окружении знаковых объектов для каждого Алматинца! Квартира в отличном состоянии, ремонт делали для себя с применением качественных материалов. В квартире есть просторная гостинная с кухней студией, отдельно спальная комната, санузел совмещен. Шикарный вид из окна. Развитая инфраструктура делает эту квартиру востребованной. В данном районе очень удобная транспортная развязка. Предпродажная проверка объектов и документов (юридическая чистота), подготовка полного пакета бумаг для совершения сделки Полное юридическое сопровождение от компании \"Atrium\". Компания \"Atrium\" - ГАРАНТ Вашей безопасной сделки! Звоните в любое удобное для вас время. С Уважением, Марина!</td>\n",
       "      <td>40.0</td>\n",
       "      <td>0.0</td>\n",
       "      <td>10</td>\n",
       "      <td>12</td>\n",
       "      <td>14</td>\n",
       "      <td>4</td>\n",
       "      <td>4</td>\n",
       "      <td>1</td>\n",
       "      <td>0</td>\n",
       "      <td>4</td>\n",
       "      <td>2</td>\n",
       "      <td>0</td>\n",
       "      <td>0</td>\n",
       "      <td>20.000000</td>\n",
       "      <td>шевченко — сейфуллина</td>\n",
       "      <td>0</td>\n",
       "      <td>0</td>\n",
       "      <td>0</td>\n",
       "      <td>0</td>\n",
       "      <td>0</td>\n",
       "      <td>0</td>\n",
       "      <td>0</td>\n",
       "      <td>0</td>\n",
       "      <td>0</td>\n",
       "      <td>0</td>\n",
       "      <td>...</td>\n",
       "      <td>0</td>\n",
       "      <td>0</td>\n",
       "      <td>0</td>\n",
       "      <td>0</td>\n",
       "      <td>0</td>\n",
       "      <td>0</td>\n",
       "      <td>0</td>\n",
       "      <td>1</td>\n",
       "      <td>0</td>\n",
       "      <td>0</td>\n",
       "      <td>0</td>\n",
       "      <td>0</td>\n",
       "      <td>0</td>\n",
       "      <td>0</td>\n",
       "      <td>0</td>\n",
       "      <td>0</td>\n",
       "      <td>0</td>\n",
       "      <td>0</td>\n",
       "      <td>0</td>\n",
       "      <td>0</td>\n",
       "      <td>NaN</td>\n",
       "      <td>0</td>\n",
       "      <td>0</td>\n",
       "      <td>0</td>\n",
       "      <td>0</td>\n",
       "      <td>0</td>\n",
       "      <td>0</td>\n",
       "      <td>0</td>\n",
       "      <td>0</td>\n",
       "      <td>0</td>\n",
       "      <td>0</td>\n",
       "      <td>0</td>\n",
       "      <td>1</td>\n",
       "      <td>1</td>\n",
       "      <td>1</td>\n",
       "      <td>0</td>\n",
       "      <td>1</td>\n",
       "      <td>1</td>\n",
       "      <td>1</td>\n",
       "      <td>1</td>\n",
       "      <td>1</td>\n",
       "      <td>1</td>\n",
       "      <td>0</td>\n",
       "      <td>0</td>\n",
       "      <td>0</td>\n",
       "      <td>0</td>\n",
       "      <td>0</td>\n",
       "      <td>0</td>\n",
       "      <td>0</td>\n",
       "      <td>0</td>\n",
       "    </tr>\n",
       "    <tr>\n",
       "      <th>23785</th>\n",
       "      <td>2</td>\n",
       "      <td>3</td>\n",
       "      <td>30.0</td>\n",
       "      <td>мкр №9 69/2 — Жандосова- Сайна</td>\n",
       "      <td>панельный дом, 1972 г.п., состояние: требует ремонта, жил. площадь 45.3 кв.м., кухня 6 кв.м., санузел раздельный, интернет проводной, пустая, Уютный, светлый квартира. Изолированные комнаты. Тихий двор</td>\n",
       "      <td>6</td>\n",
       "      <td>0</td>\n",
       "      <td>0</td>\n",
       "      <td>0</td>\n",
       "      <td>0</td>\n",
       "      <td>0</td>\n",
       "      <td>0</td>\n",
       "      <td>1</td>\n",
       "      <td>0</td>\n",
       "      <td>134</td>\n",
       "      <td>3</td>\n",
       "      <td>3</td>\n",
       "      <td>1</td>\n",
       "      <td>NaN</td>\n",
       "      <td>unknown</td>\n",
       "      <td>NaN</td>\n",
       "      <td>0</td>\n",
       "      <td>3</td>\n",
       "      <td>NaN</td>\n",
       "      <td>Уютный, светлый квартира. Изолированные комнаты. Тихий двор.</td>\n",
       "      <td>61.9</td>\n",
       "      <td>6.0</td>\n",
       "      <td>4</td>\n",
       "      <td>4</td>\n",
       "      <td>12</td>\n",
       "      <td>50</td>\n",
       "      <td>5</td>\n",
       "      <td>1</td>\n",
       "      <td>3</td>\n",
       "      <td>3</td>\n",
       "      <td>1</td>\n",
       "      <td>0</td>\n",
       "      <td>1</td>\n",
       "      <td>20.633333</td>\n",
       "      <td>мкр9 / — жандосова- сайна</td>\n",
       "      <td>0</td>\n",
       "      <td>0</td>\n",
       "      <td>0</td>\n",
       "      <td>0</td>\n",
       "      <td>0</td>\n",
       "      <td>0</td>\n",
       "      <td>0</td>\n",
       "      <td>0</td>\n",
       "      <td>0</td>\n",
       "      <td>0</td>\n",
       "      <td>...</td>\n",
       "      <td>0</td>\n",
       "      <td>0</td>\n",
       "      <td>0</td>\n",
       "      <td>0</td>\n",
       "      <td>0</td>\n",
       "      <td>0</td>\n",
       "      <td>0</td>\n",
       "      <td>0</td>\n",
       "      <td>0</td>\n",
       "      <td>0</td>\n",
       "      <td>0</td>\n",
       "      <td>0</td>\n",
       "      <td>0</td>\n",
       "      <td>0</td>\n",
       "      <td>0</td>\n",
       "      <td>0</td>\n",
       "      <td>0</td>\n",
       "      <td>0</td>\n",
       "      <td>0</td>\n",
       "      <td>0</td>\n",
       "      <td>NaN</td>\n",
       "      <td>0</td>\n",
       "      <td>0</td>\n",
       "      <td>0</td>\n",
       "      <td>0</td>\n",
       "      <td>0</td>\n",
       "      <td>0</td>\n",
       "      <td>0</td>\n",
       "      <td>0</td>\n",
       "      <td>0</td>\n",
       "      <td>0</td>\n",
       "      <td>0</td>\n",
       "      <td>0</td>\n",
       "      <td>1</td>\n",
       "      <td>1</td>\n",
       "      <td>0</td>\n",
       "      <td>0</td>\n",
       "      <td>0</td>\n",
       "      <td>1</td>\n",
       "      <td>1</td>\n",
       "      <td>0</td>\n",
       "      <td>1</td>\n",
       "      <td>0</td>\n",
       "      <td>0</td>\n",
       "      <td>0</td>\n",
       "      <td>0</td>\n",
       "      <td>0</td>\n",
       "      <td>0</td>\n",
       "      <td>0</td>\n",
       "      <td>0</td>\n",
       "    </tr>\n",
       "    <tr>\n",
       "      <th>40228</th>\n",
       "      <td>3</td>\n",
       "      <td>3</td>\n",
       "      <td>40.0</td>\n",
       "      <td>Навои — Торайгырова</td>\n",
       "      <td>жил. комплекс Шахристан, монолитный дом, 2016 г.п., состояние: евроремонт, полностью меблирована, Продается квартира в востребованном районе. Развитая инфраструктура, всё в шаговой доступности! Полное сопровождение сделки</td>\n",
       "      <td>4</td>\n",
       "      <td>0</td>\n",
       "      <td>0</td>\n",
       "      <td>0</td>\n",
       "      <td>0</td>\n",
       "      <td>0</td>\n",
       "      <td>0</td>\n",
       "      <td>0</td>\n",
       "      <td>0</td>\n",
       "      <td>351</td>\n",
       "      <td>3</td>\n",
       "      <td>1</td>\n",
       "      <td>3</td>\n",
       "      <td>NaN</td>\n",
       "      <td>охрана, домофон</td>\n",
       "      <td>NaN</td>\n",
       "      <td>0</td>\n",
       "      <td>0</td>\n",
       "      <td>Пластиковые окна, неугловая, улучшенная, кухня-студия, встроенная кухня, новая сантехника, тихий двор, кондиционер.</td>\n",
       "      <td>Продается квартира в востребованном районе. Развитая инфраструктура, всё в шаговой доступности! Полное сопровождение сделки</td>\n",
       "      <td>80.0</td>\n",
       "      <td>0.0</td>\n",
       "      <td>8</td>\n",
       "      <td>16</td>\n",
       "      <td>15</td>\n",
       "      <td>6</td>\n",
       "      <td>4</td>\n",
       "      <td>1</td>\n",
       "      <td>0</td>\n",
       "      <td>1</td>\n",
       "      <td>0</td>\n",
       "      <td>0</td>\n",
       "      <td>0</td>\n",
       "      <td>26.666667</td>\n",
       "      <td>навои — торайгырова</td>\n",
       "      <td>0</td>\n",
       "      <td>0</td>\n",
       "      <td>0</td>\n",
       "      <td>0</td>\n",
       "      <td>0</td>\n",
       "      <td>0</td>\n",
       "      <td>0</td>\n",
       "      <td>0</td>\n",
       "      <td>0</td>\n",
       "      <td>0</td>\n",
       "      <td>...</td>\n",
       "      <td>0</td>\n",
       "      <td>0</td>\n",
       "      <td>0</td>\n",
       "      <td>0</td>\n",
       "      <td>0</td>\n",
       "      <td>0</td>\n",
       "      <td>0</td>\n",
       "      <td>0</td>\n",
       "      <td>0</td>\n",
       "      <td>0</td>\n",
       "      <td>0</td>\n",
       "      <td>0</td>\n",
       "      <td>0</td>\n",
       "      <td>0</td>\n",
       "      <td>0</td>\n",
       "      <td>0</td>\n",
       "      <td>0</td>\n",
       "      <td>0</td>\n",
       "      <td>0</td>\n",
       "      <td>0</td>\n",
       "      <td>жил. комплекс Шахристан, монолитный дом, 2016 г.п., состояние: евроремонт, полностью меблирована, Продается квартира в востребованном районе. Развитая инфраструктура, всё в шаговой доступности! Полное сопровождение сделки Пластиковые окна, неугловая, улучшенная, кухня-студия, встроенная кухня, новая сантехника, тихий двор, кондиционер. Продается квартира в востребованном районе. Развитая инфраструктура, всё в шаговой доступности! Полное сопровождение сделки</td>\n",
       "      <td>0</td>\n",
       "      <td>1</td>\n",
       "      <td>0</td>\n",
       "      <td>1</td>\n",
       "      <td>0</td>\n",
       "      <td>0</td>\n",
       "      <td>1</td>\n",
       "      <td>0</td>\n",
       "      <td>0</td>\n",
       "      <td>0</td>\n",
       "      <td>0</td>\n",
       "      <td>1</td>\n",
       "      <td>1</td>\n",
       "      <td>0</td>\n",
       "      <td>0</td>\n",
       "      <td>1</td>\n",
       "      <td>0</td>\n",
       "      <td>0</td>\n",
       "      <td>1</td>\n",
       "      <td>1</td>\n",
       "      <td>0</td>\n",
       "      <td>1</td>\n",
       "      <td>0</td>\n",
       "      <td>0</td>\n",
       "      <td>1</td>\n",
       "      <td>0</td>\n",
       "      <td>0</td>\n",
       "      <td>0</td>\n",
       "      <td>0</td>\n",
       "    </tr>\n",
       "    <tr>\n",
       "      <th>24125</th>\n",
       "      <td>2</td>\n",
       "      <td>3</td>\n",
       "      <td>36.0</td>\n",
       "      <td>Щепкина — Береговая</td>\n",
       "      <td>кирпичный дом, 1989 г.п., состояние: хорошее, санузел раздельный, телефон: есть возможность подключения, интернет ADSL, полностью меблирована, Продается квартира со всеми условиями и мебелью. Все рядом</td>\n",
       "      <td>4</td>\n",
       "      <td>0</td>\n",
       "      <td>0</td>\n",
       "      <td>0</td>\n",
       "      <td>0</td>\n",
       "      <td>0</td>\n",
       "      <td>0</td>\n",
       "      <td>1</td>\n",
       "      <td>1</td>\n",
       "      <td>134</td>\n",
       "      <td>3</td>\n",
       "      <td>0</td>\n",
       "      <td>3</td>\n",
       "      <td>NaN</td>\n",
       "      <td>домофон</td>\n",
       "      <td>NaN</td>\n",
       "      <td>2</td>\n",
       "      <td>3</td>\n",
       "      <td>Пластиковые окна, улучшенная, счётчики, тихий двор.</td>\n",
       "      <td>Продается квартира со всеми условиями и мебелью. Все рядом</td>\n",
       "      <td>66.0</td>\n",
       "      <td>9.0</td>\n",
       "      <td>4</td>\n",
       "      <td>5</td>\n",
       "      <td>15</td>\n",
       "      <td>33</td>\n",
       "      <td>3</td>\n",
       "      <td>1</td>\n",
       "      <td>4</td>\n",
       "      <td>3</td>\n",
       "      <td>0</td>\n",
       "      <td>0</td>\n",
       "      <td>0</td>\n",
       "      <td>22.000000</td>\n",
       "      <td>щепкина — береговая</td>\n",
       "      <td>0</td>\n",
       "      <td>0</td>\n",
       "      <td>0</td>\n",
       "      <td>0</td>\n",
       "      <td>0</td>\n",
       "      <td>0</td>\n",
       "      <td>0</td>\n",
       "      <td>0</td>\n",
       "      <td>0</td>\n",
       "      <td>0</td>\n",
       "      <td>...</td>\n",
       "      <td>0</td>\n",
       "      <td>0</td>\n",
       "      <td>0</td>\n",
       "      <td>0</td>\n",
       "      <td>0</td>\n",
       "      <td>0</td>\n",
       "      <td>0</td>\n",
       "      <td>0</td>\n",
       "      <td>0</td>\n",
       "      <td>0</td>\n",
       "      <td>0</td>\n",
       "      <td>0</td>\n",
       "      <td>1</td>\n",
       "      <td>0</td>\n",
       "      <td>0</td>\n",
       "      <td>0</td>\n",
       "      <td>0</td>\n",
       "      <td>0</td>\n",
       "      <td>0</td>\n",
       "      <td>0</td>\n",
       "      <td>кирпичный дом, 1989 г.п., состояние: хорошее, санузел раздельный, телефон: есть возможность подключения, интернет ADSL, полностью меблирована, Продается квартира со всеми условиями и мебелью. Все рядом Пластиковые окна, улучшенная, счётчики, тихий двор. Продается квартира со всеми условиями и мебелью. Все рядом</td>\n",
       "      <td>0</td>\n",
       "      <td>1</td>\n",
       "      <td>0</td>\n",
       "      <td>1</td>\n",
       "      <td>0</td>\n",
       "      <td>0</td>\n",
       "      <td>0</td>\n",
       "      <td>0</td>\n",
       "      <td>0</td>\n",
       "      <td>0</td>\n",
       "      <td>0</td>\n",
       "      <td>0</td>\n",
       "      <td>0</td>\n",
       "      <td>1</td>\n",
       "      <td>0</td>\n",
       "      <td>0</td>\n",
       "      <td>0</td>\n",
       "      <td>0</td>\n",
       "      <td>0</td>\n",
       "      <td>0</td>\n",
       "      <td>0</td>\n",
       "      <td>1</td>\n",
       "      <td>0</td>\n",
       "      <td>0</td>\n",
       "      <td>0</td>\n",
       "      <td>0</td>\n",
       "      <td>0</td>\n",
       "      <td>0</td>\n",
       "      <td>0</td>\n",
       "    </tr>\n",
       "    <tr>\n",
       "      <th>7118</th>\n",
       "      <td>1</td>\n",
       "      <td>2</td>\n",
       "      <td>51.0</td>\n",
       "      <td>Курмангазы — Муканова Сабита</td>\n",
       "      <td>жил. комплекс Жастар Mag, монолитный дом, 2009 г.п., состояние: евроремонт, санузел совмещенный, полностью меблирована, Внимание, срочно! Рассматривают Ипотеку! Двухкомнатная квартира (ЖК, Студия) улучшенной планировки в одном из самых востребованных районов города! Квартира в исключительном состоя…</td>\n",
       "      <td>4</td>\n",
       "      <td>0</td>\n",
       "      <td>0</td>\n",
       "      <td>0</td>\n",
       "      <td>0</td>\n",
       "      <td>0</td>\n",
       "      <td>0</td>\n",
       "      <td>0</td>\n",
       "      <td>0</td>\n",
       "      <td>226</td>\n",
       "      <td>0</td>\n",
       "      <td>1</td>\n",
       "      <td>0</td>\n",
       "      <td>NaN</td>\n",
       "      <td>unknown</td>\n",
       "      <td>NaN</td>\n",
       "      <td>0</td>\n",
       "      <td>0</td>\n",
       "      <td>Тихий двор.</td>\n",
       "      <td>Внимание, срочно! Рассматривают Ипотеку! Двухкомнатная квартира (ЖК, Студия) улучшенной планировки в одном из самых востребованных районов города! Квартира в исключительном состоянии, ремонт производился для себя с использованием дорогих материалов! Не требует капитальных вложений! Развитая инфраструктура, тихий двор, удобная транспортная развязка! В шаговой доступности все необходимое для комфортного проживания! Лучший вариант по соотношению Цена-Состояние-Расположение! Торопитесь!</td>\n",
       "      <td>93.0</td>\n",
       "      <td>0.0</td>\n",
       "      <td>5</td>\n",
       "      <td>12</td>\n",
       "      <td>18</td>\n",
       "      <td>13</td>\n",
       "      <td>4</td>\n",
       "      <td>1</td>\n",
       "      <td>0</td>\n",
       "      <td>4</td>\n",
       "      <td>0</td>\n",
       "      <td>0</td>\n",
       "      <td>0</td>\n",
       "      <td>46.500000</td>\n",
       "      <td>курмангазы — муканова сабита</td>\n",
       "      <td>0</td>\n",
       "      <td>0</td>\n",
       "      <td>0</td>\n",
       "      <td>0</td>\n",
       "      <td>0</td>\n",
       "      <td>0</td>\n",
       "      <td>0</td>\n",
       "      <td>0</td>\n",
       "      <td>0</td>\n",
       "      <td>0</td>\n",
       "      <td>...</td>\n",
       "      <td>0</td>\n",
       "      <td>0</td>\n",
       "      <td>0</td>\n",
       "      <td>0</td>\n",
       "      <td>0</td>\n",
       "      <td>0</td>\n",
       "      <td>0</td>\n",
       "      <td>0</td>\n",
       "      <td>0</td>\n",
       "      <td>0</td>\n",
       "      <td>0</td>\n",
       "      <td>0</td>\n",
       "      <td>0</td>\n",
       "      <td>0</td>\n",
       "      <td>0</td>\n",
       "      <td>0</td>\n",
       "      <td>0</td>\n",
       "      <td>0</td>\n",
       "      <td>0</td>\n",
       "      <td>0</td>\n",
       "      <td>жил. комплекс Жастар Mag, монолитный дом, 2009 г.п., состояние: евроремонт, санузел совмещенный, полностью меблирована, Внимание, срочно! Рассматривают Ипотеку! Двухкомнатная квартира (ЖК, Студия) улучшенной планировки в одном из самых востребованных районов города! Квартира в исключительном состоя… Тихий двор. Внимание, срочно! Рассматривают Ипотеку! Двухкомнатная квартира (ЖК, Студия) улучшенной планировки в одном из самых востребованных районов города! Квартира в исключительном состоянии, ремонт производился для себя с использованием дорогих материалов! Не требует капитальных вложений! Развитая инфраструктура, тихий двор, удобная транспортная развязка! В шаговой доступности все необходимое для комфортного проживания! Лучший вариант по соотношению Цена-Состояние-Расположение! Торопитесь!</td>\n",
       "      <td>0</td>\n",
       "      <td>0</td>\n",
       "      <td>0</td>\n",
       "      <td>0</td>\n",
       "      <td>0</td>\n",
       "      <td>0</td>\n",
       "      <td>0</td>\n",
       "      <td>0</td>\n",
       "      <td>0</td>\n",
       "      <td>0</td>\n",
       "      <td>0</td>\n",
       "      <td>1</td>\n",
       "      <td>1</td>\n",
       "      <td>0</td>\n",
       "      <td>1</td>\n",
       "      <td>1</td>\n",
       "      <td>1</td>\n",
       "      <td>1</td>\n",
       "      <td>1</td>\n",
       "      <td>1</td>\n",
       "      <td>1</td>\n",
       "      <td>0</td>\n",
       "      <td>0</td>\n",
       "      <td>0</td>\n",
       "      <td>0</td>\n",
       "      <td>0</td>\n",
       "      <td>0</td>\n",
       "      <td>0</td>\n",
       "      <td>0</td>\n",
       "    </tr>\n",
       "  </tbody>\n",
       "</table>\n",
       "<p>5 rows × 641 columns</p>\n",
       "</div>"
      ],
      "text/plain": [
       "       district  live_rooms  price                         address  \\\n",
       "8197          1           2   25.5           Шевченко — Сейфуллина   \n",
       "23785         2           3   30.0  мкр №9 69/2 — Жандосова- Сайна   \n",
       "40228         3           3   40.0             Навои — Торайгырова   \n",
       "24125         2           3   36.0             Щепкина — Береговая   \n",
       "7118          1           2   51.0    Курмангазы — Муканова Сабита   \n",
       "\n",
       "                                                                                                                                                                                                                                                                                                       text_preview  \\\n",
       "8197   монолитный дом, 2018 г.п., состояние: евроремонт, жил. площадь 24.7 кв.м., санузел совмещенный, частично меблирована, Надежное будущее - вложение в собственную недвижимость. Продаётся 2-комнатная квартира улучшенной планировки в ЖК Молодежный, в самом центре Южной Столицы, в окружении знаковых объе…   \n",
       "23785                                                                                                     панельный дом, 1972 г.п., состояние: требует ремонта, жил. площадь 45.3 кв.м., кухня 6 кв.м., санузел раздельный, интернет проводной, пустая, Уютный, светлый квартира. Изолированные комнаты. Тихий двор   \n",
       "40228                                                                                 жил. комплекс Шахристан, монолитный дом, 2016 г.п., состояние: евроремонт, полностью меблирована, Продается квартира в востребованном районе. Развитая инфраструктура, всё в шаговой доступности! Полное сопровождение сделки   \n",
       "24125                                                                                                     кирпичный дом, 1989 г.п., состояние: хорошее, санузел раздельный, телефон: есть возможность подключения, интернет ADSL, полностью меблирована, Продается квартира со всеми условиями и мебелью. Все рядом   \n",
       "7118   жил. комплекс Жастар Mag, монолитный дом, 2009 г.п., состояние: евроремонт, санузел совмещенный, полностью меблирована, Внимание, срочно! Рассматривают Ипотеку! Двухкомнатная квартира (ЖК, Студия) улучшенной планировки в одном из самых востребованных районов города! Квартира в исключительном состоя…   \n",
       "\n",
       "       owner  paid_hot  paid_up  paid_fast  paid_urgent  paid_turbo  \\\n",
       "8197       4         1        0          0            0           0   \n",
       "23785      6         0        0          0            0           0   \n",
       "40228      4         0        0          0            0           0   \n",
       "24125      4         0        0          0            0           0   \n",
       "7118       4         0        0          0            0           0   \n",
       "\n",
       "       highlighted  flat.balcony  flat.balcony_g  map.complex  flat.door  \\\n",
       "8197             0             0               0          134          3   \n",
       "23785            0             1               0          134          3   \n",
       "40228            0             0               0          351          3   \n",
       "24125            0             1               1          134          3   \n",
       "7118             0             0               0          226          0   \n",
       "\n",
       "       inet.type  flat.flooring ceiling    flat.security has_change  \\\n",
       "8197           1              0     NaN          unknown        NaN   \n",
       "23785          3              1     NaN          unknown        NaN   \n",
       "40228          1              3     NaN  охрана, домофон        NaN   \n",
       "24125          0              3     NaN          домофон        NaN   \n",
       "7118           1              0     NaN          unknown        NaN   \n",
       "\n",
       "       flat.phone  flat.parking  \\\n",
       "8197            0             0   \n",
       "23785           0             3   \n",
       "40228           0             0   \n",
       "24125           2             3   \n",
       "7118            0             0   \n",
       "\n",
       "                                                                                                              options_text  \\\n",
       "8197                                                                                                                   NaN   \n",
       "23785                                                                                                                  NaN   \n",
       "40228  Пластиковые окна, неугловая, улучшенная, кухня-студия, встроенная кухня, новая сантехника, тихий двор, кондиционер.   \n",
       "24125                                                                  Пластиковые окна, улучшенная, счётчики, тихий двор.   \n",
       "7118                                                                                                           Тихий двор.   \n",
       "\n",
       "                                                                                                                                                                                                                                                                                                                                                                                                                                                                                                                                                                                                                                                                                                                                                                                                                                                            text  \\\n",
       "8197   Надежное будущее - вложение в собственную недвижимость. Продаётся 2-комнатная квартира улучшенной планировки в ЖК Молодежный, в самом центре Южной Столицы, в окружении знаковых объектов для каждого Алматинца! Квартира в отличном состоянии, ремонт делали для себя с применением качественных материалов. В квартире есть просторная гостинная с кухней студией, отдельно спальная комната, санузел совмещен. Шикарный вид из окна. Развитая инфраструктура делает эту квартиру востребованной. В данном районе очень удобная транспортная развязка. Предпродажная проверка объектов и документов (юридическая чистота), подготовка полного пакета бумаг для совершения сделки Полное юридическое сопровождение от компании \"Atrium\". Компания \"Atrium\" - ГАРАНТ Вашей безопасной сделки! Звоните в любое удобное для вас время. С Уважением, Марина!   \n",
       "23785                                                                                                                                                                                                                                                                                                                                                                                                                                                                                                                                                                                                                                                                                                                                                                                               Уютный, светлый квартира. Изолированные комнаты. Тихий двор.   \n",
       "40228                                                                                                                                                                                                                                                                                                                                                                                                                                                                                                                                                                                                                                                                                                                                Продается квартира в востребованном районе. Развитая инфраструктура, всё в шаговой доступности! Полное сопровождение сделки   \n",
       "24125                                                                                                                                                                                                                                                                                                                                                                                                                                                                                                                                                                                                                                                                                                                                                                                                 Продается квартира со всеми условиями и мебелью. Все рядом   \n",
       "7118                                                                                                                                                                                                                                                                                                                                                     Внимание, срочно! Рассматривают Ипотеку! Двухкомнатная квартира (ЖК, Студия) улучшенной планировки в одном из самых востребованных районов города! Квартира в исключительном состоянии, ремонт производился для себя с использованием дорогих материалов! Не требует капитальных вложений! Развитая инфраструктура, тихий двор, удобная транспортная развязка! В шаговой доступности все необходимое для комфортного проживания! Лучший вариант по соотношению Цена-Состояние-Расположение! Торопитесь!   \n",
       "\n",
       "       total_square  kitchen_square  flat_floor  building_floor  days  \\\n",
       "8197           40.0             0.0          10              12    14   \n",
       "23785          61.9             6.0           4               4    12   \n",
       "40228          80.0             0.0           8              16    15   \n",
       "24125          66.0             9.0           4               5    15   \n",
       "7118           93.0             0.0           5              12    18   \n",
       "\n",
       "       building_age  building_type  flat_priv_dorm  flat_renovation  \\\n",
       "8197              4              4               1                0   \n",
       "23785            50              5               1                3   \n",
       "40228             6              4               1                0   \n",
       "24125            33              3               1                4   \n",
       "7118             13              4               1                0   \n",
       "\n",
       "       flat_toilet  live_furniture  first_floor  last_floor  sqare_per_room  \\\n",
       "8197             4               2            0           0       20.000000   \n",
       "23785            3               1            0           1       20.633333   \n",
       "40228            1               0            0           0       26.666667   \n",
       "24125            3               0            0           0       22.000000   \n",
       "7118             4               0            0           0       46.500000   \n",
       "\n",
       "                           address1  0_f  1_f  2_f  3_f  4_f  5_f  6_f  7_f  \\\n",
       "8197          шевченко — сейфуллина    0    0    0    0    0    0    0    0   \n",
       "23785     мкр9 / — жандосова- сайна    0    0    0    0    0    0    0    0   \n",
       "40228           навои — торайгырова    0    0    0    0    0    0    0    0   \n",
       "24125           щепкина — береговая    0    0    0    0    0    0    0    0   \n",
       "7118   курмангазы — муканова сабита    0    0    0    0    0    0    0    0   \n",
       "\n",
       "       8_f  9_f  ...  551_f  552_f  553_f  554_f  555_f  556_f  557_f  558_f  \\\n",
       "8197     0    0  ...      0      0      0      0      0      0      0      1   \n",
       "23785    0    0  ...      0      0      0      0      0      0      0      0   \n",
       "40228    0    0  ...      0      0      0      0      0      0      0      0   \n",
       "24125    0    0  ...      0      0      0      0      0      0      0      0   \n",
       "7118     0    0  ...      0      0      0      0      0      0      0      0   \n",
       "\n",
       "       559_f  560_f  561_f  562_f  563_f  564_f  565_f  566_f  567_f  568_f  \\\n",
       "8197       0      0      0      0      0      0      0      0      0      0   \n",
       "23785      0      0      0      0      0      0      0      0      0      0   \n",
       "40228      0      0      0      0      0      0      0      0      0      0   \n",
       "24125      0      0      0      0      1      0      0      0      0      0   \n",
       "7118       0      0      0      0      0      0      0      0      0      0   \n",
       "\n",
       "       569_f  570_f  \\\n",
       "8197       0      0   \n",
       "23785      0      0   \n",
       "40228      0      0   \n",
       "24125      0      0   \n",
       "7118       0      0   \n",
       "\n",
       "                                                                                                                                                                                                                                                                                                                                                                                                                                                                                                                                                                                                                                                                                                                                                                                                                                  texts  \\\n",
       "8197                                                                                                                                                                                                                                                                                                                                                                                                                                                                                                                                                                                                                                                                                                                                                                                                                                NaN   \n",
       "23785                                                                                                                                                                                                                                                                                                                                                                                                                                                                                                                                                                                                                                                                                                                                                                                                                               NaN   \n",
       "40228                                                                                                                                                                                                                                                                                                                                                     жил. комплекс Шахристан, монолитный дом, 2016 г.п., состояние: евроремонт, полностью меблирована, Продается квартира в востребованном районе. Развитая инфраструктура, всё в шаговой доступности! Полное сопровождение сделки Пластиковые окна, неугловая, улучшенная, кухня-студия, встроенная кухня, новая сантехника, тихий двор, кондиционер. Продается квартира в востребованном районе. Развитая инфраструктура, всё в шаговой доступности! Полное сопровождение сделки   \n",
       "24125                                                                                                                                                                                                                                                                                                                                                                                                                                                                                                          кирпичный дом, 1989 г.п., состояние: хорошее, санузел раздельный, телефон: есть возможность подключения, интернет ADSL, полностью меблирована, Продается квартира со всеми условиями и мебелью. Все рядом Пластиковые окна, улучшенная, счётчики, тихий двор. Продается квартира со всеми условиями и мебелью. Все рядом   \n",
       "7118   жил. комплекс Жастар Mag, монолитный дом, 2009 г.п., состояние: евроремонт, санузел совмещенный, полностью меблирована, Внимание, срочно! Рассматривают Ипотеку! Двухкомнатная квартира (ЖК, Студия) улучшенной планировки в одном из самых востребованных районов города! Квартира в исключительном состоя… Тихий двор. Внимание, срочно! Рассматривают Ипотеку! Двухкомнатная квартира (ЖК, Студия) улучшенной планировки в одном из самых востребованных районов города! Квартира в исключительном состоянии, ремонт производился для себя с использованием дорогих материалов! Не требует капитальных вложений! Развитая инфраструктура, тихий двор, удобная транспортная развязка! В шаговой доступности все необходимое для комфортного проживания! Лучший вариант по соотношению Цена-Состояние-Расположение! Торопитесь!   \n",
       "\n",
       "       needs_repair  improved  rooms_isolated  plastic_windows  \\\n",
       "8197              0         0               0                0   \n",
       "23785             0         0               0                0   \n",
       "40228             0         1               0                1   \n",
       "24125             0         1               0                1   \n",
       "7118              0         0               0                0   \n",
       "\n",
       "       ecologically_clean  air_conditioning  not_at_corner  pledged  \\\n",
       "8197                    0                 0              0        0   \n",
       "23785                   0                 0              0        0   \n",
       "40228                   0                 0              1        0   \n",
       "24125                   0                 0              0        0   \n",
       "7118                    0                 0              0        0   \n",
       "\n",
       "       not_pledged  dormitory  not_dormitory  flat.balcony_null  \\\n",
       "8197             0          0              0                  1   \n",
       "23785            0          0              0                  0   \n",
       "40228            0          0              0                  1   \n",
       "24125            0          0              0                  0   \n",
       "7118             0          0              0                  1   \n",
       "\n",
       "       flat.balcony_g_null  map.complex_null  flat.door_null  inet.type_null  \\\n",
       "8197                     1                 1               0               1   \n",
       "23785                    1                 1               0               0   \n",
       "40228                    1                 0               0               1   \n",
       "24125                    0                 1               0               0   \n",
       "7118                     1                 0               1               1   \n",
       "\n",
       "       flat.flooring_null  flat.security_null  flat.phone_null  \\\n",
       "8197                    1                   1                1   \n",
       "23785                   0                   1                1   \n",
       "40228                   0                   0                1   \n",
       "24125                   0                   0                0   \n",
       "7118                    1                   1                1   \n",
       "\n",
       "       flat.parking_null  unknown  домофон  видеонаблюдение  решетки на окнах  \\\n",
       "8197                   1        1        0                0                 0   \n",
       "23785                  0        1        0                0                 0   \n",
       "40228                  1        0        1                0                 0   \n",
       "24125                  0        0        1                0                 0   \n",
       "7118                   1        1        0                0                 0   \n",
       "\n",
       "       охрана  кодовый замок  сигнализация  видеодомофон  консьерж  \n",
       "8197        0              0             0             0         0  \n",
       "23785       0              0             0             0         0  \n",
       "40228       1              0             0             0         0  \n",
       "24125       0              0             0             0         0  \n",
       "7118        0              0             0             0         0  \n",
       "\n",
       "[5 rows x 641 columns]"
      ]
     },
     "execution_count": 171,
     "metadata": {},
     "output_type": "execute_result"
    }
   ],
   "source": [
    "df.sample(5)"
   ]
  },
  {
   "cell_type": "markdown",
   "metadata": {},
   "source": [
    "### Мы произвели обработку дополнительных признаков, однако они не улучшили работу модели и поэтому не использовались в дальнейшем (в разделе \"Построение модели\" соответствующий код закомментирован.)"
   ]
  },
  {
   "cell_type": "markdown",
   "metadata": {},
   "source": [
    "## 4. Построение модели"
   ]
  },
  {
   "cell_type": "code",
   "execution_count": 172,
   "metadata": {},
   "outputs": [],
   "source": [
    "model_cols = ['district','live_rooms','owner','paid_hot','paid_up','paid_fast','paid_urgent','paid_turbo','highlighted',\n",
    "              'total_square','kitchen_square','flat_floor','building_floor','days','price', 'building_age', 'building_type',\n",
    "              'flat_priv_dorm', 'flat_renovation', 'flat_toilet', 'live_furniture', 'first_floor', 'last_floor',\n",
    "              'sqare_per_room']"
   ]
  },
  {
   "cell_type": "code",
   "execution_count": 173,
   "metadata": {},
   "outputs": [],
   "source": [
    "# extracted_cols = ['needs_repair', 'improved', 'rooms_isolated', 'plastic_windows', 'ecologically_clean',\n",
    "#                   'air_conditioning', 'not_at_corner', 'pledged', 'not_pledged', 'dormitory', 'not_dormitory']\n",
    "extracted_cols = ['pledged', 'dormitory']"
   ]
  },
  {
   "cell_type": "code",
   "execution_count": 174,
   "metadata": {},
   "outputs": [
    {
     "data": {
      "text/plain": [
       "(24, 571, 8, 9, 9, 2)"
      ]
     },
     "execution_count": 174,
     "metadata": {},
     "output_type": "execute_result"
    }
   ],
   "source": [
    "len(model_cols), len(address_f), len(cat_f_2), len(null_cols), len(security_list), len(extracted_cols)"
   ]
  },
  {
   "cell_type": "code",
   "execution_count": 175,
   "metadata": {},
   "outputs": [],
   "source": [
    "#model_cols.extend(address_f + cat_f_2 + null_cols + security_list)\n",
    "#model_cols.extend(address_f + cat_f_2 + null_cols)\n",
    "model_cols.extend(address_f)\n",
    "model_cols.extend(extracted_cols)"
   ]
  },
  {
   "cell_type": "code",
   "execution_count": 176,
   "metadata": {},
   "outputs": [
    {
     "data": {
      "text/plain": [
       "597"
      ]
     },
     "execution_count": 176,
     "metadata": {},
     "output_type": "execute_result"
    }
   ],
   "source": [
    "len(model_cols)"
   ]
  },
  {
   "cell_type": "code",
   "execution_count": 177,
   "metadata": {},
   "outputs": [
    {
     "data": {
      "text/html": [
       "<div>\n",
       "<style scoped>\n",
       "    .dataframe tbody tr th:only-of-type {\n",
       "        vertical-align: middle;\n",
       "    }\n",
       "\n",
       "    .dataframe tbody tr th {\n",
       "        vertical-align: top;\n",
       "    }\n",
       "\n",
       "    .dataframe thead th {\n",
       "        text-align: right;\n",
       "    }\n",
       "</style>\n",
       "<table border=\"1\" class=\"dataframe\">\n",
       "  <thead>\n",
       "    <tr style=\"text-align: right;\">\n",
       "      <th></th>\n",
       "      <th>district</th>\n",
       "      <th>live_rooms</th>\n",
       "      <th>owner</th>\n",
       "      <th>paid_hot</th>\n",
       "      <th>paid_up</th>\n",
       "      <th>paid_fast</th>\n",
       "      <th>paid_urgent</th>\n",
       "      <th>paid_turbo</th>\n",
       "      <th>highlighted</th>\n",
       "      <th>total_square</th>\n",
       "      <th>kitchen_square</th>\n",
       "      <th>flat_floor</th>\n",
       "      <th>building_floor</th>\n",
       "      <th>days</th>\n",
       "      <th>price</th>\n",
       "      <th>building_age</th>\n",
       "      <th>building_type</th>\n",
       "      <th>flat_priv_dorm</th>\n",
       "      <th>flat_renovation</th>\n",
       "      <th>flat_toilet</th>\n",
       "      <th>live_furniture</th>\n",
       "      <th>first_floor</th>\n",
       "      <th>last_floor</th>\n",
       "      <th>sqare_per_room</th>\n",
       "      <th>0_f</th>\n",
       "      <th>1_f</th>\n",
       "      <th>2_f</th>\n",
       "      <th>3_f</th>\n",
       "      <th>4_f</th>\n",
       "      <th>5_f</th>\n",
       "      <th>6_f</th>\n",
       "      <th>7_f</th>\n",
       "      <th>8_f</th>\n",
       "      <th>9_f</th>\n",
       "      <th>10_f</th>\n",
       "      <th>11_f</th>\n",
       "      <th>12_f</th>\n",
       "      <th>13_f</th>\n",
       "      <th>14_f</th>\n",
       "      <th>15_f</th>\n",
       "      <th>16_f</th>\n",
       "      <th>17_f</th>\n",
       "      <th>18_f</th>\n",
       "      <th>19_f</th>\n",
       "      <th>20_f</th>\n",
       "      <th>21_f</th>\n",
       "      <th>22_f</th>\n",
       "      <th>23_f</th>\n",
       "      <th>24_f</th>\n",
       "      <th>25_f</th>\n",
       "      <th>...</th>\n",
       "      <th>523_f</th>\n",
       "      <th>524_f</th>\n",
       "      <th>525_f</th>\n",
       "      <th>526_f</th>\n",
       "      <th>527_f</th>\n",
       "      <th>528_f</th>\n",
       "      <th>529_f</th>\n",
       "      <th>530_f</th>\n",
       "      <th>531_f</th>\n",
       "      <th>532_f</th>\n",
       "      <th>533_f</th>\n",
       "      <th>534_f</th>\n",
       "      <th>535_f</th>\n",
       "      <th>536_f</th>\n",
       "      <th>537_f</th>\n",
       "      <th>538_f</th>\n",
       "      <th>539_f</th>\n",
       "      <th>540_f</th>\n",
       "      <th>541_f</th>\n",
       "      <th>542_f</th>\n",
       "      <th>543_f</th>\n",
       "      <th>544_f</th>\n",
       "      <th>545_f</th>\n",
       "      <th>546_f</th>\n",
       "      <th>547_f</th>\n",
       "      <th>548_f</th>\n",
       "      <th>549_f</th>\n",
       "      <th>550_f</th>\n",
       "      <th>551_f</th>\n",
       "      <th>552_f</th>\n",
       "      <th>553_f</th>\n",
       "      <th>554_f</th>\n",
       "      <th>555_f</th>\n",
       "      <th>556_f</th>\n",
       "      <th>557_f</th>\n",
       "      <th>558_f</th>\n",
       "      <th>559_f</th>\n",
       "      <th>560_f</th>\n",
       "      <th>561_f</th>\n",
       "      <th>562_f</th>\n",
       "      <th>563_f</th>\n",
       "      <th>564_f</th>\n",
       "      <th>565_f</th>\n",
       "      <th>566_f</th>\n",
       "      <th>567_f</th>\n",
       "      <th>568_f</th>\n",
       "      <th>569_f</th>\n",
       "      <th>570_f</th>\n",
       "      <th>pledged</th>\n",
       "      <th>dormitory</th>\n",
       "    </tr>\n",
       "  </thead>\n",
       "  <tbody>\n",
       "    <tr>\n",
       "      <th>29118</th>\n",
       "      <td>3</td>\n",
       "      <td>1</td>\n",
       "      <td>2</td>\n",
       "      <td>0</td>\n",
       "      <td>0</td>\n",
       "      <td>0</td>\n",
       "      <td>0</td>\n",
       "      <td>0</td>\n",
       "      <td>0</td>\n",
       "      <td>63.6</td>\n",
       "      <td>20.0</td>\n",
       "      <td>6</td>\n",
       "      <td>16</td>\n",
       "      <td>5</td>\n",
       "      <td>35.000</td>\n",
       "      <td>6</td>\n",
       "      <td>4</td>\n",
       "      <td>1</td>\n",
       "      <td>0</td>\n",
       "      <td>4</td>\n",
       "      <td>0</td>\n",
       "      <td>0</td>\n",
       "      <td>0</td>\n",
       "      <td>63.600000</td>\n",
       "      <td>0</td>\n",
       "      <td>0</td>\n",
       "      <td>0</td>\n",
       "      <td>0</td>\n",
       "      <td>0</td>\n",
       "      <td>0</td>\n",
       "      <td>0</td>\n",
       "      <td>0</td>\n",
       "      <td>0</td>\n",
       "      <td>0</td>\n",
       "      <td>0</td>\n",
       "      <td>0</td>\n",
       "      <td>0</td>\n",
       "      <td>0</td>\n",
       "      <td>0</td>\n",
       "      <td>0</td>\n",
       "      <td>0</td>\n",
       "      <td>0</td>\n",
       "      <td>0</td>\n",
       "      <td>0</td>\n",
       "      <td>0</td>\n",
       "      <td>0</td>\n",
       "      <td>0</td>\n",
       "      <td>0</td>\n",
       "      <td>0</td>\n",
       "      <td>0</td>\n",
       "      <td>...</td>\n",
       "      <td>0</td>\n",
       "      <td>0</td>\n",
       "      <td>0</td>\n",
       "      <td>0</td>\n",
       "      <td>0</td>\n",
       "      <td>0</td>\n",
       "      <td>0</td>\n",
       "      <td>0</td>\n",
       "      <td>0</td>\n",
       "      <td>0</td>\n",
       "      <td>0</td>\n",
       "      <td>0</td>\n",
       "      <td>0</td>\n",
       "      <td>0</td>\n",
       "      <td>0</td>\n",
       "      <td>0</td>\n",
       "      <td>0</td>\n",
       "      <td>0</td>\n",
       "      <td>0</td>\n",
       "      <td>0</td>\n",
       "      <td>0</td>\n",
       "      <td>0</td>\n",
       "      <td>0</td>\n",
       "      <td>0</td>\n",
       "      <td>0</td>\n",
       "      <td>0</td>\n",
       "      <td>0</td>\n",
       "      <td>0</td>\n",
       "      <td>0</td>\n",
       "      <td>0</td>\n",
       "      <td>0</td>\n",
       "      <td>0</td>\n",
       "      <td>0</td>\n",
       "      <td>0</td>\n",
       "      <td>0</td>\n",
       "      <td>0</td>\n",
       "      <td>0</td>\n",
       "      <td>0</td>\n",
       "      <td>0</td>\n",
       "      <td>0</td>\n",
       "      <td>0</td>\n",
       "      <td>0</td>\n",
       "      <td>0</td>\n",
       "      <td>0</td>\n",
       "      <td>0</td>\n",
       "      <td>0</td>\n",
       "      <td>0</td>\n",
       "      <td>0</td>\n",
       "      <td>0</td>\n",
       "      <td>0</td>\n",
       "    </tr>\n",
       "    <tr>\n",
       "      <th>51962</th>\n",
       "      <td>5</td>\n",
       "      <td>1</td>\n",
       "      <td>4</td>\n",
       "      <td>0</td>\n",
       "      <td>0</td>\n",
       "      <td>0</td>\n",
       "      <td>0</td>\n",
       "      <td>0</td>\n",
       "      <td>0</td>\n",
       "      <td>40.0</td>\n",
       "      <td>0.0</td>\n",
       "      <td>9</td>\n",
       "      <td>9</td>\n",
       "      <td>4</td>\n",
       "      <td>14.700</td>\n",
       "      <td>4</td>\n",
       "      <td>4</td>\n",
       "      <td>1</td>\n",
       "      <td>4</td>\n",
       "      <td>4</td>\n",
       "      <td>2</td>\n",
       "      <td>0</td>\n",
       "      <td>1</td>\n",
       "      <td>40.000000</td>\n",
       "      <td>0</td>\n",
       "      <td>0</td>\n",
       "      <td>0</td>\n",
       "      <td>0</td>\n",
       "      <td>0</td>\n",
       "      <td>0</td>\n",
       "      <td>0</td>\n",
       "      <td>0</td>\n",
       "      <td>0</td>\n",
       "      <td>0</td>\n",
       "      <td>0</td>\n",
       "      <td>0</td>\n",
       "      <td>0</td>\n",
       "      <td>0</td>\n",
       "      <td>0</td>\n",
       "      <td>0</td>\n",
       "      <td>0</td>\n",
       "      <td>0</td>\n",
       "      <td>0</td>\n",
       "      <td>0</td>\n",
       "      <td>0</td>\n",
       "      <td>0</td>\n",
       "      <td>0</td>\n",
       "      <td>0</td>\n",
       "      <td>0</td>\n",
       "      <td>0</td>\n",
       "      <td>...</td>\n",
       "      <td>0</td>\n",
       "      <td>0</td>\n",
       "      <td>0</td>\n",
       "      <td>0</td>\n",
       "      <td>0</td>\n",
       "      <td>0</td>\n",
       "      <td>0</td>\n",
       "      <td>0</td>\n",
       "      <td>0</td>\n",
       "      <td>0</td>\n",
       "      <td>0</td>\n",
       "      <td>0</td>\n",
       "      <td>0</td>\n",
       "      <td>0</td>\n",
       "      <td>0</td>\n",
       "      <td>0</td>\n",
       "      <td>0</td>\n",
       "      <td>0</td>\n",
       "      <td>0</td>\n",
       "      <td>0</td>\n",
       "      <td>0</td>\n",
       "      <td>0</td>\n",
       "      <td>0</td>\n",
       "      <td>0</td>\n",
       "      <td>0</td>\n",
       "      <td>0</td>\n",
       "      <td>0</td>\n",
       "      <td>0</td>\n",
       "      <td>0</td>\n",
       "      <td>0</td>\n",
       "      <td>0</td>\n",
       "      <td>0</td>\n",
       "      <td>0</td>\n",
       "      <td>0</td>\n",
       "      <td>0</td>\n",
       "      <td>0</td>\n",
       "      <td>0</td>\n",
       "      <td>0</td>\n",
       "      <td>0</td>\n",
       "      <td>1</td>\n",
       "      <td>0</td>\n",
       "      <td>0</td>\n",
       "      <td>0</td>\n",
       "      <td>0</td>\n",
       "      <td>0</td>\n",
       "      <td>0</td>\n",
       "      <td>0</td>\n",
       "      <td>0</td>\n",
       "      <td>0</td>\n",
       "      <td>0</td>\n",
       "    </tr>\n",
       "    <tr>\n",
       "      <th>40608</th>\n",
       "      <td>3</td>\n",
       "      <td>3</td>\n",
       "      <td>4</td>\n",
       "      <td>0</td>\n",
       "      <td>0</td>\n",
       "      <td>0</td>\n",
       "      <td>0</td>\n",
       "      <td>0</td>\n",
       "      <td>0</td>\n",
       "      <td>95.0</td>\n",
       "      <td>0.0</td>\n",
       "      <td>12</td>\n",
       "      <td>12</td>\n",
       "      <td>3</td>\n",
       "      <td>63.999</td>\n",
       "      <td>5</td>\n",
       "      <td>4</td>\n",
       "      <td>1</td>\n",
       "      <td>0</td>\n",
       "      <td>3</td>\n",
       "      <td>0</td>\n",
       "      <td>0</td>\n",
       "      <td>1</td>\n",
       "      <td>31.666667</td>\n",
       "      <td>0</td>\n",
       "      <td>0</td>\n",
       "      <td>0</td>\n",
       "      <td>1</td>\n",
       "      <td>0</td>\n",
       "      <td>0</td>\n",
       "      <td>0</td>\n",
       "      <td>0</td>\n",
       "      <td>0</td>\n",
       "      <td>0</td>\n",
       "      <td>0</td>\n",
       "      <td>0</td>\n",
       "      <td>0</td>\n",
       "      <td>0</td>\n",
       "      <td>0</td>\n",
       "      <td>0</td>\n",
       "      <td>0</td>\n",
       "      <td>0</td>\n",
       "      <td>0</td>\n",
       "      <td>0</td>\n",
       "      <td>0</td>\n",
       "      <td>0</td>\n",
       "      <td>0</td>\n",
       "      <td>0</td>\n",
       "      <td>0</td>\n",
       "      <td>0</td>\n",
       "      <td>...</td>\n",
       "      <td>0</td>\n",
       "      <td>0</td>\n",
       "      <td>0</td>\n",
       "      <td>0</td>\n",
       "      <td>0</td>\n",
       "      <td>0</td>\n",
       "      <td>0</td>\n",
       "      <td>0</td>\n",
       "      <td>0</td>\n",
       "      <td>0</td>\n",
       "      <td>0</td>\n",
       "      <td>0</td>\n",
       "      <td>0</td>\n",
       "      <td>0</td>\n",
       "      <td>0</td>\n",
       "      <td>0</td>\n",
       "      <td>0</td>\n",
       "      <td>0</td>\n",
       "      <td>0</td>\n",
       "      <td>0</td>\n",
       "      <td>0</td>\n",
       "      <td>0</td>\n",
       "      <td>0</td>\n",
       "      <td>0</td>\n",
       "      <td>0</td>\n",
       "      <td>0</td>\n",
       "      <td>0</td>\n",
       "      <td>0</td>\n",
       "      <td>0</td>\n",
       "      <td>0</td>\n",
       "      <td>0</td>\n",
       "      <td>0</td>\n",
       "      <td>0</td>\n",
       "      <td>0</td>\n",
       "      <td>0</td>\n",
       "      <td>0</td>\n",
       "      <td>0</td>\n",
       "      <td>0</td>\n",
       "      <td>0</td>\n",
       "      <td>0</td>\n",
       "      <td>0</td>\n",
       "      <td>0</td>\n",
       "      <td>0</td>\n",
       "      <td>0</td>\n",
       "      <td>0</td>\n",
       "      <td>0</td>\n",
       "      <td>0</td>\n",
       "      <td>0</td>\n",
       "      <td>0</td>\n",
       "      <td>0</td>\n",
       "    </tr>\n",
       "    <tr>\n",
       "      <th>56657</th>\n",
       "      <td>7</td>\n",
       "      <td>1</td>\n",
       "      <td>6</td>\n",
       "      <td>0</td>\n",
       "      <td>0</td>\n",
       "      <td>0</td>\n",
       "      <td>0</td>\n",
       "      <td>0</td>\n",
       "      <td>0</td>\n",
       "      <td>59.0</td>\n",
       "      <td>15.0</td>\n",
       "      <td>1</td>\n",
       "      <td>3</td>\n",
       "      <td>27</td>\n",
       "      <td>16.200</td>\n",
       "      <td>39</td>\n",
       "      <td>3</td>\n",
       "      <td>1</td>\n",
       "      <td>4</td>\n",
       "      <td>4</td>\n",
       "      <td>0</td>\n",
       "      <td>1</td>\n",
       "      <td>0</td>\n",
       "      <td>59.000000</td>\n",
       "      <td>0</td>\n",
       "      <td>0</td>\n",
       "      <td>0</td>\n",
       "      <td>0</td>\n",
       "      <td>0</td>\n",
       "      <td>0</td>\n",
       "      <td>0</td>\n",
       "      <td>0</td>\n",
       "      <td>0</td>\n",
       "      <td>0</td>\n",
       "      <td>0</td>\n",
       "      <td>0</td>\n",
       "      <td>0</td>\n",
       "      <td>0</td>\n",
       "      <td>0</td>\n",
       "      <td>0</td>\n",
       "      <td>0</td>\n",
       "      <td>0</td>\n",
       "      <td>0</td>\n",
       "      <td>0</td>\n",
       "      <td>0</td>\n",
       "      <td>0</td>\n",
       "      <td>0</td>\n",
       "      <td>0</td>\n",
       "      <td>0</td>\n",
       "      <td>0</td>\n",
       "      <td>...</td>\n",
       "      <td>0</td>\n",
       "      <td>0</td>\n",
       "      <td>0</td>\n",
       "      <td>0</td>\n",
       "      <td>0</td>\n",
       "      <td>0</td>\n",
       "      <td>0</td>\n",
       "      <td>0</td>\n",
       "      <td>0</td>\n",
       "      <td>0</td>\n",
       "      <td>0</td>\n",
       "      <td>0</td>\n",
       "      <td>0</td>\n",
       "      <td>0</td>\n",
       "      <td>0</td>\n",
       "      <td>0</td>\n",
       "      <td>0</td>\n",
       "      <td>0</td>\n",
       "      <td>0</td>\n",
       "      <td>0</td>\n",
       "      <td>0</td>\n",
       "      <td>0</td>\n",
       "      <td>0</td>\n",
       "      <td>0</td>\n",
       "      <td>0</td>\n",
       "      <td>0</td>\n",
       "      <td>0</td>\n",
       "      <td>0</td>\n",
       "      <td>0</td>\n",
       "      <td>0</td>\n",
       "      <td>0</td>\n",
       "      <td>0</td>\n",
       "      <td>0</td>\n",
       "      <td>0</td>\n",
       "      <td>0</td>\n",
       "      <td>0</td>\n",
       "      <td>0</td>\n",
       "      <td>0</td>\n",
       "      <td>0</td>\n",
       "      <td>0</td>\n",
       "      <td>0</td>\n",
       "      <td>0</td>\n",
       "      <td>0</td>\n",
       "      <td>0</td>\n",
       "      <td>0</td>\n",
       "      <td>0</td>\n",
       "      <td>0</td>\n",
       "      <td>0</td>\n",
       "      <td>0</td>\n",
       "      <td>0</td>\n",
       "    </tr>\n",
       "    <tr>\n",
       "      <th>35603</th>\n",
       "      <td>3</td>\n",
       "      <td>2</td>\n",
       "      <td>4</td>\n",
       "      <td>0</td>\n",
       "      <td>0</td>\n",
       "      <td>0</td>\n",
       "      <td>0</td>\n",
       "      <td>0</td>\n",
       "      <td>0</td>\n",
       "      <td>63.0</td>\n",
       "      <td>11.0</td>\n",
       "      <td>13</td>\n",
       "      <td>14</td>\n",
       "      <td>6</td>\n",
       "      <td>44.000</td>\n",
       "      <td>9</td>\n",
       "      <td>4</td>\n",
       "      <td>1</td>\n",
       "      <td>0</td>\n",
       "      <td>3</td>\n",
       "      <td>0</td>\n",
       "      <td>0</td>\n",
       "      <td>0</td>\n",
       "      <td>31.500000</td>\n",
       "      <td>0</td>\n",
       "      <td>0</td>\n",
       "      <td>0</td>\n",
       "      <td>0</td>\n",
       "      <td>0</td>\n",
       "      <td>0</td>\n",
       "      <td>0</td>\n",
       "      <td>0</td>\n",
       "      <td>0</td>\n",
       "      <td>0</td>\n",
       "      <td>0</td>\n",
       "      <td>0</td>\n",
       "      <td>0</td>\n",
       "      <td>0</td>\n",
       "      <td>0</td>\n",
       "      <td>0</td>\n",
       "      <td>0</td>\n",
       "      <td>0</td>\n",
       "      <td>0</td>\n",
       "      <td>0</td>\n",
       "      <td>0</td>\n",
       "      <td>0</td>\n",
       "      <td>0</td>\n",
       "      <td>0</td>\n",
       "      <td>0</td>\n",
       "      <td>0</td>\n",
       "      <td>...</td>\n",
       "      <td>0</td>\n",
       "      <td>0</td>\n",
       "      <td>0</td>\n",
       "      <td>0</td>\n",
       "      <td>0</td>\n",
       "      <td>0</td>\n",
       "      <td>0</td>\n",
       "      <td>0</td>\n",
       "      <td>0</td>\n",
       "      <td>0</td>\n",
       "      <td>0</td>\n",
       "      <td>0</td>\n",
       "      <td>0</td>\n",
       "      <td>0</td>\n",
       "      <td>0</td>\n",
       "      <td>0</td>\n",
       "      <td>0</td>\n",
       "      <td>0</td>\n",
       "      <td>0</td>\n",
       "      <td>0</td>\n",
       "      <td>0</td>\n",
       "      <td>0</td>\n",
       "      <td>0</td>\n",
       "      <td>0</td>\n",
       "      <td>0</td>\n",
       "      <td>0</td>\n",
       "      <td>0</td>\n",
       "      <td>0</td>\n",
       "      <td>0</td>\n",
       "      <td>0</td>\n",
       "      <td>0</td>\n",
       "      <td>0</td>\n",
       "      <td>0</td>\n",
       "      <td>0</td>\n",
       "      <td>0</td>\n",
       "      <td>0</td>\n",
       "      <td>0</td>\n",
       "      <td>0</td>\n",
       "      <td>0</td>\n",
       "      <td>0</td>\n",
       "      <td>0</td>\n",
       "      <td>0</td>\n",
       "      <td>0</td>\n",
       "      <td>0</td>\n",
       "      <td>0</td>\n",
       "      <td>0</td>\n",
       "      <td>0</td>\n",
       "      <td>0</td>\n",
       "      <td>0</td>\n",
       "      <td>0</td>\n",
       "    </tr>\n",
       "    <tr>\n",
       "      <th>17007</th>\n",
       "      <td>2</td>\n",
       "      <td>1</td>\n",
       "      <td>6</td>\n",
       "      <td>0</td>\n",
       "      <td>0</td>\n",
       "      <td>0</td>\n",
       "      <td>0</td>\n",
       "      <td>0</td>\n",
       "      <td>0</td>\n",
       "      <td>51.0</td>\n",
       "      <td>0.0</td>\n",
       "      <td>2</td>\n",
       "      <td>10</td>\n",
       "      <td>4</td>\n",
       "      <td>30.000</td>\n",
       "      <td>11</td>\n",
       "      <td>4</td>\n",
       "      <td>1</td>\n",
       "      <td>4</td>\n",
       "      <td>4</td>\n",
       "      <td>0</td>\n",
       "      <td>0</td>\n",
       "      <td>0</td>\n",
       "      <td>51.000000</td>\n",
       "      <td>0</td>\n",
       "      <td>0</td>\n",
       "      <td>0</td>\n",
       "      <td>0</td>\n",
       "      <td>0</td>\n",
       "      <td>0</td>\n",
       "      <td>0</td>\n",
       "      <td>0</td>\n",
       "      <td>0</td>\n",
       "      <td>0</td>\n",
       "      <td>0</td>\n",
       "      <td>0</td>\n",
       "      <td>0</td>\n",
       "      <td>0</td>\n",
       "      <td>0</td>\n",
       "      <td>0</td>\n",
       "      <td>0</td>\n",
       "      <td>0</td>\n",
       "      <td>0</td>\n",
       "      <td>0</td>\n",
       "      <td>0</td>\n",
       "      <td>0</td>\n",
       "      <td>0</td>\n",
       "      <td>0</td>\n",
       "      <td>0</td>\n",
       "      <td>0</td>\n",
       "      <td>...</td>\n",
       "      <td>0</td>\n",
       "      <td>0</td>\n",
       "      <td>0</td>\n",
       "      <td>0</td>\n",
       "      <td>0</td>\n",
       "      <td>0</td>\n",
       "      <td>0</td>\n",
       "      <td>0</td>\n",
       "      <td>0</td>\n",
       "      <td>0</td>\n",
       "      <td>0</td>\n",
       "      <td>0</td>\n",
       "      <td>0</td>\n",
       "      <td>0</td>\n",
       "      <td>0</td>\n",
       "      <td>0</td>\n",
       "      <td>0</td>\n",
       "      <td>0</td>\n",
       "      <td>0</td>\n",
       "      <td>0</td>\n",
       "      <td>0</td>\n",
       "      <td>0</td>\n",
       "      <td>0</td>\n",
       "      <td>0</td>\n",
       "      <td>0</td>\n",
       "      <td>0</td>\n",
       "      <td>0</td>\n",
       "      <td>0</td>\n",
       "      <td>0</td>\n",
       "      <td>0</td>\n",
       "      <td>0</td>\n",
       "      <td>0</td>\n",
       "      <td>0</td>\n",
       "      <td>0</td>\n",
       "      <td>0</td>\n",
       "      <td>0</td>\n",
       "      <td>0</td>\n",
       "      <td>0</td>\n",
       "      <td>0</td>\n",
       "      <td>0</td>\n",
       "      <td>0</td>\n",
       "      <td>0</td>\n",
       "      <td>0</td>\n",
       "      <td>0</td>\n",
       "      <td>0</td>\n",
       "      <td>0</td>\n",
       "      <td>0</td>\n",
       "      <td>0</td>\n",
       "      <td>0</td>\n",
       "      <td>0</td>\n",
       "    </tr>\n",
       "    <tr>\n",
       "      <th>32154</th>\n",
       "      <td>3</td>\n",
       "      <td>2</td>\n",
       "      <td>4</td>\n",
       "      <td>0</td>\n",
       "      <td>0</td>\n",
       "      <td>0</td>\n",
       "      <td>0</td>\n",
       "      <td>0</td>\n",
       "      <td>0</td>\n",
       "      <td>92.0</td>\n",
       "      <td>14.0</td>\n",
       "      <td>7</td>\n",
       "      <td>16</td>\n",
       "      <td>21</td>\n",
       "      <td>45.000</td>\n",
       "      <td>16</td>\n",
       "      <td>4</td>\n",
       "      <td>1</td>\n",
       "      <td>4</td>\n",
       "      <td>1</td>\n",
       "      <td>2</td>\n",
       "      <td>0</td>\n",
       "      <td>0</td>\n",
       "      <td>46.000000</td>\n",
       "      <td>0</td>\n",
       "      <td>0</td>\n",
       "      <td>0</td>\n",
       "      <td>0</td>\n",
       "      <td>0</td>\n",
       "      <td>0</td>\n",
       "      <td>0</td>\n",
       "      <td>0</td>\n",
       "      <td>0</td>\n",
       "      <td>0</td>\n",
       "      <td>0</td>\n",
       "      <td>0</td>\n",
       "      <td>0</td>\n",
       "      <td>0</td>\n",
       "      <td>0</td>\n",
       "      <td>0</td>\n",
       "      <td>0</td>\n",
       "      <td>0</td>\n",
       "      <td>0</td>\n",
       "      <td>0</td>\n",
       "      <td>0</td>\n",
       "      <td>0</td>\n",
       "      <td>0</td>\n",
       "      <td>0</td>\n",
       "      <td>0</td>\n",
       "      <td>0</td>\n",
       "      <td>...</td>\n",
       "      <td>0</td>\n",
       "      <td>0</td>\n",
       "      <td>0</td>\n",
       "      <td>0</td>\n",
       "      <td>0</td>\n",
       "      <td>0</td>\n",
       "      <td>0</td>\n",
       "      <td>0</td>\n",
       "      <td>0</td>\n",
       "      <td>0</td>\n",
       "      <td>0</td>\n",
       "      <td>0</td>\n",
       "      <td>0</td>\n",
       "      <td>0</td>\n",
       "      <td>0</td>\n",
       "      <td>0</td>\n",
       "      <td>0</td>\n",
       "      <td>0</td>\n",
       "      <td>0</td>\n",
       "      <td>0</td>\n",
       "      <td>0</td>\n",
       "      <td>0</td>\n",
       "      <td>0</td>\n",
       "      <td>0</td>\n",
       "      <td>0</td>\n",
       "      <td>0</td>\n",
       "      <td>0</td>\n",
       "      <td>0</td>\n",
       "      <td>0</td>\n",
       "      <td>0</td>\n",
       "      <td>0</td>\n",
       "      <td>0</td>\n",
       "      <td>0</td>\n",
       "      <td>0</td>\n",
       "      <td>0</td>\n",
       "      <td>0</td>\n",
       "      <td>0</td>\n",
       "      <td>0</td>\n",
       "      <td>0</td>\n",
       "      <td>0</td>\n",
       "      <td>0</td>\n",
       "      <td>0</td>\n",
       "      <td>0</td>\n",
       "      <td>0</td>\n",
       "      <td>0</td>\n",
       "      <td>0</td>\n",
       "      <td>0</td>\n",
       "      <td>0</td>\n",
       "      <td>0</td>\n",
       "      <td>0</td>\n",
       "    </tr>\n",
       "    <tr>\n",
       "      <th>46187</th>\n",
       "      <td>4</td>\n",
       "      <td>2</td>\n",
       "      <td>4</td>\n",
       "      <td>0</td>\n",
       "      <td>0</td>\n",
       "      <td>0</td>\n",
       "      <td>0</td>\n",
       "      <td>0</td>\n",
       "      <td>0</td>\n",
       "      <td>70.0</td>\n",
       "      <td>12.0</td>\n",
       "      <td>8</td>\n",
       "      <td>9</td>\n",
       "      <td>16</td>\n",
       "      <td>37.000</td>\n",
       "      <td>6</td>\n",
       "      <td>4</td>\n",
       "      <td>1</td>\n",
       "      <td>0</td>\n",
       "      <td>3</td>\n",
       "      <td>2</td>\n",
       "      <td>0</td>\n",
       "      <td>0</td>\n",
       "      <td>35.000000</td>\n",
       "      <td>0</td>\n",
       "      <td>0</td>\n",
       "      <td>0</td>\n",
       "      <td>0</td>\n",
       "      <td>0</td>\n",
       "      <td>0</td>\n",
       "      <td>0</td>\n",
       "      <td>0</td>\n",
       "      <td>0</td>\n",
       "      <td>0</td>\n",
       "      <td>0</td>\n",
       "      <td>0</td>\n",
       "      <td>0</td>\n",
       "      <td>0</td>\n",
       "      <td>0</td>\n",
       "      <td>0</td>\n",
       "      <td>0</td>\n",
       "      <td>0</td>\n",
       "      <td>0</td>\n",
       "      <td>0</td>\n",
       "      <td>0</td>\n",
       "      <td>0</td>\n",
       "      <td>0</td>\n",
       "      <td>0</td>\n",
       "      <td>0</td>\n",
       "      <td>0</td>\n",
       "      <td>...</td>\n",
       "      <td>0</td>\n",
       "      <td>0</td>\n",
       "      <td>0</td>\n",
       "      <td>0</td>\n",
       "      <td>0</td>\n",
       "      <td>0</td>\n",
       "      <td>0</td>\n",
       "      <td>0</td>\n",
       "      <td>0</td>\n",
       "      <td>0</td>\n",
       "      <td>0</td>\n",
       "      <td>0</td>\n",
       "      <td>0</td>\n",
       "      <td>0</td>\n",
       "      <td>0</td>\n",
       "      <td>0</td>\n",
       "      <td>0</td>\n",
       "      <td>0</td>\n",
       "      <td>0</td>\n",
       "      <td>0</td>\n",
       "      <td>0</td>\n",
       "      <td>0</td>\n",
       "      <td>0</td>\n",
       "      <td>0</td>\n",
       "      <td>0</td>\n",
       "      <td>0</td>\n",
       "      <td>0</td>\n",
       "      <td>0</td>\n",
       "      <td>0</td>\n",
       "      <td>0</td>\n",
       "      <td>0</td>\n",
       "      <td>0</td>\n",
       "      <td>0</td>\n",
       "      <td>0</td>\n",
       "      <td>0</td>\n",
       "      <td>0</td>\n",
       "      <td>0</td>\n",
       "      <td>0</td>\n",
       "      <td>0</td>\n",
       "      <td>0</td>\n",
       "      <td>0</td>\n",
       "      <td>0</td>\n",
       "      <td>0</td>\n",
       "      <td>0</td>\n",
       "      <td>0</td>\n",
       "      <td>0</td>\n",
       "      <td>0</td>\n",
       "      <td>0</td>\n",
       "      <td>0</td>\n",
       "      <td>0</td>\n",
       "    </tr>\n",
       "    <tr>\n",
       "      <th>42246</th>\n",
       "      <td>3</td>\n",
       "      <td>3</td>\n",
       "      <td>4</td>\n",
       "      <td>0</td>\n",
       "      <td>0</td>\n",
       "      <td>0</td>\n",
       "      <td>0</td>\n",
       "      <td>0</td>\n",
       "      <td>0</td>\n",
       "      <td>102.0</td>\n",
       "      <td>0.0</td>\n",
       "      <td>12</td>\n",
       "      <td>16</td>\n",
       "      <td>6</td>\n",
       "      <td>67.000</td>\n",
       "      <td>10</td>\n",
       "      <td>4</td>\n",
       "      <td>1</td>\n",
       "      <td>0</td>\n",
       "      <td>1</td>\n",
       "      <td>2</td>\n",
       "      <td>0</td>\n",
       "      <td>0</td>\n",
       "      <td>34.000000</td>\n",
       "      <td>0</td>\n",
       "      <td>0</td>\n",
       "      <td>0</td>\n",
       "      <td>0</td>\n",
       "      <td>0</td>\n",
       "      <td>0</td>\n",
       "      <td>0</td>\n",
       "      <td>0</td>\n",
       "      <td>0</td>\n",
       "      <td>0</td>\n",
       "      <td>0</td>\n",
       "      <td>0</td>\n",
       "      <td>0</td>\n",
       "      <td>0</td>\n",
       "      <td>0</td>\n",
       "      <td>0</td>\n",
       "      <td>0</td>\n",
       "      <td>0</td>\n",
       "      <td>0</td>\n",
       "      <td>0</td>\n",
       "      <td>0</td>\n",
       "      <td>0</td>\n",
       "      <td>0</td>\n",
       "      <td>0</td>\n",
       "      <td>0</td>\n",
       "      <td>0</td>\n",
       "      <td>...</td>\n",
       "      <td>0</td>\n",
       "      <td>0</td>\n",
       "      <td>0</td>\n",
       "      <td>0</td>\n",
       "      <td>0</td>\n",
       "      <td>0</td>\n",
       "      <td>0</td>\n",
       "      <td>0</td>\n",
       "      <td>0</td>\n",
       "      <td>0</td>\n",
       "      <td>0</td>\n",
       "      <td>0</td>\n",
       "      <td>1</td>\n",
       "      <td>0</td>\n",
       "      <td>0</td>\n",
       "      <td>0</td>\n",
       "      <td>0</td>\n",
       "      <td>0</td>\n",
       "      <td>0</td>\n",
       "      <td>0</td>\n",
       "      <td>0</td>\n",
       "      <td>0</td>\n",
       "      <td>0</td>\n",
       "      <td>0</td>\n",
       "      <td>0</td>\n",
       "      <td>0</td>\n",
       "      <td>0</td>\n",
       "      <td>0</td>\n",
       "      <td>0</td>\n",
       "      <td>0</td>\n",
       "      <td>0</td>\n",
       "      <td>0</td>\n",
       "      <td>0</td>\n",
       "      <td>0</td>\n",
       "      <td>0</td>\n",
       "      <td>0</td>\n",
       "      <td>0</td>\n",
       "      <td>0</td>\n",
       "      <td>0</td>\n",
       "      <td>0</td>\n",
       "      <td>0</td>\n",
       "      <td>0</td>\n",
       "      <td>0</td>\n",
       "      <td>0</td>\n",
       "      <td>0</td>\n",
       "      <td>0</td>\n",
       "      <td>0</td>\n",
       "      <td>0</td>\n",
       "      <td>0</td>\n",
       "      <td>0</td>\n",
       "    </tr>\n",
       "    <tr>\n",
       "      <th>45738</th>\n",
       "      <td>4</td>\n",
       "      <td>1</td>\n",
       "      <td>6</td>\n",
       "      <td>1</td>\n",
       "      <td>0</td>\n",
       "      <td>0</td>\n",
       "      <td>0</td>\n",
       "      <td>0</td>\n",
       "      <td>0</td>\n",
       "      <td>43.5</td>\n",
       "      <td>11.0</td>\n",
       "      <td>5</td>\n",
       "      <td>9</td>\n",
       "      <td>6</td>\n",
       "      <td>32.800</td>\n",
       "      <td>31</td>\n",
       "      <td>1</td>\n",
       "      <td>1</td>\n",
       "      <td>0</td>\n",
       "      <td>1</td>\n",
       "      <td>2</td>\n",
       "      <td>0</td>\n",
       "      <td>0</td>\n",
       "      <td>43.500000</td>\n",
       "      <td>0</td>\n",
       "      <td>0</td>\n",
       "      <td>0</td>\n",
       "      <td>0</td>\n",
       "      <td>0</td>\n",
       "      <td>0</td>\n",
       "      <td>0</td>\n",
       "      <td>0</td>\n",
       "      <td>0</td>\n",
       "      <td>0</td>\n",
       "      <td>0</td>\n",
       "      <td>0</td>\n",
       "      <td>0</td>\n",
       "      <td>0</td>\n",
       "      <td>0</td>\n",
       "      <td>0</td>\n",
       "      <td>0</td>\n",
       "      <td>0</td>\n",
       "      <td>0</td>\n",
       "      <td>0</td>\n",
       "      <td>0</td>\n",
       "      <td>0</td>\n",
       "      <td>0</td>\n",
       "      <td>0</td>\n",
       "      <td>0</td>\n",
       "      <td>0</td>\n",
       "      <td>...</td>\n",
       "      <td>0</td>\n",
       "      <td>0</td>\n",
       "      <td>0</td>\n",
       "      <td>0</td>\n",
       "      <td>0</td>\n",
       "      <td>0</td>\n",
       "      <td>0</td>\n",
       "      <td>0</td>\n",
       "      <td>0</td>\n",
       "      <td>0</td>\n",
       "      <td>0</td>\n",
       "      <td>0</td>\n",
       "      <td>0</td>\n",
       "      <td>0</td>\n",
       "      <td>0</td>\n",
       "      <td>0</td>\n",
       "      <td>0</td>\n",
       "      <td>0</td>\n",
       "      <td>0</td>\n",
       "      <td>0</td>\n",
       "      <td>0</td>\n",
       "      <td>0</td>\n",
       "      <td>0</td>\n",
       "      <td>0</td>\n",
       "      <td>0</td>\n",
       "      <td>0</td>\n",
       "      <td>0</td>\n",
       "      <td>0</td>\n",
       "      <td>0</td>\n",
       "      <td>0</td>\n",
       "      <td>0</td>\n",
       "      <td>0</td>\n",
       "      <td>0</td>\n",
       "      <td>0</td>\n",
       "      <td>0</td>\n",
       "      <td>0</td>\n",
       "      <td>0</td>\n",
       "      <td>0</td>\n",
       "      <td>0</td>\n",
       "      <td>0</td>\n",
       "      <td>0</td>\n",
       "      <td>0</td>\n",
       "      <td>0</td>\n",
       "      <td>0</td>\n",
       "      <td>0</td>\n",
       "      <td>0</td>\n",
       "      <td>0</td>\n",
       "      <td>0</td>\n",
       "      <td>0</td>\n",
       "      <td>0</td>\n",
       "    </tr>\n",
       "  </tbody>\n",
       "</table>\n",
       "<p>10 rows × 597 columns</p>\n",
       "</div>"
      ],
      "text/plain": [
       "       district  live_rooms  owner  paid_hot  paid_up  paid_fast  paid_urgent  \\\n",
       "29118         3           1      2         0        0          0            0   \n",
       "51962         5           1      4         0        0          0            0   \n",
       "40608         3           3      4         0        0          0            0   \n",
       "56657         7           1      6         0        0          0            0   \n",
       "35603         3           2      4         0        0          0            0   \n",
       "17007         2           1      6         0        0          0            0   \n",
       "32154         3           2      4         0        0          0            0   \n",
       "46187         4           2      4         0        0          0            0   \n",
       "42246         3           3      4         0        0          0            0   \n",
       "45738         4           1      6         1        0          0            0   \n",
       "\n",
       "       paid_turbo  highlighted  total_square  kitchen_square  flat_floor  \\\n",
       "29118           0            0          63.6            20.0           6   \n",
       "51962           0            0          40.0             0.0           9   \n",
       "40608           0            0          95.0             0.0          12   \n",
       "56657           0            0          59.0            15.0           1   \n",
       "35603           0            0          63.0            11.0          13   \n",
       "17007           0            0          51.0             0.0           2   \n",
       "32154           0            0          92.0            14.0           7   \n",
       "46187           0            0          70.0            12.0           8   \n",
       "42246           0            0         102.0             0.0          12   \n",
       "45738           0            0          43.5            11.0           5   \n",
       "\n",
       "       building_floor  days   price  building_age  building_type  \\\n",
       "29118              16     5  35.000             6              4   \n",
       "51962               9     4  14.700             4              4   \n",
       "40608              12     3  63.999             5              4   \n",
       "56657               3    27  16.200            39              3   \n",
       "35603              14     6  44.000             9              4   \n",
       "17007              10     4  30.000            11              4   \n",
       "32154              16    21  45.000            16              4   \n",
       "46187               9    16  37.000             6              4   \n",
       "42246              16     6  67.000            10              4   \n",
       "45738               9     6  32.800            31              1   \n",
       "\n",
       "       flat_priv_dorm  flat_renovation  flat_toilet  live_furniture  \\\n",
       "29118               1                0            4               0   \n",
       "51962               1                4            4               2   \n",
       "40608               1                0            3               0   \n",
       "56657               1                4            4               0   \n",
       "35603               1                0            3               0   \n",
       "17007               1                4            4               0   \n",
       "32154               1                4            1               2   \n",
       "46187               1                0            3               2   \n",
       "42246               1                0            1               2   \n",
       "45738               1                0            1               2   \n",
       "\n",
       "       first_floor  last_floor  sqare_per_room  0_f  1_f  2_f  3_f  4_f  5_f  \\\n",
       "29118            0           0       63.600000    0    0    0    0    0    0   \n",
       "51962            0           1       40.000000    0    0    0    0    0    0   \n",
       "40608            0           1       31.666667    0    0    0    1    0    0   \n",
       "56657            1           0       59.000000    0    0    0    0    0    0   \n",
       "35603            0           0       31.500000    0    0    0    0    0    0   \n",
       "17007            0           0       51.000000    0    0    0    0    0    0   \n",
       "32154            0           0       46.000000    0    0    0    0    0    0   \n",
       "46187            0           0       35.000000    0    0    0    0    0    0   \n",
       "42246            0           0       34.000000    0    0    0    0    0    0   \n",
       "45738            0           0       43.500000    0    0    0    0    0    0   \n",
       "\n",
       "       6_f  7_f  8_f  9_f  10_f  11_f  12_f  13_f  14_f  15_f  16_f  17_f  \\\n",
       "29118    0    0    0    0     0     0     0     0     0     0     0     0   \n",
       "51962    0    0    0    0     0     0     0     0     0     0     0     0   \n",
       "40608    0    0    0    0     0     0     0     0     0     0     0     0   \n",
       "56657    0    0    0    0     0     0     0     0     0     0     0     0   \n",
       "35603    0    0    0    0     0     0     0     0     0     0     0     0   \n",
       "17007    0    0    0    0     0     0     0     0     0     0     0     0   \n",
       "32154    0    0    0    0     0     0     0     0     0     0     0     0   \n",
       "46187    0    0    0    0     0     0     0     0     0     0     0     0   \n",
       "42246    0    0    0    0     0     0     0     0     0     0     0     0   \n",
       "45738    0    0    0    0     0     0     0     0     0     0     0     0   \n",
       "\n",
       "       18_f  19_f  20_f  21_f  22_f  23_f  24_f  25_f  ...  523_f  524_f  \\\n",
       "29118     0     0     0     0     0     0     0     0  ...      0      0   \n",
       "51962     0     0     0     0     0     0     0     0  ...      0      0   \n",
       "40608     0     0     0     0     0     0     0     0  ...      0      0   \n",
       "56657     0     0     0     0     0     0     0     0  ...      0      0   \n",
       "35603     0     0     0     0     0     0     0     0  ...      0      0   \n",
       "17007     0     0     0     0     0     0     0     0  ...      0      0   \n",
       "32154     0     0     0     0     0     0     0     0  ...      0      0   \n",
       "46187     0     0     0     0     0     0     0     0  ...      0      0   \n",
       "42246     0     0     0     0     0     0     0     0  ...      0      0   \n",
       "45738     0     0     0     0     0     0     0     0  ...      0      0   \n",
       "\n",
       "       525_f  526_f  527_f  528_f  529_f  530_f  531_f  532_f  533_f  534_f  \\\n",
       "29118      0      0      0      0      0      0      0      0      0      0   \n",
       "51962      0      0      0      0      0      0      0      0      0      0   \n",
       "40608      0      0      0      0      0      0      0      0      0      0   \n",
       "56657      0      0      0      0      0      0      0      0      0      0   \n",
       "35603      0      0      0      0      0      0      0      0      0      0   \n",
       "17007      0      0      0      0      0      0      0      0      0      0   \n",
       "32154      0      0      0      0      0      0      0      0      0      0   \n",
       "46187      0      0      0      0      0      0      0      0      0      0   \n",
       "42246      0      0      0      0      0      0      0      0      0      0   \n",
       "45738      0      0      0      0      0      0      0      0      0      0   \n",
       "\n",
       "       535_f  536_f  537_f  538_f  539_f  540_f  541_f  542_f  543_f  544_f  \\\n",
       "29118      0      0      0      0      0      0      0      0      0      0   \n",
       "51962      0      0      0      0      0      0      0      0      0      0   \n",
       "40608      0      0      0      0      0      0      0      0      0      0   \n",
       "56657      0      0      0      0      0      0      0      0      0      0   \n",
       "35603      0      0      0      0      0      0      0      0      0      0   \n",
       "17007      0      0      0      0      0      0      0      0      0      0   \n",
       "32154      0      0      0      0      0      0      0      0      0      0   \n",
       "46187      0      0      0      0      0      0      0      0      0      0   \n",
       "42246      1      0      0      0      0      0      0      0      0      0   \n",
       "45738      0      0      0      0      0      0      0      0      0      0   \n",
       "\n",
       "       545_f  546_f  547_f  548_f  549_f  550_f  551_f  552_f  553_f  554_f  \\\n",
       "29118      0      0      0      0      0      0      0      0      0      0   \n",
       "51962      0      0      0      0      0      0      0      0      0      0   \n",
       "40608      0      0      0      0      0      0      0      0      0      0   \n",
       "56657      0      0      0      0      0      0      0      0      0      0   \n",
       "35603      0      0      0      0      0      0      0      0      0      0   \n",
       "17007      0      0      0      0      0      0      0      0      0      0   \n",
       "32154      0      0      0      0      0      0      0      0      0      0   \n",
       "46187      0      0      0      0      0      0      0      0      0      0   \n",
       "42246      0      0      0      0      0      0      0      0      0      0   \n",
       "45738      0      0      0      0      0      0      0      0      0      0   \n",
       "\n",
       "       555_f  556_f  557_f  558_f  559_f  560_f  561_f  562_f  563_f  564_f  \\\n",
       "29118      0      0      0      0      0      0      0      0      0      0   \n",
       "51962      0      0      0      0      0      0      0      1      0      0   \n",
       "40608      0      0      0      0      0      0      0      0      0      0   \n",
       "56657      0      0      0      0      0      0      0      0      0      0   \n",
       "35603      0      0      0      0      0      0      0      0      0      0   \n",
       "17007      0      0      0      0      0      0      0      0      0      0   \n",
       "32154      0      0      0      0      0      0      0      0      0      0   \n",
       "46187      0      0      0      0      0      0      0      0      0      0   \n",
       "42246      0      0      0      0      0      0      0      0      0      0   \n",
       "45738      0      0      0      0      0      0      0      0      0      0   \n",
       "\n",
       "       565_f  566_f  567_f  568_f  569_f  570_f  pledged  dormitory  \n",
       "29118      0      0      0      0      0      0        0          0  \n",
       "51962      0      0      0      0      0      0        0          0  \n",
       "40608      0      0      0      0      0      0        0          0  \n",
       "56657      0      0      0      0      0      0        0          0  \n",
       "35603      0      0      0      0      0      0        0          0  \n",
       "17007      0      0      0      0      0      0        0          0  \n",
       "32154      0      0      0      0      0      0        0          0  \n",
       "46187      0      0      0      0      0      0        0          0  \n",
       "42246      0      0      0      0      0      0        0          0  \n",
       "45738      0      0      0      0      0      0        0          0  \n",
       "\n",
       "[10 rows x 597 columns]"
      ]
     },
     "execution_count": 177,
     "metadata": {},
     "output_type": "execute_result"
    }
   ],
   "source": [
    "df[model_cols].sample(10)"
   ]
  },
  {
   "cell_type": "code",
   "execution_count": 178,
   "metadata": {},
   "outputs": [],
   "source": [
    "X = (df[model_cols]).drop(['price'], axis=1)\n",
    "y = (df[model_cols]).price.values"
   ]
  },
  {
   "cell_type": "code",
   "execution_count": 179,
   "metadata": {},
   "outputs": [],
   "source": [
    "X_train, X_test, y_train, y_test = train_test_split(X, y, test_size=0.2, random_state=RANDOM_SEED)"
   ]
  },
  {
   "cell_type": "code",
   "execution_count": 180,
   "metadata": {},
   "outputs": [
    {
     "data": {
      "text/plain": [
       "((59456, 596), (47564, 596), (11892, 596))"
      ]
     },
     "execution_count": 180,
     "metadata": {},
     "output_type": "execute_result"
    }
   ],
   "source": [
    "X.shape, X_train.shape, X_test.shape"
   ]
  },
  {
   "cell_type": "markdown",
   "metadata": {},
   "source": [
    "**Можно попытаться прологарифмировать целевую переменную.**"
   ]
  },
  {
   "cell_type": "code",
   "execution_count": 181,
   "metadata": {},
   "outputs": [],
   "source": [
    "# y_train = np.log(y_train)"
   ]
  },
  {
   "cell_type": "code",
   "execution_count": 182,
   "metadata": {},
   "outputs": [],
   "source": [
    "model = RandomForestRegressor(n_estimators=100, verbose=1, n_jobs=-1, random_state=RANDOM_SEED)"
   ]
  },
  {
   "cell_type": "code",
   "execution_count": 183,
   "metadata": {},
   "outputs": [
    {
     "name": "stderr",
     "output_type": "stream",
     "text": [
      "[Parallel(n_jobs=-1)]: Using backend ThreadingBackend with 8 concurrent workers.\n",
      "[Parallel(n_jobs=-1)]: Done  34 tasks      | elapsed:   24.6s\n",
      "[Parallel(n_jobs=-1)]: Done 100 out of 100 | elapsed:  1.0min finished\n",
      "[Parallel(n_jobs=8)]: Using backend ThreadingBackend with 8 concurrent workers.\n",
      "[Parallel(n_jobs=8)]: Done  34 tasks      | elapsed:    0.0s\n",
      "[Parallel(n_jobs=8)]: Done 100 out of 100 | elapsed:    0.1s finished\n",
      "[Parallel(n_jobs=8)]: Using backend ThreadingBackend with 8 concurrent workers.\n",
      "[Parallel(n_jobs=8)]: Done  34 tasks      | elapsed:    0.2s\n",
      "[Parallel(n_jobs=8)]: Done 100 out of 100 | elapsed:    0.7s finished\n"
     ]
    }
   ],
   "source": [
    "model.fit(X_train, y_train)\n",
    "\n",
    "y_pred = model.predict(X_test)\n",
    "# y_pred = np.exp(y_pred)\n",
    "\n",
    "y_pred_train = model.predict(X_train)\n",
    "# y_pred_train = np.exp(y_pred_train)"
   ]
  },
  {
   "cell_type": "code",
   "execution_count": 184,
   "metadata": {},
   "outputs": [
    {
     "name": "stdout",
     "output_type": "stream",
     "text": [
      "MAE: 2.5821644483463597\n"
     ]
    }
   ],
   "source": [
    "print('MAE:', metrics.mean_absolute_error(y_test, y_pred))"
   ]
  },
  {
   "cell_type": "markdown",
   "metadata": {},
   "source": [
    "MAE 2.5821644483463597, log: 2.5618273683314214"
   ]
  },
  {
   "cell_type": "code",
   "execution_count": 185,
   "metadata": {},
   "outputs": [
    {
     "name": "stdout",
     "output_type": "stream",
     "text": [
      "MAE_train: 0.9813783256041063\n"
     ]
    }
   ],
   "source": [
    "# print('MAE_train:', metrics.mean_absolute_error(np.exp(y_train), y_pred_train))\n",
    "print('MAE_train:', metrics.mean_absolute_error(y_train, y_pred_train))"
   ]
  },
  {
   "cell_type": "markdown",
   "metadata": {},
   "source": [
    "MAE_train 0.9813783256041063, log: 0.9863788119415223"
   ]
  },
  {
   "cell_type": "code",
   "execution_count": 186,
   "metadata": {},
   "outputs": [
    {
     "name": "stdout",
     "output_type": "stream",
     "text": [
      "MAPE: 7.364593598883832 %\n"
     ]
    }
   ],
   "source": [
    "print('MAPE:', 100*mape(y_test, y_pred), '%')"
   ]
  },
  {
   "cell_type": "markdown",
   "metadata": {},
   "source": [
    "MAPE 7.364593598883832 %, log: 7.21129003848961 %"
   ]
  },
  {
   "cell_type": "code",
   "execution_count": 187,
   "metadata": {},
   "outputs": [
    {
     "name": "stdout",
     "output_type": "stream",
     "text": [
      "MAPE_train: 2.8016516204209663 %\n"
     ]
    }
   ],
   "source": [
    "# print('MAPE_train:', 100*mape(np.exp(y_train), y_pred_train), '%')\n",
    "print('MAPE_train:', 100*mape(y_train, y_pred_train), '%')"
   ]
  },
  {
   "cell_type": "markdown",
   "metadata": {},
   "source": [
    "MAPE_train 2.8016516204209663 %, log: 2.7145864484970073 %"
   ]
  },
  {
   "cell_type": "code",
   "execution_count": 188,
   "metadata": {
    "scrolled": true
   },
   "outputs": [
    {
     "data": {
      "text/plain": [
       "<AxesSubplot:>"
      ]
     },
     "execution_count": 188,
     "metadata": {},
     "output_type": "execute_result"
    },
    {
     "data": {
      "image/png": "[encoded data removed]",
      "text/plain": [
       "<Figure size 1440x720 with 1 Axes>"
      ]
     },
     "metadata": {
      "needs_background": "light"
     },
     "output_type": "display_data"
    }
   ],
   "source": [
    "# Выведем самые важные признаки для RandomForestRegressor\n",
    "plt.rcParams['figure.figsize'] = (20,10)\n",
    "feat_importances = pd.Series(model.feature_importances_, index=X.columns)\n",
    "feat_importances.nlargest(20).plot(kind='barh')"
   ]
  },
  {
   "cell_type": "markdown",
   "metadata": {},
   "source": [
    "## Подбор гиперпараметров"
   ]
  },
  {
   "cell_type": "code",
   "execution_count": 189,
   "metadata": {},
   "outputs": [],
   "source": [
    "# print('Параметры по умолчанию:\\n')\n",
    "# pprint(model.get_params())"
   ]
  },
  {
   "cell_type": "code",
   "execution_count": 190,
   "metadata": {},
   "outputs": [],
   "source": [
    "# n_estimators = [int(x) for x in np.linspace(start = 200, stop = 2000, num = 10)]\n",
    "# max_features = ['auto', 'sqrt']\n",
    "# max_depth = [int(x) for x in np.linspace(10, 110, num = 11)]\n",
    "# max_depth.append(None)\n",
    "# min_samples_split = [2, 5, 10]\n",
    "# min_samples_leaf = [1, 2, 4]\n",
    "# bootstrap = [True, False]\n",
    "# random_grid = {'n_estimators': n_estimators,\n",
    "#                'max_features': max_features,\n",
    "#                'max_depth': max_depth,\n",
    "#                'min_samples_split': min_samples_split,\n",
    "#                'min_samples_leaf': min_samples_leaf,\n",
    "#                'bootstrap': bootstrap}"
   ]
  },
  {
   "cell_type": "code",
   "execution_count": 191,
   "metadata": {},
   "outputs": [],
   "source": [
    "# my_scorer = make_scorer(mape, greater_is_better=False)"
   ]
  },
  {
   "cell_type": "code",
   "execution_count": 192,
   "metadata": {
    "scrolled": true
   },
   "outputs": [],
   "source": [
    "# rf = RandomForestRegressor()\n",
    "# rf_random = RandomizedSearchCV(estimator=rf,\n",
    "#                                param_distributions=random_grid,\n",
    "#                                n_iter=100,\n",
    "#                                scoring=my_scorer,\n",
    "#                                cv=3, \n",
    "#                                verbose=2,\n",
    "#                                random_state=RANDOM_SEED,\n",
    "#                                n_jobs=-1)\n",
    "# rf_random.fit(X_train, y_train)"
   ]
  },
  {
   "cell_type": "code",
   "execution_count": 193,
   "metadata": {},
   "outputs": [],
   "source": [
    "# rf_random.best_params_"
   ]
  },
  {
   "cell_type": "markdown",
   "metadata": {},
   "source": [
    "Random Forest с подобранными параметрами:"
   ]
  },
  {
   "cell_type": "code",
   "execution_count": 194,
   "metadata": {},
   "outputs": [],
   "source": [
    "rf_optim = RandomForestRegressor(random_state=RANDOM_SEED,\n",
    "                                 verbose=1,\n",
    "                                 n_jobs=-1,\n",
    "                                 n_estimators=1400,\n",
    "                                 min_samples_split=2,\n",
    "                                 min_samples_leaf=1,\n",
    "                                 max_features='auto',\n",
    "                                 max_depth=100,\n",
    "                                 bootstrap=True)"
   ]
  },
  {
   "cell_type": "code",
   "execution_count": 195,
   "metadata": {},
   "outputs": [
    {
     "name": "stderr",
     "output_type": "stream",
     "text": [
      "[Parallel(n_jobs=-1)]: Using backend ThreadingBackend with 8 concurrent workers.\n",
      "[Parallel(n_jobs=-1)]: Done  34 tasks      | elapsed:   24.9s\n",
      "[Parallel(n_jobs=-1)]: Done 184 tasks      | elapsed:  2.0min\n",
      "[Parallel(n_jobs=-1)]: Done 434 tasks      | elapsed:  4.6min\n",
      "[Parallel(n_jobs=-1)]: Done 784 tasks      | elapsed:  8.3min\n",
      "[Parallel(n_jobs=-1)]: Done 1234 tasks      | elapsed: 13.0min\n",
      "[Parallel(n_jobs=-1)]: Done 1400 out of 1400 | elapsed: 14.7min finished\n",
      "[Parallel(n_jobs=8)]: Using backend ThreadingBackend with 8 concurrent workers.\n",
      "[Parallel(n_jobs=8)]: Done  34 tasks      | elapsed:    0.0s\n",
      "[Parallel(n_jobs=8)]: Done 184 tasks      | elapsed:    0.5s\n",
      "[Parallel(n_jobs=8)]: Done 434 tasks      | elapsed:    1.2s\n",
      "[Parallel(n_jobs=8)]: Done 784 tasks      | elapsed:    2.1s\n",
      "[Parallel(n_jobs=8)]: Done 1234 tasks      | elapsed:    3.0s\n",
      "[Parallel(n_jobs=8)]: Done 1400 out of 1400 | elapsed:    3.4s finished\n",
      "[Parallel(n_jobs=8)]: Using backend ThreadingBackend with 8 concurrent workers.\n",
      "[Parallel(n_jobs=8)]: Done  34 tasks      | elapsed:    0.4s\n",
      "[Parallel(n_jobs=8)]: Done 184 tasks      | elapsed:    2.0s\n",
      "[Parallel(n_jobs=8)]: Done 434 tasks      | elapsed:    4.0s\n",
      "[Parallel(n_jobs=8)]: Done 784 tasks      | elapsed:    7.0s\n",
      "[Parallel(n_jobs=8)]: Done 1234 tasks      | elapsed:   10.8s\n",
      "[Parallel(n_jobs=8)]: Done 1400 out of 1400 | elapsed:   12.1s finished\n"
     ]
    }
   ],
   "source": [
    "rf_optim.fit(X_train, y_train)\n",
    "\n",
    "y_pred = rf_optim.predict(X_test)\n",
    "y_pred_train = rf_optim.predict(X_train)"
   ]
  },
  {
   "cell_type": "code",
   "execution_count": 196,
   "metadata": {},
   "outputs": [
    {
     "name": "stdout",
     "output_type": "stream",
     "text": [
      "MAE: 2.564968755651193\n"
     ]
    }
   ],
   "source": [
    "print('MAE:', metrics.mean_absolute_error(y_test, y_pred))"
   ]
  },
  {
   "cell_type": "code",
   "execution_count": 197,
   "metadata": {},
   "outputs": [
    {
     "name": "stdout",
     "output_type": "stream",
     "text": [
      "MAE_train: 0.9622522718376604\n"
     ]
    }
   ],
   "source": [
    "print('MAE_train:', metrics.mean_absolute_error(y_train, y_pred_train))"
   ]
  },
  {
   "cell_type": "code",
   "execution_count": 198,
   "metadata": {},
   "outputs": [
    {
     "name": "stdout",
     "output_type": "stream",
     "text": [
      "MAPE: 7.319832166722446 %\n"
     ]
    }
   ],
   "source": [
    "print('MAPE:', 100*mape(y_test, y_pred), '%')"
   ]
  },
  {
   "cell_type": "code",
   "execution_count": 199,
   "metadata": {},
   "outputs": [
    {
     "name": "stdout",
     "output_type": "stream",
     "text": [
      "MAPE_train: 2.7456567679299866 %\n"
     ]
    }
   ],
   "source": [
    "print('MAPE_train:', 100*mape(y_train, y_pred_train), '%')"
   ]
  },
  {
   "cell_type": "markdown",
   "metadata": {},
   "source": [
    "С логарифмированием целевой переменной"
   ]
  },
  {
   "cell_type": "code",
   "execution_count": 200,
   "metadata": {},
   "outputs": [],
   "source": [
    "y_train = np.log(y_train)"
   ]
  },
  {
   "cell_type": "code",
   "execution_count": 201,
   "metadata": {},
   "outputs": [],
   "source": [
    "rf_optim = RandomForestRegressor(random_state=RANDOM_SEED,\n",
    "                                 verbose=1,\n",
    "                                 n_jobs=-1,\n",
    "                                 n_estimators=1400,\n",
    "                                 min_samples_split=2,\n",
    "                                 min_samples_leaf=1,\n",
    "                                 max_features='auto',\n",
    "                                 max_depth=100,\n",
    "                                 bootstrap=True)"
   ]
  },
  {
   "cell_type": "code",
   "execution_count": 202,
   "metadata": {},
   "outputs": [
    {
     "name": "stderr",
     "output_type": "stream",
     "text": [
      "[Parallel(n_jobs=-1)]: Using backend ThreadingBackend with 8 concurrent workers.\n",
      "[Parallel(n_jobs=-1)]: Done  34 tasks      | elapsed:   23.1s\n",
      "[Parallel(n_jobs=-1)]: Done 184 tasks      | elapsed:  1.8min\n",
      "[Parallel(n_jobs=-1)]: Done 434 tasks      | elapsed:  4.2min\n",
      "[Parallel(n_jobs=-1)]: Done 784 tasks      | elapsed:  7.7min\n",
      "[Parallel(n_jobs=-1)]: Done 1234 tasks      | elapsed: 12.1min\n",
      "[Parallel(n_jobs=-1)]: Done 1400 out of 1400 | elapsed: 13.7min finished\n",
      "[Parallel(n_jobs=8)]: Using backend ThreadingBackend with 8 concurrent workers.\n",
      "[Parallel(n_jobs=8)]: Done  34 tasks      | elapsed:    0.0s\n",
      "[Parallel(n_jobs=8)]: Done 184 tasks      | elapsed:    0.3s\n",
      "[Parallel(n_jobs=8)]: Done 434 tasks      | elapsed:    0.8s\n",
      "[Parallel(n_jobs=8)]: Done 784 tasks      | elapsed:    1.5s\n",
      "[Parallel(n_jobs=8)]: Done 1234 tasks      | elapsed:    2.4s\n",
      "[Parallel(n_jobs=8)]: Done 1400 out of 1400 | elapsed:    2.8s finished\n",
      "[Parallel(n_jobs=8)]: Using backend ThreadingBackend with 8 concurrent workers.\n",
      "[Parallel(n_jobs=8)]: Done  34 tasks      | elapsed:    0.2s\n",
      "[Parallel(n_jobs=8)]: Done 184 tasks      | elapsed:    1.5s\n",
      "[Parallel(n_jobs=8)]: Done 434 tasks      | elapsed:    3.6s\n",
      "[Parallel(n_jobs=8)]: Done 784 tasks      | elapsed:    6.6s\n",
      "[Parallel(n_jobs=8)]: Done 1234 tasks      | elapsed:   10.4s\n",
      "[Parallel(n_jobs=8)]: Done 1400 out of 1400 | elapsed:   11.8s finished\n"
     ]
    }
   ],
   "source": [
    "rf_optim.fit(X_train, y_train)\n",
    "\n",
    "\n",
    "y_pred = rf_optim.predict(X_test)\n",
    "y_pred = np.exp(y_pred)\n",
    "y_pred_train = rf_optim.predict(X_train)\n",
    "y_pred_train = np.exp(y_pred_train)"
   ]
  },
  {
   "cell_type": "code",
   "execution_count": 203,
   "metadata": {},
   "outputs": [
    {
     "name": "stdout",
     "output_type": "stream",
     "text": [
      "MAE: 2.5526056899123466\n"
     ]
    }
   ],
   "source": [
    "print('MAE:', metrics.mean_absolute_error(y_test, y_pred))"
   ]
  },
  {
   "cell_type": "code",
   "execution_count": 204,
   "metadata": {},
   "outputs": [
    {
     "name": "stdout",
     "output_type": "stream",
     "text": [
      "MAE_train: 0.9713706768834204\n"
     ]
    }
   ],
   "source": [
    "print('MAE_train:', metrics.mean_absolute_error(np.exp(y_train), y_pred_train))"
   ]
  },
  {
   "cell_type": "code",
   "execution_count": 205,
   "metadata": {},
   "outputs": [
    {
     "name": "stdout",
     "output_type": "stream",
     "text": [
      "MAPE: 7.162373411888237 %\n"
     ]
    }
   ],
   "source": [
    "print('MAPE:', 100*mape(y_test, y_pred), '%')"
   ]
  },
  {
   "cell_type": "code",
   "execution_count": 206,
   "metadata": {},
   "outputs": [
    {
     "name": "stdout",
     "output_type": "stream",
     "text": [
      "MAPE_train: 2.667636908014306 %\n"
     ]
    }
   ],
   "source": [
    "print('MAPE_train:', 100*mape(np.exp(y_train), y_pred_train), '%')"
   ]
  },
  {
   "cell_type": "markdown",
   "metadata": {},
   "source": [
    "## Выводы"
   ]
  },
  {
   "cell_type": "markdown",
   "metadata": {},
   "source": [
    "### Благодаря хорошему качеству Front End кода сайта krisha.kz нам удалось \"спарсить\" качественный набор данных для обучения модели.\n",
    "### Лучший результат на семействах моделей RandomForest Regressor получился с применением логарифмирования целевой переменной и подбора гиперпараметров и составил 7.16 % по метрике MAPE."
   ]
  }
 ],
 "metadata": {
  "kernelspec": {
   "display_name": "Python 3",
   "language": "python",
   "name": "python3"
  },
  "language_info": {
   "codemirror_mode": {
    "name": "ipython",
    "version": 3
   },
   "file_extension": ".py",
   "mimetype": "text/x-python",
   "name": "python",
   "nbconvert_exporter": "python",
   "pygments_lexer": "ipython3",
   "version": "3.8.5"
  }
 },
 "nbformat": 4,
 "nbformat_minor": 4
}
