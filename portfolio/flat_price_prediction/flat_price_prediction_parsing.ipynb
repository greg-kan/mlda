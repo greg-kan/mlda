{
 "cells": [
  {
   "cell_type": "markdown",
   "metadata": {},
   "source": [
    "# Проект \"Flat price prediction\": Извлечение датасета"
   ]
  },
  {
   "cell_type": "code",
   "execution_count": 1,
   "metadata": {
    "_cell_guid": "b1076dfc-b9ad-4769-8c92-a6c4dae69d19",
    "_uuid": "8f2839f25d086af736a60e9eeb907d3b93b6e0e5"
   },
   "outputs": [],
   "source": [
    "import os\n",
    "import numpy as np\n",
    "import pandas as pd\n",
    "import sys\n",
    "import re\n",
    "import time\n",
    "from bs4 import BeautifulSoup    \n",
    "import requests "
   ]
  },
  {
   "cell_type": "code",
   "execution_count": 2,
   "metadata": {},
   "outputs": [
    {
     "data": {
      "text/html": [],
      "text/plain": [
       "<IPython.core.display.HTML object>"
      ]
     },
     "metadata": {},
     "output_type": "display_data"
    }
   ],
   "source": [
    "#Используем простой звуковой индикатор для облегчения контроля за процессом\n",
    "import jupyter_beeper\n",
    "beeper = jupyter_beeper.Beeper()"
   ]
  },
  {
   "cell_type": "code",
   "execution_count": 3,
   "metadata": {},
   "outputs": [],
   "source": [
    "#Также используем Progress Bar\n",
    "from tqdm.notebook import tqdm"
   ]
  },
  {
   "cell_type": "code",
   "execution_count": 4,
   "metadata": {},
   "outputs": [],
   "source": [
    "import ipython_exit"
   ]
  },
  {
   "cell_type": "code",
   "execution_count": 5,
   "metadata": {},
   "outputs": [],
   "source": [
    "#Выставим опции pandas для удобства просмотра\n",
    "pd.set_option('display.max_columns', 100)\n",
    "pd.set_option('max_colwidth', 200)"
   ]
  },
  {
   "cell_type": "code",
   "execution_count": 6,
   "metadata": {},
   "outputs": [],
   "source": [
    "# зафиксируем версию пакетов, чтобы эксперименты были воспроизводимы:\n",
    "!pip freeze > requirements.txt"
   ]
  },
  {
   "cell_type": "markdown",
   "metadata": {},
   "source": [
    "Парсинг будем делать на локальной машине."
   ]
  },
  {
   "cell_type": "code",
   "execution_count": 7,
   "metadata": {},
   "outputs": [],
   "source": [
    "PATH_to_file = './data/'"
   ]
  },
  {
   "cell_type": "markdown",
   "metadata": {},
   "source": [
    "Создадим словарь districs с наименованиями районов:"
   ]
  },
  {
   "cell_type": "code",
   "execution_count": 8,
   "metadata": {},
   "outputs": [],
   "source": [
    "districts = ['almaty-medeuskij']\n",
    "live_rooms = [1]"
   ]
  },
  {
   "cell_type": "markdown",
   "metadata": {},
   "source": [
    "### Для парсинга сайта \"krisha.kz\" применим следующий подход:\n",
    "- Применим фильтр по г. Алматы.  \n",
    "- Применим фильтр по району и количеству комнат. В дальнейшем, возможно, по другим признакам.\n",
    "- Попробуем прочесть доступное количество страниц.\n",
    "- Дальше, как карта ляжет... )"
   ]
  },
  {
   "cell_type": "markdown",
   "metadata": {},
   "source": [
    "Фильтр: Отдельно для каждого района и количества комнат:"
   ]
  },
  {
   "cell_type": "code",
   "execution_count": 9,
   "metadata": {},
   "outputs": [
    {
     "data": {
      "text/plain": [
       "'\\nalmaty-alatauskij\\nalmaty-almalinskij\\nalmaty-aujezovskij\\nalmaty-bostandykskij\\nalmaty-zhetysuskij\\nalmaty-medeuskij\\nalmaty-nauryzbajskiy\\nalmaty-turksibskij\\n'"
      ]
     },
     "execution_count": 9,
     "metadata": {},
     "output_type": "execute_result"
    }
   ],
   "source": [
    "'''\n",
    "almaty-alatauskij\n",
    "almaty-almalinskij\n",
    "almaty-aujezovskij\n",
    "almaty-bostandykskij\n",
    "almaty-zhetysuskij\n",
    "almaty-medeuskij\n",
    "almaty-nauryzbajskiy\n",
    "almaty-turksibskij\n",
    "'''"
   ]
  },
  {
   "cell_type": "code",
   "execution_count": 10,
   "metadata": {},
   "outputs": [],
   "source": [
    "#Верхний URL:\n",
    "URL_TOP = 'https://krisha.kz/'"
   ]
  },
  {
   "cell_type": "code",
   "execution_count": 11,
   "metadata": {},
   "outputs": [],
   "source": [
    "district = 'almaty-medeuskij' #almaty\n",
    "live_rooms = 2"
   ]
  },
  {
   "cell_type": "code",
   "execution_count": 12,
   "metadata": {},
   "outputs": [],
   "source": [
    "def visit_ad(f_dict_ad_params):\n",
    "#     print('Visiting ' + f_dict_ad_params['url'],\n",
    "#           f_dict_ad_params['title'],\n",
    "#           f_dict_ad_params['price'],\n",
    "#           f_dict_ad_params['address'],\n",
    "#           f_dict_ad_params['text_preview'],\n",
    "#           f_dict_ad_params['owner'],\n",
    "#           #f_dict_ad_params['owner_add_info'], f_dict_ad_params['residential_complex'],\n",
    "#           f_dict_ad_params['stats_city'],\n",
    "#           f_dict_ad_params['ad_date'],\n",
    "#           f_dict_ad_params['view_count'],\n",
    "#           f_dict_ad_params['highlighted'],\n",
    "#           f_dict_ad_params['paid_hot'],\n",
    "#           f_dict_ad_params['paid_up'],\n",
    "#           f_dict_ad_params['paid_fast'],\n",
    "#           f_dict_ad_params['paid_urgent'],\n",
    "#           f_dict_ad_params['paid_turbo'])\n",
    "    \n",
    "#Заходим в объявление    \n",
    "    response = requests.get(f_dict_ad_params['url'], headers={'User-Agent': 'Mozilla/5.0'})\n",
    "    if response.status_code != 200:\n",
    "        #raise BaseException(\"response code\" + str(response.status_code))\n",
    "        return {}\n",
    "    response.encoding = 'utf-8'\n",
    "    soup = BeautifulSoup(response.text, 'html.parser')    \n",
    "    \n",
    "    f_dict_ad_params_full = f_dict_ad_params.copy()\n",
    "    \n",
    "    elem_offer_container = soup.find('div', class_='offer__container')\n",
    "    \n",
    "    offer_short_params = ['flat.building', 'flat.floor', 'live.square', 'flat.renovation', 'flat.toilet', 'flat.balcony',\n",
    "                          'flat.balcony_g', 'map.complex', 'flat.door', 'inet.type', 'live.furniture', 'flat.flooring',\n",
    "                          'ceiling', 'flat.security', 'has_change', 'flat.phone', 'flat.parking', 'flat.priv_dorm']\n",
    "    for param in offer_short_params:\n",
    "        f_dict_ad_params_full[param] = None #Инициализация\n",
    "    \n",
    "    #1 left bar\n",
    "    elem_offer_sidebar = elem_offer_container.find('div', class_='offer__sidebar')\n",
    "    elem_offer_advert_info = elem_offer_sidebar.find('div', class_='offer__advert-info')\n",
    "    elem_offer_short_description = elem_offer_advert_info.find('div', class_='offer__short-description')\n",
    "    #parameters ...\n",
    "    elem_offer_info_items = elem_offer_short_description.find_all('div', class_='offer__info-item')#Это список параметров\n",
    "    for inf_item in elem_offer_info_items[1:]:\n",
    "        f_dict_ad_params_full[inf_item['data-name']] = inf_item.find('div', class_='offer__advert-short-info').text.strip()\n",
    "        \n",
    "        \n",
    "        \n",
    "    #print('Количество elem_offer_info_items:', len(elem_offer_info_items))#Для отладки, удалить\n",
    "    \n",
    "    \n",
    "    \n",
    "    #2 right bar\n",
    "    elem_offer_content = elem_offer_container.find('div', class_='offer__content')\n",
    "    elem_offer_description = elem_offer_content.find('div', class_='offer__description')\n",
    "    \n",
    "    elem_offer_parameters = elem_offer_description.find('div', class_='offer__parameters')\n",
    "    #parameters ...\n",
    "    elem_offer_dls = elem_offer_parameters.find_all('dl')#Это список параметров\n",
    "    for offer_dl in elem_offer_dls:\n",
    "        offer_dt = offer_dl.find('dt')\n",
    "        offer_dd = offer_dl.find('dd')\n",
    "        f_dict_ad_params_full[offer_dt['data-name']] = offer_dd.text.strip()    \n",
    "    \n",
    "    \n",
    "    \n",
    "    \n",
    "    #print('Количество elem_offer_dls:', len(elem_offer_dls))#Для отладки, удалить\n",
    "    \n",
    "    \n",
    "    \n",
    "    # Ищем тексты объявлений\n",
    "    f_dict_ad_params_full['options_text'] = None\n",
    "    f_dict_ad_params_full['text'] = None    \n",
    "    \n",
    "    elem_offer_text = elem_offer_description.find('div', class_='text')\n",
    "    #2 texts\n",
    "    if elem_offer_text != None:\n",
    "        #1\n",
    "        elem_offer_options_text = elem_offer_text.find('div', class_='a-options-text')\n",
    "        if elem_offer_options_text != None:\n",
    "            f_dict_ad_params_full['options_text'] = elem_offer_options_text.text.strip()\n",
    "        #2\n",
    "        elem_offer_long_text = elem_offer_text.find('div', class_='a-text')\n",
    "        if elem_offer_long_text != None:\n",
    "            f_dict_ad_params_full['text'] = elem_offer_long_text.text.strip()\n",
    "    \n",
    "    print(f_dict_ad_params_full)\n",
    "    \n",
    "    return f_dict_ad_params_full"
   ]
  },
  {
   "cell_type": "code",
   "execution_count": 13,
   "metadata": {},
   "outputs": [],
   "source": [
    "def fill_ad_params(f_ad, f_page, f_highlighted, f_district, f_live_rooms):\n",
    "    f_dict_ad_params = {}\n",
    "    \n",
    "    f_dict_ad_params['id'] = ad['data-id'] #Добавляем id\n",
    "    f_dict_ad_params['page'] = f_page #Добаляем номер страницы\n",
    "    f_dict_ad_params['url'] = URL_TOP + 'a/show/' + ad['data-id']\n",
    "    f_dict_ad_params['district'] = f_district\n",
    "    f_dict_ad_params['live_rooms'] = f_live_rooms\n",
    "    \n",
    "    #Дальше спускаемся вниз по иерархии содержимого объявления\n",
    "    elem_ad_content = f_ad.find('div', class_= 'a-card__inc')\n",
    "    elem_ad_description = elem_ad_content.find('div', class_= 'a-card__descr')\n",
    "    #Пропускаем 'a-card__header'\n",
    "    elem_ad_main_info = elem_ad_description.find('div', class_= 'a-card__main-info')\n",
    "    elem_ad_header_left = elem_ad_main_info.find('div', class_= 'a-card__header-left')\n",
    "    elem_ad_title = elem_ad_header_left.find('a', class_= 'a-card__title')\n",
    "    \n",
    "    f_dict_ad_params['title'] = elem_ad_title.text#Заголовок объявления\n",
    "    \n",
    "    elem_ad_price = elem_ad_main_info.find('div', class_= 'a-card__price')\n",
    "    \n",
    "    f_dict_ad_params['price'] = elem_ad_price.text.strip().replace('&nbsp;', '').replace('〒', '').replace('\\xa0', '')\n",
    "    \n",
    "    elem_ad_header_body = elem_ad_description.find('div', class_= 'a-card__header-body')\n",
    "    elem_ad_subtitle = elem_ad_header_body.find('div', class_= 'a-card__subtitle')\n",
    "    \n",
    "    f_dict_ad_params['address'] = elem_ad_subtitle.text.strip()\n",
    "    \n",
    "    elem_ad_text_preview = elem_ad_header_body.find('div', class_= 'a-card__text-preview')\n",
    "    \n",
    "    f_dict_ad_params['text_preview'] = elem_ad_text_preview.text.strip()\n",
    "    \n",
    "    #Пропускаем 'a-card__footer'\n",
    "    elem_ad_owner = elem_ad_description.find('div', class_= 'a-card__owner')#Owner объявления: Хозяин или Специалист\n",
    "    \n",
    "    if elem_ad_owner != None:# Новостройки не берем\n",
    "        elem_ad_owners_label = elem_ad_owner.find('div', class_= 'owners__label')\n",
    "        f_dict_ad_params['owner'] = elem_ad_owners_label.text.strip()\n",
    "    else:\n",
    "        return {}\n",
    "   \n",
    "\n",
    "    elem_ad_tech_info = elem_ad_description.find('div', class_= 'a-card__card-info')\n",
    "    \n",
    "    elem_ad_card_stats = elem_ad_tech_info.find('div', class_= 'card-stats')\n",
    "    \n",
    "    elem_ad_card_stats_city = elem_ad_card_stats.find('div', class_= 'card-stats__item') #Город\n",
    "    f_dict_ad_params['stats_city'] = elem_ad_card_stats_city.text\n",
    "    \n",
    "    elem_ad_date = elem_ad_card_stats_city.find_next_sibling() #Дата объявления\n",
    "    f_dict_ad_params['ad_date'] = elem_ad_date.text.strip()\n",
    "    \n",
    "    elem_ad_view_count_div = elem_ad_date.find_next_sibling()\n",
    "    elem_ad_view_count = elem_ad_view_count_div.find('span', class_ = 'a-view-count')#Количество просмотров\n",
    "    f_dict_ad_params['view_count'] = elem_ad_view_count.text\n",
    "    #print(soup.find(\"span\", title=re.compile(\"RAM\")).text)\n",
    "    \n",
    "# Значки в объявлении    \n",
    "    elem_ad_paid_labels = elem_ad_tech_info.find('div', class_= 'paid-labels')    \n",
    "    \n",
    "    elem_ad_paid_hot = elem_ad_paid_labels.find('span', class_= 'fi-paid-hot')\n",
    "    elem_ad_paid_up = elem_ad_paid_labels.find('span', class_= 'fi-paid-up')\n",
    "    elem_ad_paid_fast = elem_ad_paid_labels.find('span', class_= 'fi-paid-fast')\n",
    "    elem_ad_paid_urgent = elem_ad_paid_labels.find('span', class_= 'fi-paid-urgent')\n",
    "    elem_ad_paid_turbo = elem_ad_paid_labels.find('span', class_= 'fi-paid-turbo')\n",
    "    \n",
    "    if elem_ad_paid_hot != None:\n",
    "        f_dict_ad_params['paid_hot'] = 1\n",
    "    else:\n",
    "        f_dict_ad_params['paid_hot'] = 0\n",
    "    \n",
    "    if elem_ad_paid_up != None:\n",
    "        f_dict_ad_params['paid_up'] = 1\n",
    "    else:\n",
    "        f_dict_ad_params['paid_up'] = 0\n",
    "        \n",
    "    if elem_ad_paid_fast != None:\n",
    "        f_dict_ad_params['paid_fast'] = 1\n",
    "    else:\n",
    "        f_dict_ad_params['paid_fast'] = 0\n",
    "        \n",
    "    if elem_ad_paid_urgent != None:\n",
    "        f_dict_ad_params['paid_urgent'] = 1\n",
    "    else:\n",
    "        f_dict_ad_params['paid_urgent'] = 0\n",
    "        \n",
    "    if elem_ad_paid_turbo != None:\n",
    "        f_dict_ad_params['paid_turbo'] = 1\n",
    "    else:\n",
    "        f_dict_ad_params['paid_turbo'] = 0\n",
    "        \n",
    "# Помечаем выделенные объявления (которые в Highlighted Section)\n",
    "    if f_highlighted:\n",
    "        f_dict_ad_params['highlighted'] = 1\n",
    "    else:\n",
    "        f_dict_ad_params['highlighted'] = 0\n",
    "    \n",
    "    return f_dict_ad_params"
   ]
  },
  {
   "cell_type": "code",
   "execution_count": 14,
   "metadata": {},
   "outputs": [
    {
     "name": "stdout",
     "output_type": "stream",
     "text": [
      "Количество объявлений =  1116\n",
      "Количество страниц =  56\n"
     ]
    },
    {
     "data": {
      "application/vnd.jupyter.widget-view+json": {
       "model_id": "3593e1c5f6274ab7a7eff963afddf0d6",
       "version_major": 2,
       "version_minor": 0
      },
      "text/plain": [
       "HBox(children=(FloatProgress(value=0.0, max=1.0), HTML(value='')))"
      ]
     },
     "metadata": {},
     "output_type": "display_data"
    },
    {
     "name": "stdout",
     "output_type": "stream",
     "text": [
      "hilighted_section_ads len =  3\n",
      "common_section_ads len =  20\n",
      "{'id': '665595454', 'page': 1, 'url': 'https://krisha.kz/a/show/665595454', 'district': 'almaty-medeuskij', 'live_rooms': 2, 'title': '2-комнатная квартира, 41.9 м², 1/5 этаж', 'price': '23000000', 'address': 'Медеуский р-н, Тулебаева — Макатаева', 'text_preview': 'панельный дом, 1974 г.п., состояние: хорошее, санузел совмещенный, Эксклюзивное предложение от Агентства Атриум! Дом находится в тихом районе, аллея Тулебаева в 10-15 минутах ходьбы. Очень уютная квартира с теплой аурой. Документы в порядке, не в залоге, перепланов нет, ипотеку рассматриваем…', 'owner': 'Специалист', 'stats_city': 'Алматы', 'ad_date': '6 мар.', 'view_count': '', 'paid_hot': 0, 'paid_up': 1, 'paid_fast': 0, 'paid_urgent': 0, 'paid_turbo': 0, 'highlighted': 0, 'flat.building': 'панельный, 1974 г.п.', 'flat.floor': '1 из 5', 'live.square': '41.9 м², кухня — 5.98 м²', 'flat.renovation': 'хорошее', 'flat.toilet': 'совмещенный', 'flat.balcony': None, 'flat.balcony_g': None, 'map.complex': None, 'flat.door': None, 'inet.type': None, 'live.furniture': None, 'flat.flooring': None, 'ceiling': None, 'flat.security': None, 'has_change': None, 'flat.phone': None, 'flat.parking': None, 'flat.priv_dorm': 'нет', 'options_text': None, 'text': 'Эксклюзивное предложение от Агентства Атриум! Дом находится в тихом районе, аллея Тулебаева в 10-15 минутах ходьбы. Очень уютная квартира с теплой аурой. Документы в порядке, не в залоге, перепланов нет, ипотеку рассматриваем! Спешите!'}\n",
      "{'id': '665388391', 'page': 1, 'url': 'https://krisha.kz/a/show/665388391', 'district': 'almaty-medeuskij', 'live_rooms': 2, 'title': '2-комнатная квартира, 55 м²', 'price': '14575000', 'address': 'Медеуский р-н, Талгарский тракт 160', 'text_preview': 'жил. комплекс Нурия, монолитный дом, 2021 г.п., состояние: черновая отделка, потолки 2.7м., Отдел продаж. Купите напрямую от застройщика. Комиссия - 0%! Цена указана по Акции за 100% оплату! ЖК «Нурия» 2 комнатная квартира, площадь 54, 9 кв. м, в улучшенной черновой отделке. Стяжка пола, проведе…', 'owner': 'Специалист', 'stats_city': 'Алматы', 'ad_date': '6 мар.', 'view_count': '', 'paid_hot': 0, 'paid_up': 1, 'paid_fast': 0, 'paid_urgent': 0, 'paid_turbo': 0, 'highlighted': 0, 'flat.building': 'монолитный, 2021 г.п.', 'flat.floor': '10', 'live.square': '55 м²', 'flat.renovation': 'черновая отделка', 'flat.toilet': None, 'flat.balcony': 'лоджия', 'flat.balcony_g': None, 'map.complex': 'Нурия', 'flat.door': 'металлическая', 'inet.type': None, 'live.furniture': None, 'flat.flooring': None, 'ceiling': '2.7 м', 'flat.security': 'охрана', 'has_change': None, 'flat.phone': None, 'flat.parking': None, 'flat.priv_dorm': 'нет', 'options_text': 'Пластиковые окна, улучшенная, комнаты изолированы.', 'text': 'Отдел продаж. Купите напрямую от застройщика. Комиссия - 0%! Цена указана по Акции за 100% оплату! \\n \\nЖК «Нурия» \\n2 комнатная квартира, площадь 54, 9 кв. м, в улучшенной черновой отделке. Стяжка пола, проведенные коммуникации, радиаторы, стеклопакеты. Разделенные санузлы, прекрасный вид на горы. Отопление, водоснабжение – центральное. \\n \\nВсе условия для комфортной жизни \\n- Чистый, горный воздух. \\n- Оформление через ипотечные программы 7-20-25 и Баспана хит; \\n \\nЖК из 6-х блоков и 9 этажей. 4 квартиры на площадке. Имеется 1 лифт. Территория огорожена, под видеонаблюдением и охраной. срок сдачи 4 квартал 2021 года. Каждый блок имеет свою подушку и фундамент. Сейсмостойкость твердая - 9. Имеется ГАЗ. \\n \\nВ ЖК «Нурия» предусмотрено: \\n-большая наземная автопарковка по периметру территории и между зданиями; \\n-зоны отдыха с лавочками, беседками и прогулочными дорожками; \\n-детские игровые зоны с разными возрастными категориями; \\n-воркаут зона, качели, горки; \\n- высаживаются ели и другие деревья, декоративные кустарники, разбиваются газоны. \\n \\n \\nНадземный паркинг на территории ЖК около 70 автомест. Гостевой наземный, огорожен от общей территории, на 30 автомест. \\n-Рядом Баханди Бургер, оптовый рынок, 2 продовольственных магазина; \\n-4-6 минут шагом до ТРК «Magnum», Ледовый Дворец «Халық Арена»; \\n-3-5 минут шагом и на авто до школ и детских садов; \\n-7-10 минут на авто до парка культуры и отдыха им. М. Горького, зоопарк; \\n-10-15 минут на авто до аэропорта г. Алматы; \\n-До ближайшей общеобразовательной школы №49 около пятисот метров, поблизости также \\nимеются школы №28 и №172, детский сад «Мир детства» или в ясли-сад №156. \\nСкоро ожидается строительство ТРЦ \\n \\nМы находимся на самом объекте. Сможем на месте показать Вашу квартиру. \\n \\nЗвоните и приезжайте сегодня. Количество квартир ограничено. Успейте забронировать свою квартиру Сейчас!'}\n",
      "{'id': '665580652', 'page': 1, 'url': 'https://krisha.kz/a/show/665580652', 'district': 'almaty-medeuskij', 'live_rooms': 2, 'title': '2-комнатная квартира, 54 м²', 'price': '33600000', 'address': 'Медеуский р-н, проспект Абая — Желтоксан', 'text_preview': 'кирпичный дом, 1961 г.п., состояние: евроремонт, санузел совмещенный, полностью меблирована, Золотой квадрат ! Исторический центр Алматы. Квартира новая ! После капитального ремонта. В квартире имеется все необходимое для проживания. Продается сразу с мебелью. Во дворе есть охраняемая парковк…', 'owner': 'Специалист', 'stats_city': 'Алматы', 'ad_date': '6 мар.', 'view_count': '', 'paid_hot': 0, 'paid_up': 1, 'paid_fast': 0, 'paid_urgent': 1, 'paid_turbo': 0, 'highlighted': 0, 'flat.building': 'кирпичный, 1961 г.п.', 'flat.floor': None, 'live.square': '54 м²', 'flat.renovation': 'евроремонт', 'flat.toilet': 'совмещенный', 'flat.balcony': 'балкон', 'flat.balcony_g': None, 'map.complex': None, 'flat.door': 'бронированная', 'inet.type': None, 'live.furniture': 'полностью меблирована', 'flat.flooring': 'паркет', 'ceiling': None, 'flat.security': 'домофон, видеонаблюдение', 'has_change': None, 'flat.phone': None, 'flat.parking': 'рядом охраняемая стоянка', 'flat.priv_dorm': 'нет', 'options_text': 'Пластиковые окна, неугловая, улучшенная, кухня-студия, новая сантехника, счётчики, тихий двор, кондиционер.', 'text': 'Золотой квадрат ! Исторический центр Алматы. Квартира новая ! После капитального ремонта. В квартире имеется все необходимое для проживания. Продается сразу с мебелью. Во дворе есть охраняемая парковка. Ремонт делался для себя, продается в связи с переездом. Квартира сквозная, окна север-юг.'}\n",
      "{'id': '665395237', 'page': 1, 'url': 'https://krisha.kz/a/show/665395237', 'district': 'almaty-medeuskij', 'live_rooms': 2, 'title': '2-комнатная квартира, 52.5 м², 1/14 этаж', 'price': '33000000', 'address': 'Медеуский р-н, мкр Самал-1 33', 'text_preview': 'монолитный дом, 1993 г.п., состояние: среднее, жил. площадь 30.9 кв.м., кухня 8.4 кв.м., потолки 2.85м., санузел раздельный, полностью меблирована, Продаётся 2-комнатная квартира в самом центре и престижном районе Алматы - Самал-1. В шаговой доступности резиденция Президента, бизнес комплекс Нурлы…', 'owner': 'Хозяин недвижимости', 'stats_city': 'Алматы', 'ad_date': '6 мар.', 'view_count': '', 'paid_hot': 1, 'paid_up': 1, 'paid_fast': 0, 'paid_urgent': 0, 'paid_turbo': 1, 'highlighted': 0, 'flat.building': 'монолитный, 1993 г.п.', 'flat.floor': '1 из 14', 'live.square': '52.5 м², жилая — 30.9 м², кухня — 8.4 м²', 'flat.renovation': 'среднее', 'flat.toilet': 'раздельный', 'flat.balcony': None, 'flat.balcony_g': None, 'map.complex': None, 'flat.door': None, 'inet.type': None, 'live.furniture': 'полностью меблирована', 'flat.flooring': 'линолеум', 'ceiling': '2.85 м', 'flat.security': 'домофон, видеонаблюдение, консьерж', 'has_change': None, 'flat.phone': None, 'flat.parking': 'рядом охраняемая стоянка', 'flat.priv_dorm': 'нет', 'options_text': 'Пластиковые окна, тихий двор, удобно под коммерцию, комнаты изолированы.', 'text': 'Продаётся 2-комнатная квартира в самом центре и престижном районе Алматы - Самал-1. \\nВ шаговой доступности резиденция Президента, бизнес комплекс Нурлытау, ТД Рамстор, ТД Достык Плаза, Исторический Государственный музей, Аллея Музыкантов. \\nВ подъезде в 2020 году сделан качественный ремонт. Идеальна для вложения ваших средств как для проживания, так и для сдачи в аренду.'}\n",
      "{'id': '665483515', 'page': 1, 'url': 'https://krisha.kz/a/show/665483515', 'district': 'almaty-medeuskij', 'live_rooms': 2, 'title': '2-комнатная квартира, 85 м², 13/20 этаж', 'price': '63000000', 'address': 'Медеуский р-н, мкр Самал, Достык', 'text_preview': 'жил. комплекс Алматы Тауэрс, монолитный дом, 2008 г.п., состояние: хорошее, потолки 3м., санузел совмещенный, Продается отличная 2-х комнатная квартира в деловом центре Алматы, отдельная кухня 15 кв, зал 28 и спальня 20 кв, кладовка 5 кв со встроеными шкафами, балконом 2, 5 кв, очень теплая, уютн…', 'owner': 'Хозяин недвижимости', 'stats_city': 'Алматы', 'ad_date': '6 мар.', 'view_count': '', 'paid_hot': 1, 'paid_up': 1, 'paid_fast': 1, 'paid_urgent': 0, 'paid_turbo': 0, 'highlighted': 0, 'flat.building': 'монолитный, 2008 г.п.', 'flat.floor': '13 из 20', 'live.square': '85 м²', 'flat.renovation': 'хорошее', 'flat.toilet': 'совмещенный', 'flat.balcony': 'балкон и лоджия', 'flat.balcony_g': 'да', 'map.complex': 'Алматы Тауэрс', 'flat.door': 'бронированная', 'inet.type': None, 'live.furniture': None, 'flat.flooring': 'паркет', 'ceiling': '3 м', 'flat.security': 'охрана, домофон', 'has_change': None, 'flat.phone': None, 'flat.parking': 'паркинг', 'flat.priv_dorm': 'нет', 'options_text': 'Улучшенная, кладовка, тихий двор, кондиционер.', 'text': 'Продается отличная 2-х комнатная квартира в деловом центре Алматы, отдельная кухня 15 кв, зал 28 и спальня 20 кв, кладовка 5 кв со встроеными шкафами, балконом 2, 5 кв, очень теплая, уютная, расположена в шикарном месте рядом с бизнес центрами, КИМЕП, между проспектом Достык и горной речкой, в шаговой доступности (5 мин) ТРЦ Достык Плаза, модные рестораны и кафе, театры и кинотеатры, 20 минут на авто до урочища Медео (высокогорный каток) и лыжная база Шымбулак. Прогулки за домом вдоль речки с прозрачной горной водой обеспечат прекрасный заряд здоровью и позволят насладиться прохладой в жаркие алматинские дни. Квартиры в этом районе также пользуются большим спросом на аренду. Продается в связи с выездом на пмж. Не в залоге, рассмотрим возможность продажи под ипотеку.'}\n"
     ]
    },
    {
     "name": "stdout",
     "output_type": "stream",
     "text": [
      "{'id': '665558855', 'page': 1, 'url': 'https://krisha.kz/a/show/665558855', 'district': 'almaty-medeuskij', 'live_rooms': 2, 'title': '2-комнатная квартира, 44.7 м², 5/5 этаж', 'price': '17300000', 'address': 'Медеуский р-н, Маметовой — Валиханова', 'text_preview': 'панельный дом, 1974 г.п., состояние: среднее, жил. площадь 28.6 кв.м., кухня 6 кв.м., потолки 2.8м., санузел совмещенный, пустая, 219847 Продам 2х квартиру в панельном доме 1974 года постройки, неугловая, комнаты изолированные, год назад был сделан капремонт крыши, состояние квартиры среднее. Д…', 'owner': 'Специалист', 'stats_city': 'Алматы', 'ad_date': '6 мар.', 'view_count': '', 'paid_hot': 0, 'paid_up': 1, 'paid_fast': 0, 'paid_urgent': 0, 'paid_turbo': 0, 'highlighted': 0, 'flat.building': 'панельный, 1974 г.п.', 'flat.floor': '5 из 5', 'live.square': '44.7 м², жилая — 28.6 м², кухня — 6 м²', 'flat.renovation': 'среднее', 'flat.toilet': 'совмещенный', 'flat.balcony': 'балкон', 'flat.balcony_g': 'да', 'map.complex': None, 'flat.door': None, 'inet.type': None, 'live.furniture': 'пустая', 'flat.flooring': 'линолеум', 'ceiling': '2.8 м', 'flat.security': 'домофон', 'has_change': None, 'flat.phone': None, 'flat.parking': None, 'flat.priv_dorm': 'нет', 'options_text': 'Пластиковые окна, неугловая, комнаты изолированы.', 'text': '219847 \\nПродам 2х квартиру в панельном доме 1974 года постройки, неугловая, комнаты изолированные, год назад был сделан капремонт крыши, состояние квартиры среднее. Дом расположен в старом центре города, рядом есть все для комфортного проживания, хорошее транспортное сообщение.'}\n",
      "{'id': '665540524', 'page': 1, 'url': 'https://krisha.kz/a/show/665540524', 'district': 'almaty-medeuskij', 'live_rooms': 2, 'title': '2-комнатная квартира, 43 м², 2/4 этаж', 'price': '23500000', 'address': 'Медеуский р-н, мкр Коктобе, проспект Достык — Чайкиной', 'text_preview': 'кирпичный дом, 1971 г.п., состояние: хорошее, частично меблирована, Продается 2х комнатная квартира в экологически чистом районе, дом кирпичный, 1971 года постройки, в хорошем состоянии, не в залоге, документы в порядке, инфраструктура развита, все в шаговой доступности', 'owner': 'Специалист', 'stats_city': 'Алматы', 'ad_date': '6 мар.', 'view_count': '', 'paid_hot': 1, 'paid_up': 1, 'paid_fast': 0, 'paid_urgent': 1, 'paid_turbo': 0, 'highlighted': 0, 'flat.building': 'кирпичный, 1971 г.п.', 'flat.floor': '2 из 4', 'live.square': '43 м², кухня — 6 м²', 'flat.renovation': 'хорошее', 'flat.toilet': None, 'flat.balcony': None, 'flat.balcony_g': 'да', 'map.complex': None, 'flat.door': None, 'inet.type': None, 'live.furniture': 'частично меблирована', 'flat.flooring': None, 'ceiling': None, 'flat.security': 'домофон', 'has_change': None, 'flat.phone': None, 'flat.parking': None, 'flat.priv_dorm': 'нет', 'options_text': 'Пластиковые окна, неугловая, улучшенная, комнаты изолированы.', 'text': 'Продается 2х комнатная квартира в экологически чистом районе, дом кирпичный, 1971 года постройки, в хорошем состоянии, не в залоге, документы в порядке, инфраструктура развита, все в шаговой доступности.'}\n",
      "{'id': '665172023', 'page': 1, 'url': 'https://krisha.kz/a/show/665172023', 'district': 'almaty-medeuskij', 'live_rooms': 2, 'title': '2-комнатная квартира, 47 м², 4/9 этаж', 'price': '26500000', 'address': 'Медеуский р-н, Жибек Жолы 59 — Валиханова', 'text_preview': 'кирпичный дом, 1978 г.п., состояние: евроремонт, жил. площадь 28 кв.м., кухня 8.1 кв.м., санузел совмещенный, телефон: отдельный, интернет ADSL, полностью меблирована, Ипотека не расматривается', 'owner': 'Специалист', 'stats_city': 'Алматы', 'ad_date': '6 мар.', 'view_count': '', 'paid_hot': 1, 'paid_up': 1, 'paid_fast': 0, 'paid_urgent': 0, 'paid_turbo': 0, 'highlighted': 0, 'flat.building': 'кирпичный, 1978 г.п.', 'flat.floor': '4 из 9', 'live.square': '47 м², жилая — 28 м², кухня — 8.1 м²', 'flat.renovation': 'евроремонт', 'flat.toilet': 'совмещенный', 'flat.balcony': 'несколько балконов или лоджий', 'flat.balcony_g': 'да', 'map.complex': None, 'flat.door': 'бронированная', 'inet.type': 'ADSL', 'live.furniture': 'полностью меблирована', 'flat.flooring': 'ламинат', 'ceiling': None, 'flat.security': 'домофон', 'has_change': None, 'flat.phone': 'отдельный', 'flat.parking': 'рядом охраняемая стоянка', 'flat.priv_dorm': 'нет', 'options_text': 'Пластиковые окна, неугловая, улучшенная, комнаты изолированы, встроенная кухня, новая сантехника, кладовка, счётчики, тихий двор, кондиционер.', 'text': 'Ипотека не расматривается'}\n",
      "{'id': '663857517', 'page': 1, 'url': 'https://krisha.kz/a/show/663857517', 'district': 'almaty-medeuskij', 'live_rooms': 2, 'title': '2-комнатная квартира, 50 м², 2/10 этаж', 'price': '24000000', 'address': 'Медеуский р-н, Назарбаева — Маметовой', 'text_preview': 'жил. комплекс Ush Qońyr, 2021 г.п., состояние: требует ремонта, потолки 2.8м., СРОЧНО! РИЭЛТОРЫ, МИМО! ИПОТЕКА:НЕТ Я ХОЗЯЙН! район: Медеуский 👌 окна смотрят: запад (на Сквер) ☀️ Дом расположен на второй линии. (Шум дорог не слышен 👍 Оплата: наличными: 💴 обмен:нет торг: НЕТ! 🛑 (звонить только, е…', 'owner': 'Хозяин недвижимости', 'stats_city': 'Алматы', 'ad_date': '6 мар.', 'view_count': '', 'paid_hot': 1, 'paid_up': 1, 'paid_fast': 0, 'paid_urgent': 0, 'paid_turbo': 1, 'highlighted': 0, 'flat.building': '2021 г.п.', 'flat.floor': '2 из 10', 'live.square': '50 м²', 'flat.renovation': 'требует ремонта', 'flat.toilet': None, 'flat.balcony': 'балкон', 'flat.balcony_g': 'да', 'map.complex': 'Ush Qonyr', 'flat.door': 'металлическая', 'inet.type': None, 'live.furniture': None, 'flat.flooring': None, 'ceiling': '2.8 м', 'flat.security': 'охрана, домофон, сигнализация, видеонаблюдение', 'has_change': None, 'flat.phone': None, 'flat.parking': 'паркинг', 'flat.priv_dorm': 'нет', 'options_text': None, 'text': 'СРОЧНО! \\n \\nРИЭЛТОРЫ, МИМО! \\n \\nИПОТЕКА:НЕТ \\n \\nЯ ХОЗЯЙН! \\n \\nрайон: Медеуский 👌 \\nокна смотрят: запад (на Сквер) ☀️ \\nДом расположен на второй линии. (Шум дорог не слышен 👍 \\nОплата: наличными: 💴 \\nобмен:нет \\nторг: НЕТ! 🛑 (звонить только, если устраивает цена) \\nНе угловая, тёплая, светлая квартира. Отличная продуваемость. Есть возможность перепланировать в двух комнатную. Стены перегородочные имеются. Есть стяжка. Состояние улучшенная черновая. \\n•Рядом метро \"Райымбек, жибек жолы\" ; ТРЦ \"Пассаж, ГУМ, ЦУМ; Арбат; скверы, театры, рестораны, аптеки, учебные заведения, центр Занятости, бизнес центры. в общем все! Отличная транспортная развязка. \\n• если не отвечаю, можете писать сюда, либо на ватсап. Успейте купить отличный вариант в данном сегмент. \\n•Я ХОЗЯЙН! \\n•Пожалуйста не беспокой от делать нечего. Объявление только для реальных покупателей! \\n•БОНУС: могу дать 👍бригаду по отделке. И проконсультировать где можно купить материалы подешевле. \\n• успейте купить единственную Квартиру по удачной цене в данном сегменте!'}\n",
      "{'id': '665435256', 'page': 1, 'url': 'https://krisha.kz/a/show/665435256', 'district': 'almaty-medeuskij', 'live_rooms': 2, 'title': '2-комнатная квартира, 53.5 м², 6/8 этаж', 'price': '33000000', 'address': 'Медеуский р-н, Тулебаева', 'text_preview': 'панельный дом, 1974 г.п., состояние: среднее, жил. площадь 30 кв.м., потолки 2.8м., санузел раздельный, телефон: есть возможность подключения, интернет через TV кабель, частично меблирована, Прекрасная 2-х комнатная квартира на Тулебаева (Макатаева). Квартира на 6 этаже (8 этажей), так что шум…', 'owner': 'Специалист', 'stats_city': 'Алматы', 'ad_date': '6 мар.', 'view_count': '', 'paid_hot': 0, 'paid_up': 1, 'paid_fast': 0, 'paid_urgent': 0, 'paid_turbo': 0, 'highlighted': 0, 'flat.building': 'панельный, 1974 г.п.', 'flat.floor': '6 из 8', 'live.square': '53.5 м², жилая — 30 м²', 'flat.renovation': 'среднее', 'flat.toilet': 'раздельный', 'flat.balcony': None, 'flat.balcony_g': None, 'map.complex': None, 'flat.door': 'металлическая', 'inet.type': 'через TV кабель', 'live.furniture': 'частично меблирована', 'flat.flooring': 'линолеум', 'ceiling': '2.8 м', 'flat.security': 'домофон, видеонаблюдение', 'has_change': None, 'flat.phone': 'есть возможность подключения', 'flat.parking': 'рядом охраняемая стоянка', 'flat.priv_dorm': 'нет', 'options_text': 'Пластиковые окна, счётчики.', 'text': 'Прекрасная 2-х комнатная квартира на Тулебаева (Макатаева). \\nКвартира на 6 этаже (8 этажей), так что шума от проезжих машин не слышно. На этаже 3 квартиры. \\nСама квартира после свежего ремонта, никто не жил. Очень светлая, уютная, просторная. Новая сантехника, счетчики. \\nВ коридоре гардеробный шкаф с зеркальными дверьми до пола. \\nДвор тихий уютный с детской площадкой, шлагбаум с двух сторон. С парковкой проблем нет. Удобная транспортная развязка \\nВся необходимая инфраструктура в шаговой доступности: \"Пассаж\", ГУМ, Kcell, Магнум, Smoll, школа, детсад, салоны красоты, пункты питания. \\n1. Полное сопровождение сделки. \\n 2. Консультации по всем юридическим вопросам. \\n3. Онлайн пред одобрение ипотечного займа от ЖССБ. \\n4. Консультации по ипотеке по всем жилищным программам по основным банкам РК. \\n5. Гарантию безопасности сделки.'}\n"
     ]
    },
    {
     "name": "stdout",
     "output_type": "stream",
     "text": [
      "{'id': '665469743', 'page': 1, 'url': 'https://krisha.kz/a/show/665469743', 'district': 'almaty-medeuskij', 'live_rooms': 2, 'title': '2-комнатная квартира, 70 м², 4/13 этаж', 'price': '38000000', 'address': 'Медеуский р-н, Достык 44 — Жамбыла', 'text_preview': 'жил. комплекс Три Богатыря, монолитный дом, 1972 г.п., состояние: евроремонт, потолки 2.7м., санузел совмещенный, интернет ADSL, полностью меблирована, Стильная квартира в \"Золотом квадрате\" Алматы. Ремонт, делали со вкусом и для себя! Зал 25.2 кв. м. В зале паркет. В спальной хоро…', 'owner': 'Компания', 'stats_city': 'Алматы', 'ad_date': '6 мар.', 'view_count': '', 'paid_hot': 1, 'paid_up': 1, 'paid_fast': 0, 'paid_urgent': 0, 'paid_turbo': 0, 'highlighted': 0, 'flat.building': 'монолитный, 1972 г.п.', 'flat.floor': '4 из 13', 'live.square': '70 м²', 'flat.renovation': 'евроремонт', 'flat.toilet': 'совмещенный', 'flat.balcony': 'несколько балконов или лоджий', 'flat.balcony_g': 'да', 'map.complex': 'Три Богатыря', 'flat.door': None, 'inet.type': 'ADSL', 'live.furniture': 'полностью меблирована', 'flat.flooring': 'паркет', 'ceiling': '2.7 м', 'flat.security': 'домофон, видеонаблюдение', 'has_change': None, 'flat.phone': None, 'flat.parking': 'паркинг', 'flat.priv_dorm': 'нет', 'options_text': 'Пластиковые окна, неугловая, улучшенная, кухня-студия, встроенная кухня, новая сантехника, кладовка, счётчики, тихий двор, кондиционер.', 'text': 'Стильная квартира в \"Золотом квадрате\" Алматы. \\nРемонт, делали со вкусом и для себя! \\nЗал 25.2 кв. м. В зале паркет. В спальной хороший ламинат. \\nБольшой утепленный с пластиковыми окнами балкон из гостиной в длину 6 кв. м. \\nКухонная зона гармонично обособлена при гостиной, не занимая площадь квартиры и в то же время все удобно! Качественный кухонный гарнитур. \\nСан. узел 6.3 кв. м. Дорогая сантехника. \\nЕсть гардеробная комната. \\nПолностью с мебелью, частично с техникой. \\nФактически квартира под ключ. \\nИз квартиры можно сделать 3к, окна позволяют. \\nВсе рядом! Транспорт в любую точку города \\nДом очень сейсмостойкий. Сооружение основано на стальных ригелях, скрученных болтами и уходящих далеко под землю. Стены замешаны из специального бетонного состава, тёплого и устойчивого к сейсмике. \\nАкимат утвердил проект по обновлению фасада дома, летом будет полностью обновлен фасад знаменитого в Алматы ЖК Три Богатыря. \\nОдновременно будут проведены все работы по реконструкции подъездов внутри и снаружи. То есть за лето дом приведут в полный порядок, и цена на этот дом сразу вырастет! \\nДостойная квартира цена-качество! Рекомендуем.'}\n",
      "{'id': '665590694', 'page': 1, 'url': 'https://krisha.kz/a/show/665590694', 'district': 'almaty-medeuskij', 'live_rooms': 2, 'title': '2-комнатная квартира, 60 м², 4/9 этаж', 'price': '33000000', 'address': 'Медеуский р-н, мкр Самал', 'text_preview': 'монолитный дом, 1990 г.п., состояние: среднее, потолки 2.7м., санузел раздельный, частично меблирована, Квартира очень светлая окна выходят на Юг, Отличное расположение дома в тихом дворе в дали от шума проспектов, отличная инвестиция в недвижимость', 'owner': 'Специалист', 'stats_city': 'Алматы', 'ad_date': '6 мар.', 'view_count': '', 'paid_hot': 0, 'paid_up': 1, 'paid_fast': 0, 'paid_urgent': 1, 'paid_turbo': 0, 'highlighted': 0, 'flat.building': 'монолитный, 1990 г.п.', 'flat.floor': '4 из 9', 'live.square': '60 м², кухня — 11 м²', 'flat.renovation': 'среднее', 'flat.toilet': 'раздельный', 'flat.balcony': 'балкон', 'flat.balcony_g': 'да', 'map.complex': None, 'flat.door': 'металлическая', 'inet.type': None, 'live.furniture': 'частично меблирована', 'flat.flooring': 'паркет', 'ceiling': '2.7 м', 'flat.security': 'домофон, видеонаблюдение', 'has_change': None, 'flat.phone': None, 'flat.parking': 'рядом охраняемая стоянка', 'flat.priv_dorm': None, 'options_text': 'Пластиковые окна, неугловая, улучшенная, комнаты изолированы, встроенная кухня, тихий двор.', 'text': 'Квартира очень светлая окна выходят на Юг, Отличное расположение дома в тихом дворе в дали от шума проспектов, отличная инвестиция в недвижимость'}\n",
      "{'id': '664067729', 'page': 1, 'url': 'https://krisha.kz/a/show/664067729', 'district': 'almaty-medeuskij', 'live_rooms': 2, 'title': '2-комнатная квартира, 88 м², 5/7 этаж', 'price': '63000000', 'address': 'Медеуский р-н, Хаджимукана 59 — Назарбаева', 'text_preview': 'жил. комплекс ile de France, монолитный дом, 2015 г.п., состояние: свободная планировка, потолки 3.3м., санузел 2 с/у и более, телефон: отдельный, интернет ADSL, Приветствую, продаётся Элитная недвижимость, в Самале 3, жилого комплекса «ILe de France» Свободная планировка позволяет сделать планиро…', 'owner': 'Специалист', 'stats_city': 'Алматы', 'ad_date': '6 мар.', 'view_count': '', 'paid_hot': 1, 'paid_up': 1, 'paid_fast': 0, 'paid_urgent': 1, 'paid_turbo': 0, 'highlighted': 0, 'flat.building': 'монолитный, 2015 г.п.', 'flat.floor': '5 из 7', 'live.square': '88 м²', 'flat.renovation': 'свободная планировка', 'flat.toilet': '2 с/у и более', 'flat.balcony': 'балкон', 'flat.balcony_g': 'да', 'map.complex': 'Ile de France', 'flat.door': 'металлическая', 'inet.type': 'ADSL', 'live.furniture': None, 'flat.flooring': None, 'ceiling': '3.3 м', 'flat.security': 'охрана, домофон, кодовый замок, сигнализация, видеонаблюдение, видеодомофон, консьерж', 'has_change': None, 'flat.phone': 'отдельный', 'flat.parking': 'паркинг', 'flat.priv_dorm': 'нет', 'options_text': None, 'text': 'Приветствую, продаётся Элитная недвижимость, в Самале 3, жилого комплекса «ILe de France» \\n \\nСвободная планировка позволяет сделать планировку и ремонт по своему вкусу, и приоритетам. \\n \\nШикарный вид на горы, адекватная цена! \\nВсе права на продажу являются эксклюзивными компании “Amanat ipotek consulting” \\nТорг при встрече! \\n \\nС\\\\У сотрудник компании Ертос Абдыгапаров'}\n",
      "\n",
      "Done.\n"
     ]
    },
    {
     "data": {
      "text/html": [
       "<div>\n",
       "<style scoped>\n",
       "    .dataframe tbody tr th:only-of-type {\n",
       "        vertical-align: middle;\n",
       "    }\n",
       "\n",
       "    .dataframe tbody tr th {\n",
       "        vertical-align: top;\n",
       "    }\n",
       "\n",
       "    .dataframe thead th {\n",
       "        text-align: right;\n",
       "    }\n",
       "</style>\n",
       "<table border=\"1\" class=\"dataframe\">\n",
       "  <thead>\n",
       "    <tr style=\"text-align: right;\">\n",
       "      <th></th>\n",
       "      <th>id</th>\n",
       "      <th>page</th>\n",
       "      <th>url</th>\n",
       "      <th>district</th>\n",
       "      <th>live_rooms</th>\n",
       "      <th>title</th>\n",
       "      <th>price</th>\n",
       "      <th>address</th>\n",
       "      <th>text_preview</th>\n",
       "      <th>owner</th>\n",
       "      <th>stats_city</th>\n",
       "      <th>ad_date</th>\n",
       "      <th>view_count</th>\n",
       "      <th>paid_hot</th>\n",
       "      <th>paid_up</th>\n",
       "      <th>paid_fast</th>\n",
       "      <th>paid_urgent</th>\n",
       "      <th>paid_turbo</th>\n",
       "      <th>highlighted</th>\n",
       "      <th>flat.building</th>\n",
       "      <th>flat.floor</th>\n",
       "      <th>live.square</th>\n",
       "      <th>flat.renovation</th>\n",
       "      <th>flat.toilet</th>\n",
       "      <th>flat.balcony</th>\n",
       "      <th>flat.balcony_g</th>\n",
       "      <th>map.complex</th>\n",
       "      <th>flat.door</th>\n",
       "      <th>inet.type</th>\n",
       "      <th>live.furniture</th>\n",
       "      <th>flat.flooring</th>\n",
       "      <th>ceiling</th>\n",
       "      <th>flat.security</th>\n",
       "      <th>has_change</th>\n",
       "      <th>flat.phone</th>\n",
       "      <th>flat.parking</th>\n",
       "      <th>flat.priv_dorm</th>\n",
       "      <th>options_text</th>\n",
       "      <th>text</th>\n",
       "    </tr>\n",
       "  </thead>\n",
       "  <tbody>\n",
       "    <tr>\n",
       "      <th>0</th>\n",
       "      <td>665595454</td>\n",
       "      <td>1</td>\n",
       "      <td>https://krisha.kz/a/show/665595454</td>\n",
       "      <td>almaty-medeuskij</td>\n",
       "      <td>2</td>\n",
       "      <td>2-комнатная квартира, 41.9 м², 1/5 этаж</td>\n",
       "      <td>23000000</td>\n",
       "      <td>Медеуский р-н, Тулебаева — Макатаева</td>\n",
       "      <td>панельный дом, 1974 г.п., состояние: хорошее, санузел совмещенный, Эксклюзивное предложение от Агентства Атриум! Дом находится в тихом районе, аллея Тулебаева в 10-15 минутах ходьбы. Очень уютная ...</td>\n",
       "      <td>Специалист</td>\n",
       "      <td>Алматы</td>\n",
       "      <td>6 мар.</td>\n",
       "      <td></td>\n",
       "      <td>0</td>\n",
       "      <td>1</td>\n",
       "      <td>0</td>\n",
       "      <td>0</td>\n",
       "      <td>0</td>\n",
       "      <td>0</td>\n",
       "      <td>панельный, 1974 г.п.</td>\n",
       "      <td>1 из 5</td>\n",
       "      <td>41.9 м², кухня — 5.98 м²</td>\n",
       "      <td>хорошее</td>\n",
       "      <td>совмещенный</td>\n",
       "      <td>None</td>\n",
       "      <td>None</td>\n",
       "      <td>None</td>\n",
       "      <td>None</td>\n",
       "      <td>None</td>\n",
       "      <td>None</td>\n",
       "      <td>None</td>\n",
       "      <td>None</td>\n",
       "      <td>None</td>\n",
       "      <td>None</td>\n",
       "      <td>None</td>\n",
       "      <td>None</td>\n",
       "      <td>нет</td>\n",
       "      <td>None</td>\n",
       "      <td>Эксклюзивное предложение от Агентства Атриум! Дом находится в тихом районе, аллея Тулебаева в 10-15 минутах ходьбы. Очень уютная квартира с теплой аурой. Документы в порядке, не в залоге, переплан...</td>\n",
       "    </tr>\n",
       "    <tr>\n",
       "      <th>1</th>\n",
       "      <td>665388391</td>\n",
       "      <td>1</td>\n",
       "      <td>https://krisha.kz/a/show/665388391</td>\n",
       "      <td>almaty-medeuskij</td>\n",
       "      <td>2</td>\n",
       "      <td>2-комнатная квартира, 55 м²</td>\n",
       "      <td>14575000</td>\n",
       "      <td>Медеуский р-н, Талгарский тракт 160</td>\n",
       "      <td>жил. комплекс Нурия, монолитный дом, 2021 г.п., состояние: черновая отделка, потолки 2.7м., Отдел продаж. Купите напрямую от застройщика. Комиссия - 0%! Цена указана по Акции за 100% оплату! ЖК «Н...</td>\n",
       "      <td>Специалист</td>\n",
       "      <td>Алматы</td>\n",
       "      <td>6 мар.</td>\n",
       "      <td></td>\n",
       "      <td>0</td>\n",
       "      <td>1</td>\n",
       "      <td>0</td>\n",
       "      <td>0</td>\n",
       "      <td>0</td>\n",
       "      <td>0</td>\n",
       "      <td>монолитный, 2021 г.п.</td>\n",
       "      <td>10</td>\n",
       "      <td>55 м²</td>\n",
       "      <td>черновая отделка</td>\n",
       "      <td>None</td>\n",
       "      <td>лоджия</td>\n",
       "      <td>None</td>\n",
       "      <td>Нурия</td>\n",
       "      <td>металлическая</td>\n",
       "      <td>None</td>\n",
       "      <td>None</td>\n",
       "      <td>None</td>\n",
       "      <td>2.7 м</td>\n",
       "      <td>охрана</td>\n",
       "      <td>None</td>\n",
       "      <td>None</td>\n",
       "      <td>None</td>\n",
       "      <td>нет</td>\n",
       "      <td>Пластиковые окна, улучшенная, комнаты изолированы.</td>\n",
       "      <td>Отдел продаж. Купите напрямую от застройщика. Комиссия - 0%! Цена указана по Акции за 100% оплату! \\n \\nЖК «Нурия» \\n2 комнатная квартира, площадь 54, 9 кв. м, в улучшенной черновой отделке. Стяжк...</td>\n",
       "    </tr>\n",
       "    <tr>\n",
       "      <th>2</th>\n",
       "      <td>665580652</td>\n",
       "      <td>1</td>\n",
       "      <td>https://krisha.kz/a/show/665580652</td>\n",
       "      <td>almaty-medeuskij</td>\n",
       "      <td>2</td>\n",
       "      <td>2-комнатная квартира, 54 м²</td>\n",
       "      <td>33600000</td>\n",
       "      <td>Медеуский р-н, проспект Абая — Желтоксан</td>\n",
       "      <td>кирпичный дом, 1961 г.п., состояние: евроремонт, санузел совмещенный, полностью меблирована, Золотой квадрат ! Исторический центр Алматы. Квартира новая ! После капитального ремонта. В квартире им...</td>\n",
       "      <td>Специалист</td>\n",
       "      <td>Алматы</td>\n",
       "      <td>6 мар.</td>\n",
       "      <td></td>\n",
       "      <td>0</td>\n",
       "      <td>1</td>\n",
       "      <td>0</td>\n",
       "      <td>1</td>\n",
       "      <td>0</td>\n",
       "      <td>0</td>\n",
       "      <td>кирпичный, 1961 г.п.</td>\n",
       "      <td>None</td>\n",
       "      <td>54 м²</td>\n",
       "      <td>евроремонт</td>\n",
       "      <td>совмещенный</td>\n",
       "      <td>балкон</td>\n",
       "      <td>None</td>\n",
       "      <td>None</td>\n",
       "      <td>бронированная</td>\n",
       "      <td>None</td>\n",
       "      <td>полностью меблирована</td>\n",
       "      <td>паркет</td>\n",
       "      <td>None</td>\n",
       "      <td>домофон, видеонаблюдение</td>\n",
       "      <td>None</td>\n",
       "      <td>None</td>\n",
       "      <td>рядом охраняемая стоянка</td>\n",
       "      <td>нет</td>\n",
       "      <td>Пластиковые окна, неугловая, улучшенная, кухня-студия, новая сантехника, счётчики, тихий двор, кондиционер.</td>\n",
       "      <td>Золотой квадрат ! Исторический центр Алматы. Квартира новая ! После капитального ремонта. В квартире имеется все необходимое для проживания. Продается сразу с мебелью. Во дворе есть охраняемая пар...</td>\n",
       "    </tr>\n",
       "    <tr>\n",
       "      <th>3</th>\n",
       "      <td>665395237</td>\n",
       "      <td>1</td>\n",
       "      <td>https://krisha.kz/a/show/665395237</td>\n",
       "      <td>almaty-medeuskij</td>\n",
       "      <td>2</td>\n",
       "      <td>2-комнатная квартира, 52.5 м², 1/14 этаж</td>\n",
       "      <td>33000000</td>\n",
       "      <td>Медеуский р-н, мкр Самал-1 33</td>\n",
       "      <td>монолитный дом, 1993 г.п., состояние: среднее, жил. площадь 30.9 кв.м., кухня 8.4 кв.м., потолки 2.85м., санузел раздельный, полностью меблирована, Продаётся 2-комнатная квартира в самом центре и ...</td>\n",
       "      <td>Хозяин недвижимости</td>\n",
       "      <td>Алматы</td>\n",
       "      <td>6 мар.</td>\n",
       "      <td></td>\n",
       "      <td>1</td>\n",
       "      <td>1</td>\n",
       "      <td>0</td>\n",
       "      <td>0</td>\n",
       "      <td>1</td>\n",
       "      <td>0</td>\n",
       "      <td>монолитный, 1993 г.п.</td>\n",
       "      <td>1 из 14</td>\n",
       "      <td>52.5 м², жилая — 30.9 м², кухня — 8.4 м²</td>\n",
       "      <td>среднее</td>\n",
       "      <td>раздельный</td>\n",
       "      <td>None</td>\n",
       "      <td>None</td>\n",
       "      <td>None</td>\n",
       "      <td>None</td>\n",
       "      <td>None</td>\n",
       "      <td>полностью меблирована</td>\n",
       "      <td>линолеум</td>\n",
       "      <td>2.85 м</td>\n",
       "      <td>домофон, видеонаблюдение, консьерж</td>\n",
       "      <td>None</td>\n",
       "      <td>None</td>\n",
       "      <td>рядом охраняемая стоянка</td>\n",
       "      <td>нет</td>\n",
       "      <td>Пластиковые окна, тихий двор, удобно под коммерцию, комнаты изолированы.</td>\n",
       "      <td>Продаётся 2-комнатная квартира в самом центре и престижном районе Алматы - Самал-1. \\nВ шаговой доступности резиденция Президента, бизнес комплекс Нурлытау, ТД Рамстор, ТД Достык Плаза, Историческ...</td>\n",
       "    </tr>\n",
       "    <tr>\n",
       "      <th>4</th>\n",
       "      <td>665483515</td>\n",
       "      <td>1</td>\n",
       "      <td>https://krisha.kz/a/show/665483515</td>\n",
       "      <td>almaty-medeuskij</td>\n",
       "      <td>2</td>\n",
       "      <td>2-комнатная квартира, 85 м², 13/20 этаж</td>\n",
       "      <td>63000000</td>\n",
       "      <td>Медеуский р-н, мкр Самал, Достык</td>\n",
       "      <td>жил. комплекс Алматы Тауэрс, монолитный дом, 2008 г.п., состояние: хорошее, потолки 3м., санузел совмещенный, Продается отличная 2-х комнатная квартира в деловом центре Алматы, отдельная кухня 15 ...</td>\n",
       "      <td>Хозяин недвижимости</td>\n",
       "      <td>Алматы</td>\n",
       "      <td>6 мар.</td>\n",
       "      <td></td>\n",
       "      <td>1</td>\n",
       "      <td>1</td>\n",
       "      <td>1</td>\n",
       "      <td>0</td>\n",
       "      <td>0</td>\n",
       "      <td>0</td>\n",
       "      <td>монолитный, 2008 г.п.</td>\n",
       "      <td>13 из 20</td>\n",
       "      <td>85 м²</td>\n",
       "      <td>хорошее</td>\n",
       "      <td>совмещенный</td>\n",
       "      <td>балкон и лоджия</td>\n",
       "      <td>да</td>\n",
       "      <td>Алматы Тауэрс</td>\n",
       "      <td>бронированная</td>\n",
       "      <td>None</td>\n",
       "      <td>None</td>\n",
       "      <td>паркет</td>\n",
       "      <td>3 м</td>\n",
       "      <td>охрана, домофон</td>\n",
       "      <td>None</td>\n",
       "      <td>None</td>\n",
       "      <td>паркинг</td>\n",
       "      <td>нет</td>\n",
       "      <td>Улучшенная, кладовка, тихий двор, кондиционер.</td>\n",
       "      <td>Продается отличная 2-х комнатная квартира в деловом центре Алматы, отдельная кухня 15 кв, зал 28 и спальня 20 кв, кладовка 5 кв со встроеными шкафами, балконом 2, 5 кв, очень теплая, уютная, распо...</td>\n",
       "    </tr>\n",
       "  </tbody>\n",
       "</table>\n",
       "</div>"
      ],
      "text/plain": [
       "          id  page                                 url          district  \\\n",
       "0  665595454     1  https://krisha.kz/a/show/665595454  almaty-medeuskij   \n",
       "1  665388391     1  https://krisha.kz/a/show/665388391  almaty-medeuskij   \n",
       "2  665580652     1  https://krisha.kz/a/show/665580652  almaty-medeuskij   \n",
       "3  665395237     1  https://krisha.kz/a/show/665395237  almaty-medeuskij   \n",
       "4  665483515     1  https://krisha.kz/a/show/665483515  almaty-medeuskij   \n",
       "\n",
       "   live_rooms                                     title     price  \\\n",
       "0           2   2-комнатная квартира, 41.9 м², 1/5 этаж  23000000   \n",
       "1           2               2-комнатная квартира, 55 м²  14575000   \n",
       "2           2               2-комнатная квартира, 54 м²  33600000   \n",
       "3           2  2-комнатная квартира, 52.5 м², 1/14 этаж  33000000   \n",
       "4           2   2-комнатная квартира, 85 м², 13/20 этаж  63000000   \n",
       "\n",
       "                                    address  \\\n",
       "0      Медеуский р-н, Тулебаева — Макатаева   \n",
       "1       Медеуский р-н, Талгарский тракт 160   \n",
       "2  Медеуский р-н, проспект Абая — Желтоксан   \n",
       "3             Медеуский р-н, мкр Самал-1 33   \n",
       "4          Медеуский р-н, мкр Самал, Достык   \n",
       "\n",
       "                                                                                                                                                                                              text_preview  \\\n",
       "0  панельный дом, 1974 г.п., состояние: хорошее, санузел совмещенный, Эксклюзивное предложение от Агентства Атриум! Дом находится в тихом районе, аллея Тулебаева в 10-15 минутах ходьбы. Очень уютная ...   \n",
       "1  жил. комплекс Нурия, монолитный дом, 2021 г.п., состояние: черновая отделка, потолки 2.7м., Отдел продаж. Купите напрямую от застройщика. Комиссия - 0%! Цена указана по Акции за 100% оплату! ЖК «Н...   \n",
       "2  кирпичный дом, 1961 г.п., состояние: евроремонт, санузел совмещенный, полностью меблирована, Золотой квадрат ! Исторический центр Алматы. Квартира новая ! После капитального ремонта. В квартире им...   \n",
       "3  монолитный дом, 1993 г.п., состояние: среднее, жил. площадь 30.9 кв.м., кухня 8.4 кв.м., потолки 2.85м., санузел раздельный, полностью меблирована, Продаётся 2-комнатная квартира в самом центре и ...   \n",
       "4  жил. комплекс Алматы Тауэрс, монолитный дом, 2008 г.п., состояние: хорошее, потолки 3м., санузел совмещенный, Продается отличная 2-х комнатная квартира в деловом центре Алматы, отдельная кухня 15 ...   \n",
       "\n",
       "                 owner stats_city ad_date view_count  paid_hot  paid_up  \\\n",
       "0           Специалист     Алматы  6 мар.                    0        1   \n",
       "1           Специалист     Алматы  6 мар.                    0        1   \n",
       "2           Специалист     Алматы  6 мар.                    0        1   \n",
       "3  Хозяин недвижимости     Алматы  6 мар.                    1        1   \n",
       "4  Хозяин недвижимости     Алматы  6 мар.                    1        1   \n",
       "\n",
       "   paid_fast  paid_urgent  paid_turbo  highlighted          flat.building  \\\n",
       "0          0            0           0            0   панельный, 1974 г.п.   \n",
       "1          0            0           0            0  монолитный, 2021 г.п.   \n",
       "2          0            1           0            0   кирпичный, 1961 г.п.   \n",
       "3          0            0           1            0  монолитный, 1993 г.п.   \n",
       "4          1            0           0            0  монолитный, 2008 г.п.   \n",
       "\n",
       "  flat.floor                               live.square   flat.renovation  \\\n",
       "0     1 из 5                  41.9 м², кухня — 5.98 м²           хорошее   \n",
       "1         10                                     55 м²  черновая отделка   \n",
       "2       None                                     54 м²        евроремонт   \n",
       "3    1 из 14  52.5 м², жилая — 30.9 м², кухня — 8.4 м²           среднее   \n",
       "4   13 из 20                                     85 м²           хорошее   \n",
       "\n",
       "   flat.toilet     flat.balcony flat.balcony_g    map.complex      flat.door  \\\n",
       "0  совмещенный             None           None           None           None   \n",
       "1         None           лоджия           None          Нурия  металлическая   \n",
       "2  совмещенный           балкон           None           None  бронированная   \n",
       "3   раздельный             None           None           None           None   \n",
       "4  совмещенный  балкон и лоджия             да  Алматы Тауэрс  бронированная   \n",
       "\n",
       "  inet.type         live.furniture flat.flooring ceiling  \\\n",
       "0      None                   None          None    None   \n",
       "1      None                   None          None   2.7 м   \n",
       "2      None  полностью меблирована        паркет    None   \n",
       "3      None  полностью меблирована      линолеум  2.85 м   \n",
       "4      None                   None        паркет     3 м   \n",
       "\n",
       "                        flat.security has_change flat.phone  \\\n",
       "0                                None       None       None   \n",
       "1                              охрана       None       None   \n",
       "2            домофон, видеонаблюдение       None       None   \n",
       "3  домофон, видеонаблюдение, консьерж       None       None   \n",
       "4                     охрана, домофон       None       None   \n",
       "\n",
       "               flat.parking flat.priv_dorm  \\\n",
       "0                      None            нет   \n",
       "1                      None            нет   \n",
       "2  рядом охраняемая стоянка            нет   \n",
       "3  рядом охраняемая стоянка            нет   \n",
       "4                   паркинг            нет   \n",
       "\n",
       "                                                                                                  options_text  \\\n",
       "0                                                                                                         None   \n",
       "1                                                           Пластиковые окна, улучшенная, комнаты изолированы.   \n",
       "2  Пластиковые окна, неугловая, улучшенная, кухня-студия, новая сантехника, счётчики, тихий двор, кондиционер.   \n",
       "3                                     Пластиковые окна, тихий двор, удобно под коммерцию, комнаты изолированы.   \n",
       "4                                                               Улучшенная, кладовка, тихий двор, кондиционер.   \n",
       "\n",
       "                                                                                                                                                                                                      text  \n",
       "0  Эксклюзивное предложение от Агентства Атриум! Дом находится в тихом районе, аллея Тулебаева в 10-15 минутах ходьбы. Очень уютная квартира с теплой аурой. Документы в порядке, не в залоге, переплан...  \n",
       "1  Отдел продаж. Купите напрямую от застройщика. Комиссия - 0%! Цена указана по Акции за 100% оплату! \\n \\nЖК «Нурия» \\n2 комнатная квартира, площадь 54, 9 кв. м, в улучшенной черновой отделке. Стяжк...  \n",
       "2  Золотой квадрат ! Исторический центр Алматы. Квартира новая ! После капитального ремонта. В квартире имеется все необходимое для проживания. Продается сразу с мебелью. Во дворе есть охраняемая пар...  \n",
       "3  Продаётся 2-комнатная квартира в самом центре и престижном районе Алматы - Самал-1. \\nВ шаговой доступности резиденция Президента, бизнес комплекс Нурлытау, ТД Рамстор, ТД Достык Плаза, Историческ...  \n",
       "4  Продается отличная 2-х комнатная квартира в деловом центре Алматы, отдельная кухня 15 кв, зал 28 и спальня 20 кв, кладовка 5 кв со встроеными шкафами, балконом 2, 5 кв, очень теплая, уютная, распо...  "
      ]
     },
     "execution_count": 14,
     "metadata": {},
     "output_type": "execute_result"
    }
   ],
   "source": [
    "url = f'{URL_TOP}prodazha/kvartiry/{district}/?das[live.rooms]={live_rooms}'\n",
    "\n",
    "#Читаем страницу:\n",
    "response = requests.get(url, headers={'User-Agent': 'Mozilla/5.0'})\n",
    "if response.status_code != 200:\n",
    "    raise BaseException(\"response code:\" + str(response.status_code))\n",
    "response.encoding = 'utf-8'\n",
    "soup = BeautifulSoup(response.text, 'html.parser')\n",
    "\n",
    "#Находим главную колонку\n",
    "elem_mail_col = soup.find('div', class_='main-col')\n",
    "\n",
    "#Находим количество объявлений по фильтру\n",
    "elem_ads_count = elem_mail_col.find('div', class_='a-search-subtitle search-results-nb')\n",
    "ads_count = int(elem_ads_count.text.split('Найдено ', 1)[1].split(' объявлен', 1)[0].replace('\\xa0', ''))\n",
    "print('Количество объявлений = ', ads_count)\n",
    "\n",
    "#Находим количество страниц\n",
    "elem_paginator = elem_mail_col.find('nav', class_='paginator')\n",
    "elem_paginator_btns = elem_paginator.find_all('a', class_ = 'paginator__btn')\n",
    "pages_count1 = int(elem_paginator_btns[len(elem_paginator_btns) - 2].text.strip())\n",
    "\n",
    "if ads_count % 20 == 0:\n",
    "    pages_count2 = int(ads_count / 20)\n",
    "else:\n",
    "    pages_count2 = int(ads_count / 20) + 1\n",
    "    \n",
    "pages_count = max(pages_count1, pages_count2)\n",
    "print(f'Количество страниц = ', pages_count)\n",
    "\n",
    "\n",
    "#Главный цикл\n",
    "flats_list_global = [] # здесь соберем список списков (эл-т - словарь параметров конкретноЙ квартиры)\n",
    "#pages_list = list(range(1, pages_count + 1)) # количество страниц для парсинга\n",
    "pages_list = list(range(1, 1 + 1)) # количество страниц для парсинга - для отладки, удалить\n",
    "\n",
    "with tqdm(total=len(pages_list)) as pbar:\n",
    "    for p in pages_list:\n",
    "        url = f'{URL_TOP}prodazha/kvartiry/{district}/?das[live.rooms]={live_rooms}&page={p}'\n",
    "        response = requests.get(url, headers={'User-Agent': 'Mozilla/5.0'})\n",
    "        if response.status_code != 200:\n",
    "            raise BaseException(\"response code\" + str(response.status_code))\n",
    "        response.encoding = 'utf-8'\n",
    "        soup = BeautifulSoup(response.text, 'html.parser')\n",
    "        \n",
    "        #Находим главную колонку\n",
    "        elem_mail_col = soup.find('div', class_='main-col')        \n",
    "        \n",
    "        elem_main_list = elem_mail_col.find('section', class_= 'a-list a-search-list a-list-with-favs')\n",
    "        \n",
    "        #Ищем выделенную секцию\n",
    "        elem_hilighted_section = elem_main_list.find('section', class_= 'highlighted-section')\n",
    "        hs_ads_id = []#Список id объявлений из выделенной секции\n",
    "        if elem_hilighted_section is not None:\n",
    "            #Читаем объявления в выделенной секции\n",
    "            elem_hilighted_section_ads = elem_hilighted_section.find_all('div', class_ = 'a-card')\n",
    "            #Actually, the class is \"a-card a-storage-live ddl_product ddl_product_link not-colored is-visible\"\n",
    "            print('hilighted_section_ads len = ', len(elem_hilighted_section_ads))\n",
    "            for hs_ad in elem_hilighted_section_ads:#Для каждого объявления из выделенной секции\n",
    "                hs_ads_id.append(hs_ad['data-id'])\n",
    "\n",
    "            \n",
    "        #Читаем обычные объявления\n",
    "        elem_common_section_ads = elem_main_list.find_all('div', class_ = 'a-card')\n",
    "        print('common_section_ads len = ', len(elem_common_section_ads)) \n",
    "        \n",
    "        for ad in elem_common_section_ads:#Для каждого объявления из обычной секции\n",
    "            if ad['data-id'] in hs_ads_id:#Если это объявление в выделенной секции \n",
    "                dict_ad_params = fill_ad_params(ad, p, True, district, live_rooms)#Заполняем словарь параметров объявления, объявление выделенное\n",
    "            else:\n",
    "                dict_ad_params = fill_ad_params(ad, p, False, district, live_rooms)#Заполняем словарь параметров объявления, объявление НЕ выделенное\n",
    "            \n",
    "            if len(dict_ad_params) > 0:\n",
    "                time.sleep(0.5)\n",
    "                dict_ad_params_full = visit_ad(dict_ad_params)#Посещаем страницу объявления\n",
    "                if len(dict_ad_params_full) > 0:\n",
    "                    flats_list_global.append(dict_ad_params_full)\n",
    "                \n",
    "        #Обновление ProgressBar и звуковой сигнал\n",
    "        pbar.update(1)\n",
    "        if p % 10 == 0:\n",
    "            beeper.beep(frequency=100, secs=0.3, blocking=True)\n",
    "        time.sleep(2)\n",
    "        \n",
    "                \n",
    "print('Done.')\n",
    "\n",
    "df = pd.DataFrame(flats_list_global)\n",
    "\n",
    "df.head()"
   ]
  },
  {
   "cell_type": "code",
   "execution_count": 15,
   "metadata": {},
   "outputs": [
    {
     "ename": "IpyExit",
     "evalue": "",
     "output_type": "error",
     "traceback": [
      "An exception has occurred, use %tb to see the full traceback.\n",
      "\u001b[1;31mIpyExit\u001b[0m\n"
     ]
    }
   ],
   "source": [
    "ipython_exit.exit()"
   ]
  },
  {
   "cell_type": "markdown",
   "metadata": {},
   "source": []
  },
  {
   "cell_type": "code",
   "execution_count": null,
   "metadata": {},
   "outputs": [],
   "source": [
    "brand = 'bmw'"
   ]
  },
  {
   "cell_type": "code",
   "execution_count": null,
   "metadata": {
    "scrolled": false
   },
   "outputs": [],
   "source": [
    "auto_list_global = [] # здесь соберем список списков (эл-т - список параметров конкретного автомобиля)\n",
    "       \n",
    "pages_list = list(range(1, 1201)) # количество страниц для парсинга \n",
    "with tqdm(total=len(pages_list)) as pbar:\n",
    "    for i in pages_list: \n",
    "            \n",
    "        url = f'https://auto.ru/moskva/cars/{brand}/used/?output_type=list&page={i}'\n",
    "        response = requests.get(url, headers={'User-Agent': 'Mozilla/5.0'})\n",
    "        if response.status_code != 200:\n",
    "            raise BaseException(\"response code\" + str(response.status_code))\n",
    "        response.encoding = 'utf-8'\n",
    "        soup = BeautifulSoup(response.text, 'html.parser')\n",
    "        page = soup.find_all('div', class_='ListingItem-module__container')  \n",
    "\n",
    "        for k in range(len(page)):     # проход по объявлениям на одной странице\n",
    "            auto_html = page[k].find_all('meta')\n",
    "            auto_list = []\n",
    "            for j in range(len(auto_html)):   # обработка отдельного объявления на странице\n",
    "                auto_list.append((str(auto_html[j])[15:]).split('\"', 1)[0])\n",
    "\n",
    "            auto_list_short = []\n",
    "            auto_list_short.append(i) # Добавим пока номер страницы, чтобы узнать, откуда уже идут дубликаты\n",
    "\n",
    "            # Убираем лишние параметры из списка    \n",
    "            pos_out = {4,11,12,14,15,19}\n",
    "            for n in range(len(auto_list)):   # удаление лишних параметров из объявления\n",
    "                if n not in pos_out:\n",
    "                    auto_list_short.append(auto_list[n].replace('\\xa0', ' ')) \n",
    "\n",
    "            # Считываем пробег(расположен в другом месте)    \n",
    "            all_km = page[k].find('div', class_='ListingItem-module__kmAge')\n",
    "            km = str(all_km)[39:].split('<', 1)[0].replace('\\xa0', ' ')\n",
    "            auto_list_short.append(str(km))    # добавляем пробег\n",
    "                \n",
    "            auto_list_global.append(auto_list_short)    # добавляем список пар-ров автомобиля в список списков\n",
    "\n",
    "        pbar.update(1)\n",
    "        if i % 10 == 0:\n",
    "            beeper.beep(frequency=340, secs=0.3, blocking=True)\n",
    "        time.sleep(1.2)"
   ]
  },
  {
   "cell_type": "code",
   "execution_count": null,
   "metadata": {},
   "outputs": [],
   "source": [
    "len(auto_list_global), len(auto_list_global[0])"
   ]
  },
  {
   "cell_type": "code",
   "execution_count": null,
   "metadata": {},
   "outputs": [],
   "source": [
    "print(auto_list_global[:2])"
   ]
  },
  {
   "cell_type": "markdown",
   "metadata": {},
   "source": [
    "Подберем в первом приближении имена столбцов в соответствии с именами в test. Как будем использовать информацию в столбце temp1, пока не понятно. "
   ]
  },
  {
   "cell_type": "code",
   "execution_count": null,
   "metadata": {},
   "outputs": [],
   "source": [
    "df = pd.DataFrame(auto_list_global,\n",
    "                  columns=['page', 'bodyType', 'brand', 'color', 'fuelType', 'modelDate', 'model_name',\n",
    "                           'numberOfDoors', 'productionDate', 'vehicleConfiguration', 'vehicleTransmission',\n",
    "                           'price', 'temp1', 'engineDisplacement', 'enginePower', 'mileage'])"
   ]
  },
  {
   "cell_type": "code",
   "execution_count": null,
   "metadata": {
    "scrolled": false
   },
   "outputs": [],
   "source": [
    "df.head(3)"
   ]
  },
  {
   "cell_type": "code",
   "execution_count": null,
   "metadata": {},
   "outputs": [],
   "source": [
    "df.info()"
   ]
  },
  {
   "cell_type": "markdown",
   "metadata": {},
   "source": [
    "Удалим дубли:"
   ]
  },
  {
   "cell_type": "code",
   "execution_count": null,
   "metadata": {},
   "outputs": [],
   "source": [
    "df.drop_duplicates(subset=['bodyType', 'brand', 'color', 'fuelType', 'modelDate', 'model_name', 'numberOfDoors',\n",
    "                           'productionDate', 'vehicleConfiguration', 'vehicleTransmission', 'price', 'temp1',\n",
    "                           'engineDisplacement', 'enginePower', 'mileage'], inplace=True)"
   ]
  },
  {
   "cell_type": "code",
   "execution_count": null,
   "metadata": {
    "scrolled": true
   },
   "outputs": [],
   "source": [
    "df.info()"
   ]
  },
  {
   "cell_type": "markdown",
   "metadata": {},
   "source": [
    "Запишем данные в csv файл с соответствующим бренду именем:"
   ]
  },
  {
   "cell_type": "code",
   "execution_count": null,
   "metadata": {},
   "outputs": [],
   "source": [
    "df.to_csv(PATH_to_file + brand + '.csv', index=False)"
   ]
  },
  {
   "cell_type": "markdown",
   "metadata": {},
   "source": [
    "Повторив процедуру парсинга для каждой марки автомобиля из словаря, получим 12 файлов; из них потом получим один объединенный датасет train."
   ]
  },
  {
   "cell_type": "markdown",
   "metadata": {},
   "source": [
    "Считываем данные из отдельных csv и объединяем"
   ]
  },
  {
   "cell_type": "code",
   "execution_count": null,
   "metadata": {},
   "outputs": [],
   "source": [
    "BMW = pd.read_csv(PATH_to_file + 'bmw.csv')\n",
    "VOLKSWAGEN = pd.read_csv(PATH_to_file + 'volkswagen.csv')\n",
    "NISSAN = pd.read_csv(PATH_to_file + 'nissan.csv')\n",
    "MERCEDES = pd.read_csv(PATH_to_file + 'mercedes.csv')\n",
    "TOYOTA = pd.read_csv(PATH_to_file + 'toyota.csv')\n",
    "AUDI = pd.read_csv(PATH_to_file + 'audi.csv')\n",
    "MITSUBISHI = pd.read_csv(PATH_to_file + 'mitsubishi.csv')\n",
    "SKODA = pd.read_csv(PATH_to_file + 'skoda.csv')\n",
    "VOLVO = pd.read_csv(PATH_to_file + 'volvo.csv')\n",
    "HONDA = pd.read_csv(PATH_to_file + 'honda.csv')\n",
    "INFINITI = pd.read_csv(PATH_to_file + 'infiniti.csv')\n",
    "LEXUS = pd.read_csv(PATH_to_file + 'lexus.csv')"
   ]
  },
  {
   "cell_type": "code",
   "execution_count": null,
   "metadata": {
    "scrolled": false
   },
   "outputs": [],
   "source": [
    "frames = [BMW, VOLKSWAGEN, NISSAN, MERCEDES, TOYOTA, AUDI, MITSUBISHI, SKODA, VOLVO, HONDA, INFINITI, LEXUS]\n",
    "train = pd.concat(frames)\n",
    "train.sample(10)"
   ]
  },
  {
   "cell_type": "code",
   "execution_count": null,
   "metadata": {},
   "outputs": [],
   "source": [
    "train.info()"
   ]
  },
  {
   "cell_type": "markdown",
   "metadata": {},
   "source": [
    "Удалим пропуски, так как их мало и большое их количество находится в столбце с целевой переменной price"
   ]
  },
  {
   "cell_type": "code",
   "execution_count": null,
   "metadata": {},
   "outputs": [],
   "source": [
    "train.dropna(inplace=True)"
   ]
  },
  {
   "cell_type": "code",
   "execution_count": null,
   "metadata": {
    "scrolled": true
   },
   "outputs": [],
   "source": [
    "train.info()"
   ]
  },
  {
   "cell_type": "code",
   "execution_count": null,
   "metadata": {},
   "outputs": [],
   "source": [
    "train[train['price'].str.contains('RUB', na=False)]"
   ]
  },
  {
   "cell_type": "code",
   "execution_count": null,
   "metadata": {},
   "outputs": [],
   "source": [
    "indices = train[train.price.str.lower().str.contains('rub', na=False)].index\n",
    "train.drop(indices, inplace=True)"
   ]
  },
  {
   "cell_type": "markdown",
   "metadata": {},
   "source": [
    "Преобразуем целевую переменную price в числовой формат"
   ]
  },
  {
   "cell_type": "code",
   "execution_count": null,
   "metadata": {},
   "outputs": [],
   "source": [
    "train.price = train.price.astype('int64')"
   ]
  },
  {
   "cell_type": "code",
   "execution_count": null,
   "metadata": {},
   "outputs": [],
   "source": [
    "train.info()"
   ]
  },
  {
   "cell_type": "code",
   "execution_count": null,
   "metadata": {
    "scrolled": false
   },
   "outputs": [],
   "source": [
    "train.sample(3)"
   ]
  },
  {
   "cell_type": "markdown",
   "metadata": {},
   "source": [
    "Посмотрим на распределение количества объявлений по номерам страниц"
   ]
  },
  {
   "cell_type": "code",
   "execution_count": null,
   "metadata": {},
   "outputs": [],
   "source": [
    "train[train.page < 200].page.hist()"
   ]
  },
  {
   "cell_type": "markdown",
   "metadata": {},
   "source": [
    "Так как на сайте количество объявлений на странице почти фиксированное (37 - 38 объявлений) и мы удалили дубли, то можем заключить, что есть тренд к увеличению количества дублей с ростом номера страницы."
   ]
  },
  {
   "cell_type": "markdown",
   "metadata": {},
   "source": [
    "Запишем данные в итоговый csv файл"
   ]
  },
  {
   "cell_type": "code",
   "execution_count": null,
   "metadata": {},
   "outputs": [],
   "source": [
    "train.to_csv(PATH_to_file + 'train.csv', index=False)"
   ]
  },
  {
   "cell_type": "code",
   "execution_count": 1,
   "metadata": {},
   "outputs": [],
   "source": [
    "from datetime import datetime"
   ]
  },
  {
   "cell_type": "code",
   "execution_count": 2,
   "metadata": {},
   "outputs": [],
   "source": [
    "now = datetime.now()"
   ]
  },
  {
   "cell_type": "code",
   "execution_count": 3,
   "metadata": {},
   "outputs": [
    {
     "data": {
      "text/plain": [
       "'06-03-2021 22:35:02'"
      ]
     },
     "execution_count": 3,
     "metadata": {},
     "output_type": "execute_result"
    }
   ],
   "source": [
    "dt_string = now.strftime(\"%d-%m-%Y %H:%M:%S\")\n",
    "dt_string"
   ]
  },
  {
   "cell_type": "markdown",
   "metadata": {},
   "source": [
    "### В итоге мы получили тренировочный датасет train.csv с 26957 записей"
   ]
  }
 ],
 "metadata": {
  "kernelspec": {
   "display_name": "Python 3",
   "language": "python",
   "name": "python3"
  },
  "language_info": {
   "codemirror_mode": {
    "name": "ipython",
    "version": 3
   },
   "file_extension": ".py",
   "mimetype": "text/x-python",
   "name": "python",
   "nbconvert_exporter": "python",
   "pygments_lexer": "ipython3",
   "version": "3.7.6"
  }
 },
 "nbformat": 4,
 "nbformat_minor": 4
}
