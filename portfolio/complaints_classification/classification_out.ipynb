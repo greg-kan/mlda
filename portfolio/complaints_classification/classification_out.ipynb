{
 "cells": [
  {
   "cell_type": "markdown",
   "metadata": {},
   "source": [
    "# Исследования по классификации текстовых данных"
   ]
  },
  {
   "cell_type": "markdown",
   "metadata": {},
   "source": [
    "## Этап 1 - Подготовка "
   ]
  },
  {
   "cell_type": "code",
   "execution_count": 1,
   "metadata": {},
   "outputs": [],
   "source": [
    "import os\n",
    "from pathlib import Path\n",
    "\n",
    "DATA_DIR = Path(\"data\")\n",
    "if not DATA_DIR.exists():\n",
    "    raise Exception(\"Data directory '%s' not found\" % DATA_DIR.absolute())\n",
    "    \n",
    "OUT_DIR = Path(\"out_classification\")\n",
    "if not OUT_DIR.exists():\n",
    "    OUT_DIR.mkdir()    "
   ]
  },
  {
   "cell_type": "code",
   "execution_count": 2,
   "metadata": {},
   "outputs": [],
   "source": [
    "import numpy as np\n",
    "import pandas as pd"
   ]
  },
  {
   "cell_type": "markdown",
   "metadata": {},
   "source": [
    "## Этап 2 - Загрузка данных"
   ]
  },
  {
   "cell_type": "code",
   "execution_count": 3,
   "metadata": {},
   "outputs": [],
   "source": [
    "complaints_file = os.path.join(DATA_DIR, \"complaints.xlsx\")\n",
    "\n",
    "raw_data = pd.read_excel(complaints_file, sheet_name=\"complaints\", index_col=None)"
   ]
  },
  {
   "cell_type": "code",
   "execution_count": 4,
   "metadata": {},
   "outputs": [
    {
     "data": {
      "text/html": [
       "<div>\n",
       "<style scoped>\n",
       "    .dataframe tbody tr th:only-of-type {\n",
       "        vertical-align: middle;\n",
       "    }\n",
       "\n",
       "    .dataframe tbody tr th {\n",
       "        vertical-align: top;\n",
       "    }\n",
       "\n",
       "    .dataframe thead th {\n",
       "        text-align: right;\n",
       "    }\n",
       "</style>\n",
       "<table border=\"1\" class=\"dataframe\">\n",
       "  <thead>\n",
       "    <tr style=\"text-align: right;\">\n",
       "      <th></th>\n",
       "      <th>ISSUENUM</th>\n",
       "      <th>TOPIC</th>\n",
       "      <th>DESCRIPTION</th>\n",
       "      <th>UNDER_TOPIC</th>\n",
       "      <th>REPORTER</th>\n",
       "      <th>ASSIGNEE</th>\n",
       "      <th>CREATOR</th>\n",
       "      <th>STATUS_ISSUE</th>\n",
       "      <th>CREATED</th>\n",
       "      <th>UPDATED</th>\n",
       "      <th>...</th>\n",
       "      <th>FIO_CLIENT</th>\n",
       "      <th>IIN</th>\n",
       "      <th>TEXT_CONTRACT_NUMBER</th>\n",
       "      <th>PHONE_NUMBER</th>\n",
       "      <th>INF_CLIENT_RESPONDING</th>\n",
       "      <th>INCIDENT_REGION</th>\n",
       "      <th>INCIDENT_RESOLVED</th>\n",
       "      <th>FIO_GUILT_WORK</th>\n",
       "      <th>AUTHOR_REGION</th>\n",
       "      <th>AUTHOR_SUBDIVISIONS</th>\n",
       "    </tr>\n",
       "  </thead>\n",
       "  <tbody>\n",
       "    <tr>\n",
       "      <th>0</th>\n",
       "      <td>105578</td>\n",
       "      <td>ЖАЛОБА: на корреспонденцию банка</td>\n",
       "      <td>Клиент просит чтобы банк не отправлял смс о сп...</td>\n",
       "      <td>Cмс по предложениям Xsell</td>\n",
       "      <td>aoryntaeva</td>\n",
       "      <td>akalabaeva</td>\n",
       "      <td>aoryntaeva</td>\n",
       "      <td>Закрыта</td>\n",
       "      <td>2017-12-12 06:47:45</td>\n",
       "      <td>2017-12-12 12:02:50</td>\n",
       "      <td>...</td>\n",
       "      <td>АҚЖИГИТОВ БЕЙБІТ КЕНЖЕБАЙҰЛЫ</td>\n",
       "      <td>910429301833</td>\n",
       "      <td>0</td>\n",
       "      <td>7776121291</td>\n",
       "      <td>NaN</td>\n",
       "      <td>0</td>\n",
       "      <td>Не требует создания проблемы</td>\n",
       "      <td>NaN</td>\n",
       "      <td>Алматы</td>\n",
       "      <td>Call-center</td>\n",
       "    </tr>\n",
       "    <tr>\n",
       "      <th>1</th>\n",
       "      <td>105582</td>\n",
       "      <td>ЖАЛОБА: на корреспонденцию банка</td>\n",
       "      <td>ДД.\\nПри оформлении кредита клиент предоставил...</td>\n",
       "      <td>Cмс по предложениям Xsell</td>\n",
       "      <td>atusipova</td>\n",
       "      <td>akalabaeva</td>\n",
       "      <td>atusipova</td>\n",
       "      <td>Закрыта</td>\n",
       "      <td>2017-12-12 08:34:06</td>\n",
       "      <td>2017-12-12 15:41:16</td>\n",
       "      <td>...</td>\n",
       "      <td>Тверитинова Анна Егоровна</td>\n",
       "      <td>761123400947</td>\n",
       "      <td>3708168706</td>\n",
       "      <td>87078452136 \\t</td>\n",
       "      <td>NaN</td>\n",
       "      <td>0</td>\n",
       "      <td>Не требует создания проблемы</td>\n",
       "      <td>NaN</td>\n",
       "      <td>NaN</td>\n",
       "      <td>Call-center</td>\n",
       "    </tr>\n",
       "    <tr>\n",
       "      <th>2</th>\n",
       "      <td>105604</td>\n",
       "      <td>ЖАЛОБА: на обслуживание</td>\n",
       "      <td>Дарипова Айгуль Сабыргалиевна жалуется на мене...</td>\n",
       "      <td>NaN</td>\n",
       "      <td>azhalgaeva</td>\n",
       "      <td>zissayev</td>\n",
       "      <td>azhalgaeva</td>\n",
       "      <td>Закрыта</td>\n",
       "      <td>2017-12-12 09:27:28</td>\n",
       "      <td>2017-12-21 09:10:29</td>\n",
       "      <td>...</td>\n",
       "      <td>Дарипова Айгуль Сабыргалиевна</td>\n",
       "      <td>810420403003</td>\n",
       "      <td>0</td>\n",
       "      <td>7292250739</td>\n",
       "      <td>Не дозвон</td>\n",
       "      <td>Мангистауская область,Бейнеу,  ул. Ерконай, д. 1</td>\n",
       "      <td>Не требует создания проблемы</td>\n",
       "      <td>NaN</td>\n",
       "      <td>Актау</td>\n",
       "      <td>Call-center</td>\n",
       "    </tr>\n",
       "  </tbody>\n",
       "</table>\n",
       "<p>3 rows × 21 columns</p>\n",
       "</div>"
      ],
      "text/plain": [
       "   ISSUENUM                             TOPIC  \\\n",
       "0    105578  ЖАЛОБА: на корреспонденцию банка   \n",
       "1    105582  ЖАЛОБА: на корреспонденцию банка   \n",
       "2    105604           ЖАЛОБА: на обслуживание   \n",
       "\n",
       "                                         DESCRIPTION  \\\n",
       "0  Клиент просит чтобы банк не отправлял смс о сп...   \n",
       "1  ДД.\\nПри оформлении кредита клиент предоставил...   \n",
       "2  Дарипова Айгуль Сабыргалиевна жалуется на мене...   \n",
       "\n",
       "                 UNDER_TOPIC    REPORTER    ASSIGNEE     CREATOR STATUS_ISSUE  \\\n",
       "0  Cмс по предложениям Xsell  aoryntaeva  akalabaeva  aoryntaeva      Закрыта   \n",
       "1  Cмс по предложениям Xsell   atusipova  akalabaeva   atusipova      Закрыта   \n",
       "2                        NaN  azhalgaeva    zissayev  azhalgaeva      Закрыта   \n",
       "\n",
       "              CREATED             UPDATED  ...                     FIO_CLIENT  \\\n",
       "0 2017-12-12 06:47:45 2017-12-12 12:02:50  ...   АҚЖИГИТОВ БЕЙБІТ КЕНЖЕБАЙҰЛЫ   \n",
       "1 2017-12-12 08:34:06 2017-12-12 15:41:16  ...      Тверитинова Анна Егоровна   \n",
       "2 2017-12-12 09:27:28 2017-12-21 09:10:29  ...  Дарипова Айгуль Сабыргалиевна   \n",
       "\n",
       "            IIN TEXT_CONTRACT_NUMBER    PHONE_NUMBER INF_CLIENT_RESPONDING  \\\n",
       "0  910429301833                    0      7776121291                   NaN   \n",
       "1  761123400947           3708168706  87078452136 \\t                   NaN   \n",
       "2  810420403003                    0      7292250739             Не дозвон   \n",
       "\n",
       "                                     INCIDENT_REGION  \\\n",
       "0                                                  0   \n",
       "1                                                  0   \n",
       "2   Мангистауская область,Бейнеу,  ул. Ерконай, д. 1   \n",
       "\n",
       "              INCIDENT_RESOLVED FIO_GUILT_WORK AUTHOR_REGION  \\\n",
       "0  Не требует создания проблемы            NaN        Алматы   \n",
       "1  Не требует создания проблемы            NaN           NaN   \n",
       "2  Не требует создания проблемы            NaN         Актау   \n",
       "\n",
       "  AUTHOR_SUBDIVISIONS  \n",
       "0         Call-center  \n",
       "1         Call-center  \n",
       "2         Call-center  \n",
       "\n",
       "[3 rows x 21 columns]"
      ]
     },
     "execution_count": 4,
     "metadata": {},
     "output_type": "execute_result"
    }
   ],
   "source": [
    "raw_data.head(3)"
   ]
  },
  {
   "cell_type": "code",
   "execution_count": 5,
   "metadata": {},
   "outputs": [
    {
     "name": "stdout",
     "output_type": "stream",
     "text": [
      "[i] Размерность сырых данных:  (22840, 21)\n"
     ]
    }
   ],
   "source": [
    "print(\"[i] Размерность сырых данных: \", raw_data.shape)"
   ]
  },
  {
   "cell_type": "markdown",
   "metadata": {},
   "source": [
    "## Этап 3 - Отбор признаков"
   ]
  },
  {
   "cell_type": "code",
   "execution_count": 6,
   "metadata": {},
   "outputs": [
    {
     "name": "stdout",
     "output_type": "stream",
     "text": [
      "[i] : Информация о данных\n",
      "<class 'pandas.core.frame.DataFrame'>\n",
      "RangeIndex: 22840 entries, 0 to 22839\n",
      "Data columns (total 3 columns):\n",
      "ISSUENUM       22840 non-null int64\n",
      "TOPIC          22805 non-null object\n",
      "DESCRIPTION    22839 non-null object\n",
      "dtypes: int64(1), object(2)\n",
      "memory usage: 535.4+ KB\n"
     ]
    }
   ],
   "source": [
    "valuable_columns = [\"ISSUENUM\", \"TOPIC\", \"DESCRIPTION\"]\n",
    "raw_data = raw_data[valuable_columns] # Для исследования ограничимся ID 'ISSUENUM', меткой 'TOPIC' и содержанием 'DESCRIPTION'\n",
    "\n",
    "print(\"[i] : Информация о данных\")\n",
    "raw_data.info() # Информация о данных"
   ]
  },
  {
   "cell_type": "code",
   "execution_count": 7,
   "metadata": {},
   "outputs": [
    {
     "data": {
      "text/html": [
       "<div>\n",
       "<style scoped>\n",
       "    .dataframe tbody tr th:only-of-type {\n",
       "        vertical-align: middle;\n",
       "    }\n",
       "\n",
       "    .dataframe tbody tr th {\n",
       "        vertical-align: top;\n",
       "    }\n",
       "\n",
       "    .dataframe thead th {\n",
       "        text-align: right;\n",
       "    }\n",
       "</style>\n",
       "<table border=\"1\" class=\"dataframe\">\n",
       "  <thead>\n",
       "    <tr style=\"text-align: right;\">\n",
       "      <th></th>\n",
       "      <th>ISSUENUM</th>\n",
       "      <th>TOPIC</th>\n",
       "      <th>DESCRIPTION</th>\n",
       "    </tr>\n",
       "  </thead>\n",
       "  <tbody>\n",
       "    <tr>\n",
       "      <th>0</th>\n",
       "      <td>105578</td>\n",
       "      <td>ЖАЛОБА: на корреспонденцию банка</td>\n",
       "      <td>Клиент просит чтобы банк не отправлял смс о сп...</td>\n",
       "    </tr>\n",
       "    <tr>\n",
       "      <th>1</th>\n",
       "      <td>105582</td>\n",
       "      <td>ЖАЛОБА: на корреспонденцию банка</td>\n",
       "      <td>ДД.\\nПри оформлении кредита клиент предоставил...</td>\n",
       "    </tr>\n",
       "    <tr>\n",
       "      <th>2</th>\n",
       "      <td>105604</td>\n",
       "      <td>ЖАЛОБА: на обслуживание</td>\n",
       "      <td>Дарипова Айгуль Сабыргалиевна жалуется на мене...</td>\n",
       "    </tr>\n",
       "  </tbody>\n",
       "</table>\n",
       "</div>"
      ],
      "text/plain": [
       "   ISSUENUM                             TOPIC  \\\n",
       "0    105578  ЖАЛОБА: на корреспонденцию банка   \n",
       "1    105582  ЖАЛОБА: на корреспонденцию банка   \n",
       "2    105604           ЖАЛОБА: на обслуживание   \n",
       "\n",
       "                                         DESCRIPTION  \n",
       "0  Клиент просит чтобы банк не отправлял смс о сп...  \n",
       "1  ДД.\\nПри оформлении кредита клиент предоставил...  \n",
       "2  Дарипова Айгуль Сабыргалиевна жалуется на мене...  "
      ]
     },
     "execution_count": 7,
     "metadata": {},
     "output_type": "execute_result"
    }
   ],
   "source": [
    "raw_data.head(3)"
   ]
  },
  {
   "cell_type": "markdown",
   "metadata": {},
   "source": [
    "## Этап 4 - Проверка на дубли и удаление строк с отсутствующими данными"
   ]
  },
  {
   "cell_type": "code",
   "execution_count": 8,
   "metadata": {},
   "outputs": [
    {
     "name": "stdout",
     "output_type": "stream",
     "text": [
      "[i] Количество дублей идентификаторов:  0\n"
     ]
    }
   ],
   "source": [
    "duplicated = raw_data.loc[raw_data.duplicated(subset=['ISSUENUM'], keep=False)]\n",
    "print(\"[i] Количество дублей идентификаторов: \", duplicated['ISSUENUM'].count())"
   ]
  },
  {
   "cell_type": "code",
   "execution_count": 9,
   "metadata": {},
   "outputs": [
    {
     "name": "stdout",
     "output_type": "stream",
     "text": [
      "[i] Размерность после удаления пустых (22804, 3)\n"
     ]
    }
   ],
   "source": [
    "raw_data = raw_data.dropna(subset=['TOPIC', 'DESCRIPTION']) # Удаляем строки с пустыми значениями в столбцах 'TOPIC' и 'DESCRIPTION'\n",
    "\n",
    "print(\"[i] Размерность после удаления пустых\", raw_data.shape)"
   ]
  },
  {
   "cell_type": "markdown",
   "metadata": {},
   "source": [
    "## Этап 5 - Отбор \"нужных\" обращений"
   ]
  },
  {
   "cell_type": "code",
   "execution_count": 10,
   "metadata": {},
   "outputs": [
    {
     "name": "stdout",
     "output_type": "stream",
     "text": [
      "[i] Размерность данных с Жалобами (19415, 3)\n"
     ]
    }
   ],
   "source": [
    "#Отберем только строки, содержащие жалобы, в которых столбец 'TOPIC' содержит различные сочетания слова \"жалоба\"\n",
    "raw_data = raw_data[(raw_data.TOPIC.str.contains(\"ЖАЛОБА: \") |\n",
    "                     raw_data.TOPIC.str.contains(\"Жалоба на \") |\n",
    "                     raw_data.TOPIC.str.contains(\"Жалобы на \"))] #, na=False\n",
    "\n",
    "print(\"[i] Размерность данных с Жалобами\", raw_data.shape)"
   ]
  },
  {
   "cell_type": "markdown",
   "metadata": {},
   "source": [
    "## Этап 6 - Очистка меток от \"мусора\""
   ]
  },
  {
   "cell_type": "code",
   "execution_count": 11,
   "metadata": {},
   "outputs": [],
   "source": [
    "import re\n",
    "def label_cleaner(text):\n",
    "        \n",
    "    text = re.sub( r'ЖАЛОБА: на ', '', text) # Убрать из темы словосочетания 'ЖАЛОБА: на ',\n",
    "    text = re.sub( r'ЖАЛОБА: ', '', text) # 'ЖАЛОБА: ',\n",
    "    text = re.sub( r'Жалоба на ', '', text) # 'Жалоба на ',\n",
    "    text = re.sub( r'Жалобы на ', '', text) # 'Жалобы на '\n",
    "    \n",
    "    text = str.strip(text.lower()) #Переводим в нижний регистр и убираем пробелы в начале и конце\n",
    "    return  text"
   ]
  },
  {
   "cell_type": "code",
   "execution_count": 12,
   "metadata": {},
   "outputs": [
    {
     "name": "stdout",
     "output_type": "stream",
     "text": [
      "[i] Количество категорий (меток): 9\n",
      "[i] Множество категорий (меток):\n",
      "{'услугу \"хранитель\"', 'услугу \"защита семьи\"', 'обслуживание', 'карточные продукты', 'не согласие с условиями договора, %%, задолженностью, штрафами, тарифами и комиссиями', 'го/филиал/отделения/микроофисы/тт', 'обслуживание в терминалах', 'корреспонденцию банка', 'услугу \"страховку\"'}\n"
     ]
    }
   ],
   "source": [
    "raw_data[\"TOPIC\"] = [label_cleaner(t) for t in raw_data[\"TOPIC\"]] # Почистим метки от \"мусора\"\n",
    "\n",
    "print(\"[i] Количество категорий (меток):\", len(set(raw_data[\"TOPIC\"])))\n",
    "print(\"[i] Множество категорий (меток):\")\n",
    "print(set(raw_data[\"TOPIC\"]))"
   ]
  },
  {
   "cell_type": "markdown",
   "metadata": {},
   "source": [
    "## Этап 7 - Препроцессинг"
   ]
  },
  {
   "cell_type": "code",
   "execution_count": 13,
   "metadata": {},
   "outputs": [],
   "source": [
    "#Пишем свой препроцессор (preprocessor)\n",
    "from nltk.stem.snowball import SnowballStemmer\n",
    "def text_cleaner(text):\n",
    "    text = text.lower() # приведение в lowercase,\n",
    "    \n",
    "    stemmer = SnowballStemmer(\"russian\")\n",
    "    singles = [stemmer.stem(word) for word in text.split()]\n",
    "    text = ' '.join(singles)\n",
    "\n",
    "    #Удаление незначимых слов\n",
    "    stw = ['в', 'по', 'на', 'из', 'и', 'или', 'не', 'но', 'за', 'над', 'под', 'то',\n",
    "           'a', 'at', 'on', 'of', 'and', 'or', 'in', 'for', 'at' ]\n",
    "    remove = r'\\b(' + '|'.join(stw) + r')\\b'  \n",
    "    text = re.sub(remove, ' ', text)\n",
    "    \n",
    "    text = re.sub( r'\\b\\w\\b', '', text ) # удаление отдельно стоящих букв\n",
    "\n",
    "    text = re.sub( r'\\b\\d+\\b', ' digit ', text ) # замена цифр \n",
    "\n",
    "    return  text\n",
    "\n",
    "#raw_data[\"DESCRIPTION\"] = [text_cleaner(t) for t in raw_data[\"DESCRIPTION\"]]\n",
    "#raw_data[\"DESCRIPTION\"].head(5)"
   ]
  },
  {
   "cell_type": "markdown",
   "metadata": {},
   "source": [
    "## Этап 8 - Разделение на тренировочную и тестовую выборки"
   ]
  },
  {
   "cell_type": "code",
   "execution_count": 14,
   "metadata": {},
   "outputs": [],
   "source": [
    "def train_test_split( data, validation_split = 0.2):\n",
    "    dict_data = data.to_dict('list')\n",
    "    sz = len(dict_data['TOPIC'])\n",
    "    indices = np.arange(sz)\n",
    "    np.random.shuffle(indices)\n",
    "\n",
    "    I = [dict_data['ISSUENUM'][i] for i in indices ]\n",
    "    X = [dict_data['DESCRIPTION'][i] for i in indices]\n",
    "    Y = [dict_data['TOPIC'][i] for i in indices]\n",
    "    \n",
    "    nb_validation_samples = int(validation_split * sz)\n",
    "\n",
    "    return { \n",
    "        'train': { 'i': I[:-nb_validation_samples], 'x': X[:-nb_validation_samples], 'y': Y[:-nb_validation_samples]  },\n",
    "        'test': { 'i': I[-nb_validation_samples:], 'x': X[-nb_validation_samples:], 'y': Y[-nb_validation_samples:]  }\n",
    "    }"
   ]
  },
  {
   "cell_type": "code",
   "execution_count": 15,
   "metadata": {},
   "outputs": [
    {
     "name": "stdout",
     "output_type": "stream",
     "text": [
      "[i] Размер тестовой выборки: 5824\n",
      "[i] Размер тренировочной выборки: 13591\n",
      "[i] Общий размер данных: 19415\n"
     ]
    }
   ],
   "source": [
    "#Разделяем данные на Тренировочную и Тестовую выборки\n",
    "D = train_test_split(raw_data, 0.3)\n",
    "\n",
    "print(\"[i] Размер тестовой выборки:\", len(D['test'] ['y']))\n",
    "print(\"[i] Размер тренировочной выборки:\", len(D['train'] ['y']))\n",
    "print(\"[i] Общий размер данных:\", len(D['test'] ['y']) + len(D['train'] ['y']))"
   ]
  },
  {
   "cell_type": "markdown",
   "metadata": {},
   "source": [
    "## Этап 9 - Обучение классификатора "
   ]
  },
  {
   "cell_type": "code",
   "execution_count": 16,
   "metadata": {},
   "outputs": [
    {
     "name": "stdout",
     "output_type": "stream",
     "text": [
      "[i] Версия scikit-learn:  0.20.3\n"
     ]
    }
   ],
   "source": [
    "#Проверим версию scikit-learn:\n",
    "import sklearn\n",
    "print('[i] Версия scikit-learn: ', sklearn.__version__)"
   ]
  },
  {
   "cell_type": "code",
   "execution_count": 17,
   "metadata": {
    "scrolled": true
   },
   "outputs": [
    {
     "name": "stdout",
     "output_type": "stream",
     "text": [
      "TfidfVectorizer(analyzer='word', binary=False, decode_error='strict',\n",
      "        dtype=<class 'numpy.float64'>, encoding='utf-8', input='content',\n",
      "        lowercase=True, max_df=1.0, max_features=None, min_df=1,\n",
      "        ngram_range=(1, 1), norm='l2', preprocessor=None, smooth_idf=True,\n",
      "        stop_words=None, strip_accents=None, sublinear_tf=False,\n",
      "        token_pattern='(?u)\\\\b\\\\w\\\\w+\\\\b', tokenizer=None, use_idf=True,\n",
      "        vocabulary=None)\n",
      "\n",
      "\n",
      "SGDClassifier(alpha=0.0001, average=False, class_weight=None,\n",
      "       early_stopping=False, epsilon=0.1, eta0=0.0, fit_intercept=True,\n",
      "       l1_ratio=0.15, learning_rate='optimal', loss='hinge', max_iter=None,\n",
      "       n_iter=None, n_iter_no_change=5, n_jobs=None, penalty='l2',\n",
      "       power_t=0.5, random_state=None, shuffle=True, tol=0.0001,\n",
      "       validation_fraction=0.1, verbose=0, warm_start=False)\n"
     ]
    }
   ],
   "source": [
    "from sklearn.feature_extraction.text import TfidfVectorizer\n",
    "from sklearn.linear_model import SGDClassifier\n",
    "from sklearn.pipeline import Pipeline\n",
    "\n",
    "vectorizer = TfidfVectorizer() # preprocessor=text_cleaner. В данном случае, почему-то, препроцессинг не повышает точность...\n",
    "print(vectorizer)\n",
    "print(\"\\n\")\n",
    "classifier = SGDClassifier(loss='hinge', tol=0.0001) #, max_iter=20, tol=0.0001, verbose = 1\n",
    "print(classifier)"
   ]
  },
  {
   "cell_type": "code",
   "execution_count": 18,
   "metadata": {},
   "outputs": [
    {
     "name": "stdout",
     "output_type": "stream",
     "text": [
      "[i] Обучение классификатора...\n",
      "[i] Обучение завершено!\n"
     ]
    }
   ],
   "source": [
    "print(\"[i] Обучение классификатора...\")\n",
    "\n",
    "text_clf = Pipeline([\n",
    "                ('tfidf', vectorizer),\n",
    "                ('clf', classifier),\n",
    "                ])\n",
    "\n",
    "text_clf.fit(D['train']['x'], D['train']['y'])\n",
    "\n",
    "print(\"[i] Обучение завершено!\")"
   ]
  },
  {
   "cell_type": "markdown",
   "metadata": {},
   "source": [
    "## Этап 10 - Тестирование"
   ]
  },
  {
   "cell_type": "code",
   "execution_count": 19,
   "metadata": {},
   "outputs": [
    {
     "name": "stdout",
     "output_type": "stream",
     "text": [
      "[i] Тестируем...\n",
      "[i] accuracy train:  0.9173717901552498\n",
      "[i] accuracy test:  0.859375\n"
     ]
    }
   ],
   "source": [
    "from sklearn.metrics import accuracy_score\n",
    "#Testing and checking results\n",
    "print(\"[i] Тестируем...\")\n",
    "\n",
    "predicted_train = text_clf.predict( D['train']['x'] )\n",
    "print(\"[i] accuracy train: \", accuracy_score(  D['train']['y'] , predicted_train) )\n",
    "    \n",
    "predicted_test = text_clf.predict( D['test']['x'] )\n",
    "print(\"[i] accuracy test: \", accuracy_score(  D['test']['y'] , predicted_test) )"
   ]
  },
  {
   "cell_type": "markdown",
   "metadata": {},
   "source": [
    "## Этап 11 - Сохранение результатов"
   ]
  },
  {
   "cell_type": "code",
   "execution_count": 20,
   "metadata": {},
   "outputs": [],
   "source": [
    "frameTest = pd.DataFrame({'id' : D['test']['i'],'cathegory': D['test']['y'], 'content': D['test']['x']})\n",
    "frameTest['predicted'] = predicted_test.tolist()"
   ]
  },
  {
   "cell_type": "code",
   "execution_count": 21,
   "metadata": {},
   "outputs": [
    {
     "data": {
      "text/html": [
       "<div>\n",
       "<style scoped>\n",
       "    .dataframe tbody tr th:only-of-type {\n",
       "        vertical-align: middle;\n",
       "    }\n",
       "\n",
       "    .dataframe tbody tr th {\n",
       "        vertical-align: top;\n",
       "    }\n",
       "\n",
       "    .dataframe thead th {\n",
       "        text-align: right;\n",
       "    }\n",
       "</style>\n",
       "<table border=\"1\" class=\"dataframe\">\n",
       "  <thead>\n",
       "    <tr style=\"text-align: right;\">\n",
       "      <th></th>\n",
       "      <th>id</th>\n",
       "      <th>cathegory</th>\n",
       "      <th>content</th>\n",
       "      <th>predicted</th>\n",
       "    </tr>\n",
       "  </thead>\n",
       "  <tbody>\n",
       "    <tr>\n",
       "      <th>0</th>\n",
       "      <td>201638</td>\n",
       "      <td>обслуживание</td>\n",
       "      <td>Клиенту в торговой точке не объяснили, что пер...</td>\n",
       "      <td>обслуживание</td>\n",
       "    </tr>\n",
       "    <tr>\n",
       "      <th>1</th>\n",
       "      <td>164892</td>\n",
       "      <td>обслуживание</td>\n",
       "      <td>клиент жалуется что оператор предоставила не к...</td>\n",
       "      <td>обслуживание</td>\n",
       "    </tr>\n",
       "    <tr>\n",
       "      <th>2</th>\n",
       "      <td>149685</td>\n",
       "      <td>корреспонденцию банка</td>\n",
       "      <td>Клиент УВАЛИЕВА ГУЛЬНАРА АСЫЛБЕКОВНА жалуется ...</td>\n",
       "      <td>корреспонденцию банка</td>\n",
       "    </tr>\n",
       "    <tr>\n",
       "      <th>3</th>\n",
       "      <td>147971</td>\n",
       "      <td>обслуживание</td>\n",
       "      <td>Добрый день!\\nУ клиента кредитный договор офор...</td>\n",
       "      <td>обслуживание</td>\n",
       "    </tr>\n",
       "    <tr>\n",
       "      <th>4</th>\n",
       "      <td>116855</td>\n",
       "      <td>корреспонденцию банка</td>\n",
       "      <td>Нейфельд Галина\\nАнатолиевна приходит смс сооб...</td>\n",
       "      <td>корреспонденцию банка</td>\n",
       "    </tr>\n",
       "    <tr>\n",
       "      <th>5</th>\n",
       "      <td>131283</td>\n",
       "      <td>корреспонденцию банка</td>\n",
       "      <td>ДД! Позвонил 3 лицо сказал что звонили с нашег...</td>\n",
       "      <td>корреспонденцию банка</td>\n",
       "    </tr>\n",
       "    <tr>\n",
       "      <th>6</th>\n",
       "      <td>107603</td>\n",
       "      <td>обслуживание</td>\n",
       "      <td>ЗК возмущается в связи с тем что она не знала ...</td>\n",
       "      <td>обслуживание</td>\n",
       "    </tr>\n",
       "    <tr>\n",
       "      <th>7</th>\n",
       "      <td>125982</td>\n",
       "      <td>корреспонденцию банка</td>\n",
       "      <td>Клиент Рысмагамбетов Назар Акбарович просит не...</td>\n",
       "      <td>корреспонденцию банка</td>\n",
       "    </tr>\n",
       "    <tr>\n",
       "      <th>8</th>\n",
       "      <td>316694</td>\n",
       "      <td>услугу \"страховку\"</td>\n",
       "      <td>Клиент утверждает что кредитный консультант не...</td>\n",
       "      <td>услугу \"страховку\"</td>\n",
       "    </tr>\n",
       "    <tr>\n",
       "      <th>9</th>\n",
       "      <td>224005</td>\n",
       "      <td>го/филиал/отделения/микроофисы/тт</td>\n",
       "      <td>Клиент жалуется на количество обслуживающего п...</td>\n",
       "      <td>обслуживание</td>\n",
       "    </tr>\n",
       "  </tbody>\n",
       "</table>\n",
       "</div>"
      ],
      "text/plain": [
       "       id                          cathegory  \\\n",
       "0  201638                       обслуживание   \n",
       "1  164892                       обслуживание   \n",
       "2  149685              корреспонденцию банка   \n",
       "3  147971                       обслуживание   \n",
       "4  116855              корреспонденцию банка   \n",
       "5  131283              корреспонденцию банка   \n",
       "6  107603                       обслуживание   \n",
       "7  125982              корреспонденцию банка   \n",
       "8  316694                 услугу \"страховку\"   \n",
       "9  224005  го/филиал/отделения/микроофисы/тт   \n",
       "\n",
       "                                             content              predicted  \n",
       "0  Клиенту в торговой точке не объяснили, что пер...           обслуживание  \n",
       "1  клиент жалуется что оператор предоставила не к...           обслуживание  \n",
       "2  Клиент УВАЛИЕВА ГУЛЬНАРА АСЫЛБЕКОВНА жалуется ...  корреспонденцию банка  \n",
       "3  Добрый день!\\nУ клиента кредитный договор офор...           обслуживание  \n",
       "4  Нейфельд Галина\\nАнатолиевна приходит смс сооб...  корреспонденцию банка  \n",
       "5  ДД! Позвонил 3 лицо сказал что звонили с нашег...  корреспонденцию банка  \n",
       "6  ЗК возмущается в связи с тем что она не знала ...           обслуживание  \n",
       "7  Клиент Рысмагамбетов Назар Акбарович просит не...  корреспонденцию банка  \n",
       "8  Клиент утверждает что кредитный консультант не...     услугу \"страховку\"  \n",
       "9  Клиент жалуется на количество обслуживающего п...           обслуживание  "
      ]
     },
     "execution_count": 21,
     "metadata": {},
     "output_type": "execute_result"
    }
   ],
   "source": [
    "frameTest.head(10)"
   ]
  },
  {
   "cell_type": "code",
   "execution_count": 22,
   "metadata": {},
   "outputs": [],
   "source": [
    "#Сохраняем в файл\n",
    "frameTest.to_excel(os.path.join(OUT_DIR, \"complaints_test.xlsx\"), sheet_name='complaints_test')"
   ]
  }
 ],
 "metadata": {
  "kernelspec": {
   "display_name": "Python 3",
   "language": "python",
   "name": "python3"
  },
  "language_info": {
   "codemirror_mode": {
    "name": "ipython",
    "version": 3
   },
   "file_extension": ".py",
   "mimetype": "text/x-python",
   "name": "python",
   "nbconvert_exporter": "python",
   "pygments_lexer": "ipython3",
   "version": "3.7.6"
  }
 },
 "nbformat": 4,
 "nbformat_minor": 2
}
