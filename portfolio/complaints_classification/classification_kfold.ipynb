{
 "cells": [
  {
   "cell_type": "markdown",
   "metadata": {},
   "source": [
    "# Исследования по классификации текстовых данных"
   ]
  },
  {
   "cell_type": "markdown",
   "metadata": {},
   "source": [
    "## Этап 1 - Подготовка "
   ]
  },
  {
   "cell_type": "code",
   "execution_count": 1,
   "metadata": {},
   "outputs": [],
   "source": [
    "import os\n",
    "from pathlib import Path    "
   ]
  },
  {
   "cell_type": "code",
   "execution_count": 2,
   "metadata": {},
   "outputs": [],
   "source": [
    "DATA_DIR = Path(\"data\")\n",
    "if not DATA_DIR.exists():\n",
    "    raise Exception(\"Data directory '%s' not found\" % DATA_DIR.absolute())\n",
    "    \n",
    "OUT_DIR = Path(\"out_classification\")\n",
    "if not OUT_DIR.exists():\n",
    "    OUT_DIR.mkdir()"
   ]
  },
  {
   "cell_type": "code",
   "execution_count": 3,
   "metadata": {},
   "outputs": [],
   "source": [
    "import numpy as np\n",
    "import pandas as pd"
   ]
  },
  {
   "cell_type": "markdown",
   "metadata": {},
   "source": [
    "## Этап 2 - Загрузка данных"
   ]
  },
  {
   "cell_type": "code",
   "execution_count": 4,
   "metadata": {},
   "outputs": [],
   "source": [
    "complaints_file = os.path.join(DATA_DIR, \"complaints.xlsx\")\n",
    "\n",
    "raw_data = pd.read_excel(complaints_file, sheet_name=\"complaints\", index_col=None)"
   ]
  },
  {
   "cell_type": "code",
   "execution_count": 5,
   "metadata": {},
   "outputs": [
    {
     "data": {
      "text/html": [
       "<div>\n",
       "<style scoped>\n",
       "    .dataframe tbody tr th:only-of-type {\n",
       "        vertical-align: middle;\n",
       "    }\n",
       "\n",
       "    .dataframe tbody tr th {\n",
       "        vertical-align: top;\n",
       "    }\n",
       "\n",
       "    .dataframe thead th {\n",
       "        text-align: right;\n",
       "    }\n",
       "</style>\n",
       "<table border=\"1\" class=\"dataframe\">\n",
       "  <thead>\n",
       "    <tr style=\"text-align: right;\">\n",
       "      <th></th>\n",
       "      <th>ISSUENUM</th>\n",
       "      <th>TOPIC</th>\n",
       "      <th>UNDER_TOPIC</th>\n",
       "      <th>REPORTER</th>\n",
       "      <th>ASSIGNEE</th>\n",
       "      <th>CREATOR</th>\n",
       "      <th>STATUS_ISSUE</th>\n",
       "      <th>CREATED</th>\n",
       "      <th>UPDATED</th>\n",
       "      <th>RESOLUTIONDATE</th>\n",
       "      <th>...</th>\n",
       "      <th>FIO_CLIENT</th>\n",
       "      <th>IIN</th>\n",
       "      <th>TEXT_CONTRACT_NUMBER</th>\n",
       "      <th>PHONE_NUMBER</th>\n",
       "      <th>INF_CLIENT_RESPONDING</th>\n",
       "      <th>INCIDENT_REGION</th>\n",
       "      <th>INCIDENT_RESOLVED</th>\n",
       "      <th>FIO_GUILT_WORK</th>\n",
       "      <th>AUTHOR_REGION</th>\n",
       "      <th>AUTHOR_SUBDIVISIONS</th>\n",
       "    </tr>\n",
       "  </thead>\n",
       "  <tbody>\n",
       "    <tr>\n",
       "      <th>0</th>\n",
       "      <td>105578</td>\n",
       "      <td>ЖАЛОБА: на корреспонденцию банка</td>\n",
       "      <td>Cмс по предложениям Xsell</td>\n",
       "      <td>aoryntaeva</td>\n",
       "      <td>akalabaeva</td>\n",
       "      <td>aoryntaeva</td>\n",
       "      <td>Закрыта</td>\n",
       "      <td>2017-12-12 06:47:45</td>\n",
       "      <td>2017-12-12 12:02:50</td>\n",
       "      <td>2017-12-12 12:02:50</td>\n",
       "      <td>...</td>\n",
       "      <td>АҚЖИГИТОВ БЕЙБІТ КЕНЖЕБАЙҰЛЫ</td>\n",
       "      <td>910429301833</td>\n",
       "      <td>0</td>\n",
       "      <td>7776121291</td>\n",
       "      <td>NaN</td>\n",
       "      <td>0</td>\n",
       "      <td>Не требует создания проблемы</td>\n",
       "      <td>NaN</td>\n",
       "      <td>Алматы</td>\n",
       "      <td>Call-center</td>\n",
       "    </tr>\n",
       "    <tr>\n",
       "      <th>1</th>\n",
       "      <td>105582</td>\n",
       "      <td>ЖАЛОБА: на корреспонденцию банка</td>\n",
       "      <td>Cмс по предложениям Xsell</td>\n",
       "      <td>atusipova</td>\n",
       "      <td>akalabaeva</td>\n",
       "      <td>atusipova</td>\n",
       "      <td>Закрыта</td>\n",
       "      <td>2017-12-12 08:34:06</td>\n",
       "      <td>2017-12-12 15:41:16</td>\n",
       "      <td>2017-12-12 12:05:45</td>\n",
       "      <td>...</td>\n",
       "      <td>Тверитинова Анна Егоровна</td>\n",
       "      <td>761123400947</td>\n",
       "      <td>3708168706</td>\n",
       "      <td>87078452136 \\t</td>\n",
       "      <td>NaN</td>\n",
       "      <td>0</td>\n",
       "      <td>Не требует создания проблемы</td>\n",
       "      <td>NaN</td>\n",
       "      <td>NaN</td>\n",
       "      <td>Call-center</td>\n",
       "    </tr>\n",
       "    <tr>\n",
       "      <th>2</th>\n",
       "      <td>105604</td>\n",
       "      <td>ЖАЛОБА: на обслуживание</td>\n",
       "      <td>NaN</td>\n",
       "      <td>azhalgaeva</td>\n",
       "      <td>zissayev</td>\n",
       "      <td>azhalgaeva</td>\n",
       "      <td>Закрыта</td>\n",
       "      <td>2017-12-12 09:27:28</td>\n",
       "      <td>2017-12-21 09:10:29</td>\n",
       "      <td>2017-12-14 16:05:54</td>\n",
       "      <td>...</td>\n",
       "      <td>Дарипова Айгуль Сабыргалиевна</td>\n",
       "      <td>810420403003</td>\n",
       "      <td>0</td>\n",
       "      <td>7292250739</td>\n",
       "      <td>Не дозвон</td>\n",
       "      <td>Мангистауская область,Бейнеу,  ул. Ерконай, д. 1</td>\n",
       "      <td>Не требует создания проблемы</td>\n",
       "      <td>NaN</td>\n",
       "      <td>Актау</td>\n",
       "      <td>Call-center</td>\n",
       "    </tr>\n",
       "  </tbody>\n",
       "</table>\n",
       "<p>3 rows × 21 columns</p>\n",
       "</div>"
      ],
      "text/plain": [
       "   ISSUENUM                             TOPIC                UNDER_TOPIC  \\\n",
       "0    105578  ЖАЛОБА: на корреспонденцию банка  Cмс по предложениям Xsell   \n",
       "1    105582  ЖАЛОБА: на корреспонденцию банка  Cмс по предложениям Xsell   \n",
       "2    105604           ЖАЛОБА: на обслуживание                        NaN   \n",
       "\n",
       "     REPORTER    ASSIGNEE     CREATOR STATUS_ISSUE             CREATED  \\\n",
       "0  aoryntaeva  akalabaeva  aoryntaeva      Закрыта 2017-12-12 06:47:45   \n",
       "1   atusipova  akalabaeva   atusipova      Закрыта 2017-12-12 08:34:06   \n",
       "2  azhalgaeva    zissayev  azhalgaeva      Закрыта 2017-12-12 09:27:28   \n",
       "\n",
       "              UPDATED      RESOLUTIONDATE  ...                     FIO_CLIENT  \\\n",
       "0 2017-12-12 12:02:50 2017-12-12 12:02:50  ...   АҚЖИГИТОВ БЕЙБІТ КЕНЖЕБАЙҰЛЫ   \n",
       "1 2017-12-12 15:41:16 2017-12-12 12:05:45  ...      Тверитинова Анна Егоровна   \n",
       "2 2017-12-21 09:10:29 2017-12-14 16:05:54  ...  Дарипова Айгуль Сабыргалиевна   \n",
       "\n",
       "            IIN TEXT_CONTRACT_NUMBER    PHONE_NUMBER INF_CLIENT_RESPONDING  \\\n",
       "0  910429301833                    0      7776121291                   NaN   \n",
       "1  761123400947           3708168706  87078452136 \\t                   NaN   \n",
       "2  810420403003                    0      7292250739             Не дозвон   \n",
       "\n",
       "                                     INCIDENT_REGION  \\\n",
       "0                                                  0   \n",
       "1                                                  0   \n",
       "2   Мангистауская область,Бейнеу,  ул. Ерконай, д. 1   \n",
       "\n",
       "              INCIDENT_RESOLVED FIO_GUILT_WORK AUTHOR_REGION  \\\n",
       "0  Не требует создания проблемы            NaN        Алматы   \n",
       "1  Не требует создания проблемы            NaN           NaN   \n",
       "2  Не требует создания проблемы            NaN         Актау   \n",
       "\n",
       "  AUTHOR_SUBDIVISIONS  \n",
       "0         Call-center  \n",
       "1         Call-center  \n",
       "2         Call-center  \n",
       "\n",
       "[3 rows x 21 columns]"
      ]
     },
     "execution_count": 5,
     "metadata": {},
     "output_type": "execute_result"
    }
   ],
   "source": [
    "raw_data.head(3)"
   ]
  },
  {
   "cell_type": "code",
   "execution_count": 6,
   "metadata": {},
   "outputs": [
    {
     "name": "stdout",
     "output_type": "stream",
     "text": [
      "[i] Размерность сырых данных:  (22840, 21)\n"
     ]
    }
   ],
   "source": [
    "print(\"[i] Размерность сырых данных: \", raw_data.shape)"
   ]
  },
  {
   "cell_type": "markdown",
   "metadata": {},
   "source": [
    "## Этап 3 - Отбор признаков"
   ]
  },
  {
   "cell_type": "code",
   "execution_count": 7,
   "metadata": {},
   "outputs": [
    {
     "name": "stdout",
     "output_type": "stream",
     "text": [
      "[i] : Информация о данных\n",
      "<class 'pandas.core.frame.DataFrame'>\n",
      "RangeIndex: 22840 entries, 0 to 22839\n",
      "Data columns (total 3 columns):\n",
      " #   Column       Non-Null Count  Dtype \n",
      "---  ------       --------------  ----- \n",
      " 0   ISSUENUM     22840 non-null  int64 \n",
      " 1   TOPIC        22805 non-null  object\n",
      " 2   DESCRIPTION  22839 non-null  object\n",
      "dtypes: int64(1), object(2)\n",
      "memory usage: 535.4+ KB\n"
     ]
    }
   ],
   "source": [
    "valuable_columns = [\"ISSUENUM\", \"TOPIC\", \"DESCRIPTION\"]\n",
    "raw_data = raw_data[valuable_columns] # Для исследования ограничимся ID 'ISSUENUM', меткой 'TOPIC' и содержанием 'DESCRIPTION'\n",
    "\n",
    "print(\"[i] : Информация о данных\")\n",
    "raw_data.info() # Информация о данных"
   ]
  },
  {
   "cell_type": "code",
   "execution_count": 8,
   "metadata": {},
   "outputs": [
    {
     "data": {
      "text/html": [
       "<div>\n",
       "<style scoped>\n",
       "    .dataframe tbody tr th:only-of-type {\n",
       "        vertical-align: middle;\n",
       "    }\n",
       "\n",
       "    .dataframe tbody tr th {\n",
       "        vertical-align: top;\n",
       "    }\n",
       "\n",
       "    .dataframe thead th {\n",
       "        text-align: right;\n",
       "    }\n",
       "</style>\n",
       "<table border=\"1\" class=\"dataframe\">\n",
       "  <thead>\n",
       "    <tr style=\"text-align: right;\">\n",
       "      <th></th>\n",
       "      <th>ISSUENUM</th>\n",
       "      <th>TOPIC</th>\n",
       "      <th>DESCRIPTION</th>\n",
       "    </tr>\n",
       "  </thead>\n",
       "  <tbody>\n",
       "    <tr>\n",
       "      <th>0</th>\n",
       "      <td>105578</td>\n",
       "      <td>ЖАЛОБА: на корреспонденцию банка</td>\n",
       "      <td>Клиент просит чтобы банк не отправлял смс о сп...</td>\n",
       "    </tr>\n",
       "    <tr>\n",
       "      <th>1</th>\n",
       "      <td>105582</td>\n",
       "      <td>ЖАЛОБА: на корреспонденцию банка</td>\n",
       "      <td>ДД.\\nПри оформлении кредита клиент предоставил...</td>\n",
       "    </tr>\n",
       "    <tr>\n",
       "      <th>2</th>\n",
       "      <td>105604</td>\n",
       "      <td>ЖАЛОБА: на обслуживание</td>\n",
       "      <td>Дарипова Айгуль Сабыргалиевна жалуется на мене...</td>\n",
       "    </tr>\n",
       "  </tbody>\n",
       "</table>\n",
       "</div>"
      ],
      "text/plain": [
       "   ISSUENUM                             TOPIC  \\\n",
       "0    105578  ЖАЛОБА: на корреспонденцию банка   \n",
       "1    105582  ЖАЛОБА: на корреспонденцию банка   \n",
       "2    105604           ЖАЛОБА: на обслуживание   \n",
       "\n",
       "                                         DESCRIPTION  \n",
       "0  Клиент просит чтобы банк не отправлял смс о сп...  \n",
       "1  ДД.\\nПри оформлении кредита клиент предоставил...  \n",
       "2  Дарипова Айгуль Сабыргалиевна жалуется на мене...  "
      ]
     },
     "execution_count": 8,
     "metadata": {},
     "output_type": "execute_result"
    }
   ],
   "source": [
    "raw_data.head(3)"
   ]
  },
  {
   "cell_type": "markdown",
   "metadata": {},
   "source": [
    "## Этап 4 - Проверка на дубли и удаление строк с отсутствующими данными"
   ]
  },
  {
   "cell_type": "code",
   "execution_count": 9,
   "metadata": {},
   "outputs": [
    {
     "name": "stdout",
     "output_type": "stream",
     "text": [
      "[i] Количество дублей идентификаторов:  0\n"
     ]
    }
   ],
   "source": [
    "duplicated = raw_data.loc[raw_data.duplicated(subset=['ISSUENUM'], keep=False)]\n",
    "print(\"[i] Количество дублей идентификаторов: \", duplicated['ISSUENUM'].count())"
   ]
  },
  {
   "cell_type": "code",
   "execution_count": 10,
   "metadata": {},
   "outputs": [
    {
     "name": "stdout",
     "output_type": "stream",
     "text": [
      "[i] Размерность после удаления пустых (22804, 3)\n"
     ]
    }
   ],
   "source": [
    "raw_data = raw_data.dropna(subset=['TOPIC', 'DESCRIPTION']) # Удаляем строки с пустыми значениями в столбцах 'TOPIC' и 'DESCRIPTION'\n",
    "\n",
    "print(\"[i] Размерность после удаления пустых\", raw_data.shape)"
   ]
  },
  {
   "cell_type": "markdown",
   "metadata": {},
   "source": [
    "## Этап 5 - Отбор \"нужных\" обращений"
   ]
  },
  {
   "cell_type": "code",
   "execution_count": 11,
   "metadata": {},
   "outputs": [
    {
     "name": "stdout",
     "output_type": "stream",
     "text": [
      "[i] Размерность данных с Жалобами (19415, 3)\n"
     ]
    }
   ],
   "source": [
    "#Отберем только строки, содержащие жалобы, в которых столбец 'TOPIC' содержит различные сочетания слова \"жалоба\"\n",
    "raw_data = raw_data[(raw_data.TOPIC.str.contains(\"ЖАЛОБА: \") |\n",
    "                     raw_data.TOPIC.str.contains(\"Жалоба на \") |\n",
    "                     raw_data.TOPIC.str.contains(\"Жалобы на \"))] #, na=False\n",
    "\n",
    "print(\"[i] Размерность данных с Жалобами\", raw_data.shape)"
   ]
  },
  {
   "cell_type": "markdown",
   "metadata": {},
   "source": [
    "## Этап 6 - Очистка меток от \"мусора\""
   ]
  },
  {
   "cell_type": "code",
   "execution_count": 12,
   "metadata": {},
   "outputs": [],
   "source": [
    "import re"
   ]
  },
  {
   "cell_type": "code",
   "execution_count": 13,
   "metadata": {},
   "outputs": [],
   "source": [
    "def label_cleaner(text):\n",
    "        \n",
    "    text = re.sub( r'ЖАЛОБА: на ', '', text) # Убрать из темы словосочетания 'ЖАЛОБА: на ',\n",
    "    text = re.sub( r'ЖАЛОБА: ', '', text) # 'ЖАЛОБА: ',\n",
    "    text = re.sub( r'Жалоба на ', '', text) # 'Жалоба на ',\n",
    "    text = re.sub( r'Жалобы на ', '', text) # 'Жалобы на '\n",
    "    \n",
    "    text = str.strip(text.lower()) #Переводим в нижний регистр и убираем пробелы в начале и конце\n",
    "    return  text"
   ]
  },
  {
   "cell_type": "code",
   "execution_count": 14,
   "metadata": {},
   "outputs": [
    {
     "name": "stdout",
     "output_type": "stream",
     "text": [
      "[i] Количество категорий (меток): 9\n",
      "[i] Множество категорий (меток):\n",
      "{'не согласие с условиями договора, %%, задолженностью, штрафами, тарифами и комиссиями', 'услугу \"страховку\"', 'го/филиал/отделения/микроофисы/тт', 'услугу \"защита семьи\"', 'обслуживание', 'корреспонденцию банка', 'обслуживание в терминалах', 'услугу \"хранитель\"', 'карточные продукты'}\n"
     ]
    }
   ],
   "source": [
    "raw_data[\"TOPIC\"] = [label_cleaner(t) for t in raw_data[\"TOPIC\"]] # Почистим метки от \"мусора\"\n",
    "\n",
    "print(\"[i] Количество категорий (меток):\", len(set(raw_data[\"TOPIC\"])))\n",
    "print(\"[i] Множество категорий (меток):\")\n",
    "print(set(raw_data[\"TOPIC\"]))"
   ]
  },
  {
   "cell_type": "markdown",
   "metadata": {},
   "source": [
    "## Этап 7 - Препроцессинг"
   ]
  },
  {
   "cell_type": "code",
   "execution_count": 15,
   "metadata": {},
   "outputs": [],
   "source": [
    "from nltk.stem.snowball import SnowballStemmer"
   ]
  },
  {
   "cell_type": "code",
   "execution_count": 16,
   "metadata": {},
   "outputs": [
    {
     "data": {
      "text/plain": [
       "0     клиент прос чтоб банк   отправля смс  спец пре...\n",
       "1     дд. при оформлен кредит клиент предостав телеф...\n",
       "2     дарипов айгул сабыргалиевн жал   менеджер банк...\n",
       "3     добр день! клиент жалуется, что специалист гру...\n",
       "4     клиент жал     что  лиц отправля смс сообщен ч...\n",
       "5                                          остаток сумм\n",
       "6     добр день! клиент оформ денежн кредит. менедже...\n",
       "7                                              олрробро\n",
       "12    при оформлен клиент был сказано, что ест акц п...\n",
       "13    добр день! клиент прос   беспоко   счет спец. ...\n",
       "14    дд! клиент   довол тем, чтоб получ справк необ...\n",
       "15    добр день!!! клиент амирбек абза был возмущ от...\n",
       "16                       кк.   предостав никак информац\n",
       "17     digit    дан номер приход смс   им эдуард мур...\n",
       "18    клиент жал   менеджер так как при оформлен тов...\n",
       "20    клиент прос больш   присыла смс собщен спредло...\n",
       "21    клиент прос больш   зван   этот номер   говар ...\n",
       "22    инцидент произошел   город актоб тд мечт  digi...\n",
       "23    кли прос что бы болш ем   отправля смс уведомл...\n",
       "24    дд. клиент звон  банк  предложен оформ кредит....\n",
       "25    добр день! клиент оформ кред   сумм  digit . о...\n",
       "26    клиент оформ кред   отделен банк   мрк жадыр с...\n",
       "28    клиент жал   услов банка, что сумм рефинансиро...\n",
       "29    клиент оформ    месяц      сказа что последн о...\n",
       "30    куаныш   номер  digit  поступа звонк периодиче...\n",
       "31    добр день! клиент жал   кк бочаровуюл игоревну...\n",
       "32               клиент   заинтересова   беспоко клиент\n",
       "33      номер  digit  приход смс   им салим ризабеко...\n",
       "34    звон кажд месяц   номер  digit   наш банка, на...\n",
       "35    клиент жал   повод тог что клиент звон   напом...\n",
       "36    клиент жал что ем звон  банк хоум кред  предло...\n",
       "37    молод человек прос   отправля смс уведомлен   ...\n",
       "38    алдаберген куаныш манасович прос удал номер те...\n",
       "39    клиентк позвон   колл центр ран    сказа сумму...\n",
       "40    добр день!!! клиент ахметов айда амиргазыевн з...\n",
       "41    концеевич евген петровн   номер  digit  звон  ...\n",
       "42    клиент   приход смс уведомлен напоминан   пово...\n",
       "43    клиент жалует что позвон  отдел взыскание.   о...\n",
       "44    фи изимов ас ибраевнаиин 760927402713договор 3...\n",
       "46    добр день!! информац   кредит тулепов молдир з...\n",
       "47    клиент   имен кушкар амангельд абдуллиевич жал...\n",
       "48    специалист   депозитн модул зекенов айнур отка...\n",
       "49    дв! клиент утвержда что    уведом  коммис един...\n",
       "50      слов клиент он оформ денежн кред    digit   ...\n",
       "51    при оформлен кредит кк взял  клиент  digit  тг...\n",
       "52         номер клиент приход смс-предложен   чуж имя.\n",
       "53    клиент обрат   отделен банк . караганд   адрес...\n",
       "54    здравствуйте. клиент пода заявк для получен бе...\n",
       "56    клиент жал    , что   город шымкент   ул аскар...\n",
       "57    менеджер неправильн рассчита сумм кредита,    ...\n",
       "Name: DESCRIPTION, dtype: object"
      ]
     },
     "execution_count": 16,
     "metadata": {},
     "output_type": "execute_result"
    }
   ],
   "source": [
    "#Пишем свой препроцессор (preprocessor)\n",
    "def text_cleaner(text):\n",
    "    text = text.lower() # приведение в lowercase,\n",
    "    \n",
    "    stemmer = SnowballStemmer(\"russian\")\n",
    "    singles = [stemmer.stem(word) for word in text.split()]\n",
    "    text = ' '.join(singles)\n",
    "\n",
    "    #Удаление незначимых слов\n",
    "    stw = ['в', 'по', 'на', 'из', 'и', 'или', 'не', 'но', 'за', 'над', 'под', 'то',\n",
    "           'a', 'at', 'on', 'of', 'and', 'or', 'in', 'for', 'at' ]\n",
    "    remove = r'\\b(' + '|'.join(stw) + r')\\b'\n",
    "    text = re.sub(remove,' ', text)\n",
    "    \n",
    "    text = re.sub( r'\\b\\w\\b', '', text ) # удаление отдельно стоящих букв\n",
    "\n",
    "    text = re.sub( r'\\b\\d+\\b', ' digit ', text ) # замена цифр \n",
    "\n",
    "    return  text\n",
    "\n",
    "raw_data[\"DESCRIPTION\"] = [text_cleaner(t) for t in raw_data[\"DESCRIPTION\"]]\n",
    "raw_data[\"DESCRIPTION\"].head(50)"
   ]
  },
  {
   "cell_type": "markdown",
   "metadata": {},
   "source": [
    "## Этап 8 - подготовка классификатора "
   ]
  },
  {
   "cell_type": "code",
   "execution_count": 17,
   "metadata": {},
   "outputs": [],
   "source": [
    "from sklearn.model_selection import KFold"
   ]
  },
  {
   "cell_type": "code",
   "execution_count": 18,
   "metadata": {},
   "outputs": [],
   "source": [
    "N_FOLDS = 5\n",
    "cv = KFold(n_splits=N_FOLDS, shuffle=True, random_state=0)"
   ]
  },
  {
   "cell_type": "code",
   "execution_count": 19,
   "metadata": {},
   "outputs": [
    {
     "name": "stdout",
     "output_type": "stream",
     "text": [
      "[i] Версия scikit-learn:  0.22.1\n"
     ]
    }
   ],
   "source": [
    "#Проверим версию scikit-learn:\n",
    "import sklearn\n",
    "print('[i] Версия scikit-learn: ', sklearn.__version__)"
   ]
  },
  {
   "cell_type": "code",
   "execution_count": 20,
   "metadata": {
    "scrolled": true
   },
   "outputs": [],
   "source": [
    "from sklearn.feature_extraction.text import TfidfVectorizer\n",
    "from sklearn.linear_model import SGDClassifier\n",
    "from sklearn.pipeline import Pipeline"
   ]
  },
  {
   "cell_type": "code",
   "execution_count": 21,
   "metadata": {},
   "outputs": [
    {
     "name": "stdout",
     "output_type": "stream",
     "text": [
      "TfidfVectorizer(analyzer='word', binary=False, decode_error='strict',\n",
      "                dtype=<class 'numpy.float64'>, encoding='utf-8',\n",
      "                input='content', lowercase=True, max_df=1.0, max_features=None,\n",
      "                min_df=1, ngram_range=(1, 1), norm='l2', preprocessor=None,\n",
      "                smooth_idf=True, stop_words=None, strip_accents=None,\n",
      "                sublinear_tf=False, token_pattern='(?u)\\\\b\\\\w\\\\w+\\\\b',\n",
      "                tokenizer=None, use_idf=True, vocabulary=None)\n",
      "\n",
      "\n",
      "SGDClassifier(alpha=0.0001, average=False, class_weight=None,\n",
      "              early_stopping=False, epsilon=0.1, eta0=0.0, fit_intercept=True,\n",
      "              l1_ratio=0.15, learning_rate='optimal', loss='hinge',\n",
      "              max_iter=1000, n_iter_no_change=5, n_jobs=None, penalty='l2',\n",
      "              power_t=0.5, random_state=None, shuffle=True, tol=0.0001,\n",
      "              validation_fraction=0.1, verbose=0, warm_start=False)\n"
     ]
    }
   ],
   "source": [
    "vectorizer = TfidfVectorizer() # preprocessor=text_cleaner\n",
    "print(vectorizer)\n",
    "print(\"\\n\")\n",
    "classifier = SGDClassifier(loss='hinge', tol=0.0001) #, max_iter=20, tol=0.0001, verbose = 1\n",
    "print(classifier)"
   ]
  },
  {
   "cell_type": "markdown",
   "metadata": {},
   "source": [
    "## Этап 9 - Обучение классификатора и тестирование"
   ]
  },
  {
   "cell_type": "code",
   "execution_count": 22,
   "metadata": {},
   "outputs": [
    {
     "name": "stdout",
     "output_type": "stream",
     "text": [
      "[i] Обучение классификатора...\n",
      "[i] Тестирование...\n",
      "[i] accuracy train:  0.9014936904455318\n",
      "[i] accuracy test:  0.8524336852948751\n",
      "[i] accuracy train:  0.9026525882049962\n",
      "[i] accuracy test:  0.8570692763327324\n",
      "[i] accuracy train:  0.9043909348441926\n",
      "[i] accuracy test:  0.8423899047128509\n",
      "[i] accuracy train:  0.9019443729075457\n",
      "[i] accuracy test:  0.8609322688642802\n",
      "[i] accuracy train:  0.9027169714138553\n",
      "[i] accuracy test:  0.8529487509657482\n",
      "[i] средняя точность на тренировочной выборке: 0.9026397115632243\n",
      "[i] средняя точность на тестовой выборке: 0.8531547772340973\n"
     ]
    }
   ],
   "source": [
    "from sklearn.metrics import accuracy_score\n",
    "print(\"[i] Обучение классификатора...\")\n",
    "\n",
    "text_clf = Pipeline([\n",
    "                ('tfidf', vectorizer),\n",
    "                ('clf', classifier),\n",
    "                ])\n",
    "\n",
    "print(\"[i] Тестирование...\")\n",
    "scores_train = []\n",
    "scores_test = []\n",
    "\n",
    "X = raw_data['DESCRIPTION'].to_list()\n",
    "Y = raw_data['TOPIC'].to_list()\n",
    "\n",
    "for train, test in cv.split(X, Y):\n",
    "    X_train = [X[i] for i in train]\n",
    "    Y_train = [Y[i] for i in train]\n",
    "    X_test = [X[i] for i in test]\n",
    "    Y_test = [Y[i] for i in test]\n",
    "    \n",
    "    text_clf.fit(X_train, Y_train)\n",
    "    \n",
    "    predicted_train = text_clf.predict(X_train)\n",
    "    score = accuracy_score(Y_train, predicted_train)\n",
    "    print(\"[i] accuracy train: \",  score)\n",
    "    scores_train.append(score)\n",
    "    \n",
    "    predicted_test = text_clf.predict(X_test)\n",
    "    score = accuracy_score(Y_test , predicted_test)\n",
    "    print(\"[i] accuracy test: \", score)\n",
    "    scores_test.append(score)\n",
    "    \n",
    "print(\"[i] средняя точность на тренировочной выборке:\", np.mean(scores_train))\n",
    "print(\"[i] средняя точность на тестовой выборке:\", np.mean(scores_test))"
   ]
  }
 ],
 "metadata": {
  "kernelspec": {
   "display_name": "Python 3",
   "language": "python",
   "name": "python3"
  },
  "language_info": {
   "codemirror_mode": {
    "name": "ipython",
    "version": 3
   },
   "file_extension": ".py",
   "mimetype": "text/x-python",
   "name": "python",
   "nbconvert_exporter": "python",
   "pygments_lexer": "ipython3",
   "version": "3.7.3"
  }
 },
 "nbformat": 4,
 "nbformat_minor": 2
}
