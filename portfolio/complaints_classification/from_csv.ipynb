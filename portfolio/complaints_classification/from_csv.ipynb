{
 "cells": [
  {
   "cell_type": "code",
   "execution_count": 1,
   "metadata": {},
   "outputs": [],
   "source": [
    "import numpy as np\n",
    "import pandas as pd\n",
    "#import sqlite3 as sq\n",
    "import re\n",
    "from nltk.stem.snowball import SnowballStemmer\n",
    "from sklearn.feature_extraction.text import TfidfVectorizer\n",
    "from sklearn.linear_model import SGDClassifier\n",
    "from sklearn.pipeline import Pipeline\n",
    "from sklearn.metrics import accuracy_score"
   ]
  },
  {
   "cell_type": "code",
   "execution_count": 2,
   "metadata": {},
   "outputs": [],
   "source": [
    "def label_cleaner(text):\n",
    "        \n",
    "    text = re.sub( r'ЖАЛОБА: на ', '', text) # Убрать из темы словосочетания 'ЖАЛОБА: на ',\n",
    "    text = re.sub( r'ЖАЛОБА: ', '', text) # 'ЖАЛОБА: ',\n",
    "    text = re.sub( r'Жалоба на ', '', text) # замена слов 'ЖАЛОБА: на '\n",
    "    text = re.sub( r'Жалобы на ', '', text) # замена слов 'ЖАЛОБА: на '\n",
    "    \n",
    "    #stw = ['ЖАЛОБА: ', 'ЖАЛОБА: на', 'Жалоба на', 'Жалобы на']\n",
    "    #remove = r'('+'|'.join(stw)+')'\n",
    "    ##remove = r'\\b('+'|'.join(stw)+')\\\\b'\n",
    "    #text = re.sub(remove, '', text)    \n",
    "\n",
    "    text = str.strip(text.lower())\n",
    "    return  text\n",
    "\n",
    "def text_cleaner(text):\n",
    "    text = text.lower() # приведение в lowercase,\n",
    "    \n",
    "    text = re.sub( r'https?://[\\S]+', ' url ', text) # замена интернет ссылок\n",
    "    text = re.sub( r'[\\w\\./]+\\.[a-z]+', ' url ', text) \n",
    " \n",
    "    # text = re.sub( r'\\d+[-/\\.]\\d+[-/\\.]\\d+', ' date ', text) # замена даты и времени\n",
    "    # text = re.sub( r'\\d+ ?гг?', ' date ', text) \n",
    "    # text = re.sub( r'\\d+:\\d+(:\\d+)?', ' time ', text) \n",
    "\n",
    "    # text = re.sub( r'@\\w+', ' tname ', text ) # замена имён twiter\n",
    "    # text = re.sub( r'#\\w+', ' htag ', text ) # замена хештегов\n",
    "\n",
    "    text = re.sub( r'<[^>]*>', ' ', text) # удаление html тагов\n",
    "    text = re.sub( r'[\\W]+', ' ', text ) # удаление лишних символов\n",
    "\n",
    "    stemmer = SnowballStemmer(\"russian\")\n",
    "    singles = [stemmer.stem(word) for word in text.split()]\n",
    "    text = ' '.join(singles)\n",
    "\n",
    "    # stw = ['в', 'по', 'на', 'из', 'и', 'или', 'не', 'но', 'за', 'над', 'под', 'то',\n",
    "    #        'a', 'at', 'on', 'of', 'and', 'or', 'in', 'for', 'at' ]\n",
    "    # remove = r'\\b('+'|'.join(stw)+')\\b'\n",
    "    # text = re.sub(remove,' ', text)\n",
    "    \n",
    "    # text = re.sub( r'\\b\\w\\b', ' ', text ) # удаление отдельно стоящих букв\n",
    "\n",
    "    text = re.sub( r'\\b\\d+\\b', ' digit ', text ) # замена цифр \n",
    "\n",
    "    return  text\n",
    "\n",
    "def train_test_split( data, validation_split = 0.2):\n",
    "    dict_data = data.to_dict('list')\n",
    "    sz = len(dict_data['TOPIC'])\n",
    "    indices = np.arange(sz)\n",
    "    np.random.shuffle(indices)\n",
    "\n",
    "    X = [ dict_data['DESCRIPTION'][i] for i in indices ]\n",
    "    Y = [ dict_data['TOPIC'][i] for i in indices ]\n",
    "    nb_validation_samples = int( validation_split * sz )\n",
    "\n",
    "    return { \n",
    "        'train': { 'x': X[:-nb_validation_samples], 'y': Y[:-nb_validation_samples]  },\n",
    "        'test': { 'x': X[-nb_validation_samples:], 'y': Y[-nb_validation_samples:]  }\n",
    "    }"
   ]
  },
  {
   "cell_type": "code",
   "execution_count": 3,
   "metadata": {},
   "outputs": [
    {
     "name": "stdout",
     "output_type": "stream",
     "text": [
      "(22840, 21)\n"
     ]
    }
   ],
   "source": [
    "#Loading data\n",
    "raw_data = pd.read_csv('complaints.csv', header = 0, sep = ';')\n",
    "#raw_data.info()\n",
    "#raw_data.head()\n",
    "print(raw_data.shape)"
   ]
  },
  {
   "cell_type": "code",
   "execution_count": 4,
   "metadata": {},
   "outputs": [
    {
     "name": "stdout",
     "output_type": "stream",
     "text": [
      "(22805, 2)\n",
      "(19415, 2)\n",
      "\tколичество исходных категорий: 9\n",
      "{'услугу \"страховку\"', 'корреспонденцию банка', 'обслуживание', 'карточные продукты', 'услугу \"хранитель\"', 'обслуживание в терминалах', 'услугу \"защита семьи\"', 'не согласие с условиями договора, %%, задолженностью, штрафами, тарифами и комиссиями', 'го/филиал/отделения/микроофисы/тт'}\n"
     ]
    }
   ],
   "source": [
    "#Preprocessing\n",
    "valuable_columns = [\"TOPIC\", \"DESCRIPTION\"]\n",
    "raw_data = raw_data[valuable_columns]\n",
    "raw_data = raw_data.dropna(subset=['TOPIC']) \n",
    "\n",
    "print(raw_data.shape)\n",
    "\n",
    "raw_data = raw_data[(raw_data.TOPIC.str.contains(\"ЖАЛОБА: \") |\n",
    "                     raw_data.TOPIC.str.contains(\"Жалоба на \") |\n",
    "                     raw_data.TOPIC.str.contains(\"Жалобы на \"))] #, na=False\n",
    "\n",
    "print(raw_data.shape)\n",
    "\n",
    "raw_data[\"TOPIC\"] = [ label_cleaner(t) for t in raw_data[\"TOPIC\"]]\n",
    "\n",
    "print(\"\\tколичество исходных категорий:\", len(set(raw_data[\"TOPIC\"])))\n",
    "print(set(raw_data[\"TOPIC\"]))"
   ]
  },
  {
   "cell_type": "code",
   "execution_count": 5,
   "metadata": {},
   "outputs": [
    {
     "name": "stdout",
     "output_type": "stream",
     "text": [
      "\tразмер тестовой выборки: 5824\n",
      "\tразмер тренировочной выборки: 13591\n"
     ]
    }
   ],
   "source": [
    "#Splitting to train and test\n",
    "D = train_test_split(raw_data, 0.3)\n",
    "\n",
    "print(\"\\tразмер тестовой выборки:\", len(D['test'] ['y']))\n",
    "print(\"\\tразмер тренировочной выборки:\", len(D['train'] ['y']))"
   ]
  },
  {
   "cell_type": "code",
   "execution_count": 6,
   "metadata": {},
   "outputs": [
    {
     "name": "stdout",
     "output_type": "stream",
     "text": [
      "[i] обучение классификатора...\n",
      "[i] обучение завершено!\n"
     ]
    },
    {
     "name": "stderr",
     "output_type": "stream",
     "text": [
      "C:\\Anaconda3\\lib\\site-packages\\sklearn\\linear_model\\stochastic_gradient.py:166: FutureWarning: max_iter and tol parameters have been added in SGDClassifier in 0.19. If both are left unset, they default to max_iter=5 and tol=None. If tol is not None, max_iter defaults to max_iter=1000. From 0.21, default max_iter will be 1000, and default tol will be 1e-3.\n",
      "  FutureWarning)\n"
     ]
    }
   ],
   "source": [
    "#Learnming a classificator\n",
    "print(\"[i] обучение классификатора...\")\n",
    "\n",
    "    # text_clf = Pipeline([\n",
    "    #                ('hashvect', HashingVectorizer() ),\n",
    "    #                ('tfidf', TfidfTransformer(use_idf=False )),\n",
    "    #                ('clf', SGDClassifier(loss='hinge')),\n",
    "    #                ])\n",
    "    #\n",
    "    # text_clf = Pipeline([\n",
    "    #                ('covect', CountVectorizer() ),\n",
    "    #                ('tfidf', TfidfTransformer(preprocessor=text_cleaner,use_idf=False )),\n",
    "    #                ('clf', SGDClassifier(loss='hinge')),\n",
    "    #                ])\n",
    "\n",
    "\n",
    "text_clf = Pipeline([\n",
    "                ('tfidf', TfidfVectorizer()),\n",
    "                ('clf', SGDClassifier(loss='hinge')),\n",
    "                ])\n",
    "\n",
    "text_clf.fit(D['train']['x'], D['train']['y'])\n",
    "\n",
    "print(\"[i] обучение завершено!\")"
   ]
  },
  {
   "cell_type": "code",
   "execution_count": 7,
   "metadata": {},
   "outputs": [
    {
     "name": "stdout",
     "output_type": "stream",
     "text": [
      "[i] тестируем...\n",
      "\taccuracy train:  0.9172982120520933\n",
      "\taccuracy test:  0.8480425824175825\n"
     ]
    }
   ],
   "source": [
    "#Testing and checking results\n",
    "print(\"[i] тестируем...\")\n",
    "\n",
    "predicted = text_clf.predict( D['train']['x'] )\n",
    "print(\"\\taccuracy train: \", accuracy_score(  D['train']['y'] , predicted) )\n",
    "    \n",
    "predicted = text_clf.predict( D['test']['x'] )\n",
    "print(\"\\taccuracy test: \", accuracy_score(  D['test']['y'] , predicted) )"
   ]
  },
  {
   "cell_type": "code",
   "execution_count": 12,
   "metadata": {},
   "outputs": [],
   "source": [
    "frame = pd.DataFrame({'cat': D['train']['y'], 'cont': D['train']['x']})"
   ]
  },
  {
   "cell_type": "code",
   "execution_count": 13,
   "metadata": {},
   "outputs": [
    {
     "name": "stdout",
     "output_type": "stream",
     "text": [
      "(13591, 2)\n"
     ]
    }
   ],
   "source": [
    "print(frame.shape)"
   ]
  },
  {
   "cell_type": "code",
   "execution_count": 14,
   "metadata": {},
   "outputs": [],
   "source": [
    "frame['pred'] = text_clf.predict( D['train']['x'] ).tolist()"
   ]
  },
  {
   "cell_type": "code",
   "execution_count": 15,
   "metadata": {},
   "outputs": [
    {
     "name": "stdout",
     "output_type": "stream",
     "text": [
      "(13591, 3)\n"
     ]
    }
   ],
   "source": [
    "print(frame.shape)"
   ]
  },
  {
   "cell_type": "code",
   "execution_count": 16,
   "metadata": {},
   "outputs": [
    {
     "name": "stdout",
     "output_type": "stream",
     "text": [
      "                                                     cat  \\\n",
      "0                                  корреспонденцию банка   \n",
      "1                                  корреспонденцию банка   \n",
      "2                                  корреспонденцию банка   \n",
      "3                                  корреспонденцию банка   \n",
      "4                                  корреспонденцию банка   \n",
      "5                                           обслуживание   \n",
      "6                                  корреспонденцию банка   \n",
      "7                                           обслуживание   \n",
      "8                                           обслуживание   \n",
      "9                                  корреспонденцию банка   \n",
      "10                                          обслуживание   \n",
      "11                                          обслуживание   \n",
      "12                                          обслуживание   \n",
      "13                                          обслуживание   \n",
      "14                                    услугу \"страховку\"   \n",
      "15                                 корреспонденцию банка   \n",
      "16                                 корреспонденцию банка   \n",
      "17                                 корреспонденцию банка   \n",
      "18                                          обслуживание   \n",
      "19                                          обслуживание   \n",
      "20                                 корреспонденцию банка   \n",
      "21     не согласие с условиями договора, %%, задолжен...   \n",
      "22                                    услугу \"хранитель\"   \n",
      "23                                          обслуживание   \n",
      "24                                 корреспонденцию банка   \n",
      "25                                 корреспонденцию банка   \n",
      "26                                 корреспонденцию банка   \n",
      "27                                 корреспонденцию банка   \n",
      "28                                          обслуживание   \n",
      "29                                    услугу \"страховку\"   \n",
      "...                                                  ...   \n",
      "13561                              корреспонденцию банка   \n",
      "13562                              корреспонденцию банка   \n",
      "13563                                       обслуживание   \n",
      "13564                                       обслуживание   \n",
      "13565                                       обслуживание   \n",
      "13566                              корреспонденцию банка   \n",
      "13567                              корреспонденцию банка   \n",
      "13568  не согласие с условиями договора, %%, задолжен...   \n",
      "13569                                       обслуживание   \n",
      "13570                                       обслуживание   \n",
      "13571                              корреспонденцию банка   \n",
      "13572  не согласие с условиями договора, %%, задолжен...   \n",
      "13573                                       обслуживание   \n",
      "13574                                 услугу \"страховку\"   \n",
      "13575                              корреспонденцию банка   \n",
      "13576                                       обслуживание   \n",
      "13577                              корреспонденцию банка   \n",
      "13578                              корреспонденцию банка   \n",
      "13579                                       обслуживание   \n",
      "13580                                       обслуживание   \n",
      "13581                                       обслуживание   \n",
      "13582                                 карточные продукты   \n",
      "13583                              корреспонденцию банка   \n",
      "13584                                       обслуживание   \n",
      "13585                              корреспонденцию банка   \n",
      "13586                                 услугу \"страховку\"   \n",
      "13587                                       обслуживание   \n",
      "13588                              корреспонденцию банка   \n",
      "13589                                       обслуживание   \n",
      "13590                              корреспонденцию банка   \n",
      "\n",
      "                                                    cont  \\\n",
      "0      клиент утверждает что каждый день получает смс...   \n",
      "1      Доброе утро!\\nКлиент оформил товарный КРЕДИТ. ...   \n",
      "2      Здравствуйте! Клиент звонит, говорит что звоня...   \n",
      "3      Клиент недавно оформил кредит в нашем банке и ...   \n",
      "4      Добрый день ! Клиент получил смс уведомление н...   \n",
      "5      \\n\\nЕсенгалиева Айгул\\nМагауовна\\n\\n8701213050...   \n",
      "6      Добрый день!\\nКлиенту и родным, 3 лицам отправ...   \n",
      "7      Описание: Клиент обратился в колл-центр и хоте...   \n",
      "8      Клиент жалуется, что не может закрыть кредит д...   \n",
      "9      клиент просит больше не беспокоить, просит не ...   \n",
      "10     Жалоба на оператора онлайн кредитования. Опера...   \n",
      "11     ДД!!!Клиент жалуется на обслуживание в городе ...   \n",
      "12     Клиент жалуется ,что менеджер не правитльно об...   \n",
      "13     Добрый день! Клиент жалуется на обслуживание м...   \n",
      "14     По словам клиента, менджер навязал ФЗ. Клиент ...   \n",
      "15     Клиенту нашего банка звонят с нашего банка на ...   \n",
      "16     Добрый день! Клиент Кусманова Анара Тургалиевн...   \n",
      "17     961124301470  просьба не беспокоить клиента сп...   \n",
      "18     оператор не проконсультировал полностью клиент...   \n",
      "19     Курманбекова Балжан Майлыбековна Клиент по дог...   \n",
      "20     Клиент просит не звонить на домашний номер 80(...   \n",
      "21     Клиент Есенкулов Динмухаммед Едильулы КД№38033...   \n",
      "22     Описание: Клиент жалуется на МРК\\КК,  при офор...   \n",
      "23     Клиент СУДНЕНКО МИХАИЛ ВИТАЛЬЕВИЧ позвонил 09:...   \n",
      "24     Клиент Майлыбай Сағындық Құнанбайұлы просит по...   \n",
      "25     Третье лицо просит больше не отправлять смс ув...   \n",
      "26     3 лицо требует удалить номер телефона 87018885...   \n",
      "27     Добрый день.Клиент не хочет чтобы ему приходил...   \n",
      "28     ДД. Клиент утверждает что КК неверно проинформ...   \n",
      "29     Клиент Жугунисова Жанаргуль Вячеславовна жалуе...   \n",
      "...                                                  ...   \n",
      "13561  Здравтвуйте!\\nМарии приходят смс оповещения ад...   \n",
      "13562  Добрый день!\\n\\nСМС уведомления приходят на со...   \n",
      "13563  клиент вчера звонила в наш колл-центр и разгов...   \n",
      "13564  Клиент жалуется на МРК\\КК по имени Алмас.16.02...   \n",
      "13565  Клиент КИМ ЮЛИЯ ВЛАДИМИРОВНА жалуется, что, ме...   \n",
      "13566  ишкеева зауреш алпысбаевна фио кл \\n7407111440...   \n",
      "13567  Решетников Борис Владимирович просит удалить е...   \n",
      "13568  Клиент позвонил, чтобы узнать остаток своего к...   \n",
      "13569  Внешние запросы               \\nФИО: Кайсаров ...   \n",
      "13570  Добрый вечер!\\nКлиент жалуется на менеджера, т...   \n",
      "13571  Был звонок с номера 7017744448(карта клиента н...   \n",
      "13572  Клиент Бакиров Дулат Маратович не вовремя опла...   \n",
      "13573  Со слов клиента: \"Не компетентно отвечала на в...   \n",
      "13574  Клиент жалуется на МРК\\КК,  при оформлении не ...   \n",
      "13575  Клиент Конаев Нуржан Даукенович просит чтобы е...   \n",
      "13576  Клиент жалуется на большую очередь в отд банка...   \n",
      "13577  клиенту было отправлено смс сообщение - \" оцен...   \n",
      "13578  клиент Абишев Талгат Кабаевич просит чтобы ему...   \n",
      "13579  ДД!\\nПо КД 3516199206 клиенту обещали списать ...   \n",
      "13580  Клиент жалуется на сотрудника, т.к. ему оформи...   \n",
      "13581  Добрый день. Исмаилов Мади Бауыржанович жалует...   \n",
      "13582  Клиент жалуется на то что у него не саисались ...   \n",
      "13583  Клиент просит отправлять смс каждый месяц при ...   \n",
      "13584  Клиентка жалуется на отделение ,т.к. там обслу...   \n",
      "13585  Клиент нашего банка жалуется что его сестре пр...   \n",
      "13586  Клиент хочет оформить жалобу на менеджера, за ...   \n",
      "13587  Доброго времени суток! Клиент до этого оставля...   \n",
      "13588  клиенту механический автоответчик утверждает, ...   \n",
      "13589  Клиент жалуется на обслуживание в отделении в ...   \n",
      "13590  Доброе утро! Клиент утверждает что не получил ...   \n",
      "\n",
      "                                                    pred  \n",
      "0                                  корреспонденцию банка  \n",
      "1                                  корреспонденцию банка  \n",
      "2                                  корреспонденцию банка  \n",
      "3                                  корреспонденцию банка  \n",
      "4                                  корреспонденцию банка  \n",
      "5                                           обслуживание  \n",
      "6                                  корреспонденцию банка  \n",
      "7                                           обслуживание  \n",
      "8                                           обслуживание  \n",
      "9                                  корреспонденцию банка  \n",
      "10                                          обслуживание  \n",
      "11                                          обслуживание  \n",
      "12                                          обслуживание  \n",
      "13                                          обслуживание  \n",
      "14                                    услугу \"страховку\"  \n",
      "15                                 корреспонденцию банка  \n",
      "16                                 корреспонденцию банка  \n",
      "17                                 корреспонденцию банка  \n",
      "18                                          обслуживание  \n",
      "19                                          обслуживание  \n",
      "20                                 корреспонденцию банка  \n",
      "21                                          обслуживание  \n",
      "22                                    услугу \"хранитель\"  \n",
      "23                                          обслуживание  \n",
      "24                                 корреспонденцию банка  \n",
      "25                                 корреспонденцию банка  \n",
      "26                                 корреспонденцию банка  \n",
      "27                                 корреспонденцию банка  \n",
      "28                                          обслуживание  \n",
      "29                                    услугу \"страховку\"  \n",
      "...                                                  ...  \n",
      "13561                              корреспонденцию банка  \n",
      "13562                              корреспонденцию банка  \n",
      "13563                                       обслуживание  \n",
      "13564                                       обслуживание  \n",
      "13565                                       обслуживание  \n",
      "13566                              корреспонденцию банка  \n",
      "13567                              корреспонденцию банка  \n",
      "13568  не согласие с условиями договора, %%, задолжен...  \n",
      "13569                                       обслуживание  \n",
      "13570                                       обслуживание  \n",
      "13571                              корреспонденцию банка  \n",
      "13572                                       обслуживание  \n",
      "13573                                       обслуживание  \n",
      "13574                                 услугу \"страховку\"  \n",
      "13575                              корреспонденцию банка  \n",
      "13576                                       обслуживание  \n",
      "13577                              корреспонденцию банка  \n",
      "13578                              корреспонденцию банка  \n",
      "13579                                       обслуживание  \n",
      "13580                                       обслуживание  \n",
      "13581                                       обслуживание  \n",
      "13582                                       обслуживание  \n",
      "13583                              корреспонденцию банка  \n",
      "13584                                       обслуживание  \n",
      "13585                              корреспонденцию банка  \n",
      "13586                                       обслуживание  \n",
      "13587                                       обслуживание  \n",
      "13588                              корреспонденцию банка  \n",
      "13589                                       обслуживание  \n",
      "13590                              корреспонденцию банка  \n",
      "\n",
      "[13591 rows x 3 columns]\n"
     ]
    }
   ],
   "source": [
    "print(frame)"
   ]
  },
  {
   "cell_type": "code",
   "execution_count": 19,
   "metadata": {},
   "outputs": [],
   "source": [
    "frame.to_csv('updated_dataset.csv', sep=',', header=True, index=1)"
   ]
  }
 ],
 "metadata": {
  "kernelspec": {
   "display_name": "Python 3",
   "language": "python",
   "name": "python3"
  },
  "language_info": {
   "codemirror_mode": {
    "name": "ipython",
    "version": 3
   },
   "file_extension": ".py",
   "mimetype": "text/x-python",
   "name": "python",
   "nbconvert_exporter": "python",
   "pygments_lexer": "ipython3",
   "version": "3.7.3"
  }
 },
 "nbformat": 4,
 "nbformat_minor": 2
}
