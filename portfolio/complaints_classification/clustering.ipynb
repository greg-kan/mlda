{
 "cells": [
  {
   "cell_type": "markdown",
   "metadata": {},
   "source": [
    "# Исследования по кластеризации текстовых данных"
   ]
  },
  {
   "cell_type": "markdown",
   "metadata": {},
   "source": [
    "## Этап 1 - Подготовка "
   ]
  },
  {
   "cell_type": "code",
   "execution_count": 1,
   "metadata": {},
   "outputs": [],
   "source": [
    "import os\n",
    "from pathlib import Path\n",
    "\n",
    "DATA_DIR = Path(\"data\")\n",
    "if not DATA_DIR.exists():\n",
    "    raise Exception(\"Data directory '%s' not found\" % DATA_DIR.absolute())\n",
    "    \n",
    "OUT_DIR = Path(\"out_clasteri\")\n",
    "if not OUT_DIR.exists():\n",
    "    OUT_DIR.mkdir()    "
   ]
  },
  {
   "cell_type": "code",
   "execution_count": 2,
   "metadata": {},
   "outputs": [],
   "source": [
    "import numpy as np\n",
    "import pandas as pd"
   ]
  },
  {
   "cell_type": "markdown",
   "metadata": {},
   "source": [
    "## Этап 2 - Загрузка данных"
   ]
  },
  {
   "cell_type": "code",
   "execution_count": 3,
   "metadata": {},
   "outputs": [],
   "source": [
    "complaints_file = os.path.join(DATA_DIR, \"complaints.xlsx\")\n",
    "\n",
    "raw_data = pd.read_excel(complaints_file, sheet_name=\"complaints\", index_col=None)"
   ]
  },
  {
   "cell_type": "code",
   "execution_count": 4,
   "metadata": {},
   "outputs": [
    {
     "data": {
      "text/html": [
       "<div>\n",
       "<style scoped>\n",
       "    .dataframe tbody tr th:only-of-type {\n",
       "        vertical-align: middle;\n",
       "    }\n",
       "\n",
       "    .dataframe tbody tr th {\n",
       "        vertical-align: top;\n",
       "    }\n",
       "\n",
       "    .dataframe thead th {\n",
       "        text-align: right;\n",
       "    }\n",
       "</style>\n",
       "<table border=\"1\" class=\"dataframe\">\n",
       "  <thead>\n",
       "    <tr style=\"text-align: right;\">\n",
       "      <th></th>\n",
       "      <th>ISSUENUM</th>\n",
       "      <th>TOPIC</th>\n",
       "      <th>DESCRIPTION</th>\n",
       "      <th>UNDER_TOPIC</th>\n",
       "      <th>REPORTER</th>\n",
       "      <th>ASSIGNEE</th>\n",
       "      <th>CREATOR</th>\n",
       "      <th>STATUS_ISSUE</th>\n",
       "      <th>CREATED</th>\n",
       "      <th>UPDATED</th>\n",
       "      <th>...</th>\n",
       "      <th>FIO_CLIENT</th>\n",
       "      <th>IIN</th>\n",
       "      <th>TEXT_CONTRACT_NUMBER</th>\n",
       "      <th>PHONE_NUMBER</th>\n",
       "      <th>INF_CLIENT_RESPONDING</th>\n",
       "      <th>INCIDENT_REGION</th>\n",
       "      <th>INCIDENT_RESOLVED</th>\n",
       "      <th>FIO_GUILT_WORK</th>\n",
       "      <th>AUTHOR_REGION</th>\n",
       "      <th>AUTHOR_SUBDIVISIONS</th>\n",
       "    </tr>\n",
       "  </thead>\n",
       "  <tbody>\n",
       "    <tr>\n",
       "      <th>0</th>\n",
       "      <td>105578</td>\n",
       "      <td>ЖАЛОБА: на корреспонденцию банка</td>\n",
       "      <td>Клиент просит чтобы банк не отправлял смс о сп...</td>\n",
       "      <td>Cмс по предложениям Xsell</td>\n",
       "      <td>aoryntaeva</td>\n",
       "      <td>akalabaeva</td>\n",
       "      <td>aoryntaeva</td>\n",
       "      <td>Закрыта</td>\n",
       "      <td>2017-12-12 06:47:45</td>\n",
       "      <td>2017-12-12 12:02:50</td>\n",
       "      <td>...</td>\n",
       "      <td>АҚЖИГИТОВ БЕЙБІТ КЕНЖЕБАЙҰЛЫ</td>\n",
       "      <td>910429301833</td>\n",
       "      <td>0</td>\n",
       "      <td>7776121291</td>\n",
       "      <td>NaN</td>\n",
       "      <td>0</td>\n",
       "      <td>Не требует создания проблемы</td>\n",
       "      <td>NaN</td>\n",
       "      <td>Алматы</td>\n",
       "      <td>Call-center</td>\n",
       "    </tr>\n",
       "    <tr>\n",
       "      <th>1</th>\n",
       "      <td>105582</td>\n",
       "      <td>ЖАЛОБА: на корреспонденцию банка</td>\n",
       "      <td>ДД.\\nПри оформлении кредита клиент предоставил...</td>\n",
       "      <td>Cмс по предложениям Xsell</td>\n",
       "      <td>atusipova</td>\n",
       "      <td>akalabaeva</td>\n",
       "      <td>atusipova</td>\n",
       "      <td>Закрыта</td>\n",
       "      <td>2017-12-12 08:34:06</td>\n",
       "      <td>2017-12-12 15:41:16</td>\n",
       "      <td>...</td>\n",
       "      <td>Тверитинова Анна Егоровна</td>\n",
       "      <td>761123400947</td>\n",
       "      <td>3708168706</td>\n",
       "      <td>87078452136 \\t</td>\n",
       "      <td>NaN</td>\n",
       "      <td>0</td>\n",
       "      <td>Не требует создания проблемы</td>\n",
       "      <td>NaN</td>\n",
       "      <td>NaN</td>\n",
       "      <td>Call-center</td>\n",
       "    </tr>\n",
       "    <tr>\n",
       "      <th>2</th>\n",
       "      <td>105604</td>\n",
       "      <td>ЖАЛОБА: на обслуживание</td>\n",
       "      <td>Дарипова Айгуль Сабыргалиевна жалуется на мене...</td>\n",
       "      <td>NaN</td>\n",
       "      <td>azhalgaeva</td>\n",
       "      <td>zissayev</td>\n",
       "      <td>azhalgaeva</td>\n",
       "      <td>Закрыта</td>\n",
       "      <td>2017-12-12 09:27:28</td>\n",
       "      <td>2017-12-21 09:10:29</td>\n",
       "      <td>...</td>\n",
       "      <td>Дарипова Айгуль Сабыргалиевна</td>\n",
       "      <td>810420403003</td>\n",
       "      <td>0</td>\n",
       "      <td>7292250739</td>\n",
       "      <td>Не дозвон</td>\n",
       "      <td>Мангистауская область,Бейнеу,  ул. Ерконай, д. 1</td>\n",
       "      <td>Не требует создания проблемы</td>\n",
       "      <td>NaN</td>\n",
       "      <td>Актау</td>\n",
       "      <td>Call-center</td>\n",
       "    </tr>\n",
       "  </tbody>\n",
       "</table>\n",
       "<p>3 rows × 21 columns</p>\n",
       "</div>"
      ],
      "text/plain": [
       "   ISSUENUM                             TOPIC  \\\n",
       "0    105578  ЖАЛОБА: на корреспонденцию банка   \n",
       "1    105582  ЖАЛОБА: на корреспонденцию банка   \n",
       "2    105604           ЖАЛОБА: на обслуживание   \n",
       "\n",
       "                                         DESCRIPTION  \\\n",
       "0  Клиент просит чтобы банк не отправлял смс о сп...   \n",
       "1  ДД.\\nПри оформлении кредита клиент предоставил...   \n",
       "2  Дарипова Айгуль Сабыргалиевна жалуется на мене...   \n",
       "\n",
       "                 UNDER_TOPIC    REPORTER    ASSIGNEE     CREATOR STATUS_ISSUE  \\\n",
       "0  Cмс по предложениям Xsell  aoryntaeva  akalabaeva  aoryntaeva      Закрыта   \n",
       "1  Cмс по предложениям Xsell   atusipova  akalabaeva   atusipova      Закрыта   \n",
       "2                        NaN  azhalgaeva    zissayev  azhalgaeva      Закрыта   \n",
       "\n",
       "              CREATED             UPDATED  ...                     FIO_CLIENT  \\\n",
       "0 2017-12-12 06:47:45 2017-12-12 12:02:50  ...   АҚЖИГИТОВ БЕЙБІТ КЕНЖЕБАЙҰЛЫ   \n",
       "1 2017-12-12 08:34:06 2017-12-12 15:41:16  ...      Тверитинова Анна Егоровна   \n",
       "2 2017-12-12 09:27:28 2017-12-21 09:10:29  ...  Дарипова Айгуль Сабыргалиевна   \n",
       "\n",
       "            IIN TEXT_CONTRACT_NUMBER    PHONE_NUMBER INF_CLIENT_RESPONDING  \\\n",
       "0  910429301833                    0      7776121291                   NaN   \n",
       "1  761123400947           3708168706  87078452136 \\t                   NaN   \n",
       "2  810420403003                    0      7292250739             Не дозвон   \n",
       "\n",
       "                                     INCIDENT_REGION  \\\n",
       "0                                                  0   \n",
       "1                                                  0   \n",
       "2   Мангистауская область,Бейнеу,  ул. Ерконай, д. 1   \n",
       "\n",
       "              INCIDENT_RESOLVED FIO_GUILT_WORK AUTHOR_REGION  \\\n",
       "0  Не требует создания проблемы            NaN        Алматы   \n",
       "1  Не требует создания проблемы            NaN           NaN   \n",
       "2  Не требует создания проблемы            NaN         Актау   \n",
       "\n",
       "  AUTHOR_SUBDIVISIONS  \n",
       "0         Call-center  \n",
       "1         Call-center  \n",
       "2         Call-center  \n",
       "\n",
       "[3 rows x 21 columns]"
      ]
     },
     "execution_count": 4,
     "metadata": {},
     "output_type": "execute_result"
    }
   ],
   "source": [
    "raw_data.head(3)"
   ]
  },
  {
   "cell_type": "code",
   "execution_count": 5,
   "metadata": {},
   "outputs": [
    {
     "name": "stdout",
     "output_type": "stream",
     "text": [
      "[i] Размерность сырых данных:  (22840, 21)\n"
     ]
    }
   ],
   "source": [
    "print(\"[i] Размерность сырых данных: \", raw_data.shape)"
   ]
  },
  {
   "cell_type": "markdown",
   "metadata": {},
   "source": [
    "## Этап 3 - Отбор признаков"
   ]
  },
  {
   "cell_type": "code",
   "execution_count": 6,
   "metadata": {},
   "outputs": [
    {
     "name": "stdout",
     "output_type": "stream",
     "text": [
      "[i] : Информация о данных\n",
      "<class 'pandas.core.frame.DataFrame'>\n",
      "RangeIndex: 22840 entries, 0 to 22839\n",
      "Data columns (total 3 columns):\n",
      "ISSUENUM       22840 non-null int64\n",
      "TOPIC          22805 non-null object\n",
      "DESCRIPTION    22839 non-null object\n",
      "dtypes: int64(1), object(2)\n",
      "memory usage: 535.4+ KB\n"
     ]
    }
   ],
   "source": [
    "valuable_columns = [\"ISSUENUM\", \"TOPIC\", \"DESCRIPTION\"]\n",
    "raw_data = raw_data[valuable_columns] # Для исследования ограничимся ID 'ISSUENUM', меткой 'TOPIC' и содержанием 'DESCRIPTION'\n",
    "\n",
    "print(\"[i] : Информация о данных\")\n",
    "raw_data.info() # Информация о данных"
   ]
  },
  {
   "cell_type": "code",
   "execution_count": 7,
   "metadata": {},
   "outputs": [
    {
     "data": {
      "text/html": [
       "<div>\n",
       "<style scoped>\n",
       "    .dataframe tbody tr th:only-of-type {\n",
       "        vertical-align: middle;\n",
       "    }\n",
       "\n",
       "    .dataframe tbody tr th {\n",
       "        vertical-align: top;\n",
       "    }\n",
       "\n",
       "    .dataframe thead th {\n",
       "        text-align: right;\n",
       "    }\n",
       "</style>\n",
       "<table border=\"1\" class=\"dataframe\">\n",
       "  <thead>\n",
       "    <tr style=\"text-align: right;\">\n",
       "      <th></th>\n",
       "      <th>ISSUENUM</th>\n",
       "      <th>TOPIC</th>\n",
       "      <th>DESCRIPTION</th>\n",
       "    </tr>\n",
       "  </thead>\n",
       "  <tbody>\n",
       "    <tr>\n",
       "      <th>0</th>\n",
       "      <td>105578</td>\n",
       "      <td>ЖАЛОБА: на корреспонденцию банка</td>\n",
       "      <td>Клиент просит чтобы банк не отправлял смс о сп...</td>\n",
       "    </tr>\n",
       "    <tr>\n",
       "      <th>1</th>\n",
       "      <td>105582</td>\n",
       "      <td>ЖАЛОБА: на корреспонденцию банка</td>\n",
       "      <td>ДД.\\nПри оформлении кредита клиент предоставил...</td>\n",
       "    </tr>\n",
       "    <tr>\n",
       "      <th>2</th>\n",
       "      <td>105604</td>\n",
       "      <td>ЖАЛОБА: на обслуживание</td>\n",
       "      <td>Дарипова Айгуль Сабыргалиевна жалуется на мене...</td>\n",
       "    </tr>\n",
       "  </tbody>\n",
       "</table>\n",
       "</div>"
      ],
      "text/plain": [
       "   ISSUENUM                             TOPIC  \\\n",
       "0    105578  ЖАЛОБА: на корреспонденцию банка   \n",
       "1    105582  ЖАЛОБА: на корреспонденцию банка   \n",
       "2    105604           ЖАЛОБА: на обслуживание   \n",
       "\n",
       "                                         DESCRIPTION  \n",
       "0  Клиент просит чтобы банк не отправлял смс о сп...  \n",
       "1  ДД.\\nПри оформлении кредита клиент предоставил...  \n",
       "2  Дарипова Айгуль Сабыргалиевна жалуется на мене...  "
      ]
     },
     "execution_count": 7,
     "metadata": {},
     "output_type": "execute_result"
    }
   ],
   "source": [
    "raw_data.head(3)"
   ]
  },
  {
   "cell_type": "markdown",
   "metadata": {},
   "source": [
    "## Этап 4 - Проверка на дубли и удаление строк с отсутствующими данными"
   ]
  },
  {
   "cell_type": "code",
   "execution_count": 8,
   "metadata": {},
   "outputs": [
    {
     "name": "stdout",
     "output_type": "stream",
     "text": [
      "[i] Количество дублей идентификаторов:  0\n"
     ]
    }
   ],
   "source": [
    "duplicated = raw_data.loc[raw_data.duplicated(subset=['ISSUENUM'], keep=False)]\n",
    "print(\"[i] Количество дублей идентификаторов: \", duplicated['ISSUENUM'].count())"
   ]
  },
  {
   "cell_type": "code",
   "execution_count": 9,
   "metadata": {},
   "outputs": [
    {
     "name": "stdout",
     "output_type": "stream",
     "text": [
      "[i] Размерность после удаления пустых (22804, 3)\n"
     ]
    }
   ],
   "source": [
    "raw_data = raw_data.dropna(subset=['TOPIC', 'DESCRIPTION']) # Удаляем строки с пустыми значениями в столбцах 'TOPIC' и 'DESCRIPTION'\n",
    "\n",
    "print(\"[i] Размерность после удаления пустых\", raw_data.shape)"
   ]
  },
  {
   "cell_type": "markdown",
   "metadata": {},
   "source": [
    "## Этап 5 - Отбор \"нужных\" обращений"
   ]
  },
  {
   "cell_type": "code",
   "execution_count": 10,
   "metadata": {},
   "outputs": [
    {
     "name": "stdout",
     "output_type": "stream",
     "text": [
      "[i] Размерность данных с Жалобами (19415, 3)\n"
     ]
    }
   ],
   "source": [
    "#Отберем только строки, содержащие жалобы, в которых столбец 'TOPIC' содержит различные сочетания слова \"жалоба\"\n",
    "raw_data = raw_data[(raw_data.TOPIC.str.contains(\"ЖАЛОБА: \") |\n",
    "                     raw_data.TOPIC.str.contains(\"Жалоба на \") |\n",
    "                     raw_data.TOPIC.str.contains(\"Жалобы на \"))] #, na=False\n",
    "\n",
    "print(\"[i] Размерность данных с Жалобами\", raw_data.shape)"
   ]
  },
  {
   "cell_type": "markdown",
   "metadata": {},
   "source": [
    "## Этап 6 - Очистка меток от \"мусора\""
   ]
  },
  {
   "cell_type": "code",
   "execution_count": 11,
   "metadata": {},
   "outputs": [],
   "source": [
    "import re\n",
    "def label_cleaner(text):\n",
    "        \n",
    "    text = re.sub( r'ЖАЛОБА: на ', '', text) # Убрать из темы словосочетания 'ЖАЛОБА: на ',\n",
    "    text = re.sub( r'ЖАЛОБА: ', '', text) # 'ЖАЛОБА: ',\n",
    "    text = re.sub( r'Жалоба на ', '', text) # 'Жалоба на ',\n",
    "    text = re.sub( r'Жалобы на ', '', text) # 'Жалобы на '\n",
    "    \n",
    "    text = str.strip(text.lower()) #Переводим в нижний регистр и убираем пробелы в начале и конце\n",
    "    return  text"
   ]
  },
  {
   "cell_type": "code",
   "execution_count": 12,
   "metadata": {},
   "outputs": [
    {
     "name": "stdout",
     "output_type": "stream",
     "text": [
      "[i] Количество категорий (меток): 9\n",
      "[i] Множество категорий (меток):\n",
      "{'услугу \"хранитель\"', 'услугу \"защита семьи\"', 'обслуживание', 'карточные продукты', 'не согласие с условиями договора, %%, задолженностью, штрафами, тарифами и комиссиями', 'го/филиал/отделения/микроофисы/тт', 'обслуживание в терминалах', 'корреспонденцию банка', 'услугу \"страховку\"'}\n"
     ]
    }
   ],
   "source": [
    "raw_data[\"TOPIC\"] = [label_cleaner(t) for t in raw_data[\"TOPIC\"]] # Почистим метки от \"мусора\"\n",
    "\n",
    "print(\"[i] Количество категорий (меток):\", len(set(raw_data[\"TOPIC\"])))\n",
    "print(\"[i] Множество категорий (меток):\")\n",
    "print(set(raw_data[\"TOPIC\"]))"
   ]
  },
  {
   "cell_type": "markdown",
   "metadata": {},
   "source": [
    "## Этап 7 - Препроцессинг"
   ]
  },
  {
   "cell_type": "code",
   "execution_count": 13,
   "metadata": {},
   "outputs": [],
   "source": [
    "#Пишем свой препроцессор (preprocessor)\n",
    "from nltk.stem.snowball import SnowballStemmer\n",
    "def text_cleaner(text):\n",
    "    text = text.lower() # приведение в lowercase,\n",
    "    \n",
    "    text = re.sub( r'https?://[\\S]+', ' url ', text) # замена интернет ссылок\n",
    "    text = re.sub( r'[\\w\\./]+\\.[a-z]+', ' url ', text) \n",
    " \n",
    "    # text = re.sub( r'\\d+[-/\\.]\\d+[-/\\.]\\d+', ' date ', text) # замена даты и времени\n",
    "    # text = re.sub( r'\\d+ ?гг?', ' date ', text) \n",
    "    # text = re.sub( r'\\d+:\\d+(:\\d+)?', ' time ', text) \n",
    "\n",
    "    # text = re.sub( r'@\\w+', ' tname ', text ) # замена имён twiter\n",
    "    # text = re.sub( r'#\\w+', ' htag ', text ) # замена хештегов\n",
    "\n",
    "    text = re.sub( r'<[^>]*>', ' ', text) # удаление html тагов\n",
    "    text = re.sub( r'[\\W]+', ' ', text ) # удаление не словарных символов\n",
    "\n",
    "    stemmer = SnowballStemmer(\"russian\")\n",
    "    singles = [stemmer.stem(word) for word in text.split()]\n",
    "    text = ' '.join(singles)\n",
    "\n",
    "    # stw = ['в', 'по', 'на', 'из', 'и', 'или', 'не', 'но', 'за', 'над', 'под', 'то',\n",
    "    #        'a', 'at', 'on', 'of', 'and', 'or', 'in', 'for', 'at' ]\n",
    "    # remove = r'\\b('+'|'.join(stw)+')\\b'\n",
    "    # text = re.sub(remove,' ', text)\n",
    "    \n",
    "    # text = re.sub( r'\\b\\w\\b', ' ', text ) # удаление отдельно стоящих букв\n",
    "\n",
    "    text = re.sub( r'\\b\\d+\\b', ' digit ', text ) # замена цифр \n",
    "\n",
    "    return  text\n",
    "\n",
    "#raw_data[\"DESCRIPTION\"] = [text_cleaner(t) for t in raw_data[\"DESCRIPTION\"]]\n",
    "#raw_data[\"DESCRIPTION\"].head(5)"
   ]
  },
  {
   "cell_type": "markdown",
   "metadata": {},
   "source": [
    "## Этап 8 - Разделение на тренировочную и тестовую выборки"
   ]
  },
  {
   "cell_type": "markdown",
   "metadata": {},
   "source": [
    "## Этап 9 - Обучение классификатора "
   ]
  },
  {
   "cell_type": "markdown",
   "metadata": {},
   "source": [
    "## Этап 10 - Тестирование"
   ]
  },
  {
   "cell_type": "markdown",
   "metadata": {},
   "source": [
    "## Этап 11 - Сохранение результатов"
   ]
  }
 ],
 "metadata": {
  "kernelspec": {
   "display_name": "Python 3",
   "language": "python",
   "name": "python3"
  },
  "language_info": {
   "codemirror_mode": {
    "name": "ipython",
    "version": 3
   },
   "file_extension": ".py",
   "mimetype": "text/x-python",
   "name": "python",
   "nbconvert_exporter": "python",
   "pygments_lexer": "ipython3",
   "version": "3.7.3"
  }
 },
 "nbformat": 4,
 "nbformat_minor": 2
}
