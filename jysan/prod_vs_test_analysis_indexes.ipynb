{
 "cells": [
  {
   "cell_type": "markdown",
   "metadata": {},
   "source": [
    "# Анализ таблиц JDWH - Прод vs Тест"
   ]
  },
  {
   "cell_type": "code",
   "execution_count": 1,
   "metadata": {},
   "outputs": [],
   "source": [
    "import pandas as pd\n",
    "import numpy as np\n",
    "from datetime import datetime"
   ]
  },
  {
   "cell_type": "code",
   "execution_count": 2,
   "metadata": {},
   "outputs": [],
   "source": [
    "pd.set_option('display.max_columns', 50)\n",
    "pd.set_option('max_colwidth', 200)\n",
    "#pd.set_option('display.max_rows', 500)"
   ]
  },
  {
   "cell_type": "markdown",
   "metadata": {},
   "source": [
    "## Часть III. Индексы."
   ]
  },
  {
   "cell_type": "markdown",
   "metadata": {},
   "source": [
    "## 1. Загрузка и первичное преобразование данных"
   ]
  },
  {
   "cell_type": "markdown",
   "metadata": {},
   "source": [
    "### Прод"
   ]
  },
  {
   "cell_type": "code",
   "execution_count": 3,
   "metadata": {},
   "outputs": [],
   "source": [
    "prod = pd.read_csv('./data/indexes_prod_14122020.csv')"
   ]
  },
  {
   "cell_type": "code",
   "execution_count": 4,
   "metadata": {
    "scrolled": false
   },
   "outputs": [
    {
     "data": {
      "text/html": [
       "<div>\n",
       "<style scoped>\n",
       "    .dataframe tbody tr th:only-of-type {\n",
       "        vertical-align: middle;\n",
       "    }\n",
       "\n",
       "    .dataframe tbody tr th {\n",
       "        vertical-align: top;\n",
       "    }\n",
       "\n",
       "    .dataframe thead th {\n",
       "        text-align: right;\n",
       "    }\n",
       "</style>\n",
       "<table border=\"1\" class=\"dataframe\">\n",
       "  <thead>\n",
       "    <tr style=\"text-align: right;\">\n",
       "      <th></th>\n",
       "      <th>schemaname</th>\n",
       "      <th>base_name</th>\n",
       "      <th>tablename</th>\n",
       "      <th>indexname</th>\n",
       "      <th>inds_count</th>\n",
       "      <th>ind</th>\n",
       "      <th>indexdef</th>\n",
       "    </tr>\n",
       "  </thead>\n",
       "  <tbody>\n",
       "    <tr>\n",
       "      <th>0</th>\n",
       "      <td>dwh_bckp</td>\n",
       "      <td>amara_corr_overdues</td>\n",
       "      <td>amara_corr_overdues</td>\n",
       "      <td>pk_bckp_amara_corr_overdues</td>\n",
       "      <td>1</td>\n",
       "      <td>1</td>\n",
       "      <td>CREATE UNIQUE INDEX pk_bckp_amara_corr_overdues ON dwh_bckp.amara_corr_overdues USING btree (id, insert_date)</td>\n",
       "    </tr>\n",
       "    <tr>\n",
       "      <th>1</th>\n",
       "      <td>dwh_bckp</td>\n",
       "      <td>amara_rating_fitch</td>\n",
       "      <td>amara_rating_fitch</td>\n",
       "      <td>pk_bckp_amara_rating_fitch</td>\n",
       "      <td>1</td>\n",
       "      <td>1</td>\n",
       "      <td>CREATE UNIQUE INDEX pk_bckp_amara_rating_fitch ON dwh_bckp.amara_rating_fitch USING btree (id, insert_date)</td>\n",
       "    </tr>\n",
       "    <tr>\n",
       "      <th>2</th>\n",
       "      <td>dwh_bckp</td>\n",
       "      <td>amara_rating_fitch_forecast</td>\n",
       "      <td>amara_rating_fitch_forecast</td>\n",
       "      <td>pk_bckp_amara_rating_fitch_forecast</td>\n",
       "      <td>1</td>\n",
       "      <td>1</td>\n",
       "      <td>CREATE UNIQUE INDEX pk_bckp_amara_rating_fitch_forecast ON dwh_bckp.amara_rating_fitch_forecast USING btree (id, insert_date)</td>\n",
       "    </tr>\n",
       "  </tbody>\n",
       "</table>\n",
       "</div>"
      ],
      "text/plain": [
       "  schemaname                    base_name                    tablename  \\\n",
       "0   dwh_bckp          amara_corr_overdues          amara_corr_overdues   \n",
       "1   dwh_bckp           amara_rating_fitch           amara_rating_fitch   \n",
       "2   dwh_bckp  amara_rating_fitch_forecast  amara_rating_fitch_forecast   \n",
       "\n",
       "                             indexname  inds_count  ind  \\\n",
       "0          pk_bckp_amara_corr_overdues           1    1   \n",
       "1           pk_bckp_amara_rating_fitch           1    1   \n",
       "2  pk_bckp_amara_rating_fitch_forecast           1    1   \n",
       "\n",
       "                                                                                                                        indexdef  \n",
       "0                  CREATE UNIQUE INDEX pk_bckp_amara_corr_overdues ON dwh_bckp.amara_corr_overdues USING btree (id, insert_date)  \n",
       "1                    CREATE UNIQUE INDEX pk_bckp_amara_rating_fitch ON dwh_bckp.amara_rating_fitch USING btree (id, insert_date)  \n",
       "2  CREATE UNIQUE INDEX pk_bckp_amara_rating_fitch_forecast ON dwh_bckp.amara_rating_fitch_forecast USING btree (id, insert_date)  "
      ]
     },
     "execution_count": 4,
     "metadata": {},
     "output_type": "execute_result"
    }
   ],
   "source": [
    "prod.head(3)"
   ]
  },
  {
   "cell_type": "markdown",
   "metadata": {},
   "source": [
    "Добавим поле full_table_name"
   ]
  },
  {
   "cell_type": "code",
   "execution_count": 5,
   "metadata": {},
   "outputs": [],
   "source": [
    "prod['full_table_name'] = prod['schemaname'] + '.' + prod['tablename']"
   ]
  },
  {
   "cell_type": "markdown",
   "metadata": {},
   "source": [
    "Добавляем столбцы: признак уникальности (возможно это PK),тип индекска и его короткое определение"
   ]
  },
  {
   "cell_type": "code",
   "execution_count": 6,
   "metadata": {},
   "outputs": [],
   "source": [
    "prod['uniq'] = prod.indexdef.apply(lambda x: 1 if 'CREATE UNIQUE INDEX' in x else 0)\n",
    "prod['short_idx_def'] = prod.indexdef.apply(lambda x: x.split('USING')[1].strip())\n",
    "prod['idx_type'] = prod.short_idx_def.apply(lambda x: x.split('(')[0].strip())\n",
    "prod['ind_fields'] = prod.short_idx_def.apply(lambda x: x.split('(')[1].split(')')[0].strip())#x.split('(', 1)[1]"
   ]
  },
  {
   "cell_type": "code",
   "execution_count": 7,
   "metadata": {
    "scrolled": true
   },
   "outputs": [
    {
     "data": {
      "text/html": [
       "<div>\n",
       "<style scoped>\n",
       "    .dataframe tbody tr th:only-of-type {\n",
       "        vertical-align: middle;\n",
       "    }\n",
       "\n",
       "    .dataframe tbody tr th {\n",
       "        vertical-align: top;\n",
       "    }\n",
       "\n",
       "    .dataframe thead th {\n",
       "        text-align: right;\n",
       "    }\n",
       "</style>\n",
       "<table border=\"1\" class=\"dataframe\">\n",
       "  <thead>\n",
       "    <tr style=\"text-align: right;\">\n",
       "      <th></th>\n",
       "      <th>schemaname</th>\n",
       "      <th>base_name</th>\n",
       "      <th>tablename</th>\n",
       "      <th>indexname</th>\n",
       "      <th>inds_count</th>\n",
       "      <th>ind</th>\n",
       "      <th>indexdef</th>\n",
       "      <th>full_table_name</th>\n",
       "      <th>uniq</th>\n",
       "      <th>short_idx_def</th>\n",
       "      <th>idx_type</th>\n",
       "      <th>ind_fields</th>\n",
       "    </tr>\n",
       "  </thead>\n",
       "  <tbody>\n",
       "    <tr>\n",
       "      <th>0</th>\n",
       "      <td>dwh_bckp</td>\n",
       "      <td>amara_corr_overdues</td>\n",
       "      <td>amara_corr_overdues</td>\n",
       "      <td>pk_bckp_amara_corr_overdues</td>\n",
       "      <td>1</td>\n",
       "      <td>1</td>\n",
       "      <td>CREATE UNIQUE INDEX pk_bckp_amara_corr_overdues ON dwh_bckp.amara_corr_overdues USING btree (id, insert_date)</td>\n",
       "      <td>dwh_bckp.amara_corr_overdues</td>\n",
       "      <td>1</td>\n",
       "      <td>btree (id, insert_date)</td>\n",
       "      <td>btree</td>\n",
       "      <td>id, insert_date</td>\n",
       "    </tr>\n",
       "    <tr>\n",
       "      <th>1</th>\n",
       "      <td>dwh_bckp</td>\n",
       "      <td>amara_rating_fitch</td>\n",
       "      <td>amara_rating_fitch</td>\n",
       "      <td>pk_bckp_amara_rating_fitch</td>\n",
       "      <td>1</td>\n",
       "      <td>1</td>\n",
       "      <td>CREATE UNIQUE INDEX pk_bckp_amara_rating_fitch ON dwh_bckp.amara_rating_fitch USING btree (id, insert_date)</td>\n",
       "      <td>dwh_bckp.amara_rating_fitch</td>\n",
       "      <td>1</td>\n",
       "      <td>btree (id, insert_date)</td>\n",
       "      <td>btree</td>\n",
       "      <td>id, insert_date</td>\n",
       "    </tr>\n",
       "    <tr>\n",
       "      <th>2</th>\n",
       "      <td>dwh_bckp</td>\n",
       "      <td>amara_rating_fitch_forecast</td>\n",
       "      <td>amara_rating_fitch_forecast</td>\n",
       "      <td>pk_bckp_amara_rating_fitch_forecast</td>\n",
       "      <td>1</td>\n",
       "      <td>1</td>\n",
       "      <td>CREATE UNIQUE INDEX pk_bckp_amara_rating_fitch_forecast ON dwh_bckp.amara_rating_fitch_forecast USING btree (id, insert_date)</td>\n",
       "      <td>dwh_bckp.amara_rating_fitch_forecast</td>\n",
       "      <td>1</td>\n",
       "      <td>btree (id, insert_date)</td>\n",
       "      <td>btree</td>\n",
       "      <td>id, insert_date</td>\n",
       "    </tr>\n",
       "  </tbody>\n",
       "</table>\n",
       "</div>"
      ],
      "text/plain": [
       "  schemaname                    base_name                    tablename  \\\n",
       "0   dwh_bckp          amara_corr_overdues          amara_corr_overdues   \n",
       "1   dwh_bckp           amara_rating_fitch           amara_rating_fitch   \n",
       "2   dwh_bckp  amara_rating_fitch_forecast  amara_rating_fitch_forecast   \n",
       "\n",
       "                             indexname  inds_count  ind  \\\n",
       "0          pk_bckp_amara_corr_overdues           1    1   \n",
       "1           pk_bckp_amara_rating_fitch           1    1   \n",
       "2  pk_bckp_amara_rating_fitch_forecast           1    1   \n",
       "\n",
       "                                                                                                                        indexdef  \\\n",
       "0                  CREATE UNIQUE INDEX pk_bckp_amara_corr_overdues ON dwh_bckp.amara_corr_overdues USING btree (id, insert_date)   \n",
       "1                    CREATE UNIQUE INDEX pk_bckp_amara_rating_fitch ON dwh_bckp.amara_rating_fitch USING btree (id, insert_date)   \n",
       "2  CREATE UNIQUE INDEX pk_bckp_amara_rating_fitch_forecast ON dwh_bckp.amara_rating_fitch_forecast USING btree (id, insert_date)   \n",
       "\n",
       "                        full_table_name  uniq            short_idx_def  \\\n",
       "0          dwh_bckp.amara_corr_overdues     1  btree (id, insert_date)   \n",
       "1           dwh_bckp.amara_rating_fitch     1  btree (id, insert_date)   \n",
       "2  dwh_bckp.amara_rating_fitch_forecast     1  btree (id, insert_date)   \n",
       "\n",
       "  idx_type       ind_fields  \n",
       "0    btree  id, insert_date  \n",
       "1    btree  id, insert_date  \n",
       "2    btree  id, insert_date  "
      ]
     },
     "execution_count": 7,
     "metadata": {},
     "output_type": "execute_result"
    }
   ],
   "source": [
    "prod.head(3)"
   ]
  },
  {
   "cell_type": "markdown",
   "metadata": {},
   "source": [
    "Убираем партиции"
   ]
  },
  {
   "cell_type": "code",
   "execution_count": 8,
   "metadata": {},
   "outputs": [
    {
     "data": {
      "text/html": [
       "<div>\n",
       "<style scoped>\n",
       "    .dataframe tbody tr th:only-of-type {\n",
       "        vertical-align: middle;\n",
       "    }\n",
       "\n",
       "    .dataframe tbody tr th {\n",
       "        vertical-align: top;\n",
       "    }\n",
       "\n",
       "    .dataframe thead th {\n",
       "        text-align: right;\n",
       "    }\n",
       "</style>\n",
       "<table border=\"1\" class=\"dataframe\">\n",
       "  <thead>\n",
       "    <tr style=\"text-align: right;\">\n",
       "      <th></th>\n",
       "      <th>schemaname</th>\n",
       "      <th>base_name</th>\n",
       "      <th>tablename</th>\n",
       "      <th>indexname</th>\n",
       "      <th>inds_count</th>\n",
       "      <th>ind</th>\n",
       "      <th>indexdef</th>\n",
       "      <th>full_table_name</th>\n",
       "      <th>uniq</th>\n",
       "      <th>short_idx_def</th>\n",
       "      <th>idx_type</th>\n",
       "      <th>ind_fields</th>\n",
       "    </tr>\n",
       "  </thead>\n",
       "  <tbody>\n",
       "    <tr>\n",
       "      <th>3881</th>\n",
       "      <td>dwh_dds</td>\n",
       "      <td>ref_product</td>\n",
       "      <td>ref_product</td>\n",
       "      <td>ref_prd_prd_gid_idx</td>\n",
       "      <td>2</td>\n",
       "      <td>1</td>\n",
       "      <td>CREATE INDEX ref_prd_prd_gid_idx ON dwh_dds.ref_product USING btree (prd_gid, \"prd$start_date\", \"prd$end_date\" DESC, \"prd$row_status\") WHERE ((\"prd$row_status\")::text = 'A'::text)</td>\n",
       "      <td>dwh_dds.ref_product</td>\n",
       "      <td>0</td>\n",
       "      <td>btree (prd_gid, \"prd$start_date\", \"prd$end_date\" DESC, \"prd$row_status\") WHERE ((\"prd$row_status\")::text = 'A'::text)</td>\n",
       "      <td>btree</td>\n",
       "      <td>prd_gid, \"prd$start_date\", \"prd$end_date\" DESC, \"prd$row_status\"</td>\n",
       "    </tr>\n",
       "    <tr>\n",
       "      <th>5299</th>\n",
       "      <td>dwh_stage</td>\n",
       "      <td>s01_g_clirole</td>\n",
       "      <td>s01_g_clirole</td>\n",
       "      <td>s01_g_clirole_id_idx</td>\n",
       "      <td>2</td>\n",
       "      <td>1</td>\n",
       "      <td>CREATE INDEX s01_g_clirole_id_idx ON dwh_stage.s01_g_clirole USING btree (id, status)</td>\n",
       "      <td>dwh_stage.s01_g_clirole</td>\n",
       "      <td>0</td>\n",
       "      <td>btree (id, status)</td>\n",
       "      <td>btree</td>\n",
       "      <td>id, status</td>\n",
       "    </tr>\n",
       "    <tr>\n",
       "      <th>3722</th>\n",
       "      <td>dwh_dds</td>\n",
       "      <td>dict_cont_type</td>\n",
       "      <td>dict_cont_type</td>\n",
       "      <td>dict_cont_type_pk</td>\n",
       "      <td>1</td>\n",
       "      <td>1</td>\n",
       "      <td>CREATE UNIQUE INDEX dict_cont_type_pk ON dwh_dds.dict_cont_type USING btree (conttp_cd)</td>\n",
       "      <td>dwh_dds.dict_cont_type</td>\n",
       "      <td>1</td>\n",
       "      <td>btree (conttp_cd)</td>\n",
       "      <td>btree</td>\n",
       "      <td>conttp_cd</td>\n",
       "    </tr>\n",
       "  </tbody>\n",
       "</table>\n",
       "</div>"
      ],
      "text/plain": [
       "     schemaname       base_name       tablename             indexname  \\\n",
       "3881    dwh_dds     ref_product     ref_product   ref_prd_prd_gid_idx   \n",
       "5299  dwh_stage   s01_g_clirole   s01_g_clirole  s01_g_clirole_id_idx   \n",
       "3722    dwh_dds  dict_cont_type  dict_cont_type     dict_cont_type_pk   \n",
       "\n",
       "      inds_count  ind  \\\n",
       "3881           2    1   \n",
       "5299           2    1   \n",
       "3722           1    1   \n",
       "\n",
       "                                                                                                                                                                                 indexdef  \\\n",
       "3881  CREATE INDEX ref_prd_prd_gid_idx ON dwh_dds.ref_product USING btree (prd_gid, \"prd$start_date\", \"prd$end_date\" DESC, \"prd$row_status\") WHERE ((\"prd$row_status\")::text = 'A'::text)   \n",
       "5299                                                                                                CREATE INDEX s01_g_clirole_id_idx ON dwh_stage.s01_g_clirole USING btree (id, status)   \n",
       "3722                                                                                              CREATE UNIQUE INDEX dict_cont_type_pk ON dwh_dds.dict_cont_type USING btree (conttp_cd)   \n",
       "\n",
       "              full_table_name  uniq  \\\n",
       "3881      dwh_dds.ref_product     0   \n",
       "5299  dwh_stage.s01_g_clirole     0   \n",
       "3722   dwh_dds.dict_cont_type     1   \n",
       "\n",
       "                                                                                                              short_idx_def  \\\n",
       "3881  btree (prd_gid, \"prd$start_date\", \"prd$end_date\" DESC, \"prd$row_status\") WHERE ((\"prd$row_status\")::text = 'A'::text)   \n",
       "5299                                                                                                     btree (id, status)   \n",
       "3722                                                                                                      btree (conttp_cd)   \n",
       "\n",
       "     idx_type  \\\n",
       "3881    btree   \n",
       "5299    btree   \n",
       "3722    btree   \n",
       "\n",
       "                                                            ind_fields  \n",
       "3881  prd_gid, \"prd$start_date\", \"prd$end_date\" DESC, \"prd$row_status\"  \n",
       "5299                                                        id, status  \n",
       "3722                                                         conttp_cd  "
      ]
     },
     "execution_count": 8,
     "metadata": {},
     "output_type": "execute_result"
    }
   ],
   "source": [
    "prod = prod[prod['schemaname'] + '.' + prod['tablename'] == prod['schemaname'] + '.' + prod['base_name']]\n",
    "prod.sample(3)"
   ]
  },
  {
   "cell_type": "markdown",
   "metadata": {},
   "source": [
    "=============================================================================================================="
   ]
  },
  {
   "cell_type": "markdown",
   "metadata": {},
   "source": [
    "### Тест"
   ]
  },
  {
   "cell_type": "code",
   "execution_count": 9,
   "metadata": {},
   "outputs": [],
   "source": [
    "test = pd.read_csv('./data/indexes_test_14122020.csv')"
   ]
  },
  {
   "cell_type": "code",
   "execution_count": 10,
   "metadata": {
    "scrolled": true
   },
   "outputs": [
    {
     "data": {
      "text/html": [
       "<div>\n",
       "<style scoped>\n",
       "    .dataframe tbody tr th:only-of-type {\n",
       "        vertical-align: middle;\n",
       "    }\n",
       "\n",
       "    .dataframe tbody tr th {\n",
       "        vertical-align: top;\n",
       "    }\n",
       "\n",
       "    .dataframe thead th {\n",
       "        text-align: right;\n",
       "    }\n",
       "</style>\n",
       "<table border=\"1\" class=\"dataframe\">\n",
       "  <thead>\n",
       "    <tr style=\"text-align: right;\">\n",
       "      <th></th>\n",
       "      <th>schemaname</th>\n",
       "      <th>base_name</th>\n",
       "      <th>tablename</th>\n",
       "      <th>indexname</th>\n",
       "      <th>inds_count</th>\n",
       "      <th>ind</th>\n",
       "      <th>indexdef</th>\n",
       "    </tr>\n",
       "  </thead>\n",
       "  <tbody>\n",
       "    <tr>\n",
       "      <th>0</th>\n",
       "      <td>dwh_bckp</td>\n",
       "      <td>amara_rating_fitch</td>\n",
       "      <td>amara_rating_fitch</td>\n",
       "      <td>pk_bckp_amara_rating_fitch</td>\n",
       "      <td>1</td>\n",
       "      <td>1</td>\n",
       "      <td>CREATE UNIQUE INDEX pk_bckp_amara_rating_fitch ON dwh_bckp.amara_rating_fitch USING btree (id, insert_date)</td>\n",
       "    </tr>\n",
       "    <tr>\n",
       "      <th>1</th>\n",
       "      <td>dwh_bckp</td>\n",
       "      <td>amara_rating_fitch_forecast</td>\n",
       "      <td>amara_rating_fitch_forecast</td>\n",
       "      <td>pk_bckp_amara_rating_fitch_forecast</td>\n",
       "      <td>1</td>\n",
       "      <td>1</td>\n",
       "      <td>CREATE UNIQUE INDEX pk_bckp_amara_rating_fitch_forecast ON dwh_bckp.amara_rating_fitch_forecast USING btree (id, insert_date)</td>\n",
       "    </tr>\n",
       "    <tr>\n",
       "      <th>2</th>\n",
       "      <td>dwh_bckp</td>\n",
       "      <td>amara_rating_fitch_short</td>\n",
       "      <td>amara_rating_fitch_short</td>\n",
       "      <td>pk_bckp_amara_rating_fitch_short</td>\n",
       "      <td>1</td>\n",
       "      <td>1</td>\n",
       "      <td>CREATE UNIQUE INDEX pk_bckp_amara_rating_fitch_short ON dwh_bckp.amara_rating_fitch_short USING btree (id, insert_date)</td>\n",
       "    </tr>\n",
       "  </tbody>\n",
       "</table>\n",
       "</div>"
      ],
      "text/plain": [
       "  schemaname                    base_name                    tablename  \\\n",
       "0   dwh_bckp           amara_rating_fitch           amara_rating_fitch   \n",
       "1   dwh_bckp  amara_rating_fitch_forecast  amara_rating_fitch_forecast   \n",
       "2   dwh_bckp     amara_rating_fitch_short     amara_rating_fitch_short   \n",
       "\n",
       "                             indexname  inds_count  ind  \\\n",
       "0           pk_bckp_amara_rating_fitch           1    1   \n",
       "1  pk_bckp_amara_rating_fitch_forecast           1    1   \n",
       "2     pk_bckp_amara_rating_fitch_short           1    1   \n",
       "\n",
       "                                                                                                                        indexdef  \n",
       "0                    CREATE UNIQUE INDEX pk_bckp_amara_rating_fitch ON dwh_bckp.amara_rating_fitch USING btree (id, insert_date)  \n",
       "1  CREATE UNIQUE INDEX pk_bckp_amara_rating_fitch_forecast ON dwh_bckp.amara_rating_fitch_forecast USING btree (id, insert_date)  \n",
       "2        CREATE UNIQUE INDEX pk_bckp_amara_rating_fitch_short ON dwh_bckp.amara_rating_fitch_short USING btree (id, insert_date)  "
      ]
     },
     "execution_count": 10,
     "metadata": {},
     "output_type": "execute_result"
    }
   ],
   "source": [
    "test.head(3)"
   ]
  },
  {
   "cell_type": "markdown",
   "metadata": {},
   "source": [
    "Добавим поле full_table_name"
   ]
  },
  {
   "cell_type": "code",
   "execution_count": 11,
   "metadata": {},
   "outputs": [],
   "source": [
    "test['full_table_name'] = test['schemaname'] + '.' + test['tablename']"
   ]
  },
  {
   "cell_type": "markdown",
   "metadata": {},
   "source": [
    "Добавляем столбцы: признак уникальности (возможно это PK),тип индекска и его короткое определение"
   ]
  },
  {
   "cell_type": "code",
   "execution_count": 12,
   "metadata": {},
   "outputs": [],
   "source": [
    "test['uniq'] = test.indexdef.apply(lambda x: 1 if 'CREATE UNIQUE INDEX' in x else 0)\n",
    "test['short_idx_def'] = test.indexdef.apply(lambda x: x.split('USING')[1].strip())\n",
    "test['idx_type'] = test.short_idx_def.apply(lambda x: x.split('(')[0].strip())\n",
    "test['ind_fields'] = test.short_idx_def.apply(lambda x: x.split('(')[1].split(')')[0].strip())"
   ]
  },
  {
   "cell_type": "code",
   "execution_count": 13,
   "metadata": {},
   "outputs": [
    {
     "data": {
      "text/html": [
       "<div>\n",
       "<style scoped>\n",
       "    .dataframe tbody tr th:only-of-type {\n",
       "        vertical-align: middle;\n",
       "    }\n",
       "\n",
       "    .dataframe tbody tr th {\n",
       "        vertical-align: top;\n",
       "    }\n",
       "\n",
       "    .dataframe thead th {\n",
       "        text-align: right;\n",
       "    }\n",
       "</style>\n",
       "<table border=\"1\" class=\"dataframe\">\n",
       "  <thead>\n",
       "    <tr style=\"text-align: right;\">\n",
       "      <th></th>\n",
       "      <th>schemaname</th>\n",
       "      <th>base_name</th>\n",
       "      <th>tablename</th>\n",
       "      <th>indexname</th>\n",
       "      <th>inds_count</th>\n",
       "      <th>ind</th>\n",
       "      <th>indexdef</th>\n",
       "      <th>full_table_name</th>\n",
       "      <th>uniq</th>\n",
       "      <th>short_idx_def</th>\n",
       "      <th>idx_type</th>\n",
       "      <th>ind_fields</th>\n",
       "    </tr>\n",
       "  </thead>\n",
       "  <tbody>\n",
       "    <tr>\n",
       "      <th>8820</th>\n",
       "      <td>dwh_stage</td>\n",
       "      <td>s01_t_trndtl</td>\n",
       "      <td>s01_t_trndtl_1_prt_160_2021_04_22</td>\n",
       "      <td>s01_t_trndtl_1_prt_160_2021_04_22_id_idx</td>\n",
       "      <td>4</td>\n",
       "      <td>4</td>\n",
       "      <td>CREATE INDEX s01_t_trndtl_1_prt_160_2021_04_22_id_idx ON dwh_stage.s01_t_trndtl_1_prt_160_2021_04_22 USING btree (id)</td>\n",
       "      <td>dwh_stage.s01_t_trndtl_1_prt_160_2021_04_22</td>\n",
       "      <td>0</td>\n",
       "      <td>btree (id)</td>\n",
       "      <td>btree</td>\n",
       "      <td>id</td>\n",
       "    </tr>\n",
       "    <tr>\n",
       "      <th>1727</th>\n",
       "      <td>dwh_bckp</td>\n",
       "      <td>s01_t_dea_bkp</td>\n",
       "      <td>s01_t_dea_bkp_1_prt_208_2020_09_13</td>\n",
       "      <td>s01_t_dea_bkp_1_prt_208_2020_09_13_dea_id_idx</td>\n",
       "      <td>2</td>\n",
       "      <td>2</td>\n",
       "      <td>CREATE INDEX s01_t_dea_bkp_1_prt_208_2020_09_13_dea_id_idx ON dwh_bckp.s01_t_dea_bkp_1_prt_208_2020_09_13 USING btree (dea_id)</td>\n",
       "      <td>dwh_bckp.s01_t_dea_bkp_1_prt_208_2020_09_13</td>\n",
       "      <td>0</td>\n",
       "      <td>btree (dea_id)</td>\n",
       "      <td>btree</td>\n",
       "      <td>dea_id</td>\n",
       "    </tr>\n",
       "    <tr>\n",
       "      <th>2816</th>\n",
       "      <td>dwh_dds</td>\n",
       "      <td>acc_transaction</td>\n",
       "      <td>acc_transaction_1_prt_158_2020_04_16</td>\n",
       "      <td>acc_transaction_1_prt_158_2020_04_16_trn_dt_acnt_gid_idx</td>\n",
       "      <td>4</td>\n",
       "      <td>2</td>\n",
       "      <td>CREATE INDEX acc_transaction_1_prt_158_2020_04_16_trn_dt_acnt_gid_idx ON dwh_dds.acc_transaction_1_prt_158_2020_04_16 USING btree (trn_dt_acnt_gid)</td>\n",
       "      <td>dwh_dds.acc_transaction_1_prt_158_2020_04_16</td>\n",
       "      <td>0</td>\n",
       "      <td>btree (trn_dt_acnt_gid)</td>\n",
       "      <td>btree</td>\n",
       "      <td>trn_dt_acnt_gid</td>\n",
       "    </tr>\n",
       "  </tbody>\n",
       "</table>\n",
       "</div>"
      ],
      "text/plain": [
       "     schemaname        base_name                             tablename  \\\n",
       "8820  dwh_stage     s01_t_trndtl     s01_t_trndtl_1_prt_160_2021_04_22   \n",
       "1727   dwh_bckp    s01_t_dea_bkp    s01_t_dea_bkp_1_prt_208_2020_09_13   \n",
       "2816    dwh_dds  acc_transaction  acc_transaction_1_prt_158_2020_04_16   \n",
       "\n",
       "                                                     indexname  inds_count  \\\n",
       "8820                  s01_t_trndtl_1_prt_160_2021_04_22_id_idx           4   \n",
       "1727             s01_t_dea_bkp_1_prt_208_2020_09_13_dea_id_idx           2   \n",
       "2816  acc_transaction_1_prt_158_2020_04_16_trn_dt_acnt_gid_idx           4   \n",
       "\n",
       "      ind  \\\n",
       "8820    4   \n",
       "1727    2   \n",
       "2816    2   \n",
       "\n",
       "                                                                                                                                                 indexdef  \\\n",
       "8820                                CREATE INDEX s01_t_trndtl_1_prt_160_2021_04_22_id_idx ON dwh_stage.s01_t_trndtl_1_prt_160_2021_04_22 USING btree (id)   \n",
       "1727                       CREATE INDEX s01_t_dea_bkp_1_prt_208_2020_09_13_dea_id_idx ON dwh_bckp.s01_t_dea_bkp_1_prt_208_2020_09_13 USING btree (dea_id)   \n",
       "2816  CREATE INDEX acc_transaction_1_prt_158_2020_04_16_trn_dt_acnt_gid_idx ON dwh_dds.acc_transaction_1_prt_158_2020_04_16 USING btree (trn_dt_acnt_gid)   \n",
       "\n",
       "                                   full_table_name  uniq  \\\n",
       "8820   dwh_stage.s01_t_trndtl_1_prt_160_2021_04_22     0   \n",
       "1727   dwh_bckp.s01_t_dea_bkp_1_prt_208_2020_09_13     0   \n",
       "2816  dwh_dds.acc_transaction_1_prt_158_2020_04_16     0   \n",
       "\n",
       "                short_idx_def idx_type       ind_fields  \n",
       "8820               btree (id)    btree               id  \n",
       "1727           btree (dea_id)    btree           dea_id  \n",
       "2816  btree (trn_dt_acnt_gid)    btree  trn_dt_acnt_gid  "
      ]
     },
     "execution_count": 13,
     "metadata": {},
     "output_type": "execute_result"
    }
   ],
   "source": [
    "test.sample(3)"
   ]
  },
  {
   "cell_type": "markdown",
   "metadata": {},
   "source": [
    "Убираем партиции"
   ]
  },
  {
   "cell_type": "code",
   "execution_count": 14,
   "metadata": {},
   "outputs": [
    {
     "data": {
      "text/html": [
       "<div>\n",
       "<style scoped>\n",
       "    .dataframe tbody tr th:only-of-type {\n",
       "        vertical-align: middle;\n",
       "    }\n",
       "\n",
       "    .dataframe tbody tr th {\n",
       "        vertical-align: top;\n",
       "    }\n",
       "\n",
       "    .dataframe thead th {\n",
       "        text-align: right;\n",
       "    }\n",
       "</style>\n",
       "<table border=\"1\" class=\"dataframe\">\n",
       "  <thead>\n",
       "    <tr style=\"text-align: right;\">\n",
       "      <th></th>\n",
       "      <th>schemaname</th>\n",
       "      <th>base_name</th>\n",
       "      <th>tablename</th>\n",
       "      <th>indexname</th>\n",
       "      <th>inds_count</th>\n",
       "      <th>ind</th>\n",
       "      <th>indexdef</th>\n",
       "      <th>full_table_name</th>\n",
       "      <th>uniq</th>\n",
       "      <th>short_idx_def</th>\n",
       "      <th>idx_type</th>\n",
       "      <th>ind_fields</th>\n",
       "    </tr>\n",
       "  </thead>\n",
       "  <tbody>\n",
       "    <tr>\n",
       "      <th>6615</th>\n",
       "      <td>dwh_stage</td>\n",
       "      <td>s01_g_bnkdsc_std</td>\n",
       "      <td>s01_g_bnkdsc_std</td>\n",
       "      <td>s01_g_bnkdsc_std_pk</td>\n",
       "      <td>1</td>\n",
       "      <td>1</td>\n",
       "      <td>CREATE UNIQUE INDEX s01_g_bnkdsc_std_pk ON dwh_stage.s01_g_bnkdsc_std USING btree (id)</td>\n",
       "      <td>dwh_stage.s01_g_bnkdsc_std</td>\n",
       "      <td>1</td>\n",
       "      <td>btree (id)</td>\n",
       "      <td>btree</td>\n",
       "      <td>id</td>\n",
       "    </tr>\n",
       "    <tr>\n",
       "      <th>8223</th>\n",
       "      <td>dwh_stage</td>\n",
       "      <td>s01_t_deaext</td>\n",
       "      <td>s01_t_deaext</td>\n",
       "      <td>pk_t_deaext_refer</td>\n",
       "      <td>1</td>\n",
       "      <td>1</td>\n",
       "      <td>CREATE UNIQUE INDEX pk_t_deaext_refer ON dwh_stage.s01_t_deaext USING btree (refer)</td>\n",
       "      <td>dwh_stage.s01_t_deaext</td>\n",
       "      <td>1</td>\n",
       "      <td>btree (refer)</td>\n",
       "      <td>btree</td>\n",
       "      <td>refer</td>\n",
       "    </tr>\n",
       "    <tr>\n",
       "      <th>4184</th>\n",
       "      <td>dwh_dds</td>\n",
       "      <td>ref_pledge_obj_link</td>\n",
       "      <td>ref_pledge_obj_link</td>\n",
       "      <td>ref_pledge_obj_link_tmp_v2_pledobjlnk_crncy_cd_idx</td>\n",
       "      <td>3</td>\n",
       "      <td>2</td>\n",
       "      <td>CREATE INDEX ref_pledge_obj_link_tmp_v2_pledobjlnk_crncy_cd_idx ON dwh_dds.ref_pledge_obj_link USING btree (pledobjlnk_dlpled_gid)</td>\n",
       "      <td>dwh_dds.ref_pledge_obj_link</td>\n",
       "      <td>0</td>\n",
       "      <td>btree (pledobjlnk_dlpled_gid)</td>\n",
       "      <td>btree</td>\n",
       "      <td>pledobjlnk_dlpled_gid</td>\n",
       "    </tr>\n",
       "  </tbody>\n",
       "</table>\n",
       "</div>"
      ],
      "text/plain": [
       "     schemaname            base_name            tablename  \\\n",
       "6615  dwh_stage     s01_g_bnkdsc_std     s01_g_bnkdsc_std   \n",
       "8223  dwh_stage         s01_t_deaext         s01_t_deaext   \n",
       "4184    dwh_dds  ref_pledge_obj_link  ref_pledge_obj_link   \n",
       "\n",
       "                                               indexname  inds_count  ind  \\\n",
       "6615                                 s01_g_bnkdsc_std_pk           1    1   \n",
       "8223                                   pk_t_deaext_refer           1    1   \n",
       "4184  ref_pledge_obj_link_tmp_v2_pledobjlnk_crncy_cd_idx           3    2   \n",
       "\n",
       "                                                                                                                                indexdef  \\\n",
       "6615                                              CREATE UNIQUE INDEX s01_g_bnkdsc_std_pk ON dwh_stage.s01_g_bnkdsc_std USING btree (id)   \n",
       "8223                                                 CREATE UNIQUE INDEX pk_t_deaext_refer ON dwh_stage.s01_t_deaext USING btree (refer)   \n",
       "4184  CREATE INDEX ref_pledge_obj_link_tmp_v2_pledobjlnk_crncy_cd_idx ON dwh_dds.ref_pledge_obj_link USING btree (pledobjlnk_dlpled_gid)   \n",
       "\n",
       "                  full_table_name  uniq                  short_idx_def  \\\n",
       "6615   dwh_stage.s01_g_bnkdsc_std     1                     btree (id)   \n",
       "8223       dwh_stage.s01_t_deaext     1                  btree (refer)   \n",
       "4184  dwh_dds.ref_pledge_obj_link     0  btree (pledobjlnk_dlpled_gid)   \n",
       "\n",
       "     idx_type             ind_fields  \n",
       "6615    btree                     id  \n",
       "8223    btree                  refer  \n",
       "4184    btree  pledobjlnk_dlpled_gid  "
      ]
     },
     "execution_count": 14,
     "metadata": {},
     "output_type": "execute_result"
    }
   ],
   "source": [
    "test = test[test['schemaname'] + '.' + test['tablename'] == test['schemaname'] + '.' + test['base_name']]\n",
    "test.sample(3)"
   ]
  },
  {
   "cell_type": "code",
   "execution_count": 15,
   "metadata": {
    "scrolled": true
   },
   "outputs": [
    {
     "name": "stdout",
     "output_type": "stream",
     "text": [
      "<class 'pandas.core.frame.DataFrame'>\n",
      "Int64Index: 581 entries, 0 to 7959\n",
      "Data columns (total 12 columns):\n",
      " #   Column           Non-Null Count  Dtype \n",
      "---  ------           --------------  ----- \n",
      " 0   schemaname       581 non-null    object\n",
      " 1   base_name        581 non-null    object\n",
      " 2   tablename        581 non-null    object\n",
      " 3   indexname        581 non-null    object\n",
      " 4   inds_count       581 non-null    int64 \n",
      " 5   ind              581 non-null    int64 \n",
      " 6   indexdef         581 non-null    object\n",
      " 7   full_table_name  581 non-null    object\n",
      " 8   uniq             581 non-null    int64 \n",
      " 9   short_idx_def    581 non-null    object\n",
      " 10  idx_type         581 non-null    object\n",
      " 11  ind_fields       581 non-null    object\n",
      "dtypes: int64(3), object(9)\n",
      "memory usage: 59.0+ KB\n"
     ]
    }
   ],
   "source": [
    "prod.info()"
   ]
  },
  {
   "cell_type": "code",
   "execution_count": 16,
   "metadata": {
    "scrolled": true
   },
   "outputs": [
    {
     "name": "stdout",
     "output_type": "stream",
     "text": [
      "<class 'pandas.core.frame.DataFrame'>\n",
      "Int64Index: 594 entries, 0 to 11540\n",
      "Data columns (total 12 columns):\n",
      " #   Column           Non-Null Count  Dtype \n",
      "---  ------           --------------  ----- \n",
      " 0   schemaname       594 non-null    object\n",
      " 1   base_name        594 non-null    object\n",
      " 2   tablename        594 non-null    object\n",
      " 3   indexname        594 non-null    object\n",
      " 4   inds_count       594 non-null    int64 \n",
      " 5   ind              594 non-null    int64 \n",
      " 6   indexdef         594 non-null    object\n",
      " 7   full_table_name  594 non-null    object\n",
      " 8   uniq             594 non-null    int64 \n",
      " 9   short_idx_def    594 non-null    object\n",
      " 10  idx_type         594 non-null    object\n",
      " 11  ind_fields       594 non-null    object\n",
      "dtypes: int64(3), object(9)\n",
      "memory usage: 60.3+ KB\n"
     ]
    }
   ],
   "source": [
    "test.info()"
   ]
  },
  {
   "cell_type": "markdown",
   "metadata": {},
   "source": [
    "### Сверяем только те таблицы, что есть и на Прод и на Тест"
   ]
  },
  {
   "cell_type": "markdown",
   "metadata": {},
   "source": [
    "Удалим лишние столбцы"
   ]
  },
  {
   "cell_type": "markdown",
   "metadata": {},
   "source": [
    "Прод"
   ]
  },
  {
   "cell_type": "code",
   "execution_count": 17,
   "metadata": {
    "scrolled": false
   },
   "outputs": [
    {
     "data": {
      "text/html": [
       "<div>\n",
       "<style scoped>\n",
       "    .dataframe tbody tr th:only-of-type {\n",
       "        vertical-align: middle;\n",
       "    }\n",
       "\n",
       "    .dataframe tbody tr th {\n",
       "        vertical-align: top;\n",
       "    }\n",
       "\n",
       "    .dataframe thead th {\n",
       "        text-align: right;\n",
       "    }\n",
       "</style>\n",
       "<table border=\"1\" class=\"dataframe\">\n",
       "  <thead>\n",
       "    <tr style=\"text-align: right;\">\n",
       "      <th></th>\n",
       "      <th>schemaname</th>\n",
       "      <th>base_name</th>\n",
       "      <th>tablename</th>\n",
       "      <th>indexname</th>\n",
       "      <th>inds_count</th>\n",
       "      <th>ind</th>\n",
       "      <th>indexdef</th>\n",
       "      <th>full_table_name</th>\n",
       "      <th>uniq</th>\n",
       "      <th>short_idx_def</th>\n",
       "      <th>idx_type</th>\n",
       "      <th>ind_fields</th>\n",
       "    </tr>\n",
       "  </thead>\n",
       "  <tbody>\n",
       "    <tr>\n",
       "      <th>14</th>\n",
       "      <td>dwh_bckp</td>\n",
       "      <td>s01_led_acc_det_bkp</td>\n",
       "      <td>s01_led_acc_det_bkp</td>\n",
       "      <td>s01_led_acc_det_bkp_pk2_idx</td>\n",
       "      <td>4</td>\n",
       "      <td>3</td>\n",
       "      <td>CREATE INDEX s01_led_acc_det_bkp_pk2_idx ON dwh_bckp.s01_led_acc_det_bkp USING btree (((pk2)::integer))</td>\n",
       "      <td>dwh_bckp.s01_led_acc_det_bkp</td>\n",
       "      <td>0</td>\n",
       "      <td>btree (((pk2)::integer))</td>\n",
       "      <td>btree</td>\n",
       "      <td></td>\n",
       "    </tr>\n",
       "    <tr>\n",
       "      <th>5346</th>\n",
       "      <td>dwh_stage</td>\n",
       "      <td>s01_ledacc_det</td>\n",
       "      <td>s01_ledacc_det</td>\n",
       "      <td>s01_ledacc_det_pk2_idx</td>\n",
       "      <td>4</td>\n",
       "      <td>4</td>\n",
       "      <td>CREATE INDEX s01_ledacc_det_pk2_idx ON dwh_stage.s01_ledacc_det USING btree (((pk2)::integer))</td>\n",
       "      <td>dwh_stage.s01_ledacc_det</td>\n",
       "      <td>0</td>\n",
       "      <td>btree (((pk2)::integer))</td>\n",
       "      <td>btree</td>\n",
       "      <td></td>\n",
       "    </tr>\n",
       "  </tbody>\n",
       "</table>\n",
       "</div>"
      ],
      "text/plain": [
       "     schemaname            base_name            tablename  \\\n",
       "14     dwh_bckp  s01_led_acc_det_bkp  s01_led_acc_det_bkp   \n",
       "5346  dwh_stage       s01_ledacc_det       s01_ledacc_det   \n",
       "\n",
       "                        indexname  inds_count  ind  \\\n",
       "14    s01_led_acc_det_bkp_pk2_idx           4    3   \n",
       "5346       s01_ledacc_det_pk2_idx           4    4   \n",
       "\n",
       "                                                                                                     indexdef  \\\n",
       "14    CREATE INDEX s01_led_acc_det_bkp_pk2_idx ON dwh_bckp.s01_led_acc_det_bkp USING btree (((pk2)::integer))   \n",
       "5346           CREATE INDEX s01_ledacc_det_pk2_idx ON dwh_stage.s01_ledacc_det USING btree (((pk2)::integer))   \n",
       "\n",
       "                   full_table_name  uniq             short_idx_def idx_type  \\\n",
       "14    dwh_bckp.s01_led_acc_det_bkp     0  btree (((pk2)::integer))    btree   \n",
       "5346      dwh_stage.s01_ledacc_det     0  btree (((pk2)::integer))    btree   \n",
       "\n",
       "     ind_fields  \n",
       "14               \n",
       "5346             "
      ]
     },
     "execution_count": 17,
     "metadata": {},
     "output_type": "execute_result"
    }
   ],
   "source": [
    "#Проверим сначала частный случай, когда столбец ind_fields содержит пустоту\n",
    "prod[prod.ind_fields.str.strip()=='']"
   ]
  },
  {
   "cell_type": "markdown",
   "metadata": {},
   "source": [
    "Эти таблицы можно проверить вручную. Создаем список таблиц для сравнения вручную"
   ]
  },
  {
   "cell_type": "code",
   "execution_count": 18,
   "metadata": {},
   "outputs": [],
   "source": [
    "tabs_nonstandard_indexdef = ['dwh_stage.s01_led_acc_det_bkp', 'dwh_stage.s01_ledacc_det']"
   ]
  },
  {
   "cell_type": "code",
   "execution_count": 19,
   "metadata": {
    "scrolled": false
   },
   "outputs": [
    {
     "data": {
      "text/html": [
       "<div>\n",
       "<style scoped>\n",
       "    .dataframe tbody tr th:only-of-type {\n",
       "        vertical-align: middle;\n",
       "    }\n",
       "\n",
       "    .dataframe tbody tr th {\n",
       "        vertical-align: top;\n",
       "    }\n",
       "\n",
       "    .dataframe thead th {\n",
       "        text-align: right;\n",
       "    }\n",
       "</style>\n",
       "<table border=\"1\" class=\"dataframe\">\n",
       "  <thead>\n",
       "    <tr style=\"text-align: right;\">\n",
       "      <th></th>\n",
       "      <th>schemaname</th>\n",
       "      <th>tablename</th>\n",
       "      <th>indexname</th>\n",
       "      <th>inds_count</th>\n",
       "      <th>ind</th>\n",
       "      <th>full_table_name</th>\n",
       "      <th>uniq</th>\n",
       "      <th>idx_type</th>\n",
       "      <th>ind_fields</th>\n",
       "    </tr>\n",
       "  </thead>\n",
       "  <tbody>\n",
       "    <tr>\n",
       "      <th>3750</th>\n",
       "      <td>dwh_dds</td>\n",
       "      <td>dict_sources</td>\n",
       "      <td>dict_sources_pk</td>\n",
       "      <td>1</td>\n",
       "      <td>1</td>\n",
       "      <td>dwh_dds.dict_sources</td>\n",
       "      <td>1</td>\n",
       "      <td>btree</td>\n",
       "      <td>src_cd</td>\n",
       "    </tr>\n",
       "    <tr>\n",
       "      <th>5266</th>\n",
       "      <td>dwh_stage</td>\n",
       "      <td>s01_g_accbln</td>\n",
       "      <td>s01_g_accbln_dep_id_idx</td>\n",
       "      <td>4</td>\n",
       "      <td>3</td>\n",
       "      <td>dwh_stage.s01_g_accbln</td>\n",
       "      <td>0</td>\n",
       "      <td>btree</td>\n",
       "      <td>dep_id, ord_id</td>\n",
       "    </tr>\n",
       "    <tr>\n",
       "      <th>5391</th>\n",
       "      <td>dwh_stage</td>\n",
       "      <td>s01_sk_issuequotes</td>\n",
       "      <td>pk_s01_sk_issuequotes</td>\n",
       "      <td>1</td>\n",
       "      <td>1</td>\n",
       "      <td>dwh_stage.s01_sk_issuequotes</td>\n",
       "      <td>1</td>\n",
       "      <td>btree</td>\n",
       "      <td>id, fromdate, infagn_id, type_quotes</td>\n",
       "    </tr>\n",
       "  </tbody>\n",
       "</table>\n",
       "</div>"
      ],
      "text/plain": [
       "     schemaname           tablename                indexname  inds_count  ind  \\\n",
       "3750    dwh_dds        dict_sources          dict_sources_pk           1    1   \n",
       "5266  dwh_stage        s01_g_accbln  s01_g_accbln_dep_id_idx           4    3   \n",
       "5391  dwh_stage  s01_sk_issuequotes    pk_s01_sk_issuequotes           1    1   \n",
       "\n",
       "                   full_table_name  uniq idx_type  \\\n",
       "3750          dwh_dds.dict_sources     1    btree   \n",
       "5266        dwh_stage.s01_g_accbln     0    btree   \n",
       "5391  dwh_stage.s01_sk_issuequotes     1    btree   \n",
       "\n",
       "                                ind_fields  \n",
       "3750                                src_cd  \n",
       "5266                        dep_id, ord_id  \n",
       "5391  id, fromdate, infagn_id, type_quotes  "
      ]
     },
     "execution_count": 19,
     "metadata": {},
     "output_type": "execute_result"
    }
   ],
   "source": [
    "#Удаляем лишние столбцы\n",
    "prod.drop(['base_name', 'indexdef', 'short_idx_def'], inplace=True, axis = 1)\n",
    "prod.sample(3)"
   ]
  },
  {
   "cell_type": "markdown",
   "metadata": {},
   "source": [
    "Test"
   ]
  },
  {
   "cell_type": "code",
   "execution_count": 20,
   "metadata": {
    "scrolled": true
   },
   "outputs": [
    {
     "data": {
      "text/html": [
       "<div>\n",
       "<style scoped>\n",
       "    .dataframe tbody tr th:only-of-type {\n",
       "        vertical-align: middle;\n",
       "    }\n",
       "\n",
       "    .dataframe tbody tr th {\n",
       "        vertical-align: top;\n",
       "    }\n",
       "\n",
       "    .dataframe thead th {\n",
       "        text-align: right;\n",
       "    }\n",
       "</style>\n",
       "<table border=\"1\" class=\"dataframe\">\n",
       "  <thead>\n",
       "    <tr style=\"text-align: right;\">\n",
       "      <th></th>\n",
       "      <th>schemaname</th>\n",
       "      <th>base_name</th>\n",
       "      <th>tablename</th>\n",
       "      <th>indexname</th>\n",
       "      <th>inds_count</th>\n",
       "      <th>ind</th>\n",
       "      <th>indexdef</th>\n",
       "      <th>full_table_name</th>\n",
       "      <th>uniq</th>\n",
       "      <th>short_idx_def</th>\n",
       "      <th>idx_type</th>\n",
       "      <th>ind_fields</th>\n",
       "    </tr>\n",
       "  </thead>\n",
       "  <tbody>\n",
       "    <tr>\n",
       "      <th>16</th>\n",
       "      <td>dwh_bckp</td>\n",
       "      <td>s01_led_acc_det_bkp</td>\n",
       "      <td>s01_led_acc_det_bkp</td>\n",
       "      <td>s01_led_acc_det_bkp_pk2_idx</td>\n",
       "      <td>4</td>\n",
       "      <td>3</td>\n",
       "      <td>CREATE INDEX s01_led_acc_det_bkp_pk2_idx ON dwh_bckp.s01_led_acc_det_bkp USING btree (((pk2)::integer))</td>\n",
       "      <td>dwh_bckp.s01_led_acc_det_bkp</td>\n",
       "      <td>0</td>\n",
       "      <td>btree (((pk2)::integer))</td>\n",
       "      <td>btree</td>\n",
       "      <td></td>\n",
       "    </tr>\n",
       "    <tr>\n",
       "      <th>6687</th>\n",
       "      <td>dwh_stage</td>\n",
       "      <td>s01_ledacc_det</td>\n",
       "      <td>s01_ledacc_det</td>\n",
       "      <td>s01_ledacc_det_pk2_idx</td>\n",
       "      <td>4</td>\n",
       "      <td>4</td>\n",
       "      <td>CREATE INDEX s01_ledacc_det_pk2_idx ON dwh_stage.s01_ledacc_det USING btree (((pk2)::integer))</td>\n",
       "      <td>dwh_stage.s01_ledacc_det</td>\n",
       "      <td>0</td>\n",
       "      <td>btree (((pk2)::integer))</td>\n",
       "      <td>btree</td>\n",
       "      <td></td>\n",
       "    </tr>\n",
       "  </tbody>\n",
       "</table>\n",
       "</div>"
      ],
      "text/plain": [
       "     schemaname            base_name            tablename  \\\n",
       "16     dwh_bckp  s01_led_acc_det_bkp  s01_led_acc_det_bkp   \n",
       "6687  dwh_stage       s01_ledacc_det       s01_ledacc_det   \n",
       "\n",
       "                        indexname  inds_count  ind  \\\n",
       "16    s01_led_acc_det_bkp_pk2_idx           4    3   \n",
       "6687       s01_ledacc_det_pk2_idx           4    4   \n",
       "\n",
       "                                                                                                     indexdef  \\\n",
       "16    CREATE INDEX s01_led_acc_det_bkp_pk2_idx ON dwh_bckp.s01_led_acc_det_bkp USING btree (((pk2)::integer))   \n",
       "6687           CREATE INDEX s01_ledacc_det_pk2_idx ON dwh_stage.s01_ledacc_det USING btree (((pk2)::integer))   \n",
       "\n",
       "                   full_table_name  uniq             short_idx_def idx_type  \\\n",
       "16    dwh_bckp.s01_led_acc_det_bkp     0  btree (((pk2)::integer))    btree   \n",
       "6687      dwh_stage.s01_ledacc_det     0  btree (((pk2)::integer))    btree   \n",
       "\n",
       "     ind_fields  \n",
       "16               \n",
       "6687             "
      ]
     },
     "execution_count": 20,
     "metadata": {},
     "output_type": "execute_result"
    }
   ],
   "source": [
    "#Проверим сначала частный случай, когда столбец ind_fields содержит пустоту\n",
    "test[test.ind_fields.str.strip()=='']"
   ]
  },
  {
   "cell_type": "markdown",
   "metadata": {},
   "source": [
    "Эти таблицы можно проверить вручную"
   ]
  },
  {
   "cell_type": "code",
   "execution_count": 21,
   "metadata": {
    "scrolled": true
   },
   "outputs": [
    {
     "data": {
      "text/html": [
       "<div>\n",
       "<style scoped>\n",
       "    .dataframe tbody tr th:only-of-type {\n",
       "        vertical-align: middle;\n",
       "    }\n",
       "\n",
       "    .dataframe tbody tr th {\n",
       "        vertical-align: top;\n",
       "    }\n",
       "\n",
       "    .dataframe thead th {\n",
       "        text-align: right;\n",
       "    }\n",
       "</style>\n",
       "<table border=\"1\" class=\"dataframe\">\n",
       "  <thead>\n",
       "    <tr style=\"text-align: right;\">\n",
       "      <th></th>\n",
       "      <th>schemaname</th>\n",
       "      <th>tablename</th>\n",
       "      <th>indexname</th>\n",
       "      <th>inds_count</th>\n",
       "      <th>ind</th>\n",
       "      <th>full_table_name</th>\n",
       "      <th>uniq</th>\n",
       "      <th>idx_type</th>\n",
       "      <th>ind_fields</th>\n",
       "    </tr>\n",
       "  </thead>\n",
       "  <tbody>\n",
       "    <tr>\n",
       "      <th>6530</th>\n",
       "      <td>dwh_dm</td>\n",
       "      <td>dm_z12</td>\n",
       "      <td>dm_z12_dm_z12$report_date_IDX</td>\n",
       "      <td>1</td>\n",
       "      <td>1</td>\n",
       "      <td>dwh_dm.dm_z12</td>\n",
       "      <td>0</td>\n",
       "      <td>btree</td>\n",
       "      <td>\"dm_z12$report_date\" DESC</td>\n",
       "    </tr>\n",
       "    <tr>\n",
       "      <th>6562</th>\n",
       "      <td>dwh_polygon</td>\n",
       "      <td>geo</td>\n",
       "      <td>geo_pkey</td>\n",
       "      <td>1</td>\n",
       "      <td>1</td>\n",
       "      <td>dwh_polygon.geo</td>\n",
       "      <td>1</td>\n",
       "      <td>btree</td>\n",
       "      <td>id</td>\n",
       "    </tr>\n",
       "    <tr>\n",
       "      <th>4098</th>\n",
       "      <td>dwh_dds</td>\n",
       "      <td>ref_client_priv</td>\n",
       "      <td>ref_client_priv_dprt_gid_idx</td>\n",
       "      <td>2</td>\n",
       "      <td>1</td>\n",
       "      <td>dwh_dds.ref_client_priv</td>\n",
       "      <td>0</td>\n",
       "      <td>btree</td>\n",
       "      <td>clprv_dprt_gid</td>\n",
       "    </tr>\n",
       "  </tbody>\n",
       "</table>\n",
       "</div>"
      ],
      "text/plain": [
       "       schemaname        tablename                      indexname  inds_count  \\\n",
       "6530       dwh_dm           dm_z12  dm_z12_dm_z12$report_date_IDX           1   \n",
       "6562  dwh_polygon              geo                       geo_pkey           1   \n",
       "4098      dwh_dds  ref_client_priv   ref_client_priv_dprt_gid_idx           2   \n",
       "\n",
       "      ind          full_table_name  uniq idx_type                 ind_fields  \n",
       "6530    1            dwh_dm.dm_z12     0    btree  \"dm_z12$report_date\" DESC  \n",
       "6562    1          dwh_polygon.geo     1    btree                         id  \n",
       "4098    1  dwh_dds.ref_client_priv     0    btree             clprv_dprt_gid  "
      ]
     },
     "execution_count": 21,
     "metadata": {},
     "output_type": "execute_result"
    }
   ],
   "source": [
    "#Удаляем лишние столбцы\n",
    "test.drop(['base_name', 'indexdef', 'short_idx_def'], inplace=True, axis = 1)\n",
    "test.sample(3)"
   ]
  },
  {
   "cell_type": "markdown",
   "metadata": {},
   "source": [
    "### Выравниваем Прод и Тест"
   ]
  },
  {
   "cell_type": "code",
   "execution_count": 22,
   "metadata": {},
   "outputs": [
    {
     "data": {
      "text/html": [
       "<div>\n",
       "<style scoped>\n",
       "    .dataframe tbody tr th:only-of-type {\n",
       "        vertical-align: middle;\n",
       "    }\n",
       "\n",
       "    .dataframe tbody tr th {\n",
       "        vertical-align: top;\n",
       "    }\n",
       "\n",
       "    .dataframe thead th {\n",
       "        text-align: right;\n",
       "    }\n",
       "</style>\n",
       "<table border=\"1\" class=\"dataframe\">\n",
       "  <thead>\n",
       "    <tr style=\"text-align: right;\">\n",
       "      <th></th>\n",
       "      <th>full_table_name</th>\n",
       "    </tr>\n",
       "  </thead>\n",
       "  <tbody>\n",
       "    <tr>\n",
       "      <th>0</th>\n",
       "      <td>dwh_bckp.amara_corr_overdues</td>\n",
       "    </tr>\n",
       "    <tr>\n",
       "      <th>1</th>\n",
       "      <td>dwh_bckp.amara_rating_fitch</td>\n",
       "    </tr>\n",
       "  </tbody>\n",
       "</table>\n",
       "</div>"
      ],
      "text/plain": [
       "                full_table_name\n",
       "0  dwh_bckp.amara_corr_overdues\n",
       "1   dwh_bckp.amara_rating_fitch"
      ]
     },
     "execution_count": 22,
     "metadata": {},
     "output_type": "execute_result"
    }
   ],
   "source": [
    "prod2 = prod[['full_table_name']]\n",
    "prod2.head(2)"
   ]
  },
  {
   "cell_type": "code",
   "execution_count": 23,
   "metadata": {},
   "outputs": [
    {
     "data": {
      "text/html": [
       "<div>\n",
       "<style scoped>\n",
       "    .dataframe tbody tr th:only-of-type {\n",
       "        vertical-align: middle;\n",
       "    }\n",
       "\n",
       "    .dataframe tbody tr th {\n",
       "        vertical-align: top;\n",
       "    }\n",
       "\n",
       "    .dataframe thead th {\n",
       "        text-align: right;\n",
       "    }\n",
       "</style>\n",
       "<table border=\"1\" class=\"dataframe\">\n",
       "  <thead>\n",
       "    <tr style=\"text-align: right;\">\n",
       "      <th></th>\n",
       "      <th>full_table_name</th>\n",
       "    </tr>\n",
       "  </thead>\n",
       "  <tbody>\n",
       "    <tr>\n",
       "      <th>0</th>\n",
       "      <td>dwh_bckp.amara_rating_fitch</td>\n",
       "    </tr>\n",
       "    <tr>\n",
       "      <th>1</th>\n",
       "      <td>dwh_bckp.amara_rating_fitch_forecast</td>\n",
       "    </tr>\n",
       "  </tbody>\n",
       "</table>\n",
       "</div>"
      ],
      "text/plain": [
       "                        full_table_name\n",
       "0           dwh_bckp.amara_rating_fitch\n",
       "1  dwh_bckp.amara_rating_fitch_forecast"
      ]
     },
     "execution_count": 23,
     "metadata": {},
     "output_type": "execute_result"
    }
   ],
   "source": [
    "test2 = test[['full_table_name']]\n",
    "test2.head(2)"
   ]
  },
  {
   "cell_type": "code",
   "execution_count": 24,
   "metadata": {},
   "outputs": [
    {
     "name": "stdout",
     "output_type": "stream",
     "text": [
      "<class 'pandas.core.frame.DataFrame'>\n",
      "Int64Index: 594 entries, 0 to 11540\n",
      "Data columns (total 1 columns):\n",
      " #   Column           Non-Null Count  Dtype \n",
      "---  ------           --------------  ----- \n",
      " 0   full_table_name  594 non-null    object\n",
      "dtypes: object(1)\n",
      "memory usage: 9.3+ KB\n"
     ]
    }
   ],
   "source": [
    "test2.info()"
   ]
  },
  {
   "cell_type": "markdown",
   "metadata": {},
   "source": [
    "Готовим список нужных имен таблиц (которые есть и на Прод и на Тест)"
   ]
  },
  {
   "cell_type": "code",
   "execution_count": 25,
   "metadata": {},
   "outputs": [
    {
     "data": {
      "text/html": [
       "<div>\n",
       "<style scoped>\n",
       "    .dataframe tbody tr th:only-of-type {\n",
       "        vertical-align: middle;\n",
       "    }\n",
       "\n",
       "    .dataframe tbody tr th {\n",
       "        vertical-align: top;\n",
       "    }\n",
       "\n",
       "    .dataframe thead th {\n",
       "        text-align: right;\n",
       "    }\n",
       "</style>\n",
       "<table border=\"1\" class=\"dataframe\">\n",
       "  <thead>\n",
       "    <tr style=\"text-align: right;\">\n",
       "      <th></th>\n",
       "      <th>full_table_name</th>\n",
       "    </tr>\n",
       "  </thead>\n",
       "  <tbody>\n",
       "    <tr>\n",
       "      <th>0</th>\n",
       "      <td>dwh_bckp.amara_rating_fitch</td>\n",
       "    </tr>\n",
       "    <tr>\n",
       "      <th>1</th>\n",
       "      <td>dwh_bckp.amara_rating_fitch_forecast</td>\n",
       "    </tr>\n",
       "  </tbody>\n",
       "</table>\n",
       "</div>"
      ],
      "text/plain": [
       "                        full_table_name\n",
       "0           dwh_bckp.amara_rating_fitch\n",
       "1  dwh_bckp.amara_rating_fitch_forecast"
      ]
     },
     "execution_count": 25,
     "metadata": {},
     "output_type": "execute_result"
    }
   ],
   "source": [
    "prod2_test2_merge = prod2.merge(test2, on='full_table_name', how='inner')\n",
    "prod2_test2_merge.head(2)"
   ]
  },
  {
   "cell_type": "code",
   "execution_count": 26,
   "metadata": {},
   "outputs": [],
   "source": [
    "#Эти таблицы есть и на Прод и на Тест. Остальные будем удалять.\n",
    "not_to_delete = list(prod2_test2_merge.full_table_name.value_counts().index)"
   ]
  },
  {
   "cell_type": "code",
   "execution_count": 27,
   "metadata": {},
   "outputs": [
    {
     "data": {
      "text/plain": [
       "['dwh_dds.ref_sc_issue',\n",
       " 'dwh_dds.ref_deal_forex',\n",
       " 'dwh_dds.ref_sc_lot',\n",
       " 'dwh_dds.ref_sc_ticket',\n",
       " 'dwh_dds.ref_account',\n",
       " 'dwh_dds.ref_deal_scissue',\n",
       " 'dwh_dds.acc_sc_quote',\n",
       " 'dwh_dds.ref_gen_agreement',\n",
       " 'dwh_dds.ref_sc_rating',\n",
       " 'dwh_dds.ref_sc_identcode']"
      ]
     },
     "execution_count": 27,
     "metadata": {},
     "output_type": "execute_result"
    }
   ],
   "source": [
    "not_to_delete[:10] #Первые 10 элементов"
   ]
  },
  {
   "cell_type": "markdown",
   "metadata": {},
   "source": [
    "Теперь удаляем строки в Прод и Тест, не входящие в список по полю full_table_name"
   ]
  },
  {
   "cell_type": "markdown",
   "metadata": {},
   "source": [
    "Прод"
   ]
  },
  {
   "cell_type": "code",
   "execution_count": 28,
   "metadata": {},
   "outputs": [],
   "source": [
    "indices = prod[~(prod['full_table_name'].isin(not_to_delete))].index\n",
    "prod.drop(indices, inplace=True)"
   ]
  },
  {
   "cell_type": "markdown",
   "metadata": {},
   "source": [
    "Тест"
   ]
  },
  {
   "cell_type": "code",
   "execution_count": 29,
   "metadata": {},
   "outputs": [],
   "source": [
    "indices = test[~(test['full_table_name'].isin(not_to_delete))].index\n",
    "test.drop(indices, inplace=True)"
   ]
  },
  {
   "cell_type": "markdown",
   "metadata": {},
   "source": [
    "### Теперь наборы данных Прод и Тест содержат одинаковые таблицы и готовы к сравнению инднксов"
   ]
  },
  {
   "cell_type": "code",
   "execution_count": 30,
   "metadata": {},
   "outputs": [
    {
     "data": {
      "text/plain": [
       "573"
      ]
     },
     "execution_count": 30,
     "metadata": {},
     "output_type": "execute_result"
    }
   ],
   "source": [
    "len(prod)"
   ]
  },
  {
   "cell_type": "code",
   "execution_count": 31,
   "metadata": {},
   "outputs": [
    {
     "data": {
      "text/plain": [
       "566"
      ]
     },
     "execution_count": 31,
     "metadata": {},
     "output_type": "execute_result"
    }
   ],
   "source": [
    "len(test)"
   ]
  },
  {
   "cell_type": "markdown",
   "metadata": {},
   "source": [
    "Сравнение таблиц по количеству индексов:"
   ]
  },
  {
   "cell_type": "code",
   "execution_count": 32,
   "metadata": {},
   "outputs": [],
   "source": [
    "tabs_different_number_of_indices = set()"
   ]
  },
  {
   "cell_type": "code",
   "execution_count": 33,
   "metadata": {},
   "outputs": [],
   "source": [
    "def check_indexes_quantity(row):\n",
    "    '''Сравнивает количество индексов для таблиц на Прод и Тест и\n",
    "       если оно различно, добавляет таблицу во множество tabs_different_number_of_indices '''\n",
    "    if row['inds_count'] != test[test['full_table_name'] == row['full_table_name']].inds_count.max():\n",
    "        tabs_different_number_of_indices.add(row['full_table_name'])"
   ]
  },
  {
   "cell_type": "code",
   "execution_count": 34,
   "metadata": {
    "scrolled": true
   },
   "outputs": [
    {
     "data": {
      "text/plain": [
       "1       None\n",
       "2       None\n",
       "3       None\n",
       "4       None\n",
       "5       None\n",
       "        ... \n",
       "7955    None\n",
       "7956    None\n",
       "7957    None\n",
       "7958    None\n",
       "7959    None\n",
       "Length: 573, dtype: object"
      ]
     },
     "execution_count": 34,
     "metadata": {},
     "output_type": "execute_result"
    }
   ],
   "source": [
    "prod.apply(lambda r: check_indexes_quantity(r), axis=1)"
   ]
  },
  {
   "cell_type": "markdown",
   "metadata": {},
   "source": [
    "### Вот два списка таблиц, индексы которых будем сверять вручную:"
   ]
  },
  {
   "cell_type": "code",
   "execution_count": 35,
   "metadata": {},
   "outputs": [
    {
     "data": {
      "text/plain": [
       "['dwh_stage.s01_ansignval',\n",
       " 'dwh_stage.s01_t_deashdhst',\n",
       " 'dwh_dds.ref_sc_rating',\n",
       " 'dwh_dds.ref_sc_issue',\n",
       " 'dwh_stage.s01_t_operjrn',\n",
       " 'dwh_stage.s01_s_ordcash_add',\n",
       " 'dwh_stage.s01_g_accblnhst',\n",
       " 'dwh_dds.ref_sc_ticket',\n",
       " 'dwh_dds.ref_deal_scissue',\n",
       " 'dwh_dm.dm_transaction',\n",
       " 'dwh_dds.ref_interbank_deals',\n",
       " 'dwh_dds.acc_doc_payment',\n",
       " 'dwh_dds.ref_anl_account']"
      ]
     },
     "execution_count": 35,
     "metadata": {},
     "output_type": "execute_result"
    }
   ],
   "source": [
    "list(tabs_different_number_of_indices)"
   ]
  },
  {
   "cell_type": "code",
   "execution_count": 36,
   "metadata": {},
   "outputs": [
    {
     "data": {
      "text/plain": [
       "['dwh_stage.s01_led_acc_det_bkp', 'dwh_stage.s01_ledacc_det']"
      ]
     },
     "execution_count": 36,
     "metadata": {},
     "output_type": "execute_result"
    }
   ],
   "source": [
    "tabs_nonstandard_indexdef"
   ]
  },
  {
   "cell_type": "markdown",
   "metadata": {},
   "source": [
    "Теперь удалим строки с этими таблицами из Прод и Тест. Остальное можно попробовать сверить в автоматическом режиме"
   ]
  },
  {
   "cell_type": "code",
   "execution_count": 37,
   "metadata": {},
   "outputs": [
    {
     "data": {
      "text/plain": [
       "['dwh_stage.s01_ansignval',\n",
       " 'dwh_stage.s01_t_deashdhst',\n",
       " 'dwh_dds.ref_sc_rating',\n",
       " 'dwh_dds.ref_sc_issue',\n",
       " 'dwh_stage.s01_t_operjrn',\n",
       " 'dwh_stage.s01_s_ordcash_add',\n",
       " 'dwh_stage.s01_g_accblnhst',\n",
       " 'dwh_dds.ref_sc_ticket',\n",
       " 'dwh_dds.ref_deal_scissue',\n",
       " 'dwh_dm.dm_transaction',\n",
       " 'dwh_dds.ref_interbank_deals',\n",
       " 'dwh_dds.acc_doc_payment',\n",
       " 'dwh_dds.ref_anl_account',\n",
       " 'dwh_stage.s01_led_acc_det_bkp',\n",
       " 'dwh_stage.s01_ledacc_det']"
      ]
     },
     "execution_count": 37,
     "metadata": {},
     "output_type": "execute_result"
    }
   ],
   "source": [
    "#Общий список таблиц для сверки вручную\n",
    "tabs_to_manually_comparison = list(tabs_different_number_of_indices) + tabs_nonstandard_indexdef\n",
    "tabs_to_manually_comparison"
   ]
  },
  {
   "cell_type": "code",
   "execution_count": 38,
   "metadata": {},
   "outputs": [],
   "source": [
    "#Удаляем строки с этими таблицами:\n",
    "indices = prod[prod['full_table_name'].isin(tabs_to_manually_comparison)].index\n",
    "prod.drop(indices, inplace=True)\n",
    "\n",
    "indices = test[test['full_table_name'].isin(tabs_to_manually_comparison)].index\n",
    "test.drop(indices, inplace=True)"
   ]
  },
  {
   "cell_type": "code",
   "execution_count": 39,
   "metadata": {},
   "outputs": [
    {
     "data": {
      "text/plain": [
       "(498, 498)"
      ]
     },
     "execution_count": 39,
     "metadata": {},
     "output_type": "execute_result"
    }
   ],
   "source": [
    "len(prod), len(test)"
   ]
  },
  {
   "cell_type": "markdown",
   "metadata": {},
   "source": [
    "**Видим, что на Прод и Тест осталось одинаковое количество строк!**"
   ]
  },
  {
   "cell_type": "markdown",
   "metadata": {},
   "source": [
    "Сначала попробкем сверить уникальные индексы (primary keys)"
   ]
  },
  {
   "cell_type": "markdown",
   "metadata": {},
   "source": [
    "Определим таблицы с более чем одним уникальным индексом на Проде и Тесте отдельно:"
   ]
  },
  {
   "cell_type": "code",
   "execution_count": 40,
   "metadata": {
    "scrolled": true
   },
   "outputs": [
    {
     "data": {
      "text/plain": [
       "dwh_stage.s01_t_pcndsc_std            2\n",
       "dwh_stage.s01_t_acc                   2\n",
       "dwh_stage.s01_t_dea                   1\n",
       "dwh_dds.dict_fatca                    1\n",
       "dwh_stage.s01_l_mrtapprais            1\n",
       "                                     ..\n",
       "dwh_stage.s02_f_i                     1\n",
       "dwh_stage.s01_e_bnkdea                1\n",
       "dwh_dds.ref_pledge_object             1\n",
       "dwh_stage.s02_report_type             1\n",
       "dwh_stage.s02_acnt_balance_history    1\n",
       "Name: full_table_name, Length: 297, dtype: int64"
      ]
     },
     "execution_count": 40,
     "metadata": {},
     "output_type": "execute_result"
    }
   ],
   "source": [
    "prod[prod.uniq==1].full_table_name.value_counts()"
   ]
  },
  {
   "cell_type": "code",
   "execution_count": 41,
   "metadata": {
    "scrolled": false
   },
   "outputs": [
    {
     "data": {
      "text/plain": [
       "dwh_stage.s01_t_pcndsc_std            2\n",
       "dwh_stage.s01_t_acc                   2\n",
       "dwh_stage.s01_t_dea                   1\n",
       "dwh_stage.s01_c_attr_lng              1\n",
       "dwh_dds.dict_fatca                    1\n",
       "                                     ..\n",
       "dwh_dds.ref_product                   1\n",
       "dwh_stage.s02_f_i                     1\n",
       "dwh_stage.s01_e_bnkdea                1\n",
       "dwh_dds.ref_pledge_object             1\n",
       "dwh_stage.s02_acnt_balance_history    1\n",
       "Name: full_table_name, Length: 296, dtype: int64"
      ]
     },
     "execution_count": 41,
     "metadata": {},
     "output_type": "execute_result"
    }
   ],
   "source": [
    "test[test.uniq==1].full_table_name.value_counts()"
   ]
  },
  {
   "cell_type": "markdown",
   "metadata": {},
   "source": [
    "**На Прод и Тест таблицы с более чем одним уникальным индексом одни и те же, НО!, группировка по именам таблиц показывает,\n",
    "что на Тесте для какой-то таблицы нет уникального индекса при его налияии на Проде. Разные количества строк: 297 на Прод и 296 на Тест**"
   ]
  },
  {
   "cell_type": "code",
   "execution_count": 42,
   "metadata": {},
   "outputs": [],
   "source": [
    "tabs_diffrent_count_of_unique_indexes = ['dwh_stage.s01_t_acc', 'dwh_stage.s01_t_pcndsc_std']"
   ]
  },
  {
   "cell_type": "markdown",
   "metadata": {},
   "source": [
    "Добавляем этот список к списку для сверки вручную:"
   ]
  },
  {
   "cell_type": "code",
   "execution_count": 43,
   "metadata": {
    "scrolled": true
   },
   "outputs": [
    {
     "data": {
      "text/plain": [
       "['dwh_stage.s01_ansignval',\n",
       " 'dwh_stage.s01_t_deashdhst',\n",
       " 'dwh_dds.ref_sc_rating',\n",
       " 'dwh_dds.ref_sc_issue',\n",
       " 'dwh_stage.s01_t_operjrn',\n",
       " 'dwh_stage.s01_s_ordcash_add',\n",
       " 'dwh_stage.s01_g_accblnhst',\n",
       " 'dwh_dds.ref_sc_ticket',\n",
       " 'dwh_dds.ref_deal_scissue',\n",
       " 'dwh_dm.dm_transaction',\n",
       " 'dwh_dds.ref_interbank_deals',\n",
       " 'dwh_dds.acc_doc_payment',\n",
       " 'dwh_dds.ref_anl_account',\n",
       " 'dwh_stage.s01_led_acc_det_bkp',\n",
       " 'dwh_stage.s01_ledacc_det',\n",
       " 'dwh_stage.s01_t_acc',\n",
       " 'dwh_stage.s01_t_pcndsc_std']"
      ]
     },
     "execution_count": 43,
     "metadata": {},
     "output_type": "execute_result"
    }
   ],
   "source": [
    "tabs_to_manually_comparison += tabs_diffrent_count_of_unique_indexes\n",
    "tabs_to_manually_comparison"
   ]
  },
  {
   "cell_type": "code",
   "execution_count": 44,
   "metadata": {},
   "outputs": [
    {
     "data": {
      "text/plain": [
       "17"
      ]
     },
     "execution_count": 44,
     "metadata": {},
     "output_type": "execute_result"
    }
   ],
   "source": [
    "#Имеем 17 таблиц для сверки индексов вручную:\n",
    "len(tabs_to_manually_comparison)"
   ]
  },
  {
   "cell_type": "code",
   "execution_count": 45,
   "metadata": {},
   "outputs": [],
   "source": [
    "#Удаляем строки с этими таблицами:\n",
    "indices = prod[prod['full_table_name'].isin(tabs_diffrent_count_of_unique_indexes)].index\n",
    "prod.drop(indices, inplace=True)\n",
    "\n",
    "indices = test[test['full_table_name'].isin(tabs_diffrent_count_of_unique_indexes)].index\n",
    "test.drop(indices, inplace=True)"
   ]
  },
  {
   "cell_type": "code",
   "execution_count": 46,
   "metadata": {},
   "outputs": [
    {
     "data": {
      "text/plain": [
       "(494, 494)"
      ]
     },
     "execution_count": 46,
     "metadata": {},
     "output_type": "execute_result"
    }
   ],
   "source": [
    "len(prod), len(test)"
   ]
  },
  {
   "cell_type": "code",
   "execution_count": 47,
   "metadata": {},
   "outputs": [],
   "source": [
    "tabs_diffrent_unique_indexes = set()"
   ]
  },
  {
   "cell_type": "code",
   "execution_count": 48,
   "metadata": {},
   "outputs": [],
   "source": [
    "def extract_nonunique_indexes_test(row):\n",
    "    '''Определяет таблицы с неуникальными индексами на Тесте при их уникальности на Проде'''\n",
    "    \n",
    "    ind_type_on_test = test[(test.full_table_name==row.full_table_name) & (test.uniq==1)].idx_type\n",
    "    if len(ind_type_on_test) > 1:\n",
    "        raise ValueError('Table ' + row.full_table_name + ' has more then one unuque index')\n",
    "    \n",
    "    if len(ind_type_on_test) < 1:\n",
    "        print('На Тесте у таблицы ' + row.full_table_name + ' нет уникальных индексов (на Проде есть)') \n",
    "        tabs_diffrent_unique_indexes.add(row['full_table_name'])"
   ]
  },
  {
   "cell_type": "code",
   "execution_count": 49,
   "metadata": {
    "scrolled": false
   },
   "outputs": [
    {
     "name": "stdout",
     "output_type": "stream",
     "text": [
      "На Тесте у таблицы dwh_stage.s01_p_csrjrn нет уникальных индексов (на Проде есть)\n"
     ]
    },
    {
     "data": {
      "text/plain": [
       "1       None\n",
       "2       None\n",
       "3       None\n",
       "4       None\n",
       "5       None\n",
       "        ... \n",
       "7947    None\n",
       "7948    None\n",
       "7950    None\n",
       "7951    None\n",
       "7959    None\n",
       "Length: 295, dtype: object"
      ]
     },
     "execution_count": 49,
     "metadata": {},
     "output_type": "execute_result"
    }
   ],
   "source": [
    "prod[prod.uniq==1].apply(lambda r: extract_nonunique_indexes_test(r), axis=1)"
   ]
  },
  {
   "cell_type": "code",
   "execution_count": 50,
   "metadata": {},
   "outputs": [],
   "source": [
    "def extract_nonunique_indexes_prod(row):\n",
    "    '''Определяет таблицы с неуникальными индексами на Проде при их уникальности на Тесте'''\n",
    "    \n",
    "    ind_type_on_prod = prod[(prod.full_table_name==row.full_table_name) & (prod.uniq==1)].idx_type\n",
    "    if len(ind_type_on_prod) > 1:\n",
    "        raise ValueError('Table ' + row.full_table_name + ' has more then one unuque index')\n",
    "    \n",
    "    if len(ind_type_on_prod) < 1:\n",
    "        print('На Проде у таблицы ' + row.full_table_name + ' нет уникальных индексов (на Тесте есть)') \n",
    "        tabs_diffrent_unique_indexes.add(row['full_table_name'])"
   ]
  },
  {
   "cell_type": "code",
   "execution_count": 51,
   "metadata": {},
   "outputs": [
    {
     "data": {
      "text/plain": [
       "0        None\n",
       "1        None\n",
       "2        None\n",
       "3        None\n",
       "4        None\n",
       "         ... \n",
       "11527    None\n",
       "11528    None\n",
       "11530    None\n",
       "11531    None\n",
       "11540    None\n",
       "Length: 294, dtype: object"
      ]
     },
     "execution_count": 51,
     "metadata": {},
     "output_type": "execute_result"
    }
   ],
   "source": [
    "test[test.uniq==1].apply(lambda r: extract_nonunique_indexes_prod(r), axis=1)"
   ]
  },
  {
   "cell_type": "markdown",
   "metadata": {},
   "source": [
    "Таблицы с различием по уникальности индексов на Прод и Тест:"
   ]
  },
  {
   "cell_type": "code",
   "execution_count": 52,
   "metadata": {},
   "outputs": [
    {
     "data": {
      "text/plain": [
       "['dwh_stage.s01_p_csrjrn']"
      ]
     },
     "execution_count": 52,
     "metadata": {},
     "output_type": "execute_result"
    }
   ],
   "source": [
    "list(tabs_diffrent_unique_indexes)"
   ]
  },
  {
   "cell_type": "markdown",
   "metadata": {},
   "source": [
    "Удалим эту таблицу из рассмотрения на Прод и Тест:"
   ]
  },
  {
   "cell_type": "code",
   "execution_count": 53,
   "metadata": {},
   "outputs": [],
   "source": [
    "indices = prod[prod['full_table_name'].isin(list(tabs_diffrent_unique_indexes))].index\n",
    "prod.drop(indices, inplace=True)\n",
    "\n",
    "indices = test[test['full_table_name'].isin(list(tabs_diffrent_unique_indexes))].index\n",
    "test.drop(indices, inplace=True)"
   ]
  },
  {
   "cell_type": "code",
   "execution_count": 54,
   "metadata": {},
   "outputs": [
    {
     "data": {
      "text/plain": [
       "(493, 493)"
      ]
     },
     "execution_count": 54,
     "metadata": {},
     "output_type": "execute_result"
    }
   ],
   "source": [
    "len(prod), len(test)"
   ]
  },
  {
   "cell_type": "markdown",
   "metadata": {},
   "source": [
    "Теперь только можно попробовать сверить уникальные индексы по типам!"
   ]
  },
  {
   "cell_type": "code",
   "execution_count": 55,
   "metadata": {},
   "outputs": [
    {
     "data": {
      "text/plain": [
       "(294, 294)"
      ]
     },
     "execution_count": 55,
     "metadata": {},
     "output_type": "execute_result"
    }
   ],
   "source": [
    "#Оставшиеся для анализа (количество) уникальные индексы на Прод и Тест\n",
    "len(prod[prod.uniq==1]), len(test[test.uniq==1])"
   ]
  },
  {
   "cell_type": "code",
   "execution_count": 56,
   "metadata": {},
   "outputs": [],
   "source": [
    "def compare_unique_indexes_types(row):\n",
    "    '''Сверяет уникальные индексы по типу'''\n",
    "    #Сначала сверяем по типу:\n",
    "    ind_type_on_test = test[(test.full_table_name==row.full_table_name) & (test.uniq==1)].idx_type\n",
    "    \n",
    "    if len(ind_type_on_test) > 1:\n",
    "        raise ValueError('Table ' + row.full_table_name + ' has more then one unuque index')\n",
    "    \n",
    "    if len(ind_type_on_test) < 1:\n",
    "        raise ValueError('Table ' + row.full_table_name + ' has less then one unuque index')\n",
    "    \n",
    "    if ind_type_on_test.iloc[0] != row.idx_type:\n",
    "        tabs_diffrent_unique_indexes.add(row['full_table_name'])"
   ]
  },
  {
   "cell_type": "code",
   "execution_count": 57,
   "metadata": {},
   "outputs": [
    {
     "data": {
      "text/plain": [
       "1       None\n",
       "2       None\n",
       "3       None\n",
       "4       None\n",
       "5       None\n",
       "        ... \n",
       "7947    None\n",
       "7948    None\n",
       "7950    None\n",
       "7951    None\n",
       "7959    None\n",
       "Length: 294, dtype: object"
      ]
     },
     "execution_count": 57,
     "metadata": {},
     "output_type": "execute_result"
    }
   ],
   "source": [
    "prod[prod.uniq==1].apply(lambda r: compare_unique_indexes_types(r), axis=1)"
   ]
  },
  {
   "cell_type": "code",
   "execution_count": 58,
   "metadata": {},
   "outputs": [
    {
     "data": {
      "text/plain": [
       "{'dwh_stage.s01_p_csrjrn'}"
      ]
     },
     "execution_count": 58,
     "metadata": {},
     "output_type": "execute_result"
    }
   ],
   "source": [
    "tabs_diffrent_unique_indexes"
   ]
  },
  {
   "cell_type": "markdown",
   "metadata": {},
   "source": [
    "Никакие таблицы в список не добавились. Значит типы уникальных индексов на Прод и Тест совпадают"
   ]
  },
  {
   "cell_type": "markdown",
   "metadata": {},
   "source": [
    "Теперь пробуем сверять уникальные индексы по составу полей"
   ]
  },
  {
   "cell_type": "code",
   "execution_count": 59,
   "metadata": {},
   "outputs": [],
   "source": [
    "def compare_unique_indexes_columns(row):\n",
    "    '''Сверяет уникальные индексы по полям'''\n",
    "    #Сначала сверяем по типу:\n",
    "    ind_columns_on_test = test[(test.full_table_name==row.full_table_name) & (test.uniq==1)].ind_fields\n",
    "    \n",
    "    if len(ind_columns_on_test) > 1:\n",
    "        raise ValueError('Table ' + row.full_table_name + ' has more then one unuque index')\n",
    "    \n",
    "    if len(ind_columns_on_test) < 1:\n",
    "        raise ValueError('Table ' + row.full_table_name + ' has less then one unuque index')\n",
    "    \n",
    "    if ind_columns_on_test.iloc[0] != row.ind_fields:\n",
    "        tabs_diffrent_unique_indexes.add(row['full_table_name'])"
   ]
  },
  {
   "cell_type": "code",
   "execution_count": 60,
   "metadata": {},
   "outputs": [
    {
     "data": {
      "text/plain": [
       "1       None\n",
       "2       None\n",
       "3       None\n",
       "4       None\n",
       "5       None\n",
       "        ... \n",
       "7947    None\n",
       "7948    None\n",
       "7950    None\n",
       "7951    None\n",
       "7959    None\n",
       "Length: 294, dtype: object"
      ]
     },
     "execution_count": 60,
     "metadata": {},
     "output_type": "execute_result"
    }
   ],
   "source": [
    "prod[prod.uniq==1].apply(lambda r: compare_unique_indexes_columns(r), axis=1)"
   ]
  },
  {
   "cell_type": "code",
   "execution_count": 61,
   "metadata": {},
   "outputs": [
    {
     "data": {
      "text/plain": [
       "{'dwh_stage.s01_p_csrjrn'}"
      ]
     },
     "execution_count": 61,
     "metadata": {},
     "output_type": "execute_result"
    }
   ],
   "source": [
    "tabs_diffrent_unique_indexes"
   ]
  },
  {
   "cell_type": "markdown",
   "metadata": {},
   "source": [
    "Отлично! Поля в определениях уникальных индексов на Прод и Тест одни и те же!"
   ]
  },
  {
   "cell_type": "markdown",
   "metadata": {},
   "source": [
    "### Теперь уберем строки с уникальными инднксами и рассмотрим только обычные индексы"
   ]
  },
  {
   "cell_type": "code",
   "execution_count": 62,
   "metadata": {},
   "outputs": [],
   "source": [
    "indices = prod[prod['uniq']==1].index\n",
    "prod.drop(indices, inplace=True)\n",
    "\n",
    "indices = test[test['uniq']==1].index\n",
    "test.drop(indices, inplace=True)"
   ]
  },
  {
   "cell_type": "code",
   "execution_count": 63,
   "metadata": {},
   "outputs": [
    {
     "data": {
      "text/plain": [
       "(199, 199)"
      ]
     },
     "execution_count": 63,
     "metadata": {},
     "output_type": "execute_result"
    }
   ],
   "source": [
    "len(prod), len(test)"
   ]
  },
  {
   "cell_type": "code",
   "execution_count": null,
   "metadata": {},
   "outputs": [],
   "source": []
  }
 ],
 "metadata": {
  "kernelspec": {
   "display_name": "Python 3",
   "language": "python",
   "name": "python3"
  },
  "language_info": {
   "codemirror_mode": {
    "name": "ipython",
    "version": 3
   },
   "file_extension": ".py",
   "mimetype": "text/x-python",
   "name": "python",
   "nbconvert_exporter": "python",
   "pygments_lexer": "ipython3",
   "version": "3.7.6"
  }
 },
 "nbformat": 4,
 "nbformat_minor": 4
}
