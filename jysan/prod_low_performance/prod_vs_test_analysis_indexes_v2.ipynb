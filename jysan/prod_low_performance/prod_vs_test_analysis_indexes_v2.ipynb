{
 "cells": [
  {
   "cell_type": "markdown",
   "metadata": {},
   "source": [
    "# Анализ таблиц JDWH - Прод vs Тест"
   ]
  },
  {
   "cell_type": "code",
   "execution_count": 1,
   "metadata": {},
   "outputs": [],
   "source": [
    "import pandas as pd\n",
    "import numpy as np\n",
    "from datetime import datetime"
   ]
  },
  {
   "cell_type": "code",
   "execution_count": 2,
   "metadata": {},
   "outputs": [],
   "source": [
    "pd.set_option('display.max_columns', 50)\n",
    "pd.set_option('max_colwidth', 200)\n",
    "#pd.set_option('display.max_rows', 500)"
   ]
  },
  {
   "cell_type": "markdown",
   "metadata": {},
   "source": [
    "## Часть III. Индексы."
   ]
  },
  {
   "cell_type": "markdown",
   "metadata": {},
   "source": [
    "## 1. Загрузка и первичное преобразование данных"
   ]
  },
  {
   "cell_type": "markdown",
   "metadata": {},
   "source": [
    "### Прод"
   ]
  },
  {
   "cell_type": "code",
   "execution_count": 3,
   "metadata": {},
   "outputs": [],
   "source": [
    "prod = pd.read_csv('./data/indexes_prod_14122020.csv')"
   ]
  },
  {
   "cell_type": "code",
   "execution_count": 4,
   "metadata": {
    "scrolled": false
   },
   "outputs": [
    {
     "data": {
      "text/html": [
       "<div>\n",
       "<style scoped>\n",
       "    .dataframe tbody tr th:only-of-type {\n",
       "        vertical-align: middle;\n",
       "    }\n",
       "\n",
       "    .dataframe tbody tr th {\n",
       "        vertical-align: top;\n",
       "    }\n",
       "\n",
       "    .dataframe thead th {\n",
       "        text-align: right;\n",
       "    }\n",
       "</style>\n",
       "<table border=\"1\" class=\"dataframe\">\n",
       "  <thead>\n",
       "    <tr style=\"text-align: right;\">\n",
       "      <th></th>\n",
       "      <th>schemaname</th>\n",
       "      <th>base_name</th>\n",
       "      <th>tablename</th>\n",
       "      <th>indexname</th>\n",
       "      <th>inds_count</th>\n",
       "      <th>ind</th>\n",
       "      <th>indexdef</th>\n",
       "    </tr>\n",
       "  </thead>\n",
       "  <tbody>\n",
       "    <tr>\n",
       "      <th>0</th>\n",
       "      <td>dwh_bckp</td>\n",
       "      <td>amara_corr_overdues</td>\n",
       "      <td>amara_corr_overdues</td>\n",
       "      <td>pk_bckp_amara_corr_overdues</td>\n",
       "      <td>1</td>\n",
       "      <td>1</td>\n",
       "      <td>CREATE UNIQUE INDEX pk_bckp_amara_corr_overdues ON dwh_bckp.amara_corr_overdues USING btree (id, insert_date)</td>\n",
       "    </tr>\n",
       "    <tr>\n",
       "      <th>1</th>\n",
       "      <td>dwh_bckp</td>\n",
       "      <td>amara_rating_fitch</td>\n",
       "      <td>amara_rating_fitch</td>\n",
       "      <td>pk_bckp_amara_rating_fitch</td>\n",
       "      <td>1</td>\n",
       "      <td>1</td>\n",
       "      <td>CREATE UNIQUE INDEX pk_bckp_amara_rating_fitch ON dwh_bckp.amara_rating_fitch USING btree (id, insert_date)</td>\n",
       "    </tr>\n",
       "    <tr>\n",
       "      <th>2</th>\n",
       "      <td>dwh_bckp</td>\n",
       "      <td>amara_rating_fitch_forecast</td>\n",
       "      <td>amara_rating_fitch_forecast</td>\n",
       "      <td>pk_bckp_amara_rating_fitch_forecast</td>\n",
       "      <td>1</td>\n",
       "      <td>1</td>\n",
       "      <td>CREATE UNIQUE INDEX pk_bckp_amara_rating_fitch_forecast ON dwh_bckp.amara_rating_fitch_forecast USING btree (id, insert_date)</td>\n",
       "    </tr>\n",
       "  </tbody>\n",
       "</table>\n",
       "</div>"
      ],
      "text/plain": [
       "  schemaname                    base_name                    tablename  \\\n",
       "0   dwh_bckp          amara_corr_overdues          amara_corr_overdues   \n",
       "1   dwh_bckp           amara_rating_fitch           amara_rating_fitch   \n",
       "2   dwh_bckp  amara_rating_fitch_forecast  amara_rating_fitch_forecast   \n",
       "\n",
       "                             indexname  inds_count  ind  \\\n",
       "0          pk_bckp_amara_corr_overdues           1    1   \n",
       "1           pk_bckp_amara_rating_fitch           1    1   \n",
       "2  pk_bckp_amara_rating_fitch_forecast           1    1   \n",
       "\n",
       "                                                                                                                        indexdef  \n",
       "0                  CREATE UNIQUE INDEX pk_bckp_amara_corr_overdues ON dwh_bckp.amara_corr_overdues USING btree (id, insert_date)  \n",
       "1                    CREATE UNIQUE INDEX pk_bckp_amara_rating_fitch ON dwh_bckp.amara_rating_fitch USING btree (id, insert_date)  \n",
       "2  CREATE UNIQUE INDEX pk_bckp_amara_rating_fitch_forecast ON dwh_bckp.amara_rating_fitch_forecast USING btree (id, insert_date)  "
      ]
     },
     "execution_count": 4,
     "metadata": {},
     "output_type": "execute_result"
    }
   ],
   "source": [
    "prod.head(3)"
   ]
  },
  {
   "cell_type": "markdown",
   "metadata": {},
   "source": [
    "Добавим поле full_table_name"
   ]
  },
  {
   "cell_type": "code",
   "execution_count": 5,
   "metadata": {},
   "outputs": [],
   "source": [
    "prod['full_table_name'] = prod['schemaname'] + '.' + prod['tablename']"
   ]
  },
  {
   "cell_type": "markdown",
   "metadata": {},
   "source": [
    "Добавляем столбцы: признак уникальности (возможно это PK),тип индекска и его короткое определение"
   ]
  },
  {
   "cell_type": "code",
   "execution_count": 6,
   "metadata": {},
   "outputs": [],
   "source": [
    "prod['uniq'] = prod.indexdef.apply(lambda x: 1 if 'CREATE UNIQUE INDEX' in x else 0)\n",
    "prod['short_idx_def'] = prod.indexdef.apply(lambda x: x.split('USING')[1].strip())\n",
    "prod['idx_type'] = prod.short_idx_def.apply(lambda x: x.split('(')[0].strip())\n",
    "prod['ind_fields'] = prod.short_idx_def.apply(lambda x: x.split('(')[1].split(')')[0].strip())"
   ]
  },
  {
   "cell_type": "code",
   "execution_count": 7,
   "metadata": {
    "scrolled": true
   },
   "outputs": [
    {
     "data": {
      "text/html": [
       "<div>\n",
       "<style scoped>\n",
       "    .dataframe tbody tr th:only-of-type {\n",
       "        vertical-align: middle;\n",
       "    }\n",
       "\n",
       "    .dataframe tbody tr th {\n",
       "        vertical-align: top;\n",
       "    }\n",
       "\n",
       "    .dataframe thead th {\n",
       "        text-align: right;\n",
       "    }\n",
       "</style>\n",
       "<table border=\"1\" class=\"dataframe\">\n",
       "  <thead>\n",
       "    <tr style=\"text-align: right;\">\n",
       "      <th></th>\n",
       "      <th>schemaname</th>\n",
       "      <th>base_name</th>\n",
       "      <th>tablename</th>\n",
       "      <th>indexname</th>\n",
       "      <th>inds_count</th>\n",
       "      <th>ind</th>\n",
       "      <th>indexdef</th>\n",
       "      <th>full_table_name</th>\n",
       "      <th>uniq</th>\n",
       "      <th>short_idx_def</th>\n",
       "      <th>idx_type</th>\n",
       "      <th>ind_fields</th>\n",
       "    </tr>\n",
       "  </thead>\n",
       "  <tbody>\n",
       "    <tr>\n",
       "      <th>0</th>\n",
       "      <td>dwh_bckp</td>\n",
       "      <td>amara_corr_overdues</td>\n",
       "      <td>amara_corr_overdues</td>\n",
       "      <td>pk_bckp_amara_corr_overdues</td>\n",
       "      <td>1</td>\n",
       "      <td>1</td>\n",
       "      <td>CREATE UNIQUE INDEX pk_bckp_amara_corr_overdues ON dwh_bckp.amara_corr_overdues USING btree (id, insert_date)</td>\n",
       "      <td>dwh_bckp.amara_corr_overdues</td>\n",
       "      <td>1</td>\n",
       "      <td>btree (id, insert_date)</td>\n",
       "      <td>btree</td>\n",
       "      <td>id, insert_date</td>\n",
       "    </tr>\n",
       "    <tr>\n",
       "      <th>1</th>\n",
       "      <td>dwh_bckp</td>\n",
       "      <td>amara_rating_fitch</td>\n",
       "      <td>amara_rating_fitch</td>\n",
       "      <td>pk_bckp_amara_rating_fitch</td>\n",
       "      <td>1</td>\n",
       "      <td>1</td>\n",
       "      <td>CREATE UNIQUE INDEX pk_bckp_amara_rating_fitch ON dwh_bckp.amara_rating_fitch USING btree (id, insert_date)</td>\n",
       "      <td>dwh_bckp.amara_rating_fitch</td>\n",
       "      <td>1</td>\n",
       "      <td>btree (id, insert_date)</td>\n",
       "      <td>btree</td>\n",
       "      <td>id, insert_date</td>\n",
       "    </tr>\n",
       "    <tr>\n",
       "      <th>2</th>\n",
       "      <td>dwh_bckp</td>\n",
       "      <td>amara_rating_fitch_forecast</td>\n",
       "      <td>amara_rating_fitch_forecast</td>\n",
       "      <td>pk_bckp_amara_rating_fitch_forecast</td>\n",
       "      <td>1</td>\n",
       "      <td>1</td>\n",
       "      <td>CREATE UNIQUE INDEX pk_bckp_amara_rating_fitch_forecast ON dwh_bckp.amara_rating_fitch_forecast USING btree (id, insert_date)</td>\n",
       "      <td>dwh_bckp.amara_rating_fitch_forecast</td>\n",
       "      <td>1</td>\n",
       "      <td>btree (id, insert_date)</td>\n",
       "      <td>btree</td>\n",
       "      <td>id, insert_date</td>\n",
       "    </tr>\n",
       "  </tbody>\n",
       "</table>\n",
       "</div>"
      ],
      "text/plain": [
       "  schemaname                    base_name                    tablename  \\\n",
       "0   dwh_bckp          amara_corr_overdues          amara_corr_overdues   \n",
       "1   dwh_bckp           amara_rating_fitch           amara_rating_fitch   \n",
       "2   dwh_bckp  amara_rating_fitch_forecast  amara_rating_fitch_forecast   \n",
       "\n",
       "                             indexname  inds_count  ind  \\\n",
       "0          pk_bckp_amara_corr_overdues           1    1   \n",
       "1           pk_bckp_amara_rating_fitch           1    1   \n",
       "2  pk_bckp_amara_rating_fitch_forecast           1    1   \n",
       "\n",
       "                                                                                                                        indexdef  \\\n",
       "0                  CREATE UNIQUE INDEX pk_bckp_amara_corr_overdues ON dwh_bckp.amara_corr_overdues USING btree (id, insert_date)   \n",
       "1                    CREATE UNIQUE INDEX pk_bckp_amara_rating_fitch ON dwh_bckp.amara_rating_fitch USING btree (id, insert_date)   \n",
       "2  CREATE UNIQUE INDEX pk_bckp_amara_rating_fitch_forecast ON dwh_bckp.amara_rating_fitch_forecast USING btree (id, insert_date)   \n",
       "\n",
       "                        full_table_name  uniq            short_idx_def  \\\n",
       "0          dwh_bckp.amara_corr_overdues     1  btree (id, insert_date)   \n",
       "1           dwh_bckp.amara_rating_fitch     1  btree (id, insert_date)   \n",
       "2  dwh_bckp.amara_rating_fitch_forecast     1  btree (id, insert_date)   \n",
       "\n",
       "  idx_type       ind_fields  \n",
       "0    btree  id, insert_date  \n",
       "1    btree  id, insert_date  \n",
       "2    btree  id, insert_date  "
      ]
     },
     "execution_count": 7,
     "metadata": {},
     "output_type": "execute_result"
    }
   ],
   "source": [
    "prod.head(3)"
   ]
  },
  {
   "cell_type": "markdown",
   "metadata": {},
   "source": [
    "Убираем партиции"
   ]
  },
  {
   "cell_type": "code",
   "execution_count": 8,
   "metadata": {},
   "outputs": [
    {
     "data": {
      "text/html": [
       "<div>\n",
       "<style scoped>\n",
       "    .dataframe tbody tr th:only-of-type {\n",
       "        vertical-align: middle;\n",
       "    }\n",
       "\n",
       "    .dataframe tbody tr th {\n",
       "        vertical-align: top;\n",
       "    }\n",
       "\n",
       "    .dataframe thead th {\n",
       "        text-align: right;\n",
       "    }\n",
       "</style>\n",
       "<table border=\"1\" class=\"dataframe\">\n",
       "  <thead>\n",
       "    <tr style=\"text-align: right;\">\n",
       "      <th></th>\n",
       "      <th>schemaname</th>\n",
       "      <th>base_name</th>\n",
       "      <th>tablename</th>\n",
       "      <th>indexname</th>\n",
       "      <th>inds_count</th>\n",
       "      <th>ind</th>\n",
       "      <th>indexdef</th>\n",
       "      <th>full_table_name</th>\n",
       "      <th>uniq</th>\n",
       "      <th>short_idx_def</th>\n",
       "      <th>idx_type</th>\n",
       "      <th>ind_fields</th>\n",
       "    </tr>\n",
       "  </thead>\n",
       "  <tbody>\n",
       "    <tr>\n",
       "      <th>3838</th>\n",
       "      <td>dwh_dds</td>\n",
       "      <td>ref_deal_pledge</td>\n",
       "      <td>ref_deal_pledge</td>\n",
       "      <td>ref_deal_pledge_tmp_v2_dlpled_crncy_cd_idx</td>\n",
       "      <td>4</td>\n",
       "      <td>2</td>\n",
       "      <td>CREATE INDEX ref_deal_pledge_tmp_v2_dlpled_crncy_cd_idx ON dwh_dds.ref_deal_pledge USING btree (dlpled_prd_gid)</td>\n",
       "      <td>dwh_dds.ref_deal_pledge</td>\n",
       "      <td>0</td>\n",
       "      <td>btree (dlpled_prd_gid)</td>\n",
       "      <td>btree</td>\n",
       "      <td>dlpled_prd_gid</td>\n",
       "    </tr>\n",
       "    <tr>\n",
       "      <th>5355</th>\n",
       "      <td>dwh_stage</td>\n",
       "      <td>s01_m_ordpaydtl</td>\n",
       "      <td>s01_m_ordpaydtl</td>\n",
       "      <td>pk_s01_m_ordpaydtl</td>\n",
       "      <td>1</td>\n",
       "      <td>1</td>\n",
       "      <td>CREATE UNIQUE INDEX pk_s01_m_ordpaydtl ON dwh_stage.s01_m_ordpaydtl USING btree (nord)</td>\n",
       "      <td>dwh_stage.s01_m_ordpaydtl</td>\n",
       "      <td>1</td>\n",
       "      <td>btree (nord)</td>\n",
       "      <td>btree</td>\n",
       "      <td>nord</td>\n",
       "    </tr>\n",
       "    <tr>\n",
       "      <th>7940</th>\n",
       "      <td>dwh_stage</td>\n",
       "      <td>s02_cs_status_type</td>\n",
       "      <td>s02_cs_status_type</td>\n",
       "      <td>pk_s02_cs_status_type</td>\n",
       "      <td>1</td>\n",
       "      <td>1</td>\n",
       "      <td>CREATE UNIQUE INDEX pk_s02_cs_status_type ON dwh_stage.s02_cs_status_type USING btree (id)</td>\n",
       "      <td>dwh_stage.s02_cs_status_type</td>\n",
       "      <td>1</td>\n",
       "      <td>btree (id)</td>\n",
       "      <td>btree</td>\n",
       "      <td>id</td>\n",
       "    </tr>\n",
       "  </tbody>\n",
       "</table>\n",
       "</div>"
      ],
      "text/plain": [
       "     schemaname           base_name           tablename  \\\n",
       "3838    dwh_dds     ref_deal_pledge     ref_deal_pledge   \n",
       "5355  dwh_stage     s01_m_ordpaydtl     s01_m_ordpaydtl   \n",
       "7940  dwh_stage  s02_cs_status_type  s02_cs_status_type   \n",
       "\n",
       "                                       indexname  inds_count  ind  \\\n",
       "3838  ref_deal_pledge_tmp_v2_dlpled_crncy_cd_idx           4    2   \n",
       "5355                          pk_s01_m_ordpaydtl           1    1   \n",
       "7940                       pk_s02_cs_status_type           1    1   \n",
       "\n",
       "                                                                                                             indexdef  \\\n",
       "3838  CREATE INDEX ref_deal_pledge_tmp_v2_dlpled_crncy_cd_idx ON dwh_dds.ref_deal_pledge USING btree (dlpled_prd_gid)   \n",
       "5355                           CREATE UNIQUE INDEX pk_s01_m_ordpaydtl ON dwh_stage.s01_m_ordpaydtl USING btree (nord)   \n",
       "7940                       CREATE UNIQUE INDEX pk_s02_cs_status_type ON dwh_stage.s02_cs_status_type USING btree (id)   \n",
       "\n",
       "                   full_table_name  uniq           short_idx_def idx_type  \\\n",
       "3838       dwh_dds.ref_deal_pledge     0  btree (dlpled_prd_gid)    btree   \n",
       "5355     dwh_stage.s01_m_ordpaydtl     1            btree (nord)    btree   \n",
       "7940  dwh_stage.s02_cs_status_type     1              btree (id)    btree   \n",
       "\n",
       "          ind_fields  \n",
       "3838  dlpled_prd_gid  \n",
       "5355            nord  \n",
       "7940              id  "
      ]
     },
     "execution_count": 8,
     "metadata": {},
     "output_type": "execute_result"
    }
   ],
   "source": [
    "prod = prod[prod['schemaname'] + '.' + prod['tablename'] == prod['schemaname'] + '.' + prod['base_name']]\n",
    "prod.sample(3)"
   ]
  },
  {
   "cell_type": "markdown",
   "metadata": {},
   "source": [
    "=============================================================================================================="
   ]
  },
  {
   "cell_type": "markdown",
   "metadata": {},
   "source": [
    "### Тест"
   ]
  },
  {
   "cell_type": "code",
   "execution_count": 9,
   "metadata": {},
   "outputs": [],
   "source": [
    "test = pd.read_csv('./data/indexes_test_14122020.csv')"
   ]
  },
  {
   "cell_type": "code",
   "execution_count": 10,
   "metadata": {
    "scrolled": true
   },
   "outputs": [
    {
     "data": {
      "text/html": [
       "<div>\n",
       "<style scoped>\n",
       "    .dataframe tbody tr th:only-of-type {\n",
       "        vertical-align: middle;\n",
       "    }\n",
       "\n",
       "    .dataframe tbody tr th {\n",
       "        vertical-align: top;\n",
       "    }\n",
       "\n",
       "    .dataframe thead th {\n",
       "        text-align: right;\n",
       "    }\n",
       "</style>\n",
       "<table border=\"1\" class=\"dataframe\">\n",
       "  <thead>\n",
       "    <tr style=\"text-align: right;\">\n",
       "      <th></th>\n",
       "      <th>schemaname</th>\n",
       "      <th>base_name</th>\n",
       "      <th>tablename</th>\n",
       "      <th>indexname</th>\n",
       "      <th>inds_count</th>\n",
       "      <th>ind</th>\n",
       "      <th>indexdef</th>\n",
       "    </tr>\n",
       "  </thead>\n",
       "  <tbody>\n",
       "    <tr>\n",
       "      <th>0</th>\n",
       "      <td>dwh_bckp</td>\n",
       "      <td>amara_rating_fitch</td>\n",
       "      <td>amara_rating_fitch</td>\n",
       "      <td>pk_bckp_amara_rating_fitch</td>\n",
       "      <td>1</td>\n",
       "      <td>1</td>\n",
       "      <td>CREATE UNIQUE INDEX pk_bckp_amara_rating_fitch ON dwh_bckp.amara_rating_fitch USING btree (id, insert_date)</td>\n",
       "    </tr>\n",
       "    <tr>\n",
       "      <th>1</th>\n",
       "      <td>dwh_bckp</td>\n",
       "      <td>amara_rating_fitch_forecast</td>\n",
       "      <td>amara_rating_fitch_forecast</td>\n",
       "      <td>pk_bckp_amara_rating_fitch_forecast</td>\n",
       "      <td>1</td>\n",
       "      <td>1</td>\n",
       "      <td>CREATE UNIQUE INDEX pk_bckp_amara_rating_fitch_forecast ON dwh_bckp.amara_rating_fitch_forecast USING btree (id, insert_date)</td>\n",
       "    </tr>\n",
       "    <tr>\n",
       "      <th>2</th>\n",
       "      <td>dwh_bckp</td>\n",
       "      <td>amara_rating_fitch_short</td>\n",
       "      <td>amara_rating_fitch_short</td>\n",
       "      <td>pk_bckp_amara_rating_fitch_short</td>\n",
       "      <td>1</td>\n",
       "      <td>1</td>\n",
       "      <td>CREATE UNIQUE INDEX pk_bckp_amara_rating_fitch_short ON dwh_bckp.amara_rating_fitch_short USING btree (id, insert_date)</td>\n",
       "    </tr>\n",
       "  </tbody>\n",
       "</table>\n",
       "</div>"
      ],
      "text/plain": [
       "  schemaname                    base_name                    tablename  \\\n",
       "0   dwh_bckp           amara_rating_fitch           amara_rating_fitch   \n",
       "1   dwh_bckp  amara_rating_fitch_forecast  amara_rating_fitch_forecast   \n",
       "2   dwh_bckp     amara_rating_fitch_short     amara_rating_fitch_short   \n",
       "\n",
       "                             indexname  inds_count  ind  \\\n",
       "0           pk_bckp_amara_rating_fitch           1    1   \n",
       "1  pk_bckp_amara_rating_fitch_forecast           1    1   \n",
       "2     pk_bckp_amara_rating_fitch_short           1    1   \n",
       "\n",
       "                                                                                                                        indexdef  \n",
       "0                    CREATE UNIQUE INDEX pk_bckp_amara_rating_fitch ON dwh_bckp.amara_rating_fitch USING btree (id, insert_date)  \n",
       "1  CREATE UNIQUE INDEX pk_bckp_amara_rating_fitch_forecast ON dwh_bckp.amara_rating_fitch_forecast USING btree (id, insert_date)  \n",
       "2        CREATE UNIQUE INDEX pk_bckp_amara_rating_fitch_short ON dwh_bckp.amara_rating_fitch_short USING btree (id, insert_date)  "
      ]
     },
     "execution_count": 10,
     "metadata": {},
     "output_type": "execute_result"
    }
   ],
   "source": [
    "test.head(3)"
   ]
  },
  {
   "cell_type": "markdown",
   "metadata": {},
   "source": [
    "Добавим поле full_table_name"
   ]
  },
  {
   "cell_type": "code",
   "execution_count": 11,
   "metadata": {},
   "outputs": [],
   "source": [
    "test['full_table_name'] = test['schemaname'] + '.' + test['tablename']"
   ]
  },
  {
   "cell_type": "markdown",
   "metadata": {},
   "source": [
    "Добавляем столбцы: признак уникальности (возможно это PK),тип индекска и его короткое определение"
   ]
  },
  {
   "cell_type": "code",
   "execution_count": 12,
   "metadata": {},
   "outputs": [],
   "source": [
    "test['uniq'] = test.indexdef.apply(lambda x: 1 if 'CREATE UNIQUE INDEX' in x else 0)\n",
    "test['short_idx_def'] = test.indexdef.apply(lambda x: x.split('USING')[1].strip())\n",
    "test['idx_type'] = test.short_idx_def.apply(lambda x: x.split('(')[0].strip())\n",
    "test['ind_fields'] = test.short_idx_def.apply(lambda x: x.split('(')[1].split(')')[0].strip())"
   ]
  },
  {
   "cell_type": "code",
   "execution_count": 13,
   "metadata": {},
   "outputs": [
    {
     "data": {
      "text/html": [
       "<div>\n",
       "<style scoped>\n",
       "    .dataframe tbody tr th:only-of-type {\n",
       "        vertical-align: middle;\n",
       "    }\n",
       "\n",
       "    .dataframe tbody tr th {\n",
       "        vertical-align: top;\n",
       "    }\n",
       "\n",
       "    .dataframe thead th {\n",
       "        text-align: right;\n",
       "    }\n",
       "</style>\n",
       "<table border=\"1\" class=\"dataframe\">\n",
       "  <thead>\n",
       "    <tr style=\"text-align: right;\">\n",
       "      <th></th>\n",
       "      <th>schemaname</th>\n",
       "      <th>base_name</th>\n",
       "      <th>tablename</th>\n",
       "      <th>indexname</th>\n",
       "      <th>inds_count</th>\n",
       "      <th>ind</th>\n",
       "      <th>indexdef</th>\n",
       "      <th>full_table_name</th>\n",
       "      <th>uniq</th>\n",
       "      <th>short_idx_def</th>\n",
       "      <th>idx_type</th>\n",
       "      <th>ind_fields</th>\n",
       "    </tr>\n",
       "  </thead>\n",
       "  <tbody>\n",
       "    <tr>\n",
       "      <th>11360</th>\n",
       "      <td>dwh_stage</td>\n",
       "      <td>s01_t_trndtl_old</td>\n",
       "      <td>s01_t_trndtl_old_1_prt_70_2019_07_27</td>\n",
       "      <td>s01_t_trndtl_old_1_prt_70_2019_07_27_id_idx</td>\n",
       "      <td>4</td>\n",
       "      <td>4</td>\n",
       "      <td>CREATE INDEX s01_t_trndtl_old_1_prt_70_2019_07_27_id_idx ON dwh_stage.s01_t_trndtl_old_1_prt_70_2019_07_27 USING btree (id)</td>\n",
       "      <td>dwh_stage.s01_t_trndtl_old_1_prt_70_2019_07_27</td>\n",
       "      <td>0</td>\n",
       "      <td>btree (id)</td>\n",
       "      <td>btree</td>\n",
       "      <td>id</td>\n",
       "    </tr>\n",
       "    <tr>\n",
       "      <th>9918</th>\n",
       "      <td>dwh_stage</td>\n",
       "      <td>s01_t_trndtl</td>\n",
       "      <td>s01_t_trndtl_1_prt_78_2020_08_19</td>\n",
       "      <td>s01_t_trndtl_1_prt_78_2020_08_19_det_id_idx</td>\n",
       "      <td>4</td>\n",
       "      <td>2</td>\n",
       "      <td>CREATE INDEX s01_t_trndtl_1_prt_78_2020_08_19_det_id_idx ON dwh_stage.s01_t_trndtl_1_prt_78_2020_08_19 USING bitmap (det_id)</td>\n",
       "      <td>dwh_stage.s01_t_trndtl_1_prt_78_2020_08_19</td>\n",
       "      <td>0</td>\n",
       "      <td>bitmap (det_id)</td>\n",
       "      <td>bitmap</td>\n",
       "      <td>det_id</td>\n",
       "    </tr>\n",
       "    <tr>\n",
       "      <th>3052</th>\n",
       "      <td>dwh_dds</td>\n",
       "      <td>acc_transaction</td>\n",
       "      <td>acc_transaction_1_prt_210_2020_09_19</td>\n",
       "      <td>acc_transaction_1_prt_210_2020_09_19_trn_dt_acnt_gid_idx</td>\n",
       "      <td>4</td>\n",
       "      <td>2</td>\n",
       "      <td>CREATE INDEX acc_transaction_1_prt_210_2020_09_19_trn_dt_acnt_gid_idx ON dwh_dds.acc_transaction_1_prt_210_2020_09_19 USING btree (trn_dt_acnt_gid)</td>\n",
       "      <td>dwh_dds.acc_transaction_1_prt_210_2020_09_19</td>\n",
       "      <td>0</td>\n",
       "      <td>btree (trn_dt_acnt_gid)</td>\n",
       "      <td>btree</td>\n",
       "      <td>trn_dt_acnt_gid</td>\n",
       "    </tr>\n",
       "  </tbody>\n",
       "</table>\n",
       "</div>"
      ],
      "text/plain": [
       "      schemaname         base_name                             tablename  \\\n",
       "11360  dwh_stage  s01_t_trndtl_old  s01_t_trndtl_old_1_prt_70_2019_07_27   \n",
       "9918   dwh_stage      s01_t_trndtl      s01_t_trndtl_1_prt_78_2020_08_19   \n",
       "3052     dwh_dds   acc_transaction  acc_transaction_1_prt_210_2020_09_19   \n",
       "\n",
       "                                                      indexname  inds_count  \\\n",
       "11360               s01_t_trndtl_old_1_prt_70_2019_07_27_id_idx           4   \n",
       "9918                s01_t_trndtl_1_prt_78_2020_08_19_det_id_idx           4   \n",
       "3052   acc_transaction_1_prt_210_2020_09_19_trn_dt_acnt_gid_idx           4   \n",
       "\n",
       "       ind  \\\n",
       "11360    4   \n",
       "9918     2   \n",
       "3052     2   \n",
       "\n",
       "                                                                                                                                                  indexdef  \\\n",
       "11360                          CREATE INDEX s01_t_trndtl_old_1_prt_70_2019_07_27_id_idx ON dwh_stage.s01_t_trndtl_old_1_prt_70_2019_07_27 USING btree (id)   \n",
       "9918                          CREATE INDEX s01_t_trndtl_1_prt_78_2020_08_19_det_id_idx ON dwh_stage.s01_t_trndtl_1_prt_78_2020_08_19 USING bitmap (det_id)   \n",
       "3052   CREATE INDEX acc_transaction_1_prt_210_2020_09_19_trn_dt_acnt_gid_idx ON dwh_dds.acc_transaction_1_prt_210_2020_09_19 USING btree (trn_dt_acnt_gid)   \n",
       "\n",
       "                                      full_table_name  uniq  \\\n",
       "11360  dwh_stage.s01_t_trndtl_old_1_prt_70_2019_07_27     0   \n",
       "9918       dwh_stage.s01_t_trndtl_1_prt_78_2020_08_19     0   \n",
       "3052     dwh_dds.acc_transaction_1_prt_210_2020_09_19     0   \n",
       "\n",
       "                 short_idx_def idx_type       ind_fields  \n",
       "11360               btree (id)    btree               id  \n",
       "9918           bitmap (det_id)   bitmap           det_id  \n",
       "3052   btree (trn_dt_acnt_gid)    btree  trn_dt_acnt_gid  "
      ]
     },
     "execution_count": 13,
     "metadata": {},
     "output_type": "execute_result"
    }
   ],
   "source": [
    "test.sample(3)"
   ]
  },
  {
   "cell_type": "markdown",
   "metadata": {},
   "source": [
    "Убираем партиции"
   ]
  },
  {
   "cell_type": "code",
   "execution_count": 14,
   "metadata": {},
   "outputs": [
    {
     "data": {
      "text/html": [
       "<div>\n",
       "<style scoped>\n",
       "    .dataframe tbody tr th:only-of-type {\n",
       "        vertical-align: middle;\n",
       "    }\n",
       "\n",
       "    .dataframe tbody tr th {\n",
       "        vertical-align: top;\n",
       "    }\n",
       "\n",
       "    .dataframe thead th {\n",
       "        text-align: right;\n",
       "    }\n",
       "</style>\n",
       "<table border=\"1\" class=\"dataframe\">\n",
       "  <thead>\n",
       "    <tr style=\"text-align: right;\">\n",
       "      <th></th>\n",
       "      <th>schemaname</th>\n",
       "      <th>base_name</th>\n",
       "      <th>tablename</th>\n",
       "      <th>indexname</th>\n",
       "      <th>inds_count</th>\n",
       "      <th>ind</th>\n",
       "      <th>indexdef</th>\n",
       "      <th>full_table_name</th>\n",
       "      <th>uniq</th>\n",
       "      <th>short_idx_def</th>\n",
       "      <th>idx_type</th>\n",
       "      <th>ind_fields</th>\n",
       "    </tr>\n",
       "  </thead>\n",
       "  <tbody>\n",
       "    <tr>\n",
       "      <th>4083</th>\n",
       "      <td>dwh_dds</td>\n",
       "      <td>ref_anl_account</td>\n",
       "      <td>ref_anl_account</td>\n",
       "      <td>ref_anl_account_acnta_plancd_bmx</td>\n",
       "      <td>3</td>\n",
       "      <td>2</td>\n",
       "      <td>CREATE INDEX ref_anl_account_acnta_plancd_bmx ON dwh_dds.ref_anl_account USING bitmap (acnta_acntapln_cd)</td>\n",
       "      <td>dwh_dds.ref_anl_account</td>\n",
       "      <td>0</td>\n",
       "      <td>bitmap (acnta_acntapln_cd)</td>\n",
       "      <td>bitmap</td>\n",
       "      <td>acnta_acntapln_cd</td>\n",
       "    </tr>\n",
       "    <tr>\n",
       "      <th>11535</th>\n",
       "      <td>dwh_stage</td>\n",
       "      <td>s03_bsik</td>\n",
       "      <td>s03_bsik</td>\n",
       "      <td>s03_bsik_lifnr_idx</td>\n",
       "      <td>2</td>\n",
       "      <td>2</td>\n",
       "      <td>CREATE INDEX s03_bsik_lifnr_idx ON dwh_stage.s03_bsik USING btree (lifnr)</td>\n",
       "      <td>dwh_stage.s03_bsik</td>\n",
       "      <td>0</td>\n",
       "      <td>btree (lifnr)</td>\n",
       "      <td>btree</td>\n",
       "      <td>lifnr</td>\n",
       "    </tr>\n",
       "    <tr>\n",
       "      <th>6704</th>\n",
       "      <td>dwh_stage</td>\n",
       "      <td>s01_p_sys_std</td>\n",
       "      <td>s01_p_sys_std</td>\n",
       "      <td>pk_s01_p_sys_std</td>\n",
       "      <td>1</td>\n",
       "      <td>1</td>\n",
       "      <td>CREATE UNIQUE INDEX pk_s01_p_sys_std ON dwh_stage.s01_p_sys_std USING btree (id)</td>\n",
       "      <td>dwh_stage.s01_p_sys_std</td>\n",
       "      <td>1</td>\n",
       "      <td>btree (id)</td>\n",
       "      <td>btree</td>\n",
       "      <td>id</td>\n",
       "    </tr>\n",
       "  </tbody>\n",
       "</table>\n",
       "</div>"
      ],
      "text/plain": [
       "      schemaname        base_name        tablename  \\\n",
       "4083     dwh_dds  ref_anl_account  ref_anl_account   \n",
       "11535  dwh_stage         s03_bsik         s03_bsik   \n",
       "6704   dwh_stage    s01_p_sys_std    s01_p_sys_std   \n",
       "\n",
       "                              indexname  inds_count  ind  \\\n",
       "4083   ref_anl_account_acnta_plancd_bmx           3    2   \n",
       "11535                s03_bsik_lifnr_idx           2    2   \n",
       "6704                   pk_s01_p_sys_std           1    1   \n",
       "\n",
       "                                                                                                        indexdef  \\\n",
       "4083   CREATE INDEX ref_anl_account_acnta_plancd_bmx ON dwh_dds.ref_anl_account USING bitmap (acnta_acntapln_cd)   \n",
       "11535                                  CREATE INDEX s03_bsik_lifnr_idx ON dwh_stage.s03_bsik USING btree (lifnr)   \n",
       "6704                            CREATE UNIQUE INDEX pk_s01_p_sys_std ON dwh_stage.s01_p_sys_std USING btree (id)   \n",
       "\n",
       "               full_table_name  uniq               short_idx_def idx_type  \\\n",
       "4083   dwh_dds.ref_anl_account     0  bitmap (acnta_acntapln_cd)   bitmap   \n",
       "11535       dwh_stage.s03_bsik     0               btree (lifnr)    btree   \n",
       "6704   dwh_stage.s01_p_sys_std     1                  btree (id)    btree   \n",
       "\n",
       "              ind_fields  \n",
       "4083   acnta_acntapln_cd  \n",
       "11535              lifnr  \n",
       "6704                  id  "
      ]
     },
     "execution_count": 14,
     "metadata": {},
     "output_type": "execute_result"
    }
   ],
   "source": [
    "test = test[test['schemaname'] + '.' + test['tablename'] == test['schemaname'] + '.' + test['base_name']]\n",
    "test.sample(3)"
   ]
  },
  {
   "cell_type": "code",
   "execution_count": 15,
   "metadata": {
    "scrolled": true
   },
   "outputs": [
    {
     "name": "stdout",
     "output_type": "stream",
     "text": [
      "<class 'pandas.core.frame.DataFrame'>\n",
      "Int64Index: 581 entries, 0 to 7959\n",
      "Data columns (total 12 columns):\n",
      " #   Column           Non-Null Count  Dtype \n",
      "---  ------           --------------  ----- \n",
      " 0   schemaname       581 non-null    object\n",
      " 1   base_name        581 non-null    object\n",
      " 2   tablename        581 non-null    object\n",
      " 3   indexname        581 non-null    object\n",
      " 4   inds_count       581 non-null    int64 \n",
      " 5   ind              581 non-null    int64 \n",
      " 6   indexdef         581 non-null    object\n",
      " 7   full_table_name  581 non-null    object\n",
      " 8   uniq             581 non-null    int64 \n",
      " 9   short_idx_def    581 non-null    object\n",
      " 10  idx_type         581 non-null    object\n",
      " 11  ind_fields       581 non-null    object\n",
      "dtypes: int64(3), object(9)\n",
      "memory usage: 59.0+ KB\n"
     ]
    }
   ],
   "source": [
    "prod.info()"
   ]
  },
  {
   "cell_type": "code",
   "execution_count": 16,
   "metadata": {
    "scrolled": true
   },
   "outputs": [
    {
     "name": "stdout",
     "output_type": "stream",
     "text": [
      "<class 'pandas.core.frame.DataFrame'>\n",
      "Int64Index: 594 entries, 0 to 11540\n",
      "Data columns (total 12 columns):\n",
      " #   Column           Non-Null Count  Dtype \n",
      "---  ------           --------------  ----- \n",
      " 0   schemaname       594 non-null    object\n",
      " 1   base_name        594 non-null    object\n",
      " 2   tablename        594 non-null    object\n",
      " 3   indexname        594 non-null    object\n",
      " 4   inds_count       594 non-null    int64 \n",
      " 5   ind              594 non-null    int64 \n",
      " 6   indexdef         594 non-null    object\n",
      " 7   full_table_name  594 non-null    object\n",
      " 8   uniq             594 non-null    int64 \n",
      " 9   short_idx_def    594 non-null    object\n",
      " 10  idx_type         594 non-null    object\n",
      " 11  ind_fields       594 non-null    object\n",
      "dtypes: int64(3), object(9)\n",
      "memory usage: 60.3+ KB\n"
     ]
    }
   ],
   "source": [
    "test.info()"
   ]
  },
  {
   "cell_type": "markdown",
   "metadata": {},
   "source": [
    "### Сверяем только те таблицы, что есть и на Прод и на Тест"
   ]
  },
  {
   "cell_type": "markdown",
   "metadata": {},
   "source": [
    "Прод"
   ]
  },
  {
   "cell_type": "markdown",
   "metadata": {},
   "source": [
    "Удалим лишние столбцы"
   ]
  },
  {
   "cell_type": "code",
   "execution_count": 17,
   "metadata": {
    "scrolled": false
   },
   "outputs": [
    {
     "data": {
      "text/html": [
       "<div>\n",
       "<style scoped>\n",
       "    .dataframe tbody tr th:only-of-type {\n",
       "        vertical-align: middle;\n",
       "    }\n",
       "\n",
       "    .dataframe tbody tr th {\n",
       "        vertical-align: top;\n",
       "    }\n",
       "\n",
       "    .dataframe thead th {\n",
       "        text-align: right;\n",
       "    }\n",
       "</style>\n",
       "<table border=\"1\" class=\"dataframe\">\n",
       "  <thead>\n",
       "    <tr style=\"text-align: right;\">\n",
       "      <th></th>\n",
       "      <th>schemaname</th>\n",
       "      <th>tablename</th>\n",
       "      <th>indexname</th>\n",
       "      <th>inds_count</th>\n",
       "      <th>ind</th>\n",
       "      <th>indexdef</th>\n",
       "      <th>full_table_name</th>\n",
       "      <th>uniq</th>\n",
       "      <th>idx_type</th>\n",
       "      <th>ind_fields</th>\n",
       "    </tr>\n",
       "  </thead>\n",
       "  <tbody>\n",
       "    <tr>\n",
       "      <th>3923</th>\n",
       "      <td>dwh_dds</td>\n",
       "      <td>ref_sc_lot</td>\n",
       "      <td>ref_sc_lot_sqlt_sqtkt_gid_idx</td>\n",
       "      <td>10</td>\n",
       "      <td>9</td>\n",
       "      <td>CREATE INDEX ref_sc_lot_sqlt_sqtkt_gid_idx ON dwh_dds.ref_sc_lot USING btree (sqlt_sqtkt_gid)</td>\n",
       "      <td>dwh_dds.ref_sc_lot</td>\n",
       "      <td>0</td>\n",
       "      <td>btree</td>\n",
       "      <td>sqlt_sqtkt_gid</td>\n",
       "    </tr>\n",
       "    <tr>\n",
       "      <th>5202</th>\n",
       "      <td>dwh_draft</td>\n",
       "      <td>amara_rating_hist</td>\n",
       "      <td>pk_amara_rating_hist</td>\n",
       "      <td>1</td>\n",
       "      <td>1</td>\n",
       "      <td>CREATE UNIQUE INDEX pk_amara_rating_hist ON dwh_draft.amara_rating_hist USING btree (id)</td>\n",
       "      <td>dwh_draft.amara_rating_hist</td>\n",
       "      <td>1</td>\n",
       "      <td>btree</td>\n",
       "      <td>id</td>\n",
       "    </tr>\n",
       "    <tr>\n",
       "      <th>7939</th>\n",
       "      <td>dwh_stage</td>\n",
       "      <td>s02_cs_decision</td>\n",
       "      <td>pk_s02_cs_decision</td>\n",
       "      <td>1</td>\n",
       "      <td>1</td>\n",
       "      <td>CREATE UNIQUE INDEX pk_s02_cs_decision ON dwh_stage.s02_cs_decision USING btree (id)</td>\n",
       "      <td>dwh_stage.s02_cs_decision</td>\n",
       "      <td>1</td>\n",
       "      <td>btree</td>\n",
       "      <td>id</td>\n",
       "    </tr>\n",
       "  </tbody>\n",
       "</table>\n",
       "</div>"
      ],
      "text/plain": [
       "     schemaname          tablename                      indexname  inds_count  \\\n",
       "3923    dwh_dds         ref_sc_lot  ref_sc_lot_sqlt_sqtkt_gid_idx          10   \n",
       "5202  dwh_draft  amara_rating_hist           pk_amara_rating_hist           1   \n",
       "7939  dwh_stage    s02_cs_decision             pk_s02_cs_decision           1   \n",
       "\n",
       "      ind  \\\n",
       "3923    9   \n",
       "5202    1   \n",
       "7939    1   \n",
       "\n",
       "                                                                                           indexdef  \\\n",
       "3923  CREATE INDEX ref_sc_lot_sqlt_sqtkt_gid_idx ON dwh_dds.ref_sc_lot USING btree (sqlt_sqtkt_gid)   \n",
       "5202       CREATE UNIQUE INDEX pk_amara_rating_hist ON dwh_draft.amara_rating_hist USING btree (id)   \n",
       "7939           CREATE UNIQUE INDEX pk_s02_cs_decision ON dwh_stage.s02_cs_decision USING btree (id)   \n",
       "\n",
       "                  full_table_name  uniq idx_type      ind_fields  \n",
       "3923           dwh_dds.ref_sc_lot     0    btree  sqlt_sqtkt_gid  \n",
       "5202  dwh_draft.amara_rating_hist     1    btree              id  \n",
       "7939    dwh_stage.s02_cs_decision     1    btree              id  "
      ]
     },
     "execution_count": 17,
     "metadata": {},
     "output_type": "execute_result"
    }
   ],
   "source": [
    "#Удаляем лишние столбцы\n",
    "prod.drop(['base_name', 'short_idx_def'], inplace=True, axis = 1)#, 'indexdef'\n",
    "prod.sample(3)"
   ]
  },
  {
   "cell_type": "markdown",
   "metadata": {},
   "source": [
    "Test"
   ]
  },
  {
   "cell_type": "markdown",
   "metadata": {},
   "source": [
    "Удалим лишние столбцы"
   ]
  },
  {
   "cell_type": "code",
   "execution_count": 18,
   "metadata": {
    "scrolled": true
   },
   "outputs": [
    {
     "data": {
      "text/html": [
       "<div>\n",
       "<style scoped>\n",
       "    .dataframe tbody tr th:only-of-type {\n",
       "        vertical-align: middle;\n",
       "    }\n",
       "\n",
       "    .dataframe tbody tr th {\n",
       "        vertical-align: top;\n",
       "    }\n",
       "\n",
       "    .dataframe thead th {\n",
       "        text-align: right;\n",
       "    }\n",
       "</style>\n",
       "<table border=\"1\" class=\"dataframe\">\n",
       "  <thead>\n",
       "    <tr style=\"text-align: right;\">\n",
       "      <th></th>\n",
       "      <th>schemaname</th>\n",
       "      <th>tablename</th>\n",
       "      <th>indexname</th>\n",
       "      <th>inds_count</th>\n",
       "      <th>ind</th>\n",
       "      <th>indexdef</th>\n",
       "      <th>full_table_name</th>\n",
       "      <th>uniq</th>\n",
       "      <th>idx_type</th>\n",
       "      <th>ind_fields</th>\n",
       "    </tr>\n",
       "  </thead>\n",
       "  <tbody>\n",
       "    <tr>\n",
       "      <th>4052</th>\n",
       "      <td>dwh_dds</td>\n",
       "      <td>dict_orgform</td>\n",
       "      <td>dict_orgform_pk</td>\n",
       "      <td>1</td>\n",
       "      <td>1</td>\n",
       "      <td>CREATE UNIQUE INDEX dict_orgform_pk ON dwh_dds.dict_orgform USING btree (orgform_cd)</td>\n",
       "      <td>dwh_dds.dict_orgform</td>\n",
       "      <td>1</td>\n",
       "      <td>btree</td>\n",
       "      <td>orgform_cd</td>\n",
       "    </tr>\n",
       "    <tr>\n",
       "      <th>6618</th>\n",
       "      <td>dwh_stage</td>\n",
       "      <td>s01_g_cli</td>\n",
       "      <td>s01_g_cli_ord_id_corp_idx</td>\n",
       "      <td>3</td>\n",
       "      <td>1</td>\n",
       "      <td>CREATE INDEX s01_g_cli_ord_id_corp_idx ON dwh_stage.s01_g_cli USING btree (ord_id) WHERE (typefl &lt;&gt; '1'::bpchar)</td>\n",
       "      <td>dwh_stage.s01_g_cli</td>\n",
       "      <td>0</td>\n",
       "      <td>btree</td>\n",
       "      <td>ord_id</td>\n",
       "    </tr>\n",
       "    <tr>\n",
       "      <th>8330</th>\n",
       "      <td>dwh_stage</td>\n",
       "      <td>s01_t_pcn</td>\n",
       "      <td>s01_t_pcn_id_idx</td>\n",
       "      <td>2</td>\n",
       "      <td>1</td>\n",
       "      <td>CREATE INDEX s01_t_pcn_id_idx ON dwh_stage.s01_t_pcn USING btree (id, specfl)</td>\n",
       "      <td>dwh_stage.s01_t_pcn</td>\n",
       "      <td>0</td>\n",
       "      <td>btree</td>\n",
       "      <td>id, specfl</td>\n",
       "    </tr>\n",
       "  </tbody>\n",
       "</table>\n",
       "</div>"
      ],
      "text/plain": [
       "     schemaname     tablename                  indexname  inds_count  ind  \\\n",
       "4052    dwh_dds  dict_orgform            dict_orgform_pk           1    1   \n",
       "6618  dwh_stage     s01_g_cli  s01_g_cli_ord_id_corp_idx           3    1   \n",
       "8330  dwh_stage     s01_t_pcn           s01_t_pcn_id_idx           2    1   \n",
       "\n",
       "                                                                                                              indexdef  \\\n",
       "4052                              CREATE UNIQUE INDEX dict_orgform_pk ON dwh_dds.dict_orgform USING btree (orgform_cd)   \n",
       "6618  CREATE INDEX s01_g_cli_ord_id_corp_idx ON dwh_stage.s01_g_cli USING btree (ord_id) WHERE (typefl <> '1'::bpchar)   \n",
       "8330                                     CREATE INDEX s01_t_pcn_id_idx ON dwh_stage.s01_t_pcn USING btree (id, specfl)   \n",
       "\n",
       "           full_table_name  uniq idx_type  ind_fields  \n",
       "4052  dwh_dds.dict_orgform     1    btree  orgform_cd  \n",
       "6618   dwh_stage.s01_g_cli     0    btree      ord_id  \n",
       "8330   dwh_stage.s01_t_pcn     0    btree  id, specfl  "
      ]
     },
     "execution_count": 18,
     "metadata": {},
     "output_type": "execute_result"
    }
   ],
   "source": [
    "#Удаляем лишние столбцы\n",
    "test.drop(['base_name', 'short_idx_def'], inplace=True, axis = 1)#, 'indexdef'\n",
    "test.sample(3)"
   ]
  },
  {
   "cell_type": "markdown",
   "metadata": {},
   "source": [
    "### Выравниваем Прод и Тест"
   ]
  },
  {
   "cell_type": "code",
   "execution_count": 19,
   "metadata": {},
   "outputs": [
    {
     "data": {
      "text/html": [
       "<div>\n",
       "<style scoped>\n",
       "    .dataframe tbody tr th:only-of-type {\n",
       "        vertical-align: middle;\n",
       "    }\n",
       "\n",
       "    .dataframe tbody tr th {\n",
       "        vertical-align: top;\n",
       "    }\n",
       "\n",
       "    .dataframe thead th {\n",
       "        text-align: right;\n",
       "    }\n",
       "</style>\n",
       "<table border=\"1\" class=\"dataframe\">\n",
       "  <thead>\n",
       "    <tr style=\"text-align: right;\">\n",
       "      <th></th>\n",
       "      <th>full_table_name</th>\n",
       "    </tr>\n",
       "  </thead>\n",
       "  <tbody>\n",
       "    <tr>\n",
       "      <th>0</th>\n",
       "      <td>dwh_bckp.amara_corr_overdues</td>\n",
       "    </tr>\n",
       "    <tr>\n",
       "      <th>1</th>\n",
       "      <td>dwh_bckp.amara_rating_fitch</td>\n",
       "    </tr>\n",
       "  </tbody>\n",
       "</table>\n",
       "</div>"
      ],
      "text/plain": [
       "                full_table_name\n",
       "0  dwh_bckp.amara_corr_overdues\n",
       "1   dwh_bckp.amara_rating_fitch"
      ]
     },
     "execution_count": 19,
     "metadata": {},
     "output_type": "execute_result"
    }
   ],
   "source": [
    "prod2 = prod[['full_table_name']]\n",
    "prod2.head(2)"
   ]
  },
  {
   "cell_type": "code",
   "execution_count": 20,
   "metadata": {},
   "outputs": [
    {
     "data": {
      "text/html": [
       "<div>\n",
       "<style scoped>\n",
       "    .dataframe tbody tr th:only-of-type {\n",
       "        vertical-align: middle;\n",
       "    }\n",
       "\n",
       "    .dataframe tbody tr th {\n",
       "        vertical-align: top;\n",
       "    }\n",
       "\n",
       "    .dataframe thead th {\n",
       "        text-align: right;\n",
       "    }\n",
       "</style>\n",
       "<table border=\"1\" class=\"dataframe\">\n",
       "  <thead>\n",
       "    <tr style=\"text-align: right;\">\n",
       "      <th></th>\n",
       "      <th>full_table_name</th>\n",
       "    </tr>\n",
       "  </thead>\n",
       "  <tbody>\n",
       "    <tr>\n",
       "      <th>0</th>\n",
       "      <td>dwh_bckp.amara_rating_fitch</td>\n",
       "    </tr>\n",
       "    <tr>\n",
       "      <th>1</th>\n",
       "      <td>dwh_bckp.amara_rating_fitch_forecast</td>\n",
       "    </tr>\n",
       "  </tbody>\n",
       "</table>\n",
       "</div>"
      ],
      "text/plain": [
       "                        full_table_name\n",
       "0           dwh_bckp.amara_rating_fitch\n",
       "1  dwh_bckp.amara_rating_fitch_forecast"
      ]
     },
     "execution_count": 20,
     "metadata": {},
     "output_type": "execute_result"
    }
   ],
   "source": [
    "test2 = test[['full_table_name']]\n",
    "test2.head(2)"
   ]
  },
  {
   "cell_type": "markdown",
   "metadata": {},
   "source": [
    "Готовим список нужных имен таблиц (которые есть и на Прод и на Тест)"
   ]
  },
  {
   "cell_type": "code",
   "execution_count": 21,
   "metadata": {},
   "outputs": [
    {
     "data": {
      "text/html": [
       "<div>\n",
       "<style scoped>\n",
       "    .dataframe tbody tr th:only-of-type {\n",
       "        vertical-align: middle;\n",
       "    }\n",
       "\n",
       "    .dataframe tbody tr th {\n",
       "        vertical-align: top;\n",
       "    }\n",
       "\n",
       "    .dataframe thead th {\n",
       "        text-align: right;\n",
       "    }\n",
       "</style>\n",
       "<table border=\"1\" class=\"dataframe\">\n",
       "  <thead>\n",
       "    <tr style=\"text-align: right;\">\n",
       "      <th></th>\n",
       "      <th>full_table_name</th>\n",
       "    </tr>\n",
       "  </thead>\n",
       "  <tbody>\n",
       "    <tr>\n",
       "      <th>0</th>\n",
       "      <td>dwh_bckp.amara_rating_fitch</td>\n",
       "    </tr>\n",
       "    <tr>\n",
       "      <th>1</th>\n",
       "      <td>dwh_bckp.amara_rating_fitch_forecast</td>\n",
       "    </tr>\n",
       "  </tbody>\n",
       "</table>\n",
       "</div>"
      ],
      "text/plain": [
       "                        full_table_name\n",
       "0           dwh_bckp.amara_rating_fitch\n",
       "1  dwh_bckp.amara_rating_fitch_forecast"
      ]
     },
     "execution_count": 21,
     "metadata": {},
     "output_type": "execute_result"
    }
   ],
   "source": [
    "prod2_test2_merge = prod2.merge(test2, on='full_table_name', how='inner')\n",
    "prod2_test2_merge.head(2)"
   ]
  },
  {
   "cell_type": "code",
   "execution_count": 22,
   "metadata": {},
   "outputs": [],
   "source": [
    "#Эти таблицы есть и на Прод и на Тест. Остальные будем удалять.\n",
    "not_to_delete = list(prod2_test2_merge.full_table_name.value_counts().index)"
   ]
  },
  {
   "cell_type": "code",
   "execution_count": 23,
   "metadata": {},
   "outputs": [
    {
     "data": {
      "text/plain": [
       "['dwh_dds.ref_sc_issue',\n",
       " 'dwh_dds.ref_deal_forex',\n",
       " 'dwh_dds.ref_sc_lot',\n",
       " 'dwh_dds.ref_sc_ticket',\n",
       " 'dwh_dds.ref_account',\n",
       " 'dwh_dds.ref_deal_scissue',\n",
       " 'dwh_dds.ref_gen_agreement',\n",
       " 'dwh_dds.acc_sc_quote',\n",
       " 'dwh_dds.ref_sc_rating',\n",
       " 'dwh_dds.ref_pledge_object']"
      ]
     },
     "execution_count": 23,
     "metadata": {},
     "output_type": "execute_result"
    }
   ],
   "source": [
    "not_to_delete[:10] #Первые 10 элементов"
   ]
  },
  {
   "cell_type": "markdown",
   "metadata": {},
   "source": [
    "Теперь удаляем строки в Прод и Тест, не входящие в список по полю full_table_name"
   ]
  },
  {
   "cell_type": "markdown",
   "metadata": {},
   "source": [
    "Прод"
   ]
  },
  {
   "cell_type": "code",
   "execution_count": 24,
   "metadata": {},
   "outputs": [],
   "source": [
    "indices = prod[~(prod['full_table_name'].isin(not_to_delete))].index\n",
    "prod.drop(indices, inplace=True)"
   ]
  },
  {
   "cell_type": "markdown",
   "metadata": {},
   "source": [
    "Тест"
   ]
  },
  {
   "cell_type": "code",
   "execution_count": 25,
   "metadata": {},
   "outputs": [],
   "source": [
    "indices = test[~(test['full_table_name'].isin(not_to_delete))].index\n",
    "test.drop(indices, inplace=True)"
   ]
  },
  {
   "cell_type": "markdown",
   "metadata": {},
   "source": [
    "### Теперь наборы данных Прод и Тест содержат одинаковые таблицы и готовы к сравнению инднксов"
   ]
  },
  {
   "cell_type": "code",
   "execution_count": 26,
   "metadata": {},
   "outputs": [
    {
     "data": {
      "text/plain": [
       "573"
      ]
     },
     "execution_count": 26,
     "metadata": {},
     "output_type": "execute_result"
    }
   ],
   "source": [
    "len(prod)"
   ]
  },
  {
   "cell_type": "code",
   "execution_count": 27,
   "metadata": {},
   "outputs": [
    {
     "data": {
      "text/plain": [
       "566"
      ]
     },
     "execution_count": 27,
     "metadata": {},
     "output_type": "execute_result"
    }
   ],
   "source": [
    "len(test)"
   ]
  },
  {
   "cell_type": "markdown",
   "metadata": {},
   "source": [
    "Сравнение таблиц по количеству индексов:"
   ]
  },
  {
   "cell_type": "code",
   "execution_count": 28,
   "metadata": {},
   "outputs": [],
   "source": [
    "tabs_different_number_of_indices = set()"
   ]
  },
  {
   "cell_type": "code",
   "execution_count": 29,
   "metadata": {},
   "outputs": [],
   "source": [
    "def check_indexes_quantity(row):\n",
    "    '''Сравнивает количество индексов для таблиц на Прод и Тест и\n",
    "       если оно различно, добавляет таблицу во множество tabs_different_number_of_indices '''\n",
    "    if row['inds_count'] != test[test['full_table_name'] == row['full_table_name']].inds_count.max():\n",
    "        tabs_different_number_of_indices.add(row['full_table_name'])"
   ]
  },
  {
   "cell_type": "code",
   "execution_count": 30,
   "metadata": {
    "scrolled": true
   },
   "outputs": [
    {
     "data": {
      "text/plain": [
       "1       None\n",
       "2       None\n",
       "3       None\n",
       "4       None\n",
       "5       None\n",
       "        ... \n",
       "7955    None\n",
       "7956    None\n",
       "7957    None\n",
       "7958    None\n",
       "7959    None\n",
       "Length: 573, dtype: object"
      ]
     },
     "execution_count": 30,
     "metadata": {},
     "output_type": "execute_result"
    }
   ],
   "source": [
    "prod.apply(lambda r: check_indexes_quantity(r), axis=1)"
   ]
  },
  {
   "cell_type": "markdown",
   "metadata": {},
   "source": [
    "### Вот список таблиц, индексы которых будем сверять вручную:"
   ]
  },
  {
   "cell_type": "code",
   "execution_count": 31,
   "metadata": {},
   "outputs": [
    {
     "data": {
      "text/plain": [
       "['dwh_dds.ref_sc_rating',\n",
       " 'dwh_dds.ref_sc_ticket',\n",
       " 'dwh_stage.s01_ansignval',\n",
       " 'dwh_dds.acc_doc_payment',\n",
       " 'dwh_stage.s01_s_ordcash_add',\n",
       " 'dwh_stage.s01_t_operjrn',\n",
       " 'dwh_dds.ref_interbank_deals',\n",
       " 'dwh_stage.s01_g_accblnhst',\n",
       " 'dwh_dds.ref_anl_account',\n",
       " 'dwh_dm.dm_transaction',\n",
       " 'dwh_dds.ref_deal_scissue',\n",
       " 'dwh_dds.ref_sc_issue',\n",
       " 'dwh_stage.s01_t_deashdhst']"
      ]
     },
     "execution_count": 31,
     "metadata": {},
     "output_type": "execute_result"
    }
   ],
   "source": [
    "list(tabs_different_number_of_indices)"
   ]
  },
  {
   "cell_type": "markdown",
   "metadata": {},
   "source": [
    "Теперь удалим строки с этими таблицами из Прод и Тест. Остальное можно попробовать сверить в автоматическом режиме"
   ]
  },
  {
   "cell_type": "code",
   "execution_count": 32,
   "metadata": {},
   "outputs": [],
   "source": [
    "#Общий список таблиц для сверки вручную\n",
    "tabs_to_manually_comparison = list(tabs_different_number_of_indices)"
   ]
  },
  {
   "cell_type": "code",
   "execution_count": 33,
   "metadata": {},
   "outputs": [],
   "source": [
    "#Удаляем строки с этими таблицами:\n",
    "indices = prod[prod['full_table_name'].isin(tabs_to_manually_comparison)].index\n",
    "prod.drop(indices, inplace=True)\n",
    "\n",
    "indices = test[test['full_table_name'].isin(tabs_to_manually_comparison)].index\n",
    "test.drop(indices, inplace=True)"
   ]
  },
  {
   "cell_type": "code",
   "execution_count": 34,
   "metadata": {},
   "outputs": [
    {
     "data": {
      "text/plain": [
       "(502, 502)"
      ]
     },
     "execution_count": 34,
     "metadata": {},
     "output_type": "execute_result"
    }
   ],
   "source": [
    "len(prod), len(test)"
   ]
  },
  {
   "cell_type": "markdown",
   "metadata": {},
   "source": [
    "**Видим, что на Прод и Тест осталось одинаковое количество строк!**"
   ]
  },
  {
   "cell_type": "markdown",
   "metadata": {},
   "source": [
    "### Сверка всех индексов по определениям"
   ]
  },
  {
   "cell_type": "code",
   "execution_count": 35,
   "metadata": {},
   "outputs": [
    {
     "data": {
      "text/plain": [
       "['dwh_dds.ref_deal_forex',\n",
       " 'dwh_dds.ref_sc_lot',\n",
       " 'dwh_dds.ref_account',\n",
       " 'dwh_dds.acc_sc_quote',\n",
       " 'dwh_dds.ref_gen_agreement',\n",
       " 'dwh_dds.ref_pledge_object',\n",
       " 'dwh_dds.ref_sc_identcode',\n",
       " 'dwh_dds.ref_bank_corr_relation',\n",
       " 'dwh_dds.ref_deal_current_account',\n",
       " 'dwh_stage.s01_t_procmem',\n",
       " 'dwh_stage.s01_ledacc_det',\n",
       " 'dwh_dds.acc_transaction',\n",
       " 'dwh_dds.ref_deal_pledge',\n",
       " 'dwh_stage.s01_g_accbln',\n",
       " 'dwh_stage.s01_t_trndtl',\n",
       " 'dwh_stage.s01_s_ordcash',\n",
       " 'dwh_dds.ref_deal_guarantees',\n",
       " 'dwh_dds.ref_deal_letter_credit',\n",
       " 'dwh_bckp.s01_led_acc_det_bkp',\n",
       " 'dwh_stage.s01_g_cli',\n",
       " 'dwh_dds.ref_pledge_link',\n",
       " 'dwh_dds.ref_payment_card',\n",
       " 'dwh_dds.acc_anl_account_balance',\n",
       " 'dwh_dds.ref_client_corp',\n",
       " 'dwh_stage.s01_s_monord',\n",
       " 'dwh_dds.ref_pledge_obj_link',\n",
       " 'dwh_stage.s01_l_mrtordobj',\n",
       " 'dwh_stage.s01_l_mrtorddea',\n",
       " 'dwh_stage.s01_t_procinh',\n",
       " 'dwh_stage.s01_g_identdocdsc_std',\n",
       " 'dwh_stage.s01_t_dea',\n",
       " 'dwh_stage.s01_g_clirefval',\n",
       " 'dwh_dds.acc_sc_deal_lot_link',\n",
       " 'dwh_stage.s03_bsak',\n",
       " 'dwh_stage.s01_t_pcndtl',\n",
       " 'dwh_stage.s01_t_deaprmdsc_std',\n",
       " 'dwh_stage.s01_t_arlclc',\n",
       " 'dwh_stage.s01_t_deashdpnt',\n",
       " 'dwh_stage.s03_ekko',\n",
       " 'dwh_stage.s01_g_clihst',\n",
       " 'dwh_stage.s01_d_aprrecalc',\n",
       " 'dwh_dds.ref_corp_head',\n",
       " 'dwh_dm.dm_doc_payment',\n",
       " 'dwh_dds.ref_deal_param',\n",
       " 'dwh_dds.ref_product',\n",
       " 'dwh_stage.s01_p_ord',\n",
       " 'dwh_stage.s01_g_clirole',\n",
       " 'dwh_stage.s01_t_arldea',\n",
       " 'dwh_dds.ref_client_priv',\n",
       " 'dwh_stage.s01_t_process',\n",
       " 'dwh_stage.s01_t_pcn',\n",
       " 'dwh_stage.s01_t_pcndsc_std',\n",
       " 'dwh_dds.ref_credit_schedule',\n",
       " 'dwh_stage.s01_s_ordpay',\n",
       " 'dwh_stage.s01_sk_link_dea',\n",
       " 'dwh_stage.s01_sk_issuecode',\n",
       " 'dwh_stage.s01_t_acc',\n",
       " 'dwh_stage.s01_d_dea',\n",
       " 'dwh_dds.ref_account_overdue',\n",
       " 'dwh_bckp.s01_t_dea_bkp',\n",
       " 'dwh_dds.ref_safe',\n",
       " 'dwh_stage.s01_f_ordpay',\n",
       " 'dwh_dds.ref_deal_schedule',\n",
       " 'dwh_dds.dict_account_plan',\n",
       " 'dwh_stage.s03_bsik',\n",
       " 'dwh_dm.dm_z10',\n",
       " 'dwh_dds.dict_rating_value',\n",
       " 'dwh_dds.ref_user',\n",
       " 'dwh_stage.s01_sa_sec',\n",
       " 'dwh_stage.s01_g_managerdsc',\n",
       " 'dwh_stage.s01_g_clifatcahst',\n",
       " 'dwh_stage.s01_c_vallist_lng',\n",
       " 'dwh_stage.s01_m_ordpay_add',\n",
       " 'dwh_stage.s02_account',\n",
       " 'dwh_dds.ref_client_document',\n",
       " 'dwh_stage.s01_g_clicont',\n",
       " 'dwh_stage.s01_g_bnkhst_std',\n",
       " 'dwh_stage.s01_l_mrtapprais',\n",
       " 'dwh_stage.s01_c_domain_loc',\n",
       " 'dwh_stage.s01_s_orddsc_std',\n",
       " 'dwh_draft.amara_rating_moodys',\n",
       " 'dwh_stage.s01_c_usr',\n",
       " 'dwh_stage.s01_m_ordpay_mts',\n",
       " 'dwh_stage.s01_c_daycntfnc_std',\n",
       " 'dwh_bckp.amara_rating_sp_short',\n",
       " 'dwh_stage.s01_p_sys_std',\n",
       " 'dwh_stage.s02_opt_vw_all_doc_dafb_forload',\n",
       " 'dwh_stage.s01_g_cliregdocdbl',\n",
       " 'dwh_dm.dm_client_corp',\n",
       " 'dwh_stage.s01_c_attr_std',\n",
       " 'dwh_stage.s01_s_safeord',\n",
       " 'dwh_dds.ref_quasi_state_companies',\n",
       " 'dwh_stage.s01_t_ord',\n",
       " 'dwh_stage.s01_s_reqint',\n",
       " 'dwh_stage.s02_acnt_balance_history',\n",
       " 'dwh_dds.ref_client_contact',\n",
       " 'dwh_stage.s01_sk_issueshd',\n",
       " 'dwh_stage.s01_time_table_sample_std',\n",
       " 'dwh_stage.s01_i_agn',\n",
       " 'dwh_stage.s01_u_rf_okved_std',\n",
       " 'dwh_dds.dict_sctypemp',\n",
       " 'dwh_stage.s01_apr_dea',\n",
       " 'dwh_dds.dict_esector',\n",
       " 'dwh_stage.s02_gl_trace',\n",
       " 'dwh_stage.s01_l_mortgage',\n",
       " 'dwh_dm.dm_stock_lot',\n",
       " 'dwh_stage.s01_l_purdsc_std',\n",
       " 'dwh_stage.s01_s_safevault',\n",
       " 'dwh_draft.amara_rating_fitch_short',\n",
       " 'dwh_polygon.geo',\n",
       " 'dwh_stage.s01_c_vallist_std',\n",
       " 'dwh_dds.ref_address',\n",
       " 'dwh_dm.dm_z13',\n",
       " 'dwh_stage.s01_t_deaaccdsc_std',\n",
       " 'dwh_stage.s01_cr_conttype_std',\n",
       " 'dwh_stage.s01_e_dlr',\n",
       " 'dwh_stage.s01_sk_issuedscr_std',\n",
       " 'dwh_stage.s01_g_cliauthprs',\n",
       " 'dwh_stage.s01_e_forex_opt',\n",
       " 'dwh_dm.dm_z14',\n",
       " 'dwh_stage.s01_g_clifatca',\n",
       " 'dwh_stage.s01_ledacc_std',\n",
       " 'dwh_dds.dict_country',\n",
       " 'dwh_stage.s01_sk_dea',\n",
       " 'dwh_stage.s01_func_deposit_add',\n",
       " 'dwh_stage.s02_currency',\n",
       " 'dwh_stage.s01_p_csrjrn',\n",
       " 'dwh_stage.s01_g_bnkhst_std_id',\n",
       " 'dwh_bckp.amara_rating_hist',\n",
       " 'dwh_dds.dict_safe_type',\n",
       " 'dwh_stage.s02_calendar',\n",
       " 'dwh_dds.dict_calendar',\n",
       " 'dwh_stage.s02_opt_vw_all_doc_dafb',\n",
       " 'dwh_stage.s01_p_ordext',\n",
       " 'dwh_stage.s01_t_ptfctgord',\n",
       " 'dwh_stage.s01_g_cliaddress',\n",
       " 'dwh_stage.s01_t_oprchr_std',\n",
       " 'dwh_stage.s01_c_dep_std',\n",
       " 'dwh_dds.dict_okato',\n",
       " 'dwh_stage.s01_l_depo',\n",
       " 'dwh_stage.s01_t_pcnhst',\n",
       " 'dwh_stage.s01_c_tblcol_std',\n",
       " 'dwh_stage.s02_acnt_balance',\n",
       " 'dwh_stage.s02_templ_approved',\n",
       " 'dwh_stage.s01_c_tblval',\n",
       " 'dwh_bckp.amara_rating_sp',\n",
       " 'dwh_dm.dm_z12',\n",
       " 'dwh_stage.s01_t_ordcms',\n",
       " 'dwh_stage.s01_p_orderr',\n",
       " 'dwh_stage.s01_c_rol_std',\n",
       " 'dwh_draft.amara_rating_scale',\n",
       " 'dwh_stage.s01_t_anchart_std',\n",
       " 'dwh_stage.s01_e_sampleshd_std',\n",
       " 'dwh_stage.s02_acnt_contract',\n",
       " 'dwh_stage.s01_i_agnrtg',\n",
       " 'dwh_stage.s01_g_ordaddress',\n",
       " 'dwh_stage.s01_j_let',\n",
       " 'dwh_dm.dm_z11',\n",
       " 'dwh_stage.s01_s_safe',\n",
       " 'dwh_dds.dict_addr_type',\n",
       " 'dwh_stage.s01_g_dbljrndtl',\n",
       " 'dwh_stage.s01_s_safedsc_std',\n",
       " 'dwh_stage.s01_l_ldea',\n",
       " 'dwh_draft.amara_ref_quasi_state_companies',\n",
       " 'dwh_dds.dict_cash_type',\n",
       " 'dwh_dds.dict_sccode',\n",
       " 'dwh_stage.s01_j_grnbnk',\n",
       " 'dwh_dds.ref_deal_credit_rate',\n",
       " 'dwh_bckp.amara_rating_fitch_forecast',\n",
       " 'dwh_dds.ref_bank',\n",
       " 'dwh_stage.s01_t_reg_std',\n",
       " 'dwh_stage.s01_sa_secdtl',\n",
       " 'dwh_stage.s01_g_regdocdsc',\n",
       " 'dwh_stage.s01_e_reqexc',\n",
       " 'dwh_stage.s01_g_ecndsc_std',\n",
       " 'dwh_stage.s01_l_real_estate',\n",
       " 'dwh_dds.dict_schedule_templates',\n",
       " 'dwh_dds.ref_deal_deposit',\n",
       " 'dwh_stage.s01_t_deaprm',\n",
       " 'dwh_dds.dict_corp_segment',\n",
       " 'dwh_stage.s01_t_deaacc',\n",
       " 'dwh_dds.dict_position_type',\n",
       " 'dwh_stage.s02_country',\n",
       " 'dwh_stage.s01_g_clihstdbl',\n",
       " 'dwh_stage.s01_sk_issuequotes',\n",
       " 'dwh_draft.amara_ref_stock_holder',\n",
       " 'dwh_dds.dict_orgform',\n",
       " 'dwh_stage.s01_m_munord',\n",
       " 'dwh_stage.s01_f_msg',\n",
       " 'dwh_draft.amara_ref_stock_holder_restricted',\n",
       " 'dwh_stage.s02_cs_decision',\n",
       " 'dwh_stage.s01_l_vehicle',\n",
       " 'dwh_stage.s02_cs_status_type',\n",
       " 'dwh_stage.s01_e_cli',\n",
       " 'dwh_stage.s01_u_uniref_std_v2',\n",
       " 'dwh_stage.s01_i_rtg',\n",
       " 'dwh_stage.s01_g_dbljrn',\n",
       " 'dwh_stage.s01_g_cliadmlst',\n",
       " 'dwh_dds.dict_cont_type',\n",
       " 'dwh_bckp.amara_rating_moodys_forecast',\n",
       " 'dwh_stage.s01_t_accgrp',\n",
       " 'dwh_dds.dict_safe_vault',\n",
       " 'dwh_stage.s02_gl_transfer',\n",
       " 'dwh_dds.dict_service_pack',\n",
       " 'dwh_stage.s01_t_ansign_std',\n",
       " 'dwh_draft.amara_rating_hist',\n",
       " 'dwh_stage.s01_t_deaext',\n",
       " 'dwh_stage.s03_lfa1',\n",
       " 'dwh_stage.s01_anlacc',\n",
       " 'dwh_dds.dict_currency',\n",
       " 'dwh_dds.dict_doc_type',\n",
       " 'dwh_stage.s01_st_deal',\n",
       " 'dwh_dds.ref_deal_deposit_rate',\n",
       " 'dwh_stage.s01_c_imefrmtyp_lng',\n",
       " 'dwh_stage.s01_c_domain_std',\n",
       " 'dwh_stage.s01_g_bnk',\n",
       " 'dwh_stage.s01_i_bnkrel',\n",
       " 'dwh_stage.s01_g_cliaddatr',\n",
       " 'dwh_stage.s02_opt_vw_balance_dafb',\n",
       " 'dwh_dds.dict_anl_sign',\n",
       " 'dwh_stage.s02_client_type',\n",
       " 'dwh_stage.s01_m_cshdsc',\n",
       " 'dwh_stage.s01_l_mrtextorddea',\n",
       " 'dwh_stage.s01_t_ratdsc_std',\n",
       " 'dwh_draft.amara_rating_moodys_forecast',\n",
       " 'dwh_stage.s01_anlacc_det',\n",
       " 'dwh_stage.s01_l_mrtmon',\n",
       " 'dwh_dds.ref_deal_credit',\n",
       " 'dwh_stage.s02_client_address',\n",
       " 'dwh_dds.dict_sources',\n",
       " 'dwh_dds.dict_pledge_type',\n",
       " 'dwh_stage.s01_l_ensdsc_std',\n",
       " 'dwh_stage.s01_sk_infagn_std',\n",
       " 'dwh_dds.dict_rate_type',\n",
       " 'dwh_stage.s01_e_forex',\n",
       " 'dwh_dds.acc_currency_rate',\n",
       " 'dwh_stage.s01_t_deaprd_std',\n",
       " 'dwh_dds.dict_trn_operation',\n",
       " 'dwh_stage.s01_t_num',\n",
       " 'dwh_stage.s01_t_addagr',\n",
       " 'dwh_stage.s01_t_val_std',\n",
       " 'dwh_dds.ref_sc_holder_restrictions',\n",
       " 'dwh_stage.s01_sk_storageswt_std',\n",
       " 'dwh_stage.s01_c_sbjarea_std',\n",
       " 'dwh_stage.test_upd',\n",
       " 'dwh_draft.amara_report_screen_dict',\n",
       " 'dwh_dds.ref_sc_holder',\n",
       " 'dwh_stage.s01_e_bnkdea',\n",
       " 'dwh_stage.s01_l_dea',\n",
       " 'dwh_bckp.amara_rating_moodys',\n",
       " 'dwh_stage.s01_st_dealrepo',\n",
       " 'dwh_dds.dict_tarif_cat',\n",
       " 'dwh_dm.dm_z10a',\n",
       " 'dwh_stage.s02_report_type',\n",
       " 'dwh_stage.s01_c_imefrmtyp_std',\n",
       " 'dwh_stage.s01_g_address',\n",
       " 'dwh_bckp.amara_rating_moodys_short',\n",
       " 'dwh_stage.s01_m_ordpaydtl',\n",
       " 'dwh_stage.s01_t_deaprmrul',\n",
       " 'dwh_stage.s01_sk_storage_std',\n",
       " 'dwh_draft.amara_rating_moodys_short',\n",
       " 'dwh_stage.s02_appl_product',\n",
       " 'dwh_stage.s01_l_mrtordins',\n",
       " 'dwh_stage.s01_c_attr_lng',\n",
       " 'dwh_bckp.amara_rating_fitch',\n",
       " 'dwh_stage.s01_t_bal',\n",
       " 'dwh_dds.ref_auth_person',\n",
       " 'dwh_stage.s01_t_scen_std',\n",
       " 'dwh_draft.amara_rating_sp_short',\n",
       " 'dwh_draft.amara_rating_sp_forecast',\n",
       " 'dwh_dds.acc_account_balance',\n",
       " 'dwh_stage.s01_t_ptf_std',\n",
       " 'dwh_bckp.amara_rating_scale',\n",
       " 'dwh_stage.s01_l_mrtord',\n",
       " 'dwh_stage.s01_s_cbncli',\n",
       " 'dwh_stage.s01_l_mrtordreg',\n",
       " 'dwh_stage.s01_g_con_std',\n",
       " 'dwh_stage.s01_g_cliadm',\n",
       " 'dwh_stage.s01_m_ordpay',\n",
       " 'dwh_stage.s02_acc_templ',\n",
       " 'dwh_stage.s01_e_bnkdeal',\n",
       " 'dwh_stage.s01_s_trfgrp',\n",
       " 'dwh_stage.s01_g_clidoc',\n",
       " 'dwh_stage.s01_st_dealdtl',\n",
       " 'dwh_stage.s01_t_bop_dscr_std',\n",
       " 'dwh_stage.s01_t_deaaccrul',\n",
       " 'dwh_draft.amara_rating_fitch_forecast',\n",
       " 'dwh_stage.s02_m_transaction',\n",
       " 'dwh_stage.s01_c_clndclc',\n",
       " 'dwh_stage.s01_g_conmem',\n",
       " 'dwh_dds.dict_exchange_operation_type',\n",
       " 'dwh_stage.s01_g_bnkdsc_std',\n",
       " 'dwh_stage.s01_sk_issueshddtl',\n",
       " 'dwh_stage.s01_e_purdsc_std',\n",
       " 'dwh_stage.s01_g_cliaddresshst',\n",
       " 'dwh_stage.s01_c_clnd_std',\n",
       " 'dwh_stage.s01_p_stford',\n",
       " 'dwh_stage.s02_f_i',\n",
       " 'dwh_stage.s01_sk_issue',\n",
       " 'dwh_dds.dict_anl_account_plan',\n",
       " 'dwh_stage.s01_g_cliregdoc',\n",
       " 'dwh_bckp.amara_rating_sp_forecast',\n",
       " 'dwh_stage.s02_address_type',\n",
       " 'dwh_dds.dict_fatca',\n",
       " 'dwh_draft.amara_rating_fitch',\n",
       " 'dwh_stage.s01_t_deapcnval',\n",
       " 'dwh_dds.dict_scinfagn',\n",
       " 'dwh_stage.s01_t_arldsc_std',\n",
       " 'dwh_stage.s01_u_rf_okato_std',\n",
       " 'dwh_stage.s01_t_bop_stat_std',\n",
       " 'dwh_dds.dict_oked',\n",
       " 'dwh_stage.s01_j_grn',\n",
       " 'dwh_stage.s01_s_safeemp',\n",
       " 'dwh_stage.s02_client',\n",
       " 'dwh_stage.s01_t_valrat',\n",
       " 'dwh_stage.s01_g_consrc',\n",
       " 'dwh_bckp.amara_rating_fitch_short',\n",
       " 'dwh_stage.s01_m_transfdea',\n",
       " 'dwh_stage.s01_m_munord_cli',\n",
       " 'dwh_stage.s01_f_cmssnd',\n",
       " 'dwh_stage.s01_g_roldsc_std',\n",
       " 'dwh_dds.ref_cash_department',\n",
       " 'dwh_stage.s01_t_trndtl_tmp',\n",
       " 'dwh_stage.s01_g_cliatrdsc_std',\n",
       " 'dwh_dm.dm_pledges',\n",
       " 'dwh_stage.s01_e_forex_det',\n",
       " 'dwh_stage.s02_acc_scheme',\n",
       " 'dwh_stage.s01_sk_issuertg',\n",
       " 'dwh_stage.s01_m_cshordexc',\n",
       " 'dwh_stage.s01_u_rf_okfs_std',\n",
       " 'dwh_dm.dm_700h_rep',\n",
       " 'dwh_dds.dict_industry',\n",
       " 'dwh_dds.dict_corp_type',\n",
       " 'dwh_dds.dict_scquotetype',\n",
       " 'dwh_stage.s01_tt_point',\n",
       " 'dwh_draft.amara_corr_overdues',\n",
       " 'dwh_draft.amara_rating_sp',\n",
       " 'dwh_stage.s01_sk_trdflr_std',\n",
       " 'dwh_dds.dict_card_type',\n",
       " 'dwh_stage.s01_l_mrtown',\n",
       " 'dwh_stage.s01_sk_trdmod_std',\n",
       " 'dwh_dds.ref_department',\n",
       " 'dwh_dds.dict_ownform',\n",
       " 'dwh_stage.s02_fx_rate',\n",
       " 'dwh_stage.s01_l_aprrecalc',\n",
       " 'dwh_stage.s01_t_deacls_std',\n",
       " 'dwh_dds.dict_rating_agency',\n",
       " 'dwh_stage.s01_u_uniref_std']"
      ]
     },
     "execution_count": 35,
     "metadata": {},
     "output_type": "execute_result"
    }
   ],
   "source": [
    "tables_to_check = list(prod.full_table_name.value_counts().index)\n",
    "tables_to_check"
   ]
  },
  {
   "cell_type": "code",
   "execution_count": 36,
   "metadata": {},
   "outputs": [
    {
     "name": "stdout",
     "output_type": "stream",
     "text": [
      "Всего уникальных таблиц: 348\n"
     ]
    }
   ],
   "source": [
    "print('Всего уникальных таблиц:', len(tables_to_check))"
   ]
  },
  {
   "cell_type": "code",
   "execution_count": 37,
   "metadata": {},
   "outputs": [],
   "source": [
    "tabs_diffrent_indexes_defs = set()"
   ]
  },
  {
   "cell_type": "code",
   "execution_count": 38,
   "metadata": {},
   "outputs": [
    {
     "data": {
      "text/plain": [
       "['dwh_stage.s01_t_trndtl_tmp',\n",
       " 'dwh_dm.dm_z10',\n",
       " 'dwh_stage.s01_p_csrjrn',\n",
       " 'dwh_stage.s01_p_ord',\n",
       " 'dwh_dds.ref_account',\n",
       " 'dwh_draft.amara_corr_overdues']"
      ]
     },
     "execution_count": 38,
     "metadata": {},
     "output_type": "execute_result"
    }
   ],
   "source": [
    "for tab in tables_to_check:\n",
    "    sub_set_prod = prod[prod.full_table_name==tab]\n",
    "    #display(sub_set_prod)\n",
    "    \n",
    "    sub_set_test = test[test.full_table_name==tab]\n",
    "    #display(sub_set_test)\n",
    "    \n",
    "    if set(sub_set_prod.indexdef.value_counts().index) != set(sub_set_test.indexdef.value_counts().index):\n",
    "        tabs_diffrent_indexes_defs.add(tab)\n",
    "        \n",
    "list(tabs_diffrent_indexes_defs)"
   ]
  },
  {
   "cell_type": "markdown",
   "metadata": {},
   "source": [
    "## Итого, нужно проверить следующие списки таблиц:"
   ]
  },
  {
   "cell_type": "markdown",
   "metadata": {},
   "source": [
    "1. Таблицы с различным количеством индексов:"
   ]
  },
  {
   "cell_type": "code",
   "execution_count": 39,
   "metadata": {},
   "outputs": [
    {
     "data": {
      "text/plain": [
       "['dwh_dds.ref_sc_rating',\n",
       " 'dwh_dds.ref_sc_ticket',\n",
       " 'dwh_stage.s01_ansignval',\n",
       " 'dwh_dds.acc_doc_payment',\n",
       " 'dwh_stage.s01_s_ordcash_add',\n",
       " 'dwh_stage.s01_t_operjrn',\n",
       " 'dwh_dds.ref_interbank_deals',\n",
       " 'dwh_stage.s01_g_accblnhst',\n",
       " 'dwh_dds.ref_anl_account',\n",
       " 'dwh_dm.dm_transaction',\n",
       " 'dwh_dds.ref_deal_scissue',\n",
       " 'dwh_dds.ref_sc_issue',\n",
       " 'dwh_stage.s01_t_deashdhst']"
      ]
     },
     "execution_count": 39,
     "metadata": {},
     "output_type": "execute_result"
    }
   ],
   "source": [
    "list(tabs_different_number_of_indices)"
   ]
  },
  {
   "cell_type": "markdown",
   "metadata": {},
   "source": [
    "2. Таблицы с различным определением индексов"
   ]
  },
  {
   "cell_type": "code",
   "execution_count": 40,
   "metadata": {},
   "outputs": [
    {
     "data": {
      "text/plain": [
       "['dwh_stage.s01_t_trndtl_tmp',\n",
       " 'dwh_dm.dm_z10',\n",
       " 'dwh_stage.s01_p_csrjrn',\n",
       " 'dwh_stage.s01_p_ord',\n",
       " 'dwh_dds.ref_account',\n",
       " 'dwh_draft.amara_corr_overdues']"
      ]
     },
     "execution_count": 40,
     "metadata": {},
     "output_type": "execute_result"
    }
   ],
   "source": [
    "list(tabs_diffrent_indexes_defs)"
   ]
  },
  {
   "cell_type": "markdown",
   "metadata": {},
   "source": [
    "**3. Итого, все аномальные таблицы**"
   ]
  },
  {
   "cell_type": "code",
   "execution_count": 41,
   "metadata": {},
   "outputs": [
    {
     "data": {
      "text/plain": [
       "['dwh_dds.ref_sc_rating',\n",
       " 'dwh_dds.ref_sc_ticket',\n",
       " 'dwh_stage.s01_ansignval',\n",
       " 'dwh_dds.acc_doc_payment',\n",
       " 'dwh_stage.s01_s_ordcash_add',\n",
       " 'dwh_stage.s01_t_operjrn',\n",
       " 'dwh_dds.ref_interbank_deals',\n",
       " 'dwh_stage.s01_g_accblnhst',\n",
       " 'dwh_dds.ref_anl_account',\n",
       " 'dwh_dm.dm_transaction',\n",
       " 'dwh_dds.ref_deal_scissue',\n",
       " 'dwh_dds.ref_sc_issue',\n",
       " 'dwh_stage.s01_t_deashdhst',\n",
       " 'dwh_stage.s01_t_trndtl_tmp',\n",
       " 'dwh_dm.dm_z10',\n",
       " 'dwh_stage.s01_p_csrjrn',\n",
       " 'dwh_stage.s01_p_ord',\n",
       " 'dwh_dds.ref_account',\n",
       " 'dwh_draft.amara_corr_overdues']"
      ]
     },
     "execution_count": 41,
     "metadata": {},
     "output_type": "execute_result"
    }
   ],
   "source": [
    "tabs_to_manually_comparison += list(tabs_diffrent_indexes_defs)\n",
    "tabs_to_manually_comparison"
   ]
  },
  {
   "cell_type": "code",
   "execution_count": 42,
   "metadata": {},
   "outputs": [
    {
     "data": {
      "text/plain": [
       "19"
      ]
     },
     "execution_count": 42,
     "metadata": {},
     "output_type": "execute_result"
    }
   ],
   "source": [
    "len(tabs_to_manually_comparison)"
   ]
  },
  {
   "cell_type": "code",
   "execution_count": null,
   "metadata": {},
   "outputs": [],
   "source": []
  }
 ],
 "metadata": {
  "kernelspec": {
   "display_name": "Python 3",
   "language": "python",
   "name": "python3"
  },
  "language_info": {
   "codemirror_mode": {
    "name": "ipython",
    "version": 3
   },
   "file_extension": ".py",
   "mimetype": "text/x-python",
   "name": "python",
   "nbconvert_exporter": "python",
   "pygments_lexer": "ipython3",
   "version": "3.8.5"
  }
 },
 "nbformat": 4,
 "nbformat_minor": 4
}
