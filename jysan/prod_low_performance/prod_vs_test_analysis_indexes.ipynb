{
 "cells": [
  {
   "cell_type": "markdown",
   "metadata": {},
   "source": [
    "# Анализ таблиц JDWH - Прод vs Тест"
   ]
  },
  {
   "cell_type": "code",
   "execution_count": 1,
   "metadata": {},
   "outputs": [],
   "source": [
    "import pandas as pd\n",
    "import numpy as np\n",
    "from datetime import datetime"
   ]
  },
  {
   "cell_type": "code",
   "execution_count": 2,
   "metadata": {},
   "outputs": [],
   "source": [
    "pd.set_option('display.max_columns', 50)\n",
    "pd.set_option('max_colwidth', 200)\n",
    "#pd.set_option('display.max_rows', 500)"
   ]
  },
  {
   "cell_type": "markdown",
   "metadata": {},
   "source": [
    "## Часть III. Индексы."
   ]
  },
  {
   "cell_type": "markdown",
   "metadata": {},
   "source": [
    "## 1. Загрузка и первичное преобразование данных"
   ]
  },
  {
   "cell_type": "markdown",
   "metadata": {},
   "source": [
    "### Прод"
   ]
  },
  {
   "cell_type": "code",
   "execution_count": 3,
   "metadata": {},
   "outputs": [],
   "source": [
    "prod = pd.read_csv('./data/indexes_prod_14122020.csv')"
   ]
  },
  {
   "cell_type": "code",
   "execution_count": 4,
   "metadata": {
    "scrolled": false
   },
   "outputs": [
    {
     "data": {
      "text/html": [
       "<div>\n",
       "<style scoped>\n",
       "    .dataframe tbody tr th:only-of-type {\n",
       "        vertical-align: middle;\n",
       "    }\n",
       "\n",
       "    .dataframe tbody tr th {\n",
       "        vertical-align: top;\n",
       "    }\n",
       "\n",
       "    .dataframe thead th {\n",
       "        text-align: right;\n",
       "    }\n",
       "</style>\n",
       "<table border=\"1\" class=\"dataframe\">\n",
       "  <thead>\n",
       "    <tr style=\"text-align: right;\">\n",
       "      <th></th>\n",
       "      <th>schemaname</th>\n",
       "      <th>base_name</th>\n",
       "      <th>tablename</th>\n",
       "      <th>indexname</th>\n",
       "      <th>inds_count</th>\n",
       "      <th>ind</th>\n",
       "      <th>indexdef</th>\n",
       "    </tr>\n",
       "  </thead>\n",
       "  <tbody>\n",
       "    <tr>\n",
       "      <th>0</th>\n",
       "      <td>dwh_bckp</td>\n",
       "      <td>amara_corr_overdues</td>\n",
       "      <td>amara_corr_overdues</td>\n",
       "      <td>pk_bckp_amara_corr_overdues</td>\n",
       "      <td>1</td>\n",
       "      <td>1</td>\n",
       "      <td>CREATE UNIQUE INDEX pk_bckp_amara_corr_overdues ON dwh_bckp.amara_corr_overdues USING btree (id, insert_date)</td>\n",
       "    </tr>\n",
       "    <tr>\n",
       "      <th>1</th>\n",
       "      <td>dwh_bckp</td>\n",
       "      <td>amara_rating_fitch</td>\n",
       "      <td>amara_rating_fitch</td>\n",
       "      <td>pk_bckp_amara_rating_fitch</td>\n",
       "      <td>1</td>\n",
       "      <td>1</td>\n",
       "      <td>CREATE UNIQUE INDEX pk_bckp_amara_rating_fitch ON dwh_bckp.amara_rating_fitch USING btree (id, insert_date)</td>\n",
       "    </tr>\n",
       "    <tr>\n",
       "      <th>2</th>\n",
       "      <td>dwh_bckp</td>\n",
       "      <td>amara_rating_fitch_forecast</td>\n",
       "      <td>amara_rating_fitch_forecast</td>\n",
       "      <td>pk_bckp_amara_rating_fitch_forecast</td>\n",
       "      <td>1</td>\n",
       "      <td>1</td>\n",
       "      <td>CREATE UNIQUE INDEX pk_bckp_amara_rating_fitch_forecast ON dwh_bckp.amara_rating_fitch_forecast USING btree (id, insert_date)</td>\n",
       "    </tr>\n",
       "  </tbody>\n",
       "</table>\n",
       "</div>"
      ],
      "text/plain": [
       "  schemaname                    base_name                    tablename  \\\n",
       "0   dwh_bckp          amara_corr_overdues          amara_corr_overdues   \n",
       "1   dwh_bckp           amara_rating_fitch           amara_rating_fitch   \n",
       "2   dwh_bckp  amara_rating_fitch_forecast  amara_rating_fitch_forecast   \n",
       "\n",
       "                             indexname  inds_count  ind  \\\n",
       "0          pk_bckp_amara_corr_overdues           1    1   \n",
       "1           pk_bckp_amara_rating_fitch           1    1   \n",
       "2  pk_bckp_amara_rating_fitch_forecast           1    1   \n",
       "\n",
       "                                                                                                                        indexdef  \n",
       "0                  CREATE UNIQUE INDEX pk_bckp_amara_corr_overdues ON dwh_bckp.amara_corr_overdues USING btree (id, insert_date)  \n",
       "1                    CREATE UNIQUE INDEX pk_bckp_amara_rating_fitch ON dwh_bckp.amara_rating_fitch USING btree (id, insert_date)  \n",
       "2  CREATE UNIQUE INDEX pk_bckp_amara_rating_fitch_forecast ON dwh_bckp.amara_rating_fitch_forecast USING btree (id, insert_date)  "
      ]
     },
     "execution_count": 4,
     "metadata": {},
     "output_type": "execute_result"
    }
   ],
   "source": [
    "prod.head(3)"
   ]
  },
  {
   "cell_type": "markdown",
   "metadata": {},
   "source": [
    "Добавим поле full_table_name"
   ]
  },
  {
   "cell_type": "code",
   "execution_count": 5,
   "metadata": {},
   "outputs": [],
   "source": [
    "prod['full_table_name'] = prod['schemaname'] + '.' + prod['tablename']"
   ]
  },
  {
   "cell_type": "markdown",
   "metadata": {},
   "source": [
    "Добавляем столбцы: признак уникальности (возможно это PK),тип индекска и его короткое определение"
   ]
  },
  {
   "cell_type": "code",
   "execution_count": 6,
   "metadata": {},
   "outputs": [],
   "source": [
    "prod['uniq'] = prod.indexdef.apply(lambda x: 1 if 'CREATE UNIQUE INDEX' in x else 0)\n",
    "prod['short_idx_def'] = prod.indexdef.apply(lambda x: x.split('USING')[1].strip())\n",
    "prod['idx_type'] = prod.short_idx_def.apply(lambda x: x.split('(')[0].strip())\n",
    "prod['ind_fields'] = prod.short_idx_def.apply(lambda x: x.split('(')[1].split(')')[0].strip())"
   ]
  },
  {
   "cell_type": "code",
   "execution_count": 7,
   "metadata": {
    "scrolled": true
   },
   "outputs": [
    {
     "data": {
      "text/html": [
       "<div>\n",
       "<style scoped>\n",
       "    .dataframe tbody tr th:only-of-type {\n",
       "        vertical-align: middle;\n",
       "    }\n",
       "\n",
       "    .dataframe tbody tr th {\n",
       "        vertical-align: top;\n",
       "    }\n",
       "\n",
       "    .dataframe thead th {\n",
       "        text-align: right;\n",
       "    }\n",
       "</style>\n",
       "<table border=\"1\" class=\"dataframe\">\n",
       "  <thead>\n",
       "    <tr style=\"text-align: right;\">\n",
       "      <th></th>\n",
       "      <th>schemaname</th>\n",
       "      <th>base_name</th>\n",
       "      <th>tablename</th>\n",
       "      <th>indexname</th>\n",
       "      <th>inds_count</th>\n",
       "      <th>ind</th>\n",
       "      <th>indexdef</th>\n",
       "      <th>full_table_name</th>\n",
       "      <th>uniq</th>\n",
       "      <th>short_idx_def</th>\n",
       "      <th>idx_type</th>\n",
       "      <th>ind_fields</th>\n",
       "    </tr>\n",
       "  </thead>\n",
       "  <tbody>\n",
       "    <tr>\n",
       "      <th>0</th>\n",
       "      <td>dwh_bckp</td>\n",
       "      <td>amara_corr_overdues</td>\n",
       "      <td>amara_corr_overdues</td>\n",
       "      <td>pk_bckp_amara_corr_overdues</td>\n",
       "      <td>1</td>\n",
       "      <td>1</td>\n",
       "      <td>CREATE UNIQUE INDEX pk_bckp_amara_corr_overdues ON dwh_bckp.amara_corr_overdues USING btree (id, insert_date)</td>\n",
       "      <td>dwh_bckp.amara_corr_overdues</td>\n",
       "      <td>1</td>\n",
       "      <td>btree (id, insert_date)</td>\n",
       "      <td>btree</td>\n",
       "      <td>id, insert_date</td>\n",
       "    </tr>\n",
       "    <tr>\n",
       "      <th>1</th>\n",
       "      <td>dwh_bckp</td>\n",
       "      <td>amara_rating_fitch</td>\n",
       "      <td>amara_rating_fitch</td>\n",
       "      <td>pk_bckp_amara_rating_fitch</td>\n",
       "      <td>1</td>\n",
       "      <td>1</td>\n",
       "      <td>CREATE UNIQUE INDEX pk_bckp_amara_rating_fitch ON dwh_bckp.amara_rating_fitch USING btree (id, insert_date)</td>\n",
       "      <td>dwh_bckp.amara_rating_fitch</td>\n",
       "      <td>1</td>\n",
       "      <td>btree (id, insert_date)</td>\n",
       "      <td>btree</td>\n",
       "      <td>id, insert_date</td>\n",
       "    </tr>\n",
       "    <tr>\n",
       "      <th>2</th>\n",
       "      <td>dwh_bckp</td>\n",
       "      <td>amara_rating_fitch_forecast</td>\n",
       "      <td>amara_rating_fitch_forecast</td>\n",
       "      <td>pk_bckp_amara_rating_fitch_forecast</td>\n",
       "      <td>1</td>\n",
       "      <td>1</td>\n",
       "      <td>CREATE UNIQUE INDEX pk_bckp_amara_rating_fitch_forecast ON dwh_bckp.amara_rating_fitch_forecast USING btree (id, insert_date)</td>\n",
       "      <td>dwh_bckp.amara_rating_fitch_forecast</td>\n",
       "      <td>1</td>\n",
       "      <td>btree (id, insert_date)</td>\n",
       "      <td>btree</td>\n",
       "      <td>id, insert_date</td>\n",
       "    </tr>\n",
       "  </tbody>\n",
       "</table>\n",
       "</div>"
      ],
      "text/plain": [
       "  schemaname                    base_name                    tablename  \\\n",
       "0   dwh_bckp          amara_corr_overdues          amara_corr_overdues   \n",
       "1   dwh_bckp           amara_rating_fitch           amara_rating_fitch   \n",
       "2   dwh_bckp  amara_rating_fitch_forecast  amara_rating_fitch_forecast   \n",
       "\n",
       "                             indexname  inds_count  ind  \\\n",
       "0          pk_bckp_amara_corr_overdues           1    1   \n",
       "1           pk_bckp_amara_rating_fitch           1    1   \n",
       "2  pk_bckp_amara_rating_fitch_forecast           1    1   \n",
       "\n",
       "                                                                                                                        indexdef  \\\n",
       "0                  CREATE UNIQUE INDEX pk_bckp_amara_corr_overdues ON dwh_bckp.amara_corr_overdues USING btree (id, insert_date)   \n",
       "1                    CREATE UNIQUE INDEX pk_bckp_amara_rating_fitch ON dwh_bckp.amara_rating_fitch USING btree (id, insert_date)   \n",
       "2  CREATE UNIQUE INDEX pk_bckp_amara_rating_fitch_forecast ON dwh_bckp.amara_rating_fitch_forecast USING btree (id, insert_date)   \n",
       "\n",
       "                        full_table_name  uniq            short_idx_def  \\\n",
       "0          dwh_bckp.amara_corr_overdues     1  btree (id, insert_date)   \n",
       "1           dwh_bckp.amara_rating_fitch     1  btree (id, insert_date)   \n",
       "2  dwh_bckp.amara_rating_fitch_forecast     1  btree (id, insert_date)   \n",
       "\n",
       "  idx_type       ind_fields  \n",
       "0    btree  id, insert_date  \n",
       "1    btree  id, insert_date  \n",
       "2    btree  id, insert_date  "
      ]
     },
     "execution_count": 7,
     "metadata": {},
     "output_type": "execute_result"
    }
   ],
   "source": [
    "prod.head(3)"
   ]
  },
  {
   "cell_type": "markdown",
   "metadata": {},
   "source": [
    "Убираем партиции"
   ]
  },
  {
   "cell_type": "code",
   "execution_count": 8,
   "metadata": {},
   "outputs": [
    {
     "data": {
      "text/html": [
       "<div>\n",
       "<style scoped>\n",
       "    .dataframe tbody tr th:only-of-type {\n",
       "        vertical-align: middle;\n",
       "    }\n",
       "\n",
       "    .dataframe tbody tr th {\n",
       "        vertical-align: top;\n",
       "    }\n",
       "\n",
       "    .dataframe thead th {\n",
       "        text-align: right;\n",
       "    }\n",
       "</style>\n",
       "<table border=\"1\" class=\"dataframe\">\n",
       "  <thead>\n",
       "    <tr style=\"text-align: right;\">\n",
       "      <th></th>\n",
       "      <th>schemaname</th>\n",
       "      <th>base_name</th>\n",
       "      <th>tablename</th>\n",
       "      <th>indexname</th>\n",
       "      <th>inds_count</th>\n",
       "      <th>ind</th>\n",
       "      <th>indexdef</th>\n",
       "      <th>full_table_name</th>\n",
       "      <th>uniq</th>\n",
       "      <th>short_idx_def</th>\n",
       "      <th>idx_type</th>\n",
       "      <th>ind_fields</th>\n",
       "    </tr>\n",
       "  </thead>\n",
       "  <tbody>\n",
       "    <tr>\n",
       "      <th>2231</th>\n",
       "      <td>dwh_dds</td>\n",
       "      <td>acc_doc_payment</td>\n",
       "      <td>acc_doc_payment</td>\n",
       "      <td>acc_doc_payment_docp_report_date_idx</td>\n",
       "      <td>1</td>\n",
       "      <td>1</td>\n",
       "      <td>CREATE INDEX acc_doc_payment_docp_report_date_idx ON dwh_dds.acc_doc_payment USING bitmap (docp_report_date)</td>\n",
       "      <td>dwh_dds.acc_doc_payment</td>\n",
       "      <td>0</td>\n",
       "      <td>bitmap (docp_report_date)</td>\n",
       "      <td>bitmap</td>\n",
       "      <td>docp_report_date</td>\n",
       "    </tr>\n",
       "    <tr>\n",
       "      <th>13</th>\n",
       "      <td>dwh_bckp</td>\n",
       "      <td>s01_led_acc_det_bkp</td>\n",
       "      <td>s01_led_acc_det_bkp</td>\n",
       "      <td>s01_led_acc_det_bkp_ch_id_idx</td>\n",
       "      <td>4</td>\n",
       "      <td>2</td>\n",
       "      <td>CREATE INDEX s01_led_acc_det_bkp_ch_id_idx ON dwh_bckp.s01_led_acc_det_bkp USING btree (ch_id)</td>\n",
       "      <td>dwh_bckp.s01_led_acc_det_bkp</td>\n",
       "      <td>0</td>\n",
       "      <td>btree (ch_id)</td>\n",
       "      <td>btree</td>\n",
       "      <td>ch_id</td>\n",
       "    </tr>\n",
       "    <tr>\n",
       "      <th>3871</th>\n",
       "      <td>dwh_dds</td>\n",
       "      <td>ref_pledge_link</td>\n",
       "      <td>ref_pledge_link</td>\n",
       "      <td>ref_pledge_link_tmp_v2_pledlnk_gid_idx</td>\n",
       "      <td>3</td>\n",
       "      <td>3</td>\n",
       "      <td>CREATE INDEX ref_pledge_link_tmp_v2_pledlnk_gid_idx ON dwh_dds.ref_pledge_link USING btree (pledlnk_gid, \"pledlnk$start_date\", \"pledlnk$end_date\" DESC) WHERE ((\"pledlnk$row_status\")::text = 'A'::t...</td>\n",
       "      <td>dwh_dds.ref_pledge_link</td>\n",
       "      <td>0</td>\n",
       "      <td>btree (pledlnk_gid, \"pledlnk$start_date\", \"pledlnk$end_date\" DESC) WHERE ((\"pledlnk$row_status\")::text = 'A'::text)</td>\n",
       "      <td>btree</td>\n",
       "      <td>pledlnk_gid, \"pledlnk$start_date\", \"pledlnk$end_date\" DESC</td>\n",
       "    </tr>\n",
       "  </tbody>\n",
       "</table>\n",
       "</div>"
      ],
      "text/plain": [
       "     schemaname            base_name            tablename  \\\n",
       "2231    dwh_dds      acc_doc_payment      acc_doc_payment   \n",
       "13     dwh_bckp  s01_led_acc_det_bkp  s01_led_acc_det_bkp   \n",
       "3871    dwh_dds      ref_pledge_link      ref_pledge_link   \n",
       "\n",
       "                                   indexname  inds_count  ind  \\\n",
       "2231    acc_doc_payment_docp_report_date_idx           1    1   \n",
       "13             s01_led_acc_det_bkp_ch_id_idx           4    2   \n",
       "3871  ref_pledge_link_tmp_v2_pledlnk_gid_idx           3    3   \n",
       "\n",
       "                                                                                                                                                                                                     indexdef  \\\n",
       "2231                                                                                             CREATE INDEX acc_doc_payment_docp_report_date_idx ON dwh_dds.acc_doc_payment USING bitmap (docp_report_date)   \n",
       "13                                                                                                             CREATE INDEX s01_led_acc_det_bkp_ch_id_idx ON dwh_bckp.s01_led_acc_det_bkp USING btree (ch_id)   \n",
       "3871  CREATE INDEX ref_pledge_link_tmp_v2_pledlnk_gid_idx ON dwh_dds.ref_pledge_link USING btree (pledlnk_gid, \"pledlnk$start_date\", \"pledlnk$end_date\" DESC) WHERE ((\"pledlnk$row_status\")::text = 'A'::t...   \n",
       "\n",
       "                   full_table_name  uniq  \\\n",
       "2231       dwh_dds.acc_doc_payment     0   \n",
       "13    dwh_bckp.s01_led_acc_det_bkp     0   \n",
       "3871       dwh_dds.ref_pledge_link     0   \n",
       "\n",
       "                                                                                                            short_idx_def  \\\n",
       "2231                                                                                            bitmap (docp_report_date)   \n",
       "13                                                                                                          btree (ch_id)   \n",
       "3871  btree (pledlnk_gid, \"pledlnk$start_date\", \"pledlnk$end_date\" DESC) WHERE ((\"pledlnk$row_status\")::text = 'A'::text)   \n",
       "\n",
       "     idx_type                                                  ind_fields  \n",
       "2231   bitmap                                            docp_report_date  \n",
       "13      btree                                                       ch_id  \n",
       "3871    btree  pledlnk_gid, \"pledlnk$start_date\", \"pledlnk$end_date\" DESC  "
      ]
     },
     "execution_count": 8,
     "metadata": {},
     "output_type": "execute_result"
    }
   ],
   "source": [
    "prod = prod[prod['schemaname'] + '.' + prod['tablename'] == prod['schemaname'] + '.' + prod['base_name']]\n",
    "prod.sample(3)"
   ]
  },
  {
   "cell_type": "markdown",
   "metadata": {},
   "source": [
    "=============================================================================================================="
   ]
  },
  {
   "cell_type": "markdown",
   "metadata": {},
   "source": [
    "### Тест"
   ]
  },
  {
   "cell_type": "code",
   "execution_count": 9,
   "metadata": {},
   "outputs": [],
   "source": [
    "test = pd.read_csv('./data/indexes_test_14122020.csv')"
   ]
  },
  {
   "cell_type": "code",
   "execution_count": 10,
   "metadata": {
    "scrolled": true
   },
   "outputs": [
    {
     "data": {
      "text/html": [
       "<div>\n",
       "<style scoped>\n",
       "    .dataframe tbody tr th:only-of-type {\n",
       "        vertical-align: middle;\n",
       "    }\n",
       "\n",
       "    .dataframe tbody tr th {\n",
       "        vertical-align: top;\n",
       "    }\n",
       "\n",
       "    .dataframe thead th {\n",
       "        text-align: right;\n",
       "    }\n",
       "</style>\n",
       "<table border=\"1\" class=\"dataframe\">\n",
       "  <thead>\n",
       "    <tr style=\"text-align: right;\">\n",
       "      <th></th>\n",
       "      <th>schemaname</th>\n",
       "      <th>base_name</th>\n",
       "      <th>tablename</th>\n",
       "      <th>indexname</th>\n",
       "      <th>inds_count</th>\n",
       "      <th>ind</th>\n",
       "      <th>indexdef</th>\n",
       "    </tr>\n",
       "  </thead>\n",
       "  <tbody>\n",
       "    <tr>\n",
       "      <th>0</th>\n",
       "      <td>dwh_bckp</td>\n",
       "      <td>amara_rating_fitch</td>\n",
       "      <td>amara_rating_fitch</td>\n",
       "      <td>pk_bckp_amara_rating_fitch</td>\n",
       "      <td>1</td>\n",
       "      <td>1</td>\n",
       "      <td>CREATE UNIQUE INDEX pk_bckp_amara_rating_fitch ON dwh_bckp.amara_rating_fitch USING btree (id, insert_date)</td>\n",
       "    </tr>\n",
       "    <tr>\n",
       "      <th>1</th>\n",
       "      <td>dwh_bckp</td>\n",
       "      <td>amara_rating_fitch_forecast</td>\n",
       "      <td>amara_rating_fitch_forecast</td>\n",
       "      <td>pk_bckp_amara_rating_fitch_forecast</td>\n",
       "      <td>1</td>\n",
       "      <td>1</td>\n",
       "      <td>CREATE UNIQUE INDEX pk_bckp_amara_rating_fitch_forecast ON dwh_bckp.amara_rating_fitch_forecast USING btree (id, insert_date)</td>\n",
       "    </tr>\n",
       "    <tr>\n",
       "      <th>2</th>\n",
       "      <td>dwh_bckp</td>\n",
       "      <td>amara_rating_fitch_short</td>\n",
       "      <td>amara_rating_fitch_short</td>\n",
       "      <td>pk_bckp_amara_rating_fitch_short</td>\n",
       "      <td>1</td>\n",
       "      <td>1</td>\n",
       "      <td>CREATE UNIQUE INDEX pk_bckp_amara_rating_fitch_short ON dwh_bckp.amara_rating_fitch_short USING btree (id, insert_date)</td>\n",
       "    </tr>\n",
       "  </tbody>\n",
       "</table>\n",
       "</div>"
      ],
      "text/plain": [
       "  schemaname                    base_name                    tablename  \\\n",
       "0   dwh_bckp           amara_rating_fitch           amara_rating_fitch   \n",
       "1   dwh_bckp  amara_rating_fitch_forecast  amara_rating_fitch_forecast   \n",
       "2   dwh_bckp     amara_rating_fitch_short     amara_rating_fitch_short   \n",
       "\n",
       "                             indexname  inds_count  ind  \\\n",
       "0           pk_bckp_amara_rating_fitch           1    1   \n",
       "1  pk_bckp_amara_rating_fitch_forecast           1    1   \n",
       "2     pk_bckp_amara_rating_fitch_short           1    1   \n",
       "\n",
       "                                                                                                                        indexdef  \n",
       "0                    CREATE UNIQUE INDEX pk_bckp_amara_rating_fitch ON dwh_bckp.amara_rating_fitch USING btree (id, insert_date)  \n",
       "1  CREATE UNIQUE INDEX pk_bckp_amara_rating_fitch_forecast ON dwh_bckp.amara_rating_fitch_forecast USING btree (id, insert_date)  \n",
       "2        CREATE UNIQUE INDEX pk_bckp_amara_rating_fitch_short ON dwh_bckp.amara_rating_fitch_short USING btree (id, insert_date)  "
      ]
     },
     "execution_count": 10,
     "metadata": {},
     "output_type": "execute_result"
    }
   ],
   "source": [
    "test.head(3)"
   ]
  },
  {
   "cell_type": "markdown",
   "metadata": {},
   "source": [
    "Добавим поле full_table_name"
   ]
  },
  {
   "cell_type": "code",
   "execution_count": 11,
   "metadata": {},
   "outputs": [],
   "source": [
    "test['full_table_name'] = test['schemaname'] + '.' + test['tablename']"
   ]
  },
  {
   "cell_type": "markdown",
   "metadata": {},
   "source": [
    "Добавляем столбцы: признак уникальности (возможно это PK),тип индекска и его короткое определение"
   ]
  },
  {
   "cell_type": "code",
   "execution_count": 12,
   "metadata": {},
   "outputs": [],
   "source": [
    "test['uniq'] = test.indexdef.apply(lambda x: 1 if 'CREATE UNIQUE INDEX' in x else 0)\n",
    "test['short_idx_def'] = test.indexdef.apply(lambda x: x.split('USING')[1].strip())\n",
    "test['idx_type'] = test.short_idx_def.apply(lambda x: x.split('(')[0].strip())\n",
    "test['ind_fields'] = test.short_idx_def.apply(lambda x: x.split('(')[1].split(')')[0].strip())"
   ]
  },
  {
   "cell_type": "code",
   "execution_count": 13,
   "metadata": {},
   "outputs": [
    {
     "data": {
      "text/html": [
       "<div>\n",
       "<style scoped>\n",
       "    .dataframe tbody tr th:only-of-type {\n",
       "        vertical-align: middle;\n",
       "    }\n",
       "\n",
       "    .dataframe tbody tr th {\n",
       "        vertical-align: top;\n",
       "    }\n",
       "\n",
       "    .dataframe thead th {\n",
       "        text-align: right;\n",
       "    }\n",
       "</style>\n",
       "<table border=\"1\" class=\"dataframe\">\n",
       "  <thead>\n",
       "    <tr style=\"text-align: right;\">\n",
       "      <th></th>\n",
       "      <th>schemaname</th>\n",
       "      <th>base_name</th>\n",
       "      <th>tablename</th>\n",
       "      <th>indexname</th>\n",
       "      <th>inds_count</th>\n",
       "      <th>ind</th>\n",
       "      <th>indexdef</th>\n",
       "      <th>full_table_name</th>\n",
       "      <th>uniq</th>\n",
       "      <th>short_idx_def</th>\n",
       "      <th>idx_type</th>\n",
       "      <th>ind_fields</th>\n",
       "    </tr>\n",
       "  </thead>\n",
       "  <tbody>\n",
       "    <tr>\n",
       "      <th>7794</th>\n",
       "      <td>dwh_stage</td>\n",
       "      <td>s01_t_bal</td>\n",
       "      <td>s01_t_bal_1_prt_with_flzo_2_prt_236_2019_08_01</td>\n",
       "      <td>s01_t_bal_1_prt_with_flzo_2_prt_236_2019_08_01_bmx</td>\n",
       "      <td>2</td>\n",
       "      <td>2</td>\n",
       "      <td>CREATE INDEX s01_t_bal_1_prt_with_flzo_2_prt_236_2019_08_01_bmx ON dwh_stage.s01_t_bal_1_prt_with_flzo_2_prt_236_2019_08_01 USING bitmap (fromdate)</td>\n",
       "      <td>dwh_stage.s01_t_bal_1_prt_with_flzo_2_prt_236_2019_08_01</td>\n",
       "      <td>0</td>\n",
       "      <td>bitmap (fromdate)</td>\n",
       "      <td>bitmap</td>\n",
       "      <td>fromdate</td>\n",
       "    </tr>\n",
       "    <tr>\n",
       "      <th>5419</th>\n",
       "      <td>dwh_dm</td>\n",
       "      <td>dm_transaction</td>\n",
       "      <td>dm_transaction_1_prt_127</td>\n",
       "      <td>dm_transaction_1_prt_127_dm_trn_gid_idx</td>\n",
       "      <td>2</td>\n",
       "      <td>1</td>\n",
       "      <td>CREATE UNIQUE INDEX dm_transaction_1_prt_127_dm_trn_gid_idx ON dwh_dm.dm_transaction_1_prt_127 USING btree (dm_trn_gid)</td>\n",
       "      <td>dwh_dm.dm_transaction_1_prt_127</td>\n",
       "      <td>1</td>\n",
       "      <td>btree (dm_trn_gid)</td>\n",
       "      <td>btree</td>\n",
       "      <td>dm_trn_gid</td>\n",
       "    </tr>\n",
       "    <tr>\n",
       "      <th>9995</th>\n",
       "      <td>dwh_stage</td>\n",
       "      <td>s01_t_trndtl</td>\n",
       "      <td>s01_t_trndtl_1_prt_95_2020_10_09</td>\n",
       "      <td>s01_t_trndtl_1_prt_95_2020_10_09_doper_idx</td>\n",
       "      <td>4</td>\n",
       "      <td>3</td>\n",
       "      <td>CREATE INDEX s01_t_trndtl_1_prt_95_2020_10_09_doper_idx ON dwh_stage.s01_t_trndtl_1_prt_95_2020_10_09 USING bitmap (doper)</td>\n",
       "      <td>dwh_stage.s01_t_trndtl_1_prt_95_2020_10_09</td>\n",
       "      <td>0</td>\n",
       "      <td>bitmap (doper)</td>\n",
       "      <td>bitmap</td>\n",
       "      <td>doper</td>\n",
       "    </tr>\n",
       "  </tbody>\n",
       "</table>\n",
       "</div>"
      ],
      "text/plain": [
       "     schemaname       base_name  \\\n",
       "7794  dwh_stage       s01_t_bal   \n",
       "5419     dwh_dm  dm_transaction   \n",
       "9995  dwh_stage    s01_t_trndtl   \n",
       "\n",
       "                                           tablename  \\\n",
       "7794  s01_t_bal_1_prt_with_flzo_2_prt_236_2019_08_01   \n",
       "5419                        dm_transaction_1_prt_127   \n",
       "9995                s01_t_trndtl_1_prt_95_2020_10_09   \n",
       "\n",
       "                                               indexname  inds_count  ind  \\\n",
       "7794  s01_t_bal_1_prt_with_flzo_2_prt_236_2019_08_01_bmx           2    2   \n",
       "5419             dm_transaction_1_prt_127_dm_trn_gid_idx           2    1   \n",
       "9995          s01_t_trndtl_1_prt_95_2020_10_09_doper_idx           4    3   \n",
       "\n",
       "                                                                                                                                                 indexdef  \\\n",
       "7794  CREATE INDEX s01_t_bal_1_prt_with_flzo_2_prt_236_2019_08_01_bmx ON dwh_stage.s01_t_bal_1_prt_with_flzo_2_prt_236_2019_08_01 USING bitmap (fromdate)   \n",
       "5419                              CREATE UNIQUE INDEX dm_transaction_1_prt_127_dm_trn_gid_idx ON dwh_dm.dm_transaction_1_prt_127 USING btree (dm_trn_gid)   \n",
       "9995                           CREATE INDEX s01_t_trndtl_1_prt_95_2020_10_09_doper_idx ON dwh_stage.s01_t_trndtl_1_prt_95_2020_10_09 USING bitmap (doper)   \n",
       "\n",
       "                                               full_table_name  uniq  \\\n",
       "7794  dwh_stage.s01_t_bal_1_prt_with_flzo_2_prt_236_2019_08_01     0   \n",
       "5419                           dwh_dm.dm_transaction_1_prt_127     1   \n",
       "9995                dwh_stage.s01_t_trndtl_1_prt_95_2020_10_09     0   \n",
       "\n",
       "           short_idx_def idx_type  ind_fields  \n",
       "7794   bitmap (fromdate)   bitmap    fromdate  \n",
       "5419  btree (dm_trn_gid)    btree  dm_trn_gid  \n",
       "9995      bitmap (doper)   bitmap       doper  "
      ]
     },
     "execution_count": 13,
     "metadata": {},
     "output_type": "execute_result"
    }
   ],
   "source": [
    "test.sample(3)"
   ]
  },
  {
   "cell_type": "markdown",
   "metadata": {},
   "source": [
    "Убираем партиции"
   ]
  },
  {
   "cell_type": "code",
   "execution_count": 14,
   "metadata": {},
   "outputs": [
    {
     "data": {
      "text/html": [
       "<div>\n",
       "<style scoped>\n",
       "    .dataframe tbody tr th:only-of-type {\n",
       "        vertical-align: middle;\n",
       "    }\n",
       "\n",
       "    .dataframe tbody tr th {\n",
       "        vertical-align: top;\n",
       "    }\n",
       "\n",
       "    .dataframe thead th {\n",
       "        text-align: right;\n",
       "    }\n",
       "</style>\n",
       "<table border=\"1\" class=\"dataframe\">\n",
       "  <thead>\n",
       "    <tr style=\"text-align: right;\">\n",
       "      <th></th>\n",
       "      <th>schemaname</th>\n",
       "      <th>base_name</th>\n",
       "      <th>tablename</th>\n",
       "      <th>indexname</th>\n",
       "      <th>inds_count</th>\n",
       "      <th>ind</th>\n",
       "      <th>indexdef</th>\n",
       "      <th>full_table_name</th>\n",
       "      <th>uniq</th>\n",
       "      <th>short_idx_def</th>\n",
       "      <th>idx_type</th>\n",
       "      <th>ind_fields</th>\n",
       "    </tr>\n",
       "  </thead>\n",
       "  <tbody>\n",
       "    <tr>\n",
       "      <th>4201</th>\n",
       "      <td>dwh_dds</td>\n",
       "      <td>ref_sc_identcode</td>\n",
       "      <td>ref_sc_identcode</td>\n",
       "      <td>ref_sc_identcode_tmp_v2_scidc_gid_idx</td>\n",
       "      <td>6</td>\n",
       "      <td>3</td>\n",
       "      <td>CREATE INDEX ref_sc_identcode_tmp_v2_scidc_gid_idx ON dwh_dds.ref_sc_identcode USING btree (scidc_gid, \"scidc$start_date\", \"scidc$end_date\" DESC) WHERE ((\"scidc$row_status\")::text = 'A'::text)</td>\n",
       "      <td>dwh_dds.ref_sc_identcode</td>\n",
       "      <td>0</td>\n",
       "      <td>btree (scidc_gid, \"scidc$start_date\", \"scidc$end_date\" DESC) WHERE ((\"scidc$row_status\")::text = 'A'::text)</td>\n",
       "      <td>btree</td>\n",
       "      <td>scidc_gid, \"scidc$start_date\", \"scidc$end_date\" DESC</td>\n",
       "    </tr>\n",
       "    <tr>\n",
       "      <th>6723</th>\n",
       "      <td>dwh_stage</td>\n",
       "      <td>s01_s_safevault</td>\n",
       "      <td>s01_s_safevault</td>\n",
       "      <td>pk_s01_s_safevault</td>\n",
       "      <td>1</td>\n",
       "      <td>1</td>\n",
       "      <td>CREATE UNIQUE INDEX pk_s01_s_safevault ON dwh_stage.s01_s_safevault USING btree (id)</td>\n",
       "      <td>dwh_stage.s01_s_safevault</td>\n",
       "      <td>1</td>\n",
       "      <td>btree (id)</td>\n",
       "      <td>btree</td>\n",
       "      <td>id</td>\n",
       "    </tr>\n",
       "    <tr>\n",
       "      <th>6612</th>\n",
       "      <td>dwh_stage</td>\n",
       "      <td>s01_g_accblnhst</td>\n",
       "      <td>s01_g_accblnhst</td>\n",
       "      <td>s01_g_accblnhst_v2_id_idx</td>\n",
       "      <td>3</td>\n",
       "      <td>3</td>\n",
       "      <td>CREATE UNIQUE INDEX s01_g_accblnhst_v2_id_idx ON dwh_stage.s01_g_accblnhst USING btree (id, fromdate DESC)</td>\n",
       "      <td>dwh_stage.s01_g_accblnhst</td>\n",
       "      <td>1</td>\n",
       "      <td>btree (id, fromdate DESC)</td>\n",
       "      <td>btree</td>\n",
       "      <td>id, fromdate DESC</td>\n",
       "    </tr>\n",
       "  </tbody>\n",
       "</table>\n",
       "</div>"
      ],
      "text/plain": [
       "     schemaname         base_name         tablename  \\\n",
       "4201    dwh_dds  ref_sc_identcode  ref_sc_identcode   \n",
       "6723  dwh_stage   s01_s_safevault   s01_s_safevault   \n",
       "6612  dwh_stage   s01_g_accblnhst   s01_g_accblnhst   \n",
       "\n",
       "                                  indexname  inds_count  ind  \\\n",
       "4201  ref_sc_identcode_tmp_v2_scidc_gid_idx           6    3   \n",
       "6723                     pk_s01_s_safevault           1    1   \n",
       "6612              s01_g_accblnhst_v2_id_idx           3    3   \n",
       "\n",
       "                                                                                                                                                                                              indexdef  \\\n",
       "4201  CREATE INDEX ref_sc_identcode_tmp_v2_scidc_gid_idx ON dwh_dds.ref_sc_identcode USING btree (scidc_gid, \"scidc$start_date\", \"scidc$end_date\" DESC) WHERE ((\"scidc$row_status\")::text = 'A'::text)   \n",
       "6723                                                                                                              CREATE UNIQUE INDEX pk_s01_s_safevault ON dwh_stage.s01_s_safevault USING btree (id)   \n",
       "6612                                                                                        CREATE UNIQUE INDEX s01_g_accblnhst_v2_id_idx ON dwh_stage.s01_g_accblnhst USING btree (id, fromdate DESC)   \n",
       "\n",
       "                full_table_name  uniq  \\\n",
       "4201   dwh_dds.ref_sc_identcode     0   \n",
       "6723  dwh_stage.s01_s_safevault     1   \n",
       "6612  dwh_stage.s01_g_accblnhst     1   \n",
       "\n",
       "                                                                                                    short_idx_def  \\\n",
       "4201  btree (scidc_gid, \"scidc$start_date\", \"scidc$end_date\" DESC) WHERE ((\"scidc$row_status\")::text = 'A'::text)   \n",
       "6723                                                                                                   btree (id)   \n",
       "6612                                                                                    btree (id, fromdate DESC)   \n",
       "\n",
       "     idx_type                                            ind_fields  \n",
       "4201    btree  scidc_gid, \"scidc$start_date\", \"scidc$end_date\" DESC  \n",
       "6723    btree                                                    id  \n",
       "6612    btree                                     id, fromdate DESC  "
      ]
     },
     "execution_count": 14,
     "metadata": {},
     "output_type": "execute_result"
    }
   ],
   "source": [
    "test = test[test['schemaname'] + '.' + test['tablename'] == test['schemaname'] + '.' + test['base_name']]\n",
    "test.sample(3)"
   ]
  },
  {
   "cell_type": "code",
   "execution_count": 15,
   "metadata": {
    "scrolled": true
   },
   "outputs": [
    {
     "name": "stdout",
     "output_type": "stream",
     "text": [
      "<class 'pandas.core.frame.DataFrame'>\n",
      "Int64Index: 581 entries, 0 to 7959\n",
      "Data columns (total 12 columns):\n",
      " #   Column           Non-Null Count  Dtype \n",
      "---  ------           --------------  ----- \n",
      " 0   schemaname       581 non-null    object\n",
      " 1   base_name        581 non-null    object\n",
      " 2   tablename        581 non-null    object\n",
      " 3   indexname        581 non-null    object\n",
      " 4   inds_count       581 non-null    int64 \n",
      " 5   ind              581 non-null    int64 \n",
      " 6   indexdef         581 non-null    object\n",
      " 7   full_table_name  581 non-null    object\n",
      " 8   uniq             581 non-null    int64 \n",
      " 9   short_idx_def    581 non-null    object\n",
      " 10  idx_type         581 non-null    object\n",
      " 11  ind_fields       581 non-null    object\n",
      "dtypes: int64(3), object(9)\n",
      "memory usage: 59.0+ KB\n"
     ]
    }
   ],
   "source": [
    "prod.info()"
   ]
  },
  {
   "cell_type": "code",
   "execution_count": 16,
   "metadata": {
    "scrolled": true
   },
   "outputs": [
    {
     "name": "stdout",
     "output_type": "stream",
     "text": [
      "<class 'pandas.core.frame.DataFrame'>\n",
      "Int64Index: 594 entries, 0 to 11540\n",
      "Data columns (total 12 columns):\n",
      " #   Column           Non-Null Count  Dtype \n",
      "---  ------           --------------  ----- \n",
      " 0   schemaname       594 non-null    object\n",
      " 1   base_name        594 non-null    object\n",
      " 2   tablename        594 non-null    object\n",
      " 3   indexname        594 non-null    object\n",
      " 4   inds_count       594 non-null    int64 \n",
      " 5   ind              594 non-null    int64 \n",
      " 6   indexdef         594 non-null    object\n",
      " 7   full_table_name  594 non-null    object\n",
      " 8   uniq             594 non-null    int64 \n",
      " 9   short_idx_def    594 non-null    object\n",
      " 10  idx_type         594 non-null    object\n",
      " 11  ind_fields       594 non-null    object\n",
      "dtypes: int64(3), object(9)\n",
      "memory usage: 60.3+ KB\n"
     ]
    }
   ],
   "source": [
    "test.info()"
   ]
  },
  {
   "cell_type": "markdown",
   "metadata": {},
   "source": [
    "### Сверяем только те таблицы, что есть и на Прод и на Тест"
   ]
  },
  {
   "cell_type": "markdown",
   "metadata": {},
   "source": [
    "Прод"
   ]
  },
  {
   "cell_type": "code",
   "execution_count": 17,
   "metadata": {
    "scrolled": false
   },
   "outputs": [],
   "source": [
    "#Замечание: проверки такого типа позволяют выявить нестандартные определения индексов\n",
    "#Но сейчас не понадобилось - не используем\n",
    "#prod[prod.ind_fields.str.strip()=='']\n",
    "#prod[prod.indexdef.str.strip().str.contains('::')]"
   ]
  },
  {
   "cell_type": "markdown",
   "metadata": {},
   "source": [
    "Удалим лишние столбцы"
   ]
  },
  {
   "cell_type": "code",
   "execution_count": 18,
   "metadata": {
    "scrolled": false
   },
   "outputs": [
    {
     "data": {
      "text/html": [
       "<div>\n",
       "<style scoped>\n",
       "    .dataframe tbody tr th:only-of-type {\n",
       "        vertical-align: middle;\n",
       "    }\n",
       "\n",
       "    .dataframe tbody tr th {\n",
       "        vertical-align: top;\n",
       "    }\n",
       "\n",
       "    .dataframe thead th {\n",
       "        text-align: right;\n",
       "    }\n",
       "</style>\n",
       "<table border=\"1\" class=\"dataframe\">\n",
       "  <thead>\n",
       "    <tr style=\"text-align: right;\">\n",
       "      <th></th>\n",
       "      <th>schemaname</th>\n",
       "      <th>tablename</th>\n",
       "      <th>indexname</th>\n",
       "      <th>inds_count</th>\n",
       "      <th>ind</th>\n",
       "      <th>indexdef</th>\n",
       "      <th>full_table_name</th>\n",
       "      <th>uniq</th>\n",
       "      <th>idx_type</th>\n",
       "      <th>ind_fields</th>\n",
       "    </tr>\n",
       "  </thead>\n",
       "  <tbody>\n",
       "    <tr>\n",
       "      <th>3803</th>\n",
       "      <td>dwh_dds</td>\n",
       "      <td>ref_deal_forex</td>\n",
       "      <td>ref_deal_forex_dlfx_prnt_deal_dprt_gid_idx</td>\n",
       "      <td>16</td>\n",
       "      <td>11</td>\n",
       "      <td>CREATE INDEX ref_deal_forex_dlfx_prnt_deal_dprt_gid_idx ON dwh_dds.ref_deal_forex USING btree (dlfx_prnt_deal_dprt_gid)</td>\n",
       "      <td>dwh_dds.ref_deal_forex</td>\n",
       "      <td>0</td>\n",
       "      <td>btree</td>\n",
       "      <td>dlfx_prnt_deal_dprt_gid</td>\n",
       "    </tr>\n",
       "    <tr>\n",
       "      <th>7958</th>\n",
       "      <td>dwh_stage</td>\n",
       "      <td>s03_lfa1</td>\n",
       "      <td>s03_lfa1_lifnr_idx</td>\n",
       "      <td>1</td>\n",
       "      <td>1</td>\n",
       "      <td>CREATE INDEX s03_lfa1_lifnr_idx ON dwh_stage.s03_lfa1 USING btree (lifnr)</td>\n",
       "      <td>dwh_stage.s03_lfa1</td>\n",
       "      <td>0</td>\n",
       "      <td>btree</td>\n",
       "      <td>lifnr</td>\n",
       "    </tr>\n",
       "    <tr>\n",
       "      <th>3842</th>\n",
       "      <td>dwh_dds</td>\n",
       "      <td>ref_deal_schedule</td>\n",
       "      <td>ref_deal_schedule_tmp_v2_sched_gid_idx</td>\n",
       "      <td>2</td>\n",
       "      <td>2</td>\n",
       "      <td>CREATE INDEX ref_deal_schedule_tmp_v2_sched_gid_idx ON dwh_dds.ref_deal_schedule USING btree (sched_gid, \"sched$start_date\", \"sched$end_date\" DESC) WHERE ((\"sched$row_status\")::text = 'A'::text)</td>\n",
       "      <td>dwh_dds.ref_deal_schedule</td>\n",
       "      <td>0</td>\n",
       "      <td>btree</td>\n",
       "      <td>sched_gid, \"sched$start_date\", \"sched$end_date\" DESC</td>\n",
       "    </tr>\n",
       "  </tbody>\n",
       "</table>\n",
       "</div>"
      ],
      "text/plain": [
       "     schemaname          tablename  \\\n",
       "3803    dwh_dds     ref_deal_forex   \n",
       "7958  dwh_stage           s03_lfa1   \n",
       "3842    dwh_dds  ref_deal_schedule   \n",
       "\n",
       "                                       indexname  inds_count  ind  \\\n",
       "3803  ref_deal_forex_dlfx_prnt_deal_dprt_gid_idx          16   11   \n",
       "7958                          s03_lfa1_lifnr_idx           1    1   \n",
       "3842      ref_deal_schedule_tmp_v2_sched_gid_idx           2    2   \n",
       "\n",
       "                                                                                                                                                                                                indexdef  \\\n",
       "3803                                                                             CREATE INDEX ref_deal_forex_dlfx_prnt_deal_dprt_gid_idx ON dwh_dds.ref_deal_forex USING btree (dlfx_prnt_deal_dprt_gid)   \n",
       "7958                                                                                                                           CREATE INDEX s03_lfa1_lifnr_idx ON dwh_stage.s03_lfa1 USING btree (lifnr)   \n",
       "3842  CREATE INDEX ref_deal_schedule_tmp_v2_sched_gid_idx ON dwh_dds.ref_deal_schedule USING btree (sched_gid, \"sched$start_date\", \"sched$end_date\" DESC) WHERE ((\"sched$row_status\")::text = 'A'::text)   \n",
       "\n",
       "                full_table_name  uniq idx_type  \\\n",
       "3803     dwh_dds.ref_deal_forex     0    btree   \n",
       "7958         dwh_stage.s03_lfa1     0    btree   \n",
       "3842  dwh_dds.ref_deal_schedule     0    btree   \n",
       "\n",
       "                                                ind_fields  \n",
       "3803                               dlfx_prnt_deal_dprt_gid  \n",
       "7958                                                 lifnr  \n",
       "3842  sched_gid, \"sched$start_date\", \"sched$end_date\" DESC  "
      ]
     },
     "execution_count": 18,
     "metadata": {},
     "output_type": "execute_result"
    }
   ],
   "source": [
    "#Удаляем лишние столбцы\n",
    "prod.drop(['base_name', 'short_idx_def'], inplace=True, axis = 1)#, 'indexdef'\n",
    "prod.sample(3)"
   ]
  },
  {
   "cell_type": "markdown",
   "metadata": {},
   "source": [
    "Test"
   ]
  },
  {
   "cell_type": "markdown",
   "metadata": {},
   "source": [
    "Удалим лишние столбцы"
   ]
  },
  {
   "cell_type": "code",
   "execution_count": 19,
   "metadata": {
    "scrolled": true
   },
   "outputs": [
    {
     "data": {
      "text/html": [
       "<div>\n",
       "<style scoped>\n",
       "    .dataframe tbody tr th:only-of-type {\n",
       "        vertical-align: middle;\n",
       "    }\n",
       "\n",
       "    .dataframe tbody tr th {\n",
       "        vertical-align: top;\n",
       "    }\n",
       "\n",
       "    .dataframe thead th {\n",
       "        text-align: right;\n",
       "    }\n",
       "</style>\n",
       "<table border=\"1\" class=\"dataframe\">\n",
       "  <thead>\n",
       "    <tr style=\"text-align: right;\">\n",
       "      <th></th>\n",
       "      <th>schemaname</th>\n",
       "      <th>tablename</th>\n",
       "      <th>indexname</th>\n",
       "      <th>inds_count</th>\n",
       "      <th>ind</th>\n",
       "      <th>indexdef</th>\n",
       "      <th>full_table_name</th>\n",
       "      <th>uniq</th>\n",
       "      <th>idx_type</th>\n",
       "      <th>ind_fields</th>\n",
       "    </tr>\n",
       "  </thead>\n",
       "  <tbody>\n",
       "    <tr>\n",
       "      <th>6646</th>\n",
       "      <td>dwh_stage</td>\n",
       "      <td>s01_g_dbljrndtl</td>\n",
       "      <td>g_dbljrndtl</td>\n",
       "      <td>1</td>\n",
       "      <td>1</td>\n",
       "      <td>CREATE UNIQUE INDEX g_dbljrndtl ON dwh_stage.s01_g_dbljrndtl USING btree (jrn_id, code, nord)</td>\n",
       "      <td>dwh_stage.s01_g_dbljrndtl</td>\n",
       "      <td>1</td>\n",
       "      <td>btree</td>\n",
       "      <td>jrn_id, code, nord</td>\n",
       "    </tr>\n",
       "    <tr>\n",
       "      <th>4085</th>\n",
       "      <td>dwh_dds</td>\n",
       "      <td>ref_auth_person</td>\n",
       "      <td>pk_ref_auth_person</td>\n",
       "      <td>1</td>\n",
       "      <td>1</td>\n",
       "      <td>CREATE INDEX pk_ref_auth_person ON dwh_dds.ref_auth_person USING btree (pst_gid, \"pst$end_date\" DESC, \"pst$row_status\")</td>\n",
       "      <td>dwh_dds.ref_auth_person</td>\n",
       "      <td>0</td>\n",
       "      <td>btree</td>\n",
       "      <td>pst_gid, \"pst$end_date\" DESC, \"pst$row_status\"</td>\n",
       "    </tr>\n",
       "    <tr>\n",
       "      <th>8215</th>\n",
       "      <td>dwh_stage</td>\n",
       "      <td>s01_t_bop_stat_std</td>\n",
       "      <td>s01_t_bop_stat_std_pk</td>\n",
       "      <td>1</td>\n",
       "      <td>1</td>\n",
       "      <td>CREATE UNIQUE INDEX s01_t_bop_stat_std_pk ON dwh_stage.s01_t_bop_stat_std USING btree (id, nord)</td>\n",
       "      <td>dwh_stage.s01_t_bop_stat_std</td>\n",
       "      <td>1</td>\n",
       "      <td>btree</td>\n",
       "      <td>id, nord</td>\n",
       "    </tr>\n",
       "  </tbody>\n",
       "</table>\n",
       "</div>"
      ],
      "text/plain": [
       "     schemaname           tablename              indexname  inds_count  ind  \\\n",
       "6646  dwh_stage     s01_g_dbljrndtl            g_dbljrndtl           1    1   \n",
       "4085    dwh_dds     ref_auth_person     pk_ref_auth_person           1    1   \n",
       "8215  dwh_stage  s01_t_bop_stat_std  s01_t_bop_stat_std_pk           1    1   \n",
       "\n",
       "                                                                                                                     indexdef  \\\n",
       "6646                            CREATE UNIQUE INDEX g_dbljrndtl ON dwh_stage.s01_g_dbljrndtl USING btree (jrn_id, code, nord)   \n",
       "4085  CREATE INDEX pk_ref_auth_person ON dwh_dds.ref_auth_person USING btree (pst_gid, \"pst$end_date\" DESC, \"pst$row_status\")   \n",
       "8215                         CREATE UNIQUE INDEX s01_t_bop_stat_std_pk ON dwh_stage.s01_t_bop_stat_std USING btree (id, nord)   \n",
       "\n",
       "                   full_table_name  uniq idx_type  \\\n",
       "6646     dwh_stage.s01_g_dbljrndtl     1    btree   \n",
       "4085       dwh_dds.ref_auth_person     0    btree   \n",
       "8215  dwh_stage.s01_t_bop_stat_std     1    btree   \n",
       "\n",
       "                                          ind_fields  \n",
       "6646                              jrn_id, code, nord  \n",
       "4085  pst_gid, \"pst$end_date\" DESC, \"pst$row_status\"  \n",
       "8215                                        id, nord  "
      ]
     },
     "execution_count": 19,
     "metadata": {},
     "output_type": "execute_result"
    }
   ],
   "source": [
    "#Удаляем лишние столбцы\n",
    "test.drop(['base_name', 'short_idx_def'], inplace=True, axis = 1)#, 'indexdef'\n",
    "test.sample(3)"
   ]
  },
  {
   "cell_type": "markdown",
   "metadata": {},
   "source": [
    "### Выравниваем Прод и Тест"
   ]
  },
  {
   "cell_type": "code",
   "execution_count": 20,
   "metadata": {},
   "outputs": [
    {
     "data": {
      "text/html": [
       "<div>\n",
       "<style scoped>\n",
       "    .dataframe tbody tr th:only-of-type {\n",
       "        vertical-align: middle;\n",
       "    }\n",
       "\n",
       "    .dataframe tbody tr th {\n",
       "        vertical-align: top;\n",
       "    }\n",
       "\n",
       "    .dataframe thead th {\n",
       "        text-align: right;\n",
       "    }\n",
       "</style>\n",
       "<table border=\"1\" class=\"dataframe\">\n",
       "  <thead>\n",
       "    <tr style=\"text-align: right;\">\n",
       "      <th></th>\n",
       "      <th>full_table_name</th>\n",
       "    </tr>\n",
       "  </thead>\n",
       "  <tbody>\n",
       "    <tr>\n",
       "      <th>0</th>\n",
       "      <td>dwh_bckp.amara_corr_overdues</td>\n",
       "    </tr>\n",
       "    <tr>\n",
       "      <th>1</th>\n",
       "      <td>dwh_bckp.amara_rating_fitch</td>\n",
       "    </tr>\n",
       "  </tbody>\n",
       "</table>\n",
       "</div>"
      ],
      "text/plain": [
       "                full_table_name\n",
       "0  dwh_bckp.amara_corr_overdues\n",
       "1   dwh_bckp.amara_rating_fitch"
      ]
     },
     "execution_count": 20,
     "metadata": {},
     "output_type": "execute_result"
    }
   ],
   "source": [
    "prod2 = prod[['full_table_name']]\n",
    "prod2.head(2)"
   ]
  },
  {
   "cell_type": "code",
   "execution_count": 21,
   "metadata": {},
   "outputs": [
    {
     "data": {
      "text/html": [
       "<div>\n",
       "<style scoped>\n",
       "    .dataframe tbody tr th:only-of-type {\n",
       "        vertical-align: middle;\n",
       "    }\n",
       "\n",
       "    .dataframe tbody tr th {\n",
       "        vertical-align: top;\n",
       "    }\n",
       "\n",
       "    .dataframe thead th {\n",
       "        text-align: right;\n",
       "    }\n",
       "</style>\n",
       "<table border=\"1\" class=\"dataframe\">\n",
       "  <thead>\n",
       "    <tr style=\"text-align: right;\">\n",
       "      <th></th>\n",
       "      <th>full_table_name</th>\n",
       "    </tr>\n",
       "  </thead>\n",
       "  <tbody>\n",
       "    <tr>\n",
       "      <th>0</th>\n",
       "      <td>dwh_bckp.amara_rating_fitch</td>\n",
       "    </tr>\n",
       "    <tr>\n",
       "      <th>1</th>\n",
       "      <td>dwh_bckp.amara_rating_fitch_forecast</td>\n",
       "    </tr>\n",
       "  </tbody>\n",
       "</table>\n",
       "</div>"
      ],
      "text/plain": [
       "                        full_table_name\n",
       "0           dwh_bckp.amara_rating_fitch\n",
       "1  dwh_bckp.amara_rating_fitch_forecast"
      ]
     },
     "execution_count": 21,
     "metadata": {},
     "output_type": "execute_result"
    }
   ],
   "source": [
    "test2 = test[['full_table_name']]\n",
    "test2.head(2)"
   ]
  },
  {
   "cell_type": "code",
   "execution_count": 22,
   "metadata": {},
   "outputs": [
    {
     "name": "stdout",
     "output_type": "stream",
     "text": [
      "<class 'pandas.core.frame.DataFrame'>\n",
      "Int64Index: 594 entries, 0 to 11540\n",
      "Data columns (total 1 columns):\n",
      " #   Column           Non-Null Count  Dtype \n",
      "---  ------           --------------  ----- \n",
      " 0   full_table_name  594 non-null    object\n",
      "dtypes: object(1)\n",
      "memory usage: 9.3+ KB\n"
     ]
    }
   ],
   "source": [
    "test2.info()"
   ]
  },
  {
   "cell_type": "markdown",
   "metadata": {},
   "source": [
    "Готовим список нужных имен таблиц (которые есть и на Прод и на Тест)"
   ]
  },
  {
   "cell_type": "code",
   "execution_count": 23,
   "metadata": {},
   "outputs": [
    {
     "data": {
      "text/html": [
       "<div>\n",
       "<style scoped>\n",
       "    .dataframe tbody tr th:only-of-type {\n",
       "        vertical-align: middle;\n",
       "    }\n",
       "\n",
       "    .dataframe tbody tr th {\n",
       "        vertical-align: top;\n",
       "    }\n",
       "\n",
       "    .dataframe thead th {\n",
       "        text-align: right;\n",
       "    }\n",
       "</style>\n",
       "<table border=\"1\" class=\"dataframe\">\n",
       "  <thead>\n",
       "    <tr style=\"text-align: right;\">\n",
       "      <th></th>\n",
       "      <th>full_table_name</th>\n",
       "    </tr>\n",
       "  </thead>\n",
       "  <tbody>\n",
       "    <tr>\n",
       "      <th>0</th>\n",
       "      <td>dwh_bckp.amara_rating_fitch</td>\n",
       "    </tr>\n",
       "    <tr>\n",
       "      <th>1</th>\n",
       "      <td>dwh_bckp.amara_rating_fitch_forecast</td>\n",
       "    </tr>\n",
       "  </tbody>\n",
       "</table>\n",
       "</div>"
      ],
      "text/plain": [
       "                        full_table_name\n",
       "0           dwh_bckp.amara_rating_fitch\n",
       "1  dwh_bckp.amara_rating_fitch_forecast"
      ]
     },
     "execution_count": 23,
     "metadata": {},
     "output_type": "execute_result"
    }
   ],
   "source": [
    "prod2_test2_merge = prod2.merge(test2, on='full_table_name', how='inner')\n",
    "prod2_test2_merge.head(2)"
   ]
  },
  {
   "cell_type": "code",
   "execution_count": 24,
   "metadata": {},
   "outputs": [],
   "source": [
    "#Эти таблицы есть и на Прод и на Тест. Остальные будем удалять.\n",
    "not_to_delete = list(prod2_test2_merge.full_table_name.value_counts().index)"
   ]
  },
  {
   "cell_type": "code",
   "execution_count": 25,
   "metadata": {},
   "outputs": [
    {
     "data": {
      "text/plain": [
       "['dwh_dds.ref_sc_issue',\n",
       " 'dwh_dds.ref_deal_forex',\n",
       " 'dwh_dds.ref_sc_lot',\n",
       " 'dwh_dds.ref_sc_ticket',\n",
       " 'dwh_dds.ref_account',\n",
       " 'dwh_dds.ref_deal_scissue',\n",
       " 'dwh_dds.acc_sc_quote',\n",
       " 'dwh_dds.ref_gen_agreement',\n",
       " 'dwh_dds.ref_sc_rating',\n",
       " 'dwh_dds.ref_sc_identcode']"
      ]
     },
     "execution_count": 25,
     "metadata": {},
     "output_type": "execute_result"
    }
   ],
   "source": [
    "not_to_delete[:10] #Первые 10 элементов"
   ]
  },
  {
   "cell_type": "markdown",
   "metadata": {},
   "source": [
    "Теперь удаляем строки в Прод и Тест, не входящие в список по полю full_table_name"
   ]
  },
  {
   "cell_type": "markdown",
   "metadata": {},
   "source": [
    "Прод"
   ]
  },
  {
   "cell_type": "code",
   "execution_count": 26,
   "metadata": {},
   "outputs": [],
   "source": [
    "indices = prod[~(prod['full_table_name'].isin(not_to_delete))].index\n",
    "prod.drop(indices, inplace=True)"
   ]
  },
  {
   "cell_type": "markdown",
   "metadata": {},
   "source": [
    "Тест"
   ]
  },
  {
   "cell_type": "code",
   "execution_count": 27,
   "metadata": {},
   "outputs": [],
   "source": [
    "indices = test[~(test['full_table_name'].isin(not_to_delete))].index\n",
    "test.drop(indices, inplace=True)"
   ]
  },
  {
   "cell_type": "markdown",
   "metadata": {},
   "source": [
    "### Теперь наборы данных Прод и Тест содержат одинаковые таблицы и готовы к сравнению инднксов"
   ]
  },
  {
   "cell_type": "code",
   "execution_count": 28,
   "metadata": {},
   "outputs": [
    {
     "data": {
      "text/plain": [
       "573"
      ]
     },
     "execution_count": 28,
     "metadata": {},
     "output_type": "execute_result"
    }
   ],
   "source": [
    "len(prod)"
   ]
  },
  {
   "cell_type": "code",
   "execution_count": 29,
   "metadata": {},
   "outputs": [
    {
     "data": {
      "text/plain": [
       "566"
      ]
     },
     "execution_count": 29,
     "metadata": {},
     "output_type": "execute_result"
    }
   ],
   "source": [
    "len(test)"
   ]
  },
  {
   "cell_type": "markdown",
   "metadata": {},
   "source": [
    "Сравнение таблиц по количеству индексов:"
   ]
  },
  {
   "cell_type": "code",
   "execution_count": 30,
   "metadata": {},
   "outputs": [],
   "source": [
    "tabs_different_number_of_indices = set()"
   ]
  },
  {
   "cell_type": "code",
   "execution_count": 31,
   "metadata": {},
   "outputs": [],
   "source": [
    "def check_indexes_quantity(row):\n",
    "    '''Сравнивает количество индексов для таблиц на Прод и Тест и\n",
    "       если оно различно, добавляет таблицу во множество tabs_different_number_of_indices '''\n",
    "    if row['inds_count'] != test[test['full_table_name'] == row['full_table_name']].inds_count.max():\n",
    "        tabs_different_number_of_indices.add(row['full_table_name'])"
   ]
  },
  {
   "cell_type": "code",
   "execution_count": 32,
   "metadata": {
    "scrolled": true
   },
   "outputs": [
    {
     "data": {
      "text/plain": [
       "1       None\n",
       "2       None\n",
       "3       None\n",
       "4       None\n",
       "5       None\n",
       "        ... \n",
       "7955    None\n",
       "7956    None\n",
       "7957    None\n",
       "7958    None\n",
       "7959    None\n",
       "Length: 573, dtype: object"
      ]
     },
     "execution_count": 32,
     "metadata": {},
     "output_type": "execute_result"
    }
   ],
   "source": [
    "prod.apply(lambda r: check_indexes_quantity(r), axis=1)"
   ]
  },
  {
   "cell_type": "markdown",
   "metadata": {},
   "source": [
    "### Вот список таблиц, индексы которых будем сверять вручную:"
   ]
  },
  {
   "cell_type": "code",
   "execution_count": 33,
   "metadata": {},
   "outputs": [
    {
     "data": {
      "text/plain": [
       "['dwh_dds.acc_doc_payment',\n",
       " 'dwh_stage.s01_t_deashdhst',\n",
       " 'dwh_dds.ref_deal_scissue',\n",
       " 'dwh_dds.ref_sc_rating',\n",
       " 'dwh_stage.s01_t_operjrn',\n",
       " 'dwh_dm.dm_transaction',\n",
       " 'dwh_stage.s01_s_ordcash_add',\n",
       " 'dwh_stage.s01_g_accblnhst',\n",
       " 'dwh_dds.ref_sc_issue',\n",
       " 'dwh_dds.ref_anl_account',\n",
       " 'dwh_stage.s01_ansignval',\n",
       " 'dwh_dds.ref_interbank_deals',\n",
       " 'dwh_dds.ref_sc_ticket']"
      ]
     },
     "execution_count": 33,
     "metadata": {},
     "output_type": "execute_result"
    }
   ],
   "source": [
    "list(tabs_different_number_of_indices)"
   ]
  },
  {
   "cell_type": "markdown",
   "metadata": {},
   "source": [
    "Теперь удалим строки с этими таблицами из Прод и Тест. Остальное можно попробовать сверить в автоматическом режиме"
   ]
  },
  {
   "cell_type": "code",
   "execution_count": 34,
   "metadata": {},
   "outputs": [
    {
     "data": {
      "text/plain": [
       "['dwh_dds.acc_doc_payment',\n",
       " 'dwh_stage.s01_t_deashdhst',\n",
       " 'dwh_dds.ref_deal_scissue',\n",
       " 'dwh_dds.ref_sc_rating',\n",
       " 'dwh_stage.s01_t_operjrn',\n",
       " 'dwh_dm.dm_transaction',\n",
       " 'dwh_stage.s01_s_ordcash_add',\n",
       " 'dwh_stage.s01_g_accblnhst',\n",
       " 'dwh_dds.ref_sc_issue',\n",
       " 'dwh_dds.ref_anl_account',\n",
       " 'dwh_stage.s01_ansignval',\n",
       " 'dwh_dds.ref_interbank_deals',\n",
       " 'dwh_dds.ref_sc_ticket']"
      ]
     },
     "execution_count": 34,
     "metadata": {},
     "output_type": "execute_result"
    }
   ],
   "source": [
    "#Общий список таблиц для сверки вручную\n",
    "tabs_to_manually_comparison = list(tabs_different_number_of_indices)\n",
    "tabs_to_manually_comparison"
   ]
  },
  {
   "cell_type": "code",
   "execution_count": 35,
   "metadata": {},
   "outputs": [],
   "source": [
    "#Удаляем строки с этими таблицами:\n",
    "indices = prod[prod['full_table_name'].isin(tabs_to_manually_comparison)].index\n",
    "prod.drop(indices, inplace=True)\n",
    "\n",
    "indices = test[test['full_table_name'].isin(tabs_to_manually_comparison)].index\n",
    "test.drop(indices, inplace=True)"
   ]
  },
  {
   "cell_type": "code",
   "execution_count": 36,
   "metadata": {},
   "outputs": [
    {
     "data": {
      "text/plain": [
       "(502, 502)"
      ]
     },
     "execution_count": 36,
     "metadata": {},
     "output_type": "execute_result"
    }
   ],
   "source": [
    "len(prod), len(test)"
   ]
  },
  {
   "cell_type": "markdown",
   "metadata": {},
   "source": [
    "**Видим, что на Прод и Тест осталось одинаковое количество строк!**"
   ]
  },
  {
   "cell_type": "markdown",
   "metadata": {},
   "source": [
    "Сначала попробкем сверить уникальные индексы (primary keys)"
   ]
  },
  {
   "cell_type": "markdown",
   "metadata": {},
   "source": [
    "Определим таблицы с более чем одним уникальным индексом на Проде и Тесте отдельно:"
   ]
  },
  {
   "cell_type": "code",
   "execution_count": 37,
   "metadata": {
    "scrolled": true
   },
   "outputs": [
    {
     "data": {
      "text/plain": [
       "dwh_stage.s01_t_acc             2\n",
       "dwh_stage.s01_t_pcndsc_std      2\n",
       "dwh_stage.s01_g_address         1\n",
       "dwh_stage.s01_c_clndclc         1\n",
       "dwh_stage.s01_l_aprrecalc       1\n",
       "                               ..\n",
       "dwh_stage.s01_t_deaaccrul       1\n",
       "dwh_stage.s01_t_bop_dscr_std    1\n",
       "dwh_stage.s01_t_ordcms          1\n",
       "dwh_stage.s01_m_ordpaydtl       1\n",
       "dwh_bckp.amara_rating_scale     1\n",
       "Name: full_table_name, Length: 298, dtype: int64"
      ]
     },
     "execution_count": 37,
     "metadata": {},
     "output_type": "execute_result"
    }
   ],
   "source": [
    "prod[prod.uniq==1].full_table_name.value_counts()"
   ]
  },
  {
   "cell_type": "code",
   "execution_count": 38,
   "metadata": {
    "scrolled": false
   },
   "outputs": [
    {
     "data": {
      "text/plain": [
       "dwh_stage.s01_t_pcndsc_std      2\n",
       "dwh_stage.s01_t_acc             2\n",
       "dwh_stage.s01_g_address         1\n",
       "dwh_stage.s01_t_oprchr_std      1\n",
       "dwh_stage.s01_c_clndclc         1\n",
       "                               ..\n",
       "dwh_stage.s01_t_deaaccrul       1\n",
       "dwh_stage.s01_t_bop_dscr_std    1\n",
       "dwh_stage.s01_t_ordcms          1\n",
       "dwh_stage.s01_m_ordpaydtl       1\n",
       "dwh_bckp.amara_rating_scale     1\n",
       "Name: full_table_name, Length: 297, dtype: int64"
      ]
     },
     "execution_count": 38,
     "metadata": {},
     "output_type": "execute_result"
    }
   ],
   "source": [
    "test[test.uniq==1].full_table_name.value_counts()"
   ]
  },
  {
   "cell_type": "markdown",
   "metadata": {},
   "source": [
    "**На Прод и Тест таблицы с более чем одним уникальным индексом одни и те же, НО!, группировка по именам таблиц показывает,\n",
    "что на Тесте для какой-то таблицы нет уникального индекса при его налияии на Проде. Разные количества строк: 297 на Прод и 296 на Тест**"
   ]
  },
  {
   "cell_type": "code",
   "execution_count": 39,
   "metadata": {},
   "outputs": [],
   "source": [
    "tabs_diffrent_count_of_unique_indexes = ['dwh_stage.s01_t_acc', 'dwh_stage.s01_t_pcndsc_std']"
   ]
  },
  {
   "cell_type": "markdown",
   "metadata": {},
   "source": [
    "Добавляем этот список к списку для сверки вручную:"
   ]
  },
  {
   "cell_type": "code",
   "execution_count": 40,
   "metadata": {
    "scrolled": true
   },
   "outputs": [
    {
     "data": {
      "text/plain": [
       "['dwh_dds.acc_doc_payment',\n",
       " 'dwh_stage.s01_t_deashdhst',\n",
       " 'dwh_dds.ref_deal_scissue',\n",
       " 'dwh_dds.ref_sc_rating',\n",
       " 'dwh_stage.s01_t_operjrn',\n",
       " 'dwh_dm.dm_transaction',\n",
       " 'dwh_stage.s01_s_ordcash_add',\n",
       " 'dwh_stage.s01_g_accblnhst',\n",
       " 'dwh_dds.ref_sc_issue',\n",
       " 'dwh_dds.ref_anl_account',\n",
       " 'dwh_stage.s01_ansignval',\n",
       " 'dwh_dds.ref_interbank_deals',\n",
       " 'dwh_dds.ref_sc_ticket',\n",
       " 'dwh_stage.s01_t_acc',\n",
       " 'dwh_stage.s01_t_pcndsc_std']"
      ]
     },
     "execution_count": 40,
     "metadata": {},
     "output_type": "execute_result"
    }
   ],
   "source": [
    "tabs_to_manually_comparison += tabs_diffrent_count_of_unique_indexes\n",
    "tabs_to_manually_comparison"
   ]
  },
  {
   "cell_type": "code",
   "execution_count": 41,
   "metadata": {},
   "outputs": [
    {
     "data": {
      "text/plain": [
       "15"
      ]
     },
     "execution_count": 41,
     "metadata": {},
     "output_type": "execute_result"
    }
   ],
   "source": [
    "#Имеем 17 таблиц для сверки индексов вручную:\n",
    "len(tabs_to_manually_comparison)"
   ]
  },
  {
   "cell_type": "code",
   "execution_count": 42,
   "metadata": {},
   "outputs": [],
   "source": [
    "#Удаляем строки с этими таблицами:\n",
    "indices = prod[prod['full_table_name'].isin(tabs_diffrent_count_of_unique_indexes)].index\n",
    "prod.drop(indices, inplace=True)\n",
    "\n",
    "indices = test[test['full_table_name'].isin(tabs_diffrent_count_of_unique_indexes)].index\n",
    "test.drop(indices, inplace=True)"
   ]
  },
  {
   "cell_type": "code",
   "execution_count": 43,
   "metadata": {},
   "outputs": [
    {
     "data": {
      "text/plain": [
       "(498, 498)"
      ]
     },
     "execution_count": 43,
     "metadata": {},
     "output_type": "execute_result"
    }
   ],
   "source": [
    "len(prod), len(test)"
   ]
  },
  {
   "cell_type": "code",
   "execution_count": 44,
   "metadata": {},
   "outputs": [],
   "source": [
    "tabs_diffrent_unique_indexes = set()"
   ]
  },
  {
   "cell_type": "code",
   "execution_count": 45,
   "metadata": {},
   "outputs": [],
   "source": [
    "def extract_nonunique_indexes_test(row):\n",
    "    '''Определяет таблицы с неуникальными индексами на Тесте при их уникальности на Проде'''\n",
    "    \n",
    "    ind_type_on_test = test[(test.full_table_name==row.full_table_name) & (test.uniq==1)].idx_type\n",
    "    if len(ind_type_on_test) > 1:\n",
    "        raise ValueError('Table ' + row.full_table_name + ' has more then one unuque index')\n",
    "    \n",
    "    if len(ind_type_on_test) < 1:\n",
    "        print('На Тесте у таблицы ' + row.full_table_name + ' нет уникальных индексов (на Проде есть)') \n",
    "        tabs_diffrent_unique_indexes.add(row['full_table_name'])"
   ]
  },
  {
   "cell_type": "code",
   "execution_count": 46,
   "metadata": {
    "scrolled": false
   },
   "outputs": [
    {
     "name": "stdout",
     "output_type": "stream",
     "text": [
      "На Тесте у таблицы dwh_stage.s01_p_csrjrn нет уникальных индексов (на Проде есть)\n"
     ]
    },
    {
     "data": {
      "text/plain": [
       "1       None\n",
       "2       None\n",
       "3       None\n",
       "4       None\n",
       "5       None\n",
       "        ... \n",
       "7947    None\n",
       "7948    None\n",
       "7950    None\n",
       "7951    None\n",
       "7959    None\n",
       "Length: 296, dtype: object"
      ]
     },
     "execution_count": 46,
     "metadata": {},
     "output_type": "execute_result"
    }
   ],
   "source": [
    "prod[prod.uniq==1].apply(lambda r: extract_nonunique_indexes_test(r), axis=1)"
   ]
  },
  {
   "cell_type": "code",
   "execution_count": 47,
   "metadata": {},
   "outputs": [],
   "source": [
    "def extract_nonunique_indexes_prod(row):\n",
    "    '''Определяет таблицы с неуникальными индексами на Проде при их уникальности на Тесте'''\n",
    "    \n",
    "    ind_type_on_prod = prod[(prod.full_table_name==row.full_table_name) & (prod.uniq==1)].idx_type\n",
    "    if len(ind_type_on_prod) > 1:\n",
    "        raise ValueError('Table ' + row.full_table_name + ' has more then one unuque index')\n",
    "    \n",
    "    if len(ind_type_on_prod) < 1:\n",
    "        print('На Проде у таблицы ' + row.full_table_name + ' нет уникальных индексов (на Тесте есть)') \n",
    "        tabs_diffrent_unique_indexes.add(row['full_table_name'])"
   ]
  },
  {
   "cell_type": "code",
   "execution_count": 48,
   "metadata": {},
   "outputs": [
    {
     "data": {
      "text/plain": [
       "0        None\n",
       "1        None\n",
       "2        None\n",
       "3        None\n",
       "4        None\n",
       "         ... \n",
       "11527    None\n",
       "11528    None\n",
       "11530    None\n",
       "11531    None\n",
       "11540    None\n",
       "Length: 295, dtype: object"
      ]
     },
     "execution_count": 48,
     "metadata": {},
     "output_type": "execute_result"
    }
   ],
   "source": [
    "test[test.uniq==1].apply(lambda r: extract_nonunique_indexes_prod(r), axis=1)"
   ]
  },
  {
   "cell_type": "markdown",
   "metadata": {},
   "source": [
    "Таблицы с различием по уникальности индексов на Прод и Тест:"
   ]
  },
  {
   "cell_type": "code",
   "execution_count": 49,
   "metadata": {},
   "outputs": [
    {
     "data": {
      "text/plain": [
       "['dwh_stage.s01_p_csrjrn']"
      ]
     },
     "execution_count": 49,
     "metadata": {},
     "output_type": "execute_result"
    }
   ],
   "source": [
    "list(tabs_diffrent_unique_indexes)"
   ]
  },
  {
   "cell_type": "markdown",
   "metadata": {},
   "source": [
    "Удалим эту таблицу из рассмотрения на Прод и Тест:"
   ]
  },
  {
   "cell_type": "code",
   "execution_count": 50,
   "metadata": {},
   "outputs": [],
   "source": [
    "indices = prod[prod['full_table_name'].isin(list(tabs_diffrent_unique_indexes))].index\n",
    "prod.drop(indices, inplace=True)\n",
    "\n",
    "indices = test[test['full_table_name'].isin(list(tabs_diffrent_unique_indexes))].index\n",
    "test.drop(indices, inplace=True)"
   ]
  },
  {
   "cell_type": "code",
   "execution_count": 51,
   "metadata": {},
   "outputs": [
    {
     "data": {
      "text/plain": [
       "(497, 497)"
      ]
     },
     "execution_count": 51,
     "metadata": {},
     "output_type": "execute_result"
    }
   ],
   "source": [
    "len(prod), len(test)"
   ]
  },
  {
   "cell_type": "markdown",
   "metadata": {},
   "source": [
    "Теперь только можно попробовать сверить уникальные индексы по типам!"
   ]
  },
  {
   "cell_type": "code",
   "execution_count": 52,
   "metadata": {},
   "outputs": [
    {
     "data": {
      "text/plain": [
       "(295, 295)"
      ]
     },
     "execution_count": 52,
     "metadata": {},
     "output_type": "execute_result"
    }
   ],
   "source": [
    "#Оставшиеся для анализа (количество) уникальные индексы на Прод и Тест\n",
    "len(prod[prod.uniq==1]), len(test[test.uniq==1])"
   ]
  },
  {
   "cell_type": "code",
   "execution_count": 53,
   "metadata": {},
   "outputs": [],
   "source": [
    "def compare_unique_indexes_types(row):\n",
    "    '''Сверяет уникальные индексы по типу'''\n",
    "    #Сначала сверяем по типу:\n",
    "    ind_type_on_test = test[(test.full_table_name==row.full_table_name) & (test.uniq==1)].idx_type\n",
    "    \n",
    "    if len(ind_type_on_test) > 1:\n",
    "        raise ValueError('Table ' + row.full_table_name + ' has more then one unuque index')\n",
    "    \n",
    "    if len(ind_type_on_test) < 1:\n",
    "        raise ValueError('Table ' + row.full_table_name + ' has less then one unuque index')\n",
    "    \n",
    "    if ind_type_on_test.iloc[0] != row.idx_type:\n",
    "        tabs_diffrent_unique_indexes.add(row['full_table_name'])"
   ]
  },
  {
   "cell_type": "code",
   "execution_count": 54,
   "metadata": {},
   "outputs": [
    {
     "data": {
      "text/plain": [
       "1       None\n",
       "2       None\n",
       "3       None\n",
       "4       None\n",
       "5       None\n",
       "        ... \n",
       "7947    None\n",
       "7948    None\n",
       "7950    None\n",
       "7951    None\n",
       "7959    None\n",
       "Length: 295, dtype: object"
      ]
     },
     "execution_count": 54,
     "metadata": {},
     "output_type": "execute_result"
    }
   ],
   "source": [
    "prod[prod.uniq==1].apply(lambda r: compare_unique_indexes_types(r), axis=1)"
   ]
  },
  {
   "cell_type": "code",
   "execution_count": 55,
   "metadata": {},
   "outputs": [
    {
     "data": {
      "text/plain": [
       "{'dwh_stage.s01_p_csrjrn'}"
      ]
     },
     "execution_count": 55,
     "metadata": {},
     "output_type": "execute_result"
    }
   ],
   "source": [
    "tabs_diffrent_unique_indexes"
   ]
  },
  {
   "cell_type": "markdown",
   "metadata": {},
   "source": [
    "Никакие таблицы в список не добавились. Значит типы уникальных индексов на Прод и Тест совпадают"
   ]
  },
  {
   "cell_type": "markdown",
   "metadata": {},
   "source": [
    "Теперь пробуем сверять уникальные индексы по составу полей"
   ]
  },
  {
   "cell_type": "code",
   "execution_count": 56,
   "metadata": {},
   "outputs": [],
   "source": [
    "def compare_unique_indexes_columns(row):\n",
    "    '''Сверяет уникальные индексы по полям'''\n",
    "    #Сначала сверяем по типу:\n",
    "    ind_columns_on_test = test[(test.full_table_name==row.full_table_name) & (test.uniq==1)].ind_fields\n",
    "    \n",
    "    if len(ind_columns_on_test) > 1:\n",
    "        raise ValueError('Table ' + row.full_table_name + ' has more then one unuque index')\n",
    "    \n",
    "    if len(ind_columns_on_test) < 1:\n",
    "        raise ValueError('Table ' + row.full_table_name + ' has less then one unuque index')\n",
    "    \n",
    "    if ind_columns_on_test.iloc[0] != row.ind_fields:\n",
    "        tabs_diffrent_unique_indexes.add(row['full_table_name'])"
   ]
  },
  {
   "cell_type": "code",
   "execution_count": 57,
   "metadata": {},
   "outputs": [
    {
     "data": {
      "text/plain": [
       "1       None\n",
       "2       None\n",
       "3       None\n",
       "4       None\n",
       "5       None\n",
       "        ... \n",
       "7947    None\n",
       "7948    None\n",
       "7950    None\n",
       "7951    None\n",
       "7959    None\n",
       "Length: 295, dtype: object"
      ]
     },
     "execution_count": 57,
     "metadata": {},
     "output_type": "execute_result"
    }
   ],
   "source": [
    "prod[prod.uniq==1].apply(lambda r: compare_unique_indexes_columns(r), axis=1)"
   ]
  },
  {
   "cell_type": "code",
   "execution_count": 58,
   "metadata": {},
   "outputs": [
    {
     "data": {
      "text/plain": [
       "{'dwh_stage.s01_p_csrjrn'}"
      ]
     },
     "execution_count": 58,
     "metadata": {},
     "output_type": "execute_result"
    }
   ],
   "source": [
    "tabs_diffrent_unique_indexes"
   ]
  },
  {
   "cell_type": "markdown",
   "metadata": {},
   "source": [
    "Отлично! Поля в определениях уникальных индексов на Прод и Тест одни и те же!"
   ]
  },
  {
   "cell_type": "markdown",
   "metadata": {},
   "source": [
    "Добавляем к общему списку таблиц для проверки вручную:"
   ]
  },
  {
   "cell_type": "code",
   "execution_count": 59,
   "metadata": {},
   "outputs": [],
   "source": [
    "tabs_to_manually_comparison += list(tabs_diffrent_unique_indexes)"
   ]
  },
  {
   "cell_type": "markdown",
   "metadata": {},
   "source": [
    "### Теперь уберем строки с уникальными инднксами и рассмотрим только обычные индексы"
   ]
  },
  {
   "cell_type": "code",
   "execution_count": 60,
   "metadata": {},
   "outputs": [],
   "source": [
    "indices = prod[prod['uniq']==1].index\n",
    "prod.drop(indices, inplace=True)\n",
    "\n",
    "indices = test[test['uniq']==1].index\n",
    "test.drop(indices, inplace=True)"
   ]
  },
  {
   "cell_type": "code",
   "execution_count": 61,
   "metadata": {},
   "outputs": [
    {
     "data": {
      "text/plain": [
       "(202, 202)"
      ]
     },
     "execution_count": 61,
     "metadata": {},
     "output_type": "execute_result"
    }
   ],
   "source": [
    "len(prod), len(test)"
   ]
  },
  {
   "cell_type": "code",
   "execution_count": 62,
   "metadata": {},
   "outputs": [
    {
     "data": {
      "text/html": [
       "<div>\n",
       "<style scoped>\n",
       "    .dataframe tbody tr th:only-of-type {\n",
       "        vertical-align: middle;\n",
       "    }\n",
       "\n",
       "    .dataframe tbody tr th {\n",
       "        vertical-align: top;\n",
       "    }\n",
       "\n",
       "    .dataframe thead th {\n",
       "        text-align: right;\n",
       "    }\n",
       "</style>\n",
       "<table border=\"1\" class=\"dataframe\">\n",
       "  <thead>\n",
       "    <tr style=\"text-align: right;\">\n",
       "      <th></th>\n",
       "      <th>schemaname</th>\n",
       "      <th>tablename</th>\n",
       "      <th>indexname</th>\n",
       "      <th>inds_count</th>\n",
       "      <th>ind</th>\n",
       "      <th>indexdef</th>\n",
       "      <th>full_table_name</th>\n",
       "      <th>uniq</th>\n",
       "      <th>idx_type</th>\n",
       "      <th>ind_fields</th>\n",
       "    </tr>\n",
       "  </thead>\n",
       "  <tbody>\n",
       "    <tr>\n",
       "      <th>12</th>\n",
       "      <td>dwh_bckp</td>\n",
       "      <td>s01_led_acc_det_bkp</td>\n",
       "      <td>s01_led_acc_det_bkp_acc_id_idx</td>\n",
       "      <td>4</td>\n",
       "      <td>1</td>\n",
       "      <td>CREATE INDEX s01_led_acc_det_bkp_acc_id_idx ON dwh_bckp.s01_led_acc_det_bkp USING btree (acc_id)</td>\n",
       "      <td>dwh_bckp.s01_led_acc_det_bkp</td>\n",
       "      <td>0</td>\n",
       "      <td>btree</td>\n",
       "      <td>acc_id</td>\n",
       "    </tr>\n",
       "    <tr>\n",
       "      <th>13</th>\n",
       "      <td>dwh_bckp</td>\n",
       "      <td>s01_led_acc_det_bkp</td>\n",
       "      <td>s01_led_acc_det_bkp_ch_id_idx</td>\n",
       "      <td>4</td>\n",
       "      <td>2</td>\n",
       "      <td>CREATE INDEX s01_led_acc_det_bkp_ch_id_idx ON dwh_bckp.s01_led_acc_det_bkp USING btree (ch_id)</td>\n",
       "      <td>dwh_bckp.s01_led_acc_det_bkp</td>\n",
       "      <td>0</td>\n",
       "      <td>btree</td>\n",
       "      <td>ch_id</td>\n",
       "    </tr>\n",
       "    <tr>\n",
       "      <th>14</th>\n",
       "      <td>dwh_bckp</td>\n",
       "      <td>s01_led_acc_det_bkp</td>\n",
       "      <td>s01_led_acc_det_bkp_pk2_idx</td>\n",
       "      <td>4</td>\n",
       "      <td>3</td>\n",
       "      <td>CREATE INDEX s01_led_acc_det_bkp_pk2_idx ON dwh_bckp.s01_led_acc_det_bkp USING btree (((pk2)::integer))</td>\n",
       "      <td>dwh_bckp.s01_led_acc_det_bkp</td>\n",
       "      <td>0</td>\n",
       "      <td>btree</td>\n",
       "      <td></td>\n",
       "    </tr>\n",
       "    <tr>\n",
       "      <th>15</th>\n",
       "      <td>dwh_bckp</td>\n",
       "      <td>s01_led_acc_det_bkp</td>\n",
       "      <td>s01_led_acc_det_bkp_sgn_id_bmx</td>\n",
       "      <td>4</td>\n",
       "      <td>4</td>\n",
       "      <td>CREATE INDEX s01_led_acc_det_bkp_sgn_id_bmx ON dwh_bckp.s01_led_acc_det_bkp USING bitmap (sgn_id)</td>\n",
       "      <td>dwh_bckp.s01_led_acc_det_bkp</td>\n",
       "      <td>0</td>\n",
       "      <td>bitmap</td>\n",
       "      <td>sgn_id</td>\n",
       "    </tr>\n",
       "    <tr>\n",
       "      <th>1484</th>\n",
       "      <td>dwh_bckp</td>\n",
       "      <td>s01_t_dea_bkp</td>\n",
       "      <td>s01_t_dea_bkp_cli_id_idx</td>\n",
       "      <td>2</td>\n",
       "      <td>1</td>\n",
       "      <td>CREATE INDEX s01_t_dea_bkp_cli_id_idx ON dwh_bckp.s01_t_dea_bkp USING btree (cli_id)</td>\n",
       "      <td>dwh_bckp.s01_t_dea_bkp</td>\n",
       "      <td>0</td>\n",
       "      <td>btree</td>\n",
       "      <td>cli_id</td>\n",
       "    </tr>\n",
       "  </tbody>\n",
       "</table>\n",
       "</div>"
      ],
      "text/plain": [
       "     schemaname            tablename                       indexname  \\\n",
       "12     dwh_bckp  s01_led_acc_det_bkp  s01_led_acc_det_bkp_acc_id_idx   \n",
       "13     dwh_bckp  s01_led_acc_det_bkp   s01_led_acc_det_bkp_ch_id_idx   \n",
       "14     dwh_bckp  s01_led_acc_det_bkp     s01_led_acc_det_bkp_pk2_idx   \n",
       "15     dwh_bckp  s01_led_acc_det_bkp  s01_led_acc_det_bkp_sgn_id_bmx   \n",
       "1484   dwh_bckp        s01_t_dea_bkp        s01_t_dea_bkp_cli_id_idx   \n",
       "\n",
       "      inds_count  ind  \\\n",
       "12             4    1   \n",
       "13             4    2   \n",
       "14             4    3   \n",
       "15             4    4   \n",
       "1484           2    1   \n",
       "\n",
       "                                                                                                     indexdef  \\\n",
       "12           CREATE INDEX s01_led_acc_det_bkp_acc_id_idx ON dwh_bckp.s01_led_acc_det_bkp USING btree (acc_id)   \n",
       "13             CREATE INDEX s01_led_acc_det_bkp_ch_id_idx ON dwh_bckp.s01_led_acc_det_bkp USING btree (ch_id)   \n",
       "14    CREATE INDEX s01_led_acc_det_bkp_pk2_idx ON dwh_bckp.s01_led_acc_det_bkp USING btree (((pk2)::integer))   \n",
       "15          CREATE INDEX s01_led_acc_det_bkp_sgn_id_bmx ON dwh_bckp.s01_led_acc_det_bkp USING bitmap (sgn_id)   \n",
       "1484                     CREATE INDEX s01_t_dea_bkp_cli_id_idx ON dwh_bckp.s01_t_dea_bkp USING btree (cli_id)   \n",
       "\n",
       "                   full_table_name  uniq idx_type ind_fields  \n",
       "12    dwh_bckp.s01_led_acc_det_bkp     0    btree     acc_id  \n",
       "13    dwh_bckp.s01_led_acc_det_bkp     0    btree      ch_id  \n",
       "14    dwh_bckp.s01_led_acc_det_bkp     0    btree             \n",
       "15    dwh_bckp.s01_led_acc_det_bkp     0   bitmap     sgn_id  \n",
       "1484        dwh_bckp.s01_t_dea_bkp     0    btree     cli_id  "
      ]
     },
     "execution_count": 62,
     "metadata": {},
     "output_type": "execute_result"
    }
   ],
   "source": [
    "prod.head()"
   ]
  },
  {
   "cell_type": "code",
   "execution_count": 63,
   "metadata": {},
   "outputs": [
    {
     "data": {
      "text/html": [
       "<div>\n",
       "<style scoped>\n",
       "    .dataframe tbody tr th:only-of-type {\n",
       "        vertical-align: middle;\n",
       "    }\n",
       "\n",
       "    .dataframe tbody tr th {\n",
       "        vertical-align: top;\n",
       "    }\n",
       "\n",
       "    .dataframe thead th {\n",
       "        text-align: right;\n",
       "    }\n",
       "</style>\n",
       "<table border=\"1\" class=\"dataframe\">\n",
       "  <thead>\n",
       "    <tr style=\"text-align: right;\">\n",
       "      <th></th>\n",
       "      <th>schemaname</th>\n",
       "      <th>tablename</th>\n",
       "      <th>indexname</th>\n",
       "      <th>inds_count</th>\n",
       "      <th>ind</th>\n",
       "      <th>indexdef</th>\n",
       "      <th>full_table_name</th>\n",
       "      <th>uniq</th>\n",
       "      <th>idx_type</th>\n",
       "      <th>ind_fields</th>\n",
       "    </tr>\n",
       "  </thead>\n",
       "  <tbody>\n",
       "    <tr>\n",
       "      <th>14</th>\n",
       "      <td>dwh_bckp</td>\n",
       "      <td>s01_led_acc_det_bkp</td>\n",
       "      <td>s01_led_acc_det_bkp_acc_id_idx</td>\n",
       "      <td>4</td>\n",
       "      <td>1</td>\n",
       "      <td>CREATE INDEX s01_led_acc_det_bkp_acc_id_idx ON dwh_bckp.s01_led_acc_det_bkp USING btree (acc_id)</td>\n",
       "      <td>dwh_bckp.s01_led_acc_det_bkp</td>\n",
       "      <td>0</td>\n",
       "      <td>btree</td>\n",
       "      <td>acc_id</td>\n",
       "    </tr>\n",
       "    <tr>\n",
       "      <th>15</th>\n",
       "      <td>dwh_bckp</td>\n",
       "      <td>s01_led_acc_det_bkp</td>\n",
       "      <td>s01_led_acc_det_bkp_ch_id_idx</td>\n",
       "      <td>4</td>\n",
       "      <td>2</td>\n",
       "      <td>CREATE INDEX s01_led_acc_det_bkp_ch_id_idx ON dwh_bckp.s01_led_acc_det_bkp USING btree (ch_id)</td>\n",
       "      <td>dwh_bckp.s01_led_acc_det_bkp</td>\n",
       "      <td>0</td>\n",
       "      <td>btree</td>\n",
       "      <td>ch_id</td>\n",
       "    </tr>\n",
       "    <tr>\n",
       "      <th>16</th>\n",
       "      <td>dwh_bckp</td>\n",
       "      <td>s01_led_acc_det_bkp</td>\n",
       "      <td>s01_led_acc_det_bkp_pk2_idx</td>\n",
       "      <td>4</td>\n",
       "      <td>3</td>\n",
       "      <td>CREATE INDEX s01_led_acc_det_bkp_pk2_idx ON dwh_bckp.s01_led_acc_det_bkp USING btree (((pk2)::integer))</td>\n",
       "      <td>dwh_bckp.s01_led_acc_det_bkp</td>\n",
       "      <td>0</td>\n",
       "      <td>btree</td>\n",
       "      <td></td>\n",
       "    </tr>\n",
       "    <tr>\n",
       "      <th>17</th>\n",
       "      <td>dwh_bckp</td>\n",
       "      <td>s01_led_acc_det_bkp</td>\n",
       "      <td>s01_led_acc_det_bkp_sgn_id_bmx</td>\n",
       "      <td>4</td>\n",
       "      <td>4</td>\n",
       "      <td>CREATE INDEX s01_led_acc_det_bkp_sgn_id_bmx ON dwh_bckp.s01_led_acc_det_bkp USING bitmap (sgn_id)</td>\n",
       "      <td>dwh_bckp.s01_led_acc_det_bkp</td>\n",
       "      <td>0</td>\n",
       "      <td>bitmap</td>\n",
       "      <td>sgn_id</td>\n",
       "    </tr>\n",
       "    <tr>\n",
       "      <th>1486</th>\n",
       "      <td>dwh_bckp</td>\n",
       "      <td>s01_t_dea_bkp</td>\n",
       "      <td>s01_t_dea_bkp_cli_id_idx</td>\n",
       "      <td>2</td>\n",
       "      <td>1</td>\n",
       "      <td>CREATE INDEX s01_t_dea_bkp_cli_id_idx ON dwh_bckp.s01_t_dea_bkp USING btree (cli_id)</td>\n",
       "      <td>dwh_bckp.s01_t_dea_bkp</td>\n",
       "      <td>0</td>\n",
       "      <td>btree</td>\n",
       "      <td>cli_id</td>\n",
       "    </tr>\n",
       "  </tbody>\n",
       "</table>\n",
       "</div>"
      ],
      "text/plain": [
       "     schemaname            tablename                       indexname  \\\n",
       "14     dwh_bckp  s01_led_acc_det_bkp  s01_led_acc_det_bkp_acc_id_idx   \n",
       "15     dwh_bckp  s01_led_acc_det_bkp   s01_led_acc_det_bkp_ch_id_idx   \n",
       "16     dwh_bckp  s01_led_acc_det_bkp     s01_led_acc_det_bkp_pk2_idx   \n",
       "17     dwh_bckp  s01_led_acc_det_bkp  s01_led_acc_det_bkp_sgn_id_bmx   \n",
       "1486   dwh_bckp        s01_t_dea_bkp        s01_t_dea_bkp_cli_id_idx   \n",
       "\n",
       "      inds_count  ind  \\\n",
       "14             4    1   \n",
       "15             4    2   \n",
       "16             4    3   \n",
       "17             4    4   \n",
       "1486           2    1   \n",
       "\n",
       "                                                                                                     indexdef  \\\n",
       "14           CREATE INDEX s01_led_acc_det_bkp_acc_id_idx ON dwh_bckp.s01_led_acc_det_bkp USING btree (acc_id)   \n",
       "15             CREATE INDEX s01_led_acc_det_bkp_ch_id_idx ON dwh_bckp.s01_led_acc_det_bkp USING btree (ch_id)   \n",
       "16    CREATE INDEX s01_led_acc_det_bkp_pk2_idx ON dwh_bckp.s01_led_acc_det_bkp USING btree (((pk2)::integer))   \n",
       "17          CREATE INDEX s01_led_acc_det_bkp_sgn_id_bmx ON dwh_bckp.s01_led_acc_det_bkp USING bitmap (sgn_id)   \n",
       "1486                     CREATE INDEX s01_t_dea_bkp_cli_id_idx ON dwh_bckp.s01_t_dea_bkp USING btree (cli_id)   \n",
       "\n",
       "                   full_table_name  uniq idx_type ind_fields  \n",
       "14    dwh_bckp.s01_led_acc_det_bkp     0    btree     acc_id  \n",
       "15    dwh_bckp.s01_led_acc_det_bkp     0    btree      ch_id  \n",
       "16    dwh_bckp.s01_led_acc_det_bkp     0    btree             \n",
       "17    dwh_bckp.s01_led_acc_det_bkp     0   bitmap     sgn_id  \n",
       "1486        dwh_bckp.s01_t_dea_bkp     0    btree     cli_id  "
      ]
     },
     "execution_count": 63,
     "metadata": {},
     "output_type": "execute_result"
    }
   ],
   "source": [
    "test.head()"
   ]
  },
  {
   "cell_type": "markdown",
   "metadata": {},
   "source": [
    "Получим список таблиц для сверки неуникальных индексов (список содержит те же таблицы на Тест и Прод):"
   ]
  },
  {
   "cell_type": "code",
   "execution_count": 64,
   "metadata": {},
   "outputs": [
    {
     "data": {
      "text/plain": [
       "['dwh_dds.ref_deal_forex',\n",
       " 'dwh_dds.ref_sc_lot',\n",
       " 'dwh_dds.ref_account',\n",
       " 'dwh_dds.ref_gen_agreement',\n",
       " 'dwh_dds.acc_sc_quote',\n",
       " 'dwh_dds.ref_pledge_object',\n",
       " 'dwh_dds.ref_bank_corr_relation',\n",
       " 'dwh_dds.ref_sc_identcode',\n",
       " 'dwh_dds.ref_deal_letter_credit',\n",
       " 'dwh_bckp.s01_led_acc_det_bkp',\n",
       " 'dwh_dds.ref_deal_guarantees',\n",
       " 'dwh_stage.s01_t_trndtl',\n",
       " 'dwh_dds.ref_deal_pledge',\n",
       " 'dwh_dds.ref_deal_current_account',\n",
       " 'dwh_dds.ref_pledge_obj_link',\n",
       " 'dwh_dds.acc_transaction',\n",
       " 'dwh_stage.s01_s_ordcash',\n",
       " 'dwh_dds.ref_client_corp',\n",
       " 'dwh_dds.acc_sc_deal_lot_link',\n",
       " 'dwh_stage.s01_g_accbln',\n",
       " 'dwh_stage.s01_ledacc_det',\n",
       " 'dwh_dds.ref_payment_card',\n",
       " 'dwh_dds.ref_pledge_link',\n",
       " 'dwh_stage.s01_t_procinh',\n",
       " 'dwh_stage.s01_t_procmem',\n",
       " 'dwh_dds.acc_anl_account_balance',\n",
       " 'dwh_stage.s03_bsak',\n",
       " 'dwh_dds.ref_account_overdue',\n",
       " 'dwh_stage.s01_l_mrtordobj',\n",
       " 'dwh_dds.ref_client_priv',\n",
       " 'dwh_dds.ref_safe',\n",
       " 'dwh_dm.dm_z10',\n",
       " 'dwh_stage.s01_l_mrtorddea',\n",
       " 'dwh_stage.s01_g_identdocdsc_std',\n",
       " 'dwh_stage.s03_ekko',\n",
       " 'dwh_stage.s03_bsik',\n",
       " 'dwh_dds.ref_deal_param',\n",
       " 'dwh_bckp.s01_t_dea_bkp',\n",
       " 'dwh_stage.s01_g_clirefval',\n",
       " 'dwh_dds.ref_deal_schedule',\n",
       " 'dwh_stage.s01_s_monord',\n",
       " 'dwh_dds.ref_credit_schedule',\n",
       " 'dwh_stage.s01_t_dea',\n",
       " 'dwh_stage.s01_g_cli',\n",
       " 'dwh_stage.s01_t_deashdpnt',\n",
       " 'dwh_stage.s01_t_pcndtl',\n",
       " 'dwh_dds.ref_auth_person',\n",
       " 'dwh_stage.s01_t_arldea',\n",
       " 'dwh_dm.dm_z10a',\n",
       " 'dwh_stage.s01_t_process',\n",
       " 'dwh_stage.s01_sk_link_dea',\n",
       " 'dwh_dds.ref_address',\n",
       " 'dwh_dds.acc_account_balance',\n",
       " 'dwh_dds.ref_deal_credit',\n",
       " 'dwh_stage.s01_g_clirole',\n",
       " 'dwh_dm.dm_z12',\n",
       " 'dwh_dds.ref_client_document',\n",
       " 'dwh_dm.dm_z13',\n",
       " 'dwh_dds.acc_currency_rate',\n",
       " 'dwh_stage.s01_p_ord',\n",
       " 'dwh_stage.s01_g_clihst',\n",
       " 'dwh_stage.s01_t_deaprm',\n",
       " 'dwh_dds.ref_deal_deposit',\n",
       " 'dwh_dds.dict_rating_value',\n",
       " 'dwh_stage.s01_d_aprrecalc',\n",
       " 'dwh_stage.s01_t_arlclc',\n",
       " 'dwh_stage.s03_lfa1',\n",
       " 'dwh_stage.s01_t_pcn',\n",
       " 'dwh_dds.ref_department',\n",
       " 'dwh_dds.ref_deal_deposit_rate',\n",
       " 'dwh_dds.ref_corp_head',\n",
       " 'dwh_dds.ref_cash_department',\n",
       " 'dwh_dm.dm_z14',\n",
       " 'dwh_dds.ref_bank',\n",
       " 'dwh_dds.ref_deal_credit_rate',\n",
       " 'dwh_dm.dm_stock_lot',\n",
       " 'dwh_stage.s01_t_deaprmdsc_std',\n",
       " 'dwh_stage.s01_sk_issuecode',\n",
       " 'dwh_dds.ref_user',\n",
       " 'dwh_stage.s01_f_ordpay',\n",
       " 'dwh_stage.s01_s_ordpay',\n",
       " 'dwh_stage.s01_d_dea',\n",
       " 'dwh_stage.s01_t_trndtl_tmp',\n",
       " 'dwh_dm.dm_pledges',\n",
       " 'dwh_dds.ref_client_contact',\n",
       " 'dwh_stage.s02_opt_vw_balance_dafb',\n",
       " 'dwh_dds.ref_product',\n",
       " 'dwh_dm.dm_doc_payment',\n",
       " 'dwh_dm.dm_z11',\n",
       " 'dwh_dds.dict_account_plan']"
      ]
     },
     "execution_count": 64,
     "metadata": {},
     "output_type": "execute_result"
    }
   ],
   "source": [
    "tables_to_check_nununique_indexes = list(prod.full_table_name.value_counts().index)\n",
    "tables_to_check_nununique_indexes"
   ]
  },
  {
   "cell_type": "code",
   "execution_count": 65,
   "metadata": {},
   "outputs": [
    {
     "name": "stdout",
     "output_type": "stream",
     "text": [
      "Всего уникальных таблиц: 90\n"
     ]
    }
   ],
   "source": [
    "print('Всего уникальных таблиц:', len(tables_to_check_nununique_indexes))"
   ]
  },
  {
   "cell_type": "markdown",
   "metadata": {},
   "source": [
    "Создаем список таблиц с несовпадающими НЕУНИКАЛЬНЫМИ индексами"
   ]
  },
  {
   "cell_type": "code",
   "execution_count": 66,
   "metadata": {},
   "outputs": [],
   "source": [
    "tabs_diffrent_nonunique_indexes = set()"
   ]
  },
  {
   "cell_type": "markdown",
   "metadata": {},
   "source": [
    "Пробуем сверить просто по определению индекса"
   ]
  },
  {
   "cell_type": "code",
   "execution_count": 67,
   "metadata": {},
   "outputs": [
    {
     "data": {
      "text/plain": [
       "['dwh_dds.ref_account',\n",
       " 'dwh_dm.dm_z10',\n",
       " 'dwh_stage.s01_t_trndtl_tmp',\n",
       " 'dwh_stage.s01_p_ord']"
      ]
     },
     "execution_count": 67,
     "metadata": {},
     "output_type": "execute_result"
    }
   ],
   "source": [
    "for tab in tables_to_check_nununique_indexes:\n",
    "    sub_set_prod = prod[prod.full_table_name==tab]\n",
    "    #display(sub_set_prod)\n",
    "    \n",
    "    sub_set_test = test[test.full_table_name==tab]\n",
    "    #display(sub_set_test)\n",
    "    \n",
    "    if set(sub_set_prod.indexdef.value_counts().index) != set(sub_set_test.indexdef.value_counts().index):\n",
    "        tabs_diffrent_nonunique_indexes.add(tab)\n",
    "        \n",
    "list(tabs_diffrent_nonunique_indexes)"
   ]
  },
  {
   "cell_type": "markdown",
   "metadata": {},
   "source": [
    "Добавим к списку всех таблиц для проверки вручную:"
   ]
  },
  {
   "cell_type": "code",
   "execution_count": 68,
   "metadata": {},
   "outputs": [],
   "source": [
    "tabs_to_manually_comparison += list(tabs_diffrent_nonunique_indexes)"
   ]
  },
  {
   "cell_type": "markdown",
   "metadata": {},
   "source": [
    "## Итого, нужно проверить следующие списки таблиц:"
   ]
  },
  {
   "cell_type": "markdown",
   "metadata": {},
   "source": [
    "1. Таблицы с различным количеством индексов:"
   ]
  },
  {
   "cell_type": "code",
   "execution_count": 69,
   "metadata": {},
   "outputs": [
    {
     "data": {
      "text/plain": [
       "['dwh_dds.acc_doc_payment',\n",
       " 'dwh_stage.s01_t_deashdhst',\n",
       " 'dwh_dds.ref_deal_scissue',\n",
       " 'dwh_dds.ref_sc_rating',\n",
       " 'dwh_stage.s01_t_operjrn',\n",
       " 'dwh_dm.dm_transaction',\n",
       " 'dwh_stage.s01_s_ordcash_add',\n",
       " 'dwh_stage.s01_g_accblnhst',\n",
       " 'dwh_dds.ref_sc_issue',\n",
       " 'dwh_dds.ref_anl_account',\n",
       " 'dwh_stage.s01_ansignval',\n",
       " 'dwh_dds.ref_interbank_deals',\n",
       " 'dwh_dds.ref_sc_ticket']"
      ]
     },
     "execution_count": 69,
     "metadata": {},
     "output_type": "execute_result"
    }
   ],
   "source": [
    "list(tabs_different_number_of_indices)"
   ]
  },
  {
   "cell_type": "markdown",
   "metadata": {},
   "source": [
    "2. Таблицы с более чем одним уникальным индексом:"
   ]
  },
  {
   "cell_type": "code",
   "execution_count": 70,
   "metadata": {},
   "outputs": [
    {
     "data": {
      "text/plain": [
       "['dwh_stage.s01_t_acc', 'dwh_stage.s01_t_pcndsc_std']"
      ]
     },
     "execution_count": 70,
     "metadata": {},
     "output_type": "execute_result"
    }
   ],
   "source": [
    "tabs_diffrent_count_of_unique_indexes"
   ]
  },
  {
   "cell_type": "markdown",
   "metadata": {},
   "source": [
    "3. Таблицы, где уникальность индексов не совпадает на Прод и Тест"
   ]
  },
  {
   "cell_type": "code",
   "execution_count": 71,
   "metadata": {},
   "outputs": [
    {
     "data": {
      "text/plain": [
       "{'dwh_stage.s01_p_csrjrn'}"
      ]
     },
     "execution_count": 71,
     "metadata": {},
     "output_type": "execute_result"
    }
   ],
   "source": [
    "tabs_diffrent_unique_indexes"
   ]
  },
  {
   "cell_type": "markdown",
   "metadata": {},
   "source": [
    "4. Таблицы с различным определением неуникальных индексов"
   ]
  },
  {
   "cell_type": "code",
   "execution_count": 72,
   "metadata": {},
   "outputs": [
    {
     "data": {
      "text/plain": [
       "['dwh_dds.ref_account',\n",
       " 'dwh_dm.dm_z10',\n",
       " 'dwh_stage.s01_t_trndtl_tmp',\n",
       " 'dwh_stage.s01_p_ord']"
      ]
     },
     "execution_count": 72,
     "metadata": {},
     "output_type": "execute_result"
    }
   ],
   "source": [
    "list(tabs_diffrent_nonunique_indexes)"
   ]
  },
  {
   "cell_type": "markdown",
   "metadata": {},
   "source": [
    "**5. Итого, все аномальные таблицы**"
   ]
  },
  {
   "cell_type": "code",
   "execution_count": 73,
   "metadata": {},
   "outputs": [
    {
     "data": {
      "text/plain": [
       "['dwh_dds.acc_doc_payment',\n",
       " 'dwh_stage.s01_t_deashdhst',\n",
       " 'dwh_dds.ref_deal_scissue',\n",
       " 'dwh_dds.ref_sc_rating',\n",
       " 'dwh_stage.s01_t_operjrn',\n",
       " 'dwh_dm.dm_transaction',\n",
       " 'dwh_stage.s01_s_ordcash_add',\n",
       " 'dwh_stage.s01_g_accblnhst',\n",
       " 'dwh_dds.ref_sc_issue',\n",
       " 'dwh_dds.ref_anl_account',\n",
       " 'dwh_stage.s01_ansignval',\n",
       " 'dwh_dds.ref_interbank_deals',\n",
       " 'dwh_dds.ref_sc_ticket',\n",
       " 'dwh_stage.s01_t_acc',\n",
       " 'dwh_stage.s01_t_pcndsc_std',\n",
       " 'dwh_stage.s01_p_csrjrn',\n",
       " 'dwh_dds.ref_account',\n",
       " 'dwh_dm.dm_z10',\n",
       " 'dwh_stage.s01_t_trndtl_tmp',\n",
       " 'dwh_stage.s01_p_ord']"
      ]
     },
     "execution_count": 73,
     "metadata": {},
     "output_type": "execute_result"
    }
   ],
   "source": [
    "tabs_to_manually_comparison"
   ]
  },
  {
   "cell_type": "code",
   "execution_count": 74,
   "metadata": {},
   "outputs": [
    {
     "data": {
      "text/plain": [
       "20"
      ]
     },
     "execution_count": 74,
     "metadata": {},
     "output_type": "execute_result"
    }
   ],
   "source": [
    "len(tabs_to_manually_comparison)"
   ]
  },
  {
   "cell_type": "code",
   "execution_count": null,
   "metadata": {},
   "outputs": [],
   "source": []
  }
 ],
 "metadata": {
  "kernelspec": {
   "display_name": "Python 3",
   "language": "python",
   "name": "python3"
  },
  "language_info": {
   "codemirror_mode": {
    "name": "ipython",
    "version": 3
   },
   "file_extension": ".py",
   "mimetype": "text/x-python",
   "name": "python",
   "nbconvert_exporter": "python",
   "pygments_lexer": "ipython3",
   "version": "3.8.5"
  }
 },
 "nbformat": 4,
 "nbformat_minor": 4
}
