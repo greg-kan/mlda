{
 "cells": [
  {
   "cell_type": "code",
   "execution_count": 21,
   "metadata": {},
   "outputs": [],
   "source": [
    "import re"
   ]
  },
  {
   "cell_type": "code",
   "execution_count": 22,
   "metadata": {},
   "outputs": [],
   "source": [
    "import numpy as np"
   ]
  },
  {
   "cell_type": "code",
   "execution_count": 23,
   "metadata": {},
   "outputs": [],
   "source": [
    "from scipy.spatial import distance"
   ]
  },
  {
   "cell_type": "code",
   "execution_count": 28,
   "metadata": {},
   "outputs": [],
   "source": [
    "file_obj = open('C:\\\\Users\\\\grigoriy.kanavenko\\\\py_work\\\\programming_work w2\\\\sentences.txt', 'r')"
   ]
  },
  {
   "cell_type": "code",
   "execution_count": 29,
   "metadata": {},
   "outputs": [],
   "source": [
    "sentences_list = file_obj.readlines()"
   ]
  },
  {
   "cell_type": "code",
   "execution_count": 30,
   "metadata": {},
   "outputs": [],
   "source": [
    "file_obj.close()"
   ]
  },
  {
   "cell_type": "code",
   "execution_count": 31,
   "metadata": {},
   "outputs": [
    {
     "name": "stdout",
     "output_type": "stream",
     "text": [
      "Distances:\n",
      " [0.0, 0.9527544408738466, 0.1428571428571429, 0.8644738145642124, 0.8951715163278082, 0.7770887149698589, 0.9402385695332803, 0.7327387580875756, 0.9258750683338899, 0.8842724875284311, 0.9055088817476932, 0.8328165362273942, 0.8804771390665607, 0.8396432548525454, 0.8703592552895671, 0.8740118423302576, 0.9442721787424647, 0.8406361854220809, 0.956644501523794, 0.9442721787424647, 0.8885443574849294, 0.8427572744917122, 0.8250364469440588]\n",
      "matrix.shape =  (23, 256) \n",
      "\n",
      "[[0. 0. 0. ... 0. 0. 0.]\n",
      " [0. 0. 0. ... 0. 0. 1.]\n",
      " [0. 0. 0. ... 0. 0. 0.]\n",
      " ...\n",
      " [1. 0. 0. ... 1. 0. 0.]\n",
      " [0. 1. 0. ... 1. 0. 0.]\n",
      " [1. 0. 0. ... 1. 0. 0.]]\n",
      "len(words_list) =  256 \n",
      "\n",
      "tokenized_sentences_list: \n",
      " [['in', 'comparison', 'to', 'dogs', 'cats', 'have', 'not', 'undergone', 'major', 'changes', 'during', 'the', 'domestication', 'process'], ['as', 'cat', 'simply', 'catenates', 'streams', 'of', 'bytes', 'it', 'can', 'be', 'also', 'used', 'to', 'concatenate', 'binary', 'files', 'where', 'it', 'will', 'just', 'concatenate', 'sequence', 'of', 'bytes'], ['in', 'comparison', 'to', 'dogs', 'cats', 'have', 'notnot', 'undergone', 'major', 'changes', 'during', 'the', 'domestication', 'procedures'], ['a', 'common', 'interactive', 'use', 'of', 'cat', 'for', 'a', 'single', 'file', 'is', 'to', 'output', 'the', 'content', 'of', 'a', 'file', 'to', 'standard', 'output'], ['cats', 'can', 'hear', 'sounds', 'too', 'faint', 'or', 'too', 'high', 'in', 'frequency', 'for', 'human', 'ears', 'such', 'as', 'those', 'made', 'by', 'mice', 'and', 'other', 'small', 'animals'], ['in', 'one', 'people', 'deliberately', 'tamed', 'cats', 'in', 'a', 'process', 'of', 'artificial', 'selection', 'as', 'they', 'were', 'useful', 'predators', 'of', 'vermin'], ['the', 'domesticated', 'cat', 'and', 'its', 'closest', 'wild', 'ancestor', 'are', 'both', 'diploid', 'organisms', 'that', 'possess', 'chromosomes', 'and', 'roughly', 'genes'], ['domestic', 'cats', 'are', 'similar', 'in', 'size', 'to', 'the', 'other', 'members', 'of', 'the', 'genus', 'felis', 'typically', 'weighing', 'between', 'and', 'kg', 'and', 'lb'], ['however', 'if', 'the', 'output', 'is', 'piped', 'or', 'redirected', 'cat', 'is', 'unnecessary'], ['cat', 'with', 'one', 'named', 'file', 'is', 'safer', 'where', 'human', 'error', 'is', 'a', 'concern', 'one', 'wrong', 'use', 'of', 'the', 'default', 'redirection', 'symbol', 'instead', 'of', 'often', 'adjacent', 'on', 'keyboards', 'may', 'permanently', 'delete', 'the', 'file', 'you', 'were', 'just', 'needing', 'to', 'read'], ['in', 'terms', 'of', 'legibility', 'a', 'sequence', 'of', 'commands', 'starting', 'with', 'cat', 'and', 'connected', 'by', 'pipes', 'has', 'a', 'clear', 'left', 'to', 'right', 'flow', 'of', 'information'], ['cat', 'command', 'is', 'one', 'of', 'the', 'basic', 'commands', 'that', 'you', 'learned', 'when', 'you', 'started', 'in', 'the', 'unix', 'linux', 'world'], ['using', 'cat', 'command', 'the', 'lines', 'received', 'from', 'stdin', 'can', 'be', 'redirected', 'to', 'a', 'new', 'file', 'using', 'redirection', 'symbols'], ['when', 'you', 'type', 'simply', 'cat', 'command', 'without', 'any', 'arguments', 'it', 'just', 'receives', 'the', 'stdin', 'content', 'and', 'displays', 'it', 'in', 'the', 'stdout'], ['leopard', 'was', 'released', 'on', 'october', 'as', 'the', 'successor', 'of', 'tiger', 'version', 'and', 'is', 'available', 'in', 'two', 'editions'], ['according', 'to', 'apple', 'leopard', 'contains', 'over', 'changes', 'and', 'enhancements', 'over', 'its', 'predecessor', 'mac', 'os', 'x', 'tiger'], ['as', 'of', 'mid', 'some', 'apple', 'computers', 'have', 'firmware', 'factory', 'installed', 'which', 'will', 'no', 'longer', 'allow', 'installation', 'of', 'mac', 'os', 'x', 'leopard'], ['since', 'apple', 'moved', 'to', 'using', 'intel', 'processors', 'in', 'their', 'computers', 'the', 'osx', 'community', 'has', 'developed', 'and', 'now', 'also', 'allows', 'mac', 'os', 'x', 'tiger', 'and', 'later', 'releases', 'to', 'be', 'installed', 'on', 'non', 'apple', 'x', 'based', 'computers'], ['os', 'x', 'mountain', 'lion', 'was', 'released', 'on', 'july', 'for', 'purchase', 'and', 'download', 'through', 'apple', 's', 'mac', 'app', 'store', 'as', 'part', 'of', 'a', 'switch', 'to', 'releasing', 'os', 'x', 'versions', 'online', 'and', 'every', 'year'], ['apple', 'has', 'released', 'a', 'small', 'patch', 'for', 'the', 'three', 'most', 'recent', 'versions', 'of', 'safari', 'running', 'on', 'os', 'x', 'yosemite', 'mavericks', 'and', 'mountain', 'lion'], ['the', 'mountain', 'lion', 'release', 'marks', 'the', 'second', 'time', 'apple', 'has', 'offered', 'an', 'incremental', 'upgrade', 'rather', 'than', 'releasing', 'a', 'new', 'cat', 'entirely'], ['mac', 'os', 'x', 'mountain', 'lion', 'installs', 'in', 'place', 'so', 'you', 'won', 't', 'need', 'to', 'create', 'a', 'separate', 'disk', 'or', 'run', 'the', 'installation', 'off', 'an', 'external', 'drive'], ['the', 'fifth', 'major', 'update', 'to', 'mac', 'os', 'x', 'leopard', 'contains', 'such', 'a', 'mountain', 'of', 'features', 'more', 'than', 'by', 'apple', 's', 'count']] \n",
      "\n",
      "Original text:\n",
      "In comparison to dogs, cats have not undergone major changes during the domestication process.\n",
      "As cat simply catenates streams of bytes, it can be also used to concatenate binary files, where it will just concatenate sequence of bytes.\n",
      "In comparison to dogs, cats have notnot undergone major changes during the domestication procedures.\n",
      "A common interactive use of cat for a single file is to output the content of a file to standard output.\n",
      "Cats can hear sounds too faint or too high in frequency for human ears, such as those made by mice and other small animals.\n",
      "In one, people deliberately tamed cats in a process of artificial selection, as they were useful predators of vermin.\n",
      "The domesticated cat and its closest wild ancestor are both diploid organisms that possess 38 chromosomes and roughly 20,000 genes.\n",
      "Domestic cats are similar in size to the other members of the genus Felis, typically weighing between 4 and 5 kg (8.8 and 11.0 lb).\n",
      "However, if the output is piped or redirected, cat is unnecessary.\n",
      "cat with one named file is safer where human error is a concern - one wrong use of the default redirection symbol \">\" instead of \"<\" (often adjacent on keyboards) may permanently delete the file you were just needing to read.\n",
      "In terms of legibility, a sequence of commands starting with cat and connected by pipes has a clear left-to-right flow of information.\n",
      "Cat command is one of the basic commands that you learned when you started in the Unix / Linux world.\n",
      "Using cat command, the lines received from stdin can be redirected to a new file using redirection symbols.\n",
      "When you type simply cat command without any arguments, it just receives the stdin content and displays it in the stdout.\n",
      "Leopard was released on October 26, 2007 as the successor of Tiger (version 10.4), and is available in two editions.\n",
      "According to Apple, Leopard contains over 300 changes and enhancements over its predecessor, Mac OS X Tiger.\n",
      "As of Mid 2010, some Apple computers have firmware factory installed which will no longer allow installation of Mac OS X Leopard.\n",
      "Since Apple moved to using Intel processors in their computers, the OSx86 community has developed and now also allows Mac OS X Tiger and later releases to be installed on non-Apple x86-based computers.\n",
      "OS X Mountain Lion was released on July 25, 2012 for purchase and download through Apple's Mac App Store, as part of a switch to releasing OS X versions online and every year.\n",
      "Apple has released a small patch for the three most recent versions of Safari running on OS X Yosemite, Mavericks, and Mountain Lion.\n",
      "The Mountain Lion release marks the second time Apple has offered an incremental upgrade, rather than releasing a new cat entirely.\n",
      "Mac OS X Mountain Lion installs in place, so you won't need to create a separate disk or run the installation off an external drive.\n",
      "The fifth major update to Mac OS X, Leopard, contains such a mountain of features - more than 300 by Apple's count.\n",
      "\n",
      "\n",
      "List of all unique words: \n",
      " ['than', 'off', 'closest', 'frequency', 'made', 'developed', 'based', 'common', 'artificial', 'typically', 'deliberately', 'right', 'switch', 'unix', 'app', 'faint', 'x', 'predators', 'diploid', 'use', 'roughly', 'lion', 'so', 'arguments', 'through', 'organisms', 'three', 'yosemite', 'procedures', 'mice', 'default', 'moved', 'available', 'possess', 'vermin', 'over', 'released', 'hear', 'apple', 'similar', 'by', 'allows', 'undergone', 'output', 'for', 'simply', 'just', 'editions', 'predecessor', 'update', 'command', 'will', 'to', 'the', 'run', 'non', 'changes', 'standard', 'adjacent', 'version', 'interactive', 'lines', 'read', 'that', 'chromosomes', 'instead', 'symbols', 'type', 'according', 'factory', 'installs', 'mountain', 'october', 'processors', 'since', 'and', 'left', 'part', 'information', 'external', 'keyboards', 'from', 'safer', 'releasing', 'versions', 'legibility', 'separate', 'animals', 'contains', 'was', 'files', 'running', 'safari', 'count', 'need', 'an', 'selection', 'any', 'ancestor', 'most', 'starting', 'basic', 'symbol', 'permanently', 'terms', 'releases', 'intel', 'or', 'process', 'two', 'on', 'create', 'those', 'wrong', 'recent', 'second', 'often', 'world', 'linux', 'unnecessary', 'connected', 'single', 'receives', 't', 'place', 'drive', 'disk', 'purchase', 'content', 'human', 'fifth', 'domesticated', 'error', 'is', 'sounds', 'size', 'pipes', 'which', 'redirection', 'you', 'in', 'installation', 'concern', 'using', 'computers', 'mac', 'dogs', 'during', 'catenates', 'file', 'weighing', 'domestic', 'not', 'received', 'download', 'flow', 'stdout', 'both', 'if', 'new', 'with', 'comparison', 'every', 'other', 'year', 'clear', 'entirely', 'rather', 'have', 'patch', 'can', 'release', 'mavericks', 'bytes', 'concatenate', 'genus', 'binary', 'were', 'as', 'some', 'firmware', 'piped', 'major', 'such', 'notnot', 'commands', 'upgrade', 'features', 'without', 'tiger', 'now', 'tamed', 'be', 'leopard', 'they', 'when', 'felis', 'genes', 'cats', 'between', 'may', 'mid', 'lb', 'os', 'longer', 'later', 'its', 'redirected', 'delete', 'offered', 'too', 'one', 'more', 'of', 'no', 'started', 'store', 'members', 'learned', 'osx', 'enhancements', 'kg', 'where', 'wild', 'needing', 'won', 'july', 'useful', 's', 'marks', 'cat', 'are', 'people', 'online', 'time', 'high', 'stdin', 'their', 'it', 'installed', 'small', 'has', 'community', 'incremental', 'streams', 'displays', 'sequence', 'allow', 'ears', 'used', 'domestication', 'however', 'named', 'a', 'successor', 'also'] \n",
      "\n",
      "Number of sentences =  23\n"
     ]
    }
   ],
   "source": [
    "N = 0\n",
    "\n",
    "def word_frequency(a, b):\n",
    "    word = words_list[b] \n",
    "    return tokenized_sentences_list[a].count(word)\n",
    "\n",
    "tokenized_sentences_list = []\n",
    "   \n",
    "for i, s in enumerate(sentences_list):\n",
    "    tokenized_sentences_list.append(list(filter(None, re.split('[^a-z]', s.strip().lower()))))\n",
    "    N += 1    \n",
    "    \n",
    "words_list = []\n",
    "\n",
    "for i in range(len(tokenized_sentences_list)):\n",
    "    for j in range(len(tokenized_sentences_list[i])):\n",
    "        words_list.append(tokenized_sentences_list[i][j])\n",
    "\n",
    "words_list = list(set(words_list))\n",
    "\n",
    "matrix = np.zeros((len(tokenized_sentences_list), len(words_list)))\n",
    "\n",
    "for i in range(len(tokenized_sentences_list)):\n",
    "    for j in range(len(words_list)):\n",
    "        matrix[i,j] = word_frequency(i, j)\n",
    "        \n",
    "dists = []        \n",
    "for row in matrix:\n",
    "    dists.append(distance.cosine(matrix[0,:], row))\n",
    "        \n",
    "print('Distances:\\n', dists)\n",
    "\n",
    "print('matrix.shape = ', matrix.shape, '\\n')\n",
    "\n",
    "print(matrix)\n",
    "\n",
    "print('len(words_list) = ', len(words_list), '\\n')\n",
    "    \n",
    "print('tokenized_sentences_list:', '\\n', tokenized_sentences_list, '\\n')\n",
    "\n",
    "print('Original text:')\n",
    "for line in sentences_list:\n",
    "    print(line.strip())\n",
    "print('\\n')\n",
    "\n",
    "print('List of all unique words:', '\\n', words_list, '\\n')\n",
    "\n",
    "print('Number of sentences = ', N)"
   ]
  }
 ],
 "metadata": {
  "kernelspec": {
   "display_name": "Python 3",
   "language": "python",
   "name": "python3"
  },
  "language_info": {
   "codemirror_mode": {
    "name": "ipython",
    "version": 3
   },
   "file_extension": ".py",
   "mimetype": "text/x-python",
   "name": "python",
   "nbconvert_exporter": "python",
   "pygments_lexer": "ipython3",
   "version": "3.7.1"
  }
 },
 "nbformat": 4,
 "nbformat_minor": 2
}
