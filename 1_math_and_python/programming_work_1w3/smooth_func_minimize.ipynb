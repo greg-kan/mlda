{
 "cells": [
  {
   "cell_type": "markdown",
   "metadata": {},
   "source": [
    "# Задание 1. Минимизация функций"
   ]
  },
  {
   "cell_type": "markdown",
   "metadata": {},
   "source": [
    "### f(x) = sin(x / 5) * exp(x / 10) + 5 * exp(-x / 2) on x in [1, 30]"
   ]
  },
  {
   "cell_type": "markdown",
   "metadata": {},
   "source": [
    "### f(x) = int(sin(x / 5) * exp(x / 10) + 5 * exp(-x / 2) on x in [1, 30])"
   ]
  },
  {
   "cell_type": "code",
   "execution_count": 2,
   "metadata": {},
   "outputs": [],
   "source": [
    "import numpy as np"
   ]
  },
  {
   "cell_type": "code",
   "execution_count": 3,
   "metadata": {},
   "outputs": [],
   "source": [
    "from matplotlib import pylab as plt"
   ]
  },
  {
   "cell_type": "code",
   "execution_count": 4,
   "metadata": {},
   "outputs": [],
   "source": [
    "from scipy import optimize"
   ]
  },
  {
   "cell_type": "code",
   "execution_count": 70,
   "metadata": {},
   "outputs": [],
   "source": [
    "def f(x):\n",
    "    return np.sin(x / 5) * np.exp(x / 10) + 5 * np.exp(-x / 2)"
   ]
  },
  {
   "cell_type": "code",
   "execution_count": 85,
   "metadata": {},
   "outputs": [],
   "source": [
    "def h(x):\n",
    "    return (np.sin(x / 5) * np.exp(x / 10) + 5 * np.exp(-x / 2)).astype(int)"
   ]
  },
  {
   "cell_type": "code",
   "execution_count": 86,
   "metadata": {},
   "outputs": [
    {
     "name": "stdout",
     "output_type": "stream",
     "text": [
      "Optimization terminated successfully.\n",
      "         Current function value: -11.898895\n",
      "         Iterations: 6\n",
      "         Function evaluations: 21\n",
      "         Gradient evaluations: 7\n",
      "[25.88019321]\n"
     ]
    }
   ],
   "source": [
    "print (optimize.fmin_bfgs(f, 30))"
   ]
  },
  {
   "cell_type": "code",
   "execution_count": 87,
   "metadata": {},
   "outputs": [
    {
     "name": "stdout",
     "output_type": "stream",
     "text": [
      "     fun: array([-11.89889467])\n",
      "     jac: array([5.32907052e-07])\n",
      " message: 'Optimization terminated successfully.'\n",
      "    nfev: 111\n",
      "     nit: 6\n",
      " success: True\n",
      "       x: array([25.88019374])\n"
     ]
    }
   ],
   "source": [
    "print (optimize.differential_evolution(f, [(1, 30)]))"
   ]
  },
  {
   "cell_type": "code",
   "execution_count": 106,
   "metadata": {},
   "outputs": [
    {
     "name": "stdout",
     "output_type": "stream",
     "text": [
      "-5\n",
      "Optimization terminated successfully.\n",
      "         Current function value: -5.000000\n",
      "         Iterations: 0\n",
      "         Function evaluations: 3\n",
      "         Gradient evaluations: 1\n",
      "[30]\n"
     ]
    }
   ],
   "source": [
    "print(h(30)) # The process will stick here\n",
    "print (optimize.fmin_bfgs(h, 30))"
   ]
  },
  {
   "cell_type": "code",
   "execution_count": 102,
   "metadata": {},
   "outputs": [
    {
     "name": "stdout",
     "output_type": "stream",
     "text": [
      "     fun: -11.0\n",
      " message: 'Optimization terminated successfully.'\n",
      "    nfev: 77\n",
      "     nit: 4\n",
      " success: True\n",
      "       x: array([26.15248807])\n"
     ]
    }
   ],
   "source": [
    "print (optimize.differential_evolution(h, [(1, 30)]))"
   ]
  },
  {
   "cell_type": "code",
   "execution_count": 103,
   "metadata": {},
   "outputs": [
    {
     "data": {
      "image/png": "[encoded data removed]",
      "text/plain": [
       "<Figure size 432x288 with 1 Axes>"
      ]
     },
     "metadata": {
      "needs_background": "light"
     },
     "output_type": "display_data"
    }
   ],
   "source": [
    "x = np.arange(0.5, 30.5, 0.1)\n",
    "plt.plot(x, f(x))\n",
    "plt.show()"
   ]
  },
  {
   "cell_type": "code",
   "execution_count": 104,
   "metadata": {},
   "outputs": [
    {
     "data": {
      "image/png": "[encoded data removed]",
      "text/plain": [
       "<Figure size 432x288 with 1 Axes>"
      ]
     },
     "metadata": {
      "needs_background": "light"
     },
     "output_type": "display_data"
    }
   ],
   "source": [
    "y = np.arange(0.5, 30.5, 0.1)\n",
    "plt.plot(y,  h(y))\n",
    "plt.show()"
   ]
  }
 ],
 "metadata": {
  "kernelspec": {
   "display_name": "Python 3",
   "language": "python",
   "name": "python3"
  },
  "language_info": {
   "codemirror_mode": {
    "name": "ipython",
    "version": 3
   },
   "file_extension": ".py",
   "mimetype": "text/x-python",
   "name": "python",
   "nbconvert_exporter": "python",
   "pygments_lexer": "ipython3",
   "version": "3.7.1"
  }
 },
 "nbformat": 4,
 "nbformat_minor": 2
}
